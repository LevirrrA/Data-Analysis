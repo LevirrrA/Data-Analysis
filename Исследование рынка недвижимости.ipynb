{
 "cells": [
  {
   "cell_type": "markdown",
   "metadata": {
    "toc": true
   },
   "source": [
    "<h1>Содержание<span class=\"tocSkip\"></span></h1>\n",
    "<div class=\"toc\"><ul class=\"toc-item\"><li><span><a href=\"#Изучение-данных-из-файла\" data-toc-modified-id=\"Изучение-данных-из-файла-1\"><span class=\"toc-item-num\">1&nbsp;&nbsp;</span>Изучение данных из файла</a></span><ul class=\"toc-item\"><li><span><a href=\"#Вывод\" data-toc-modified-id=\"Вывод-1.1\"><span class=\"toc-item-num\">1.1&nbsp;&nbsp;</span>Вывод</a></span></li></ul></li><li><span><a href=\"#Предобработка-данных\" data-toc-modified-id=\"Предобработка-данных-2\"><span class=\"toc-item-num\">2&nbsp;&nbsp;</span>Предобработка данных</a></span><ul class=\"toc-item\"><li><span><a href=\"#Вывод\" data-toc-modified-id=\"Вывод-2.1\"><span class=\"toc-item-num\">2.1&nbsp;&nbsp;</span>Вывод</a></span></li></ul></li><li><span><a href=\"#Расчёты-и-добавление-результатов-в-таблицу\" data-toc-modified-id=\"Расчёты-и-добавление-результатов-в-таблицу-3\"><span class=\"toc-item-num\">3&nbsp;&nbsp;</span>Расчёты и добавление результатов в таблицу</a></span><ul class=\"toc-item\"><li><span><a href=\"#Вывод\" data-toc-modified-id=\"Вывод-3.1\"><span class=\"toc-item-num\">3.1&nbsp;&nbsp;</span>Вывод</a></span></li></ul></li><li><span><a href=\"#Исследовательский-анализ-данных\" data-toc-modified-id=\"Исследовательский-анализ-данных-4\"><span class=\"toc-item-num\">4&nbsp;&nbsp;</span>Исследовательский анализ данных</a></span><ul class=\"toc-item\"><li><span><a href=\"#Вывод\" data-toc-modified-id=\"Вывод-4.1\"><span class=\"toc-item-num\">4.1&nbsp;&nbsp;</span>Вывод</a></span></li></ul></li><li><span><a href=\"#Общий-вывод\" data-toc-modified-id=\"Общий-вывод-5\"><span class=\"toc-item-num\">5&nbsp;&nbsp;</span>Общий вывод</a></span></li><li><span><a href=\"#Чек-лист-готовности-проекта\" data-toc-modified-id=\"Чек-лист-готовности-проекта-6\"><span class=\"toc-item-num\">6&nbsp;&nbsp;</span>Чек-лист готовности проекта</a></span></li></ul></div>"
   ]
  },
  {
   "cell_type": "markdown",
   "metadata": {},
   "source": [
    "# Исследование объявлений о продаже квартир\n",
    "\n",
    "В вашем распоряжении данные сервиса Яндекc Недвижимость — архив объявлений о продаже квартир в Санкт-Петербурге и соседних населённых пунктах за несколько лет. Нужно научиться определять рыночную стоимость объектов недвижимости. Ваша задача — установить параметры. Это позволит построить автоматизированную систему: она отследит аномалии и мошенническую деятельность. \n",
    "\n",
    "По каждой квартире на продажу доступны два вида данных. Первые вписаны пользователем, вторые получены автоматически на основе картографических данных. Например, расстояние до центра, аэропорта, ближайшего парка и водоёма. "
   ]
  },
  {
   "cell_type": "markdown",
   "metadata": {},
   "source": [
    "# Описание данных"
   ]
  },
  {
   "cell_type": "markdown",
   "metadata": {},
   "source": [
    "`airports_nearest` — расстояние до ближайшего аэропорта в метрах (м)\n",
    "\n",
    "`balcony` — число балконов\n",
    "\n",
    "`ceiling_height` — высота потолков (м)\n",
    "\n",
    "`cityCenters_nearest` — расстояние до центра города (м)\n",
    "\n",
    "`days_exposition` — сколько дней было размещено объявление (от публикации до снятия)\n",
    "\n",
    "`first_day_exposition` — дата публикации\n",
    "\n",
    "`floor` — этаж\n",
    "\n",
    "`floors_total` — всего этажей в доме\n",
    "\n",
    "`is_apartment` — апартаменты (булев тип)\n",
    "\n",
    "`kitchen_area` — площадь кухни в квадратных метрах (м²)\n",
    "\n",
    "`last_price` — цена на момент снятия с публикации\n",
    "\n",
    "`living_area` — жилая площадь в квадратных метрах (м²)\n",
    "\n",
    "`locality_name` — название населённого пункта\n",
    "\n",
    "`open_plan` — свободная планировка (булев тип)\n",
    "\n",
    "`parks_around3000` — число парков в радиусе 3 км\n",
    "\n",
    "`parks_nearest` — расстояние до ближайшего парка (м)\n",
    "\n",
    "`ponds_around3000` — число водоёмов в радиусе 3 км\n",
    "\n",
    "`ponds_nearest` — расстояние до ближайшего водоёма (м)\n",
    "\n",
    "`rooms` — число комнат\n",
    "\n",
    "`studio` — квартира-студия (булев тип)\n",
    "\n",
    "`total_area` — площадь квартиры в квадратных метрах (м²)\n",
    "\n",
    "`total_images` — число фотографий квартиры в объявлении"
   ]
  },
  {
   "cell_type": "markdown",
   "metadata": {},
   "source": [
    "## Изучение данных из файла"
   ]
  },
  {
   "cell_type": "markdown",
   "metadata": {},
   "source": [
    "Перед началом работы импортируем библиотеки `pandas`, `seaborn` и  `matplotlib` и прочитаем файл с данными, предварительно сохранив его в отдельной переменной. Затем посмотрим, что представляет из себя таблица, выведя ее на экран."
   ]
  },
  {
   "cell_type": "code",
   "execution_count": 1,
   "metadata": {
    "scrolled": false
   },
   "outputs": [
    {
     "data": {
      "text/html": [
       "<div>\n",
       "<style scoped>\n",
       "    .dataframe tbody tr th:only-of-type {\n",
       "        vertical-align: middle;\n",
       "    }\n",
       "\n",
       "    .dataframe tbody tr th {\n",
       "        vertical-align: top;\n",
       "    }\n",
       "\n",
       "    .dataframe thead th {\n",
       "        text-align: right;\n",
       "    }\n",
       "</style>\n",
       "<table border=\"1\" class=\"dataframe\">\n",
       "  <thead>\n",
       "    <tr style=\"text-align: right;\">\n",
       "      <th></th>\n",
       "      <th>total_images</th>\n",
       "      <th>last_price</th>\n",
       "      <th>total_area</th>\n",
       "      <th>first_day_exposition</th>\n",
       "      <th>rooms</th>\n",
       "      <th>ceiling_height</th>\n",
       "      <th>floors_total</th>\n",
       "      <th>living_area</th>\n",
       "      <th>floor</th>\n",
       "      <th>is_apartment</th>\n",
       "      <th>...</th>\n",
       "      <th>kitchen_area</th>\n",
       "      <th>balcony</th>\n",
       "      <th>locality_name</th>\n",
       "      <th>airports_nearest</th>\n",
       "      <th>cityCenters_nearest</th>\n",
       "      <th>parks_around3000</th>\n",
       "      <th>parks_nearest</th>\n",
       "      <th>ponds_around3000</th>\n",
       "      <th>ponds_nearest</th>\n",
       "      <th>days_exposition</th>\n",
       "    </tr>\n",
       "  </thead>\n",
       "  <tbody>\n",
       "    <tr>\n",
       "      <td>0</td>\n",
       "      <td>20</td>\n",
       "      <td>13000000.0</td>\n",
       "      <td>108.00</td>\n",
       "      <td>2019-03-07T00:00:00</td>\n",
       "      <td>3</td>\n",
       "      <td>2.70</td>\n",
       "      <td>16.0</td>\n",
       "      <td>51.0</td>\n",
       "      <td>8</td>\n",
       "      <td>NaN</td>\n",
       "      <td>...</td>\n",
       "      <td>25.00</td>\n",
       "      <td>NaN</td>\n",
       "      <td>Санкт-Петербург</td>\n",
       "      <td>18863.0</td>\n",
       "      <td>16028.0</td>\n",
       "      <td>1.0</td>\n",
       "      <td>482.0</td>\n",
       "      <td>2.0</td>\n",
       "      <td>755.0</td>\n",
       "      <td>NaN</td>\n",
       "    </tr>\n",
       "    <tr>\n",
       "      <td>1</td>\n",
       "      <td>7</td>\n",
       "      <td>3350000.0</td>\n",
       "      <td>40.40</td>\n",
       "      <td>2018-12-04T00:00:00</td>\n",
       "      <td>1</td>\n",
       "      <td>NaN</td>\n",
       "      <td>11.0</td>\n",
       "      <td>18.6</td>\n",
       "      <td>1</td>\n",
       "      <td>NaN</td>\n",
       "      <td>...</td>\n",
       "      <td>11.00</td>\n",
       "      <td>2.0</td>\n",
       "      <td>посёлок Шушары</td>\n",
       "      <td>12817.0</td>\n",
       "      <td>18603.0</td>\n",
       "      <td>0.0</td>\n",
       "      <td>NaN</td>\n",
       "      <td>0.0</td>\n",
       "      <td>NaN</td>\n",
       "      <td>81.0</td>\n",
       "    </tr>\n",
       "    <tr>\n",
       "      <td>2</td>\n",
       "      <td>10</td>\n",
       "      <td>5196000.0</td>\n",
       "      <td>56.00</td>\n",
       "      <td>2015-08-20T00:00:00</td>\n",
       "      <td>2</td>\n",
       "      <td>NaN</td>\n",
       "      <td>5.0</td>\n",
       "      <td>34.3</td>\n",
       "      <td>4</td>\n",
       "      <td>NaN</td>\n",
       "      <td>...</td>\n",
       "      <td>8.30</td>\n",
       "      <td>0.0</td>\n",
       "      <td>Санкт-Петербург</td>\n",
       "      <td>21741.0</td>\n",
       "      <td>13933.0</td>\n",
       "      <td>1.0</td>\n",
       "      <td>90.0</td>\n",
       "      <td>2.0</td>\n",
       "      <td>574.0</td>\n",
       "      <td>558.0</td>\n",
       "    </tr>\n",
       "    <tr>\n",
       "      <td>3</td>\n",
       "      <td>0</td>\n",
       "      <td>64900000.0</td>\n",
       "      <td>159.00</td>\n",
       "      <td>2015-07-24T00:00:00</td>\n",
       "      <td>3</td>\n",
       "      <td>NaN</td>\n",
       "      <td>14.0</td>\n",
       "      <td>NaN</td>\n",
       "      <td>9</td>\n",
       "      <td>NaN</td>\n",
       "      <td>...</td>\n",
       "      <td>NaN</td>\n",
       "      <td>0.0</td>\n",
       "      <td>Санкт-Петербург</td>\n",
       "      <td>28098.0</td>\n",
       "      <td>6800.0</td>\n",
       "      <td>2.0</td>\n",
       "      <td>84.0</td>\n",
       "      <td>3.0</td>\n",
       "      <td>234.0</td>\n",
       "      <td>424.0</td>\n",
       "    </tr>\n",
       "    <tr>\n",
       "      <td>4</td>\n",
       "      <td>2</td>\n",
       "      <td>10000000.0</td>\n",
       "      <td>100.00</td>\n",
       "      <td>2018-06-19T00:00:00</td>\n",
       "      <td>2</td>\n",
       "      <td>3.03</td>\n",
       "      <td>14.0</td>\n",
       "      <td>32.0</td>\n",
       "      <td>13</td>\n",
       "      <td>NaN</td>\n",
       "      <td>...</td>\n",
       "      <td>41.00</td>\n",
       "      <td>NaN</td>\n",
       "      <td>Санкт-Петербург</td>\n",
       "      <td>31856.0</td>\n",
       "      <td>8098.0</td>\n",
       "      <td>2.0</td>\n",
       "      <td>112.0</td>\n",
       "      <td>1.0</td>\n",
       "      <td>48.0</td>\n",
       "      <td>121.0</td>\n",
       "    </tr>\n",
       "    <tr>\n",
       "      <td>...</td>\n",
       "      <td>...</td>\n",
       "      <td>...</td>\n",
       "      <td>...</td>\n",
       "      <td>...</td>\n",
       "      <td>...</td>\n",
       "      <td>...</td>\n",
       "      <td>...</td>\n",
       "      <td>...</td>\n",
       "      <td>...</td>\n",
       "      <td>...</td>\n",
       "      <td>...</td>\n",
       "      <td>...</td>\n",
       "      <td>...</td>\n",
       "      <td>...</td>\n",
       "      <td>...</td>\n",
       "      <td>...</td>\n",
       "      <td>...</td>\n",
       "      <td>...</td>\n",
       "      <td>...</td>\n",
       "      <td>...</td>\n",
       "      <td>...</td>\n",
       "    </tr>\n",
       "    <tr>\n",
       "      <td>23694</td>\n",
       "      <td>9</td>\n",
       "      <td>9700000.0</td>\n",
       "      <td>133.81</td>\n",
       "      <td>2017-03-21T00:00:00</td>\n",
       "      <td>3</td>\n",
       "      <td>3.70</td>\n",
       "      <td>5.0</td>\n",
       "      <td>73.3</td>\n",
       "      <td>3</td>\n",
       "      <td>NaN</td>\n",
       "      <td>...</td>\n",
       "      <td>13.83</td>\n",
       "      <td>NaN</td>\n",
       "      <td>Санкт-Петербург</td>\n",
       "      <td>24665.0</td>\n",
       "      <td>4232.0</td>\n",
       "      <td>1.0</td>\n",
       "      <td>796.0</td>\n",
       "      <td>3.0</td>\n",
       "      <td>381.0</td>\n",
       "      <td>NaN</td>\n",
       "    </tr>\n",
       "    <tr>\n",
       "      <td>23695</td>\n",
       "      <td>14</td>\n",
       "      <td>3100000.0</td>\n",
       "      <td>59.00</td>\n",
       "      <td>2018-01-15T00:00:00</td>\n",
       "      <td>3</td>\n",
       "      <td>NaN</td>\n",
       "      <td>5.0</td>\n",
       "      <td>38.0</td>\n",
       "      <td>4</td>\n",
       "      <td>NaN</td>\n",
       "      <td>...</td>\n",
       "      <td>8.50</td>\n",
       "      <td>NaN</td>\n",
       "      <td>Тосно</td>\n",
       "      <td>NaN</td>\n",
       "      <td>NaN</td>\n",
       "      <td>NaN</td>\n",
       "      <td>NaN</td>\n",
       "      <td>NaN</td>\n",
       "      <td>NaN</td>\n",
       "      <td>45.0</td>\n",
       "    </tr>\n",
       "    <tr>\n",
       "      <td>23696</td>\n",
       "      <td>18</td>\n",
       "      <td>2500000.0</td>\n",
       "      <td>56.70</td>\n",
       "      <td>2018-02-11T00:00:00</td>\n",
       "      <td>2</td>\n",
       "      <td>NaN</td>\n",
       "      <td>3.0</td>\n",
       "      <td>29.7</td>\n",
       "      <td>1</td>\n",
       "      <td>NaN</td>\n",
       "      <td>...</td>\n",
       "      <td>NaN</td>\n",
       "      <td>NaN</td>\n",
       "      <td>село Рождествено</td>\n",
       "      <td>NaN</td>\n",
       "      <td>NaN</td>\n",
       "      <td>NaN</td>\n",
       "      <td>NaN</td>\n",
       "      <td>NaN</td>\n",
       "      <td>NaN</td>\n",
       "      <td>NaN</td>\n",
       "    </tr>\n",
       "    <tr>\n",
       "      <td>23697</td>\n",
       "      <td>13</td>\n",
       "      <td>11475000.0</td>\n",
       "      <td>76.75</td>\n",
       "      <td>2017-03-28T00:00:00</td>\n",
       "      <td>2</td>\n",
       "      <td>3.00</td>\n",
       "      <td>17.0</td>\n",
       "      <td>NaN</td>\n",
       "      <td>12</td>\n",
       "      <td>NaN</td>\n",
       "      <td>...</td>\n",
       "      <td>23.30</td>\n",
       "      <td>2.0</td>\n",
       "      <td>Санкт-Петербург</td>\n",
       "      <td>39140.0</td>\n",
       "      <td>10364.0</td>\n",
       "      <td>2.0</td>\n",
       "      <td>173.0</td>\n",
       "      <td>3.0</td>\n",
       "      <td>196.0</td>\n",
       "      <td>602.0</td>\n",
       "    </tr>\n",
       "    <tr>\n",
       "      <td>23698</td>\n",
       "      <td>4</td>\n",
       "      <td>1350000.0</td>\n",
       "      <td>32.30</td>\n",
       "      <td>2017-07-21T00:00:00</td>\n",
       "      <td>1</td>\n",
       "      <td>2.50</td>\n",
       "      <td>5.0</td>\n",
       "      <td>12.3</td>\n",
       "      <td>1</td>\n",
       "      <td>NaN</td>\n",
       "      <td>...</td>\n",
       "      <td>9.00</td>\n",
       "      <td>NaN</td>\n",
       "      <td>поселок Новый Учхоз</td>\n",
       "      <td>NaN</td>\n",
       "      <td>NaN</td>\n",
       "      <td>NaN</td>\n",
       "      <td>NaN</td>\n",
       "      <td>NaN</td>\n",
       "      <td>NaN</td>\n",
       "      <td>NaN</td>\n",
       "    </tr>\n",
       "  </tbody>\n",
       "</table>\n",
       "<p>23699 rows × 22 columns</p>\n",
       "</div>"
      ],
      "text/plain": [
       "       total_images  last_price  total_area first_day_exposition  rooms  \\\n",
       "0                20  13000000.0      108.00  2019-03-07T00:00:00      3   \n",
       "1                 7   3350000.0       40.40  2018-12-04T00:00:00      1   \n",
       "2                10   5196000.0       56.00  2015-08-20T00:00:00      2   \n",
       "3                 0  64900000.0      159.00  2015-07-24T00:00:00      3   \n",
       "4                 2  10000000.0      100.00  2018-06-19T00:00:00      2   \n",
       "...             ...         ...         ...                  ...    ...   \n",
       "23694             9   9700000.0      133.81  2017-03-21T00:00:00      3   \n",
       "23695            14   3100000.0       59.00  2018-01-15T00:00:00      3   \n",
       "23696            18   2500000.0       56.70  2018-02-11T00:00:00      2   \n",
       "23697            13  11475000.0       76.75  2017-03-28T00:00:00      2   \n",
       "23698             4   1350000.0       32.30  2017-07-21T00:00:00      1   \n",
       "\n",
       "       ceiling_height  floors_total  living_area  floor is_apartment  ...  \\\n",
       "0                2.70          16.0         51.0      8          NaN  ...   \n",
       "1                 NaN          11.0         18.6      1          NaN  ...   \n",
       "2                 NaN           5.0         34.3      4          NaN  ...   \n",
       "3                 NaN          14.0          NaN      9          NaN  ...   \n",
       "4                3.03          14.0         32.0     13          NaN  ...   \n",
       "...               ...           ...          ...    ...          ...  ...   \n",
       "23694            3.70           5.0         73.3      3          NaN  ...   \n",
       "23695             NaN           5.0         38.0      4          NaN  ...   \n",
       "23696             NaN           3.0         29.7      1          NaN  ...   \n",
       "23697            3.00          17.0          NaN     12          NaN  ...   \n",
       "23698            2.50           5.0         12.3      1          NaN  ...   \n",
       "\n",
       "       kitchen_area  balcony        locality_name  airports_nearest  \\\n",
       "0             25.00      NaN      Санкт-Петербург           18863.0   \n",
       "1             11.00      2.0       посёлок Шушары           12817.0   \n",
       "2              8.30      0.0      Санкт-Петербург           21741.0   \n",
       "3               NaN      0.0      Санкт-Петербург           28098.0   \n",
       "4             41.00      NaN      Санкт-Петербург           31856.0   \n",
       "...             ...      ...                  ...               ...   \n",
       "23694         13.83      NaN      Санкт-Петербург           24665.0   \n",
       "23695          8.50      NaN                Тосно               NaN   \n",
       "23696           NaN      NaN     село Рождествено               NaN   \n",
       "23697         23.30      2.0      Санкт-Петербург           39140.0   \n",
       "23698          9.00      NaN  поселок Новый Учхоз               NaN   \n",
       "\n",
       "      cityCenters_nearest  parks_around3000  parks_nearest  ponds_around3000  \\\n",
       "0                 16028.0               1.0          482.0               2.0   \n",
       "1                 18603.0               0.0            NaN               0.0   \n",
       "2                 13933.0               1.0           90.0               2.0   \n",
       "3                  6800.0               2.0           84.0               3.0   \n",
       "4                  8098.0               2.0          112.0               1.0   \n",
       "...                   ...               ...            ...               ...   \n",
       "23694              4232.0               1.0          796.0               3.0   \n",
       "23695                 NaN               NaN            NaN               NaN   \n",
       "23696                 NaN               NaN            NaN               NaN   \n",
       "23697             10364.0               2.0          173.0               3.0   \n",
       "23698                 NaN               NaN            NaN               NaN   \n",
       "\n",
       "       ponds_nearest  days_exposition  \n",
       "0              755.0              NaN  \n",
       "1                NaN             81.0  \n",
       "2              574.0            558.0  \n",
       "3              234.0            424.0  \n",
       "4               48.0            121.0  \n",
       "...              ...              ...  \n",
       "23694          381.0              NaN  \n",
       "23695            NaN             45.0  \n",
       "23696            NaN              NaN  \n",
       "23697          196.0            602.0  \n",
       "23698            NaN              NaN  \n",
       "\n",
       "[23699 rows x 22 columns]"
      ]
     },
     "execution_count": 1,
     "metadata": {},
     "output_type": "execute_result"
    }
   ],
   "source": [
    "# импорт библиотек\n",
    "import pandas as pd\n",
    "import seaborn as sns\n",
    "import matplotlib.pyplot as plt\n",
    "\n",
    "# чтение файла и просмотр таблицы\n",
    "real = pd.read_csv('/datasets/real_estate_data.csv', sep = '\\t')\n",
    "real"
   ]
  },
  {
   "cell_type": "markdown",
   "metadata": {},
   "source": [
    "Двух столбцов не видно в выводе, поэтому получим общую информацию о таблице командой `.info()`:"
   ]
  },
  {
   "cell_type": "code",
   "execution_count": 2,
   "metadata": {
    "scrolled": false
   },
   "outputs": [
    {
     "name": "stdout",
     "output_type": "stream",
     "text": [
      "<class 'pandas.core.frame.DataFrame'>\n",
      "RangeIndex: 23699 entries, 0 to 23698\n",
      "Data columns (total 22 columns):\n",
      "total_images            23699 non-null int64\n",
      "last_price              23699 non-null float64\n",
      "total_area              23699 non-null float64\n",
      "first_day_exposition    23699 non-null object\n",
      "rooms                   23699 non-null int64\n",
      "ceiling_height          14504 non-null float64\n",
      "floors_total            23613 non-null float64\n",
      "living_area             21796 non-null float64\n",
      "floor                   23699 non-null int64\n",
      "is_apartment            2775 non-null object\n",
      "studio                  23699 non-null bool\n",
      "open_plan               23699 non-null bool\n",
      "kitchen_area            21421 non-null float64\n",
      "balcony                 12180 non-null float64\n",
      "locality_name           23650 non-null object\n",
      "airports_nearest        18157 non-null float64\n",
      "cityCenters_nearest     18180 non-null float64\n",
      "parks_around3000        18181 non-null float64\n",
      "parks_nearest           8079 non-null float64\n",
      "ponds_around3000        18181 non-null float64\n",
      "ponds_nearest           9110 non-null float64\n",
      "days_exposition         20518 non-null float64\n",
      "dtypes: bool(2), float64(14), int64(3), object(3)\n",
      "memory usage: 3.7+ MB\n"
     ]
    }
   ],
   "source": [
    "# вывод общей информации по таблице\n",
    "real.info()"
   ]
  },
  {
   "cell_type": "markdown",
   "metadata": {},
   "source": [
    "Также будет полезно получить общую статистику по таблице - это пригодится в анализе. Помним, что она годится только для количественных переменных."
   ]
  },
  {
   "cell_type": "code",
   "execution_count": 3,
   "metadata": {
    "scrolled": true
   },
   "outputs": [
    {
     "data": {
      "text/html": [
       "<div>\n",
       "<style scoped>\n",
       "    .dataframe tbody tr th:only-of-type {\n",
       "        vertical-align: middle;\n",
       "    }\n",
       "\n",
       "    .dataframe tbody tr th {\n",
       "        vertical-align: top;\n",
       "    }\n",
       "\n",
       "    .dataframe thead th {\n",
       "        text-align: right;\n",
       "    }\n",
       "</style>\n",
       "<table border=\"1\" class=\"dataframe\">\n",
       "  <thead>\n",
       "    <tr style=\"text-align: right;\">\n",
       "      <th></th>\n",
       "      <th>total_images</th>\n",
       "      <th>last_price</th>\n",
       "      <th>total_area</th>\n",
       "      <th>rooms</th>\n",
       "      <th>ceiling_height</th>\n",
       "      <th>floors_total</th>\n",
       "      <th>living_area</th>\n",
       "      <th>floor</th>\n",
       "      <th>kitchen_area</th>\n",
       "      <th>balcony</th>\n",
       "      <th>airports_nearest</th>\n",
       "      <th>cityCenters_nearest</th>\n",
       "      <th>parks_around3000</th>\n",
       "      <th>parks_nearest</th>\n",
       "      <th>ponds_around3000</th>\n",
       "      <th>ponds_nearest</th>\n",
       "      <th>days_exposition</th>\n",
       "    </tr>\n",
       "  </thead>\n",
       "  <tbody>\n",
       "    <tr>\n",
       "      <td>count</td>\n",
       "      <td>23699.000000</td>\n",
       "      <td>2.369900e+04</td>\n",
       "      <td>23699.000000</td>\n",
       "      <td>23699.000000</td>\n",
       "      <td>14504.000000</td>\n",
       "      <td>23613.000000</td>\n",
       "      <td>21796.000000</td>\n",
       "      <td>23699.000000</td>\n",
       "      <td>21421.000000</td>\n",
       "      <td>12180.000000</td>\n",
       "      <td>18157.000000</td>\n",
       "      <td>18180.000000</td>\n",
       "      <td>18181.000000</td>\n",
       "      <td>8079.000000</td>\n",
       "      <td>18181.000000</td>\n",
       "      <td>9110.000000</td>\n",
       "      <td>20518.000000</td>\n",
       "    </tr>\n",
       "    <tr>\n",
       "      <td>mean</td>\n",
       "      <td>9.858475</td>\n",
       "      <td>6.541549e+06</td>\n",
       "      <td>60.348651</td>\n",
       "      <td>2.070636</td>\n",
       "      <td>2.771499</td>\n",
       "      <td>10.673824</td>\n",
       "      <td>34.457852</td>\n",
       "      <td>5.892358</td>\n",
       "      <td>10.569807</td>\n",
       "      <td>1.150082</td>\n",
       "      <td>28793.672193</td>\n",
       "      <td>14191.277833</td>\n",
       "      <td>0.611408</td>\n",
       "      <td>490.804555</td>\n",
       "      <td>0.770255</td>\n",
       "      <td>517.980900</td>\n",
       "      <td>180.888634</td>\n",
       "    </tr>\n",
       "    <tr>\n",
       "      <td>std</td>\n",
       "      <td>5.682529</td>\n",
       "      <td>1.088701e+07</td>\n",
       "      <td>35.654083</td>\n",
       "      <td>1.078405</td>\n",
       "      <td>1.261056</td>\n",
       "      <td>6.597173</td>\n",
       "      <td>22.030445</td>\n",
       "      <td>4.885249</td>\n",
       "      <td>5.905438</td>\n",
       "      <td>1.071300</td>\n",
       "      <td>12630.880622</td>\n",
       "      <td>8608.386210</td>\n",
       "      <td>0.802074</td>\n",
       "      <td>342.317995</td>\n",
       "      <td>0.938346</td>\n",
       "      <td>277.720643</td>\n",
       "      <td>219.727988</td>\n",
       "    </tr>\n",
       "    <tr>\n",
       "      <td>min</td>\n",
       "      <td>0.000000</td>\n",
       "      <td>1.219000e+04</td>\n",
       "      <td>12.000000</td>\n",
       "      <td>0.000000</td>\n",
       "      <td>1.000000</td>\n",
       "      <td>1.000000</td>\n",
       "      <td>2.000000</td>\n",
       "      <td>1.000000</td>\n",
       "      <td>1.300000</td>\n",
       "      <td>0.000000</td>\n",
       "      <td>0.000000</td>\n",
       "      <td>181.000000</td>\n",
       "      <td>0.000000</td>\n",
       "      <td>1.000000</td>\n",
       "      <td>0.000000</td>\n",
       "      <td>13.000000</td>\n",
       "      <td>1.000000</td>\n",
       "    </tr>\n",
       "    <tr>\n",
       "      <td>25%</td>\n",
       "      <td>6.000000</td>\n",
       "      <td>3.400000e+06</td>\n",
       "      <td>40.000000</td>\n",
       "      <td>1.000000</td>\n",
       "      <td>2.520000</td>\n",
       "      <td>5.000000</td>\n",
       "      <td>18.600000</td>\n",
       "      <td>2.000000</td>\n",
       "      <td>7.000000</td>\n",
       "      <td>0.000000</td>\n",
       "      <td>18585.000000</td>\n",
       "      <td>9238.000000</td>\n",
       "      <td>0.000000</td>\n",
       "      <td>288.000000</td>\n",
       "      <td>0.000000</td>\n",
       "      <td>294.000000</td>\n",
       "      <td>45.000000</td>\n",
       "    </tr>\n",
       "    <tr>\n",
       "      <td>50%</td>\n",
       "      <td>9.000000</td>\n",
       "      <td>4.650000e+06</td>\n",
       "      <td>52.000000</td>\n",
       "      <td>2.000000</td>\n",
       "      <td>2.650000</td>\n",
       "      <td>9.000000</td>\n",
       "      <td>30.000000</td>\n",
       "      <td>4.000000</td>\n",
       "      <td>9.100000</td>\n",
       "      <td>1.000000</td>\n",
       "      <td>26726.000000</td>\n",
       "      <td>13098.500000</td>\n",
       "      <td>0.000000</td>\n",
       "      <td>455.000000</td>\n",
       "      <td>1.000000</td>\n",
       "      <td>502.000000</td>\n",
       "      <td>95.000000</td>\n",
       "    </tr>\n",
       "    <tr>\n",
       "      <td>75%</td>\n",
       "      <td>14.000000</td>\n",
       "      <td>6.800000e+06</td>\n",
       "      <td>69.900000</td>\n",
       "      <td>3.000000</td>\n",
       "      <td>2.800000</td>\n",
       "      <td>16.000000</td>\n",
       "      <td>42.300000</td>\n",
       "      <td>8.000000</td>\n",
       "      <td>12.000000</td>\n",
       "      <td>2.000000</td>\n",
       "      <td>37273.000000</td>\n",
       "      <td>16293.000000</td>\n",
       "      <td>1.000000</td>\n",
       "      <td>612.000000</td>\n",
       "      <td>1.000000</td>\n",
       "      <td>729.000000</td>\n",
       "      <td>232.000000</td>\n",
       "    </tr>\n",
       "    <tr>\n",
       "      <td>max</td>\n",
       "      <td>50.000000</td>\n",
       "      <td>7.630000e+08</td>\n",
       "      <td>900.000000</td>\n",
       "      <td>19.000000</td>\n",
       "      <td>100.000000</td>\n",
       "      <td>60.000000</td>\n",
       "      <td>409.700000</td>\n",
       "      <td>33.000000</td>\n",
       "      <td>112.000000</td>\n",
       "      <td>5.000000</td>\n",
       "      <td>84869.000000</td>\n",
       "      <td>65968.000000</td>\n",
       "      <td>3.000000</td>\n",
       "      <td>3190.000000</td>\n",
       "      <td>3.000000</td>\n",
       "      <td>1344.000000</td>\n",
       "      <td>1580.000000</td>\n",
       "    </tr>\n",
       "  </tbody>\n",
       "</table>\n",
       "</div>"
      ],
      "text/plain": [
       "       total_images    last_price    total_area         rooms  ceiling_height  \\\n",
       "count  23699.000000  2.369900e+04  23699.000000  23699.000000    14504.000000   \n",
       "mean       9.858475  6.541549e+06     60.348651      2.070636        2.771499   \n",
       "std        5.682529  1.088701e+07     35.654083      1.078405        1.261056   \n",
       "min        0.000000  1.219000e+04     12.000000      0.000000        1.000000   \n",
       "25%        6.000000  3.400000e+06     40.000000      1.000000        2.520000   \n",
       "50%        9.000000  4.650000e+06     52.000000      2.000000        2.650000   \n",
       "75%       14.000000  6.800000e+06     69.900000      3.000000        2.800000   \n",
       "max       50.000000  7.630000e+08    900.000000     19.000000      100.000000   \n",
       "\n",
       "       floors_total   living_area         floor  kitchen_area       balcony  \\\n",
       "count  23613.000000  21796.000000  23699.000000  21421.000000  12180.000000   \n",
       "mean      10.673824     34.457852      5.892358     10.569807      1.150082   \n",
       "std        6.597173     22.030445      4.885249      5.905438      1.071300   \n",
       "min        1.000000      2.000000      1.000000      1.300000      0.000000   \n",
       "25%        5.000000     18.600000      2.000000      7.000000      0.000000   \n",
       "50%        9.000000     30.000000      4.000000      9.100000      1.000000   \n",
       "75%       16.000000     42.300000      8.000000     12.000000      2.000000   \n",
       "max       60.000000    409.700000     33.000000    112.000000      5.000000   \n",
       "\n",
       "       airports_nearest  cityCenters_nearest  parks_around3000  parks_nearest  \\\n",
       "count      18157.000000         18180.000000      18181.000000    8079.000000   \n",
       "mean       28793.672193         14191.277833          0.611408     490.804555   \n",
       "std        12630.880622          8608.386210          0.802074     342.317995   \n",
       "min            0.000000           181.000000          0.000000       1.000000   \n",
       "25%        18585.000000          9238.000000          0.000000     288.000000   \n",
       "50%        26726.000000         13098.500000          0.000000     455.000000   \n",
       "75%        37273.000000         16293.000000          1.000000     612.000000   \n",
       "max        84869.000000         65968.000000          3.000000    3190.000000   \n",
       "\n",
       "       ponds_around3000  ponds_nearest  days_exposition  \n",
       "count      18181.000000    9110.000000     20518.000000  \n",
       "mean           0.770255     517.980900       180.888634  \n",
       "std            0.938346     277.720643       219.727988  \n",
       "min            0.000000      13.000000         1.000000  \n",
       "25%            0.000000     294.000000        45.000000  \n",
       "50%            1.000000     502.000000        95.000000  \n",
       "75%            1.000000     729.000000       232.000000  \n",
       "max            3.000000    1344.000000      1580.000000  "
      ]
     },
     "execution_count": 3,
     "metadata": {},
     "output_type": "execute_result"
    }
   ],
   "source": [
    "# вывод описательной статистики по таблице\n",
    "real.describe()"
   ]
  },
  {
   "cell_type": "markdown",
   "metadata": {},
   "source": [
    "### Вывод"
   ]
  },
  {
   "cell_type": "markdown",
   "metadata": {},
   "source": [
    "В таблице 22 столбца. Три столбца не соответствуют правилу змеиного_регистра, один из них имеет в названии заглавную букву. Необходимо переименовать их. Заметно, что количество данных в разных столбцах отличается - значит, есть пропуски.\n",
    "\n",
    "Разберемся, что у нас с типами данных:\n",
    "\n",
    "`first_day_exposition`: тип должен быть `datetime`, чтобы потом можно было создать таблицы с днем недели, месяцем и годом;\n",
    "\n",
    "`is_apartment`: по условию должен быть тип `bool`, т.к. указывается, апартаменты это или нет (`False` или `True`);\n",
    "\n",
    "Данные в следующих столбцах могут быть только целыми числами, поэтому разумно привести их к типу `int`: `floors_total`, `parks_around3000`, `ponds_around3000`, `days_exposition`, `balcony`, `parks_nearest`, `ponds_nearest`;\n",
    "\n",
    "Данные в следующих столбцах могут иметь знаки после запятой, но будет удобнее, если они станут целыми числами (к тому же, нам не важна такая точность): `last_price`, `airports_nearest`, `cityCenters_nearest`.\n",
    "\n",
    "Итак, мы увидели, с чем предстоит иметь дело. Теперь займемся ошибками и приведем данные в порядок."
   ]
  },
  {
   "cell_type": "markdown",
   "metadata": {},
   "source": [
    "## Предобработка данных"
   ]
  },
  {
   "cell_type": "markdown",
   "metadata": {},
   "source": [
    "Первый и самый простой шаг: для удобства переименуем столбцы, название которых сразу бросается в глаза."
   ]
  },
  {
   "cell_type": "code",
   "execution_count": 4,
   "metadata": {},
   "outputs": [
    {
     "data": {
      "text/plain": [
       "Index(['total_images', 'last_price', 'total_area', 'first_day_exposition',\n",
       "       'rooms', 'ceiling_height', 'floors_total', 'living_area', 'floor',\n",
       "       'is_apartment', 'studio', 'open_plan', 'kitchen_area', 'balcony',\n",
       "       'locality_name', 'airports_nearest', 'city_centers_nearest',\n",
       "       'parks_around_3km', 'parks_nearest', 'ponds_around_3km',\n",
       "       'ponds_nearest', 'days_exposition'],\n",
       "      dtype='object')"
      ]
     },
     "execution_count": 4,
     "metadata": {},
     "output_type": "execute_result"
    }
   ],
   "source": [
    "# переименование столбцов\n",
    "real.rename(columns =\n",
    "    {'cityCenters_nearest':'city_centers_nearest', \n",
    "     'parks_around3000':'parks_around_3km', \n",
    "     'ponds_around3000':'ponds_around_3km'},\n",
    "            inplace = True)\n",
    "\n",
    "# проверка названий столбцов\n",
    "real.columns"
   ]
  },
  {
   "cell_type": "markdown",
   "metadata": {},
   "source": [
    "Теперь разберемся с пропусками. Посмотрим, сколько их всего в таблице:"
   ]
  },
  {
   "cell_type": "code",
   "execution_count": 5,
   "metadata": {},
   "outputs": [
    {
     "data": {
      "text/plain": [
       "total_images                0\n",
       "last_price                  0\n",
       "total_area                  0\n",
       "first_day_exposition        0\n",
       "rooms                       0\n",
       "ceiling_height           9195\n",
       "floors_total               86\n",
       "living_area              1903\n",
       "floor                       0\n",
       "is_apartment            20924\n",
       "studio                      0\n",
       "open_plan                   0\n",
       "kitchen_area             2278\n",
       "balcony                 11519\n",
       "locality_name              49\n",
       "airports_nearest         5542\n",
       "city_centers_nearest     5519\n",
       "parks_around_3km         5518\n",
       "parks_nearest           15620\n",
       "ponds_around_3km         5518\n",
       "ponds_nearest           14589\n",
       "days_exposition          3181\n",
       "dtype: int64"
      ]
     },
     "execution_count": 5,
     "metadata": {},
     "output_type": "execute_result"
    }
   ],
   "source": [
    "# подсчет пропусков\n",
    "real.isna().sum()"
   ]
  },
  {
   "cell_type": "code",
   "execution_count": 6,
   "metadata": {},
   "outputs": [
    {
     "data": {
      "text/plain": [
       "total_images             0.000000\n",
       "last_price               0.000000\n",
       "total_area               0.000000\n",
       "first_day_exposition     0.000000\n",
       "rooms                    0.000000\n",
       "ceiling_height          38.799105\n",
       "floors_total             0.362885\n",
       "living_area              8.029875\n",
       "floor                    0.000000\n",
       "is_apartment            88.290645\n",
       "studio                   0.000000\n",
       "open_plan                0.000000\n",
       "kitchen_area             9.612220\n",
       "balcony                 48.605426\n",
       "locality_name            0.206760\n",
       "airports_nearest        23.384953\n",
       "city_centers_nearest    23.287902\n",
       "parks_around_3km        23.283683\n",
       "parks_nearest           65.909954\n",
       "ponds_around_3km        23.283683\n",
       "ponds_nearest           61.559559\n",
       "days_exposition         13.422507\n",
       "dtype: float64"
      ]
     },
     "execution_count": 6,
     "metadata": {},
     "output_type": "execute_result"
    }
   ],
   "source": [
    "# то же самое в процентах\n",
    "real.isna().sum()/real.shape[0]*100"
   ]
  },
  {
   "cell_type": "markdown",
   "metadata": {},
   "source": [
    "Довольно много, причем в разных столбцах. Попробуем предположить, с чем это связано, и исправить.\n",
    "\n",
    "`balcony`: если не указано число балконов — скорее всего, их нет. Можно заменить пропуски на 0."
   ]
  },
  {
   "cell_type": "code",
   "execution_count": 7,
   "metadata": {},
   "outputs": [],
   "source": [
    "# замена пропусков в столбце с балконами\n",
    "real['balcony'] = real['balcony'].fillna(0)"
   ]
  },
  {
   "cell_type": "markdown",
   "metadata": {},
   "source": [
    "`locality_name`: в объявлениях должен быть указан населенный пункт. Возможно, те люди, которые продают квартиру именно в Петербурге, не указывают местонахождение квартиры, потому что считают это очевидным. Можно заполнить пропуски только по тем строкам, где указано расстояние от центра города. Интернет ([ссылка](https://trace.ati.su/sitemap/trace/from/StPetersburg/to/KADShushary#:~:text=%D0%A0%D0%B0%D1%81%D1%81%D1%82%D0%BE%D1%8F%D0%BD%D0%B8%D0%B5%20%D0%BE%D1%82%20%D0%A1%D0%B0%D0%BD%D0%BA%D1%82%2D%D0%9F%D0%B5%D1%82%D0%B5%D1%80%D0%B1%D1%83%D1%80%D0%B3%D0%B0%20%D0%B4%D0%BE%20%D0%9A%D0%90%D0%94,%D0%BF%D0%BE%20%D1%81%D0%B8%D1%81%D1%82%D0%B5%D0%BC%D0%B5%20%C2%AB%D0%9F%D0%BB%D0%B0%D1%82%D0%BE%D0%BD%C2%BB%20%D1%81%D0%BE%D1%81%D1%82%D0%B0%D0%B2%D0%B8%D1%82%208)) говорит нам, что примерное расстояние от центра города до окраин равно 17 км. Укажем вместо пропусков \"Санкт-Петербург\" для тех квартир, которые находятся в пределах 17 км от центра. Причина неуказанного местоположения для других населенных пунктов непонятна. Так как в целом пропусков в этом столбце не так много, можно удалить все остальные строки."
   ]
  },
  {
   "cell_type": "code",
   "execution_count": 8,
   "metadata": {},
   "outputs": [],
   "source": [
    "# замена пропусков в столбце с локацией и удаление строк, в которых данные невозможно восстановить\n",
    "real.loc[(real['locality_name'].isna()) \n",
    "         & (real['city_centers_nearest'] < 17000), \n",
    "         'locality_name'] = real['locality_name'].fillna('Санкт-Петербург')\n",
    "real = real.dropna(subset = ['locality_name']).reset_index(drop = True)"
   ]
  },
  {
   "cell_type": "markdown",
   "metadata": {},
   "source": [
    "`is_apartment`: данные имеют тип `object`, хотя по условию должно быть `bool`. Если заменить все пропуски на `False`, то тип данных исправится сам. Пропуски могут быть связаны с тем, что некоторые продавцы просто не знают разницы между апартаментами и квартирами, потому и не указывали ничего в этом пункте. Те, кто точно знает, что они продают апартаменты, отмечали это в объявлении. Возможно, неправильно заменять пропуски значением `False`, т.к. апартаментов в объявлениях может быть больше, но мы все равно не имеем возможности восстановить данные."
   ]
  },
  {
   "cell_type": "code",
   "execution_count": 9,
   "metadata": {},
   "outputs": [],
   "source": [
    "# замена пропусков в столбце с апартаментами\n",
    "real['is_apartment'] = real['is_apartment'].fillna(value = False)"
   ]
  },
  {
   "cell_type": "markdown",
   "metadata": {},
   "source": [
    "`floors_total`: количество этажей может быть необязательным к заполнению, это вполне объясняет пропуски. Нужно избавиться от них, однако жаль удалять 86 строк. Можно указать в них медианное количество этажей в населенном пункте с продаваемой квартирой."
   ]
  },
  {
   "cell_type": "code",
   "execution_count": 10,
   "metadata": {},
   "outputs": [],
   "source": [
    "# замена пропусков в столбце с количеством этажей\n",
    "# сначала заменим пропуски на 0 и приведем тип к целочисленному\n",
    "real['floors_total'] = real['floors_total'].fillna(0)\n",
    "real['floors_total'] = real['floors_total'].astype('int')\n",
    "# теперь создадим словарь-сводную таблицу, на основе которого потом будет работать функция\n",
    "fl_total_median = dict(real.pivot_table(index = 'locality_name', \n",
    "                                        values = 'floors_total', \n",
    "                                        aggfunc = 'median')['floors_total'])\n",
    "# напишем функцию для замены пропусков на медиану по населенному пункту\n",
    "def fl_total_funс(row):\n",
    "    locality = row['locality_name']\n",
    "    floors = row['floors_total']\n",
    "    if floors == 0:\n",
    "        for key, value in fl_total_median.items():\n",
    "            if key in locality:\n",
    "                return value\n",
    "    return floors\n",
    "# применение функции и замена пропусков\n",
    "real['floors_total'] = real.apply(fl_total_funс, axis = 1)"
   ]
  },
  {
   "cell_type": "markdown",
   "metadata": {},
   "source": [
    "`days_exposition`: пропуски могут быть связаны с тем, что неизвестно, когда было закрыто объявление о продаже. Оно может быть еще активно: сделку еще не завершили либо завершили, но не закрыли на сайте. Здесь не подойдет медианное значение, поэтому оставим пропуски. Тип данных из-за этого изменить не получится, но это некритично."
   ]
  },
  {
   "cell_type": "markdown",
   "metadata": {},
   "source": [
    "`airports_nearest`: можно предположить, что данные рассчитаны системой на основе геолокации, т.к. значения расстояния точны до метра. Пропуски говорят о том, что в определенном радиусе от квартиры нет аэропорта. Рискну заменить недостающие данные на медиану расстояния по населенным пунктам."
   ]
  },
  {
   "cell_type": "code",
   "execution_count": 11,
   "metadata": {},
   "outputs": [],
   "source": [
    "# замена пропусков в столбце с расстоянием до аэропорта\n",
    "# сначала заменим пропуски на 0 и приведем тип к целочисленному\n",
    "real['airports_nearest'] = real['airports_nearest'].fillna(0)\n",
    "real['airports_nearest'] = real['airports_nearest'].astype('int')\n",
    "# теперь создадим словарь-сводную таблицу, на основе которого потом будет работать функция\n",
    "airport_median = dict(real.pivot_table(index = 'locality_name', \n",
    "                                       values = 'airports_nearest', \n",
    "                                       aggfunc = 'median')['airports_nearest'])\n",
    "# напишем функцию для замены пропусков на медиану по населенному пункту\n",
    "def airport_func(row):\n",
    "    locality = row['locality_name']\n",
    "    airport_near_m = row['airports_nearest']\n",
    "    if airport_near_m == 0:\n",
    "        for key, value in airport_median.items():\n",
    "            if key in locality:\n",
    "                return value\n",
    "    return airport_near_m\n",
    "# применение функции и замена пропусков\n",
    "real['airports_nearest'] = real.apply(airport_func, axis = 1)"
   ]
  },
  {
   "cell_type": "markdown",
   "metadata": {},
   "source": [
    "Столбцы `parks_around_3km`, `parks_nearest`, `ponds_around_3km` и `ponds_nearest`: полагаю, эти данные тоже высчитываются системой автоматически, и здесь ничего не указывается по той причине, что в определенном радиусе от квартиры просто нет парков или водоемов. Думаю, здесь пропуски можно заменить на 0."
   ]
  },
  {
   "cell_type": "code",
   "execution_count": 12,
   "metadata": {},
   "outputs": [],
   "source": [
    "# замена пропусков в парках и водоемах\n",
    "real['parks_around_3km'] = real['parks_around_3km'].fillna(0)\n",
    "real['parks_nearest'] = real['parks_nearest'].fillna(0)\n",
    "real['ponds_around_3km'] = real['ponds_around_3km'].fillna(0)\n",
    "real['ponds_nearest'] = real['ponds_nearest'].fillna(0)"
   ]
  },
  {
   "cell_type": "markdown",
   "metadata": {},
   "source": [
    "`city_centers_nearest`: пропуски могут быть связаны с тем, что населенный пункт находится слишком далеко от центра Петербурга - других соображений пока что нет. Возможно, это особенности работы системы. Так или иначе, делать с этими пропусками нечего. Оставим как есть."
   ]
  },
  {
   "cell_type": "markdown",
   "metadata": {},
   "source": [
    "`ceiling_height`: возможно, некоторые люди не знают высоту потолков или не считают обязательным указывать эту информацию, поэтому данные отсутствуют. Минимальная высота потолков по СНиП равна 2,5 метра. Посмотрим, какая высота потолков встречается чаще всего, и заменим пропуски на это значение."
   ]
  },
  {
   "cell_type": "code",
   "execution_count": 13,
   "metadata": {
    "scrolled": true
   },
   "outputs": [
    {
     "data": {
      "text/plain": [
       "Text(0.5, 0, 'Высота в метрах')"
      ]
     },
     "execution_count": 13,
     "metadata": {},
     "output_type": "execute_result"
    },
    {
     "data": {
      "image/png": "[encoded data removed]",
      "text/plain": [
       "<Figure size 432x288 with 1 Axes>"
      ]
     },
     "metadata": {
      "needs_background": "light"
     },
     "output_type": "display_data"
    }
   ],
   "source": [
    "# визуализация частоты встречаемости высоты потолков\n",
    "real['ceiling_height'].hist(bins = 100, range = (1.5, 4.5))\n",
    "plt.title('Встречаемость высоты потолков')\n",
    "plt.ylabel('Количество квартир')\n",
    "plt.xlabel('Высота в метрах')"
   ]
  },
  {
   "cell_type": "markdown",
   "metadata": {},
   "source": [
    "Чаще всего потолки бывают высотой 2,75 метра. Заменяем пропуски."
   ]
  },
  {
   "cell_type": "code",
   "execution_count": 14,
   "metadata": {},
   "outputs": [],
   "source": [
    "# замена пропусков по высоте потолков\n",
    "real['ceiling_height'] = real['ceiling_height'].fillna(2.75)"
   ]
  },
  {
   "cell_type": "markdown",
   "metadata": {},
   "source": [
    "Столбцы `living_area` и `kitchen_area`: скорее всего, не требуется обязательно указывать площадь, поэтому есть пустые ячейки. Посмотрим, что можно с ними сделать.\n",
    "\n",
    "`living_area`: в этом столбце пропуски составляют всего 8%, но это важные данные, поэтому надо заполнить недостающую информацию. Медианой заполнять не станем, т.к. даже вдали от города могут быть большие квартиры. Можно посмотреть, есть ли корреляция между жилой и общей площадью, и заменить пропуски на отношение средней жилой площади к жилой площади по строке."
   ]
  },
  {
   "cell_type": "code",
   "execution_count": 15,
   "metadata": {
    "scrolled": true
   },
   "outputs": [
    {
     "data": {
      "text/plain": [
       "<matplotlib.axes._subplots.AxesSubplot at 0x7f2d3960fed0>"
      ]
     },
     "execution_count": 15,
     "metadata": {},
     "output_type": "execute_result"
    },
    {
     "data": {
      "image/png": "[encoded data removed]",
      "text/plain": [
       "<Figure size 432x288 with 1 Axes>"
      ]
     },
     "metadata": {
      "needs_background": "light"
     },
     "output_type": "display_data"
    }
   ],
   "source": [
    "# график зависимости жилой и общей площади\n",
    "real.plot(x = 'living_area', y = 'total_area', kind = 'scatter', grid = True) "
   ]
  },
  {
   "cell_type": "code",
   "execution_count": 16,
   "metadata": {},
   "outputs": [
    {
     "data": {
      "text/plain": [
       "0.9395559291835021"
      ]
     },
     "execution_count": 16,
     "metadata": {},
     "output_type": "execute_result"
    }
   ],
   "source": [
    "# проверка корреляции\n",
    "real['living_area'].corr(real['total_area'])"
   ]
  },
  {
   "cell_type": "markdown",
   "metadata": {},
   "source": [
    "График и корреляция говорят о том, что жилая и общая площадь сильно зависимы друг от друга. Можно производить замену."
   ]
  },
  {
   "cell_type": "code",
   "execution_count": 17,
   "metadata": {},
   "outputs": [],
   "source": [
    "living_area_median = (real['living_area'] / real['total_area']).median()\n",
    "real['living_area'] = real['living_area'].fillna(real['total_area'] * living_area_median)"
   ]
  },
  {
   "cell_type": "markdown",
   "metadata": {},
   "source": [
    "`kitchen_area`: надо выяснить, отсутствуют ли данные только по квартирам-студиям или по всей таблице. В студиях можно заменить площадь кухни на 0. В остальных квартирах можно поставить маркер пропуска (например, -1)."
   ]
  },
  {
   "cell_type": "code",
   "execution_count": 18,
   "metadata": {},
   "outputs": [
    {
     "name": "stdout",
     "output_type": "stream",
     "text": [
      "Количество пропусков по kitchen_area: 2274\n",
      "Количество пропусков по kitchen_area в студиях: 149\n"
     ]
    }
   ],
   "source": [
    "# проверка количества пропусков по площади кухни\n",
    "print('Количество пропусков по kitchen_area:', real['kitchen_area'].isna().sum())\n",
    "# проверка количества пропусков по площади кухни в студиях\n",
    "print('Количество пропусков по kitchen_area в студиях:',real.query('studio == True')['kitchen_area'].isna().sum())"
   ]
  },
  {
   "cell_type": "markdown",
   "metadata": {},
   "source": [
    "В квартирах-студиях пропусков немного. Заменим их на 0, в остальных квартирах на -1."
   ]
  },
  {
   "cell_type": "code",
   "execution_count": 19,
   "metadata": {},
   "outputs": [],
   "source": [
    "# замена пропусков на маркер\n",
    "real['kitchen_area'] = real['kitchen_area'].fillna(-1)"
   ]
  },
  {
   "cell_type": "code",
   "execution_count": 20,
   "metadata": {},
   "outputs": [
    {
     "data": {
      "text/html": [
       "<div>\n",
       "<style scoped>\n",
       "    .dataframe tbody tr th:only-of-type {\n",
       "        vertical-align: middle;\n",
       "    }\n",
       "\n",
       "    .dataframe tbody tr th {\n",
       "        vertical-align: top;\n",
       "    }\n",
       "\n",
       "    .dataframe thead th {\n",
       "        text-align: right;\n",
       "    }\n",
       "</style>\n",
       "<table border=\"1\" class=\"dataframe\">\n",
       "  <thead>\n",
       "    <tr style=\"text-align: right;\">\n",
       "      <th></th>\n",
       "      <th>total_images</th>\n",
       "      <th>last_price</th>\n",
       "      <th>total_area</th>\n",
       "      <th>first_day_exposition</th>\n",
       "      <th>rooms</th>\n",
       "      <th>ceiling_height</th>\n",
       "      <th>floors_total</th>\n",
       "      <th>living_area</th>\n",
       "      <th>floor</th>\n",
       "      <th>is_apartment</th>\n",
       "      <th>...</th>\n",
       "      <th>kitchen_area</th>\n",
       "      <th>balcony</th>\n",
       "      <th>locality_name</th>\n",
       "      <th>airports_nearest</th>\n",
       "      <th>city_centers_nearest</th>\n",
       "      <th>parks_around_3km</th>\n",
       "      <th>parks_nearest</th>\n",
       "      <th>ponds_around_3km</th>\n",
       "      <th>ponds_nearest</th>\n",
       "      <th>days_exposition</th>\n",
       "    </tr>\n",
       "  </thead>\n",
       "  <tbody>\n",
       "    <tr>\n",
       "      <td>144</td>\n",
       "      <td>1</td>\n",
       "      <td>2450000.0</td>\n",
       "      <td>27.00</td>\n",
       "      <td>2017-03-30T00:00:00</td>\n",
       "      <td>0</td>\n",
       "      <td>2.75</td>\n",
       "      <td>24.0</td>\n",
       "      <td>15.500000</td>\n",
       "      <td>2</td>\n",
       "      <td>False</td>\n",
       "      <td>...</td>\n",
       "      <td>0.0</td>\n",
       "      <td>2.0</td>\n",
       "      <td>посёлок Мурино</td>\n",
       "      <td>0.0</td>\n",
       "      <td>NaN</td>\n",
       "      <td>0.0</td>\n",
       "      <td>0.0</td>\n",
       "      <td>0.0</td>\n",
       "      <td>0.0</td>\n",
       "      <td>181.0</td>\n",
       "    </tr>\n",
       "    <tr>\n",
       "      <td>440</td>\n",
       "      <td>8</td>\n",
       "      <td>2480000.0</td>\n",
       "      <td>27.11</td>\n",
       "      <td>2018-03-12T00:00:00</td>\n",
       "      <td>0</td>\n",
       "      <td>2.75</td>\n",
       "      <td>17.0</td>\n",
       "      <td>24.750000</td>\n",
       "      <td>4</td>\n",
       "      <td>False</td>\n",
       "      <td>...</td>\n",
       "      <td>0.0</td>\n",
       "      <td>2.0</td>\n",
       "      <td>Санкт-Петербург</td>\n",
       "      <td>38171.0</td>\n",
       "      <td>15015.0</td>\n",
       "      <td>0.0</td>\n",
       "      <td>0.0</td>\n",
       "      <td>2.0</td>\n",
       "      <td>982.0</td>\n",
       "      <td>64.0</td>\n",
       "    </tr>\n",
       "    <tr>\n",
       "      <td>608</td>\n",
       "      <td>2</td>\n",
       "      <td>1850000.0</td>\n",
       "      <td>25.00</td>\n",
       "      <td>2019-02-20T00:00:00</td>\n",
       "      <td>0</td>\n",
       "      <td>2.75</td>\n",
       "      <td>10.0</td>\n",
       "      <td>14.199656</td>\n",
       "      <td>7</td>\n",
       "      <td>False</td>\n",
       "      <td>...</td>\n",
       "      <td>0.0</td>\n",
       "      <td>0.0</td>\n",
       "      <td>посёлок Шушары</td>\n",
       "      <td>17380.5</td>\n",
       "      <td>NaN</td>\n",
       "      <td>0.0</td>\n",
       "      <td>0.0</td>\n",
       "      <td>0.0</td>\n",
       "      <td>0.0</td>\n",
       "      <td>29.0</td>\n",
       "    </tr>\n",
       "    <tr>\n",
       "      <td>697</td>\n",
       "      <td>12</td>\n",
       "      <td>2500000.0</td>\n",
       "      <td>24.10</td>\n",
       "      <td>2017-12-01T00:00:00</td>\n",
       "      <td>0</td>\n",
       "      <td>2.75</td>\n",
       "      <td>25.0</td>\n",
       "      <td>17.500000</td>\n",
       "      <td>21</td>\n",
       "      <td>False</td>\n",
       "      <td>...</td>\n",
       "      <td>0.0</td>\n",
       "      <td>0.0</td>\n",
       "      <td>деревня Кудрово</td>\n",
       "      <td>0.0</td>\n",
       "      <td>NaN</td>\n",
       "      <td>0.0</td>\n",
       "      <td>0.0</td>\n",
       "      <td>0.0</td>\n",
       "      <td>0.0</td>\n",
       "      <td>201.0</td>\n",
       "    </tr>\n",
       "    <tr>\n",
       "      <td>716</td>\n",
       "      <td>5</td>\n",
       "      <td>1500000.0</td>\n",
       "      <td>17.00</td>\n",
       "      <td>2017-06-07T00:00:00</td>\n",
       "      <td>0</td>\n",
       "      <td>2.70</td>\n",
       "      <td>9.0</td>\n",
       "      <td>12.000000</td>\n",
       "      <td>1</td>\n",
       "      <td>False</td>\n",
       "      <td>...</td>\n",
       "      <td>0.0</td>\n",
       "      <td>0.0</td>\n",
       "      <td>посёлок Шушары</td>\n",
       "      <td>18654.0</td>\n",
       "      <td>29846.0</td>\n",
       "      <td>0.0</td>\n",
       "      <td>0.0</td>\n",
       "      <td>0.0</td>\n",
       "      <td>0.0</td>\n",
       "      <td>40.0</td>\n",
       "    </tr>\n",
       "    <tr>\n",
       "      <td>...</td>\n",
       "      <td>...</td>\n",
       "      <td>...</td>\n",
       "      <td>...</td>\n",
       "      <td>...</td>\n",
       "      <td>...</td>\n",
       "      <td>...</td>\n",
       "      <td>...</td>\n",
       "      <td>...</td>\n",
       "      <td>...</td>\n",
       "      <td>...</td>\n",
       "      <td>...</td>\n",
       "      <td>...</td>\n",
       "      <td>...</td>\n",
       "      <td>...</td>\n",
       "      <td>...</td>\n",
       "      <td>...</td>\n",
       "      <td>...</td>\n",
       "      <td>...</td>\n",
       "      <td>...</td>\n",
       "      <td>...</td>\n",
       "      <td>...</td>\n",
       "    </tr>\n",
       "    <tr>\n",
       "      <td>22848</td>\n",
       "      <td>8</td>\n",
       "      <td>3090000.0</td>\n",
       "      <td>30.00</td>\n",
       "      <td>2017-12-17T00:00:00</td>\n",
       "      <td>0</td>\n",
       "      <td>2.75</td>\n",
       "      <td>25.0</td>\n",
       "      <td>18.200000</td>\n",
       "      <td>5</td>\n",
       "      <td>False</td>\n",
       "      <td>...</td>\n",
       "      <td>0.0</td>\n",
       "      <td>0.0</td>\n",
       "      <td>Санкт-Петербург</td>\n",
       "      <td>35250.0</td>\n",
       "      <td>16414.0</td>\n",
       "      <td>0.0</td>\n",
       "      <td>0.0</td>\n",
       "      <td>1.0</td>\n",
       "      <td>400.0</td>\n",
       "      <td>211.0</td>\n",
       "    </tr>\n",
       "    <tr>\n",
       "      <td>22858</td>\n",
       "      <td>2</td>\n",
       "      <td>4280000.0</td>\n",
       "      <td>28.00</td>\n",
       "      <td>2017-10-26T00:00:00</td>\n",
       "      <td>0</td>\n",
       "      <td>2.70</td>\n",
       "      <td>19.0</td>\n",
       "      <td>18.000000</td>\n",
       "      <td>10</td>\n",
       "      <td>False</td>\n",
       "      <td>...</td>\n",
       "      <td>0.0</td>\n",
       "      <td>0.0</td>\n",
       "      <td>Санкт-Петербург</td>\n",
       "      <td>18982.0</td>\n",
       "      <td>7206.0</td>\n",
       "      <td>0.0</td>\n",
       "      <td>0.0</td>\n",
       "      <td>1.0</td>\n",
       "      <td>415.0</td>\n",
       "      <td>151.0</td>\n",
       "    </tr>\n",
       "    <tr>\n",
       "      <td>23190</td>\n",
       "      <td>7</td>\n",
       "      <td>3200000.0</td>\n",
       "      <td>26.00</td>\n",
       "      <td>2017-09-01T00:00:00</td>\n",
       "      <td>0</td>\n",
       "      <td>2.75</td>\n",
       "      <td>25.0</td>\n",
       "      <td>18.000000</td>\n",
       "      <td>16</td>\n",
       "      <td>False</td>\n",
       "      <td>...</td>\n",
       "      <td>0.0</td>\n",
       "      <td>0.0</td>\n",
       "      <td>Санкт-Петербург</td>\n",
       "      <td>11405.0</td>\n",
       "      <td>13222.0</td>\n",
       "      <td>0.0</td>\n",
       "      <td>0.0</td>\n",
       "      <td>1.0</td>\n",
       "      <td>623.0</td>\n",
       "      <td>14.0</td>\n",
       "    </tr>\n",
       "    <tr>\n",
       "      <td>23534</td>\n",
       "      <td>15</td>\n",
       "      <td>3350000.0</td>\n",
       "      <td>26.00</td>\n",
       "      <td>2018-09-07T00:00:00</td>\n",
       "      <td>0</td>\n",
       "      <td>2.75</td>\n",
       "      <td>19.0</td>\n",
       "      <td>14.767642</td>\n",
       "      <td>8</td>\n",
       "      <td>False</td>\n",
       "      <td>...</td>\n",
       "      <td>0.0</td>\n",
       "      <td>0.0</td>\n",
       "      <td>Санкт-Петербург</td>\n",
       "      <td>18090.0</td>\n",
       "      <td>17092.0</td>\n",
       "      <td>0.0</td>\n",
       "      <td>0.0</td>\n",
       "      <td>2.0</td>\n",
       "      <td>112.0</td>\n",
       "      <td>31.0</td>\n",
       "    </tr>\n",
       "    <tr>\n",
       "      <td>23617</td>\n",
       "      <td>8</td>\n",
       "      <td>2350000.0</td>\n",
       "      <td>26.00</td>\n",
       "      <td>2018-06-26T00:00:00</td>\n",
       "      <td>0</td>\n",
       "      <td>2.75</td>\n",
       "      <td>25.0</td>\n",
       "      <td>17.000000</td>\n",
       "      <td>4</td>\n",
       "      <td>False</td>\n",
       "      <td>...</td>\n",
       "      <td>0.0</td>\n",
       "      <td>2.0</td>\n",
       "      <td>посёлок Бугры</td>\n",
       "      <td>0.0</td>\n",
       "      <td>NaN</td>\n",
       "      <td>0.0</td>\n",
       "      <td>0.0</td>\n",
       "      <td>0.0</td>\n",
       "      <td>0.0</td>\n",
       "      <td>207.0</td>\n",
       "    </tr>\n",
       "  </tbody>\n",
       "</table>\n",
       "<p>149 rows × 22 columns</p>\n",
       "</div>"
      ],
      "text/plain": [
       "       total_images  last_price  total_area first_day_exposition  rooms  \\\n",
       "144               1   2450000.0       27.00  2017-03-30T00:00:00      0   \n",
       "440               8   2480000.0       27.11  2018-03-12T00:00:00      0   \n",
       "608               2   1850000.0       25.00  2019-02-20T00:00:00      0   \n",
       "697              12   2500000.0       24.10  2017-12-01T00:00:00      0   \n",
       "716               5   1500000.0       17.00  2017-06-07T00:00:00      0   \n",
       "...             ...         ...         ...                  ...    ...   \n",
       "22848             8   3090000.0       30.00  2017-12-17T00:00:00      0   \n",
       "22858             2   4280000.0       28.00  2017-10-26T00:00:00      0   \n",
       "23190             7   3200000.0       26.00  2017-09-01T00:00:00      0   \n",
       "23534            15   3350000.0       26.00  2018-09-07T00:00:00      0   \n",
       "23617             8   2350000.0       26.00  2018-06-26T00:00:00      0   \n",
       "\n",
       "       ceiling_height  floors_total  living_area  floor  is_apartment  ...  \\\n",
       "144              2.75          24.0    15.500000      2         False  ...   \n",
       "440              2.75          17.0    24.750000      4         False  ...   \n",
       "608              2.75          10.0    14.199656      7         False  ...   \n",
       "697              2.75          25.0    17.500000     21         False  ...   \n",
       "716              2.70           9.0    12.000000      1         False  ...   \n",
       "...               ...           ...          ...    ...           ...  ...   \n",
       "22848            2.75          25.0    18.200000      5         False  ...   \n",
       "22858            2.70          19.0    18.000000     10         False  ...   \n",
       "23190            2.75          25.0    18.000000     16         False  ...   \n",
       "23534            2.75          19.0    14.767642      8         False  ...   \n",
       "23617            2.75          25.0    17.000000      4         False  ...   \n",
       "\n",
       "       kitchen_area  balcony    locality_name  airports_nearest  \\\n",
       "144             0.0      2.0   посёлок Мурино               0.0   \n",
       "440             0.0      2.0  Санкт-Петербург           38171.0   \n",
       "608             0.0      0.0   посёлок Шушары           17380.5   \n",
       "697             0.0      0.0  деревня Кудрово               0.0   \n",
       "716             0.0      0.0   посёлок Шушары           18654.0   \n",
       "...             ...      ...              ...               ...   \n",
       "22848           0.0      0.0  Санкт-Петербург           35250.0   \n",
       "22858           0.0      0.0  Санкт-Петербург           18982.0   \n",
       "23190           0.0      0.0  Санкт-Петербург           11405.0   \n",
       "23534           0.0      0.0  Санкт-Петербург           18090.0   \n",
       "23617           0.0      2.0    посёлок Бугры               0.0   \n",
       "\n",
       "      city_centers_nearest  parks_around_3km  parks_nearest  ponds_around_3km  \\\n",
       "144                    NaN               0.0            0.0               0.0   \n",
       "440                15015.0               0.0            0.0               2.0   \n",
       "608                    NaN               0.0            0.0               0.0   \n",
       "697                    NaN               0.0            0.0               0.0   \n",
       "716                29846.0               0.0            0.0               0.0   \n",
       "...                    ...               ...            ...               ...   \n",
       "22848              16414.0               0.0            0.0               1.0   \n",
       "22858               7206.0               0.0            0.0               1.0   \n",
       "23190              13222.0               0.0            0.0               1.0   \n",
       "23534              17092.0               0.0            0.0               2.0   \n",
       "23617                  NaN               0.0            0.0               0.0   \n",
       "\n",
       "       ponds_nearest  days_exposition  \n",
       "144              0.0            181.0  \n",
       "440            982.0             64.0  \n",
       "608              0.0             29.0  \n",
       "697              0.0            201.0  \n",
       "716              0.0             40.0  \n",
       "...              ...              ...  \n",
       "22848          400.0            211.0  \n",
       "22858          415.0            151.0  \n",
       "23190          623.0             14.0  \n",
       "23534          112.0             31.0  \n",
       "23617            0.0            207.0  \n",
       "\n",
       "[149 rows x 22 columns]"
      ]
     },
     "execution_count": 20,
     "metadata": {},
     "output_type": "execute_result"
    }
   ],
   "source": [
    "# замена значений площади кухни в студиях\n",
    "real.loc[real['studio'] == True, 'kitchen_area'] = 0\n",
    "# проверка замены\n",
    "real.loc[real['studio'] == True]"
   ]
  },
  {
   "cell_type": "markdown",
   "metadata": {},
   "source": [
    "Осталось только проверить количество пропусков после всех изменений."
   ]
  },
  {
   "cell_type": "code",
   "execution_count": 21,
   "metadata": {
    "scrolled": false
   },
   "outputs": [
    {
     "data": {
      "text/plain": [
       "total_images               0\n",
       "last_price                 0\n",
       "total_area                 0\n",
       "first_day_exposition       0\n",
       "rooms                      0\n",
       "ceiling_height             0\n",
       "floors_total               0\n",
       "living_area                0\n",
       "floor                      0\n",
       "is_apartment               0\n",
       "studio                     0\n",
       "open_plan                  0\n",
       "kitchen_area               0\n",
       "balcony                    0\n",
       "locality_name              0\n",
       "airports_nearest           0\n",
       "city_centers_nearest    5511\n",
       "parks_around_3km           0\n",
       "parks_nearest              0\n",
       "ponds_around_3km           0\n",
       "ponds_nearest              0\n",
       "days_exposition         3180\n",
       "dtype: int64"
      ]
     },
     "execution_count": 21,
     "metadata": {},
     "output_type": "execute_result"
    }
   ],
   "source": [
    "# проверка пропусков после заполнения\n",
    "real.isna().sum()"
   ]
  },
  {
   "cell_type": "markdown",
   "metadata": {},
   "source": [
    "Пропусков не осталось. Теперь необходимо привести данные к нужным типам, как было решено на этапе изучения данных."
   ]
  },
  {
   "cell_type": "code",
   "execution_count": 22,
   "metadata": {},
   "outputs": [],
   "source": [
    "# замена типа в столбце с датой\n",
    "real['first_day_exposition'] = pd.to_datetime(real['first_day_exposition'], format = '%Y-%m-%dT%H:%M:%S')\n",
    "# замена типов в остальных столбцах\n",
    "real['balcony'] = real['balcony'].astype(int)\n",
    "real['parks_around_3km'] = real['parks_around_3km'].astype(int)\n",
    "real['ponds_around_3km'] = real['ponds_around_3km'].astype(int)\n",
    "real['parks_nearest'] = real['parks_nearest'].astype(int)\n",
    "real['ponds_nearest'] = real['ponds_nearest'].astype(int)\n",
    "# деление данных с ценой на 1000 для удобства восприятия\n",
    "real['last_price'] = (real['last_price']/1000*1.0).round().astype(int)"
   ]
  },
  {
   "cell_type": "markdown",
   "metadata": {},
   "source": [
    "### Вывод"
   ]
  },
  {
   "cell_type": "markdown",
   "metadata": {},
   "source": [
    "В данных было много пропусков, без заполнения которых при последующем анализе постоянно появлялись бы разные ошибки, как вычислительные, так и программные. Без работы с пропусками никак нельзя было идти дальше, но теперь нас ничто не останавливает. Данные в порядке."
   ]
  },
  {
   "cell_type": "markdown",
   "metadata": {},
   "source": [
    "## Расчёты и добавление результатов в таблицу"
   ]
  },
  {
   "cell_type": "markdown",
   "metadata": {},
   "source": [
    "Нам нужно посчитать и добавить в таблицу\n",
    "\n",
    "* цену квадратного метра;\n",
    "\n",
    "* день недели, месяц и год публикации объявления;\n",
    "\n",
    "* этаж квартиры; варианты — первый, последний, другой;\n",
    "\n",
    "* соотношение жилой и общей площади, а также отношение площади кухни к общей."
   ]
  },
  {
   "cell_type": "code",
   "execution_count": 23,
   "metadata": {
    "scrolled": false
   },
   "outputs": [
    {
     "data": {
      "text/html": [
       "<div>\n",
       "<style scoped>\n",
       "    .dataframe tbody tr th:only-of-type {\n",
       "        vertical-align: middle;\n",
       "    }\n",
       "\n",
       "    .dataframe tbody tr th {\n",
       "        vertical-align: top;\n",
       "    }\n",
       "\n",
       "    .dataframe thead th {\n",
       "        text-align: right;\n",
       "    }\n",
       "</style>\n",
       "<table border=\"1\" class=\"dataframe\">\n",
       "  <thead>\n",
       "    <tr style=\"text-align: right;\">\n",
       "      <th></th>\n",
       "      <th>total_images</th>\n",
       "      <th>last_price</th>\n",
       "      <th>total_area</th>\n",
       "      <th>first_day_exposition</th>\n",
       "      <th>rooms</th>\n",
       "      <th>ceiling_height</th>\n",
       "      <th>floors_total</th>\n",
       "      <th>living_area</th>\n",
       "      <th>floor</th>\n",
       "      <th>is_apartment</th>\n",
       "      <th>...</th>\n",
       "      <th>ponds_around_3km</th>\n",
       "      <th>ponds_nearest</th>\n",
       "      <th>days_exposition</th>\n",
       "      <th>price_m2</th>\n",
       "      <th>day_exposition</th>\n",
       "      <th>month_exposition</th>\n",
       "      <th>year_exposition</th>\n",
       "      <th>floor_number</th>\n",
       "      <th>living_total_ratio</th>\n",
       "      <th>kitchen_total_ratio</th>\n",
       "    </tr>\n",
       "  </thead>\n",
       "  <tbody>\n",
       "    <tr>\n",
       "      <td>0</td>\n",
       "      <td>20</td>\n",
       "      <td>13000</td>\n",
       "      <td>108.0</td>\n",
       "      <td>2019-03-07</td>\n",
       "      <td>3</td>\n",
       "      <td>2.70</td>\n",
       "      <td>16.0</td>\n",
       "      <td>51.000000</td>\n",
       "      <td>8</td>\n",
       "      <td>False</td>\n",
       "      <td>...</td>\n",
       "      <td>2</td>\n",
       "      <td>755</td>\n",
       "      <td>NaN</td>\n",
       "      <td>120</td>\n",
       "      <td>3</td>\n",
       "      <td>3</td>\n",
       "      <td>2019</td>\n",
       "      <td>другой</td>\n",
       "      <td>0.472222</td>\n",
       "      <td>0.231481</td>\n",
       "    </tr>\n",
       "    <tr>\n",
       "      <td>1</td>\n",
       "      <td>7</td>\n",
       "      <td>3350</td>\n",
       "      <td>40.4</td>\n",
       "      <td>2018-12-04</td>\n",
       "      <td>1</td>\n",
       "      <td>2.75</td>\n",
       "      <td>11.0</td>\n",
       "      <td>18.600000</td>\n",
       "      <td>1</td>\n",
       "      <td>False</td>\n",
       "      <td>...</td>\n",
       "      <td>0</td>\n",
       "      <td>0</td>\n",
       "      <td>81.0</td>\n",
       "      <td>82</td>\n",
       "      <td>1</td>\n",
       "      <td>12</td>\n",
       "      <td>2018</td>\n",
       "      <td>первый</td>\n",
       "      <td>0.460396</td>\n",
       "      <td>0.272277</td>\n",
       "    </tr>\n",
       "    <tr>\n",
       "      <td>2</td>\n",
       "      <td>10</td>\n",
       "      <td>5196</td>\n",
       "      <td>56.0</td>\n",
       "      <td>2015-08-20</td>\n",
       "      <td>2</td>\n",
       "      <td>2.75</td>\n",
       "      <td>5.0</td>\n",
       "      <td>34.300000</td>\n",
       "      <td>4</td>\n",
       "      <td>False</td>\n",
       "      <td>...</td>\n",
       "      <td>2</td>\n",
       "      <td>574</td>\n",
       "      <td>558.0</td>\n",
       "      <td>92</td>\n",
       "      <td>3</td>\n",
       "      <td>8</td>\n",
       "      <td>2015</td>\n",
       "      <td>другой</td>\n",
       "      <td>0.612500</td>\n",
       "      <td>0.148214</td>\n",
       "    </tr>\n",
       "    <tr>\n",
       "      <td>3</td>\n",
       "      <td>0</td>\n",
       "      <td>64900</td>\n",
       "      <td>159.0</td>\n",
       "      <td>2015-07-24</td>\n",
       "      <td>3</td>\n",
       "      <td>2.75</td>\n",
       "      <td>14.0</td>\n",
       "      <td>90.309811</td>\n",
       "      <td>9</td>\n",
       "      <td>False</td>\n",
       "      <td>...</td>\n",
       "      <td>3</td>\n",
       "      <td>234</td>\n",
       "      <td>424.0</td>\n",
       "      <td>408</td>\n",
       "      <td>4</td>\n",
       "      <td>7</td>\n",
       "      <td>2015</td>\n",
       "      <td>другой</td>\n",
       "      <td>0.567986</td>\n",
       "      <td>-0.006289</td>\n",
       "    </tr>\n",
       "    <tr>\n",
       "      <td>4</td>\n",
       "      <td>2</td>\n",
       "      <td>10000</td>\n",
       "      <td>100.0</td>\n",
       "      <td>2018-06-19</td>\n",
       "      <td>2</td>\n",
       "      <td>3.03</td>\n",
       "      <td>14.0</td>\n",
       "      <td>32.000000</td>\n",
       "      <td>13</td>\n",
       "      <td>False</td>\n",
       "      <td>...</td>\n",
       "      <td>1</td>\n",
       "      <td>48</td>\n",
       "      <td>121.0</td>\n",
       "      <td>100</td>\n",
       "      <td>1</td>\n",
       "      <td>6</td>\n",
       "      <td>2018</td>\n",
       "      <td>другой</td>\n",
       "      <td>0.320000</td>\n",
       "      <td>0.410000</td>\n",
       "    </tr>\n",
       "  </tbody>\n",
       "</table>\n",
       "<p>5 rows × 29 columns</p>\n",
       "</div>"
      ],
      "text/plain": [
       "   total_images  last_price  total_area first_day_exposition  rooms  \\\n",
       "0            20       13000       108.0           2019-03-07      3   \n",
       "1             7        3350        40.4           2018-12-04      1   \n",
       "2            10        5196        56.0           2015-08-20      2   \n",
       "3             0       64900       159.0           2015-07-24      3   \n",
       "4             2       10000       100.0           2018-06-19      2   \n",
       "\n",
       "   ceiling_height  floors_total  living_area  floor  is_apartment  ...  \\\n",
       "0            2.70          16.0    51.000000      8         False  ...   \n",
       "1            2.75          11.0    18.600000      1         False  ...   \n",
       "2            2.75           5.0    34.300000      4         False  ...   \n",
       "3            2.75          14.0    90.309811      9         False  ...   \n",
       "4            3.03          14.0    32.000000     13         False  ...   \n",
       "\n",
       "   ponds_around_3km  ponds_nearest  days_exposition  price_m2 day_exposition  \\\n",
       "0                 2            755              NaN       120              3   \n",
       "1                 0              0             81.0        82              1   \n",
       "2                 2            574            558.0        92              3   \n",
       "3                 3            234            424.0       408              4   \n",
       "4                 1             48            121.0       100              1   \n",
       "\n",
       "   month_exposition  year_exposition  floor_number  living_total_ratio  \\\n",
       "0                 3             2019        другой            0.472222   \n",
       "1                12             2018        первый            0.460396   \n",
       "2                 8             2015        другой            0.612500   \n",
       "3                 7             2015        другой            0.567986   \n",
       "4                 6             2018        другой            0.320000   \n",
       "\n",
       "   kitchen_total_ratio  \n",
       "0             0.231481  \n",
       "1             0.272277  \n",
       "2             0.148214  \n",
       "3            -0.006289  \n",
       "4             0.410000  \n",
       "\n",
       "[5 rows x 29 columns]"
      ]
     },
     "execution_count": 23,
     "metadata": {},
     "output_type": "execute_result"
    }
   ],
   "source": [
    "# расчет цены квадратного метра: делим цену квартиры на ее общую площадь\n",
    "real['price_m2'] = real['last_price']/real['total_area']\n",
    "# для удобства приведем к целочисленному типу\n",
    "real['price_m2'] = real['price_m2'].astype(int)\n",
    "\n",
    "# добавление дня недели, месяца и года публикации объявления\n",
    "real['day_exposition']  = real['first_day_exposition'].dt.weekday\n",
    "real['month_exposition']  = real['first_day_exposition'].dt.month\n",
    "real['year_exposition']  = real['first_day_exposition'].dt.year\n",
    "\n",
    "# создание функции, определяющей этаж квартиры\n",
    "def floor_number(row):\n",
    "    floor = row['floor']\n",
    "    if floor == 1:\n",
    "        return('первый')\n",
    "    elif floor == row['floors_total']:\n",
    "        return('последний')\n",
    "    return('другой')\n",
    "# добавление столбца с указанием этажа\n",
    "real['floor_number'] = real.apply(floor_number, axis = 1)\n",
    "\n",
    "# добавление столбцов с соотношением площадей\n",
    "real['living_total_ratio'] = real['living_area'] / real['total_area']\n",
    "real['kitchen_total_ratio'] = real['kitchen_area'] / real['total_area']\n",
    "\n",
    "# проверка всех изменений\n",
    "real.head()"
   ]
  },
  {
   "cell_type": "markdown",
   "metadata": {},
   "source": [
    "Все получилось."
   ]
  },
  {
   "cell_type": "markdown",
   "metadata": {},
   "source": [
    "### Вывод"
   ]
  },
  {
   "cell_type": "markdown",
   "metadata": {},
   "source": [
    "Все необходимые данные добавлены в таблицу, соответствующие столбцы созданы. Они облегчат дальнейший анализ."
   ]
  },
  {
   "cell_type": "markdown",
   "metadata": {},
   "source": [
    "## Исследовательский анализ данных"
   ]
  },
  {
   "cell_type": "markdown",
   "metadata": {},
   "source": [
    "Первое задание: \n",
    "\n",
    "* изучить площадь, цену, число комнат, высоту потолков; \n",
    "* построить гистограммы для каждого параметра."
   ]
  },
  {
   "cell_type": "code",
   "execution_count": 24,
   "metadata": {},
   "outputs": [],
   "source": [
    "# создание функций для всех будущих графиков\n",
    "def hist_func(column, xmin, xmax):\n",
    "    real[column].hist(bins = 60, range = (xmin, xmax))\n",
    "\n",
    "def boxplot_func(column, ymin = -5, ymax = 200):\n",
    "    plt.ylim(ymin, ymax)\n",
    "    real.boxplot(column)"
   ]
  },
  {
   "cell_type": "markdown",
   "metadata": {},
   "source": [
    "Начнем с анализа общей площади."
   ]
  },
  {
   "cell_type": "code",
   "execution_count": 25,
   "metadata": {},
   "outputs": [
    {
     "data": {
      "text/plain": [
       "count    23679.000000\n",
       "mean        60.342856\n",
       "std         35.656865\n",
       "min         12.000000\n",
       "25%         40.000000\n",
       "50%         52.000000\n",
       "75%         69.800000\n",
       "max        900.000000\n",
       "Name: total_area, dtype: float64"
      ]
     },
     "execution_count": 25,
     "metadata": {},
     "output_type": "execute_result"
    }
   ],
   "source": [
    "# вывод описательной статистики \n",
    "real['total_area'].describe()"
   ]
  },
  {
   "cell_type": "markdown",
   "metadata": {},
   "source": [
    "Построим графики."
   ]
  },
  {
   "cell_type": "code",
   "execution_count": 26,
   "metadata": {
    "scrolled": true
   },
   "outputs": [
    {
     "data": {
      "image/png": "[encoded data removed]",
      "text/plain": [
       "<Figure size 432x288 with 1 Axes>"
      ]
     },
     "metadata": {
      "needs_background": "light"
     },
     "output_type": "display_data"
    }
   ],
   "source": [
    "# гистограмма\n",
    "hist_func('total_area', 0, 250)"
   ]
  },
  {
   "cell_type": "code",
   "execution_count": 27,
   "metadata": {},
   "outputs": [
    {
     "data": {
      "image/png": "[encoded data removed]",
      "text/plain": [
       "<Figure size 432x288 with 1 Axes>"
      ]
     },
     "metadata": {
      "needs_background": "light"
     },
     "output_type": "display_data"
    }
   ],
   "source": [
    "# ящик с усами\n",
    "boxplot_func('total_area')"
   ]
  },
  {
   "cell_type": "markdown",
   "metadata": {},
   "source": [
    "Нормальный диапазон площади квартир - от 12 до 115 кв.м. (примерно). Наибольшее количество квартир имеет площадь 25-60 кв.м. Есть квартиры площадью до 900 кв.м., но таких немного и они считаются выбросами. Есть мощный пик у значения 45 кв.м., далее число квартир с большей площадью стремительно убывает. Средним значением можно считать площадь 52 кв.м.\n",
    "\n",
    "Необходимо избавиться от выбивающихся значений."
   ]
  },
  {
   "cell_type": "code",
   "execution_count": 28,
   "metadata": {},
   "outputs": [],
   "source": [
    "# фильтрация данных\n",
    "real = real.query('total_area <= 115')"
   ]
  },
  {
   "cell_type": "markdown",
   "metadata": {},
   "source": [
    "Теперь изучим цену в объявлениях."
   ]
  },
  {
   "cell_type": "code",
   "execution_count": 29,
   "metadata": {},
   "outputs": [
    {
     "data": {
      "text/plain": [
       "count    22463.000000\n",
       "mean      5316.210346\n",
       "std       3412.450767\n",
       "min         12.000000\n",
       "25%       3369.500000\n",
       "50%       4500.000000\n",
       "75%       6300.000000\n",
       "max      82000.000000\n",
       "Name: last_price, dtype: float64"
      ]
     },
     "execution_count": 29,
     "metadata": {},
     "output_type": "execute_result"
    }
   ],
   "source": [
    "# вывод описательной статистики \n",
    "# данные с ценой в тысячах\n",
    "real['last_price'].describe()"
   ]
  },
  {
   "cell_type": "code",
   "execution_count": 30,
   "metadata": {},
   "outputs": [
    {
     "data": {
      "image/png": "[encoded data removed]",
      "text/plain": [
       "<Figure size 432x288 with 1 Axes>"
      ]
     },
     "metadata": {
      "needs_background": "light"
     },
     "output_type": "display_data"
    }
   ],
   "source": [
    "# гистограмма\n",
    "# данные в тысячах\n",
    "hist_func('last_price', 0, 15000)"
   ]
  },
  {
   "cell_type": "code",
   "execution_count": 31,
   "metadata": {},
   "outputs": [
    {
     "data": {
      "image/png": "[encoded data removed]",
      "text/plain": [
       "<Figure size 432x288 with 1 Axes>"
      ]
     },
     "metadata": {
      "needs_background": "light"
     },
     "output_type": "display_data"
    }
   ],
   "source": [
    "# ящик с усами\n",
    "# данные в тысячах\n",
    "boxplot_func('last_price', -1000, 12000)"
   ]
  },
  {
   "cell_type": "markdown",
   "metadata": {},
   "source": [
    "Нормальный диапазон цены - от 0 до 10,5 млн. Странно, что кто-то может продавать квартиры слишком уж дешево (минимальная цена равна 12 тысячам). Необходимо будет проверить, много ли объявлений с маленькой ценой, и избавиться от них.\n",
    "\n",
    "Наибольшее количество квартир продается за 3-5,5 млн. Пик приходится примерно на 4 млн. Самая дорогая квартира продается за 763 миллиона (кто-то живет в роскоши?). Квартир с ценой больше 8-9 млн становится все меньше. Средним значением будем считать 4,65 млн рублей.\n",
    "\n",
    "Избавляемся от выбросов."
   ]
  },
  {
   "cell_type": "code",
   "execution_count": 32,
   "metadata": {},
   "outputs": [],
   "source": [
    "# фильтрация данных\n",
    "real = real.query('last_price <= 10500')"
   ]
  },
  {
   "cell_type": "markdown",
   "metadata": {},
   "source": [
    "Проанализируем количество комнат в продаваемых квартирах."
   ]
  },
  {
   "cell_type": "code",
   "execution_count": 33,
   "metadata": {},
   "outputs": [
    {
     "data": {
      "text/plain": [
       "count    21047.000000\n",
       "mean         1.898180\n",
       "std          0.885458\n",
       "min          0.000000\n",
       "25%          1.000000\n",
       "50%          2.000000\n",
       "75%          3.000000\n",
       "max          6.000000\n",
       "Name: rooms, dtype: float64"
      ]
     },
     "execution_count": 33,
     "metadata": {},
     "output_type": "execute_result"
    }
   ],
   "source": [
    "# вывод описательной статистики\n",
    "real['rooms'].describe()"
   ]
  },
  {
   "cell_type": "code",
   "execution_count": 34,
   "metadata": {},
   "outputs": [
    {
     "data": {
      "image/png": "[encoded data removed]",
      "text/plain": [
       "<Figure size 432x288 with 1 Axes>"
      ]
     },
     "metadata": {
      "needs_background": "light"
     },
     "output_type": "display_data"
    }
   ],
   "source": [
    "# гистограмма\n",
    "hist_func('rooms', 0, 10)"
   ]
  },
  {
   "cell_type": "code",
   "execution_count": 35,
   "metadata": {},
   "outputs": [
    {
     "data": {
      "image/png": "[encoded data removed]",
      "text/plain": [
       "<Figure size 432x288 with 1 Axes>"
      ]
     },
     "metadata": {
      "needs_background": "light"
     },
     "output_type": "display_data"
    }
   ],
   "source": [
    "# ящик с усами\n",
    "boxplot_func('rooms', -1, 10)"
   ]
  },
  {
   "cell_type": "markdown",
   "metadata": {},
   "source": [
    "Есть минимальное значение - 0 комнат в квартире. Необходимо проверить, студии ли это.\n",
    "\n",
    "Средним значением можно считать 2 комнаты. В большинстве квартир 1-3 комнаты. Нормальные значения находятся в пределах 0-6 комнат. От остальных можно избавляться."
   ]
  },
  {
   "cell_type": "code",
   "execution_count": 36,
   "metadata": {},
   "outputs": [],
   "source": [
    "# фильтрация данных\n",
    "real = real.query('rooms <= 6')"
   ]
  },
  {
   "cell_type": "code",
   "execution_count": 37,
   "metadata": {},
   "outputs": [
    {
     "data": {
      "text/html": [
       "<div>\n",
       "<style scoped>\n",
       "    .dataframe tbody tr th:only-of-type {\n",
       "        vertical-align: middle;\n",
       "    }\n",
       "\n",
       "    .dataframe tbody tr th {\n",
       "        vertical-align: top;\n",
       "    }\n",
       "\n",
       "    .dataframe thead th {\n",
       "        text-align: right;\n",
       "    }\n",
       "</style>\n",
       "<table border=\"1\" class=\"dataframe\">\n",
       "  <thead>\n",
       "    <tr style=\"text-align: right;\">\n",
       "      <th></th>\n",
       "      <th>total_images</th>\n",
       "      <th>last_price</th>\n",
       "      <th>total_area</th>\n",
       "      <th>first_day_exposition</th>\n",
       "      <th>rooms</th>\n",
       "      <th>ceiling_height</th>\n",
       "      <th>floors_total</th>\n",
       "      <th>living_area</th>\n",
       "      <th>floor</th>\n",
       "      <th>is_apartment</th>\n",
       "      <th>...</th>\n",
       "      <th>ponds_around_3km</th>\n",
       "      <th>ponds_nearest</th>\n",
       "      <th>days_exposition</th>\n",
       "      <th>price_m2</th>\n",
       "      <th>day_exposition</th>\n",
       "      <th>month_exposition</th>\n",
       "      <th>year_exposition</th>\n",
       "      <th>floor_number</th>\n",
       "      <th>living_total_ratio</th>\n",
       "      <th>kitchen_total_ratio</th>\n",
       "    </tr>\n",
       "  </thead>\n",
       "  <tbody>\n",
       "    <tr>\n",
       "      <td>144</td>\n",
       "      <td>1</td>\n",
       "      <td>2450</td>\n",
       "      <td>27.00</td>\n",
       "      <td>2017-03-30</td>\n",
       "      <td>0</td>\n",
       "      <td>2.75</td>\n",
       "      <td>24.0</td>\n",
       "      <td>15.500000</td>\n",
       "      <td>2</td>\n",
       "      <td>False</td>\n",
       "      <td>...</td>\n",
       "      <td>0</td>\n",
       "      <td>0</td>\n",
       "      <td>181.0</td>\n",
       "      <td>90</td>\n",
       "      <td>3</td>\n",
       "      <td>3</td>\n",
       "      <td>2017</td>\n",
       "      <td>другой</td>\n",
       "      <td>0.574074</td>\n",
       "      <td>0.000000</td>\n",
       "    </tr>\n",
       "    <tr>\n",
       "      <td>349</td>\n",
       "      <td>4</td>\n",
       "      <td>2320</td>\n",
       "      <td>25.00</td>\n",
       "      <td>2017-09-27</td>\n",
       "      <td>0</td>\n",
       "      <td>2.75</td>\n",
       "      <td>14.0</td>\n",
       "      <td>17.000000</td>\n",
       "      <td>1</td>\n",
       "      <td>False</td>\n",
       "      <td>...</td>\n",
       "      <td>0</td>\n",
       "      <td>0</td>\n",
       "      <td>45.0</td>\n",
       "      <td>92</td>\n",
       "      <td>2</td>\n",
       "      <td>9</td>\n",
       "      <td>2017</td>\n",
       "      <td>первый</td>\n",
       "      <td>0.680000</td>\n",
       "      <td>-0.040000</td>\n",
       "    </tr>\n",
       "    <tr>\n",
       "      <td>440</td>\n",
       "      <td>8</td>\n",
       "      <td>2480</td>\n",
       "      <td>27.11</td>\n",
       "      <td>2018-03-12</td>\n",
       "      <td>0</td>\n",
       "      <td>2.75</td>\n",
       "      <td>17.0</td>\n",
       "      <td>24.750000</td>\n",
       "      <td>4</td>\n",
       "      <td>False</td>\n",
       "      <td>...</td>\n",
       "      <td>2</td>\n",
       "      <td>982</td>\n",
       "      <td>64.0</td>\n",
       "      <td>91</td>\n",
       "      <td>0</td>\n",
       "      <td>3</td>\n",
       "      <td>2018</td>\n",
       "      <td>другой</td>\n",
       "      <td>0.912947</td>\n",
       "      <td>0.000000</td>\n",
       "    </tr>\n",
       "    <tr>\n",
       "      <td>508</td>\n",
       "      <td>0</td>\n",
       "      <td>3375</td>\n",
       "      <td>34.40</td>\n",
       "      <td>2017-03-28</td>\n",
       "      <td>0</td>\n",
       "      <td>2.75</td>\n",
       "      <td>26.0</td>\n",
       "      <td>24.300000</td>\n",
       "      <td>19</td>\n",
       "      <td>False</td>\n",
       "      <td>...</td>\n",
       "      <td>1</td>\n",
       "      <td>593</td>\n",
       "      <td>430.0</td>\n",
       "      <td>98</td>\n",
       "      <td>1</td>\n",
       "      <td>3</td>\n",
       "      <td>2017</td>\n",
       "      <td>другой</td>\n",
       "      <td>0.706395</td>\n",
       "      <td>-0.029070</td>\n",
       "    </tr>\n",
       "    <tr>\n",
       "      <td>608</td>\n",
       "      <td>2</td>\n",
       "      <td>1850</td>\n",
       "      <td>25.00</td>\n",
       "      <td>2019-02-20</td>\n",
       "      <td>0</td>\n",
       "      <td>2.75</td>\n",
       "      <td>10.0</td>\n",
       "      <td>14.199656</td>\n",
       "      <td>7</td>\n",
       "      <td>False</td>\n",
       "      <td>...</td>\n",
       "      <td>0</td>\n",
       "      <td>0</td>\n",
       "      <td>29.0</td>\n",
       "      <td>74</td>\n",
       "      <td>2</td>\n",
       "      <td>2</td>\n",
       "      <td>2019</td>\n",
       "      <td>другой</td>\n",
       "      <td>0.567986</td>\n",
       "      <td>0.000000</td>\n",
       "    </tr>\n",
       "    <tr>\n",
       "      <td>...</td>\n",
       "      <td>...</td>\n",
       "      <td>...</td>\n",
       "      <td>...</td>\n",
       "      <td>...</td>\n",
       "      <td>...</td>\n",
       "      <td>...</td>\n",
       "      <td>...</td>\n",
       "      <td>...</td>\n",
       "      <td>...</td>\n",
       "      <td>...</td>\n",
       "      <td>...</td>\n",
       "      <td>...</td>\n",
       "      <td>...</td>\n",
       "      <td>...</td>\n",
       "      <td>...</td>\n",
       "      <td>...</td>\n",
       "      <td>...</td>\n",
       "      <td>...</td>\n",
       "      <td>...</td>\n",
       "      <td>...</td>\n",
       "      <td>...</td>\n",
       "    </tr>\n",
       "    <tr>\n",
       "      <td>23190</td>\n",
       "      <td>7</td>\n",
       "      <td>3200</td>\n",
       "      <td>26.00</td>\n",
       "      <td>2017-09-01</td>\n",
       "      <td>0</td>\n",
       "      <td>2.75</td>\n",
       "      <td>25.0</td>\n",
       "      <td>18.000000</td>\n",
       "      <td>16</td>\n",
       "      <td>False</td>\n",
       "      <td>...</td>\n",
       "      <td>1</td>\n",
       "      <td>623</td>\n",
       "      <td>14.0</td>\n",
       "      <td>123</td>\n",
       "      <td>4</td>\n",
       "      <td>9</td>\n",
       "      <td>2017</td>\n",
       "      <td>другой</td>\n",
       "      <td>0.692308</td>\n",
       "      <td>0.000000</td>\n",
       "    </tr>\n",
       "    <tr>\n",
       "      <td>23422</td>\n",
       "      <td>0</td>\n",
       "      <td>2500</td>\n",
       "      <td>27.70</td>\n",
       "      <td>2017-09-28</td>\n",
       "      <td>0</td>\n",
       "      <td>2.75</td>\n",
       "      <td>24.0</td>\n",
       "      <td>18.000000</td>\n",
       "      <td>4</td>\n",
       "      <td>False</td>\n",
       "      <td>...</td>\n",
       "      <td>0</td>\n",
       "      <td>0</td>\n",
       "      <td>4.0</td>\n",
       "      <td>90</td>\n",
       "      <td>3</td>\n",
       "      <td>9</td>\n",
       "      <td>2017</td>\n",
       "      <td>другой</td>\n",
       "      <td>0.649819</td>\n",
       "      <td>-0.036101</td>\n",
       "    </tr>\n",
       "    <tr>\n",
       "      <td>23534</td>\n",
       "      <td>15</td>\n",
       "      <td>3350</td>\n",
       "      <td>26.00</td>\n",
       "      <td>2018-09-07</td>\n",
       "      <td>0</td>\n",
       "      <td>2.75</td>\n",
       "      <td>19.0</td>\n",
       "      <td>14.767642</td>\n",
       "      <td>8</td>\n",
       "      <td>False</td>\n",
       "      <td>...</td>\n",
       "      <td>2</td>\n",
       "      <td>112</td>\n",
       "      <td>31.0</td>\n",
       "      <td>128</td>\n",
       "      <td>4</td>\n",
       "      <td>9</td>\n",
       "      <td>2018</td>\n",
       "      <td>другой</td>\n",
       "      <td>0.567986</td>\n",
       "      <td>0.000000</td>\n",
       "    </tr>\n",
       "    <tr>\n",
       "      <td>23572</td>\n",
       "      <td>10</td>\n",
       "      <td>1450</td>\n",
       "      <td>29.00</td>\n",
       "      <td>2017-11-11</td>\n",
       "      <td>0</td>\n",
       "      <td>2.75</td>\n",
       "      <td>9.0</td>\n",
       "      <td>18.000000</td>\n",
       "      <td>8</td>\n",
       "      <td>False</td>\n",
       "      <td>...</td>\n",
       "      <td>0</td>\n",
       "      <td>0</td>\n",
       "      <td>82.0</td>\n",
       "      <td>50</td>\n",
       "      <td>5</td>\n",
       "      <td>11</td>\n",
       "      <td>2017</td>\n",
       "      <td>другой</td>\n",
       "      <td>0.620690</td>\n",
       "      <td>-0.034483</td>\n",
       "    </tr>\n",
       "    <tr>\n",
       "      <td>23617</td>\n",
       "      <td>8</td>\n",
       "      <td>2350</td>\n",
       "      <td>26.00</td>\n",
       "      <td>2018-06-26</td>\n",
       "      <td>0</td>\n",
       "      <td>2.75</td>\n",
       "      <td>25.0</td>\n",
       "      <td>17.000000</td>\n",
       "      <td>4</td>\n",
       "      <td>False</td>\n",
       "      <td>...</td>\n",
       "      <td>0</td>\n",
       "      <td>0</td>\n",
       "      <td>207.0</td>\n",
       "      <td>90</td>\n",
       "      <td>1</td>\n",
       "      <td>6</td>\n",
       "      <td>2018</td>\n",
       "      <td>другой</td>\n",
       "      <td>0.653846</td>\n",
       "      <td>0.000000</td>\n",
       "    </tr>\n",
       "  </tbody>\n",
       "</table>\n",
       "<p>195 rows × 29 columns</p>\n",
       "</div>"
      ],
      "text/plain": [
       "       total_images  last_price  total_area first_day_exposition  rooms  \\\n",
       "144               1        2450       27.00           2017-03-30      0   \n",
       "349               4        2320       25.00           2017-09-27      0   \n",
       "440               8        2480       27.11           2018-03-12      0   \n",
       "508               0        3375       34.40           2017-03-28      0   \n",
       "608               2        1850       25.00           2019-02-20      0   \n",
       "...             ...         ...         ...                  ...    ...   \n",
       "23190             7        3200       26.00           2017-09-01      0   \n",
       "23422             0        2500       27.70           2017-09-28      0   \n",
       "23534            15        3350       26.00           2018-09-07      0   \n",
       "23572            10        1450       29.00           2017-11-11      0   \n",
       "23617             8        2350       26.00           2018-06-26      0   \n",
       "\n",
       "       ceiling_height  floors_total  living_area  floor  is_apartment  ...  \\\n",
       "144              2.75          24.0    15.500000      2         False  ...   \n",
       "349              2.75          14.0    17.000000      1         False  ...   \n",
       "440              2.75          17.0    24.750000      4         False  ...   \n",
       "508              2.75          26.0    24.300000     19         False  ...   \n",
       "608              2.75          10.0    14.199656      7         False  ...   \n",
       "...               ...           ...          ...    ...           ...  ...   \n",
       "23190            2.75          25.0    18.000000     16         False  ...   \n",
       "23422            2.75          24.0    18.000000      4         False  ...   \n",
       "23534            2.75          19.0    14.767642      8         False  ...   \n",
       "23572            2.75           9.0    18.000000      8         False  ...   \n",
       "23617            2.75          25.0    17.000000      4         False  ...   \n",
       "\n",
       "       ponds_around_3km  ponds_nearest  days_exposition  price_m2  \\\n",
       "144                   0              0            181.0        90   \n",
       "349                   0              0             45.0        92   \n",
       "440                   2            982             64.0        91   \n",
       "508                   1            593            430.0        98   \n",
       "608                   0              0             29.0        74   \n",
       "...                 ...            ...              ...       ...   \n",
       "23190                 1            623             14.0       123   \n",
       "23422                 0              0              4.0        90   \n",
       "23534                 2            112             31.0       128   \n",
       "23572                 0              0             82.0        50   \n",
       "23617                 0              0            207.0        90   \n",
       "\n",
       "      day_exposition  month_exposition  year_exposition  floor_number  \\\n",
       "144                3                 3             2017        другой   \n",
       "349                2                 9             2017        первый   \n",
       "440                0                 3             2018        другой   \n",
       "508                1                 3             2017        другой   \n",
       "608                2                 2             2019        другой   \n",
       "...              ...               ...              ...           ...   \n",
       "23190              4                 9             2017        другой   \n",
       "23422              3                 9             2017        другой   \n",
       "23534              4                 9             2018        другой   \n",
       "23572              5                11             2017        другой   \n",
       "23617              1                 6             2018        другой   \n",
       "\n",
       "       living_total_ratio  kitchen_total_ratio  \n",
       "144              0.574074             0.000000  \n",
       "349              0.680000            -0.040000  \n",
       "440              0.912947             0.000000  \n",
       "508              0.706395            -0.029070  \n",
       "608              0.567986             0.000000  \n",
       "...                   ...                  ...  \n",
       "23190            0.692308             0.000000  \n",
       "23422            0.649819            -0.036101  \n",
       "23534            0.567986             0.000000  \n",
       "23572            0.620690            -0.034483  \n",
       "23617            0.653846             0.000000  \n",
       "\n",
       "[195 rows x 29 columns]"
      ]
     },
     "execution_count": 37,
     "metadata": {},
     "output_type": "execute_result"
    }
   ],
   "source": [
    "# проверка - 0 комнат\n",
    "real.loc[real['rooms'] == 0]"
   ]
  },
  {
   "cell_type": "code",
   "execution_count": 38,
   "metadata": {},
   "outputs": [
    {
     "data": {
      "text/html": [
       "<div>\n",
       "<style scoped>\n",
       "    .dataframe tbody tr th:only-of-type {\n",
       "        vertical-align: middle;\n",
       "    }\n",
       "\n",
       "    .dataframe tbody tr th {\n",
       "        vertical-align: top;\n",
       "    }\n",
       "\n",
       "    .dataframe thead th {\n",
       "        text-align: right;\n",
       "    }\n",
       "</style>\n",
       "<table border=\"1\" class=\"dataframe\">\n",
       "  <thead>\n",
       "    <tr style=\"text-align: right;\">\n",
       "      <th></th>\n",
       "      <th>total_images</th>\n",
       "      <th>last_price</th>\n",
       "      <th>total_area</th>\n",
       "      <th>first_day_exposition</th>\n",
       "      <th>rooms</th>\n",
       "      <th>ceiling_height</th>\n",
       "      <th>floors_total</th>\n",
       "      <th>living_area</th>\n",
       "      <th>floor</th>\n",
       "      <th>is_apartment</th>\n",
       "      <th>...</th>\n",
       "      <th>ponds_around_3km</th>\n",
       "      <th>ponds_nearest</th>\n",
       "      <th>days_exposition</th>\n",
       "      <th>price_m2</th>\n",
       "      <th>day_exposition</th>\n",
       "      <th>month_exposition</th>\n",
       "      <th>year_exposition</th>\n",
       "      <th>floor_number</th>\n",
       "      <th>living_total_ratio</th>\n",
       "      <th>kitchen_total_ratio</th>\n",
       "    </tr>\n",
       "  </thead>\n",
       "  <tbody>\n",
       "    <tr>\n",
       "      <td>144</td>\n",
       "      <td>1</td>\n",
       "      <td>2450</td>\n",
       "      <td>27.00</td>\n",
       "      <td>2017-03-30</td>\n",
       "      <td>0</td>\n",
       "      <td>2.75</td>\n",
       "      <td>24.0</td>\n",
       "      <td>15.500000</td>\n",
       "      <td>2</td>\n",
       "      <td>False</td>\n",
       "      <td>...</td>\n",
       "      <td>0</td>\n",
       "      <td>0</td>\n",
       "      <td>181.0</td>\n",
       "      <td>90</td>\n",
       "      <td>3</td>\n",
       "      <td>3</td>\n",
       "      <td>2017</td>\n",
       "      <td>другой</td>\n",
       "      <td>0.574074</td>\n",
       "      <td>0.0</td>\n",
       "    </tr>\n",
       "    <tr>\n",
       "      <td>440</td>\n",
       "      <td>8</td>\n",
       "      <td>2480</td>\n",
       "      <td>27.11</td>\n",
       "      <td>2018-03-12</td>\n",
       "      <td>0</td>\n",
       "      <td>2.75</td>\n",
       "      <td>17.0</td>\n",
       "      <td>24.750000</td>\n",
       "      <td>4</td>\n",
       "      <td>False</td>\n",
       "      <td>...</td>\n",
       "      <td>2</td>\n",
       "      <td>982</td>\n",
       "      <td>64.0</td>\n",
       "      <td>91</td>\n",
       "      <td>0</td>\n",
       "      <td>3</td>\n",
       "      <td>2018</td>\n",
       "      <td>другой</td>\n",
       "      <td>0.912947</td>\n",
       "      <td>0.0</td>\n",
       "    </tr>\n",
       "    <tr>\n",
       "      <td>608</td>\n",
       "      <td>2</td>\n",
       "      <td>1850</td>\n",
       "      <td>25.00</td>\n",
       "      <td>2019-02-20</td>\n",
       "      <td>0</td>\n",
       "      <td>2.75</td>\n",
       "      <td>10.0</td>\n",
       "      <td>14.199656</td>\n",
       "      <td>7</td>\n",
       "      <td>False</td>\n",
       "      <td>...</td>\n",
       "      <td>0</td>\n",
       "      <td>0</td>\n",
       "      <td>29.0</td>\n",
       "      <td>74</td>\n",
       "      <td>2</td>\n",
       "      <td>2</td>\n",
       "      <td>2019</td>\n",
       "      <td>другой</td>\n",
       "      <td>0.567986</td>\n",
       "      <td>0.0</td>\n",
       "    </tr>\n",
       "    <tr>\n",
       "      <td>697</td>\n",
       "      <td>12</td>\n",
       "      <td>2500</td>\n",
       "      <td>24.10</td>\n",
       "      <td>2017-12-01</td>\n",
       "      <td>0</td>\n",
       "      <td>2.75</td>\n",
       "      <td>25.0</td>\n",
       "      <td>17.500000</td>\n",
       "      <td>21</td>\n",
       "      <td>False</td>\n",
       "      <td>...</td>\n",
       "      <td>0</td>\n",
       "      <td>0</td>\n",
       "      <td>201.0</td>\n",
       "      <td>103</td>\n",
       "      <td>4</td>\n",
       "      <td>12</td>\n",
       "      <td>2017</td>\n",
       "      <td>другой</td>\n",
       "      <td>0.726141</td>\n",
       "      <td>0.0</td>\n",
       "    </tr>\n",
       "    <tr>\n",
       "      <td>716</td>\n",
       "      <td>5</td>\n",
       "      <td>1500</td>\n",
       "      <td>17.00</td>\n",
       "      <td>2017-06-07</td>\n",
       "      <td>0</td>\n",
       "      <td>2.70</td>\n",
       "      <td>9.0</td>\n",
       "      <td>12.000000</td>\n",
       "      <td>1</td>\n",
       "      <td>False</td>\n",
       "      <td>...</td>\n",
       "      <td>0</td>\n",
       "      <td>0</td>\n",
       "      <td>40.0</td>\n",
       "      <td>88</td>\n",
       "      <td>2</td>\n",
       "      <td>6</td>\n",
       "      <td>2017</td>\n",
       "      <td>первый</td>\n",
       "      <td>0.705882</td>\n",
       "      <td>0.0</td>\n",
       "    </tr>\n",
       "    <tr>\n",
       "      <td>...</td>\n",
       "      <td>...</td>\n",
       "      <td>...</td>\n",
       "      <td>...</td>\n",
       "      <td>...</td>\n",
       "      <td>...</td>\n",
       "      <td>...</td>\n",
       "      <td>...</td>\n",
       "      <td>...</td>\n",
       "      <td>...</td>\n",
       "      <td>...</td>\n",
       "      <td>...</td>\n",
       "      <td>...</td>\n",
       "      <td>...</td>\n",
       "      <td>...</td>\n",
       "      <td>...</td>\n",
       "      <td>...</td>\n",
       "      <td>...</td>\n",
       "      <td>...</td>\n",
       "      <td>...</td>\n",
       "      <td>...</td>\n",
       "      <td>...</td>\n",
       "    </tr>\n",
       "    <tr>\n",
       "      <td>22848</td>\n",
       "      <td>8</td>\n",
       "      <td>3090</td>\n",
       "      <td>30.00</td>\n",
       "      <td>2017-12-17</td>\n",
       "      <td>0</td>\n",
       "      <td>2.75</td>\n",
       "      <td>25.0</td>\n",
       "      <td>18.200000</td>\n",
       "      <td>5</td>\n",
       "      <td>False</td>\n",
       "      <td>...</td>\n",
       "      <td>1</td>\n",
       "      <td>400</td>\n",
       "      <td>211.0</td>\n",
       "      <td>103</td>\n",
       "      <td>6</td>\n",
       "      <td>12</td>\n",
       "      <td>2017</td>\n",
       "      <td>другой</td>\n",
       "      <td>0.606667</td>\n",
       "      <td>0.0</td>\n",
       "    </tr>\n",
       "    <tr>\n",
       "      <td>22858</td>\n",
       "      <td>2</td>\n",
       "      <td>4280</td>\n",
       "      <td>28.00</td>\n",
       "      <td>2017-10-26</td>\n",
       "      <td>0</td>\n",
       "      <td>2.70</td>\n",
       "      <td>19.0</td>\n",
       "      <td>18.000000</td>\n",
       "      <td>10</td>\n",
       "      <td>False</td>\n",
       "      <td>...</td>\n",
       "      <td>1</td>\n",
       "      <td>415</td>\n",
       "      <td>151.0</td>\n",
       "      <td>152</td>\n",
       "      <td>3</td>\n",
       "      <td>10</td>\n",
       "      <td>2017</td>\n",
       "      <td>другой</td>\n",
       "      <td>0.642857</td>\n",
       "      <td>0.0</td>\n",
       "    </tr>\n",
       "    <tr>\n",
       "      <td>23190</td>\n",
       "      <td>7</td>\n",
       "      <td>3200</td>\n",
       "      <td>26.00</td>\n",
       "      <td>2017-09-01</td>\n",
       "      <td>0</td>\n",
       "      <td>2.75</td>\n",
       "      <td>25.0</td>\n",
       "      <td>18.000000</td>\n",
       "      <td>16</td>\n",
       "      <td>False</td>\n",
       "      <td>...</td>\n",
       "      <td>1</td>\n",
       "      <td>623</td>\n",
       "      <td>14.0</td>\n",
       "      <td>123</td>\n",
       "      <td>4</td>\n",
       "      <td>9</td>\n",
       "      <td>2017</td>\n",
       "      <td>другой</td>\n",
       "      <td>0.692308</td>\n",
       "      <td>0.0</td>\n",
       "    </tr>\n",
       "    <tr>\n",
       "      <td>23534</td>\n",
       "      <td>15</td>\n",
       "      <td>3350</td>\n",
       "      <td>26.00</td>\n",
       "      <td>2018-09-07</td>\n",
       "      <td>0</td>\n",
       "      <td>2.75</td>\n",
       "      <td>19.0</td>\n",
       "      <td>14.767642</td>\n",
       "      <td>8</td>\n",
       "      <td>False</td>\n",
       "      <td>...</td>\n",
       "      <td>2</td>\n",
       "      <td>112</td>\n",
       "      <td>31.0</td>\n",
       "      <td>128</td>\n",
       "      <td>4</td>\n",
       "      <td>9</td>\n",
       "      <td>2018</td>\n",
       "      <td>другой</td>\n",
       "      <td>0.567986</td>\n",
       "      <td>0.0</td>\n",
       "    </tr>\n",
       "    <tr>\n",
       "      <td>23617</td>\n",
       "      <td>8</td>\n",
       "      <td>2350</td>\n",
       "      <td>26.00</td>\n",
       "      <td>2018-06-26</td>\n",
       "      <td>0</td>\n",
       "      <td>2.75</td>\n",
       "      <td>25.0</td>\n",
       "      <td>17.000000</td>\n",
       "      <td>4</td>\n",
       "      <td>False</td>\n",
       "      <td>...</td>\n",
       "      <td>0</td>\n",
       "      <td>0</td>\n",
       "      <td>207.0</td>\n",
       "      <td>90</td>\n",
       "      <td>1</td>\n",
       "      <td>6</td>\n",
       "      <td>2018</td>\n",
       "      <td>другой</td>\n",
       "      <td>0.653846</td>\n",
       "      <td>0.0</td>\n",
       "    </tr>\n",
       "  </tbody>\n",
       "</table>\n",
       "<p>148 rows × 29 columns</p>\n",
       "</div>"
      ],
      "text/plain": [
       "       total_images  last_price  total_area first_day_exposition  rooms  \\\n",
       "144               1        2450       27.00           2017-03-30      0   \n",
       "440               8        2480       27.11           2018-03-12      0   \n",
       "608               2        1850       25.00           2019-02-20      0   \n",
       "697              12        2500       24.10           2017-12-01      0   \n",
       "716               5        1500       17.00           2017-06-07      0   \n",
       "...             ...         ...         ...                  ...    ...   \n",
       "22848             8        3090       30.00           2017-12-17      0   \n",
       "22858             2        4280       28.00           2017-10-26      0   \n",
       "23190             7        3200       26.00           2017-09-01      0   \n",
       "23534            15        3350       26.00           2018-09-07      0   \n",
       "23617             8        2350       26.00           2018-06-26      0   \n",
       "\n",
       "       ceiling_height  floors_total  living_area  floor  is_apartment  ...  \\\n",
       "144              2.75          24.0    15.500000      2         False  ...   \n",
       "440              2.75          17.0    24.750000      4         False  ...   \n",
       "608              2.75          10.0    14.199656      7         False  ...   \n",
       "697              2.75          25.0    17.500000     21         False  ...   \n",
       "716              2.70           9.0    12.000000      1         False  ...   \n",
       "...               ...           ...          ...    ...           ...  ...   \n",
       "22848            2.75          25.0    18.200000      5         False  ...   \n",
       "22858            2.70          19.0    18.000000     10         False  ...   \n",
       "23190            2.75          25.0    18.000000     16         False  ...   \n",
       "23534            2.75          19.0    14.767642      8         False  ...   \n",
       "23617            2.75          25.0    17.000000      4         False  ...   \n",
       "\n",
       "       ponds_around_3km  ponds_nearest  days_exposition  price_m2  \\\n",
       "144                   0              0            181.0        90   \n",
       "440                   2            982             64.0        91   \n",
       "608                   0              0             29.0        74   \n",
       "697                   0              0            201.0       103   \n",
       "716                   0              0             40.0        88   \n",
       "...                 ...            ...              ...       ...   \n",
       "22848                 1            400            211.0       103   \n",
       "22858                 1            415            151.0       152   \n",
       "23190                 1            623             14.0       123   \n",
       "23534                 2            112             31.0       128   \n",
       "23617                 0              0            207.0        90   \n",
       "\n",
       "      day_exposition  month_exposition  year_exposition  floor_number  \\\n",
       "144                3                 3             2017        другой   \n",
       "440                0                 3             2018        другой   \n",
       "608                2                 2             2019        другой   \n",
       "697                4                12             2017        другой   \n",
       "716                2                 6             2017        первый   \n",
       "...              ...               ...              ...           ...   \n",
       "22848              6                12             2017        другой   \n",
       "22858              3                10             2017        другой   \n",
       "23190              4                 9             2017        другой   \n",
       "23534              4                 9             2018        другой   \n",
       "23617              1                 6             2018        другой   \n",
       "\n",
       "       living_total_ratio  kitchen_total_ratio  \n",
       "144              0.574074                  0.0  \n",
       "440              0.912947                  0.0  \n",
       "608              0.567986                  0.0  \n",
       "697              0.726141                  0.0  \n",
       "716              0.705882                  0.0  \n",
       "...                   ...                  ...  \n",
       "22848            0.606667                  0.0  \n",
       "22858            0.642857                  0.0  \n",
       "23190            0.692308                  0.0  \n",
       "23534            0.567986                  0.0  \n",
       "23617            0.653846                  0.0  \n",
       "\n",
       "[148 rows x 29 columns]"
      ]
     },
     "execution_count": 38,
     "metadata": {},
     "output_type": "execute_result"
    }
   ],
   "source": [
    "# проверка количества студий\n",
    "real.loc[real['studio'] == True]"
   ]
  },
  {
   "cell_type": "markdown",
   "metadata": {},
   "source": [
    "Получается, что комнат с 0 комнат больше, чем студий."
   ]
  },
  {
   "cell_type": "code",
   "execution_count": 39,
   "metadata": {
    "scrolled": true
   },
   "outputs": [
    {
     "data": {
      "text/html": [
       "<div>\n",
       "<style scoped>\n",
       "    .dataframe tbody tr th:only-of-type {\n",
       "        vertical-align: middle;\n",
       "    }\n",
       "\n",
       "    .dataframe tbody tr th {\n",
       "        vertical-align: top;\n",
       "    }\n",
       "\n",
       "    .dataframe thead th {\n",
       "        text-align: right;\n",
       "    }\n",
       "</style>\n",
       "<table border=\"1\" class=\"dataframe\">\n",
       "  <thead>\n",
       "    <tr style=\"text-align: right;\">\n",
       "      <th></th>\n",
       "      <th>total_images</th>\n",
       "      <th>last_price</th>\n",
       "      <th>total_area</th>\n",
       "      <th>first_day_exposition</th>\n",
       "      <th>rooms</th>\n",
       "      <th>ceiling_height</th>\n",
       "      <th>floors_total</th>\n",
       "      <th>living_area</th>\n",
       "      <th>floor</th>\n",
       "      <th>is_apartment</th>\n",
       "      <th>...</th>\n",
       "      <th>ponds_around_3km</th>\n",
       "      <th>ponds_nearest</th>\n",
       "      <th>days_exposition</th>\n",
       "      <th>price_m2</th>\n",
       "      <th>day_exposition</th>\n",
       "      <th>month_exposition</th>\n",
       "      <th>year_exposition</th>\n",
       "      <th>floor_number</th>\n",
       "      <th>living_total_ratio</th>\n",
       "      <th>kitchen_total_ratio</th>\n",
       "    </tr>\n",
       "  </thead>\n",
       "  <tbody>\n",
       "    <tr>\n",
       "      <td>349</td>\n",
       "      <td>4</td>\n",
       "      <td>2320</td>\n",
       "      <td>25.00</td>\n",
       "      <td>2017-09-27</td>\n",
       "      <td>0</td>\n",
       "      <td>2.75</td>\n",
       "      <td>14.0</td>\n",
       "      <td>17.000000</td>\n",
       "      <td>1</td>\n",
       "      <td>False</td>\n",
       "      <td>...</td>\n",
       "      <td>0</td>\n",
       "      <td>0</td>\n",
       "      <td>45.0</td>\n",
       "      <td>92</td>\n",
       "      <td>2</td>\n",
       "      <td>9</td>\n",
       "      <td>2017</td>\n",
       "      <td>первый</td>\n",
       "      <td>0.680000</td>\n",
       "      <td>-0.040000</td>\n",
       "    </tr>\n",
       "    <tr>\n",
       "      <td>508</td>\n",
       "      <td>0</td>\n",
       "      <td>3375</td>\n",
       "      <td>34.40</td>\n",
       "      <td>2017-03-28</td>\n",
       "      <td>0</td>\n",
       "      <td>2.75</td>\n",
       "      <td>26.0</td>\n",
       "      <td>24.300000</td>\n",
       "      <td>19</td>\n",
       "      <td>False</td>\n",
       "      <td>...</td>\n",
       "      <td>1</td>\n",
       "      <td>593</td>\n",
       "      <td>430.0</td>\n",
       "      <td>98</td>\n",
       "      <td>1</td>\n",
       "      <td>3</td>\n",
       "      <td>2017</td>\n",
       "      <td>другой</td>\n",
       "      <td>0.706395</td>\n",
       "      <td>-0.029070</td>\n",
       "    </tr>\n",
       "    <tr>\n",
       "      <td>780</td>\n",
       "      <td>9</td>\n",
       "      <td>2600</td>\n",
       "      <td>26.10</td>\n",
       "      <td>2018-02-20</td>\n",
       "      <td>0</td>\n",
       "      <td>2.75</td>\n",
       "      <td>18.0</td>\n",
       "      <td>14.824441</td>\n",
       "      <td>8</td>\n",
       "      <td>False</td>\n",
       "      <td>...</td>\n",
       "      <td>0</td>\n",
       "      <td>0</td>\n",
       "      <td>45.0</td>\n",
       "      <td>99</td>\n",
       "      <td>1</td>\n",
       "      <td>2</td>\n",
       "      <td>2018</td>\n",
       "      <td>другой</td>\n",
       "      <td>0.567986</td>\n",
       "      <td>-0.038314</td>\n",
       "    </tr>\n",
       "    <tr>\n",
       "      <td>839</td>\n",
       "      <td>14</td>\n",
       "      <td>1900</td>\n",
       "      <td>35.00</td>\n",
       "      <td>2017-04-14</td>\n",
       "      <td>0</td>\n",
       "      <td>2.70</td>\n",
       "      <td>5.0</td>\n",
       "      <td>15.000000</td>\n",
       "      <td>3</td>\n",
       "      <td>False</td>\n",
       "      <td>...</td>\n",
       "      <td>0</td>\n",
       "      <td>0</td>\n",
       "      <td>7.0</td>\n",
       "      <td>54</td>\n",
       "      <td>4</td>\n",
       "      <td>4</td>\n",
       "      <td>2017</td>\n",
       "      <td>другой</td>\n",
       "      <td>0.428571</td>\n",
       "      <td>-0.028571</td>\n",
       "    </tr>\n",
       "    <tr>\n",
       "      <td>946</td>\n",
       "      <td>5</td>\n",
       "      <td>2200</td>\n",
       "      <td>23.00</td>\n",
       "      <td>2016-09-27</td>\n",
       "      <td>0</td>\n",
       "      <td>2.75</td>\n",
       "      <td>27.0</td>\n",
       "      <td>18.000000</td>\n",
       "      <td>7</td>\n",
       "      <td>False</td>\n",
       "      <td>...</td>\n",
       "      <td>0</td>\n",
       "      <td>0</td>\n",
       "      <td>483.0</td>\n",
       "      <td>95</td>\n",
       "      <td>1</td>\n",
       "      <td>9</td>\n",
       "      <td>2016</td>\n",
       "      <td>другой</td>\n",
       "      <td>0.782609</td>\n",
       "      <td>-0.043478</td>\n",
       "    </tr>\n",
       "    <tr>\n",
       "      <td>1574</td>\n",
       "      <td>0</td>\n",
       "      <td>2200</td>\n",
       "      <td>22.00</td>\n",
       "      <td>2017-11-03</td>\n",
       "      <td>0</td>\n",
       "      <td>2.75</td>\n",
       "      <td>18.0</td>\n",
       "      <td>15.000000</td>\n",
       "      <td>16</td>\n",
       "      <td>False</td>\n",
       "      <td>...</td>\n",
       "      <td>0</td>\n",
       "      <td>0</td>\n",
       "      <td>81.0</td>\n",
       "      <td>100</td>\n",
       "      <td>4</td>\n",
       "      <td>11</td>\n",
       "      <td>2017</td>\n",
       "      <td>другой</td>\n",
       "      <td>0.681818</td>\n",
       "      <td>-0.045455</td>\n",
       "    </tr>\n",
       "    <tr>\n",
       "      <td>1625</td>\n",
       "      <td>7</td>\n",
       "      <td>1980</td>\n",
       "      <td>23.98</td>\n",
       "      <td>2018-02-01</td>\n",
       "      <td>0</td>\n",
       "      <td>2.75</td>\n",
       "      <td>4.0</td>\n",
       "      <td>10.500000</td>\n",
       "      <td>3</td>\n",
       "      <td>False</td>\n",
       "      <td>...</td>\n",
       "      <td>0</td>\n",
       "      <td>0</td>\n",
       "      <td>120.0</td>\n",
       "      <td>82</td>\n",
       "      <td>3</td>\n",
       "      <td>2</td>\n",
       "      <td>2018</td>\n",
       "      <td>другой</td>\n",
       "      <td>0.437865</td>\n",
       "      <td>-0.041701</td>\n",
       "    </tr>\n",
       "    <tr>\n",
       "      <td>2531</td>\n",
       "      <td>5</td>\n",
       "      <td>3500</td>\n",
       "      <td>27.10</td>\n",
       "      <td>2018-02-01</td>\n",
       "      <td>0</td>\n",
       "      <td>2.75</td>\n",
       "      <td>18.0</td>\n",
       "      <td>18.700000</td>\n",
       "      <td>9</td>\n",
       "      <td>False</td>\n",
       "      <td>...</td>\n",
       "      <td>1</td>\n",
       "      <td>644</td>\n",
       "      <td>70.0</td>\n",
       "      <td>129</td>\n",
       "      <td>3</td>\n",
       "      <td>2</td>\n",
       "      <td>2018</td>\n",
       "      <td>другой</td>\n",
       "      <td>0.690037</td>\n",
       "      <td>-0.036900</td>\n",
       "    </tr>\n",
       "    <tr>\n",
       "      <td>3016</td>\n",
       "      <td>18</td>\n",
       "      <td>2100</td>\n",
       "      <td>24.00</td>\n",
       "      <td>2017-11-10</td>\n",
       "      <td>0</td>\n",
       "      <td>2.75</td>\n",
       "      <td>10.0</td>\n",
       "      <td>18.000000</td>\n",
       "      <td>6</td>\n",
       "      <td>False</td>\n",
       "      <td>...</td>\n",
       "      <td>0</td>\n",
       "      <td>0</td>\n",
       "      <td>5.0</td>\n",
       "      <td>87</td>\n",
       "      <td>4</td>\n",
       "      <td>11</td>\n",
       "      <td>2017</td>\n",
       "      <td>другой</td>\n",
       "      <td>0.750000</td>\n",
       "      <td>-0.041667</td>\n",
       "    </tr>\n",
       "    <tr>\n",
       "      <td>4112</td>\n",
       "      <td>7</td>\n",
       "      <td>2600</td>\n",
       "      <td>24.00</td>\n",
       "      <td>2018-02-01</td>\n",
       "      <td>0</td>\n",
       "      <td>2.75</td>\n",
       "      <td>25.0</td>\n",
       "      <td>18.000000</td>\n",
       "      <td>4</td>\n",
       "      <td>False</td>\n",
       "      <td>...</td>\n",
       "      <td>0</td>\n",
       "      <td>0</td>\n",
       "      <td>42.0</td>\n",
       "      <td>108</td>\n",
       "      <td>3</td>\n",
       "      <td>2</td>\n",
       "      <td>2018</td>\n",
       "      <td>другой</td>\n",
       "      <td>0.750000</td>\n",
       "      <td>-0.041667</td>\n",
       "    </tr>\n",
       "    <tr>\n",
       "      <td>4434</td>\n",
       "      <td>10</td>\n",
       "      <td>3200</td>\n",
       "      <td>25.00</td>\n",
       "      <td>2017-10-16</td>\n",
       "      <td>0</td>\n",
       "      <td>2.75</td>\n",
       "      <td>9.0</td>\n",
       "      <td>18.600000</td>\n",
       "      <td>9</td>\n",
       "      <td>False</td>\n",
       "      <td>...</td>\n",
       "      <td>1</td>\n",
       "      <td>232</td>\n",
       "      <td>97.0</td>\n",
       "      <td>128</td>\n",
       "      <td>0</td>\n",
       "      <td>10</td>\n",
       "      <td>2017</td>\n",
       "      <td>последний</td>\n",
       "      <td>0.744000</td>\n",
       "      <td>-0.040000</td>\n",
       "    </tr>\n",
       "    <tr>\n",
       "      <td>4680</td>\n",
       "      <td>2</td>\n",
       "      <td>3650</td>\n",
       "      <td>35.00</td>\n",
       "      <td>2018-02-01</td>\n",
       "      <td>0</td>\n",
       "      <td>2.75</td>\n",
       "      <td>25.0</td>\n",
       "      <td>23.400000</td>\n",
       "      <td>25</td>\n",
       "      <td>False</td>\n",
       "      <td>...</td>\n",
       "      <td>0</td>\n",
       "      <td>0</td>\n",
       "      <td>100.0</td>\n",
       "      <td>104</td>\n",
       "      <td>3</td>\n",
       "      <td>2</td>\n",
       "      <td>2018</td>\n",
       "      <td>последний</td>\n",
       "      <td>0.668571</td>\n",
       "      <td>-0.028571</td>\n",
       "    </tr>\n",
       "    <tr>\n",
       "      <td>4873</td>\n",
       "      <td>7</td>\n",
       "      <td>3000</td>\n",
       "      <td>25.00</td>\n",
       "      <td>2017-09-27</td>\n",
       "      <td>0</td>\n",
       "      <td>27.00</td>\n",
       "      <td>25.0</td>\n",
       "      <td>17.000000</td>\n",
       "      <td>17</td>\n",
       "      <td>False</td>\n",
       "      <td>...</td>\n",
       "      <td>0</td>\n",
       "      <td>0</td>\n",
       "      <td>28.0</td>\n",
       "      <td>120</td>\n",
       "      <td>2</td>\n",
       "      <td>9</td>\n",
       "      <td>2017</td>\n",
       "      <td>другой</td>\n",
       "      <td>0.680000</td>\n",
       "      <td>-0.040000</td>\n",
       "    </tr>\n",
       "    <tr>\n",
       "      <td>5746</td>\n",
       "      <td>20</td>\n",
       "      <td>3590</td>\n",
       "      <td>25.00</td>\n",
       "      <td>2017-08-30</td>\n",
       "      <td>0</td>\n",
       "      <td>2.80</td>\n",
       "      <td>35.0</td>\n",
       "      <td>14.199656</td>\n",
       "      <td>26</td>\n",
       "      <td>False</td>\n",
       "      <td>...</td>\n",
       "      <td>3</td>\n",
       "      <td>80</td>\n",
       "      <td>198.0</td>\n",
       "      <td>143</td>\n",
       "      <td>2</td>\n",
       "      <td>8</td>\n",
       "      <td>2017</td>\n",
       "      <td>другой</td>\n",
       "      <td>0.567986</td>\n",
       "      <td>-0.040000</td>\n",
       "    </tr>\n",
       "    <tr>\n",
       "      <td>6469</td>\n",
       "      <td>13</td>\n",
       "      <td>3620</td>\n",
       "      <td>28.00</td>\n",
       "      <td>2017-11-10</td>\n",
       "      <td>0</td>\n",
       "      <td>2.70</td>\n",
       "      <td>20.0</td>\n",
       "      <td>18.000000</td>\n",
       "      <td>17</td>\n",
       "      <td>False</td>\n",
       "      <td>...</td>\n",
       "      <td>0</td>\n",
       "      <td>0</td>\n",
       "      <td>37.0</td>\n",
       "      <td>129</td>\n",
       "      <td>4</td>\n",
       "      <td>11</td>\n",
       "      <td>2017</td>\n",
       "      <td>другой</td>\n",
       "      <td>0.642857</td>\n",
       "      <td>-0.035714</td>\n",
       "    </tr>\n",
       "    <tr>\n",
       "      <td>6609</td>\n",
       "      <td>18</td>\n",
       "      <td>3590</td>\n",
       "      <td>26.80</td>\n",
       "      <td>2017-11-10</td>\n",
       "      <td>0</td>\n",
       "      <td>2.75</td>\n",
       "      <td>24.0</td>\n",
       "      <td>19.000000</td>\n",
       "      <td>20</td>\n",
       "      <td>False</td>\n",
       "      <td>...</td>\n",
       "      <td>0</td>\n",
       "      <td>0</td>\n",
       "      <td>15.0</td>\n",
       "      <td>133</td>\n",
       "      <td>4</td>\n",
       "      <td>11</td>\n",
       "      <td>2017</td>\n",
       "      <td>другой</td>\n",
       "      <td>0.708955</td>\n",
       "      <td>-0.037313</td>\n",
       "    </tr>\n",
       "    <tr>\n",
       "      <td>6801</td>\n",
       "      <td>7</td>\n",
       "      <td>1850</td>\n",
       "      <td>31.00</td>\n",
       "      <td>2017-11-10</td>\n",
       "      <td>0</td>\n",
       "      <td>2.75</td>\n",
       "      <td>18.0</td>\n",
       "      <td>18.000000</td>\n",
       "      <td>10</td>\n",
       "      <td>False</td>\n",
       "      <td>...</td>\n",
       "      <td>0</td>\n",
       "      <td>0</td>\n",
       "      <td>7.0</td>\n",
       "      <td>59</td>\n",
       "      <td>4</td>\n",
       "      <td>11</td>\n",
       "      <td>2017</td>\n",
       "      <td>другой</td>\n",
       "      <td>0.580645</td>\n",
       "      <td>-0.032258</td>\n",
       "    </tr>\n",
       "    <tr>\n",
       "      <td>7004</td>\n",
       "      <td>4</td>\n",
       "      <td>5200</td>\n",
       "      <td>32.30</td>\n",
       "      <td>2017-09-14</td>\n",
       "      <td>0</td>\n",
       "      <td>2.75</td>\n",
       "      <td>11.0</td>\n",
       "      <td>25.500000</td>\n",
       "      <td>4</td>\n",
       "      <td>False</td>\n",
       "      <td>...</td>\n",
       "      <td>1</td>\n",
       "      <td>936</td>\n",
       "      <td>86.0</td>\n",
       "      <td>160</td>\n",
       "      <td>3</td>\n",
       "      <td>9</td>\n",
       "      <td>2017</td>\n",
       "      <td>другой</td>\n",
       "      <td>0.789474</td>\n",
       "      <td>-0.030960</td>\n",
       "    </tr>\n",
       "    <tr>\n",
       "      <td>7233</td>\n",
       "      <td>8</td>\n",
       "      <td>2999</td>\n",
       "      <td>42.63</td>\n",
       "      <td>2017-11-27</td>\n",
       "      <td>0</td>\n",
       "      <td>2.75</td>\n",
       "      <td>16.0</td>\n",
       "      <td>25.700000</td>\n",
       "      <td>2</td>\n",
       "      <td>False</td>\n",
       "      <td>...</td>\n",
       "      <td>0</td>\n",
       "      <td>0</td>\n",
       "      <td>45.0</td>\n",
       "      <td>70</td>\n",
       "      <td>0</td>\n",
       "      <td>11</td>\n",
       "      <td>2017</td>\n",
       "      <td>другой</td>\n",
       "      <td>0.602862</td>\n",
       "      <td>-0.023458</td>\n",
       "    </tr>\n",
       "    <tr>\n",
       "      <td>7282</td>\n",
       "      <td>6</td>\n",
       "      <td>2580</td>\n",
       "      <td>30.00</td>\n",
       "      <td>2018-02-07</td>\n",
       "      <td>0</td>\n",
       "      <td>2.75</td>\n",
       "      <td>18.0</td>\n",
       "      <td>19.000000</td>\n",
       "      <td>2</td>\n",
       "      <td>False</td>\n",
       "      <td>...</td>\n",
       "      <td>0</td>\n",
       "      <td>0</td>\n",
       "      <td>41.0</td>\n",
       "      <td>86</td>\n",
       "      <td>2</td>\n",
       "      <td>2</td>\n",
       "      <td>2018</td>\n",
       "      <td>другой</td>\n",
       "      <td>0.633333</td>\n",
       "      <td>-0.033333</td>\n",
       "    </tr>\n",
       "    <tr>\n",
       "      <td>7814</td>\n",
       "      <td>11</td>\n",
       "      <td>3300</td>\n",
       "      <td>27.30</td>\n",
       "      <td>2018-04-06</td>\n",
       "      <td>0</td>\n",
       "      <td>2.75</td>\n",
       "      <td>20.0</td>\n",
       "      <td>15.506024</td>\n",
       "      <td>9</td>\n",
       "      <td>False</td>\n",
       "      <td>...</td>\n",
       "      <td>1</td>\n",
       "      <td>584</td>\n",
       "      <td>31.0</td>\n",
       "      <td>120</td>\n",
       "      <td>4</td>\n",
       "      <td>4</td>\n",
       "      <td>2018</td>\n",
       "      <td>другой</td>\n",
       "      <td>0.567986</td>\n",
       "      <td>-0.036630</td>\n",
       "    </tr>\n",
       "    <tr>\n",
       "      <td>9407</td>\n",
       "      <td>5</td>\n",
       "      <td>2100</td>\n",
       "      <td>16.00</td>\n",
       "      <td>2017-12-10</td>\n",
       "      <td>0</td>\n",
       "      <td>2.75</td>\n",
       "      <td>6.0</td>\n",
       "      <td>13.000000</td>\n",
       "      <td>1</td>\n",
       "      <td>False</td>\n",
       "      <td>...</td>\n",
       "      <td>3</td>\n",
       "      <td>72</td>\n",
       "      <td>3.0</td>\n",
       "      <td>131</td>\n",
       "      <td>6</td>\n",
       "      <td>12</td>\n",
       "      <td>2017</td>\n",
       "      <td>первый</td>\n",
       "      <td>0.812500</td>\n",
       "      <td>-0.062500</td>\n",
       "    </tr>\n",
       "    <tr>\n",
       "      <td>9581</td>\n",
       "      <td>7</td>\n",
       "      <td>1670</td>\n",
       "      <td>28.30</td>\n",
       "      <td>2017-09-27</td>\n",
       "      <td>0</td>\n",
       "      <td>2.75</td>\n",
       "      <td>9.0</td>\n",
       "      <td>18.200000</td>\n",
       "      <td>3</td>\n",
       "      <td>False</td>\n",
       "      <td>...</td>\n",
       "      <td>0</td>\n",
       "      <td>0</td>\n",
       "      <td>45.0</td>\n",
       "      <td>59</td>\n",
       "      <td>2</td>\n",
       "      <td>9</td>\n",
       "      <td>2017</td>\n",
       "      <td>другой</td>\n",
       "      <td>0.643110</td>\n",
       "      <td>-0.035336</td>\n",
       "    </tr>\n",
       "    <tr>\n",
       "      <td>9856</td>\n",
       "      <td>10</td>\n",
       "      <td>2350</td>\n",
       "      <td>25.00</td>\n",
       "      <td>2017-12-03</td>\n",
       "      <td>0</td>\n",
       "      <td>2.75</td>\n",
       "      <td>22.0</td>\n",
       "      <td>25.000000</td>\n",
       "      <td>17</td>\n",
       "      <td>False</td>\n",
       "      <td>...</td>\n",
       "      <td>0</td>\n",
       "      <td>0</td>\n",
       "      <td>13.0</td>\n",
       "      <td>94</td>\n",
       "      <td>6</td>\n",
       "      <td>12</td>\n",
       "      <td>2017</td>\n",
       "      <td>другой</td>\n",
       "      <td>1.000000</td>\n",
       "      <td>-0.040000</td>\n",
       "    </tr>\n",
       "    <tr>\n",
       "      <td>10279</td>\n",
       "      <td>9</td>\n",
       "      <td>2700</td>\n",
       "      <td>24.00</td>\n",
       "      <td>2017-01-23</td>\n",
       "      <td>0</td>\n",
       "      <td>2.75</td>\n",
       "      <td>12.0</td>\n",
       "      <td>15.500000</td>\n",
       "      <td>11</td>\n",
       "      <td>False</td>\n",
       "      <td>...</td>\n",
       "      <td>0</td>\n",
       "      <td>0</td>\n",
       "      <td>357.0</td>\n",
       "      <td>112</td>\n",
       "      <td>0</td>\n",
       "      <td>1</td>\n",
       "      <td>2017</td>\n",
       "      <td>другой</td>\n",
       "      <td>0.645833</td>\n",
       "      <td>-0.041667</td>\n",
       "    </tr>\n",
       "    <tr>\n",
       "      <td>10601</td>\n",
       "      <td>14</td>\n",
       "      <td>2950</td>\n",
       "      <td>25.27</td>\n",
       "      <td>2017-11-17</td>\n",
       "      <td>0</td>\n",
       "      <td>2.75</td>\n",
       "      <td>25.0</td>\n",
       "      <td>25.000000</td>\n",
       "      <td>11</td>\n",
       "      <td>False</td>\n",
       "      <td>...</td>\n",
       "      <td>1</td>\n",
       "      <td>623</td>\n",
       "      <td>51.0</td>\n",
       "      <td>116</td>\n",
       "      <td>4</td>\n",
       "      <td>11</td>\n",
       "      <td>2017</td>\n",
       "      <td>другой</td>\n",
       "      <td>0.989315</td>\n",
       "      <td>-0.039573</td>\n",
       "    </tr>\n",
       "    <tr>\n",
       "      <td>11030</td>\n",
       "      <td>1</td>\n",
       "      <td>2500</td>\n",
       "      <td>26.00</td>\n",
       "      <td>2017-11-10</td>\n",
       "      <td>0</td>\n",
       "      <td>2.75</td>\n",
       "      <td>8.0</td>\n",
       "      <td>14.000000</td>\n",
       "      <td>6</td>\n",
       "      <td>False</td>\n",
       "      <td>...</td>\n",
       "      <td>0</td>\n",
       "      <td>0</td>\n",
       "      <td>22.0</td>\n",
       "      <td>96</td>\n",
       "      <td>4</td>\n",
       "      <td>11</td>\n",
       "      <td>2017</td>\n",
       "      <td>другой</td>\n",
       "      <td>0.538462</td>\n",
       "      <td>-0.038462</td>\n",
       "    </tr>\n",
       "    <tr>\n",
       "      <td>11046</td>\n",
       "      <td>2</td>\n",
       "      <td>2200</td>\n",
       "      <td>26.00</td>\n",
       "      <td>2017-10-24</td>\n",
       "      <td>0</td>\n",
       "      <td>2.75</td>\n",
       "      <td>21.0</td>\n",
       "      <td>12.000000</td>\n",
       "      <td>21</td>\n",
       "      <td>False</td>\n",
       "      <td>...</td>\n",
       "      <td>0</td>\n",
       "      <td>0</td>\n",
       "      <td>35.0</td>\n",
       "      <td>84</td>\n",
       "      <td>1</td>\n",
       "      <td>10</td>\n",
       "      <td>2017</td>\n",
       "      <td>последний</td>\n",
       "      <td>0.461538</td>\n",
       "      <td>-0.038462</td>\n",
       "    </tr>\n",
       "    <tr>\n",
       "      <td>11152</td>\n",
       "      <td>0</td>\n",
       "      <td>2900</td>\n",
       "      <td>27.30</td>\n",
       "      <td>2017-11-22</td>\n",
       "      <td>0</td>\n",
       "      <td>2.80</td>\n",
       "      <td>8.0</td>\n",
       "      <td>20.000000</td>\n",
       "      <td>5</td>\n",
       "      <td>False</td>\n",
       "      <td>...</td>\n",
       "      <td>0</td>\n",
       "      <td>0</td>\n",
       "      <td>9.0</td>\n",
       "      <td>106</td>\n",
       "      <td>2</td>\n",
       "      <td>11</td>\n",
       "      <td>2017</td>\n",
       "      <td>другой</td>\n",
       "      <td>0.732601</td>\n",
       "      <td>-0.036630</td>\n",
       "    </tr>\n",
       "    <tr>\n",
       "      <td>11326</td>\n",
       "      <td>6</td>\n",
       "      <td>1315</td>\n",
       "      <td>27.32</td>\n",
       "      <td>2017-09-29</td>\n",
       "      <td>0</td>\n",
       "      <td>2.70</td>\n",
       "      <td>15.0</td>\n",
       "      <td>18.700000</td>\n",
       "      <td>15</td>\n",
       "      <td>False</td>\n",
       "      <td>...</td>\n",
       "      <td>0</td>\n",
       "      <td>0</td>\n",
       "      <td>116.0</td>\n",
       "      <td>48</td>\n",
       "      <td>4</td>\n",
       "      <td>9</td>\n",
       "      <td>2017</td>\n",
       "      <td>последний</td>\n",
       "      <td>0.684480</td>\n",
       "      <td>-0.036603</td>\n",
       "    </tr>\n",
       "    <tr>\n",
       "      <td>11687</td>\n",
       "      <td>0</td>\n",
       "      <td>2550</td>\n",
       "      <td>23.06</td>\n",
       "      <td>2017-10-24</td>\n",
       "      <td>0</td>\n",
       "      <td>2.80</td>\n",
       "      <td>14.0</td>\n",
       "      <td>18.000000</td>\n",
       "      <td>9</td>\n",
       "      <td>False</td>\n",
       "      <td>...</td>\n",
       "      <td>0</td>\n",
       "      <td>0</td>\n",
       "      <td>20.0</td>\n",
       "      <td>110</td>\n",
       "      <td>1</td>\n",
       "      <td>10</td>\n",
       "      <td>2017</td>\n",
       "      <td>другой</td>\n",
       "      <td>0.780572</td>\n",
       "      <td>-0.043365</td>\n",
       "    </tr>\n",
       "    <tr>\n",
       "      <td>11700</td>\n",
       "      <td>5</td>\n",
       "      <td>3380</td>\n",
       "      <td>26.00</td>\n",
       "      <td>2018-02-20</td>\n",
       "      <td>0</td>\n",
       "      <td>2.80</td>\n",
       "      <td>17.0</td>\n",
       "      <td>17.000000</td>\n",
       "      <td>8</td>\n",
       "      <td>False</td>\n",
       "      <td>...</td>\n",
       "      <td>1</td>\n",
       "      <td>802</td>\n",
       "      <td>45.0</td>\n",
       "      <td>130</td>\n",
       "      <td>1</td>\n",
       "      <td>2</td>\n",
       "      <td>2018</td>\n",
       "      <td>другой</td>\n",
       "      <td>0.653846</td>\n",
       "      <td>-0.038462</td>\n",
       "    </tr>\n",
       "    <tr>\n",
       "      <td>12407</td>\n",
       "      <td>0</td>\n",
       "      <td>3300</td>\n",
       "      <td>27.00</td>\n",
       "      <td>2017-08-15</td>\n",
       "      <td>0</td>\n",
       "      <td>2.75</td>\n",
       "      <td>25.0</td>\n",
       "      <td>25.000000</td>\n",
       "      <td>22</td>\n",
       "      <td>False</td>\n",
       "      <td>...</td>\n",
       "      <td>1</td>\n",
       "      <td>337</td>\n",
       "      <td>161.0</td>\n",
       "      <td>122</td>\n",
       "      <td>1</td>\n",
       "      <td>8</td>\n",
       "      <td>2017</td>\n",
       "      <td>другой</td>\n",
       "      <td>0.925926</td>\n",
       "      <td>-0.037037</td>\n",
       "    </tr>\n",
       "    <tr>\n",
       "      <td>12686</td>\n",
       "      <td>1</td>\n",
       "      <td>3700</td>\n",
       "      <td>24.20</td>\n",
       "      <td>2017-11-10</td>\n",
       "      <td>0</td>\n",
       "      <td>2.75</td>\n",
       "      <td>19.0</td>\n",
       "      <td>24.200000</td>\n",
       "      <td>13</td>\n",
       "      <td>False</td>\n",
       "      <td>...</td>\n",
       "      <td>2</td>\n",
       "      <td>210</td>\n",
       "      <td>74.0</td>\n",
       "      <td>152</td>\n",
       "      <td>4</td>\n",
       "      <td>11</td>\n",
       "      <td>2017</td>\n",
       "      <td>другой</td>\n",
       "      <td>1.000000</td>\n",
       "      <td>-0.041322</td>\n",
       "    </tr>\n",
       "    <tr>\n",
       "      <td>13946</td>\n",
       "      <td>21</td>\n",
       "      <td>3255</td>\n",
       "      <td>28.20</td>\n",
       "      <td>2017-09-26</td>\n",
       "      <td>0</td>\n",
       "      <td>2.75</td>\n",
       "      <td>24.0</td>\n",
       "      <td>20.000000</td>\n",
       "      <td>2</td>\n",
       "      <td>False</td>\n",
       "      <td>...</td>\n",
       "      <td>0</td>\n",
       "      <td>0</td>\n",
       "      <td>119.0</td>\n",
       "      <td>115</td>\n",
       "      <td>1</td>\n",
       "      <td>9</td>\n",
       "      <td>2017</td>\n",
       "      <td>другой</td>\n",
       "      <td>0.709220</td>\n",
       "      <td>-0.035461</td>\n",
       "    </tr>\n",
       "    <tr>\n",
       "      <td>15096</td>\n",
       "      <td>8</td>\n",
       "      <td>2500</td>\n",
       "      <td>26.10</td>\n",
       "      <td>2017-12-01</td>\n",
       "      <td>0</td>\n",
       "      <td>2.75</td>\n",
       "      <td>25.0</td>\n",
       "      <td>18.000000</td>\n",
       "      <td>4</td>\n",
       "      <td>False</td>\n",
       "      <td>...</td>\n",
       "      <td>0</td>\n",
       "      <td>0</td>\n",
       "      <td>45.0</td>\n",
       "      <td>95</td>\n",
       "      <td>4</td>\n",
       "      <td>12</td>\n",
       "      <td>2017</td>\n",
       "      <td>другой</td>\n",
       "      <td>0.689655</td>\n",
       "      <td>-0.038314</td>\n",
       "    </tr>\n",
       "    <tr>\n",
       "      <td>15264</td>\n",
       "      <td>9</td>\n",
       "      <td>2700</td>\n",
       "      <td>25.20</td>\n",
       "      <td>2017-11-10</td>\n",
       "      <td>0</td>\n",
       "      <td>2.75</td>\n",
       "      <td>9.0</td>\n",
       "      <td>15.200000</td>\n",
       "      <td>2</td>\n",
       "      <td>False</td>\n",
       "      <td>...</td>\n",
       "      <td>0</td>\n",
       "      <td>0</td>\n",
       "      <td>23.0</td>\n",
       "      <td>107</td>\n",
       "      <td>4</td>\n",
       "      <td>11</td>\n",
       "      <td>2017</td>\n",
       "      <td>другой</td>\n",
       "      <td>0.603175</td>\n",
       "      <td>-0.039683</td>\n",
       "    </tr>\n",
       "    <tr>\n",
       "      <td>15425</td>\n",
       "      <td>0</td>\n",
       "      <td>2200</td>\n",
       "      <td>27.00</td>\n",
       "      <td>2017-01-01</td>\n",
       "      <td>0</td>\n",
       "      <td>2.75</td>\n",
       "      <td>25.0</td>\n",
       "      <td>15.000000</td>\n",
       "      <td>5</td>\n",
       "      <td>False</td>\n",
       "      <td>...</td>\n",
       "      <td>3</td>\n",
       "      <td>865</td>\n",
       "      <td>336.0</td>\n",
       "      <td>81</td>\n",
       "      <td>6</td>\n",
       "      <td>1</td>\n",
       "      <td>2017</td>\n",
       "      <td>другой</td>\n",
       "      <td>0.555556</td>\n",
       "      <td>-0.037037</td>\n",
       "    </tr>\n",
       "    <tr>\n",
       "      <td>16420</td>\n",
       "      <td>2</td>\n",
       "      <td>2460</td>\n",
       "      <td>28.01</td>\n",
       "      <td>2017-08-17</td>\n",
       "      <td>0</td>\n",
       "      <td>2.75</td>\n",
       "      <td>17.0</td>\n",
       "      <td>18.100000</td>\n",
       "      <td>5</td>\n",
       "      <td>False</td>\n",
       "      <td>...</td>\n",
       "      <td>0</td>\n",
       "      <td>0</td>\n",
       "      <td>15.0</td>\n",
       "      <td>87</td>\n",
       "      <td>3</td>\n",
       "      <td>8</td>\n",
       "      <td>2017</td>\n",
       "      <td>другой</td>\n",
       "      <td>0.646198</td>\n",
       "      <td>-0.035702</td>\n",
       "    </tr>\n",
       "    <tr>\n",
       "      <td>17684</td>\n",
       "      <td>7</td>\n",
       "      <td>2550</td>\n",
       "      <td>24.00</td>\n",
       "      <td>2017-12-16</td>\n",
       "      <td>0</td>\n",
       "      <td>2.75</td>\n",
       "      <td>23.0</td>\n",
       "      <td>17.000000</td>\n",
       "      <td>8</td>\n",
       "      <td>False</td>\n",
       "      <td>...</td>\n",
       "      <td>0</td>\n",
       "      <td>0</td>\n",
       "      <td>38.0</td>\n",
       "      <td>106</td>\n",
       "      <td>5</td>\n",
       "      <td>12</td>\n",
       "      <td>2017</td>\n",
       "      <td>другой</td>\n",
       "      <td>0.708333</td>\n",
       "      <td>-0.041667</td>\n",
       "    </tr>\n",
       "    <tr>\n",
       "      <td>17718</td>\n",
       "      <td>7</td>\n",
       "      <td>2948</td>\n",
       "      <td>28.05</td>\n",
       "      <td>2017-12-09</td>\n",
       "      <td>0</td>\n",
       "      <td>2.75</td>\n",
       "      <td>14.0</td>\n",
       "      <td>21.800000</td>\n",
       "      <td>9</td>\n",
       "      <td>False</td>\n",
       "      <td>...</td>\n",
       "      <td>2</td>\n",
       "      <td>100</td>\n",
       "      <td>45.0</td>\n",
       "      <td>105</td>\n",
       "      <td>5</td>\n",
       "      <td>12</td>\n",
       "      <td>2017</td>\n",
       "      <td>другой</td>\n",
       "      <td>0.777184</td>\n",
       "      <td>-0.035651</td>\n",
       "    </tr>\n",
       "    <tr>\n",
       "      <td>17794</td>\n",
       "      <td>17</td>\n",
       "      <td>2600</td>\n",
       "      <td>31.10</td>\n",
       "      <td>2017-10-25</td>\n",
       "      <td>0</td>\n",
       "      <td>2.75</td>\n",
       "      <td>16.0</td>\n",
       "      <td>21.400000</td>\n",
       "      <td>14</td>\n",
       "      <td>False</td>\n",
       "      <td>...</td>\n",
       "      <td>1</td>\n",
       "      <td>457</td>\n",
       "      <td>44.0</td>\n",
       "      <td>83</td>\n",
       "      <td>2</td>\n",
       "      <td>10</td>\n",
       "      <td>2017</td>\n",
       "      <td>другой</td>\n",
       "      <td>0.688103</td>\n",
       "      <td>-0.032154</td>\n",
       "    </tr>\n",
       "    <tr>\n",
       "      <td>17813</td>\n",
       "      <td>10</td>\n",
       "      <td>2300</td>\n",
       "      <td>22.50</td>\n",
       "      <td>2017-09-27</td>\n",
       "      <td>0</td>\n",
       "      <td>2.75</td>\n",
       "      <td>22.0</td>\n",
       "      <td>20.000000</td>\n",
       "      <td>7</td>\n",
       "      <td>False</td>\n",
       "      <td>...</td>\n",
       "      <td>0</td>\n",
       "      <td>0</td>\n",
       "      <td>11.0</td>\n",
       "      <td>102</td>\n",
       "      <td>2</td>\n",
       "      <td>9</td>\n",
       "      <td>2017</td>\n",
       "      <td>другой</td>\n",
       "      <td>0.888889</td>\n",
       "      <td>-0.044444</td>\n",
       "    </tr>\n",
       "    <tr>\n",
       "      <td>18031</td>\n",
       "      <td>15</td>\n",
       "      <td>2950</td>\n",
       "      <td>25.90</td>\n",
       "      <td>2017-12-09</td>\n",
       "      <td>0</td>\n",
       "      <td>2.75</td>\n",
       "      <td>14.0</td>\n",
       "      <td>16.900000</td>\n",
       "      <td>9</td>\n",
       "      <td>False</td>\n",
       "      <td>...</td>\n",
       "      <td>1</td>\n",
       "      <td>893</td>\n",
       "      <td>45.0</td>\n",
       "      <td>113</td>\n",
       "      <td>5</td>\n",
       "      <td>12</td>\n",
       "      <td>2017</td>\n",
       "      <td>другой</td>\n",
       "      <td>0.652510</td>\n",
       "      <td>-0.038610</td>\n",
       "    </tr>\n",
       "    <tr>\n",
       "      <td>18538</td>\n",
       "      <td>16</td>\n",
       "      <td>3699</td>\n",
       "      <td>29.00</td>\n",
       "      <td>2017-11-11</td>\n",
       "      <td>0</td>\n",
       "      <td>2.75</td>\n",
       "      <td>16.0</td>\n",
       "      <td>19.000000</td>\n",
       "      <td>11</td>\n",
       "      <td>False</td>\n",
       "      <td>...</td>\n",
       "      <td>0</td>\n",
       "      <td>0</td>\n",
       "      <td>70.0</td>\n",
       "      <td>127</td>\n",
       "      <td>5</td>\n",
       "      <td>11</td>\n",
       "      <td>2017</td>\n",
       "      <td>другой</td>\n",
       "      <td>0.655172</td>\n",
       "      <td>-0.034483</td>\n",
       "    </tr>\n",
       "    <tr>\n",
       "      <td>18771</td>\n",
       "      <td>0</td>\n",
       "      <td>2500</td>\n",
       "      <td>25.00</td>\n",
       "      <td>2017-10-08</td>\n",
       "      <td>0</td>\n",
       "      <td>2.75</td>\n",
       "      <td>22.0</td>\n",
       "      <td>17.000000</td>\n",
       "      <td>19</td>\n",
       "      <td>False</td>\n",
       "      <td>...</td>\n",
       "      <td>0</td>\n",
       "      <td>0</td>\n",
       "      <td>8.0</td>\n",
       "      <td>100</td>\n",
       "      <td>6</td>\n",
       "      <td>10</td>\n",
       "      <td>2017</td>\n",
       "      <td>другой</td>\n",
       "      <td>0.680000</td>\n",
       "      <td>-0.040000</td>\n",
       "    </tr>\n",
       "    <tr>\n",
       "      <td>19466</td>\n",
       "      <td>11</td>\n",
       "      <td>2300</td>\n",
       "      <td>20.00</td>\n",
       "      <td>2017-11-10</td>\n",
       "      <td>0</td>\n",
       "      <td>2.75</td>\n",
       "      <td>10.0</td>\n",
       "      <td>16.000000</td>\n",
       "      <td>1</td>\n",
       "      <td>False</td>\n",
       "      <td>...</td>\n",
       "      <td>1</td>\n",
       "      <td>815</td>\n",
       "      <td>35.0</td>\n",
       "      <td>115</td>\n",
       "      <td>4</td>\n",
       "      <td>11</td>\n",
       "      <td>2017</td>\n",
       "      <td>первый</td>\n",
       "      <td>0.800000</td>\n",
       "      <td>-0.050000</td>\n",
       "    </tr>\n",
       "    <tr>\n",
       "      <td>19724</td>\n",
       "      <td>1</td>\n",
       "      <td>2800</td>\n",
       "      <td>30.50</td>\n",
       "      <td>2017-10-10</td>\n",
       "      <td>0</td>\n",
       "      <td>2.75</td>\n",
       "      <td>25.0</td>\n",
       "      <td>20.000000</td>\n",
       "      <td>2</td>\n",
       "      <td>False</td>\n",
       "      <td>...</td>\n",
       "      <td>0</td>\n",
       "      <td>0</td>\n",
       "      <td>13.0</td>\n",
       "      <td>91</td>\n",
       "      <td>1</td>\n",
       "      <td>10</td>\n",
       "      <td>2017</td>\n",
       "      <td>другой</td>\n",
       "      <td>0.655738</td>\n",
       "      <td>-0.032787</td>\n",
       "    </tr>\n",
       "    <tr>\n",
       "      <td>19906</td>\n",
       "      <td>5</td>\n",
       "      <td>2340</td>\n",
       "      <td>25.41</td>\n",
       "      <td>2017-09-29</td>\n",
       "      <td>0</td>\n",
       "      <td>2.75</td>\n",
       "      <td>25.0</td>\n",
       "      <td>18.500000</td>\n",
       "      <td>13</td>\n",
       "      <td>False</td>\n",
       "      <td>...</td>\n",
       "      <td>0</td>\n",
       "      <td>0</td>\n",
       "      <td>3.0</td>\n",
       "      <td>92</td>\n",
       "      <td>4</td>\n",
       "      <td>9</td>\n",
       "      <td>2017</td>\n",
       "      <td>другой</td>\n",
       "      <td>0.728060</td>\n",
       "      <td>-0.039355</td>\n",
       "    </tr>\n",
       "    <tr>\n",
       "      <td>19990</td>\n",
       "      <td>8</td>\n",
       "      <td>2700</td>\n",
       "      <td>28.00</td>\n",
       "      <td>2017-11-10</td>\n",
       "      <td>0</td>\n",
       "      <td>2.75</td>\n",
       "      <td>21.0</td>\n",
       "      <td>20.000000</td>\n",
       "      <td>6</td>\n",
       "      <td>False</td>\n",
       "      <td>...</td>\n",
       "      <td>1</td>\n",
       "      <td>170</td>\n",
       "      <td>17.0</td>\n",
       "      <td>96</td>\n",
       "      <td>4</td>\n",
       "      <td>11</td>\n",
       "      <td>2017</td>\n",
       "      <td>другой</td>\n",
       "      <td>0.714286</td>\n",
       "      <td>-0.035714</td>\n",
       "    </tr>\n",
       "    <tr>\n",
       "      <td>20033</td>\n",
       "      <td>3</td>\n",
       "      <td>3100</td>\n",
       "      <td>25.00</td>\n",
       "      <td>2017-09-27</td>\n",
       "      <td>0</td>\n",
       "      <td>2.75</td>\n",
       "      <td>24.0</td>\n",
       "      <td>18.000000</td>\n",
       "      <td>24</td>\n",
       "      <td>False</td>\n",
       "      <td>...</td>\n",
       "      <td>0</td>\n",
       "      <td>0</td>\n",
       "      <td>7.0</td>\n",
       "      <td>124</td>\n",
       "      <td>2</td>\n",
       "      <td>9</td>\n",
       "      <td>2017</td>\n",
       "      <td>последний</td>\n",
       "      <td>0.720000</td>\n",
       "      <td>-0.040000</td>\n",
       "    </tr>\n",
       "    <tr>\n",
       "      <td>20042</td>\n",
       "      <td>5</td>\n",
       "      <td>2730</td>\n",
       "      <td>21.00</td>\n",
       "      <td>2017-11-22</td>\n",
       "      <td>0</td>\n",
       "      <td>2.75</td>\n",
       "      <td>9.0</td>\n",
       "      <td>14.000000</td>\n",
       "      <td>6</td>\n",
       "      <td>False</td>\n",
       "      <td>...</td>\n",
       "      <td>0</td>\n",
       "      <td>0</td>\n",
       "      <td>45.0</td>\n",
       "      <td>130</td>\n",
       "      <td>2</td>\n",
       "      <td>11</td>\n",
       "      <td>2017</td>\n",
       "      <td>другой</td>\n",
       "      <td>0.666667</td>\n",
       "      <td>-0.047619</td>\n",
       "    </tr>\n",
       "    <tr>\n",
       "      <td>20779</td>\n",
       "      <td>13</td>\n",
       "      <td>3600</td>\n",
       "      <td>27.50</td>\n",
       "      <td>2017-11-10</td>\n",
       "      <td>0</td>\n",
       "      <td>2.75</td>\n",
       "      <td>24.0</td>\n",
       "      <td>19.000000</td>\n",
       "      <td>23</td>\n",
       "      <td>False</td>\n",
       "      <td>...</td>\n",
       "      <td>1</td>\n",
       "      <td>527</td>\n",
       "      <td>74.0</td>\n",
       "      <td>130</td>\n",
       "      <td>4</td>\n",
       "      <td>11</td>\n",
       "      <td>2017</td>\n",
       "      <td>другой</td>\n",
       "      <td>0.690909</td>\n",
       "      <td>-0.036364</td>\n",
       "    </tr>\n",
       "    <tr>\n",
       "      <td>21283</td>\n",
       "      <td>13</td>\n",
       "      <td>2450</td>\n",
       "      <td>28.50</td>\n",
       "      <td>2017-11-22</td>\n",
       "      <td>0</td>\n",
       "      <td>2.75</td>\n",
       "      <td>12.0</td>\n",
       "      <td>18.000000</td>\n",
       "      <td>7</td>\n",
       "      <td>False</td>\n",
       "      <td>...</td>\n",
       "      <td>1</td>\n",
       "      <td>579</td>\n",
       "      <td>73.0</td>\n",
       "      <td>85</td>\n",
       "      <td>2</td>\n",
       "      <td>11</td>\n",
       "      <td>2017</td>\n",
       "      <td>другой</td>\n",
       "      <td>0.631579</td>\n",
       "      <td>-0.035088</td>\n",
       "    </tr>\n",
       "    <tr>\n",
       "      <td>21612</td>\n",
       "      <td>9</td>\n",
       "      <td>3900</td>\n",
       "      <td>34.00</td>\n",
       "      <td>2017-03-18</td>\n",
       "      <td>0</td>\n",
       "      <td>2.75</td>\n",
       "      <td>20.0</td>\n",
       "      <td>24.000000</td>\n",
       "      <td>10</td>\n",
       "      <td>False</td>\n",
       "      <td>...</td>\n",
       "      <td>1</td>\n",
       "      <td>767</td>\n",
       "      <td>320.0</td>\n",
       "      <td>114</td>\n",
       "      <td>5</td>\n",
       "      <td>3</td>\n",
       "      <td>2017</td>\n",
       "      <td>другой</td>\n",
       "      <td>0.705882</td>\n",
       "      <td>-0.029412</td>\n",
       "    </tr>\n",
       "    <tr>\n",
       "      <td>22555</td>\n",
       "      <td>8</td>\n",
       "      <td>2250</td>\n",
       "      <td>24.00</td>\n",
       "      <td>2017-09-28</td>\n",
       "      <td>0</td>\n",
       "      <td>2.75</td>\n",
       "      <td>12.0</td>\n",
       "      <td>15.000000</td>\n",
       "      <td>3</td>\n",
       "      <td>False</td>\n",
       "      <td>...</td>\n",
       "      <td>0</td>\n",
       "      <td>0</td>\n",
       "      <td>45.0</td>\n",
       "      <td>93</td>\n",
       "      <td>3</td>\n",
       "      <td>9</td>\n",
       "      <td>2017</td>\n",
       "      <td>другой</td>\n",
       "      <td>0.625000</td>\n",
       "      <td>-0.041667</td>\n",
       "    </tr>\n",
       "    <tr>\n",
       "      <td>23422</td>\n",
       "      <td>0</td>\n",
       "      <td>2500</td>\n",
       "      <td>27.70</td>\n",
       "      <td>2017-09-28</td>\n",
       "      <td>0</td>\n",
       "      <td>2.75</td>\n",
       "      <td>24.0</td>\n",
       "      <td>18.000000</td>\n",
       "      <td>4</td>\n",
       "      <td>False</td>\n",
       "      <td>...</td>\n",
       "      <td>0</td>\n",
       "      <td>0</td>\n",
       "      <td>4.0</td>\n",
       "      <td>90</td>\n",
       "      <td>3</td>\n",
       "      <td>9</td>\n",
       "      <td>2017</td>\n",
       "      <td>другой</td>\n",
       "      <td>0.649819</td>\n",
       "      <td>-0.036101</td>\n",
       "    </tr>\n",
       "    <tr>\n",
       "      <td>23572</td>\n",
       "      <td>10</td>\n",
       "      <td>1450</td>\n",
       "      <td>29.00</td>\n",
       "      <td>2017-11-11</td>\n",
       "      <td>0</td>\n",
       "      <td>2.75</td>\n",
       "      <td>9.0</td>\n",
       "      <td>18.000000</td>\n",
       "      <td>8</td>\n",
       "      <td>False</td>\n",
       "      <td>...</td>\n",
       "      <td>0</td>\n",
       "      <td>0</td>\n",
       "      <td>82.0</td>\n",
       "      <td>50</td>\n",
       "      <td>5</td>\n",
       "      <td>11</td>\n",
       "      <td>2017</td>\n",
       "      <td>другой</td>\n",
       "      <td>0.620690</td>\n",
       "      <td>-0.034483</td>\n",
       "    </tr>\n",
       "  </tbody>\n",
       "</table>\n",
       "<p>58 rows × 29 columns</p>\n",
       "</div>"
      ],
      "text/plain": [
       "       total_images  last_price  total_area first_day_exposition  rooms  \\\n",
       "349               4        2320       25.00           2017-09-27      0   \n",
       "508               0        3375       34.40           2017-03-28      0   \n",
       "780               9        2600       26.10           2018-02-20      0   \n",
       "839              14        1900       35.00           2017-04-14      0   \n",
       "946               5        2200       23.00           2016-09-27      0   \n",
       "1574              0        2200       22.00           2017-11-03      0   \n",
       "1625              7        1980       23.98           2018-02-01      0   \n",
       "2531              5        3500       27.10           2018-02-01      0   \n",
       "3016             18        2100       24.00           2017-11-10      0   \n",
       "4112              7        2600       24.00           2018-02-01      0   \n",
       "4434             10        3200       25.00           2017-10-16      0   \n",
       "4680              2        3650       35.00           2018-02-01      0   \n",
       "4873              7        3000       25.00           2017-09-27      0   \n",
       "5746             20        3590       25.00           2017-08-30      0   \n",
       "6469             13        3620       28.00           2017-11-10      0   \n",
       "6609             18        3590       26.80           2017-11-10      0   \n",
       "6801              7        1850       31.00           2017-11-10      0   \n",
       "7004              4        5200       32.30           2017-09-14      0   \n",
       "7233              8        2999       42.63           2017-11-27      0   \n",
       "7282              6        2580       30.00           2018-02-07      0   \n",
       "7814             11        3300       27.30           2018-04-06      0   \n",
       "9407              5        2100       16.00           2017-12-10      0   \n",
       "9581              7        1670       28.30           2017-09-27      0   \n",
       "9856             10        2350       25.00           2017-12-03      0   \n",
       "10279             9        2700       24.00           2017-01-23      0   \n",
       "10601            14        2950       25.27           2017-11-17      0   \n",
       "11030             1        2500       26.00           2017-11-10      0   \n",
       "11046             2        2200       26.00           2017-10-24      0   \n",
       "11152             0        2900       27.30           2017-11-22      0   \n",
       "11326             6        1315       27.32           2017-09-29      0   \n",
       "11687             0        2550       23.06           2017-10-24      0   \n",
       "11700             5        3380       26.00           2018-02-20      0   \n",
       "12407             0        3300       27.00           2017-08-15      0   \n",
       "12686             1        3700       24.20           2017-11-10      0   \n",
       "13946            21        3255       28.20           2017-09-26      0   \n",
       "15096             8        2500       26.10           2017-12-01      0   \n",
       "15264             9        2700       25.20           2017-11-10      0   \n",
       "15425             0        2200       27.00           2017-01-01      0   \n",
       "16420             2        2460       28.01           2017-08-17      0   \n",
       "17684             7        2550       24.00           2017-12-16      0   \n",
       "17718             7        2948       28.05           2017-12-09      0   \n",
       "17794            17        2600       31.10           2017-10-25      0   \n",
       "17813            10        2300       22.50           2017-09-27      0   \n",
       "18031            15        2950       25.90           2017-12-09      0   \n",
       "18538            16        3699       29.00           2017-11-11      0   \n",
       "18771             0        2500       25.00           2017-10-08      0   \n",
       "19466            11        2300       20.00           2017-11-10      0   \n",
       "19724             1        2800       30.50           2017-10-10      0   \n",
       "19906             5        2340       25.41           2017-09-29      0   \n",
       "19990             8        2700       28.00           2017-11-10      0   \n",
       "20033             3        3100       25.00           2017-09-27      0   \n",
       "20042             5        2730       21.00           2017-11-22      0   \n",
       "20779            13        3600       27.50           2017-11-10      0   \n",
       "21283            13        2450       28.50           2017-11-22      0   \n",
       "21612             9        3900       34.00           2017-03-18      0   \n",
       "22555             8        2250       24.00           2017-09-28      0   \n",
       "23422             0        2500       27.70           2017-09-28      0   \n",
       "23572            10        1450       29.00           2017-11-11      0   \n",
       "\n",
       "       ceiling_height  floors_total  living_area  floor  is_apartment  ...  \\\n",
       "349              2.75          14.0    17.000000      1         False  ...   \n",
       "508              2.75          26.0    24.300000     19         False  ...   \n",
       "780              2.75          18.0    14.824441      8         False  ...   \n",
       "839              2.70           5.0    15.000000      3         False  ...   \n",
       "946              2.75          27.0    18.000000      7         False  ...   \n",
       "1574             2.75          18.0    15.000000     16         False  ...   \n",
       "1625             2.75           4.0    10.500000      3         False  ...   \n",
       "2531             2.75          18.0    18.700000      9         False  ...   \n",
       "3016             2.75          10.0    18.000000      6         False  ...   \n",
       "4112             2.75          25.0    18.000000      4         False  ...   \n",
       "4434             2.75           9.0    18.600000      9         False  ...   \n",
       "4680             2.75          25.0    23.400000     25         False  ...   \n",
       "4873            27.00          25.0    17.000000     17         False  ...   \n",
       "5746             2.80          35.0    14.199656     26         False  ...   \n",
       "6469             2.70          20.0    18.000000     17         False  ...   \n",
       "6609             2.75          24.0    19.000000     20         False  ...   \n",
       "6801             2.75          18.0    18.000000     10         False  ...   \n",
       "7004             2.75          11.0    25.500000      4         False  ...   \n",
       "7233             2.75          16.0    25.700000      2         False  ...   \n",
       "7282             2.75          18.0    19.000000      2         False  ...   \n",
       "7814             2.75          20.0    15.506024      9         False  ...   \n",
       "9407             2.75           6.0    13.000000      1         False  ...   \n",
       "9581             2.75           9.0    18.200000      3         False  ...   \n",
       "9856             2.75          22.0    25.000000     17         False  ...   \n",
       "10279            2.75          12.0    15.500000     11         False  ...   \n",
       "10601            2.75          25.0    25.000000     11         False  ...   \n",
       "11030            2.75           8.0    14.000000      6         False  ...   \n",
       "11046            2.75          21.0    12.000000     21         False  ...   \n",
       "11152            2.80           8.0    20.000000      5         False  ...   \n",
       "11326            2.70          15.0    18.700000     15         False  ...   \n",
       "11687            2.80          14.0    18.000000      9         False  ...   \n",
       "11700            2.80          17.0    17.000000      8         False  ...   \n",
       "12407            2.75          25.0    25.000000     22         False  ...   \n",
       "12686            2.75          19.0    24.200000     13         False  ...   \n",
       "13946            2.75          24.0    20.000000      2         False  ...   \n",
       "15096            2.75          25.0    18.000000      4         False  ...   \n",
       "15264            2.75           9.0    15.200000      2         False  ...   \n",
       "15425            2.75          25.0    15.000000      5         False  ...   \n",
       "16420            2.75          17.0    18.100000      5         False  ...   \n",
       "17684            2.75          23.0    17.000000      8         False  ...   \n",
       "17718            2.75          14.0    21.800000      9         False  ...   \n",
       "17794            2.75          16.0    21.400000     14         False  ...   \n",
       "17813            2.75          22.0    20.000000      7         False  ...   \n",
       "18031            2.75          14.0    16.900000      9         False  ...   \n",
       "18538            2.75          16.0    19.000000     11         False  ...   \n",
       "18771            2.75          22.0    17.000000     19         False  ...   \n",
       "19466            2.75          10.0    16.000000      1         False  ...   \n",
       "19724            2.75          25.0    20.000000      2         False  ...   \n",
       "19906            2.75          25.0    18.500000     13         False  ...   \n",
       "19990            2.75          21.0    20.000000      6         False  ...   \n",
       "20033            2.75          24.0    18.000000     24         False  ...   \n",
       "20042            2.75           9.0    14.000000      6         False  ...   \n",
       "20779            2.75          24.0    19.000000     23         False  ...   \n",
       "21283            2.75          12.0    18.000000      7         False  ...   \n",
       "21612            2.75          20.0    24.000000     10         False  ...   \n",
       "22555            2.75          12.0    15.000000      3         False  ...   \n",
       "23422            2.75          24.0    18.000000      4         False  ...   \n",
       "23572            2.75           9.0    18.000000      8         False  ...   \n",
       "\n",
       "       ponds_around_3km  ponds_nearest  days_exposition  price_m2  \\\n",
       "349                   0              0             45.0        92   \n",
       "508                   1            593            430.0        98   \n",
       "780                   0              0             45.0        99   \n",
       "839                   0              0              7.0        54   \n",
       "946                   0              0            483.0        95   \n",
       "1574                  0              0             81.0       100   \n",
       "1625                  0              0            120.0        82   \n",
       "2531                  1            644             70.0       129   \n",
       "3016                  0              0              5.0        87   \n",
       "4112                  0              0             42.0       108   \n",
       "4434                  1            232             97.0       128   \n",
       "4680                  0              0            100.0       104   \n",
       "4873                  0              0             28.0       120   \n",
       "5746                  3             80            198.0       143   \n",
       "6469                  0              0             37.0       129   \n",
       "6609                  0              0             15.0       133   \n",
       "6801                  0              0              7.0        59   \n",
       "7004                  1            936             86.0       160   \n",
       "7233                  0              0             45.0        70   \n",
       "7282                  0              0             41.0        86   \n",
       "7814                  1            584             31.0       120   \n",
       "9407                  3             72              3.0       131   \n",
       "9581                  0              0             45.0        59   \n",
       "9856                  0              0             13.0        94   \n",
       "10279                 0              0            357.0       112   \n",
       "10601                 1            623             51.0       116   \n",
       "11030                 0              0             22.0        96   \n",
       "11046                 0              0             35.0        84   \n",
       "11152                 0              0              9.0       106   \n",
       "11326                 0              0            116.0        48   \n",
       "11687                 0              0             20.0       110   \n",
       "11700                 1            802             45.0       130   \n",
       "12407                 1            337            161.0       122   \n",
       "12686                 2            210             74.0       152   \n",
       "13946                 0              0            119.0       115   \n",
       "15096                 0              0             45.0        95   \n",
       "15264                 0              0             23.0       107   \n",
       "15425                 3            865            336.0        81   \n",
       "16420                 0              0             15.0        87   \n",
       "17684                 0              0             38.0       106   \n",
       "17718                 2            100             45.0       105   \n",
       "17794                 1            457             44.0        83   \n",
       "17813                 0              0             11.0       102   \n",
       "18031                 1            893             45.0       113   \n",
       "18538                 0              0             70.0       127   \n",
       "18771                 0              0              8.0       100   \n",
       "19466                 1            815             35.0       115   \n",
       "19724                 0              0             13.0        91   \n",
       "19906                 0              0              3.0        92   \n",
       "19990                 1            170             17.0        96   \n",
       "20033                 0              0              7.0       124   \n",
       "20042                 0              0             45.0       130   \n",
       "20779                 1            527             74.0       130   \n",
       "21283                 1            579             73.0        85   \n",
       "21612                 1            767            320.0       114   \n",
       "22555                 0              0             45.0        93   \n",
       "23422                 0              0              4.0        90   \n",
       "23572                 0              0             82.0        50   \n",
       "\n",
       "      day_exposition  month_exposition  year_exposition  floor_number  \\\n",
       "349                2                 9             2017        первый   \n",
       "508                1                 3             2017        другой   \n",
       "780                1                 2             2018        другой   \n",
       "839                4                 4             2017        другой   \n",
       "946                1                 9             2016        другой   \n",
       "1574               4                11             2017        другой   \n",
       "1625               3                 2             2018        другой   \n",
       "2531               3                 2             2018        другой   \n",
       "3016               4                11             2017        другой   \n",
       "4112               3                 2             2018        другой   \n",
       "4434               0                10             2017     последний   \n",
       "4680               3                 2             2018     последний   \n",
       "4873               2                 9             2017        другой   \n",
       "5746               2                 8             2017        другой   \n",
       "6469               4                11             2017        другой   \n",
       "6609               4                11             2017        другой   \n",
       "6801               4                11             2017        другой   \n",
       "7004               3                 9             2017        другой   \n",
       "7233               0                11             2017        другой   \n",
       "7282               2                 2             2018        другой   \n",
       "7814               4                 4             2018        другой   \n",
       "9407               6                12             2017        первый   \n",
       "9581               2                 9             2017        другой   \n",
       "9856               6                12             2017        другой   \n",
       "10279              0                 1             2017        другой   \n",
       "10601              4                11             2017        другой   \n",
       "11030              4                11             2017        другой   \n",
       "11046              1                10             2017     последний   \n",
       "11152              2                11             2017        другой   \n",
       "11326              4                 9             2017     последний   \n",
       "11687              1                10             2017        другой   \n",
       "11700              1                 2             2018        другой   \n",
       "12407              1                 8             2017        другой   \n",
       "12686              4                11             2017        другой   \n",
       "13946              1                 9             2017        другой   \n",
       "15096              4                12             2017        другой   \n",
       "15264              4                11             2017        другой   \n",
       "15425              6                 1             2017        другой   \n",
       "16420              3                 8             2017        другой   \n",
       "17684              5                12             2017        другой   \n",
       "17718              5                12             2017        другой   \n",
       "17794              2                10             2017        другой   \n",
       "17813              2                 9             2017        другой   \n",
       "18031              5                12             2017        другой   \n",
       "18538              5                11             2017        другой   \n",
       "18771              6                10             2017        другой   \n",
       "19466              4                11             2017        первый   \n",
       "19724              1                10             2017        другой   \n",
       "19906              4                 9             2017        другой   \n",
       "19990              4                11             2017        другой   \n",
       "20033              2                 9             2017     последний   \n",
       "20042              2                11             2017        другой   \n",
       "20779              4                11             2017        другой   \n",
       "21283              2                11             2017        другой   \n",
       "21612              5                 3             2017        другой   \n",
       "22555              3                 9             2017        другой   \n",
       "23422              3                 9             2017        другой   \n",
       "23572              5                11             2017        другой   \n",
       "\n",
       "       living_total_ratio  kitchen_total_ratio  \n",
       "349              0.680000            -0.040000  \n",
       "508              0.706395            -0.029070  \n",
       "780              0.567986            -0.038314  \n",
       "839              0.428571            -0.028571  \n",
       "946              0.782609            -0.043478  \n",
       "1574             0.681818            -0.045455  \n",
       "1625             0.437865            -0.041701  \n",
       "2531             0.690037            -0.036900  \n",
       "3016             0.750000            -0.041667  \n",
       "4112             0.750000            -0.041667  \n",
       "4434             0.744000            -0.040000  \n",
       "4680             0.668571            -0.028571  \n",
       "4873             0.680000            -0.040000  \n",
       "5746             0.567986            -0.040000  \n",
       "6469             0.642857            -0.035714  \n",
       "6609             0.708955            -0.037313  \n",
       "6801             0.580645            -0.032258  \n",
       "7004             0.789474            -0.030960  \n",
       "7233             0.602862            -0.023458  \n",
       "7282             0.633333            -0.033333  \n",
       "7814             0.567986            -0.036630  \n",
       "9407             0.812500            -0.062500  \n",
       "9581             0.643110            -0.035336  \n",
       "9856             1.000000            -0.040000  \n",
       "10279            0.645833            -0.041667  \n",
       "10601            0.989315            -0.039573  \n",
       "11030            0.538462            -0.038462  \n",
       "11046            0.461538            -0.038462  \n",
       "11152            0.732601            -0.036630  \n",
       "11326            0.684480            -0.036603  \n",
       "11687            0.780572            -0.043365  \n",
       "11700            0.653846            -0.038462  \n",
       "12407            0.925926            -0.037037  \n",
       "12686            1.000000            -0.041322  \n",
       "13946            0.709220            -0.035461  \n",
       "15096            0.689655            -0.038314  \n",
       "15264            0.603175            -0.039683  \n",
       "15425            0.555556            -0.037037  \n",
       "16420            0.646198            -0.035702  \n",
       "17684            0.708333            -0.041667  \n",
       "17718            0.777184            -0.035651  \n",
       "17794            0.688103            -0.032154  \n",
       "17813            0.888889            -0.044444  \n",
       "18031            0.652510            -0.038610  \n",
       "18538            0.655172            -0.034483  \n",
       "18771            0.680000            -0.040000  \n",
       "19466            0.800000            -0.050000  \n",
       "19724            0.655738            -0.032787  \n",
       "19906            0.728060            -0.039355  \n",
       "19990            0.714286            -0.035714  \n",
       "20033            0.720000            -0.040000  \n",
       "20042            0.666667            -0.047619  \n",
       "20779            0.690909            -0.036364  \n",
       "21283            0.631579            -0.035088  \n",
       "21612            0.705882            -0.029412  \n",
       "22555            0.625000            -0.041667  \n",
       "23422            0.649819            -0.036101  \n",
       "23572            0.620690            -0.034483  \n",
       "\n",
       "[58 rows x 29 columns]"
      ]
     },
     "execution_count": 39,
     "metadata": {},
     "output_type": "execute_result"
    }
   ],
   "source": [
    "# проверка квартир-не-студий без указания комнат \n",
    "real[(real['rooms'] == 0) & (real['studio'] == False)]"
   ]
  },
  {
   "cell_type": "markdown",
   "metadata": {},
   "source": [
    "Можно заменить квартиры, где не указаны комнаты, на студии."
   ]
  },
  {
   "cell_type": "code",
   "execution_count": 40,
   "metadata": {},
   "outputs": [
    {
     "data": {
      "text/html": [
       "<div>\n",
       "<style scoped>\n",
       "    .dataframe tbody tr th:only-of-type {\n",
       "        vertical-align: middle;\n",
       "    }\n",
       "\n",
       "    .dataframe tbody tr th {\n",
       "        vertical-align: top;\n",
       "    }\n",
       "\n",
       "    .dataframe thead th {\n",
       "        text-align: right;\n",
       "    }\n",
       "</style>\n",
       "<table border=\"1\" class=\"dataframe\">\n",
       "  <thead>\n",
       "    <tr style=\"text-align: right;\">\n",
       "      <th></th>\n",
       "      <th>total_images</th>\n",
       "      <th>last_price</th>\n",
       "      <th>total_area</th>\n",
       "      <th>first_day_exposition</th>\n",
       "      <th>rooms</th>\n",
       "      <th>ceiling_height</th>\n",
       "      <th>floors_total</th>\n",
       "      <th>living_area</th>\n",
       "      <th>floor</th>\n",
       "      <th>is_apartment</th>\n",
       "      <th>...</th>\n",
       "      <th>ponds_around_3km</th>\n",
       "      <th>ponds_nearest</th>\n",
       "      <th>days_exposition</th>\n",
       "      <th>price_m2</th>\n",
       "      <th>day_exposition</th>\n",
       "      <th>month_exposition</th>\n",
       "      <th>year_exposition</th>\n",
       "      <th>floor_number</th>\n",
       "      <th>living_total_ratio</th>\n",
       "      <th>kitchen_total_ratio</th>\n",
       "    </tr>\n",
       "  </thead>\n",
       "  <tbody>\n",
       "  </tbody>\n",
       "</table>\n",
       "<p>0 rows × 29 columns</p>\n",
       "</div>"
      ],
      "text/plain": [
       "Empty DataFrame\n",
       "Columns: [total_images, last_price, total_area, first_day_exposition, rooms, ceiling_height, floors_total, living_area, floor, is_apartment, studio, open_plan, kitchen_area, balcony, locality_name, airports_nearest, city_centers_nearest, parks_around_3km, parks_nearest, ponds_around_3km, ponds_nearest, days_exposition, price_m2, day_exposition, month_exposition, year_exposition, floor_number, living_total_ratio, kitchen_total_ratio]\n",
       "Index: []\n",
       "\n",
       "[0 rows x 29 columns]"
      ]
     },
     "execution_count": 40,
     "metadata": {},
     "output_type": "execute_result"
    }
   ],
   "source": [
    "# замена квартир без комнат на студии\n",
    "real.loc[real['rooms'] == 0, 'studio'] = True\n",
    "real[(real['rooms'] == 0) & (real['studio'] == False)]"
   ]
  },
  {
   "cell_type": "markdown",
   "metadata": {},
   "source": [
    "Наконец, изучим высоту потолков."
   ]
  },
  {
   "cell_type": "code",
   "execution_count": 41,
   "metadata": {},
   "outputs": [
    {
     "data": {
      "text/plain": [
       "count    21047.000000\n",
       "mean         2.733831\n",
       "std          0.791545\n",
       "min          1.000000\n",
       "25%          2.600000\n",
       "50%          2.750000\n",
       "75%          2.750000\n",
       "max         32.000000\n",
       "Name: ceiling_height, dtype: float64"
      ]
     },
     "execution_count": 41,
     "metadata": {},
     "output_type": "execute_result"
    }
   ],
   "source": [
    "# вывод описательной статистики\n",
    "real['ceiling_height'].describe()"
   ]
  },
  {
   "cell_type": "code",
   "execution_count": 42,
   "metadata": {},
   "outputs": [
    {
     "data": {
      "image/png": "[encoded data removed]",
      "text/plain": [
       "<Figure size 432x288 with 1 Axes>"
      ]
     },
     "metadata": {
      "needs_background": "light"
     },
     "output_type": "display_data"
    }
   ],
   "source": [
    "# гистограмма\n",
    "hist_func('ceiling_height', 2, 4)"
   ]
  },
  {
   "cell_type": "code",
   "execution_count": 43,
   "metadata": {},
   "outputs": [
    {
     "data": {
      "image/png": "[encoded data removed]",
      "text/plain": [
       "<Figure size 432x288 with 1 Axes>"
      ]
     },
     "metadata": {
      "needs_background": "light"
     },
     "output_type": "display_data"
    }
   ],
   "source": [
    "# ящик с усами\n",
    "boxplot_func('ceiling_height', 2.3, 3)"
   ]
  },
  {
   "cell_type": "markdown",
   "metadata": {},
   "source": [
    "Нормальное значение высоты потолков - от 2,4 до 2,97 м. Среднее значение - 2,75. Судя по описательной статистике, есть потолки высотой 1 и 32 метрa. Возможно, данные заполнены ошибочно. Они все равно являются выбросами, поэтому не войдут в итоговый датасет."
   ]
  },
  {
   "cell_type": "code",
   "execution_count": 44,
   "metadata": {},
   "outputs": [
    {
     "data": {
      "text/plain": [
       "count    21047.000000\n",
       "mean         2.733831\n",
       "std          0.791545\n",
       "min          1.000000\n",
       "25%          2.600000\n",
       "50%          2.750000\n",
       "75%          2.750000\n",
       "max         32.000000\n",
       "Name: ceiling_height, dtype: float64"
      ]
     },
     "execution_count": 44,
     "metadata": {},
     "output_type": "execute_result"
    }
   ],
   "source": [
    "real['ceiling_height'].describe()"
   ]
  },
  {
   "cell_type": "code",
   "execution_count": 45,
   "metadata": {},
   "outputs": [],
   "source": [
    "# фильтрация данных\n",
    "# верхнее пороговое значение взято из комментария ревьюера\n",
    "real = real.loc[real['ceiling_height'] >= 2.4]\n",
    "real = real.loc[real['ceiling_height'] <= 4.5]"
   ]
  },
  {
   "cell_type": "markdown",
   "metadata": {},
   "source": [
    "До изменений было 21047 строк, после фильтрации - сейчас увидим."
   ]
  },
  {
   "cell_type": "code",
   "execution_count": 46,
   "metadata": {
    "collapsed": true
   },
   "outputs": [
    {
     "data": {
      "text/plain": [
       "count    20995.000000\n",
       "mean         2.707621\n",
       "std          0.174784\n",
       "min          2.400000\n",
       "25%          2.600000\n",
       "50%          2.750000\n",
       "75%          2.750000\n",
       "max          4.500000\n",
       "Name: ceiling_height, dtype: float64"
      ]
     },
     "execution_count": 46,
     "metadata": {},
     "output_type": "execute_result"
    }
   ],
   "source": [
    "real['ceiling_height'].describe()"
   ]
  },
  {
   "cell_type": "code",
   "execution_count": 47,
   "metadata": {},
   "outputs": [
    {
     "data": {
      "text/plain": [
       "99.75293390982088"
      ]
     },
     "execution_count": 47,
     "metadata": {},
     "output_type": "execute_result"
    }
   ],
   "source": [
    "20995*100/21047"
   ]
  },
  {
   "cell_type": "markdown",
   "metadata": {},
   "source": [
    "Второе задание: \n",
    "\n",
    "* изучить время продажи квартиры;\n",
    "* построить гистограмму;\n",
    "* посчитать среднее и медиану;\n",
    "* описать, сколько обычно занимает продажа;\n",
    "* ответить на вопрос: когда можно считать, что продажи прошли очень быстро, а когда необычно долго?"
   ]
  },
  {
   "cell_type": "code",
   "execution_count": 48,
   "metadata": {
    "scrolled": true
   },
   "outputs": [
    {
     "data": {
      "text/plain": [
       "count    18471.000000\n",
       "mean       170.880245\n",
       "std        208.172037\n",
       "min          1.000000\n",
       "25%         43.000000\n",
       "50%         91.000000\n",
       "75%        217.000000\n",
       "max       1580.000000\n",
       "Name: days_exposition, dtype: float64"
      ]
     },
     "execution_count": 48,
     "metadata": {},
     "output_type": "execute_result"
    }
   ],
   "source": [
    "# вывод описательной статистики\n",
    "real['days_exposition'].describe()"
   ]
  },
  {
   "cell_type": "markdown",
   "metadata": {},
   "source": [
    "Среднее значение равно 1429 дней (слишком много, значит, есть выбросы). Медиана - 118 дней (уже лучше)."
   ]
  },
  {
   "cell_type": "markdown",
   "metadata": {},
   "source": [
    "После удаления маркера среднее значение равно 170 дней, медиана - 91 день. Приемлемо, вроде бы."
   ]
  },
  {
   "cell_type": "code",
   "execution_count": 49,
   "metadata": {},
   "outputs": [
    {
     "data": {
      "image/png": "[encoded data removed]",
      "text/plain": [
       "<Figure size 432x288 with 1 Axes>"
      ]
     },
     "metadata": {
      "needs_background": "light"
     },
     "output_type": "display_data"
    }
   ],
   "source": [
    "# гистограмма\n",
    "hist_func('days_exposition', 0, 400)"
   ]
  },
  {
   "cell_type": "code",
   "execution_count": 50,
   "metadata": {
    "scrolled": true
   },
   "outputs": [
    {
     "data": {
      "image/png": "[encoded data removed]",
      "text/plain": [
       "<Figure size 432x288 with 1 Axes>"
      ]
     },
     "metadata": {
      "needs_background": "light"
     },
     "output_type": "display_data"
    }
   ],
   "source": [
    "# ящик с усами\n",
    "boxplot_func('days_exposition', -10, 500)"
   ]
  },
  {
   "cell_type": "markdown",
   "metadata": {},
   "source": [
    "Нормально, если объявление о продаже квартиры размещено на сайте 845 дней. Больше - уже странно.\n",
    "\n",
    "Существуют квартиры, которые продаются так долго, однако большинство продается за 45-60 дней (полтора-два месяца). После этого значения количество продаваемых квартир начинает снижаться.\n",
    "\n",
    "Можно считать, что продажа прошла очень быстро, если объявление закрылось в срок до 45 дней, и очень медленно - если через 370 дней после публикации.\n",
    "\n",
    "Отфильтруем данные."
   ]
  },
  {
   "cell_type": "markdown",
   "metadata": {},
   "source": [
    "Нормально, если объявление о продаже квартиры размещено на сайте примерно 475 дней. Больше - уже странно.\n",
    "\n",
    "Существуют квартиры, которые продаются так долго, однако большинство продается за 45-60 дней (полтора-два месяца). После этого значения количество продаваемых квартир начинает снижаться.\n",
    "\n",
    "Можно считать, что продажа прошла очень быстро, если объявление закрылось в срок до 45 дней, и очень медленно - если через 210 дней после публикации (примерно)."
   ]
  },
  {
   "cell_type": "code",
   "execution_count": 51,
   "metadata": {},
   "outputs": [],
   "source": [
    "# фильтрация данных\n",
    "real = real.query('0 <= days_exposition <= 845')"
   ]
  },
  {
   "cell_type": "markdown",
   "metadata": {},
   "source": [
    "Третье задание:\n",
    "\n",
    "* убрать редкие и выбивающиеся значения;\n",
    "* описать, какие особенности обнаружены.\n",
    "\n",
    "Задание выполнено в строчках с фильтрацией датасета по первому и второму заданию."
   ]
  },
  {
   "cell_type": "markdown",
   "metadata": {},
   "source": [
    "Четвертое задание:\n",
    "\n",
    "* определить факторы, больше всего влияющие на стоимость квартиры;\n",
    "* изучить, зависит ли цена от площади, числа комнат, удаленности от центра;\n",
    "* изучить зависимость цены от того, на каком этаже расположена квартира: первом, последнем или другом;\n",
    "* изучить зависимость от даты размещения: дня недели, месяца и года.\n",
    "\n",
    "Выполним задание, используя корреляцию и визуализацию с помощью графика типа \"ящик с усами\"."
   ]
  },
  {
   "cell_type": "markdown",
   "metadata": {},
   "source": [
    "Сначала построим матрицу корреляций и определим факторы, больше всего влияющие на стоимость квартиры. Нас интересует столбец `last_price`."
   ]
  },
  {
   "cell_type": "code",
   "execution_count": 52,
   "metadata": {},
   "outputs": [
    {
     "data": {
      "text/html": [
       "<div>\n",
       "<style scoped>\n",
       "    .dataframe tbody tr th:only-of-type {\n",
       "        vertical-align: middle;\n",
       "    }\n",
       "\n",
       "    .dataframe tbody tr th {\n",
       "        vertical-align: top;\n",
       "    }\n",
       "\n",
       "    .dataframe thead th {\n",
       "        text-align: right;\n",
       "    }\n",
       "</style>\n",
       "<table border=\"1\" class=\"dataframe\">\n",
       "  <thead>\n",
       "    <tr style=\"text-align: right;\">\n",
       "      <th></th>\n",
       "      <th>total_images</th>\n",
       "      <th>last_price</th>\n",
       "      <th>total_area</th>\n",
       "      <th>rooms</th>\n",
       "      <th>ceiling_height</th>\n",
       "      <th>floors_total</th>\n",
       "      <th>living_area</th>\n",
       "      <th>floor</th>\n",
       "      <th>is_apartment</th>\n",
       "      <th>studio</th>\n",
       "      <th>...</th>\n",
       "      <th>parks_nearest</th>\n",
       "      <th>ponds_around_3km</th>\n",
       "      <th>ponds_nearest</th>\n",
       "      <th>days_exposition</th>\n",
       "      <th>price_m2</th>\n",
       "      <th>day_exposition</th>\n",
       "      <th>month_exposition</th>\n",
       "      <th>year_exposition</th>\n",
       "      <th>living_total_ratio</th>\n",
       "      <th>kitchen_total_ratio</th>\n",
       "    </tr>\n",
       "  </thead>\n",
       "  <tbody>\n",
       "    <tr>\n",
       "      <td>total_images</td>\n",
       "      <td>1.000000</td>\n",
       "      <td>0.151224</td>\n",
       "      <td>0.090395</td>\n",
       "      <td>0.065071</td>\n",
       "      <td>-0.011066</td>\n",
       "      <td>0.005101</td>\n",
       "      <td>0.074271</td>\n",
       "      <td>0.025015</td>\n",
       "      <td>0.019048</td>\n",
       "      <td>-0.034261</td>\n",
       "      <td>...</td>\n",
       "      <td>0.018762</td>\n",
       "      <td>-0.002048</td>\n",
       "      <td>-0.002795</td>\n",
       "      <td>-0.020753</td>\n",
       "      <td>0.111890</td>\n",
       "      <td>-0.004009</td>\n",
       "      <td>0.019661</td>\n",
       "      <td>0.126406</td>\n",
       "      <td>-0.000596</td>\n",
       "      <td>0.049457</td>\n",
       "    </tr>\n",
       "    <tr>\n",
       "      <td>last_price</td>\n",
       "      <td>0.151224</td>\n",
       "      <td>1.000000</td>\n",
       "      <td>0.685739</td>\n",
       "      <td>0.438415</td>\n",
       "      <td>0.300224</td>\n",
       "      <td>0.199640</td>\n",
       "      <td>0.563351</td>\n",
       "      <td>0.133506</td>\n",
       "      <td>0.013998</td>\n",
       "      <td>-0.091585</td>\n",
       "      <td>...</td>\n",
       "      <td>0.217163</td>\n",
       "      <td>0.270161</td>\n",
       "      <td>0.207965</td>\n",
       "      <td>0.049830</td>\n",
       "      <td>0.600552</td>\n",
       "      <td>-0.006690</td>\n",
       "      <td>0.007741</td>\n",
       "      <td>-0.010025</td>\n",
       "      <td>0.024281</td>\n",
       "      <td>-0.010429</td>\n",
       "    </tr>\n",
       "    <tr>\n",
       "      <td>total_area</td>\n",
       "      <td>0.090395</td>\n",
       "      <td>0.685739</td>\n",
       "      <td>1.000000</td>\n",
       "      <td>0.807736</td>\n",
       "      <td>0.222011</td>\n",
       "      <td>-0.037094</td>\n",
       "      <td>0.910911</td>\n",
       "      <td>-0.044301</td>\n",
       "      <td>0.010123</td>\n",
       "      <td>-0.147543</td>\n",
       "      <td>...</td>\n",
       "      <td>0.052581</td>\n",
       "      <td>0.100796</td>\n",
       "      <td>0.053615</td>\n",
       "      <td>0.097211</td>\n",
       "      <td>-0.128657</td>\n",
       "      <td>-0.003450</td>\n",
       "      <td>0.005126</td>\n",
       "      <td>-0.078585</td>\n",
       "      <td>0.246177</td>\n",
       "      <td>-0.222117</td>\n",
       "    </tr>\n",
       "    <tr>\n",
       "      <td>rooms</td>\n",
       "      <td>0.065071</td>\n",
       "      <td>0.438415</td>\n",
       "      <td>0.807736</td>\n",
       "      <td>1.000000</td>\n",
       "      <td>0.050411</td>\n",
       "      <td>-0.244598</td>\n",
       "      <td>0.887019</td>\n",
       "      <td>-0.189560</td>\n",
       "      <td>-0.008391</td>\n",
       "      <td>-0.211277</td>\n",
       "      <td>...</td>\n",
       "      <td>0.029032</td>\n",
       "      <td>0.033927</td>\n",
       "      <td>0.017017</td>\n",
       "      <td>0.076169</td>\n",
       "      <td>-0.259064</td>\n",
       "      <td>-0.002466</td>\n",
       "      <td>-0.000120</td>\n",
       "      <td>-0.061802</td>\n",
       "      <td>0.545533</td>\n",
       "      <td>-0.377914</td>\n",
       "    </tr>\n",
       "    <tr>\n",
       "      <td>ceiling_height</td>\n",
       "      <td>-0.011066</td>\n",
       "      <td>0.300224</td>\n",
       "      <td>0.222011</td>\n",
       "      <td>0.050411</td>\n",
       "      <td>1.000000</td>\n",
       "      <td>0.015905</td>\n",
       "      <td>0.157742</td>\n",
       "      <td>0.011642</td>\n",
       "      <td>0.057374</td>\n",
       "      <td>0.025348</td>\n",
       "      <td>...</td>\n",
       "      <td>0.078447</td>\n",
       "      <td>0.151981</td>\n",
       "      <td>0.062433</td>\n",
       "      <td>0.039931</td>\n",
       "      <td>0.165456</td>\n",
       "      <td>0.004560</td>\n",
       "      <td>0.003180</td>\n",
       "      <td>-0.093844</td>\n",
       "      <td>-0.066353</td>\n",
       "      <td>0.037499</td>\n",
       "    </tr>\n",
       "    <tr>\n",
       "      <td>floors_total</td>\n",
       "      <td>0.005101</td>\n",
       "      <td>0.199640</td>\n",
       "      <td>-0.037094</td>\n",
       "      <td>-0.244598</td>\n",
       "      <td>0.015905</td>\n",
       "      <td>1.000000</td>\n",
       "      <td>-0.182392</td>\n",
       "      <td>0.672342</td>\n",
       "      <td>-0.014041</td>\n",
       "      <td>0.093601</td>\n",
       "      <td>...</td>\n",
       "      <td>-0.059739</td>\n",
       "      <td>-0.035744</td>\n",
       "      <td>0.023540</td>\n",
       "      <td>-0.049327</td>\n",
       "      <td>0.339240</td>\n",
       "      <td>0.014487</td>\n",
       "      <td>0.008783</td>\n",
       "      <td>0.022476</td>\n",
       "      <td>-0.364340</td>\n",
       "      <td>0.228820</td>\n",
       "    </tr>\n",
       "    <tr>\n",
       "      <td>living_area</td>\n",
       "      <td>0.074271</td>\n",
       "      <td>0.563351</td>\n",
       "      <td>0.910911</td>\n",
       "      <td>0.887019</td>\n",
       "      <td>0.157742</td>\n",
       "      <td>-0.182392</td>\n",
       "      <td>1.000000</td>\n",
       "      <td>-0.148023</td>\n",
       "      <td>0.007636</td>\n",
       "      <td>-0.094092</td>\n",
       "      <td>...</td>\n",
       "      <td>0.048094</td>\n",
       "      <td>0.076009</td>\n",
       "      <td>0.039942</td>\n",
       "      <td>0.087329</td>\n",
       "      <td>-0.199062</td>\n",
       "      <td>0.000480</td>\n",
       "      <td>0.001395</td>\n",
       "      <td>-0.071784</td>\n",
       "      <td>0.604926</td>\n",
       "      <td>-0.395541</td>\n",
       "    </tr>\n",
       "    <tr>\n",
       "      <td>floor</td>\n",
       "      <td>0.025015</td>\n",
       "      <td>0.133506</td>\n",
       "      <td>-0.044301</td>\n",
       "      <td>-0.189560</td>\n",
       "      <td>0.011642</td>\n",
       "      <td>0.672342</td>\n",
       "      <td>-0.148023</td>\n",
       "      <td>1.000000</td>\n",
       "      <td>-0.010320</td>\n",
       "      <td>0.054167</td>\n",
       "      <td>...</td>\n",
       "      <td>-0.038090</td>\n",
       "      <td>-0.024548</td>\n",
       "      <td>0.015876</td>\n",
       "      <td>-0.038419</td>\n",
       "      <td>0.249471</td>\n",
       "      <td>0.013242</td>\n",
       "      <td>0.015747</td>\n",
       "      <td>0.013603</td>\n",
       "      <td>-0.269638</td>\n",
       "      <td>0.171565</td>\n",
       "    </tr>\n",
       "    <tr>\n",
       "      <td>is_apartment</td>\n",
       "      <td>0.019048</td>\n",
       "      <td>0.013998</td>\n",
       "      <td>0.010123</td>\n",
       "      <td>-0.008391</td>\n",
       "      <td>0.057374</td>\n",
       "      <td>-0.014041</td>\n",
       "      <td>0.007636</td>\n",
       "      <td>-0.010320</td>\n",
       "      <td>1.000000</td>\n",
       "      <td>-0.003727</td>\n",
       "      <td>...</td>\n",
       "      <td>-0.015013</td>\n",
       "      <td>0.012205</td>\n",
       "      <td>0.024990</td>\n",
       "      <td>0.001176</td>\n",
       "      <td>0.011292</td>\n",
       "      <td>-0.008676</td>\n",
       "      <td>-0.009234</td>\n",
       "      <td>0.018567</td>\n",
       "      <td>-0.004413</td>\n",
       "      <td>-0.008053</td>\n",
       "    </tr>\n",
       "    <tr>\n",
       "      <td>studio</td>\n",
       "      <td>-0.034261</td>\n",
       "      <td>-0.091585</td>\n",
       "      <td>-0.147543</td>\n",
       "      <td>-0.211277</td>\n",
       "      <td>0.025348</td>\n",
       "      <td>0.093601</td>\n",
       "      <td>-0.094092</td>\n",
       "      <td>0.054167</td>\n",
       "      <td>-0.003727</td>\n",
       "      <td>1.000000</td>\n",
       "      <td>...</td>\n",
       "      <td>-0.024846</td>\n",
       "      <td>-0.004666</td>\n",
       "      <td>-0.002436</td>\n",
       "      <td>-0.036599</td>\n",
       "      <td>0.058402</td>\n",
       "      <td>0.007376</td>\n",
       "      <td>0.017187</td>\n",
       "      <td>0.010942</td>\n",
       "      <td>0.119389</td>\n",
       "      <td>-0.199065</td>\n",
       "    </tr>\n",
       "    <tr>\n",
       "      <td>open_plan</td>\n",
       "      <td>-0.021480</td>\n",
       "      <td>-0.051777</td>\n",
       "      <td>-0.077843</td>\n",
       "      <td>-0.114388</td>\n",
       "      <td>0.013586</td>\n",
       "      <td>0.056108</td>\n",
       "      <td>-0.047788</td>\n",
       "      <td>0.039404</td>\n",
       "      <td>-0.002156</td>\n",
       "      <td>0.522765</td>\n",
       "      <td>...</td>\n",
       "      <td>-0.012962</td>\n",
       "      <td>-0.001918</td>\n",
       "      <td>-0.002516</td>\n",
       "      <td>-0.022543</td>\n",
       "      <td>0.023634</td>\n",
       "      <td>0.012402</td>\n",
       "      <td>0.027691</td>\n",
       "      <td>-0.020832</td>\n",
       "      <td>0.070335</td>\n",
       "      <td>-0.130880</td>\n",
       "    </tr>\n",
       "    <tr>\n",
       "      <td>kitchen_area</td>\n",
       "      <td>0.095700</td>\n",
       "      <td>0.378917</td>\n",
       "      <td>0.332445</td>\n",
       "      <td>0.061464</td>\n",
       "      <td>0.170110</td>\n",
       "      <td>0.208862</td>\n",
       "      <td>0.109637</td>\n",
       "      <td>0.147382</td>\n",
       "      <td>-0.003800</td>\n",
       "      <td>-0.191755</td>\n",
       "      <td>...</td>\n",
       "      <td>0.020556</td>\n",
       "      <td>0.071049</td>\n",
       "      <td>0.034937</td>\n",
       "      <td>0.076460</td>\n",
       "      <td>0.151739</td>\n",
       "      <td>-0.021229</td>\n",
       "      <td>0.030958</td>\n",
       "      <td>-0.048400</td>\n",
       "      <td>-0.386685</td>\n",
       "      <td>0.794641</td>\n",
       "    </tr>\n",
       "    <tr>\n",
       "      <td>balcony</td>\n",
       "      <td>0.038691</td>\n",
       "      <td>0.067071</td>\n",
       "      <td>0.050770</td>\n",
       "      <td>-0.007256</td>\n",
       "      <td>-0.074566</td>\n",
       "      <td>0.162906</td>\n",
       "      <td>0.011675</td>\n",
       "      <td>0.156052</td>\n",
       "      <td>0.028022</td>\n",
       "      <td>0.049122</td>\n",
       "      <td>...</td>\n",
       "      <td>-0.029036</td>\n",
       "      <td>-0.039508</td>\n",
       "      <td>-0.017298</td>\n",
       "      <td>-0.021687</td>\n",
       "      <td>0.043538</td>\n",
       "      <td>-0.002179</td>\n",
       "      <td>0.010725</td>\n",
       "      <td>-0.009873</td>\n",
       "      <td>-0.072036</td>\n",
       "      <td>0.108123</td>\n",
       "    </tr>\n",
       "    <tr>\n",
       "      <td>airports_nearest</td>\n",
       "      <td>0.027048</td>\n",
       "      <td>0.340963</td>\n",
       "      <td>0.055634</td>\n",
       "      <td>0.014646</td>\n",
       "      <td>-0.004661</td>\n",
       "      <td>0.153494</td>\n",
       "      <td>0.029277</td>\n",
       "      <td>0.101339</td>\n",
       "      <td>0.014127</td>\n",
       "      <td>-0.042025</td>\n",
       "      <td>...</td>\n",
       "      <td>0.187498</td>\n",
       "      <td>0.239171</td>\n",
       "      <td>0.220609</td>\n",
       "      <td>-0.018413</td>\n",
       "      <td>0.418331</td>\n",
       "      <td>-0.003054</td>\n",
       "      <td>0.002342</td>\n",
       "      <td>-0.010908</td>\n",
       "      <td>-0.044081</td>\n",
       "      <td>0.041563</td>\n",
       "    </tr>\n",
       "    <tr>\n",
       "      <td>city_centers_nearest</td>\n",
       "      <td>-0.034536</td>\n",
       "      <td>-0.343661</td>\n",
       "      <td>-0.110685</td>\n",
       "      <td>-0.067765</td>\n",
       "      <td>-0.224932</td>\n",
       "      <td>-0.026465</td>\n",
       "      <td>-0.103105</td>\n",
       "      <td>-0.011003</td>\n",
       "      <td>0.008026</td>\n",
       "      <td>-0.017457</td>\n",
       "      <td>...</td>\n",
       "      <td>-0.133318</td>\n",
       "      <td>0.003743</td>\n",
       "      <td>-0.013711</td>\n",
       "      <td>-0.017960</td>\n",
       "      <td>-0.392451</td>\n",
       "      <td>0.004453</td>\n",
       "      <td>-0.015508</td>\n",
       "      <td>0.017238</td>\n",
       "      <td>-0.027768</td>\n",
       "      <td>-0.004098</td>\n",
       "    </tr>\n",
       "    <tr>\n",
       "      <td>parks_around_3km</td>\n",
       "      <td>0.019242</td>\n",
       "      <td>0.241068</td>\n",
       "      <td>0.073485</td>\n",
       "      <td>0.066014</td>\n",
       "      <td>0.160072</td>\n",
       "      <td>-0.153637</td>\n",
       "      <td>0.093774</td>\n",
       "      <td>-0.105452</td>\n",
       "      <td>-0.001865</td>\n",
       "      <td>-0.035789</td>\n",
       "      <td>...</td>\n",
       "      <td>0.614212</td>\n",
       "      <td>0.367891</td>\n",
       "      <td>0.197589</td>\n",
       "      <td>0.025946</td>\n",
       "      <td>0.249595</td>\n",
       "      <td>-0.005910</td>\n",
       "      <td>0.000995</td>\n",
       "      <td>-0.032277</td>\n",
       "      <td>0.072281</td>\n",
       "      <td>-0.035457</td>\n",
       "    </tr>\n",
       "    <tr>\n",
       "      <td>parks_nearest</td>\n",
       "      <td>0.018762</td>\n",
       "      <td>0.217163</td>\n",
       "      <td>0.052581</td>\n",
       "      <td>0.029032</td>\n",
       "      <td>0.078447</td>\n",
       "      <td>-0.059739</td>\n",
       "      <td>0.048094</td>\n",
       "      <td>-0.038090</td>\n",
       "      <td>-0.015013</td>\n",
       "      <td>-0.024846</td>\n",
       "      <td>...</td>\n",
       "      <td>1.000000</td>\n",
       "      <td>0.273628</td>\n",
       "      <td>0.184178</td>\n",
       "      <td>0.020768</td>\n",
       "      <td>0.242900</td>\n",
       "      <td>-0.006090</td>\n",
       "      <td>0.000044</td>\n",
       "      <td>-0.029176</td>\n",
       "      <td>0.013716</td>\n",
       "      <td>-0.007640</td>\n",
       "    </tr>\n",
       "    <tr>\n",
       "      <td>ponds_around_3km</td>\n",
       "      <td>-0.002048</td>\n",
       "      <td>0.270161</td>\n",
       "      <td>0.100796</td>\n",
       "      <td>0.033927</td>\n",
       "      <td>0.151981</td>\n",
       "      <td>-0.035744</td>\n",
       "      <td>0.076009</td>\n",
       "      <td>-0.024548</td>\n",
       "      <td>0.012205</td>\n",
       "      <td>-0.004666</td>\n",
       "      <td>...</td>\n",
       "      <td>0.273628</td>\n",
       "      <td>1.000000</td>\n",
       "      <td>0.632535</td>\n",
       "      <td>0.030624</td>\n",
       "      <td>0.261518</td>\n",
       "      <td>0.000774</td>\n",
       "      <td>-0.006653</td>\n",
       "      <td>-0.026854</td>\n",
       "      <td>-0.013018</td>\n",
       "      <td>0.010480</td>\n",
       "    </tr>\n",
       "    <tr>\n",
       "      <td>ponds_nearest</td>\n",
       "      <td>-0.002795</td>\n",
       "      <td>0.207965</td>\n",
       "      <td>0.053615</td>\n",
       "      <td>0.017017</td>\n",
       "      <td>0.062433</td>\n",
       "      <td>0.023540</td>\n",
       "      <td>0.039942</td>\n",
       "      <td>0.015876</td>\n",
       "      <td>0.024990</td>\n",
       "      <td>-0.002436</td>\n",
       "      <td>...</td>\n",
       "      <td>0.184178</td>\n",
       "      <td>0.632535</td>\n",
       "      <td>1.000000</td>\n",
       "      <td>-0.006600</td>\n",
       "      <td>0.233963</td>\n",
       "      <td>-0.004965</td>\n",
       "      <td>0.004628</td>\n",
       "      <td>-0.011403</td>\n",
       "      <td>-0.009991</td>\n",
       "      <td>0.005542</td>\n",
       "    </tr>\n",
       "    <tr>\n",
       "      <td>days_exposition</td>\n",
       "      <td>-0.020753</td>\n",
       "      <td>0.049830</td>\n",
       "      <td>0.097211</td>\n",
       "      <td>0.076169</td>\n",
       "      <td>0.039931</td>\n",
       "      <td>-0.049327</td>\n",
       "      <td>0.087329</td>\n",
       "      <td>-0.038419</td>\n",
       "      <td>0.001176</td>\n",
       "      <td>-0.036599</td>\n",
       "      <td>...</td>\n",
       "      <td>0.020768</td>\n",
       "      <td>0.030624</td>\n",
       "      <td>-0.006600</td>\n",
       "      <td>1.000000</td>\n",
       "      <td>-0.038960</td>\n",
       "      <td>-0.012472</td>\n",
       "      <td>-0.032927</td>\n",
       "      <td>-0.542094</td>\n",
       "      <td>0.005817</td>\n",
       "      <td>0.028588</td>\n",
       "    </tr>\n",
       "    <tr>\n",
       "      <td>price_m2</td>\n",
       "      <td>0.111890</td>\n",
       "      <td>0.600552</td>\n",
       "      <td>-0.128657</td>\n",
       "      <td>-0.259064</td>\n",
       "      <td>0.165456</td>\n",
       "      <td>0.339240</td>\n",
       "      <td>-0.199062</td>\n",
       "      <td>0.249471</td>\n",
       "      <td>0.011292</td>\n",
       "      <td>0.058402</td>\n",
       "      <td>...</td>\n",
       "      <td>0.242900</td>\n",
       "      <td>0.261518</td>\n",
       "      <td>0.233963</td>\n",
       "      <td>-0.038960</td>\n",
       "      <td>1.000000</td>\n",
       "      <td>-0.004850</td>\n",
       "      <td>0.004313</td>\n",
       "      <td>0.075041</td>\n",
       "      <td>-0.231519</td>\n",
       "      <td>0.220338</td>\n",
       "    </tr>\n",
       "    <tr>\n",
       "      <td>day_exposition</td>\n",
       "      <td>-0.004009</td>\n",
       "      <td>-0.006690</td>\n",
       "      <td>-0.003450</td>\n",
       "      <td>-0.002466</td>\n",
       "      <td>0.004560</td>\n",
       "      <td>0.014487</td>\n",
       "      <td>0.000480</td>\n",
       "      <td>0.013242</td>\n",
       "      <td>-0.008676</td>\n",
       "      <td>0.007376</td>\n",
       "      <td>...</td>\n",
       "      <td>-0.006090</td>\n",
       "      <td>0.000774</td>\n",
       "      <td>-0.004965</td>\n",
       "      <td>-0.012472</td>\n",
       "      <td>-0.004850</td>\n",
       "      <td>1.000000</td>\n",
       "      <td>0.006298</td>\n",
       "      <td>-0.000641</td>\n",
       "      <td>0.010359</td>\n",
       "      <td>-0.019926</td>\n",
       "    </tr>\n",
       "    <tr>\n",
       "      <td>month_exposition</td>\n",
       "      <td>0.019661</td>\n",
       "      <td>0.007741</td>\n",
       "      <td>0.005126</td>\n",
       "      <td>-0.000120</td>\n",
       "      <td>0.003180</td>\n",
       "      <td>0.008783</td>\n",
       "      <td>0.001395</td>\n",
       "      <td>0.015747</td>\n",
       "      <td>-0.009234</td>\n",
       "      <td>0.017187</td>\n",
       "      <td>...</td>\n",
       "      <td>0.000044</td>\n",
       "      <td>-0.006653</td>\n",
       "      <td>0.004628</td>\n",
       "      <td>-0.032927</td>\n",
       "      <td>0.004313</td>\n",
       "      <td>0.006298</td>\n",
       "      <td>1.000000</td>\n",
       "      <td>-0.209830</td>\n",
       "      <td>-0.007792</td>\n",
       "      <td>0.026471</td>\n",
       "    </tr>\n",
       "    <tr>\n",
       "      <td>year_exposition</td>\n",
       "      <td>0.126406</td>\n",
       "      <td>-0.010025</td>\n",
       "      <td>-0.078585</td>\n",
       "      <td>-0.061802</td>\n",
       "      <td>-0.093844</td>\n",
       "      <td>0.022476</td>\n",
       "      <td>-0.071784</td>\n",
       "      <td>0.013603</td>\n",
       "      <td>0.018567</td>\n",
       "      <td>0.010942</td>\n",
       "      <td>...</td>\n",
       "      <td>-0.029176</td>\n",
       "      <td>-0.026854</td>\n",
       "      <td>-0.011403</td>\n",
       "      <td>-0.542094</td>\n",
       "      <td>0.075041</td>\n",
       "      <td>-0.000641</td>\n",
       "      <td>-0.209830</td>\n",
       "      <td>1.000000</td>\n",
       "      <td>-0.014994</td>\n",
       "      <td>-0.004604</td>\n",
       "    </tr>\n",
       "    <tr>\n",
       "      <td>living_total_ratio</td>\n",
       "      <td>-0.000596</td>\n",
       "      <td>0.024281</td>\n",
       "      <td>0.246177</td>\n",
       "      <td>0.545533</td>\n",
       "      <td>-0.066353</td>\n",
       "      <td>-0.364340</td>\n",
       "      <td>0.604926</td>\n",
       "      <td>-0.269638</td>\n",
       "      <td>-0.004413</td>\n",
       "      <td>0.119389</td>\n",
       "      <td>...</td>\n",
       "      <td>0.013716</td>\n",
       "      <td>-0.013018</td>\n",
       "      <td>-0.009991</td>\n",
       "      <td>0.005817</td>\n",
       "      <td>-0.231519</td>\n",
       "      <td>0.010359</td>\n",
       "      <td>-0.007792</td>\n",
       "      <td>-0.014994</td>\n",
       "      <td>1.000000</td>\n",
       "      <td>-0.570456</td>\n",
       "    </tr>\n",
       "    <tr>\n",
       "      <td>kitchen_total_ratio</td>\n",
       "      <td>0.049457</td>\n",
       "      <td>-0.010429</td>\n",
       "      <td>-0.222117</td>\n",
       "      <td>-0.377914</td>\n",
       "      <td>0.037499</td>\n",
       "      <td>0.228820</td>\n",
       "      <td>-0.395541</td>\n",
       "      <td>0.171565</td>\n",
       "      <td>-0.008053</td>\n",
       "      <td>-0.199065</td>\n",
       "      <td>...</td>\n",
       "      <td>-0.007640</td>\n",
       "      <td>0.010480</td>\n",
       "      <td>0.005542</td>\n",
       "      <td>0.028588</td>\n",
       "      <td>0.220338</td>\n",
       "      <td>-0.019926</td>\n",
       "      <td>0.026471</td>\n",
       "      <td>-0.004604</td>\n",
       "      <td>-0.570456</td>\n",
       "      <td>1.000000</td>\n",
       "    </tr>\n",
       "  </tbody>\n",
       "</table>\n",
       "<p>26 rows × 26 columns</p>\n",
       "</div>"
      ],
      "text/plain": [
       "                      total_images  last_price  total_area     rooms  \\\n",
       "total_images              1.000000    0.151224    0.090395  0.065071   \n",
       "last_price                0.151224    1.000000    0.685739  0.438415   \n",
       "total_area                0.090395    0.685739    1.000000  0.807736   \n",
       "rooms                     0.065071    0.438415    0.807736  1.000000   \n",
       "ceiling_height           -0.011066    0.300224    0.222011  0.050411   \n",
       "floors_total              0.005101    0.199640   -0.037094 -0.244598   \n",
       "living_area               0.074271    0.563351    0.910911  0.887019   \n",
       "floor                     0.025015    0.133506   -0.044301 -0.189560   \n",
       "is_apartment              0.019048    0.013998    0.010123 -0.008391   \n",
       "studio                   -0.034261   -0.091585   -0.147543 -0.211277   \n",
       "open_plan                -0.021480   -0.051777   -0.077843 -0.114388   \n",
       "kitchen_area              0.095700    0.378917    0.332445  0.061464   \n",
       "balcony                   0.038691    0.067071    0.050770 -0.007256   \n",
       "airports_nearest          0.027048    0.340963    0.055634  0.014646   \n",
       "city_centers_nearest     -0.034536   -0.343661   -0.110685 -0.067765   \n",
       "parks_around_3km          0.019242    0.241068    0.073485  0.066014   \n",
       "parks_nearest             0.018762    0.217163    0.052581  0.029032   \n",
       "ponds_around_3km         -0.002048    0.270161    0.100796  0.033927   \n",
       "ponds_nearest            -0.002795    0.207965    0.053615  0.017017   \n",
       "days_exposition          -0.020753    0.049830    0.097211  0.076169   \n",
       "price_m2                  0.111890    0.600552   -0.128657 -0.259064   \n",
       "day_exposition           -0.004009   -0.006690   -0.003450 -0.002466   \n",
       "month_exposition          0.019661    0.007741    0.005126 -0.000120   \n",
       "year_exposition           0.126406   -0.010025   -0.078585 -0.061802   \n",
       "living_total_ratio       -0.000596    0.024281    0.246177  0.545533   \n",
       "kitchen_total_ratio       0.049457   -0.010429   -0.222117 -0.377914   \n",
       "\n",
       "                      ceiling_height  floors_total  living_area     floor  \\\n",
       "total_images               -0.011066      0.005101     0.074271  0.025015   \n",
       "last_price                  0.300224      0.199640     0.563351  0.133506   \n",
       "total_area                  0.222011     -0.037094     0.910911 -0.044301   \n",
       "rooms                       0.050411     -0.244598     0.887019 -0.189560   \n",
       "ceiling_height              1.000000      0.015905     0.157742  0.011642   \n",
       "floors_total                0.015905      1.000000    -0.182392  0.672342   \n",
       "living_area                 0.157742     -0.182392     1.000000 -0.148023   \n",
       "floor                       0.011642      0.672342    -0.148023  1.000000   \n",
       "is_apartment                0.057374     -0.014041     0.007636 -0.010320   \n",
       "studio                      0.025348      0.093601    -0.094092  0.054167   \n",
       "open_plan                   0.013586      0.056108    -0.047788  0.039404   \n",
       "kitchen_area                0.170110      0.208862     0.109637  0.147382   \n",
       "balcony                    -0.074566      0.162906     0.011675  0.156052   \n",
       "airports_nearest           -0.004661      0.153494     0.029277  0.101339   \n",
       "city_centers_nearest       -0.224932     -0.026465    -0.103105 -0.011003   \n",
       "parks_around_3km            0.160072     -0.153637     0.093774 -0.105452   \n",
       "parks_nearest               0.078447     -0.059739     0.048094 -0.038090   \n",
       "ponds_around_3km            0.151981     -0.035744     0.076009 -0.024548   \n",
       "ponds_nearest               0.062433      0.023540     0.039942  0.015876   \n",
       "days_exposition             0.039931     -0.049327     0.087329 -0.038419   \n",
       "price_m2                    0.165456      0.339240    -0.199062  0.249471   \n",
       "day_exposition              0.004560      0.014487     0.000480  0.013242   \n",
       "month_exposition            0.003180      0.008783     0.001395  0.015747   \n",
       "year_exposition            -0.093844      0.022476    -0.071784  0.013603   \n",
       "living_total_ratio         -0.066353     -0.364340     0.604926 -0.269638   \n",
       "kitchen_total_ratio         0.037499      0.228820    -0.395541  0.171565   \n",
       "\n",
       "                      is_apartment    studio  ...  parks_nearest  \\\n",
       "total_images              0.019048 -0.034261  ...       0.018762   \n",
       "last_price                0.013998 -0.091585  ...       0.217163   \n",
       "total_area                0.010123 -0.147543  ...       0.052581   \n",
       "rooms                    -0.008391 -0.211277  ...       0.029032   \n",
       "ceiling_height            0.057374  0.025348  ...       0.078447   \n",
       "floors_total             -0.014041  0.093601  ...      -0.059739   \n",
       "living_area               0.007636 -0.094092  ...       0.048094   \n",
       "floor                    -0.010320  0.054167  ...      -0.038090   \n",
       "is_apartment              1.000000 -0.003727  ...      -0.015013   \n",
       "studio                   -0.003727  1.000000  ...      -0.024846   \n",
       "open_plan                -0.002156  0.522765  ...      -0.012962   \n",
       "kitchen_area             -0.003800 -0.191755  ...       0.020556   \n",
       "balcony                   0.028022  0.049122  ...      -0.029036   \n",
       "airports_nearest          0.014127 -0.042025  ...       0.187498   \n",
       "city_centers_nearest      0.008026 -0.017457  ...      -0.133318   \n",
       "parks_around_3km         -0.001865 -0.035789  ...       0.614212   \n",
       "parks_nearest            -0.015013 -0.024846  ...       1.000000   \n",
       "ponds_around_3km          0.012205 -0.004666  ...       0.273628   \n",
       "ponds_nearest             0.024990 -0.002436  ...       0.184178   \n",
       "days_exposition           0.001176 -0.036599  ...       0.020768   \n",
       "price_m2                  0.011292  0.058402  ...       0.242900   \n",
       "day_exposition           -0.008676  0.007376  ...      -0.006090   \n",
       "month_exposition         -0.009234  0.017187  ...       0.000044   \n",
       "year_exposition           0.018567  0.010942  ...      -0.029176   \n",
       "living_total_ratio       -0.004413  0.119389  ...       0.013716   \n",
       "kitchen_total_ratio      -0.008053 -0.199065  ...      -0.007640   \n",
       "\n",
       "                      ponds_around_3km  ponds_nearest  days_exposition  \\\n",
       "total_images                 -0.002048      -0.002795        -0.020753   \n",
       "last_price                    0.270161       0.207965         0.049830   \n",
       "total_area                    0.100796       0.053615         0.097211   \n",
       "rooms                         0.033927       0.017017         0.076169   \n",
       "ceiling_height                0.151981       0.062433         0.039931   \n",
       "floors_total                 -0.035744       0.023540        -0.049327   \n",
       "living_area                   0.076009       0.039942         0.087329   \n",
       "floor                        -0.024548       0.015876        -0.038419   \n",
       "is_apartment                  0.012205       0.024990         0.001176   \n",
       "studio                       -0.004666      -0.002436        -0.036599   \n",
       "open_plan                    -0.001918      -0.002516        -0.022543   \n",
       "kitchen_area                  0.071049       0.034937         0.076460   \n",
       "balcony                      -0.039508      -0.017298        -0.021687   \n",
       "airports_nearest              0.239171       0.220609        -0.018413   \n",
       "city_centers_nearest          0.003743      -0.013711        -0.017960   \n",
       "parks_around_3km              0.367891       0.197589         0.025946   \n",
       "parks_nearest                 0.273628       0.184178         0.020768   \n",
       "ponds_around_3km              1.000000       0.632535         0.030624   \n",
       "ponds_nearest                 0.632535       1.000000        -0.006600   \n",
       "days_exposition               0.030624      -0.006600         1.000000   \n",
       "price_m2                      0.261518       0.233963        -0.038960   \n",
       "day_exposition                0.000774      -0.004965        -0.012472   \n",
       "month_exposition             -0.006653       0.004628        -0.032927   \n",
       "year_exposition              -0.026854      -0.011403        -0.542094   \n",
       "living_total_ratio           -0.013018      -0.009991         0.005817   \n",
       "kitchen_total_ratio           0.010480       0.005542         0.028588   \n",
       "\n",
       "                      price_m2  day_exposition  month_exposition  \\\n",
       "total_images          0.111890       -0.004009          0.019661   \n",
       "last_price            0.600552       -0.006690          0.007741   \n",
       "total_area           -0.128657       -0.003450          0.005126   \n",
       "rooms                -0.259064       -0.002466         -0.000120   \n",
       "ceiling_height        0.165456        0.004560          0.003180   \n",
       "floors_total          0.339240        0.014487          0.008783   \n",
       "living_area          -0.199062        0.000480          0.001395   \n",
       "floor                 0.249471        0.013242          0.015747   \n",
       "is_apartment          0.011292       -0.008676         -0.009234   \n",
       "studio                0.058402        0.007376          0.017187   \n",
       "open_plan             0.023634        0.012402          0.027691   \n",
       "kitchen_area          0.151739       -0.021229          0.030958   \n",
       "balcony               0.043538       -0.002179          0.010725   \n",
       "airports_nearest      0.418331       -0.003054          0.002342   \n",
       "city_centers_nearest -0.392451        0.004453         -0.015508   \n",
       "parks_around_3km      0.249595       -0.005910          0.000995   \n",
       "parks_nearest         0.242900       -0.006090          0.000044   \n",
       "ponds_around_3km      0.261518        0.000774         -0.006653   \n",
       "ponds_nearest         0.233963       -0.004965          0.004628   \n",
       "days_exposition      -0.038960       -0.012472         -0.032927   \n",
       "price_m2              1.000000       -0.004850          0.004313   \n",
       "day_exposition       -0.004850        1.000000          0.006298   \n",
       "month_exposition      0.004313        0.006298          1.000000   \n",
       "year_exposition       0.075041       -0.000641         -0.209830   \n",
       "living_total_ratio   -0.231519        0.010359         -0.007792   \n",
       "kitchen_total_ratio   0.220338       -0.019926          0.026471   \n",
       "\n",
       "                      year_exposition  living_total_ratio  kitchen_total_ratio  \n",
       "total_images                 0.126406           -0.000596             0.049457  \n",
       "last_price                  -0.010025            0.024281            -0.010429  \n",
       "total_area                  -0.078585            0.246177            -0.222117  \n",
       "rooms                       -0.061802            0.545533            -0.377914  \n",
       "ceiling_height              -0.093844           -0.066353             0.037499  \n",
       "floors_total                 0.022476           -0.364340             0.228820  \n",
       "living_area                 -0.071784            0.604926            -0.395541  \n",
       "floor                        0.013603           -0.269638             0.171565  \n",
       "is_apartment                 0.018567           -0.004413            -0.008053  \n",
       "studio                       0.010942            0.119389            -0.199065  \n",
       "open_plan                   -0.020832            0.070335            -0.130880  \n",
       "kitchen_area                -0.048400           -0.386685             0.794641  \n",
       "balcony                     -0.009873           -0.072036             0.108123  \n",
       "airports_nearest            -0.010908           -0.044081             0.041563  \n",
       "city_centers_nearest         0.017238           -0.027768            -0.004098  \n",
       "parks_around_3km            -0.032277            0.072281            -0.035457  \n",
       "parks_nearest               -0.029176            0.013716            -0.007640  \n",
       "ponds_around_3km            -0.026854           -0.013018             0.010480  \n",
       "ponds_nearest               -0.011403           -0.009991             0.005542  \n",
       "days_exposition             -0.542094            0.005817             0.028588  \n",
       "price_m2                     0.075041           -0.231519             0.220338  \n",
       "day_exposition              -0.000641            0.010359            -0.019926  \n",
       "month_exposition            -0.209830           -0.007792             0.026471  \n",
       "year_exposition              1.000000           -0.014994            -0.004604  \n",
       "living_total_ratio          -0.014994            1.000000            -0.570456  \n",
       "kitchen_total_ratio         -0.004604           -0.570456             1.000000  \n",
       "\n",
       "[26 rows x 26 columns]"
      ]
     },
     "execution_count": 52,
     "metadata": {},
     "output_type": "execute_result"
    }
   ],
   "source": [
    "# корреляция по всему датасету\n",
    "real.corr()"
   ]
  },
  {
   "cell_type": "markdown",
   "metadata": {},
   "source": [
    "Больше всего на цену квартиры влияют общая (0.69) и жилая (0.56) площадь, площадь кухни (0.38), количество комнат (0.44), а также близость аэропорта (0.34). Близость парков и водоемов (0.2-0.27), номер этажа (0.2) влияют на стоимость в меньшей степени.\n",
    "\n",
    "Обратная зависимость прослеживается в случае с расстоянием от центра (-0.34): чем оно больше, тем меньше цена.\n",
    "\n",
    "*Единица равна очень сильной зависимости."
   ]
  },
  {
   "cell_type": "markdown",
   "metadata": {},
   "source": [
    "Посмотрим зависимость цены от этажа. Столбец с расположением квартиры на этаже имеет тип строки, значит, корреляцию можно визуализировать, в численном виде `Python` ее не рассчитает."
   ]
  },
  {
   "cell_type": "code",
   "execution_count": 53,
   "metadata": {},
   "outputs": [
    {
     "data": {
      "text/plain": [
       "<seaborn.axisgrid.FacetGrid at 0x7f2d38c86350>"
      ]
     },
     "execution_count": 53,
     "metadata": {},
     "output_type": "execute_result"
    },
    {
     "data": {
      "image/png": "[encoded data removed]",
      "text/plain": [
       "<Figure size 360x360 with 1 Axes>"
      ]
     },
     "metadata": {
      "needs_background": "light"
     },
     "output_type": "display_data"
    }
   ],
   "source": [
    "# зависимость цены от этажа\n",
    "sns.catplot(x = 'floor_number', y = 'last_price', kind = 'box', data = real)"
   ]
  },
  {
   "cell_type": "markdown",
   "metadata": {},
   "source": [
    "Выходит, что квартиры на первом этаже продаются дешевле, чем на любом другом. Квартиры на последнем этаже продаются несколько дешевле, чем на других."
   ]
  },
  {
   "cell_type": "markdown",
   "metadata": {},
   "source": [
    "Теперь нам нужно изучить зависимость от даты размещения: дня недели, месяца и года."
   ]
  },
  {
   "cell_type": "markdown",
   "metadata": {},
   "source": [
    "Сначала посмотрим, что там с днем недели."
   ]
  },
  {
   "cell_type": "code",
   "execution_count": 54,
   "metadata": {
    "scrolled": false
   },
   "outputs": [
    {
     "data": {
      "text/plain": [
       "<seaborn.axisgrid.FacetGrid at 0x7f2d38c6e5d0>"
      ]
     },
     "execution_count": 54,
     "metadata": {},
     "output_type": "execute_result"
    },
    {
     "data": {
      "image/png": "[encoded data removed]",
      "text/plain": [
       "<Figure size 360x360 with 1 Axes>"
      ]
     },
     "metadata": {
      "needs_background": "light"
     },
     "output_type": "display_data"
    }
   ],
   "source": [
    "# зависимость цены от дня недели публикации\n",
    "sns.catplot(x = 'day_exposition', y = 'last_price', kind = 'box', data = real)"
   ]
  },
  {
   "cell_type": "markdown",
   "metadata": {},
   "source": [
    "На графике не видно особой разницы между днями недели. Только минимальная цена в среду чуть меньше, чем в любой другой день, а максимальная цена в субботу чуть выше. Но это ни о чем не говорит."
   ]
  },
  {
   "cell_type": "markdown",
   "metadata": {},
   "source": [
    "Теперь разберемся с месяцами."
   ]
  },
  {
   "cell_type": "code",
   "execution_count": 55,
   "metadata": {
    "scrolled": false
   },
   "outputs": [
    {
     "data": {
      "text/plain": [
       "<seaborn.axisgrid.FacetGrid at 0x7f2d3953b350>"
      ]
     },
     "execution_count": 55,
     "metadata": {},
     "output_type": "execute_result"
    },
    {
     "data": {
      "image/png": "[encoded data removed]",
      "text/plain": [
       "<Figure size 360x360 with 1 Axes>"
      ]
     },
     "metadata": {
      "needs_background": "light"
     },
     "output_type": "display_data"
    }
   ],
   "source": [
    "# зависимость цены от месяца публикации\n",
    "sns.catplot(x = 'month_exposition', y = 'last_price', kind = 'box', data = real)"
   ]
  },
  {
   "cell_type": "markdown",
   "metadata": {},
   "source": [
    "Разница определенно есть, хоть и не такая большая. Июнь, пожалуй, самый \"дешевый\" месяц. Самый \"дорогой\" месяц - апрель. Минимальная цена ниже всего в марте, максимальная цена выше всего в декабре. В целом, можно сказать, что выгоднее всего покупать квартиру в феврале-марте и в летние месяцы."
   ]
  },
  {
   "cell_type": "markdown",
   "metadata": {},
   "source": [
    "Наконец, влияние года на цену."
   ]
  },
  {
   "cell_type": "code",
   "execution_count": 56,
   "metadata": {},
   "outputs": [
    {
     "data": {
      "text/plain": [
       "<seaborn.axisgrid.FacetGrid at 0x7f2d389ee650>"
      ]
     },
     "execution_count": 56,
     "metadata": {},
     "output_type": "execute_result"
    },
    {
     "data": {
      "image/png": "[encoded data removed]",
      "text/plain": [
       "<Figure size 360x360 with 1 Axes>"
      ]
     },
     "metadata": {
      "needs_background": "light"
     },
     "output_type": "display_data"
    }
   ],
   "source": [
    "# зависимость цены от года публикации\n",
    "sns.catplot(x = 'year_exposition', y = 'last_price', kind = 'box', data = real)"
   ]
  },
  {
   "cell_type": "markdown",
   "metadata": {},
   "source": [
    "Здесь зависимость более явная. В 2014 году была нестабильная экономическая и политическая ситуация, доллар вырос, цены тоже, все стали покупать недвижимость. После этого до 2017 года цены понижались, затем снова стали расти, но до уровня 2014 года недотягивают. Если бы данные были за последние годы, наверняка там были бы большие цифры. Цена на недвижимость все-таки зависит от того, что в целом происходит в стране и в мире в текущем году."
   ]
  },
  {
   "cell_type": "markdown",
   "metadata": {},
   "source": [
    "Пятое задание:\n",
    "\n",
    "* выбрать 10 населенных пунктов с наибольшим числом объявлений;\n",
    "* посчитать среднюю цену квадратного метра в них;\n",
    "* выделить населенные пункты с самой высокой и низкой стоимостью жилья."
   ]
  },
  {
   "cell_type": "markdown",
   "metadata": {},
   "source": [
    "Чтобы выполнить это задание, создадим сводную таблицу с названиями населенных пунктов, а также числом объявлений в них и медианным значением цены. Отсортируем по убыванию и выведем первые 10 строк."
   ]
  },
  {
   "cell_type": "code",
   "execution_count": 57,
   "metadata": {},
   "outputs": [
    {
     "data": {
      "text/html": [
       "<div>\n",
       "<style scoped>\n",
       "    .dataframe tbody tr th:only-of-type {\n",
       "        vertical-align: middle;\n",
       "    }\n",
       "\n",
       "    .dataframe tbody tr th {\n",
       "        vertical-align: top;\n",
       "    }\n",
       "\n",
       "    .dataframe thead th {\n",
       "        text-align: right;\n",
       "    }\n",
       "</style>\n",
       "<table border=\"1\" class=\"dataframe\">\n",
       "  <thead>\n",
       "    <tr style=\"text-align: right;\">\n",
       "      <th></th>\n",
       "      <th>число объявлений</th>\n",
       "      <th>средняя цена кв.м.</th>\n",
       "    </tr>\n",
       "    <tr>\n",
       "      <th>locality_name</th>\n",
       "      <th></th>\n",
       "      <th></th>\n",
       "    </tr>\n",
       "  </thead>\n",
       "  <tbody>\n",
       "    <tr>\n",
       "      <td>Санкт-Петербург</td>\n",
       "      <td>11518</td>\n",
       "      <td>100.0</td>\n",
       "    </tr>\n",
       "    <tr>\n",
       "      <td>посёлок Мурино</td>\n",
       "      <td>504</td>\n",
       "      <td>86.0</td>\n",
       "    </tr>\n",
       "    <tr>\n",
       "      <td>посёлок Шушары</td>\n",
       "      <td>399</td>\n",
       "      <td>75.0</td>\n",
       "    </tr>\n",
       "    <tr>\n",
       "      <td>Всеволожск</td>\n",
       "      <td>326</td>\n",
       "      <td>65.0</td>\n",
       "    </tr>\n",
       "    <tr>\n",
       "      <td>Колпино</td>\n",
       "      <td>301</td>\n",
       "      <td>73.0</td>\n",
       "    </tr>\n",
       "    <tr>\n",
       "      <td>посёлок Парголово</td>\n",
       "      <td>297</td>\n",
       "      <td>91.0</td>\n",
       "    </tr>\n",
       "    <tr>\n",
       "      <td>деревня Кудрово</td>\n",
       "      <td>289</td>\n",
       "      <td>91.0</td>\n",
       "    </tr>\n",
       "    <tr>\n",
       "      <td>Пушкин</td>\n",
       "      <td>272</td>\n",
       "      <td>97.0</td>\n",
       "    </tr>\n",
       "    <tr>\n",
       "      <td>Гатчина</td>\n",
       "      <td>255</td>\n",
       "      <td>67.0</td>\n",
       "    </tr>\n",
       "    <tr>\n",
       "      <td>Выборг</td>\n",
       "      <td>196</td>\n",
       "      <td>57.0</td>\n",
       "    </tr>\n",
       "  </tbody>\n",
       "</table>\n",
       "</div>"
      ],
      "text/plain": [
       "                   число объявлений  средняя цена кв.м.\n",
       "locality_name                                          \n",
       "Санкт-Петербург               11518               100.0\n",
       "посёлок Мурино                  504                86.0\n",
       "посёлок Шушары                  399                75.0\n",
       "Всеволожск                      326                65.0\n",
       "Колпино                         301                73.0\n",
       "посёлок Парголово               297                91.0\n",
       "деревня Кудрово                 289                91.0\n",
       "Пушкин                          272                97.0\n",
       "Гатчина                         255                67.0\n",
       "Выборг                          196                57.0"
      ]
     },
     "execution_count": 57,
     "metadata": {},
     "output_type": "execute_result"
    }
   ],
   "source": [
    "# создание сводной таблицы\n",
    "real_pivot_locality_price = real.pivot_table(index = 'locality_name', \n",
    "                                             values = 'price_m2', \n",
    "                                             aggfunc = ['count', 'median'])\n",
    "# переименование столбцов\n",
    "real_pivot_locality_price.columns = ['число объявлений', 'средняя цена кв.м.']\n",
    "#сортировка и вывод первых 10 строк\n",
    "real_pivot_locality_price.sort_values('число объявлений', ascending = False).head(10)"
   ]
  },
  {
   "cell_type": "markdown",
   "metadata": {},
   "source": [
    "Помним, что данные в столбце с ценой квартиры были в тысячах, а цена квадратного метра рассчитывалась по нему, значит и здесь данные в тысячах. Выходит, дороже всего квадратный метр в \"культурной столице\", а дешевле всего в Выборге."
   ]
  },
  {
   "cell_type": "markdown",
   "metadata": {},
   "source": [
    "Шестое задание: \n",
    "\n",
    "* изучить предложения квартир;\n",
    "* выделить квартиры в Санкт-Петербурге;\n",
    "* выяснить, какая область входит в центр;\n",
    "* создать столбец с расстоянием до центра в километрах: округлить до целых значений;\n",
    "* посчитать среднюю цену для каждого километра;\n",
    "* построить график зависимости цены от удаленности от центра;\n",
    "* определить границу, где график сильно меняется - это будет центральной зоной."
   ]
  },
  {
   "cell_type": "code",
   "execution_count": 58,
   "metadata": {},
   "outputs": [
    {
     "data": {
      "text/plain": [
       "<matplotlib.axes._subplots.AxesSubplot at 0x7f2d3075f110>"
      ]
     },
     "execution_count": 58,
     "metadata": {},
     "output_type": "execute_result"
    },
    {
     "data": {
      "image/png": "[encoded data removed]",
      "text/plain": [
       "<Figure size 504x504 with 1 Axes>"
      ]
     },
     "metadata": {
      "needs_background": "light"
     },
     "output_type": "display_data"
    }
   ],
   "source": [
    "# добавление столбца с километрами\n",
    "real['spb_center_km'] = real['city_centers_nearest']/1000\n",
    "# округление\n",
    "real['spb_center_km'] = real['spb_center_km'].round()\n",
    "# выделение квартир в Санкт-Петербурге\n",
    "spb_center = real['locality_name'] == \"Санкт-Петербург\"\n",
    "# создание сводной таблицы с ценой одного километра (цена в тысячах)\n",
    "spb_center_price = real.query('locality_name == \"Санкт-Петербург\"').pivot_table(index = 'spb_center_km', \n",
    "                                                                                values = 'last_price', \n",
    "                                                                                aggfunc = 'median')\n",
    "# визуализация\n",
    "spb_center_price.plot(y = 'last_price', kind = 'bar', figsize = (7, 7))"
   ]
  },
  {
   "cell_type": "markdown",
   "metadata": {},
   "source": [
    "Центральной зоной можно считать радиус 0-2 км в Петербурге, после этой границы цены падают. Заметна также разница между 8 и 9 километрами. Вероятно, в городе есть элитные районы, где квартиры находятся не так близко к центру, но все еще имеют довольно высокую цену."
   ]
  },
  {
   "cell_type": "markdown",
   "metadata": {},
   "source": [
    "Седьмое задание:\n",
    "\n",
    "* выделить сегмент квартир в центре;\n",
    "* проанализировать эту территорию и изучить параметры:  площадь, цена, число комнат, высота потолков;\n",
    "* выделить факторы влияния на стоимость квартиры (число комнат, этаж, удалённость от центра, дата размещения объявления);\n",
    "* сделать вывод и определить, отличается ли он от общих выводов по всей базе."
   ]
  },
  {
   "cell_type": "code",
   "execution_count": 67,
   "metadata": {},
   "outputs": [],
   "source": [
    "# выделение квартир в центре\n",
    "flat_in_center = real[(real['locality_name'] == \"Санкт-Петербург\") & (real['spb_center_km'] < 3)]"
   ]
  },
  {
   "cell_type": "code",
   "execution_count": 68,
   "metadata": {
    "scrolled": true
   },
   "outputs": [
    {
     "data": {
      "text/plain": [
       "<matplotlib.axes._subplots.AxesSubplot at 0x7f2d30939310>"
      ]
     },
     "execution_count": 68,
     "metadata": {},
     "output_type": "execute_result"
    },
    {
     "data": {
      "image/png": "[encoded data removed]",
      "text/plain": [
       "<Figure size 432x288 with 1 Axes>"
      ]
     },
     "metadata": {
      "needs_background": "light"
     },
     "output_type": "display_data"
    }
   ],
   "source": [
    "# площадь квартир в центре\n",
    "flat_in_center['total_area'].hist(bins = 50, range = (0, 120))"
   ]
  },
  {
   "cell_type": "code",
   "execution_count": 72,
   "metadata": {
    "scrolled": true
   },
   "outputs": [
    {
     "data": {
      "image/png": "[encoded data removed]",
      "text/plain": [
       "<Figure size 432x288 with 1 Axes>"
      ]
     },
     "metadata": {
      "needs_background": "light"
     },
     "output_type": "display_data"
    }
   ],
   "source": [
    "# цена квартир в центре\n",
    "spb_center_hist_func('last_price', xmin = 1000, xmax = 11000)"
   ]
  },
  {
   "cell_type": "code",
   "execution_count": 70,
   "metadata": {
    "scrolled": true
   },
   "outputs": [
    {
     "data": {
      "image/png": "[encoded data removed]",
      "text/plain": [
       "<Figure size 432x288 with 1 Axes>"
      ]
     },
     "metadata": {
      "needs_background": "light"
     },
     "output_type": "display_data"
    }
   ],
   "source": [
    "# количество комнат в квартирах в центре\n",
    "spb_center_hist_func('rooms', xmin = 0, xmax = 8)"
   ]
  },
  {
   "cell_type": "code",
   "execution_count": 71,
   "metadata": {
    "scrolled": true
   },
   "outputs": [
    {
     "data": {
      "image/png": "[encoded data removed]",
      "text/plain": [
       "<Figure size 432x288 with 1 Axes>"
      ]
     },
     "metadata": {
      "needs_background": "light"
     },
     "output_type": "display_data"
    }
   ],
   "source": [
    "# высота потолков в квартирах в центре\n",
    "spb_center_hist_func('ceiling_height', xmin = 2.25, xmax = 4)"
   ]
  },
  {
   "cell_type": "markdown",
   "metadata": {},
   "source": [
    "По поводу квартир в центре Санкт-Петербурга можно утверждать, что:\n",
    "    \n",
    "* они имеют большую площадь: если у обычных квартир это 25-60 кв.м., то у центральных - 50-80 кв.м.;\n",
    "* стоят они дороже обычных: 6-10 млн против 3-5,5 млн;\n",
    "* комнат в таких квартирах чуть больше (в обычных квартирах 1-2 комнаты, в центральных 2-3);\n",
    "* потолки в них несколько выше, чем в остальных (на общем графике было больше потолков высотой 2.5 метра, здесь преобладает высота 2.75 м.)."
   ]
  },
  {
   "cell_type": "markdown",
   "metadata": {},
   "source": [
    "Теперь выделим факторы влияния на стоимость квартиры (число комнат, этаж, удалённость от центра, дата размещения объявления)."
   ]
  },
  {
   "cell_type": "code",
   "execution_count": null,
   "metadata": {},
   "outputs": [],
   "source": [
    "# корреляция цены и числа комнат в центральных квартирах\n",
    "flat_in_center['last_price'].corr(flat_in_center['rooms'])"
   ]
  },
  {
   "cell_type": "code",
   "execution_count": null,
   "metadata": {},
   "outputs": [],
   "source": [
    "# корреляция цены и номера этажа в центральных квартирах\n",
    "sns.catplot(x = 'floor_number', y = 'last_price', kind = 'box', data = flat_in_center)"
   ]
  },
  {
   "cell_type": "code",
   "execution_count": null,
   "metadata": {},
   "outputs": [],
   "source": [
    "# корреляция цены и удаленности от центра в центральных квартирах\n",
    "flat_in_center['last_price'].corr(flat_in_center['spb_center_km'])"
   ]
  },
  {
   "cell_type": "code",
   "execution_count": null,
   "metadata": {},
   "outputs": [],
   "source": [
    "# зависимость цены и дня публикации в центральных квартирах\n",
    "sns.catplot(x = 'day_exposition', y = 'last_price', kind = 'box', data = flat_in_center)"
   ]
  },
  {
   "cell_type": "code",
   "execution_count": null,
   "metadata": {},
   "outputs": [],
   "source": [
    "# зависимость цены и месяца публикации в центральных квартирах\n",
    "sns.catplot(x = 'month_exposition', y = 'last_price', kind = 'box', data = flat_in_center)"
   ]
  },
  {
   "cell_type": "code",
   "execution_count": null,
   "metadata": {},
   "outputs": [],
   "source": [
    "# зависимость цены и года публикации в центральных квартирах\n",
    "sns.catplot(x = 'year_exposition', y = 'last_price', kind = 'box', data = flat_in_center)"
   ]
  },
  {
   "cell_type": "markdown",
   "metadata": {},
   "source": [
    "Что мы имеем:\n",
    "\n",
    "* число комнат сильнее влияет на цену квартир в центре, чем где-либо еще;\n",
    "* в центре дешевле всего покупать квартиру именно на первом этаже;\n",
    "* зависимость цены от расстояния до центра для центральных квартир выше, чем для остальных квартир;\n",
    "* дешевле всего купить квартиру в центре в марте (для обычных квартир выгоднее еще и летние месяцы), искать нужно воскресные объявления;\n",
    "* дешевле всего квартиры стоили в 2017 году, в 2019 тоже можно было найти предложение повыгоднее (обычные квартиры стоили дешевле в 2014-2017 гг.) - экономическая ситуация не особо влияет на недвижимость в центре."
   ]
  },
  {
   "cell_type": "markdown",
   "metadata": {},
   "source": [
    "### Вывод"
   ]
  },
  {
   "cell_type": "markdown",
   "metadata": {},
   "source": [
    "Проделана большая работа. Изучены многие параметры как для всех квартир, так и для квартир в центре. Полученные результаты дадут основу для общего вывода по всему проекту."
   ]
  },
  {
   "cell_type": "markdown",
   "metadata": {},
   "source": [
    "## Общий вывод"
   ]
  },
  {
   "cell_type": "markdown",
   "metadata": {},
   "source": [
    "В итоге нами изучена база объявлений о продаже квартир в Санкт-Петербурге и Ленинградской области за несколько лет. На основе анализа автоматизированная система сможет отслеживать аномалии и мошенническую деятельность.\n",
    "\n",
    "В этом проекте было сделано многое:\n",
    "\n",
    "* изучена общая информация о данных;\n",
    "* изучены и обработаны пропущенные значения, произведены замены;\n",
    "* в нужных столбцах изменен тип данных;\n",
    "* установлены параметры: цена квадратного метра, этаж квартиры, день недели, месяц и год публикации объявления, соотношение жилой и общей площади, а также отношение площади кухни к общей;\n",
    "* установлена связь между разными параметрами и построены графики;\n",
    "* даны ответы на поставленные вопросы.\n",
    "\n",
    "Общий вывод по проделанной работе может звучать следующим образом: \n",
    "\n",
    "* продажа квартиры обычно происходит за полтора-два месяца, аномалией можно считать срок от 845 дней, меньше 45 дней - быстро, больше 370 дней - долго;\n",
    "* дороже всего квадратный метр в Санкт-Петербурге и Пушкине, дешевле всего в Выборге;\n",
    "* центром города можно считать радиус 0-2 км, от 2 до 8 км - элитные районы;\n",
    "* в центре квартиры стоят примерно в 2 раза дороже;\n",
    "* нормальная площадь квартиры - от 12 до 115 кв.м.;\n",
    "* от удаленности от центра цена почти не зависит - это может быть элитная недвижимость или коттеджные поселки;\n",
    "* больше всего на цену квартиры влияет общая площадь, в меньшей степени площадь жилая и кухонная, количество комнат не особо важно;\n",
    "* цена не будет сильно зависеть от близости парков, водоемов и аэропорта;\n",
    "* дата публикации не играет особой роли в привлекательности объявления, но есть некоторые особенности: лучше купить квартиру в марте (особенно актуально для центра) или летом, важно обращать внимание на общую ситуацию в стране, т.к. она все же влияет на цены.\n",
    "\n",
    "Выгодная квартира - это:\n",
    "\n",
    "* первый или последний этаж;\n",
    "* не центр города;\n",
    "* небольшая общая, жилая и кухонная площадь;\n",
    "* 1-2 комнаты."
   ]
  }
 ],
 "metadata": {
  "ExecuteTimeLog": [
   {
    "duration": 344,
    "start_time": "2022-02-22T09:25:26.070Z"
   },
   {
    "duration": 113,
    "start_time": "2022-02-22T09:25:51.449Z"
   },
   {
    "duration": 2817,
    "start_time": "2022-02-22T09:26:48.921Z"
   },
   {
    "duration": 2164,
    "start_time": "2022-02-22T09:27:39.721Z"
   },
   {
    "duration": 2762,
    "start_time": "2022-02-22T09:28:23.841Z"
   },
   {
    "duration": -115,
    "start_time": "2022-02-22T09:28:26.720Z"
   },
   {
    "duration": 672,
    "start_time": "2022-02-22T09:29:09.710Z"
   },
   {
    "duration": 363,
    "start_time": "2022-02-22T09:29:10.384Z"
   },
   {
    "duration": 2391,
    "start_time": "2022-02-22T09:29:29.490Z"
   },
   {
    "duration": 2179,
    "start_time": "2022-02-22T09:29:37.426Z"
   },
   {
    "duration": 99,
    "start_time": "2022-02-22T09:31:03.330Z"
   },
   {
    "duration": 101,
    "start_time": "2022-02-22T09:31:19.190Z"
   },
   {
    "duration": 10,
    "start_time": "2022-02-22T09:32:13.210Z"
   },
   {
    "duration": 314,
    "start_time": "2022-02-22T09:32:58.257Z"
   },
   {
    "duration": 70,
    "start_time": "2022-02-22T09:33:53.922Z"
   },
   {
    "duration": 111,
    "start_time": "2022-02-22T09:43:35.449Z"
   },
   {
    "duration": 7,
    "start_time": "2022-02-22T09:43:54.031Z"
   },
   {
    "duration": 103,
    "start_time": "2022-02-22T09:44:09.882Z"
   },
   {
    "duration": 9,
    "start_time": "2022-02-22T09:44:27.884Z"
   },
   {
    "duration": 4,
    "start_time": "2022-02-22T09:45:04.401Z"
   },
   {
    "duration": 18,
    "start_time": "2022-02-22T09:45:40.790Z"
   },
   {
    "duration": 7,
    "start_time": "2022-02-22T09:46:31.013Z"
   },
   {
    "duration": 439,
    "start_time": "2022-02-22T09:47:06.680Z"
   },
   {
    "duration": 3,
    "start_time": "2022-02-22T09:47:45.669Z"
   },
   {
    "duration": 10,
    "start_time": "2022-02-22T09:51:08.810Z"
   },
   {
    "duration": 664,
    "start_time": "2022-02-22T09:54:51.274Z"
   },
   {
    "duration": 10,
    "start_time": "2022-02-22T09:54:51.940Z"
   },
   {
    "duration": 68,
    "start_time": "2022-02-22T09:54:51.952Z"
   },
   {
    "duration": 14,
    "start_time": "2022-02-22T09:54:52.021Z"
   },
   {
    "duration": 19,
    "start_time": "2022-02-22T09:54:52.037Z"
   },
   {
    "duration": 6,
    "start_time": "2022-02-22T09:54:52.058Z"
   },
   {
    "duration": 40,
    "start_time": "2022-02-22T09:54:52.065Z"
   },
   {
    "duration": 20,
    "start_time": "2022-02-22T09:54:52.107Z"
   },
   {
    "duration": 398,
    "start_time": "2022-02-22T09:54:52.128Z"
   },
   {
    "duration": 4,
    "start_time": "2022-02-22T09:54:52.528Z"
   },
   {
    "duration": 38,
    "start_time": "2022-02-22T09:54:52.533Z"
   },
   {
    "duration": 353,
    "start_time": "2022-02-22T09:54:52.573Z"
   },
   {
    "duration": 23,
    "start_time": "2022-02-22T10:58:38.589Z"
   },
   {
    "duration": 12,
    "start_time": "2022-02-22T12:10:46.727Z"
   },
   {
    "duration": 8,
    "start_time": "2022-02-22T12:10:58.955Z"
   },
   {
    "duration": 9,
    "start_time": "2022-02-22T12:11:06.055Z"
   },
   {
    "duration": 386,
    "start_time": "2022-02-22T12:12:46.935Z"
   },
   {
    "duration": 10,
    "start_time": "2022-02-22T12:13:01.094Z"
   },
   {
    "duration": 7493,
    "start_time": "2022-02-22T12:23:37.261Z"
   },
   {
    "duration": -34,
    "start_time": "2022-02-22T12:23:44.794Z"
   },
   {
    "duration": 8,
    "start_time": "2022-02-22T12:23:47.409Z"
   },
   {
    "duration": 688,
    "start_time": "2022-02-22T12:24:19.348Z"
   },
   {
    "duration": 10,
    "start_time": "2022-02-22T12:24:20.038Z"
   },
   {
    "duration": 82,
    "start_time": "2022-02-22T12:24:20.050Z"
   },
   {
    "duration": 6,
    "start_time": "2022-02-22T12:24:20.134Z"
   },
   {
    "duration": 9,
    "start_time": "2022-02-22T12:24:20.142Z"
   },
   {
    "duration": 8,
    "start_time": "2022-02-22T12:24:20.153Z"
   },
   {
    "duration": 3,
    "start_time": "2022-02-22T12:24:20.163Z"
   },
   {
    "duration": 17,
    "start_time": "2022-02-22T12:24:20.168Z"
   },
   {
    "duration": 5,
    "start_time": "2022-02-22T12:24:20.187Z"
   },
   {
    "duration": 542,
    "start_time": "2022-02-22T12:24:20.194Z"
   },
   {
    "duration": 3,
    "start_time": "2022-02-22T12:24:20.738Z"
   },
   {
    "duration": 434,
    "start_time": "2022-02-22T12:24:20.743Z"
   },
   {
    "duration": 367,
    "start_time": "2022-02-22T12:24:21.178Z"
   },
   {
    "duration": 66,
    "start_time": "2022-02-22T12:24:21.481Z"
   },
   {
    "duration": 28,
    "start_time": "2022-02-22T12:24:21.520Z"
   },
   {
    "duration": 25,
    "start_time": "2022-02-22T12:24:21.524Z"
   },
   {
    "duration": 22,
    "start_time": "2022-02-22T12:24:21.528Z"
   },
   {
    "duration": 13,
    "start_time": "2022-02-22T12:24:21.538Z"
   },
   {
    "duration": 10,
    "start_time": "2022-02-22T12:24:21.542Z"
   },
   {
    "duration": 9,
    "start_time": "2022-02-22T12:24:31.389Z"
   },
   {
    "duration": 7795,
    "start_time": "2022-02-22T12:25:00.630Z"
   },
   {
    "duration": 43,
    "start_time": "2022-02-22T12:25:08.385Z"
   },
   {
    "duration": 8,
    "start_time": "2022-02-22T12:25:17.950Z"
   },
   {
    "duration": 7729,
    "start_time": "2022-02-22T12:25:53.424Z"
   },
   {
    "duration": -10,
    "start_time": "2022-02-22T12:26:01.165Z"
   },
   {
    "duration": 8,
    "start_time": "2022-02-22T12:26:48.529Z"
   },
   {
    "duration": 7560,
    "start_time": "2022-02-22T12:26:54.528Z"
   },
   {
    "duration": 749,
    "start_time": "2022-02-22T12:27:17.710Z"
   },
   {
    "duration": 11,
    "start_time": "2022-02-22T12:27:18.461Z"
   },
   {
    "duration": 83,
    "start_time": "2022-02-22T12:27:18.474Z"
   },
   {
    "duration": 7,
    "start_time": "2022-02-22T12:27:18.558Z"
   },
   {
    "duration": 8,
    "start_time": "2022-02-22T12:27:18.567Z"
   },
   {
    "duration": 9,
    "start_time": "2022-02-22T12:27:18.576Z"
   },
   {
    "duration": 3,
    "start_time": "2022-02-22T12:27:18.587Z"
   },
   {
    "duration": 45,
    "start_time": "2022-02-22T12:27:18.592Z"
   },
   {
    "duration": 7,
    "start_time": "2022-02-22T12:27:18.639Z"
   },
   {
    "duration": 425,
    "start_time": "2022-02-22T12:27:18.647Z"
   },
   {
    "duration": 4,
    "start_time": "2022-02-22T12:27:19.074Z"
   },
   {
    "duration": 845,
    "start_time": "2022-02-22T12:27:19.080Z"
   },
   {
    "duration": 359,
    "start_time": "2022-02-22T12:27:19.927Z"
   },
   {
    "duration": 9,
    "start_time": "2022-02-22T12:27:20.278Z"
   },
   {
    "duration": 6,
    "start_time": "2022-02-22T12:27:20.282Z"
   },
   {
    "duration": 1,
    "start_time": "2022-02-22T12:27:20.288Z"
   },
   {
    "duration": -1,
    "start_time": "2022-02-22T12:27:20.291Z"
   },
   {
    "duration": -6,
    "start_time": "2022-02-22T12:27:20.296Z"
   },
   {
    "duration": -9,
    "start_time": "2022-02-22T12:27:20.300Z"
   },
   {
    "duration": 9,
    "start_time": "2022-02-22T12:34:42.166Z"
   },
   {
    "duration": 5,
    "start_time": "2022-02-22T12:36:53.898Z"
   },
   {
    "duration": 8,
    "start_time": "2022-02-22T12:37:00.126Z"
   },
   {
    "duration": 2475,
    "start_time": "2022-02-22T12:47:17.187Z"
   },
   {
    "duration": 2080,
    "start_time": "2022-02-22T12:47:52.317Z"
   },
   {
    "duration": 2197,
    "start_time": "2022-02-22T12:48:19.133Z"
   },
   {
    "duration": 349,
    "start_time": "2022-02-22T12:50:03.118Z"
   },
   {
    "duration": 765,
    "start_time": "2022-02-22T12:50:25.724Z"
   },
   {
    "duration": 9,
    "start_time": "2022-02-22T12:50:26.491Z"
   },
   {
    "duration": 84,
    "start_time": "2022-02-22T12:50:26.503Z"
   },
   {
    "duration": 7,
    "start_time": "2022-02-22T12:50:26.589Z"
   },
   {
    "duration": 8,
    "start_time": "2022-02-22T12:50:26.598Z"
   },
   {
    "duration": 32,
    "start_time": "2022-02-22T12:50:26.607Z"
   },
   {
    "duration": 4,
    "start_time": "2022-02-22T12:50:26.641Z"
   },
   {
    "duration": 18,
    "start_time": "2022-02-22T12:50:26.647Z"
   },
   {
    "duration": 7,
    "start_time": "2022-02-22T12:50:26.667Z"
   },
   {
    "duration": 475,
    "start_time": "2022-02-22T12:50:26.676Z"
   },
   {
    "duration": 4,
    "start_time": "2022-02-22T12:50:27.153Z"
   },
   {
    "duration": 437,
    "start_time": "2022-02-22T12:50:27.158Z"
   },
   {
    "duration": 376,
    "start_time": "2022-02-22T12:50:27.597Z"
   },
   {
    "duration": 99,
    "start_time": "2022-02-22T12:50:27.876Z"
   },
   {
    "duration": 46,
    "start_time": "2022-02-22T12:50:27.930Z"
   },
   {
    "duration": 41,
    "start_time": "2022-02-22T12:50:27.935Z"
   },
   {
    "duration": 38,
    "start_time": "2022-02-22T12:50:27.939Z"
   },
   {
    "duration": 35,
    "start_time": "2022-02-22T12:50:27.943Z"
   },
   {
    "duration": 33,
    "start_time": "2022-02-22T12:50:27.946Z"
   },
   {
    "duration": 6,
    "start_time": "2022-02-22T12:53:36.357Z"
   },
   {
    "duration": 9,
    "start_time": "2022-02-22T12:53:39.778Z"
   },
   {
    "duration": 339,
    "start_time": "2022-02-22T12:53:42.758Z"
   },
   {
    "duration": 454,
    "start_time": "2022-02-22T12:54:03.359Z"
   },
   {
    "duration": 225,
    "start_time": "2022-02-23T14:06:15.084Z"
   },
   {
    "duration": 55,
    "start_time": "2022-02-23T14:06:56.424Z"
   },
   {
    "duration": 241,
    "start_time": "2022-02-23T14:07:02.124Z"
   },
   {
    "duration": 635,
    "start_time": "2022-02-23T14:08:05.067Z"
   },
   {
    "duration": 16,
    "start_time": "2022-02-23T14:08:05.704Z"
   },
   {
    "duration": 78,
    "start_time": "2022-02-23T14:08:05.722Z"
   },
   {
    "duration": 21,
    "start_time": "2022-02-23T14:08:05.802Z"
   },
   {
    "duration": 9,
    "start_time": "2022-02-23T14:08:05.825Z"
   },
   {
    "duration": 12,
    "start_time": "2022-02-23T14:08:05.836Z"
   },
   {
    "duration": 9,
    "start_time": "2022-02-23T14:08:05.850Z"
   },
   {
    "duration": 29,
    "start_time": "2022-02-23T14:08:05.861Z"
   },
   {
    "duration": 8,
    "start_time": "2022-02-23T14:08:05.892Z"
   },
   {
    "duration": 430,
    "start_time": "2022-02-23T14:08:05.920Z"
   },
   {
    "duration": 3,
    "start_time": "2022-02-23T14:08:06.352Z"
   },
   {
    "duration": 447,
    "start_time": "2022-02-23T14:08:06.356Z"
   },
   {
    "duration": 6,
    "start_time": "2022-02-23T14:08:06.805Z"
   },
   {
    "duration": 254,
    "start_time": "2022-02-23T14:08:06.812Z"
   },
   {
    "duration": 1838,
    "start_time": "2022-02-23T14:08:05.229Z"
   },
   {
    "duration": 1835,
    "start_time": "2022-02-23T14:08:05.234Z"
   },
   {
    "duration": 1832,
    "start_time": "2022-02-23T14:08:05.238Z"
   },
   {
    "duration": 1827,
    "start_time": "2022-02-23T14:08:05.244Z"
   },
   {
    "duration": 1822,
    "start_time": "2022-02-23T14:08:05.250Z"
   },
   {
    "duration": 1817,
    "start_time": "2022-02-23T14:08:05.256Z"
   },
   {
    "duration": 1789,
    "start_time": "2022-02-23T14:08:05.285Z"
   },
   {
    "duration": 13,
    "start_time": "2022-02-23T14:10:20.186Z"
   },
   {
    "duration": 10,
    "start_time": "2022-02-23T14:10:29.446Z"
   },
   {
    "duration": 10,
    "start_time": "2022-02-23T14:11:21.046Z"
   },
   {
    "duration": 56,
    "start_time": "2022-02-23T14:12:43.427Z"
   },
   {
    "duration": 9,
    "start_time": "2022-02-23T14:21:22.866Z"
   },
   {
    "duration": 4,
    "start_time": "2022-02-23T14:21:29.626Z"
   },
   {
    "duration": 10,
    "start_time": "2022-02-23T14:21:31.946Z"
   },
   {
    "duration": 37,
    "start_time": "2022-02-23T14:23:08.005Z"
   },
   {
    "duration": 38,
    "start_time": "2022-02-23T14:23:20.557Z"
   },
   {
    "duration": 34,
    "start_time": "2022-02-23T14:23:23.326Z"
   },
   {
    "duration": 612,
    "start_time": "2022-02-23T14:32:09.267Z"
   },
   {
    "duration": 6,
    "start_time": "2022-02-23T14:35:51.564Z"
   },
   {
    "duration": 6,
    "start_time": "2022-02-23T14:40:05.518Z"
   },
   {
    "duration": 9,
    "start_time": "2022-02-23T14:40:11.477Z"
   },
   {
    "duration": 11,
    "start_time": "2022-02-23T15:18:46.013Z"
   },
   {
    "duration": 14,
    "start_time": "2022-02-23T15:18:53.692Z"
   },
   {
    "duration": 178,
    "start_time": "2022-02-23T15:19:27.081Z"
   },
   {
    "duration": 212,
    "start_time": "2022-02-23T15:19:32.461Z"
   },
   {
    "duration": 8,
    "start_time": "2022-02-23T15:19:40.322Z"
   },
   {
    "duration": 208,
    "start_time": "2022-02-23T15:25:31.421Z"
   },
   {
    "duration": 9,
    "start_time": "2022-02-23T15:25:38.422Z"
   },
   {
    "duration": 10,
    "start_time": "2022-02-23T15:25:41.742Z"
   },
   {
    "duration": 6,
    "start_time": "2022-02-23T15:28:35.821Z"
   },
   {
    "duration": 10,
    "start_time": "2022-02-23T15:28:45.761Z"
   },
   {
    "duration": 512,
    "start_time": "2022-02-23T15:31:12.013Z"
   },
   {
    "duration": 302,
    "start_time": "2022-02-24T13:18:59.369Z"
   },
   {
    "duration": 1009,
    "start_time": "2022-02-24T13:19:11.772Z"
   },
   {
    "duration": 20,
    "start_time": "2022-02-24T13:19:12.793Z"
   },
   {
    "duration": 123,
    "start_time": "2022-02-24T13:19:12.817Z"
   },
   {
    "duration": 9,
    "start_time": "2022-02-24T13:19:12.943Z"
   },
   {
    "duration": 16,
    "start_time": "2022-02-24T13:19:12.955Z"
   },
   {
    "duration": 17,
    "start_time": "2022-02-24T13:19:12.994Z"
   },
   {
    "duration": 5,
    "start_time": "2022-02-24T13:19:13.013Z"
   },
   {
    "duration": 32,
    "start_time": "2022-02-24T13:19:13.021Z"
   },
   {
    "duration": 36,
    "start_time": "2022-02-24T13:19:13.057Z"
   },
   {
    "duration": 767,
    "start_time": "2022-02-24T13:19:13.096Z"
   },
   {
    "duration": 5,
    "start_time": "2022-02-24T13:19:13.866Z"
   },
   {
    "duration": 823,
    "start_time": "2022-02-24T13:19:13.874Z"
   },
   {
    "duration": 10,
    "start_time": "2022-02-24T13:19:14.700Z"
   },
   {
    "duration": 7,
    "start_time": "2022-02-24T13:19:14.713Z"
   },
   {
    "duration": 1079,
    "start_time": "2022-02-24T13:19:14.722Z"
   },
   {
    "duration": 15,
    "start_time": "2022-02-24T13:19:15.803Z"
   },
   {
    "duration": 854,
    "start_time": "2022-02-24T13:19:15.820Z"
   },
   {
    "duration": 19,
    "start_time": "2022-02-24T13:19:16.676Z"
   },
   {
    "duration": 7,
    "start_time": "2022-02-24T13:19:16.697Z"
   },
   {
    "duration": 15,
    "start_time": "2022-02-24T13:19:16.708Z"
   },
   {
    "duration": 12,
    "start_time": "2022-02-24T13:19:16.726Z"
   },
   {
    "duration": 83,
    "start_time": "2022-02-24T13:19:16.741Z"
   },
   {
    "duration": 14,
    "start_time": "2022-02-24T13:19:16.827Z"
   },
   {
    "duration": 53,
    "start_time": "2022-02-24T13:19:16.844Z"
   },
   {
    "duration": 58,
    "start_time": "2022-02-24T13:19:16.900Z"
   },
   {
    "duration": 889,
    "start_time": "2022-02-24T13:19:16.960Z"
   },
   {
    "duration": 49,
    "start_time": "2022-02-24T13:19:17.853Z"
   },
   {
    "duration": 3,
    "start_time": "2022-02-24T13:19:17.904Z"
   },
   {
    "duration": 18,
    "start_time": "2022-02-24T13:20:36.529Z"
   },
   {
    "duration": 17,
    "start_time": "2022-02-24T13:20:45.891Z"
   },
   {
    "duration": 15,
    "start_time": "2022-02-24T13:21:21.530Z"
   },
   {
    "duration": 1086,
    "start_time": "2022-02-24T13:37:17.129Z"
   },
   {
    "duration": 6,
    "start_time": "2022-02-24T13:37:50.949Z"
   },
   {
    "duration": 634,
    "start_time": "2022-02-24T13:48:11.989Z"
   },
   {
    "duration": 930,
    "start_time": "2022-02-24T13:48:35.867Z"
   },
   {
    "duration": 17,
    "start_time": "2022-02-24T13:48:36.800Z"
   },
   {
    "duration": 137,
    "start_time": "2022-02-24T13:48:36.821Z"
   },
   {
    "duration": 10,
    "start_time": "2022-02-24T13:48:36.960Z"
   },
   {
    "duration": 28,
    "start_time": "2022-02-24T13:48:36.972Z"
   },
   {
    "duration": 17,
    "start_time": "2022-02-24T13:48:37.003Z"
   },
   {
    "duration": 4,
    "start_time": "2022-02-24T13:48:37.023Z"
   },
   {
    "duration": 24,
    "start_time": "2022-02-24T13:48:37.030Z"
   },
   {
    "duration": 41,
    "start_time": "2022-02-24T13:48:37.057Z"
   },
   {
    "duration": 736,
    "start_time": "2022-02-24T13:48:37.100Z"
   },
   {
    "duration": 5,
    "start_time": "2022-02-24T13:48:37.838Z"
   },
   {
    "duration": 833,
    "start_time": "2022-02-24T13:48:37.845Z"
   },
   {
    "duration": 13,
    "start_time": "2022-02-24T13:48:38.680Z"
   },
   {
    "duration": 5,
    "start_time": "2022-02-24T13:48:38.696Z"
   },
   {
    "duration": 1032,
    "start_time": "2022-02-24T13:48:38.703Z"
   },
   {
    "duration": 544,
    "start_time": "2022-02-24T13:48:39.738Z"
   },
   {
    "duration": 3132,
    "start_time": "2022-02-24T13:48:37.153Z"
   },
   {
    "duration": 3129,
    "start_time": "2022-02-24T13:48:37.158Z"
   },
   {
    "duration": 3127,
    "start_time": "2022-02-24T13:48:37.162Z"
   },
   {
    "duration": 3125,
    "start_time": "2022-02-24T13:48:37.166Z"
   },
   {
    "duration": 3123,
    "start_time": "2022-02-24T13:48:37.170Z"
   },
   {
    "duration": 3120,
    "start_time": "2022-02-24T13:48:37.174Z"
   },
   {
    "duration": 3118,
    "start_time": "2022-02-24T13:48:37.178Z"
   },
   {
    "duration": 3117,
    "start_time": "2022-02-24T13:48:37.181Z"
   },
   {
    "duration": 3114,
    "start_time": "2022-02-24T13:48:37.185Z"
   },
   {
    "duration": 3112,
    "start_time": "2022-02-24T13:48:37.189Z"
   },
   {
    "duration": 3109,
    "start_time": "2022-02-24T13:48:37.193Z"
   },
   {
    "duration": 3107,
    "start_time": "2022-02-24T13:48:37.197Z"
   },
   {
    "duration": 424,
    "start_time": "2022-02-24T13:50:04.726Z"
   },
   {
    "duration": 6,
    "start_time": "2022-02-24T13:51:29.486Z"
   },
   {
    "duration": 8,
    "start_time": "2022-02-24T13:51:37.366Z"
   },
   {
    "duration": 571,
    "start_time": "2022-02-24T13:52:06.546Z"
   },
   {
    "duration": 236,
    "start_time": "2022-02-24T13:57:45.877Z"
   },
   {
    "duration": 213,
    "start_time": "2022-02-24T14:02:37.597Z"
   },
   {
    "duration": 477,
    "start_time": "2022-02-24T14:02:47.298Z"
   },
   {
    "duration": 5,
    "start_time": "2022-02-24T14:03:59.318Z"
   },
   {
    "duration": 980,
    "start_time": "2022-02-24T14:04:16.786Z"
   },
   {
    "duration": 890,
    "start_time": "2022-02-24T14:05:19.925Z"
   },
   {
    "duration": 16,
    "start_time": "2022-02-24T14:05:20.818Z"
   },
   {
    "duration": 130,
    "start_time": "2022-02-24T14:05:20.838Z"
   },
   {
    "duration": 24,
    "start_time": "2022-02-24T14:05:20.971Z"
   },
   {
    "duration": 12,
    "start_time": "2022-02-24T14:05:20.997Z"
   },
   {
    "duration": 30,
    "start_time": "2022-02-24T14:05:21.011Z"
   },
   {
    "duration": 5,
    "start_time": "2022-02-24T14:05:21.043Z"
   },
   {
    "duration": 49,
    "start_time": "2022-02-24T14:05:21.050Z"
   },
   {
    "duration": 7,
    "start_time": "2022-02-24T14:05:21.103Z"
   },
   {
    "duration": 748,
    "start_time": "2022-02-24T14:05:21.113Z"
   },
   {
    "duration": 5,
    "start_time": "2022-02-24T14:05:21.863Z"
   },
   {
    "duration": 791,
    "start_time": "2022-02-24T14:05:21.870Z"
   },
   {
    "duration": 8,
    "start_time": "2022-02-24T14:05:22.664Z"
   },
   {
    "duration": 21,
    "start_time": "2022-02-24T14:05:22.674Z"
   },
   {
    "duration": 1014,
    "start_time": "2022-02-24T14:05:22.697Z"
   },
   {
    "duration": 847,
    "start_time": "2022-02-24T14:05:23.713Z"
   },
   {
    "duration": 6,
    "start_time": "2022-02-24T14:05:24.562Z"
   },
   {
    "duration": 26,
    "start_time": "2022-02-24T14:05:24.571Z"
   },
   {
    "duration": 19,
    "start_time": "2022-02-24T14:05:24.599Z"
   },
   {
    "duration": 13,
    "start_time": "2022-02-24T14:05:24.621Z"
   },
   {
    "duration": 72,
    "start_time": "2022-02-24T14:05:24.636Z"
   },
   {
    "duration": 11,
    "start_time": "2022-02-24T14:05:24.711Z"
   },
   {
    "duration": 29,
    "start_time": "2022-02-24T14:05:24.725Z"
   },
   {
    "duration": 83,
    "start_time": "2022-02-24T14:05:24.757Z"
   },
   {
    "duration": 892,
    "start_time": "2022-02-24T14:05:24.843Z"
   },
   {
    "duration": 57,
    "start_time": "2022-02-24T14:05:25.738Z"
   },
   {
    "duration": 3,
    "start_time": "2022-02-24T14:05:25.801Z"
   },
   {
    "duration": 815,
    "start_time": "2022-02-24T14:06:39.760Z"
   },
   {
    "duration": 875,
    "start_time": "2022-02-24T14:07:05.278Z"
   },
   {
    "duration": 837,
    "start_time": "2022-02-24T14:10:00.238Z"
   },
   {
    "duration": 56087,
    "start_time": "2022-02-24T14:12:00.529Z"
   },
   {
    "duration": 12,
    "start_time": "2022-02-24T14:12:56.633Z"
   },
   {
    "duration": 171,
    "start_time": "2022-02-24T14:14:42.356Z"
   },
   {
    "duration": 14,
    "start_time": "2022-02-24T14:14:42.530Z"
   },
   {
    "duration": 131,
    "start_time": "2022-02-24T14:14:42.546Z"
   },
   {
    "duration": 18,
    "start_time": "2022-02-24T14:14:42.679Z"
   },
   {
    "duration": 23,
    "start_time": "2022-02-24T14:14:42.700Z"
   },
   {
    "duration": 13,
    "start_time": "2022-02-24T14:14:42.726Z"
   },
   {
    "duration": 6,
    "start_time": "2022-02-24T14:14:42.741Z"
   },
   {
    "duration": 51,
    "start_time": "2022-02-24T14:14:42.750Z"
   },
   {
    "duration": 9,
    "start_time": "2022-02-24T14:14:42.804Z"
   },
   {
    "duration": 717,
    "start_time": "2022-02-24T14:14:42.816Z"
   },
   {
    "duration": 5,
    "start_time": "2022-02-24T14:14:43.535Z"
   },
   {
    "duration": 797,
    "start_time": "2022-02-24T14:14:43.542Z"
   },
   {
    "duration": 8,
    "start_time": "2022-02-24T14:14:44.342Z"
   },
   {
    "duration": 27,
    "start_time": "2022-02-24T14:14:44.352Z"
   },
   {
    "duration": 1006,
    "start_time": "2022-02-24T14:14:44.382Z"
   },
   {
    "duration": 926,
    "start_time": "2022-02-24T14:15:33.846Z"
   },
   {
    "duration": 28,
    "start_time": "2022-02-24T14:15:34.775Z"
   },
   {
    "duration": 117,
    "start_time": "2022-02-24T14:15:34.806Z"
   },
   {
    "duration": 9,
    "start_time": "2022-02-24T14:15:34.926Z"
   },
   {
    "duration": 22,
    "start_time": "2022-02-24T14:15:34.937Z"
   },
   {
    "duration": 33,
    "start_time": "2022-02-24T14:15:34.961Z"
   },
   {
    "duration": 5,
    "start_time": "2022-02-24T14:15:34.997Z"
   },
   {
    "duration": 26,
    "start_time": "2022-02-24T14:15:35.006Z"
   },
   {
    "duration": 7,
    "start_time": "2022-02-24T14:15:35.036Z"
   },
   {
    "duration": 767,
    "start_time": "2022-02-24T14:15:35.046Z"
   },
   {
    "duration": 4,
    "start_time": "2022-02-24T14:15:35.815Z"
   },
   {
    "duration": 798,
    "start_time": "2022-02-24T14:15:35.821Z"
   },
   {
    "duration": 7,
    "start_time": "2022-02-24T14:15:36.621Z"
   },
   {
    "duration": 10,
    "start_time": "2022-02-24T14:15:36.631Z"
   },
   {
    "duration": 1280,
    "start_time": "2022-02-24T14:15:36.643Z"
   },
   {
    "duration": 50462,
    "start_time": "2022-02-24T14:15:37.925Z"
   },
   {
    "duration": 870,
    "start_time": "2022-02-24T14:16:28.390Z"
   },
   {
    "duration": 7,
    "start_time": "2022-02-24T14:16:29.263Z"
   },
   {
    "duration": 24,
    "start_time": "2022-02-24T14:16:29.272Z"
   },
   {
    "duration": 12,
    "start_time": "2022-02-24T14:16:29.298Z"
   },
   {
    "duration": 13,
    "start_time": "2022-02-24T14:16:29.313Z"
   },
   {
    "duration": 84,
    "start_time": "2022-02-24T14:16:29.329Z"
   },
   {
    "duration": 12,
    "start_time": "2022-02-24T14:16:29.418Z"
   },
   {
    "duration": 39,
    "start_time": "2022-02-24T14:16:29.433Z"
   },
   {
    "duration": 70,
    "start_time": "2022-02-24T14:16:29.474Z"
   },
   {
    "duration": 924,
    "start_time": "2022-02-24T14:16:29.546Z"
   },
   {
    "duration": 52,
    "start_time": "2022-02-24T14:16:30.473Z"
   },
   {
    "duration": 3,
    "start_time": "2022-02-24T14:16:30.528Z"
   },
   {
    "duration": 756,
    "start_time": "2022-02-24T14:31:44.780Z"
   },
   {
    "duration": 554,
    "start_time": "2022-02-24T14:35:05.408Z"
   },
   {
    "duration": 615,
    "start_time": "2022-02-24T14:35:16.448Z"
   },
   {
    "duration": 6,
    "start_time": "2022-02-24T14:39:03.227Z"
   },
   {
    "duration": 15,
    "start_time": "2022-02-24T14:39:09.507Z"
   },
   {
    "duration": 333,
    "start_time": "2022-02-24T16:43:22.094Z"
   },
   {
    "duration": 103,
    "start_time": "2022-02-24T16:43:31.866Z"
   },
   {
    "duration": 6,
    "start_time": "2022-02-24T16:44:07.345Z"
   },
   {
    "duration": 537,
    "start_time": "2022-02-24T16:44:09.686Z"
   },
   {
    "duration": 948,
    "start_time": "2022-02-24T16:44:23.910Z"
   },
   {
    "duration": 17,
    "start_time": "2022-02-24T16:44:24.861Z"
   },
   {
    "duration": 135,
    "start_time": "2022-02-24T16:44:24.883Z"
   },
   {
    "duration": 12,
    "start_time": "2022-02-24T16:44:25.026Z"
   },
   {
    "duration": 15,
    "start_time": "2022-02-24T16:44:25.040Z"
   },
   {
    "duration": 18,
    "start_time": "2022-02-24T16:44:25.058Z"
   },
   {
    "duration": 48,
    "start_time": "2022-02-24T16:44:25.079Z"
   },
   {
    "duration": 32,
    "start_time": "2022-02-24T16:44:25.131Z"
   },
   {
    "duration": 8,
    "start_time": "2022-02-24T16:44:25.167Z"
   },
   {
    "duration": 791,
    "start_time": "2022-02-24T16:44:25.178Z"
   },
   {
    "duration": 5,
    "start_time": "2022-02-24T16:44:25.972Z"
   },
   {
    "duration": 858,
    "start_time": "2022-02-24T16:44:25.979Z"
   },
   {
    "duration": 9,
    "start_time": "2022-02-24T16:44:26.839Z"
   },
   {
    "duration": 5,
    "start_time": "2022-02-24T16:44:26.851Z"
   },
   {
    "duration": 1185,
    "start_time": "2022-02-24T16:44:26.859Z"
   },
   {
    "duration": 3718,
    "start_time": "2022-02-24T16:44:24.330Z"
   },
   {
    "duration": 3715,
    "start_time": "2022-02-24T16:44:24.334Z"
   },
   {
    "duration": 3711,
    "start_time": "2022-02-24T16:44:24.341Z"
   },
   {
    "duration": 3704,
    "start_time": "2022-02-24T16:44:24.350Z"
   },
   {
    "duration": 3699,
    "start_time": "2022-02-24T16:44:24.356Z"
   },
   {
    "duration": 3693,
    "start_time": "2022-02-24T16:44:24.364Z"
   },
   {
    "duration": 3692,
    "start_time": "2022-02-24T16:44:24.367Z"
   },
   {
    "duration": 3657,
    "start_time": "2022-02-24T16:44:24.404Z"
   },
   {
    "duration": 3650,
    "start_time": "2022-02-24T16:44:24.413Z"
   },
   {
    "duration": 3648,
    "start_time": "2022-02-24T16:44:24.416Z"
   },
   {
    "duration": 3645,
    "start_time": "2022-02-24T16:44:24.421Z"
   },
   {
    "duration": 3642,
    "start_time": "2022-02-24T16:44:24.425Z"
   },
   {
    "duration": 3640,
    "start_time": "2022-02-24T16:44:24.429Z"
   },
   {
    "duration": 3638,
    "start_time": "2022-02-24T16:44:24.432Z"
   },
   {
    "duration": 5,
    "start_time": "2022-02-24T16:45:53.147Z"
   },
   {
    "duration": 468,
    "start_time": "2022-02-24T16:45:55.569Z"
   },
   {
    "duration": 449,
    "start_time": "2022-02-24T16:46:09.968Z"
   },
   {
    "duration": 664,
    "start_time": "2022-02-24T16:46:31.108Z"
   },
   {
    "duration": 669,
    "start_time": "2022-02-24T16:47:03.489Z"
   },
   {
    "duration": 6,
    "start_time": "2022-02-24T16:47:38.589Z"
   },
   {
    "duration": 577,
    "start_time": "2022-02-24T16:47:40.868Z"
   },
   {
    "duration": 9,
    "start_time": "2022-02-24T16:47:48.048Z"
   },
   {
    "duration": 371,
    "start_time": "2022-02-24T16:47:50.081Z"
   },
   {
    "duration": 5,
    "start_time": "2022-02-24T16:48:04.805Z"
   },
   {
    "duration": 314,
    "start_time": "2022-02-24T16:48:06.398Z"
   },
   {
    "duration": 321,
    "start_time": "2022-02-24T16:48:19.448Z"
   },
   {
    "duration": 5,
    "start_time": "2022-02-24T16:48:24.888Z"
   },
   {
    "duration": 718,
    "start_time": "2022-02-24T16:48:28.880Z"
   },
   {
    "duration": 263,
    "start_time": "2022-02-24T16:49:58.768Z"
   },
   {
    "duration": 7,
    "start_time": "2022-02-24T16:50:04.338Z"
   },
   {
    "duration": 567,
    "start_time": "2022-02-24T16:50:06.364Z"
   },
   {
    "duration": 213,
    "start_time": "2022-02-24T16:50:44.780Z"
   },
   {
    "duration": 6,
    "start_time": "2022-02-24T16:50:51.501Z"
   },
   {
    "duration": 209,
    "start_time": "2022-02-24T16:50:53.900Z"
   },
   {
    "duration": 7,
    "start_time": "2022-02-24T16:52:09.768Z"
   },
   {
    "duration": 350,
    "start_time": "2022-02-24T16:52:12.320Z"
   },
   {
    "duration": 708,
    "start_time": "2022-02-24T16:53:51.341Z"
   },
   {
    "duration": 322,
    "start_time": "2022-02-24T16:54:31.696Z"
   },
   {
    "duration": 221,
    "start_time": "2022-02-24T16:54:53.421Z"
   },
   {
    "duration": 487,
    "start_time": "2022-02-24T16:56:28.030Z"
   },
   {
    "duration": 494,
    "start_time": "2022-02-24T16:56:53.708Z"
   },
   {
    "duration": 726,
    "start_time": "2022-02-24T16:57:01.228Z"
   },
   {
    "duration": 591,
    "start_time": "2022-02-24T16:57:26.908Z"
   },
   {
    "duration": 471,
    "start_time": "2022-02-24T16:57:40.188Z"
   },
   {
    "duration": 236,
    "start_time": "2022-02-24T16:58:54.619Z"
   },
   {
    "duration": 281,
    "start_time": "2022-02-24T16:59:05.181Z"
   },
   {
    "duration": 39,
    "start_time": "2022-02-24T16:59:15.900Z"
   },
   {
    "duration": 311,
    "start_time": "2022-02-24T16:59:46.869Z"
   },
   {
    "duration": 322,
    "start_time": "2022-02-24T16:59:50.782Z"
   },
   {
    "duration": 323,
    "start_time": "2022-02-24T16:59:54.188Z"
   },
   {
    "duration": 221,
    "start_time": "2022-02-24T16:59:57.689Z"
   },
   {
    "duration": 243,
    "start_time": "2022-02-24T17:00:02.209Z"
   },
   {
    "duration": 505,
    "start_time": "2022-02-24T17:01:31.470Z"
   },
   {
    "duration": 848,
    "start_time": "2022-02-24T17:01:37.549Z"
   },
   {
    "duration": 727,
    "start_time": "2022-02-24T17:01:55.796Z"
   },
   {
    "duration": 711,
    "start_time": "2022-02-24T17:02:01.219Z"
   },
   {
    "duration": 329,
    "start_time": "2022-02-24T17:03:01.550Z"
   },
   {
    "duration": 1116,
    "start_time": "2022-02-24T17:30:36.538Z"
   },
   {
    "duration": 15,
    "start_time": "2022-02-24T17:30:37.656Z"
   },
   {
    "duration": 138,
    "start_time": "2022-02-24T17:30:37.675Z"
   },
   {
    "duration": 15,
    "start_time": "2022-02-24T17:30:37.816Z"
   },
   {
    "duration": 19,
    "start_time": "2022-02-24T17:30:37.835Z"
   },
   {
    "duration": 14,
    "start_time": "2022-02-24T17:30:37.857Z"
   },
   {
    "duration": 5,
    "start_time": "2022-02-24T17:30:37.874Z"
   },
   {
    "duration": 72,
    "start_time": "2022-02-24T17:30:37.881Z"
   },
   {
    "duration": 8,
    "start_time": "2022-02-24T17:30:37.958Z"
   },
   {
    "duration": 822,
    "start_time": "2022-02-24T17:30:37.970Z"
   },
   {
    "duration": 5,
    "start_time": "2022-02-24T17:30:38.794Z"
   },
   {
    "duration": 889,
    "start_time": "2022-02-24T17:30:38.802Z"
   },
   {
    "duration": 8,
    "start_time": "2022-02-24T17:30:39.694Z"
   },
   {
    "duration": 23,
    "start_time": "2022-02-24T17:30:39.705Z"
   },
   {
    "duration": 754,
    "start_time": "2022-02-24T17:30:39.733Z"
   },
   {
    "duration": 6,
    "start_time": "2022-02-24T17:30:40.489Z"
   },
   {
    "duration": 807,
    "start_time": "2022-02-24T17:30:40.497Z"
   },
   {
    "duration": 7,
    "start_time": "2022-02-24T17:30:41.307Z"
   },
   {
    "duration": 11,
    "start_time": "2022-02-24T17:30:41.327Z"
   },
   {
    "duration": 17,
    "start_time": "2022-02-24T17:30:41.341Z"
   },
   {
    "duration": 5,
    "start_time": "2022-02-24T17:30:41.361Z"
   },
   {
    "duration": 100,
    "start_time": "2022-02-24T17:30:41.369Z"
   },
   {
    "duration": 15,
    "start_time": "2022-02-24T17:30:41.471Z"
   },
   {
    "duration": 45,
    "start_time": "2022-02-24T17:30:41.488Z"
   },
   {
    "duration": 61,
    "start_time": "2022-02-24T17:30:41.537Z"
   },
   {
    "duration": 985,
    "start_time": "2022-02-24T17:30:41.601Z"
   },
   {
    "duration": 62,
    "start_time": "2022-02-24T17:30:42.595Z"
   },
   {
    "duration": 5,
    "start_time": "2022-02-24T17:30:42.660Z"
   },
   {
    "duration": 512,
    "start_time": "2022-02-24T17:30:42.668Z"
   },
   {
    "duration": 272,
    "start_time": "2022-02-24T17:30:43.183Z"
   },
   {
    "duration": 513,
    "start_time": "2022-02-24T17:30:43.457Z"
   },
   {
    "duration": 253,
    "start_time": "2022-02-24T17:30:43.973Z"
   },
   {
    "duration": 498,
    "start_time": "2022-02-24T17:30:44.232Z"
   },
   {
    "duration": 248,
    "start_time": "2022-02-24T17:30:44.733Z"
   },
   {
    "duration": 562,
    "start_time": "2022-02-24T17:30:44.983Z"
   },
   {
    "duration": 253,
    "start_time": "2022-02-24T17:30:45.547Z"
   },
   {
    "duration": 420,
    "start_time": "2022-02-24T17:30:45.802Z"
   },
   {
    "duration": 290,
    "start_time": "2022-02-24T17:39:08.192Z"
   },
   {
    "duration": 268,
    "start_time": "2022-02-24T17:39:34.072Z"
   },
   {
    "duration": 22,
    "start_time": "2022-02-24T17:39:48.046Z"
   },
   {
    "duration": 23,
    "start_time": "2022-02-24T17:39:52.391Z"
   },
   {
    "duration": 263,
    "start_time": "2022-02-24T17:40:08.093Z"
   },
   {
    "duration": 321,
    "start_time": "2022-02-24T17:40:37.705Z"
   },
   {
    "duration": 287,
    "start_time": "2022-02-24T17:42:27.554Z"
   },
   {
    "duration": 279,
    "start_time": "2022-02-24T17:42:42.013Z"
   },
   {
    "duration": 9,
    "start_time": "2022-02-24T17:42:52.092Z"
   },
   {
    "duration": 22,
    "start_time": "2022-02-24T17:42:58.992Z"
   },
   {
    "duration": 22,
    "start_time": "2022-02-24T17:43:01.992Z"
   },
   {
    "duration": 26,
    "start_time": "2022-02-24T17:43:07.112Z"
   },
   {
    "duration": 22,
    "start_time": "2022-02-24T17:43:14.973Z"
   },
   {
    "duration": 9,
    "start_time": "2022-02-24T17:44:07.727Z"
   },
   {
    "duration": 13,
    "start_time": "2022-02-24T17:44:14.624Z"
   },
   {
    "duration": 280,
    "start_time": "2022-02-24T17:46:05.376Z"
   },
   {
    "duration": 3510,
    "start_time": "2022-02-24T17:46:48.780Z"
   },
   {
    "duration": 27,
    "start_time": "2022-02-24T17:47:39.395Z"
   },
   {
    "duration": 266,
    "start_time": "2022-02-24T17:49:25.315Z"
   },
   {
    "duration": 28,
    "start_time": "2022-02-24T17:49:38.272Z"
   },
   {
    "duration": 25,
    "start_time": "2022-02-24T17:50:36.438Z"
   },
   {
    "duration": 274,
    "start_time": "2022-02-24T18:00:35.219Z"
   },
   {
    "duration": 1009,
    "start_time": "2022-02-24T18:01:40.899Z"
   },
   {
    "duration": 281,
    "start_time": "2022-02-24T18:01:57.338Z"
   },
   {
    "duration": 21,
    "start_time": "2022-02-24T18:02:25.199Z"
   },
   {
    "duration": 20,
    "start_time": "2022-02-24T18:02:28.398Z"
   },
   {
    "duration": 29,
    "start_time": "2022-02-24T18:02:37.038Z"
   },
   {
    "duration": 1027,
    "start_time": "2022-02-26T12:42:11.762Z"
   },
   {
    "duration": 18,
    "start_time": "2022-02-26T12:42:12.792Z"
   },
   {
    "duration": 129,
    "start_time": "2022-02-26T12:42:12.814Z"
   },
   {
    "duration": 10,
    "start_time": "2022-02-26T12:42:12.946Z"
   },
   {
    "duration": 30,
    "start_time": "2022-02-26T12:42:12.958Z"
   },
   {
    "duration": 22,
    "start_time": "2022-02-26T12:42:12.991Z"
   },
   {
    "duration": 5,
    "start_time": "2022-02-26T12:42:13.016Z"
   },
   {
    "duration": 67,
    "start_time": "2022-02-26T12:42:13.024Z"
   },
   {
    "duration": 9,
    "start_time": "2022-02-26T12:42:13.096Z"
   },
   {
    "duration": 817,
    "start_time": "2022-02-26T12:42:13.109Z"
   },
   {
    "duration": 5,
    "start_time": "2022-02-26T12:42:13.929Z"
   },
   {
    "duration": 773,
    "start_time": "2022-02-26T12:42:13.936Z"
   },
   {
    "duration": 8,
    "start_time": "2022-02-26T12:42:14.711Z"
   },
   {
    "duration": 5,
    "start_time": "2022-02-26T12:42:14.721Z"
   },
   {
    "duration": 570,
    "start_time": "2022-02-26T12:42:14.728Z"
   },
   {
    "duration": 7,
    "start_time": "2022-02-26T12:42:15.300Z"
   },
   {
    "duration": 719,
    "start_time": "2022-02-26T12:42:15.309Z"
   },
   {
    "duration": 11,
    "start_time": "2022-02-26T12:42:16.030Z"
   },
   {
    "duration": 8,
    "start_time": "2022-02-26T12:42:16.044Z"
   },
   {
    "duration": 32,
    "start_time": "2022-02-26T12:42:16.054Z"
   },
   {
    "duration": 5,
    "start_time": "2022-02-26T12:42:16.088Z"
   },
   {
    "duration": 59,
    "start_time": "2022-02-26T12:42:16.096Z"
   },
   {
    "duration": 30,
    "start_time": "2022-02-26T12:42:16.158Z"
   },
   {
    "duration": 24,
    "start_time": "2022-02-26T12:42:16.190Z"
   },
   {
    "duration": 86,
    "start_time": "2022-02-26T12:42:16.216Z"
   },
   {
    "duration": 852,
    "start_time": "2022-02-26T12:42:16.305Z"
   },
   {
    "duration": 47,
    "start_time": "2022-02-26T12:42:17.164Z"
   },
   {
    "duration": 4,
    "start_time": "2022-02-26T12:42:17.214Z"
   },
   {
    "duration": 397,
    "start_time": "2022-02-26T12:42:17.220Z"
   },
   {
    "duration": 225,
    "start_time": "2022-02-26T12:42:17.619Z"
   },
   {
    "duration": 442,
    "start_time": "2022-02-26T12:42:17.846Z"
   },
   {
    "duration": 218,
    "start_time": "2022-02-26T12:42:18.291Z"
   },
   {
    "duration": 439,
    "start_time": "2022-02-26T12:42:18.512Z"
   },
   {
    "duration": 225,
    "start_time": "2022-02-26T12:42:18.953Z"
   },
   {
    "duration": 452,
    "start_time": "2022-02-26T12:42:19.180Z"
   },
   {
    "duration": 307,
    "start_time": "2022-02-26T12:42:19.635Z"
   },
   {
    "duration": 436,
    "start_time": "2022-02-26T12:51:37.349Z"
   },
   {
    "duration": 405,
    "start_time": "2022-02-26T12:51:46.706Z"
   },
   {
    "duration": 12,
    "start_time": "2022-02-26T13:06:36.001Z"
   },
   {
    "duration": 16,
    "start_time": "2022-02-26T13:07:28.160Z"
   },
   {
    "duration": 15,
    "start_time": "2022-02-26T13:07:51.541Z"
   },
   {
    "duration": 57,
    "start_time": "2022-02-26T13:07:54.315Z"
   },
   {
    "duration": 70,
    "start_time": "2022-02-26T13:08:02.383Z"
   },
   {
    "duration": 15,
    "start_time": "2022-02-26T13:08:07.961Z"
   },
   {
    "duration": 52,
    "start_time": "2022-02-26T13:08:10.282Z"
   },
   {
    "duration": 17,
    "start_time": "2022-02-26T13:08:19.382Z"
   },
   {
    "duration": 49,
    "start_time": "2022-02-26T13:08:21.382Z"
   },
   {
    "duration": 944,
    "start_time": "2022-02-26T13:08:39.038Z"
   },
   {
    "duration": 14,
    "start_time": "2022-02-26T13:08:39.985Z"
   },
   {
    "duration": 129,
    "start_time": "2022-02-26T13:08:40.002Z"
   },
   {
    "duration": 9,
    "start_time": "2022-02-26T13:08:40.134Z"
   },
   {
    "duration": 14,
    "start_time": "2022-02-26T13:08:40.145Z"
   },
   {
    "duration": 16,
    "start_time": "2022-02-26T13:08:40.181Z"
   },
   {
    "duration": 7,
    "start_time": "2022-02-26T13:08:40.199Z"
   },
   {
    "duration": 26,
    "start_time": "2022-02-26T13:08:40.208Z"
   },
   {
    "duration": 6,
    "start_time": "2022-02-26T13:08:40.239Z"
   },
   {
    "duration": 734,
    "start_time": "2022-02-26T13:08:40.248Z"
   },
   {
    "duration": 4,
    "start_time": "2022-02-26T13:08:40.984Z"
   },
   {
    "duration": 802,
    "start_time": "2022-02-26T13:08:40.990Z"
   },
   {
    "duration": 8,
    "start_time": "2022-02-26T13:08:41.794Z"
   },
   {
    "duration": 5,
    "start_time": "2022-02-26T13:08:41.804Z"
   },
   {
    "duration": 583,
    "start_time": "2022-02-26T13:08:41.811Z"
   },
   {
    "duration": 5,
    "start_time": "2022-02-26T13:08:42.397Z"
   },
   {
    "duration": 706,
    "start_time": "2022-02-26T13:08:42.405Z"
   },
   {
    "duration": 7,
    "start_time": "2022-02-26T13:08:43.114Z"
   },
   {
    "duration": 6,
    "start_time": "2022-02-26T13:08:43.124Z"
   },
   {
    "duration": 15,
    "start_time": "2022-02-26T13:08:43.132Z"
   },
   {
    "duration": 34,
    "start_time": "2022-02-26T13:08:43.150Z"
   },
   {
    "duration": 56,
    "start_time": "2022-02-26T13:08:43.186Z"
   },
   {
    "duration": 38,
    "start_time": "2022-02-26T13:08:43.244Z"
   },
   {
    "duration": 24,
    "start_time": "2022-02-26T13:08:43.284Z"
   },
   {
    "duration": 59,
    "start_time": "2022-02-26T13:08:43.311Z"
   },
   {
    "duration": 969,
    "start_time": "2022-02-26T13:08:43.383Z"
   },
   {
    "duration": 50,
    "start_time": "2022-02-26T13:08:44.358Z"
   },
   {
    "duration": 7,
    "start_time": "2022-02-26T13:08:44.411Z"
   },
   {
    "duration": 708,
    "start_time": "2022-02-26T13:08:44.421Z"
   },
   {
    "duration": 255,
    "start_time": "2022-02-26T13:08:45.132Z"
   },
   {
    "duration": 10,
    "start_time": "2022-02-26T13:08:45.389Z"
   },
   {
    "duration": 464,
    "start_time": "2022-02-26T13:08:45.402Z"
   },
   {
    "duration": 222,
    "start_time": "2022-02-26T13:08:45.868Z"
   },
   {
    "duration": 427,
    "start_time": "2022-02-26T13:08:46.093Z"
   },
   {
    "duration": 206,
    "start_time": "2022-02-26T13:08:46.523Z"
   },
   {
    "duration": 423,
    "start_time": "2022-02-26T13:08:46.731Z"
   },
   {
    "duration": 287,
    "start_time": "2022-02-26T13:08:47.157Z"
   },
   {
    "duration": 404,
    "start_time": "2022-02-26T13:09:34.956Z"
   },
   {
    "duration": 385,
    "start_time": "2022-02-26T13:09:50.117Z"
   },
   {
    "duration": 413,
    "start_time": "2022-02-26T13:09:59.669Z"
   },
   {
    "duration": 933,
    "start_time": "2022-02-26T13:10:08.797Z"
   },
   {
    "duration": 17,
    "start_time": "2022-02-26T13:10:09.733Z"
   },
   {
    "duration": 128,
    "start_time": "2022-02-26T13:10:09.754Z"
   },
   {
    "duration": 11,
    "start_time": "2022-02-26T13:10:09.886Z"
   },
   {
    "duration": 14,
    "start_time": "2022-02-26T13:10:09.900Z"
   },
   {
    "duration": 16,
    "start_time": "2022-02-26T13:10:09.916Z"
   },
   {
    "duration": 4,
    "start_time": "2022-02-26T13:10:09.935Z"
   },
   {
    "duration": 62,
    "start_time": "2022-02-26T13:10:09.942Z"
   },
   {
    "duration": 8,
    "start_time": "2022-02-26T13:10:10.007Z"
   },
   {
    "duration": 879,
    "start_time": "2022-02-26T13:10:10.017Z"
   },
   {
    "duration": 4,
    "start_time": "2022-02-26T13:10:10.898Z"
   },
   {
    "duration": 821,
    "start_time": "2022-02-26T13:10:10.905Z"
   },
   {
    "duration": 9,
    "start_time": "2022-02-26T13:10:11.728Z"
   },
   {
    "duration": 11,
    "start_time": "2022-02-26T13:10:11.739Z"
   },
   {
    "duration": 562,
    "start_time": "2022-02-26T13:10:11.752Z"
   },
   {
    "duration": 8,
    "start_time": "2022-02-26T13:10:12.317Z"
   },
   {
    "duration": 724,
    "start_time": "2022-02-26T13:10:12.328Z"
   },
   {
    "duration": 9,
    "start_time": "2022-02-26T13:10:13.055Z"
   },
   {
    "duration": 21,
    "start_time": "2022-02-26T13:10:13.066Z"
   },
   {
    "duration": 13,
    "start_time": "2022-02-26T13:10:13.089Z"
   },
   {
    "duration": 5,
    "start_time": "2022-02-26T13:10:13.105Z"
   },
   {
    "duration": 85,
    "start_time": "2022-02-26T13:10:13.112Z"
   },
   {
    "duration": 11,
    "start_time": "2022-02-26T13:10:13.202Z"
   },
   {
    "duration": 24,
    "start_time": "2022-02-26T13:10:13.216Z"
   },
   {
    "duration": 94,
    "start_time": "2022-02-26T13:10:13.243Z"
   },
   {
    "duration": 1011,
    "start_time": "2022-02-26T13:10:13.339Z"
   },
   {
    "duration": 58,
    "start_time": "2022-02-26T13:10:14.353Z"
   },
   {
    "duration": 6,
    "start_time": "2022-02-26T13:10:14.414Z"
   },
   {
    "duration": 539,
    "start_time": "2022-02-26T13:10:14.422Z"
   },
   {
    "duration": 313,
    "start_time": "2022-02-26T13:10:14.964Z"
   },
   {
    "duration": 412,
    "start_time": "2022-02-26T13:10:15.283Z"
   },
   {
    "duration": 474,
    "start_time": "2022-02-26T13:10:15.699Z"
   },
   {
    "duration": 244,
    "start_time": "2022-02-26T13:10:16.175Z"
   },
   {
    "duration": 462,
    "start_time": "2022-02-26T13:10:16.422Z"
   },
   {
    "duration": 232,
    "start_time": "2022-02-26T13:10:16.887Z"
   },
   {
    "duration": 444,
    "start_time": "2022-02-26T13:10:17.122Z"
   },
   {
    "duration": 327,
    "start_time": "2022-02-26T13:10:17.568Z"
   },
   {
    "duration": 13,
    "start_time": "2022-02-26T13:11:55.336Z"
   },
   {
    "duration": 35,
    "start_time": "2022-02-26T13:12:06.997Z"
   },
   {
    "duration": 434,
    "start_time": "2022-02-26T13:12:18.149Z"
   },
   {
    "duration": 435,
    "start_time": "2022-02-26T13:12:54.829Z"
   },
   {
    "duration": 452,
    "start_time": "2022-02-26T13:13:01.437Z"
   },
   {
    "duration": 431,
    "start_time": "2022-02-26T13:13:11.218Z"
   },
   {
    "duration": 209,
    "start_time": "2022-02-26T13:14:54.589Z"
   },
   {
    "duration": 193,
    "start_time": "2022-02-26T13:15:03.357Z"
   },
   {
    "duration": 72,
    "start_time": "2022-02-26T13:18:34.327Z"
   },
   {
    "duration": 12,
    "start_time": "2022-02-26T13:19:03.450Z"
   },
   {
    "duration": 11,
    "start_time": "2022-02-26T13:19:33.878Z"
   },
   {
    "duration": 511,
    "start_time": "2022-02-26T13:19:40.419Z"
   },
   {
    "duration": 201,
    "start_time": "2022-02-26T13:19:43.359Z"
   },
   {
    "duration": 419,
    "start_time": "2022-02-26T13:27:42.823Z"
   },
   {
    "duration": 212,
    "start_time": "2022-02-26T13:29:10.012Z"
   },
   {
    "duration": 422,
    "start_time": "2022-02-26T13:31:55.923Z"
   },
   {
    "duration": 12,
    "start_time": "2022-02-26T13:34:22.943Z"
   },
   {
    "duration": 12,
    "start_time": "2022-02-26T13:34:37.475Z"
   },
   {
    "duration": 11,
    "start_time": "2022-02-26T13:36:32.819Z"
   },
   {
    "duration": 206,
    "start_time": "2022-02-26T13:37:11.843Z"
   },
   {
    "duration": 205,
    "start_time": "2022-02-26T13:37:39.555Z"
   },
   {
    "duration": 212,
    "start_time": "2022-02-26T13:38:16.044Z"
   },
   {
    "duration": 206,
    "start_time": "2022-02-26T13:38:28.444Z"
   },
   {
    "duration": 11,
    "start_time": "2022-02-26T13:42:20.724Z"
   },
   {
    "duration": 485,
    "start_time": "2022-02-26T13:43:28.355Z"
   },
   {
    "duration": 563,
    "start_time": "2022-02-26T13:43:42.804Z"
   },
   {
    "duration": 5,
    "start_time": "2022-02-26T13:46:43.450Z"
   },
   {
    "duration": 11,
    "start_time": "2022-02-26T13:48:12.769Z"
   },
   {
    "duration": 403,
    "start_time": "2022-02-26T13:48:16.139Z"
   },
   {
    "duration": 542,
    "start_time": "2022-02-26T13:48:25.931Z"
   },
   {
    "duration": 214,
    "start_time": "2022-02-26T13:48:30.643Z"
   },
   {
    "duration": 238,
    "start_time": "2022-02-26T13:48:53.683Z"
   },
   {
    "duration": 200,
    "start_time": "2022-02-26T13:49:14.632Z"
   },
   {
    "duration": 205,
    "start_time": "2022-02-26T13:49:20.444Z"
   },
   {
    "duration": 12,
    "start_time": "2022-02-26T13:59:10.844Z"
   },
   {
    "duration": 47,
    "start_time": "2022-02-26T14:07:09.424Z"
   },
   {
    "duration": 45,
    "start_time": "2022-02-26T14:07:34.955Z"
   },
   {
    "duration": 62,
    "start_time": "2022-02-26T14:08:38.224Z"
   },
   {
    "duration": 132,
    "start_time": "2022-02-26T14:13:36.855Z"
   },
   {
    "duration": 27,
    "start_time": "2022-02-26T14:15:45.175Z"
   },
   {
    "duration": 13,
    "start_time": "2022-02-26T16:48:14.870Z"
   },
   {
    "duration": 399,
    "start_time": "2022-02-26T16:48:19.470Z"
   },
   {
    "duration": 412,
    "start_time": "2022-02-26T16:48:45.911Z"
   },
   {
    "duration": 398,
    "start_time": "2022-02-26T16:49:08.231Z"
   },
   {
    "duration": 417,
    "start_time": "2022-02-26T16:49:35.530Z"
   },
   {
    "duration": 198,
    "start_time": "2022-02-26T16:50:26.103Z"
   },
   {
    "duration": 210,
    "start_time": "2022-02-26T16:51:05.091Z"
   },
   {
    "duration": 190,
    "start_time": "2022-02-26T16:51:10.610Z"
   },
   {
    "duration": 275,
    "start_time": "2022-02-26T16:51:14.512Z"
   },
   {
    "duration": 399,
    "start_time": "2022-02-26T16:51:25.230Z"
   },
   {
    "duration": 208,
    "start_time": "2022-02-26T16:53:08.176Z"
   },
   {
    "duration": 182,
    "start_time": "2022-02-26T16:57:48.326Z"
   },
   {
    "duration": 188,
    "start_time": "2022-02-26T16:58:00.333Z"
   },
   {
    "duration": 370,
    "start_time": "2022-02-26T16:59:33.545Z"
   },
   {
    "duration": 423,
    "start_time": "2022-02-26T16:59:56.845Z"
   },
   {
    "duration": 499,
    "start_time": "2022-02-26T17:00:10.644Z"
   },
   {
    "duration": 224,
    "start_time": "2022-02-26T17:05:28.598Z"
   },
   {
    "duration": 206,
    "start_time": "2022-02-26T17:05:50.237Z"
   },
   {
    "duration": 484,
    "start_time": "2022-02-26T17:34:26.288Z"
   },
   {
    "duration": 124,
    "start_time": "2022-02-26T17:34:37.237Z"
   },
   {
    "duration": 117,
    "start_time": "2022-02-26T17:51:11.167Z"
   },
   {
    "duration": 69,
    "start_time": "2022-02-26T17:59:18.184Z"
   },
   {
    "duration": 10,
    "start_time": "2022-02-26T18:00:26.925Z"
   },
   {
    "duration": 6,
    "start_time": "2022-02-26T18:03:35.842Z"
   },
   {
    "duration": 7,
    "start_time": "2022-02-26T18:03:38.662Z"
   },
   {
    "duration": 96,
    "start_time": "2022-02-26T18:05:15.076Z"
   },
   {
    "duration": 936,
    "start_time": "2022-02-26T18:05:53.885Z"
   },
   {
    "duration": 255,
    "start_time": "2022-02-26T18:24:07.398Z"
   },
   {
    "duration": 1631,
    "start_time": "2022-02-26T18:24:48.879Z"
   },
   {
    "duration": 14,
    "start_time": "2022-02-26T18:24:50.513Z"
   },
   {
    "duration": 115,
    "start_time": "2022-02-26T18:24:50.530Z"
   },
   {
    "duration": 8,
    "start_time": "2022-02-26T18:24:50.648Z"
   },
   {
    "duration": 29,
    "start_time": "2022-02-26T18:24:50.658Z"
   },
   {
    "duration": 12,
    "start_time": "2022-02-26T18:24:50.689Z"
   },
   {
    "duration": 4,
    "start_time": "2022-02-26T18:24:50.704Z"
   },
   {
    "duration": 24,
    "start_time": "2022-02-26T18:24:50.712Z"
   },
   {
    "duration": 7,
    "start_time": "2022-02-26T18:24:50.739Z"
   },
   {
    "duration": 722,
    "start_time": "2022-02-26T18:24:50.748Z"
   },
   {
    "duration": 4,
    "start_time": "2022-02-26T18:24:51.482Z"
   },
   {
    "duration": 766,
    "start_time": "2022-02-26T18:24:51.489Z"
   },
   {
    "duration": 8,
    "start_time": "2022-02-26T18:24:52.257Z"
   },
   {
    "duration": 16,
    "start_time": "2022-02-26T18:24:52.267Z"
   },
   {
    "duration": 558,
    "start_time": "2022-02-26T18:24:52.285Z"
   },
   {
    "duration": 5,
    "start_time": "2022-02-26T18:24:52.845Z"
   },
   {
    "duration": 706,
    "start_time": "2022-02-26T18:24:52.852Z"
   },
   {
    "duration": 21,
    "start_time": "2022-02-26T18:24:53.561Z"
   },
   {
    "duration": 7,
    "start_time": "2022-02-26T18:24:53.584Z"
   },
   {
    "duration": 11,
    "start_time": "2022-02-26T18:24:53.595Z"
   },
   {
    "duration": 7,
    "start_time": "2022-02-26T18:24:53.609Z"
   },
   {
    "duration": 79,
    "start_time": "2022-02-26T18:24:53.618Z"
   },
   {
    "duration": 10,
    "start_time": "2022-02-26T18:24:53.699Z"
   },
   {
    "duration": 28,
    "start_time": "2022-02-26T18:24:53.711Z"
   },
   {
    "duration": 804,
    "start_time": "2022-02-26T18:24:53.742Z"
   },
   {
    "duration": 5,
    "start_time": "2022-02-26T18:24:54.548Z"
   },
   {
    "duration": 29,
    "start_time": "2022-02-26T18:24:54.555Z"
   },
   {
    "duration": 471,
    "start_time": "2022-02-26T18:24:54.586Z"
   },
   {
    "duration": 223,
    "start_time": "2022-02-26T18:24:55.059Z"
   },
   {
    "duration": 15,
    "start_time": "2022-02-26T18:24:55.285Z"
   },
   {
    "duration": 11,
    "start_time": "2022-02-26T18:24:55.303Z"
   },
   {
    "duration": 446,
    "start_time": "2022-02-26T18:24:55.316Z"
   },
   {
    "duration": 213,
    "start_time": "2022-02-26T18:24:55.765Z"
   },
   {
    "duration": 13,
    "start_time": "2022-02-26T18:24:55.980Z"
   },
   {
    "duration": 10,
    "start_time": "2022-02-26T18:24:55.995Z"
   },
   {
    "duration": 420,
    "start_time": "2022-02-26T18:24:56.007Z"
   },
   {
    "duration": 214,
    "start_time": "2022-02-26T18:24:56.429Z"
   },
   {
    "duration": 12,
    "start_time": "2022-02-26T18:24:56.645Z"
   },
   {
    "duration": 67,
    "start_time": "2022-02-26T18:24:56.659Z"
   },
   {
    "duration": 56,
    "start_time": "2022-02-26T18:24:56.728Z"
   },
   {
    "duration": 60,
    "start_time": "2022-02-26T18:24:56.786Z"
   },
   {
    "duration": 48,
    "start_time": "2022-02-26T18:24:56.851Z"
   },
   {
    "duration": 10,
    "start_time": "2022-02-26T18:24:56.901Z"
   },
   {
    "duration": 402,
    "start_time": "2022-02-26T18:24:56.913Z"
   },
   {
    "duration": 222,
    "start_time": "2022-02-26T18:24:57.318Z"
   },
   {
    "duration": 2220,
    "start_time": "2022-02-26T18:24:57.543Z"
   },
   {
    "duration": 5770,
    "start_time": "2022-02-26T18:24:53.996Z"
   },
   {
    "duration": 5759,
    "start_time": "2022-02-26T18:24:54.008Z"
   },
   {
    "duration": 5751,
    "start_time": "2022-02-26T18:24:54.018Z"
   },
   {
    "duration": 5741,
    "start_time": "2022-02-26T18:24:54.029Z"
   },
   {
    "duration": 5732,
    "start_time": "2022-02-26T18:24:54.039Z"
   },
   {
    "duration": 5728,
    "start_time": "2022-02-26T18:24:54.045Z"
   },
   {
    "duration": 5715,
    "start_time": "2022-02-26T18:24:54.059Z"
   },
   {
    "duration": 5710,
    "start_time": "2022-02-26T18:24:54.065Z"
   },
   {
    "duration": 619,
    "start_time": "2022-02-26T18:25:50.487Z"
   },
   {
    "duration": 121,
    "start_time": "2022-02-26T18:28:47.866Z"
   },
   {
    "duration": 89,
    "start_time": "2022-02-26T18:29:36.719Z"
   },
   {
    "duration": 746,
    "start_time": "2022-02-26T18:31:12.015Z"
   },
   {
    "duration": 1003,
    "start_time": "2022-02-26T18:32:13.749Z"
   },
   {
    "duration": 709,
    "start_time": "2022-02-26T18:32:55.123Z"
   },
   {
    "duration": 2353,
    "start_time": "2022-02-26T18:51:12.075Z"
   },
   {
    "duration": 782,
    "start_time": "2022-02-26T18:51:44.523Z"
   },
   {
    "duration": 358,
    "start_time": "2022-02-26T18:52:24.675Z"
   },
   {
    "duration": 299,
    "start_time": "2022-02-26T18:53:05.390Z"
   },
   {
    "duration": 103,
    "start_time": "2022-02-26T18:53:19.327Z"
   },
   {
    "duration": 1485,
    "start_time": "2022-02-26T18:54:04.334Z"
   },
   {
    "duration": 1866,
    "start_time": "2022-02-26T18:54:15.666Z"
   },
   {
    "duration": 1885,
    "start_time": "2022-02-26T18:54:33.474Z"
   },
   {
    "duration": 252,
    "start_time": "2022-02-26T18:55:57.694Z"
   },
   {
    "duration": 240,
    "start_time": "2022-02-26T18:57:18.074Z"
   },
   {
    "duration": 2838,
    "start_time": "2022-02-26T18:58:17.685Z"
   },
   {
    "duration": 1796,
    "start_time": "2022-02-26T18:58:51.974Z"
   },
   {
    "duration": 2242,
    "start_time": "2022-02-26T18:59:14.834Z"
   },
   {
    "duration": 22,
    "start_time": "2022-02-26T18:59:17.081Z"
   },
   {
    "duration": 144,
    "start_time": "2022-02-26T18:59:17.107Z"
   },
   {
    "duration": 13,
    "start_time": "2022-02-26T18:59:17.255Z"
   },
   {
    "duration": 18,
    "start_time": "2022-02-26T18:59:17.283Z"
   },
   {
    "duration": 29,
    "start_time": "2022-02-26T18:59:17.305Z"
   },
   {
    "duration": 7,
    "start_time": "2022-02-26T18:59:17.337Z"
   },
   {
    "duration": 67,
    "start_time": "2022-02-26T18:59:17.350Z"
   },
   {
    "duration": 11,
    "start_time": "2022-02-26T18:59:17.421Z"
   },
   {
    "duration": 1485,
    "start_time": "2022-02-26T18:59:17.435Z"
   },
   {
    "duration": 5,
    "start_time": "2022-02-26T18:59:18.923Z"
   },
   {
    "duration": 1591,
    "start_time": "2022-02-26T18:59:18.931Z"
   },
   {
    "duration": 10,
    "start_time": "2022-02-26T18:59:20.525Z"
   },
   {
    "duration": 13,
    "start_time": "2022-02-26T18:59:20.538Z"
   },
   {
    "duration": 892,
    "start_time": "2022-02-26T18:59:20.553Z"
   },
   {
    "duration": 5,
    "start_time": "2022-02-26T18:59:21.448Z"
   },
   {
    "duration": 1055,
    "start_time": "2022-02-26T18:59:21.456Z"
   },
   {
    "duration": 11,
    "start_time": "2022-02-26T18:59:22.514Z"
   },
   {
    "duration": 9,
    "start_time": "2022-02-26T18:59:22.528Z"
   },
   {
    "duration": 52,
    "start_time": "2022-02-26T18:59:22.540Z"
   },
   {
    "duration": 5,
    "start_time": "2022-02-26T18:59:22.596Z"
   },
   {
    "duration": 98,
    "start_time": "2022-02-26T18:59:22.604Z"
   },
   {
    "duration": 16,
    "start_time": "2022-02-26T18:59:22.711Z"
   },
   {
    "duration": 60,
    "start_time": "2022-02-26T18:59:22.732Z"
   },
   {
    "duration": 1299,
    "start_time": "2022-02-26T18:59:22.795Z"
   },
   {
    "duration": 7,
    "start_time": "2022-02-26T18:59:24.097Z"
   },
   {
    "duration": 19,
    "start_time": "2022-02-26T18:59:24.107Z"
   },
   {
    "duration": 756,
    "start_time": "2022-02-26T18:59:24.129Z"
   },
   {
    "duration": 358,
    "start_time": "2022-02-26T18:59:24.888Z"
   },
   {
    "duration": 16,
    "start_time": "2022-02-26T18:59:25.249Z"
   },
   {
    "duration": 15,
    "start_time": "2022-02-26T18:59:25.283Z"
   },
   {
    "duration": 760,
    "start_time": "2022-02-26T18:59:25.301Z"
   },
   {
    "duration": 351,
    "start_time": "2022-02-26T18:59:26.064Z"
   },
   {
    "duration": 16,
    "start_time": "2022-02-26T18:59:26.418Z"
   },
   {
    "duration": 15,
    "start_time": "2022-02-26T18:59:26.437Z"
   },
   {
    "duration": 724,
    "start_time": "2022-02-26T18:59:26.484Z"
   },
   {
    "duration": 297,
    "start_time": "2022-02-26T18:59:27.214Z"
   },
   {
    "duration": 18,
    "start_time": "2022-02-26T18:59:27.514Z"
   },
   {
    "duration": 94,
    "start_time": "2022-02-26T18:59:27.535Z"
   },
   {
    "duration": 77,
    "start_time": "2022-02-26T18:59:27.632Z"
   },
   {
    "duration": 120,
    "start_time": "2022-02-26T18:59:27.713Z"
   },
   {
    "duration": 58,
    "start_time": "2022-02-26T18:59:27.836Z"
   },
   {
    "duration": 18,
    "start_time": "2022-02-26T18:59:27.897Z"
   },
   {
    "duration": 625,
    "start_time": "2022-02-26T18:59:27.919Z"
   },
   {
    "duration": 328,
    "start_time": "2022-02-26T18:59:28.547Z"
   },
   {
    "duration": 2201,
    "start_time": "2022-02-26T18:59:28.878Z"
   },
   {
    "duration": 5835,
    "start_time": "2022-02-26T18:59:25.247Z"
   },
   {
    "duration": 5821,
    "start_time": "2022-02-26T18:59:25.263Z"
   },
   {
    "duration": 5815,
    "start_time": "2022-02-26T18:59:25.270Z"
   },
   {
    "duration": 5811,
    "start_time": "2022-02-26T18:59:25.276Z"
   },
   {
    "duration": 5806,
    "start_time": "2022-02-26T18:59:25.284Z"
   },
   {
    "duration": 5800,
    "start_time": "2022-02-26T18:59:25.291Z"
   },
   {
    "duration": 5795,
    "start_time": "2022-02-26T18:59:25.298Z"
   },
   {
    "duration": 5790,
    "start_time": "2022-02-26T18:59:25.305Z"
   },
   {
    "duration": 5776,
    "start_time": "2022-02-26T18:59:25.321Z"
   },
   {
    "duration": 699,
    "start_time": "2022-02-26T19:00:27.985Z"
   },
   {
    "duration": 36,
    "start_time": "2022-02-26T19:33:03.801Z"
   },
   {
    "duration": 4627,
    "start_time": "2022-02-26T19:36:35.791Z"
   },
   {
    "duration": 4622,
    "start_time": "2022-02-26T19:36:35.797Z"
   },
   {
    "duration": 4617,
    "start_time": "2022-02-26T19:36:35.804Z"
   },
   {
    "duration": 4611,
    "start_time": "2022-02-26T19:36:35.811Z"
   },
   {
    "duration": 4581,
    "start_time": "2022-02-26T19:36:35.842Z"
   },
   {
    "duration": 4550,
    "start_time": "2022-02-26T19:36:35.875Z"
   },
   {
    "duration": 4518,
    "start_time": "2022-02-26T19:36:35.908Z"
   },
   {
    "duration": 4499,
    "start_time": "2022-02-26T19:36:35.929Z"
   },
   {
    "duration": 4470,
    "start_time": "2022-02-26T19:36:35.959Z"
   },
   {
    "duration": 4465,
    "start_time": "2022-02-26T19:36:35.965Z"
   },
   {
    "duration": 4459,
    "start_time": "2022-02-26T19:36:35.973Z"
   },
   {
    "duration": 4445,
    "start_time": "2022-02-26T19:36:35.988Z"
   },
   {
    "duration": 4434,
    "start_time": "2022-02-26T19:36:36.001Z"
   },
   {
    "duration": 4422,
    "start_time": "2022-02-26T19:36:36.014Z"
   },
   {
    "duration": 4418,
    "start_time": "2022-02-26T19:36:36.020Z"
   },
   {
    "duration": 4413,
    "start_time": "2022-02-26T19:36:36.026Z"
   },
   {
    "duration": 4409,
    "start_time": "2022-02-26T19:36:36.032Z"
   },
   {
    "duration": 4404,
    "start_time": "2022-02-26T19:36:36.038Z"
   },
   {
    "duration": 4400,
    "start_time": "2022-02-26T19:36:36.043Z"
   },
   {
    "duration": 4434,
    "start_time": "2022-02-26T19:36:36.050Z"
   },
   {
    "duration": 4431,
    "start_time": "2022-02-26T19:36:36.055Z"
   },
   {
    "duration": 4426,
    "start_time": "2022-02-26T19:36:36.061Z"
   },
   {
    "duration": 4422,
    "start_time": "2022-02-26T19:36:36.067Z"
   },
   {
    "duration": 4416,
    "start_time": "2022-02-26T19:36:36.074Z"
   },
   {
    "duration": 3667,
    "start_time": "2022-02-26T19:36:36.824Z"
   },
   {
    "duration": 3656,
    "start_time": "2022-02-26T19:36:36.837Z"
   },
   {
    "duration": 3645,
    "start_time": "2022-02-26T19:36:36.849Z"
   },
   {
    "duration": 3639,
    "start_time": "2022-02-26T19:36:36.856Z"
   },
   {
    "duration": 3636,
    "start_time": "2022-02-26T19:36:36.861Z"
   },
   {
    "duration": 3631,
    "start_time": "2022-02-26T19:36:36.867Z"
   },
   {
    "duration": 3625,
    "start_time": "2022-02-26T19:36:36.874Z"
   },
   {
    "duration": 3620,
    "start_time": "2022-02-26T19:36:36.881Z"
   },
   {
    "duration": 3616,
    "start_time": "2022-02-26T19:36:36.886Z"
   },
   {
    "duration": 3610,
    "start_time": "2022-02-26T19:36:36.893Z"
   },
   {
    "duration": 3605,
    "start_time": "2022-02-26T19:36:36.899Z"
   },
   {
    "duration": 3601,
    "start_time": "2022-02-26T19:36:36.905Z"
   },
   {
    "duration": 3596,
    "start_time": "2022-02-26T19:36:36.911Z"
   },
   {
    "duration": 3592,
    "start_time": "2022-02-26T19:36:36.917Z"
   },
   {
    "duration": 3588,
    "start_time": "2022-02-26T19:36:36.923Z"
   },
   {
    "duration": 3583,
    "start_time": "2022-02-26T19:36:36.929Z"
   },
   {
    "duration": 3580,
    "start_time": "2022-02-26T19:36:36.934Z"
   },
   {
    "duration": 3575,
    "start_time": "2022-02-26T19:36:36.940Z"
   },
   {
    "duration": 3571,
    "start_time": "2022-02-26T19:36:36.946Z"
   },
   {
    "duration": 3557,
    "start_time": "2022-02-26T19:36:36.961Z"
   },
   {
    "duration": 3554,
    "start_time": "2022-02-26T19:36:36.966Z"
   },
   {
    "duration": 3609,
    "start_time": "2022-02-26T19:36:36.973Z"
   },
   {
    "duration": 3606,
    "start_time": "2022-02-26T19:36:36.978Z"
   },
   {
    "duration": 3602,
    "start_time": "2022-02-26T19:36:36.984Z"
   },
   {
    "duration": 3597,
    "start_time": "2022-02-26T19:36:36.990Z"
   },
   {
    "duration": 3593,
    "start_time": "2022-02-26T19:36:36.996Z"
   },
   {
    "duration": 3589,
    "start_time": "2022-02-26T19:36:37.001Z"
   },
   {
    "duration": 3582,
    "start_time": "2022-02-26T19:36:37.009Z"
   },
   {
    "duration": 3579,
    "start_time": "2022-02-26T19:36:37.014Z"
   },
   {
    "duration": 3530,
    "start_time": "2022-02-26T19:36:37.064Z"
   },
   {
    "duration": 3513,
    "start_time": "2022-02-26T19:36:37.083Z"
   },
   {
    "duration": 3508,
    "start_time": "2022-02-26T19:36:37.089Z"
   },
   {
    "duration": 1846,
    "start_time": "2022-02-26T19:37:10.164Z"
   },
   {
    "duration": 1638,
    "start_time": "2022-02-26T19:38:08.244Z"
   },
   {
    "duration": 244,
    "start_time": "2022-02-26T19:42:24.364Z"
   },
   {
    "duration": 36,
    "start_time": "2022-02-26T19:42:46.747Z"
   },
   {
    "duration": 303,
    "start_time": "2022-02-27T13:25:17.602Z"
   },
   {
    "duration": 1163,
    "start_time": "2022-02-27T13:25:30.720Z"
   },
   {
    "duration": 11,
    "start_time": "2022-02-27T13:25:31.885Z"
   },
   {
    "duration": 60,
    "start_time": "2022-02-27T13:25:31.898Z"
   },
   {
    "duration": 5,
    "start_time": "2022-02-27T13:25:31.960Z"
   },
   {
    "duration": 7,
    "start_time": "2022-02-27T13:25:31.966Z"
   },
   {
    "duration": 28,
    "start_time": "2022-02-27T13:25:31.974Z"
   },
   {
    "duration": 3,
    "start_time": "2022-02-27T13:25:32.003Z"
   },
   {
    "duration": 16,
    "start_time": "2022-02-27T13:25:32.008Z"
   },
   {
    "duration": 4,
    "start_time": "2022-02-27T13:25:32.026Z"
   },
   {
    "duration": 397,
    "start_time": "2022-02-27T13:25:32.031Z"
   },
   {
    "duration": 3,
    "start_time": "2022-02-27T13:25:32.429Z"
   },
   {
    "duration": 411,
    "start_time": "2022-02-27T13:25:32.434Z"
   },
   {
    "duration": 6,
    "start_time": "2022-02-27T13:25:32.847Z"
   },
   {
    "duration": 3,
    "start_time": "2022-02-27T13:25:32.855Z"
   },
   {
    "duration": 318,
    "start_time": "2022-02-27T13:25:32.859Z"
   },
   {
    "duration": 3,
    "start_time": "2022-02-27T13:25:33.179Z"
   },
   {
    "duration": 462,
    "start_time": "2022-02-27T13:25:33.183Z"
   },
   {
    "duration": 4,
    "start_time": "2022-02-27T13:25:33.647Z"
   },
   {
    "duration": 4,
    "start_time": "2022-02-27T13:25:33.653Z"
   },
   {
    "duration": 6,
    "start_time": "2022-02-27T13:25:33.659Z"
   },
   {
    "duration": 2,
    "start_time": "2022-02-27T13:25:33.667Z"
   },
   {
    "duration": 51,
    "start_time": "2022-02-27T13:25:33.670Z"
   },
   {
    "duration": 6,
    "start_time": "2022-02-27T13:25:33.724Z"
   },
   {
    "duration": 14,
    "start_time": "2022-02-27T13:25:33.732Z"
   },
   {
    "duration": 473,
    "start_time": "2022-02-27T13:25:33.747Z"
   },
   {
    "duration": 3,
    "start_time": "2022-02-27T13:25:34.222Z"
   },
   {
    "duration": 12,
    "start_time": "2022-02-27T13:25:34.226Z"
   },
   {
    "duration": 271,
    "start_time": "2022-02-27T13:25:34.239Z"
   },
   {
    "duration": 129,
    "start_time": "2022-02-27T13:25:34.512Z"
   },
   {
    "duration": 9,
    "start_time": "2022-02-27T13:25:34.643Z"
   },
   {
    "duration": 7,
    "start_time": "2022-02-27T13:25:34.654Z"
   },
   {
    "duration": 251,
    "start_time": "2022-02-27T13:25:34.663Z"
   },
   {
    "duration": 123,
    "start_time": "2022-02-27T13:25:34.916Z"
   },
   {
    "duration": 9,
    "start_time": "2022-02-27T13:25:35.041Z"
   },
   {
    "duration": 7,
    "start_time": "2022-02-27T13:25:35.052Z"
   },
   {
    "duration": 235,
    "start_time": "2022-02-27T13:25:35.060Z"
   },
   {
    "duration": 112,
    "start_time": "2022-02-27T13:25:35.296Z"
   },
   {
    "duration": 8,
    "start_time": "2022-02-27T13:25:35.409Z"
   },
   {
    "duration": 27,
    "start_time": "2022-02-27T13:25:35.418Z"
   },
   {
    "duration": 26,
    "start_time": "2022-02-27T13:25:35.446Z"
   },
   {
    "duration": 58,
    "start_time": "2022-02-27T13:25:35.473Z"
   },
   {
    "duration": 15,
    "start_time": "2022-02-27T13:25:35.533Z"
   },
   {
    "duration": 7,
    "start_time": "2022-02-27T13:25:35.549Z"
   },
   {
    "duration": 245,
    "start_time": "2022-02-27T13:25:35.558Z"
   },
   {
    "duration": 126,
    "start_time": "2022-02-27T13:25:35.804Z"
   },
   {
    "duration": 2207,
    "start_time": "2022-02-27T13:25:35.931Z"
   },
   {
    "duration": 7046,
    "start_time": "2022-02-27T13:25:31.093Z"
   },
   {
    "duration": 7039,
    "start_time": "2022-02-27T13:25:31.101Z"
   },
   {
    "duration": 7034,
    "start_time": "2022-02-27T13:25:31.107Z"
   },
   {
    "duration": 7027,
    "start_time": "2022-02-27T13:25:31.115Z"
   },
   {
    "duration": 7019,
    "start_time": "2022-02-27T13:25:31.123Z"
   },
   {
    "duration": 7012,
    "start_time": "2022-02-27T13:25:31.131Z"
   },
   {
    "duration": 7004,
    "start_time": "2022-02-27T13:25:31.140Z"
   },
   {
    "duration": 6998,
    "start_time": "2022-02-27T13:25:31.147Z"
   },
   {
    "duration": 6994,
    "start_time": "2022-02-27T13:25:31.152Z"
   },
   {
    "duration": 6988,
    "start_time": "2022-02-27T13:25:31.159Z"
   },
   {
    "duration": 2050,
    "start_time": "2022-02-27T13:26:56.811Z"
   },
   {
    "duration": 319,
    "start_time": "2022-02-27T13:28:22.300Z"
   },
   {
    "duration": 91,
    "start_time": "2022-02-27T13:28:36.860Z"
   },
   {
    "duration": 292,
    "start_time": "2022-02-27T13:29:00.459Z"
   },
   {
    "duration": 260,
    "start_time": "2022-02-27T13:30:16.767Z"
   },
   {
    "duration": 78,
    "start_time": "2022-02-27T13:32:01.640Z"
   },
   {
    "duration": 292,
    "start_time": "2022-02-27T13:32:28.861Z"
   },
   {
    "duration": 319,
    "start_time": "2022-02-27T13:32:41.091Z"
   },
   {
    "duration": 9,
    "start_time": "2022-02-27T13:39:19.421Z"
   },
   {
    "duration": 9,
    "start_time": "2022-02-27T13:40:01.791Z"
   },
   {
    "duration": 8,
    "start_time": "2022-02-27T13:40:34.740Z"
   },
   {
    "duration": 1125,
    "start_time": "2022-02-27T13:41:01.859Z"
   },
   {
    "duration": 10,
    "start_time": "2022-02-27T13:41:02.985Z"
   },
   {
    "duration": 73,
    "start_time": "2022-02-27T13:41:03.001Z"
   },
   {
    "duration": 6,
    "start_time": "2022-02-27T13:41:03.075Z"
   },
   {
    "duration": 19,
    "start_time": "2022-02-27T13:41:03.083Z"
   },
   {
    "duration": 38,
    "start_time": "2022-02-27T13:41:03.103Z"
   },
   {
    "duration": 3,
    "start_time": "2022-02-27T13:41:03.143Z"
   },
   {
    "duration": 24,
    "start_time": "2022-02-27T13:41:03.148Z"
   },
   {
    "duration": 15,
    "start_time": "2022-02-27T13:41:03.174Z"
   },
   {
    "duration": 387,
    "start_time": "2022-02-27T13:41:03.190Z"
   },
   {
    "duration": 3,
    "start_time": "2022-02-27T13:41:03.578Z"
   },
   {
    "duration": 420,
    "start_time": "2022-02-27T13:41:03.583Z"
   },
   {
    "duration": 5,
    "start_time": "2022-02-27T13:41:04.005Z"
   },
   {
    "duration": 21,
    "start_time": "2022-02-27T13:41:04.011Z"
   },
   {
    "duration": 311,
    "start_time": "2022-02-27T13:41:04.034Z"
   },
   {
    "duration": 3,
    "start_time": "2022-02-27T13:41:04.347Z"
   },
   {
    "duration": 468,
    "start_time": "2022-02-27T13:41:04.352Z"
   },
   {
    "duration": 5,
    "start_time": "2022-02-27T13:41:04.822Z"
   },
   {
    "duration": 20,
    "start_time": "2022-02-27T13:41:04.828Z"
   },
   {
    "duration": 12,
    "start_time": "2022-02-27T13:41:04.850Z"
   },
   {
    "duration": 19,
    "start_time": "2022-02-27T13:41:04.864Z"
   },
   {
    "duration": 34,
    "start_time": "2022-02-27T13:41:04.884Z"
   },
   {
    "duration": 6,
    "start_time": "2022-02-27T13:41:04.922Z"
   },
   {
    "duration": 23,
    "start_time": "2022-02-27T13:41:04.930Z"
   },
   {
    "duration": 432,
    "start_time": "2022-02-27T13:41:04.955Z"
   },
   {
    "duration": 11,
    "start_time": "2022-02-27T13:41:05.389Z"
   },
   {
    "duration": 8,
    "start_time": "2022-02-27T13:41:05.402Z"
   },
   {
    "duration": 295,
    "start_time": "2022-02-27T13:41:05.412Z"
   },
   {
    "duration": 138,
    "start_time": "2022-02-27T13:41:05.709Z"
   },
   {
    "duration": 8,
    "start_time": "2022-02-27T13:41:05.849Z"
   },
   {
    "duration": 24,
    "start_time": "2022-02-27T13:41:05.859Z"
   },
   {
    "duration": 253,
    "start_time": "2022-02-27T13:41:05.884Z"
   },
   {
    "duration": 118,
    "start_time": "2022-02-27T13:41:06.139Z"
   },
   {
    "duration": 9,
    "start_time": "2022-02-27T13:41:06.259Z"
   },
   {
    "duration": 28,
    "start_time": "2022-02-27T13:41:06.269Z"
   },
   {
    "duration": 230,
    "start_time": "2022-02-27T13:41:06.298Z"
   },
   {
    "duration": 114,
    "start_time": "2022-02-27T13:41:06.530Z"
   },
   {
    "duration": 9,
    "start_time": "2022-02-27T13:41:06.646Z"
   },
   {
    "duration": 29,
    "start_time": "2022-02-27T13:41:06.656Z"
   },
   {
    "duration": 37,
    "start_time": "2022-02-27T13:41:06.687Z"
   },
   {
    "duration": 33,
    "start_time": "2022-02-27T13:41:06.726Z"
   },
   {
    "duration": 14,
    "start_time": "2022-02-27T13:41:06.760Z"
   },
   {
    "duration": 34,
    "start_time": "2022-02-27T13:41:06.776Z"
   },
   {
    "duration": 210,
    "start_time": "2022-02-27T13:41:06.811Z"
   },
   {
    "duration": 120,
    "start_time": "2022-02-27T13:41:07.022Z"
   },
   {
    "duration": 355,
    "start_time": "2022-02-27T13:41:07.144Z"
   },
   {
    "duration": 6997,
    "start_time": "2022-02-27T13:41:00.504Z"
   },
   {
    "duration": 6992,
    "start_time": "2022-02-27T13:41:00.510Z"
   },
   {
    "duration": 6987,
    "start_time": "2022-02-27T13:41:00.516Z"
   },
   {
    "duration": 6981,
    "start_time": "2022-02-27T13:41:00.523Z"
   },
   {
    "duration": 6977,
    "start_time": "2022-02-27T13:41:00.528Z"
   },
   {
    "duration": 6972,
    "start_time": "2022-02-27T13:41:00.534Z"
   },
   {
    "duration": 6967,
    "start_time": "2022-02-27T13:41:00.540Z"
   },
   {
    "duration": 6962,
    "start_time": "2022-02-27T13:41:00.546Z"
   },
   {
    "duration": 6957,
    "start_time": "2022-02-27T13:41:00.552Z"
   },
   {
    "duration": 6943,
    "start_time": "2022-02-27T13:41:00.567Z"
   },
   {
    "duration": 6937,
    "start_time": "2022-02-27T13:41:00.574Z"
   },
   {
    "duration": 6931,
    "start_time": "2022-02-27T13:41:00.580Z"
   },
   {
    "duration": 8,
    "start_time": "2022-02-27T13:41:14.211Z"
   },
   {
    "duration": 8,
    "start_time": "2022-02-27T13:41:35.239Z"
   },
   {
    "duration": 6,
    "start_time": "2022-02-27T13:41:57.119Z"
   },
   {
    "duration": 5,
    "start_time": "2022-02-27T13:42:08.859Z"
   },
   {
    "duration": 5,
    "start_time": "2022-02-27T13:42:14.479Z"
   },
   {
    "duration": 4,
    "start_time": "2022-02-27T13:44:43.611Z"
   },
   {
    "duration": 6,
    "start_time": "2022-02-27T13:45:31.718Z"
   },
   {
    "duration": 4,
    "start_time": "2022-02-27T13:46:13.297Z"
   },
   {
    "duration": 11,
    "start_time": "2022-02-27T13:49:41.421Z"
   },
   {
    "duration": 82,
    "start_time": "2022-02-27T13:50:36.057Z"
   },
   {
    "duration": 162,
    "start_time": "2022-02-27T13:54:36.096Z"
   },
   {
    "duration": 499,
    "start_time": "2022-02-27T13:55:57.577Z"
   },
   {
    "duration": 285,
    "start_time": "2022-02-27T13:56:21.569Z"
   },
   {
    "duration": 285,
    "start_time": "2022-02-27T13:58:58.216Z"
   },
   {
    "duration": 284,
    "start_time": "2022-02-27T13:59:06.535Z"
   },
   {
    "duration": 7,
    "start_time": "2022-02-27T14:11:39.009Z"
   },
   {
    "duration": 375,
    "start_time": "2022-02-27T14:15:59.114Z"
   },
   {
    "duration": 1166,
    "start_time": "2022-02-27T14:16:11.298Z"
   },
   {
    "duration": 9,
    "start_time": "2022-02-27T14:16:12.466Z"
   },
   {
    "duration": 64,
    "start_time": "2022-02-27T14:16:12.477Z"
   },
   {
    "duration": 6,
    "start_time": "2022-02-27T14:16:12.542Z"
   },
   {
    "duration": 8,
    "start_time": "2022-02-27T14:16:12.550Z"
   },
   {
    "duration": 9,
    "start_time": "2022-02-27T14:16:12.559Z"
   },
   {
    "duration": 3,
    "start_time": "2022-02-27T14:16:12.570Z"
   },
   {
    "duration": 40,
    "start_time": "2022-02-27T14:16:12.575Z"
   },
   {
    "duration": 5,
    "start_time": "2022-02-27T14:16:12.616Z"
   },
   {
    "duration": 389,
    "start_time": "2022-02-27T14:16:12.623Z"
   },
   {
    "duration": 2,
    "start_time": "2022-02-27T14:16:13.014Z"
   },
   {
    "duration": 403,
    "start_time": "2022-02-27T14:16:13.018Z"
   },
   {
    "duration": 6,
    "start_time": "2022-02-27T14:16:13.422Z"
   },
   {
    "duration": 3,
    "start_time": "2022-02-27T14:16:13.429Z"
   },
   {
    "duration": 322,
    "start_time": "2022-02-27T14:16:13.433Z"
   },
   {
    "duration": 3,
    "start_time": "2022-02-27T14:16:13.756Z"
   },
   {
    "duration": 463,
    "start_time": "2022-02-27T14:16:13.761Z"
   },
   {
    "duration": 4,
    "start_time": "2022-02-27T14:16:14.226Z"
   },
   {
    "duration": 5,
    "start_time": "2022-02-27T14:16:14.232Z"
   },
   {
    "duration": 7,
    "start_time": "2022-02-27T14:16:14.239Z"
   },
   {
    "duration": 3,
    "start_time": "2022-02-27T14:16:14.248Z"
   },
   {
    "duration": 57,
    "start_time": "2022-02-27T14:16:14.252Z"
   },
   {
    "duration": 7,
    "start_time": "2022-02-27T14:16:14.312Z"
   },
   {
    "duration": 16,
    "start_time": "2022-02-27T14:16:14.321Z"
   },
   {
    "duration": 487,
    "start_time": "2022-02-27T14:16:14.338Z"
   },
   {
    "duration": 3,
    "start_time": "2022-02-27T14:16:14.827Z"
   },
   {
    "duration": 9,
    "start_time": "2022-02-27T14:16:14.831Z"
   },
   {
    "duration": 282,
    "start_time": "2022-02-27T14:16:14.842Z"
   },
   {
    "duration": 129,
    "start_time": "2022-02-27T14:16:15.126Z"
   },
   {
    "duration": 8,
    "start_time": "2022-02-27T14:16:15.257Z"
   },
   {
    "duration": 10,
    "start_time": "2022-02-27T14:16:15.266Z"
   },
   {
    "duration": 248,
    "start_time": "2022-02-27T14:16:15.277Z"
   },
   {
    "duration": 115,
    "start_time": "2022-02-27T14:16:15.527Z"
   },
   {
    "duration": 9,
    "start_time": "2022-02-27T14:16:15.644Z"
   },
   {
    "duration": 7,
    "start_time": "2022-02-27T14:16:15.655Z"
   },
   {
    "duration": 233,
    "start_time": "2022-02-27T14:16:15.664Z"
   },
   {
    "duration": 109,
    "start_time": "2022-02-27T14:16:15.901Z"
   },
   {
    "duration": 9,
    "start_time": "2022-02-27T14:16:16.011Z"
   },
   {
    "duration": 27,
    "start_time": "2022-02-27T14:16:16.021Z"
   },
   {
    "duration": 26,
    "start_time": "2022-02-27T14:16:16.050Z"
   },
   {
    "duration": 42,
    "start_time": "2022-02-27T14:16:16.078Z"
   },
   {
    "duration": 14,
    "start_time": "2022-02-27T14:16:16.121Z"
   },
   {
    "duration": 6,
    "start_time": "2022-02-27T14:16:16.136Z"
   },
   {
    "duration": 218,
    "start_time": "2022-02-27T14:16:16.143Z"
   },
   {
    "duration": 280,
    "start_time": "2022-02-27T14:16:16.362Z"
   },
   {
    "duration": 467,
    "start_time": "2022-02-27T14:16:16.644Z"
   },
   {
    "duration": 6863,
    "start_time": "2022-02-27T14:16:10.250Z"
   },
   {
    "duration": 6858,
    "start_time": "2022-02-27T14:16:10.256Z"
   },
   {
    "duration": 6852,
    "start_time": "2022-02-27T14:16:10.263Z"
   },
   {
    "duration": 6848,
    "start_time": "2022-02-27T14:16:10.268Z"
   },
   {
    "duration": 6817,
    "start_time": "2022-02-27T14:16:10.300Z"
   },
   {
    "duration": 6813,
    "start_time": "2022-02-27T14:16:10.305Z"
   },
   {
    "duration": 6806,
    "start_time": "2022-02-27T14:16:10.313Z"
   },
   {
    "duration": 6802,
    "start_time": "2022-02-27T14:16:10.318Z"
   },
   {
    "duration": 6796,
    "start_time": "2022-02-27T14:16:10.325Z"
   },
   {
    "duration": 6791,
    "start_time": "2022-02-27T14:16:10.331Z"
   },
   {
    "duration": 6786,
    "start_time": "2022-02-27T14:16:10.337Z"
   },
   {
    "duration": 6782,
    "start_time": "2022-02-27T14:16:10.342Z"
   },
   {
    "duration": 6776,
    "start_time": "2022-02-27T14:16:10.349Z"
   },
   {
    "duration": 270,
    "start_time": "2022-02-27T14:16:28.710Z"
   },
   {
    "duration": 283,
    "start_time": "2022-02-27T14:16:39.558Z"
   },
   {
    "duration": 1195,
    "start_time": "2022-02-27T14:16:55.879Z"
   },
   {
    "duration": 8,
    "start_time": "2022-02-27T14:16:57.076Z"
   },
   {
    "duration": 62,
    "start_time": "2022-02-27T14:16:57.086Z"
   },
   {
    "duration": 5,
    "start_time": "2022-02-27T14:16:57.150Z"
   },
   {
    "duration": 7,
    "start_time": "2022-02-27T14:16:57.156Z"
   },
   {
    "duration": 8,
    "start_time": "2022-02-27T14:16:57.165Z"
   },
   {
    "duration": 28,
    "start_time": "2022-02-27T14:16:57.174Z"
   },
   {
    "duration": 17,
    "start_time": "2022-02-27T14:16:57.204Z"
   },
   {
    "duration": 4,
    "start_time": "2022-02-27T14:16:57.223Z"
   },
   {
    "duration": 388,
    "start_time": "2022-02-27T14:16:57.229Z"
   },
   {
    "duration": 3,
    "start_time": "2022-02-27T14:16:57.618Z"
   },
   {
    "duration": 404,
    "start_time": "2022-02-27T14:16:57.622Z"
   },
   {
    "duration": 6,
    "start_time": "2022-02-27T14:16:58.028Z"
   },
   {
    "duration": 4,
    "start_time": "2022-02-27T14:16:58.035Z"
   },
   {
    "duration": 350,
    "start_time": "2022-02-27T14:16:58.040Z"
   },
   {
    "duration": 10,
    "start_time": "2022-02-27T14:16:58.393Z"
   },
   {
    "duration": 451,
    "start_time": "2022-02-27T14:16:58.404Z"
   },
   {
    "duration": 4,
    "start_time": "2022-02-27T14:16:58.857Z"
   },
   {
    "duration": 66,
    "start_time": "2022-02-27T14:16:58.863Z"
   },
   {
    "duration": 20,
    "start_time": "2022-02-27T14:16:58.930Z"
   },
   {
    "duration": 24,
    "start_time": "2022-02-27T14:16:58.953Z"
   },
   {
    "duration": 38,
    "start_time": "2022-02-27T14:16:58.979Z"
   },
   {
    "duration": 7,
    "start_time": "2022-02-27T14:16:59.019Z"
   },
   {
    "duration": 17,
    "start_time": "2022-02-27T14:16:59.027Z"
   },
   {
    "duration": 521,
    "start_time": "2022-02-27T14:16:59.046Z"
   },
   {
    "duration": 4,
    "start_time": "2022-02-27T14:16:59.569Z"
   },
   {
    "duration": 23,
    "start_time": "2022-02-27T14:16:59.579Z"
   },
   {
    "duration": 267,
    "start_time": "2022-02-27T14:16:59.605Z"
   },
   {
    "duration": 129,
    "start_time": "2022-02-27T14:16:59.874Z"
   },
   {
    "duration": 9,
    "start_time": "2022-02-27T14:17:00.004Z"
   },
   {
    "duration": 11,
    "start_time": "2022-02-27T14:17:00.014Z"
   },
   {
    "duration": 258,
    "start_time": "2022-02-27T14:17:00.027Z"
   },
   {
    "duration": 144,
    "start_time": "2022-02-27T14:17:00.287Z"
   },
   {
    "duration": 12,
    "start_time": "2022-02-27T14:17:00.438Z"
   },
   {
    "duration": 25,
    "start_time": "2022-02-27T14:17:00.452Z"
   },
   {
    "duration": 278,
    "start_time": "2022-02-27T14:17:00.479Z"
   },
   {
    "duration": 142,
    "start_time": "2022-02-27T14:17:00.759Z"
   },
   {
    "duration": 13,
    "start_time": "2022-02-27T14:17:00.903Z"
   },
   {
    "duration": 39,
    "start_time": "2022-02-27T14:17:00.919Z"
   },
   {
    "duration": 52,
    "start_time": "2022-02-27T14:17:00.960Z"
   },
   {
    "duration": 42,
    "start_time": "2022-02-27T14:17:01.013Z"
   },
   {
    "duration": 21,
    "start_time": "2022-02-27T14:17:01.058Z"
   },
   {
    "duration": 25,
    "start_time": "2022-02-27T14:17:01.081Z"
   },
   {
    "duration": 255,
    "start_time": "2022-02-27T14:17:01.108Z"
   },
   {
    "duration": 147,
    "start_time": "2022-02-27T14:17:01.365Z"
   },
   {
    "duration": 429,
    "start_time": "2022-02-27T14:17:01.514Z"
   },
   {
    "duration": 6947,
    "start_time": "2022-02-27T14:16:54.998Z"
   },
   {
    "duration": 6943,
    "start_time": "2022-02-27T14:16:55.003Z"
   },
   {
    "duration": 6937,
    "start_time": "2022-02-27T14:16:55.010Z"
   },
   {
    "duration": 6932,
    "start_time": "2022-02-27T14:16:55.016Z"
   },
   {
    "duration": 6928,
    "start_time": "2022-02-27T14:16:55.022Z"
   },
   {
    "duration": 6923,
    "start_time": "2022-02-27T14:16:55.028Z"
   },
   {
    "duration": 6918,
    "start_time": "2022-02-27T14:16:55.034Z"
   },
   {
    "duration": 6913,
    "start_time": "2022-02-27T14:16:55.040Z"
   },
   {
    "duration": 6908,
    "start_time": "2022-02-27T14:16:55.046Z"
   },
   {
    "duration": 6904,
    "start_time": "2022-02-27T14:16:55.051Z"
   },
   {
    "duration": 6898,
    "start_time": "2022-02-27T14:16:55.058Z"
   },
   {
    "duration": 6894,
    "start_time": "2022-02-27T14:16:55.063Z"
   },
   {
    "duration": 6890,
    "start_time": "2022-02-27T14:16:55.069Z"
   },
   {
    "duration": 342,
    "start_time": "2022-02-27T14:17:58.190Z"
   },
   {
    "duration": 289,
    "start_time": "2022-02-27T14:18:01.298Z"
   },
   {
    "duration": 376,
    "start_time": "2022-02-27T14:18:05.170Z"
   },
   {
    "duration": 6,
    "start_time": "2022-02-27T14:18:08.699Z"
   },
   {
    "duration": 281,
    "start_time": "2022-02-27T14:18:12.690Z"
   },
   {
    "duration": 707,
    "start_time": "2022-02-27T14:18:25.071Z"
   },
   {
    "duration": 276,
    "start_time": "2022-02-27T14:18:32.158Z"
   },
   {
    "duration": 6,
    "start_time": "2022-02-27T14:18:47.270Z"
   },
   {
    "duration": 213,
    "start_time": "2022-02-27T14:18:49.278Z"
   },
   {
    "duration": 215,
    "start_time": "2022-02-27T14:19:23.319Z"
   },
   {
    "duration": 210,
    "start_time": "2022-02-27T14:19:30.630Z"
   },
   {
    "duration": 216,
    "start_time": "2022-02-27T14:19:56.864Z"
   },
   {
    "duration": 211,
    "start_time": "2022-02-27T14:20:04.484Z"
   },
   {
    "duration": 6,
    "start_time": "2022-02-27T14:20:43.531Z"
   },
   {
    "duration": 229,
    "start_time": "2022-02-27T14:21:25.003Z"
   },
   {
    "duration": 197,
    "start_time": "2022-02-27T14:21:32.018Z"
   },
   {
    "duration": 209,
    "start_time": "2022-02-27T14:21:36.322Z"
   },
   {
    "duration": 294,
    "start_time": "2022-02-27T14:21:57.003Z"
   },
   {
    "duration": 199,
    "start_time": "2022-02-27T14:22:24.262Z"
   },
   {
    "duration": 316,
    "start_time": "2022-02-27T14:22:29.002Z"
   },
   {
    "duration": 212,
    "start_time": "2022-02-27T14:22:56.004Z"
   },
   {
    "duration": 220,
    "start_time": "2022-02-27T14:23:03.794Z"
   },
   {
    "duration": 203,
    "start_time": "2022-02-27T14:23:14.155Z"
   },
   {
    "duration": 220,
    "start_time": "2022-02-27T14:28:56.421Z"
   },
   {
    "duration": 5,
    "start_time": "2022-02-27T14:42:36.065Z"
   },
   {
    "duration": 5,
    "start_time": "2022-02-27T14:43:06.745Z"
   },
   {
    "duration": 4,
    "start_time": "2022-02-27T14:43:46.117Z"
   },
   {
    "duration": 298,
    "start_time": "2022-02-27T14:44:10.197Z"
   },
   {
    "duration": 396,
    "start_time": "2022-02-27T14:49:44.999Z"
   },
   {
    "duration": 447,
    "start_time": "2022-02-27T14:49:48.479Z"
   },
   {
    "duration": 324,
    "start_time": "2022-02-27T14:49:52.298Z"
   },
   {
    "duration": 74,
    "start_time": "2022-02-27T14:52:20.739Z"
   },
   {
    "duration": 474,
    "start_time": "2022-02-27T14:53:32.017Z"
   },
   {
    "duration": 111,
    "start_time": "2022-02-27T15:18:06.573Z"
   },
   {
    "duration": 24,
    "start_time": "2022-02-27T15:43:34.737Z"
   },
   {
    "duration": 458,
    "start_time": "2022-02-27T16:01:29.502Z"
   },
   {
    "duration": 570,
    "start_time": "2022-02-27T16:01:33.622Z"
   },
   {
    "duration": 455,
    "start_time": "2022-02-27T16:01:50.742Z"
   },
   {
    "duration": 287,
    "start_time": "2022-02-27T16:10:02.373Z"
   },
   {
    "duration": 12,
    "start_time": "2022-02-27T16:11:06.169Z"
   },
   {
    "duration": 290,
    "start_time": "2022-02-27T16:11:14.593Z"
   },
   {
    "duration": 291,
    "start_time": "2022-02-27T16:11:23.412Z"
   },
   {
    "duration": 9,
    "start_time": "2022-02-27T16:11:34.693Z"
   },
   {
    "duration": 335,
    "start_time": "2022-02-27T16:12:05.345Z"
   },
   {
    "duration": 8,
    "start_time": "2022-02-27T16:12:27.928Z"
   },
   {
    "duration": 1558,
    "start_time": "2022-03-07T15:37:06.750Z"
   },
   {
    "duration": 23,
    "start_time": "2022-03-07T15:37:08.310Z"
   },
   {
    "duration": 60,
    "start_time": "2022-03-07T15:37:08.335Z"
   },
   {
    "duration": 4,
    "start_time": "2022-03-07T15:37:08.397Z"
   },
   {
    "duration": 10,
    "start_time": "2022-03-07T15:37:08.403Z"
   },
   {
    "duration": 9,
    "start_time": "2022-03-07T15:37:08.433Z"
   },
   {
    "duration": 3,
    "start_time": "2022-03-07T15:37:08.444Z"
   },
   {
    "duration": 17,
    "start_time": "2022-03-07T15:37:08.448Z"
   },
   {
    "duration": 5,
    "start_time": "2022-03-07T15:37:08.467Z"
   },
   {
    "duration": 285,
    "start_time": "2022-03-07T15:37:08.474Z"
   },
   {
    "duration": 4,
    "start_time": "2022-03-07T15:37:08.760Z"
   },
   {
    "duration": 308,
    "start_time": "2022-03-07T15:37:08.766Z"
   },
   {
    "duration": 5,
    "start_time": "2022-03-07T15:37:09.076Z"
   },
   {
    "duration": 7,
    "start_time": "2022-03-07T15:37:09.083Z"
   },
   {
    "duration": 680,
    "start_time": "2022-03-07T15:37:09.091Z"
   },
   {
    "duration": 4,
    "start_time": "2022-03-07T15:37:09.773Z"
   },
   {
    "duration": 503,
    "start_time": "2022-03-07T15:37:09.778Z"
   },
   {
    "duration": 6,
    "start_time": "2022-03-07T15:37:10.283Z"
   },
   {
    "duration": 6,
    "start_time": "2022-03-07T15:37:10.291Z"
   },
   {
    "duration": 34,
    "start_time": "2022-03-07T15:37:10.299Z"
   },
   {
    "duration": 3,
    "start_time": "2022-03-07T15:37:10.335Z"
   },
   {
    "duration": 31,
    "start_time": "2022-03-07T15:37:10.340Z"
   },
   {
    "duration": 7,
    "start_time": "2022-03-07T15:37:10.373Z"
   },
   {
    "duration": 15,
    "start_time": "2022-03-07T15:37:10.382Z"
   },
   {
    "duration": 418,
    "start_time": "2022-03-07T15:37:10.399Z"
   },
   {
    "duration": 3,
    "start_time": "2022-03-07T15:37:10.819Z"
   },
   {
    "duration": 13,
    "start_time": "2022-03-07T15:37:10.825Z"
   },
   {
    "duration": 252,
    "start_time": "2022-03-07T15:37:10.840Z"
   },
   {
    "duration": 151,
    "start_time": "2022-03-07T15:37:11.094Z"
   },
   {
    "duration": 10,
    "start_time": "2022-03-07T15:37:11.247Z"
   },
   {
    "duration": 9,
    "start_time": "2022-03-07T15:37:11.259Z"
   },
   {
    "duration": 269,
    "start_time": "2022-03-07T15:37:11.269Z"
   },
   {
    "duration": 165,
    "start_time": "2022-03-07T15:37:11.540Z"
   },
   {
    "duration": 8,
    "start_time": "2022-03-07T15:37:11.707Z"
   },
   {
    "duration": 20,
    "start_time": "2022-03-07T15:37:11.716Z"
   },
   {
    "duration": 249,
    "start_time": "2022-03-07T15:37:11.738Z"
   },
   {
    "duration": 130,
    "start_time": "2022-03-07T15:37:11.989Z"
   },
   {
    "duration": 17,
    "start_time": "2022-03-07T15:37:12.120Z"
   },
   {
    "duration": 27,
    "start_time": "2022-03-07T15:37:12.138Z"
   },
   {
    "duration": 22,
    "start_time": "2022-03-07T15:37:12.167Z"
   },
   {
    "duration": 61,
    "start_time": "2022-03-07T15:37:12.191Z"
   },
   {
    "duration": 12,
    "start_time": "2022-03-07T15:37:12.254Z"
   },
   {
    "duration": 7,
    "start_time": "2022-03-07T15:37:12.267Z"
   },
   {
    "duration": 338,
    "start_time": "2022-03-07T15:37:12.276Z"
   },
   {
    "duration": 144,
    "start_time": "2022-03-07T15:37:12.615Z"
   },
   {
    "duration": 7,
    "start_time": "2022-03-07T15:37:12.761Z"
   },
   {
    "duration": 7,
    "start_time": "2022-03-07T15:37:12.769Z"
   },
   {
    "duration": 274,
    "start_time": "2022-03-07T15:37:12.777Z"
   },
   {
    "duration": 131,
    "start_time": "2022-03-07T15:37:13.053Z"
   },
   {
    "duration": 8,
    "start_time": "2022-03-07T15:37:13.185Z"
   },
   {
    "duration": 70,
    "start_time": "2022-03-07T15:37:13.194Z"
   },
   {
    "duration": 395,
    "start_time": "2022-03-07T15:37:13.266Z"
   },
   {
    "duration": 439,
    "start_time": "2022-03-07T15:37:13.663Z"
   },
   {
    "duration": 663,
    "start_time": "2022-03-07T15:37:14.104Z"
   },
   {
    "duration": 439,
    "start_time": "2022-03-07T15:37:14.768Z"
   },
   {
    "duration": 31,
    "start_time": "2022-03-07T15:37:15.209Z"
   },
   {
    "duration": 315,
    "start_time": "2022-03-07T15:37:15.241Z"
   },
   {
    "duration": 8,
    "start_time": "2022-03-07T15:37:15.558Z"
   },
   {
    "duration": 229,
    "start_time": "2022-03-07T15:37:15.567Z"
   },
   {
    "duration": 234,
    "start_time": "2022-03-07T15:37:15.798Z"
   },
   {
    "duration": 308,
    "start_time": "2022-03-07T15:37:16.034Z"
   },
   {
    "duration": 219,
    "start_time": "2022-03-07T15:37:16.344Z"
   },
   {
    "duration": 5,
    "start_time": "2022-03-07T15:37:16.564Z"
   },
   {
    "duration": 322,
    "start_time": "2022-03-07T15:37:16.570Z"
   },
   {
    "duration": 5,
    "start_time": "2022-03-07T15:37:16.894Z"
   },
   {
    "duration": 436,
    "start_time": "2022-03-07T15:37:16.900Z"
   },
   {
    "duration": 504,
    "start_time": "2022-03-07T15:37:17.338Z"
   },
   {
    "duration": 351,
    "start_time": "2022-03-07T15:37:17.844Z"
   },
   {
    "duration": 69,
    "start_time": "2022-03-07T15:43:41.434Z"
   },
   {
    "duration": 3,
    "start_time": "2022-03-07T15:43:48.691Z"
   },
   {
    "duration": 17,
    "start_time": "2022-03-08T17:07:42.488Z"
   },
   {
    "duration": 269,
    "start_time": "2022-03-08T17:08:13.049Z"
   },
   {
    "duration": 1868,
    "start_time": "2022-03-08T17:08:22.785Z"
   },
   {
    "duration": 24,
    "start_time": "2022-03-08T17:08:24.657Z"
   },
   {
    "duration": 126,
    "start_time": "2022-03-08T17:08:24.686Z"
   },
   {
    "duration": 11,
    "start_time": "2022-03-08T17:08:24.816Z"
   },
   {
    "duration": 43,
    "start_time": "2022-03-08T17:08:24.830Z"
   },
   {
    "duration": 31,
    "start_time": "2022-03-08T17:08:24.876Z"
   },
   {
    "duration": 23,
    "start_time": "2022-03-08T17:08:24.909Z"
   },
   {
    "duration": 38,
    "start_time": "2022-03-08T17:08:24.935Z"
   },
   {
    "duration": 7,
    "start_time": "2022-03-08T17:08:24.977Z"
   },
   {
    "duration": 789,
    "start_time": "2022-03-08T17:08:24.986Z"
   },
   {
    "duration": 784,
    "start_time": "2022-03-08T17:08:25.778Z"
   },
   {
    "duration": 12,
    "start_time": "2022-03-08T17:08:26.564Z"
   },
   {
    "duration": 5,
    "start_time": "2022-03-08T17:08:26.579Z"
   },
   {
    "duration": 612,
    "start_time": "2022-03-08T17:08:26.586Z"
   },
   {
    "duration": 5,
    "start_time": "2022-03-08T17:08:27.200Z"
   },
   {
    "duration": 707,
    "start_time": "2022-03-08T17:08:27.208Z"
   },
   {
    "duration": 9,
    "start_time": "2022-03-08T17:08:27.917Z"
   },
   {
    "duration": 9,
    "start_time": "2022-03-08T17:08:27.929Z"
   },
   {
    "duration": 47,
    "start_time": "2022-03-08T17:08:27.941Z"
   },
   {
    "duration": 6,
    "start_time": "2022-03-08T17:08:27.991Z"
   },
   {
    "duration": 101,
    "start_time": "2022-03-08T17:08:28.000Z"
   },
   {
    "duration": 15,
    "start_time": "2022-03-08T17:08:28.104Z"
   },
   {
    "duration": 58,
    "start_time": "2022-03-08T17:08:28.127Z"
   },
   {
    "duration": 888,
    "start_time": "2022-03-08T17:08:28.191Z"
   },
   {
    "duration": 6,
    "start_time": "2022-03-08T17:08:29.082Z"
   },
   {
    "duration": 18,
    "start_time": "2022-03-08T17:08:29.090Z"
   },
   {
    "duration": 537,
    "start_time": "2022-03-08T17:08:29.111Z"
   },
   {
    "duration": 267,
    "start_time": "2022-03-08T17:08:29.651Z"
   },
   {
    "duration": 13,
    "start_time": "2022-03-08T17:08:29.921Z"
   },
   {
    "duration": 39,
    "start_time": "2022-03-08T17:08:29.936Z"
   },
   {
    "duration": 471,
    "start_time": "2022-03-08T17:08:29.978Z"
   },
   {
    "duration": 237,
    "start_time": "2022-03-08T17:08:30.451Z"
   },
   {
    "duration": 15,
    "start_time": "2022-03-08T17:08:30.691Z"
   },
   {
    "duration": 20,
    "start_time": "2022-03-08T17:08:30.709Z"
   },
   {
    "duration": 471,
    "start_time": "2022-03-08T17:08:30.732Z"
   },
   {
    "duration": 217,
    "start_time": "2022-03-08T17:08:31.207Z"
   },
   {
    "duration": 13,
    "start_time": "2022-03-08T17:08:31.427Z"
   },
   {
    "duration": 75,
    "start_time": "2022-03-08T17:08:31.443Z"
   },
   {
    "duration": 77,
    "start_time": "2022-03-08T17:08:31.521Z"
   },
   {
    "duration": 107,
    "start_time": "2022-03-08T17:08:31.601Z"
   },
   {
    "duration": 28,
    "start_time": "2022-03-08T17:08:31.711Z"
   },
   {
    "duration": 40,
    "start_time": "2022-03-08T17:08:31.741Z"
   },
   {
    "duration": 521,
    "start_time": "2022-03-08T17:08:31.784Z"
   },
   {
    "duration": 267,
    "start_time": "2022-03-08T17:08:32.309Z"
   },
   {
    "duration": 18,
    "start_time": "2022-03-08T17:08:32.580Z"
   },
   {
    "duration": 23,
    "start_time": "2022-03-08T17:08:32.601Z"
   },
   {
    "duration": 920,
    "start_time": "2022-03-08T17:08:32.627Z"
   },
   {
    "duration": 341,
    "start_time": "2022-03-08T17:08:33.550Z"
   },
   {
    "duration": 13,
    "start_time": "2022-03-08T17:08:33.894Z"
   },
   {
    "duration": 128,
    "start_time": "2022-03-08T17:08:33.909Z"
   },
   {
    "duration": 647,
    "start_time": "2022-03-08T17:08:34.039Z"
   },
   {
    "duration": 765,
    "start_time": "2022-03-08T17:08:34.689Z"
   },
   {
    "duration": 941,
    "start_time": "2022-03-08T17:08:35.456Z"
   },
   {
    "duration": 914,
    "start_time": "2022-03-08T17:08:36.399Z"
   },
   {
    "duration": 63,
    "start_time": "2022-03-08T17:08:37.316Z"
   },
   {
    "duration": 804,
    "start_time": "2022-03-08T17:08:37.382Z"
   },
   {
    "duration": 11,
    "start_time": "2022-03-08T17:08:38.189Z"
   },
   {
    "duration": 584,
    "start_time": "2022-03-08T17:08:38.203Z"
   },
   {
    "duration": 687,
    "start_time": "2022-03-08T17:08:38.790Z"
   },
   {
    "duration": 593,
    "start_time": "2022-03-08T17:08:39.480Z"
   },
   {
    "duration": 414,
    "start_time": "2022-03-08T17:08:40.076Z"
   },
   {
    "duration": 6,
    "start_time": "2022-03-08T17:08:40.492Z"
   },
   {
    "duration": 862,
    "start_time": "2022-03-08T17:08:40.501Z"
   },
   {
    "duration": 9,
    "start_time": "2022-03-08T17:08:41.375Z"
   },
   {
    "duration": 654,
    "start_time": "2022-03-08T17:08:41.387Z"
   },
   {
    "duration": 760,
    "start_time": "2022-03-08T17:08:42.045Z"
   },
   {
    "duration": 595,
    "start_time": "2022-03-08T17:08:42.809Z"
   },
   {
    "duration": 94,
    "start_time": "2022-03-08T17:10:29.205Z"
   },
   {
    "duration": 86,
    "start_time": "2022-03-08T17:10:32.295Z"
   },
   {
    "duration": 96,
    "start_time": "2022-03-08T17:10:45.903Z"
   },
   {
    "duration": 87,
    "start_time": "2022-03-08T17:11:38.885Z"
   },
   {
    "duration": 118,
    "start_time": "2022-03-08T17:12:03.043Z"
   },
   {
    "duration": 96,
    "start_time": "2022-03-08T17:12:48.295Z"
   },
   {
    "duration": 1671,
    "start_time": "2022-03-08T17:13:14.004Z"
   },
   {
    "duration": 16,
    "start_time": "2022-03-08T17:13:15.678Z"
   },
   {
    "duration": 127,
    "start_time": "2022-03-08T17:13:15.697Z"
   },
   {
    "duration": 9,
    "start_time": "2022-03-08T17:13:15.827Z"
   },
   {
    "duration": 34,
    "start_time": "2022-03-08T17:13:15.839Z"
   },
   {
    "duration": 24,
    "start_time": "2022-03-08T17:13:15.875Z"
   },
   {
    "duration": 5,
    "start_time": "2022-03-08T17:13:15.902Z"
   },
   {
    "duration": 64,
    "start_time": "2022-03-08T17:13:15.912Z"
   },
   {
    "duration": 9,
    "start_time": "2022-03-08T17:13:15.980Z"
   },
   {
    "duration": 1213,
    "start_time": "2022-03-08T17:13:15.992Z"
   },
   {
    "duration": 1191,
    "start_time": "2022-03-08T17:13:17.208Z"
   },
   {
    "duration": 9,
    "start_time": "2022-03-08T17:13:18.402Z"
   },
   {
    "duration": 21,
    "start_time": "2022-03-08T17:13:18.414Z"
   },
   {
    "duration": 868,
    "start_time": "2022-03-08T17:13:18.438Z"
   },
   {
    "duration": 6,
    "start_time": "2022-03-08T17:13:19.309Z"
   },
   {
    "duration": 709,
    "start_time": "2022-03-08T17:13:19.317Z"
   },
   {
    "duration": 7,
    "start_time": "2022-03-08T17:13:20.029Z"
   },
   {
    "duration": 8,
    "start_time": "2022-03-08T17:13:20.038Z"
   },
   {
    "duration": 35,
    "start_time": "2022-03-08T17:13:20.048Z"
   },
   {
    "duration": 6,
    "start_time": "2022-03-08T17:13:20.086Z"
   },
   {
    "duration": 81,
    "start_time": "2022-03-08T17:13:20.094Z"
   },
   {
    "duration": 11,
    "start_time": "2022-03-08T17:13:20.178Z"
   },
   {
    "duration": 25,
    "start_time": "2022-03-08T17:13:20.196Z"
   },
   {
    "duration": 826,
    "start_time": "2022-03-08T17:13:20.225Z"
   },
   {
    "duration": 6,
    "start_time": "2022-03-08T17:13:21.054Z"
   },
   {
    "duration": 12,
    "start_time": "2022-03-08T17:13:21.074Z"
   },
   {
    "duration": 503,
    "start_time": "2022-03-08T17:13:21.088Z"
   },
   {
    "duration": 240,
    "start_time": "2022-03-08T17:13:21.594Z"
   },
   {
    "duration": 12,
    "start_time": "2022-03-08T17:13:21.837Z"
   },
   {
    "duration": 28,
    "start_time": "2022-03-08T17:13:21.852Z"
   },
   {
    "duration": 446,
    "start_time": "2022-03-08T17:13:21.883Z"
   },
   {
    "duration": 229,
    "start_time": "2022-03-08T17:13:22.331Z"
   },
   {
    "duration": 17,
    "start_time": "2022-03-08T17:13:22.563Z"
   },
   {
    "duration": 12,
    "start_time": "2022-03-08T17:13:22.582Z"
   },
   {
    "duration": 453,
    "start_time": "2022-03-08T17:13:22.597Z"
   },
   {
    "duration": 215,
    "start_time": "2022-03-08T17:13:23.053Z"
   },
   {
    "duration": 12,
    "start_time": "2022-03-08T17:13:23.274Z"
   },
   {
    "duration": 51,
    "start_time": "2022-03-08T17:13:23.289Z"
   },
   {
    "duration": 78,
    "start_time": "2022-03-08T17:13:23.343Z"
   },
   {
    "duration": 99,
    "start_time": "2022-03-08T17:13:23.423Z"
   },
   {
    "duration": 28,
    "start_time": "2022-03-08T17:13:23.525Z"
   },
   {
    "duration": 13,
    "start_time": "2022-03-08T17:13:23.574Z"
   },
   {
    "duration": 441,
    "start_time": "2022-03-08T17:13:23.590Z"
   },
   {
    "duration": 239,
    "start_time": "2022-03-08T17:13:24.034Z"
   },
   {
    "duration": 16,
    "start_time": "2022-03-08T17:13:24.277Z"
   },
   {
    "duration": 12,
    "start_time": "2022-03-08T17:13:24.296Z"
   },
   {
    "duration": 608,
    "start_time": "2022-03-08T17:13:24.310Z"
   },
   {
    "duration": 230,
    "start_time": "2022-03-08T17:13:24.921Z"
   },
   {
    "duration": 23,
    "start_time": "2022-03-08T17:13:25.153Z"
   },
   {
    "duration": 112,
    "start_time": "2022-03-08T17:13:25.178Z"
   },
   {
    "duration": 640,
    "start_time": "2022-03-08T17:13:25.293Z"
   },
   {
    "duration": 694,
    "start_time": "2022-03-08T17:13:25.935Z"
   },
   {
    "duration": 923,
    "start_time": "2022-03-08T17:13:26.631Z"
   },
   {
    "duration": 775,
    "start_time": "2022-03-08T17:13:27.557Z"
   },
   {
    "duration": 57,
    "start_time": "2022-03-08T17:13:28.336Z"
   },
   {
    "duration": 547,
    "start_time": "2022-03-08T17:13:28.396Z"
   },
   {
    "duration": 11,
    "start_time": "2022-03-08T17:13:28.946Z"
   },
   {
    "duration": 416,
    "start_time": "2022-03-08T17:13:28.960Z"
   },
   {
    "duration": 424,
    "start_time": "2022-03-08T17:13:29.379Z"
   },
   {
    "duration": 516,
    "start_time": "2022-03-08T17:13:29.805Z"
   },
   {
    "duration": 411,
    "start_time": "2022-03-08T17:13:30.323Z"
   },
   {
    "duration": 7,
    "start_time": "2022-03-08T17:13:30.736Z"
   },
   {
    "duration": 696,
    "start_time": "2022-03-08T17:13:30.745Z"
   },
   {
    "duration": 8,
    "start_time": "2022-03-08T17:13:31.444Z"
   },
   {
    "duration": 824,
    "start_time": "2022-03-08T17:13:31.455Z"
   },
   {
    "duration": 1044,
    "start_time": "2022-03-08T17:13:32.282Z"
   },
   {
    "duration": 563,
    "start_time": "2022-03-08T17:13:33.329Z"
   },
   {
    "duration": 92,
    "start_time": "2022-03-08T17:14:18.763Z"
   },
   {
    "duration": 1730,
    "start_time": "2022-03-08T17:21:50.701Z"
   },
   {
    "duration": 16,
    "start_time": "2022-03-08T17:21:52.433Z"
   },
   {
    "duration": 135,
    "start_time": "2022-03-08T17:21:52.451Z"
   },
   {
    "duration": 10,
    "start_time": "2022-03-08T17:21:52.589Z"
   },
   {
    "duration": 13,
    "start_time": "2022-03-08T17:21:52.601Z"
   },
   {
    "duration": 15,
    "start_time": "2022-03-08T17:21:52.617Z"
   },
   {
    "duration": 41,
    "start_time": "2022-03-08T17:21:52.634Z"
   },
   {
    "duration": 32,
    "start_time": "2022-03-08T17:21:52.679Z"
   },
   {
    "duration": 8,
    "start_time": "2022-03-08T17:21:52.714Z"
   },
   {
    "duration": 742,
    "start_time": "2022-03-08T17:21:52.724Z"
   },
   {
    "duration": 767,
    "start_time": "2022-03-08T17:21:53.469Z"
   },
   {
    "duration": 9,
    "start_time": "2022-03-08T17:21:54.238Z"
   },
   {
    "duration": 596,
    "start_time": "2022-03-08T17:21:54.249Z"
   },
   {
    "duration": 5,
    "start_time": "2022-03-08T17:21:54.847Z"
   },
   {
    "duration": 744,
    "start_time": "2022-03-08T17:21:54.854Z"
   },
   {
    "duration": 6,
    "start_time": "2022-03-08T17:21:55.601Z"
   },
   {
    "duration": 9,
    "start_time": "2022-03-08T17:21:55.609Z"
   },
   {
    "duration": 19,
    "start_time": "2022-03-08T17:21:55.621Z"
   },
   {
    "duration": 30,
    "start_time": "2022-03-08T17:21:55.643Z"
   },
   {
    "duration": 60,
    "start_time": "2022-03-08T17:21:55.676Z"
   },
   {
    "duration": 37,
    "start_time": "2022-03-08T17:21:55.738Z"
   },
   {
    "duration": 441,
    "start_time": "2022-03-08T17:21:55.777Z"
   },
   {
    "duration": 10327,
    "start_time": "2022-03-08T17:21:45.895Z"
   },
   {
    "duration": 10312,
    "start_time": "2022-03-08T17:21:45.911Z"
   },
   {
    "duration": 10307,
    "start_time": "2022-03-08T17:21:45.918Z"
   },
   {
    "duration": 10299,
    "start_time": "2022-03-08T17:21:45.927Z"
   },
   {
    "duration": 10294,
    "start_time": "2022-03-08T17:21:45.934Z"
   },
   {
    "duration": 10288,
    "start_time": "2022-03-08T17:21:45.941Z"
   },
   {
    "duration": 10283,
    "start_time": "2022-03-08T17:21:45.948Z"
   },
   {
    "duration": 10277,
    "start_time": "2022-03-08T17:21:45.955Z"
   },
   {
    "duration": 10271,
    "start_time": "2022-03-08T17:21:45.962Z"
   },
   {
    "duration": 10265,
    "start_time": "2022-03-08T17:21:45.969Z"
   },
   {
    "duration": 10257,
    "start_time": "2022-03-08T17:21:45.979Z"
   },
   {
    "duration": 10251,
    "start_time": "2022-03-08T17:21:45.986Z"
   },
   {
    "duration": 10244,
    "start_time": "2022-03-08T17:21:45.994Z"
   },
   {
    "duration": 10240,
    "start_time": "2022-03-08T17:21:46.000Z"
   },
   {
    "duration": 10234,
    "start_time": "2022-03-08T17:21:46.007Z"
   },
   {
    "duration": 10217,
    "start_time": "2022-03-08T17:21:46.026Z"
   },
   {
    "duration": 10209,
    "start_time": "2022-03-08T17:21:46.035Z"
   },
   {
    "duration": 10203,
    "start_time": "2022-03-08T17:21:46.042Z"
   },
   {
    "duration": 10198,
    "start_time": "2022-03-08T17:21:46.049Z"
   },
   {
    "duration": 10192,
    "start_time": "2022-03-08T17:21:46.056Z"
   },
   {
    "duration": 10186,
    "start_time": "2022-03-08T17:21:46.064Z"
   },
   {
    "duration": 10180,
    "start_time": "2022-03-08T17:21:46.071Z"
   },
   {
    "duration": 10173,
    "start_time": "2022-03-08T17:21:46.079Z"
   },
   {
    "duration": 10169,
    "start_time": "2022-03-08T17:21:46.085Z"
   },
   {
    "duration": 10163,
    "start_time": "2022-03-08T17:21:46.092Z"
   },
   {
    "duration": 10173,
    "start_time": "2022-03-08T17:21:46.099Z"
   },
   {
    "duration": 10167,
    "start_time": "2022-03-08T17:21:46.107Z"
   },
   {
    "duration": 10162,
    "start_time": "2022-03-08T17:21:46.113Z"
   },
   {
    "duration": 10155,
    "start_time": "2022-03-08T17:21:46.122Z"
   },
   {
    "duration": 10139,
    "start_time": "2022-03-08T17:21:46.139Z"
   },
   {
    "duration": 10132,
    "start_time": "2022-03-08T17:21:46.147Z"
   },
   {
    "duration": 10128,
    "start_time": "2022-03-08T17:21:46.153Z"
   },
   {
    "duration": 10120,
    "start_time": "2022-03-08T17:21:46.162Z"
   },
   {
    "duration": 10114,
    "start_time": "2022-03-08T17:21:46.169Z"
   },
   {
    "duration": 10108,
    "start_time": "2022-03-08T17:21:46.177Z"
   },
   {
    "duration": 10100,
    "start_time": "2022-03-08T17:21:46.186Z"
   },
   {
    "duration": 10094,
    "start_time": "2022-03-08T17:21:46.193Z"
   },
   {
    "duration": 10089,
    "start_time": "2022-03-08T17:21:46.200Z"
   },
   {
    "duration": 10083,
    "start_time": "2022-03-08T17:21:46.207Z"
   },
   {
    "duration": 10076,
    "start_time": "2022-03-08T17:21:46.216Z"
   },
   {
    "duration": 10070,
    "start_time": "2022-03-08T17:21:46.223Z"
   },
   {
    "duration": 10065,
    "start_time": "2022-03-08T17:21:46.229Z"
   },
   {
    "duration": 10057,
    "start_time": "2022-03-08T17:21:46.238Z"
   },
   {
    "duration": 10042,
    "start_time": "2022-03-08T17:21:46.255Z"
   },
   {
    "duration": 1653,
    "start_time": "2022-03-08T17:22:36.859Z"
   },
   {
    "duration": 19,
    "start_time": "2022-03-08T17:22:38.515Z"
   },
   {
    "duration": 129,
    "start_time": "2022-03-08T17:22:38.538Z"
   },
   {
    "duration": 12,
    "start_time": "2022-03-08T17:22:38.675Z"
   },
   {
    "duration": 14,
    "start_time": "2022-03-08T17:22:38.690Z"
   },
   {
    "duration": 19,
    "start_time": "2022-03-08T17:22:38.706Z"
   },
   {
    "duration": 48,
    "start_time": "2022-03-08T17:22:38.727Z"
   },
   {
    "duration": 26,
    "start_time": "2022-03-08T17:22:38.778Z"
   },
   {
    "duration": 8,
    "start_time": "2022-03-08T17:22:38.809Z"
   },
   {
    "duration": 731,
    "start_time": "2022-03-08T17:22:38.820Z"
   },
   {
    "duration": 771,
    "start_time": "2022-03-08T17:22:39.554Z"
   },
   {
    "duration": 8,
    "start_time": "2022-03-08T17:22:40.327Z"
   },
   {
    "duration": 593,
    "start_time": "2022-03-08T17:22:40.338Z"
   },
   {
    "duration": 6,
    "start_time": "2022-03-08T17:22:40.934Z"
   },
   {
    "duration": 734,
    "start_time": "2022-03-08T17:22:40.942Z"
   },
   {
    "duration": 7,
    "start_time": "2022-03-08T17:22:41.678Z"
   },
   {
    "duration": 7,
    "start_time": "2022-03-08T17:22:41.687Z"
   },
   {
    "duration": 11,
    "start_time": "2022-03-08T17:22:41.696Z"
   },
   {
    "duration": 6,
    "start_time": "2022-03-08T17:22:41.710Z"
   },
   {
    "duration": 108,
    "start_time": "2022-03-08T17:22:41.719Z"
   },
   {
    "duration": 10,
    "start_time": "2022-03-08T17:22:41.830Z"
   },
   {
    "duration": 40,
    "start_time": "2022-03-08T17:22:41.843Z"
   },
   {
    "duration": 810,
    "start_time": "2022-03-08T17:22:41.886Z"
   },
   {
    "duration": 5,
    "start_time": "2022-03-08T17:22:42.699Z"
   },
   {
    "duration": 17,
    "start_time": "2022-03-08T17:22:42.707Z"
   },
   {
    "duration": 724,
    "start_time": "2022-03-08T17:22:42.727Z"
   },
   {
    "duration": 243,
    "start_time": "2022-03-08T17:22:43.458Z"
   },
   {
    "duration": 12,
    "start_time": "2022-03-08T17:22:43.705Z"
   },
   {
    "duration": 12,
    "start_time": "2022-03-08T17:22:43.720Z"
   },
   {
    "duration": 670,
    "start_time": "2022-03-08T17:22:43.734Z"
   },
   {
    "duration": 230,
    "start_time": "2022-03-08T17:22:44.406Z"
   },
   {
    "duration": 15,
    "start_time": "2022-03-08T17:22:44.639Z"
   },
   {
    "duration": 27,
    "start_time": "2022-03-08T17:22:44.657Z"
   },
   {
    "duration": 456,
    "start_time": "2022-03-08T17:22:44.687Z"
   },
   {
    "duration": 223,
    "start_time": "2022-03-08T17:22:45.146Z"
   },
   {
    "duration": 16,
    "start_time": "2022-03-08T17:22:45.373Z"
   },
   {
    "duration": 55,
    "start_time": "2022-03-08T17:22:45.391Z"
   },
   {
    "duration": 53,
    "start_time": "2022-03-08T17:22:45.475Z"
   },
   {
    "duration": 93,
    "start_time": "2022-03-08T17:22:45.531Z"
   },
   {
    "duration": 51,
    "start_time": "2022-03-08T17:22:45.626Z"
   },
   {
    "duration": 11,
    "start_time": "2022-03-08T17:22:45.680Z"
   },
   {
    "duration": 465,
    "start_time": "2022-03-08T17:22:45.694Z"
   },
   {
    "duration": 252,
    "start_time": "2022-03-08T17:22:46.162Z"
   },
   {
    "duration": 16,
    "start_time": "2022-03-08T17:22:46.417Z"
   },
   {
    "duration": 37,
    "start_time": "2022-03-08T17:22:46.435Z"
   },
   {
    "duration": 668,
    "start_time": "2022-03-08T17:22:46.475Z"
   },
   {
    "duration": 217,
    "start_time": "2022-03-08T17:22:47.146Z"
   },
   {
    "duration": 20,
    "start_time": "2022-03-08T17:22:47.366Z"
   },
   {
    "duration": 128,
    "start_time": "2022-03-08T17:22:47.389Z"
   },
   {
    "duration": 572,
    "start_time": "2022-03-08T17:22:47.521Z"
   },
   {
    "duration": 702,
    "start_time": "2022-03-08T17:22:48.097Z"
   },
   {
    "duration": 953,
    "start_time": "2022-03-08T17:22:48.801Z"
   },
   {
    "duration": 737,
    "start_time": "2022-03-08T17:22:49.757Z"
   },
   {
    "duration": 36,
    "start_time": "2022-03-08T17:22:50.496Z"
   },
   {
    "duration": 537,
    "start_time": "2022-03-08T17:22:50.535Z"
   },
   {
    "duration": 9618,
    "start_time": "2022-03-08T17:22:41.457Z"
   },
   {
    "duration": 9609,
    "start_time": "2022-03-08T17:22:41.468Z"
   },
   {
    "duration": 9600,
    "start_time": "2022-03-08T17:22:41.479Z"
   },
   {
    "duration": 9594,
    "start_time": "2022-03-08T17:22:41.487Z"
   },
   {
    "duration": 9586,
    "start_time": "2022-03-08T17:22:41.496Z"
   },
   {
    "duration": 9580,
    "start_time": "2022-03-08T17:22:41.504Z"
   },
   {
    "duration": 9273,
    "start_time": "2022-03-08T17:22:41.813Z"
   },
   {
    "duration": 9258,
    "start_time": "2022-03-08T17:22:41.830Z"
   },
   {
    "duration": 9251,
    "start_time": "2022-03-08T17:22:41.838Z"
   },
   {
    "duration": 9243,
    "start_time": "2022-03-08T17:22:41.848Z"
   },
   {
    "duration": 9238,
    "start_time": "2022-03-08T17:22:41.855Z"
   },
   {
    "duration": 89,
    "start_time": "2022-03-08T17:24:25.342Z"
   },
   {
    "duration": 275,
    "start_time": "2022-03-08T17:24:37.061Z"
   },
   {
    "duration": 282,
    "start_time": "2022-03-08T17:24:44.847Z"
   },
   {
    "duration": 269,
    "start_time": "2022-03-08T17:24:55.519Z"
   },
   {
    "duration": 394,
    "start_time": "2022-03-08T17:25:26.320Z"
   },
   {
    "duration": 92,
    "start_time": "2022-03-08T17:28:44.719Z"
   },
   {
    "duration": 260,
    "start_time": "2022-03-08T17:28:51.120Z"
   },
   {
    "duration": 824,
    "start_time": "2022-03-08T17:34:24.667Z"
   },
   {
    "duration": 1692,
    "start_time": "2022-03-08T17:37:13.727Z"
   },
   {
    "duration": 15,
    "start_time": "2022-03-08T17:37:15.422Z"
   },
   {
    "duration": 126,
    "start_time": "2022-03-08T17:37:15.441Z"
   },
   {
    "duration": 10,
    "start_time": "2022-03-08T17:37:15.575Z"
   },
   {
    "duration": 12,
    "start_time": "2022-03-08T17:37:15.587Z"
   },
   {
    "duration": 24,
    "start_time": "2022-03-08T17:37:15.602Z"
   },
   {
    "duration": 5,
    "start_time": "2022-03-08T17:37:15.630Z"
   },
   {
    "duration": 28,
    "start_time": "2022-03-08T17:37:15.674Z"
   },
   {
    "duration": 8,
    "start_time": "2022-03-08T17:37:15.705Z"
   },
   {
    "duration": 742,
    "start_time": "2022-03-08T17:37:15.716Z"
   },
   {
    "duration": 788,
    "start_time": "2022-03-08T17:37:16.460Z"
   },
   {
    "duration": 9,
    "start_time": "2022-03-08T17:37:17.250Z"
   },
   {
    "duration": 588,
    "start_time": "2022-03-08T17:37:17.273Z"
   },
   {
    "duration": 12,
    "start_time": "2022-03-08T17:37:17.863Z"
   },
   {
    "duration": 839,
    "start_time": "2022-03-08T17:37:17.877Z"
   },
   {
    "duration": 7,
    "start_time": "2022-03-08T17:37:18.718Z"
   },
   {
    "duration": 8,
    "start_time": "2022-03-08T17:37:18.727Z"
   },
   {
    "duration": 44,
    "start_time": "2022-03-08T17:37:18.738Z"
   },
   {
    "duration": 5,
    "start_time": "2022-03-08T17:37:18.785Z"
   },
   {
    "duration": 85,
    "start_time": "2022-03-08T17:37:18.792Z"
   },
   {
    "duration": 11,
    "start_time": "2022-03-08T17:37:18.880Z"
   },
   {
    "duration": 42,
    "start_time": "2022-03-08T17:37:18.894Z"
   },
   {
    "duration": 845,
    "start_time": "2022-03-08T17:37:18.942Z"
   },
   {
    "duration": 5,
    "start_time": "2022-03-08T17:37:19.793Z"
   },
   {
    "duration": 20,
    "start_time": "2022-03-08T17:37:19.801Z"
   },
   {
    "duration": 548,
    "start_time": "2022-03-08T17:37:19.824Z"
   },
   {
    "duration": 255,
    "start_time": "2022-03-08T17:37:20.374Z"
   },
   {
    "duration": 12,
    "start_time": "2022-03-08T17:37:20.632Z"
   },
   {
    "duration": 29,
    "start_time": "2022-03-08T17:37:20.646Z"
   },
   {
    "duration": 475,
    "start_time": "2022-03-08T17:37:20.678Z"
   },
   {
    "duration": 230,
    "start_time": "2022-03-08T17:37:21.156Z"
   },
   {
    "duration": 14,
    "start_time": "2022-03-08T17:37:21.389Z"
   },
   {
    "duration": 12,
    "start_time": "2022-03-08T17:37:21.406Z"
   },
   {
    "duration": 480,
    "start_time": "2022-03-08T17:37:21.420Z"
   },
   {
    "duration": 218,
    "start_time": "2022-03-08T17:37:21.903Z"
   },
   {
    "duration": 13,
    "start_time": "2022-03-08T17:37:22.124Z"
   },
   {
    "duration": 100,
    "start_time": "2022-03-08T17:37:22.140Z"
   },
   {
    "duration": 72,
    "start_time": "2022-03-08T17:37:22.243Z"
   },
   {
    "duration": 77,
    "start_time": "2022-03-08T17:37:22.317Z"
   },
   {
    "duration": 27,
    "start_time": "2022-03-08T17:37:22.396Z"
   },
   {
    "duration": 19,
    "start_time": "2022-03-08T17:37:22.426Z"
   },
   {
    "duration": 460,
    "start_time": "2022-03-08T17:37:22.448Z"
   },
   {
    "duration": 232,
    "start_time": "2022-03-08T17:37:22.910Z"
   },
   {
    "duration": 35,
    "start_time": "2022-03-08T17:37:23.144Z"
   },
   {
    "duration": 16,
    "start_time": "2022-03-08T17:37:23.182Z"
   },
   {
    "duration": 12,
    "start_time": "2022-03-08T17:37:23.200Z"
   },
   {
    "duration": 595,
    "start_time": "2022-03-08T17:37:23.214Z"
   },
   {
    "duration": 229,
    "start_time": "2022-03-08T17:37:23.811Z"
   },
   {
    "duration": 12,
    "start_time": "2022-03-08T17:37:24.042Z"
   },
   {
    "duration": 124,
    "start_time": "2022-03-08T17:37:24.057Z"
   },
   {
    "duration": 602,
    "start_time": "2022-03-08T17:37:24.183Z"
   },
   {
    "duration": 724,
    "start_time": "2022-03-08T17:37:24.787Z"
   },
   {
    "duration": 970,
    "start_time": "2022-03-08T17:37:25.513Z"
   },
   {
    "duration": 699,
    "start_time": "2022-03-08T17:37:26.486Z"
   },
   {
    "duration": 38,
    "start_time": "2022-03-08T17:37:27.187Z"
   },
   {
    "duration": 592,
    "start_time": "2022-03-08T17:37:27.228Z"
   },
   {
    "duration": 460,
    "start_time": "2022-03-08T17:37:27.822Z"
   },
   {
    "duration": 10342,
    "start_time": "2022-03-08T17:37:17.943Z"
   },
   {
    "duration": 10327,
    "start_time": "2022-03-08T17:37:17.960Z"
   },
   {
    "duration": 10319,
    "start_time": "2022-03-08T17:37:17.970Z"
   },
   {
    "duration": 10317,
    "start_time": "2022-03-08T17:37:17.980Z"
   },
   {
    "duration": 10311,
    "start_time": "2022-03-08T17:37:17.988Z"
   },
   {
    "duration": 10306,
    "start_time": "2022-03-08T17:37:17.995Z"
   },
   {
    "duration": 10299,
    "start_time": "2022-03-08T17:37:18.005Z"
   },
   {
    "duration": 10292,
    "start_time": "2022-03-08T17:37:18.014Z"
   },
   {
    "duration": 10287,
    "start_time": "2022-03-08T17:37:18.021Z"
   },
   {
    "duration": 10281,
    "start_time": "2022-03-08T17:37:18.029Z"
   },
   {
    "duration": 18,
    "start_time": "2022-03-08T17:41:19.568Z"
   },
   {
    "duration": 24,
    "start_time": "2022-03-08T17:42:30.128Z"
   },
   {
    "duration": 1675,
    "start_time": "2022-03-08T17:43:58.542Z"
   },
   {
    "duration": 16,
    "start_time": "2022-03-08T17:44:00.220Z"
   },
   {
    "duration": 123,
    "start_time": "2022-03-08T17:44:00.239Z"
   },
   {
    "duration": 15,
    "start_time": "2022-03-08T17:44:00.366Z"
   },
   {
    "duration": 17,
    "start_time": "2022-03-08T17:44:00.383Z"
   },
   {
    "duration": 18,
    "start_time": "2022-03-08T17:44:00.403Z"
   },
   {
    "duration": 5,
    "start_time": "2022-03-08T17:44:00.424Z"
   },
   {
    "duration": 27,
    "start_time": "2022-03-08T17:44:00.473Z"
   },
   {
    "duration": 9,
    "start_time": "2022-03-08T17:44:00.504Z"
   },
   {
    "duration": 735,
    "start_time": "2022-03-08T17:44:00.516Z"
   },
   {
    "duration": 761,
    "start_time": "2022-03-08T17:44:01.254Z"
   },
   {
    "duration": 8,
    "start_time": "2022-03-08T17:44:02.018Z"
   },
   {
    "duration": 595,
    "start_time": "2022-03-08T17:44:02.028Z"
   },
   {
    "duration": 6,
    "start_time": "2022-03-08T17:44:02.627Z"
   },
   {
    "duration": 740,
    "start_time": "2022-03-08T17:44:02.636Z"
   },
   {
    "duration": 7,
    "start_time": "2022-03-08T17:44:03.379Z"
   },
   {
    "duration": 14,
    "start_time": "2022-03-08T17:44:03.388Z"
   },
   {
    "duration": 13,
    "start_time": "2022-03-08T17:44:03.405Z"
   },
   {
    "duration": 8,
    "start_time": "2022-03-08T17:44:03.421Z"
   },
   {
    "duration": 90,
    "start_time": "2022-03-08T17:44:03.431Z"
   },
   {
    "duration": 12,
    "start_time": "2022-03-08T17:44:03.523Z"
   },
   {
    "duration": 44,
    "start_time": "2022-03-08T17:44:03.538Z"
   },
   {
    "duration": 946,
    "start_time": "2022-03-08T17:44:03.585Z"
   },
   {
    "duration": 6,
    "start_time": "2022-03-08T17:44:04.533Z"
   },
   {
    "duration": 33,
    "start_time": "2022-03-08T17:44:04.542Z"
   },
   {
    "duration": 537,
    "start_time": "2022-03-08T17:44:04.578Z"
   },
   {
    "duration": 288,
    "start_time": "2022-03-08T17:44:05.122Z"
   },
   {
    "duration": 13,
    "start_time": "2022-03-08T17:44:05.414Z"
   },
   {
    "duration": 43,
    "start_time": "2022-03-08T17:44:05.430Z"
   },
   {
    "duration": 475,
    "start_time": "2022-03-08T17:44:05.476Z"
   },
   {
    "duration": 341,
    "start_time": "2022-03-08T17:44:05.955Z"
   },
   {
    "duration": 16,
    "start_time": "2022-03-08T17:44:06.299Z"
   },
   {
    "duration": 33,
    "start_time": "2022-03-08T17:44:06.318Z"
   },
   {
    "duration": 444,
    "start_time": "2022-03-08T17:44:06.353Z"
   },
   {
    "duration": 211,
    "start_time": "2022-03-08T17:44:06.800Z"
   },
   {
    "duration": 13,
    "start_time": "2022-03-08T17:44:07.013Z"
   },
   {
    "duration": 67,
    "start_time": "2022-03-08T17:44:07.028Z"
   },
   {
    "duration": 91,
    "start_time": "2022-03-08T17:44:07.098Z"
   },
   {
    "duration": 117,
    "start_time": "2022-03-08T17:44:07.192Z"
   },
   {
    "duration": 39,
    "start_time": "2022-03-08T17:44:07.312Z"
   },
   {
    "duration": 35,
    "start_time": "2022-03-08T17:44:07.354Z"
   },
   {
    "duration": 461,
    "start_time": "2022-03-08T17:44:07.392Z"
   },
   {
    "duration": 238,
    "start_time": "2022-03-08T17:44:07.855Z"
   },
   {
    "duration": 11,
    "start_time": "2022-03-08T17:44:08.096Z"
   },
   {
    "duration": 46,
    "start_time": "2022-03-08T17:44:08.110Z"
   },
   {
    "duration": 21,
    "start_time": "2022-03-08T17:44:08.158Z"
   },
   {
    "duration": 12,
    "start_time": "2022-03-08T17:44:08.182Z"
   },
   {
    "duration": 587,
    "start_time": "2022-03-08T17:44:08.197Z"
   },
   {
    "duration": 237,
    "start_time": "2022-03-08T17:44:08.786Z"
   },
   {
    "duration": 12,
    "start_time": "2022-03-08T17:44:09.025Z"
   },
   {
    "duration": 126,
    "start_time": "2022-03-08T17:44:09.039Z"
   },
   {
    "duration": 594,
    "start_time": "2022-03-08T17:44:09.168Z"
   },
   {
    "duration": 681,
    "start_time": "2022-03-08T17:44:09.765Z"
   },
   {
    "duration": 927,
    "start_time": "2022-03-08T17:44:10.448Z"
   },
   {
    "duration": 797,
    "start_time": "2022-03-08T17:44:11.378Z"
   },
   {
    "duration": 40,
    "start_time": "2022-03-08T17:44:12.178Z"
   },
   {
    "duration": 580,
    "start_time": "2022-03-08T17:44:12.222Z"
   },
   {
    "duration": 408,
    "start_time": "2022-03-08T17:44:12.805Z"
   },
   {
    "duration": 10276,
    "start_time": "2022-03-08T17:44:02.940Z"
   },
   {
    "duration": 10269,
    "start_time": "2022-03-08T17:44:02.949Z"
   },
   {
    "duration": 10261,
    "start_time": "2022-03-08T17:44:02.959Z"
   },
   {
    "duration": 10206,
    "start_time": "2022-03-08T17:44:03.016Z"
   },
   {
    "duration": 10189,
    "start_time": "2022-03-08T17:44:03.034Z"
   },
   {
    "duration": 10186,
    "start_time": "2022-03-08T17:44:03.040Z"
   },
   {
    "duration": 10180,
    "start_time": "2022-03-08T17:44:03.048Z"
   },
   {
    "duration": 10175,
    "start_time": "2022-03-08T17:44:03.055Z"
   },
   {
    "duration": 10164,
    "start_time": "2022-03-08T17:44:03.067Z"
   },
   {
    "duration": 10155,
    "start_time": "2022-03-08T17:44:03.078Z"
   },
   {
    "duration": 12,
    "start_time": "2022-03-08T17:45:39.380Z"
   },
   {
    "duration": 5,
    "start_time": "2022-03-08T17:47:25.061Z"
   },
   {
    "duration": 6,
    "start_time": "2022-03-08T17:47:48.622Z"
   },
   {
    "duration": 1730,
    "start_time": "2022-03-08T17:48:41.261Z"
   },
   {
    "duration": 18,
    "start_time": "2022-03-08T17:48:42.994Z"
   },
   {
    "duration": 158,
    "start_time": "2022-03-08T17:48:43.015Z"
   },
   {
    "duration": 10,
    "start_time": "2022-03-08T17:48:43.176Z"
   },
   {
    "duration": 18,
    "start_time": "2022-03-08T17:48:43.189Z"
   },
   {
    "duration": 25,
    "start_time": "2022-03-08T17:48:43.210Z"
   },
   {
    "duration": 39,
    "start_time": "2022-03-08T17:48:43.238Z"
   },
   {
    "duration": 42,
    "start_time": "2022-03-08T17:48:43.280Z"
   },
   {
    "duration": 10,
    "start_time": "2022-03-08T17:48:43.327Z"
   },
   {
    "duration": 737,
    "start_time": "2022-03-08T17:48:43.342Z"
   },
   {
    "duration": 1206,
    "start_time": "2022-03-08T17:48:44.082Z"
   },
   {
    "duration": 10,
    "start_time": "2022-03-08T17:48:45.291Z"
   },
   {
    "duration": 603,
    "start_time": "2022-03-08T17:48:45.303Z"
   },
   {
    "duration": 4,
    "start_time": "2022-03-08T17:48:45.909Z"
   },
   {
    "duration": 723,
    "start_time": "2022-03-08T17:48:45.916Z"
   },
   {
    "duration": 8,
    "start_time": "2022-03-08T17:48:46.642Z"
   },
   {
    "duration": 25,
    "start_time": "2022-03-08T17:48:46.653Z"
   },
   {
    "duration": 11,
    "start_time": "2022-03-08T17:48:46.681Z"
   },
   {
    "duration": 4,
    "start_time": "2022-03-08T17:48:46.695Z"
   },
   {
    "duration": 93,
    "start_time": "2022-03-08T17:48:46.702Z"
   },
   {
    "duration": 11,
    "start_time": "2022-03-08T17:48:46.798Z"
   },
   {
    "duration": 60,
    "start_time": "2022-03-08T17:48:46.813Z"
   },
   {
    "duration": 1246,
    "start_time": "2022-03-08T17:48:46.876Z"
   },
   {
    "duration": 5,
    "start_time": "2022-03-08T17:48:48.125Z"
   },
   {
    "duration": 20,
    "start_time": "2022-03-08T17:48:48.133Z"
   },
   {
    "duration": 804,
    "start_time": "2022-03-08T17:48:48.174Z"
   },
   {
    "duration": 300,
    "start_time": "2022-03-08T17:48:48.987Z"
   },
   {
    "duration": 16,
    "start_time": "2022-03-08T17:48:49.291Z"
   },
   {
    "duration": 14,
    "start_time": "2022-03-08T17:48:49.310Z"
   },
   {
    "duration": 501,
    "start_time": "2022-03-08T17:48:49.326Z"
   },
   {
    "duration": 288,
    "start_time": "2022-03-08T17:48:49.830Z"
   },
   {
    "duration": 13,
    "start_time": "2022-03-08T17:48:50.121Z"
   },
   {
    "duration": 11,
    "start_time": "2022-03-08T17:48:50.136Z"
   },
   {
    "duration": 476,
    "start_time": "2022-03-08T17:48:50.150Z"
   },
   {
    "duration": 281,
    "start_time": "2022-03-08T17:48:50.629Z"
   },
   {
    "duration": 16,
    "start_time": "2022-03-08T17:48:50.913Z"
   },
   {
    "duration": 88,
    "start_time": "2022-03-08T17:48:50.932Z"
   },
   {
    "duration": 73,
    "start_time": "2022-03-08T17:48:51.022Z"
   },
   {
    "duration": 186,
    "start_time": "2022-03-08T17:48:51.098Z"
   },
   {
    "duration": 88,
    "start_time": "2022-03-08T17:48:51.287Z"
   },
   {
    "duration": 16,
    "start_time": "2022-03-08T17:48:51.378Z"
   },
   {
    "duration": 635,
    "start_time": "2022-03-08T17:48:51.397Z"
   },
   {
    "duration": 233,
    "start_time": "2022-03-08T17:48:52.035Z"
   },
   {
    "duration": 12,
    "start_time": "2022-03-08T17:48:52.274Z"
   },
   {
    "duration": 16,
    "start_time": "2022-03-08T17:48:52.288Z"
   },
   {
    "duration": 14,
    "start_time": "2022-03-08T17:48:52.306Z"
   },
   {
    "duration": 12,
    "start_time": "2022-03-08T17:48:52.322Z"
   },
   {
    "duration": 5,
    "start_time": "2022-03-08T17:48:52.375Z"
   },
   {
    "duration": 21,
    "start_time": "2022-03-08T17:48:52.383Z"
   },
   {
    "duration": 152,
    "start_time": "2022-03-08T17:48:52.406Z"
   },
   {
    "duration": 477,
    "start_time": "2022-03-08T17:48:52.561Z"
   },
   {
    "duration": 232,
    "start_time": "2022-03-08T17:48:53.041Z"
   },
   {
    "duration": 11,
    "start_time": "2022-03-08T17:48:53.275Z"
   },
   {
    "duration": 117,
    "start_time": "2022-03-08T17:48:53.288Z"
   },
   {
    "duration": 605,
    "start_time": "2022-03-08T17:48:53.407Z"
   },
   {
    "duration": 715,
    "start_time": "2022-03-08T17:48:54.015Z"
   },
   {
    "duration": 950,
    "start_time": "2022-03-08T17:48:54.732Z"
   },
   {
    "duration": 699,
    "start_time": "2022-03-08T17:48:55.685Z"
   },
   {
    "duration": 37,
    "start_time": "2022-03-08T17:48:56.387Z"
   },
   {
    "duration": 579,
    "start_time": "2022-03-08T17:48:56.426Z"
   },
   {
    "duration": 427,
    "start_time": "2022-03-08T17:48:57.007Z"
   },
   {
    "duration": 10150,
    "start_time": "2022-03-08T17:48:47.286Z"
   },
   {
    "duration": 10131,
    "start_time": "2022-03-08T17:48:47.307Z"
   },
   {
    "duration": 10121,
    "start_time": "2022-03-08T17:48:47.318Z"
   },
   {
    "duration": 10112,
    "start_time": "2022-03-08T17:48:47.329Z"
   },
   {
    "duration": 10102,
    "start_time": "2022-03-08T17:48:47.340Z"
   },
   {
    "duration": 10092,
    "start_time": "2022-03-08T17:48:47.351Z"
   },
   {
    "duration": 10081,
    "start_time": "2022-03-08T17:48:47.364Z"
   },
   {
    "duration": 10068,
    "start_time": "2022-03-08T17:48:47.378Z"
   },
   {
    "duration": 10062,
    "start_time": "2022-03-08T17:48:47.386Z"
   },
   {
    "duration": 10052,
    "start_time": "2022-03-08T17:48:47.397Z"
   },
   {
    "duration": 5,
    "start_time": "2022-03-08T17:49:29.601Z"
   },
   {
    "duration": 1792,
    "start_time": "2022-03-08T17:50:44.237Z"
   },
   {
    "duration": 17,
    "start_time": "2022-03-08T17:50:46.032Z"
   },
   {
    "duration": 125,
    "start_time": "2022-03-08T17:50:46.052Z"
   },
   {
    "duration": 10,
    "start_time": "2022-03-08T17:50:46.180Z"
   },
   {
    "duration": 34,
    "start_time": "2022-03-08T17:50:46.193Z"
   },
   {
    "duration": 19,
    "start_time": "2022-03-08T17:50:46.229Z"
   },
   {
    "duration": 5,
    "start_time": "2022-03-08T17:50:46.273Z"
   },
   {
    "duration": 32,
    "start_time": "2022-03-08T17:50:46.282Z"
   },
   {
    "duration": 9,
    "start_time": "2022-03-08T17:50:46.318Z"
   },
   {
    "duration": 735,
    "start_time": "2022-03-08T17:50:46.329Z"
   },
   {
    "duration": 773,
    "start_time": "2022-03-08T17:50:47.066Z"
   },
   {
    "duration": 9,
    "start_time": "2022-03-08T17:50:47.842Z"
   },
   {
    "duration": 611,
    "start_time": "2022-03-08T17:50:47.854Z"
   },
   {
    "duration": 10,
    "start_time": "2022-03-08T17:50:48.467Z"
   },
   {
    "duration": 902,
    "start_time": "2022-03-08T17:50:48.479Z"
   },
   {
    "duration": 9,
    "start_time": "2022-03-08T17:50:49.385Z"
   },
   {
    "duration": 12,
    "start_time": "2022-03-08T17:50:49.398Z"
   },
   {
    "duration": 15,
    "start_time": "2022-03-08T17:50:49.413Z"
   },
   {
    "duration": 45,
    "start_time": "2022-03-08T17:50:49.431Z"
   },
   {
    "duration": 96,
    "start_time": "2022-03-08T17:50:49.479Z"
   },
   {
    "duration": 12,
    "start_time": "2022-03-08T17:50:49.578Z"
   },
   {
    "duration": 26,
    "start_time": "2022-03-08T17:50:49.593Z"
   },
   {
    "duration": 1017,
    "start_time": "2022-03-08T17:50:49.625Z"
   },
   {
    "duration": 4,
    "start_time": "2022-03-08T17:50:50.646Z"
   },
   {
    "duration": 26,
    "start_time": "2022-03-08T17:50:50.653Z"
   },
   {
    "duration": 849,
    "start_time": "2022-03-08T17:50:50.681Z"
   },
   {
    "duration": 329,
    "start_time": "2022-03-08T17:50:51.533Z"
   },
   {
    "duration": 19,
    "start_time": "2022-03-08T17:50:51.864Z"
   },
   {
    "duration": 16,
    "start_time": "2022-03-08T17:50:51.886Z"
   },
   {
    "duration": 473,
    "start_time": "2022-03-08T17:50:51.905Z"
   },
   {
    "duration": 317,
    "start_time": "2022-03-08T17:50:52.381Z"
   },
   {
    "duration": 16,
    "start_time": "2022-03-08T17:50:52.701Z"
   },
   {
    "duration": 13,
    "start_time": "2022-03-08T17:50:52.720Z"
   },
   {
    "duration": 484,
    "start_time": "2022-03-08T17:50:52.736Z"
   },
   {
    "duration": 219,
    "start_time": "2022-03-08T17:50:53.223Z"
   },
   {
    "duration": 29,
    "start_time": "2022-03-08T17:50:53.444Z"
   },
   {
    "duration": 55,
    "start_time": "2022-03-08T17:50:53.476Z"
   },
   {
    "duration": 79,
    "start_time": "2022-03-08T17:50:53.533Z"
   },
   {
    "duration": 88,
    "start_time": "2022-03-08T17:50:53.615Z"
   },
   {
    "duration": 29,
    "start_time": "2022-03-08T17:50:53.705Z"
   },
   {
    "duration": 40,
    "start_time": "2022-03-08T17:50:53.737Z"
   },
   {
    "duration": 442,
    "start_time": "2022-03-08T17:50:53.780Z"
   },
   {
    "duration": 236,
    "start_time": "2022-03-08T17:50:54.225Z"
   },
   {
    "duration": 17,
    "start_time": "2022-03-08T17:50:54.464Z"
   },
   {
    "duration": 15,
    "start_time": "2022-03-08T17:50:54.484Z"
   },
   {
    "duration": 11,
    "start_time": "2022-03-08T17:50:54.502Z"
   },
   {
    "duration": 5,
    "start_time": "2022-03-08T17:50:54.516Z"
   },
   {
    "duration": 52,
    "start_time": "2022-03-08T17:50:54.524Z"
   },
   {
    "duration": 570,
    "start_time": "2022-03-08T17:50:54.578Z"
   },
   {
    "duration": 224,
    "start_time": "2022-03-08T17:50:55.150Z"
   },
   {
    "duration": 12,
    "start_time": "2022-03-08T17:50:55.376Z"
   },
   {
    "duration": 120,
    "start_time": "2022-03-08T17:50:55.391Z"
   },
   {
    "duration": 591,
    "start_time": "2022-03-08T17:50:55.513Z"
   },
   {
    "duration": 711,
    "start_time": "2022-03-08T17:50:56.107Z"
   },
   {
    "duration": 976,
    "start_time": "2022-03-08T17:50:56.822Z"
   },
   {
    "duration": 808,
    "start_time": "2022-03-08T17:50:57.801Z"
   },
   {
    "duration": 36,
    "start_time": "2022-03-08T17:50:58.612Z"
   },
   {
    "duration": 624,
    "start_time": "2022-03-08T17:50:58.651Z"
   },
   {
    "duration": 455,
    "start_time": "2022-03-08T17:50:59.278Z"
   },
   {
    "duration": 10181,
    "start_time": "2022-03-08T17:50:49.555Z"
   },
   {
    "duration": 10174,
    "start_time": "2022-03-08T17:50:49.564Z"
   },
   {
    "duration": 10167,
    "start_time": "2022-03-08T17:50:49.572Z"
   },
   {
    "duration": 10161,
    "start_time": "2022-03-08T17:50:49.580Z"
   },
   {
    "duration": 10155,
    "start_time": "2022-03-08T17:50:49.588Z"
   },
   {
    "duration": 10144,
    "start_time": "2022-03-08T17:50:49.600Z"
   },
   {
    "duration": 10135,
    "start_time": "2022-03-08T17:50:49.611Z"
   },
   {
    "duration": 10128,
    "start_time": "2022-03-08T17:50:49.619Z"
   },
   {
    "duration": 10121,
    "start_time": "2022-03-08T17:50:49.628Z"
   },
   {
    "duration": 10113,
    "start_time": "2022-03-08T17:50:49.637Z"
   },
   {
    "duration": 95,
    "start_time": "2022-03-08T18:00:30.729Z"
   },
   {
    "duration": 529,
    "start_time": "2022-03-09T18:36:59.165Z"
   },
   {
    "duration": 360,
    "start_time": "2022-03-09T18:37:11.847Z"
   },
   {
    "duration": 1203,
    "start_time": "2022-03-09T18:37:22.102Z"
   },
   {
    "duration": 9,
    "start_time": "2022-03-09T18:37:23.307Z"
   },
   {
    "duration": 59,
    "start_time": "2022-03-09T18:37:23.317Z"
   },
   {
    "duration": 6,
    "start_time": "2022-03-09T18:37:23.377Z"
   },
   {
    "duration": 25,
    "start_time": "2022-03-09T18:37:23.385Z"
   },
   {
    "duration": 10,
    "start_time": "2022-03-09T18:37:23.411Z"
   },
   {
    "duration": 4,
    "start_time": "2022-03-09T18:37:23.422Z"
   },
   {
    "duration": 16,
    "start_time": "2022-03-09T18:37:23.429Z"
   },
   {
    "duration": 5,
    "start_time": "2022-03-09T18:37:23.447Z"
   },
   {
    "duration": 405,
    "start_time": "2022-03-09T18:37:23.454Z"
   },
   {
    "duration": 407,
    "start_time": "2022-03-09T18:37:23.861Z"
   },
   {
    "duration": 7,
    "start_time": "2022-03-09T18:37:24.270Z"
   },
   {
    "duration": 319,
    "start_time": "2022-03-09T18:37:24.278Z"
   },
   {
    "duration": 8,
    "start_time": "2022-03-09T18:37:24.598Z"
   },
   {
    "duration": 441,
    "start_time": "2022-03-09T18:37:24.608Z"
   },
   {
    "duration": 5,
    "start_time": "2022-03-09T18:37:25.051Z"
   },
   {
    "duration": 9,
    "start_time": "2022-03-09T18:37:25.057Z"
   },
   {
    "duration": 6,
    "start_time": "2022-03-09T18:37:25.068Z"
   },
   {
    "duration": 3,
    "start_time": "2022-03-09T18:37:25.076Z"
   },
   {
    "duration": 49,
    "start_time": "2022-03-09T18:37:25.080Z"
   },
   {
    "duration": 6,
    "start_time": "2022-03-09T18:37:25.131Z"
   },
   {
    "duration": 15,
    "start_time": "2022-03-09T18:37:25.138Z"
   },
   {
    "duration": 456,
    "start_time": "2022-03-09T18:37:25.156Z"
   },
   {
    "duration": 2,
    "start_time": "2022-03-09T18:37:25.615Z"
   },
   {
    "duration": 9,
    "start_time": "2022-03-09T18:37:25.619Z"
   },
   {
    "duration": 266,
    "start_time": "2022-03-09T18:37:25.629Z"
   },
   {
    "duration": 126,
    "start_time": "2022-03-09T18:37:25.897Z"
   },
   {
    "duration": 8,
    "start_time": "2022-03-09T18:37:26.024Z"
   },
   {
    "duration": 7,
    "start_time": "2022-03-09T18:37:26.033Z"
   },
   {
    "duration": 244,
    "start_time": "2022-03-09T18:37:26.041Z"
   },
   {
    "duration": 120,
    "start_time": "2022-03-09T18:37:26.286Z"
   },
   {
    "duration": 8,
    "start_time": "2022-03-09T18:37:26.408Z"
   },
   {
    "duration": 6,
    "start_time": "2022-03-09T18:37:26.418Z"
   },
   {
    "duration": 234,
    "start_time": "2022-03-09T18:37:26.425Z"
   },
   {
    "duration": 114,
    "start_time": "2022-03-09T18:37:26.660Z"
   },
   {
    "duration": 8,
    "start_time": "2022-03-09T18:37:26.776Z"
   },
   {
    "duration": 39,
    "start_time": "2022-03-09T18:37:26.785Z"
   },
   {
    "duration": 27,
    "start_time": "2022-03-09T18:37:26.825Z"
   },
   {
    "duration": 34,
    "start_time": "2022-03-09T18:37:26.854Z"
   },
   {
    "duration": 17,
    "start_time": "2022-03-09T18:37:26.905Z"
   },
   {
    "duration": 6,
    "start_time": "2022-03-09T18:37:26.924Z"
   },
   {
    "duration": 246,
    "start_time": "2022-03-09T18:37:26.931Z"
   },
   {
    "duration": 120,
    "start_time": "2022-03-09T18:37:27.179Z"
   },
   {
    "duration": 7,
    "start_time": "2022-03-09T18:37:27.305Z"
   },
   {
    "duration": 9,
    "start_time": "2022-03-09T18:37:27.313Z"
   },
   {
    "duration": 7,
    "start_time": "2022-03-09T18:37:27.323Z"
   },
   {
    "duration": 3,
    "start_time": "2022-03-09T18:37:27.331Z"
   },
   {
    "duration": 8,
    "start_time": "2022-03-09T18:37:27.335Z"
   },
   {
    "duration": 307,
    "start_time": "2022-03-09T18:37:27.344Z"
   },
   {
    "duration": 111,
    "start_time": "2022-03-09T18:37:27.652Z"
   },
   {
    "duration": 7,
    "start_time": "2022-03-09T18:37:27.765Z"
   },
   {
    "duration": 71,
    "start_time": "2022-03-09T18:37:27.773Z"
   },
   {
    "duration": 360,
    "start_time": "2022-03-09T18:37:27.846Z"
   },
   {
    "duration": 436,
    "start_time": "2022-03-09T18:37:28.208Z"
   },
   {
    "duration": 571,
    "start_time": "2022-03-09T18:37:28.645Z"
   },
   {
    "duration": 431,
    "start_time": "2022-03-09T18:37:29.217Z"
   },
   {
    "duration": 20,
    "start_time": "2022-03-09T18:37:29.650Z"
   },
   {
    "duration": 395,
    "start_time": "2022-03-09T18:37:29.671Z"
   },
   {
    "duration": 383,
    "start_time": "2022-03-09T18:37:30.068Z"
   },
   {
    "duration": 8409,
    "start_time": "2022-03-09T18:37:22.044Z"
   },
   {
    "duration": 8403,
    "start_time": "2022-03-09T18:37:22.051Z"
   },
   {
    "duration": 8397,
    "start_time": "2022-03-09T18:37:22.058Z"
   },
   {
    "duration": 8389,
    "start_time": "2022-03-09T18:37:22.066Z"
   },
   {
    "duration": 8384,
    "start_time": "2022-03-09T18:37:22.072Z"
   },
   {
    "duration": 8377,
    "start_time": "2022-03-09T18:37:22.080Z"
   },
   {
    "duration": 8370,
    "start_time": "2022-03-09T18:37:22.088Z"
   },
   {
    "duration": 8364,
    "start_time": "2022-03-09T18:37:22.095Z"
   },
   {
    "duration": 8358,
    "start_time": "2022-03-09T18:37:22.102Z"
   },
   {
    "duration": 8350,
    "start_time": "2022-03-09T18:37:22.110Z"
   },
   {
    "duration": 229,
    "start_time": "2022-03-09T18:37:56.294Z"
   },
   {
    "duration": 104,
    "start_time": "2022-03-09T18:42:41.562Z"
   },
   {
    "duration": 1149,
    "start_time": "2022-03-09T18:53:14.323Z"
   },
   {
    "duration": 8,
    "start_time": "2022-03-09T18:53:15.474Z"
   },
   {
    "duration": 68,
    "start_time": "2022-03-09T18:53:15.484Z"
   },
   {
    "duration": 5,
    "start_time": "2022-03-09T18:53:15.554Z"
   },
   {
    "duration": 8,
    "start_time": "2022-03-09T18:53:15.561Z"
   },
   {
    "duration": 10,
    "start_time": "2022-03-09T18:53:15.570Z"
   },
   {
    "duration": 24,
    "start_time": "2022-03-09T18:53:15.582Z"
   },
   {
    "duration": 17,
    "start_time": "2022-03-09T18:53:15.609Z"
   },
   {
    "duration": 6,
    "start_time": "2022-03-09T18:53:15.628Z"
   },
   {
    "duration": 416,
    "start_time": "2022-03-09T18:53:15.635Z"
   },
   {
    "duration": 423,
    "start_time": "2022-03-09T18:53:16.053Z"
   },
   {
    "duration": 5,
    "start_time": "2022-03-09T18:53:16.478Z"
   },
   {
    "duration": 321,
    "start_time": "2022-03-09T18:53:16.484Z"
   },
   {
    "duration": 4,
    "start_time": "2022-03-09T18:53:16.807Z"
   },
   {
    "duration": 449,
    "start_time": "2022-03-09T18:53:16.813Z"
   },
   {
    "duration": 4,
    "start_time": "2022-03-09T18:53:17.263Z"
   },
   {
    "duration": 5,
    "start_time": "2022-03-09T18:53:17.269Z"
   },
   {
    "duration": 14,
    "start_time": "2022-03-09T18:53:17.275Z"
   },
   {
    "duration": 5,
    "start_time": "2022-03-09T18:53:17.290Z"
   },
   {
    "duration": 36,
    "start_time": "2022-03-09T18:53:17.296Z"
   },
   {
    "duration": 6,
    "start_time": "2022-03-09T18:53:17.334Z"
   },
   {
    "duration": 15,
    "start_time": "2022-03-09T18:53:17.341Z"
   },
   {
    "duration": 502,
    "start_time": "2022-03-09T18:53:17.359Z"
   },
   {
    "duration": 3,
    "start_time": "2022-03-09T18:53:17.863Z"
   },
   {
    "duration": 12,
    "start_time": "2022-03-09T18:53:17.867Z"
   },
   {
    "duration": 268,
    "start_time": "2022-03-09T18:53:17.880Z"
   },
   {
    "duration": 127,
    "start_time": "2022-03-09T18:53:18.149Z"
   },
   {
    "duration": 8,
    "start_time": "2022-03-09T18:53:18.277Z"
   },
   {
    "duration": 20,
    "start_time": "2022-03-09T18:53:18.287Z"
   },
   {
    "duration": 240,
    "start_time": "2022-03-09T18:53:18.308Z"
   },
   {
    "duration": 117,
    "start_time": "2022-03-09T18:53:18.550Z"
   },
   {
    "duration": 10,
    "start_time": "2022-03-09T18:53:18.669Z"
   },
   {
    "duration": 7,
    "start_time": "2022-03-09T18:53:18.681Z"
   },
   {
    "duration": 217,
    "start_time": "2022-03-09T18:53:18.705Z"
   },
   {
    "duration": 112,
    "start_time": "2022-03-09T18:53:18.924Z"
   },
   {
    "duration": 8,
    "start_time": "2022-03-09T18:53:19.037Z"
   },
   {
    "duration": 27,
    "start_time": "2022-03-09T18:53:19.046Z"
   },
   {
    "duration": 48,
    "start_time": "2022-03-09T18:53:19.074Z"
   },
   {
    "duration": 36,
    "start_time": "2022-03-09T18:53:19.124Z"
   },
   {
    "duration": 16,
    "start_time": "2022-03-09T18:53:19.162Z"
   },
   {
    "duration": 26,
    "start_time": "2022-03-09T18:53:19.179Z"
   },
   {
    "duration": 227,
    "start_time": "2022-03-09T18:53:19.206Z"
   },
   {
    "duration": 119,
    "start_time": "2022-03-09T18:53:19.434Z"
   },
   {
    "duration": 7,
    "start_time": "2022-03-09T18:53:19.555Z"
   },
   {
    "duration": 9,
    "start_time": "2022-03-09T18:53:19.563Z"
   },
   {
    "duration": 6,
    "start_time": "2022-03-09T18:53:19.573Z"
   },
   {
    "duration": 2,
    "start_time": "2022-03-09T18:53:19.581Z"
   },
   {
    "duration": 6,
    "start_time": "2022-03-09T18:53:19.605Z"
   },
   {
    "duration": 403,
    "start_time": "2022-03-09T18:53:19.612Z"
   },
   {
    "duration": 116,
    "start_time": "2022-03-09T18:53:20.017Z"
   },
   {
    "duration": 7,
    "start_time": "2022-03-09T18:53:20.135Z"
   },
   {
    "duration": 71,
    "start_time": "2022-03-09T18:53:20.143Z"
   },
   {
    "duration": 348,
    "start_time": "2022-03-09T18:53:20.215Z"
   },
   {
    "duration": 434,
    "start_time": "2022-03-09T18:53:20.565Z"
   },
   {
    "duration": 549,
    "start_time": "2022-03-09T18:53:21.000Z"
   },
   {
    "duration": 413,
    "start_time": "2022-03-09T18:53:21.551Z"
   },
   {
    "duration": 22,
    "start_time": "2022-03-09T18:53:21.966Z"
   },
   {
    "duration": 302,
    "start_time": "2022-03-09T18:53:21.990Z"
   },
   {
    "duration": 366,
    "start_time": "2022-03-09T18:53:22.293Z"
   },
   {
    "duration": 10888,
    "start_time": "2022-03-09T18:53:11.773Z"
   },
   {
    "duration": 10881,
    "start_time": "2022-03-09T18:53:11.781Z"
   },
   {
    "duration": 10874,
    "start_time": "2022-03-09T18:53:11.789Z"
   },
   {
    "duration": 10868,
    "start_time": "2022-03-09T18:53:11.796Z"
   },
   {
    "duration": 10861,
    "start_time": "2022-03-09T18:53:11.804Z"
   },
   {
    "duration": 10852,
    "start_time": "2022-03-09T18:53:11.814Z"
   },
   {
    "duration": 10845,
    "start_time": "2022-03-09T18:53:11.821Z"
   },
   {
    "duration": 10838,
    "start_time": "2022-03-09T18:53:11.829Z"
   },
   {
    "duration": 10832,
    "start_time": "2022-03-09T18:53:11.836Z"
   },
   {
    "duration": 10824,
    "start_time": "2022-03-09T18:53:11.845Z"
   },
   {
    "duration": 286,
    "start_time": "2022-03-09T18:53:36.523Z"
   },
   {
    "duration": 276,
    "start_time": "2022-03-09T18:54:21.562Z"
   },
   {
    "duration": 304,
    "start_time": "2022-03-09T18:54:26.835Z"
   },
   {
    "duration": 3692,
    "start_time": "2022-03-09T18:57:00.758Z"
   },
   {
    "duration": 11458,
    "start_time": "2022-03-09T18:56:52.994Z"
   },
   {
    "duration": 4,
    "start_time": "2022-03-09T18:58:02.495Z"
   },
   {
    "duration": 5034,
    "start_time": "2022-03-09T18:58:06.290Z"
   },
   {
    "duration": 11274,
    "start_time": "2022-03-09T18:58:00.052Z"
   },
   {
    "duration": 1195,
    "start_time": "2022-03-09T18:58:31.606Z"
   },
   {
    "duration": 9,
    "start_time": "2022-03-09T18:58:32.802Z"
   },
   {
    "duration": 58,
    "start_time": "2022-03-09T18:58:32.813Z"
   },
   {
    "duration": 6,
    "start_time": "2022-03-09T18:58:32.873Z"
   },
   {
    "duration": 25,
    "start_time": "2022-03-09T18:58:32.880Z"
   },
   {
    "duration": 8,
    "start_time": "2022-03-09T18:58:32.906Z"
   },
   {
    "duration": 3,
    "start_time": "2022-03-09T18:58:32.916Z"
   },
   {
    "duration": 16,
    "start_time": "2022-03-09T18:58:32.921Z"
   },
   {
    "duration": 5,
    "start_time": "2022-03-09T18:58:32.940Z"
   },
   {
    "duration": 600,
    "start_time": "2022-03-09T18:58:32.947Z"
   },
   {
    "duration": 520,
    "start_time": "2022-03-09T18:58:33.548Z"
   },
   {
    "duration": 5,
    "start_time": "2022-03-09T18:58:34.069Z"
   },
   {
    "duration": 304,
    "start_time": "2022-03-09T18:58:34.076Z"
   },
   {
    "duration": 3,
    "start_time": "2022-03-09T18:58:34.382Z"
   },
   {
    "duration": 456,
    "start_time": "2022-03-09T18:58:34.387Z"
   },
   {
    "duration": 4,
    "start_time": "2022-03-09T18:58:34.845Z"
   },
   {
    "duration": 9,
    "start_time": "2022-03-09T18:58:34.851Z"
   },
   {
    "duration": 7,
    "start_time": "2022-03-09T18:58:34.861Z"
   },
   {
    "duration": 3,
    "start_time": "2022-03-09T18:58:34.869Z"
   },
   {
    "duration": 52,
    "start_time": "2022-03-09T18:58:34.874Z"
   },
   {
    "duration": 7,
    "start_time": "2022-03-09T18:58:34.927Z"
   },
   {
    "duration": 15,
    "start_time": "2022-03-09T18:58:34.935Z"
   },
   {
    "duration": 451,
    "start_time": "2022-03-09T18:58:34.952Z"
   },
   {
    "duration": 3,
    "start_time": "2022-03-09T18:58:35.405Z"
   },
   {
    "duration": 26,
    "start_time": "2022-03-09T18:58:35.409Z"
   },
   {
    "duration": 273,
    "start_time": "2022-03-09T18:58:35.437Z"
   },
   {
    "duration": 140,
    "start_time": "2022-03-09T18:58:35.714Z"
   },
   {
    "duration": 8,
    "start_time": "2022-03-09T18:58:35.856Z"
   },
   {
    "duration": 7,
    "start_time": "2022-03-09T18:58:35.865Z"
   },
   {
    "duration": 257,
    "start_time": "2022-03-09T18:58:35.874Z"
   },
   {
    "duration": 114,
    "start_time": "2022-03-09T18:58:36.132Z"
   },
   {
    "duration": 9,
    "start_time": "2022-03-09T18:58:36.248Z"
   },
   {
    "duration": 7,
    "start_time": "2022-03-09T18:58:36.258Z"
   },
   {
    "duration": 239,
    "start_time": "2022-03-09T18:58:36.266Z"
   },
   {
    "duration": 109,
    "start_time": "2022-03-09T18:58:36.506Z"
   },
   {
    "duration": 7,
    "start_time": "2022-03-09T18:58:36.616Z"
   },
   {
    "duration": 25,
    "start_time": "2022-03-09T18:58:36.625Z"
   },
   {
    "duration": 26,
    "start_time": "2022-03-09T18:58:36.652Z"
   },
   {
    "duration": 58,
    "start_time": "2022-03-09T18:58:36.680Z"
   },
   {
    "duration": 15,
    "start_time": "2022-03-09T18:58:36.740Z"
   },
   {
    "duration": 7,
    "start_time": "2022-03-09T18:58:36.756Z"
   },
   {
    "duration": 243,
    "start_time": "2022-03-09T18:58:36.764Z"
   },
   {
    "duration": 124,
    "start_time": "2022-03-09T18:58:37.009Z"
   },
   {
    "duration": 7,
    "start_time": "2022-03-09T18:58:37.134Z"
   },
   {
    "duration": 10,
    "start_time": "2022-03-09T18:58:37.142Z"
   },
   {
    "duration": 7,
    "start_time": "2022-03-09T18:58:37.154Z"
   },
   {
    "duration": 3,
    "start_time": "2022-03-09T18:58:37.163Z"
   },
   {
    "duration": 40,
    "start_time": "2022-03-09T18:58:37.168Z"
   },
   {
    "duration": 320,
    "start_time": "2022-03-09T18:58:37.210Z"
   },
   {
    "duration": 121,
    "start_time": "2022-03-09T18:58:37.532Z"
   },
   {
    "duration": 8,
    "start_time": "2022-03-09T18:58:37.655Z"
   },
   {
    "duration": 78,
    "start_time": "2022-03-09T18:58:37.664Z"
   },
   {
    "duration": 353,
    "start_time": "2022-03-09T18:58:37.744Z"
   },
   {
    "duration": 412,
    "start_time": "2022-03-09T18:58:38.098Z"
   },
   {
    "duration": 554,
    "start_time": "2022-03-09T18:58:38.512Z"
   },
   {
    "duration": 463,
    "start_time": "2022-03-09T18:58:39.067Z"
   },
   {
    "duration": 20,
    "start_time": "2022-03-09T18:58:39.531Z"
   },
   {
    "duration": 298,
    "start_time": "2022-03-09T18:58:39.553Z"
   },
   {
    "duration": 4,
    "start_time": "2022-03-09T18:58:39.852Z"
   },
   {
    "duration": 4566,
    "start_time": "2022-03-09T18:58:39.858Z"
   },
   {
    "duration": 11441,
    "start_time": "2022-03-09T18:58:32.985Z"
   },
   {
    "duration": 11435,
    "start_time": "2022-03-09T18:58:32.992Z"
   },
   {
    "duration": 11428,
    "start_time": "2022-03-09T18:58:32.999Z"
   },
   {
    "duration": 11422,
    "start_time": "2022-03-09T18:58:33.006Z"
   },
   {
    "duration": 11416,
    "start_time": "2022-03-09T18:58:33.013Z"
   },
   {
    "duration": 11409,
    "start_time": "2022-03-09T18:58:33.020Z"
   },
   {
    "duration": 11402,
    "start_time": "2022-03-09T18:58:33.028Z"
   },
   {
    "duration": 11396,
    "start_time": "2022-03-09T18:58:33.035Z"
   },
   {
    "duration": 11389,
    "start_time": "2022-03-09T18:58:33.042Z"
   },
   {
    "duration": 4472,
    "start_time": "2022-03-09T18:59:00.041Z"
   },
   {
    "duration": 4574,
    "start_time": "2022-03-09T18:59:09.505Z"
   },
   {
    "duration": 215,
    "start_time": "2022-03-09T18:59:45.817Z"
   },
   {
    "duration": 125,
    "start_time": "2022-03-09T19:00:16.526Z"
   },
   {
    "duration": 230,
    "start_time": "2022-03-09T19:00:20.605Z"
   },
   {
    "duration": 4150,
    "start_time": "2022-03-09T19:01:08.685Z"
   },
   {
    "duration": 1215,
    "start_time": "2022-03-09T19:01:40.240Z"
   },
   {
    "duration": 9,
    "start_time": "2022-03-09T19:01:41.457Z"
   },
   {
    "duration": 67,
    "start_time": "2022-03-09T19:01:41.468Z"
   },
   {
    "duration": 6,
    "start_time": "2022-03-09T19:01:41.536Z"
   },
   {
    "duration": 8,
    "start_time": "2022-03-09T19:01:41.543Z"
   },
   {
    "duration": 9,
    "start_time": "2022-03-09T19:01:41.552Z"
   },
   {
    "duration": 3,
    "start_time": "2022-03-09T19:01:41.563Z"
   },
   {
    "duration": 45,
    "start_time": "2022-03-09T19:01:41.568Z"
   },
   {
    "duration": 4,
    "start_time": "2022-03-09T19:01:41.617Z"
   },
   {
    "duration": 395,
    "start_time": "2022-03-09T19:01:41.624Z"
   },
   {
    "duration": 495,
    "start_time": "2022-03-09T19:01:42.021Z"
   },
   {
    "duration": 7,
    "start_time": "2022-03-09T19:01:42.518Z"
   },
   {
    "duration": 531,
    "start_time": "2022-03-09T19:01:42.527Z"
   },
   {
    "duration": 4,
    "start_time": "2022-03-09T19:01:43.060Z"
   },
   {
    "duration": 520,
    "start_time": "2022-03-09T19:01:43.066Z"
   },
   {
    "duration": 6,
    "start_time": "2022-03-09T19:01:43.588Z"
   },
   {
    "duration": 13,
    "start_time": "2022-03-09T19:01:43.595Z"
   },
   {
    "duration": 15,
    "start_time": "2022-03-09T19:01:43.610Z"
   },
   {
    "duration": 4,
    "start_time": "2022-03-09T19:01:43.627Z"
   },
   {
    "duration": 38,
    "start_time": "2022-03-09T19:01:43.633Z"
   },
   {
    "duration": 33,
    "start_time": "2022-03-09T19:01:43.673Z"
   },
   {
    "duration": 20,
    "start_time": "2022-03-09T19:01:43.708Z"
   },
   {
    "duration": 626,
    "start_time": "2022-03-09T19:01:43.730Z"
   },
   {
    "duration": 3,
    "start_time": "2022-03-09T19:01:44.358Z"
   },
   {
    "duration": 13,
    "start_time": "2022-03-09T19:01:44.363Z"
   },
   {
    "duration": 316,
    "start_time": "2022-03-09T19:01:44.377Z"
   },
   {
    "duration": 149,
    "start_time": "2022-03-09T19:01:44.698Z"
   },
   {
    "duration": 9,
    "start_time": "2022-03-09T19:01:44.850Z"
   },
   {
    "duration": 9,
    "start_time": "2022-03-09T19:01:44.861Z"
   },
   {
    "duration": 298,
    "start_time": "2022-03-09T19:01:44.871Z"
   },
   {
    "duration": 147,
    "start_time": "2022-03-09T19:01:45.171Z"
   },
   {
    "duration": 11,
    "start_time": "2022-03-09T19:01:45.320Z"
   },
   {
    "duration": 9,
    "start_time": "2022-03-09T19:01:45.334Z"
   },
   {
    "duration": 331,
    "start_time": "2022-03-09T19:01:45.345Z"
   },
   {
    "duration": 123,
    "start_time": "2022-03-09T19:01:45.678Z"
   },
   {
    "duration": 9,
    "start_time": "2022-03-09T19:01:45.802Z"
   },
   {
    "duration": 31,
    "start_time": "2022-03-09T19:01:45.813Z"
   },
   {
    "duration": 33,
    "start_time": "2022-03-09T19:01:45.846Z"
   },
   {
    "duration": 64,
    "start_time": "2022-03-09T19:01:45.881Z"
   },
   {
    "duration": 19,
    "start_time": "2022-03-09T19:01:45.946Z"
   },
   {
    "duration": 7,
    "start_time": "2022-03-09T19:01:45.966Z"
   },
   {
    "duration": 276,
    "start_time": "2022-03-09T19:01:45.975Z"
   },
   {
    "duration": 136,
    "start_time": "2022-03-09T19:01:46.253Z"
   },
   {
    "duration": 17,
    "start_time": "2022-03-09T19:01:46.391Z"
   },
   {
    "duration": 11,
    "start_time": "2022-03-09T19:01:46.410Z"
   },
   {
    "duration": 9,
    "start_time": "2022-03-09T19:01:46.422Z"
   },
   {
    "duration": 3,
    "start_time": "2022-03-09T19:01:46.433Z"
   },
   {
    "duration": 9,
    "start_time": "2022-03-09T19:01:46.438Z"
   },
   {
    "duration": 367,
    "start_time": "2022-03-09T19:01:46.449Z"
   },
   {
    "duration": 137,
    "start_time": "2022-03-09T19:01:46.817Z"
   },
   {
    "duration": 10,
    "start_time": "2022-03-09T19:01:46.955Z"
   },
   {
    "duration": 82,
    "start_time": "2022-03-09T19:01:46.966Z"
   },
   {
    "duration": 437,
    "start_time": "2022-03-09T19:01:47.050Z"
   },
   {
    "duration": 465,
    "start_time": "2022-03-09T19:01:47.489Z"
   },
   {
    "duration": 604,
    "start_time": "2022-03-09T19:01:47.956Z"
   },
   {
    "duration": 434,
    "start_time": "2022-03-09T19:01:48.561Z"
   },
   {
    "duration": 26,
    "start_time": "2022-03-09T19:01:48.997Z"
   },
   {
    "duration": 405,
    "start_time": "2022-03-09T19:01:49.024Z"
   },
   {
    "duration": 4319,
    "start_time": "2022-03-09T19:01:49.431Z"
   },
   {
    "duration": 11429,
    "start_time": "2022-03-09T19:01:42.323Z"
   },
   {
    "duration": 11424,
    "start_time": "2022-03-09T19:01:42.329Z"
   },
   {
    "duration": 11416,
    "start_time": "2022-03-09T19:01:42.338Z"
   },
   {
    "duration": 11409,
    "start_time": "2022-03-09T19:01:42.346Z"
   },
   {
    "duration": 11403,
    "start_time": "2022-03-09T19:01:42.353Z"
   },
   {
    "duration": 11383,
    "start_time": "2022-03-09T19:01:42.373Z"
   },
   {
    "duration": 11375,
    "start_time": "2022-03-09T19:01:42.382Z"
   },
   {
    "duration": 11368,
    "start_time": "2022-03-09T19:01:42.390Z"
   },
   {
    "duration": 11362,
    "start_time": "2022-03-09T19:01:42.397Z"
   },
   {
    "duration": 11354,
    "start_time": "2022-03-09T19:01:42.405Z"
   },
   {
    "duration": 4,
    "start_time": "2022-03-09T19:03:04.080Z"
   },
   {
    "duration": 285,
    "start_time": "2022-03-09T19:03:18.160Z"
   },
   {
    "duration": 5,
    "start_time": "2022-03-09T19:04:45.861Z"
   },
   {
    "duration": 4078,
    "start_time": "2022-03-09T19:04:50.172Z"
   },
   {
    "duration": 3847,
    "start_time": "2022-03-09T19:07:31.501Z"
   },
   {
    "duration": 4267,
    "start_time": "2022-03-09T19:08:25.511Z"
   },
   {
    "duration": 1169,
    "start_time": "2022-03-09T19:08:40.131Z"
   },
   {
    "duration": 9,
    "start_time": "2022-03-09T19:08:41.302Z"
   },
   {
    "duration": 58,
    "start_time": "2022-03-09T19:08:41.313Z"
   },
   {
    "duration": 5,
    "start_time": "2022-03-09T19:08:41.373Z"
   },
   {
    "duration": 25,
    "start_time": "2022-03-09T19:08:41.380Z"
   },
   {
    "duration": 8,
    "start_time": "2022-03-09T19:08:41.407Z"
   },
   {
    "duration": 2,
    "start_time": "2022-03-09T19:08:41.417Z"
   },
   {
    "duration": 14,
    "start_time": "2022-03-09T19:08:41.422Z"
   },
   {
    "duration": 5,
    "start_time": "2022-03-09T19:08:41.438Z"
   },
   {
    "duration": 396,
    "start_time": "2022-03-09T19:08:41.444Z"
   },
   {
    "duration": 418,
    "start_time": "2022-03-09T19:08:41.841Z"
   },
   {
    "duration": 5,
    "start_time": "2022-03-09T19:08:42.260Z"
   },
   {
    "duration": 306,
    "start_time": "2022-03-09T19:08:42.267Z"
   },
   {
    "duration": 4,
    "start_time": "2022-03-09T19:08:42.574Z"
   },
   {
    "duration": 451,
    "start_time": "2022-03-09T19:08:42.579Z"
   },
   {
    "duration": 5,
    "start_time": "2022-03-09T19:08:43.031Z"
   },
   {
    "duration": 6,
    "start_time": "2022-03-09T19:08:43.037Z"
   },
   {
    "duration": 7,
    "start_time": "2022-03-09T19:08:43.044Z"
   },
   {
    "duration": 2,
    "start_time": "2022-03-09T19:08:43.053Z"
   },
   {
    "duration": 50,
    "start_time": "2022-03-09T19:08:43.057Z"
   },
   {
    "duration": 7,
    "start_time": "2022-03-09T19:08:43.108Z"
   },
   {
    "duration": 12,
    "start_time": "2022-03-09T19:08:43.117Z"
   },
   {
    "duration": 445,
    "start_time": "2022-03-09T19:08:43.132Z"
   },
   {
    "duration": 3,
    "start_time": "2022-03-09T19:08:43.580Z"
   },
   {
    "duration": 21,
    "start_time": "2022-03-09T19:08:43.585Z"
   },
   {
    "duration": 262,
    "start_time": "2022-03-09T19:08:43.607Z"
   },
   {
    "duration": 131,
    "start_time": "2022-03-09T19:08:43.871Z"
   },
   {
    "duration": 10,
    "start_time": "2022-03-09T19:08:44.003Z"
   },
   {
    "duration": 7,
    "start_time": "2022-03-09T19:08:44.014Z"
   },
   {
    "duration": 245,
    "start_time": "2022-03-09T19:08:44.023Z"
   },
   {
    "duration": 116,
    "start_time": "2022-03-09T19:08:44.270Z"
   },
   {
    "duration": 17,
    "start_time": "2022-03-09T19:08:44.388Z"
   },
   {
    "duration": 7,
    "start_time": "2022-03-09T19:08:44.406Z"
   },
   {
    "duration": 228,
    "start_time": "2022-03-09T19:08:44.414Z"
   },
   {
    "duration": 112,
    "start_time": "2022-03-09T19:08:44.643Z"
   },
   {
    "duration": 8,
    "start_time": "2022-03-09T19:08:44.756Z"
   },
   {
    "duration": 26,
    "start_time": "2022-03-09T19:08:44.766Z"
   },
   {
    "duration": 37,
    "start_time": "2022-03-09T19:08:44.793Z"
   },
   {
    "duration": 35,
    "start_time": "2022-03-09T19:08:44.831Z"
   },
   {
    "duration": 15,
    "start_time": "2022-03-09T19:08:44.867Z"
   },
   {
    "duration": 7,
    "start_time": "2022-03-09T19:08:44.905Z"
   },
   {
    "duration": 235,
    "start_time": "2022-03-09T19:08:44.914Z"
   },
   {
    "duration": 120,
    "start_time": "2022-03-09T19:08:45.151Z"
   },
   {
    "duration": 8,
    "start_time": "2022-03-09T19:08:45.272Z"
   },
   {
    "duration": 12,
    "start_time": "2022-03-09T19:08:45.281Z"
   },
   {
    "duration": 16,
    "start_time": "2022-03-09T19:08:45.294Z"
   },
   {
    "duration": 3,
    "start_time": "2022-03-09T19:08:45.312Z"
   },
   {
    "duration": 8,
    "start_time": "2022-03-09T19:08:45.316Z"
   },
   {
    "duration": 314,
    "start_time": "2022-03-09T19:08:45.326Z"
   },
   {
    "duration": 116,
    "start_time": "2022-03-09T19:08:45.642Z"
   },
   {
    "duration": 7,
    "start_time": "2022-03-09T19:08:45.759Z"
   },
   {
    "duration": 65,
    "start_time": "2022-03-09T19:08:45.768Z"
   },
   {
    "duration": 363,
    "start_time": "2022-03-09T19:08:45.835Z"
   },
   {
    "duration": 440,
    "start_time": "2022-03-09T19:08:46.200Z"
   },
   {
    "duration": 571,
    "start_time": "2022-03-09T19:08:46.642Z"
   },
   {
    "duration": 510,
    "start_time": "2022-03-09T19:08:47.214Z"
   },
   {
    "duration": 19,
    "start_time": "2022-03-09T19:08:47.726Z"
   },
   {
    "duration": 298,
    "start_time": "2022-03-09T19:08:47.747Z"
   },
   {
    "duration": 5,
    "start_time": "2022-03-09T19:08:48.047Z"
   },
   {
    "duration": 4267,
    "start_time": "2022-03-09T19:08:48.053Z"
   },
   {
    "duration": 11328,
    "start_time": "2022-03-09T19:08:40.994Z"
   },
   {
    "duration": 11320,
    "start_time": "2022-03-09T19:08:41.003Z"
   },
   {
    "duration": 11311,
    "start_time": "2022-03-09T19:08:41.013Z"
   },
   {
    "duration": 11302,
    "start_time": "2022-03-09T19:08:41.023Z"
   },
   {
    "duration": 11290,
    "start_time": "2022-03-09T19:08:41.036Z"
   },
   {
    "duration": 11281,
    "start_time": "2022-03-09T19:08:41.046Z"
   },
   {
    "duration": 11271,
    "start_time": "2022-03-09T19:08:41.056Z"
   },
   {
    "duration": 11265,
    "start_time": "2022-03-09T19:08:41.063Z"
   },
   {
    "duration": 11254,
    "start_time": "2022-03-09T19:08:41.075Z"
   },
   {
    "duration": 3767,
    "start_time": "2022-03-09T19:14:22.059Z"
   },
   {
    "duration": 3745,
    "start_time": "2022-03-09T19:14:43.977Z"
   },
   {
    "duration": 3903,
    "start_time": "2022-03-09T19:15:12.657Z"
   },
   {
    "duration": 5,
    "start_time": "2022-03-09T19:16:56.685Z"
   },
   {
    "duration": 3906,
    "start_time": "2022-03-09T19:16:59.217Z"
   },
   {
    "duration": 5,
    "start_time": "2022-03-09T19:33:54.570Z"
   },
   {
    "duration": 6,
    "start_time": "2022-03-09T19:45:35.757Z"
   },
   {
    "duration": 221,
    "start_time": "2022-03-09T19:45:46.398Z"
   },
   {
    "duration": 227,
    "start_time": "2022-03-09T19:45:52.398Z"
   },
   {
    "duration": 213,
    "start_time": "2022-03-09T19:45:55.837Z"
   },
   {
    "duration": 283,
    "start_time": "2022-03-09T19:45:58.618Z"
   },
   {
    "duration": 193,
    "start_time": "2022-03-09T19:47:56.338Z"
   },
   {
    "duration": 11,
    "start_time": "2022-03-10T08:20:11.938Z"
   }
  ],
  "kernelspec": {
   "display_name": "Python 3 (ipykernel)",
   "language": "python",
   "name": "python3"
  },
  "language_info": {
   "codemirror_mode": {
    "name": "ipython",
    "version": 3
   },
   "file_extension": ".py",
   "mimetype": "text/x-python",
   "name": "python",
   "nbconvert_exporter": "python",
   "pygments_lexer": "ipython3",
   "version": "3.10.5"
  },
  "toc": {
   "base_numbering": 1,
   "nav_menu": {},
   "number_sections": true,
   "sideBar": true,
   "skip_h1_title": true,
   "title_cell": "Содержание",
   "title_sidebar": "Contents",
   "toc_cell": true,
   "toc_position": {
    "height": "calc(100% - 180px)",
    "left": "10px",
    "top": "150px",
    "width": "165px"
   },
   "toc_section_display": true,
   "toc_window_display": true
  }
 },
 "nbformat": 4,
 "nbformat_minor": 4
}
