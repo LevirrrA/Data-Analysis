{
 "cells": [
  {
   "cell_type": "markdown",
   "metadata": {},
   "source": [
    "# Описание проекта\n",
    "\n",
    "## Задача\n",
    "\n",
    "Сеть фитнес-центров «Культурист-датасаентист» разрабатывает стратегию взаимодействия с клиентами на основе аналитических данных. Распространённая проблема фитнес-клубов и других сервисов — отток клиентов. Для фитнес-центра можно считать, что клиент попал в отток, если за последний месяц ни разу не посетил спортзал. Чтобы бороться с оттоком, отдел по работе с клиентами «Культуриста-датасаентиста» перевёл в электронный вид множество клиентских анкет. \n",
    "\n",
    "Задача — провести анализ и подготовить план действий по удержанию клиентов. А именно:\n",
    "* научиться прогнозировать вероятность оттока (на уровне следующего месяца) для каждого клиента;\n",
    "* сформировать типичные портреты клиентов: выделить несколько наиболее ярких групп и охарактеризовать их основные свойства;\n",
    "* проанализировать основные признаки, наиболее сильно влияющие на отток;\n",
    "* сформулировать основные выводы и разработать рекомендации по повышению качества работы с клиентами.\n",
    "\n",
    "Выводы и рекомендации включают следующие пункты: 1) выделить целевые группы клиентов; 2) предложить меры по снижению оттока; 3) определить другие особенности взаимодействия с клиентами.\n",
    "\n",
    "## Описание данных\n",
    "\n",
    "Набор данных включает следующие поля:\n",
    "\n",
    "**Данные клиента за предыдущий до проверки факта оттока месяц:**\n",
    "* 'gender' — пол;\n",
    "* 'Near_Location' — проживание или работа в районе, где находится фитнес-центр;\n",
    "* 'Partner' — сотрудник компании-партнёра клуба (сотрудничество с компаниями, чьи сотрудники могут получать скидки на абонемент — в таком случае фитнес-центр хранит информацию о работодателе клиента);\n",
    "* Promo_friends — факт первоначальной записи в рамках акции «приведи друга» (использовал промо-код от знакомого при оплате первого абонемента);\n",
    "* 'Phone' — наличие контактного телефона;\n",
    "* 'Age' — возраст;\n",
    "* 'Lifetime' — время с момента первого обращения в фитнес-центр (в месяцах).\n",
    "\n",
    "**Информация на основе журнала посещений, покупок и информация о текущем статусе абонемента клиента:**\n",
    "\n",
    "* 'Contract_period' — длительность текущего действующего абонемента (месяц, 6 месяцев, год);\n",
    "* 'Month_to_end_contract' — срок до окончания текущего действующего абонемента (в месяцах);\n",
    "* 'Group_visits' — факт посещения групповых занятий;\n",
    "* 'Avg_class_frequency_total' — средняя частота посещений в неделю за все время с начала действия абонемента;\n",
    "* 'Avg_class_frequency_current_month' — средняя частота посещений в неделю за предыдущий месяц;\n",
    "* 'Avg_additional_charges_total' — суммарная выручка от других услуг фитнес-центра: кафе, спорттовары, косметический и массажный салон.\n",
    "\n",
    "* 'Churn' — факт оттока в текущем месяце.\n",
    "\n",
    "## Шаг 1. Загрузка и предобработка данных\n",
    "\n",
    "Первым делом импортируем нужные библиотеки и читаем файл."
   ]
  },
  {
   "cell_type": "code",
   "execution_count": 1,
   "metadata": {},
   "outputs": [
    {
     "data": {
      "text/html": [
       "<div>\n",
       "<style scoped>\n",
       "    .dataframe tbody tr th:only-of-type {\n",
       "        vertical-align: middle;\n",
       "    }\n",
       "\n",
       "    .dataframe tbody tr th {\n",
       "        vertical-align: top;\n",
       "    }\n",
       "\n",
       "    .dataframe thead th {\n",
       "        text-align: right;\n",
       "    }\n",
       "</style>\n",
       "<table border=\"1\" class=\"dataframe\">\n",
       "  <thead>\n",
       "    <tr style=\"text-align: right;\">\n",
       "      <th></th>\n",
       "      <th>gender</th>\n",
       "      <th>Near_Location</th>\n",
       "      <th>Partner</th>\n",
       "      <th>Promo_friends</th>\n",
       "      <th>Phone</th>\n",
       "      <th>Contract_period</th>\n",
       "      <th>Group_visits</th>\n",
       "      <th>Age</th>\n",
       "      <th>Avg_additional_charges_total</th>\n",
       "      <th>Month_to_end_contract</th>\n",
       "      <th>Lifetime</th>\n",
       "      <th>Avg_class_frequency_total</th>\n",
       "      <th>Avg_class_frequency_current_month</th>\n",
       "      <th>Churn</th>\n",
       "    </tr>\n",
       "  </thead>\n",
       "  <tbody>\n",
       "    <tr>\n",
       "      <th>0</th>\n",
       "      <td>1</td>\n",
       "      <td>1</td>\n",
       "      <td>1</td>\n",
       "      <td>1</td>\n",
       "      <td>0</td>\n",
       "      <td>6</td>\n",
       "      <td>1</td>\n",
       "      <td>29</td>\n",
       "      <td>14.227470</td>\n",
       "      <td>5.0</td>\n",
       "      <td>3</td>\n",
       "      <td>0.020398</td>\n",
       "      <td>0.000000</td>\n",
       "      <td>0</td>\n",
       "    </tr>\n",
       "    <tr>\n",
       "      <th>1</th>\n",
       "      <td>0</td>\n",
       "      <td>1</td>\n",
       "      <td>0</td>\n",
       "      <td>0</td>\n",
       "      <td>1</td>\n",
       "      <td>12</td>\n",
       "      <td>1</td>\n",
       "      <td>31</td>\n",
       "      <td>113.202938</td>\n",
       "      <td>12.0</td>\n",
       "      <td>7</td>\n",
       "      <td>1.922936</td>\n",
       "      <td>1.910244</td>\n",
       "      <td>0</td>\n",
       "    </tr>\n",
       "    <tr>\n",
       "      <th>2</th>\n",
       "      <td>0</td>\n",
       "      <td>1</td>\n",
       "      <td>1</td>\n",
       "      <td>0</td>\n",
       "      <td>1</td>\n",
       "      <td>1</td>\n",
       "      <td>0</td>\n",
       "      <td>28</td>\n",
       "      <td>129.448479</td>\n",
       "      <td>1.0</td>\n",
       "      <td>2</td>\n",
       "      <td>1.859098</td>\n",
       "      <td>1.736502</td>\n",
       "      <td>0</td>\n",
       "    </tr>\n",
       "    <tr>\n",
       "      <th>3</th>\n",
       "      <td>0</td>\n",
       "      <td>1</td>\n",
       "      <td>1</td>\n",
       "      <td>1</td>\n",
       "      <td>1</td>\n",
       "      <td>12</td>\n",
       "      <td>1</td>\n",
       "      <td>33</td>\n",
       "      <td>62.669863</td>\n",
       "      <td>12.0</td>\n",
       "      <td>2</td>\n",
       "      <td>3.205633</td>\n",
       "      <td>3.357215</td>\n",
       "      <td>0</td>\n",
       "    </tr>\n",
       "    <tr>\n",
       "      <th>4</th>\n",
       "      <td>1</td>\n",
       "      <td>1</td>\n",
       "      <td>1</td>\n",
       "      <td>1</td>\n",
       "      <td>1</td>\n",
       "      <td>1</td>\n",
       "      <td>0</td>\n",
       "      <td>26</td>\n",
       "      <td>198.362265</td>\n",
       "      <td>1.0</td>\n",
       "      <td>3</td>\n",
       "      <td>1.113884</td>\n",
       "      <td>1.120078</td>\n",
       "      <td>0</td>\n",
       "    </tr>\n",
       "  </tbody>\n",
       "</table>\n",
       "</div>"
      ],
      "text/plain": [
       "   gender  Near_Location  Partner  Promo_friends  Phone  Contract_period  \\\n",
       "0       1              1        1              1      0                6   \n",
       "1       0              1        0              0      1               12   \n",
       "2       0              1        1              0      1                1   \n",
       "3       0              1        1              1      1               12   \n",
       "4       1              1        1              1      1                1   \n",
       "\n",
       "   Group_visits  Age  Avg_additional_charges_total  Month_to_end_contract  \\\n",
       "0             1   29                     14.227470                    5.0   \n",
       "1             1   31                    113.202938                   12.0   \n",
       "2             0   28                    129.448479                    1.0   \n",
       "3             1   33                     62.669863                   12.0   \n",
       "4             0   26                    198.362265                    1.0   \n",
       "\n",
       "   Lifetime  Avg_class_frequency_total  Avg_class_frequency_current_month  \\\n",
       "0         3                   0.020398                           0.000000   \n",
       "1         7                   1.922936                           1.910244   \n",
       "2         2                   1.859098                           1.736502   \n",
       "3         2                   3.205633                           3.357215   \n",
       "4         3                   1.113884                           1.120078   \n",
       "\n",
       "   Churn  \n",
       "0      0  \n",
       "1      0  \n",
       "2      0  \n",
       "3      0  \n",
       "4      0  "
      ]
     },
     "execution_count": 1,
     "metadata": {},
     "output_type": "execute_result"
    }
   ],
   "source": [
    "# импорт нужных библиотек\n",
    "import pandas as pd\n",
    "import seaborn as sns\n",
    "import matplotlib.pyplot as plt\n",
    "import numpy as np\n",
    "\n",
    "from sklearn.model_selection import train_test_split\n",
    "from sklearn.preprocessing import StandardScaler\n",
    "from sklearn.linear_model import LogisticRegression\n",
    "from sklearn.ensemble import RandomForestClassifier\n",
    "\n",
    "from sklearn.metrics import accuracy_score, precision_score, recall_score,f1_score, roc_auc_score, silhouette_score\n",
    "\n",
    "from scipy.cluster.hierarchy import dendrogram, linkage\n",
    "\n",
    "from sklearn.cluster import KMeans\n",
    "\n",
    "import warnings\n",
    "warnings.filterwarnings('ignore')\n",
    "\n",
    "# чтение файла\n",
    "gym = pd.read_csv('/datasets/gym_churn.csv')\n",
    "gym.head()"
   ]
  },
  {
   "cell_type": "markdown",
   "metadata": {},
   "source": [
    "Будет удобнее привести названия столбцов к нижнему регистру."
   ]
  },
  {
   "cell_type": "code",
   "execution_count": 2,
   "metadata": {},
   "outputs": [
    {
     "data": {
      "text/plain": [
       "Index(['gender', 'near_location', 'partner', 'promo_friends', 'phone',\n",
       "       'contract_period', 'group_visits', 'age',\n",
       "       'avg_additional_charges_total', 'month_to_end_contract', 'lifetime',\n",
       "       'avg_class_frequency_total', 'avg_class_frequency_current_month',\n",
       "       'churn'],\n",
       "      dtype='object')"
      ]
     },
     "execution_count": 2,
     "metadata": {},
     "output_type": "execute_result"
    }
   ],
   "source": [
    "# приведение названий столбцов к нижнему регистру\n",
    "gym.columns = gym.columns.str.lower()\n",
    "# проверка\n",
    "gym.columns"
   ]
  },
  {
   "cell_type": "markdown",
   "metadata": {},
   "source": [
    "Теперь посмотрим на типы данных и размер таблицы."
   ]
  },
  {
   "cell_type": "code",
   "execution_count": 3,
   "metadata": {},
   "outputs": [
    {
     "name": "stdout",
     "output_type": "stream",
     "text": [
      "<class 'pandas.core.frame.DataFrame'>\n",
      "RangeIndex: 4000 entries, 0 to 3999\n",
      "Data columns (total 14 columns):\n",
      " #   Column                             Non-Null Count  Dtype  \n",
      "---  ------                             --------------  -----  \n",
      " 0   gender                             4000 non-null   int64  \n",
      " 1   near_location                      4000 non-null   int64  \n",
      " 2   partner                            4000 non-null   int64  \n",
      " 3   promo_friends                      4000 non-null   int64  \n",
      " 4   phone                              4000 non-null   int64  \n",
      " 5   contract_period                    4000 non-null   int64  \n",
      " 6   group_visits                       4000 non-null   int64  \n",
      " 7   age                                4000 non-null   int64  \n",
      " 8   avg_additional_charges_total       4000 non-null   float64\n",
      " 9   month_to_end_contract              4000 non-null   float64\n",
      " 10  lifetime                           4000 non-null   int64  \n",
      " 11  avg_class_frequency_total          4000 non-null   float64\n",
      " 12  avg_class_frequency_current_month  4000 non-null   float64\n",
      " 13  churn                              4000 non-null   int64  \n",
      "dtypes: float64(4), int64(10)\n",
      "memory usage: 437.6 KB\n"
     ]
    }
   ],
   "source": [
    "# общая информация по таблице\n",
    "gym.info()"
   ]
  },
  {
   "cell_type": "markdown",
   "metadata": {},
   "source": [
    "Пропусков нет. Срок до окончания текущего действующего абонемента (в месяцах) нужно привести к целочисленному типу, т.к. он выражен месяцами, что тоже целые числа. Можно округлить среднюю частоту посещений и суммарную выручку от услуг фитнес-центра."
   ]
  },
  {
   "cell_type": "code",
   "execution_count": 4,
   "metadata": {},
   "outputs": [
    {
     "data": {
      "text/html": [
       "<div>\n",
       "<style scoped>\n",
       "    .dataframe tbody tr th:only-of-type {\n",
       "        vertical-align: middle;\n",
       "    }\n",
       "\n",
       "    .dataframe tbody tr th {\n",
       "        vertical-align: top;\n",
       "    }\n",
       "\n",
       "    .dataframe thead th {\n",
       "        text-align: right;\n",
       "    }\n",
       "</style>\n",
       "<table border=\"1\" class=\"dataframe\">\n",
       "  <thead>\n",
       "    <tr style=\"text-align: right;\">\n",
       "      <th></th>\n",
       "      <th>gender</th>\n",
       "      <th>near_location</th>\n",
       "      <th>partner</th>\n",
       "      <th>promo_friends</th>\n",
       "      <th>phone</th>\n",
       "      <th>contract_period</th>\n",
       "      <th>group_visits</th>\n",
       "      <th>age</th>\n",
       "      <th>avg_additional_charges_total</th>\n",
       "      <th>month_to_end_contract</th>\n",
       "      <th>lifetime</th>\n",
       "      <th>avg_class_frequency_total</th>\n",
       "      <th>avg_class_frequency_current_month</th>\n",
       "      <th>churn</th>\n",
       "    </tr>\n",
       "  </thead>\n",
       "  <tbody>\n",
       "    <tr>\n",
       "      <th>0</th>\n",
       "      <td>1</td>\n",
       "      <td>1</td>\n",
       "      <td>1</td>\n",
       "      <td>1</td>\n",
       "      <td>0</td>\n",
       "      <td>6</td>\n",
       "      <td>1</td>\n",
       "      <td>29</td>\n",
       "      <td>14.23</td>\n",
       "      <td>5</td>\n",
       "      <td>3</td>\n",
       "      <td>0.02</td>\n",
       "      <td>0.00</td>\n",
       "      <td>0</td>\n",
       "    </tr>\n",
       "    <tr>\n",
       "      <th>1</th>\n",
       "      <td>0</td>\n",
       "      <td>1</td>\n",
       "      <td>0</td>\n",
       "      <td>0</td>\n",
       "      <td>1</td>\n",
       "      <td>12</td>\n",
       "      <td>1</td>\n",
       "      <td>31</td>\n",
       "      <td>113.20</td>\n",
       "      <td>12</td>\n",
       "      <td>7</td>\n",
       "      <td>1.92</td>\n",
       "      <td>1.91</td>\n",
       "      <td>0</td>\n",
       "    </tr>\n",
       "    <tr>\n",
       "      <th>2</th>\n",
       "      <td>0</td>\n",
       "      <td>1</td>\n",
       "      <td>1</td>\n",
       "      <td>0</td>\n",
       "      <td>1</td>\n",
       "      <td>1</td>\n",
       "      <td>0</td>\n",
       "      <td>28</td>\n",
       "      <td>129.45</td>\n",
       "      <td>1</td>\n",
       "      <td>2</td>\n",
       "      <td>1.86</td>\n",
       "      <td>1.74</td>\n",
       "      <td>0</td>\n",
       "    </tr>\n",
       "    <tr>\n",
       "      <th>3</th>\n",
       "      <td>0</td>\n",
       "      <td>1</td>\n",
       "      <td>1</td>\n",
       "      <td>1</td>\n",
       "      <td>1</td>\n",
       "      <td>12</td>\n",
       "      <td>1</td>\n",
       "      <td>33</td>\n",
       "      <td>62.67</td>\n",
       "      <td>12</td>\n",
       "      <td>2</td>\n",
       "      <td>3.21</td>\n",
       "      <td>3.36</td>\n",
       "      <td>0</td>\n",
       "    </tr>\n",
       "    <tr>\n",
       "      <th>4</th>\n",
       "      <td>1</td>\n",
       "      <td>1</td>\n",
       "      <td>1</td>\n",
       "      <td>1</td>\n",
       "      <td>1</td>\n",
       "      <td>1</td>\n",
       "      <td>0</td>\n",
       "      <td>26</td>\n",
       "      <td>198.36</td>\n",
       "      <td>1</td>\n",
       "      <td>3</td>\n",
       "      <td>1.11</td>\n",
       "      <td>1.12</td>\n",
       "      <td>0</td>\n",
       "    </tr>\n",
       "  </tbody>\n",
       "</table>\n",
       "</div>"
      ],
      "text/plain": [
       "   gender  near_location  partner  promo_friends  phone  contract_period  \\\n",
       "0       1              1        1              1      0                6   \n",
       "1       0              1        0              0      1               12   \n",
       "2       0              1        1              0      1                1   \n",
       "3       0              1        1              1      1               12   \n",
       "4       1              1        1              1      1                1   \n",
       "\n",
       "   group_visits  age  avg_additional_charges_total  month_to_end_contract  \\\n",
       "0             1   29                         14.23                      5   \n",
       "1             1   31                        113.20                     12   \n",
       "2             0   28                        129.45                      1   \n",
       "3             1   33                         62.67                     12   \n",
       "4             0   26                        198.36                      1   \n",
       "\n",
       "   lifetime  avg_class_frequency_total  avg_class_frequency_current_month  \\\n",
       "0         3                       0.02                               0.00   \n",
       "1         7                       1.92                               1.91   \n",
       "2         2                       1.86                               1.74   \n",
       "3         2                       3.21                               3.36   \n",
       "4         3                       1.11                               1.12   \n",
       "\n",
       "   churn  \n",
       "0      0  \n",
       "1      0  \n",
       "2      0  \n",
       "3      0  \n",
       "4      0  "
      ]
     },
     "execution_count": 4,
     "metadata": {},
     "output_type": "execute_result"
    }
   ],
   "source": [
    "# округление и замена типа\n",
    "gym['month_to_end_contract'] = gym['month_to_end_contract'].astype(int)\n",
    "\n",
    "gym['avg_additional_charges_total'] = gym['avg_additional_charges_total'].round(2)\n",
    "gym['avg_class_frequency_total'] = gym['avg_class_frequency_total'].round(2)\n",
    "gym['avg_class_frequency_current_month'] = gym['avg_class_frequency_current_month'].round(2)\n",
    "\n",
    "gym.head()"
   ]
  },
  {
   "cell_type": "markdown",
   "metadata": {},
   "source": [
    "Осталось только проверить наличие дубликатов."
   ]
  },
  {
   "cell_type": "code",
   "execution_count": 5,
   "metadata": {},
   "outputs": [
    {
     "data": {
      "text/plain": [
       "0"
      ]
     },
     "execution_count": 5,
     "metadata": {},
     "output_type": "execute_result"
    }
   ],
   "source": [
    "# проверка дубликатов\n",
    "gym.duplicated().sum()"
   ]
  },
  {
   "cell_type": "markdown",
   "metadata": {},
   "source": [
    "Теперь мы уверены, что данные в порядке. Идем дальше."
   ]
  },
  {
   "cell_type": "markdown",
   "metadata": {},
   "source": [
    "## Шаг 2. Исследовательский анализ данных (EDA)\n",
    "\n",
    "Посмотрим на статистику по таблице, изучим средние значения и стандартные отклонения."
   ]
  },
  {
   "cell_type": "code",
   "execution_count": 6,
   "metadata": {},
   "outputs": [
    {
     "data": {
      "text/html": [
       "<div>\n",
       "<style scoped>\n",
       "    .dataframe tbody tr th:only-of-type {\n",
       "        vertical-align: middle;\n",
       "    }\n",
       "\n",
       "    .dataframe tbody tr th {\n",
       "        vertical-align: top;\n",
       "    }\n",
       "\n",
       "    .dataframe thead th {\n",
       "        text-align: right;\n",
       "    }\n",
       "</style>\n",
       "<table border=\"1\" class=\"dataframe\">\n",
       "  <thead>\n",
       "    <tr style=\"text-align: right;\">\n",
       "      <th></th>\n",
       "      <th>count</th>\n",
       "      <th>mean</th>\n",
       "      <th>std</th>\n",
       "      <th>min</th>\n",
       "      <th>25%</th>\n",
       "      <th>50%</th>\n",
       "      <th>75%</th>\n",
       "      <th>max</th>\n",
       "    </tr>\n",
       "  </thead>\n",
       "  <tbody>\n",
       "    <tr>\n",
       "      <th>gender</th>\n",
       "      <td>4000.0</td>\n",
       "      <td>0.51</td>\n",
       "      <td>0.50</td>\n",
       "      <td>0.00</td>\n",
       "      <td>0.00</td>\n",
       "      <td>1.00</td>\n",
       "      <td>1.00</td>\n",
       "      <td>1.00</td>\n",
       "    </tr>\n",
       "    <tr>\n",
       "      <th>near_location</th>\n",
       "      <td>4000.0</td>\n",
       "      <td>0.85</td>\n",
       "      <td>0.36</td>\n",
       "      <td>0.00</td>\n",
       "      <td>1.00</td>\n",
       "      <td>1.00</td>\n",
       "      <td>1.00</td>\n",
       "      <td>1.00</td>\n",
       "    </tr>\n",
       "    <tr>\n",
       "      <th>partner</th>\n",
       "      <td>4000.0</td>\n",
       "      <td>0.49</td>\n",
       "      <td>0.50</td>\n",
       "      <td>0.00</td>\n",
       "      <td>0.00</td>\n",
       "      <td>0.00</td>\n",
       "      <td>1.00</td>\n",
       "      <td>1.00</td>\n",
       "    </tr>\n",
       "    <tr>\n",
       "      <th>promo_friends</th>\n",
       "      <td>4000.0</td>\n",
       "      <td>0.31</td>\n",
       "      <td>0.46</td>\n",
       "      <td>0.00</td>\n",
       "      <td>0.00</td>\n",
       "      <td>0.00</td>\n",
       "      <td>1.00</td>\n",
       "      <td>1.00</td>\n",
       "    </tr>\n",
       "    <tr>\n",
       "      <th>phone</th>\n",
       "      <td>4000.0</td>\n",
       "      <td>0.90</td>\n",
       "      <td>0.30</td>\n",
       "      <td>0.00</td>\n",
       "      <td>1.00</td>\n",
       "      <td>1.00</td>\n",
       "      <td>1.00</td>\n",
       "      <td>1.00</td>\n",
       "    </tr>\n",
       "    <tr>\n",
       "      <th>contract_period</th>\n",
       "      <td>4000.0</td>\n",
       "      <td>4.68</td>\n",
       "      <td>4.55</td>\n",
       "      <td>1.00</td>\n",
       "      <td>1.00</td>\n",
       "      <td>1.00</td>\n",
       "      <td>6.00</td>\n",
       "      <td>12.00</td>\n",
       "    </tr>\n",
       "    <tr>\n",
       "      <th>group_visits</th>\n",
       "      <td>4000.0</td>\n",
       "      <td>0.41</td>\n",
       "      <td>0.49</td>\n",
       "      <td>0.00</td>\n",
       "      <td>0.00</td>\n",
       "      <td>0.00</td>\n",
       "      <td>1.00</td>\n",
       "      <td>1.00</td>\n",
       "    </tr>\n",
       "    <tr>\n",
       "      <th>age</th>\n",
       "      <td>4000.0</td>\n",
       "      <td>29.18</td>\n",
       "      <td>3.26</td>\n",
       "      <td>18.00</td>\n",
       "      <td>27.00</td>\n",
       "      <td>29.00</td>\n",
       "      <td>31.00</td>\n",
       "      <td>41.00</td>\n",
       "    </tr>\n",
       "    <tr>\n",
       "      <th>avg_additional_charges_total</th>\n",
       "      <td>4000.0</td>\n",
       "      <td>146.94</td>\n",
       "      <td>96.36</td>\n",
       "      <td>0.15</td>\n",
       "      <td>68.86</td>\n",
       "      <td>136.22</td>\n",
       "      <td>210.95</td>\n",
       "      <td>552.59</td>\n",
       "    </tr>\n",
       "    <tr>\n",
       "      <th>month_to_end_contract</th>\n",
       "      <td>4000.0</td>\n",
       "      <td>4.32</td>\n",
       "      <td>4.19</td>\n",
       "      <td>1.00</td>\n",
       "      <td>1.00</td>\n",
       "      <td>1.00</td>\n",
       "      <td>6.00</td>\n",
       "      <td>12.00</td>\n",
       "    </tr>\n",
       "    <tr>\n",
       "      <th>lifetime</th>\n",
       "      <td>4000.0</td>\n",
       "      <td>3.72</td>\n",
       "      <td>3.75</td>\n",
       "      <td>0.00</td>\n",
       "      <td>1.00</td>\n",
       "      <td>3.00</td>\n",
       "      <td>5.00</td>\n",
       "      <td>31.00</td>\n",
       "    </tr>\n",
       "    <tr>\n",
       "      <th>avg_class_frequency_total</th>\n",
       "      <td>4000.0</td>\n",
       "      <td>1.88</td>\n",
       "      <td>0.97</td>\n",
       "      <td>0.00</td>\n",
       "      <td>1.18</td>\n",
       "      <td>1.83</td>\n",
       "      <td>2.54</td>\n",
       "      <td>6.02</td>\n",
       "    </tr>\n",
       "    <tr>\n",
       "      <th>avg_class_frequency_current_month</th>\n",
       "      <td>4000.0</td>\n",
       "      <td>1.77</td>\n",
       "      <td>1.05</td>\n",
       "      <td>0.00</td>\n",
       "      <td>0.96</td>\n",
       "      <td>1.72</td>\n",
       "      <td>2.51</td>\n",
       "      <td>6.15</td>\n",
       "    </tr>\n",
       "    <tr>\n",
       "      <th>churn</th>\n",
       "      <td>4000.0</td>\n",
       "      <td>0.27</td>\n",
       "      <td>0.44</td>\n",
       "      <td>0.00</td>\n",
       "      <td>0.00</td>\n",
       "      <td>0.00</td>\n",
       "      <td>1.00</td>\n",
       "      <td>1.00</td>\n",
       "    </tr>\n",
       "  </tbody>\n",
       "</table>\n",
       "</div>"
      ],
      "text/plain": [
       "                                    count    mean    std    min    25%  \\\n",
       "gender                             4000.0    0.51   0.50   0.00   0.00   \n",
       "near_location                      4000.0    0.85   0.36   0.00   1.00   \n",
       "partner                            4000.0    0.49   0.50   0.00   0.00   \n",
       "promo_friends                      4000.0    0.31   0.46   0.00   0.00   \n",
       "phone                              4000.0    0.90   0.30   0.00   1.00   \n",
       "contract_period                    4000.0    4.68   4.55   1.00   1.00   \n",
       "group_visits                       4000.0    0.41   0.49   0.00   0.00   \n",
       "age                                4000.0   29.18   3.26  18.00  27.00   \n",
       "avg_additional_charges_total       4000.0  146.94  96.36   0.15  68.86   \n",
       "month_to_end_contract              4000.0    4.32   4.19   1.00   1.00   \n",
       "lifetime                           4000.0    3.72   3.75   0.00   1.00   \n",
       "avg_class_frequency_total          4000.0    1.88   0.97   0.00   1.18   \n",
       "avg_class_frequency_current_month  4000.0    1.77   1.05   0.00   0.96   \n",
       "churn                              4000.0    0.27   0.44   0.00   0.00   \n",
       "\n",
       "                                      50%     75%     max  \n",
       "gender                               1.00    1.00    1.00  \n",
       "near_location                        1.00    1.00    1.00  \n",
       "partner                              0.00    1.00    1.00  \n",
       "promo_friends                        0.00    1.00    1.00  \n",
       "phone                                1.00    1.00    1.00  \n",
       "contract_period                      1.00    6.00   12.00  \n",
       "group_visits                         0.00    1.00    1.00  \n",
       "age                                 29.00   31.00   41.00  \n",
       "avg_additional_charges_total       136.22  210.95  552.59  \n",
       "month_to_end_contract                1.00    6.00   12.00  \n",
       "lifetime                             3.00    5.00   31.00  \n",
       "avg_class_frequency_total            1.83    2.54    6.02  \n",
       "avg_class_frequency_current_month    1.72    2.51    6.15  \n",
       "churn                                0.00    1.00    1.00  "
      ]
     },
     "execution_count": 6,
     "metadata": {},
     "output_type": "execute_result"
    }
   ],
   "source": [
    "# статистика по таблице\n",
    "gym.describe().round(2).T"
   ]
  },
  {
   "cell_type": "markdown",
   "metadata": {},
   "source": [
    "У нас есть некоторая информация о клиентах:\n",
    "* Мужчин и женщин примерно равное количество;\n",
    "* Средний возраст клиентов - 29 лет;\n",
    "* 85% клиентов живут или работают в том же районе, где находится фитнес-центр;\n",
    "* Сотрудниками компании-партнера клуба являются 49% клиентов;\n",
    "* 31% клиентов использовали промо-код от знакомого, когда пришли впервые;\n",
    "* 90% клиентов оставили свой номер телефона;\n",
    "* Занятия в группах посещают 41% клиентов;\n",
    "* В среднем с момента первого посещения прошло 3,7 месяца;\n",
    "* Текущий действующий абонемент оформлен в среднем 4,6 месяца назад, но не менее половины клиентов оформляют абонемент на месяц;\n",
    "* Срок до окончания текущего действующего абонемента - 4,3 месяца в среднем;\n",
    "* Средняя частота посещений в неделю за все время с начала действия абонемента - 1,9 раз;\n",
    "* Средняя частота посещений в неделю за предыдущий месяц - 1,8 раз;\n",
    "* Выручка от других услуг фитнес-центра составляет в среднем 147 условных единиц.\n",
    "\n",
    "Доля оттока составляет 27% клиентов.\n",
    "\n",
    "По средним значениям сравним тех, кто ушел в отток и остался. Для этого сгруппируем данные."
   ]
  },
  {
   "cell_type": "code",
   "execution_count": 7,
   "metadata": {},
   "outputs": [
    {
     "data": {
      "text/html": [
       "<div>\n",
       "<style scoped>\n",
       "    .dataframe tbody tr th:only-of-type {\n",
       "        vertical-align: middle;\n",
       "    }\n",
       "\n",
       "    .dataframe tbody tr th {\n",
       "        vertical-align: top;\n",
       "    }\n",
       "\n",
       "    .dataframe thead th {\n",
       "        text-align: right;\n",
       "    }\n",
       "</style>\n",
       "<table border=\"1\" class=\"dataframe\">\n",
       "  <thead>\n",
       "    <tr style=\"text-align: right;\">\n",
       "      <th>churn</th>\n",
       "      <th>0</th>\n",
       "      <th>1</th>\n",
       "    </tr>\n",
       "  </thead>\n",
       "  <tbody>\n",
       "    <tr>\n",
       "      <th>gender</th>\n",
       "      <td>0.51</td>\n",
       "      <td>0.51</td>\n",
       "    </tr>\n",
       "    <tr>\n",
       "      <th>near_location</th>\n",
       "      <td>0.87</td>\n",
       "      <td>0.77</td>\n",
       "    </tr>\n",
       "    <tr>\n",
       "      <th>partner</th>\n",
       "      <td>0.53</td>\n",
       "      <td>0.36</td>\n",
       "    </tr>\n",
       "    <tr>\n",
       "      <th>promo_friends</th>\n",
       "      <td>0.35</td>\n",
       "      <td>0.18</td>\n",
       "    </tr>\n",
       "    <tr>\n",
       "      <th>phone</th>\n",
       "      <td>0.90</td>\n",
       "      <td>0.90</td>\n",
       "    </tr>\n",
       "    <tr>\n",
       "      <th>contract_period</th>\n",
       "      <td>5.75</td>\n",
       "      <td>1.73</td>\n",
       "    </tr>\n",
       "    <tr>\n",
       "      <th>group_visits</th>\n",
       "      <td>0.46</td>\n",
       "      <td>0.27</td>\n",
       "    </tr>\n",
       "    <tr>\n",
       "      <th>age</th>\n",
       "      <td>29.98</td>\n",
       "      <td>26.99</td>\n",
       "    </tr>\n",
       "    <tr>\n",
       "      <th>avg_additional_charges_total</th>\n",
       "      <td>158.45</td>\n",
       "      <td>115.08</td>\n",
       "    </tr>\n",
       "    <tr>\n",
       "      <th>month_to_end_contract</th>\n",
       "      <td>5.28</td>\n",
       "      <td>1.66</td>\n",
       "    </tr>\n",
       "    <tr>\n",
       "      <th>lifetime</th>\n",
       "      <td>4.71</td>\n",
       "      <td>0.99</td>\n",
       "    </tr>\n",
       "    <tr>\n",
       "      <th>avg_class_frequency_total</th>\n",
       "      <td>2.02</td>\n",
       "      <td>1.47</td>\n",
       "    </tr>\n",
       "    <tr>\n",
       "      <th>avg_class_frequency_current_month</th>\n",
       "      <td>2.03</td>\n",
       "      <td>1.04</td>\n",
       "    </tr>\n",
       "  </tbody>\n",
       "</table>\n",
       "</div>"
      ],
      "text/plain": [
       "churn                                   0       1\n",
       "gender                               0.51    0.51\n",
       "near_location                        0.87    0.77\n",
       "partner                              0.53    0.36\n",
       "promo_friends                        0.35    0.18\n",
       "phone                                0.90    0.90\n",
       "contract_period                      5.75    1.73\n",
       "group_visits                         0.46    0.27\n",
       "age                                 29.98   26.99\n",
       "avg_additional_charges_total       158.45  115.08\n",
       "month_to_end_contract                5.28    1.66\n",
       "lifetime                             4.71    0.99\n",
       "avg_class_frequency_total            2.02    1.47\n",
       "avg_class_frequency_current_month    2.03    1.04"
      ]
     },
     "execution_count": 7,
     "metadata": {},
     "output_type": "execute_result"
    }
   ],
   "source": [
    "# средние значения для тех, кто ушел и остался\n",
    "gym.groupby('churn').agg('mean').round(2).T"
   ]
  },
  {
   "cell_type": "markdown",
   "metadata": {},
   "source": [
    "Построим теперь столбчатые гистограммы и распределения признаков для тех, кто ушел и тех, кто остался."
   ]
  },
  {
   "cell_type": "code",
   "execution_count": 13,
   "metadata": {
    "scrolled": false
   },
   "outputs": [
    {
     "data": {
      "image/png": "[encoded data removed]",
      "text/plain": [
       "<Figure size 360x360 with 1 Axes>"
      ]
     },
     "metadata": {
      "needs_background": "light"
     },
     "output_type": "display_data"
    },
    {
     "data": {
      "image/png": "[encoded data removed]",
      "text/plain": [
       "<Figure size 360x360 with 1 Axes>"
      ]
     },
     "metadata": {
      "needs_background": "light"
     },
     "output_type": "display_data"
    },
    {
     "data": {
      "image/png": "[encoded data removed]",
      "text/plain": [
       "<Figure size 360x360 with 1 Axes>"
      ]
     },
     "metadata": {
      "needs_background": "light"
     },
     "output_type": "display_data"
    },
    {
     "data": {
      "image/png": "[encoded data removed]",
      "text/plain": [
       "<Figure size 360x360 with 1 Axes>"
      ]
     },
     "metadata": {
      "needs_background": "light"
     },
     "output_type": "display_data"
    },
    {
     "data": {
      "image/png": "[encoded data removed]",
      "text/plain": [
       "<Figure size 360x360 with 1 Axes>"
      ]
     },
     "metadata": {
      "needs_background": "light"
     },
     "output_type": "display_data"
    },
    {
     "data": {
      "image/png": "[encoded data removed]",
      "text/plain": [
       "<Figure size 360x360 with 1 Axes>"
      ]
     },
     "metadata": {
      "needs_background": "light"
     },
     "output_type": "display_data"
    },
    {
     "data": {
      "image/png": "[encoded data removed]",
      "text/plain": [
       "<Figure size 360x360 with 1 Axes>"
      ]
     },
     "metadata": {
      "needs_background": "light"
     },
     "output_type": "display_data"
    },
    {
     "data": {
      "image/png": "[encoded data removed]",
      "text/plain": [
       "<Figure size 360x360 with 1 Axes>"
      ]
     },
     "metadata": {
      "needs_background": "light"
     },
     "output_type": "display_data"
    },
    {
     "data": {
      "image/png": "[encoded data removed]",
      "text/plain": [
       "<Figure size 360x360 with 1 Axes>"
      ]
     },
     "metadata": {
      "needs_background": "light"
     },
     "output_type": "display_data"
    },
    {
     "data": {
      "image/png": "[encoded data removed]",
      "text/plain": [
       "<Figure size 360x360 with 1 Axes>"
      ]
     },
     "metadata": {
      "needs_background": "light"
     },
     "output_type": "display_data"
    },
    {
     "data": {
      "image/png": "[encoded data removed]",
      "text/plain": [
       "<Figure size 360x360 with 1 Axes>"
      ]
     },
     "metadata": {
      "needs_background": "light"
     },
     "output_type": "display_data"
    },
    {
     "data": {
      "image/png": "[encoded data removed]",
      "text/plain": [
       "<Figure size 360x360 with 1 Axes>"
      ]
     },
     "metadata": {
      "needs_background": "light"
     },
     "output_type": "display_data"
    },
    {
     "data": {
      "image/png": "[encoded data removed]",
      "text/plain": [
       "<Figure size 360x360 with 1 Axes>"
      ]
     },
     "metadata": {
      "needs_background": "light"
     },
     "output_type": "display_data"
    },
    {
     "data": {
      "image/png": "[encoded data removed]",
      "text/plain": [
       "<Figure size 360x360 with 1 Axes>"
      ]
     },
     "metadata": {
      "needs_background": "light"
     },
     "output_type": "display_data"
    }
   ],
   "source": [
    "# распределение признаков для оставшихся и ушедших\n",
    "for column in gym.columns:\n",
    "    plt.figure(figsize = (5,5))\n",
    "    plt.title(\"Распределение признака: \" + column)\n",
    "    sns.histplot(x = gym[column], bins = 10, hue = gym['churn'], stat = \"density\", common_norm = False)\n",
    "    plt.show()"
   ]
  },
  {
   "cell_type": "markdown",
   "metadata": {},
   "source": [
    "Графики и статистика говорят о том, что распределение по полу и наличию контактного телефона одинаковы. Но различий много. Клиенты, которые ушли в отток:\n",
    "* В среднем чуть моложе на три года;\n",
    "* Реже живут или работают в том же районе, где находится фитнес-центр;\n",
    "* Реже являются сотрудниками компании-партнера клуба;\n",
    "* В два раза реже записываются по акции «приведи друга»;\n",
    "* Реже посещают групповые занятия;\n",
    "* Берут абонемент, который в среднем в три раза короче;\n",
    "* Чаще являются владельцами абонементов, которые скоро закончатся;\n",
    "* Ушли намного раньше с момента первого обращения;\n",
    "* В среднем посетили меньше занятий в неделю за все время и предыдущий месяц;\n",
    "* Меньше принесли денег фитнес-центру за прочие услуги.\n",
    "\n",
    "Предположим, что главными факторами оттока являются минимальный период абонемента, отказ от посещений групповых занятий, редкое посещение фитнес-центра в неделю, работа в компании, не являющейся партнером, и отсутствие промокода от друга.\n",
    "\n",
    "Посмотрим на корреляцию признаков друг с другом."
   ]
  },
  {
   "cell_type": "code",
   "execution_count": null,
   "metadata": {},
   "outputs": [],
   "source": [
    "# матрица корреляций\n",
    "corr_matrix = gym.corr()\n",
    "\n",
    "plt.figure(figsize = (10,7))\n",
    "sns.heatmap(corr_matrix, annot = True, fmt = '.2f')\n",
    "plt.title('Матрица корреляций признаков', fontsize = 12)\n",
    "plt.show()"
   ]
  },
  {
   "cell_type": "markdown",
   "metadata": {},
   "source": [
    "Есть две вещи, о которых говорит тепловая карта.\n",
    "\n",
    "1) Есть два признака, которые не коррелируют ни с чем. Это пол клиента и наличие телефонного номера.\n",
    "\n",
    "2) Сильно коррелируют между собой две пары признаков:\n",
    "* средняя частота посещений в неделю за все время с начала действия абонемента - средняя частота посещений в неделю за предыдущий месяц;\n",
    "* длительность текущего действующего абонемента (месяц, 6 месяцев, год) - срок до окончания текущего действующего абонемента (в месяцах).\n",
    "\n",
    "Эти признаки обозначают почти одно и то же, так что в каждой паре следует избавиться от одного, потому что это мешает обучению модели."
   ]
  },
  {
   "cell_type": "code",
   "execution_count": null,
   "metadata": {},
   "outputs": [],
   "source": [
    "# удаление столбцов с сильной корреляцией\n",
    "gym_clear = gym.drop(['avg_class_frequency_total', 'month_to_end_contract'], axis = 1)"
   ]
  },
  {
   "cell_type": "markdown",
   "metadata": {},
   "source": [
    "Исследовательский анализ данных завершен. Можно переходить к обучению моделей."
   ]
  },
  {
   "cell_type": "markdown",
   "metadata": {},
   "source": [
    "## Шаг 3. Модель прогнозирования оттока клиентов\n",
    "\n",
    "Необходимо построить модель бинарной классификации клиентов, где целевой признак - факт оттока клиента в следующем месяце. Сначала разобьем данные на обучающую и валидационную выборку."
   ]
  },
  {
   "cell_type": "code",
   "execution_count": null,
   "metadata": {},
   "outputs": [],
   "source": [
    "# разбивка данных на обучающую и валидационную выборки\n",
    "# признаки\n",
    "X = gym_clear.drop('churn', axis = 1)\n",
    "# целевая переменная\n",
    "y = gym_clear['churn']\n",
    "\n",
    "X_train, X_test, y_train, y_test = train_test_split(X, y, test_size = 0.2, random_state = 0)"
   ]
  },
  {
   "cell_type": "markdown",
   "metadata": {},
   "source": [
    "Признаки имеют разный вес, и лучше привести их к единому масштабу, чтобы сравнивать. Для этого проводим стандартизацию данных."
   ]
  },
  {
   "cell_type": "code",
   "execution_count": null,
   "metadata": {},
   "outputs": [],
   "source": [
    "# стандартизация данных\n",
    "scaler = StandardScaler()\n",
    "scaler.fit(X_train)\n",
    "X_train_st = scaler.transform(X_train)\n",
    "X_test_st = scaler.transform(X_test)"
   ]
  },
  {
   "cell_type": "markdown",
   "metadata": {},
   "source": [
    "Теперь можно обучать модель на train-выборке. Попробуем два способа: логистическая регрессия и случайный лес.\n",
    "\n",
    "**Логистическая регрессия:**"
   ]
  },
  {
   "cell_type": "code",
   "execution_count": null,
   "metadata": {},
   "outputs": [],
   "source": [
    "# алгоритм и обучение модели логистической регрессии\n",
    "lr_model = LogisticRegression(random_state = 0)\n",
    "lr_model.fit(X_train_st, y_train)\n",
    "# прогнозы\n",
    "lr_predictions = lr_model.predict(X_test_st)\n",
    "lr_probabilities = lr_model.predict_proba(X_test_st)[:,1]"
   ]
  },
  {
   "cell_type": "markdown",
   "metadata": {},
   "source": [
    "**Случайный лес:**"
   ]
  },
  {
   "cell_type": "code",
   "execution_count": null,
   "metadata": {},
   "outputs": [],
   "source": [
    "# алгоритм и обучение модели случайного леса\n",
    "rf_model = RandomForestClassifier(n_estimators = 100, random_state = 0)\n",
    "rf_model.fit(X_train_st, y_train)\n",
    "# прогнозы\n",
    "rf_predictions = rf_model.predict(X_test_st)\n",
    "rf_probabilities = rf_model.predict_proba(X_test_st)[:,1]"
   ]
  },
  {
   "cell_type": "markdown",
   "metadata": {},
   "source": [
    "Модели обучены. Оценим метрики accuracy, precision и recall для обеих моделей на валидационной выборке.\n",
    "\n",
    "Accuracy = доля правильных ответов. Precision = точность модели. Recall = полнота модели. Чем ближе значения к единице, тем лучше."
   ]
  },
  {
   "cell_type": "code",
   "execution_count": null,
   "metadata": {},
   "outputs": [],
   "source": [
    "# значения метрик для обеих моделей\n",
    "display('Логистическая регрессия. Accuracy: {:.2f}'.format(accuracy_score(y_test, lr_predictions)))\n",
    "display('Случайный лес. Accuracy: {:.2f}'.format(accuracy_score(y_test, rf_predictions)))\n",
    "\n",
    "display('Логистическая регрессия. Precision: {:.2f}'.format(precision_score(y_test, lr_predictions)))\n",
    "display('Случайный лес. Precision: {:.2f}'.format(precision_score(y_test, rf_predictions)))\n",
    "\n",
    "display('Логистическая регрессия. Recall: {:.2f}'.format(recall_score(y_test, lr_predictions)))\n",
    "display('Случайный лес. Recall: {:.2f}'.format(recall_score(y_test, rf_predictions)))"
   ]
  },
  {
   "cell_type": "markdown",
   "metadata": {},
   "source": [
    "На основании метрик трудно сказать, какая модель лучше. Посмотрим на дополнительные метрики. Здесь тоже желательно значение ближе к единице."
   ]
  },
  {
   "cell_type": "code",
   "execution_count": null,
   "metadata": {},
   "outputs": [],
   "source": [
    "# дополнительные метрики оценки качества моделей\n",
    "display('Логистическая регрессия. F_1: {:.2f}'.format(f1_score(y_test, lr_predictions)))\n",
    "display('Случайный лес. F_1: {:.2f}'.format(f1_score(y_test, rf_predictions)))\n",
    "\n",
    "display('Логистическая регрессия. ROC_AUC: {:.2f}'.format(roc_auc_score(y_test, lr_predictions)))\n",
    "display('Случайный лес. ROC_AUC: {:.2f}'.format(roc_auc_score(y_test, rf_predictions)))"
   ]
  },
  {
   "cell_type": "markdown",
   "metadata": {},
   "source": [
    "Кажется, модель логистической регрессии все же лучше.\n",
    "\n",
    "Модели оценены, переходим к кластеризации клиентов."
   ]
  },
  {
   "cell_type": "markdown",
   "metadata": {},
   "source": [
    "## Шаг 4. Кластеризация клиентов\n",
    "\n",
    "Перед кластеризацией обязательно нужно стандартизировать данные. В этот раз это будет начальная матрица признаков X без данных с оттоком."
   ]
  },
  {
   "cell_type": "code",
   "execution_count": null,
   "metadata": {},
   "outputs": [],
   "source": [
    "# стандартизация данных\n",
    "X_sc = scaler.fit_transform(X)"
   ]
  },
  {
   "cell_type": "markdown",
   "metadata": {},
   "source": [
    "На стандартизированной матрице признаков можно строить матрицу расстояний и рисовать дендрограмму. Выделенные кластеры помогут определить сегменты клиентов и действия по отношению к ним."
   ]
  },
  {
   "cell_type": "code",
   "execution_count": null,
   "metadata": {},
   "outputs": [],
   "source": [
    "# матрица расстояний\n",
    "linked = linkage(X_sc, method = 'ward')\n",
    "# отрисовка дендрограммы\n",
    "plt.figure(figsize = (18, 10))\n",
    "dendrogram(linked, orientation = 'top')\n",
    "plt.title('Кластеризация пользователей')\n",
    "plt.xlabel(\"Размер кластера\")\n",
    "plt.ylabel(\"Расстояние\")\n",
    "plt.show()"
   ]
  },
  {
   "cell_type": "markdown",
   "metadata": {},
   "source": [
    "Судя по цветам дендрограммы, кластеров четыре. Однако последний столбец довольно большой, и там проглядывается еще один кластер. Будем считать, что кластеров пять.\n",
    "\n",
    "Обучим модель кластеризации на основании алгоритма K-Means и спрогнозируем кластеры клиентов."
   ]
  },
  {
   "cell_type": "code",
   "execution_count": null,
   "metadata": {},
   "outputs": [],
   "source": [
    "# модель k_means с числом кластеров n = 5\n",
    "k_means = KMeans(n_clusters = 5, random_state = 0)\n",
    "# прогноз\n",
    "labels = k_means.fit_predict(X_sc)\n",
    "gym_clear['cluster_km'] = labels"
   ]
  },
  {
   "cell_type": "markdown",
   "metadata": {},
   "source": [
    "Проверим качество кластеризации специальной метрикой."
   ]
  },
  {
   "cell_type": "code",
   "execution_count": null,
   "metadata": {},
   "outputs": [],
   "source": [
    "# оценка качества прогноза и модели\n",
    "silhouette_score(X_sc, labels)"
   ]
  },
  {
   "cell_type": "markdown",
   "metadata": {},
   "source": [
    "До единицы далеко - качество совсем невысокое.\n",
    "\n",
    "Посмотрим на средние значения признаков для кластеров."
   ]
  },
  {
   "cell_type": "code",
   "execution_count": null,
   "metadata": {},
   "outputs": [],
   "source": [
    "# средние значения признаков для кластеров\n",
    "gym_clear.groupby('cluster_km').mean().T"
   ]
  },
  {
   "cell_type": "markdown",
   "metadata": {},
   "source": [
    "Посмотрим распределения признаков для кластеров."
   ]
  },
  {
   "cell_type": "code",
   "execution_count": null,
   "metadata": {
    "scrolled": false
   },
   "outputs": [],
   "source": [
    "# распределение качественных признаков\n",
    "for column in ['gender', \n",
    "               'near_location', \n",
    "               'partner', \n",
    "               'promo_friends', \n",
    "               'contract_period', \n",
    "               'phone', \n",
    "               'group_visits']:\n",
    "    plt.figure(figsize=(5, 5))\n",
    "    sns.countplot(x = gym_clear[column], hue='cluster_km', data=gym_clear)\n",
    "    plt.title(column)\n",
    "    plt.show()"
   ]
  },
  {
   "cell_type": "code",
   "execution_count": null,
   "metadata": {},
   "outputs": [],
   "source": [
    "# распределение количественных признаков\n",
    "for column in ['age', 'avg_additional_charges_total', 'lifetime', 'avg_class_frequency_current_month']:\n",
    "    plt.figure(figsize=(12, 4))\n",
    "    sns.kdeplot(x=column, hue=\"cluster_km\", data=gym_clear, multiple=\"stack\")\n",
    "    plt.title(column)\n",
    "    plt.show()"
   ]
  },
  {
   "cell_type": "code",
   "execution_count": null,
   "metadata": {},
   "outputs": [],
   "source": [
    "# распределение признаков, для которых не отрисовались графики\n",
    "for feature in ['month_to_end_contract', 'avg_class_frequency_total']:\n",
    "    plt.figure(figsize = (5,5))\n",
    "    plt.title(\"Распределение признака: \" + feature)\n",
    "    sns.distplot(gym_clear['cluster_km'], bins = 10)\n",
    "    plt.show()"
   ]
  },
  {
   "cell_type": "markdown",
   "metadata": {},
   "source": [
    "Большая часть клиентов оттока попала в кластеры 1 и 2:\n",
    "* Клиенты там младше на 1-3 года;\n",
    "* Длительность текущего действующего абонемента меньше;\n",
    "* Групповые занятия посещаются реже;\n",
    "* Время с момента первого обращения в фитнес-центр меньше всего;\n",
    "* Суммарная выручка от других услуг фитнес-центра ниже;\n",
    "* Средняя частота посещений в неделю за предыдущий месяц меньше;\n",
    "\n",
    "Самый надежный кластер - третий. Нулевой тоже показал низкий уровень оттока. В третьем кластере:\n",
    "* Самый высокий возраст клиентов;\n",
    "* Самая большая выручка от прочих услуг;\n",
    "* Самое большое время с момента первого обращения в фитнес-центр;\n",
    "* Больше всего клиентов, живущих поблизости;\n",
    "* Наибольшая средняя частота посещений в неделю за предыдущий месяц;\n",
    "* Самая высокая частота посещений групповых занятий."
   ]
  },
  {
   "cell_type": "markdown",
   "metadata": {},
   "source": [
    "## Шаг 5. Выводы и базовые рекомендации по работе с клиентами\n",
    "\n",
    "**Итоги анализа:**\n",
    "\n",
    "Общая информация о клиентах:\n",
    "\n",
    "* Мужчин и женщин примерно равное количество;\n",
    "* Средний возраст клиентов - 29 лет;\n",
    "* 85% клиентов живут или работают в том же районе, где находится фитнес-центр;\n",
    "* Сотрудниками компании-партнера клуба являются 49% клиентов;\n",
    "* 31% клиентов использовали промо-код от знакомого, когда пришли впервые;\n",
    "* 90% клиентов оставили свой номер телефона;\n",
    "* Занятия в группах посещают 41% клиентов;\n",
    "* В среднем с момента первого посещения прошло 3,7 месяца;\n",
    "* Текущий действующий абонемент оформлен в среднем 4,6 месяца назад, но не менее половины клиентов оформляют абонемент на месяц;\n",
    "* Срок до окончания текущего действующего абонемента - 4,3 месяца в среднем;\n",
    "* Средняя частота посещений в неделю за все время с начала действия абонемента - 1,9 раз;\n",
    "* Средняя частота посещений в неделю за предыдущий месяц - 1,8 раз;\n",
    "* Выручка от других услуг фитнес-центра составляет в среднем 147 условных единиц.\n",
    "* Доля оттока составляет 27% клиентов.\n",
    "\n",
    "Клиенты, которые ушли в отток:\n",
    "\n",
    "* В среднем чуть моложе на три года;\n",
    "* Реже живут или работают в том же районе, где находится фитнес-центр;\n",
    "* Реже являются сотрудниками компании-партнера клуба;\n",
    "* В два раза реже записываются по акции «приведи друга»;\n",
    "* Реже посещают групповые занятия;\n",
    "* Берут абонемент, который в среднем в три раза короче;\n",
    "* Чаще являются владельцами абонементов, которые скоро закончатся;\n",
    "* Ушли намного раньше с момента первого обращения;\n",
    "* В среднем посетили меньше занятий в неделю за все время и предыдущий месяц;\n",
    "* Меньше принесли денег фитнес-центру за прочие услуги.\n",
    "\n",
    "Большая часть клиентов оттока попала в кластеры 1 и 2:\n",
    "\n",
    "* Клиенты там младше на 1-3 года;\n",
    "* Длительность текущего действующего абонемента меньше;\n",
    "* Групповые занятия посещаются реже;\n",
    "* Время с момента первого обращения в фитнес-центр меньше всего;\n",
    "* Суммарная выручка от других услуг фитнес-центра ниже;\n",
    "* Средняя частота посещений в неделю за предыдущий месяц меньше.\n",
    "\n",
    "Самый надежный кластер - третий. Нулевой тоже показал низкий уровень оттока. В третьем кластере:\n",
    "\n",
    "* Самый высокий возраст клиентов;\n",
    "* Самая большая выручка от прочих услуг;\n",
    "* Самое большое время с момента первого обращения в фитнес-центр;\n",
    "* Больше всего клиентов, живущих поблизости;\n",
    "* Наибольшая средняя частота посещений в неделю за предыдущий месяц;\n",
    "* Самая высокая частота посещений групповых занятий.\n",
    "\n",
    "Сильной корреляции факта оттока с признаками не обнаружено. Но прослеживается средняя/слабая обратная зависимость от возраста, длительности текущего действующего абонемента, времени с момента первого обращения в фитнес-центр, срока до окончания текущего действующего абонемента и средней частоты посещений в неделю за предыдущий месяц. Эти факторы сильнее всего влияют на факт оттока. Также обнаружено, что сильнее всего между собой связаны работа в компании-партнере клуба и факт первоначальной записи в рамках акции «приведи друга».\n",
    "\n",
    "Отделу по работе с клиентами следует поддерживать нулевой и третий кластеры, чтобы клиенты продолжали оставаться в фитнес-центре. Клиентам из остальных кластеров можно предлагать:\n",
    "* Абонементы от 6 месяцев по скидке;\n",
    "* Акции на групповые занятия;\n",
    "* Поощрения или скидки, подарки за регулярность посещений;\n",
    "* Скидки на продление абонемента на длительный срок.\n",
    "\n",
    "Рекомендуется глубже изучить оттекающие кластеры и протестировать для них различные варианты предложений. Важно обратить внимание на сотрудников компаний-партнеров и расширять список таких компаний, привлекать из них клиентов. Стоит прорекламировать акцию «приведи друга»."
   ]
  }
 ],
 "metadata": {
  "ExecuteTimeLog": [
   {
    "duration": 398,
    "start_time": "2022-06-26T14:18:15.864Z"
   },
   {
    "duration": 140,
    "start_time": "2022-06-26T14:18:16.497Z"
   },
   {
    "duration": 3,
    "start_time": "2022-06-26T14:42:11.668Z"
   },
   {
    "duration": 43,
    "start_time": "2022-06-26T14:42:23.996Z"
   },
   {
    "duration": 40,
    "start_time": "2022-06-26T14:42:36.788Z"
   },
   {
    "duration": 3,
    "start_time": "2022-06-26T14:43:57.912Z"
   },
   {
    "duration": 5,
    "start_time": "2022-06-26T14:44:19.690Z"
   },
   {
    "duration": 11,
    "start_time": "2022-06-26T14:45:19.560Z"
   },
   {
    "duration": 5,
    "start_time": "2022-06-26T15:26:15.068Z"
   },
   {
    "duration": 8,
    "start_time": "2022-06-26T15:26:33.118Z"
   },
   {
    "duration": 63,
    "start_time": "2022-06-27T13:33:37.015Z"
   },
   {
    "duration": 441,
    "start_time": "2022-06-27T13:33:43.042Z"
   },
   {
    "duration": 157,
    "start_time": "2022-06-27T13:33:43.485Z"
   },
   {
    "duration": 7,
    "start_time": "2022-06-27T13:33:43.645Z"
   },
   {
    "duration": 21,
    "start_time": "2022-06-27T13:33:43.655Z"
   },
   {
    "duration": 8,
    "start_time": "2022-06-27T13:33:43.678Z"
   },
   {
    "duration": 91,
    "start_time": "2022-06-27T13:33:43.687Z"
   },
   {
    "duration": 1014,
    "start_time": "2022-06-27T13:34:27.502Z"
   },
   {
    "duration": 1753,
    "start_time": "2022-06-27T13:34:31.821Z"
   },
   {
    "duration": 68,
    "start_time": "2022-06-27T13:34:44.570Z"
   },
   {
    "duration": 1660,
    "start_time": "2022-06-27T13:34:56.034Z"
   },
   {
    "duration": 1691,
    "start_time": "2022-06-27T13:35:07.572Z"
   },
   {
    "duration": 1637,
    "start_time": "2022-06-27T13:35:15.396Z"
   },
   {
    "duration": 1611,
    "start_time": "2022-06-27T13:36:27.113Z"
   },
   {
    "duration": 1583,
    "start_time": "2022-06-27T13:36:38.858Z"
   },
   {
    "duration": 1719,
    "start_time": "2022-06-27T13:36:52.339Z"
   },
   {
    "duration": 1592,
    "start_time": "2022-06-27T13:37:02.157Z"
   },
   {
    "duration": 1586,
    "start_time": "2022-06-27T13:37:10.550Z"
   },
   {
    "duration": 1578,
    "start_time": "2022-06-27T13:37:30.567Z"
   },
   {
    "duration": 1747,
    "start_time": "2022-06-27T13:37:43.228Z"
   },
   {
    "duration": 1542,
    "start_time": "2022-06-27T13:37:59.344Z"
   },
   {
    "duration": 45,
    "start_time": "2022-06-27T13:49:55.146Z"
   },
   {
    "duration": 1214,
    "start_time": "2022-06-27T13:58:48.568Z"
   },
   {
    "duration": 1342,
    "start_time": "2022-06-27T13:59:18.213Z"
   },
   {
    "duration": 1586,
    "start_time": "2022-06-27T13:59:38.068Z"
   },
   {
    "duration": 1396,
    "start_time": "2022-06-27T13:59:49.367Z"
   },
   {
    "duration": 1400,
    "start_time": "2022-06-27T13:59:53.345Z"
   },
   {
    "duration": 1544,
    "start_time": "2022-06-27T13:59:58.238Z"
   },
   {
    "duration": 1285,
    "start_time": "2022-06-27T14:00:08.601Z"
   },
   {
    "duration": 5,
    "start_time": "2022-06-27T14:00:09.889Z"
   },
   {
    "duration": 19,
    "start_time": "2022-06-27T14:00:09.896Z"
   },
   {
    "duration": 4,
    "start_time": "2022-06-27T14:00:09.917Z"
   },
   {
    "duration": 108,
    "start_time": "2022-06-27T14:00:09.923Z"
   },
   {
    "duration": 0,
    "start_time": "2022-06-27T14:00:10.034Z"
   },
   {
    "duration": 0,
    "start_time": "2022-06-27T14:00:10.035Z"
   },
   {
    "duration": 3,
    "start_time": "2022-06-27T14:00:24.890Z"
   },
   {
    "duration": 7,
    "start_time": "2022-06-27T14:02:21.914Z"
   },
   {
    "duration": 29,
    "start_time": "2022-06-27T14:02:30.783Z"
   },
   {
    "duration": 20,
    "start_time": "2022-06-27T14:02:44.082Z"
   },
   {
    "duration": 10,
    "start_time": "2022-06-27T14:03:28.644Z"
   },
   {
    "duration": 52,
    "start_time": "2022-06-27T14:06:34.949Z"
   },
   {
    "duration": 52,
    "start_time": "2022-06-27T14:13:48.883Z"
   },
   {
    "duration": 13,
    "start_time": "2022-06-27T14:14:06.780Z"
   },
   {
    "duration": 16,
    "start_time": "2022-06-27T14:14:12.403Z"
   },
   {
    "duration": 53,
    "start_time": "2022-06-27T14:15:04.641Z"
   },
   {
    "duration": 15,
    "start_time": "2022-06-27T14:15:21.105Z"
   },
   {
    "duration": 52,
    "start_time": "2022-06-29T12:39:13.484Z"
   },
   {
    "duration": 1472,
    "start_time": "2022-06-29T12:39:20.470Z"
   },
   {
    "duration": 5,
    "start_time": "2022-06-29T12:39:21.944Z"
   },
   {
    "duration": 16,
    "start_time": "2022-06-29T12:39:21.951Z"
   },
   {
    "duration": 15,
    "start_time": "2022-06-29T12:39:21.970Z"
   },
   {
    "duration": 7,
    "start_time": "2022-06-29T12:39:21.986Z"
   },
   {
    "duration": 76,
    "start_time": "2022-06-29T12:39:21.995Z"
   },
   {
    "duration": 14,
    "start_time": "2022-06-29T12:39:22.073Z"
   },
   {
    "duration": 111,
    "start_time": "2022-06-29T12:39:22.089Z"
   },
   {
    "duration": 0,
    "start_time": "2022-06-29T12:39:22.201Z"
   },
   {
    "duration": 0,
    "start_time": "2022-06-29T12:39:22.202Z"
   },
   {
    "duration": 0,
    "start_time": "2022-06-29T12:39:22.204Z"
   },
   {
    "duration": 29,
    "start_time": "2022-06-29T12:43:37.790Z"
   },
   {
    "duration": 2893,
    "start_time": "2022-06-29T12:46:23.586Z"
   },
   {
    "duration": 2790,
    "start_time": "2022-06-29T12:49:10.870Z"
   },
   {
    "duration": 1648,
    "start_time": "2022-06-29T13:20:12.746Z"
   },
   {
    "duration": 6,
    "start_time": "2022-06-29T13:26:27.040Z"
   },
   {
    "duration": 4,
    "start_time": "2022-06-29T13:31:39.352Z"
   },
   {
    "duration": 15,
    "start_time": "2022-06-29T13:32:48.053Z"
   },
   {
    "duration": 416,
    "start_time": "2022-06-29T13:33:46.322Z"
   },
   {
    "duration": 9,
    "start_time": "2022-06-29T13:33:56.006Z"
   },
   {
    "duration": 39,
    "start_time": "2022-06-29T13:40:57.154Z"
   },
   {
    "duration": 2,
    "start_time": "2022-06-29T13:41:04.563Z"
   },
   {
    "duration": 9,
    "start_time": "2022-06-29T13:41:50.137Z"
   },
   {
    "duration": 60,
    "start_time": "2022-06-29T13:44:33.205Z"
   },
   {
    "duration": 98,
    "start_time": "2022-06-29T13:49:18.346Z"
   },
   {
    "duration": 12,
    "start_time": "2022-06-29T13:50:04.810Z"
   },
   {
    "duration": 5,
    "start_time": "2022-06-29T13:50:13.926Z"
   },
   {
    "duration": 20,
    "start_time": "2022-06-29T13:57:58.593Z"
   },
   {
    "duration": 84,
    "start_time": "2022-06-29T13:58:13.897Z"
   },
   {
    "duration": 351,
    "start_time": "2022-06-29T13:58:17.856Z"
   },
   {
    "duration": 13,
    "start_time": "2022-06-29T14:40:07.780Z"
   },
   {
    "duration": 42,
    "start_time": "2022-06-29T14:41:29.993Z"
   },
   {
    "duration": 6,
    "start_time": "2022-06-29T14:41:48.661Z"
   },
   {
    "duration": 4,
    "start_time": "2022-06-29T14:42:05.574Z"
   },
   {
    "duration": 16,
    "start_time": "2022-06-29T14:43:52.116Z"
   },
   {
    "duration": 1796,
    "start_time": "2022-06-30T10:22:53.679Z"
   },
   {
    "duration": 4,
    "start_time": "2022-06-30T10:22:55.478Z"
   },
   {
    "duration": 16,
    "start_time": "2022-06-30T10:22:55.484Z"
   },
   {
    "duration": 19,
    "start_time": "2022-06-30T10:22:55.502Z"
   },
   {
    "duration": 9,
    "start_time": "2022-06-30T10:22:55.523Z"
   },
   {
    "duration": 79,
    "start_time": "2022-06-30T10:22:55.534Z"
   },
   {
    "duration": 16,
    "start_time": "2022-06-30T10:22:55.615Z"
   },
   {
    "duration": 10,
    "start_time": "2022-06-30T10:22:55.632Z"
   },
   {
    "duration": 2871,
    "start_time": "2022-06-30T10:22:55.644Z"
   },
   {
    "duration": 3090,
    "start_time": "2022-06-30T10:22:58.517Z"
   },
   {
    "duration": 1536,
    "start_time": "2022-06-30T10:23:01.609Z"
   },
   {
    "duration": 5,
    "start_time": "2022-06-30T10:23:03.147Z"
   },
   {
    "duration": 19,
    "start_time": "2022-06-30T10:23:03.154Z"
   },
   {
    "duration": 11,
    "start_time": "2022-06-30T10:23:03.175Z"
   },
   {
    "duration": 87,
    "start_time": "2022-06-30T10:23:03.188Z"
   },
   {
    "duration": 552,
    "start_time": "2022-06-30T10:23:03.277Z"
   },
   {
    "duration": 20,
    "start_time": "2022-06-30T10:23:03.831Z"
   },
   {
    "duration": 143,
    "start_time": "2022-06-30T10:23:03.852Z"
   },
   {
    "duration": 32,
    "start_time": "2022-06-30T11:06:24.669Z"
   },
   {
    "duration": 37,
    "start_time": "2022-06-30T11:06:29.888Z"
   },
   {
    "duration": 31,
    "start_time": "2022-06-30T11:07:04.749Z"
   },
   {
    "duration": 1342,
    "start_time": "2022-06-30T11:07:24.873Z"
   },
   {
    "duration": 5,
    "start_time": "2022-06-30T11:07:26.217Z"
   },
   {
    "duration": 15,
    "start_time": "2022-06-30T11:07:26.223Z"
   },
   {
    "duration": 14,
    "start_time": "2022-06-30T11:07:26.241Z"
   },
   {
    "duration": 16,
    "start_time": "2022-06-30T11:07:26.256Z"
   },
   {
    "duration": 43,
    "start_time": "2022-06-30T11:07:26.274Z"
   },
   {
    "duration": 14,
    "start_time": "2022-06-30T11:07:26.319Z"
   },
   {
    "duration": 2370,
    "start_time": "2022-06-30T11:07:26.334Z"
   },
   {
    "duration": 1539,
    "start_time": "2022-06-30T11:07:28.706Z"
   },
   {
    "duration": 4,
    "start_time": "2022-06-30T11:07:30.248Z"
   },
   {
    "duration": 21,
    "start_time": "2022-06-30T11:07:30.253Z"
   },
   {
    "duration": 11,
    "start_time": "2022-06-30T11:07:30.275Z"
   },
   {
    "duration": 78,
    "start_time": "2022-06-30T11:07:30.288Z"
   },
   {
    "duration": 417,
    "start_time": "2022-06-30T11:07:30.369Z"
   },
   {
    "duration": 15,
    "start_time": "2022-06-30T11:07:30.788Z"
   },
   {
    "duration": 125,
    "start_time": "2022-06-30T11:07:30.805Z"
   },
   {
    "duration": 1313,
    "start_time": "2022-06-30T11:15:37.002Z"
   },
   {
    "duration": 4,
    "start_time": "2022-06-30T11:15:38.318Z"
   },
   {
    "duration": 17,
    "start_time": "2022-06-30T11:15:38.323Z"
   },
   {
    "duration": 15,
    "start_time": "2022-06-30T11:15:38.342Z"
   },
   {
    "duration": 18,
    "start_time": "2022-06-30T11:15:38.359Z"
   },
   {
    "duration": 63,
    "start_time": "2022-06-30T11:15:38.379Z"
   },
   {
    "duration": 15,
    "start_time": "2022-06-30T11:15:38.444Z"
   },
   {
    "duration": 2450,
    "start_time": "2022-06-30T11:15:38.461Z"
   },
   {
    "duration": 1469,
    "start_time": "2022-06-30T11:15:40.913Z"
   },
   {
    "duration": 4,
    "start_time": "2022-06-30T11:15:42.384Z"
   },
   {
    "duration": 8,
    "start_time": "2022-06-30T11:15:42.390Z"
   },
   {
    "duration": 573,
    "start_time": "2022-06-30T11:15:42.400Z"
   },
   {
    "duration": 499,
    "start_time": "2022-06-30T11:15:42.976Z"
   },
   {
    "duration": 14,
    "start_time": "2022-06-30T11:15:43.477Z"
   },
   {
    "duration": 129,
    "start_time": "2022-06-30T11:15:43.493Z"
   },
   {
    "duration": 535,
    "start_time": "2022-06-30T11:15:53.633Z"
   },
   {
    "duration": 320,
    "start_time": "2022-06-30T11:15:55.901Z"
   },
   {
    "duration": 11,
    "start_time": "2022-06-30T11:16:48.943Z"
   },
   {
    "duration": 15,
    "start_time": "2022-06-30T11:16:51.275Z"
   },
   {
    "duration": 325,
    "start_time": "2022-06-30T11:16:52.591Z"
   },
   {
    "duration": 16,
    "start_time": "2022-06-30T11:16:54.333Z"
   },
   {
    "duration": 17,
    "start_time": "2022-06-30T11:25:22.526Z"
   },
   {
    "duration": 287,
    "start_time": "2022-06-30T11:29:24.039Z"
   },
   {
    "duration": 22,
    "start_time": "2022-06-30T11:29:28.470Z"
   },
   {
    "duration": 312,
    "start_time": "2022-06-30T11:30:04.479Z"
   },
   {
    "duration": 17,
    "start_time": "2022-06-30T11:30:06.664Z"
   },
   {
    "duration": 268,
    "start_time": "2022-06-30T11:30:20.858Z"
   },
   {
    "duration": 17,
    "start_time": "2022-06-30T11:30:23.330Z"
   },
   {
    "duration": 311,
    "start_time": "2022-06-30T11:30:32.487Z"
   },
   {
    "duration": 17,
    "start_time": "2022-06-30T11:30:34.683Z"
   },
   {
    "duration": 39,
    "start_time": "2022-06-30T11:33:05.526Z"
   },
   {
    "duration": 21,
    "start_time": "2022-06-30T11:33:50.678Z"
   },
   {
    "duration": 18,
    "start_time": "2022-06-30T11:35:36.027Z"
   },
   {
    "duration": 14,
    "start_time": "2022-06-30T11:36:05.520Z"
   },
   {
    "duration": 10,
    "start_time": "2022-06-30T11:50:56.072Z"
   },
   {
    "duration": 9,
    "start_time": "2022-06-30T11:51:00.838Z"
   },
   {
    "duration": 9,
    "start_time": "2022-06-30T12:00:15.667Z"
   },
   {
    "duration": 32,
    "start_time": "2022-06-30T12:00:51.578Z"
   },
   {
    "duration": 658,
    "start_time": "2022-06-30T12:00:58.688Z"
   },
   {
    "duration": 49,
    "start_time": "2022-06-30T13:16:58.998Z"
   },
   {
    "duration": 1646,
    "start_time": "2022-06-30T13:17:07.531Z"
   },
   {
    "duration": 4,
    "start_time": "2022-06-30T13:17:09.179Z"
   },
   {
    "duration": 19,
    "start_time": "2022-06-30T13:17:09.185Z"
   },
   {
    "duration": 15,
    "start_time": "2022-06-30T13:17:09.206Z"
   },
   {
    "duration": 9,
    "start_time": "2022-06-30T13:17:09.222Z"
   },
   {
    "duration": 68,
    "start_time": "2022-06-30T13:17:09.232Z"
   },
   {
    "duration": 15,
    "start_time": "2022-06-30T13:17:09.303Z"
   },
   {
    "duration": 2581,
    "start_time": "2022-06-30T13:17:09.320Z"
   },
   {
    "duration": 1618,
    "start_time": "2022-06-30T13:17:11.902Z"
   },
   {
    "duration": 4,
    "start_time": "2022-06-30T13:17:13.522Z"
   },
   {
    "duration": 12,
    "start_time": "2022-06-30T13:17:13.527Z"
   },
   {
    "duration": 12,
    "start_time": "2022-06-30T13:17:13.540Z"
   },
   {
    "duration": 46,
    "start_time": "2022-06-30T13:17:13.554Z"
   },
   {
    "duration": 546,
    "start_time": "2022-06-30T13:17:13.602Z"
   },
   {
    "duration": 19,
    "start_time": "2022-06-30T13:17:14.149Z"
   },
   {
    "duration": 33,
    "start_time": "2022-06-30T13:17:14.169Z"
   },
   {
    "duration": 8,
    "start_time": "2022-06-30T13:17:14.203Z"
   },
   {
    "duration": 115094,
    "start_time": "2022-06-30T13:17:14.212Z"
   },
   {
    "duration": 114819,
    "start_time": "2022-06-30T13:27:25.750Z"
   },
   {
    "duration": 56,
    "start_time": "2022-06-30T13:34:55.838Z"
   },
   {
    "duration": 1046,
    "start_time": "2022-06-30T13:38:46.748Z"
   },
   {
    "duration": 42,
    "start_time": "2022-06-30T13:40:05.803Z"
   },
   {
    "duration": 528,
    "start_time": "2022-06-30T13:41:37.544Z"
   },
   {
    "duration": 16,
    "start_time": "2022-06-30T13:44:37.381Z"
   },
   {
    "duration": 226,
    "start_time": "2022-06-30T14:45:55.275Z"
   },
   {
    "duration": 125,
    "start_time": "2022-06-30T14:46:27.249Z"
   },
   {
    "duration": 122,
    "start_time": "2022-06-30T14:46:28.882Z"
   },
   {
    "duration": 120,
    "start_time": "2022-06-30T14:46:31.101Z"
   },
   {
    "duration": 0,
    "start_time": "2022-06-30T14:48:31.420Z"
   },
   {
    "duration": 2410,
    "start_time": "2022-06-30T14:48:37.788Z"
   },
   {
    "duration": 114,
    "start_time": "2022-06-30T14:58:13.315Z"
   },
   {
    "duration": 112,
    "start_time": "2022-06-30T14:58:20.476Z"
   },
   {
    "duration": 10,
    "start_time": "2022-06-30T15:02:04.257Z"
   },
   {
    "duration": 11,
    "start_time": "2022-06-30T15:02:30.439Z"
   },
   {
    "duration": 10,
    "start_time": "2022-06-30T15:02:33.433Z"
   },
   {
    "duration": 13,
    "start_time": "2022-06-30T15:02:37.722Z"
   },
   {
    "duration": 108177,
    "start_time": "2022-06-30T15:05:06.868Z"
   },
   {
    "duration": 1473,
    "start_time": "2022-06-30T15:09:05.615Z"
   },
   {
    "duration": 1207,
    "start_time": "2022-06-30T15:11:41.522Z"
   },
   {
    "duration": 1201,
    "start_time": "2022-06-30T15:11:57.102Z"
   },
   {
    "duration": 1735,
    "start_time": "2022-06-30T15:12:07.593Z"
   },
   {
    "duration": 2558,
    "start_time": "2022-06-30T15:12:31.131Z"
   },
   {
    "duration": 1121,
    "start_time": "2022-06-30T15:12:49.142Z"
   },
   {
    "duration": 1270,
    "start_time": "2022-06-30T15:13:09.646Z"
   },
   {
    "duration": 1333,
    "start_time": "2022-06-30T15:13:47.259Z"
   },
   {
    "duration": 2429,
    "start_time": "2022-06-30T15:14:06.582Z"
   },
   {
    "duration": 1445,
    "start_time": "2022-06-30T15:14:24.910Z"
   },
   {
    "duration": 4,
    "start_time": "2022-06-30T15:14:26.357Z"
   },
   {
    "duration": 15,
    "start_time": "2022-06-30T15:14:26.363Z"
   },
   {
    "duration": 15,
    "start_time": "2022-06-30T15:14:26.380Z"
   },
   {
    "duration": 7,
    "start_time": "2022-06-30T15:14:26.397Z"
   },
   {
    "duration": 53,
    "start_time": "2022-06-30T15:14:26.406Z"
   },
   {
    "duration": 34,
    "start_time": "2022-06-30T15:14:26.461Z"
   },
   {
    "duration": 2639,
    "start_time": "2022-06-30T15:14:26.496Z"
   },
   {
    "duration": 1600,
    "start_time": "2022-06-30T15:14:29.136Z"
   },
   {
    "duration": 4,
    "start_time": "2022-06-30T15:14:30.739Z"
   },
   {
    "duration": 29,
    "start_time": "2022-06-30T15:14:30.744Z"
   },
   {
    "duration": 16,
    "start_time": "2022-06-30T15:14:30.775Z"
   },
   {
    "duration": 25,
    "start_time": "2022-06-30T15:14:30.793Z"
   },
   {
    "duration": 457,
    "start_time": "2022-06-30T15:14:30.895Z"
   },
   {
    "duration": 16,
    "start_time": "2022-06-30T15:14:31.354Z"
   },
   {
    "duration": 30,
    "start_time": "2022-06-30T15:14:31.371Z"
   },
   {
    "duration": 7,
    "start_time": "2022-06-30T15:14:31.403Z"
   },
   {
    "duration": 1200,
    "start_time": "2022-06-30T15:16:26.995Z"
   },
   {
    "duration": 577,
    "start_time": "2022-06-30T15:16:28.197Z"
   },
   {
    "duration": 19,
    "start_time": "2022-06-30T15:16:28.776Z"
   },
   {
    "duration": 1555,
    "start_time": "2022-06-30T15:16:29.926Z"
   },
   {
    "duration": 0,
    "start_time": "2022-06-30T15:16:31.482Z"
   },
   {
    "duration": 0,
    "start_time": "2022-06-30T15:16:31.484Z"
   },
   {
    "duration": 10,
    "start_time": "2022-06-30T15:19:32.178Z"
   },
   {
    "duration": 23,
    "start_time": "2022-06-30T15:20:39.209Z"
   },
   {
    "duration": 658,
    "start_time": "2022-06-30T15:20:46.746Z"
   },
   {
    "duration": 1143,
    "start_time": "2022-06-30T15:21:02.864Z"
   },
   {
    "duration": 986,
    "start_time": "2022-06-30T15:21:13.992Z"
   },
   {
    "duration": 1957,
    "start_time": "2022-06-30T15:21:45.541Z"
   },
   {
    "duration": 685,
    "start_time": "2022-06-30T15:21:56.094Z"
   },
   {
    "duration": 2398,
    "start_time": "2022-06-30T15:22:23.801Z"
   },
   {
    "duration": 1255,
    "start_time": "2022-06-30T15:22:35.148Z"
   },
   {
    "duration": 375,
    "start_time": "2022-06-30T15:25:08.961Z"
   },
   {
    "duration": 411,
    "start_time": "2022-06-30T15:26:15.569Z"
   },
   {
    "duration": 421,
    "start_time": "2022-06-30T15:26:32.297Z"
   },
   {
    "duration": 1001,
    "start_time": "2022-06-30T15:32:56.602Z"
   },
   {
    "duration": 974,
    "start_time": "2022-06-30T15:33:15.848Z"
   },
   {
    "duration": 2094,
    "start_time": "2022-06-30T16:51:27.528Z"
   },
   {
    "duration": 11,
    "start_time": "2022-06-30T16:51:29.625Z"
   },
   {
    "duration": 42,
    "start_time": "2022-06-30T16:51:29.638Z"
   },
   {
    "duration": 21,
    "start_time": "2022-06-30T16:51:29.683Z"
   },
   {
    "duration": 9,
    "start_time": "2022-06-30T16:51:29.708Z"
   },
   {
    "duration": 91,
    "start_time": "2022-06-30T16:51:29.719Z"
   },
   {
    "duration": 26,
    "start_time": "2022-06-30T16:51:29.812Z"
   },
   {
    "duration": 3253,
    "start_time": "2022-06-30T16:51:29.846Z"
   },
   {
    "duration": 1724,
    "start_time": "2022-06-30T16:51:33.101Z"
   },
   {
    "duration": 7,
    "start_time": "2022-06-30T16:51:34.832Z"
   },
   {
    "duration": 28,
    "start_time": "2022-06-30T16:51:34.843Z"
   },
   {
    "duration": 12,
    "start_time": "2022-06-30T16:51:34.873Z"
   },
   {
    "duration": 245,
    "start_time": "2022-06-30T16:51:34.887Z"
   },
   {
    "duration": 477,
    "start_time": "2022-06-30T16:51:35.140Z"
   },
   {
    "duration": 23,
    "start_time": "2022-06-30T16:51:35.619Z"
   },
   {
    "duration": 42,
    "start_time": "2022-06-30T16:51:35.644Z"
   },
   {
    "duration": 10,
    "start_time": "2022-06-30T16:51:35.687Z"
   },
   {
    "duration": 130335,
    "start_time": "2022-06-30T16:51:35.699Z"
   },
   {
    "duration": 1024,
    "start_time": "2022-06-30T16:53:46.036Z"
   },
   {
    "duration": 526,
    "start_time": "2022-06-30T16:53:47.066Z"
   },
   {
    "duration": 17,
    "start_time": "2022-06-30T16:53:47.594Z"
   },
   {
    "duration": 1200,
    "start_time": "2022-06-30T16:53:47.613Z"
   },
   {
    "duration": 1095,
    "start_time": "2022-06-30T16:53:48.816Z"
   },
   {
    "duration": 609,
    "start_time": "2022-06-30T16:53:49.913Z"
   },
   {
    "duration": 55,
    "start_time": "2022-06-30T18:27:18.082Z"
   },
   {
    "duration": 68,
    "start_time": "2022-06-30T18:32:45.142Z"
   },
   {
    "duration": 8,
    "start_time": "2022-06-30T18:32:52.320Z"
   },
   {
    "duration": 8,
    "start_time": "2022-06-30T18:32:54.471Z"
   },
   {
    "duration": 1653,
    "start_time": "2022-06-30T18:33:00.182Z"
   },
   {
    "duration": 5,
    "start_time": "2022-06-30T18:33:01.837Z"
   },
   {
    "duration": 31,
    "start_time": "2022-06-30T18:33:01.844Z"
   },
   {
    "duration": 53,
    "start_time": "2022-06-30T18:33:01.878Z"
   },
   {
    "duration": 9,
    "start_time": "2022-06-30T18:33:01.933Z"
   },
   {
    "duration": 80,
    "start_time": "2022-06-30T18:33:01.943Z"
   },
   {
    "duration": 13,
    "start_time": "2022-06-30T18:33:02.024Z"
   },
   {
    "duration": 242,
    "start_time": "2022-06-30T18:33:02.039Z"
   },
   {
    "duration": 0,
    "start_time": "2022-06-30T18:33:02.283Z"
   },
   {
    "duration": 0,
    "start_time": "2022-06-30T18:33:02.286Z"
   },
   {
    "duration": 0,
    "start_time": "2022-06-30T18:33:02.287Z"
   },
   {
    "duration": 0,
    "start_time": "2022-06-30T18:33:02.289Z"
   },
   {
    "duration": 0,
    "start_time": "2022-06-30T18:33:02.290Z"
   },
   {
    "duration": 0,
    "start_time": "2022-06-30T18:33:02.291Z"
   },
   {
    "duration": 0,
    "start_time": "2022-06-30T18:33:02.292Z"
   },
   {
    "duration": 0,
    "start_time": "2022-06-30T18:33:02.293Z"
   },
   {
    "duration": 0,
    "start_time": "2022-06-30T18:33:02.294Z"
   },
   {
    "duration": 0,
    "start_time": "2022-06-30T18:33:02.295Z"
   },
   {
    "duration": 0,
    "start_time": "2022-06-30T18:33:02.296Z"
   },
   {
    "duration": 0,
    "start_time": "2022-06-30T18:33:02.297Z"
   },
   {
    "duration": 0,
    "start_time": "2022-06-30T18:33:02.299Z"
   },
   {
    "duration": 0,
    "start_time": "2022-06-30T18:33:02.329Z"
   },
   {
    "duration": 0,
    "start_time": "2022-06-30T18:33:02.331Z"
   },
   {
    "duration": 0,
    "start_time": "2022-06-30T18:33:02.332Z"
   },
   {
    "duration": 124,
    "start_time": "2022-06-30T18:34:22.164Z"
   },
   {
    "duration": 113,
    "start_time": "2022-06-30T18:34:53.405Z"
   },
   {
    "duration": 132,
    "start_time": "2022-06-30T18:35:23.472Z"
   },
   {
    "duration": 3137,
    "start_time": "2022-06-30T18:35:41.660Z"
   },
   {
    "duration": 2776,
    "start_time": "2022-06-30T18:36:06.588Z"
   }
  ],
  "kernelspec": {
   "display_name": "Python 3 (ipykernel)",
   "language": "python",
   "name": "python3"
  },
  "language_info": {
   "codemirror_mode": {
    "name": "ipython",
    "version": 3
   },
   "file_extension": ".py",
   "mimetype": "text/x-python",
   "name": "python",
   "nbconvert_exporter": "python",
   "pygments_lexer": "ipython3",
   "version": "3.10.5"
  },
  "toc": {
   "base_numbering": 1,
   "nav_menu": {},
   "number_sections": true,
   "sideBar": true,
   "skip_h1_title": true,
   "title_cell": "Table of Contents",
   "title_sidebar": "Contents",
   "toc_cell": false,
   "toc_position": {},
   "toc_section_display": true,
   "toc_window_display": false
  }
 },
 "nbformat": 4,
 "nbformat_minor": 2
}
