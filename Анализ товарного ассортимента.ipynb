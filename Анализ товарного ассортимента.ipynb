{
 "cells": [
  {
   "cell_type": "markdown",
   "metadata": {},
   "source": [
    "Ссылка на презентацию: https://docs.google.com/presentation/d/1uPZbogCGv4UznE1IvDlcpJ7BS388hUTfAyns4zevWdo/edit?usp=sharing"
   ]
  },
  {
   "cell_type": "markdown",
   "metadata": {},
   "source": [
    "# E-commerce — Анализ товарного ассортимента\n",
    "\n",
    "## Описание проекта\n",
    "\n",
    "Интернет-магазин товаров для дома «Пока все ещё тут» поставил перед аналитиками задачу проанализировать торговый ассортимент. Это поможет магазину стать лучше, а клиентам — обустроить дом своей мечты.\n",
    "\n",
    "Заказчик - менеджер проекта, который отвечает за актуальность товарного ассортимента.\n",
    "\n",
    "**Цель проекта:** выявление особенностей продаж товаров из ассортимента интернет-магазина и формулировка рекомендаций для отдела продаж/закупок.\n",
    "\n",
    "**Задачи проекта:**\n",
    "* провести исследовательский анализ данных;\n",
    "* проанализировать торговый ассортимент;\n",
    "* сформулировать и проверить статистические гипотезы.\n",
    "\n",
    "## Описание данных\n",
    "\n",
    "Датасет описывает транзакции интернет-магазина товаров для дома и быта «Пока все ещё тут».\n",
    "\n",
    "Колонки в *ecommerce_dataset.csv*:\n",
    "- `date` — дата заказа;\n",
    "- `customer_id` — идентификатор покупателя;\n",
    "- `order_id` — идентификатор заказа;\n",
    "- `product` — наименование товара;\n",
    "- `quantity` — количество товара в заказе;\n",
    "- `price` — цена товара.\n",
    "\n",
    "## Шаг 1. Загрузка и предобработка данных"
   ]
  },
  {
   "cell_type": "markdown",
   "metadata": {},
   "source": [
    "Перед началом работы импортируем нужные библиотеки."
   ]
  },
  {
   "cell_type": "code",
   "execution_count": 1,
   "metadata": {},
   "outputs": [],
   "source": [
    "# импорт нужных библиотек\n",
    "import pandas as pd\n",
    "import matplotlib.pyplot as plt\n",
    "import seaborn as sns\n",
    "import numpy as np\n",
    "\n",
    "import warnings\n",
    "warnings.filterwarnings('ignore')\n",
    "\n",
    "from functools import reduce\n",
    "\n",
    "import scipy.stats as stats\n",
    "from scipy import stats as st"
   ]
  },
  {
   "cell_type": "markdown",
   "metadata": {},
   "source": [
    "Теперь прочитаем файл и посмотрим на таблицу, выведем 10 случайных строк."
   ]
  },
  {
   "cell_type": "code",
   "execution_count": 2,
   "metadata": {},
   "outputs": [
    {
     "data": {
      "text/html": [
       "<div>\n",
       "<style scoped>\n",
       "    .dataframe tbody tr th:only-of-type {\n",
       "        vertical-align: middle;\n",
       "    }\n",
       "\n",
       "    .dataframe tbody tr th {\n",
       "        vertical-align: top;\n",
       "    }\n",
       "\n",
       "    .dataframe thead th {\n",
       "        text-align: right;\n",
       "    }\n",
       "</style>\n",
       "<table border=\"1\" class=\"dataframe\">\n",
       "  <thead>\n",
       "    <tr style=\"text-align: right;\">\n",
       "      <th></th>\n",
       "      <th>date</th>\n",
       "      <th>customer_id</th>\n",
       "      <th>order_id</th>\n",
       "      <th>product</th>\n",
       "      <th>quantity</th>\n",
       "      <th>price</th>\n",
       "    </tr>\n",
       "  </thead>\n",
       "  <tbody>\n",
       "    <tr>\n",
       "      <th>1412</th>\n",
       "      <td>2018122818</td>\n",
       "      <td>e88af26b-f634-461d-b6c1-c3e7c8121add</td>\n",
       "      <td>69667</td>\n",
       "      <td>Кондиционер для белья Sandokkaebi Soft Aroma A...</td>\n",
       "      <td>1</td>\n",
       "      <td>262.0</td>\n",
       "    </tr>\n",
       "    <tr>\n",
       "      <th>1667</th>\n",
       "      <td>2019020217</td>\n",
       "      <td>9b090857-e0bb-4bb6-b289-a402986601d7</td>\n",
       "      <td>70066</td>\n",
       "      <td>Полки QWERTY Берлин чёрный 44х24х10 см 40х20х1...</td>\n",
       "      <td>2</td>\n",
       "      <td>1987.0</td>\n",
       "    </tr>\n",
       "    <tr>\n",
       "      <th>5275</th>\n",
       "      <td>2019061408</td>\n",
       "      <td>1d6c8c1f-a799-4418-9af2-1ded47d7a85c</td>\n",
       "      <td>14833</td>\n",
       "      <td>Рассада Огурца сорт Каролина кассета 6 шт E6</td>\n",
       "      <td>1</td>\n",
       "      <td>120.0</td>\n",
       "    </tr>\n",
       "    <tr>\n",
       "      <th>4922</th>\n",
       "      <td>2019060910</td>\n",
       "      <td>1d6c8c1f-a799-4418-9af2-1ded47d7a85c</td>\n",
       "      <td>14833</td>\n",
       "      <td>Рассада Кабачка сорт Аэронавт, кассета по 6шт</td>\n",
       "      <td>1</td>\n",
       "      <td>120.0</td>\n",
       "    </tr>\n",
       "    <tr>\n",
       "      <th>3133</th>\n",
       "      <td>2019042421</td>\n",
       "      <td>2a0acc09-e343-4f92-b5c0-f598ef2b07d4</td>\n",
       "      <td>14688</td>\n",
       "      <td>томата (помидор) Поцелуй герани №66 сорт детер...</td>\n",
       "      <td>2</td>\n",
       "      <td>38.0</td>\n",
       "    </tr>\n",
       "    <tr>\n",
       "      <th>2555</th>\n",
       "      <td>2019032916</td>\n",
       "      <td>5bee7748-a089-4d7c-a1ad-075cd8846a41</td>\n",
       "      <td>70862</td>\n",
       "      <td>Сушилка для белья Leifheit 81704 PEGASUS 120 C...</td>\n",
       "      <td>1</td>\n",
       "      <td>3599.0</td>\n",
       "    </tr>\n",
       "    <tr>\n",
       "      <th>5425</th>\n",
       "      <td>2019061717</td>\n",
       "      <td>bea7a833-2074-42db-bc49-4457abd3c930</td>\n",
       "      <td>14867</td>\n",
       "      <td>Пеларгония плющелистная ампельная, диам. 12 см</td>\n",
       "      <td>1</td>\n",
       "      <td>142.0</td>\n",
       "    </tr>\n",
       "    <tr>\n",
       "      <th>6459</th>\n",
       "      <td>2019092816</td>\n",
       "      <td>518c441d-9295-4ca0-b652-4662fa383bb2</td>\n",
       "      <td>72792</td>\n",
       "      <td>Сушилка для белья потолочно-настенная Gimi Lif...</td>\n",
       "      <td>1</td>\n",
       "      <td>1574.0</td>\n",
       "    </tr>\n",
       "    <tr>\n",
       "      <th>1766</th>\n",
       "      <td>2019021010</td>\n",
       "      <td>411ab440-0631-422d-9999-8d5ef8cec0e2</td>\n",
       "      <td>70185</td>\n",
       "      <td>Искусственный цветок Мимоза пластиковая желтая</td>\n",
       "      <td>2</td>\n",
       "      <td>44.0</td>\n",
       "    </tr>\n",
       "    <tr>\n",
       "      <th>6218</th>\n",
       "      <td>2019082914</td>\n",
       "      <td>9521bc4c-d409-4302-b368-5de43fc55a8a</td>\n",
       "      <td>72448</td>\n",
       "      <td>Ручка мебельная кольцо овальное хром, 1108416</td>\n",
       "      <td>5</td>\n",
       "      <td>29.0</td>\n",
       "    </tr>\n",
       "  </tbody>\n",
       "</table>\n",
       "</div>"
      ],
      "text/plain": [
       "            date                           customer_id  order_id  \\\n",
       "1412  2018122818  e88af26b-f634-461d-b6c1-c3e7c8121add     69667   \n",
       "1667  2019020217  9b090857-e0bb-4bb6-b289-a402986601d7     70066   \n",
       "5275  2019061408  1d6c8c1f-a799-4418-9af2-1ded47d7a85c     14833   \n",
       "4922  2019060910  1d6c8c1f-a799-4418-9af2-1ded47d7a85c     14833   \n",
       "3133  2019042421  2a0acc09-e343-4f92-b5c0-f598ef2b07d4     14688   \n",
       "2555  2019032916  5bee7748-a089-4d7c-a1ad-075cd8846a41     70862   \n",
       "5425  2019061717  bea7a833-2074-42db-bc49-4457abd3c930     14867   \n",
       "6459  2019092816  518c441d-9295-4ca0-b652-4662fa383bb2     72792   \n",
       "1766  2019021010  411ab440-0631-422d-9999-8d5ef8cec0e2     70185   \n",
       "6218  2019082914  9521bc4c-d409-4302-b368-5de43fc55a8a     72448   \n",
       "\n",
       "                                                product  quantity   price  \n",
       "1412  Кондиционер для белья Sandokkaebi Soft Aroma A...         1   262.0  \n",
       "1667  Полки QWERTY Берлин чёрный 44х24х10 см 40х20х1...         2  1987.0  \n",
       "5275       Рассада Огурца сорт Каролина кассета 6 шт E6         1   120.0  \n",
       "4922      Рассада Кабачка сорт Аэронавт, кассета по 6шт         1   120.0  \n",
       "3133  томата (помидор) Поцелуй герани №66 сорт детер...         2    38.0  \n",
       "2555  Сушилка для белья Leifheit 81704 PEGASUS 120 C...         1  3599.0  \n",
       "5425     Пеларгония плющелистная ампельная, диам. 12 см         1   142.0  \n",
       "6459  Сушилка для белья потолочно-настенная Gimi Lif...         1  1574.0  \n",
       "1766     Искусственный цветок Мимоза пластиковая желтая         2    44.0  \n",
       "6218      Ручка мебельная кольцо овальное хром, 1108416         5    29.0  "
      ]
     },
     "execution_count": 2,
     "metadata": {},
     "output_type": "execute_result"
    }
   ],
   "source": [
    "# чтение файла\n",
    "ecom = pd.read_csv('https://code.s3.yandex.net/datasets/ecommerce_dataset.csv')\n",
    "\n",
    "# просмотр таблицы\n",
    "ecom.sample(10)"
   ]
  },
  {
   "cell_type": "markdown",
   "metadata": {},
   "source": [
    "### Обработка значений: замена типов, нижний регистр"
   ]
  },
  {
   "cell_type": "markdown",
   "metadata": {},
   "source": [
    "Для удобства анализа лучше привести все значения в столбце с наименованиями к нижнему регистру."
   ]
  },
  {
   "cell_type": "code",
   "execution_count": 3,
   "metadata": {},
   "outputs": [],
   "source": [
    "# приведение к нижнему регистру\n",
    "ecom['product'] = ecom['product'].str.lower()"
   ]
  },
  {
   "cell_type": "markdown",
   "metadata": {},
   "source": [
    "Оценим размеры таблицы и посмотрим на типы данных."
   ]
  },
  {
   "cell_type": "code",
   "execution_count": 4,
   "metadata": {},
   "outputs": [
    {
     "name": "stdout",
     "output_type": "stream",
     "text": [
      "<class 'pandas.core.frame.DataFrame'>\n",
      "RangeIndex: 6737 entries, 0 to 6736\n",
      "Data columns (total 6 columns):\n",
      " #   Column       Non-Null Count  Dtype  \n",
      "---  ------       --------------  -----  \n",
      " 0   date         6737 non-null   int64  \n",
      " 1   customer_id  6737 non-null   object \n",
      " 2   order_id     6737 non-null   int64  \n",
      " 3   product      6737 non-null   object \n",
      " 4   quantity     6737 non-null   int64  \n",
      " 5   price        6737 non-null   float64\n",
      "dtypes: float64(1), int64(3), object(2)\n",
      "memory usage: 315.9+ KB\n"
     ]
    }
   ],
   "source": [
    "# общая информация по таблице\n",
    "ecom.info()"
   ]
  },
  {
   "cell_type": "markdown",
   "metadata": {},
   "source": [
    "Пропусков в таблице нет. Формат даты неверный, нужно исправить. Цену лучше сделать целым числом. "
   ]
  },
  {
   "cell_type": "code",
   "execution_count": 5,
   "metadata": {},
   "outputs": [],
   "source": [
    "# замена типов данных\n",
    "ecom['date'] = pd.to_datetime(ecom['date'], format = '%Y%m%d%H')\n",
    "ecom['price'] = ecom['price'].astype(int)"
   ]
  },
  {
   "cell_type": "markdown",
   "metadata": {},
   "source": [
    "### Обработка дубликатов"
   ]
  },
  {
   "cell_type": "markdown",
   "metadata": {},
   "source": [
    "Проверим данные на наличие дубликатов."
   ]
  },
  {
   "cell_type": "code",
   "execution_count": 6,
   "metadata": {},
   "outputs": [
    {
     "data": {
      "text/plain": [
       "0"
      ]
     },
     "execution_count": 6,
     "metadata": {},
     "output_type": "execute_result"
    }
   ],
   "source": [
    "# проверка полных дубликатов\n",
    "ecom.duplicated().sum()"
   ]
  },
  {
   "cell_type": "markdown",
   "metadata": {},
   "source": [
    "Полных дубликатов нет, но могут быть неполные."
   ]
  },
  {
   "cell_type": "code",
   "execution_count": 7,
   "metadata": {},
   "outputs": [
    {
     "data": {
      "text/plain": [
       "1864"
      ]
     },
     "execution_count": 7,
     "metadata": {},
     "output_type": "execute_result"
    }
   ],
   "source": [
    "# проверка неполных дубликатов\n",
    "dublicates_count = ecom.duplicated(['customer_id', \n",
    "                                    'order_id', \n",
    "                                    'product', \n",
    "                                    'price', \n",
    "                                    'quantity']).sum()\n",
    "dublicates_count"
   ]
  },
  {
   "cell_type": "markdown",
   "metadata": {},
   "source": [
    "Все-таки есть. Оценим долю."
   ]
  },
  {
   "cell_type": "code",
   "execution_count": 8,
   "metadata": {},
   "outputs": [
    {
     "data": {
      "text/plain": [
       "27.7"
      ]
     },
     "execution_count": 8,
     "metadata": {},
     "output_type": "execute_result"
    }
   ],
   "source": [
    "# оценка доли неполных дубликатов\n",
    "dublicates_part = (dublicates_count/len(ecom)*100).round(1)\n",
    "dublicates_part"
   ]
  },
  {
   "cell_type": "markdown",
   "metadata": {},
   "source": [
    "Больше четверти. Это серьезное число. Смотрим подробнее.\n",
    "\n",
    "Создаем столбец с указанием дубликатов и делаем фильтрацию. Выведем первые 20 строк."
   ]
  },
  {
   "cell_type": "code",
   "execution_count": 9,
   "metadata": {},
   "outputs": [
    {
     "data": {
      "text/html": [
       "<div>\n",
       "<style scoped>\n",
       "    .dataframe tbody tr th:only-of-type {\n",
       "        vertical-align: middle;\n",
       "    }\n",
       "\n",
       "    .dataframe tbody tr th {\n",
       "        vertical-align: top;\n",
       "    }\n",
       "\n",
       "    .dataframe thead th {\n",
       "        text-align: right;\n",
       "    }\n",
       "</style>\n",
       "<table border=\"1\" class=\"dataframe\">\n",
       "  <thead>\n",
       "    <tr style=\"text-align: right;\">\n",
       "      <th></th>\n",
       "      <th>date</th>\n",
       "      <th>customer_id</th>\n",
       "      <th>order_id</th>\n",
       "      <th>product</th>\n",
       "      <th>quantity</th>\n",
       "      <th>price</th>\n",
       "      <th>duplicate</th>\n",
       "    </tr>\n",
       "  </thead>\n",
       "  <tbody>\n",
       "    <tr>\n",
       "      <th>58</th>\n",
       "      <td>2018-10-02 18:00:00</td>\n",
       "      <td>b731df05-98fa-4610-8496-716ec530a02c</td>\n",
       "      <td>68474</td>\n",
       "      <td>доска гладильная eurogold professional 130х48 ...</td>\n",
       "      <td>1</td>\n",
       "      <td>3299</td>\n",
       "      <td>True</td>\n",
       "    </tr>\n",
       "    <tr>\n",
       "      <th>59</th>\n",
       "      <td>2018-10-02 19:00:00</td>\n",
       "      <td>b731df05-98fa-4610-8496-716ec530a02c</td>\n",
       "      <td>68474</td>\n",
       "      <td>доска гладильная eurogold professional 130х48 ...</td>\n",
       "      <td>1</td>\n",
       "      <td>3299</td>\n",
       "      <td>True</td>\n",
       "    </tr>\n",
       "    <tr>\n",
       "      <th>60</th>\n",
       "      <td>2018-10-02 20:00:00</td>\n",
       "      <td>b731df05-98fa-4610-8496-716ec530a02c</td>\n",
       "      <td>68474</td>\n",
       "      <td>доска гладильная eurogold professional 130х48 ...</td>\n",
       "      <td>1</td>\n",
       "      <td>3299</td>\n",
       "      <td>True</td>\n",
       "    </tr>\n",
       "    <tr>\n",
       "      <th>63</th>\n",
       "      <td>2018-10-03 04:00:00</td>\n",
       "      <td>b731df05-98fa-4610-8496-716ec530a02c</td>\n",
       "      <td>68474</td>\n",
       "      <td>доска гладильная eurogold professional 130х48 ...</td>\n",
       "      <td>1</td>\n",
       "      <td>3299</td>\n",
       "      <td>True</td>\n",
       "    </tr>\n",
       "    <tr>\n",
       "      <th>94</th>\n",
       "      <td>2018-10-04 13:00:00</td>\n",
       "      <td>32de7df8-8d4f-4c84-a7b9-c41d00dd83ba</td>\n",
       "      <td>68522</td>\n",
       "      <td>эвкалипт гунни d-17 см h-60 см</td>\n",
       "      <td>1</td>\n",
       "      <td>1409</td>\n",
       "      <td>True</td>\n",
       "    </tr>\n",
       "    <tr>\n",
       "      <th>126</th>\n",
       "      <td>2018-10-07 17:00:00</td>\n",
       "      <td>ce0e0c29-8c8b-4714-84bd-80957224d4cf</td>\n",
       "      <td>68557</td>\n",
       "      <td>сумка-тележка хозяйственная gimi market синяя</td>\n",
       "      <td>1</td>\n",
       "      <td>1874</td>\n",
       "      <td>True</td>\n",
       "    </tr>\n",
       "    <tr>\n",
       "      <th>147</th>\n",
       "      <td>2018-10-08 19:00:00</td>\n",
       "      <td>3de09660-90bc-4a28-aaf1-34c8435fe59c</td>\n",
       "      <td>68574</td>\n",
       "      <td>таз пластмассовый 15,0 л пищевой овальный \"ekk...</td>\n",
       "      <td>1</td>\n",
       "      <td>209</td>\n",
       "      <td>True</td>\n",
       "    </tr>\n",
       "    <tr>\n",
       "      <th>148</th>\n",
       "      <td>2018-10-08 19:00:00</td>\n",
       "      <td>3de09660-90bc-4a28-aaf1-34c8435fe59c</td>\n",
       "      <td>68574</td>\n",
       "      <td>таз пластмассовый 18,0 л пищевой (иж), 1404047</td>\n",
       "      <td>1</td>\n",
       "      <td>194</td>\n",
       "      <td>True</td>\n",
       "    </tr>\n",
       "    <tr>\n",
       "      <th>149</th>\n",
       "      <td>2018-10-08 19:00:00</td>\n",
       "      <td>3de09660-90bc-4a28-aaf1-34c8435fe59c</td>\n",
       "      <td>68574</td>\n",
       "      <td>таз пластмассовый 20,0 л пищевой (минеральные ...</td>\n",
       "      <td>1</td>\n",
       "      <td>277</td>\n",
       "      <td>True</td>\n",
       "    </tr>\n",
       "    <tr>\n",
       "      <th>150</th>\n",
       "      <td>2018-10-08 19:00:00</td>\n",
       "      <td>3de09660-90bc-4a28-aaf1-34c8435fe59c</td>\n",
       "      <td>68574</td>\n",
       "      <td>таз пластмассовый 24,0 л пищевой круглый (иж),...</td>\n",
       "      <td>1</td>\n",
       "      <td>239</td>\n",
       "      <td>True</td>\n",
       "    </tr>\n",
       "    <tr>\n",
       "      <th>152</th>\n",
       "      <td>2018-10-09 06:00:00</td>\n",
       "      <td>3de09660-90bc-4a28-aaf1-34c8435fe59c</td>\n",
       "      <td>68574</td>\n",
       "      <td>таз пластмассовый 15,0 л пищевой овальный \"ekk...</td>\n",
       "      <td>1</td>\n",
       "      <td>209</td>\n",
       "      <td>True</td>\n",
       "    </tr>\n",
       "    <tr>\n",
       "      <th>153</th>\n",
       "      <td>2018-10-09 06:00:00</td>\n",
       "      <td>3de09660-90bc-4a28-aaf1-34c8435fe59c</td>\n",
       "      <td>68574</td>\n",
       "      <td>таз пластмассовый 18,0 л пищевой (иж), 1404047</td>\n",
       "      <td>1</td>\n",
       "      <td>194</td>\n",
       "      <td>True</td>\n",
       "    </tr>\n",
       "    <tr>\n",
       "      <th>154</th>\n",
       "      <td>2018-10-09 06:00:00</td>\n",
       "      <td>3de09660-90bc-4a28-aaf1-34c8435fe59c</td>\n",
       "      <td>68574</td>\n",
       "      <td>таз пластмассовый 20,0 л пищевой (минеральные ...</td>\n",
       "      <td>1</td>\n",
       "      <td>277</td>\n",
       "      <td>True</td>\n",
       "    </tr>\n",
       "    <tr>\n",
       "      <th>155</th>\n",
       "      <td>2018-10-09 06:00:00</td>\n",
       "      <td>3de09660-90bc-4a28-aaf1-34c8435fe59c</td>\n",
       "      <td>68574</td>\n",
       "      <td>таз пластмассовый 24,0 л пищевой круглый (иж),...</td>\n",
       "      <td>1</td>\n",
       "      <td>239</td>\n",
       "      <td>True</td>\n",
       "    </tr>\n",
       "    <tr>\n",
       "      <th>266</th>\n",
       "      <td>2018-10-16 08:00:00</td>\n",
       "      <td>cd09ea73-d9ce-48c3-b4c5-018113735e80</td>\n",
       "      <td>68611</td>\n",
       "      <td>крепеж для пружины дверной, 1107055</td>\n",
       "      <td>150</td>\n",
       "      <td>19</td>\n",
       "      <td>True</td>\n",
       "    </tr>\n",
       "    <tr>\n",
       "      <th>267</th>\n",
       "      <td>2018-10-16 08:00:00</td>\n",
       "      <td>cd09ea73-d9ce-48c3-b4c5-018113735e80</td>\n",
       "      <td>68611</td>\n",
       "      <td>пружина дверная 240 мм оцинкованная (д-19 мм) ...</td>\n",
       "      <td>150</td>\n",
       "      <td>38</td>\n",
       "      <td>True</td>\n",
       "    </tr>\n",
       "    <tr>\n",
       "      <th>270</th>\n",
       "      <td>2018-10-16 13:00:00</td>\n",
       "      <td>fe2c35d8-a51a-45f3-bd85-27490d1d947a</td>\n",
       "      <td>68647</td>\n",
       "      <td>сушилка для белья потолочно-настенная gimi lif...</td>\n",
       "      <td>1</td>\n",
       "      <td>2174</td>\n",
       "      <td>True</td>\n",
       "    </tr>\n",
       "    <tr>\n",
       "      <th>271</th>\n",
       "      <td>2018-10-16 13:00:00</td>\n",
       "      <td>fe2c35d8-a51a-45f3-bd85-27490d1d947a</td>\n",
       "      <td>68647</td>\n",
       "      <td>сушилка для белья gimi lampo</td>\n",
       "      <td>1</td>\n",
       "      <td>224</td>\n",
       "      <td>True</td>\n",
       "    </tr>\n",
       "    <tr>\n",
       "      <th>273</th>\n",
       "      <td>2018-10-16 17:00:00</td>\n",
       "      <td>17213b88-1514-47a4-b8aa-ce51378ab34e</td>\n",
       "      <td>68476</td>\n",
       "      <td>мини-сковорода marmiton \"сердце\" с антипригарн...</td>\n",
       "      <td>1</td>\n",
       "      <td>239</td>\n",
       "      <td>True</td>\n",
       "    </tr>\n",
       "    <tr>\n",
       "      <th>274</th>\n",
       "      <td>2018-10-16 17:00:00</td>\n",
       "      <td>17213b88-1514-47a4-b8aa-ce51378ab34e</td>\n",
       "      <td>68476</td>\n",
       "      <td>сковорода алюминиевая с антипригарным покрытие...</td>\n",
       "      <td>1</td>\n",
       "      <td>824</td>\n",
       "      <td>True</td>\n",
       "    </tr>\n",
       "  </tbody>\n",
       "</table>\n",
       "</div>"
      ],
      "text/plain": [
       "                   date                           customer_id  order_id  \\\n",
       "58  2018-10-02 18:00:00  b731df05-98fa-4610-8496-716ec530a02c     68474   \n",
       "59  2018-10-02 19:00:00  b731df05-98fa-4610-8496-716ec530a02c     68474   \n",
       "60  2018-10-02 20:00:00  b731df05-98fa-4610-8496-716ec530a02c     68474   \n",
       "63  2018-10-03 04:00:00  b731df05-98fa-4610-8496-716ec530a02c     68474   \n",
       "94  2018-10-04 13:00:00  32de7df8-8d4f-4c84-a7b9-c41d00dd83ba     68522   \n",
       "126 2018-10-07 17:00:00  ce0e0c29-8c8b-4714-84bd-80957224d4cf     68557   \n",
       "147 2018-10-08 19:00:00  3de09660-90bc-4a28-aaf1-34c8435fe59c     68574   \n",
       "148 2018-10-08 19:00:00  3de09660-90bc-4a28-aaf1-34c8435fe59c     68574   \n",
       "149 2018-10-08 19:00:00  3de09660-90bc-4a28-aaf1-34c8435fe59c     68574   \n",
       "150 2018-10-08 19:00:00  3de09660-90bc-4a28-aaf1-34c8435fe59c     68574   \n",
       "152 2018-10-09 06:00:00  3de09660-90bc-4a28-aaf1-34c8435fe59c     68574   \n",
       "153 2018-10-09 06:00:00  3de09660-90bc-4a28-aaf1-34c8435fe59c     68574   \n",
       "154 2018-10-09 06:00:00  3de09660-90bc-4a28-aaf1-34c8435fe59c     68574   \n",
       "155 2018-10-09 06:00:00  3de09660-90bc-4a28-aaf1-34c8435fe59c     68574   \n",
       "266 2018-10-16 08:00:00  cd09ea73-d9ce-48c3-b4c5-018113735e80     68611   \n",
       "267 2018-10-16 08:00:00  cd09ea73-d9ce-48c3-b4c5-018113735e80     68611   \n",
       "270 2018-10-16 13:00:00  fe2c35d8-a51a-45f3-bd85-27490d1d947a     68647   \n",
       "271 2018-10-16 13:00:00  fe2c35d8-a51a-45f3-bd85-27490d1d947a     68647   \n",
       "273 2018-10-16 17:00:00  17213b88-1514-47a4-b8aa-ce51378ab34e     68476   \n",
       "274 2018-10-16 17:00:00  17213b88-1514-47a4-b8aa-ce51378ab34e     68476   \n",
       "\n",
       "                                               product  quantity  price  \\\n",
       "58   доска гладильная eurogold professional 130х48 ...         1   3299   \n",
       "59   доска гладильная eurogold professional 130х48 ...         1   3299   \n",
       "60   доска гладильная eurogold professional 130х48 ...         1   3299   \n",
       "63   доска гладильная eurogold professional 130х48 ...         1   3299   \n",
       "94                      эвкалипт гунни d-17 см h-60 см         1   1409   \n",
       "126      сумка-тележка хозяйственная gimi market синяя         1   1874   \n",
       "147  таз пластмассовый 15,0 л пищевой овальный \"ekk...         1    209   \n",
       "148     таз пластмассовый 18,0 л пищевой (иж), 1404047         1    194   \n",
       "149  таз пластмассовый 20,0 л пищевой (минеральные ...         1    277   \n",
       "150  таз пластмассовый 24,0 л пищевой круглый (иж),...         1    239   \n",
       "152  таз пластмассовый 15,0 л пищевой овальный \"ekk...         1    209   \n",
       "153     таз пластмассовый 18,0 л пищевой (иж), 1404047         1    194   \n",
       "154  таз пластмассовый 20,0 л пищевой (минеральные ...         1    277   \n",
       "155  таз пластмассовый 24,0 л пищевой круглый (иж),...         1    239   \n",
       "266                крепеж для пружины дверной, 1107055       150     19   \n",
       "267  пружина дверная 240 мм оцинкованная (д-19 мм) ...       150     38   \n",
       "270  сушилка для белья потолочно-настенная gimi lif...         1   2174   \n",
       "271                       сушилка для белья gimi lampo         1    224   \n",
       "273  мини-сковорода marmiton \"сердце\" с антипригарн...         1    239   \n",
       "274  сковорода алюминиевая с антипригарным покрытие...         1    824   \n",
       "\n",
       "     duplicate  \n",
       "58        True  \n",
       "59        True  \n",
       "60        True  \n",
       "63        True  \n",
       "94        True  \n",
       "126       True  \n",
       "147       True  \n",
       "148       True  \n",
       "149       True  \n",
       "150       True  \n",
       "152       True  \n",
       "153       True  \n",
       "154       True  \n",
       "155       True  \n",
       "266       True  \n",
       "267       True  \n",
       "270       True  \n",
       "271       True  \n",
       "273       True  \n",
       "274       True  "
      ]
     },
     "execution_count": 9,
     "metadata": {},
     "output_type": "execute_result"
    }
   ],
   "source": [
    "# просмотр неполных дубликатов\n",
    "ecom_copy = ecom.copy()\n",
    "ecom_copy['duplicate'] = ecom_copy.duplicated(['customer_id', \n",
    "                                               'order_id', \n",
    "                                               'product', \n",
    "                                               'price', \n",
    "                                               'quantity'])\n",
    "ecom_copy_is_dublicates = ecom_copy[ecom_copy['duplicate'] == True]\n",
    "ecom_copy_is_dublicates.head(20)"
   ]
  },
  {
   "cell_type": "markdown",
   "metadata": {},
   "source": [
    "Есть человек, купивший четыре гладильных доски с интервалами в 1 час и 9 часов. Также есть человек, купивший четыре пластмассовых таза в 7 вечера и 6 утра следующего дня. Это не выглядит как реальные заказы, похоже на ошибку выгрузки.\n",
    "\n",
    "Посмотрим содержание заказов с большим количеством дубликатов. Сгруппируем дубликаты по номеру заказа и дате."
   ]
  },
  {
   "cell_type": "code",
   "execution_count": 10,
   "metadata": {},
   "outputs": [
    {
     "data": {
      "text/html": [
       "<div>\n",
       "<style scoped>\n",
       "    .dataframe tbody tr th:only-of-type {\n",
       "        vertical-align: middle;\n",
       "    }\n",
       "\n",
       "    .dataframe tbody tr th {\n",
       "        vertical-align: top;\n",
       "    }\n",
       "\n",
       "    .dataframe thead th {\n",
       "        text-align: right;\n",
       "    }\n",
       "</style>\n",
       "<table border=\"1\" class=\"dataframe\">\n",
       "  <thead>\n",
       "    <tr style=\"text-align: right;\">\n",
       "      <th></th>\n",
       "      <th></th>\n",
       "      <th>product</th>\n",
       "    </tr>\n",
       "    <tr>\n",
       "      <th>order_id</th>\n",
       "      <th>date</th>\n",
       "      <th></th>\n",
       "    </tr>\n",
       "  </thead>\n",
       "  <tbody>\n",
       "    <tr>\n",
       "      <th rowspan=\"6\" valign=\"top\">13547</th>\n",
       "      <th>2018-10-23 13:00:00</th>\n",
       "      <td>3</td>\n",
       "    </tr>\n",
       "    <tr>\n",
       "      <th>2018-10-28 19:00:00</th>\n",
       "      <td>3</td>\n",
       "    </tr>\n",
       "    <tr>\n",
       "      <th>2018-11-02 14:00:00</th>\n",
       "      <td>3</td>\n",
       "    </tr>\n",
       "    <tr>\n",
       "      <th>2018-11-10 17:00:00</th>\n",
       "      <td>3</td>\n",
       "    </tr>\n",
       "    <tr>\n",
       "      <th>2018-11-15 15:00:00</th>\n",
       "      <td>3</td>\n",
       "    </tr>\n",
       "    <tr>\n",
       "      <th>2018-11-16 16:00:00</th>\n",
       "      <td>3</td>\n",
       "    </tr>\n",
       "    <tr>\n",
       "      <th rowspan=\"3\" valign=\"top\">14500</th>\n",
       "      <th>2018-10-28 09:00:00</th>\n",
       "      <td>9</td>\n",
       "    </tr>\n",
       "    <tr>\n",
       "      <th>2018-10-31 06:00:00</th>\n",
       "      <td>7</td>\n",
       "    </tr>\n",
       "    <tr>\n",
       "      <th>2018-10-31 13:00:00</th>\n",
       "      <td>8</td>\n",
       "    </tr>\n",
       "    <tr>\n",
       "      <th>14504</th>\n",
       "      <th>2018-11-06 07:00:00</th>\n",
       "      <td>4</td>\n",
       "    </tr>\n",
       "    <tr>\n",
       "      <th>14505</th>\n",
       "      <th>2018-11-07 07:00:00</th>\n",
       "      <td>5</td>\n",
       "    </tr>\n",
       "    <tr>\n",
       "      <th rowspan=\"4\" valign=\"top\">14521</th>\n",
       "      <th>2019-01-10 18:00:00</th>\n",
       "      <td>3</td>\n",
       "    </tr>\n",
       "    <tr>\n",
       "      <th>2019-01-13 11:00:00</th>\n",
       "      <td>3</td>\n",
       "    </tr>\n",
       "    <tr>\n",
       "      <th>2019-01-19 10:00:00</th>\n",
       "      <td>3</td>\n",
       "    </tr>\n",
       "    <tr>\n",
       "      <th>2019-01-27 11:00:00</th>\n",
       "      <td>3</td>\n",
       "    </tr>\n",
       "  </tbody>\n",
       "</table>\n",
       "</div>"
      ],
      "text/plain": [
       "                              product\n",
       "order_id date                        \n",
       "13547    2018-10-23 13:00:00        3\n",
       "         2018-10-28 19:00:00        3\n",
       "         2018-11-02 14:00:00        3\n",
       "         2018-11-10 17:00:00        3\n",
       "         2018-11-15 15:00:00        3\n",
       "         2018-11-16 16:00:00        3\n",
       "14500    2018-10-28 09:00:00        9\n",
       "         2018-10-31 06:00:00        7\n",
       "         2018-10-31 13:00:00        8\n",
       "14504    2018-11-06 07:00:00        4\n",
       "14505    2018-11-07 07:00:00        5\n",
       "14521    2019-01-10 18:00:00        3\n",
       "         2019-01-13 11:00:00        3\n",
       "         2019-01-19 10:00:00        3\n",
       "         2019-01-27 11:00:00        3"
      ]
     },
     "execution_count": 10,
     "metadata": {},
     "output_type": "execute_result"
    }
   ],
   "source": [
    "# группировка дубликатов по номеру заказа и дате\n",
    "ecom_copy_is_dublicates_grouped = ecom_copy_is_dublicates.groupby(['order_id', \n",
    "                                                                   'date']).agg({'product':'count'})\n",
    "ecom_copy_is_dublicates_grouped.head(15)"
   ]
  },
  {
   "cell_type": "markdown",
   "metadata": {},
   "source": [
    "У заказов 13547 и 14521 в разное время проходит одно и то же количество позиций. Посмотрим, что в них."
   ]
  },
  {
   "cell_type": "code",
   "execution_count": 11,
   "metadata": {
    "scrolled": false
   },
   "outputs": [
    {
     "data": {
      "text/html": [
       "<div>\n",
       "<style scoped>\n",
       "    .dataframe tbody tr th:only-of-type {\n",
       "        vertical-align: middle;\n",
       "    }\n",
       "\n",
       "    .dataframe tbody tr th {\n",
       "        vertical-align: top;\n",
       "    }\n",
       "\n",
       "    .dataframe thead th {\n",
       "        text-align: right;\n",
       "    }\n",
       "</style>\n",
       "<table border=\"1\" class=\"dataframe\">\n",
       "  <thead>\n",
       "    <tr style=\"text-align: right;\">\n",
       "      <th></th>\n",
       "      <th>date</th>\n",
       "      <th>customer_id</th>\n",
       "      <th>order_id</th>\n",
       "      <th>product</th>\n",
       "      <th>quantity</th>\n",
       "      <th>price</th>\n",
       "    </tr>\n",
       "  </thead>\n",
       "  <tbody>\n",
       "    <tr>\n",
       "      <th>102</th>\n",
       "      <td>2018-10-05 00:00:00</td>\n",
       "      <td>b80e4826-7218-4bf9-ac08-eb2c81ab3f62</td>\n",
       "      <td>13547</td>\n",
       "      <td>рассада зелени для кухни лаванды в кассете по ...</td>\n",
       "      <td>1</td>\n",
       "      <td>315</td>\n",
       "    </tr>\n",
       "    <tr>\n",
       "      <th>103</th>\n",
       "      <td>2018-10-05 00:00:00</td>\n",
       "      <td>b80e4826-7218-4bf9-ac08-eb2c81ab3f62</td>\n",
       "      <td>13547</td>\n",
       "      <td>рассада зелени для кухни розмарина в кассете п...</td>\n",
       "      <td>1</td>\n",
       "      <td>207</td>\n",
       "    </tr>\n",
       "    <tr>\n",
       "      <th>104</th>\n",
       "      <td>2018-10-05 00:00:00</td>\n",
       "      <td>b80e4826-7218-4bf9-ac08-eb2c81ab3f62</td>\n",
       "      <td>13547</td>\n",
       "      <td>рассада зелени для кухни тимьяна в кассете по ...</td>\n",
       "      <td>1</td>\n",
       "      <td>162</td>\n",
       "    </tr>\n",
       "    <tr>\n",
       "      <th>376</th>\n",
       "      <td>2018-10-23 13:00:00</td>\n",
       "      <td>b80e4826-7218-4bf9-ac08-eb2c81ab3f62</td>\n",
       "      <td>13547</td>\n",
       "      <td>рассада зелени для кухни лаванды в кассете по ...</td>\n",
       "      <td>1</td>\n",
       "      <td>315</td>\n",
       "    </tr>\n",
       "    <tr>\n",
       "      <th>377</th>\n",
       "      <td>2018-10-23 13:00:00</td>\n",
       "      <td>b80e4826-7218-4bf9-ac08-eb2c81ab3f62</td>\n",
       "      <td>13547</td>\n",
       "      <td>рассада зелени для кухни розмарина в кассете п...</td>\n",
       "      <td>1</td>\n",
       "      <td>207</td>\n",
       "    </tr>\n",
       "    <tr>\n",
       "      <th>378</th>\n",
       "      <td>2018-10-23 13:00:00</td>\n",
       "      <td>b80e4826-7218-4bf9-ac08-eb2c81ab3f62</td>\n",
       "      <td>13547</td>\n",
       "      <td>рассада зелени для кухни тимьяна в кассете по ...</td>\n",
       "      <td>1</td>\n",
       "      <td>162</td>\n",
       "    </tr>\n",
       "    <tr>\n",
       "      <th>509</th>\n",
       "      <td>2018-10-28 19:00:00</td>\n",
       "      <td>b80e4826-7218-4bf9-ac08-eb2c81ab3f62</td>\n",
       "      <td>13547</td>\n",
       "      <td>рассада зелени для кухни лаванды в кассете по ...</td>\n",
       "      <td>1</td>\n",
       "      <td>315</td>\n",
       "    </tr>\n",
       "    <tr>\n",
       "      <th>510</th>\n",
       "      <td>2018-10-28 19:00:00</td>\n",
       "      <td>b80e4826-7218-4bf9-ac08-eb2c81ab3f62</td>\n",
       "      <td>13547</td>\n",
       "      <td>рассада зелени для кухни розмарина в кассете п...</td>\n",
       "      <td>1</td>\n",
       "      <td>207</td>\n",
       "    </tr>\n",
       "    <tr>\n",
       "      <th>511</th>\n",
       "      <td>2018-10-28 19:00:00</td>\n",
       "      <td>b80e4826-7218-4bf9-ac08-eb2c81ab3f62</td>\n",
       "      <td>13547</td>\n",
       "      <td>рассада зелени для кухни тимьяна в кассете по ...</td>\n",
       "      <td>1</td>\n",
       "      <td>162</td>\n",
       "    </tr>\n",
       "    <tr>\n",
       "      <th>588</th>\n",
       "      <td>2018-11-02 14:00:00</td>\n",
       "      <td>b80e4826-7218-4bf9-ac08-eb2c81ab3f62</td>\n",
       "      <td>13547</td>\n",
       "      <td>рассада зелени для кухни лаванды в кассете по ...</td>\n",
       "      <td>1</td>\n",
       "      <td>315</td>\n",
       "    </tr>\n",
       "    <tr>\n",
       "      <th>589</th>\n",
       "      <td>2018-11-02 14:00:00</td>\n",
       "      <td>b80e4826-7218-4bf9-ac08-eb2c81ab3f62</td>\n",
       "      <td>13547</td>\n",
       "      <td>рассада зелени для кухни розмарина в кассете п...</td>\n",
       "      <td>1</td>\n",
       "      <td>207</td>\n",
       "    </tr>\n",
       "    <tr>\n",
       "      <th>590</th>\n",
       "      <td>2018-11-02 14:00:00</td>\n",
       "      <td>b80e4826-7218-4bf9-ac08-eb2c81ab3f62</td>\n",
       "      <td>13547</td>\n",
       "      <td>рассада зелени для кухни тимьяна в кассете по ...</td>\n",
       "      <td>1</td>\n",
       "      <td>162</td>\n",
       "    </tr>\n",
       "    <tr>\n",
       "      <th>758</th>\n",
       "      <td>2018-11-10 17:00:00</td>\n",
       "      <td>b80e4826-7218-4bf9-ac08-eb2c81ab3f62</td>\n",
       "      <td>13547</td>\n",
       "      <td>рассада зелени для кухни лаванды в кассете по ...</td>\n",
       "      <td>1</td>\n",
       "      <td>315</td>\n",
       "    </tr>\n",
       "    <tr>\n",
       "      <th>759</th>\n",
       "      <td>2018-11-10 17:00:00</td>\n",
       "      <td>b80e4826-7218-4bf9-ac08-eb2c81ab3f62</td>\n",
       "      <td>13547</td>\n",
       "      <td>рассада зелени для кухни розмарина в кассете п...</td>\n",
       "      <td>1</td>\n",
       "      <td>207</td>\n",
       "    </tr>\n",
       "    <tr>\n",
       "      <th>760</th>\n",
       "      <td>2018-11-10 17:00:00</td>\n",
       "      <td>b80e4826-7218-4bf9-ac08-eb2c81ab3f62</td>\n",
       "      <td>13547</td>\n",
       "      <td>рассада зелени для кухни тимьяна в кассете по ...</td>\n",
       "      <td>1</td>\n",
       "      <td>162</td>\n",
       "    </tr>\n",
       "    <tr>\n",
       "      <th>816</th>\n",
       "      <td>2018-11-15 15:00:00</td>\n",
       "      <td>b80e4826-7218-4bf9-ac08-eb2c81ab3f62</td>\n",
       "      <td>13547</td>\n",
       "      <td>рассада зелени для кухни лаванды в кассете по ...</td>\n",
       "      <td>1</td>\n",
       "      <td>315</td>\n",
       "    </tr>\n",
       "    <tr>\n",
       "      <th>817</th>\n",
       "      <td>2018-11-15 15:00:00</td>\n",
       "      <td>b80e4826-7218-4bf9-ac08-eb2c81ab3f62</td>\n",
       "      <td>13547</td>\n",
       "      <td>рассада зелени для кухни розмарина в кассете п...</td>\n",
       "      <td>1</td>\n",
       "      <td>207</td>\n",
       "    </tr>\n",
       "    <tr>\n",
       "      <th>818</th>\n",
       "      <td>2018-11-15 15:00:00</td>\n",
       "      <td>b80e4826-7218-4bf9-ac08-eb2c81ab3f62</td>\n",
       "      <td>13547</td>\n",
       "      <td>рассада зелени для кухни тимьяна в кассете по ...</td>\n",
       "      <td>1</td>\n",
       "      <td>162</td>\n",
       "    </tr>\n",
       "    <tr>\n",
       "      <th>827</th>\n",
       "      <td>2018-11-16 16:00:00</td>\n",
       "      <td>b80e4826-7218-4bf9-ac08-eb2c81ab3f62</td>\n",
       "      <td>13547</td>\n",
       "      <td>рассада зелени для кухни лаванды в кассете по ...</td>\n",
       "      <td>1</td>\n",
       "      <td>315</td>\n",
       "    </tr>\n",
       "    <tr>\n",
       "      <th>828</th>\n",
       "      <td>2018-11-16 16:00:00</td>\n",
       "      <td>b80e4826-7218-4bf9-ac08-eb2c81ab3f62</td>\n",
       "      <td>13547</td>\n",
       "      <td>рассада зелени для кухни розмарина в кассете п...</td>\n",
       "      <td>1</td>\n",
       "      <td>207</td>\n",
       "    </tr>\n",
       "    <tr>\n",
       "      <th>829</th>\n",
       "      <td>2018-11-16 16:00:00</td>\n",
       "      <td>b80e4826-7218-4bf9-ac08-eb2c81ab3f62</td>\n",
       "      <td>13547</td>\n",
       "      <td>рассада зелени для кухни тимьяна в кассете по ...</td>\n",
       "      <td>1</td>\n",
       "      <td>162</td>\n",
       "    </tr>\n",
       "  </tbody>\n",
       "</table>\n",
       "</div>"
      ],
      "text/plain": [
       "                   date                           customer_id  order_id  \\\n",
       "102 2018-10-05 00:00:00  b80e4826-7218-4bf9-ac08-eb2c81ab3f62     13547   \n",
       "103 2018-10-05 00:00:00  b80e4826-7218-4bf9-ac08-eb2c81ab3f62     13547   \n",
       "104 2018-10-05 00:00:00  b80e4826-7218-4bf9-ac08-eb2c81ab3f62     13547   \n",
       "376 2018-10-23 13:00:00  b80e4826-7218-4bf9-ac08-eb2c81ab3f62     13547   \n",
       "377 2018-10-23 13:00:00  b80e4826-7218-4bf9-ac08-eb2c81ab3f62     13547   \n",
       "378 2018-10-23 13:00:00  b80e4826-7218-4bf9-ac08-eb2c81ab3f62     13547   \n",
       "509 2018-10-28 19:00:00  b80e4826-7218-4bf9-ac08-eb2c81ab3f62     13547   \n",
       "510 2018-10-28 19:00:00  b80e4826-7218-4bf9-ac08-eb2c81ab3f62     13547   \n",
       "511 2018-10-28 19:00:00  b80e4826-7218-4bf9-ac08-eb2c81ab3f62     13547   \n",
       "588 2018-11-02 14:00:00  b80e4826-7218-4bf9-ac08-eb2c81ab3f62     13547   \n",
       "589 2018-11-02 14:00:00  b80e4826-7218-4bf9-ac08-eb2c81ab3f62     13547   \n",
       "590 2018-11-02 14:00:00  b80e4826-7218-4bf9-ac08-eb2c81ab3f62     13547   \n",
       "758 2018-11-10 17:00:00  b80e4826-7218-4bf9-ac08-eb2c81ab3f62     13547   \n",
       "759 2018-11-10 17:00:00  b80e4826-7218-4bf9-ac08-eb2c81ab3f62     13547   \n",
       "760 2018-11-10 17:00:00  b80e4826-7218-4bf9-ac08-eb2c81ab3f62     13547   \n",
       "816 2018-11-15 15:00:00  b80e4826-7218-4bf9-ac08-eb2c81ab3f62     13547   \n",
       "817 2018-11-15 15:00:00  b80e4826-7218-4bf9-ac08-eb2c81ab3f62     13547   \n",
       "818 2018-11-15 15:00:00  b80e4826-7218-4bf9-ac08-eb2c81ab3f62     13547   \n",
       "827 2018-11-16 16:00:00  b80e4826-7218-4bf9-ac08-eb2c81ab3f62     13547   \n",
       "828 2018-11-16 16:00:00  b80e4826-7218-4bf9-ac08-eb2c81ab3f62     13547   \n",
       "829 2018-11-16 16:00:00  b80e4826-7218-4bf9-ac08-eb2c81ab3f62     13547   \n",
       "\n",
       "                                               product  quantity  price  \n",
       "102  рассада зелени для кухни лаванды в кассете по ...         1    315  \n",
       "103  рассада зелени для кухни розмарина в кассете п...         1    207  \n",
       "104  рассада зелени для кухни тимьяна в кассете по ...         1    162  \n",
       "376  рассада зелени для кухни лаванды в кассете по ...         1    315  \n",
       "377  рассада зелени для кухни розмарина в кассете п...         1    207  \n",
       "378  рассада зелени для кухни тимьяна в кассете по ...         1    162  \n",
       "509  рассада зелени для кухни лаванды в кассете по ...         1    315  \n",
       "510  рассада зелени для кухни розмарина в кассете п...         1    207  \n",
       "511  рассада зелени для кухни тимьяна в кассете по ...         1    162  \n",
       "588  рассада зелени для кухни лаванды в кассете по ...         1    315  \n",
       "589  рассада зелени для кухни розмарина в кассете п...         1    207  \n",
       "590  рассада зелени для кухни тимьяна в кассете по ...         1    162  \n",
       "758  рассада зелени для кухни лаванды в кассете по ...         1    315  \n",
       "759  рассада зелени для кухни розмарина в кассете п...         1    207  \n",
       "760  рассада зелени для кухни тимьяна в кассете по ...         1    162  \n",
       "816  рассада зелени для кухни лаванды в кассете по ...         1    315  \n",
       "817  рассада зелени для кухни розмарина в кассете п...         1    207  \n",
       "818  рассада зелени для кухни тимьяна в кассете по ...         1    162  \n",
       "827  рассада зелени для кухни лаванды в кассете по ...         1    315  \n",
       "828  рассада зелени для кухни розмарина в кассете п...         1    207  \n",
       "829  рассада зелени для кухни тимьяна в кассете по ...         1    162  "
      ]
     },
     "execution_count": 11,
     "metadata": {},
     "output_type": "execute_result"
    }
   ],
   "source": [
    "# заказ 13547 с дубликатами\n",
    "ecom[ecom['order_id'] == 13547]"
   ]
  },
  {
   "cell_type": "markdown",
   "metadata": {},
   "source": [
    "Видно, что это одни и те же позиции, повторяющиеся через определенное время. Посмотрим другой заказ."
   ]
  },
  {
   "cell_type": "code",
   "execution_count": 12,
   "metadata": {},
   "outputs": [
    {
     "data": {
      "text/html": [
       "<div>\n",
       "<style scoped>\n",
       "    .dataframe tbody tr th:only-of-type {\n",
       "        vertical-align: middle;\n",
       "    }\n",
       "\n",
       "    .dataframe tbody tr th {\n",
       "        vertical-align: top;\n",
       "    }\n",
       "\n",
       "    .dataframe thead th {\n",
       "        text-align: right;\n",
       "    }\n",
       "</style>\n",
       "<table border=\"1\" class=\"dataframe\">\n",
       "  <thead>\n",
       "    <tr style=\"text-align: right;\">\n",
       "      <th></th>\n",
       "      <th>date</th>\n",
       "      <th>customer_id</th>\n",
       "      <th>order_id</th>\n",
       "      <th>product</th>\n",
       "      <th>quantity</th>\n",
       "      <th>price</th>\n",
       "    </tr>\n",
       "  </thead>\n",
       "  <tbody>\n",
       "    <tr>\n",
       "      <th>1471</th>\n",
       "      <td>2019-01-10 17:00:00</td>\n",
       "      <td>4d416cec-6f5b-4444-9b50-08770397714b</td>\n",
       "      <td>14521</td>\n",
       "      <td>пеларгония зональная диам. 12 см белая полумах...</td>\n",
       "      <td>1</td>\n",
       "      <td>188</td>\n",
       "    </tr>\n",
       "    <tr>\n",
       "      <th>1472</th>\n",
       "      <td>2019-01-10 17:00:00</td>\n",
       "      <td>4d416cec-6f5b-4444-9b50-08770397714b</td>\n",
       "      <td>14521</td>\n",
       "      <td>пеларгония зональная диам. 12 см красная махровая</td>\n",
       "      <td>1</td>\n",
       "      <td>188</td>\n",
       "    </tr>\n",
       "    <tr>\n",
       "      <th>1473</th>\n",
       "      <td>2019-01-10 17:00:00</td>\n",
       "      <td>4d416cec-6f5b-4444-9b50-08770397714b</td>\n",
       "      <td>14521</td>\n",
       "      <td>пеларгония зональная диам. 12 см темнорозовая ...</td>\n",
       "      <td>1</td>\n",
       "      <td>188</td>\n",
       "    </tr>\n",
       "    <tr>\n",
       "      <th>1475</th>\n",
       "      <td>2019-01-10 18:00:00</td>\n",
       "      <td>4d416cec-6f5b-4444-9b50-08770397714b</td>\n",
       "      <td>14521</td>\n",
       "      <td>пеларгония зональная диам. 12 см белая полумах...</td>\n",
       "      <td>1</td>\n",
       "      <td>188</td>\n",
       "    </tr>\n",
       "    <tr>\n",
       "      <th>1476</th>\n",
       "      <td>2019-01-10 18:00:00</td>\n",
       "      <td>4d416cec-6f5b-4444-9b50-08770397714b</td>\n",
       "      <td>14521</td>\n",
       "      <td>пеларгония зональная диам. 12 см красная махровая</td>\n",
       "      <td>1</td>\n",
       "      <td>188</td>\n",
       "    </tr>\n",
       "    <tr>\n",
       "      <th>1477</th>\n",
       "      <td>2019-01-10 18:00:00</td>\n",
       "      <td>4d416cec-6f5b-4444-9b50-08770397714b</td>\n",
       "      <td>14521</td>\n",
       "      <td>пеларгония зональная диам. 12 см темнорозовая ...</td>\n",
       "      <td>1</td>\n",
       "      <td>188</td>\n",
       "    </tr>\n",
       "    <tr>\n",
       "      <th>1500</th>\n",
       "      <td>2019-01-13 11:00:00</td>\n",
       "      <td>4d416cec-6f5b-4444-9b50-08770397714b</td>\n",
       "      <td>14521</td>\n",
       "      <td>пеларгония зональная диам. 12 см белая полумах...</td>\n",
       "      <td>1</td>\n",
       "      <td>188</td>\n",
       "    </tr>\n",
       "    <tr>\n",
       "      <th>1501</th>\n",
       "      <td>2019-01-13 11:00:00</td>\n",
       "      <td>4d416cec-6f5b-4444-9b50-08770397714b</td>\n",
       "      <td>14521</td>\n",
       "      <td>пеларгония зональная диам. 12 см красная махровая</td>\n",
       "      <td>1</td>\n",
       "      <td>188</td>\n",
       "    </tr>\n",
       "    <tr>\n",
       "      <th>1502</th>\n",
       "      <td>2019-01-13 11:00:00</td>\n",
       "      <td>4d416cec-6f5b-4444-9b50-08770397714b</td>\n",
       "      <td>14521</td>\n",
       "      <td>пеларгония зональная диам. 12 см темнорозовая ...</td>\n",
       "      <td>1</td>\n",
       "      <td>188</td>\n",
       "    </tr>\n",
       "    <tr>\n",
       "      <th>1547</th>\n",
       "      <td>2019-01-19 10:00:00</td>\n",
       "      <td>4d416cec-6f5b-4444-9b50-08770397714b</td>\n",
       "      <td>14521</td>\n",
       "      <td>пеларгония зональная диам. 12 см белая полумах...</td>\n",
       "      <td>1</td>\n",
       "      <td>188</td>\n",
       "    </tr>\n",
       "    <tr>\n",
       "      <th>1548</th>\n",
       "      <td>2019-01-19 10:00:00</td>\n",
       "      <td>4d416cec-6f5b-4444-9b50-08770397714b</td>\n",
       "      <td>14521</td>\n",
       "      <td>пеларгония зональная диам. 12 см красная махровая</td>\n",
       "      <td>1</td>\n",
       "      <td>188</td>\n",
       "    </tr>\n",
       "    <tr>\n",
       "      <th>1549</th>\n",
       "      <td>2019-01-19 10:00:00</td>\n",
       "      <td>4d416cec-6f5b-4444-9b50-08770397714b</td>\n",
       "      <td>14521</td>\n",
       "      <td>пеларгония зональная диам. 12 см темнорозовая ...</td>\n",
       "      <td>1</td>\n",
       "      <td>188</td>\n",
       "    </tr>\n",
       "    <tr>\n",
       "      <th>1602</th>\n",
       "      <td>2019-01-27 11:00:00</td>\n",
       "      <td>4d416cec-6f5b-4444-9b50-08770397714b</td>\n",
       "      <td>14521</td>\n",
       "      <td>пеларгония зональная диам. 12 см белая полумах...</td>\n",
       "      <td>1</td>\n",
       "      <td>188</td>\n",
       "    </tr>\n",
       "    <tr>\n",
       "      <th>1603</th>\n",
       "      <td>2019-01-27 11:00:00</td>\n",
       "      <td>4d416cec-6f5b-4444-9b50-08770397714b</td>\n",
       "      <td>14521</td>\n",
       "      <td>пеларгония зональная диам. 12 см красная махровая</td>\n",
       "      <td>1</td>\n",
       "      <td>188</td>\n",
       "    </tr>\n",
       "    <tr>\n",
       "      <th>1604</th>\n",
       "      <td>2019-01-27 11:00:00</td>\n",
       "      <td>4d416cec-6f5b-4444-9b50-08770397714b</td>\n",
       "      <td>14521</td>\n",
       "      <td>пеларгония зональная диам. 12 см темнорозовая ...</td>\n",
       "      <td>1</td>\n",
       "      <td>188</td>\n",
       "    </tr>\n",
       "    <tr>\n",
       "      <th>1639</th>\n",
       "      <td>2019-01-30 20:00:00</td>\n",
       "      <td>4d416cec-6f5b-4444-9b50-08770397714b</td>\n",
       "      <td>14521</td>\n",
       "      <td>пеларгония зональная диам. 12 см белая полумах...</td>\n",
       "      <td>1</td>\n",
       "      <td>188</td>\n",
       "    </tr>\n",
       "    <tr>\n",
       "      <th>1640</th>\n",
       "      <td>2019-01-30 20:00:00</td>\n",
       "      <td>4d416cec-6f5b-4444-9b50-08770397714b</td>\n",
       "      <td>14521</td>\n",
       "      <td>пеларгония зональная диам. 12 см красная махровая</td>\n",
       "      <td>1</td>\n",
       "      <td>188</td>\n",
       "    </tr>\n",
       "    <tr>\n",
       "      <th>1641</th>\n",
       "      <td>2019-01-30 20:00:00</td>\n",
       "      <td>4d416cec-6f5b-4444-9b50-08770397714b</td>\n",
       "      <td>14521</td>\n",
       "      <td>пеларгония зональная диам. 12 см темнорозовая ...</td>\n",
       "      <td>1</td>\n",
       "      <td>188</td>\n",
       "    </tr>\n",
       "  </tbody>\n",
       "</table>\n",
       "</div>"
      ],
      "text/plain": [
       "                    date                           customer_id  order_id  \\\n",
       "1471 2019-01-10 17:00:00  4d416cec-6f5b-4444-9b50-08770397714b     14521   \n",
       "1472 2019-01-10 17:00:00  4d416cec-6f5b-4444-9b50-08770397714b     14521   \n",
       "1473 2019-01-10 17:00:00  4d416cec-6f5b-4444-9b50-08770397714b     14521   \n",
       "1475 2019-01-10 18:00:00  4d416cec-6f5b-4444-9b50-08770397714b     14521   \n",
       "1476 2019-01-10 18:00:00  4d416cec-6f5b-4444-9b50-08770397714b     14521   \n",
       "1477 2019-01-10 18:00:00  4d416cec-6f5b-4444-9b50-08770397714b     14521   \n",
       "1500 2019-01-13 11:00:00  4d416cec-6f5b-4444-9b50-08770397714b     14521   \n",
       "1501 2019-01-13 11:00:00  4d416cec-6f5b-4444-9b50-08770397714b     14521   \n",
       "1502 2019-01-13 11:00:00  4d416cec-6f5b-4444-9b50-08770397714b     14521   \n",
       "1547 2019-01-19 10:00:00  4d416cec-6f5b-4444-9b50-08770397714b     14521   \n",
       "1548 2019-01-19 10:00:00  4d416cec-6f5b-4444-9b50-08770397714b     14521   \n",
       "1549 2019-01-19 10:00:00  4d416cec-6f5b-4444-9b50-08770397714b     14521   \n",
       "1602 2019-01-27 11:00:00  4d416cec-6f5b-4444-9b50-08770397714b     14521   \n",
       "1603 2019-01-27 11:00:00  4d416cec-6f5b-4444-9b50-08770397714b     14521   \n",
       "1604 2019-01-27 11:00:00  4d416cec-6f5b-4444-9b50-08770397714b     14521   \n",
       "1639 2019-01-30 20:00:00  4d416cec-6f5b-4444-9b50-08770397714b     14521   \n",
       "1640 2019-01-30 20:00:00  4d416cec-6f5b-4444-9b50-08770397714b     14521   \n",
       "1641 2019-01-30 20:00:00  4d416cec-6f5b-4444-9b50-08770397714b     14521   \n",
       "\n",
       "                                                product  quantity  price  \n",
       "1471  пеларгония зональная диам. 12 см белая полумах...         1    188  \n",
       "1472  пеларгония зональная диам. 12 см красная махровая         1    188  \n",
       "1473  пеларгония зональная диам. 12 см темнорозовая ...         1    188  \n",
       "1475  пеларгония зональная диам. 12 см белая полумах...         1    188  \n",
       "1476  пеларгония зональная диам. 12 см красная махровая         1    188  \n",
       "1477  пеларгония зональная диам. 12 см темнорозовая ...         1    188  \n",
       "1500  пеларгония зональная диам. 12 см белая полумах...         1    188  \n",
       "1501  пеларгония зональная диам. 12 см красная махровая         1    188  \n",
       "1502  пеларгония зональная диам. 12 см темнорозовая ...         1    188  \n",
       "1547  пеларгония зональная диам. 12 см белая полумах...         1    188  \n",
       "1548  пеларгония зональная диам. 12 см красная махровая         1    188  \n",
       "1549  пеларгония зональная диам. 12 см темнорозовая ...         1    188  \n",
       "1602  пеларгония зональная диам. 12 см белая полумах...         1    188  \n",
       "1603  пеларгония зональная диам. 12 см красная махровая         1    188  \n",
       "1604  пеларгония зональная диам. 12 см темнорозовая ...         1    188  \n",
       "1639  пеларгония зональная диам. 12 см белая полумах...         1    188  \n",
       "1640  пеларгония зональная диам. 12 см красная махровая         1    188  \n",
       "1641  пеларгония зональная диам. 12 см темнорозовая ...         1    188  "
      ]
     },
     "execution_count": 12,
     "metadata": {},
     "output_type": "execute_result"
    }
   ],
   "source": [
    "# заказ 13521 с дубликатами\n",
    "ecom[ecom['order_id'] == 14521]"
   ]
  },
  {
   "cell_type": "markdown",
   "metadata": {},
   "source": [
    "То же самое. На реальное поведение покупателя это непохоже. Скорее всего, в таблицу закрались данные о статусе заказа: оформление, сборка на складе, отправка и т.д.. Или же смешались данные из разных отделов. Возможно, были технические ошибки.\n",
    "\n",
    "Об этом стоит сообщить коллегам, ответственным за выгрузку, и узнать точные причины и способы устранения проблем. Сейчас же эти дубликаты могут помешать анализу. Удаляем их и оставляем только первые строки с позициями."
   ]
  },
  {
   "cell_type": "code",
   "execution_count": 13,
   "metadata": {},
   "outputs": [],
   "source": [
    "# удаление неполных дубликатов\n",
    "ecom_new = ecom.drop_duplicates(subset = ['customer_id', \n",
    "                                          'order_id', \n",
    "                                          'product', \n",
    "                                          'quantity', \n",
    "                                          'price'], \n",
    "                                keep = 'first')"
   ]
  },
  {
   "cell_type": "markdown",
   "metadata": {},
   "source": [
    "### Добавление столбцов"
   ]
  },
  {
   "cell_type": "markdown",
   "metadata": {},
   "source": [
    "На этом этапе нужно выделить столбцы с временным значением, а также добавить столбец с выручкой."
   ]
  },
  {
   "cell_type": "code",
   "execution_count": 14,
   "metadata": {},
   "outputs": [],
   "source": [
    "# столбцы с часом, днем и месяцем\n",
    "ecom_new['hour'] = ecom_new['date'].dt.hour\n",
    "ecom_new['month_name'] = ecom_new['date'].dt.month_name()\n",
    "\n",
    "# функция для определения времени года\n",
    "def season(month):\n",
    "    if  month == 'January' or month == 'February' or month == 'December':\n",
    "        return 'Зима'\n",
    "    elif month == 'June' or month == 'July' or month == 'August':\n",
    "        return 'Лето'\n",
    "    elif month == 'October' or month == 'November' or month == 'September':\n",
    "        return 'Осень'\n",
    "    else:\n",
    "        return \"Весна\"\n",
    "\n",
    "# столбец со временем года\n",
    "ecom_new['season'] = ecom_new['month_name'].apply(season)\n",
    "\n",
    "# столбец с выручкой\n",
    "ecom_new['revenue'] = ecom_new['quantity'] * ecom_new['price']"
   ]
  },
  {
   "cell_type": "markdown",
   "metadata": {},
   "source": [
    "Предобработка данных завершена. Приступим к исследованию."
   ]
  },
  {
   "cell_type": "markdown",
   "metadata": {},
   "source": [
    "## Шаг 2. Исследовательский анализ данных\n",
    "\n",
    "### Обработка аномальных значений"
   ]
  },
  {
   "cell_type": "markdown",
   "metadata": {},
   "source": [
    "Для начала проверим дату."
   ]
  },
  {
   "cell_type": "code",
   "execution_count": 15,
   "metadata": {},
   "outputs": [
    {
     "data": {
      "text/plain": [
       "Timestamp('2018-10-01 00:00:00')"
      ]
     },
     "metadata": {},
     "output_type": "display_data"
    },
    {
     "data": {
      "text/plain": [
       "Timestamp('2019-10-31 16:00:00')"
      ]
     },
     "metadata": {},
     "output_type": "display_data"
    }
   ],
   "source": [
    "# временной отрезок\n",
    "display(ecom['date'].min())\n",
    "display(ecom['date'].max())"
   ]
  },
  {
   "cell_type": "markdown",
   "metadata": {},
   "source": [
    "Все в порядке, данные есть за нужный период. Теперь посмотрим общую статистику по таблице."
   ]
  },
  {
   "cell_type": "code",
   "execution_count": 16,
   "metadata": {},
   "outputs": [
    {
     "data": {
      "text/html": [
       "<div>\n",
       "<style scoped>\n",
       "    .dataframe tbody tr th:only-of-type {\n",
       "        vertical-align: middle;\n",
       "    }\n",
       "\n",
       "    .dataframe tbody tr th {\n",
       "        vertical-align: top;\n",
       "    }\n",
       "\n",
       "    .dataframe thead th {\n",
       "        text-align: right;\n",
       "    }\n",
       "</style>\n",
       "<table border=\"1\" class=\"dataframe\">\n",
       "  <thead>\n",
       "    <tr style=\"text-align: right;\">\n",
       "      <th></th>\n",
       "      <th>count</th>\n",
       "      <th>mean</th>\n",
       "      <th>std</th>\n",
       "      <th>min</th>\n",
       "      <th>25%</th>\n",
       "      <th>50%</th>\n",
       "      <th>75%</th>\n",
       "      <th>max</th>\n",
       "    </tr>\n",
       "  </thead>\n",
       "  <tbody>\n",
       "    <tr>\n",
       "      <th>quantity</th>\n",
       "      <td>4873.0</td>\n",
       "      <td>2.837472</td>\n",
       "      <td>17.606813</td>\n",
       "      <td>1.0</td>\n",
       "      <td>1.0</td>\n",
       "      <td>1.0</td>\n",
       "      <td>1.0</td>\n",
       "      <td>1000.0</td>\n",
       "    </tr>\n",
       "    <tr>\n",
       "      <th>price</th>\n",
       "      <td>4873.0</td>\n",
       "      <td>514.749846</td>\n",
       "      <td>944.455480</td>\n",
       "      <td>9.0</td>\n",
       "      <td>90.0</td>\n",
       "      <td>150.0</td>\n",
       "      <td>488.0</td>\n",
       "      <td>14917.0</td>\n",
       "    </tr>\n",
       "    <tr>\n",
       "      <th>revenue</th>\n",
       "      <td>4873.0</td>\n",
       "      <td>850.021342</td>\n",
       "      <td>9807.308006</td>\n",
       "      <td>9.0</td>\n",
       "      <td>120.0</td>\n",
       "      <td>194.0</td>\n",
       "      <td>734.0</td>\n",
       "      <td>675000.0</td>\n",
       "    </tr>\n",
       "  </tbody>\n",
       "</table>\n",
       "</div>"
      ],
      "text/plain": [
       "           count        mean          std  min    25%    50%    75%       max\n",
       "quantity  4873.0    2.837472    17.606813  1.0    1.0    1.0    1.0    1000.0\n",
       "price     4873.0  514.749846   944.455480  9.0   90.0  150.0  488.0   14917.0\n",
       "revenue   4873.0  850.021342  9807.308006  9.0  120.0  194.0  734.0  675000.0"
      ]
     },
     "execution_count": 16,
     "metadata": {},
     "output_type": "execute_result"
    }
   ],
   "source": [
    "# статистика по данным\n",
    "ecom_new[['quantity', 'price', 'revenue']].describe().T"
   ]
  },
  {
   "cell_type": "markdown",
   "metadata": {},
   "source": [
    "Есть аномальное количество товаров в заказе (1000 единиц) и слишком большая цена (несоизмерима с медианой). Стандартное отклонение и среднее во всех случаях сильно отличаются - везде есть выбросы.\n",
    "\n",
    "Оценим перцентили для каждого столбца и построим графики типа \"ящик с усами\"."
   ]
  },
  {
   "cell_type": "code",
   "execution_count": 17,
   "metadata": {},
   "outputs": [
    {
     "data": {
      "image/png": "[encoded data removed]",
      "text/plain": [
       "<Figure size 576x216 with 1 Axes>"
      ]
     },
     "metadata": {
      "needs_background": "light"
     },
     "output_type": "display_data"
    }
   ],
   "source": [
    "# выбросы значений количества\n",
    "plt.figure(figsize = (8, 3))\n",
    "sns.set_style(\"whitegrid\")\n",
    "ax = sns.boxplot(data = ecom_new, x = 'quantity')\n",
    "ax.set_xlim([0, 10])\n",
    "plt.title('Распределение количества', fontsize = 15)\n",
    "plt.xlabel('Количество товара', fontsize = 15)\n",
    "plt.show()"
   ]
  },
  {
   "cell_type": "code",
   "execution_count": 18,
   "metadata": {},
   "outputs": [
    {
     "data": {
      "text/plain": [
       "array([ 8., 30.])"
      ]
     },
     "execution_count": 18,
     "metadata": {},
     "output_type": "execute_result"
    }
   ],
   "source": [
    "# 95-й и 99-й перцентили для количества товаров\n",
    "np.percentile(ecom_new['quantity'], [95, 99])"
   ]
  },
  {
   "cell_type": "markdown",
   "metadata": {},
   "source": [
    "Самое частое и нормальное значение количества товаров - одна позиция. Все остальное уже считается выбросами. Только 1% товаров покупается в количестве от 30 штук. Посмотрим на эти заказы."
   ]
  },
  {
   "cell_type": "code",
   "execution_count": 19,
   "metadata": {},
   "outputs": [
    {
     "data": {
      "text/html": [
       "<div>\n",
       "<style scoped>\n",
       "    .dataframe tbody tr th:only-of-type {\n",
       "        vertical-align: middle;\n",
       "    }\n",
       "\n",
       "    .dataframe tbody tr th {\n",
       "        vertical-align: top;\n",
       "    }\n",
       "\n",
       "    .dataframe thead th {\n",
       "        text-align: right;\n",
       "    }\n",
       "</style>\n",
       "<table border=\"1\" class=\"dataframe\">\n",
       "  <thead>\n",
       "    <tr style=\"text-align: right;\">\n",
       "      <th></th>\n",
       "      <th>date</th>\n",
       "      <th>customer_id</th>\n",
       "      <th>order_id</th>\n",
       "      <th>product</th>\n",
       "      <th>quantity</th>\n",
       "      <th>price</th>\n",
       "      <th>hour</th>\n",
       "      <th>month_name</th>\n",
       "      <th>season</th>\n",
       "      <th>revenue</th>\n",
       "    </tr>\n",
       "  </thead>\n",
       "  <tbody>\n",
       "    <tr>\n",
       "      <th>13</th>\n",
       "      <td>2018-10-01 15:00:00</td>\n",
       "      <td>0948b0c2-990b-4a11-b835-69ac4714b21d</td>\n",
       "      <td>68486</td>\n",
       "      <td>крючок одежный 2-х рожковый серый металлик с п...</td>\n",
       "      <td>96</td>\n",
       "      <td>38</td>\n",
       "      <td>15</td>\n",
       "      <td>October</td>\n",
       "      <td>Осень</td>\n",
       "      <td>3648</td>\n",
       "    </tr>\n",
       "    <tr>\n",
       "      <th>144</th>\n",
       "      <td>2018-10-08 15:00:00</td>\n",
       "      <td>9151d307-654c-4239-a888-ada5ca45f0b2</td>\n",
       "      <td>68571</td>\n",
       "      <td>набор вешалок для костюма 45см 4шт цвет: кремо...</td>\n",
       "      <td>37</td>\n",
       "      <td>202</td>\n",
       "      <td>15</td>\n",
       "      <td>October</td>\n",
       "      <td>Осень</td>\n",
       "      <td>7474</td>\n",
       "    </tr>\n",
       "    <tr>\n",
       "      <th>160</th>\n",
       "      <td>2018-10-09 09:00:00</td>\n",
       "      <td>c971fb21-d54c-4134-938f-16b62ee86d3b</td>\n",
       "      <td>68580</td>\n",
       "      <td>стяжка оконная с болтом ст-55 цинк, 1108354</td>\n",
       "      <td>64</td>\n",
       "      <td>19</td>\n",
       "      <td>9</td>\n",
       "      <td>October</td>\n",
       "      <td>Осень</td>\n",
       "      <td>1216</td>\n",
       "    </tr>\n",
       "    <tr>\n",
       "      <th>211</th>\n",
       "      <td>2018-10-11 14:00:00</td>\n",
       "      <td>cd09ea73-d9ce-48c3-b4c5-018113735e80</td>\n",
       "      <td>68611</td>\n",
       "      <td>крепеж для пружины дверной, 1107055</td>\n",
       "      <td>150</td>\n",
       "      <td>19</td>\n",
       "      <td>14</td>\n",
       "      <td>October</td>\n",
       "      <td>Осень</td>\n",
       "      <td>2850</td>\n",
       "    </tr>\n",
       "    <tr>\n",
       "      <th>212</th>\n",
       "      <td>2018-10-11 14:00:00</td>\n",
       "      <td>cd09ea73-d9ce-48c3-b4c5-018113735e80</td>\n",
       "      <td>68611</td>\n",
       "      <td>пружина дверная 240 мм оцинкованная (д-19 мм) ...</td>\n",
       "      <td>150</td>\n",
       "      <td>38</td>\n",
       "      <td>14</td>\n",
       "      <td>October</td>\n",
       "      <td>Осень</td>\n",
       "      <td>5700</td>\n",
       "    </tr>\n",
       "    <tr>\n",
       "      <th>233</th>\n",
       "      <td>2018-10-12 15:00:00</td>\n",
       "      <td>4d93d3f6-8b24-403b-a74b-f5173e40d7db</td>\n",
       "      <td>68623</td>\n",
       "      <td>петля приварная гаражная d 14х90 мм с шаром, 1...</td>\n",
       "      <td>50</td>\n",
       "      <td>38</td>\n",
       "      <td>15</td>\n",
       "      <td>October</td>\n",
       "      <td>Осень</td>\n",
       "      <td>1900</td>\n",
       "    </tr>\n",
       "    <tr>\n",
       "      <th>278</th>\n",
       "      <td>2018-10-17 11:00:00</td>\n",
       "      <td>4d93d3f6-8b24-403b-a74b-f5173e40d7db</td>\n",
       "      <td>68668</td>\n",
       "      <td>щетка для посуды *мила* sv3182 1807009</td>\n",
       "      <td>50</td>\n",
       "      <td>27</td>\n",
       "      <td>11</td>\n",
       "      <td>October</td>\n",
       "      <td>Осень</td>\n",
       "      <td>1350</td>\n",
       "    </tr>\n",
       "    <tr>\n",
       "      <th>279</th>\n",
       "      <td>2018-10-17 11:00:00</td>\n",
       "      <td>4d93d3f6-8b24-403b-a74b-f5173e40d7db</td>\n",
       "      <td>68668</td>\n",
       "      <td>щетка-утюжок с ручкой миди, standart, york, g1126</td>\n",
       "      <td>50</td>\n",
       "      <td>44</td>\n",
       "      <td>11</td>\n",
       "      <td>October</td>\n",
       "      <td>Осень</td>\n",
       "      <td>2200</td>\n",
       "    </tr>\n",
       "    <tr>\n",
       "      <th>568</th>\n",
       "      <td>2018-11-01 08:00:00</td>\n",
       "      <td>aa42dc38-780f-4b50-9a65-83b6fa64e766</td>\n",
       "      <td>68815</td>\n",
       "      <td>муляж яблоко 9 см красное</td>\n",
       "      <td>170</td>\n",
       "      <td>51</td>\n",
       "      <td>8</td>\n",
       "      <td>November</td>\n",
       "      <td>Осень</td>\n",
       "      <td>8670</td>\n",
       "    </tr>\n",
       "    <tr>\n",
       "      <th>586</th>\n",
       "      <td>2018-11-02 11:00:00</td>\n",
       "      <td>0c5aaa88-e346-4f87-8f7a-ad8cbc04e965</td>\n",
       "      <td>68831</td>\n",
       "      <td>муляж яблоко 9 см красное</td>\n",
       "      <td>140</td>\n",
       "      <td>59</td>\n",
       "      <td>11</td>\n",
       "      <td>November</td>\n",
       "      <td>Осень</td>\n",
       "      <td>8260</td>\n",
       "    </tr>\n",
       "    <tr>\n",
       "      <th>1023</th>\n",
       "      <td>2018-11-29 17:00:00</td>\n",
       "      <td>8fba3604-ef57-4b9f-b2fe-3402fa8825c8</td>\n",
       "      <td>69156</td>\n",
       "      <td>набор ножей attribute chef 5 предметов akf522</td>\n",
       "      <td>64</td>\n",
       "      <td>457</td>\n",
       "      <td>17</td>\n",
       "      <td>November</td>\n",
       "      <td>Осень</td>\n",
       "      <td>29248</td>\n",
       "    </tr>\n",
       "    <tr>\n",
       "      <th>1103</th>\n",
       "      <td>2018-12-04 17:00:00</td>\n",
       "      <td>7d255526-fcc2-4f79-b28a-217d7d2373a8</td>\n",
       "      <td>69206</td>\n",
       "      <td>щетка для посуды *оля*, мультипласт 1807010</td>\n",
       "      <td>100</td>\n",
       "      <td>26</td>\n",
       "      <td>17</td>\n",
       "      <td>December</td>\n",
       "      <td>Зима</td>\n",
       "      <td>2600</td>\n",
       "    </tr>\n",
       "    <tr>\n",
       "      <th>1158</th>\n",
       "      <td>2018-12-10 14:00:00</td>\n",
       "      <td>a984c5b7-ff7e-4647-b84e-ef0b85a2762d</td>\n",
       "      <td>69289</td>\n",
       "      <td>ручка-скоба рс-100 белая *трибатрон*, 1108035</td>\n",
       "      <td>200</td>\n",
       "      <td>29</td>\n",
       "      <td>14</td>\n",
       "      <td>December</td>\n",
       "      <td>Зима</td>\n",
       "      <td>5800</td>\n",
       "    </tr>\n",
       "    <tr>\n",
       "      <th>1299</th>\n",
       "      <td>2018-12-21 16:00:00</td>\n",
       "      <td>6987e6d6-a63a-4ce2-a2d0-f424092d235e</td>\n",
       "      <td>69504</td>\n",
       "      <td>тележка багажная delta тбр-22 синий грузоподъе...</td>\n",
       "      <td>57</td>\n",
       "      <td>574</td>\n",
       "      <td>16</td>\n",
       "      <td>December</td>\n",
       "      <td>Зима</td>\n",
       "      <td>32718</td>\n",
       "    </tr>\n",
       "    <tr>\n",
       "      <th>1316</th>\n",
       "      <td>2018-12-23 11:00:00</td>\n",
       "      <td>24c0b355-53e3-428a-b299-e1627b1cdd5c</td>\n",
       "      <td>69524</td>\n",
       "      <td>муляж яблоко зеленый 9 см полиуретан</td>\n",
       "      <td>40</td>\n",
       "      <td>59</td>\n",
       "      <td>11</td>\n",
       "      <td>December</td>\n",
       "      <td>Зима</td>\n",
       "      <td>2360</td>\n",
       "    </tr>\n",
       "    <tr>\n",
       "      <th>1484</th>\n",
       "      <td>2019-01-11 22:00:00</td>\n",
       "      <td>34b2bf7d-7cd8-4aba-909d-396655d77f7e</td>\n",
       "      <td>69793</td>\n",
       "      <td>вешалка valiant для брюк и юбок металлическая ...</td>\n",
       "      <td>50</td>\n",
       "      <td>94</td>\n",
       "      <td>22</td>\n",
       "      <td>January</td>\n",
       "      <td>Зима</td>\n",
       "      <td>4700</td>\n",
       "    </tr>\n",
       "    <tr>\n",
       "      <th>1555</th>\n",
       "      <td>2019-01-21 09:00:00</td>\n",
       "      <td>8eabcaca-e8c8-4eee-9079-4ff5f612273a</td>\n",
       "      <td>69893</td>\n",
       "      <td>щетка для мытья посуды колибри м5202 большая</td>\n",
       "      <td>100</td>\n",
       "      <td>34</td>\n",
       "      <td>9</td>\n",
       "      <td>January</td>\n",
       "      <td>Зима</td>\n",
       "      <td>3400</td>\n",
       "    </tr>\n",
       "    <tr>\n",
       "      <th>1568</th>\n",
       "      <td>2019-01-22 15:00:00</td>\n",
       "      <td>6be74251-7159-4cc0-99fb-d034a17c61b0</td>\n",
       "      <td>69928</td>\n",
       "      <td>спатифиллум шопен d-12 см</td>\n",
       "      <td>45</td>\n",
       "      <td>250</td>\n",
       "      <td>15</td>\n",
       "      <td>January</td>\n",
       "      <td>Зима</td>\n",
       "      <td>11250</td>\n",
       "    </tr>\n",
       "    <tr>\n",
       "      <th>1897</th>\n",
       "      <td>2019-02-18 16:00:00</td>\n",
       "      <td>74b08ab4-16e9-4d83-9c31-acfc9d229bc5</td>\n",
       "      <td>70328</td>\n",
       "      <td>муляж лимон желтый 9 см полиуретан</td>\n",
       "      <td>50</td>\n",
       "      <td>51</td>\n",
       "      <td>16</td>\n",
       "      <td>February</td>\n",
       "      <td>Зима</td>\n",
       "      <td>2550</td>\n",
       "    </tr>\n",
       "    <tr>\n",
       "      <th>2049</th>\n",
       "      <td>2019-02-27 09:00:00</td>\n",
       "      <td>377c8a20-a3e0-4945-9fd8-a1f4ada5d8b0</td>\n",
       "      <td>70482</td>\n",
       "      <td>муляж банан желтый 21 см полиуретан</td>\n",
       "      <td>50</td>\n",
       "      <td>51</td>\n",
       "      <td>9</td>\n",
       "      <td>February</td>\n",
       "      <td>Зима</td>\n",
       "      <td>2550</td>\n",
       "    </tr>\n",
       "    <tr>\n",
       "      <th>2371</th>\n",
       "      <td>2019-03-18 10:00:00</td>\n",
       "      <td>21b4642e-9cdf-4738-a290-b42d3e748c0f</td>\n",
       "      <td>70776</td>\n",
       "      <td>гвоздика стандартная белая 60 см колумбия план...</td>\n",
       "      <td>43</td>\n",
       "      <td>29</td>\n",
       "      <td>10</td>\n",
       "      <td>March</td>\n",
       "      <td>Весна</td>\n",
       "      <td>1247</td>\n",
       "    </tr>\n",
       "    <tr>\n",
       "      <th>2431</th>\n",
       "      <td>2019-03-23 10:00:00</td>\n",
       "      <td>685d3d84-aebb-485b-8e59-344b3df8b3d3</td>\n",
       "      <td>70841</td>\n",
       "      <td>плечики пластмассовые размер 52 - 54 тула 1205158</td>\n",
       "      <td>150</td>\n",
       "      <td>20</td>\n",
       "      <td>10</td>\n",
       "      <td>March</td>\n",
       "      <td>Весна</td>\n",
       "      <td>3000</td>\n",
       "    </tr>\n",
       "    <tr>\n",
       "      <th>2531</th>\n",
       "      <td>2019-03-28 20:00:00</td>\n",
       "      <td>bba9b7bf-09a6-4f16-81c3-2b83dcebbc0a</td>\n",
       "      <td>70915</td>\n",
       "      <td>цветок искусственный гвоздика тканевая красная...</td>\n",
       "      <td>31</td>\n",
       "      <td>20</td>\n",
       "      <td>20</td>\n",
       "      <td>March</td>\n",
       "      <td>Весна</td>\n",
       "      <td>620</td>\n",
       "    </tr>\n",
       "    <tr>\n",
       "      <th>2598</th>\n",
       "      <td>2019-04-02 09:00:00</td>\n",
       "      <td>aaafc0ca-1fd4-4d0b-b7b8-37391c319fd3</td>\n",
       "      <td>70970</td>\n",
       "      <td>ковш пластмассовый полимербыт с215, 1,5 л 1406006</td>\n",
       "      <td>59</td>\n",
       "      <td>64</td>\n",
       "      <td>9</td>\n",
       "      <td>April</td>\n",
       "      <td>Весна</td>\n",
       "      <td>3776</td>\n",
       "    </tr>\n",
       "    <tr>\n",
       "      <th>2969</th>\n",
       "      <td>2019-04-19 18:00:00</td>\n",
       "      <td>498f12a4-6a62-4725-8516-cf5dc9ab8a3a</td>\n",
       "      <td>71204</td>\n",
       "      <td>салфетка protec textil polyline 30х43 см амети...</td>\n",
       "      <td>60</td>\n",
       "      <td>191</td>\n",
       "      <td>18</td>\n",
       "      <td>April</td>\n",
       "      <td>Весна</td>\n",
       "      <td>11460</td>\n",
       "    </tr>\n",
       "    <tr>\n",
       "      <th>3961</th>\n",
       "      <td>2019-05-20 21:00:00</td>\n",
       "      <td>5d189e88-d4d6-4eac-ab43-fa65a3c4d106</td>\n",
       "      <td>71478</td>\n",
       "      <td>муляж яблоко 9 см красное</td>\n",
       "      <td>300</td>\n",
       "      <td>51</td>\n",
       "      <td>21</td>\n",
       "      <td>May</td>\n",
       "      <td>Весна</td>\n",
       "      <td>15300</td>\n",
       "    </tr>\n",
       "    <tr>\n",
       "      <th>4082</th>\n",
       "      <td>2019-05-28 13:00:00</td>\n",
       "      <td>f9d19e1d-9414-485b-9d8d-02bc196a88e8</td>\n",
       "      <td>71539</td>\n",
       "      <td>насадка на валик вмм-200/60 белый искусственны...</td>\n",
       "      <td>70</td>\n",
       "      <td>22</td>\n",
       "      <td>13</td>\n",
       "      <td>May</td>\n",
       "      <td>Весна</td>\n",
       "      <td>1540</td>\n",
       "    </tr>\n",
       "    <tr>\n",
       "      <th>5071</th>\n",
       "      <td>2019-06-11 07:00:00</td>\n",
       "      <td>146cd9bf-a95c-4afb-915b-5f6684b17444</td>\n",
       "      <td>71668</td>\n",
       "      <td>вешалки мягкие для деликатных вещей 3 шт шоколад</td>\n",
       "      <td>334</td>\n",
       "      <td>148</td>\n",
       "      <td>7</td>\n",
       "      <td>June</td>\n",
       "      <td>Лето</td>\n",
       "      <td>49432</td>\n",
       "    </tr>\n",
       "    <tr>\n",
       "      <th>5456</th>\n",
       "      <td>2019-06-18 15:00:00</td>\n",
       "      <td>312e9a3e-5fca-43ff-a6a1-892d2b2d5ba6</td>\n",
       "      <td>71743</td>\n",
       "      <td>вантуз с деревянной ручкой d14 см красный, bur...</td>\n",
       "      <td>1000</td>\n",
       "      <td>675</td>\n",
       "      <td>15</td>\n",
       "      <td>June</td>\n",
       "      <td>Лето</td>\n",
       "      <td>675000</td>\n",
       "    </tr>\n",
       "    <tr>\n",
       "      <th>5591</th>\n",
       "      <td>2019-06-25 21:00:00</td>\n",
       "      <td>72df1c3c-6efc-45c5-9b12-5a48935a48a4</td>\n",
       "      <td>71802</td>\n",
       "      <td>петля приварная гаражная d 14х90 мм с шаром, 1...</td>\n",
       "      <td>40</td>\n",
       "      <td>38</td>\n",
       "      <td>21</td>\n",
       "      <td>June</td>\n",
       "      <td>Лето</td>\n",
       "      <td>1520</td>\n",
       "    </tr>\n",
       "    <tr>\n",
       "      <th>6367</th>\n",
       "      <td>2019-09-19 16:00:00</td>\n",
       "      <td>de95510f-3558-4c42-97dc-98cc4215c278</td>\n",
       "      <td>72698</td>\n",
       "      <td>универсальный нож webber из нержавеющей стали ...</td>\n",
       "      <td>80</td>\n",
       "      <td>45</td>\n",
       "      <td>16</td>\n",
       "      <td>September</td>\n",
       "      <td>Осень</td>\n",
       "      <td>3600</td>\n",
       "    </tr>\n",
       "    <tr>\n",
       "      <th>6478</th>\n",
       "      <td>2019-09-30 16:00:00</td>\n",
       "      <td>0af078d6-facf-4ece-ad7b-3b4446ec19a2</td>\n",
       "      <td>72811</td>\n",
       "      <td>кружка с трубочкой attribute мяч 500 мл jar501</td>\n",
       "      <td>60</td>\n",
       "      <td>76</td>\n",
       "      <td>16</td>\n",
       "      <td>September</td>\n",
       "      <td>Осень</td>\n",
       "      <td>4560</td>\n",
       "    </tr>\n",
       "    <tr>\n",
       "      <th>6504</th>\n",
       "      <td>2019-10-03 14:00:00</td>\n",
       "      <td>d8465f63-35db-4809-aff3-a8f7ebfc257f</td>\n",
       "      <td>72845</td>\n",
       "      <td>муляж яблоко зеленый 9 см полиуретан</td>\n",
       "      <td>40</td>\n",
       "      <td>59</td>\n",
       "      <td>14</td>\n",
       "      <td>October</td>\n",
       "      <td>Осень</td>\n",
       "      <td>2360</td>\n",
       "    </tr>\n",
       "    <tr>\n",
       "      <th>6505</th>\n",
       "      <td>2019-10-03 15:00:00</td>\n",
       "      <td>0309d37c-ab5f-4793-ba72-5484c019b840</td>\n",
       "      <td>72845</td>\n",
       "      <td>муляж яблоко зеленый 9 см полиуретан</td>\n",
       "      <td>40</td>\n",
       "      <td>59</td>\n",
       "      <td>15</td>\n",
       "      <td>October</td>\n",
       "      <td>Осень</td>\n",
       "      <td>2360</td>\n",
       "    </tr>\n",
       "    <tr>\n",
       "      <th>6508</th>\n",
       "      <td>2019-10-04 08:00:00</td>\n",
       "      <td>25a8cd52-3efa-48ee-a6bd-d413d7e2b42f</td>\n",
       "      <td>72845</td>\n",
       "      <td>муляж яблоко зеленый 9 см полиуретан</td>\n",
       "      <td>40</td>\n",
       "      <td>59</td>\n",
       "      <td>8</td>\n",
       "      <td>October</td>\n",
       "      <td>Осень</td>\n",
       "      <td>2360</td>\n",
       "    </tr>\n",
       "    <tr>\n",
       "      <th>6535</th>\n",
       "      <td>2019-10-07 11:00:00</td>\n",
       "      <td>d933280e-5372-448f-be44-b269c8bafc2a</td>\n",
       "      <td>72885</td>\n",
       "      <td>крепеж для пружины дверной оцинкованный, 1107054</td>\n",
       "      <td>100</td>\n",
       "      <td>19</td>\n",
       "      <td>11</td>\n",
       "      <td>October</td>\n",
       "      <td>Осень</td>\n",
       "      <td>1900</td>\n",
       "    </tr>\n",
       "    <tr>\n",
       "      <th>6538</th>\n",
       "      <td>2019-10-07 20:00:00</td>\n",
       "      <td>2ac05362-3ca7-4d19-899c-7ba266902611</td>\n",
       "      <td>72845</td>\n",
       "      <td>муляж яблоко зеленый 9 см полиуретан</td>\n",
       "      <td>40</td>\n",
       "      <td>59</td>\n",
       "      <td>20</td>\n",
       "      <td>October</td>\n",
       "      <td>Осень</td>\n",
       "      <td>2360</td>\n",
       "    </tr>\n",
       "    <tr>\n",
       "      <th>6567</th>\n",
       "      <td>2019-10-10 14:00:00</td>\n",
       "      <td>bd5328dc-1e15-4757-9fe2-f56e4f8eaa7c</td>\n",
       "      <td>72920</td>\n",
       "      <td>искусственный цветок подснежник садовый пласти...</td>\n",
       "      <td>65</td>\n",
       "      <td>32</td>\n",
       "      <td>14</td>\n",
       "      <td>October</td>\n",
       "      <td>Осень</td>\n",
       "      <td>2080</td>\n",
       "    </tr>\n",
       "    <tr>\n",
       "      <th>6678</th>\n",
       "      <td>2019-10-22 16:00:00</td>\n",
       "      <td>511115b7-e981-4069-9e0e-88a3551341a6</td>\n",
       "      <td>73063</td>\n",
       "      <td>муляж яблоко зеленый 9 см полиуретан</td>\n",
       "      <td>50</td>\n",
       "      <td>51</td>\n",
       "      <td>16</td>\n",
       "      <td>October</td>\n",
       "      <td>Осень</td>\n",
       "      <td>2550</td>\n",
       "    </tr>\n",
       "    <tr>\n",
       "      <th>6684</th>\n",
       "      <td>2019-10-23 11:00:00</td>\n",
       "      <td>2fac41bf-e800-4bc3-a4b3-0df800f33e99</td>\n",
       "      <td>73073</td>\n",
       "      <td>ведро резинопластиковое строительное 12,0 л (м...</td>\n",
       "      <td>50</td>\n",
       "      <td>64</td>\n",
       "      <td>11</td>\n",
       "      <td>October</td>\n",
       "      <td>Осень</td>\n",
       "      <td>3200</td>\n",
       "    </tr>\n",
       "    <tr>\n",
       "      <th>6707</th>\n",
       "      <td>2019-10-28 10:00:00</td>\n",
       "      <td>018fb729-3525-4314-8e4d-1982b1062f9f</td>\n",
       "      <td>73110</td>\n",
       "      <td>шпингалет 80 мм белый с пружиной, 1102188</td>\n",
       "      <td>100</td>\n",
       "      <td>44</td>\n",
       "      <td>10</td>\n",
       "      <td>October</td>\n",
       "      <td>Осень</td>\n",
       "      <td>4400</td>\n",
       "    </tr>\n",
       "  </tbody>\n",
       "</table>\n",
       "</div>"
      ],
      "text/plain": [
       "                    date                           customer_id  order_id  \\\n",
       "13   2018-10-01 15:00:00  0948b0c2-990b-4a11-b835-69ac4714b21d     68486   \n",
       "144  2018-10-08 15:00:00  9151d307-654c-4239-a888-ada5ca45f0b2     68571   \n",
       "160  2018-10-09 09:00:00  c971fb21-d54c-4134-938f-16b62ee86d3b     68580   \n",
       "211  2018-10-11 14:00:00  cd09ea73-d9ce-48c3-b4c5-018113735e80     68611   \n",
       "212  2018-10-11 14:00:00  cd09ea73-d9ce-48c3-b4c5-018113735e80     68611   \n",
       "233  2018-10-12 15:00:00  4d93d3f6-8b24-403b-a74b-f5173e40d7db     68623   \n",
       "278  2018-10-17 11:00:00  4d93d3f6-8b24-403b-a74b-f5173e40d7db     68668   \n",
       "279  2018-10-17 11:00:00  4d93d3f6-8b24-403b-a74b-f5173e40d7db     68668   \n",
       "568  2018-11-01 08:00:00  aa42dc38-780f-4b50-9a65-83b6fa64e766     68815   \n",
       "586  2018-11-02 11:00:00  0c5aaa88-e346-4f87-8f7a-ad8cbc04e965     68831   \n",
       "1023 2018-11-29 17:00:00  8fba3604-ef57-4b9f-b2fe-3402fa8825c8     69156   \n",
       "1103 2018-12-04 17:00:00  7d255526-fcc2-4f79-b28a-217d7d2373a8     69206   \n",
       "1158 2018-12-10 14:00:00  a984c5b7-ff7e-4647-b84e-ef0b85a2762d     69289   \n",
       "1299 2018-12-21 16:00:00  6987e6d6-a63a-4ce2-a2d0-f424092d235e     69504   \n",
       "1316 2018-12-23 11:00:00  24c0b355-53e3-428a-b299-e1627b1cdd5c     69524   \n",
       "1484 2019-01-11 22:00:00  34b2bf7d-7cd8-4aba-909d-396655d77f7e     69793   \n",
       "1555 2019-01-21 09:00:00  8eabcaca-e8c8-4eee-9079-4ff5f612273a     69893   \n",
       "1568 2019-01-22 15:00:00  6be74251-7159-4cc0-99fb-d034a17c61b0     69928   \n",
       "1897 2019-02-18 16:00:00  74b08ab4-16e9-4d83-9c31-acfc9d229bc5     70328   \n",
       "2049 2019-02-27 09:00:00  377c8a20-a3e0-4945-9fd8-a1f4ada5d8b0     70482   \n",
       "2371 2019-03-18 10:00:00  21b4642e-9cdf-4738-a290-b42d3e748c0f     70776   \n",
       "2431 2019-03-23 10:00:00  685d3d84-aebb-485b-8e59-344b3df8b3d3     70841   \n",
       "2531 2019-03-28 20:00:00  bba9b7bf-09a6-4f16-81c3-2b83dcebbc0a     70915   \n",
       "2598 2019-04-02 09:00:00  aaafc0ca-1fd4-4d0b-b7b8-37391c319fd3     70970   \n",
       "2969 2019-04-19 18:00:00  498f12a4-6a62-4725-8516-cf5dc9ab8a3a     71204   \n",
       "3961 2019-05-20 21:00:00  5d189e88-d4d6-4eac-ab43-fa65a3c4d106     71478   \n",
       "4082 2019-05-28 13:00:00  f9d19e1d-9414-485b-9d8d-02bc196a88e8     71539   \n",
       "5071 2019-06-11 07:00:00  146cd9bf-a95c-4afb-915b-5f6684b17444     71668   \n",
       "5456 2019-06-18 15:00:00  312e9a3e-5fca-43ff-a6a1-892d2b2d5ba6     71743   \n",
       "5591 2019-06-25 21:00:00  72df1c3c-6efc-45c5-9b12-5a48935a48a4     71802   \n",
       "6367 2019-09-19 16:00:00  de95510f-3558-4c42-97dc-98cc4215c278     72698   \n",
       "6478 2019-09-30 16:00:00  0af078d6-facf-4ece-ad7b-3b4446ec19a2     72811   \n",
       "6504 2019-10-03 14:00:00  d8465f63-35db-4809-aff3-a8f7ebfc257f     72845   \n",
       "6505 2019-10-03 15:00:00  0309d37c-ab5f-4793-ba72-5484c019b840     72845   \n",
       "6508 2019-10-04 08:00:00  25a8cd52-3efa-48ee-a6bd-d413d7e2b42f     72845   \n",
       "6535 2019-10-07 11:00:00  d933280e-5372-448f-be44-b269c8bafc2a     72885   \n",
       "6538 2019-10-07 20:00:00  2ac05362-3ca7-4d19-899c-7ba266902611     72845   \n",
       "6567 2019-10-10 14:00:00  bd5328dc-1e15-4757-9fe2-f56e4f8eaa7c     72920   \n",
       "6678 2019-10-22 16:00:00  511115b7-e981-4069-9e0e-88a3551341a6     73063   \n",
       "6684 2019-10-23 11:00:00  2fac41bf-e800-4bc3-a4b3-0df800f33e99     73073   \n",
       "6707 2019-10-28 10:00:00  018fb729-3525-4314-8e4d-1982b1062f9f     73110   \n",
       "\n",
       "                                                product  quantity  price  \\\n",
       "13    крючок одежный 2-х рожковый серый металлик с п...        96     38   \n",
       "144   набор вешалок для костюма 45см 4шт цвет: кремо...        37    202   \n",
       "160         стяжка оконная с болтом ст-55 цинк, 1108354        64     19   \n",
       "211                 крепеж для пружины дверной, 1107055       150     19   \n",
       "212   пружина дверная 240 мм оцинкованная (д-19 мм) ...       150     38   \n",
       "233   петля приварная гаражная d 14х90 мм с шаром, 1...        50     38   \n",
       "278              щетка для посуды *мила* sv3182 1807009        50     27   \n",
       "279   щетка-утюжок с ручкой миди, standart, york, g1126        50     44   \n",
       "568                           муляж яблоко 9 см красное       170     51   \n",
       "586                           муляж яблоко 9 см красное       140     59   \n",
       "1023      набор ножей attribute chef 5 предметов akf522        64    457   \n",
       "1103        щетка для посуды *оля*, мультипласт 1807010       100     26   \n",
       "1158      ручка-скоба рс-100 белая *трибатрон*, 1108035       200     29   \n",
       "1299  тележка багажная delta тбр-22 синий грузоподъе...        57    574   \n",
       "1316               муляж яблоко зеленый 9 см полиуретан        40     59   \n",
       "1484  вешалка valiant для брюк и юбок металлическая ...        50     94   \n",
       "1555       щетка для мытья посуды колибри м5202 большая       100     34   \n",
       "1568                          спатифиллум шопен d-12 см        45    250   \n",
       "1897                 муляж лимон желтый 9 см полиуретан        50     51   \n",
       "2049                муляж банан желтый 21 см полиуретан        50     51   \n",
       "2371  гвоздика стандартная белая 60 см колумбия план...        43     29   \n",
       "2431  плечики пластмассовые размер 52 - 54 тула 1205158       150     20   \n",
       "2531  цветок искусственный гвоздика тканевая красная...        31     20   \n",
       "2598  ковш пластмассовый полимербыт с215, 1,5 л 1406006        59     64   \n",
       "2969  салфетка protec textil polyline 30х43 см амети...        60    191   \n",
       "3961                          муляж яблоко 9 см красное       300     51   \n",
       "4082  насадка на валик вмм-200/60 белый искусственны...        70     22   \n",
       "5071   вешалки мягкие для деликатных вещей 3 шт шоколад       334    148   \n",
       "5456  вантуз с деревянной ручкой d14 см красный, bur...      1000    675   \n",
       "5591  петля приварная гаражная d 14х90 мм с шаром, 1...        40     38   \n",
       "6367  универсальный нож webber из нержавеющей стали ...        80     45   \n",
       "6478     кружка с трубочкой attribute мяч 500 мл jar501        60     76   \n",
       "6504               муляж яблоко зеленый 9 см полиуретан        40     59   \n",
       "6505               муляж яблоко зеленый 9 см полиуретан        40     59   \n",
       "6508               муляж яблоко зеленый 9 см полиуретан        40     59   \n",
       "6535   крепеж для пружины дверной оцинкованный, 1107054       100     19   \n",
       "6538               муляж яблоко зеленый 9 см полиуретан        40     59   \n",
       "6567  искусственный цветок подснежник садовый пласти...        65     32   \n",
       "6678               муляж яблоко зеленый 9 см полиуретан        50     51   \n",
       "6684  ведро резинопластиковое строительное 12,0 л (м...        50     64   \n",
       "6707          шпингалет 80 мм белый с пружиной, 1102188       100     44   \n",
       "\n",
       "      hour month_name season  revenue  \n",
       "13      15    October  Осень     3648  \n",
       "144     15    October  Осень     7474  \n",
       "160      9    October  Осень     1216  \n",
       "211     14    October  Осень     2850  \n",
       "212     14    October  Осень     5700  \n",
       "233     15    October  Осень     1900  \n",
       "278     11    October  Осень     1350  \n",
       "279     11    October  Осень     2200  \n",
       "568      8   November  Осень     8670  \n",
       "586     11   November  Осень     8260  \n",
       "1023    17   November  Осень    29248  \n",
       "1103    17   December   Зима     2600  \n",
       "1158    14   December   Зима     5800  \n",
       "1299    16   December   Зима    32718  \n",
       "1316    11   December   Зима     2360  \n",
       "1484    22    January   Зима     4700  \n",
       "1555     9    January   Зима     3400  \n",
       "1568    15    January   Зима    11250  \n",
       "1897    16   February   Зима     2550  \n",
       "2049     9   February   Зима     2550  \n",
       "2371    10      March  Весна     1247  \n",
       "2431    10      March  Весна     3000  \n",
       "2531    20      March  Весна      620  \n",
       "2598     9      April  Весна     3776  \n",
       "2969    18      April  Весна    11460  \n",
       "3961    21        May  Весна    15300  \n",
       "4082    13        May  Весна     1540  \n",
       "5071     7       June   Лето    49432  \n",
       "5456    15       June   Лето   675000  \n",
       "5591    21       June   Лето     1520  \n",
       "6367    16  September  Осень     3600  \n",
       "6478    16  September  Осень     4560  \n",
       "6504    14    October  Осень     2360  \n",
       "6505    15    October  Осень     2360  \n",
       "6508     8    October  Осень     2360  \n",
       "6535    11    October  Осень     1900  \n",
       "6538    20    October  Осень     2360  \n",
       "6567    14    October  Осень     2080  \n",
       "6678    16    October  Осень     2550  \n",
       "6684    11    October  Осень     3200  \n",
       "6707    10    October  Осень     4400  "
      ]
     },
     "metadata": {},
     "output_type": "display_data"
    },
    {
     "data": {
      "text/plain": [
       "(41, 10)"
      ]
     },
     "metadata": {},
     "output_type": "display_data"
    }
   ],
   "source": [
    "# самые покупаемые позиции - 1%\n",
    "display(ecom_new[ecom_new['quantity'] > np.percentile(ecom_new['quantity'], 99)])\n",
    "display((ecom_new[ecom_new['quantity'] > np.percentile(ecom_new['quantity'], 99)]).shape)"
   ]
  },
  {
   "cell_type": "markdown",
   "metadata": {},
   "source": [
    "Есть 41 строка. Скорее всего, сделки были оптовые. Лишь одна строка вызывает большие подозрения - 1000 штук вантузов. Выручка по ним неестественно большая. Возможно, значение количества содержит ошибку. Удалим эту строку."
   ]
  },
  {
   "cell_type": "code",
   "execution_count": 20,
   "metadata": {},
   "outputs": [],
   "source": [
    "# удаление заказа с 1000 вантузов\n",
    "ecom_new = ecom_new[ecom_new['order_id'] != 71743]"
   ]
  },
  {
   "cell_type": "markdown",
   "metadata": {},
   "source": [
    "Теперь оценим значения цены."
   ]
  },
  {
   "cell_type": "code",
   "execution_count": 21,
   "metadata": {},
   "outputs": [
    {
     "data": {
      "image/png": "[encoded data removed]",
      "text/plain": [
       "<Figure size 576x216 with 1 Axes>"
      ]
     },
     "metadata": {},
     "output_type": "display_data"
    }
   ],
   "source": [
    "# выбросы значений цены\n",
    "plt.figure(figsize = (8, 3))\n",
    "sns.set_style(\"whitegrid\")\n",
    "ax = sns.boxplot(data = ecom_new, x = 'price')\n",
    "ax.set_xlim([0, 2000])\n",
    "plt.title('Распределение цены', fontsize = 15)\n",
    "plt.xlabel('Цена товара', fontsize = 15)\n",
    "plt.show()"
   ]
  },
  {
   "cell_type": "code",
   "execution_count": 22,
   "metadata": {},
   "outputs": [
    {
     "data": {
      "text/plain": [
       "array([2174.  , 4951.32])"
      ]
     },
     "execution_count": 22,
     "metadata": {},
     "output_type": "execute_result"
    }
   ],
   "source": [
    "# 95-й и 99-й перцентили для цены товаров\n",
    "np.percentile(ecom_new['price'], [95, 99])"
   ]
  },
  {
   "cell_type": "markdown",
   "metadata": {},
   "source": [
    "Нормальным значением цены можно считать цифру чуть больше тысячи. Всего 1% товаров стоит больше 4951 рубля. Посмотрим на них. Может быть, они и правда стоят своих денег."
   ]
  },
  {
   "cell_type": "code",
   "execution_count": 23,
   "metadata": {},
   "outputs": [
    {
     "data": {
      "text/html": [
       "<div>\n",
       "<style scoped>\n",
       "    .dataframe tbody tr th:only-of-type {\n",
       "        vertical-align: middle;\n",
       "    }\n",
       "\n",
       "    .dataframe tbody tr th {\n",
       "        vertical-align: top;\n",
       "    }\n",
       "\n",
       "    .dataframe thead th {\n",
       "        text-align: right;\n",
       "    }\n",
       "</style>\n",
       "<table border=\"1\" class=\"dataframe\">\n",
       "  <thead>\n",
       "    <tr style=\"text-align: right;\">\n",
       "      <th></th>\n",
       "      <th>date</th>\n",
       "      <th>customer_id</th>\n",
       "      <th>order_id</th>\n",
       "      <th>product</th>\n",
       "      <th>quantity</th>\n",
       "      <th>price</th>\n",
       "      <th>hour</th>\n",
       "      <th>month_name</th>\n",
       "      <th>season</th>\n",
       "      <th>revenue</th>\n",
       "    </tr>\n",
       "  </thead>\n",
       "  <tbody>\n",
       "    <tr>\n",
       "      <th>98</th>\n",
       "      <td>2018-10-04 17:00:00</td>\n",
       "      <td>d1a13243-9111-454f-848c-dcce0958528c</td>\n",
       "      <td>68529</td>\n",
       "      <td>сумка-тележка хозяйственная andersen scala sho...</td>\n",
       "      <td>1</td>\n",
       "      <td>5024</td>\n",
       "      <td>17</td>\n",
       "      <td>October</td>\n",
       "      <td>Осень</td>\n",
       "      <td>5024</td>\n",
       "    </tr>\n",
       "    <tr>\n",
       "      <th>596</th>\n",
       "      <td>2018-11-02 17:00:00</td>\n",
       "      <td>305c9634-ec53-46be-af05-48ee8bd790a5</td>\n",
       "      <td>68836</td>\n",
       "      <td>сумка-тележка хозяйственная andersen scala sho...</td>\n",
       "      <td>1</td>\n",
       "      <td>5249</td>\n",
       "      <td>17</td>\n",
       "      <td>November</td>\n",
       "      <td>Осень</td>\n",
       "      <td>5249</td>\n",
       "    </tr>\n",
       "    <tr>\n",
       "      <th>634</th>\n",
       "      <td>2018-11-05 02:00:00</td>\n",
       "      <td>639c4989-b0ab-412a-b7ec-be394cb2d372</td>\n",
       "      <td>68856</td>\n",
       "      <td>сумка-тележка хозяйственная rolser imx005 mare...</td>\n",
       "      <td>1</td>\n",
       "      <td>6007</td>\n",
       "      <td>2</td>\n",
       "      <td>November</td>\n",
       "      <td>Осень</td>\n",
       "      <td>6007</td>\n",
       "    </tr>\n",
       "    <tr>\n",
       "      <th>654</th>\n",
       "      <td>2018-11-05 22:00:00</td>\n",
       "      <td>fc333417-1d11-4a2a-b946-0957ae0603e9</td>\n",
       "      <td>68872</td>\n",
       "      <td>сумка-тележка хозяйственная rolser mou041 malv...</td>\n",
       "      <td>1</td>\n",
       "      <td>7597</td>\n",
       "      <td>22</td>\n",
       "      <td>November</td>\n",
       "      <td>Осень</td>\n",
       "      <td>7597</td>\n",
       "    </tr>\n",
       "    <tr>\n",
       "      <th>655</th>\n",
       "      <td>2018-11-05 22:00:00</td>\n",
       "      <td>639c4989-b0ab-412a-b7ec-be394cb2d372</td>\n",
       "      <td>68871</td>\n",
       "      <td>сумка-тележка хозяйственная rolser imx005 mare...</td>\n",
       "      <td>1</td>\n",
       "      <td>6007</td>\n",
       "      <td>22</td>\n",
       "      <td>November</td>\n",
       "      <td>Осень</td>\n",
       "      <td>6007</td>\n",
       "    </tr>\n",
       "    <tr>\n",
       "      <th>768</th>\n",
       "      <td>2018-11-11 18:00:00</td>\n",
       "      <td>06e2fc7e-6183-4419-ada4-3b976baeed92</td>\n",
       "      <td>68952</td>\n",
       "      <td>коврик для ванной комнаты gobi полиэстер 120х7...</td>\n",
       "      <td>1</td>\n",
       "      <td>5474</td>\n",
       "      <td>18</td>\n",
       "      <td>November</td>\n",
       "      <td>Осень</td>\n",
       "      <td>5474</td>\n",
       "    </tr>\n",
       "    <tr>\n",
       "      <th>1116</th>\n",
       "      <td>2018-12-06 08:00:00</td>\n",
       "      <td>fa471f6f-1442-490c-acc6-a47b0822098c</td>\n",
       "      <td>69226</td>\n",
       "      <td>сумка-тележка хозяйственная andersen scala sho...</td>\n",
       "      <td>1</td>\n",
       "      <td>5249</td>\n",
       "      <td>8</td>\n",
       "      <td>December</td>\n",
       "      <td>Зима</td>\n",
       "      <td>5249</td>\n",
       "    </tr>\n",
       "    <tr>\n",
       "      <th>1121</th>\n",
       "      <td>2018-12-06 17:00:00</td>\n",
       "      <td>82b56a76-0dc9-4dae-aa76-863a9a80f082</td>\n",
       "      <td>69236</td>\n",
       "      <td>покрывало жаккард karna стеганое kalven 260x26...</td>\n",
       "      <td>1</td>\n",
       "      <td>6134</td>\n",
       "      <td>17</td>\n",
       "      <td>December</td>\n",
       "      <td>Зима</td>\n",
       "      <td>6134</td>\n",
       "    </tr>\n",
       "    <tr>\n",
       "      <th>1180</th>\n",
       "      <td>2018-12-12 11:00:00</td>\n",
       "      <td>c971fb21-d54c-4134-938f-16b62ee86d3b</td>\n",
       "      <td>69320</td>\n",
       "      <td>сумка-тележка хозяйственная andersen treppenst...</td>\n",
       "      <td>1</td>\n",
       "      <td>5662</td>\n",
       "      <td>11</td>\n",
       "      <td>December</td>\n",
       "      <td>Зима</td>\n",
       "      <td>5662</td>\n",
       "    </tr>\n",
       "    <tr>\n",
       "      <th>1241</th>\n",
       "      <td>2018-12-17 17:00:00</td>\n",
       "      <td>86c97bf1-c834-423e-9e38-8acda68f97e8</td>\n",
       "      <td>69417</td>\n",
       "      <td>гладильная доска leifheit airboard compact m p...</td>\n",
       "      <td>1</td>\n",
       "      <td>7424</td>\n",
       "      <td>17</td>\n",
       "      <td>December</td>\n",
       "      <td>Зима</td>\n",
       "      <td>7424</td>\n",
       "    </tr>\n",
       "    <tr>\n",
       "      <th>1420</th>\n",
       "      <td>2018-12-29 09:00:00</td>\n",
       "      <td>ad66d870-22f5-43bc-958f-73420822586b</td>\n",
       "      <td>69681</td>\n",
       "      <td>сумка-тележка хозяйственная rolser pack gloria...</td>\n",
       "      <td>1</td>\n",
       "      <td>6307</td>\n",
       "      <td>9</td>\n",
       "      <td>December</td>\n",
       "      <td>Зима</td>\n",
       "      <td>6307</td>\n",
       "    </tr>\n",
       "    <tr>\n",
       "      <th>1463</th>\n",
       "      <td>2019-01-10 06:00:00</td>\n",
       "      <td>d5f66ed0-44c2-4147-9d25-313312a23cba</td>\n",
       "      <td>69758</td>\n",
       "      <td>комплект для мытья полов из нержавеющей стали ...</td>\n",
       "      <td>1</td>\n",
       "      <td>5399</td>\n",
       "      <td>6</td>\n",
       "      <td>January</td>\n",
       "      <td>Зима</td>\n",
       "      <td>5399</td>\n",
       "    </tr>\n",
       "    <tr>\n",
       "      <th>1632</th>\n",
       "      <td>2019-01-30 10:00:00</td>\n",
       "      <td>c971fb21-d54c-4134-938f-16b62ee86d3b</td>\n",
       "      <td>70020</td>\n",
       "      <td>сумка-тележка хозяйственная rolser imx001 negr...</td>\n",
       "      <td>1</td>\n",
       "      <td>4957</td>\n",
       "      <td>10</td>\n",
       "      <td>January</td>\n",
       "      <td>Зима</td>\n",
       "      <td>4957</td>\n",
       "    </tr>\n",
       "    <tr>\n",
       "      <th>1652</th>\n",
       "      <td>2019-02-01 16:00:00</td>\n",
       "      <td>c971fb21-d54c-4134-938f-16b62ee86d3b</td>\n",
       "      <td>70060</td>\n",
       "      <td>сумка-тележка хозяйственная andersen scala sho...</td>\n",
       "      <td>1</td>\n",
       "      <td>5249</td>\n",
       "      <td>16</td>\n",
       "      <td>February</td>\n",
       "      <td>Зима</td>\n",
       "      <td>5249</td>\n",
       "    </tr>\n",
       "    <tr>\n",
       "      <th>1675</th>\n",
       "      <td>2019-02-04 06:00:00</td>\n",
       "      <td>909564b8-3a5c-4d3e-8310-5ba1c837bbd7</td>\n",
       "      <td>70080</td>\n",
       "      <td>мусорный контейнер hailo bigbin swing 45 0845-...</td>\n",
       "      <td>3</td>\n",
       "      <td>5512</td>\n",
       "      <td>6</td>\n",
       "      <td>February</td>\n",
       "      <td>Зима</td>\n",
       "      <td>16536</td>\n",
       "    </tr>\n",
       "    <tr>\n",
       "      <th>1693</th>\n",
       "      <td>2019-02-04 16:00:00</td>\n",
       "      <td>282d20b5-8d00-424f-b339-7adf6c7c16d1</td>\n",
       "      <td>70094</td>\n",
       "      <td>сиденье для гладильной доски leifheit niveau, ...</td>\n",
       "      <td>1</td>\n",
       "      <td>6149</td>\n",
       "      <td>16</td>\n",
       "      <td>February</td>\n",
       "      <td>Зима</td>\n",
       "      <td>6149</td>\n",
       "    </tr>\n",
       "    <tr>\n",
       "      <th>1981</th>\n",
       "      <td>2019-02-24 10:00:00</td>\n",
       "      <td>ac250053-a236-467a-97d2-ddbb9bf4a1ba</td>\n",
       "      <td>70423</td>\n",
       "      <td>сумка-тележка хозяйственная andersen alu star ...</td>\n",
       "      <td>1</td>\n",
       "      <td>8437</td>\n",
       "      <td>10</td>\n",
       "      <td>February</td>\n",
       "      <td>Зима</td>\n",
       "      <td>8437</td>\n",
       "    </tr>\n",
       "    <tr>\n",
       "      <th>2068</th>\n",
       "      <td>2019-02-28 13:00:00</td>\n",
       "      <td>c971fb21-d54c-4134-938f-16b62ee86d3b</td>\n",
       "      <td>70507</td>\n",
       "      <td>сушилка meliconi stendy junior</td>\n",
       "      <td>1</td>\n",
       "      <td>5594</td>\n",
       "      <td>13</td>\n",
       "      <td>February</td>\n",
       "      <td>Зима</td>\n",
       "      <td>5594</td>\n",
       "    </tr>\n",
       "    <tr>\n",
       "      <th>2208</th>\n",
       "      <td>2019-03-06 12:00:00</td>\n",
       "      <td>b16a52b7-499b-4be8-9220-19076ed22bc9</td>\n",
       "      <td>70627</td>\n",
       "      <td>сумка-тележка хозяйственная rolser mountain че...</td>\n",
       "      <td>1</td>\n",
       "      <td>5459</td>\n",
       "      <td>12</td>\n",
       "      <td>March</td>\n",
       "      <td>Весна</td>\n",
       "      <td>5459</td>\n",
       "    </tr>\n",
       "    <tr>\n",
       "      <th>2229</th>\n",
       "      <td>2019-03-07 08:00:00</td>\n",
       "      <td>f4870400-e54c-4b7f-b95c-0ccba252bf39</td>\n",
       "      <td>70648</td>\n",
       "      <td>сумка-тележка хозяйственная andersen scala sho...</td>\n",
       "      <td>1</td>\n",
       "      <td>5249</td>\n",
       "      <td>8</td>\n",
       "      <td>March</td>\n",
       "      <td>Весна</td>\n",
       "      <td>5249</td>\n",
       "    </tr>\n",
       "    <tr>\n",
       "      <th>2339</th>\n",
       "      <td>2019-03-14 18:00:00</td>\n",
       "      <td>27d4ce42-352b-4756-bf5b-8724e05d5131</td>\n",
       "      <td>70740</td>\n",
       "      <td>сумка-тележка хозяйственная rolser imx006 bass...</td>\n",
       "      <td>1</td>\n",
       "      <td>7679</td>\n",
       "      <td>18</td>\n",
       "      <td>March</td>\n",
       "      <td>Весна</td>\n",
       "      <td>7679</td>\n",
       "    </tr>\n",
       "    <tr>\n",
       "      <th>2404</th>\n",
       "      <td>2019-03-19 21:00:00</td>\n",
       "      <td>493d53bf-ff1f-4487-a6e7-b1bedddb73fd</td>\n",
       "      <td>70799</td>\n",
       "      <td>сушилка meliconi stendy junior</td>\n",
       "      <td>1</td>\n",
       "      <td>5594</td>\n",
       "      <td>21</td>\n",
       "      <td>March</td>\n",
       "      <td>Весна</td>\n",
       "      <td>5594</td>\n",
       "    </tr>\n",
       "    <tr>\n",
       "      <th>2599</th>\n",
       "      <td>2019-04-02 10:00:00</td>\n",
       "      <td>34a0ed26-edc1-449b-9229-e0c199460721</td>\n",
       "      <td>70973</td>\n",
       "      <td>урна-пепельница из нержавеющей стали, hobbyka/...</td>\n",
       "      <td>1</td>\n",
       "      <td>5287</td>\n",
       "      <td>10</td>\n",
       "      <td>April</td>\n",
       "      <td>Весна</td>\n",
       "      <td>5287</td>\n",
       "    </tr>\n",
       "    <tr>\n",
       "      <th>2691</th>\n",
       "      <td>2019-04-05 14:00:00</td>\n",
       "      <td>02adb72a-3067-45e9-a3b5-f93d79d7496a</td>\n",
       "      <td>71030</td>\n",
       "      <td>сумка-тележка хозяйственная andersen scala sho...</td>\n",
       "      <td>1</td>\n",
       "      <td>6149</td>\n",
       "      <td>14</td>\n",
       "      <td>April</td>\n",
       "      <td>Весна</td>\n",
       "      <td>6149</td>\n",
       "    </tr>\n",
       "    <tr>\n",
       "      <th>2697</th>\n",
       "      <td>2019-04-05 19:00:00</td>\n",
       "      <td>c0c60544-3a99-49d0-8a8e-cf7f293c22cb</td>\n",
       "      <td>71035</td>\n",
       "      <td>сумка-тележка хозяйственная andersen royal sho...</td>\n",
       "      <td>1</td>\n",
       "      <td>8737</td>\n",
       "      <td>19</td>\n",
       "      <td>April</td>\n",
       "      <td>Весна</td>\n",
       "      <td>8737</td>\n",
       "    </tr>\n",
       "    <tr>\n",
       "      <th>2751</th>\n",
       "      <td>2019-04-09 09:00:00</td>\n",
       "      <td>36c694c0-096a-40bd-9eb8-d43a8eff5a21</td>\n",
       "      <td>71071</td>\n",
       "      <td>сумка-тележка хозяйственная andersen scala sho...</td>\n",
       "      <td>1</td>\n",
       "      <td>6149</td>\n",
       "      <td>9</td>\n",
       "      <td>April</td>\n",
       "      <td>Весна</td>\n",
       "      <td>6149</td>\n",
       "    </tr>\n",
       "    <tr>\n",
       "      <th>2806</th>\n",
       "      <td>2019-04-12 07:00:00</td>\n",
       "      <td>fa415301-e3f2-4eb3-a7b2-d0a257591c9d</td>\n",
       "      <td>71113</td>\n",
       "      <td>сумка-тележка хозяйственная andersen scala sho...</td>\n",
       "      <td>1</td>\n",
       "      <td>5249</td>\n",
       "      <td>7</td>\n",
       "      <td>April</td>\n",
       "      <td>Весна</td>\n",
       "      <td>5249</td>\n",
       "    </tr>\n",
       "    <tr>\n",
       "      <th>2976</th>\n",
       "      <td>2019-04-20 08:00:00</td>\n",
       "      <td>16838b36-762a-474d-bda4-bad95f8d7813</td>\n",
       "      <td>71209</td>\n",
       "      <td>автоматическая щетка leifheit для мытья окон с...</td>\n",
       "      <td>1</td>\n",
       "      <td>7229</td>\n",
       "      <td>8</td>\n",
       "      <td>April</td>\n",
       "      <td>Весна</td>\n",
       "      <td>7229</td>\n",
       "    </tr>\n",
       "    <tr>\n",
       "      <th>2997</th>\n",
       "      <td>2019-04-21 16:00:00</td>\n",
       "      <td>19d904d8-8d16-476d-8f66-b2a3b7a23660</td>\n",
       "      <td>71227</td>\n",
       "      <td>сумка-тележка хозяйственная rolser mnb019 rojo...</td>\n",
       "      <td>1</td>\n",
       "      <td>8077</td>\n",
       "      <td>16</td>\n",
       "      <td>April</td>\n",
       "      <td>Весна</td>\n",
       "      <td>8077</td>\n",
       "    </tr>\n",
       "    <tr>\n",
       "      <th>3796</th>\n",
       "      <td>2019-05-14 19:00:00</td>\n",
       "      <td>92ac6674-3588-4706-b70e-21be0f53dd88</td>\n",
       "      <td>71428</td>\n",
       "      <td>сумка-тележка хозяйственная rolser par015 mand...</td>\n",
       "      <td>1</td>\n",
       "      <td>6097</td>\n",
       "      <td>19</td>\n",
       "      <td>May</td>\n",
       "      <td>Весна</td>\n",
       "      <td>6097</td>\n",
       "    </tr>\n",
       "    <tr>\n",
       "      <th>3887</th>\n",
       "      <td>2019-05-17 14:00:00</td>\n",
       "      <td>a9089b7e-e6a5-48f9-9b76-48693b63a092</td>\n",
       "      <td>71456</td>\n",
       "      <td>сумка-тележка хозяйственная rolser imx002 mare...</td>\n",
       "      <td>1</td>\n",
       "      <td>6097</td>\n",
       "      <td>14</td>\n",
       "      <td>May</td>\n",
       "      <td>Весна</td>\n",
       "      <td>6097</td>\n",
       "    </tr>\n",
       "    <tr>\n",
       "      <th>4054</th>\n",
       "      <td>2019-05-27 14:00:00</td>\n",
       "      <td>0e668f0e-582c-4832-a9a7-9dd667c26900</td>\n",
       "      <td>71525</td>\n",
       "      <td>сумка-тележка хозяйственная andersen treppenst...</td>\n",
       "      <td>1</td>\n",
       "      <td>6449</td>\n",
       "      <td>14</td>\n",
       "      <td>May</td>\n",
       "      <td>Весна</td>\n",
       "      <td>6449</td>\n",
       "    </tr>\n",
       "    <tr>\n",
       "      <th>4738</th>\n",
       "      <td>2019-06-06 18:00:00</td>\n",
       "      <td>09bcc3d0-8134-4f00-8ea5-b74b55d766ad</td>\n",
       "      <td>71633</td>\n",
       "      <td>стремянка scab balzo 762 5 ступеней алюминиева...</td>\n",
       "      <td>1</td>\n",
       "      <td>5549</td>\n",
       "      <td>18</td>\n",
       "      <td>June</td>\n",
       "      <td>Лето</td>\n",
       "      <td>5549</td>\n",
       "    </tr>\n",
       "    <tr>\n",
       "      <th>4903</th>\n",
       "      <td>2019-06-08 18:00:00</td>\n",
       "      <td>32d17113-bfe6-4cf6-8157-fa228cf53dda</td>\n",
       "      <td>71642</td>\n",
       "      <td>сумка-тележка хозяйственная rolser plegamatic ...</td>\n",
       "      <td>1</td>\n",
       "      <td>6494</td>\n",
       "      <td>18</td>\n",
       "      <td>June</td>\n",
       "      <td>Лето</td>\n",
       "      <td>6494</td>\n",
       "    </tr>\n",
       "    <tr>\n",
       "      <th>5087</th>\n",
       "      <td>2019-06-11 10:00:00</td>\n",
       "      <td>85716494-dd51-4d1d-ab28-8c74b87f14dc</td>\n",
       "      <td>71674</td>\n",
       "      <td>сушилка для белья leifheit pegasus 200 deluxe ...</td>\n",
       "      <td>1</td>\n",
       "      <td>7004</td>\n",
       "      <td>10</td>\n",
       "      <td>June</td>\n",
       "      <td>Лето</td>\n",
       "      <td>7004</td>\n",
       "    </tr>\n",
       "    <tr>\n",
       "      <th>5101</th>\n",
       "      <td>2019-06-11 11:00:00</td>\n",
       "      <td>d109eb8f-0193-43fa-8a59-cffdb258db32</td>\n",
       "      <td>71677</td>\n",
       "      <td>сумка-тележка хозяйственная rolser pack gloria...</td>\n",
       "      <td>1</td>\n",
       "      <td>6809</td>\n",
       "      <td>11</td>\n",
       "      <td>June</td>\n",
       "      <td>Лето</td>\n",
       "      <td>6809</td>\n",
       "    </tr>\n",
       "    <tr>\n",
       "      <th>5176</th>\n",
       "      <td>2019-06-12 18:00:00</td>\n",
       "      <td>aec93ab0-4469-4e88-80cb-08b479a493e5</td>\n",
       "      <td>71687</td>\n",
       "      <td>гладильная доска colombo avantgard 120х40 см</td>\n",
       "      <td>1</td>\n",
       "      <td>6614</td>\n",
       "      <td>18</td>\n",
       "      <td>June</td>\n",
       "      <td>Лето</td>\n",
       "      <td>6614</td>\n",
       "    </tr>\n",
       "    <tr>\n",
       "      <th>5624</th>\n",
       "      <td>2019-07-02 08:00:00</td>\n",
       "      <td>84ba53bc-835e-4feb-96cc-ca6889f7f6cd</td>\n",
       "      <td>71852</td>\n",
       "      <td>сумка-тележка хозяйственная rolser imx004 azul...</td>\n",
       "      <td>1</td>\n",
       "      <td>5939</td>\n",
       "      <td>8</td>\n",
       "      <td>July</td>\n",
       "      <td>Лето</td>\n",
       "      <td>5939</td>\n",
       "    </tr>\n",
       "    <tr>\n",
       "      <th>5992</th>\n",
       "      <td>2019-07-29 17:00:00</td>\n",
       "      <td>0d87f4ae-465a-4fac-81e6-5d629761783e</td>\n",
       "      <td>72139</td>\n",
       "      <td>сушилка уличная leifheit 85210 linomatic v 400...</td>\n",
       "      <td>1</td>\n",
       "      <td>14917</td>\n",
       "      <td>17</td>\n",
       "      <td>July</td>\n",
       "      <td>Лето</td>\n",
       "      <td>14917</td>\n",
       "    </tr>\n",
       "    <tr>\n",
       "      <th>5994</th>\n",
       "      <td>2019-07-30 01:00:00</td>\n",
       "      <td>e2fe6b48-1955-4882-925c-733f545df026</td>\n",
       "      <td>72140</td>\n",
       "      <td>сумка-тележка хозяйственная rolser mnb017 fucs...</td>\n",
       "      <td>1</td>\n",
       "      <td>7679</td>\n",
       "      <td>1</td>\n",
       "      <td>July</td>\n",
       "      <td>Лето</td>\n",
       "      <td>7679</td>\n",
       "    </tr>\n",
       "    <tr>\n",
       "      <th>6003</th>\n",
       "      <td>2019-07-31 07:00:00</td>\n",
       "      <td>2d51b277-cb8a-48eb-bdbf-b3315276f01a</td>\n",
       "      <td>72153</td>\n",
       "      <td>сумка-тележка хозяйственная andersen scala sho...</td>\n",
       "      <td>1</td>\n",
       "      <td>7199</td>\n",
       "      <td>7</td>\n",
       "      <td>July</td>\n",
       "      <td>Лето</td>\n",
       "      <td>7199</td>\n",
       "    </tr>\n",
       "    <tr>\n",
       "      <th>6100</th>\n",
       "      <td>2019-08-15 13:00:00</td>\n",
       "      <td>16e422c6-94fe-4ccf-9c97-05493f3e99c4</td>\n",
       "      <td>72302</td>\n",
       "      <td>набор инструментов в алюминиевом кейсе на коле...</td>\n",
       "      <td>1</td>\n",
       "      <td>5399</td>\n",
       "      <td>13</td>\n",
       "      <td>August</td>\n",
       "      <td>Лето</td>\n",
       "      <td>5399</td>\n",
       "    </tr>\n",
       "    <tr>\n",
       "      <th>6169</th>\n",
       "      <td>2019-08-23 12:00:00</td>\n",
       "      <td>8d85f320-5f55-4647-814c-da1a6b21c2a4</td>\n",
       "      <td>72381</td>\n",
       "      <td>урна уличная стальная сальвадор 02.021.0 46х11...</td>\n",
       "      <td>1</td>\n",
       "      <td>7349</td>\n",
       "      <td>12</td>\n",
       "      <td>August</td>\n",
       "      <td>Лето</td>\n",
       "      <td>7349</td>\n",
       "    </tr>\n",
       "    <tr>\n",
       "      <th>6172</th>\n",
       "      <td>2019-08-23 16:00:00</td>\n",
       "      <td>1b83c58a-e167-4764-904e-d4b0d946c236</td>\n",
       "      <td>72387</td>\n",
       "      <td>сумка-тележка хозяйственная andersen treppenst...</td>\n",
       "      <td>1</td>\n",
       "      <td>6449</td>\n",
       "      <td>16</td>\n",
       "      <td>August</td>\n",
       "      <td>Лето</td>\n",
       "      <td>6449</td>\n",
       "    </tr>\n",
       "    <tr>\n",
       "      <th>6302</th>\n",
       "      <td>2019-09-11 15:00:00</td>\n",
       "      <td>1f502315-d58f-401c-8ba2-88b16e53d0b3</td>\n",
       "      <td>72587</td>\n",
       "      <td>сушилка meliconi stendy junior</td>\n",
       "      <td>1</td>\n",
       "      <td>5594</td>\n",
       "      <td>15</td>\n",
       "      <td>September</td>\n",
       "      <td>Осень</td>\n",
       "      <td>5594</td>\n",
       "    </tr>\n",
       "    <tr>\n",
       "      <th>6578</th>\n",
       "      <td>2019-10-11 09:00:00</td>\n",
       "      <td>39bded4f-7358-4fce-a313-a7cb2d3a7005</td>\n",
       "      <td>72929</td>\n",
       "      <td>сумка-тележка хозяйственная rolser imx004 negr...</td>\n",
       "      <td>1</td>\n",
       "      <td>6075</td>\n",
       "      <td>9</td>\n",
       "      <td>October</td>\n",
       "      <td>Осень</td>\n",
       "      <td>6075</td>\n",
       "    </tr>\n",
       "    <tr>\n",
       "      <th>6626</th>\n",
       "      <td>2019-10-16 11:00:00</td>\n",
       "      <td>73d1cd35-5e5f-4629-8cf2-3fda829d4e58</td>\n",
       "      <td>72986</td>\n",
       "      <td>сумка-тележка хозяйственная rolser mnb012 azul...</td>\n",
       "      <td>1</td>\n",
       "      <td>6600</td>\n",
       "      <td>11</td>\n",
       "      <td>October</td>\n",
       "      <td>Осень</td>\n",
       "      <td>6600</td>\n",
       "    </tr>\n",
       "    <tr>\n",
       "      <th>6629</th>\n",
       "      <td>2019-10-16 15:00:00</td>\n",
       "      <td>d5584388-ffbe-42fd-a746-a98828ec919f</td>\n",
       "      <td>72992</td>\n",
       "      <td>стремянка 7 ступенчатая hailo 8040-707 xxl 13 ...</td>\n",
       "      <td>1</td>\n",
       "      <td>7724</td>\n",
       "      <td>15</td>\n",
       "      <td>October</td>\n",
       "      <td>Осень</td>\n",
       "      <td>7724</td>\n",
       "    </tr>\n",
       "    <tr>\n",
       "      <th>6686</th>\n",
       "      <td>2019-10-23 15:00:00</td>\n",
       "      <td>6cfdad48-10fd-443b-bc67-93078c646779</td>\n",
       "      <td>73077</td>\n",
       "      <td>урна уличная стальная юпитер 02.012.0 38х38х60 см</td>\n",
       "      <td>1</td>\n",
       "      <td>6899</td>\n",
       "      <td>15</td>\n",
       "      <td>October</td>\n",
       "      <td>Осень</td>\n",
       "      <td>6899</td>\n",
       "    </tr>\n",
       "  </tbody>\n",
       "</table>\n",
       "</div>"
      ],
      "text/plain": [
       "                    date                           customer_id  order_id  \\\n",
       "98   2018-10-04 17:00:00  d1a13243-9111-454f-848c-dcce0958528c     68529   \n",
       "596  2018-11-02 17:00:00  305c9634-ec53-46be-af05-48ee8bd790a5     68836   \n",
       "634  2018-11-05 02:00:00  639c4989-b0ab-412a-b7ec-be394cb2d372     68856   \n",
       "654  2018-11-05 22:00:00  fc333417-1d11-4a2a-b946-0957ae0603e9     68872   \n",
       "655  2018-11-05 22:00:00  639c4989-b0ab-412a-b7ec-be394cb2d372     68871   \n",
       "768  2018-11-11 18:00:00  06e2fc7e-6183-4419-ada4-3b976baeed92     68952   \n",
       "1116 2018-12-06 08:00:00  fa471f6f-1442-490c-acc6-a47b0822098c     69226   \n",
       "1121 2018-12-06 17:00:00  82b56a76-0dc9-4dae-aa76-863a9a80f082     69236   \n",
       "1180 2018-12-12 11:00:00  c971fb21-d54c-4134-938f-16b62ee86d3b     69320   \n",
       "1241 2018-12-17 17:00:00  86c97bf1-c834-423e-9e38-8acda68f97e8     69417   \n",
       "1420 2018-12-29 09:00:00  ad66d870-22f5-43bc-958f-73420822586b     69681   \n",
       "1463 2019-01-10 06:00:00  d5f66ed0-44c2-4147-9d25-313312a23cba     69758   \n",
       "1632 2019-01-30 10:00:00  c971fb21-d54c-4134-938f-16b62ee86d3b     70020   \n",
       "1652 2019-02-01 16:00:00  c971fb21-d54c-4134-938f-16b62ee86d3b     70060   \n",
       "1675 2019-02-04 06:00:00  909564b8-3a5c-4d3e-8310-5ba1c837bbd7     70080   \n",
       "1693 2019-02-04 16:00:00  282d20b5-8d00-424f-b339-7adf6c7c16d1     70094   \n",
       "1981 2019-02-24 10:00:00  ac250053-a236-467a-97d2-ddbb9bf4a1ba     70423   \n",
       "2068 2019-02-28 13:00:00  c971fb21-d54c-4134-938f-16b62ee86d3b     70507   \n",
       "2208 2019-03-06 12:00:00  b16a52b7-499b-4be8-9220-19076ed22bc9     70627   \n",
       "2229 2019-03-07 08:00:00  f4870400-e54c-4b7f-b95c-0ccba252bf39     70648   \n",
       "2339 2019-03-14 18:00:00  27d4ce42-352b-4756-bf5b-8724e05d5131     70740   \n",
       "2404 2019-03-19 21:00:00  493d53bf-ff1f-4487-a6e7-b1bedddb73fd     70799   \n",
       "2599 2019-04-02 10:00:00  34a0ed26-edc1-449b-9229-e0c199460721     70973   \n",
       "2691 2019-04-05 14:00:00  02adb72a-3067-45e9-a3b5-f93d79d7496a     71030   \n",
       "2697 2019-04-05 19:00:00  c0c60544-3a99-49d0-8a8e-cf7f293c22cb     71035   \n",
       "2751 2019-04-09 09:00:00  36c694c0-096a-40bd-9eb8-d43a8eff5a21     71071   \n",
       "2806 2019-04-12 07:00:00  fa415301-e3f2-4eb3-a7b2-d0a257591c9d     71113   \n",
       "2976 2019-04-20 08:00:00  16838b36-762a-474d-bda4-bad95f8d7813     71209   \n",
       "2997 2019-04-21 16:00:00  19d904d8-8d16-476d-8f66-b2a3b7a23660     71227   \n",
       "3796 2019-05-14 19:00:00  92ac6674-3588-4706-b70e-21be0f53dd88     71428   \n",
       "3887 2019-05-17 14:00:00  a9089b7e-e6a5-48f9-9b76-48693b63a092     71456   \n",
       "4054 2019-05-27 14:00:00  0e668f0e-582c-4832-a9a7-9dd667c26900     71525   \n",
       "4738 2019-06-06 18:00:00  09bcc3d0-8134-4f00-8ea5-b74b55d766ad     71633   \n",
       "4903 2019-06-08 18:00:00  32d17113-bfe6-4cf6-8157-fa228cf53dda     71642   \n",
       "5087 2019-06-11 10:00:00  85716494-dd51-4d1d-ab28-8c74b87f14dc     71674   \n",
       "5101 2019-06-11 11:00:00  d109eb8f-0193-43fa-8a59-cffdb258db32     71677   \n",
       "5176 2019-06-12 18:00:00  aec93ab0-4469-4e88-80cb-08b479a493e5     71687   \n",
       "5624 2019-07-02 08:00:00  84ba53bc-835e-4feb-96cc-ca6889f7f6cd     71852   \n",
       "5992 2019-07-29 17:00:00  0d87f4ae-465a-4fac-81e6-5d629761783e     72139   \n",
       "5994 2019-07-30 01:00:00  e2fe6b48-1955-4882-925c-733f545df026     72140   \n",
       "6003 2019-07-31 07:00:00  2d51b277-cb8a-48eb-bdbf-b3315276f01a     72153   \n",
       "6100 2019-08-15 13:00:00  16e422c6-94fe-4ccf-9c97-05493f3e99c4     72302   \n",
       "6169 2019-08-23 12:00:00  8d85f320-5f55-4647-814c-da1a6b21c2a4     72381   \n",
       "6172 2019-08-23 16:00:00  1b83c58a-e167-4764-904e-d4b0d946c236     72387   \n",
       "6302 2019-09-11 15:00:00  1f502315-d58f-401c-8ba2-88b16e53d0b3     72587   \n",
       "6578 2019-10-11 09:00:00  39bded4f-7358-4fce-a313-a7cb2d3a7005     72929   \n",
       "6626 2019-10-16 11:00:00  73d1cd35-5e5f-4629-8cf2-3fda829d4e58     72986   \n",
       "6629 2019-10-16 15:00:00  d5584388-ffbe-42fd-a746-a98828ec919f     72992   \n",
       "6686 2019-10-23 15:00:00  6cfdad48-10fd-443b-bc67-93078c646779     73077   \n",
       "\n",
       "                                                product  quantity  price  \\\n",
       "98    сумка-тележка хозяйственная andersen scala sho...         1   5024   \n",
       "596   сумка-тележка хозяйственная andersen scala sho...         1   5249   \n",
       "634   сумка-тележка хозяйственная rolser imx005 mare...         1   6007   \n",
       "654   сумка-тележка хозяйственная rolser mou041 malv...         1   7597   \n",
       "655   сумка-тележка хозяйственная rolser imx005 mare...         1   6007   \n",
       "768   коврик для ванной комнаты gobi полиэстер 120х7...         1   5474   \n",
       "1116  сумка-тележка хозяйственная andersen scala sho...         1   5249   \n",
       "1121  покрывало жаккард karna стеганое kalven 260x26...         1   6134   \n",
       "1180  сумка-тележка хозяйственная andersen treppenst...         1   5662   \n",
       "1241  гладильная доска leifheit airboard compact m p...         1   7424   \n",
       "1420  сумка-тележка хозяйственная rolser pack gloria...         1   6307   \n",
       "1463  комплект для мытья полов из нержавеющей стали ...         1   5399   \n",
       "1632  сумка-тележка хозяйственная rolser imx001 negr...         1   4957   \n",
       "1652  сумка-тележка хозяйственная andersen scala sho...         1   5249   \n",
       "1675  мусорный контейнер hailo bigbin swing 45 0845-...         3   5512   \n",
       "1693  сиденье для гладильной доски leifheit niveau, ...         1   6149   \n",
       "1981  сумка-тележка хозяйственная andersen alu star ...         1   8437   \n",
       "2068                     сушилка meliconi stendy junior         1   5594   \n",
       "2208  сумка-тележка хозяйственная rolser mountain че...         1   5459   \n",
       "2229  сумка-тележка хозяйственная andersen scala sho...         1   5249   \n",
       "2339  сумка-тележка хозяйственная rolser imx006 bass...         1   7679   \n",
       "2404                     сушилка meliconi stendy junior         1   5594   \n",
       "2599  урна-пепельница из нержавеющей стали, hobbyka/...         1   5287   \n",
       "2691  сумка-тележка хозяйственная andersen scala sho...         1   6149   \n",
       "2697  сумка-тележка хозяйственная andersen royal sho...         1   8737   \n",
       "2751  сумка-тележка хозяйственная andersen scala sho...         1   6149   \n",
       "2806  сумка-тележка хозяйственная andersen scala sho...         1   5249   \n",
       "2976  автоматическая щетка leifheit для мытья окон с...         1   7229   \n",
       "2997  сумка-тележка хозяйственная rolser mnb019 rojo...         1   8077   \n",
       "3796  сумка-тележка хозяйственная rolser par015 mand...         1   6097   \n",
       "3887  сумка-тележка хозяйственная rolser imx002 mare...         1   6097   \n",
       "4054  сумка-тележка хозяйственная andersen treppenst...         1   6449   \n",
       "4738  стремянка scab balzo 762 5 ступеней алюминиева...         1   5549   \n",
       "4903  сумка-тележка хозяйственная rolser plegamatic ...         1   6494   \n",
       "5087  сушилка для белья leifheit pegasus 200 deluxe ...         1   7004   \n",
       "5101  сумка-тележка хозяйственная rolser pack gloria...         1   6809   \n",
       "5176       гладильная доска colombo avantgard 120х40 см         1   6614   \n",
       "5624  сумка-тележка хозяйственная rolser imx004 azul...         1   5939   \n",
       "5992  сушилка уличная leifheit 85210 linomatic v 400...         1  14917   \n",
       "5994  сумка-тележка хозяйственная rolser mnb017 fucs...         1   7679   \n",
       "6003  сумка-тележка хозяйственная andersen scala sho...         1   7199   \n",
       "6100  набор инструментов в алюминиевом кейсе на коле...         1   5399   \n",
       "6169  урна уличная стальная сальвадор 02.021.0 46х11...         1   7349   \n",
       "6172  сумка-тележка хозяйственная andersen treppenst...         1   6449   \n",
       "6302                     сушилка meliconi stendy junior         1   5594   \n",
       "6578  сумка-тележка хозяйственная rolser imx004 negr...         1   6075   \n",
       "6626  сумка-тележка хозяйственная rolser mnb012 azul...         1   6600   \n",
       "6629  стремянка 7 ступенчатая hailo 8040-707 xxl 13 ...         1   7724   \n",
       "6686  урна уличная стальная юпитер 02.012.0 38х38х60 см         1   6899   \n",
       "\n",
       "      hour month_name season  revenue  \n",
       "98      17    October  Осень     5024  \n",
       "596     17   November  Осень     5249  \n",
       "634      2   November  Осень     6007  \n",
       "654     22   November  Осень     7597  \n",
       "655     22   November  Осень     6007  \n",
       "768     18   November  Осень     5474  \n",
       "1116     8   December   Зима     5249  \n",
       "1121    17   December   Зима     6134  \n",
       "1180    11   December   Зима     5662  \n",
       "1241    17   December   Зима     7424  \n",
       "1420     9   December   Зима     6307  \n",
       "1463     6    January   Зима     5399  \n",
       "1632    10    January   Зима     4957  \n",
       "1652    16   February   Зима     5249  \n",
       "1675     6   February   Зима    16536  \n",
       "1693    16   February   Зима     6149  \n",
       "1981    10   February   Зима     8437  \n",
       "2068    13   February   Зима     5594  \n",
       "2208    12      March  Весна     5459  \n",
       "2229     8      March  Весна     5249  \n",
       "2339    18      March  Весна     7679  \n",
       "2404    21      March  Весна     5594  \n",
       "2599    10      April  Весна     5287  \n",
       "2691    14      April  Весна     6149  \n",
       "2697    19      April  Весна     8737  \n",
       "2751     9      April  Весна     6149  \n",
       "2806     7      April  Весна     5249  \n",
       "2976     8      April  Весна     7229  \n",
       "2997    16      April  Весна     8077  \n",
       "3796    19        May  Весна     6097  \n",
       "3887    14        May  Весна     6097  \n",
       "4054    14        May  Весна     6449  \n",
       "4738    18       June   Лето     5549  \n",
       "4903    18       June   Лето     6494  \n",
       "5087    10       June   Лето     7004  \n",
       "5101    11       June   Лето     6809  \n",
       "5176    18       June   Лето     6614  \n",
       "5624     8       July   Лето     5939  \n",
       "5992    17       July   Лето    14917  \n",
       "5994     1       July   Лето     7679  \n",
       "6003     7       July   Лето     7199  \n",
       "6100    13     August   Лето     5399  \n",
       "6169    12     August   Лето     7349  \n",
       "6172    16     August   Лето     6449  \n",
       "6302    15  September  Осень     5594  \n",
       "6578     9    October  Осень     6075  \n",
       "6626    11    October  Осень     6600  \n",
       "6629    15    October  Осень     7724  \n",
       "6686    15    October  Осень     6899  "
      ]
     },
     "metadata": {},
     "output_type": "display_data"
    },
    {
     "data": {
      "text/plain": [
       "(49, 10)"
      ]
     },
     "metadata": {},
     "output_type": "display_data"
    }
   ],
   "source": [
    "# самый дорогой 1% товаров\n",
    "display(ecom_new[ecom_new['price'] > np.percentile(ecom_new['price'], 99)])\n",
    "display((ecom_new[ecom_new['price'] > np.percentile(ecom_new['price'], 99)]).shape)"
   ]
  },
  {
   "cell_type": "markdown",
   "metadata": {},
   "source": [
    "Вышло 49 строк. [Сайт интернет-магазина](https://robinzon.ru/brands/rolser/) указывает на то, что такие цены для сумки-тележки вполне реальны. Стремянки и урны тоже вполне могут стоить недешево. Поэтому оставим эти строки в таблице.\n",
    "\n",
    "Значения выручки зависят от цены и количества, поэтому посмотрим на распределение значений просто ради интереса."
   ]
  },
  {
   "cell_type": "code",
   "execution_count": 24,
   "metadata": {},
   "outputs": [
    {
     "data": {
      "image/png": "[encoded data removed]",
      "text/plain": [
       "<Figure size 576x216 with 1 Axes>"
      ]
     },
     "metadata": {},
     "output_type": "display_data"
    }
   ],
   "source": [
    "# выбросы значений выручки\n",
    "plt.figure(figsize = (8, 3))\n",
    "sns.set_style(\"whitegrid\")\n",
    "ax = sns.boxplot(data = ecom_new, x = 'revenue')\n",
    "ax.set_xlim([0, 2000])\n",
    "plt.title('Распределение выручки', fontsize = 15)\n",
    "plt.xlabel('Выручка', fontsize = 15)\n",
    "plt.show()"
   ]
  },
  {
   "cell_type": "code",
   "execution_count": 25,
   "metadata": {},
   "outputs": [
    {
     "data": {
      "text/plain": [
       "array([2849.  , 6138.06])"
      ]
     },
     "execution_count": 25,
     "metadata": {},
     "output_type": "execute_result"
    }
   ],
   "source": [
    "# 95-й и 99-й перцентили для выручки\n",
    "np.percentile(ecom_new['revenue'], [95, 99])"
   ]
  },
  {
   "cell_type": "markdown",
   "metadata": {},
   "source": [
    "Границей нормальной выручки можно считать 6138 рублей.\n",
    "\n",
    "Посмотрим теперь количество заказов на одного пользователя за данный период. Быть может, есть покупатели, которые покупают нереально много."
   ]
  },
  {
   "cell_type": "code",
   "execution_count": 26,
   "metadata": {},
   "outputs": [
    {
     "data": {
      "text/html": [
       "<div>\n",
       "<style scoped>\n",
       "    .dataframe tbody tr th:only-of-type {\n",
       "        vertical-align: middle;\n",
       "    }\n",
       "\n",
       "    .dataframe tbody tr th {\n",
       "        vertical-align: top;\n",
       "    }\n",
       "\n",
       "    .dataframe thead th {\n",
       "        text-align: right;\n",
       "    }\n",
       "</style>\n",
       "<table border=\"1\" class=\"dataframe\">\n",
       "  <thead>\n",
       "    <tr style=\"text-align: right;\">\n",
       "      <th></th>\n",
       "      <th>customer_id</th>\n",
       "      <th>order_id</th>\n",
       "    </tr>\n",
       "  </thead>\n",
       "  <tbody>\n",
       "    <tr>\n",
       "      <th>1915</th>\n",
       "      <td>c971fb21-d54c-4134-938f-16b62ee86d3b</td>\n",
       "      <td>126</td>\n",
       "    </tr>\n",
       "    <tr>\n",
       "      <th>741</th>\n",
       "      <td>4d93d3f6-8b24-403b-a74b-f5173e40d7db</td>\n",
       "      <td>35</td>\n",
       "    </tr>\n",
       "    <tr>\n",
       "      <th>1100</th>\n",
       "      <td>73d1cd35-5e5f-4629-8cf2-3fda829d4e58</td>\n",
       "      <td>17</td>\n",
       "    </tr>\n",
       "    <tr>\n",
       "      <th>1747</th>\n",
       "      <td>b7b865ab-0735-407f-8d0c-31f74d2806cc</td>\n",
       "      <td>7</td>\n",
       "    </tr>\n",
       "    <tr>\n",
       "      <th>17</th>\n",
       "      <td>0184f535-b60a-4914-a982-231e3f615206</td>\n",
       "      <td>5</td>\n",
       "    </tr>\n",
       "    <tr>\n",
       "      <th>698</th>\n",
       "      <td>498f12a4-6a62-4725-8516-cf5dc9ab8a3a</td>\n",
       "      <td>4</td>\n",
       "    </tr>\n",
       "    <tr>\n",
       "      <th>2146</th>\n",
       "      <td>e0535076-6270-4df2-8621-cb06264a94fa</td>\n",
       "      <td>4</td>\n",
       "    </tr>\n",
       "    <tr>\n",
       "      <th>1819</th>\n",
       "      <td>bea7a833-2074-42db-bc49-4457abd3c930</td>\n",
       "      <td>4</td>\n",
       "    </tr>\n",
       "    <tr>\n",
       "      <th>1010</th>\n",
       "      <td>6b0c6cfb-7717-4c34-8535-bbc6e2b2c758</td>\n",
       "      <td>3</td>\n",
       "    </tr>\n",
       "    <tr>\n",
       "      <th>2208</th>\n",
       "      <td>e8204583-4d55-4724-ad3f-049c7db43bdd</td>\n",
       "      <td>3</td>\n",
       "    </tr>\n",
       "  </tbody>\n",
       "</table>\n",
       "</div>"
      ],
      "text/plain": [
       "                               customer_id  order_id\n",
       "1915  c971fb21-d54c-4134-938f-16b62ee86d3b       126\n",
       "741   4d93d3f6-8b24-403b-a74b-f5173e40d7db        35\n",
       "1100  73d1cd35-5e5f-4629-8cf2-3fda829d4e58        17\n",
       "1747  b7b865ab-0735-407f-8d0c-31f74d2806cc         7\n",
       "17    0184f535-b60a-4914-a982-231e3f615206         5\n",
       "698   498f12a4-6a62-4725-8516-cf5dc9ab8a3a         4\n",
       "2146  e0535076-6270-4df2-8621-cb06264a94fa         4\n",
       "1819  bea7a833-2074-42db-bc49-4457abd3c930         4\n",
       "1010  6b0c6cfb-7717-4c34-8535-bbc6e2b2c758         3\n",
       "2208  e8204583-4d55-4724-ad3f-049c7db43bdd         3"
      ]
     },
     "execution_count": 26,
     "metadata": {},
     "output_type": "execute_result"
    }
   ],
   "source": [
    "# количество заказов на пользователя\n",
    "orders_per_user = ecom_new.groupby('customer_id', \n",
    "                                   as_index = False).agg(\n",
    "    {'order_id': pd.Series.nunique}).sort_values(by = 'order_id', \n",
    "                                                 ascending = False)\n",
    "orders_per_user.head(10)"
   ]
  },
  {
   "cell_type": "markdown",
   "metadata": {},
   "source": [
    "Самый преданный покупатель сделал 126 заказов, что выглядит странно. Посмотрим на их содержание, выведем случайные 30 строк."
   ]
  },
  {
   "cell_type": "code",
   "execution_count": 27,
   "metadata": {},
   "outputs": [
    {
     "data": {
      "text/html": [
       "<div>\n",
       "<style scoped>\n",
       "    .dataframe tbody tr th:only-of-type {\n",
       "        vertical-align: middle;\n",
       "    }\n",
       "\n",
       "    .dataframe tbody tr th {\n",
       "        vertical-align: top;\n",
       "    }\n",
       "\n",
       "    .dataframe thead th {\n",
       "        text-align: right;\n",
       "    }\n",
       "</style>\n",
       "<table border=\"1\" class=\"dataframe\">\n",
       "  <thead>\n",
       "    <tr style=\"text-align: right;\">\n",
       "      <th></th>\n",
       "      <th>date</th>\n",
       "      <th>customer_id</th>\n",
       "      <th>order_id</th>\n",
       "      <th>product</th>\n",
       "      <th>quantity</th>\n",
       "      <th>price</th>\n",
       "      <th>hour</th>\n",
       "      <th>month_name</th>\n",
       "      <th>season</th>\n",
       "      <th>revenue</th>\n",
       "    </tr>\n",
       "  </thead>\n",
       "  <tbody>\n",
       "    <tr>\n",
       "      <th>2209</th>\n",
       "      <td>2019-03-06 12:00:00</td>\n",
       "      <td>c971fb21-d54c-4134-938f-16b62ee86d3b</td>\n",
       "      <td>70629</td>\n",
       "      <td>сумка-тележка хозяйственная andersen scala sho...</td>\n",
       "      <td>1</td>\n",
       "      <td>3787</td>\n",
       "      <td>12</td>\n",
       "      <td>March</td>\n",
       "      <td>Весна</td>\n",
       "      <td>3787</td>\n",
       "    </tr>\n",
       "    <tr>\n",
       "      <th>789</th>\n",
       "      <td>2018-11-12 11:00:00</td>\n",
       "      <td>c971fb21-d54c-4134-938f-16b62ee86d3b</td>\n",
       "      <td>68968</td>\n",
       "      <td>герань домашняя (пеларгония зональная) цветуща...</td>\n",
       "      <td>1</td>\n",
       "      <td>149</td>\n",
       "      <td>11</td>\n",
       "      <td>November</td>\n",
       "      <td>Осень</td>\n",
       "      <td>149</td>\n",
       "    </tr>\n",
       "    <tr>\n",
       "      <th>1404</th>\n",
       "      <td>2018-12-28 09:00:00</td>\n",
       "      <td>c971fb21-d54c-4134-938f-16b62ee86d3b</td>\n",
       "      <td>69652</td>\n",
       "      <td>корыто оцинкованное 45 л бесшовное, 1303007</td>\n",
       "      <td>1</td>\n",
       "      <td>749</td>\n",
       "      <td>9</td>\n",
       "      <td>December</td>\n",
       "      <td>Зима</td>\n",
       "      <td>749</td>\n",
       "    </tr>\n",
       "    <tr>\n",
       "      <th>2173</th>\n",
       "      <td>2019-03-04 16:00:00</td>\n",
       "      <td>c971fb21-d54c-4134-938f-16b62ee86d3b</td>\n",
       "      <td>70589</td>\n",
       "      <td>калла крупноцветковая желтая</td>\n",
       "      <td>1</td>\n",
       "      <td>374</td>\n",
       "      <td>16</td>\n",
       "      <td>March</td>\n",
       "      <td>Весна</td>\n",
       "      <td>374</td>\n",
       "    </tr>\n",
       "    <tr>\n",
       "      <th>1184</th>\n",
       "      <td>2018-12-12 14:00:00</td>\n",
       "      <td>c971fb21-d54c-4134-938f-16b62ee86d3b</td>\n",
       "      <td>69325</td>\n",
       "      <td>коврик противоскользящий камешки с ракушками о...</td>\n",
       "      <td>1</td>\n",
       "      <td>239</td>\n",
       "      <td>14</td>\n",
       "      <td>December</td>\n",
       "      <td>Зима</td>\n",
       "      <td>239</td>\n",
       "    </tr>\n",
       "    <tr>\n",
       "      <th>1180</th>\n",
       "      <td>2018-12-12 11:00:00</td>\n",
       "      <td>c971fb21-d54c-4134-938f-16b62ee86d3b</td>\n",
       "      <td>69320</td>\n",
       "      <td>сумка-тележка хозяйственная andersen treppenst...</td>\n",
       "      <td>1</td>\n",
       "      <td>5662</td>\n",
       "      <td>11</td>\n",
       "      <td>December</td>\n",
       "      <td>Зима</td>\n",
       "      <td>5662</td>\n",
       "    </tr>\n",
       "    <tr>\n",
       "      <th>880</th>\n",
       "      <td>2018-11-20 14:00:00</td>\n",
       "      <td>c971fb21-d54c-4134-938f-16b62ee86d3b</td>\n",
       "      <td>69062</td>\n",
       "      <td>чехол для гладильной доски zalger 520111 см ме...</td>\n",
       "      <td>1</td>\n",
       "      <td>434</td>\n",
       "      <td>14</td>\n",
       "      <td>November</td>\n",
       "      <td>Осень</td>\n",
       "      <td>434</td>\n",
       "    </tr>\n",
       "    <tr>\n",
       "      <th>1194</th>\n",
       "      <td>2018-12-13 15:00:00</td>\n",
       "      <td>c971fb21-d54c-4134-938f-16b62ee86d3b</td>\n",
       "      <td>69342</td>\n",
       "      <td>банка рондо элиз 1л, g8487, luminarc, китай</td>\n",
       "      <td>2</td>\n",
       "      <td>164</td>\n",
       "      <td>15</td>\n",
       "      <td>December</td>\n",
       "      <td>Зима</td>\n",
       "      <td>328</td>\n",
       "    </tr>\n",
       "    <tr>\n",
       "      <th>1263</th>\n",
       "      <td>2018-12-19 11:00:00</td>\n",
       "      <td>c971fb21-d54c-4134-938f-16b62ee86d3b</td>\n",
       "      <td>69455</td>\n",
       "      <td>коврик противоскользящий пузырьки 70х38 см бир...</td>\n",
       "      <td>2</td>\n",
       "      <td>224</td>\n",
       "      <td>11</td>\n",
       "      <td>December</td>\n",
       "      <td>Зима</td>\n",
       "      <td>448</td>\n",
       "    </tr>\n",
       "    <tr>\n",
       "      <th>1203</th>\n",
       "      <td>2018-12-14 14:00:00</td>\n",
       "      <td>c971fb21-d54c-4134-938f-16b62ee86d3b</td>\n",
       "      <td>69362</td>\n",
       "      <td>сумка-тележка 2-х колесная gimi argo синяя</td>\n",
       "      <td>1</td>\n",
       "      <td>1049</td>\n",
       "      <td>14</td>\n",
       "      <td>December</td>\n",
       "      <td>Зима</td>\n",
       "      <td>1049</td>\n",
       "    </tr>\n",
       "    <tr>\n",
       "      <th>1036</th>\n",
       "      <td>2018-11-30 11:00:00</td>\n",
       "      <td>c971fb21-d54c-4134-938f-16b62ee86d3b</td>\n",
       "      <td>69159</td>\n",
       "      <td>скребок кондитерский webber be-0368 лавандовый</td>\n",
       "      <td>1</td>\n",
       "      <td>59</td>\n",
       "      <td>11</td>\n",
       "      <td>November</td>\n",
       "      <td>Осень</td>\n",
       "      <td>59</td>\n",
       "    </tr>\n",
       "    <tr>\n",
       "      <th>1881</th>\n",
       "      <td>2019-02-18 08:00:00</td>\n",
       "      <td>c971fb21-d54c-4134-938f-16b62ee86d3b</td>\n",
       "      <td>70314</td>\n",
       "      <td>сушилка для белья потолочно-настенная gimi lif...</td>\n",
       "      <td>1</td>\n",
       "      <td>1124</td>\n",
       "      <td>8</td>\n",
       "      <td>February</td>\n",
       "      <td>Зима</td>\n",
       "      <td>1124</td>\n",
       "    </tr>\n",
       "    <tr>\n",
       "      <th>2171</th>\n",
       "      <td>2019-03-04 15:00:00</td>\n",
       "      <td>c971fb21-d54c-4134-938f-16b62ee86d3b</td>\n",
       "      <td>70582</td>\n",
       "      <td>нефролепис бостон d-12 см</td>\n",
       "      <td>1</td>\n",
       "      <td>292</td>\n",
       "      <td>15</td>\n",
       "      <td>March</td>\n",
       "      <td>Весна</td>\n",
       "      <td>292</td>\n",
       "    </tr>\n",
       "    <tr>\n",
       "      <th>1810</th>\n",
       "      <td>2019-02-13 08:00:00</td>\n",
       "      <td>c971fb21-d54c-4134-938f-16b62ee86d3b</td>\n",
       "      <td>70236</td>\n",
       "      <td>пеларгония розебудная red pandora укорененный ...</td>\n",
       "      <td>1</td>\n",
       "      <td>134</td>\n",
       "      <td>8</td>\n",
       "      <td>February</td>\n",
       "      <td>Зима</td>\n",
       "      <td>134</td>\n",
       "    </tr>\n",
       "    <tr>\n",
       "      <th>1020</th>\n",
       "      <td>2018-11-29 11:00:00</td>\n",
       "      <td>c971fb21-d54c-4134-938f-16b62ee86d3b</td>\n",
       "      <td>69149</td>\n",
       "      <td>гладильная доска-стремянка dasch 95х33 см 848n</td>\n",
       "      <td>1</td>\n",
       "      <td>2399</td>\n",
       "      <td>11</td>\n",
       "      <td>November</td>\n",
       "      <td>Осень</td>\n",
       "      <td>2399</td>\n",
       "    </tr>\n",
       "  </tbody>\n",
       "</table>\n",
       "</div>"
      ],
      "text/plain": [
       "                    date                           customer_id  order_id  \\\n",
       "2209 2019-03-06 12:00:00  c971fb21-d54c-4134-938f-16b62ee86d3b     70629   \n",
       "789  2018-11-12 11:00:00  c971fb21-d54c-4134-938f-16b62ee86d3b     68968   \n",
       "1404 2018-12-28 09:00:00  c971fb21-d54c-4134-938f-16b62ee86d3b     69652   \n",
       "2173 2019-03-04 16:00:00  c971fb21-d54c-4134-938f-16b62ee86d3b     70589   \n",
       "1184 2018-12-12 14:00:00  c971fb21-d54c-4134-938f-16b62ee86d3b     69325   \n",
       "1180 2018-12-12 11:00:00  c971fb21-d54c-4134-938f-16b62ee86d3b     69320   \n",
       "880  2018-11-20 14:00:00  c971fb21-d54c-4134-938f-16b62ee86d3b     69062   \n",
       "1194 2018-12-13 15:00:00  c971fb21-d54c-4134-938f-16b62ee86d3b     69342   \n",
       "1263 2018-12-19 11:00:00  c971fb21-d54c-4134-938f-16b62ee86d3b     69455   \n",
       "1203 2018-12-14 14:00:00  c971fb21-d54c-4134-938f-16b62ee86d3b     69362   \n",
       "1036 2018-11-30 11:00:00  c971fb21-d54c-4134-938f-16b62ee86d3b     69159   \n",
       "1881 2019-02-18 08:00:00  c971fb21-d54c-4134-938f-16b62ee86d3b     70314   \n",
       "2171 2019-03-04 15:00:00  c971fb21-d54c-4134-938f-16b62ee86d3b     70582   \n",
       "1810 2019-02-13 08:00:00  c971fb21-d54c-4134-938f-16b62ee86d3b     70236   \n",
       "1020 2018-11-29 11:00:00  c971fb21-d54c-4134-938f-16b62ee86d3b     69149   \n",
       "\n",
       "                                                product  quantity  price  \\\n",
       "2209  сумка-тележка хозяйственная andersen scala sho...         1   3787   \n",
       "789   герань домашняя (пеларгония зональная) цветуща...         1    149   \n",
       "1404        корыто оцинкованное 45 л бесшовное, 1303007         1    749   \n",
       "2173                       калла крупноцветковая желтая         1    374   \n",
       "1184  коврик противоскользящий камешки с ракушками о...         1    239   \n",
       "1180  сумка-тележка хозяйственная andersen treppenst...         1   5662   \n",
       "880   чехол для гладильной доски zalger 520111 см ме...         1    434   \n",
       "1194        банка рондо элиз 1л, g8487, luminarc, китай         2    164   \n",
       "1263  коврик противоскользящий пузырьки 70х38 см бир...         2    224   \n",
       "1203         сумка-тележка 2-х колесная gimi argo синяя         1   1049   \n",
       "1036     скребок кондитерский webber be-0368 лавандовый         1     59   \n",
       "1881  сушилка для белья потолочно-настенная gimi lif...         1   1124   \n",
       "2171                          нефролепис бостон d-12 см         1    292   \n",
       "1810  пеларгония розебудная red pandora укорененный ...         1    134   \n",
       "1020     гладильная доска-стремянка dasch 95х33 см 848n         1   2399   \n",
       "\n",
       "      hour month_name season  revenue  \n",
       "2209    12      March  Весна     3787  \n",
       "789     11   November  Осень      149  \n",
       "1404     9   December   Зима      749  \n",
       "2173    16      March  Весна      374  \n",
       "1184    14   December   Зима      239  \n",
       "1180    11   December   Зима     5662  \n",
       "880     14   November  Осень      434  \n",
       "1194    15   December   Зима      328  \n",
       "1263    11   December   Зима      448  \n",
       "1203    14   December   Зима     1049  \n",
       "1036    11   November  Осень       59  \n",
       "1881     8   February   Зима     1124  \n",
       "2171    15      March  Весна      292  \n",
       "1810     8   February   Зима      134  \n",
       "1020    11   November  Осень     2399  "
      ]
     },
     "execution_count": 27,
     "metadata": {},
     "output_type": "execute_result"
    }
   ],
   "source": [
    "# заказы покупателя с большим количеством заказов\n",
    "rich = ecom_new[ecom_new['customer_id'] == 'c971fb21-d54c-4134-938f-16b62ee86d3b']\n",
    "rich.sample(15)"
   ]
  },
  {
   "cell_type": "markdown",
   "metadata": {},
   "source": [
    "Сгруппируем по месяцам и посмотрим количество заказов."
   ]
  },
  {
   "cell_type": "code",
   "execution_count": 28,
   "metadata": {},
   "outputs": [
    {
     "data": {
      "text/html": [
       "<div>\n",
       "<style scoped>\n",
       "    .dataframe tbody tr th:only-of-type {\n",
       "        vertical-align: middle;\n",
       "    }\n",
       "\n",
       "    .dataframe tbody tr th {\n",
       "        vertical-align: top;\n",
       "    }\n",
       "\n",
       "    .dataframe thead th {\n",
       "        text-align: right;\n",
       "    }\n",
       "</style>\n",
       "<table border=\"1\" class=\"dataframe\">\n",
       "  <thead>\n",
       "    <tr style=\"text-align: right;\">\n",
       "      <th></th>\n",
       "      <th>month_name</th>\n",
       "      <th>order_id</th>\n",
       "    </tr>\n",
       "  </thead>\n",
       "  <tbody>\n",
       "    <tr>\n",
       "      <th>0</th>\n",
       "      <td>December</td>\n",
       "      <td>43</td>\n",
       "    </tr>\n",
       "    <tr>\n",
       "      <th>1</th>\n",
       "      <td>February</td>\n",
       "      <td>28</td>\n",
       "    </tr>\n",
       "    <tr>\n",
       "      <th>5</th>\n",
       "      <td>October</td>\n",
       "      <td>21</td>\n",
       "    </tr>\n",
       "    <tr>\n",
       "      <th>4</th>\n",
       "      <td>November</td>\n",
       "      <td>20</td>\n",
       "    </tr>\n",
       "    <tr>\n",
       "      <th>3</th>\n",
       "      <td>March</td>\n",
       "      <td>8</td>\n",
       "    </tr>\n",
       "    <tr>\n",
       "      <th>2</th>\n",
       "      <td>January</td>\n",
       "      <td>6</td>\n",
       "    </tr>\n",
       "  </tbody>\n",
       "</table>\n",
       "</div>"
      ],
      "text/plain": [
       "  month_name  order_id\n",
       "0   December        43\n",
       "1   February        28\n",
       "5    October        21\n",
       "4   November        20\n",
       "3      March         8\n",
       "2    January         6"
      ]
     },
     "execution_count": 28,
     "metadata": {},
     "output_type": "execute_result"
    }
   ],
   "source": [
    "# количество заказов на пользователя со 126 заказами\n",
    "rich_user = rich.groupby('month_name', as_index = False).agg(\n",
    "    {'order_id': pd.Series.nunique}).sort_values(by = 'order_id', \n",
    "                                                ascending = False)\n",
    "rich_user"
   ]
  },
  {
   "cell_type": "markdown",
   "metadata": {},
   "source": [
    "Склоняюсь к тому, что этого пользователя следует удалить, при этом жертвуя частью данных. Пользователи с 35 и 17 заказами, скорее всего, дачники с большими участками или ведут ремонт, поэтому покупают часто."
   ]
  },
  {
   "cell_type": "code",
   "execution_count": 29,
   "metadata": {},
   "outputs": [],
   "source": [
    "# удаление пользователя с аномальным числом заказов\n",
    "ecom_new = ecom_new[(ecom_new['customer_id'] != 'c971fb21-d54c-4134-938f-16b62ee86d3b')]"
   ]
  },
  {
   "cell_type": "markdown",
   "metadata": {},
   "source": [
    "Посмотрим, как после этого изменились перцентили."
   ]
  },
  {
   "cell_type": "code",
   "execution_count": 30,
   "metadata": {},
   "outputs": [
    {
     "data": {
      "text/plain": [
       "array([ 7., 30.])"
      ]
     },
     "execution_count": 30,
     "metadata": {},
     "output_type": "execute_result"
    }
   ],
   "source": [
    "# 95-й и 99-й перцентили для количества товаров\n",
    "np.percentile(ecom_new['quantity'], [95, 99])"
   ]
  },
  {
   "cell_type": "markdown",
   "metadata": {},
   "source": [
    "Здесь 99-й перцентиль не изменился."
   ]
  },
  {
   "cell_type": "code",
   "execution_count": 31,
   "metadata": {},
   "outputs": [
    {
     "data": {
      "text/plain": [
       "array([2024.6, 4874. ])"
      ]
     },
     "execution_count": 31,
     "metadata": {},
     "output_type": "execute_result"
    }
   ],
   "source": [
    "# 95-й и 99-й перцентили для цены товаров\n",
    "np.percentile(ecom_new['price'], [95, 99])"
   ]
  },
  {
   "cell_type": "markdown",
   "metadata": {},
   "source": [
    "Тут был 4951 рубль, значение немного уменьшилось, но не критично.\n",
    "\n",
    "Обработка аномальных значений завершена. Приступаем к категоризации товаров, чтобы затем анализировать товарный ассортимент.\n",
    "\n",
    "### Категоризация товаров"
   ]
  },
  {
   "cell_type": "markdown",
   "metadata": {},
   "source": [
    "Чтобы определить категорию товаров, нужен список лемм. Из него вручную выделим категории и напишем функцию. Строки с определением лемм будут закомментированы, чтобы сэкономить место."
   ]
  },
  {
   "cell_type": "code",
   "execution_count": 32,
   "metadata": {},
   "outputs": [],
   "source": [
    "# лемматизация\n",
    "\n",
    "# unique_products = ecom_new['product'].unique().tolist()\n",
    "# m = Mystem()\n",
    "# string = '; '.join(unique_products)\n",
    "# lemmas = m.lemmatize(string)\n",
    "# display(Counter(lemmas))"
   ]
  },
  {
   "cell_type": "markdown",
   "metadata": {},
   "source": [
    "По результатам лемматизации составляем словарь."
   ]
  },
  {
   "cell_type": "code",
   "execution_count": 33,
   "metadata": {},
   "outputs": [],
   "source": [
    "# словарь с категориями товаров\n",
    "categories = {\n",
    "    'уход за собой':['мыло','скраб','паста зуб','зубная','пена','увлаж','халат','мыла'],\n",
    "    \n",
    "    'хозтовары':['швабр','тряп','ведр','веник','перчатки','мешок','сетка для','таз','ковш',\n",
    "                 'щетка','ролик','зажигалка','ткань','совок','губка','окномойка','шило',\n",
    "                 'шпагат','фал капр','пробк','сумка-тележка','тележка','сумка','крепеж',\n",
    "                 'контейнер','кофр','урна','сушилка','ерш','унитаз','стяжк','свч',\n",
    "                 'штанга','доска','корзин','коробка','короб','ключница','чехол','бак ','шнур',\n",
    "                 'ящик','стремянк','пружин','плечик','крючок','прищеп','лоток','пакет',\n",
    "                 'уголок','сумка для','подрукав','рассек','держат','вантуз','веревка поли',\n",
    "                 'рукав','бидон','совк','насадка','петля','фиксатор','вкладыши','ложка обув',\n",
    "                 'покрытие для','завертка','подголовник','сиденье','решетка','сумка для тележки большая'],    \n",
    "    \n",
    "    'интерьер':['искусственный цветок','композиция','муляж ','цветок искусственный','искусственная',\n",
    "                'наматр','наволоч','покрывало','одеял','простын','фоторамка','коврик','штор',\n",
    "                'плед','ванно','ванну','для ванны','этажерк','полотен','подушка','ваза','комод',\n",
    "                'ковер придверный','ковров','вешал','карниз','полки q','ручка-','ручка меб',\n",
    "                'светильник','стеллаж','для обуви','ванна','обувниц','постельное белье',\n",
    "                'скатерть','пуф'],\n",
    "    \n",
    "    'кухня':['тарелка','нож','сковород','хлебница','вилка','ложка ст','чайник','блюд','форм',\n",
    "             'толкушка','картофелемялка','терка','половник','кастрюля','салатник','кувшин',\n",
    "             'круж','противень','миска','стакан','выпечк','сито','салфет','венчик','банк',\n",
    "             'сахарница','рыбочистка','фужер','бокал','орехокол','просеиватель','бульонница',\n",
    "             'тортница','ножеточка','измельчитель','термос','скребок','шприц','пресс для',\n",
    "             'чайный','сотейник','скалка','котел','овощечистка','столов','соус','лопатка',\n",
    "             'масленка','яйц','косточек','набор посуды','дуршлаг','я ложка','ложка ч','ложка к'],\n",
    "    \n",
    "    'растения':['каланхое','душица','калла','флокс','сальвия','цинния','петрушка',\n",
    "                'мелисс','помидор','колокольчик','тыква','эхеверия','фуксия','пуансеттия',\n",
    "                'львиный зев','пеларгония','спатифиллум','крассула','гипсофила','артемизия',\n",
    "                'гимнокалициум','чабер','гвоздика','космея','незабудка','валериана','горох',\n",
    "                'астра','зверобой','арбуз','луковиц','рассада','морковь','нарцисс','бархатцы',\n",
    "                'пуансетия','фиалка','подарочный','гиностемма','калоцефалус','папоротник',\n",
    "                'змееголовник','любисток','кипарисовик','сорт','фикус','баклажан ','капуста',\n",
    "                'алиссум','клубника','бегония','шалфей','гортензия','ранункулус', 'декабрист',\n",
    "                'буддлея','бузульник','диффенбахия','фиттония','хризантема','эвкалипт','базилик',\n",
    "                'газания','гардения','тимьян','замиокулькас','клен','сантолина','камнеломка',\n",
    "                'шпинат','сциндапсус','настурция','кампанула','рудбекия','мединилла','нефролепис',\n",
    "                'огурец','фаленопсис','розмарин','калибрахоа','тюльпан','герань','примула',\n",
    "                'аспарагус','эхинокактус','кориандр','вербена','годеция','эшшольция','бадан',\n",
    "                'скиммия','лапчатка','кореопсис','мимоза','молодило','подсолнечник','шеффлера',\n",
    "                'агератум','виола','однолетнее','многолетнее','лобелия','календула','осина',\n",
    "                'хлорофитум','глоксиния','комнатное','плющ','радермахера','хризолидокарпус',\n",
    "                'суккулент','эпипремнум','петуни','джункус','бальзамин','порей','амариллис',\n",
    "                'драцена','капсикум','бакопа','барвинок','литопс','комнатное','растение',\n",
    "                'гербера','азалия','физостегия','кодонанта','платикодон','эхинацея','пахира',\n",
    "                'энотера','циперус','георгина','гиацинт','лилейник','альбука','целозия','калатея',\n",
    "                'чабрец','цикламен','портулак','дендробиум','крокусы','ясколка','нолина','роза',\n",
    "                'дын','аквилегия','дерево','лантана','сосна','мята','кассет','зелени','кашпо',\n",
    "                'гелихризум','земляника','монарда','адиантум','лаванда','мята','мяты','патиссон',\n",
    "                'рукола','юкка','овсянница','нивянник','укроп','аптения','черен','гайлардия',\n",
    "                'цитрофортунелла','вербейник','пеперомия','цинерария','антуриум','дерево ель',\n",
    "                'каллуна','соланум','хамедорея','котовник','лавр','мирт','алоэ','ель канад',\n",
    "                'анемон','кофе ','для цветов','кабач','виноград п','фатсия','солидаго','пиретрум',\n",
    "                'вероника','лен не','седум','афеляндр','импатиенс','хоста','иссоп','муррайя','травы',\n",
    "                'лаватера','смолевка','томат','d-'],\n",
    "    \n",
    "    'техника':['пылесос','утюг','электро','соковыжималка','миксер','пароварка','мантоварка',\n",
    "               'мясорубка','кипятильник','фен','соковарка','овощеварка'],\n",
    "   \n",
    "    'инструменты':['угольник','штангенциркуль','термометр','свар','свер','весы','линейка',\n",
    "                   'напильн','инструмент'],\n",
    "    \n",
    "    'быт.химия':['отбеливатель','порошок','кондиционер','антижир','ополаскиватель','гель',\n",
    "                 'чистящий','средство','бензин','паста для','бальзам для','концентрат','соль'],\n",
    "\n",
    "}"
   ]
  },
  {
   "cell_type": "markdown",
   "metadata": {},
   "source": [
    "Поскольку все товары были записаны в словарь через букву 'е', проведем соответствующую замену в датасете. Затем пишем функцию для категоризации."
   ]
  },
  {
   "cell_type": "code",
   "execution_count": 34,
   "metadata": {},
   "outputs": [
    {
     "data": {
      "text/html": [
       "<div>\n",
       "<style scoped>\n",
       "    .dataframe tbody tr th:only-of-type {\n",
       "        vertical-align: middle;\n",
       "    }\n",
       "\n",
       "    .dataframe tbody tr th {\n",
       "        vertical-align: top;\n",
       "    }\n",
       "\n",
       "    .dataframe thead th {\n",
       "        text-align: right;\n",
       "    }\n",
       "</style>\n",
       "<table border=\"1\" class=\"dataframe\">\n",
       "  <thead>\n",
       "    <tr style=\"text-align: right;\">\n",
       "      <th></th>\n",
       "      <th>date</th>\n",
       "      <th>customer_id</th>\n",
       "      <th>order_id</th>\n",
       "      <th>product</th>\n",
       "      <th>quantity</th>\n",
       "      <th>price</th>\n",
       "      <th>hour</th>\n",
       "      <th>month_name</th>\n",
       "      <th>season</th>\n",
       "      <th>revenue</th>\n",
       "      <th>category</th>\n",
       "    </tr>\n",
       "  </thead>\n",
       "  <tbody>\n",
       "  </tbody>\n",
       "</table>\n",
       "</div>"
      ],
      "text/plain": [
       "Empty DataFrame\n",
       "Columns: [date, customer_id, order_id, product, quantity, price, hour, month_name, season, revenue, category]\n",
       "Index: []"
      ]
     },
     "execution_count": 34,
     "metadata": {},
     "output_type": "execute_result"
    }
   ],
   "source": [
    "# замена буквы ё на е\n",
    "ecom_new['product'] = ecom_new['product'].str.replace('ё','е')\n",
    "\n",
    "# функция для категоризации\n",
    "def category_func(name):\n",
    "    for key, value in categories.items():\n",
    "        for word in value:\n",
    "            if name.find(word) > -1:\n",
    "                return key\n",
    "    return 'нет категории'\n",
    "\n",
    "# создание столбца с категориями\n",
    "ecom_new['category'] = ecom_new['product'].apply(category_func)\n",
    "\n",
    "# проверка категоризации всех товаров\n",
    "ecom_new[ecom_new['category'] == 'нет категории']"
   ]
  },
  {
   "cell_type": "markdown",
   "metadata": {},
   "source": [
    "Для каждого товара определена категория. Посмотрим распределение товаров по категориям. Ожидается, что категория растений будет самой большой."
   ]
  },
  {
   "cell_type": "code",
   "execution_count": 35,
   "metadata": {},
   "outputs": [
    {
     "data": {
      "text/html": [
       "<div>\n",
       "<style scoped>\n",
       "    .dataframe tbody tr th:only-of-type {\n",
       "        vertical-align: middle;\n",
       "    }\n",
       "\n",
       "    .dataframe tbody tr th {\n",
       "        vertical-align: top;\n",
       "    }\n",
       "\n",
       "    .dataframe thead th {\n",
       "        text-align: right;\n",
       "    }\n",
       "</style>\n",
       "<table border=\"1\" class=\"dataframe\">\n",
       "  <thead>\n",
       "    <tr style=\"text-align: right;\">\n",
       "      <th></th>\n",
       "      <th>category</th>\n",
       "      <th>product</th>\n",
       "      <th>ratio</th>\n",
       "    </tr>\n",
       "  </thead>\n",
       "  <tbody>\n",
       "    <tr>\n",
       "      <th>4</th>\n",
       "      <td>растения</td>\n",
       "      <td>2461</td>\n",
       "      <td>52.0%</td>\n",
       "    </tr>\n",
       "    <tr>\n",
       "      <th>7</th>\n",
       "      <td>хозтовары</td>\n",
       "      <td>1244</td>\n",
       "      <td>26.3%</td>\n",
       "    </tr>\n",
       "    <tr>\n",
       "      <th>2</th>\n",
       "      <td>интерьер</td>\n",
       "      <td>643</td>\n",
       "      <td>13.6%</td>\n",
       "    </tr>\n",
       "    <tr>\n",
       "      <th>3</th>\n",
       "      <td>кухня</td>\n",
       "      <td>302</td>\n",
       "      <td>6.4%</td>\n",
       "    </tr>\n",
       "    <tr>\n",
       "      <th>5</th>\n",
       "      <td>техника</td>\n",
       "      <td>22</td>\n",
       "      <td>0.5%</td>\n",
       "    </tr>\n",
       "    <tr>\n",
       "      <th>0</th>\n",
       "      <td>быт.химия</td>\n",
       "      <td>21</td>\n",
       "      <td>0.4%</td>\n",
       "    </tr>\n",
       "    <tr>\n",
       "      <th>6</th>\n",
       "      <td>уход за собой</td>\n",
       "      <td>19</td>\n",
       "      <td>0.4%</td>\n",
       "    </tr>\n",
       "    <tr>\n",
       "      <th>1</th>\n",
       "      <td>инструменты</td>\n",
       "      <td>17</td>\n",
       "      <td>0.4%</td>\n",
       "    </tr>\n",
       "  </tbody>\n",
       "</table>\n",
       "</div>"
      ],
      "text/plain": [
       "        category  product  ratio\n",
       "4       растения     2461  52.0%\n",
       "7      хозтовары     1244  26.3%\n",
       "2       интерьер      643  13.6%\n",
       "3          кухня      302   6.4%\n",
       "5        техника       22   0.5%\n",
       "0      быт.химия       21   0.4%\n",
       "6  уход за собой       19   0.4%\n",
       "1    инструменты       17   0.4%"
      ]
     },
     "execution_count": 35,
     "metadata": {},
     "output_type": "execute_result"
    }
   ],
   "source": [
    "# размеры категорий\n",
    "categories_size = ecom_new.groupby('category').agg({'product':'count'}).reset_index()\n",
    "categories_size['ratio'] = ((categories_size['product'] / len(ecom_new))*100).round(1).astype('str')+'%'\n",
    "categories_size.sort_values(by = 'product', ascending = False)"
   ]
  },
  {
   "cell_type": "markdown",
   "metadata": {},
   "source": [
    "Догадка оказалась верной. Основной ассортимент магазина составляют растения и рассада (более половины), а также товары для хозяйства (24%).\n",
    "\n",
    "### Анализ товарного ассортимента"
   ]
  },
  {
   "cell_type": "markdown",
   "metadata": {},
   "source": [
    "Найдем топ-5 самых продаваемых и прибыльных товаров в каждой категории, а также по всем данным.\n",
    "\n",
    "#### Топ-5 самых продаваемых товаров в каждой категории"
   ]
  },
  {
   "cell_type": "code",
   "execution_count": 36,
   "metadata": {
    "scrolled": false
   },
   "outputs": [
    {
     "name": "stdout",
     "output_type": "stream",
     "text": [
      "\n"
     ]
    },
    {
     "data": {
      "text/plain": [
       "'Топ-5 самых продаваемых товаров: «растения»'"
      ]
     },
     "metadata": {},
     "output_type": "display_data"
    },
    {
     "data": {
      "text/html": [
       "<div>\n",
       "<style scoped>\n",
       "    .dataframe tbody tr th:only-of-type {\n",
       "        vertical-align: middle;\n",
       "    }\n",
       "\n",
       "    .dataframe tbody tr th {\n",
       "        vertical-align: top;\n",
       "    }\n",
       "\n",
       "    .dataframe thead th {\n",
       "        text-align: right;\n",
       "    }\n",
       "</style>\n",
       "<table border=\"1\" class=\"dataframe\">\n",
       "  <thead>\n",
       "    <tr style=\"text-align: right;\">\n",
       "      <th></th>\n",
       "      <th>product</th>\n",
       "      <th>category</th>\n",
       "      <th>order_id</th>\n",
       "      <th>customer_id</th>\n",
       "      <th>quantity</th>\n",
       "      <th>revenue</th>\n",
       "    </tr>\n",
       "  </thead>\n",
       "  <tbody>\n",
       "    <tr>\n",
       "      <th>1015</th>\n",
       "      <td>пеларгония розебудная red pandora укорененный ...</td>\n",
       "      <td>растения</td>\n",
       "      <td>63</td>\n",
       "      <td>62</td>\n",
       "      <td>81</td>\n",
       "      <td>10923</td>\n",
       "    </tr>\n",
       "    <tr>\n",
       "      <th>1013</th>\n",
       "      <td>пеларгония розебудная prins nikolai укорененны...</td>\n",
       "      <td>растения</td>\n",
       "      <td>55</td>\n",
       "      <td>54</td>\n",
       "      <td>64</td>\n",
       "      <td>8626</td>\n",
       "    </tr>\n",
       "    <tr>\n",
       "      <th>987</th>\n",
       "      <td>пеларгония зональная диам. 12 см сиреневый пол...</td>\n",
       "      <td>растения</td>\n",
       "      <td>52</td>\n",
       "      <td>47</td>\n",
       "      <td>63</td>\n",
       "      <td>10780</td>\n",
       "    </tr>\n",
       "    <tr>\n",
       "      <th>1012</th>\n",
       "      <td>пеларгония розебудная mary укорененный черенок</td>\n",
       "      <td>растения</td>\n",
       "      <td>39</td>\n",
       "      <td>35</td>\n",
       "      <td>47</td>\n",
       "      <td>6336</td>\n",
       "    </tr>\n",
       "    <tr>\n",
       "      <th>1014</th>\n",
       "      <td>пеларгония розебудная queen ingrid укорененный...</td>\n",
       "      <td>растения</td>\n",
       "      <td>30</td>\n",
       "      <td>28</td>\n",
       "      <td>38</td>\n",
       "      <td>5175</td>\n",
       "    </tr>\n",
       "  </tbody>\n",
       "</table>\n",
       "</div>"
      ],
      "text/plain": [
       "                                                product  category  order_id  \\\n",
       "1015  пеларгония розебудная red pandora укорененный ...  растения        63   \n",
       "1013  пеларгония розебудная prins nikolai укорененны...  растения        55   \n",
       "987   пеларгония зональная диам. 12 см сиреневый пол...  растения        52   \n",
       "1012     пеларгония розебудная mary укорененный черенок  растения        39   \n",
       "1014  пеларгония розебудная queen ingrid укорененный...  растения        30   \n",
       "\n",
       "      customer_id  quantity  revenue  \n",
       "1015           62        81    10923  \n",
       "1013           54        64     8626  \n",
       "987            47        63    10780  \n",
       "1012           35        47     6336  \n",
       "1014           28        38     5175  "
      ]
     },
     "metadata": {},
     "output_type": "display_data"
    },
    {
     "name": "stdout",
     "output_type": "stream",
     "text": [
      "\n",
      "\n"
     ]
    },
    {
     "data": {
      "text/plain": [
       "'Топ-5 самых продаваемых товаров: «хозтовары»'"
      ]
     },
     "metadata": {},
     "output_type": "display_data"
    },
    {
     "data": {
      "text/html": [
       "<div>\n",
       "<style scoped>\n",
       "    .dataframe tbody tr th:only-of-type {\n",
       "        vertical-align: middle;\n",
       "    }\n",
       "\n",
       "    .dataframe tbody tr th {\n",
       "        vertical-align: top;\n",
       "    }\n",
       "\n",
       "    .dataframe thead th {\n",
       "        text-align: right;\n",
       "    }\n",
       "</style>\n",
       "<table border=\"1\" class=\"dataframe\">\n",
       "  <thead>\n",
       "    <tr style=\"text-align: right;\">\n",
       "      <th></th>\n",
       "      <th>product</th>\n",
       "      <th>category</th>\n",
       "      <th>order_id</th>\n",
       "      <th>customer_id</th>\n",
       "      <th>quantity</th>\n",
       "      <th>revenue</th>\n",
       "    </tr>\n",
       "  </thead>\n",
       "  <tbody>\n",
       "    <tr>\n",
       "      <th>1575</th>\n",
       "      <td>сумка-тележка 2-х колесная gimi argo синяя</td>\n",
       "      <td>хозтовары</td>\n",
       "      <td>45</td>\n",
       "      <td>42</td>\n",
       "      <td>45</td>\n",
       "      <td>48307</td>\n",
       "    </tr>\n",
       "    <tr>\n",
       "      <th>1725</th>\n",
       "      <td>сушилка для белья настенная zalger prima 510-7...</td>\n",
       "      <td>хозтовары</td>\n",
       "      <td>16</td>\n",
       "      <td>15</td>\n",
       "      <td>19</td>\n",
       "      <td>5234</td>\n",
       "    </tr>\n",
       "    <tr>\n",
       "      <th>1845</th>\n",
       "      <td>тележка багажная delta тбр-20 синий грузоподъе...</td>\n",
       "      <td>хозтовары</td>\n",
       "      <td>16</td>\n",
       "      <td>16</td>\n",
       "      <td>16</td>\n",
       "      <td>11725</td>\n",
       "    </tr>\n",
       "    <tr>\n",
       "      <th>1844</th>\n",
       "      <td>тележка багажная delta тбр-20 коричневый с ора...</td>\n",
       "      <td>хозтовары</td>\n",
       "      <td>13</td>\n",
       "      <td>13</td>\n",
       "      <td>14</td>\n",
       "      <td>9523</td>\n",
       "    </tr>\n",
       "    <tr>\n",
       "      <th>1745</th>\n",
       "      <td>сушилка для белья потолочная лиана 2,0 м 1703009</td>\n",
       "      <td>хозтовары</td>\n",
       "      <td>10</td>\n",
       "      <td>10</td>\n",
       "      <td>10</td>\n",
       "      <td>5990</td>\n",
       "    </tr>\n",
       "  </tbody>\n",
       "</table>\n",
       "</div>"
      ],
      "text/plain": [
       "                                                product   category  order_id  \\\n",
       "1575         сумка-тележка 2-х колесная gimi argo синяя  хозтовары        45   \n",
       "1725  сушилка для белья настенная zalger prima 510-7...  хозтовары        16   \n",
       "1845  тележка багажная delta тбр-20 синий грузоподъе...  хозтовары        16   \n",
       "1844  тележка багажная delta тбр-20 коричневый с ора...  хозтовары        13   \n",
       "1745   сушилка для белья потолочная лиана 2,0 м 1703009  хозтовары        10   \n",
       "\n",
       "      customer_id  quantity  revenue  \n",
       "1575           42        45    48307  \n",
       "1725           15        19     5234  \n",
       "1845           16        16    11725  \n",
       "1844           13        14     9523  \n",
       "1745           10        10     5990  "
      ]
     },
     "metadata": {},
     "output_type": "display_data"
    },
    {
     "name": "stdout",
     "output_type": "stream",
     "text": [
      "\n",
      "\n"
     ]
    },
    {
     "data": {
      "text/plain": [
       "'Топ-5 самых продаваемых товаров: «интерьер»'"
      ]
     },
     "metadata": {},
     "output_type": "display_data"
    },
    {
     "data": {
      "text/html": [
       "<div>\n",
       "<style scoped>\n",
       "    .dataframe tbody tr th:only-of-type {\n",
       "        vertical-align: middle;\n",
       "    }\n",
       "\n",
       "    .dataframe tbody tr th {\n",
       "        vertical-align: top;\n",
       "    }\n",
       "\n",
       "    .dataframe thead th {\n",
       "        text-align: right;\n",
       "    }\n",
       "</style>\n",
       "<table border=\"1\" class=\"dataframe\">\n",
       "  <thead>\n",
       "    <tr style=\"text-align: right;\">\n",
       "      <th></th>\n",
       "      <th>product</th>\n",
       "      <th>category</th>\n",
       "      <th>order_id</th>\n",
       "      <th>customer_id</th>\n",
       "      <th>quantity</th>\n",
       "      <th>revenue</th>\n",
       "    </tr>\n",
       "  </thead>\n",
       "  <tbody>\n",
       "    <tr>\n",
       "      <th>753</th>\n",
       "      <td>муляж баклажан 18 см</td>\n",
       "      <td>интерьер</td>\n",
       "      <td>10</td>\n",
       "      <td>10</td>\n",
       "      <td>23</td>\n",
       "      <td>1357</td>\n",
       "    </tr>\n",
       "    <tr>\n",
       "      <th>804</th>\n",
       "      <td>муляж персики мини полиуретан d-6 см</td>\n",
       "      <td>интерьер</td>\n",
       "      <td>8</td>\n",
       "      <td>9</td>\n",
       "      <td>29</td>\n",
       "      <td>608</td>\n",
       "    </tr>\n",
       "    <tr>\n",
       "      <th>792</th>\n",
       "      <td>муляж морковь 16 см</td>\n",
       "      <td>интерьер</td>\n",
       "      <td>7</td>\n",
       "      <td>7</td>\n",
       "      <td>18</td>\n",
       "      <td>1062</td>\n",
       "    </tr>\n",
       "    <tr>\n",
       "      <th>815</th>\n",
       "      <td>муляж яблоко зеленый 9 см полиуретан</td>\n",
       "      <td>интерьер</td>\n",
       "      <td>7</td>\n",
       "      <td>10</td>\n",
       "      <td>308</td>\n",
       "      <td>17572</td>\n",
       "    </tr>\n",
       "    <tr>\n",
       "      <th>783</th>\n",
       "      <td>муляж красное яблоко мини полиуретан d-6 см</td>\n",
       "      <td>интерьер</td>\n",
       "      <td>7</td>\n",
       "      <td>7</td>\n",
       "      <td>64</td>\n",
       "      <td>1301</td>\n",
       "    </tr>\n",
       "  </tbody>\n",
       "</table>\n",
       "</div>"
      ],
      "text/plain": [
       "                                         product  category  order_id  \\\n",
       "753                         муляж баклажан 18 см  интерьер        10   \n",
       "804         муляж персики мини полиуретан d-6 см  интерьер         8   \n",
       "792                          муляж морковь 16 см  интерьер         7   \n",
       "815         муляж яблоко зеленый 9 см полиуретан  интерьер         7   \n",
       "783  муляж красное яблоко мини полиуретан d-6 см  интерьер         7   \n",
       "\n",
       "     customer_id  quantity  revenue  \n",
       "753           10        23     1357  \n",
       "804            9        29      608  \n",
       "792            7        18     1062  \n",
       "815           10       308    17572  \n",
       "783            7        64     1301  "
      ]
     },
     "metadata": {},
     "output_type": "display_data"
    },
    {
     "name": "stdout",
     "output_type": "stream",
     "text": [
      "\n",
      "\n"
     ]
    },
    {
     "data": {
      "text/plain": [
       "'Топ-5 самых продаваемых товаров: «кухня»'"
      ]
     },
     "metadata": {},
     "output_type": "display_data"
    },
    {
     "data": {
      "text/html": [
       "<div>\n",
       "<style scoped>\n",
       "    .dataframe tbody tr th:only-of-type {\n",
       "        vertical-align: middle;\n",
       "    }\n",
       "\n",
       "    .dataframe tbody tr th {\n",
       "        vertical-align: top;\n",
       "    }\n",
       "\n",
       "    .dataframe thead th {\n",
       "        text-align: right;\n",
       "    }\n",
       "</style>\n",
       "<table border=\"1\" class=\"dataframe\">\n",
       "  <thead>\n",
       "    <tr style=\"text-align: right;\">\n",
       "      <th></th>\n",
       "      <th>product</th>\n",
       "      <th>category</th>\n",
       "      <th>order_id</th>\n",
       "      <th>customer_id</th>\n",
       "      <th>quantity</th>\n",
       "      <th>revenue</th>\n",
       "    </tr>\n",
       "  </thead>\n",
       "  <tbody>\n",
       "    <tr>\n",
       "      <th>669</th>\n",
       "      <td>кувшин пластмассовый с крышкой \"кумган\" 2,0 л ...</td>\n",
       "      <td>кухня</td>\n",
       "      <td>5</td>\n",
       "      <td>5</td>\n",
       "      <td>5</td>\n",
       "      <td>745</td>\n",
       "    </tr>\n",
       "    <tr>\n",
       "      <th>372</th>\n",
       "      <td>измельчитель овощей ручной шк-4 деревянный, 3 ...</td>\n",
       "      <td>кухня</td>\n",
       "      <td>4</td>\n",
       "      <td>4</td>\n",
       "      <td>7</td>\n",
       "      <td>3353</td>\n",
       "    </tr>\n",
       "    <tr>\n",
       "      <th>574</th>\n",
       "      <td>комплект махровых салфеток топ_2, 100% хлопок ...</td>\n",
       "      <td>кухня</td>\n",
       "      <td>3</td>\n",
       "      <td>3</td>\n",
       "      <td>12</td>\n",
       "      <td>1683</td>\n",
       "    </tr>\n",
       "    <tr>\n",
       "      <th>908</th>\n",
       "      <td>нож столовый ripple 80 г 2 шт, attribute, acr042</td>\n",
       "      <td>кухня</td>\n",
       "      <td>3</td>\n",
       "      <td>2</td>\n",
       "      <td>7</td>\n",
       "      <td>1204</td>\n",
       "    </tr>\n",
       "    <tr>\n",
       "      <th>1866</th>\n",
       "      <td>термокружка яромир кремль яр-2406м 400 мл</td>\n",
       "      <td>кухня</td>\n",
       "      <td>3</td>\n",
       "      <td>3</td>\n",
       "      <td>3</td>\n",
       "      <td>914</td>\n",
       "    </tr>\n",
       "  </tbody>\n",
       "</table>\n",
       "</div>"
      ],
      "text/plain": [
       "                                                product category  order_id  \\\n",
       "669   кувшин пластмассовый с крышкой \"кумган\" 2,0 л ...    кухня         5   \n",
       "372   измельчитель овощей ручной шк-4 деревянный, 3 ...    кухня         4   \n",
       "574   комплект махровых салфеток топ_2, 100% хлопок ...    кухня         3   \n",
       "908    нож столовый ripple 80 г 2 шт, attribute, acr042    кухня         3   \n",
       "1866          термокружка яромир кремль яр-2406м 400 мл    кухня         3   \n",
       "\n",
       "      customer_id  quantity  revenue  \n",
       "669             5         5      745  \n",
       "372             4         7     3353  \n",
       "574             3        12     1683  \n",
       "908             2         7     1204  \n",
       "1866            3         3      914  "
      ]
     },
     "metadata": {},
     "output_type": "display_data"
    },
    {
     "name": "stdout",
     "output_type": "stream",
     "text": [
      "\n",
      "\n"
     ]
    },
    {
     "data": {
      "text/plain": [
       "'Топ-5 самых продаваемых товаров: «техника»'"
      ]
     },
     "metadata": {},
     "output_type": "display_data"
    },
    {
     "data": {
      "text/html": [
       "<div>\n",
       "<style scoped>\n",
       "    .dataframe tbody tr th:only-of-type {\n",
       "        vertical-align: middle;\n",
       "    }\n",
       "\n",
       "    .dataframe tbody tr th {\n",
       "        vertical-align: top;\n",
       "    }\n",
       "\n",
       "    .dataframe thead th {\n",
       "        text-align: right;\n",
       "    }\n",
       "</style>\n",
       "<table border=\"1\" class=\"dataframe\">\n",
       "  <thead>\n",
       "    <tr style=\"text-align: right;\">\n",
       "      <th></th>\n",
       "      <th>product</th>\n",
       "      <th>category</th>\n",
       "      <th>order_id</th>\n",
       "      <th>customer_id</th>\n",
       "      <th>quantity</th>\n",
       "      <th>revenue</th>\n",
       "    </tr>\n",
       "  </thead>\n",
       "  <tbody>\n",
       "    <tr>\n",
       "      <th>913</th>\n",
       "      <td>овощеварка алюминиевая scovo мт-045, хозлэнд, ...</td>\n",
       "      <td>техника</td>\n",
       "      <td>3</td>\n",
       "      <td>3</td>\n",
       "      <td>3</td>\n",
       "      <td>1347</td>\n",
       "    </tr>\n",
       "    <tr>\n",
       "      <th>141</th>\n",
       "      <td>весы электронные кухонные soehnle (круглые,20 ...</td>\n",
       "      <td>техника</td>\n",
       "      <td>2</td>\n",
       "      <td>1</td>\n",
       "      <td>2</td>\n",
       "      <td>2548</td>\n",
       "    </tr>\n",
       "    <tr>\n",
       "      <th>1513</th>\n",
       "      <td>соковарка webber ве-06 из нержавеющей стали 6 л</td>\n",
       "      <td>техника</td>\n",
       "      <td>1</td>\n",
       "      <td>1</td>\n",
       "      <td>1</td>\n",
       "      <td>1949</td>\n",
       "    </tr>\n",
       "    <tr>\n",
       "      <th>1515</th>\n",
       "      <td>соковыжималка для цитрусовых pasabahce ots1314...</td>\n",
       "      <td>техника</td>\n",
       "      <td>1</td>\n",
       "      <td>1</td>\n",
       "      <td>1</td>\n",
       "      <td>202</td>\n",
       "    </tr>\n",
       "    <tr>\n",
       "      <th>1514</th>\n",
       "      <td>соковарка алюминиевая scovo 6,0 л мт-041, хозл...</td>\n",
       "      <td>техника</td>\n",
       "      <td>1</td>\n",
       "      <td>1</td>\n",
       "      <td>1</td>\n",
       "      <td>1424</td>\n",
       "    </tr>\n",
       "  </tbody>\n",
       "</table>\n",
       "</div>"
      ],
      "text/plain": [
       "                                                product category  order_id  \\\n",
       "913   овощеварка алюминиевая scovo мт-045, хозлэнд, ...  техника         3   \n",
       "141   весы электронные кухонные soehnle (круглые,20 ...  техника         2   \n",
       "1513    соковарка webber ве-06 из нержавеющей стали 6 л  техника         1   \n",
       "1515  соковыжималка для цитрусовых pasabahce ots1314...  техника         1   \n",
       "1514  соковарка алюминиевая scovo 6,0 л мт-041, хозл...  техника         1   \n",
       "\n",
       "      customer_id  quantity  revenue  \n",
       "913             3         3     1347  \n",
       "141             1         2     2548  \n",
       "1513            1         1     1949  \n",
       "1515            1         1      202  \n",
       "1514            1         1     1424  "
      ]
     },
     "metadata": {},
     "output_type": "display_data"
    },
    {
     "name": "stdout",
     "output_type": "stream",
     "text": [
      "\n",
      "\n"
     ]
    },
    {
     "data": {
      "text/plain": [
       "'Топ-5 самых продаваемых товаров: «уход за собой»'"
      ]
     },
     "metadata": {},
     "output_type": "display_data"
    },
    {
     "data": {
      "text/html": [
       "<div>\n",
       "<style scoped>\n",
       "    .dataframe tbody tr th:only-of-type {\n",
       "        vertical-align: middle;\n",
       "    }\n",
       "\n",
       "    .dataframe tbody tr th {\n",
       "        vertical-align: top;\n",
       "    }\n",
       "\n",
       "    .dataframe thead th {\n",
       "        text-align: right;\n",
       "    }\n",
       "</style>\n",
       "<table border=\"1\" class=\"dataframe\">\n",
       "  <thead>\n",
       "    <tr style=\"text-align: right;\">\n",
       "      <th></th>\n",
       "      <th>product</th>\n",
       "      <th>category</th>\n",
       "      <th>order_id</th>\n",
       "      <th>customer_id</th>\n",
       "      <th>quantity</th>\n",
       "      <th>revenue</th>\n",
       "    </tr>\n",
       "  </thead>\n",
       "  <tbody>\n",
       "    <tr>\n",
       "      <th>953</th>\n",
       "      <td>паста зубная для профилактики заболеваний десе...</td>\n",
       "      <td>уход за собой</td>\n",
       "      <td>2</td>\n",
       "      <td>2</td>\n",
       "      <td>6</td>\n",
       "      <td>5394</td>\n",
       "    </tr>\n",
       "    <tr>\n",
       "      <th>325</th>\n",
       "      <td>дозатор для мыла hausmann белый hm-b0194r-2</td>\n",
       "      <td>уход за собой</td>\n",
       "      <td>2</td>\n",
       "      <td>2</td>\n",
       "      <td>2</td>\n",
       "      <td>958</td>\n",
       "    </tr>\n",
       "    <tr>\n",
       "      <th>1968</th>\n",
       "      <td>увлажняющая маска brown rice moisture 330 мл к...</td>\n",
       "      <td>уход за собой</td>\n",
       "      <td>1</td>\n",
       "      <td>1</td>\n",
       "      <td>1</td>\n",
       "      <td>442</td>\n",
       "    </tr>\n",
       "    <tr>\n",
       "      <th>2028</th>\n",
       "      <td>халат вафельный виктория_3-42 , 100% хлопок 26...</td>\n",
       "      <td>уход за собой</td>\n",
       "      <td>1</td>\n",
       "      <td>1</td>\n",
       "      <td>1</td>\n",
       "      <td>1949</td>\n",
       "    </tr>\n",
       "    <tr>\n",
       "      <th>356</th>\n",
       "      <td>жидкое мыло vestar хозяйственное 750 мл россия...</td>\n",
       "      <td>уход за собой</td>\n",
       "      <td>1</td>\n",
       "      <td>1</td>\n",
       "      <td>1</td>\n",
       "      <td>59</td>\n",
       "    </tr>\n",
       "  </tbody>\n",
       "</table>\n",
       "</div>"
      ],
      "text/plain": [
       "                                                product       category  \\\n",
       "953   паста зубная для профилактики заболеваний десе...  уход за собой   \n",
       "325         дозатор для мыла hausmann белый hm-b0194r-2  уход за собой   \n",
       "1968  увлажняющая маска brown rice moisture 330 мл к...  уход за собой   \n",
       "2028  халат вафельный виктория_3-42 , 100% хлопок 26...  уход за собой   \n",
       "356   жидкое мыло vestar хозяйственное 750 мл россия...  уход за собой   \n",
       "\n",
       "      order_id  customer_id  quantity  revenue  \n",
       "953          2            2         6     5394  \n",
       "325          2            2         2      958  \n",
       "1968         1            1         1      442  \n",
       "2028         1            1         1     1949  \n",
       "356          1            1         1       59  "
      ]
     },
     "metadata": {},
     "output_type": "display_data"
    },
    {
     "name": "stdout",
     "output_type": "stream",
     "text": [
      "\n",
      "\n"
     ]
    },
    {
     "data": {
      "text/plain": [
       "'Топ-5 самых продаваемых товаров: «быт.химия»'"
      ]
     },
     "metadata": {},
     "output_type": "display_data"
    },
    {
     "data": {
      "text/html": [
       "<div>\n",
       "<style scoped>\n",
       "    .dataframe tbody tr th:only-of-type {\n",
       "        vertical-align: middle;\n",
       "    }\n",
       "\n",
       "    .dataframe tbody tr th {\n",
       "        vertical-align: top;\n",
       "    }\n",
       "\n",
       "    .dataframe thead th {\n",
       "        text-align: right;\n",
       "    }\n",
       "</style>\n",
       "<table border=\"1\" class=\"dataframe\">\n",
       "  <thead>\n",
       "    <tr style=\"text-align: right;\">\n",
       "      <th></th>\n",
       "      <th>product</th>\n",
       "      <th>category</th>\n",
       "      <th>order_id</th>\n",
       "      <th>customer_id</th>\n",
       "      <th>quantity</th>\n",
       "      <th>revenue</th>\n",
       "    </tr>\n",
       "  </thead>\n",
       "  <tbody>\n",
       "    <tr>\n",
       "      <th>1523</th>\n",
       "      <td>средство для мытья пола ecomatic green cleaner...</td>\n",
       "      <td>быт.химия</td>\n",
       "      <td>2</td>\n",
       "      <td>2</td>\n",
       "      <td>2</td>\n",
       "      <td>456</td>\n",
       "    </tr>\n",
       "    <tr>\n",
       "      <th>99</th>\n",
       "      <td>бензин для зажигалок, 1205214</td>\n",
       "      <td>быт.химия</td>\n",
       "      <td>2</td>\n",
       "      <td>2</td>\n",
       "      <td>3</td>\n",
       "      <td>201</td>\n",
       "    </tr>\n",
       "    <tr>\n",
       "      <th>1526</th>\n",
       "      <td>средство против засоров в системах водопровода...</td>\n",
       "      <td>быт.химия</td>\n",
       "      <td>1</td>\n",
       "      <td>2</td>\n",
       "      <td>2</td>\n",
       "      <td>246</td>\n",
       "    </tr>\n",
       "    <tr>\n",
       "      <th>1525</th>\n",
       "      <td>средство для удаления известкового налета с по...</td>\n",
       "      <td>быт.химия</td>\n",
       "      <td>1</td>\n",
       "      <td>1</td>\n",
       "      <td>1</td>\n",
       "      <td>97</td>\n",
       "    </tr>\n",
       "    <tr>\n",
       "      <th>2165</th>\n",
       "      <td>чистящий крем для трудновыводимых пятен mama l...</td>\n",
       "      <td>быт.химия</td>\n",
       "      <td>1</td>\n",
       "      <td>1</td>\n",
       "      <td>1</td>\n",
       "      <td>187</td>\n",
       "    </tr>\n",
       "  </tbody>\n",
       "</table>\n",
       "</div>"
      ],
      "text/plain": [
       "                                                product   category  order_id  \\\n",
       "1523  средство для мытья пола ecomatic green cleaner...  быт.химия         2   \n",
       "99                        бензин для зажигалок, 1205214  быт.химия         2   \n",
       "1526  средство против засоров в системах водопровода...  быт.химия         1   \n",
       "1525  средство для удаления известкового налета с по...  быт.химия         1   \n",
       "2165  чистящий крем для трудновыводимых пятен mama l...  быт.химия         1   \n",
       "\n",
       "      customer_id  quantity  revenue  \n",
       "1523            2         2      456  \n",
       "99              2         3      201  \n",
       "1526            2         2      246  \n",
       "1525            1         1       97  \n",
       "2165            1         1      187  "
      ]
     },
     "metadata": {},
     "output_type": "display_data"
    },
    {
     "name": "stdout",
     "output_type": "stream",
     "text": [
      "\n",
      "\n"
     ]
    },
    {
     "data": {
      "text/plain": [
       "'Топ-5 самых продаваемых товаров: «инструменты»'"
      ]
     },
     "metadata": {},
     "output_type": "display_data"
    },
    {
     "data": {
      "text/html": [
       "<div>\n",
       "<style scoped>\n",
       "    .dataframe tbody tr th:only-of-type {\n",
       "        vertical-align: middle;\n",
       "    }\n",
       "\n",
       "    .dataframe tbody tr th {\n",
       "        vertical-align: top;\n",
       "    }\n",
       "\n",
       "    .dataframe thead th {\n",
       "        text-align: right;\n",
       "    }\n",
       "</style>\n",
       "<table border=\"1\" class=\"dataframe\">\n",
       "  <thead>\n",
       "    <tr style=\"text-align: right;\">\n",
       "      <th></th>\n",
       "      <th>product</th>\n",
       "      <th>category</th>\n",
       "      <th>order_id</th>\n",
       "      <th>customer_id</th>\n",
       "      <th>quantity</th>\n",
       "      <th>revenue</th>\n",
       "    </tr>\n",
       "  </thead>\n",
       "  <tbody>\n",
       "    <tr>\n",
       "      <th>2035</th>\n",
       "      <td>холодная сварка mastix 55г для труб и батарей,...</td>\n",
       "      <td>инструменты</td>\n",
       "      <td>2</td>\n",
       "      <td>2</td>\n",
       "      <td>3</td>\n",
       "      <td>132</td>\n",
       "    </tr>\n",
       "    <tr>\n",
       "      <th>1867</th>\n",
       "      <td>термометр на окно уличный на липучках т-5 h-20...</td>\n",
       "      <td>инструменты</td>\n",
       "      <td>2</td>\n",
       "      <td>2</td>\n",
       "      <td>3</td>\n",
       "      <td>132</td>\n",
       "    </tr>\n",
       "    <tr>\n",
       "      <th>1452</th>\n",
       "      <td>сверло по металлу d=12,0 мм р6м5 с цилиндричес...</td>\n",
       "      <td>инструменты</td>\n",
       "      <td>1</td>\n",
       "      <td>1</td>\n",
       "      <td>1</td>\n",
       "      <td>97</td>\n",
       "    </tr>\n",
       "    <tr>\n",
       "      <th>1453</th>\n",
       "      <td>сверло-фреза, 6 мм, нитрид титана *888* 686206...</td>\n",
       "      <td>инструменты</td>\n",
       "      <td>1</td>\n",
       "      <td>1</td>\n",
       "      <td>1</td>\n",
       "      <td>67</td>\n",
       "    </tr>\n",
       "    <tr>\n",
       "      <th>1454</th>\n",
       "      <td>сверло-фреза, 8 мм, нитрид титана *888* 686208...</td>\n",
       "      <td>инструменты</td>\n",
       "      <td>1</td>\n",
       "      <td>1</td>\n",
       "      <td>1</td>\n",
       "      <td>82</td>\n",
       "    </tr>\n",
       "  </tbody>\n",
       "</table>\n",
       "</div>"
      ],
      "text/plain": [
       "                                                product     category  \\\n",
       "2035  холодная сварка mastix 55г для труб и батарей,...  инструменты   \n",
       "1867  термометр на окно уличный на липучках т-5 h-20...  инструменты   \n",
       "1452  сверло по металлу d=12,0 мм р6м5 с цилиндричес...  инструменты   \n",
       "1453  сверло-фреза, 6 мм, нитрид титана *888* 686206...  инструменты   \n",
       "1454  сверло-фреза, 8 мм, нитрид титана *888* 686208...  инструменты   \n",
       "\n",
       "      order_id  customer_id  quantity  revenue  \n",
       "2035         2            2         3      132  \n",
       "1867         2            2         3      132  \n",
       "1452         1            1         1       97  \n",
       "1453         1            1         1       67  \n",
       "1454         1            1         1       82  "
      ]
     },
     "metadata": {},
     "output_type": "display_data"
    },
    {
     "name": "stdout",
     "output_type": "stream",
     "text": [
      "\n"
     ]
    }
   ],
   "source": [
    "# группировка по названиям товаров\n",
    "groupby_products_count = ecom_new.groupby('product').agg({'category':'first', \n",
    "                                                    'order_id':'nunique', \n",
    "                                                    'customer_id':'nunique',\n",
    "                                                    'quantity':'sum',\n",
    "                                                    'revenue':'sum'}).reset_index().sort_values(by = 'order_id', \n",
    "                                                                                                ascending = False)\n",
    "# топ-5 самых продаваемых товаров в каждой категории\n",
    "for category in groupby_products_count['category'].unique():\n",
    "    print()\n",
    "    display('Топ-5 самых продаваемых товаров: «{}»'.format(category))\n",
    "    display(groupby_products_count[groupby_products_count['category'] == category].head(5))\n",
    "    print()"
   ]
  },
  {
   "cell_type": "markdown",
   "metadata": {},
   "source": [
    "Самые продаваемые товары:\n",
    "* Растения - пеларгонии;\n",
    "* Хозтовары - сумка-тележка, багажные тележки и сушилки для белья;\n",
    "* Интерьер - муляжи;\n",
    "* Кухня - кувшин, измельчитель овощей, столовый нож и ложка, термокружка;\n",
    "* Техника - овощеварка, весы, соковарки и соковыжималка;\n",
    "* Уход за собой - зубная паста, дозатор для мыла, увлажняющая маска, халат, жидкое мыло;\n",
    "* Быт.химия - средства для мытья полов, для удаления налета и против засоров, бензин для зажигалок и чистящий крем;\n",
    "* Инструменты - холодная сварка, уличный термометр и сверла.\n",
    "\n",
    "#### Топ-5 самых прибыльных товаров в каждой категории"
   ]
  },
  {
   "cell_type": "code",
   "execution_count": 37,
   "metadata": {
    "scrolled": false
   },
   "outputs": [
    {
     "name": "stdout",
     "output_type": "stream",
     "text": [
      "\n"
     ]
    },
    {
     "data": {
      "text/plain": [
       "'Топ-5 самых прибыльных товаров: «интерьер»'"
      ]
     },
     "metadata": {},
     "output_type": "display_data"
    },
    {
     "data": {
      "text/html": [
       "<div>\n",
       "<style scoped>\n",
       "    .dataframe tbody tr th:only-of-type {\n",
       "        vertical-align: middle;\n",
       "    }\n",
       "\n",
       "    .dataframe tbody tr th {\n",
       "        vertical-align: top;\n",
       "    }\n",
       "\n",
       "    .dataframe thead th {\n",
       "        text-align: right;\n",
       "    }\n",
       "</style>\n",
       "<table border=\"1\" class=\"dataframe\">\n",
       "  <thead>\n",
       "    <tr style=\"text-align: right;\">\n",
       "      <th></th>\n",
       "      <th>product</th>\n",
       "      <th>category</th>\n",
       "      <th>order_id</th>\n",
       "      <th>customer_id</th>\n",
       "      <th>quantity</th>\n",
       "      <th>revenue</th>\n",
       "    </tr>\n",
       "  </thead>\n",
       "  <tbody>\n",
       "    <tr>\n",
       "      <th>1164</th>\n",
       "      <td>простынь вафельная 200х180 см wellness rw180-0...</td>\n",
       "      <td>интерьер</td>\n",
       "      <td>2</td>\n",
       "      <td>1</td>\n",
       "      <td>30</td>\n",
       "      <td>53232</td>\n",
       "    </tr>\n",
       "    <tr>\n",
       "      <th>182</th>\n",
       "      <td>вешалки мягкие для деликатных вещей 3 шт шоколад</td>\n",
       "      <td>интерьер</td>\n",
       "      <td>2</td>\n",
       "      <td>2</td>\n",
       "      <td>335</td>\n",
       "      <td>49596</td>\n",
       "    </tr>\n",
       "    <tr>\n",
       "      <th>813</th>\n",
       "      <td>муляж яблоко 9 см красное</td>\n",
       "      <td>интерьер</td>\n",
       "      <td>6</td>\n",
       "      <td>6</td>\n",
       "      <td>618</td>\n",
       "      <td>32702</td>\n",
       "    </tr>\n",
       "    <tr>\n",
       "      <th>815</th>\n",
       "      <td>муляж яблоко зеленый 9 см полиуретан</td>\n",
       "      <td>интерьер</td>\n",
       "      <td>7</td>\n",
       "      <td>10</td>\n",
       "      <td>308</td>\n",
       "      <td>17572</td>\n",
       "    </tr>\n",
       "    <tr>\n",
       "      <th>517</th>\n",
       "      <td>коврик придверный attribute nature кокосовый 6...</td>\n",
       "      <td>интерьер</td>\n",
       "      <td>4</td>\n",
       "      <td>4</td>\n",
       "      <td>54</td>\n",
       "      <td>16888</td>\n",
       "    </tr>\n",
       "  </tbody>\n",
       "</table>\n",
       "</div>"
      ],
      "text/plain": [
       "                                                product  category  order_id  \\\n",
       "1164  простынь вафельная 200х180 см wellness rw180-0...  интерьер         2   \n",
       "182    вешалки мягкие для деликатных вещей 3 шт шоколад  интерьер         2   \n",
       "813                           муляж яблоко 9 см красное  интерьер         6   \n",
       "815                муляж яблоко зеленый 9 см полиуретан  интерьер         7   \n",
       "517   коврик придверный attribute nature кокосовый 6...  интерьер         4   \n",
       "\n",
       "      customer_id  quantity  revenue  \n",
       "1164            1        30    53232  \n",
       "182             2       335    49596  \n",
       "813             6       618    32702  \n",
       "815            10       308    17572  \n",
       "517             4        54    16888  "
      ]
     },
     "metadata": {},
     "output_type": "display_data"
    },
    {
     "name": "stdout",
     "output_type": "stream",
     "text": [
      "\n",
      "\n"
     ]
    },
    {
     "data": {
      "text/plain": [
       "'Топ-5 самых прибыльных товаров: «хозтовары»'"
      ]
     },
     "metadata": {},
     "output_type": "display_data"
    },
    {
     "data": {
      "text/html": [
       "<div>\n",
       "<style scoped>\n",
       "    .dataframe tbody tr th:only-of-type {\n",
       "        vertical-align: middle;\n",
       "    }\n",
       "\n",
       "    .dataframe tbody tr th {\n",
       "        vertical-align: top;\n",
       "    }\n",
       "\n",
       "    .dataframe thead th {\n",
       "        text-align: right;\n",
       "    }\n",
       "</style>\n",
       "<table border=\"1\" class=\"dataframe\">\n",
       "  <thead>\n",
       "    <tr style=\"text-align: right;\">\n",
       "      <th></th>\n",
       "      <th>product</th>\n",
       "      <th>category</th>\n",
       "      <th>order_id</th>\n",
       "      <th>customer_id</th>\n",
       "      <th>quantity</th>\n",
       "      <th>revenue</th>\n",
       "    </tr>\n",
       "  </thead>\n",
       "  <tbody>\n",
       "    <tr>\n",
       "      <th>1575</th>\n",
       "      <td>сумка-тележка 2-х колесная gimi argo синяя</td>\n",
       "      <td>хозтовары</td>\n",
       "      <td>45</td>\n",
       "      <td>42</td>\n",
       "      <td>45</td>\n",
       "      <td>48307</td>\n",
       "    </tr>\n",
       "    <tr>\n",
       "      <th>1849</th>\n",
       "      <td>тележка багажная delta тбр-22 синий грузоподъе...</td>\n",
       "      <td>хозтовары</td>\n",
       "      <td>3</td>\n",
       "      <td>3</td>\n",
       "      <td>59</td>\n",
       "      <td>33992</td>\n",
       "    </tr>\n",
       "    <tr>\n",
       "      <th>1973</th>\n",
       "      <td>урна уличная \"гео\", hobbyka/хоббика, 59*37,5см...</td>\n",
       "      <td>хозтовары</td>\n",
       "      <td>1</td>\n",
       "      <td>1</td>\n",
       "      <td>5</td>\n",
       "      <td>24370</td>\n",
       "    </tr>\n",
       "    <tr>\n",
       "      <th>1601</th>\n",
       "      <td>сумка-тележка хозяйственная andersen scala sho...</td>\n",
       "      <td>хозтовары</td>\n",
       "      <td>4</td>\n",
       "      <td>4</td>\n",
       "      <td>4</td>\n",
       "      <td>22796</td>\n",
       "    </tr>\n",
       "    <tr>\n",
       "      <th>124</th>\n",
       "      <td>веник сорго с деревянной ручкой с 4-мя швами, ...</td>\n",
       "      <td>хозтовары</td>\n",
       "      <td>2</td>\n",
       "      <td>2</td>\n",
       "      <td>37</td>\n",
       "      <td>20010</td>\n",
       "    </tr>\n",
       "  </tbody>\n",
       "</table>\n",
       "</div>"
      ],
      "text/plain": [
       "                                                product   category  order_id  \\\n",
       "1575         сумка-тележка 2-х колесная gimi argo синяя  хозтовары        45   \n",
       "1849  тележка багажная delta тбр-22 синий грузоподъе...  хозтовары         3   \n",
       "1973  урна уличная \"гео\", hobbyka/хоббика, 59*37,5см...  хозтовары         1   \n",
       "1601  сумка-тележка хозяйственная andersen scala sho...  хозтовары         4   \n",
       "124   веник сорго с деревянной ручкой с 4-мя швами, ...  хозтовары         2   \n",
       "\n",
       "      customer_id  quantity  revenue  \n",
       "1575           42        45    48307  \n",
       "1849            3        59    33992  \n",
       "1973            1         5    24370  \n",
       "1601            4         4    22796  \n",
       "124             2        37    20010  "
      ]
     },
     "metadata": {},
     "output_type": "display_data"
    },
    {
     "name": "stdout",
     "output_type": "stream",
     "text": [
      "\n",
      "\n"
     ]
    },
    {
     "data": {
      "text/plain": [
       "'Топ-5 самых прибыльных товаров: «кухня»'"
      ]
     },
     "metadata": {},
     "output_type": "display_data"
    },
    {
     "data": {
      "text/html": [
       "<div>\n",
       "<style scoped>\n",
       "    .dataframe tbody tr th:only-of-type {\n",
       "        vertical-align: middle;\n",
       "    }\n",
       "\n",
       "    .dataframe tbody tr th {\n",
       "        vertical-align: top;\n",
       "    }\n",
       "\n",
       "    .dataframe thead th {\n",
       "        text-align: right;\n",
       "    }\n",
       "</style>\n",
       "<table border=\"1\" class=\"dataframe\">\n",
       "  <thead>\n",
       "    <tr style=\"text-align: right;\">\n",
       "      <th></th>\n",
       "      <th>product</th>\n",
       "      <th>category</th>\n",
       "      <th>order_id</th>\n",
       "      <th>customer_id</th>\n",
       "      <th>quantity</th>\n",
       "      <th>revenue</th>\n",
       "    </tr>\n",
       "  </thead>\n",
       "  <tbody>\n",
       "    <tr>\n",
       "      <th>852</th>\n",
       "      <td>набор ножей attribute chef 5 предметов akf522</td>\n",
       "      <td>кухня</td>\n",
       "      <td>1</td>\n",
       "      <td>1</td>\n",
       "      <td>64</td>\n",
       "      <td>29248</td>\n",
       "    </tr>\n",
       "    <tr>\n",
       "      <th>1444</th>\n",
       "      <td>салфетка protec textil polyline 30х43 см амети...</td>\n",
       "      <td>кухня</td>\n",
       "      <td>3</td>\n",
       "      <td>3</td>\n",
       "      <td>76</td>\n",
       "      <td>14804</td>\n",
       "    </tr>\n",
       "    <tr>\n",
       "      <th>743</th>\n",
       "      <td>модульная стеклянная банка 1,1л, 298264, braba...</td>\n",
       "      <td>кухня</td>\n",
       "      <td>1</td>\n",
       "      <td>1</td>\n",
       "      <td>7</td>\n",
       "      <td>5775</td>\n",
       "    </tr>\n",
       "    <tr>\n",
       "      <th>1833</th>\n",
       "      <td>тарелка суповая luminarc океан эклипс 20,5 см ...</td>\n",
       "      <td>кухня</td>\n",
       "      <td>2</td>\n",
       "      <td>2</td>\n",
       "      <td>60</td>\n",
       "      <td>4680</td>\n",
       "    </tr>\n",
       "    <tr>\n",
       "      <th>658</th>\n",
       "      <td>кружка с трубочкой attribute мяч 500 мл jar501</td>\n",
       "      <td>кухня</td>\n",
       "      <td>1</td>\n",
       "      <td>1</td>\n",
       "      <td>60</td>\n",
       "      <td>4560</td>\n",
       "    </tr>\n",
       "  </tbody>\n",
       "</table>\n",
       "</div>"
      ],
      "text/plain": [
       "                                                product category  order_id  \\\n",
       "852       набор ножей attribute chef 5 предметов akf522    кухня         1   \n",
       "1444  салфетка protec textil polyline 30х43 см амети...    кухня         3   \n",
       "743   модульная стеклянная банка 1,1л, 298264, braba...    кухня         1   \n",
       "1833  тарелка суповая luminarc океан эклипс 20,5 см ...    кухня         2   \n",
       "658      кружка с трубочкой attribute мяч 500 мл jar501    кухня         1   \n",
       "\n",
       "      customer_id  quantity  revenue  \n",
       "852             1        64    29248  \n",
       "1444            3        76    14804  \n",
       "743             1         7     5775  \n",
       "1833            2        60     4680  \n",
       "658             1        60     4560  "
      ]
     },
     "metadata": {},
     "output_type": "display_data"
    },
    {
     "name": "stdout",
     "output_type": "stream",
     "text": [
      "\n",
      "\n"
     ]
    },
    {
     "data": {
      "text/plain": [
       "'Топ-5 самых прибыльных товаров: «растения»'"
      ]
     },
     "metadata": {},
     "output_type": "display_data"
    },
    {
     "data": {
      "text/html": [
       "<div>\n",
       "<style scoped>\n",
       "    .dataframe tbody tr th:only-of-type {\n",
       "        vertical-align: middle;\n",
       "    }\n",
       "\n",
       "    .dataframe tbody tr th {\n",
       "        vertical-align: top;\n",
       "    }\n",
       "\n",
       "    .dataframe thead th {\n",
       "        text-align: right;\n",
       "    }\n",
       "</style>\n",
       "<table border=\"1\" class=\"dataframe\">\n",
       "  <thead>\n",
       "    <tr style=\"text-align: right;\">\n",
       "      <th></th>\n",
       "      <th>product</th>\n",
       "      <th>category</th>\n",
       "      <th>order_id</th>\n",
       "      <th>customer_id</th>\n",
       "      <th>quantity</th>\n",
       "      <th>revenue</th>\n",
       "    </tr>\n",
       "  </thead>\n",
       "  <tbody>\n",
       "    <tr>\n",
       "      <th>1521</th>\n",
       "      <td>спатифиллум шопен d-12 см</td>\n",
       "      <td>растения</td>\n",
       "      <td>2</td>\n",
       "      <td>2</td>\n",
       "      <td>46</td>\n",
       "      <td>11512</td>\n",
       "    </tr>\n",
       "    <tr>\n",
       "      <th>1015</th>\n",
       "      <td>пеларгония розебудная red pandora укорененный ...</td>\n",
       "      <td>растения</td>\n",
       "      <td>63</td>\n",
       "      <td>62</td>\n",
       "      <td>81</td>\n",
       "      <td>10923</td>\n",
       "    </tr>\n",
       "    <tr>\n",
       "      <th>987</th>\n",
       "      <td>пеларгония зональная диам. 12 см сиреневый пол...</td>\n",
       "      <td>растения</td>\n",
       "      <td>52</td>\n",
       "      <td>47</td>\n",
       "      <td>63</td>\n",
       "      <td>10780</td>\n",
       "    </tr>\n",
       "    <tr>\n",
       "      <th>969</th>\n",
       "      <td>пеларгония зональная диам. 12 см красная махровая</td>\n",
       "      <td>растения</td>\n",
       "      <td>21</td>\n",
       "      <td>21</td>\n",
       "      <td>63</td>\n",
       "      <td>10514</td>\n",
       "    </tr>\n",
       "    <tr>\n",
       "      <th>2257</th>\n",
       "      <td>эвкалипт гунни d-17 см h-60 см</td>\n",
       "      <td>растения</td>\n",
       "      <td>6</td>\n",
       "      <td>6</td>\n",
       "      <td>6</td>\n",
       "      <td>9866</td>\n",
       "    </tr>\n",
       "  </tbody>\n",
       "</table>\n",
       "</div>"
      ],
      "text/plain": [
       "                                                product  category  order_id  \\\n",
       "1521                          спатифиллум шопен d-12 см  растения         2   \n",
       "1015  пеларгония розебудная red pandora укорененный ...  растения        63   \n",
       "987   пеларгония зональная диам. 12 см сиреневый пол...  растения        52   \n",
       "969   пеларгония зональная диам. 12 см красная махровая  растения        21   \n",
       "2257                     эвкалипт гунни d-17 см h-60 см  растения         6   \n",
       "\n",
       "      customer_id  quantity  revenue  \n",
       "1521            2        46    11512  \n",
       "1015           62        81    10923  \n",
       "987            47        63    10780  \n",
       "969            21        63    10514  \n",
       "2257            6         6     9866  "
      ]
     },
     "metadata": {},
     "output_type": "display_data"
    },
    {
     "name": "stdout",
     "output_type": "stream",
     "text": [
      "\n",
      "\n"
     ]
    },
    {
     "data": {
      "text/plain": [
       "'Топ-5 самых прибыльных товаров: «инструменты»'"
      ]
     },
     "metadata": {},
     "output_type": "display_data"
    },
    {
     "data": {
      "text/html": [
       "<div>\n",
       "<style scoped>\n",
       "    .dataframe tbody tr th:only-of-type {\n",
       "        vertical-align: middle;\n",
       "    }\n",
       "\n",
       "    .dataframe tbody tr th {\n",
       "        vertical-align: top;\n",
       "    }\n",
       "\n",
       "    .dataframe thead th {\n",
       "        text-align: right;\n",
       "    }\n",
       "</style>\n",
       "<table border=\"1\" class=\"dataframe\">\n",
       "  <thead>\n",
       "    <tr style=\"text-align: right;\">\n",
       "      <th></th>\n",
       "      <th>product</th>\n",
       "      <th>category</th>\n",
       "      <th>order_id</th>\n",
       "      <th>customer_id</th>\n",
       "      <th>quantity</th>\n",
       "      <th>revenue</th>\n",
       "    </tr>\n",
       "  </thead>\n",
       "  <tbody>\n",
       "    <tr>\n",
       "      <th>847</th>\n",
       "      <td>набор инструментов в алюминиевом кейсе на коле...</td>\n",
       "      <td>инструменты</td>\n",
       "      <td>1</td>\n",
       "      <td>1</td>\n",
       "      <td>1</td>\n",
       "      <td>5399</td>\n",
       "    </tr>\n",
       "    <tr>\n",
       "      <th>138</th>\n",
       "      <td>весы напольные edition feet механические</td>\n",
       "      <td>инструменты</td>\n",
       "      <td>1</td>\n",
       "      <td>1</td>\n",
       "      <td>1</td>\n",
       "      <td>1424</td>\n",
       "    </tr>\n",
       "    <tr>\n",
       "      <th>856</th>\n",
       "      <td>набор прецизионных напильников с двухкомпонент...</td>\n",
       "      <td>инструменты</td>\n",
       "      <td>1</td>\n",
       "      <td>1</td>\n",
       "      <td>1</td>\n",
       "      <td>779</td>\n",
       "    </tr>\n",
       "    <tr>\n",
       "      <th>2188</th>\n",
       "      <td>штангенциркуль 150 мм пластмассовый, точность ...</td>\n",
       "      <td>инструменты</td>\n",
       "      <td>1</td>\n",
       "      <td>1</td>\n",
       "      <td>15</td>\n",
       "      <td>480</td>\n",
       "    </tr>\n",
       "    <tr>\n",
       "      <th>374</th>\n",
       "      <td>измерительный угольник, длина 15 см, truper, e...</td>\n",
       "      <td>инструменты</td>\n",
       "      <td>1</td>\n",
       "      <td>1</td>\n",
       "      <td>1</td>\n",
       "      <td>449</td>\n",
       "    </tr>\n",
       "  </tbody>\n",
       "</table>\n",
       "</div>"
      ],
      "text/plain": [
       "                                                product     category  \\\n",
       "847   набор инструментов в алюминиевом кейсе на коле...  инструменты   \n",
       "138            весы напольные edition feet механические  инструменты   \n",
       "856   набор прецизионных напильников с двухкомпонент...  инструменты   \n",
       "2188  штангенциркуль 150 мм пластмассовый, точность ...  инструменты   \n",
       "374   измерительный угольник, длина 15 см, truper, e...  инструменты   \n",
       "\n",
       "      order_id  customer_id  quantity  revenue  \n",
       "847          1            1         1     5399  \n",
       "138          1            1         1     1424  \n",
       "856          1            1         1      779  \n",
       "2188         1            1        15      480  \n",
       "374          1            1         1      449  "
      ]
     },
     "metadata": {},
     "output_type": "display_data"
    },
    {
     "name": "stdout",
     "output_type": "stream",
     "text": [
      "\n",
      "\n"
     ]
    },
    {
     "data": {
      "text/plain": [
       "'Топ-5 самых прибыльных товаров: «уход за собой»'"
      ]
     },
     "metadata": {},
     "output_type": "display_data"
    },
    {
     "data": {
      "text/html": [
       "<div>\n",
       "<style scoped>\n",
       "    .dataframe tbody tr th:only-of-type {\n",
       "        vertical-align: middle;\n",
       "    }\n",
       "\n",
       "    .dataframe tbody tr th {\n",
       "        vertical-align: top;\n",
       "    }\n",
       "\n",
       "    .dataframe thead th {\n",
       "        text-align: right;\n",
       "    }\n",
       "</style>\n",
       "<table border=\"1\" class=\"dataframe\">\n",
       "  <thead>\n",
       "    <tr style=\"text-align: right;\">\n",
       "      <th></th>\n",
       "      <th>product</th>\n",
       "      <th>category</th>\n",
       "      <th>order_id</th>\n",
       "      <th>customer_id</th>\n",
       "      <th>quantity</th>\n",
       "      <th>revenue</th>\n",
       "    </tr>\n",
       "  </thead>\n",
       "  <tbody>\n",
       "    <tr>\n",
       "      <th>953</th>\n",
       "      <td>паста зубная для профилактики заболеваний десе...</td>\n",
       "      <td>уход за собой</td>\n",
       "      <td>2</td>\n",
       "      <td>2</td>\n",
       "      <td>6</td>\n",
       "      <td>5394</td>\n",
       "    </tr>\n",
       "    <tr>\n",
       "      <th>2028</th>\n",
       "      <td>халат вафельный виктория_3-42 , 100% хлопок 26...</td>\n",
       "      <td>уход за собой</td>\n",
       "      <td>1</td>\n",
       "      <td>1</td>\n",
       "      <td>1</td>\n",
       "      <td>1949</td>\n",
       "    </tr>\n",
       "    <tr>\n",
       "      <th>726</th>\n",
       "      <td>махровый халат женский размер 44-46 wellness а...</td>\n",
       "      <td>уход за собой</td>\n",
       "      <td>1</td>\n",
       "      <td>1</td>\n",
       "      <td>1</td>\n",
       "      <td>1949</td>\n",
       "    </tr>\n",
       "    <tr>\n",
       "      <th>1088</th>\n",
       "      <td>подарочный набор на 8 марта нарцисс 5 луковиц ...</td>\n",
       "      <td>уход за собой</td>\n",
       "      <td>1</td>\n",
       "      <td>1</td>\n",
       "      <td>4</td>\n",
       "      <td>1376</td>\n",
       "    </tr>\n",
       "    <tr>\n",
       "      <th>325</th>\n",
       "      <td>дозатор для мыла hausmann белый hm-b0194r-2</td>\n",
       "      <td>уход за собой</td>\n",
       "      <td>2</td>\n",
       "      <td>2</td>\n",
       "      <td>2</td>\n",
       "      <td>958</td>\n",
       "    </tr>\n",
       "  </tbody>\n",
       "</table>\n",
       "</div>"
      ],
      "text/plain": [
       "                                                product       category  \\\n",
       "953   паста зубная для профилактики заболеваний десе...  уход за собой   \n",
       "2028  халат вафельный виктория_3-42 , 100% хлопок 26...  уход за собой   \n",
       "726   махровый халат женский размер 44-46 wellness а...  уход за собой   \n",
       "1088  подарочный набор на 8 марта нарцисс 5 луковиц ...  уход за собой   \n",
       "325         дозатор для мыла hausmann белый hm-b0194r-2  уход за собой   \n",
       "\n",
       "      order_id  customer_id  quantity  revenue  \n",
       "953          2            2         6     5394  \n",
       "2028         1            1         1     1949  \n",
       "726          1            1         1     1949  \n",
       "1088         1            1         4     1376  \n",
       "325          2            2         2      958  "
      ]
     },
     "metadata": {},
     "output_type": "display_data"
    },
    {
     "name": "stdout",
     "output_type": "stream",
     "text": [
      "\n",
      "\n"
     ]
    },
    {
     "data": {
      "text/plain": [
       "'Топ-5 самых прибыльных товаров: «техника»'"
      ]
     },
     "metadata": {},
     "output_type": "display_data"
    },
    {
     "data": {
      "text/html": [
       "<div>\n",
       "<style scoped>\n",
       "    .dataframe tbody tr th:only-of-type {\n",
       "        vertical-align: middle;\n",
       "    }\n",
       "\n",
       "    .dataframe tbody tr th {\n",
       "        vertical-align: top;\n",
       "    }\n",
       "\n",
       "    .dataframe thead th {\n",
       "        text-align: right;\n",
       "    }\n",
       "</style>\n",
       "<table border=\"1\" class=\"dataframe\">\n",
       "  <thead>\n",
       "    <tr style=\"text-align: right;\">\n",
       "      <th></th>\n",
       "      <th>product</th>\n",
       "      <th>category</th>\n",
       "      <th>order_id</th>\n",
       "      <th>customer_id</th>\n",
       "      <th>quantity</th>\n",
       "      <th>revenue</th>\n",
       "    </tr>\n",
       "  </thead>\n",
       "  <tbody>\n",
       "    <tr>\n",
       "      <th>139</th>\n",
       "      <td>весы напольные электронные soehnle pino white,...</td>\n",
       "      <td>техника</td>\n",
       "      <td>1</td>\n",
       "      <td>1</td>\n",
       "      <td>1</td>\n",
       "      <td>2849</td>\n",
       "    </tr>\n",
       "    <tr>\n",
       "      <th>141</th>\n",
       "      <td>весы электронные кухонные soehnle (круглые,20 ...</td>\n",
       "      <td>техника</td>\n",
       "      <td>2</td>\n",
       "      <td>1</td>\n",
       "      <td>2</td>\n",
       "      <td>2548</td>\n",
       "    </tr>\n",
       "    <tr>\n",
       "      <th>719</th>\n",
       "      <td>мантоварка-пароварка webber be-81 нержавеющая ...</td>\n",
       "      <td>техника</td>\n",
       "      <td>1</td>\n",
       "      <td>1</td>\n",
       "      <td>1</td>\n",
       "      <td>2219</td>\n",
       "    </tr>\n",
       "    <tr>\n",
       "      <th>2261</th>\n",
       "      <td>электроштопор qwerty белый 4,5?23,4 см на бата...</td>\n",
       "      <td>техника</td>\n",
       "      <td>1</td>\n",
       "      <td>1</td>\n",
       "      <td>2</td>\n",
       "      <td>2024</td>\n",
       "    </tr>\n",
       "    <tr>\n",
       "      <th>1513</th>\n",
       "      <td>соковарка webber ве-06 из нержавеющей стали 6 л</td>\n",
       "      <td>техника</td>\n",
       "      <td>1</td>\n",
       "      <td>1</td>\n",
       "      <td>1</td>\n",
       "      <td>1949</td>\n",
       "    </tr>\n",
       "  </tbody>\n",
       "</table>\n",
       "</div>"
      ],
      "text/plain": [
       "                                                product category  order_id  \\\n",
       "139   весы напольные электронные soehnle pino white,...  техника         1   \n",
       "141   весы электронные кухонные soehnle (круглые,20 ...  техника         2   \n",
       "719   мантоварка-пароварка webber be-81 нержавеющая ...  техника         1   \n",
       "2261  электроштопор qwerty белый 4,5?23,4 см на бата...  техника         1   \n",
       "1513    соковарка webber ве-06 из нержавеющей стали 6 л  техника         1   \n",
       "\n",
       "      customer_id  quantity  revenue  \n",
       "139             1         1     2849  \n",
       "141             1         2     2548  \n",
       "719             1         1     2219  \n",
       "2261            1         2     2024  \n",
       "1513            1         1     1949  "
      ]
     },
     "metadata": {},
     "output_type": "display_data"
    },
    {
     "name": "stdout",
     "output_type": "stream",
     "text": [
      "\n",
      "\n"
     ]
    },
    {
     "data": {
      "text/plain": [
       "'Топ-5 самых прибыльных товаров: «быт.химия»'"
      ]
     },
     "metadata": {},
     "output_type": "display_data"
    },
    {
     "data": {
      "text/html": [
       "<div>\n",
       "<style scoped>\n",
       "    .dataframe tbody tr th:only-of-type {\n",
       "        vertical-align: middle;\n",
       "    }\n",
       "\n",
       "    .dataframe tbody tr th {\n",
       "        vertical-align: top;\n",
       "    }\n",
       "\n",
       "    .dataframe thead th {\n",
       "        text-align: right;\n",
       "    }\n",
       "</style>\n",
       "<table border=\"1\" class=\"dataframe\">\n",
       "  <thead>\n",
       "    <tr style=\"text-align: right;\">\n",
       "      <th></th>\n",
       "      <th>product</th>\n",
       "      <th>category</th>\n",
       "      <th>order_id</th>\n",
       "      <th>customer_id</th>\n",
       "      <th>quantity</th>\n",
       "      <th>revenue</th>\n",
       "    </tr>\n",
       "  </thead>\n",
       "  <tbody>\n",
       "    <tr>\n",
       "      <th>943</th>\n",
       "      <td>ополаскиватель для посудомоечных машин ludwik ...</td>\n",
       "      <td>быт.химия</td>\n",
       "      <td>1</td>\n",
       "      <td>1</td>\n",
       "      <td>2</td>\n",
       "      <td>734</td>\n",
       "    </tr>\n",
       "    <tr>\n",
       "      <th>230</th>\n",
       "      <td>гипоаллергенный концентрированный гель для сти...</td>\n",
       "      <td>быт.химия</td>\n",
       "      <td>1</td>\n",
       "      <td>1</td>\n",
       "      <td>1</td>\n",
       "      <td>539</td>\n",
       "    </tr>\n",
       "    <tr>\n",
       "      <th>588</th>\n",
       "      <td>концентрат для мытья посуды mama ultimate зеле...</td>\n",
       "      <td>быт.химия</td>\n",
       "      <td>1</td>\n",
       "      <td>1</td>\n",
       "      <td>2</td>\n",
       "      <td>508</td>\n",
       "    </tr>\n",
       "    <tr>\n",
       "      <th>1523</th>\n",
       "      <td>средство для мытья пола ecomatic green cleaner...</td>\n",
       "      <td>быт.химия</td>\n",
       "      <td>2</td>\n",
       "      <td>2</td>\n",
       "      <td>2</td>\n",
       "      <td>456</td>\n",
       "    </tr>\n",
       "    <tr>\n",
       "      <th>948</th>\n",
       "      <td>отбеливатель пероксоль лилия-м 100 гр россия 4...</td>\n",
       "      <td>быт.химия</td>\n",
       "      <td>1</td>\n",
       "      <td>1</td>\n",
       "      <td>10</td>\n",
       "      <td>370</td>\n",
       "    </tr>\n",
       "  </tbody>\n",
       "</table>\n",
       "</div>"
      ],
      "text/plain": [
       "                                                product   category  order_id  \\\n",
       "943   ополаскиватель для посудомоечных машин ludwik ...  быт.химия         1   \n",
       "230   гипоаллергенный концентрированный гель для сти...  быт.химия         1   \n",
       "588   концентрат для мытья посуды mama ultimate зеле...  быт.химия         1   \n",
       "1523  средство для мытья пола ecomatic green cleaner...  быт.химия         2   \n",
       "948   отбеливатель пероксоль лилия-м 100 гр россия 4...  быт.химия         1   \n",
       "\n",
       "      customer_id  quantity  revenue  \n",
       "943             1         2      734  \n",
       "230             1         1      539  \n",
       "588             1         2      508  \n",
       "1523            2         2      456  \n",
       "948             1        10      370  "
      ]
     },
     "metadata": {},
     "output_type": "display_data"
    },
    {
     "name": "stdout",
     "output_type": "stream",
     "text": [
      "\n"
     ]
    }
   ],
   "source": [
    "# группировка по названиям товаров\n",
    "groupby_products_revenue = ecom_new.groupby('product').agg({'category':'first', \n",
    "                                                        'order_id':'nunique', \n",
    "                                                        'customer_id':'nunique',\n",
    "                                                        'quantity':'sum', \n",
    "                                                        'revenue':'sum'}).reset_index().sort_values(by = 'revenue', \n",
    "                                                                                                    ascending = False)\n",
    "\n",
    "# топ-5 самых прибыльных товаров в каждой категории\n",
    "for category in groupby_products_revenue['category'].unique():\n",
    "    print()\n",
    "    display(\"Топ-5 самых прибыльных товаров: «{}»\".format(category))\n",
    "    display(groupby_products_revenue[groupby_products_revenue['category'] == category].head(5))\n",
    "    print()"
   ]
  },
  {
   "cell_type": "markdown",
   "metadata": {},
   "source": [
    "Самые прибыльные товары:\n",
    "* Растения - спатифиллум, пеларгонии и эвкалипт;\n",
    "* Хозтовары - сумки-тележки, багажная тележка, веник и уличная урна;\n",
    "* Интерьер - простынь, вешалки, муляжи и придверный коврик;\n",
    "* Кухня - набор ножей, салфетка, стеклянная банка, тарелка и кружка;\n",
    "* Техника - весы, соковарка, мантоварка и электроштопор;\n",
    "* Уход за собой - зубная паста, халаты и дозаторы для мыла;\n",
    "* Быт.химия - ополаскиватель для посудомоечных машин, гель для стирки, концентрат для мытья посуды, средство для мытья пола и отбеливатель;\n",
    "* Инструменты - набор инструментов, весы, напильники, штангенциркуль и измерительный угольник.\n",
    "\n",
    "#### Топ-5 самых продаваемых и прибыльных товаров по всем данным"
   ]
  },
  {
   "cell_type": "code",
   "execution_count": 38,
   "metadata": {},
   "outputs": [
    {
     "data": {
      "text/html": [
       "<div>\n",
       "<style scoped>\n",
       "    .dataframe tbody tr th:only-of-type {\n",
       "        vertical-align: middle;\n",
       "    }\n",
       "\n",
       "    .dataframe tbody tr th {\n",
       "        vertical-align: top;\n",
       "    }\n",
       "\n",
       "    .dataframe thead th {\n",
       "        text-align: right;\n",
       "    }\n",
       "</style>\n",
       "<table border=\"1\" class=\"dataframe\">\n",
       "  <thead>\n",
       "    <tr style=\"text-align: right;\">\n",
       "      <th></th>\n",
       "      <th>quantity</th>\n",
       "      <th>revenue</th>\n",
       "    </tr>\n",
       "    <tr>\n",
       "      <th>product</th>\n",
       "      <th></th>\n",
       "      <th></th>\n",
       "    </tr>\n",
       "  </thead>\n",
       "  <tbody>\n",
       "    <tr>\n",
       "      <th>муляж яблоко 9 см красное</th>\n",
       "      <td>618</td>\n",
       "      <td>32702</td>\n",
       "    </tr>\n",
       "    <tr>\n",
       "      <th>вешалки мягкие для деликатных вещей 3 шт шоколад</th>\n",
       "      <td>335</td>\n",
       "      <td>49596</td>\n",
       "    </tr>\n",
       "    <tr>\n",
       "      <th>муляж яблоко зеленый 9 см полиуретан</th>\n",
       "      <td>308</td>\n",
       "      <td>17572</td>\n",
       "    </tr>\n",
       "    <tr>\n",
       "      <th>ручка-скоба рс-100 белая *трибатрон*, 1108035</th>\n",
       "      <td>200</td>\n",
       "      <td>5800</td>\n",
       "    </tr>\n",
       "    <tr>\n",
       "      <th>крепеж для пружины дверной, 1107055</th>\n",
       "      <td>170</td>\n",
       "      <td>3290</td>\n",
       "    </tr>\n",
       "  </tbody>\n",
       "</table>\n",
       "</div>"
      ],
      "text/plain": [
       "                                                  quantity  revenue\n",
       "product                                                            \n",
       "муляж яблоко 9 см красное                              618    32702\n",
       "вешалки мягкие для деликатных вещей 3 шт шоколад       335    49596\n",
       "муляж яблоко зеленый 9 см полиуретан                   308    17572\n",
       "ручка-скоба рс-100 белая *трибатрон*, 1108035          200     5800\n",
       "крепеж для пружины дверной, 1107055                    170     3290"
      ]
     },
     "execution_count": 38,
     "metadata": {},
     "output_type": "execute_result"
    }
   ],
   "source": [
    "# топ-5 самых продаваемых товаров по всем данным\n",
    "top_5_count = ecom_new.pivot_table(index = 'product', aggfunc = {'quantity':'sum', \n",
    "                                                                 'revenue':'sum'})\n",
    "top_5_count.sort_values(by = 'quantity', ascending = False).head(5)"
   ]
  },
  {
   "cell_type": "code",
   "execution_count": 39,
   "metadata": {},
   "outputs": [
    {
     "data": {
      "text/html": [
       "<div>\n",
       "<style scoped>\n",
       "    .dataframe tbody tr th:only-of-type {\n",
       "        vertical-align: middle;\n",
       "    }\n",
       "\n",
       "    .dataframe tbody tr th {\n",
       "        vertical-align: top;\n",
       "    }\n",
       "\n",
       "    .dataframe thead th {\n",
       "        text-align: right;\n",
       "    }\n",
       "</style>\n",
       "<table border=\"1\" class=\"dataframe\">\n",
       "  <thead>\n",
       "    <tr style=\"text-align: right;\">\n",
       "      <th></th>\n",
       "      <th>revenue</th>\n",
       "    </tr>\n",
       "    <tr>\n",
       "      <th>product</th>\n",
       "      <th></th>\n",
       "    </tr>\n",
       "  </thead>\n",
       "  <tbody>\n",
       "    <tr>\n",
       "      <th>простынь вафельная 200х180 см wellness rw180-01 100% хлопок</th>\n",
       "      <td>53232</td>\n",
       "    </tr>\n",
       "    <tr>\n",
       "      <th>вешалки мягкие для деликатных вещей 3 шт шоколад</th>\n",
       "      <td>49596</td>\n",
       "    </tr>\n",
       "    <tr>\n",
       "      <th>сумка-тележка 2-х колесная gimi argo синяя</th>\n",
       "      <td>48307</td>\n",
       "    </tr>\n",
       "    <tr>\n",
       "      <th>тележка багажная delta тбр-22 синий грузоподъемность 20 кг сумка и 50 кг каркас россия</th>\n",
       "      <td>33992</td>\n",
       "    </tr>\n",
       "    <tr>\n",
       "      <th>муляж яблоко 9 см красное</th>\n",
       "      <td>32702</td>\n",
       "    </tr>\n",
       "  </tbody>\n",
       "</table>\n",
       "</div>"
      ],
      "text/plain": [
       "                                                    revenue\n",
       "product                                                    \n",
       "простынь вафельная 200х180 см wellness rw180-01...    53232\n",
       "вешалки мягкие для деликатных вещей 3 шт шоколад      49596\n",
       "сумка-тележка 2-х колесная gimi argo синяя            48307\n",
       "тележка багажная delta тбр-22 синий грузоподъем...    33992\n",
       "муляж яблоко 9 см красное                             32702"
      ]
     },
     "execution_count": 39,
     "metadata": {},
     "output_type": "execute_result"
    }
   ],
   "source": [
    "# топ-5 самых прибыльных товаров по всем данным\n",
    "top_5_count = ecom_new.pivot_table(index = 'product', aggfunc = {'revenue':'sum'})\n",
    "top_5_count.sort_values(by = 'revenue', ascending = False).head(5)"
   ]
  },
  {
   "cell_type": "markdown",
   "metadata": {},
   "source": [
    "Больше всего люди купили муляжей, вешалок, ручек-скоб и крепежей для дверной пружины. Больше всего денег принесли простыни, вешалки, сумки-тележки и багажные тележки, муляжи яблок.\n",
    "\n",
    "Интересно также посмотреть наименее продаваемые и прибыльные товары.\n",
    "\n",
    "#### Топ-5 наименее продаваемых товаров по категориям"
   ]
  },
  {
   "cell_type": "code",
   "execution_count": 40,
   "metadata": {
    "scrolled": false
   },
   "outputs": [
    {
     "name": "stdout",
     "output_type": "stream",
     "text": [
      "\n"
     ]
    },
    {
     "data": {
      "text/plain": [
       "'Топ-5 наименее продаваемых товаров: «растения»'"
      ]
     },
     "metadata": {},
     "output_type": "display_data"
    },
    {
     "data": {
      "text/html": [
       "<div>\n",
       "<style scoped>\n",
       "    .dataframe tbody tr th:only-of-type {\n",
       "        vertical-align: middle;\n",
       "    }\n",
       "\n",
       "    .dataframe tbody tr th {\n",
       "        vertical-align: top;\n",
       "    }\n",
       "\n",
       "    .dataframe thead th {\n",
       "        text-align: right;\n",
       "    }\n",
       "</style>\n",
       "<table border=\"1\" class=\"dataframe\">\n",
       "  <thead>\n",
       "    <tr style=\"text-align: right;\">\n",
       "      <th></th>\n",
       "      <th>product</th>\n",
       "      <th>category</th>\n",
       "      <th>order_id</th>\n",
       "      <th>customer_id</th>\n",
       "      <th>quantity</th>\n",
       "      <th>revenue</th>\n",
       "    </tr>\n",
       "  </thead>\n",
       "  <tbody>\n",
       "    <tr>\n",
       "      <th>829</th>\n",
       "      <td>мята колосистая almira d-7 см</td>\n",
       "      <td>растения</td>\n",
       "      <td>1</td>\n",
       "      <td>1</td>\n",
       "      <td>1</td>\n",
       "      <td>68</td>\n",
       "    </tr>\n",
       "    <tr>\n",
       "      <th>828</th>\n",
       "      <td>мята d-9 см</td>\n",
       "      <td>растения</td>\n",
       "      <td>1</td>\n",
       "      <td>1</td>\n",
       "      <td>1</td>\n",
       "      <td>112</td>\n",
       "    </tr>\n",
       "    <tr>\n",
       "      <th>827</th>\n",
       "      <td>мята aura d-7 см</td>\n",
       "      <td>растения</td>\n",
       "      <td>1</td>\n",
       "      <td>1</td>\n",
       "      <td>2</td>\n",
       "      <td>136</td>\n",
       "    </tr>\n",
       "    <tr>\n",
       "      <th>818</th>\n",
       "      <td>мускари white magic в горшке d-10 см 7 луковиц</td>\n",
       "      <td>растения</td>\n",
       "      <td>1</td>\n",
       "      <td>1</td>\n",
       "      <td>1</td>\n",
       "      <td>127</td>\n",
       "    </tr>\n",
       "    <tr>\n",
       "      <th>817</th>\n",
       "      <td>муррайя d-9 см</td>\n",
       "      <td>растения</td>\n",
       "      <td>1</td>\n",
       "      <td>1</td>\n",
       "      <td>1</td>\n",
       "      <td>37</td>\n",
       "    </tr>\n",
       "  </tbody>\n",
       "</table>\n",
       "</div>"
      ],
      "text/plain": [
       "                                            product  category  order_id  \\\n",
       "829                   мята колосистая almira d-7 см  растения         1   \n",
       "828                                     мята d-9 см  растения         1   \n",
       "827                                мята aura d-7 см  растения         1   \n",
       "818  мускари white magic в горшке d-10 см 7 луковиц  растения         1   \n",
       "817                                  муррайя d-9 см  растения         1   \n",
       "\n",
       "     customer_id  quantity  revenue  \n",
       "829            1         1       68  \n",
       "828            1         1      112  \n",
       "827            1         2      136  \n",
       "818            1         1      127  \n",
       "817            1         1       37  "
      ]
     },
     "metadata": {},
     "output_type": "display_data"
    },
    {
     "name": "stdout",
     "output_type": "stream",
     "text": [
      "\n",
      "\n"
     ]
    },
    {
     "data": {
      "text/plain": [
       "'Топ-5 наименее продаваемых товаров: «хозтовары»'"
      ]
     },
     "metadata": {},
     "output_type": "display_data"
    },
    {
     "data": {
      "text/html": [
       "<div>\n",
       "<style scoped>\n",
       "    .dataframe tbody tr th:only-of-type {\n",
       "        vertical-align: middle;\n",
       "    }\n",
       "\n",
       "    .dataframe tbody tr th {\n",
       "        vertical-align: top;\n",
       "    }\n",
       "\n",
       "    .dataframe thead th {\n",
       "        text-align: right;\n",
       "    }\n",
       "</style>\n",
       "<table border=\"1\" class=\"dataframe\">\n",
       "  <thead>\n",
       "    <tr style=\"text-align: right;\">\n",
       "      <th></th>\n",
       "      <th>product</th>\n",
       "      <th>category</th>\n",
       "      <th>order_id</th>\n",
       "      <th>customer_id</th>\n",
       "      <th>quantity</th>\n",
       "      <th>revenue</th>\n",
       "    </tr>\n",
       "  </thead>\n",
       "  <tbody>\n",
       "    <tr>\n",
       "      <th>834</th>\n",
       "      <td>набор vileda easy wring &amp; clean turbo 151153 в...</td>\n",
       "      <td>хозтовары</td>\n",
       "      <td>1</td>\n",
       "      <td>1</td>\n",
       "      <td>1</td>\n",
       "      <td>2924</td>\n",
       "    </tr>\n",
       "    <tr>\n",
       "      <th>820</th>\n",
       "      <td>мусорный контейнер hailo profiline solid 14 05...</td>\n",
       "      <td>хозтовары</td>\n",
       "      <td>1</td>\n",
       "      <td>1</td>\n",
       "      <td>1</td>\n",
       "      <td>2549</td>\n",
       "    </tr>\n",
       "    <tr>\n",
       "      <th>819</th>\n",
       "      <td>мусорный контейнер hailo bigbin swing 45 0845-...</td>\n",
       "      <td>хозтовары</td>\n",
       "      <td>1</td>\n",
       "      <td>1</td>\n",
       "      <td>3</td>\n",
       "      <td>16536</td>\n",
       "    </tr>\n",
       "    <tr>\n",
       "      <th>846</th>\n",
       "      <td>набор для пикника полимербыт на 4 персоны конт...</td>\n",
       "      <td>хозтовары</td>\n",
       "      <td>1</td>\n",
       "      <td>1</td>\n",
       "      <td>4</td>\n",
       "      <td>1648</td>\n",
       "    </tr>\n",
       "    <tr>\n",
       "      <th>2280</th>\n",
       "      <td>ящик почтовый металлический с ушками для навес...</td>\n",
       "      <td>хозтовары</td>\n",
       "      <td>1</td>\n",
       "      <td>1</td>\n",
       "      <td>1</td>\n",
       "      <td>172</td>\n",
       "    </tr>\n",
       "  </tbody>\n",
       "</table>\n",
       "</div>"
      ],
      "text/plain": [
       "                                                product   category  order_id  \\\n",
       "834   набор vileda easy wring & clean turbo 151153 в...  хозтовары         1   \n",
       "820   мусорный контейнер hailo profiline solid 14 05...  хозтовары         1   \n",
       "819   мусорный контейнер hailo bigbin swing 45 0845-...  хозтовары         1   \n",
       "846   набор для пикника полимербыт на 4 персоны конт...  хозтовары         1   \n",
       "2280  ящик почтовый металлический с ушками для навес...  хозтовары         1   \n",
       "\n",
       "      customer_id  quantity  revenue  \n",
       "834             1         1     2924  \n",
       "820             1         1     2549  \n",
       "819             1         3    16536  \n",
       "846             1         4     1648  \n",
       "2280            1         1      172  "
      ]
     },
     "metadata": {},
     "output_type": "display_data"
    },
    {
     "name": "stdout",
     "output_type": "stream",
     "text": [
      "\n",
      "\n"
     ]
    },
    {
     "data": {
      "text/plain": [
       "'Топ-5 наименее продаваемых товаров: «интерьер»'"
      ]
     },
     "metadata": {},
     "output_type": "display_data"
    },
    {
     "data": {
      "text/html": [
       "<div>\n",
       "<style scoped>\n",
       "    .dataframe tbody tr th:only-of-type {\n",
       "        vertical-align: middle;\n",
       "    }\n",
       "\n",
       "    .dataframe tbody tr th {\n",
       "        vertical-align: top;\n",
       "    }\n",
       "\n",
       "    .dataframe thead th {\n",
       "        text-align: right;\n",
       "    }\n",
       "</style>\n",
       "<table border=\"1\" class=\"dataframe\">\n",
       "  <thead>\n",
       "    <tr style=\"text-align: right;\">\n",
       "      <th></th>\n",
       "      <th>product</th>\n",
       "      <th>category</th>\n",
       "      <th>order_id</th>\n",
       "      <th>customer_id</th>\n",
       "      <th>quantity</th>\n",
       "      <th>revenue</th>\n",
       "    </tr>\n",
       "  </thead>\n",
       "  <tbody>\n",
       "    <tr>\n",
       "      <th>844</th>\n",
       "      <td>набор вешалок универсальных attribute neo blue...</td>\n",
       "      <td>интерьер</td>\n",
       "      <td>1</td>\n",
       "      <td>1</td>\n",
       "      <td>4</td>\n",
       "      <td>1496</td>\n",
       "    </tr>\n",
       "    <tr>\n",
       "      <th>843</th>\n",
       "      <td>набор вешалок пластмассовых rozenbal r181900</td>\n",
       "      <td>интерьер</td>\n",
       "      <td>1</td>\n",
       "      <td>1</td>\n",
       "      <td>1</td>\n",
       "      <td>157</td>\n",
       "    </tr>\n",
       "    <tr>\n",
       "      <th>842</th>\n",
       "      <td>набор вешалок мягких тканевых с перекладиной и...</td>\n",
       "      <td>интерьер</td>\n",
       "      <td>1</td>\n",
       "      <td>1</td>\n",
       "      <td>15</td>\n",
       "      <td>5970</td>\n",
       "    </tr>\n",
       "    <tr>\n",
       "      <th>841</th>\n",
       "      <td>набор вешалок мягких тканевых с перекладиной 3...</td>\n",
       "      <td>интерьер</td>\n",
       "      <td>1</td>\n",
       "      <td>1</td>\n",
       "      <td>2</td>\n",
       "      <td>554</td>\n",
       "    </tr>\n",
       "    <tr>\n",
       "      <th>840</th>\n",
       "      <td>набор вешалок для костюма 45см 4шт цвет: кремо...</td>\n",
       "      <td>интерьер</td>\n",
       "      <td>1</td>\n",
       "      <td>1</td>\n",
       "      <td>37</td>\n",
       "      <td>7474</td>\n",
       "    </tr>\n",
       "  </tbody>\n",
       "</table>\n",
       "</div>"
      ],
      "text/plain": [
       "                                               product  category  order_id  \\\n",
       "844  набор вешалок универсальных attribute neo blue...  интерьер         1   \n",
       "843       набор вешалок пластмассовых rozenbal r181900  интерьер         1   \n",
       "842  набор вешалок мягких тканевых с перекладиной и...  интерьер         1   \n",
       "841  набор вешалок мягких тканевых с перекладиной 3...  интерьер         1   \n",
       "840  набор вешалок для костюма 45см 4шт цвет: кремо...  интерьер         1   \n",
       "\n",
       "     customer_id  quantity  revenue  \n",
       "844            1         4     1496  \n",
       "843            1         1      157  \n",
       "842            1        15     5970  \n",
       "841            1         2      554  \n",
       "840            1        37     7474  "
      ]
     },
     "metadata": {},
     "output_type": "display_data"
    },
    {
     "name": "stdout",
     "output_type": "stream",
     "text": [
      "\n",
      "\n"
     ]
    },
    {
     "data": {
      "text/plain": [
       "'Топ-5 наименее продаваемых товаров: «кухня»'"
      ]
     },
     "metadata": {},
     "output_type": "display_data"
    },
    {
     "data": {
      "text/html": [
       "<div>\n",
       "<style scoped>\n",
       "    .dataframe tbody tr th:only-of-type {\n",
       "        vertical-align: middle;\n",
       "    }\n",
       "\n",
       "    .dataframe tbody tr th {\n",
       "        vertical-align: top;\n",
       "    }\n",
       "\n",
       "    .dataframe thead th {\n",
       "        text-align: right;\n",
       "    }\n",
       "</style>\n",
       "<table border=\"1\" class=\"dataframe\">\n",
       "  <thead>\n",
       "    <tr style=\"text-align: right;\">\n",
       "      <th></th>\n",
       "      <th>product</th>\n",
       "      <th>category</th>\n",
       "      <th>order_id</th>\n",
       "      <th>customer_id</th>\n",
       "      <th>quantity</th>\n",
       "      <th>revenue</th>\n",
       "    </tr>\n",
       "  </thead>\n",
       "  <tbody>\n",
       "    <tr>\n",
       "      <th>855</th>\n",
       "      <td>набор посуды из нержавеющей стали 12 предметов...</td>\n",
       "      <td>кухня</td>\n",
       "      <td>1</td>\n",
       "      <td>1</td>\n",
       "      <td>1</td>\n",
       "      <td>1874</td>\n",
       "    </tr>\n",
       "    <tr>\n",
       "      <th>854</th>\n",
       "      <td>набор ножей webber из нержавеющей стали 7 пред...</td>\n",
       "      <td>кухня</td>\n",
       "      <td>1</td>\n",
       "      <td>1</td>\n",
       "      <td>1</td>\n",
       "      <td>689</td>\n",
       "    </tr>\n",
       "    <tr>\n",
       "      <th>853</th>\n",
       "      <td>набор ножей webber из нержавеющей стали 5 пред...</td>\n",
       "      <td>кухня</td>\n",
       "      <td>1</td>\n",
       "      <td>1</td>\n",
       "      <td>1</td>\n",
       "      <td>449</td>\n",
       "    </tr>\n",
       "    <tr>\n",
       "      <th>851</th>\n",
       "      <td>набор махровых салфеток фит_3, 100% хлопок 315...</td>\n",
       "      <td>кухня</td>\n",
       "      <td>1</td>\n",
       "      <td>1</td>\n",
       "      <td>7</td>\n",
       "      <td>1568</td>\n",
       "    </tr>\n",
       "    <tr>\n",
       "      <th>849</th>\n",
       "      <td>набор кружек для пива гамбург 2шт 500мл, h5072...</td>\n",
       "      <td>кухня</td>\n",
       "      <td>1</td>\n",
       "      <td>1</td>\n",
       "      <td>1</td>\n",
       "      <td>187</td>\n",
       "    </tr>\n",
       "  </tbody>\n",
       "</table>\n",
       "</div>"
      ],
      "text/plain": [
       "                                               product category  order_id  \\\n",
       "855  набор посуды из нержавеющей стали 12 предметов...    кухня         1   \n",
       "854  набор ножей webber из нержавеющей стали 7 пред...    кухня         1   \n",
       "853  набор ножей webber из нержавеющей стали 5 пред...    кухня         1   \n",
       "851  набор махровых салфеток фит_3, 100% хлопок 315...    кухня         1   \n",
       "849  набор кружек для пива гамбург 2шт 500мл, h5072...    кухня         1   \n",
       "\n",
       "     customer_id  quantity  revenue  \n",
       "855            1         1     1874  \n",
       "854            1         1      689  \n",
       "853            1         1      449  \n",
       "851            1         7     1568  \n",
       "849            1         1      187  "
      ]
     },
     "metadata": {},
     "output_type": "display_data"
    },
    {
     "name": "stdout",
     "output_type": "stream",
     "text": [
      "\n",
      "\n"
     ]
    },
    {
     "data": {
      "text/plain": [
       "'Топ-5 наименее продаваемых товаров: «техника»'"
      ]
     },
     "metadata": {},
     "output_type": "display_data"
    },
    {
     "data": {
      "text/html": [
       "<div>\n",
       "<style scoped>\n",
       "    .dataframe tbody tr th:only-of-type {\n",
       "        vertical-align: middle;\n",
       "    }\n",
       "\n",
       "    .dataframe tbody tr th {\n",
       "        vertical-align: top;\n",
       "    }\n",
       "\n",
       "    .dataframe thead th {\n",
       "        text-align: right;\n",
       "    }\n",
       "</style>\n",
       "<table border=\"1\" class=\"dataframe\">\n",
       "  <thead>\n",
       "    <tr style=\"text-align: right;\">\n",
       "      <th></th>\n",
       "      <th>product</th>\n",
       "      <th>category</th>\n",
       "      <th>order_id</th>\n",
       "      <th>customer_id</th>\n",
       "      <th>quantity</th>\n",
       "      <th>revenue</th>\n",
       "    </tr>\n",
       "  </thead>\n",
       "  <tbody>\n",
       "    <tr>\n",
       "      <th>734</th>\n",
       "      <td>миксер электрический погружной delta dl-5061 б...</td>\n",
       "      <td>техника</td>\n",
       "      <td>1</td>\n",
       "      <td>2</td>\n",
       "      <td>2</td>\n",
       "      <td>1918</td>\n",
       "    </tr>\n",
       "    <tr>\n",
       "      <th>733</th>\n",
       "      <td>миксер василиса ва-506 белый с красным/малинов...</td>\n",
       "      <td>техника</td>\n",
       "      <td>1</td>\n",
       "      <td>1</td>\n",
       "      <td>1</td>\n",
       "      <td>554</td>\n",
       "    </tr>\n",
       "    <tr>\n",
       "      <th>732</th>\n",
       "      <td>миксер delta lux dl-5068 серо-голубой 400 вт 4...</td>\n",
       "      <td>техника</td>\n",
       "      <td>1</td>\n",
       "      <td>1</td>\n",
       "      <td>1</td>\n",
       "      <td>1049</td>\n",
       "    </tr>\n",
       "    <tr>\n",
       "      <th>719</th>\n",
       "      <td>мантоварка-пароварка webber be-81 нержавеющая ...</td>\n",
       "      <td>техника</td>\n",
       "      <td>1</td>\n",
       "      <td>1</td>\n",
       "      <td>1</td>\n",
       "      <td>2219</td>\n",
       "    </tr>\n",
       "    <tr>\n",
       "      <th>718</th>\n",
       "      <td>мантоварка алюминиевая 6,0 л 3 сетки белая кал...</td>\n",
       "      <td>техника</td>\n",
       "      <td>1</td>\n",
       "      <td>1</td>\n",
       "      <td>1</td>\n",
       "      <td>1349</td>\n",
       "    </tr>\n",
       "  </tbody>\n",
       "</table>\n",
       "</div>"
      ],
      "text/plain": [
       "                                               product category  order_id  \\\n",
       "734  миксер электрический погружной delta dl-5061 б...  техника         1   \n",
       "733  миксер василиса ва-506 белый с красным/малинов...  техника         1   \n",
       "732  миксер delta lux dl-5068 серо-голубой 400 вт 4...  техника         1   \n",
       "719  мантоварка-пароварка webber be-81 нержавеющая ...  техника         1   \n",
       "718  мантоварка алюминиевая 6,0 л 3 сетки белая кал...  техника         1   \n",
       "\n",
       "     customer_id  quantity  revenue  \n",
       "734            2         2     1918  \n",
       "733            1         1      554  \n",
       "732            1         1     1049  \n",
       "719            1         1     2219  \n",
       "718            1         1     1349  "
      ]
     },
     "metadata": {},
     "output_type": "display_data"
    },
    {
     "name": "stdout",
     "output_type": "stream",
     "text": [
      "\n",
      "\n"
     ]
    },
    {
     "data": {
      "text/plain": [
       "'Топ-5 наименее продаваемых товаров: «уход за собой»'"
      ]
     },
     "metadata": {},
     "output_type": "display_data"
    },
    {
     "data": {
      "text/html": [
       "<div>\n",
       "<style scoped>\n",
       "    .dataframe tbody tr th:only-of-type {\n",
       "        vertical-align: middle;\n",
       "    }\n",
       "\n",
       "    .dataframe tbody tr th {\n",
       "        vertical-align: top;\n",
       "    }\n",
       "\n",
       "    .dataframe thead th {\n",
       "        text-align: right;\n",
       "    }\n",
       "</style>\n",
       "<table border=\"1\" class=\"dataframe\">\n",
       "  <thead>\n",
       "    <tr style=\"text-align: right;\">\n",
       "      <th></th>\n",
       "      <th>product</th>\n",
       "      <th>category</th>\n",
       "      <th>order_id</th>\n",
       "      <th>customer_id</th>\n",
       "      <th>quantity</th>\n",
       "      <th>revenue</th>\n",
       "    </tr>\n",
       "  </thead>\n",
       "  <tbody>\n",
       "    <tr>\n",
       "      <th>726</th>\n",
       "      <td>махровый халат женский размер 44-46 wellness а...</td>\n",
       "      <td>уход за собой</td>\n",
       "      <td>1</td>\n",
       "      <td>1</td>\n",
       "      <td>1</td>\n",
       "      <td>1949</td>\n",
       "    </tr>\n",
       "    <tr>\n",
       "      <th>825</th>\n",
       "      <td>мыло-скраб с мочалкой люфой мандала около 100 г</td>\n",
       "      <td>уход за собой</td>\n",
       "      <td>1</td>\n",
       "      <td>1</td>\n",
       "      <td>3</td>\n",
       "      <td>225</td>\n",
       "    </tr>\n",
       "    <tr>\n",
       "      <th>824</th>\n",
       "      <td>мыло ручной работы сувенир подарок на 8 марта ...</td>\n",
       "      <td>уход за собой</td>\n",
       "      <td>1</td>\n",
       "      <td>1</td>\n",
       "      <td>10</td>\n",
       "      <td>680</td>\n",
       "    </tr>\n",
       "    <tr>\n",
       "      <th>823</th>\n",
       "      <td>мыло ручной работы свинюшка в грязюшке 90 г</td>\n",
       "      <td>уход за собой</td>\n",
       "      <td>1</td>\n",
       "      <td>1</td>\n",
       "      <td>8</td>\n",
       "      <td>624</td>\n",
       "    </tr>\n",
       "    <tr>\n",
       "      <th>822</th>\n",
       "      <td>мыло жидкое reffil mama utimate облепиха 500 м...</td>\n",
       "      <td>уход за собой</td>\n",
       "      <td>1</td>\n",
       "      <td>1</td>\n",
       "      <td>3</td>\n",
       "      <td>267</td>\n",
       "    </tr>\n",
       "  </tbody>\n",
       "</table>\n",
       "</div>"
      ],
      "text/plain": [
       "                                               product       category  \\\n",
       "726  махровый халат женский размер 44-46 wellness а...  уход за собой   \n",
       "825    мыло-скраб с мочалкой люфой мандала около 100 г  уход за собой   \n",
       "824  мыло ручной работы сувенир подарок на 8 марта ...  уход за собой   \n",
       "823        мыло ручной работы свинюшка в грязюшке 90 г  уход за собой   \n",
       "822  мыло жидкое reffil mama utimate облепиха 500 м...  уход за собой   \n",
       "\n",
       "     order_id  customer_id  quantity  revenue  \n",
       "726         1            1         1     1949  \n",
       "825         1            1         3      225  \n",
       "824         1            1        10      680  \n",
       "823         1            1         8      624  \n",
       "822         1            1         3      267  "
      ]
     },
     "metadata": {},
     "output_type": "display_data"
    },
    {
     "name": "stdout",
     "output_type": "stream",
     "text": [
      "\n",
      "\n"
     ]
    },
    {
     "data": {
      "text/plain": [
       "'Топ-5 наименее продаваемых товаров: «быт.химия»'"
      ]
     },
     "metadata": {},
     "output_type": "display_data"
    },
    {
     "data": {
      "text/html": [
       "<div>\n",
       "<style scoped>\n",
       "    .dataframe tbody tr th:only-of-type {\n",
       "        vertical-align: middle;\n",
       "    }\n",
       "\n",
       "    .dataframe tbody tr th {\n",
       "        vertical-align: top;\n",
       "    }\n",
       "\n",
       "    .dataframe thead th {\n",
       "        text-align: right;\n",
       "    }\n",
       "</style>\n",
       "<table border=\"1\" class=\"dataframe\">\n",
       "  <thead>\n",
       "    <tr style=\"text-align: right;\">\n",
       "      <th></th>\n",
       "      <th>product</th>\n",
       "      <th>category</th>\n",
       "      <th>order_id</th>\n",
       "      <th>customer_id</th>\n",
       "      <th>quantity</th>\n",
       "      <th>revenue</th>\n",
       "    </tr>\n",
       "  </thead>\n",
       "  <tbody>\n",
       "    <tr>\n",
       "      <th>65</th>\n",
       "      <td>бальзам для мытья посуды mama ultimate ecosoda...</td>\n",
       "      <td>быт.химия</td>\n",
       "      <td>1</td>\n",
       "      <td>1</td>\n",
       "      <td>1</td>\n",
       "      <td>187</td>\n",
       "    </tr>\n",
       "    <tr>\n",
       "      <th>230</th>\n",
       "      <td>гипоаллергенный концентрированный гель для сти...</td>\n",
       "      <td>быт.химия</td>\n",
       "      <td>1</td>\n",
       "      <td>1</td>\n",
       "      <td>1</td>\n",
       "      <td>539</td>\n",
       "    </tr>\n",
       "    <tr>\n",
       "      <th>952</th>\n",
       "      <td>паста для полировки \"гои\" 25 гр</td>\n",
       "      <td>быт.химия</td>\n",
       "      <td>1</td>\n",
       "      <td>1</td>\n",
       "      <td>1</td>\n",
       "      <td>15</td>\n",
       "    </tr>\n",
       "    <tr>\n",
       "      <th>948</th>\n",
       "      <td>отбеливатель пероксоль лилия-м 100 гр россия 4...</td>\n",
       "      <td>быт.химия</td>\n",
       "      <td>1</td>\n",
       "      <td>1</td>\n",
       "      <td>10</td>\n",
       "      <td>370</td>\n",
       "    </tr>\n",
       "    <tr>\n",
       "      <th>943</th>\n",
       "      <td>ополаскиватель для посудомоечных машин ludwik ...</td>\n",
       "      <td>быт.химия</td>\n",
       "      <td>1</td>\n",
       "      <td>1</td>\n",
       "      <td>2</td>\n",
       "      <td>734</td>\n",
       "    </tr>\n",
       "  </tbody>\n",
       "</table>\n",
       "</div>"
      ],
      "text/plain": [
       "                                               product   category  order_id  \\\n",
       "65   бальзам для мытья посуды mama ultimate ecosoda...  быт.химия         1   \n",
       "230  гипоаллергенный концентрированный гель для сти...  быт.химия         1   \n",
       "952                    паста для полировки \"гои\" 25 гр  быт.химия         1   \n",
       "948  отбеливатель пероксоль лилия-м 100 гр россия 4...  быт.химия         1   \n",
       "943  ополаскиватель для посудомоечных машин ludwik ...  быт.химия         1   \n",
       "\n",
       "     customer_id  quantity  revenue  \n",
       "65             1         1      187  \n",
       "230            1         1      539  \n",
       "952            1         1       15  \n",
       "948            1        10      370  \n",
       "943            1         2      734  "
      ]
     },
     "metadata": {},
     "output_type": "display_data"
    },
    {
     "name": "stdout",
     "output_type": "stream",
     "text": [
      "\n",
      "\n"
     ]
    },
    {
     "data": {
      "text/plain": [
       "'Топ-5 наименее продаваемых товаров: «инструменты»'"
      ]
     },
     "metadata": {},
     "output_type": "display_data"
    },
    {
     "data": {
      "text/html": [
       "<div>\n",
       "<style scoped>\n",
       "    .dataframe tbody tr th:only-of-type {\n",
       "        vertical-align: middle;\n",
       "    }\n",
       "\n",
       "    .dataframe tbody tr th {\n",
       "        vertical-align: top;\n",
       "    }\n",
       "\n",
       "    .dataframe thead th {\n",
       "        text-align: right;\n",
       "    }\n",
       "</style>\n",
       "<table border=\"1\" class=\"dataframe\">\n",
       "  <thead>\n",
       "    <tr style=\"text-align: right;\">\n",
       "      <th></th>\n",
       "      <th>product</th>\n",
       "      <th>category</th>\n",
       "      <th>order_id</th>\n",
       "      <th>customer_id</th>\n",
       "      <th>quantity</th>\n",
       "      <th>revenue</th>\n",
       "    </tr>\n",
       "  </thead>\n",
       "  <tbody>\n",
       "    <tr>\n",
       "      <th>138</th>\n",
       "      <td>весы напольные edition feet механические</td>\n",
       "      <td>инструменты</td>\n",
       "      <td>1</td>\n",
       "      <td>1</td>\n",
       "      <td>1</td>\n",
       "      <td>1424</td>\n",
       "    </tr>\n",
       "    <tr>\n",
       "      <th>697</th>\n",
       "      <td>линейка, длина 30 см, truper, rgl-30/14387</td>\n",
       "      <td>инструменты</td>\n",
       "      <td>1</td>\n",
       "      <td>1</td>\n",
       "      <td>1</td>\n",
       "      <td>247</td>\n",
       "    </tr>\n",
       "    <tr>\n",
       "      <th>857</th>\n",
       "      <td>набор сверел по дереву из 8 шт, 3-10 мм *888* ...</td>\n",
       "      <td>инструменты</td>\n",
       "      <td>1</td>\n",
       "      <td>1</td>\n",
       "      <td>1</td>\n",
       "      <td>194</td>\n",
       "    </tr>\n",
       "    <tr>\n",
       "      <th>856</th>\n",
       "      <td>набор прецизионных напильников с двухкомпонент...</td>\n",
       "      <td>инструменты</td>\n",
       "      <td>1</td>\n",
       "      <td>1</td>\n",
       "      <td>1</td>\n",
       "      <td>779</td>\n",
       "    </tr>\n",
       "    <tr>\n",
       "      <th>847</th>\n",
       "      <td>набор инструментов в алюминиевом кейсе на коле...</td>\n",
       "      <td>инструменты</td>\n",
       "      <td>1</td>\n",
       "      <td>1</td>\n",
       "      <td>1</td>\n",
       "      <td>5399</td>\n",
       "    </tr>\n",
       "  </tbody>\n",
       "</table>\n",
       "</div>"
      ],
      "text/plain": [
       "                                               product     category  order_id  \\\n",
       "138           весы напольные edition feet механические  инструменты         1   \n",
       "697         линейка, длина 30 см, truper, rgl-30/14387  инструменты         1   \n",
       "857  набор сверел по дереву из 8 шт, 3-10 мм *888* ...  инструменты         1   \n",
       "856  набор прецизионных напильников с двухкомпонент...  инструменты         1   \n",
       "847  набор инструментов в алюминиевом кейсе на коле...  инструменты         1   \n",
       "\n",
       "     customer_id  quantity  revenue  \n",
       "138            1         1     1424  \n",
       "697            1         1      247  \n",
       "857            1         1      194  \n",
       "856            1         1      779  \n",
       "847            1         1     5399  "
      ]
     },
     "metadata": {},
     "output_type": "display_data"
    },
    {
     "name": "stdout",
     "output_type": "stream",
     "text": [
      "\n"
     ]
    }
   ],
   "source": [
    "# топ-5 наименее продаваемых товаров в каждой категории\n",
    "for category in groupby_products_count['category'].unique():\n",
    "    print()\n",
    "    display('Топ-5 наименее продаваемых товаров: «{}»'.format(category))\n",
    "    display(groupby_products_count[groupby_products_count['category'] == category].tail(5))\n",
    "    print()"
   ]
  },
  {
   "cell_type": "markdown",
   "metadata": {},
   "source": [
    "Меньше всего продаются:\n",
    "* Растения - мята, мускари, муррайя;\n",
    "* Хозтовары - наборы для уборки и пикника, мусорные контейнеры и почтовые ящики;\n",
    "* Интерьер - наборы вешалок;\n",
    "* Кухня - наборы посуды, ножей, салфеток, кружек;\n",
    "* Техника - миксеры, мантоварки;\n",
    "* Уход за собой - халат и мыло разного рода;\n",
    "* Быт.химия - бальзам для мытья посуды, гель для стирки, паста для полировки, отбеливатель и ополаскиватель для посудомойки;\n",
    "* Инструменты - весы, линейка, сверла, напильники и набор инструментов.\n",
    "\n",
    "#### Топ-5 наименее прибыльных товаров в каждой категории"
   ]
  },
  {
   "cell_type": "code",
   "execution_count": 41,
   "metadata": {
    "scrolled": false
   },
   "outputs": [
    {
     "name": "stdout",
     "output_type": "stream",
     "text": [
      "\n"
     ]
    },
    {
     "data": {
      "text/plain": [
       "'Топ-5 наименее прибыльных товаров: «интерьер»'"
      ]
     },
     "metadata": {},
     "output_type": "display_data"
    },
    {
     "data": {
      "text/html": [
       "<div>\n",
       "<style scoped>\n",
       "    .dataframe tbody tr th:only-of-type {\n",
       "        vertical-align: middle;\n",
       "    }\n",
       "\n",
       "    .dataframe tbody tr th {\n",
       "        vertical-align: top;\n",
       "    }\n",
       "\n",
       "    .dataframe thead th {\n",
       "        text-align: right;\n",
       "    }\n",
       "</style>\n",
       "<table border=\"1\" class=\"dataframe\">\n",
       "  <thead>\n",
       "    <tr style=\"text-align: right;\">\n",
       "      <th></th>\n",
       "      <th>product</th>\n",
       "      <th>category</th>\n",
       "      <th>order_id</th>\n",
       "      <th>customer_id</th>\n",
       "      <th>quantity</th>\n",
       "      <th>revenue</th>\n",
       "    </tr>\n",
       "  </thead>\n",
       "  <tbody>\n",
       "    <tr>\n",
       "      <th>773</th>\n",
       "      <td>муляж груша мини 2 шт, желтая 4 см</td>\n",
       "      <td>интерьер</td>\n",
       "      <td>1</td>\n",
       "      <td>1</td>\n",
       "      <td>1</td>\n",
       "      <td>29</td>\n",
       "    </tr>\n",
       "    <tr>\n",
       "      <th>408</th>\n",
       "      <td>искусственный цветок роза закрытая малая пласт...</td>\n",
       "      <td>интерьер</td>\n",
       "      <td>1</td>\n",
       "      <td>1</td>\n",
       "      <td>1</td>\n",
       "      <td>22</td>\n",
       "    </tr>\n",
       "    <tr>\n",
       "      <th>2051</th>\n",
       "      <td>цветок искусственный мак 45 см пластик</td>\n",
       "      <td>интерьер</td>\n",
       "      <td>1</td>\n",
       "      <td>1</td>\n",
       "      <td>1</td>\n",
       "      <td>22</td>\n",
       "    </tr>\n",
       "    <tr>\n",
       "      <th>770</th>\n",
       "      <td>муляж гранат мини 4 шт</td>\n",
       "      <td>интерьер</td>\n",
       "      <td>1</td>\n",
       "      <td>1</td>\n",
       "      <td>1</td>\n",
       "      <td>22</td>\n",
       "    </tr>\n",
       "    <tr>\n",
       "      <th>2060</th>\n",
       "      <td>цветок искусственный тюльпан 45 см пластик цве...</td>\n",
       "      <td>интерьер</td>\n",
       "      <td>1</td>\n",
       "      <td>1</td>\n",
       "      <td>1</td>\n",
       "      <td>22</td>\n",
       "    </tr>\n",
       "  </tbody>\n",
       "</table>\n",
       "</div>"
      ],
      "text/plain": [
       "                                                product  category  order_id  \\\n",
       "773                  муляж груша мини 2 шт, желтая 4 см  интерьер         1   \n",
       "408   искусственный цветок роза закрытая малая пласт...  интерьер         1   \n",
       "2051             цветок искусственный мак 45 см пластик  интерьер         1   \n",
       "770                              муляж гранат мини 4 шт  интерьер         1   \n",
       "2060  цветок искусственный тюльпан 45 см пластик цве...  интерьер         1   \n",
       "\n",
       "      customer_id  quantity  revenue  \n",
       "773             1         1       29  \n",
       "408             1         1       22  \n",
       "2051            1         1       22  \n",
       "770             1         1       22  \n",
       "2060            1         1       22  "
      ]
     },
     "metadata": {},
     "output_type": "display_data"
    },
    {
     "name": "stdout",
     "output_type": "stream",
     "text": [
      "\n",
      "\n"
     ]
    },
    {
     "data": {
      "text/plain": [
       "'Топ-5 наименее прибыльных товаров: «хозтовары»'"
      ]
     },
     "metadata": {},
     "output_type": "display_data"
    },
    {
     "data": {
      "text/html": [
       "<div>\n",
       "<style scoped>\n",
       "    .dataframe tbody tr th:only-of-type {\n",
       "        vertical-align: middle;\n",
       "    }\n",
       "\n",
       "    .dataframe tbody tr th {\n",
       "        vertical-align: top;\n",
       "    }\n",
       "\n",
       "    .dataframe thead th {\n",
       "        text-align: right;\n",
       "    }\n",
       "</style>\n",
       "<table border=\"1\" class=\"dataframe\">\n",
       "  <thead>\n",
       "    <tr style=\"text-align: right;\">\n",
       "      <th></th>\n",
       "      <th>product</th>\n",
       "      <th>category</th>\n",
       "      <th>order_id</th>\n",
       "      <th>customer_id</th>\n",
       "      <th>quantity</th>\n",
       "      <th>revenue</th>\n",
       "    </tr>\n",
       "  </thead>\n",
       "  <tbody>\n",
       "    <tr>\n",
       "      <th>877</th>\n",
       "      <td>насадка для мытья окон, мультипласт</td>\n",
       "      <td>хозтовары</td>\n",
       "      <td>1</td>\n",
       "      <td>1</td>\n",
       "      <td>1</td>\n",
       "      <td>38</td>\n",
       "    </tr>\n",
       "    <tr>\n",
       "      <th>1364</th>\n",
       "      <td>решетка вентиляционная металлическая золото 17...</td>\n",
       "      <td>хозтовары</td>\n",
       "      <td>1</td>\n",
       "      <td>1</td>\n",
       "      <td>1</td>\n",
       "      <td>30</td>\n",
       "    </tr>\n",
       "    <tr>\n",
       "      <th>305</th>\n",
       "      <td>губка спираль металлическая eurohouse 2 шт eh3599</td>\n",
       "      <td>хозтовары</td>\n",
       "      <td>1</td>\n",
       "      <td>1</td>\n",
       "      <td>1</td>\n",
       "      <td>29</td>\n",
       "    </tr>\n",
       "    <tr>\n",
       "      <th>703</th>\n",
       "      <td>ложка обувная металлическая крашенная 220, 120...</td>\n",
       "      <td>хозтовары</td>\n",
       "      <td>1</td>\n",
       "      <td>1</td>\n",
       "      <td>1</td>\n",
       "      <td>22</td>\n",
       "    </tr>\n",
       "    <tr>\n",
       "      <th>664</th>\n",
       "      <td>крючок проволочный 120 мм оцинкованный, 1110212</td>\n",
       "      <td>хозтовары</td>\n",
       "      <td>1</td>\n",
       "      <td>1</td>\n",
       "      <td>1</td>\n",
       "      <td>15</td>\n",
       "    </tr>\n",
       "  </tbody>\n",
       "</table>\n",
       "</div>"
      ],
      "text/plain": [
       "                                                product   category  order_id  \\\n",
       "877                 насадка для мытья окон, мультипласт  хозтовары         1   \n",
       "1364  решетка вентиляционная металлическая золото 17...  хозтовары         1   \n",
       "305   губка спираль металлическая eurohouse 2 шт eh3599  хозтовары         1   \n",
       "703   ложка обувная металлическая крашенная 220, 120...  хозтовары         1   \n",
       "664     крючок проволочный 120 мм оцинкованный, 1110212  хозтовары         1   \n",
       "\n",
       "      customer_id  quantity  revenue  \n",
       "877             1         1       38  \n",
       "1364            1         1       30  \n",
       "305             1         1       29  \n",
       "703             1         1       22  \n",
       "664             1         1       15  "
      ]
     },
     "metadata": {},
     "output_type": "display_data"
    },
    {
     "name": "stdout",
     "output_type": "stream",
     "text": [
      "\n",
      "\n"
     ]
    },
    {
     "data": {
      "text/plain": [
       "'Топ-5 наименее прибыльных товаров: «кухня»'"
      ]
     },
     "metadata": {},
     "output_type": "display_data"
    },
    {
     "data": {
      "text/html": [
       "<div>\n",
       "<style scoped>\n",
       "    .dataframe tbody tr th:only-of-type {\n",
       "        vertical-align: middle;\n",
       "    }\n",
       "\n",
       "    .dataframe tbody tr th {\n",
       "        vertical-align: top;\n",
       "    }\n",
       "\n",
       "    .dataframe thead th {\n",
       "        text-align: right;\n",
       "    }\n",
       "</style>\n",
       "<table border=\"1\" class=\"dataframe\">\n",
       "  <thead>\n",
       "    <tr style=\"text-align: right;\">\n",
       "      <th></th>\n",
       "      <th>product</th>\n",
       "      <th>category</th>\n",
       "      <th>order_id</th>\n",
       "      <th>customer_id</th>\n",
       "      <th>quantity</th>\n",
       "      <th>revenue</th>\n",
       "    </tr>\n",
       "  </thead>\n",
       "  <tbody>\n",
       "    <tr>\n",
       "      <th>2093</th>\n",
       "      <td>чайная ложка better цветной горох bt-c2003e-td...</td>\n",
       "      <td>кухня</td>\n",
       "      <td>1</td>\n",
       "      <td>1</td>\n",
       "      <td>1</td>\n",
       "      <td>44</td>\n",
       "    </tr>\n",
       "    <tr>\n",
       "      <th>1459</th>\n",
       "      <td>сервировочная салфетка пвх 26х41 см капучино 6163</td>\n",
       "      <td>кухня</td>\n",
       "      <td>1</td>\n",
       "      <td>1</td>\n",
       "      <td>2</td>\n",
       "      <td>44</td>\n",
       "    </tr>\n",
       "    <tr>\n",
       "      <th>1530</th>\n",
       "      <td>стакан пластмассовый 300 мл, конус. (к-308) \"п...</td>\n",
       "      <td>кухня</td>\n",
       "      <td>2</td>\n",
       "      <td>2</td>\n",
       "      <td>2</td>\n",
       "      <td>44</td>\n",
       "    </tr>\n",
       "    <tr>\n",
       "      <th>186</th>\n",
       "      <td>вилка столовая better цветной горох bt-c2003e-...</td>\n",
       "      <td>кухня</td>\n",
       "      <td>1</td>\n",
       "      <td>1</td>\n",
       "      <td>1</td>\n",
       "      <td>44</td>\n",
       "    </tr>\n",
       "    <tr>\n",
       "      <th>729</th>\n",
       "      <td>мерный стакан пластиков 1535026</td>\n",
       "      <td>кухня</td>\n",
       "      <td>1</td>\n",
       "      <td>1</td>\n",
       "      <td>1</td>\n",
       "      <td>22</td>\n",
       "    </tr>\n",
       "  </tbody>\n",
       "</table>\n",
       "</div>"
      ],
      "text/plain": [
       "                                                product category  order_id  \\\n",
       "2093  чайная ложка better цветной горох bt-c2003e-td...    кухня         1   \n",
       "1459  сервировочная салфетка пвх 26х41 см капучино 6163    кухня         1   \n",
       "1530  стакан пластмассовый 300 мл, конус. (к-308) \"п...    кухня         2   \n",
       "186   вилка столовая better цветной горох bt-c2003e-...    кухня         1   \n",
       "729                     мерный стакан пластиков 1535026    кухня         1   \n",
       "\n",
       "      customer_id  quantity  revenue  \n",
       "2093            1         1       44  \n",
       "1459            1         2       44  \n",
       "1530            2         2       44  \n",
       "186             1         1       44  \n",
       "729             1         1       22  "
      ]
     },
     "metadata": {},
     "output_type": "display_data"
    },
    {
     "name": "stdout",
     "output_type": "stream",
     "text": [
      "\n",
      "\n"
     ]
    },
    {
     "data": {
      "text/plain": [
       "'Топ-5 наименее прибыльных товаров: «растения»'"
      ]
     },
     "metadata": {},
     "output_type": "display_data"
    },
    {
     "data": {
      "text/html": [
       "<div>\n",
       "<style scoped>\n",
       "    .dataframe tbody tr th:only-of-type {\n",
       "        vertical-align: middle;\n",
       "    }\n",
       "\n",
       "    .dataframe tbody tr th {\n",
       "        vertical-align: top;\n",
       "    }\n",
       "\n",
       "    .dataframe thead th {\n",
       "        text-align: right;\n",
       "    }\n",
       "</style>\n",
       "<table border=\"1\" class=\"dataframe\">\n",
       "  <thead>\n",
       "    <tr style=\"text-align: right;\">\n",
       "      <th></th>\n",
       "      <th>product</th>\n",
       "      <th>category</th>\n",
       "      <th>order_id</th>\n",
       "      <th>customer_id</th>\n",
       "      <th>quantity</th>\n",
       "      <th>revenue</th>\n",
       "    </tr>\n",
       "  </thead>\n",
       "  <tbody>\n",
       "    <tr>\n",
       "      <th>748</th>\n",
       "      <td>морковь детская сладость 2 г 4660010775921</td>\n",
       "      <td>растения</td>\n",
       "      <td>1</td>\n",
       "      <td>1</td>\n",
       "      <td>1</td>\n",
       "      <td>10</td>\n",
       "    </tr>\n",
       "    <tr>\n",
       "      <th>2086</th>\n",
       "      <td>цинния коралловая красавица 0,2 г 4660010773323</td>\n",
       "      <td>растения</td>\n",
       "      <td>1</td>\n",
       "      <td>1</td>\n",
       "      <td>1</td>\n",
       "      <td>10</td>\n",
       "    </tr>\n",
       "    <tr>\n",
       "      <th>2087</th>\n",
       "      <td>цинния оранжевый король 0,5 г 4660010770520</td>\n",
       "      <td>растения</td>\n",
       "      <td>1</td>\n",
       "      <td>1</td>\n",
       "      <td>1</td>\n",
       "      <td>10</td>\n",
       "    </tr>\n",
       "    <tr>\n",
       "      <th>301</th>\n",
       "      <td>горох амброзия 10,0 г 4660010772616</td>\n",
       "      <td>растения</td>\n",
       "      <td>1</td>\n",
       "      <td>1</td>\n",
       "      <td>1</td>\n",
       "      <td>9</td>\n",
       "    </tr>\n",
       "    <tr>\n",
       "      <th>714</th>\n",
       "      <td>львиный зев волшебный ковер 0,05 г 4660010779639</td>\n",
       "      <td>растения</td>\n",
       "      <td>1</td>\n",
       "      <td>1</td>\n",
       "      <td>1</td>\n",
       "      <td>9</td>\n",
       "    </tr>\n",
       "  </tbody>\n",
       "</table>\n",
       "</div>"
      ],
      "text/plain": [
       "                                               product  category  order_id  \\\n",
       "748         морковь детская сладость 2 г 4660010775921  растения         1   \n",
       "2086   цинния коралловая красавица 0,2 г 4660010773323  растения         1   \n",
       "2087       цинния оранжевый король 0,5 г 4660010770520  растения         1   \n",
       "301                горох амброзия 10,0 г 4660010772616  растения         1   \n",
       "714   львиный зев волшебный ковер 0,05 г 4660010779639  растения         1   \n",
       "\n",
       "      customer_id  quantity  revenue  \n",
       "748             1         1       10  \n",
       "2086            1         1       10  \n",
       "2087            1         1       10  \n",
       "301             1         1        9  \n",
       "714             1         1        9  "
      ]
     },
     "metadata": {},
     "output_type": "display_data"
    },
    {
     "name": "stdout",
     "output_type": "stream",
     "text": [
      "\n",
      "\n"
     ]
    },
    {
     "data": {
      "text/plain": [
       "'Топ-5 наименее прибыльных товаров: «инструменты»'"
      ]
     },
     "metadata": {},
     "output_type": "display_data"
    },
    {
     "data": {
      "text/html": [
       "<div>\n",
       "<style scoped>\n",
       "    .dataframe tbody tr th:only-of-type {\n",
       "        vertical-align: middle;\n",
       "    }\n",
       "\n",
       "    .dataframe tbody tr th {\n",
       "        vertical-align: top;\n",
       "    }\n",
       "\n",
       "    .dataframe thead th {\n",
       "        text-align: right;\n",
       "    }\n",
       "</style>\n",
       "<table border=\"1\" class=\"dataframe\">\n",
       "  <thead>\n",
       "    <tr style=\"text-align: right;\">\n",
       "      <th></th>\n",
       "      <th>product</th>\n",
       "      <th>category</th>\n",
       "      <th>order_id</th>\n",
       "      <th>customer_id</th>\n",
       "      <th>quantity</th>\n",
       "      <th>revenue</th>\n",
       "    </tr>\n",
       "  </thead>\n",
       "  <tbody>\n",
       "    <tr>\n",
       "      <th>2036</th>\n",
       "      <td>холодная сварка mastix 55г универсальная, 1205037</td>\n",
       "      <td>инструменты</td>\n",
       "      <td>1</td>\n",
       "      <td>1</td>\n",
       "      <td>2</td>\n",
       "      <td>104</td>\n",
       "    </tr>\n",
       "    <tr>\n",
       "      <th>1452</th>\n",
       "      <td>сверло по металлу d=12,0 мм р6м5 с цилиндричес...</td>\n",
       "      <td>инструменты</td>\n",
       "      <td>1</td>\n",
       "      <td>1</td>\n",
       "      <td>1</td>\n",
       "      <td>97</td>\n",
       "    </tr>\n",
       "    <tr>\n",
       "      <th>1454</th>\n",
       "      <td>сверло-фреза, 8 мм, нитрид титана *888* 686208...</td>\n",
       "      <td>инструменты</td>\n",
       "      <td>1</td>\n",
       "      <td>1</td>\n",
       "      <td>1</td>\n",
       "      <td>82</td>\n",
       "    </tr>\n",
       "    <tr>\n",
       "      <th>1453</th>\n",
       "      <td>сверло-фреза, 6 мм, нитрид титана *888* 686206...</td>\n",
       "      <td>инструменты</td>\n",
       "      <td>1</td>\n",
       "      <td>1</td>\n",
       "      <td>1</td>\n",
       "      <td>67</td>\n",
       "    </tr>\n",
       "    <tr>\n",
       "      <th>1868</th>\n",
       "      <td>термометр уличный оконный тб 202 h-20 см 1210036</td>\n",
       "      <td>инструменты</td>\n",
       "      <td>1</td>\n",
       "      <td>1</td>\n",
       "      <td>1</td>\n",
       "      <td>37</td>\n",
       "    </tr>\n",
       "  </tbody>\n",
       "</table>\n",
       "</div>"
      ],
      "text/plain": [
       "                                                product     category  \\\n",
       "2036  холодная сварка mastix 55г универсальная, 1205037  инструменты   \n",
       "1452  сверло по металлу d=12,0 мм р6м5 с цилиндричес...  инструменты   \n",
       "1454  сверло-фреза, 8 мм, нитрид титана *888* 686208...  инструменты   \n",
       "1453  сверло-фреза, 6 мм, нитрид титана *888* 686206...  инструменты   \n",
       "1868   термометр уличный оконный тб 202 h-20 см 1210036  инструменты   \n",
       "\n",
       "      order_id  customer_id  quantity  revenue  \n",
       "2036         1            1         2      104  \n",
       "1452         1            1         1       97  \n",
       "1454         1            1         1       82  \n",
       "1453         1            1         1       67  \n",
       "1868         1            1         1       37  "
      ]
     },
     "metadata": {},
     "output_type": "display_data"
    },
    {
     "name": "stdout",
     "output_type": "stream",
     "text": [
      "\n",
      "\n"
     ]
    },
    {
     "data": {
      "text/plain": [
       "'Топ-5 наименее прибыльных товаров: «уход за собой»'"
      ]
     },
     "metadata": {},
     "output_type": "display_data"
    },
    {
     "data": {
      "text/html": [
       "<div>\n",
       "<style scoped>\n",
       "    .dataframe tbody tr th:only-of-type {\n",
       "        vertical-align: middle;\n",
       "    }\n",
       "\n",
       "    .dataframe tbody tr th {\n",
       "        vertical-align: top;\n",
       "    }\n",
       "\n",
       "    .dataframe thead th {\n",
       "        text-align: right;\n",
       "    }\n",
       "</style>\n",
       "<table border=\"1\" class=\"dataframe\">\n",
       "  <thead>\n",
       "    <tr style=\"text-align: right;\">\n",
       "      <th></th>\n",
       "      <th>product</th>\n",
       "      <th>category</th>\n",
       "      <th>order_id</th>\n",
       "      <th>customer_id</th>\n",
       "      <th>quantity</th>\n",
       "      <th>revenue</th>\n",
       "    </tr>\n",
       "  </thead>\n",
       "  <tbody>\n",
       "    <tr>\n",
       "      <th>368</th>\n",
       "      <td>зубная паста systema tartar против образования...</td>\n",
       "      <td>уход за собой</td>\n",
       "      <td>1</td>\n",
       "      <td>1</td>\n",
       "      <td>1</td>\n",
       "      <td>194</td>\n",
       "    </tr>\n",
       "    <tr>\n",
       "      <th>369</th>\n",
       "      <td>зубная паста zact lion smokers toothpaste 100 ...</td>\n",
       "      <td>уход за собой</td>\n",
       "      <td>1</td>\n",
       "      <td>1</td>\n",
       "      <td>1</td>\n",
       "      <td>134</td>\n",
       "    </tr>\n",
       "    <tr>\n",
       "      <th>370</th>\n",
       "      <td>зубная паста zact lion whitening toothpaste 10...</td>\n",
       "      <td>уход за собой</td>\n",
       "      <td>1</td>\n",
       "      <td>1</td>\n",
       "      <td>1</td>\n",
       "      <td>134</td>\n",
       "    </tr>\n",
       "    <tr>\n",
       "      <th>1019</th>\n",
       "      <td>пена для ванн vestar хвойная пихта 900 мл росс...</td>\n",
       "      <td>уход за собой</td>\n",
       "      <td>1</td>\n",
       "      <td>1</td>\n",
       "      <td>1</td>\n",
       "      <td>82</td>\n",
       "    </tr>\n",
       "    <tr>\n",
       "      <th>356</th>\n",
       "      <td>жидкое мыло vestar хозяйственное 750 мл россия...</td>\n",
       "      <td>уход за собой</td>\n",
       "      <td>1</td>\n",
       "      <td>1</td>\n",
       "      <td>1</td>\n",
       "      <td>59</td>\n",
       "    </tr>\n",
       "  </tbody>\n",
       "</table>\n",
       "</div>"
      ],
      "text/plain": [
       "                                                product       category  \\\n",
       "368   зубная паста systema tartar против образования...  уход за собой   \n",
       "369   зубная паста zact lion smokers toothpaste 100 ...  уход за собой   \n",
       "370   зубная паста zact lion whitening toothpaste 10...  уход за собой   \n",
       "1019  пена для ванн vestar хвойная пихта 900 мл росс...  уход за собой   \n",
       "356   жидкое мыло vestar хозяйственное 750 мл россия...  уход за собой   \n",
       "\n",
       "      order_id  customer_id  quantity  revenue  \n",
       "368          1            1         1      194  \n",
       "369          1            1         1      134  \n",
       "370          1            1         1      134  \n",
       "1019         1            1         1       82  \n",
       "356          1            1         1       59  "
      ]
     },
     "metadata": {},
     "output_type": "display_data"
    },
    {
     "name": "stdout",
     "output_type": "stream",
     "text": [
      "\n",
      "\n"
     ]
    },
    {
     "data": {
      "text/plain": [
       "'Топ-5 наименее прибыльных товаров: «техника»'"
      ]
     },
     "metadata": {},
     "output_type": "display_data"
    },
    {
     "data": {
      "text/html": [
       "<div>\n",
       "<style scoped>\n",
       "    .dataframe tbody tr th:only-of-type {\n",
       "        vertical-align: middle;\n",
       "    }\n",
       "\n",
       "    .dataframe tbody tr th {\n",
       "        vertical-align: top;\n",
       "    }\n",
       "\n",
       "    .dataframe thead th {\n",
       "        text-align: right;\n",
       "    }\n",
       "</style>\n",
       "<table border=\"1\" class=\"dataframe\">\n",
       "  <thead>\n",
       "    <tr style=\"text-align: right;\">\n",
       "      <th></th>\n",
       "      <th>product</th>\n",
       "      <th>category</th>\n",
       "      <th>order_id</th>\n",
       "      <th>customer_id</th>\n",
       "      <th>quantity</th>\n",
       "      <th>revenue</th>\n",
       "    </tr>\n",
       "  </thead>\n",
       "  <tbody>\n",
       "    <tr>\n",
       "      <th>1987</th>\n",
       "      <td>фен дорожный delta dl-0904 бордовый с черным 2...</td>\n",
       "      <td>техника</td>\n",
       "      <td>1</td>\n",
       "      <td>1</td>\n",
       "      <td>1</td>\n",
       "      <td>592</td>\n",
       "    </tr>\n",
       "    <tr>\n",
       "      <th>733</th>\n",
       "      <td>миксер василиса ва-506 белый с красным/малинов...</td>\n",
       "      <td>техника</td>\n",
       "      <td>1</td>\n",
       "      <td>1</td>\n",
       "      <td>1</td>\n",
       "      <td>554</td>\n",
       "    </tr>\n",
       "    <tr>\n",
       "      <th>471</th>\n",
       "      <td>кипятильник электрический 2.5 квт, 1601143</td>\n",
       "      <td>техника</td>\n",
       "      <td>1</td>\n",
       "      <td>1</td>\n",
       "      <td>1</td>\n",
       "      <td>224</td>\n",
       "    </tr>\n",
       "    <tr>\n",
       "      <th>1515</th>\n",
       "      <td>соковыжималка для цитрусовых pasabahce ots1314...</td>\n",
       "      <td>техника</td>\n",
       "      <td>1</td>\n",
       "      <td>1</td>\n",
       "      <td>1</td>\n",
       "      <td>202</td>\n",
       "    </tr>\n",
       "    <tr>\n",
       "      <th>21</th>\n",
       "      <td>антинакипин для утюгов ампулы 10 мл по 5 шт un...</td>\n",
       "      <td>техника</td>\n",
       "      <td>1</td>\n",
       "      <td>1</td>\n",
       "      <td>1</td>\n",
       "      <td>164</td>\n",
       "    </tr>\n",
       "  </tbody>\n",
       "</table>\n",
       "</div>"
      ],
      "text/plain": [
       "                                                product category  order_id  \\\n",
       "1987  фен дорожный delta dl-0904 бордовый с черным 2...  техника         1   \n",
       "733   миксер василиса ва-506 белый с красным/малинов...  техника         1   \n",
       "471          кипятильник электрический 2.5 квт, 1601143  техника         1   \n",
       "1515  соковыжималка для цитрусовых pasabahce ots1314...  техника         1   \n",
       "21    антинакипин для утюгов ампулы 10 мл по 5 шт un...  техника         1   \n",
       "\n",
       "      customer_id  quantity  revenue  \n",
       "1987            1         1      592  \n",
       "733             1         1      554  \n",
       "471             1         1      224  \n",
       "1515            1         1      202  \n",
       "21              1         1      164  "
      ]
     },
     "metadata": {},
     "output_type": "display_data"
    },
    {
     "name": "stdout",
     "output_type": "stream",
     "text": [
      "\n",
      "\n"
     ]
    },
    {
     "data": {
      "text/plain": [
       "'Топ-5 наименее прибыльных товаров: «быт.химия»'"
      ]
     },
     "metadata": {},
     "output_type": "display_data"
    },
    {
     "data": {
      "text/html": [
       "<div>\n",
       "<style scoped>\n",
       "    .dataframe tbody tr th:only-of-type {\n",
       "        vertical-align: middle;\n",
       "    }\n",
       "\n",
       "    .dataframe tbody tr th {\n",
       "        vertical-align: top;\n",
       "    }\n",
       "\n",
       "    .dataframe thead th {\n",
       "        text-align: right;\n",
       "    }\n",
       "</style>\n",
       "<table border=\"1\" class=\"dataframe\">\n",
       "  <thead>\n",
       "    <tr style=\"text-align: right;\">\n",
       "      <th></th>\n",
       "      <th>product</th>\n",
       "      <th>category</th>\n",
       "      <th>order_id</th>\n",
       "      <th>customer_id</th>\n",
       "      <th>quantity</th>\n",
       "      <th>revenue</th>\n",
       "    </tr>\n",
       "  </thead>\n",
       "  <tbody>\n",
       "    <tr>\n",
       "      <th>2165</th>\n",
       "      <td>чистящий крем для трудновыводимых пятен mama l...</td>\n",
       "      <td>быт.химия</td>\n",
       "      <td>1</td>\n",
       "      <td>1</td>\n",
       "      <td>1</td>\n",
       "      <td>187</td>\n",
       "    </tr>\n",
       "    <tr>\n",
       "      <th>1525</th>\n",
       "      <td>средство для удаления известкового налета с по...</td>\n",
       "      <td>быт.химия</td>\n",
       "      <td>1</td>\n",
       "      <td>1</td>\n",
       "      <td>1</td>\n",
       "      <td>97</td>\n",
       "    </tr>\n",
       "    <tr>\n",
       "      <th>1971</th>\n",
       "      <td>универсальное средство на основе хлора ддля чи...</td>\n",
       "      <td>быт.химия</td>\n",
       "      <td>1</td>\n",
       "      <td>1</td>\n",
       "      <td>1</td>\n",
       "      <td>82</td>\n",
       "    </tr>\n",
       "    <tr>\n",
       "      <th>1524</th>\n",
       "      <td>средство для мытья посуды vestar гранат 1000 м...</td>\n",
       "      <td>быт.химия</td>\n",
       "      <td>1</td>\n",
       "      <td>1</td>\n",
       "      <td>1</td>\n",
       "      <td>82</td>\n",
       "    </tr>\n",
       "    <tr>\n",
       "      <th>952</th>\n",
       "      <td>паста для полировки \"гои\" 25 гр</td>\n",
       "      <td>быт.химия</td>\n",
       "      <td>1</td>\n",
       "      <td>1</td>\n",
       "      <td>1</td>\n",
       "      <td>15</td>\n",
       "    </tr>\n",
       "  </tbody>\n",
       "</table>\n",
       "</div>"
      ],
      "text/plain": [
       "                                                product   category  order_id  \\\n",
       "2165  чистящий крем для трудновыводимых пятен mama l...  быт.химия         1   \n",
       "1525  средство для удаления известкового налета с по...  быт.химия         1   \n",
       "1971  универсальное средство на основе хлора ддля чи...  быт.химия         1   \n",
       "1524  средство для мытья посуды vestar гранат 1000 м...  быт.химия         1   \n",
       "952                     паста для полировки \"гои\" 25 гр  быт.химия         1   \n",
       "\n",
       "      customer_id  quantity  revenue  \n",
       "2165            1         1      187  \n",
       "1525            1         1       97  \n",
       "1971            1         1       82  \n",
       "1524            1         1       82  \n",
       "952             1         1       15  "
      ]
     },
     "metadata": {},
     "output_type": "display_data"
    },
    {
     "name": "stdout",
     "output_type": "stream",
     "text": [
      "\n"
     ]
    }
   ],
   "source": [
    "# топ-5 наименее прибыльных товаров в каждой категории\n",
    "for category in groupby_products_revenue['category'].unique():\n",
    "    print()\n",
    "    display(\"Топ-5 наименее прибыльных товаров: «{}»\".format(category))\n",
    "    display(groupby_products_revenue[groupby_products_revenue['category'] == category].tail(5))\n",
    "    print()"
   ]
  },
  {
   "cell_type": "markdown",
   "metadata": {},
   "source": [
    "Наименее прибыльны:\n",
    "* Растения - семена моркови, цинния, горох и львиный зев;\n",
    "* Хозтовары - ложка обувная, насадка для мытья окон, решетка вентиляционная, губка, крючок проволочный;\n",
    "* Интерьер - муляжи груши и граната, искусственные цветы;\n",
    "* Кухня - чайная ложка и вилка, мерный стакан, стаканы и сервировочная салфетка;\n",
    "* Техника - фен, миксер, кипятильник, соковыжималка, антинакипин;\n",
    "* Уход за собой - зубная паста, пена для ванн, жидкое мыло;\n",
    "* Быт.химия - чистящий крем, средства для удаления налета и мытья посуды, чистки, паста для полировки;\n",
    "* Инструменты - холодная сварка, сверло, термометр уличный.\n",
    "\n",
    "#### Топ-5 наименее продаваемых и прибыльных товаров по всем данным"
   ]
  },
  {
   "cell_type": "code",
   "execution_count": 42,
   "metadata": {},
   "outputs": [
    {
     "data": {
      "text/html": [
       "<div>\n",
       "<style scoped>\n",
       "    .dataframe tbody tr th:only-of-type {\n",
       "        vertical-align: middle;\n",
       "    }\n",
       "\n",
       "    .dataframe tbody tr th {\n",
       "        vertical-align: top;\n",
       "    }\n",
       "\n",
       "    .dataframe thead th {\n",
       "        text-align: right;\n",
       "    }\n",
       "</style>\n",
       "<table border=\"1\" class=\"dataframe\">\n",
       "  <thead>\n",
       "    <tr style=\"text-align: right;\">\n",
       "      <th></th>\n",
       "      <th>quantity</th>\n",
       "      <th>revenue</th>\n",
       "    </tr>\n",
       "    <tr>\n",
       "      <th>product</th>\n",
       "      <th></th>\n",
       "      <th></th>\n",
       "    </tr>\n",
       "  </thead>\n",
       "  <tbody>\n",
       "    <tr>\n",
       "      <th>пеларгония зональная диам. 12 см ярко розовая полумахровая</th>\n",
       "      <td>1</td>\n",
       "      <td>150</td>\n",
       "    </tr>\n",
       "    <tr>\n",
       "      <th>пеларгония душистая d-13 см</th>\n",
       "      <td>1</td>\n",
       "      <td>149</td>\n",
       "    </tr>\n",
       "    <tr>\n",
       "      <th>пеларгония d-13 см с топпером на день учителя в подарочной упаковке</th>\n",
       "      <td>1</td>\n",
       "      <td>277</td>\n",
       "    </tr>\n",
       "    <tr>\n",
       "      <th>пахира акватика мультистем d-17 см h-45 см</th>\n",
       "      <td>1</td>\n",
       "      <td>1087</td>\n",
       "    </tr>\n",
       "    <tr>\n",
       "      <th>ящик почтовый металлический с ушками для навесного замка домик 1205251</th>\n",
       "      <td>1</td>\n",
       "      <td>172</td>\n",
       "    </tr>\n",
       "  </tbody>\n",
       "</table>\n",
       "</div>"
      ],
      "text/plain": [
       "                                                    quantity  revenue\n",
       "product                                                              \n",
       "пеларгония зональная диам. 12 см ярко розовая п...         1      150\n",
       "пеларгония душистая d-13 см                                1      149\n",
       "пеларгония d-13 см с топпером на день учителя в...         1      277\n",
       "пахира акватика мультистем d-17 см h-45 см                 1     1087\n",
       "ящик почтовый металлический с ушками для навесн...         1      172"
      ]
     },
     "execution_count": 42,
     "metadata": {},
     "output_type": "execute_result"
    }
   ],
   "source": [
    "# топ-5 наименее продаваемых товаров по всем данным\n",
    "top_5_count = ecom_new.pivot_table(index = 'product', aggfunc = {'quantity':'sum', \n",
    "                                                                 'revenue':'sum'})\n",
    "top_5_count.sort_values(by = 'quantity', ascending = False).tail(5)"
   ]
  },
  {
   "cell_type": "markdown",
   "metadata": {},
   "source": [
    "Меньше всего продаются некоторые растения и почтовый ящик."
   ]
  },
  {
   "cell_type": "code",
   "execution_count": 43,
   "metadata": {},
   "outputs": [
    {
     "data": {
      "text/html": [
       "<div>\n",
       "<style scoped>\n",
       "    .dataframe tbody tr th:only-of-type {\n",
       "        vertical-align: middle;\n",
       "    }\n",
       "\n",
       "    .dataframe tbody tr th {\n",
       "        vertical-align: top;\n",
       "    }\n",
       "\n",
       "    .dataframe thead th {\n",
       "        text-align: right;\n",
       "    }\n",
       "</style>\n",
       "<table border=\"1\" class=\"dataframe\">\n",
       "  <thead>\n",
       "    <tr style=\"text-align: right;\">\n",
       "      <th></th>\n",
       "      <th>revenue</th>\n",
       "    </tr>\n",
       "    <tr>\n",
       "      <th>product</th>\n",
       "      <th></th>\n",
       "    </tr>\n",
       "  </thead>\n",
       "  <tbody>\n",
       "    <tr>\n",
       "      <th>морковь детская сладость 2 г 4660010775921</th>\n",
       "      <td>10</td>\n",
       "    </tr>\n",
       "    <tr>\n",
       "      <th>цинния коралловая красавица 0,2 г 4660010773323</th>\n",
       "      <td>10</td>\n",
       "    </tr>\n",
       "    <tr>\n",
       "      <th>цинния оранжевый король 0,5 г 4660010770520</th>\n",
       "      <td>10</td>\n",
       "    </tr>\n",
       "    <tr>\n",
       "      <th>горох амброзия 10,0 г 4660010772616</th>\n",
       "      <td>9</td>\n",
       "    </tr>\n",
       "    <tr>\n",
       "      <th>львиный зев волшебный ковер 0,05 г 4660010779639</th>\n",
       "      <td>9</td>\n",
       "    </tr>\n",
       "  </tbody>\n",
       "</table>\n",
       "</div>"
      ],
      "text/plain": [
       "                                                  revenue\n",
       "product                                                  \n",
       "морковь детская сладость 2 г 4660010775921             10\n",
       "цинния коралловая красавица 0,2 г 4660010773323        10\n",
       "цинния оранжевый король 0,5 г 4660010770520            10\n",
       "горох амброзия 10,0 г 4660010772616                     9\n",
       "львиный зев волшебный ковер 0,05 г 4660010779639        9"
      ]
     },
     "execution_count": 43,
     "metadata": {},
     "output_type": "execute_result"
    }
   ],
   "source": [
    "# топ-5 наименее прибыльных товаров по всем данным\n",
    "top_5_count = ecom_new.pivot_table(index = 'product', aggfunc = {'revenue':'sum'})\n",
    "top_5_count.sort_values(by = 'revenue', ascending = False).tail(5)"
   ]
  },
  {
   "cell_type": "markdown",
   "metadata": {},
   "source": [
    "Меньше всего денег приносят некоторые семена."
   ]
  },
  {
   "cell_type": "markdown",
   "metadata": {},
   "source": [
    "Продолжим анализ. Оценим продажи по временным отрезкам (часы, дни недели, сезон).\n",
    "\n",
    "### Оценка продаж и выручки во временном срезе"
   ]
  },
  {
   "cell_type": "markdown",
   "metadata": {},
   "source": [
    "Сначала посмотрим, в каком количестве продаются товары, затем определим, какие категории приносят больше всего денег.\n",
    "\n",
    "#### Оценка продаж во времени"
   ]
  },
  {
   "cell_type": "markdown",
   "metadata": {},
   "source": [
    "Оценим продажи целиком за весь период."
   ]
  },
  {
   "cell_type": "code",
   "execution_count": 44,
   "metadata": {},
   "outputs": [
    {
     "data": {
      "image/png": "[encoded data removed]",
      "text/plain": [
       "<Figure size 720x504 with 1 Axes>"
      ]
     },
     "metadata": {},
     "output_type": "display_data"
    }
   ],
   "source": [
    "# общие продажи за весь период\n",
    "plt.figure(figsize = (10,7)) \n",
    "ecom_new['date'].hist(bins = 30, grid = True)\n",
    "plt.title('Распределение продаж за весь период', fontsize = 15)\n",
    "plt.xlabel('Дата', fontsize = 15)\n",
    "plt.ylabel('Продажи', fontsize = 15)\n",
    "plt.show()"
   ]
  },
  {
   "cell_type": "markdown",
   "metadata": {},
   "source": [
    "Сезонность все же наблюдается. В осенне-зимний период покупают меньше, а весной-летом начинается время дачников и садоводов, во время отпуска многие делают ремонт.\n",
    "\n",
    "Оценим количество заказов по категориям.\n",
    "\n",
    "#### Продажи по категориям в зависимости от времени года и месяца"
   ]
  },
  {
   "cell_type": "code",
   "execution_count": 45,
   "metadata": {},
   "outputs": [
    {
     "data": {
      "image/png": "[encoded data removed]",
      "text/plain": [
       "<Figure size 1080x720 with 1 Axes>"
      ]
     },
     "metadata": {},
     "output_type": "display_data"
    }
   ],
   "source": [
    "# продажи по месяцам\n",
    "cat_sales_by_months = ecom_new.groupby(['month_name',\n",
    "                                       'category'])['order_id'].count().reset_index().sort_values(by = 'month_name')\n",
    "plt.figure(figsize = (15,10))\n",
    "sns.barplot(x = 'month_name', \n",
    "            y = 'order_id', \n",
    "            data = cat_sales_by_months, \n",
    "            hue = 'category', \n",
    "            dodge = True)\n",
    "plt.xlabel('Месяц')\n",
    "plt.title('Продажи по месяцам')\n",
    "plt.ylabel('Продажи')\n",
    "plt.show()"
   ]
  },
  {
   "cell_type": "code",
   "execution_count": 46,
   "metadata": {},
   "outputs": [
    {
     "data": {
      "image/png": "[encoded data removed]",
      "text/plain": [
       "<Figure size 1080x720 with 1 Axes>"
      ]
     },
     "metadata": {},
     "output_type": "display_data"
    }
   ],
   "source": [
    "# продажи по времени года\n",
    "cat_sales_by_seasons = ecom_new.groupby(['season',\n",
    "                                       'category'])['order_id'].count().reset_index()\n",
    "plt.figure(figsize = (15,10))\n",
    "sns.barplot(x = 'season', \n",
    "            y = 'order_id', \n",
    "            data = cat_sales_by_seasons, \n",
    "            hue = 'category', \n",
    "            dodge = True)\n",
    "plt.xlabel('Время года')\n",
    "plt.title('Продажи по временам года')\n",
    "plt.ylabel('Продажи')\n",
    "plt.show()"
   ]
  },
  {
   "cell_type": "markdown",
   "metadata": {},
   "source": [
    "Продажи в категориях растений и хозтоваров лидируют в любое время года. Растения больше всего продаются в весенне-летние месяцы (время садоводства). Также заметно большое количество продаж предметов интерьера в осенние месяцы. Товары для кухни больше продаются в осенне-зимние месяцы.\n",
    "\n",
    "#### Продажи по категориям в зависимости от времени суток"
   ]
  },
  {
   "cell_type": "code",
   "execution_count": 47,
   "metadata": {},
   "outputs": [
    {
     "data": {
      "image/png": "[encoded data removed]",
      "text/plain": [
       "<Figure size 720x576 with 2 Axes>"
      ]
     },
     "metadata": {},
     "output_type": "display_data"
    }
   ],
   "source": [
    "# сводная таблица по часам и категориям\n",
    "cat_sales_by_hours = ecom_new.pivot_table(index = 'hour',\n",
    "                                          columns = 'category',\n",
    "                                          values = 'order_id', \n",
    "                                          aggfunc = 'count')\n",
    "\n",
    "# тепловая карта\n",
    "sns.set(style = 'white')\n",
    "plt.figure(figsize = (10, 8))\n",
    "sns.heatmap(cat_sales_by_hours, \n",
    "            annot = True, \n",
    "            fmt = 'g', \n",
    "            linewidths = 1, \n",
    "            linecolor = 'gray', \n",
    "            vmin = 0, \n",
    "            vmax = 250)\n",
    "plt.xlabel('Продажи')\n",
    "plt.title('Продажи по времени суток')\n",
    "plt.ylabel('Время суток')\n",
    "plt.show()"
   ]
  },
  {
   "cell_type": "markdown",
   "metadata": {},
   "source": [
    "Основные продажи происходят примерно с 8 до 22 часов. По категориям растений, хозтоваров, интерьера и кухни есть небольшие продажи в период с полуночи до утра. Пик продаж приходится на 13-14 часов.\n",
    "\n",
    "#### Оценка выручки во времени"
   ]
  },
  {
   "cell_type": "code",
   "execution_count": 48,
   "metadata": {},
   "outputs": [],
   "source": [
    "# короткие названия месяцев\n",
    "ecom_new = ecom_new.replace({'month_name':{'October':'Oct',\n",
    "                                           'December':'Dec',\n",
    "                                           'November':'Nov',\n",
    "                                           'January':'Jan',\n",
    "                                           'August':'Aug',\n",
    "                                           'February':'Feb',\n",
    "                                           'September':'Sep'}})"
   ]
  },
  {
   "cell_type": "markdown",
   "metadata": {},
   "source": [
    "Оценим выручку по месяцам."
   ]
  },
  {
   "cell_type": "code",
   "execution_count": 49,
   "metadata": {},
   "outputs": [
    {
     "data": {
      "image/png": "[encoded data removed]",
      "text/plain": [
       "<Figure size 1152x576 with 1 Axes>"
      ]
     },
     "metadata": {},
     "output_type": "display_data"
    }
   ],
   "source": [
    "# выручка по месяцам\n",
    "sns.set(rc = {'figure.figsize':(16, 8)})\n",
    "sns.set_style('whitegrid')  \n",
    "sns.set_context('talk')\n",
    "sns.boxplot(x = 'month_name', \n",
    "            y = 'revenue', \n",
    "            data = ecom_new).set_ylim(-1, 4000)\n",
    "plt.title('Месячная выручка', fontsize = 15)\n",
    "plt.xlabel('Месяц', fontsize = 15)\n",
    "plt.ylabel('Выручка', fontsize = 15)\n",
    "plt.show()"
   ]
  },
  {
   "cell_type": "markdown",
   "metadata": {},
   "source": [
    "Здесь картина обратная продажам. Осенью-зимой приходит больше денег. Возможно, это связано с низкой стоимостью растений и рассады, которую покупают много, и более высокой стоимостью хозтоваров и предметов интерьера, которые стоят дороже, но покупаются в меньшем объеме.\n",
    "\n",
    "Оценим временной срез продаж по категориям."
   ]
  },
  {
   "cell_type": "markdown",
   "metadata": {},
   "source": [
    "#### Выручка по категориям в зависимости от времени года и месяца"
   ]
  },
  {
   "cell_type": "code",
   "execution_count": 50,
   "metadata": {},
   "outputs": [
    {
     "data": {
      "image/png": "[encoded data removed]",
      "text/plain": [
       "<Figure size 1080x720 with 1 Axes>"
      ]
     },
     "metadata": {},
     "output_type": "display_data"
    }
   ],
   "source": [
    "# выручка по месяцам\n",
    "cat_revenue_by_months = ecom_new.groupby(['month_name',\n",
    "                                       'category'])['revenue'].sum().reset_index().sort_values(by = 'month_name')\n",
    "plt.figure(figsize = (15,10))\n",
    "sns.barplot(x = 'month_name', \n",
    "            y = 'revenue', \n",
    "            data = cat_revenue_by_months, \n",
    "            hue = 'category', \n",
    "            dodge = True)\n",
    "plt.xlabel('Месяц')\n",
    "plt.title('Выручка по месяцам')\n",
    "plt.ylabel('Выручка')\n",
    "plt.show()"
   ]
  },
  {
   "cell_type": "code",
   "execution_count": 51,
   "metadata": {},
   "outputs": [
    {
     "data": {
      "image/png": "[encoded data removed]",
      "text/plain": [
       "<Figure size 1080x720 with 1 Axes>"
      ]
     },
     "metadata": {},
     "output_type": "display_data"
    }
   ],
   "source": [
    "# выручка по времени года\n",
    "cat_revenue_by_seasons = ecom_new.groupby(['season',\n",
    "                                       'category'])['revenue'].sum().reset_index()\n",
    "plt.figure(figsize = (15,10))\n",
    "sns.barplot(x = 'season', \n",
    "            y = 'revenue', \n",
    "            data = cat_revenue_by_seasons, \n",
    "            hue = 'category', \n",
    "            dodge = True)\n",
    "plt.xlabel('Время года')\n",
    "plt.title('Выручка по временам года')\n",
    "plt.ylabel('Выручка')\n",
    "plt.show()"
   ]
  },
  {
   "cell_type": "markdown",
   "metadata": {},
   "source": [
    "По выручке лидируют хозтовары и растения (наверное, в силу количества продаж), а также предметы интерьера (в силу своей цены). Растения приносят больше всего денег весной, хозтовары прибыльны осенью и чуть меньше зимой. Предметы интерьера выгоднее продаются осенью. Кухонные принадлежности лучше всего прибыльны в ноябре.\n",
    "\n",
    "#### Выручка по категориям в зависимости от времени суток"
   ]
  },
  {
   "cell_type": "code",
   "execution_count": 52,
   "metadata": {},
   "outputs": [
    {
     "data": {
      "image/png": "[encoded data removed]",
      "text/plain": [
       "<Figure size 720x576 with 2 Axes>"
      ]
     },
     "metadata": {},
     "output_type": "display_data"
    }
   ],
   "source": [
    "# сводная таблица по часам и категориям\n",
    "cat_revenue_by_hours = ecom_new.pivot_table(index = 'hour',\n",
    "                                            columns = 'category',\n",
    "                                            values = 'revenue', \n",
    "                                            aggfunc = 'sum')\n",
    "\n",
    "# тепловая карта\n",
    "sns.set(style = 'white')\n",
    "plt.figure(figsize = (10, 8))\n",
    "sns.heatmap(cat_revenue_by_hours, \n",
    "            annot = True, \n",
    "            fmt = 'g', \n",
    "            linewidths = 1, \n",
    "            linecolor = 'gray', \n",
    "            vmin = 0, \n",
    "            vmax = 150000)\n",
    "plt.xlabel('Продажи')\n",
    "plt.title('Выручка по времени суток')\n",
    "plt.ylabel('Время суток')\n",
    "plt.show()"
   ]
  },
  {
   "cell_type": "markdown",
   "metadata": {},
   "source": [
    "Основная масса денег приходит с 7-8 до 22 часов. Пик прибыльности приходится на 11-12 часов.\n",
    "\n",
    "Осталось выделить основной и дополнительный ассортимент магазина. Посмотрим, какие категории встречаются в чеках совместно с другими и отдельно."
   ]
  },
  {
   "cell_type": "code",
   "execution_count": 53,
   "metadata": {},
   "outputs": [
    {
     "data": {
      "text/html": [
       "<div>\n",
       "<style scoped>\n",
       "    .dataframe tbody tr th:only-of-type {\n",
       "        vertical-align: middle;\n",
       "    }\n",
       "\n",
       "    .dataframe tbody tr th {\n",
       "        vertical-align: top;\n",
       "    }\n",
       "\n",
       "    .dataframe thead th {\n",
       "        text-align: right;\n",
       "    }\n",
       "</style>\n",
       "<table border=\"1\" class=\"dataframe\">\n",
       "  <thead>\n",
       "    <tr style=\"text-align: right;\">\n",
       "      <th></th>\n",
       "      <th>order_id</th>\n",
       "      <th>category</th>\n",
       "    </tr>\n",
       "  </thead>\n",
       "  <tbody>\n",
       "    <tr>\n",
       "      <th>650</th>\n",
       "      <td>69090</td>\n",
       "      <td>5</td>\n",
       "    </tr>\n",
       "    <tr>\n",
       "      <th>696</th>\n",
       "      <td>69177</td>\n",
       "      <td>3</td>\n",
       "    </tr>\n",
       "    <tr>\n",
       "      <th>412</th>\n",
       "      <td>68642</td>\n",
       "      <td>3</td>\n",
       "    </tr>\n",
       "    <tr>\n",
       "      <th>435</th>\n",
       "      <td>68682</td>\n",
       "      <td>3</td>\n",
       "    </tr>\n",
       "    <tr>\n",
       "      <th>337</th>\n",
       "      <td>68521</td>\n",
       "      <td>3</td>\n",
       "    </tr>\n",
       "    <tr>\n",
       "      <th>...</th>\n",
       "      <td>...</td>\n",
       "      <td>...</td>\n",
       "    </tr>\n",
       "    <tr>\n",
       "      <th>913</th>\n",
       "      <td>69661</td>\n",
       "      <td>1</td>\n",
       "    </tr>\n",
       "    <tr>\n",
       "      <th>914</th>\n",
       "      <td>69663</td>\n",
       "      <td>1</td>\n",
       "    </tr>\n",
       "    <tr>\n",
       "      <th>915</th>\n",
       "      <td>69665</td>\n",
       "      <td>1</td>\n",
       "    </tr>\n",
       "    <tr>\n",
       "      <th>916</th>\n",
       "      <td>69667</td>\n",
       "      <td>1</td>\n",
       "    </tr>\n",
       "    <tr>\n",
       "      <th>2656</th>\n",
       "      <td>73164</td>\n",
       "      <td>1</td>\n",
       "    </tr>\n",
       "  </tbody>\n",
       "</table>\n",
       "<p>2657 rows × 2 columns</p>\n",
       "</div>"
      ],
      "text/plain": [
       "      order_id  category\n",
       "650      69090         5\n",
       "696      69177         3\n",
       "412      68642         3\n",
       "435      68682         3\n",
       "337      68521         3\n",
       "...        ...       ...\n",
       "913      69661         1\n",
       "914      69663         1\n",
       "915      69665         1\n",
       "916      69667         1\n",
       "2656     73164         1\n",
       "\n",
       "[2657 rows x 2 columns]"
      ]
     },
     "execution_count": 53,
     "metadata": {},
     "output_type": "execute_result"
    }
   ],
   "source": [
    "# количество категорий в чеке\n",
    "cat_by_receipt = ecom_new.groupby(['order_id'], as_index = False).agg({'category':pd.Series.nunique})\n",
    "cat_by_receipt.sort_values(by = 'category', ascending = False)"
   ]
  },
  {
   "cell_type": "markdown",
   "metadata": {},
   "source": [
    "Выберем заказы с несколькими категориями и посмотрим, как они между собой сочетаются."
   ]
  },
  {
   "cell_type": "code",
   "execution_count": 54,
   "metadata": {},
   "outputs": [
    {
     "data": {
      "text/plain": [
       "растения, хозтовары                                14\n",
       "интерьер, хозтовары                                11\n",
       "кухня, хозтовары                                   2 \n",
       "интерьер, растения                                 2 \n",
       "интерьер, кухня, хозтовары                         2 \n",
       "быт.химия, интерьер, хозтовары                     2 \n",
       "интерьер, кухня                                    1 \n",
       "кухня, растения, хозтовары                         1 \n",
       "интерьер, кухня, уход за собой                     1 \n",
       "быт.химия, растения, хозтовары                     1 \n",
       "техника, хозтовары                                 1 \n",
       "быт.химия, интерьер, кухня, растения, хозтовары    1 \n",
       "интерьер, растения, уход за собой                  1 \n",
       "инструменты, кухня, хозтовары                      1 \n",
       "интерьер, растения, хозтовары                      1 \n",
       "интерьер, кухня, техника                           1 \n",
       "кухня, растения                                    1 \n",
       "Name: category, dtype: int64"
      ]
     },
     "execution_count": 54,
     "metadata": {},
     "output_type": "execute_result"
    }
   ],
   "source": [
    "# заказы с несколькими категориями\n",
    "more_than_one_cat = cat_by_receipt[cat_by_receipt['category'] > 1]\n",
    "cat_combinations = ecom_new.loc[ecom_new['order_id'].isin(more_than_one_cat['order_id'])]\n",
    "cat_combinations_table = cat_combinations.pivot_table(index = ['order_id', 'category'], \n",
    "                                                      values = 'quantity', \n",
    "                                                      aggfunc = 'count').reset_index()\n",
    "# объединение категорий\n",
    "def unite_areas(series):\n",
    "    return reduce(lambda x, y: x + ', ' + y, series)\n",
    "pd.set_option('display.max_colwidth', -1)\n",
    "cat_together = cat_combinations_table.groupby('order_id', as_index = False).agg({'category': unite_areas})\n",
    "\n",
    "# сочетания категорий\n",
    "cat_together['category'].value_counts()"
   ]
  },
  {
   "cell_type": "markdown",
   "metadata": {},
   "source": [
    "Хозтовары часто берут с другими категориями, особенно с растениями и интерьером. Кухня редко встречается в связке с другими категориями, как и бытовая химия с товарами для ухода за собой. Сочетания с техникой встречаются лишь два раза.\n",
    "\n",
    "Теперь нужно посмотреть, как часто заказы только с одной категорией встречаются среди всех заказов в категории, чтобы определить их \"самостоятельность\"."
   ]
  },
  {
   "cell_type": "code",
   "execution_count": 55,
   "metadata": {},
   "outputs": [
    {
     "data": {
      "text/html": [
       "<div>\n",
       "<style scoped>\n",
       "    .dataframe tbody tr th:only-of-type {\n",
       "        vertical-align: middle;\n",
       "    }\n",
       "\n",
       "    .dataframe tbody tr th {\n",
       "        vertical-align: top;\n",
       "    }\n",
       "\n",
       "    .dataframe thead th {\n",
       "        text-align: right;\n",
       "    }\n",
       "</style>\n",
       "<table border=\"1\" class=\"dataframe\">\n",
       "  <thead>\n",
       "    <tr style=\"text-align: right;\">\n",
       "      <th></th>\n",
       "      <th>category</th>\n",
       "      <th>order_id</th>\n",
       "      <th>product</th>\n",
       "      <th>part</th>\n",
       "    </tr>\n",
       "  </thead>\n",
       "  <tbody>\n",
       "    <tr>\n",
       "      <th>1</th>\n",
       "      <td>хозтовары</td>\n",
       "      <td>1178</td>\n",
       "      <td>1244</td>\n",
       "      <td>0.946945</td>\n",
       "    </tr>\n",
       "    <tr>\n",
       "      <th>2</th>\n",
       "      <td>интерьер</td>\n",
       "      <td>597</td>\n",
       "      <td>643</td>\n",
       "      <td>0.928460</td>\n",
       "    </tr>\n",
       "    <tr>\n",
       "      <th>4</th>\n",
       "      <td>техника</td>\n",
       "      <td>20</td>\n",
       "      <td>22</td>\n",
       "      <td>0.909091</td>\n",
       "    </tr>\n",
       "    <tr>\n",
       "      <th>3</th>\n",
       "      <td>кухня</td>\n",
       "      <td>274</td>\n",
       "      <td>302</td>\n",
       "      <td>0.907285</td>\n",
       "    </tr>\n",
       "    <tr>\n",
       "      <th>0</th>\n",
       "      <td>растения</td>\n",
       "      <td>2231</td>\n",
       "      <td>2461</td>\n",
       "      <td>0.906542</td>\n",
       "    </tr>\n",
       "    <tr>\n",
       "      <th>5</th>\n",
       "      <td>инструменты</td>\n",
       "      <td>15</td>\n",
       "      <td>17</td>\n",
       "      <td>0.882353</td>\n",
       "    </tr>\n",
       "    <tr>\n",
       "      <th>7</th>\n",
       "      <td>уход за собой</td>\n",
       "      <td>14</td>\n",
       "      <td>19</td>\n",
       "      <td>0.736842</td>\n",
       "    </tr>\n",
       "    <tr>\n",
       "      <th>6</th>\n",
       "      <td>быт.химия</td>\n",
       "      <td>14</td>\n",
       "      <td>21</td>\n",
       "      <td>0.666667</td>\n",
       "    </tr>\n",
       "  </tbody>\n",
       "</table>\n",
       "</div>"
      ],
      "text/plain": [
       "        category  order_id  product      part\n",
       "1  хозтовары      1178      1244     0.946945\n",
       "2  интерьер       597       643      0.928460\n",
       "4  техника        20        22       0.909091\n",
       "3  кухня          274       302      0.907285\n",
       "0  растения       2231      2461     0.906542\n",
       "5  инструменты    15        17       0.882353\n",
       "7  уход за собой  14        19       0.736842\n",
       "6  быт.химия      14        21       0.666667"
      ]
     },
     "execution_count": 55,
     "metadata": {},
     "output_type": "execute_result"
    }
   ],
   "source": [
    "# фильтрация заказов с одной категорией\n",
    "one_cat = cat_by_receipt[cat_by_receipt['category'] == 1]\n",
    "orders_with_one_cat = ecom_new.loc[ecom_new['order_id'].isin(one_cat['order_id'])]\n",
    "\n",
    "orders_with_one_cat_count = orders_with_one_cat.groupby('category', as_index = False).\\\n",
    "                            agg({'order_id':'count'}).sort_values(by = 'order_id', ascending = False)\n",
    "merged_table_cat = orders_with_one_cat_count.merge(categories_size[['category', 'product']], \n",
    "                                                   how = 'left', \n",
    "                                                   on ='category')\n",
    "# доля заказов с одной категорией\n",
    "merged_table_cat['part'] = merged_table_cat['order_id']/merged_table_cat['product']\n",
    "merged_table_cat.sort_values(by = 'part', ascending = False)"
   ]
  },
  {
   "cell_type": "markdown",
   "metadata": {},
   "source": [
    "Предположительно, чем выше доля заказов с одной категорией, тем чаще покупатель приходит в магазин именно за ней, и тем больше ее можно считать основной среди всего ассортимента. То есть, основными категориями в магазине являются хозтовары и предметы интерьера. Затем примерно на одном уровне идут техника, кухонные товары и растения (комнатные, рассада и семена). Инструменты, товары по уходу за собой и бытовую химию покупают чаще в связке с другими товарами."
   ]
  },
  {
   "cell_type": "markdown",
   "metadata": {},
   "source": [
    "## Шаг 3. Проверка статистических гипотез\n",
    "\n",
    "### Гипотеза о равенстве средних чеков основных и дополнительных категорий"
   ]
  },
  {
   "cell_type": "markdown",
   "metadata": {},
   "source": [
    "На данных о заказах с одной категорией проверим, приносят ли основные и дополнительные категории товаров разную выручку. Если так и есть, то действительно можно выделять основной и дополнительный ассортимент. Сравним, например, средние чеки в таких парах категорий: хозтовары (основная) и инструменты (дополнительная), хозтовары (основная) и растения (смежная), интерьер (основная) и инструменты (дополнительная). Также попробуем сравнить инструменты (дополнительная) и растения (смежная)."
   ]
  },
  {
   "cell_type": "code",
   "execution_count": 56,
   "metadata": {},
   "outputs": [],
   "source": [
    "# независимые выборки\n",
    "cat_interior = orders_with_one_cat[orders_with_one_cat['category'] == 'интерьер'].\\\n",
    "                                                groupby('order_id', as_index = False).agg({'revenue':'sum'})\n",
    "cat_interior = cat_interior['revenue']\n",
    "\n",
    "cat_household = orders_with_one_cat[orders_with_one_cat['category'] == 'хозтовары'].\\\n",
    "                                                groupby('order_id', as_index = False).agg({'revenue':'sum'})\n",
    "cat_household = cat_household['revenue']\n",
    "\n",
    "cat_plants = orders_with_one_cat[orders_with_one_cat['category'] == 'растения'].\\\n",
    "                                                groupby('order_id', as_index = False).agg({'revenue':'sum'})\n",
    "cat_plants = cat_plants['revenue']\n",
    "\n",
    "cat_instruments = orders_with_one_cat[orders_with_one_cat['category'] == 'инструменты'].\\\n",
    "                                                groupby('order_id', as_index = False).agg({'revenue':'sum'})\n",
    "cat_instruments = cat_instruments['revenue']"
   ]
  },
  {
   "cell_type": "markdown",
   "metadata": {},
   "source": [
    "Для четырех проверок применяем поправку Бонферрони."
   ]
  },
  {
   "cell_type": "code",
   "execution_count": 57,
   "metadata": {},
   "outputs": [],
   "source": [
    "# критический уровень статистической значимости\n",
    "alpha_1 = 0.05/4"
   ]
  },
  {
   "cell_type": "markdown",
   "metadata": {},
   "source": [
    "Сравниваем чеки хозтоваров и инструментов.\n",
    "\n",
    "* Н0: средний чек категорий хозтоваров и инструментов не отличается;\n",
    "* Н1: средний чек категорий хозтоваров и инструментов отличается."
   ]
  },
  {
   "cell_type": "code",
   "execution_count": 58,
   "metadata": {},
   "outputs": [
    {
     "name": "stdout",
     "output_type": "stream",
     "text": [
      "p-значение: 0.011679202206604185\n",
      "Отвергаем нулевую гипотезу\n"
     ]
    }
   ],
   "source": [
    "# хозтовары и инструменты\n",
    "results = stats.mannwhitneyu(cat_household, cat_instruments) \n",
    "\n",
    "print('p-значение:', results.pvalue)\n",
    "\n",
    "if (results.pvalue < alpha_1):\n",
    "    print(\"Отвергаем нулевую гипотезу\")\n",
    "else:\n",
    "    print(\"Не получилось отвергнуть нулевую гипотезу\")"
   ]
  },
  {
   "cell_type": "markdown",
   "metadata": {},
   "source": [
    "Можно сделать вывод о различии средних чеков в паре категорий хозтовары (основная) и инструменты (дополнительная).\n",
    "\n",
    "Сравниваем чеки хозтоваров и растений.\n",
    "\n",
    "* Н0: средний чек категорий хозтоваров и растений не отличается;\n",
    "* Н1: средний чек категорий хозтоваров и растений отличается."
   ]
  },
  {
   "cell_type": "code",
   "execution_count": 59,
   "metadata": {},
   "outputs": [
    {
     "name": "stdout",
     "output_type": "stream",
     "text": [
      "p-значение: 8.742891263074643e-58\n",
      "Отвергаем нулевую гипотезу\n"
     ]
    }
   ],
   "source": [
    "# хозтовары и растения\n",
    "results = stats.mannwhitneyu(cat_household, cat_plants) \n",
    "\n",
    "print('p-значение:', results.pvalue)\n",
    "\n",
    "if (results.pvalue < alpha_1):\n",
    "    print(\"Отвергаем нулевую гипотезу\")\n",
    "else:\n",
    "    print(\"Не получилось отвергнуть нулевую гипотезу\")"
   ]
  },
  {
   "cell_type": "markdown",
   "metadata": {},
   "source": [
    "Можно сделать вывод о различии средних чеков в паре категорий хозтовары (основная) и растения (смежная).\n",
    "\n",
    "Сравниваем чеки интерьера и инструментов.\n",
    "\n",
    "* Н0: средний чек категорий интерьера и инструментов не отличается;\n",
    "* Н1: средний чек категорий интерьера и инструментов отличается."
   ]
  },
  {
   "cell_type": "code",
   "execution_count": 60,
   "metadata": {},
   "outputs": [
    {
     "name": "stdout",
     "output_type": "stream",
     "text": [
      "p-значение: 0.24959468422332654\n",
      "Не получилось отвергнуть нулевую гипотезу\n"
     ]
    }
   ],
   "source": [
    "# интерьер и инструменты\n",
    "results = stats.mannwhitneyu(cat_interior, cat_instruments) \n",
    "\n",
    "print('p-значение:', results.pvalue)\n",
    "\n",
    "if (results.pvalue < alpha_1):\n",
    "    print(\"Отвергаем нулевую гипотезу\")\n",
    "else:\n",
    "    print(\"Не получилось отвергнуть нулевую гипотезу\")"
   ]
  },
  {
   "cell_type": "markdown",
   "metadata": {},
   "source": [
    "Нельзя сделать вывод о различии средних чеков в паре категорий интерьер (основная) и инструменты (дополнительная).\n",
    "\n",
    "Сравниваем чеки растений и инструментов.\n",
    "\n",
    "* Н0: средний чек категорий растений и инструментов не отличается;\n",
    "* Н1: средний чек категорий растений и инструментов отличается."
   ]
  },
  {
   "cell_type": "code",
   "execution_count": 61,
   "metadata": {
    "scrolled": true
   },
   "outputs": [
    {
     "name": "stdout",
     "output_type": "stream",
     "text": [
      "p-значение: 0.8737587183073499\n",
      "Не получилось отвергнуть нулевую гипотезу\n"
     ]
    }
   ],
   "source": [
    "# растения и инструменты\n",
    "results = stats.mannwhitneyu(cat_plants, cat_instruments) \n",
    "\n",
    "print('p-значение:', results.pvalue)\n",
    "\n",
    "if (results.pvalue < alpha_1):\n",
    "    print(\"Отвергаем нулевую гипотезу\")\n",
    "else:\n",
    "    print(\"Не получилось отвергнуть нулевую гипотезу\")"
   ]
  },
  {
   "cell_type": "markdown",
   "metadata": {},
   "source": [
    "Выходит, хозтовары отличаются по выручке от растений и инструментов, которые не отличаются по чеку. Инструменты также не отличаются по выручке от предметов интерьера, которые идут сразу за хозтоварами. Учитывая, что в хозтоварах примерно в два раза больше заказов, я бы определила их как основной ассортимент товаров, а соседнюю категорию интерьера и все остальные как дополнительный ассортимент, включая растения, которые больше всего продаются, но не сравнимы с хозтоварами по среднему чеку."
   ]
  },
  {
   "cell_type": "markdown",
   "metadata": {},
   "source": [
    "### Гипотеза о равенстве средних чеков в разное время года"
   ]
  },
  {
   "cell_type": "markdown",
   "metadata": {},
   "source": [
    "Важно также установить сезонность для магазина. Может быть, в какое-то время года выручка больше всего."
   ]
  },
  {
   "cell_type": "code",
   "execution_count": 62,
   "metadata": {},
   "outputs": [],
   "source": [
    "# независимые выборки\n",
    "winter = ecom_new[ecom_new['season'] == 'Зима'].\\\n",
    "                            groupby('order_id', as_index = False).agg({'revenue':'sum'})\n",
    "winter = winter['revenue']\n",
    "\n",
    "summer = ecom_new[ecom_new['season'] == 'Лето'].\\\n",
    "                            groupby('order_id', as_index = False).agg({'revenue':'sum'})\n",
    "summer = summer['revenue']\n",
    "\n",
    "spring = ecom_new[ecom_new['season'] == 'Весна'].\\\n",
    "                            groupby('order_id', as_index = False).agg({'revenue':'sum'})\n",
    "spring = spring['revenue']\n",
    "\n",
    "autumn = ecom_new[ecom_new['season'] == 'Осень'].\\\n",
    "                            groupby('order_id', as_index = False).agg({'revenue':'sum'})\n",
    "autumn = autumn['revenue']"
   ]
  },
  {
   "cell_type": "markdown",
   "metadata": {},
   "source": [
    "Применяем поправку Бонферрони."
   ]
  },
  {
   "cell_type": "code",
   "execution_count": 63,
   "metadata": {},
   "outputs": [],
   "source": [
    "# критический уровень статистической значимости\n",
    "alpha_2 = 0.05/6"
   ]
  },
  {
   "cell_type": "markdown",
   "metadata": {},
   "source": [
    "Сравниваем чеки зимой и весной.\n",
    "\n",
    "* Н0: средний чек зимой и весной не отличается;\n",
    "* Н1: средний чек зимой и весной отличается."
   ]
  },
  {
   "cell_type": "code",
   "execution_count": 64,
   "metadata": {},
   "outputs": [
    {
     "name": "stdout",
     "output_type": "stream",
     "text": [
      "p-значение: 0.7609116369062963\n",
      "Не получилось отвергнуть нулевую гипотезу\n"
     ]
    }
   ],
   "source": [
    "# зима и весна\n",
    "results = stats.mannwhitneyu(winter, spring) \n",
    "\n",
    "print('p-значение:', results.pvalue)\n",
    "\n",
    "if (results.pvalue < alpha_2):\n",
    "    print(\"Отвергаем нулевую гипотезу\")\n",
    "else:\n",
    "    print(\"Не получилось отвергнуть нулевую гипотезу\")"
   ]
  },
  {
   "cell_type": "markdown",
   "metadata": {},
   "source": [
    "Нельзя сделать вывод о различии средних чеков зимой и весной.\n",
    "\n",
    "Сравниваем чеки зимой и летом.\n",
    "\n",
    "* Н0: средний чек зимой и летом не отличается;\n",
    "* Н1: средний чек зимой и летом отличается."
   ]
  },
  {
   "cell_type": "code",
   "execution_count": 65,
   "metadata": {},
   "outputs": [
    {
     "name": "stdout",
     "output_type": "stream",
     "text": [
      "p-значение: 0.4601126581146975\n",
      "Не получилось отвергнуть нулевую гипотезу\n"
     ]
    }
   ],
   "source": [
    "# зима и лето\n",
    "results = stats.mannwhitneyu(winter, summer) \n",
    "\n",
    "print('p-значение:', results.pvalue)\n",
    "\n",
    "if (results.pvalue < alpha_2):\n",
    "    print(\"Отвергаем нулевую гипотезу\")\n",
    "else:\n",
    "    print(\"Не получилось отвергнуть нулевую гипотезу\")"
   ]
  },
  {
   "cell_type": "markdown",
   "metadata": {},
   "source": [
    "Нельзя сделать вывод о различии средних чеков зимой и летом.\n",
    "\n",
    "Сравниваем чеки зимой и осенью.\n",
    "\n",
    "* Н0: средний чек зимой и осенью не отличается;\n",
    "* Н1: средний чек зимой и осенью отличается."
   ]
  },
  {
   "cell_type": "code",
   "execution_count": 66,
   "metadata": {},
   "outputs": [
    {
     "name": "stdout",
     "output_type": "stream",
     "text": [
      "p-значение: 0.014860025530122771\n",
      "Не получилось отвергнуть нулевую гипотезу\n"
     ]
    }
   ],
   "source": [
    "# зима и осень\n",
    "results = stats.mannwhitneyu(winter, autumn) \n",
    "\n",
    "print('p-значение:', results.pvalue)\n",
    "\n",
    "if (results.pvalue < alpha_2):\n",
    "    print(\"Отвергаем нулевую гипотезу\")\n",
    "else:\n",
    "    print(\"Не получилось отвергнуть нулевую гипотезу\")"
   ]
  },
  {
   "cell_type": "markdown",
   "metadata": {},
   "source": [
    "Нельзя сделать вывод о различии средних чеков зимой и осенью.\n",
    "\n",
    "Сравниваем чеки весной и летом.\n",
    "\n",
    "* Н0: средний чек весной и летом не отличается;\n",
    "* Н1: средний чек весной и летом отличается."
   ]
  },
  {
   "cell_type": "code",
   "execution_count": 67,
   "metadata": {},
   "outputs": [
    {
     "name": "stdout",
     "output_type": "stream",
     "text": [
      "p-значение: 0.30345391862284454\n",
      "Не получилось отвергнуть нулевую гипотезу\n"
     ]
    }
   ],
   "source": [
    "# весна и лето\n",
    "results = stats.mannwhitneyu(summer, spring) \n",
    "\n",
    "print('p-значение:', results.pvalue)\n",
    "\n",
    "if (results.pvalue < alpha_2):\n",
    "    print(\"Отвергаем нулевую гипотезу\")\n",
    "else:\n",
    "    print(\"Не получилось отвергнуть нулевую гипотезу\")"
   ]
  },
  {
   "cell_type": "markdown",
   "metadata": {},
   "source": [
    "Нельзя сделать вывод о различии средних чеков весной и летом.\n",
    "\n",
    "Сравниваем чеки весной и осенью.\n",
    "\n",
    "* Н0: средний чек весной и осенью не отличается;\n",
    "* Н1: средний чек весной и осенью отличается."
   ]
  },
  {
   "cell_type": "code",
   "execution_count": 68,
   "metadata": {},
   "outputs": [
    {
     "name": "stdout",
     "output_type": "stream",
     "text": [
      "p-значение: 0.03376331592318978\n",
      "Не получилось отвергнуть нулевую гипотезу\n"
     ]
    }
   ],
   "source": [
    "# весна и осень\n",
    "results = stats.mannwhitneyu(autumn, spring) \n",
    "\n",
    "print('p-значение:', results.pvalue)\n",
    "\n",
    "if (results.pvalue < alpha_2):\n",
    "    print(\"Отвергаем нулевую гипотезу\")\n",
    "else:\n",
    "    print(\"Не получилось отвергнуть нулевую гипотезу\")"
   ]
  },
  {
   "cell_type": "markdown",
   "metadata": {},
   "source": [
    "Нельзя сделать вывод о различии средних чеков весной и осенью.\n",
    "\n",
    "Сравниваем чеки летом и осенью.\n",
    "\n",
    "* Н0: средний чек летом и осенью не отличается;\n",
    "* Н1: средний чек летом и осенью отличается."
   ]
  },
  {
   "cell_type": "code",
   "execution_count": 69,
   "metadata": {},
   "outputs": [
    {
     "name": "stdout",
     "output_type": "stream",
     "text": [
      "p-значение: 0.002217953768177396\n",
      "Отвергаем нулевую гипотезу\n"
     ]
    }
   ],
   "source": [
    "# лето и осень\n",
    "results = stats.mannwhitneyu(autumn, summer) \n",
    "\n",
    "print('p-значение:', results.pvalue)\n",
    "\n",
    "if (results.pvalue < alpha_2):\n",
    "    print(\"Отвергаем нулевую гипотезу\")\n",
    "else:\n",
    "    print(\"Не получилось отвергнуть нулевую гипотезу\")"
   ]
  },
  {
   "cell_type": "markdown",
   "metadata": {},
   "source": [
    "Можно сделать вывод о различии средних чеков летом и осенью. И это единственное различие в выручке по временам года."
   ]
  },
  {
   "cell_type": "code",
   "execution_count": 70,
   "metadata": {},
   "outputs": [
    {
     "name": "stdout",
     "output_type": "stream",
     "text": [
      "Относительная разница между средними чеками летом и осенью: 0.885\n"
     ]
    }
   ],
   "source": [
    " print('Относительная разница между средними чеками летом и осенью: {0:.3f}'.format(summer.mean()/autumn.mean()))"
   ]
  },
  {
   "cell_type": "markdown",
   "metadata": {},
   "source": [
    "Выходит, осенью средний чек больше, чем летом. Интернет-магазину можно порекомендовать проводить активную рекламную кампанию в осенние месяцы, чтобы больше людей узнавало про него и больше покупало, а в остальное время проводить регулярные акции и делать скидки, чтобы поднять продажи и от этого выручку."
   ]
  },
  {
   "cell_type": "markdown",
   "metadata": {},
   "source": [
    "## Выводы и рекомендации\n",
    "\n",
    "### Общие итоги по проекту"
   ]
  },
  {
   "cell_type": "markdown",
   "metadata": {},
   "source": [
    "Больше всего товаров в магазине составляют растения и рассада (более половины), а также товары для хозяйства (24%).\n",
    "\n",
    "Самые продаваемые товары:\n",
    "* Растения - пеларгонии;\n",
    "* Хозтовары - сумка-тележка, багажные тележки и сушилки для белья;\n",
    "* Интерьер - муляжи;\n",
    "* Кухня - кувшин, измельчитель овощей, столовый нож и ложка, термокружка;\n",
    "* Техника - овощеварка, весы, соковарки и соковыжималка;\n",
    "* Уход за собой - зубная паста, дозатор для мыла, увлажняющая маска, халат, жидкое мыло;\n",
    "* Быт.химия - средства для мытья полов, для удаления налета и против засоров, бензин для зажигалок и чистящий крем;\n",
    "* Инструменты - холодная сварка, уличный термометр и сверла.\n",
    "\n",
    "Самые прибыльные товары:\n",
    "* Растения - спатифиллум, пеларгонии и эвкалипт;\n",
    "* Хозтовары - сумки-тележки, багажная тележка, веник и уличная урна;\n",
    "* Интерьер - простынь, вешалки, муляжи и придверный коврик;\n",
    "* Кухня - набор ножей, салфетка, стеклянная банка, тарелка и кружка;\n",
    "* Техника - весы, соковарка, мантоварка и электроштопор;\n",
    "* Уход за собой - зубная паста, халаты и дозаторы для мыла;\n",
    "* Быт.химия - ополаскиватель для посудомоечных машин, гель для стирки, концентрат для мытья посуды, средство для мытья пола и отбеливатель;\n",
    "* Инструменты - набор инструментов, весы, напильники, штангенциркуль и измерительный угольник.\n",
    "\n",
    "Больше всего люди купили муляжей, вешалок, ручек-скоб и крепежей для дверной пружины. Больше всего денег принесли простыни, вешалки, сумки-тележки и багажные тележки, муляжи яблок.\n",
    "\n",
    "Меньше всего продаются:\n",
    "* Растения - мята, мускари, муррайя;\n",
    "* Хозтовары - наборы для уборки и пикника, мусорные контейнеры и почтовые ящики;\n",
    "* Интерьер - наборы вешалок;\n",
    "* Кухня - наборы посуды, ножей, салфеток, кружек;\n",
    "* Техника - миксеры, мантоварки;\n",
    "* Уход за собой - халат и мыло разного рода;\n",
    "* Быт.химия - бальзам для мытья посуды, гель для стирки, паста для полировки, отбеливатель и ополаскиватель для посудомойки;\n",
    "* Инструменты - весы, линейка, сверла, напильники и набор инструментов.\n",
    "\n",
    "Наименее прибыльны:\n",
    "* Растения - семена моркови, цинния, горох и львиный зев;\n",
    "* Хозтовары - ложка обувная, насадка для мытья окон, решетка вентиляционная, губка, крючок проволочный;\n",
    "* Интерьер - муляжи груши и граната, искусственные цветы;\n",
    "* Кухня - чайная ложка и вилка, мерный стакан, стаканы и сервировочная салфетка;\n",
    "* Техника - фен, миксер, кипятильник, соковыжималка, антинакипин;\n",
    "* Уход за собой - зубная паста, пена для ванн, жидкое мыло;\n",
    "* Быт.химия - чистящий крем, средства для удаления налета и мытья посуды, чистки, паста для полировки;\n",
    "* Инструменты - холодная сварка, сверло, термометр уличный.\n",
    "\n",
    "Меньше всего продаются некоторые растения и почтовый ящик. Меньше всего денег приносят некоторые семена.\n",
    "\n",
    "Наблюдается небольшая сезонность в продажах. В осенне-зимний период покупают меньше, а весной-летом начинается время дачников и садоводов, во время отпуска многие делают ремонт.\n",
    "\n",
    "Продажи в категориях растений и хозтоваров лидируют в любое время года. Растения больше всего продаются в весенне-летние месяцы (время садоводства). Также заметно большое количество продаж предметов интерьера в осенние месяцы. Товары для кухни больше продаются в осенне-зимние месяцы.\n",
    "\n",
    "Основные продажи происходят примерно с 8 до 22 часов. По категориям растений, хозтоваров, интерьера и кухни есть небольшие продажи в период с полуночи до утра. Пик продаж приходится на 13-14 часов.\n",
    "\n",
    "Осенью-зимой приходит больше денег. Возможно, это связано с низкой стоимостью растений и рассады, которую покупают много, и более высокой стоимостью хозтоваров и предметов интерьера, которые стоят дороже, но покупаются в меньшем объеме.\n",
    "\n",
    "По выручке лидируют хозтовары и растения (наверное, в силу количества продаж), а также предметы интерьера (в силу своей цены). Растения приносят больше всего денег весной, хозтовары прибыльны осенью и чуть меньше зимой. Предметы интерьера выгоднее продаются осенью. Кухонные принадлежности лучше всего прибыльны в ноябре.\n",
    "\n",
    "Основная масса денег приходит с 7-8 до 22 часов. Пик прибыльности приходится на 11-12 часов.\n",
    "\n",
    "Хозтовары часто берут с другими категориями, особенно с растениями и интерьером. Кухня редко встречается в связке с другими категориями, как и бытовая химия с товарами для ухода за собой.\n",
    "\n",
    "Было сделано предположение: чем выше доля заказов с одной категорией, тем чаще покупатель приходит в магазин именно за ней, и тем больше ее можно считать основной среди всего ассортимента. То есть, основными категориями в магазине являются хозтовары и предметы интерьера. Затем примерно на одном уровне идут техника, кухонные товары и растения (комнатные, рассада и семена). Инструменты, товары по уходу за собой и бытовую химию покупают чаще в связке с другими товарами.\n",
    "\n",
    "На данных о заказах с одной категорией было проверено, приносят ли основные и дополнительные категории товаров разную выручку и действительно ли можно выделять основной и дополнительный ассортимент. Были сравнены средние чеки в таких парах категорий: хозтовары (основная) и инструменты (дополнительная), хозтовары (основная) и растения (смежная), интерьер (основная) и инструменты (дополнительная), а также инструменты (дополнительная) и растения (смежная).\n",
    "\n",
    "Выяснилось, что хозтовары отличаются по выручке от растений и инструментов, которые не отличаются по чеку. Инструменты также не отличаются по выручке от предметов интерьера, которые идут сразу за хозтоварами. Учитывая, что в хозтоварах примерно в два раза больше заказов, я бы определила их как основной ассортимент товаров, а соседнюю категорию интерьера и все остальные как дополнительный ассортимент, включая растения, которые больше всего продаются, но не сравнимы с хозтоварами по среднему чеку.\n",
    "\n",
    "Были также проверены гипотезы о сезонности продаж. Осенью средний чек больше, чем летом. В остальные сезоны различий нет.\n",
    "\n",
    "### Рекомендации отделу маркетинга и продаж"
   ]
  },
  {
   "cell_type": "markdown",
   "metadata": {},
   "source": [
    "Интернет-магазину можно порекомендовать проводить активную рекламную кампанию в осенние месяцы, чтобы больше людей узнавало про него и больше покупало, а в остальное время проводить регулярные акции и делать скидки, чтобы поднять продажи и от этого выручку.\n",
    "\n",
    "Можно совсем удалить из ассортимента товары и категории, которые продаются и приносят прибыли меньше всего. Либо наоборот пополнить ассортимент как можно большим количеством товаров в категориях, которые плохо продаются и не прибыльны, чтобы у покупателей был большой выбор и шли продажи.\n",
    "\n",
    "Также стоит обратить внимание на то, что выручка по категории растений не так высока, хотя они больше всего продаются. Можно продавать товары выше средней цены и стимулировать покупки акциями и разными предложениями."
   ]
  }
 ],
 "metadata": {
  "ExecuteTimeLog": [
   {
    "duration": 1284,
    "start_time": "2022-07-18T11:58:38.846Z"
   },
   {
    "duration": 121,
    "start_time": "2022-07-18T11:58:46.635Z"
   },
   {
    "duration": 278,
    "start_time": "2022-07-18T11:58:57.615Z"
   },
   {
    "duration": 8,
    "start_time": "2022-07-18T11:59:43.105Z"
   },
   {
    "duration": 11,
    "start_time": "2022-07-18T12:00:02.657Z"
   },
   {
    "duration": 99,
    "start_time": "2022-07-18T12:00:24.256Z"
   },
   {
    "duration": 12,
    "start_time": "2022-07-18T12:00:37.395Z"
   },
   {
    "duration": 12,
    "start_time": "2022-07-18T12:01:12.444Z"
   },
   {
    "duration": 73,
    "start_time": "2022-07-18T12:01:19.675Z"
   },
   {
    "duration": 8,
    "start_time": "2022-07-18T12:01:30.786Z"
   },
   {
    "duration": 82,
    "start_time": "2022-07-18T12:01:41.245Z"
   },
   {
    "duration": 4,
    "start_time": "2022-07-18T12:01:51.714Z"
   },
   {
    "duration": 27,
    "start_time": "2022-07-18T12:02:10.985Z"
   },
   {
    "duration": 12,
    "start_time": "2022-07-18T12:02:34.375Z"
   },
   {
    "duration": 12,
    "start_time": "2022-07-18T12:02:57.345Z"
   },
   {
    "duration": 16,
    "start_time": "2022-07-18T12:03:18.134Z"
   },
   {
    "duration": 8,
    "start_time": "2022-07-18T12:03:42.334Z"
   },
   {
    "duration": 13,
    "start_time": "2022-07-18T12:04:09.327Z"
   },
   {
    "duration": 4,
    "start_time": "2022-07-18T12:04:42.788Z"
   },
   {
    "duration": 1182,
    "start_time": "2022-07-18T12:04:50.658Z"
   },
   {
    "duration": 192,
    "start_time": "2022-07-18T12:04:51.842Z"
   },
   {
    "duration": 10,
    "start_time": "2022-07-18T12:04:52.035Z"
   },
   {
    "duration": 29,
    "start_time": "2022-07-18T12:04:52.047Z"
   },
   {
    "duration": 20,
    "start_time": "2022-07-18T12:04:52.078Z"
   },
   {
    "duration": 24,
    "start_time": "2022-07-18T12:04:52.100Z"
   },
   {
    "duration": 14,
    "start_time": "2022-07-18T12:04:52.125Z"
   },
   {
    "duration": 14,
    "start_time": "2022-07-18T12:04:52.141Z"
   },
   {
    "duration": 36,
    "start_time": "2022-07-18T12:04:52.157Z"
   },
   {
    "duration": 12,
    "start_time": "2022-07-18T12:04:52.195Z"
   },
   {
    "duration": 23,
    "start_time": "2022-07-18T12:04:52.209Z"
   },
   {
    "duration": 27,
    "start_time": "2022-07-18T12:04:52.234Z"
   },
   {
    "duration": 14,
    "start_time": "2022-07-18T12:04:52.263Z"
   },
   {
    "duration": 19,
    "start_time": "2022-07-18T12:04:52.279Z"
   },
   {
    "duration": 6,
    "start_time": "2022-07-18T13:15:29.238Z"
   },
   {
    "duration": 22,
    "start_time": "2022-07-18T13:15:44.333Z"
   },
   {
    "duration": 146,
    "start_time": "2022-07-18T13:16:01.678Z"
   },
   {
    "duration": 4,
    "start_time": "2022-07-18T13:16:08.538Z"
   },
   {
    "duration": 21,
    "start_time": "2022-07-18T13:16:32.756Z"
   },
   {
    "duration": 4,
    "start_time": "2022-07-18T13:16:52.618Z"
   },
   {
    "duration": 82,
    "start_time": "2022-07-18T13:16:57.982Z"
   },
   {
    "duration": 159,
    "start_time": "2022-07-18T13:17:08.566Z"
   },
   {
    "duration": 6,
    "start_time": "2022-07-18T13:17:16.134Z"
   },
   {
    "duration": 24,
    "start_time": "2022-07-18T13:17:35.827Z"
   },
   {
    "duration": 128,
    "start_time": "2022-07-18T13:18:04.814Z"
   },
   {
    "duration": 5,
    "start_time": "2022-07-18T13:18:12.706Z"
   },
   {
    "duration": 104,
    "start_time": "2022-07-18T13:18:30.085Z"
   },
   {
    "duration": 258,
    "start_time": "2022-07-18T13:18:45.344Z"
   },
   {
    "duration": 18,
    "start_time": "2022-07-18T13:19:19.646Z"
   },
   {
    "duration": 14,
    "start_time": "2022-07-18T13:19:43.798Z"
   },
   {
    "duration": 14,
    "start_time": "2022-07-18T13:19:54.531Z"
   },
   {
    "duration": 6,
    "start_time": "2022-07-18T13:20:12.176Z"
   },
   {
    "duration": 94,
    "start_time": "2022-07-18T13:20:19.431Z"
   },
   {
    "duration": 5,
    "start_time": "2022-07-18T13:20:29.511Z"
   },
   {
    "duration": 91,
    "start_time": "2022-07-18T13:20:35.839Z"
   },
   {
    "duration": 6,
    "start_time": "2022-07-18T13:20:46.729Z"
   },
   {
    "duration": 3,
    "start_time": "2022-07-18T13:25:54.150Z"
   },
   {
    "duration": 21,
    "start_time": "2022-07-18T13:26:15.348Z"
   },
   {
    "duration": 138,
    "start_time": "2022-07-18T13:26:57.059Z"
   },
   {
    "duration": 18,
    "start_time": "2022-07-18T13:27:16.852Z"
   },
   {
    "duration": 82,
    "start_time": "2022-07-18T13:30:45.704Z"
   },
   {
    "duration": 12,
    "start_time": "2022-07-18T13:34:19.351Z"
   },
   {
    "duration": 129,
    "start_time": "2022-07-18T13:34:21.969Z"
   },
   {
    "duration": 15,
    "start_time": "2022-07-18T13:34:26.781Z"
   },
   {
    "duration": 66,
    "start_time": "2022-07-18T13:34:31.202Z"
   },
   {
    "duration": 13,
    "start_time": "2022-07-18T13:35:13.991Z"
   },
   {
    "duration": 137,
    "start_time": "2022-07-18T13:35:18.591Z"
   },
   {
    "duration": 65,
    "start_time": "2022-07-18T13:35:21.047Z"
   },
   {
    "duration": 1275,
    "start_time": "2022-07-18T13:35:48.157Z"
   },
   {
    "duration": 94,
    "start_time": "2022-07-18T13:35:49.434Z"
   },
   {
    "duration": 9,
    "start_time": "2022-07-18T13:35:49.530Z"
   },
   {
    "duration": 18,
    "start_time": "2022-07-18T13:35:49.541Z"
   },
   {
    "duration": 18,
    "start_time": "2022-07-18T13:35:49.560Z"
   },
   {
    "duration": 33,
    "start_time": "2022-07-18T13:35:49.580Z"
   },
   {
    "duration": 27,
    "start_time": "2022-07-18T13:35:49.615Z"
   },
   {
    "duration": 19,
    "start_time": "2022-07-18T13:35:49.644Z"
   },
   {
    "duration": 31,
    "start_time": "2022-07-18T13:35:49.665Z"
   },
   {
    "duration": 11,
    "start_time": "2022-07-18T13:35:49.699Z"
   },
   {
    "duration": 16,
    "start_time": "2022-07-18T13:35:49.711Z"
   },
   {
    "duration": 21,
    "start_time": "2022-07-18T13:35:49.729Z"
   },
   {
    "duration": 15,
    "start_time": "2022-07-18T13:35:49.752Z"
   },
   {
    "duration": 14,
    "start_time": "2022-07-18T13:35:49.769Z"
   },
   {
    "duration": 25,
    "start_time": "2022-07-18T13:35:49.784Z"
   },
   {
    "duration": 35,
    "start_time": "2022-07-18T13:35:49.811Z"
   },
   {
    "duration": 130,
    "start_time": "2022-07-18T13:35:49.848Z"
   },
   {
    "duration": 5,
    "start_time": "2022-07-18T13:35:49.980Z"
   },
   {
    "duration": 26,
    "start_time": "2022-07-18T13:35:49.987Z"
   },
   {
    "duration": 11,
    "start_time": "2022-07-18T13:35:50.014Z"
   },
   {
    "duration": 158,
    "start_time": "2022-07-18T13:35:50.026Z"
   },
   {
    "duration": 4,
    "start_time": "2022-07-18T13:35:50.185Z"
   },
   {
    "duration": 40,
    "start_time": "2022-07-18T13:35:50.191Z"
   },
   {
    "duration": 139,
    "start_time": "2022-07-18T13:35:50.233Z"
   },
   {
    "duration": 5,
    "start_time": "2022-07-18T13:35:50.374Z"
   },
   {
    "duration": 288,
    "start_time": "2022-07-18T13:35:50.380Z"
   },
   {
    "duration": 15,
    "start_time": "2022-07-18T13:35:50.669Z"
   },
   {
    "duration": 15,
    "start_time": "2022-07-18T13:35:50.686Z"
   },
   {
    "duration": 5,
    "start_time": "2022-07-18T13:35:50.702Z"
   },
   {
    "duration": 21,
    "start_time": "2022-07-18T13:35:50.708Z"
   },
   {
    "duration": 12,
    "start_time": "2022-07-18T13:35:50.731Z"
   },
   {
    "duration": 17,
    "start_time": "2022-07-18T13:35:50.745Z"
   },
   {
    "duration": 13,
    "start_time": "2022-07-18T13:35:50.764Z"
   },
   {
    "duration": 132,
    "start_time": "2022-07-18T13:35:50.778Z"
   },
   {
    "duration": 12,
    "start_time": "2022-07-18T13:35:50.912Z"
   },
   {
    "duration": 77,
    "start_time": "2022-07-18T13:35:50.925Z"
   },
   {
    "duration": 9,
    "start_time": "2022-07-18T13:36:58.215Z"
   },
   {
    "duration": 8,
    "start_time": "2022-07-18T13:37:09.444Z"
   },
   {
    "duration": 95,
    "start_time": "2022-07-18T13:37:52.023Z"
   },
   {
    "duration": 10,
    "start_time": "2022-07-18T13:39:06.392Z"
   },
   {
    "duration": 10,
    "start_time": "2022-07-18T13:40:52.060Z"
   },
   {
    "duration": 15,
    "start_time": "2022-07-18T13:42:20.971Z"
   },
   {
    "duration": 18,
    "start_time": "2022-07-18T13:42:33.580Z"
   },
   {
    "duration": 16,
    "start_time": "2022-07-18T13:42:40.381Z"
   },
   {
    "duration": 85,
    "start_time": "2022-07-18T13:43:35.708Z"
   },
   {
    "duration": 74,
    "start_time": "2022-07-18T13:43:58.484Z"
   },
   {
    "duration": 146,
    "start_time": "2022-07-18T13:44:04.620Z"
   },
   {
    "duration": 22,
    "start_time": "2022-07-18T13:44:12.720Z"
   },
   {
    "duration": 3,
    "start_time": "2022-07-18T13:45:35.024Z"
   },
   {
    "duration": 71,
    "start_time": "2022-07-18T13:45:40.286Z"
   },
   {
    "duration": 16,
    "start_time": "2022-07-18T13:46:37.203Z"
   },
   {
    "duration": 122,
    "start_time": "2022-07-18T13:46:39.139Z"
   },
   {
    "duration": 66,
    "start_time": "2022-07-18T13:46:42.273Z"
   },
   {
    "duration": 1070,
    "start_time": "2022-07-18T13:47:08.958Z"
   },
   {
    "duration": 89,
    "start_time": "2022-07-18T13:47:10.030Z"
   },
   {
    "duration": 7,
    "start_time": "2022-07-18T13:47:10.121Z"
   },
   {
    "duration": 15,
    "start_time": "2022-07-18T13:47:10.130Z"
   },
   {
    "duration": 14,
    "start_time": "2022-07-18T13:47:10.147Z"
   },
   {
    "duration": 23,
    "start_time": "2022-07-18T13:47:10.163Z"
   },
   {
    "duration": 8,
    "start_time": "2022-07-18T13:47:10.188Z"
   },
   {
    "duration": 7,
    "start_time": "2022-07-18T13:47:10.198Z"
   },
   {
    "duration": 21,
    "start_time": "2022-07-18T13:47:10.207Z"
   },
   {
    "duration": 35,
    "start_time": "2022-07-18T13:47:10.229Z"
   },
   {
    "duration": 12,
    "start_time": "2022-07-18T13:47:10.266Z"
   },
   {
    "duration": 21,
    "start_time": "2022-07-18T13:47:10.279Z"
   },
   {
    "duration": 23,
    "start_time": "2022-07-18T13:47:10.301Z"
   },
   {
    "duration": 18,
    "start_time": "2022-07-18T13:47:10.327Z"
   },
   {
    "duration": 7,
    "start_time": "2022-07-18T13:47:10.352Z"
   },
   {
    "duration": 35,
    "start_time": "2022-07-18T13:47:10.360Z"
   },
   {
    "duration": 158,
    "start_time": "2022-07-18T13:47:10.396Z"
   },
   {
    "duration": 6,
    "start_time": "2022-07-18T13:47:10.556Z"
   },
   {
    "duration": 48,
    "start_time": "2022-07-18T13:47:10.564Z"
   },
   {
    "duration": 11,
    "start_time": "2022-07-18T13:47:10.614Z"
   },
   {
    "duration": 150,
    "start_time": "2022-07-18T13:47:10.626Z"
   },
   {
    "duration": 5,
    "start_time": "2022-07-18T13:47:10.778Z"
   },
   {
    "duration": 34,
    "start_time": "2022-07-18T13:47:10.785Z"
   },
   {
    "duration": 153,
    "start_time": "2022-07-18T13:47:10.821Z"
   },
   {
    "duration": 7,
    "start_time": "2022-07-18T13:47:10.976Z"
   },
   {
    "duration": 319,
    "start_time": "2022-07-18T13:47:10.985Z"
   },
   {
    "duration": 16,
    "start_time": "2022-07-18T13:47:11.306Z"
   },
   {
    "duration": 15,
    "start_time": "2022-07-18T13:47:11.323Z"
   },
   {
    "duration": 29,
    "start_time": "2022-07-18T13:47:11.339Z"
   },
   {
    "duration": 13,
    "start_time": "2022-07-18T13:47:11.370Z"
   },
   {
    "duration": 10,
    "start_time": "2022-07-18T13:47:11.385Z"
   },
   {
    "duration": 3,
    "start_time": "2022-07-18T13:47:11.396Z"
   },
   {
    "duration": 16,
    "start_time": "2022-07-18T13:47:11.401Z"
   },
   {
    "duration": 143,
    "start_time": "2022-07-18T13:47:11.419Z"
   },
   {
    "duration": 17,
    "start_time": "2022-07-18T13:47:11.565Z"
   },
   {
    "duration": 105,
    "start_time": "2022-07-18T13:47:11.584Z"
   },
   {
    "duration": 68,
    "start_time": "2022-07-18T13:57:16.745Z"
   },
   {
    "duration": 96,
    "start_time": "2022-07-18T14:07:34.749Z"
   },
   {
    "duration": 16,
    "start_time": "2022-07-18T14:07:43.182Z"
   },
   {
    "duration": 20,
    "start_time": "2022-07-18T14:08:12.209Z"
   },
   {
    "duration": 17,
    "start_time": "2022-07-18T14:08:21.268Z"
   },
   {
    "duration": 15,
    "start_time": "2022-07-18T14:09:27.647Z"
   },
   {
    "duration": 18,
    "start_time": "2022-07-18T14:09:40.814Z"
   },
   {
    "duration": 14,
    "start_time": "2022-07-18T14:09:43.514Z"
   },
   {
    "duration": 9,
    "start_time": "2022-07-18T14:20:52.194Z"
   },
   {
    "duration": 1068,
    "start_time": "2022-07-18T14:21:39.564Z"
   },
   {
    "duration": 233,
    "start_time": "2022-07-18T14:21:40.634Z"
   },
   {
    "duration": 8,
    "start_time": "2022-07-18T14:21:40.869Z"
   },
   {
    "duration": 15,
    "start_time": "2022-07-18T14:21:40.878Z"
   },
   {
    "duration": 14,
    "start_time": "2022-07-18T14:21:40.895Z"
   },
   {
    "duration": 12,
    "start_time": "2022-07-18T14:21:40.910Z"
   },
   {
    "duration": 7,
    "start_time": "2022-07-18T14:21:40.923Z"
   },
   {
    "duration": 24,
    "start_time": "2022-07-18T14:21:40.931Z"
   },
   {
    "duration": 21,
    "start_time": "2022-07-18T14:21:40.957Z"
   },
   {
    "duration": 10,
    "start_time": "2022-07-18T14:21:40.980Z"
   },
   {
    "duration": 11,
    "start_time": "2022-07-18T14:21:40.992Z"
   },
   {
    "duration": 20,
    "start_time": "2022-07-18T14:21:41.004Z"
   },
   {
    "duration": 14,
    "start_time": "2022-07-18T14:21:41.025Z"
   },
   {
    "duration": 15,
    "start_time": "2022-07-18T14:21:41.054Z"
   },
   {
    "duration": 5,
    "start_time": "2022-07-18T14:21:41.071Z"
   },
   {
    "duration": 23,
    "start_time": "2022-07-18T14:21:41.078Z"
   },
   {
    "duration": 145,
    "start_time": "2022-07-18T14:21:41.102Z"
   },
   {
    "duration": 8,
    "start_time": "2022-07-18T14:21:41.249Z"
   },
   {
    "duration": 33,
    "start_time": "2022-07-18T14:21:41.259Z"
   },
   {
    "duration": 5,
    "start_time": "2022-07-18T14:21:41.293Z"
   },
   {
    "duration": 132,
    "start_time": "2022-07-18T14:21:41.300Z"
   },
   {
    "duration": 5,
    "start_time": "2022-07-18T14:21:41.433Z"
   },
   {
    "duration": 32,
    "start_time": "2022-07-18T14:21:41.439Z"
   },
   {
    "duration": 140,
    "start_time": "2022-07-18T14:21:41.472Z"
   },
   {
    "duration": 4,
    "start_time": "2022-07-18T14:21:41.614Z"
   },
   {
    "duration": 274,
    "start_time": "2022-07-18T14:21:41.619Z"
   },
   {
    "duration": 14,
    "start_time": "2022-07-18T14:21:41.895Z"
   },
   {
    "duration": 26,
    "start_time": "2022-07-18T14:21:41.910Z"
   },
   {
    "duration": 8,
    "start_time": "2022-07-18T14:21:41.938Z"
   },
   {
    "duration": 22,
    "start_time": "2022-07-18T14:21:41.947Z"
   },
   {
    "duration": 10,
    "start_time": "2022-07-18T14:21:41.971Z"
   },
   {
    "duration": 5,
    "start_time": "2022-07-18T14:21:41.982Z"
   },
   {
    "duration": 14,
    "start_time": "2022-07-18T14:21:41.988Z"
   },
   {
    "duration": 133,
    "start_time": "2022-07-18T14:21:42.003Z"
   },
   {
    "duration": 15,
    "start_time": "2022-07-18T14:21:42.138Z"
   },
   {
    "duration": 103,
    "start_time": "2022-07-18T14:21:42.155Z"
   },
   {
    "duration": 104,
    "start_time": "2022-07-18T14:21:42.260Z"
   },
   {
    "duration": 15,
    "start_time": "2022-07-18T14:21:42.365Z"
   },
   {
    "duration": 33,
    "start_time": "2022-07-18T14:21:42.382Z"
   },
   {
    "duration": 73,
    "start_time": "2022-07-18T14:21:42.416Z"
   },
   {
    "duration": 101,
    "start_time": "2022-07-18T14:21:42.492Z"
   },
   {
    "duration": 53,
    "start_time": "2022-07-18T14:22:44.473Z"
   },
   {
    "duration": 59,
    "start_time": "2022-07-18T14:22:52.335Z"
   },
   {
    "duration": 1283,
    "start_time": "2022-07-18T14:27:52.586Z"
   },
   {
    "duration": 12,
    "start_time": "2022-07-18T14:28:00.265Z"
   },
   {
    "duration": 125,
    "start_time": "2022-07-18T14:28:02.556Z"
   },
   {
    "duration": 67,
    "start_time": "2022-07-18T14:28:19.039Z"
   },
   {
    "duration": 12,
    "start_time": "2022-07-18T14:29:42.407Z"
   },
   {
    "duration": 108,
    "start_time": "2022-07-18T14:29:44.179Z"
   },
   {
    "duration": 58,
    "start_time": "2022-07-18T14:29:50.139Z"
   },
   {
    "duration": 21,
    "start_time": "2022-07-18T14:32:06.963Z"
   },
   {
    "duration": 11,
    "start_time": "2022-07-18T14:33:45.371Z"
   },
   {
    "duration": 107,
    "start_time": "2022-07-18T14:33:47.211Z"
   },
   {
    "duration": 72,
    "start_time": "2022-07-18T14:34:05.422Z"
   },
   {
    "duration": 59,
    "start_time": "2022-07-18T14:34:14.139Z"
   },
   {
    "duration": 14,
    "start_time": "2022-07-18T14:35:55.365Z"
   },
   {
    "duration": 145,
    "start_time": "2022-07-18T14:35:58.338Z"
   },
   {
    "duration": 12,
    "start_time": "2022-07-18T14:36:38.394Z"
   },
   {
    "duration": 125,
    "start_time": "2022-07-18T14:36:40.197Z"
   },
   {
    "duration": 69,
    "start_time": "2022-07-18T14:36:51.726Z"
   },
   {
    "duration": 1110,
    "start_time": "2022-07-18T14:37:07.264Z"
   },
   {
    "duration": 139,
    "start_time": "2022-07-18T14:37:08.376Z"
   },
   {
    "duration": 8,
    "start_time": "2022-07-18T14:37:08.517Z"
   },
   {
    "duration": 19,
    "start_time": "2022-07-18T14:37:08.528Z"
   },
   {
    "duration": 29,
    "start_time": "2022-07-18T14:37:08.548Z"
   },
   {
    "duration": 12,
    "start_time": "2022-07-18T14:37:08.579Z"
   },
   {
    "duration": 11,
    "start_time": "2022-07-18T14:37:08.592Z"
   },
   {
    "duration": 14,
    "start_time": "2022-07-18T14:37:08.605Z"
   },
   {
    "duration": 21,
    "start_time": "2022-07-18T14:37:08.620Z"
   },
   {
    "duration": 12,
    "start_time": "2022-07-18T14:37:08.644Z"
   },
   {
    "duration": 23,
    "start_time": "2022-07-18T14:37:08.658Z"
   },
   {
    "duration": 14,
    "start_time": "2022-07-18T14:37:08.683Z"
   },
   {
    "duration": 10,
    "start_time": "2022-07-18T14:37:08.699Z"
   },
   {
    "duration": 14,
    "start_time": "2022-07-18T14:37:08.711Z"
   },
   {
    "duration": 11,
    "start_time": "2022-07-18T14:37:08.726Z"
   },
   {
    "duration": 25,
    "start_time": "2022-07-18T14:37:08.751Z"
   },
   {
    "duration": 144,
    "start_time": "2022-07-18T14:37:08.778Z"
   },
   {
    "duration": 8,
    "start_time": "2022-07-18T14:37:08.924Z"
   },
   {
    "duration": 42,
    "start_time": "2022-07-18T14:37:08.934Z"
   },
   {
    "duration": 19,
    "start_time": "2022-07-18T14:37:08.982Z"
   },
   {
    "duration": 199,
    "start_time": "2022-07-18T14:37:09.003Z"
   },
   {
    "duration": 5,
    "start_time": "2022-07-18T14:37:09.204Z"
   },
   {
    "duration": 27,
    "start_time": "2022-07-18T14:37:09.211Z"
   },
   {
    "duration": 156,
    "start_time": "2022-07-18T14:37:09.239Z"
   },
   {
    "duration": 4,
    "start_time": "2022-07-18T14:37:09.397Z"
   },
   {
    "duration": 305,
    "start_time": "2022-07-18T14:37:09.403Z"
   },
   {
    "duration": 14,
    "start_time": "2022-07-18T14:37:09.710Z"
   },
   {
    "duration": 15,
    "start_time": "2022-07-18T14:37:09.727Z"
   },
   {
    "duration": 14,
    "start_time": "2022-07-18T14:37:09.743Z"
   },
   {
    "duration": 20,
    "start_time": "2022-07-18T14:37:09.759Z"
   },
   {
    "duration": 7,
    "start_time": "2022-07-18T14:37:09.780Z"
   },
   {
    "duration": 9,
    "start_time": "2022-07-18T14:37:09.789Z"
   },
   {
    "duration": 55,
    "start_time": "2022-07-18T14:37:09.799Z"
   },
   {
    "duration": 236,
    "start_time": "2022-07-18T14:37:09.856Z"
   },
   {
    "duration": 63,
    "start_time": "2022-07-18T14:37:10.094Z"
   },
   {
    "duration": 133,
    "start_time": "2022-07-18T14:37:10.159Z"
   },
   {
    "duration": 188,
    "start_time": "2022-07-18T14:37:10.293Z"
   },
   {
    "duration": 75,
    "start_time": "2022-07-18T14:37:10.483Z"
   },
   {
    "duration": 21,
    "start_time": "2022-07-18T14:37:10.559Z"
   },
   {
    "duration": 172,
    "start_time": "2022-07-18T14:37:10.582Z"
   },
   {
    "duration": 139,
    "start_time": "2022-07-18T14:37:10.756Z"
   },
   {
    "duration": 61,
    "start_time": "2022-07-18T14:37:10.897Z"
   },
   {
    "duration": 27,
    "start_time": "2022-07-18T14:37:10.960Z"
   },
   {
    "duration": 68,
    "start_time": "2022-07-18T14:37:10.989Z"
   },
   {
    "duration": 12,
    "start_time": "2022-07-18T14:42:01.377Z"
   },
   {
    "duration": 117,
    "start_time": "2022-07-18T14:42:02.446Z"
   },
   {
    "duration": 69,
    "start_time": "2022-07-18T14:42:07.582Z"
   },
   {
    "duration": 12,
    "start_time": "2022-07-18T14:42:59.039Z"
   },
   {
    "duration": 93,
    "start_time": "2022-07-18T14:43:01.164Z"
   },
   {
    "duration": 69,
    "start_time": "2022-07-18T14:43:04.400Z"
   },
   {
    "duration": 77,
    "start_time": "2022-07-18T14:46:18.988Z"
   },
   {
    "duration": 17,
    "start_time": "2022-07-18T14:48:19.218Z"
   },
   {
    "duration": 14,
    "start_time": "2022-07-18T14:48:25.887Z"
   },
   {
    "duration": 2,
    "start_time": "2022-07-18T14:48:48.219Z"
   },
   {
    "duration": 11,
    "start_time": "2022-07-18T14:50:29.598Z"
   },
   {
    "duration": 105,
    "start_time": "2022-07-18T14:50:30.932Z"
   },
   {
    "duration": 56,
    "start_time": "2022-07-18T14:50:45.271Z"
   },
   {
    "duration": 11,
    "start_time": "2022-07-18T14:52:03.413Z"
   },
   {
    "duration": 112,
    "start_time": "2022-07-18T14:52:04.671Z"
   },
   {
    "duration": 83,
    "start_time": "2022-07-18T14:52:14.591Z"
   },
   {
    "duration": 69,
    "start_time": "2022-07-18T14:52:30.847Z"
   },
   {
    "duration": 94,
    "start_time": "2022-07-18T14:52:46.077Z"
   },
   {
    "duration": 56,
    "start_time": "2022-07-18T14:56:44.185Z"
   },
   {
    "duration": 17,
    "start_time": "2022-07-18T14:57:06.715Z"
   },
   {
    "duration": 14,
    "start_time": "2022-07-18T14:57:09.594Z"
   },
   {
    "duration": 13,
    "start_time": "2022-07-18T14:59:45.967Z"
   },
   {
    "duration": 110,
    "start_time": "2022-07-18T14:59:46.793Z"
   },
   {
    "duration": 64,
    "start_time": "2022-07-18T14:59:53.292Z"
   },
   {
    "duration": 1113,
    "start_time": "2022-07-18T15:00:25.271Z"
   },
   {
    "duration": 95,
    "start_time": "2022-07-18T15:00:26.386Z"
   },
   {
    "duration": 8,
    "start_time": "2022-07-18T15:00:26.483Z"
   },
   {
    "duration": 13,
    "start_time": "2022-07-18T15:00:26.492Z"
   },
   {
    "duration": 12,
    "start_time": "2022-07-18T15:00:26.508Z"
   },
   {
    "duration": 10,
    "start_time": "2022-07-18T15:00:26.521Z"
   },
   {
    "duration": 27,
    "start_time": "2022-07-18T15:00:26.532Z"
   },
   {
    "duration": 5,
    "start_time": "2022-07-18T15:00:26.560Z"
   },
   {
    "duration": 31,
    "start_time": "2022-07-18T15:00:26.566Z"
   },
   {
    "duration": 15,
    "start_time": "2022-07-18T15:00:26.599Z"
   },
   {
    "duration": 44,
    "start_time": "2022-07-18T15:00:26.616Z"
   },
   {
    "duration": 15,
    "start_time": "2022-07-18T15:00:26.662Z"
   },
   {
    "duration": 10,
    "start_time": "2022-07-18T15:00:26.679Z"
   },
   {
    "duration": 13,
    "start_time": "2022-07-18T15:00:26.692Z"
   },
   {
    "duration": 8,
    "start_time": "2022-07-18T15:00:26.707Z"
   },
   {
    "duration": 52,
    "start_time": "2022-07-18T15:00:26.716Z"
   },
   {
    "duration": 125,
    "start_time": "2022-07-18T15:00:26.769Z"
   },
   {
    "duration": 4,
    "start_time": "2022-07-18T15:00:26.896Z"
   },
   {
    "duration": 25,
    "start_time": "2022-07-18T15:00:26.902Z"
   },
   {
    "duration": 4,
    "start_time": "2022-07-18T15:00:26.929Z"
   },
   {
    "duration": 133,
    "start_time": "2022-07-18T15:00:26.953Z"
   },
   {
    "duration": 5,
    "start_time": "2022-07-18T15:00:27.088Z"
   },
   {
    "duration": 26,
    "start_time": "2022-07-18T15:00:27.094Z"
   },
   {
    "duration": 142,
    "start_time": "2022-07-18T15:00:27.121Z"
   },
   {
    "duration": 5,
    "start_time": "2022-07-18T15:00:27.265Z"
   },
   {
    "duration": 271,
    "start_time": "2022-07-18T15:00:27.272Z"
   },
   {
    "duration": 27,
    "start_time": "2022-07-18T15:00:27.544Z"
   },
   {
    "duration": 14,
    "start_time": "2022-07-18T15:00:27.573Z"
   },
   {
    "duration": 8,
    "start_time": "2022-07-18T15:00:27.589Z"
   },
   {
    "duration": 8,
    "start_time": "2022-07-18T15:00:27.599Z"
   },
   {
    "duration": 7,
    "start_time": "2022-07-18T15:00:27.608Z"
   },
   {
    "duration": 6,
    "start_time": "2022-07-18T15:00:27.616Z"
   },
   {
    "duration": 33,
    "start_time": "2022-07-18T15:00:27.623Z"
   },
   {
    "duration": 114,
    "start_time": "2022-07-18T15:00:27.658Z"
   },
   {
    "duration": 13,
    "start_time": "2022-07-18T15:00:27.773Z"
   },
   {
    "duration": 93,
    "start_time": "2022-07-18T15:00:27.788Z"
   },
   {
    "duration": 105,
    "start_time": "2022-07-18T15:00:27.882Z"
   },
   {
    "duration": 17,
    "start_time": "2022-07-18T15:00:27.988Z"
   },
   {
    "duration": 46,
    "start_time": "2022-07-18T15:00:28.007Z"
   },
   {
    "duration": 98,
    "start_time": "2022-07-18T15:00:28.055Z"
   },
   {
    "duration": 98,
    "start_time": "2022-07-18T15:00:28.157Z"
   },
   {
    "duration": 21,
    "start_time": "2022-07-18T15:00:28.257Z"
   },
   {
    "duration": 19,
    "start_time": "2022-07-18T15:00:28.279Z"
   },
   {
    "duration": 4,
    "start_time": "2022-07-18T15:00:28.300Z"
   },
   {
    "duration": 13,
    "start_time": "2022-07-18T15:01:30.988Z"
   },
   {
    "duration": 111,
    "start_time": "2022-07-18T15:01:32.171Z"
   },
   {
    "duration": 60,
    "start_time": "2022-07-18T15:01:38.149Z"
   },
   {
    "duration": 13,
    "start_time": "2022-07-18T15:03:52.075Z"
   },
   {
    "duration": 115,
    "start_time": "2022-07-18T15:03:52.951Z"
   },
   {
    "duration": 58,
    "start_time": "2022-07-18T15:04:02.379Z"
   },
   {
    "duration": 21,
    "start_time": "2022-07-18T15:04:58.873Z"
   },
   {
    "duration": 13,
    "start_time": "2022-07-18T15:05:36.769Z"
   },
   {
    "duration": 111,
    "start_time": "2022-07-18T15:05:38.632Z"
   },
   {
    "duration": 60,
    "start_time": "2022-07-18T15:05:42.339Z"
   },
   {
    "duration": 13,
    "start_time": "2022-07-18T15:07:17.694Z"
   },
   {
    "duration": 108,
    "start_time": "2022-07-18T15:07:21.119Z"
   },
   {
    "duration": 61,
    "start_time": "2022-07-18T15:07:24.379Z"
   },
   {
    "duration": 15,
    "start_time": "2022-07-18T15:09:20.591Z"
   },
   {
    "duration": 119,
    "start_time": "2022-07-18T15:09:22.728Z"
   },
   {
    "duration": 68,
    "start_time": "2022-07-18T15:09:27.492Z"
   },
   {
    "duration": 79,
    "start_time": "2022-07-18T15:10:13.503Z"
   },
   {
    "duration": 58,
    "start_time": "2022-07-18T15:10:44.131Z"
   },
   {
    "duration": 89,
    "start_time": "2022-07-18T15:11:28.012Z"
   },
   {
    "duration": 1111,
    "start_time": "2022-07-18T15:11:40.606Z"
   },
   {
    "duration": 123,
    "start_time": "2022-07-18T15:11:41.719Z"
   },
   {
    "duration": 10,
    "start_time": "2022-07-18T15:11:41.843Z"
   },
   {
    "duration": 20,
    "start_time": "2022-07-18T15:11:41.857Z"
   },
   {
    "duration": 12,
    "start_time": "2022-07-18T15:11:41.878Z"
   },
   {
    "duration": 10,
    "start_time": "2022-07-18T15:11:41.891Z"
   },
   {
    "duration": 8,
    "start_time": "2022-07-18T15:11:41.902Z"
   },
   {
    "duration": 4,
    "start_time": "2022-07-18T15:11:41.912Z"
   },
   {
    "duration": 52,
    "start_time": "2022-07-18T15:11:41.918Z"
   },
   {
    "duration": 12,
    "start_time": "2022-07-18T15:11:41.973Z"
   },
   {
    "duration": 9,
    "start_time": "2022-07-18T15:11:41.987Z"
   },
   {
    "duration": 11,
    "start_time": "2022-07-18T15:11:41.997Z"
   },
   {
    "duration": 9,
    "start_time": "2022-07-18T15:11:42.009Z"
   },
   {
    "duration": 11,
    "start_time": "2022-07-18T15:11:42.020Z"
   },
   {
    "duration": 14,
    "start_time": "2022-07-18T15:11:42.055Z"
   },
   {
    "duration": 25,
    "start_time": "2022-07-18T15:11:42.070Z"
   },
   {
    "duration": 132,
    "start_time": "2022-07-18T15:11:42.097Z"
   },
   {
    "duration": 4,
    "start_time": "2022-07-18T15:11:42.231Z"
   },
   {
    "duration": 38,
    "start_time": "2022-07-18T15:11:42.237Z"
   },
   {
    "duration": 6,
    "start_time": "2022-07-18T15:11:42.277Z"
   },
   {
    "duration": 149,
    "start_time": "2022-07-18T15:11:42.285Z"
   },
   {
    "duration": 4,
    "start_time": "2022-07-18T15:11:42.436Z"
   },
   {
    "duration": 47,
    "start_time": "2022-07-18T15:11:42.442Z"
   },
   {
    "duration": 126,
    "start_time": "2022-07-18T15:11:42.491Z"
   },
   {
    "duration": 5,
    "start_time": "2022-07-18T15:11:42.619Z"
   },
   {
    "duration": 291,
    "start_time": "2022-07-18T15:11:42.625Z"
   },
   {
    "duration": 13,
    "start_time": "2022-07-18T15:11:42.918Z"
   },
   {
    "duration": 28,
    "start_time": "2022-07-18T15:11:42.935Z"
   },
   {
    "duration": 7,
    "start_time": "2022-07-18T15:11:42.967Z"
   },
   {
    "duration": 14,
    "start_time": "2022-07-18T15:11:42.975Z"
   },
   {
    "duration": 4,
    "start_time": "2022-07-18T15:11:42.991Z"
   },
   {
    "duration": 3,
    "start_time": "2022-07-18T15:11:42.997Z"
   },
   {
    "duration": 12,
    "start_time": "2022-07-18T15:11:43.001Z"
   },
   {
    "duration": 132,
    "start_time": "2022-07-18T15:11:43.015Z"
   },
   {
    "duration": 20,
    "start_time": "2022-07-18T15:11:43.151Z"
   },
   {
    "duration": 117,
    "start_time": "2022-07-18T15:11:43.172Z"
   },
   {
    "duration": 106,
    "start_time": "2022-07-18T15:11:43.291Z"
   },
   {
    "duration": 23,
    "start_time": "2022-07-18T15:11:43.399Z"
   },
   {
    "duration": 43,
    "start_time": "2022-07-18T15:11:43.424Z"
   },
   {
    "duration": 99,
    "start_time": "2022-07-18T15:11:43.470Z"
   },
   {
    "duration": 94,
    "start_time": "2022-07-18T15:11:43.571Z"
   },
   {
    "duration": 16,
    "start_time": "2022-07-18T15:11:43.666Z"
   },
   {
    "duration": 15,
    "start_time": "2022-07-18T15:11:43.684Z"
   },
   {
    "duration": 21,
    "start_time": "2022-07-18T15:11:43.700Z"
   },
   {
    "duration": 1092,
    "start_time": "2022-07-18T15:13:30.219Z"
   },
   {
    "duration": 120,
    "start_time": "2022-07-18T15:13:31.313Z"
   },
   {
    "duration": 8,
    "start_time": "2022-07-18T15:13:31.434Z"
   },
   {
    "duration": 20,
    "start_time": "2022-07-18T15:13:31.443Z"
   },
   {
    "duration": 18,
    "start_time": "2022-07-18T15:13:31.465Z"
   },
   {
    "duration": 12,
    "start_time": "2022-07-18T15:13:31.484Z"
   },
   {
    "duration": 6,
    "start_time": "2022-07-18T15:13:31.497Z"
   },
   {
    "duration": 9,
    "start_time": "2022-07-18T15:13:31.505Z"
   },
   {
    "duration": 21,
    "start_time": "2022-07-18T15:13:31.516Z"
   },
   {
    "duration": 21,
    "start_time": "2022-07-18T15:13:31.538Z"
   },
   {
    "duration": 12,
    "start_time": "2022-07-18T15:13:31.561Z"
   },
   {
    "duration": 17,
    "start_time": "2022-07-18T15:13:31.575Z"
   },
   {
    "duration": 16,
    "start_time": "2022-07-18T15:13:31.594Z"
   },
   {
    "duration": 21,
    "start_time": "2022-07-18T15:13:31.614Z"
   },
   {
    "duration": 19,
    "start_time": "2022-07-18T15:13:31.637Z"
   },
   {
    "duration": 44,
    "start_time": "2022-07-18T15:13:31.657Z"
   },
   {
    "duration": 125,
    "start_time": "2022-07-18T15:13:31.702Z"
   },
   {
    "duration": 4,
    "start_time": "2022-07-18T15:13:31.828Z"
   },
   {
    "duration": 31,
    "start_time": "2022-07-18T15:13:31.834Z"
   },
   {
    "duration": 5,
    "start_time": "2022-07-18T15:13:31.867Z"
   },
   {
    "duration": 165,
    "start_time": "2022-07-18T15:13:31.874Z"
   },
   {
    "duration": 4,
    "start_time": "2022-07-18T15:13:32.042Z"
   },
   {
    "duration": 27,
    "start_time": "2022-07-18T15:13:32.053Z"
   },
   {
    "duration": 154,
    "start_time": "2022-07-18T15:13:32.081Z"
   },
   {
    "duration": 6,
    "start_time": "2022-07-18T15:13:32.236Z"
   },
   {
    "duration": 366,
    "start_time": "2022-07-18T15:13:32.253Z"
   },
   {
    "duration": 14,
    "start_time": "2022-07-18T15:13:32.621Z"
   },
   {
    "duration": 25,
    "start_time": "2022-07-18T15:13:32.637Z"
   },
   {
    "duration": 18,
    "start_time": "2022-07-18T15:13:32.664Z"
   },
   {
    "duration": 19,
    "start_time": "2022-07-18T15:13:32.683Z"
   },
   {
    "duration": 13,
    "start_time": "2022-07-18T15:13:32.704Z"
   },
   {
    "duration": 6,
    "start_time": "2022-07-18T15:13:32.718Z"
   },
   {
    "duration": 13,
    "start_time": "2022-07-18T15:13:32.726Z"
   },
   {
    "duration": 140,
    "start_time": "2022-07-18T15:13:32.740Z"
   },
   {
    "duration": 14,
    "start_time": "2022-07-18T15:13:32.882Z"
   },
   {
    "duration": 98,
    "start_time": "2022-07-18T15:13:32.898Z"
   },
   {
    "duration": 110,
    "start_time": "2022-07-18T15:13:32.997Z"
   },
   {
    "duration": 56,
    "start_time": "2022-07-18T15:13:33.108Z"
   },
   {
    "duration": 32,
    "start_time": "2022-07-18T15:13:33.165Z"
   },
   {
    "duration": 86,
    "start_time": "2022-07-18T15:13:33.199Z"
   },
   {
    "duration": 107,
    "start_time": "2022-07-18T15:13:33.291Z"
   },
   {
    "duration": 22,
    "start_time": "2022-07-18T15:13:33.400Z"
   },
   {
    "duration": 21,
    "start_time": "2022-07-18T15:13:33.452Z"
   },
   {
    "duration": 24,
    "start_time": "2022-07-18T15:13:33.475Z"
   },
   {
    "duration": 17,
    "start_time": "2022-07-18T15:14:48.115Z"
   },
   {
    "duration": 22,
    "start_time": "2022-07-18T15:14:50.870Z"
   },
   {
    "duration": 61,
    "start_time": "2022-07-18T15:15:12.841Z"
   },
   {
    "duration": 13,
    "start_time": "2022-07-18T15:18:23.108Z"
   },
   {
    "duration": 118,
    "start_time": "2022-07-18T15:18:24.811Z"
   },
   {
    "duration": 59,
    "start_time": "2022-07-18T15:18:27.366Z"
   },
   {
    "duration": 20,
    "start_time": "2022-07-18T15:19:37.312Z"
   },
   {
    "duration": 13,
    "start_time": "2022-07-18T15:21:17.263Z"
   },
   {
    "duration": 116,
    "start_time": "2022-07-18T15:21:17.630Z"
   },
   {
    "duration": 117,
    "start_time": "2022-07-18T15:21:23.350Z"
   },
   {
    "duration": 88,
    "start_time": "2022-07-18T15:21:42.112Z"
   },
   {
    "duration": 1098,
    "start_time": "2022-07-18T15:23:04.098Z"
   },
   {
    "duration": 274,
    "start_time": "2022-07-18T15:23:05.198Z"
   },
   {
    "duration": 13,
    "start_time": "2022-07-18T15:23:05.474Z"
   },
   {
    "duration": 17,
    "start_time": "2022-07-18T15:23:05.489Z"
   },
   {
    "duration": 11,
    "start_time": "2022-07-18T15:23:05.510Z"
   },
   {
    "duration": 32,
    "start_time": "2022-07-18T15:23:05.523Z"
   },
   {
    "duration": 7,
    "start_time": "2022-07-18T15:23:05.557Z"
   },
   {
    "duration": 5,
    "start_time": "2022-07-18T15:23:05.565Z"
   },
   {
    "duration": 42,
    "start_time": "2022-07-18T15:23:05.571Z"
   },
   {
    "duration": 10,
    "start_time": "2022-07-18T15:23:05.615Z"
   },
   {
    "duration": 10,
    "start_time": "2022-07-18T15:23:05.627Z"
   },
   {
    "duration": 13,
    "start_time": "2022-07-18T15:23:05.652Z"
   },
   {
    "duration": 13,
    "start_time": "2022-07-18T15:23:05.666Z"
   },
   {
    "duration": 14,
    "start_time": "2022-07-18T15:23:05.683Z"
   },
   {
    "duration": 8,
    "start_time": "2022-07-18T15:23:05.698Z"
   },
   {
    "duration": 45,
    "start_time": "2022-07-18T15:23:05.707Z"
   },
   {
    "duration": 129,
    "start_time": "2022-07-18T15:23:05.754Z"
   },
   {
    "duration": 5,
    "start_time": "2022-07-18T15:23:05.885Z"
   },
   {
    "duration": 29,
    "start_time": "2022-07-18T15:23:05.892Z"
   },
   {
    "duration": 8,
    "start_time": "2022-07-18T15:23:05.923Z"
   },
   {
    "duration": 170,
    "start_time": "2022-07-18T15:23:05.933Z"
   },
   {
    "duration": 5,
    "start_time": "2022-07-18T15:23:06.106Z"
   },
   {
    "duration": 41,
    "start_time": "2022-07-18T15:23:06.113Z"
   },
   {
    "duration": 161,
    "start_time": "2022-07-18T15:23:06.156Z"
   },
   {
    "duration": 4,
    "start_time": "2022-07-18T15:23:06.319Z"
   },
   {
    "duration": 311,
    "start_time": "2022-07-18T15:23:06.324Z"
   },
   {
    "duration": 21,
    "start_time": "2022-07-18T15:23:06.636Z"
   },
   {
    "duration": 13,
    "start_time": "2022-07-18T15:23:06.658Z"
   },
   {
    "duration": 7,
    "start_time": "2022-07-18T15:23:06.672Z"
   },
   {
    "duration": 10,
    "start_time": "2022-07-18T15:23:06.680Z"
   },
   {
    "duration": 6,
    "start_time": "2022-07-18T15:23:06.691Z"
   },
   {
    "duration": 5,
    "start_time": "2022-07-18T15:23:06.698Z"
   },
   {
    "duration": 12,
    "start_time": "2022-07-18T15:23:06.704Z"
   },
   {
    "duration": 142,
    "start_time": "2022-07-18T15:23:06.718Z"
   },
   {
    "duration": 14,
    "start_time": "2022-07-18T15:23:06.861Z"
   },
   {
    "duration": 101,
    "start_time": "2022-07-18T15:23:06.877Z"
   },
   {
    "duration": 104,
    "start_time": "2022-07-18T15:23:06.979Z"
   },
   {
    "duration": 16,
    "start_time": "2022-07-18T15:23:07.084Z"
   },
   {
    "duration": 55,
    "start_time": "2022-07-18T15:23:07.102Z"
   },
   {
    "duration": 96,
    "start_time": "2022-07-18T15:23:07.158Z"
   },
   {
    "duration": 106,
    "start_time": "2022-07-18T15:23:07.257Z"
   },
   {
    "duration": 18,
    "start_time": "2022-07-18T15:23:07.365Z"
   },
   {
    "duration": 15,
    "start_time": "2022-07-18T15:23:07.385Z"
   },
   {
    "duration": 15,
    "start_time": "2022-07-18T15:23:07.402Z"
   },
   {
    "duration": 13,
    "start_time": "2022-07-18T15:27:34.855Z"
   },
   {
    "duration": 147,
    "start_time": "2022-07-18T15:27:36.378Z"
   },
   {
    "duration": 105,
    "start_time": "2022-07-18T15:27:40.953Z"
   },
   {
    "duration": 1244,
    "start_time": "2022-07-18T15:28:13.796Z"
   },
   {
    "duration": 99,
    "start_time": "2022-07-18T15:28:15.044Z"
   },
   {
    "duration": 10,
    "start_time": "2022-07-18T15:28:15.145Z"
   },
   {
    "duration": 39,
    "start_time": "2022-07-18T15:28:15.159Z"
   },
   {
    "duration": 28,
    "start_time": "2022-07-18T15:28:15.201Z"
   },
   {
    "duration": 22,
    "start_time": "2022-07-18T15:28:15.231Z"
   },
   {
    "duration": 37,
    "start_time": "2022-07-18T15:28:15.256Z"
   },
   {
    "duration": 20,
    "start_time": "2022-07-18T15:28:15.295Z"
   },
   {
    "duration": 36,
    "start_time": "2022-07-18T15:28:15.317Z"
   },
   {
    "duration": 16,
    "start_time": "2022-07-18T15:28:15.356Z"
   },
   {
    "duration": 26,
    "start_time": "2022-07-18T15:28:15.374Z"
   },
   {
    "duration": 39,
    "start_time": "2022-07-18T15:28:15.401Z"
   },
   {
    "duration": 38,
    "start_time": "2022-07-18T15:28:15.441Z"
   },
   {
    "duration": 31,
    "start_time": "2022-07-18T15:28:15.481Z"
   },
   {
    "duration": 44,
    "start_time": "2022-07-18T15:28:15.514Z"
   },
   {
    "duration": 45,
    "start_time": "2022-07-18T15:28:15.561Z"
   },
   {
    "duration": 137,
    "start_time": "2022-07-18T15:28:15.608Z"
   },
   {
    "duration": 7,
    "start_time": "2022-07-18T15:28:15.752Z"
   },
   {
    "duration": 35,
    "start_time": "2022-07-18T15:28:15.760Z"
   },
   {
    "duration": 21,
    "start_time": "2022-07-18T15:28:15.798Z"
   },
   {
    "duration": 370,
    "start_time": "2022-07-18T15:28:15.821Z"
   },
   {
    "duration": 58,
    "start_time": "2022-07-18T15:28:16.193Z"
   },
   {
    "duration": 54,
    "start_time": "2022-07-18T15:28:16.254Z"
   },
   {
    "duration": 314,
    "start_time": "2022-07-18T15:28:16.353Z"
   },
   {
    "duration": 6,
    "start_time": "2022-07-18T15:28:16.669Z"
   },
   {
    "duration": 784,
    "start_time": "2022-07-18T15:28:16.677Z"
   },
   {
    "duration": 21,
    "start_time": "2022-07-18T15:28:17.463Z"
   },
   {
    "duration": 69,
    "start_time": "2022-07-18T15:28:17.488Z"
   },
   {
    "duration": 12,
    "start_time": "2022-07-18T15:28:17.558Z"
   },
   {
    "duration": 19,
    "start_time": "2022-07-18T15:28:17.573Z"
   },
   {
    "duration": 6,
    "start_time": "2022-07-18T15:28:17.594Z"
   },
   {
    "duration": 3,
    "start_time": "2022-07-18T15:28:17.652Z"
   },
   {
    "duration": 20,
    "start_time": "2022-07-18T15:28:17.657Z"
   },
   {
    "duration": 335,
    "start_time": "2022-07-18T15:28:17.680Z"
   },
   {
    "duration": 50,
    "start_time": "2022-07-18T15:28:18.017Z"
   },
   {
    "duration": 139,
    "start_time": "2022-07-18T15:28:18.069Z"
   },
   {
    "duration": 159,
    "start_time": "2022-07-18T15:28:18.210Z"
   },
   {
    "duration": 18,
    "start_time": "2022-07-18T15:28:18.370Z"
   },
   {
    "duration": 32,
    "start_time": "2022-07-18T15:28:18.389Z"
   },
   {
    "duration": 148,
    "start_time": "2022-07-18T15:28:18.423Z"
   },
   {
    "duration": 127,
    "start_time": "2022-07-18T15:28:18.573Z"
   },
   {
    "duration": 57,
    "start_time": "2022-07-18T15:28:18.702Z"
   },
   {
    "duration": 23,
    "start_time": "2022-07-18T15:28:18.762Z"
   },
   {
    "duration": 27,
    "start_time": "2022-07-18T15:28:18.787Z"
   },
   {
    "duration": 16,
    "start_time": "2022-07-18T15:31:00.418Z"
   },
   {
    "duration": 2,
    "start_time": "2022-07-18T15:31:52.189Z"
   },
   {
    "duration": 345,
    "start_time": "2022-07-18T15:33:11.207Z"
   },
   {
    "duration": 925,
    "start_time": "2022-07-18T15:33:35.575Z"
   },
   {
    "duration": 386,
    "start_time": "2022-07-18T15:33:45.840Z"
   },
   {
    "duration": 1004,
    "start_time": "2022-07-18T15:34:11.040Z"
   },
   {
    "duration": 327,
    "start_time": "2022-07-18T15:34:45.213Z"
   },
   {
    "duration": 743,
    "start_time": "2022-07-18T15:35:13.590Z"
   },
   {
    "duration": 535,
    "start_time": "2022-07-18T15:35:22.990Z"
   },
   {
    "duration": 1065,
    "start_time": "2022-07-18T15:35:41.159Z"
   },
   {
    "duration": 656,
    "start_time": "2022-07-18T15:35:53.821Z"
   },
   {
    "duration": 1279,
    "start_time": "2022-07-22T13:28:27.470Z"
   },
   {
    "duration": 94,
    "start_time": "2022-07-22T13:28:28.751Z"
   },
   {
    "duration": 20,
    "start_time": "2022-07-22T13:28:28.846Z"
   },
   {
    "duration": 28,
    "start_time": "2022-07-22T13:28:28.868Z"
   },
   {
    "duration": 22,
    "start_time": "2022-07-22T13:28:28.899Z"
   },
   {
    "duration": 14,
    "start_time": "2022-07-22T13:28:28.923Z"
   },
   {
    "duration": 26,
    "start_time": "2022-07-22T13:28:28.939Z"
   },
   {
    "duration": 29,
    "start_time": "2022-07-22T13:28:28.967Z"
   },
   {
    "duration": 35,
    "start_time": "2022-07-22T13:28:28.998Z"
   },
   {
    "duration": 15,
    "start_time": "2022-07-22T13:28:29.035Z"
   },
   {
    "duration": 50,
    "start_time": "2022-07-22T13:28:29.051Z"
   },
   {
    "duration": 26,
    "start_time": "2022-07-22T13:28:29.103Z"
   },
   {
    "duration": 18,
    "start_time": "2022-07-22T13:28:29.131Z"
   },
   {
    "duration": 19,
    "start_time": "2022-07-22T13:28:29.153Z"
   },
   {
    "duration": 17,
    "start_time": "2022-07-22T13:28:29.174Z"
   },
   {
    "duration": 32,
    "start_time": "2022-07-22T13:28:29.193Z"
   },
   {
    "duration": 142,
    "start_time": "2022-07-22T13:28:29.227Z"
   },
   {
    "duration": 6,
    "start_time": "2022-07-22T13:28:29.370Z"
   },
   {
    "duration": 25,
    "start_time": "2022-07-22T13:28:29.377Z"
   },
   {
    "duration": 21,
    "start_time": "2022-07-22T13:28:29.403Z"
   },
   {
    "duration": 141,
    "start_time": "2022-07-22T13:28:29.426Z"
   },
   {
    "duration": 5,
    "start_time": "2022-07-22T13:28:29.569Z"
   },
   {
    "duration": 27,
    "start_time": "2022-07-22T13:28:29.575Z"
   },
   {
    "duration": 173,
    "start_time": "2022-07-22T13:28:29.604Z"
   },
   {
    "duration": 7,
    "start_time": "2022-07-22T13:28:29.779Z"
   },
   {
    "duration": 332,
    "start_time": "2022-07-22T13:28:29.788Z"
   },
   {
    "duration": 16,
    "start_time": "2022-07-22T13:28:30.123Z"
   },
   {
    "duration": 38,
    "start_time": "2022-07-22T13:28:30.141Z"
   },
   {
    "duration": 18,
    "start_time": "2022-07-22T13:28:30.182Z"
   },
   {
    "duration": 11,
    "start_time": "2022-07-22T13:28:30.202Z"
   },
   {
    "duration": 17,
    "start_time": "2022-07-22T13:28:30.215Z"
   },
   {
    "duration": 3,
    "start_time": "2022-07-22T13:28:30.235Z"
   },
   {
    "duration": 23,
    "start_time": "2022-07-22T13:28:30.240Z"
   },
   {
    "duration": 136,
    "start_time": "2022-07-22T13:28:30.265Z"
   },
   {
    "duration": 14,
    "start_time": "2022-07-22T13:28:30.403Z"
   },
   {
    "duration": 134,
    "start_time": "2022-07-22T13:28:30.418Z"
   },
   {
    "duration": 111,
    "start_time": "2022-07-22T13:28:30.555Z"
   },
   {
    "duration": 61,
    "start_time": "2022-07-22T13:28:30.668Z"
   },
   {
    "duration": 21,
    "start_time": "2022-07-22T13:28:30.731Z"
   },
   {
    "duration": 98,
    "start_time": "2022-07-22T13:28:30.754Z"
   },
   {
    "duration": 119,
    "start_time": "2022-07-22T13:28:30.856Z"
   },
   {
    "duration": 58,
    "start_time": "2022-07-22T13:28:30.977Z"
   },
   {
    "duration": 40,
    "start_time": "2022-07-22T13:28:31.038Z"
   },
   {
    "duration": 3,
    "start_time": "2022-07-22T13:28:31.081Z"
   },
   {
    "duration": 388,
    "start_time": "2022-07-22T13:28:31.086Z"
   },
   {
    "duration": 885,
    "start_time": "2022-07-22T13:28:31.475Z"
   },
   {
    "duration": 351,
    "start_time": "2022-07-22T13:28:32.362Z"
   },
   {
    "duration": 1140,
    "start_time": "2022-07-22T13:28:32.714Z"
   },
   {
    "duration": 351,
    "start_time": "2022-07-22T13:28:33.855Z"
   },
   {
    "duration": 827,
    "start_time": "2022-07-22T13:28:34.209Z"
   },
   {
    "duration": 524,
    "start_time": "2022-07-22T13:28:35.038Z"
   },
   {
    "duration": 1216,
    "start_time": "2022-07-22T13:28:35.563Z"
   },
   {
    "duration": 371,
    "start_time": "2022-07-22T13:29:02.160Z"
   },
   {
    "duration": 817,
    "start_time": "2022-07-22T13:29:54.084Z"
   },
   {
    "duration": 4,
    "start_time": "2022-07-22T13:30:46.722Z"
   },
   {
    "duration": 20,
    "start_time": "2022-07-22T13:30:53.210Z"
   },
   {
    "duration": 25,
    "start_time": "2022-07-22T13:31:33.983Z"
   },
   {
    "duration": 18,
    "start_time": "2022-07-22T13:32:54.066Z"
   },
   {
    "duration": 24,
    "start_time": "2022-07-22T13:39:28.465Z"
   },
   {
    "duration": 367,
    "start_time": "2022-07-22T13:39:50.490Z"
   },
   {
    "duration": 21,
    "start_time": "2022-07-22T13:39:59.978Z"
   },
   {
    "duration": 32,
    "start_time": "2022-07-22T13:40:18.805Z"
   },
   {
    "duration": 1195,
    "start_time": "2022-07-22T13:49:18.765Z"
   },
   {
    "duration": 72,
    "start_time": "2022-07-22T13:49:19.962Z"
   },
   {
    "duration": 11,
    "start_time": "2022-07-22T13:49:20.036Z"
   },
   {
    "duration": 19,
    "start_time": "2022-07-22T13:49:20.049Z"
   },
   {
    "duration": 13,
    "start_time": "2022-07-22T13:49:20.070Z"
   },
   {
    "duration": 10,
    "start_time": "2022-07-22T13:49:20.085Z"
   },
   {
    "duration": 29,
    "start_time": "2022-07-22T13:49:20.096Z"
   },
   {
    "duration": 6,
    "start_time": "2022-07-22T13:49:20.126Z"
   },
   {
    "duration": 28,
    "start_time": "2022-07-22T13:49:20.134Z"
   },
   {
    "duration": 13,
    "start_time": "2022-07-22T13:49:20.166Z"
   },
   {
    "duration": 11,
    "start_time": "2022-07-22T13:49:20.181Z"
   },
   {
    "duration": 35,
    "start_time": "2022-07-22T13:49:20.194Z"
   },
   {
    "duration": 21,
    "start_time": "2022-07-22T13:49:20.230Z"
   },
   {
    "duration": 14,
    "start_time": "2022-07-22T13:49:20.253Z"
   },
   {
    "duration": 6,
    "start_time": "2022-07-22T13:49:20.268Z"
   },
   {
    "duration": 28,
    "start_time": "2022-07-22T13:49:20.276Z"
   },
   {
    "duration": 165,
    "start_time": "2022-07-22T13:49:20.306Z"
   },
   {
    "duration": 5,
    "start_time": "2022-07-22T13:49:20.473Z"
   },
   {
    "duration": 28,
    "start_time": "2022-07-22T13:49:20.479Z"
   },
   {
    "duration": 15,
    "start_time": "2022-07-22T13:49:20.508Z"
   },
   {
    "duration": 168,
    "start_time": "2022-07-22T13:49:20.525Z"
   },
   {
    "duration": 5,
    "start_time": "2022-07-22T13:49:20.696Z"
   },
   {
    "duration": 42,
    "start_time": "2022-07-22T13:49:20.703Z"
   },
   {
    "duration": 154,
    "start_time": "2022-07-22T13:49:20.746Z"
   },
   {
    "duration": 5,
    "start_time": "2022-07-22T13:49:20.902Z"
   },
   {
    "duration": 357,
    "start_time": "2022-07-22T13:49:20.908Z"
   },
   {
    "duration": 22,
    "start_time": "2022-07-22T13:49:21.267Z"
   },
   {
    "duration": 12,
    "start_time": "2022-07-22T13:49:21.294Z"
   },
   {
    "duration": 7,
    "start_time": "2022-07-22T13:49:21.323Z"
   },
   {
    "duration": 19,
    "start_time": "2022-07-22T13:49:21.331Z"
   },
   {
    "duration": 6,
    "start_time": "2022-07-22T13:49:21.351Z"
   },
   {
    "duration": 4,
    "start_time": "2022-07-22T13:49:21.359Z"
   },
   {
    "duration": 14,
    "start_time": "2022-07-22T13:49:21.364Z"
   },
   {
    "duration": 144,
    "start_time": "2022-07-22T13:49:21.380Z"
   },
   {
    "duration": 17,
    "start_time": "2022-07-22T13:49:21.526Z"
   },
   {
    "duration": 111,
    "start_time": "2022-07-22T13:49:21.545Z"
   },
   {
    "duration": 113,
    "start_time": "2022-07-22T13:49:21.658Z"
   },
   {
    "duration": 59,
    "start_time": "2022-07-22T13:49:21.773Z"
   },
   {
    "duration": 24,
    "start_time": "2022-07-22T13:49:21.834Z"
   },
   {
    "duration": 108,
    "start_time": "2022-07-22T13:49:21.860Z"
   },
   {
    "duration": 99,
    "start_time": "2022-07-22T13:49:21.970Z"
   },
   {
    "duration": 56,
    "start_time": "2022-07-22T13:49:22.071Z"
   },
   {
    "duration": 18,
    "start_time": "2022-07-22T13:49:22.129Z"
   },
   {
    "duration": 2,
    "start_time": "2022-07-22T13:49:22.148Z"
   },
   {
    "duration": 400,
    "start_time": "2022-07-22T13:49:22.152Z"
   },
   {
    "duration": 909,
    "start_time": "2022-07-22T13:49:22.553Z"
   },
   {
    "duration": 384,
    "start_time": "2022-07-22T13:49:23.463Z"
   },
   {
    "duration": 1096,
    "start_time": "2022-07-22T13:49:23.849Z"
   },
   {
    "duration": 344,
    "start_time": "2022-07-22T13:49:24.947Z"
   },
   {
    "duration": 936,
    "start_time": "2022-07-22T13:49:25.293Z"
   },
   {
    "duration": 605,
    "start_time": "2022-07-22T13:49:26.231Z"
   },
   {
    "duration": 1233,
    "start_time": "2022-07-22T13:49:26.837Z"
   },
   {
    "duration": 418,
    "start_time": "2022-07-22T13:49:28.072Z"
   },
   {
    "duration": 36,
    "start_time": "2022-07-22T13:49:28.492Z"
   },
   {
    "duration": 18,
    "start_time": "2022-07-22T13:49:28.530Z"
   },
   {
    "duration": 168,
    "start_time": "2022-07-22T13:49:28.550Z"
   },
   {
    "duration": 0,
    "start_time": "2022-07-22T13:49:28.720Z"
   },
   {
    "duration": 0,
    "start_time": "2022-07-22T13:49:28.723Z"
   },
   {
    "duration": 0,
    "start_time": "2022-07-22T13:49:28.724Z"
   },
   {
    "duration": 0,
    "start_time": "2022-07-22T13:49:28.726Z"
   },
   {
    "duration": 0,
    "start_time": "2022-07-22T13:49:28.728Z"
   },
   {
    "duration": 28,
    "start_time": "2022-07-22T13:49:41.505Z"
   },
   {
    "duration": 30,
    "start_time": "2022-07-22T13:49:44.599Z"
   },
   {
    "duration": 18,
    "start_time": "2022-07-22T13:49:47.094Z"
   },
   {
    "duration": 1030,
    "start_time": "2022-07-22T13:50:42.088Z"
   },
   {
    "duration": 29,
    "start_time": "2022-07-22T13:50:55.217Z"
   },
   {
    "duration": 21,
    "start_time": "2022-07-22T13:51:02.285Z"
   },
   {
    "duration": 338,
    "start_time": "2022-07-22T13:51:14.078Z"
   },
   {
    "duration": 421,
    "start_time": "2022-07-22T13:51:29.367Z"
   },
   {
    "duration": 23,
    "start_time": "2022-07-22T13:51:31.587Z"
   },
   {
    "duration": 20,
    "start_time": "2022-07-22T13:51:48.388Z"
   },
   {
    "duration": 383,
    "start_time": "2022-07-22T13:59:12.176Z"
   },
   {
    "duration": 8,
    "start_time": "2022-07-22T14:02:08.250Z"
   },
   {
    "duration": 21,
    "start_time": "2022-07-22T14:02:17.468Z"
   },
   {
    "duration": 11,
    "start_time": "2022-07-22T14:02:20.365Z"
   },
   {
    "duration": 34,
    "start_time": "2022-07-22T14:02:52.907Z"
   },
   {
    "duration": 23,
    "start_time": "2022-07-22T14:03:15.065Z"
   },
   {
    "duration": 25,
    "start_time": "2022-07-22T14:03:39.109Z"
   },
   {
    "duration": 19,
    "start_time": "2022-07-22T14:03:43.390Z"
   },
   {
    "duration": 13,
    "start_time": "2022-07-22T14:04:02.809Z"
   },
   {
    "duration": 21,
    "start_time": "2022-07-22T14:06:13.363Z"
   },
   {
    "duration": 18,
    "start_time": "2022-07-22T14:06:20.361Z"
   },
   {
    "duration": 6,
    "start_time": "2022-07-22T14:31:12.659Z"
   },
   {
    "duration": 53,
    "start_time": "2022-07-22T14:31:58.358Z"
   },
   {
    "duration": 16,
    "start_time": "2022-07-22T14:32:27.441Z"
   },
   {
    "duration": 13,
    "start_time": "2022-07-22T14:37:40.185Z"
   },
   {
    "duration": 17,
    "start_time": "2022-07-22T14:38:11.052Z"
   },
   {
    "duration": 21,
    "start_time": "2022-07-22T14:39:35.710Z"
   },
   {
    "duration": 20,
    "start_time": "2022-07-22T14:41:16.556Z"
   },
   {
    "duration": 13,
    "start_time": "2022-07-22T15:00:14.824Z"
   },
   {
    "duration": 9,
    "start_time": "2022-07-22T15:07:51.256Z"
   },
   {
    "duration": 26,
    "start_time": "2022-07-22T15:08:52.633Z"
   },
   {
    "duration": 6,
    "start_time": "2022-07-22T15:09:57.798Z"
   },
   {
    "duration": 19,
    "start_time": "2022-07-22T15:09:59.419Z"
   },
   {
    "duration": 4,
    "start_time": "2022-07-22T15:10:31.475Z"
   },
   {
    "duration": 8,
    "start_time": "2022-07-22T15:10:35.735Z"
   },
   {
    "duration": 7,
    "start_time": "2022-07-22T15:11:47.705Z"
   },
   {
    "duration": 9,
    "start_time": "2022-07-22T15:12:02.974Z"
   },
   {
    "duration": 10,
    "start_time": "2022-07-22T15:12:43.580Z"
   },
   {
    "duration": 11,
    "start_time": "2022-07-22T15:12:49.808Z"
   },
   {
    "duration": 8,
    "start_time": "2022-07-22T15:12:52.038Z"
   },
   {
    "duration": 22,
    "start_time": "2022-07-22T16:19:43.617Z"
   },
   {
    "duration": 4,
    "start_time": "2022-07-22T16:20:02.304Z"
   },
   {
    "duration": 3,
    "start_time": "2022-07-22T16:43:47.111Z"
   },
   {
    "duration": 13,
    "start_time": "2022-07-22T16:55:32.853Z"
   },
   {
    "duration": 7,
    "start_time": "2022-07-22T16:56:29.812Z"
   },
   {
    "duration": 8,
    "start_time": "2022-07-22T16:57:09.476Z"
   },
   {
    "duration": 8,
    "start_time": "2022-07-22T16:57:38.889Z"
   },
   {
    "duration": 7,
    "start_time": "2022-07-22T16:59:04.403Z"
   },
   {
    "duration": 7,
    "start_time": "2022-07-22T16:59:09.029Z"
   },
   {
    "duration": 7,
    "start_time": "2022-07-22T16:59:11.720Z"
   },
   {
    "duration": 6,
    "start_time": "2022-07-22T16:59:13.908Z"
   },
   {
    "duration": 3,
    "start_time": "2022-07-22T16:59:17.086Z"
   },
   {
    "duration": 1208,
    "start_time": "2022-07-22T16:59:24.419Z"
   },
   {
    "duration": 78,
    "start_time": "2022-07-22T16:59:25.629Z"
   },
   {
    "duration": 9,
    "start_time": "2022-07-22T16:59:25.708Z"
   },
   {
    "duration": 14,
    "start_time": "2022-07-22T16:59:25.719Z"
   },
   {
    "duration": 17,
    "start_time": "2022-07-22T16:59:25.735Z"
   },
   {
    "duration": 13,
    "start_time": "2022-07-22T16:59:25.754Z"
   },
   {
    "duration": 10,
    "start_time": "2022-07-22T16:59:25.769Z"
   },
   {
    "duration": 5,
    "start_time": "2022-07-22T16:59:25.781Z"
   },
   {
    "duration": 57,
    "start_time": "2022-07-22T16:59:25.788Z"
   },
   {
    "duration": 13,
    "start_time": "2022-07-22T16:59:25.848Z"
   },
   {
    "duration": 15,
    "start_time": "2022-07-22T16:59:25.863Z"
   },
   {
    "duration": 16,
    "start_time": "2022-07-22T16:59:25.880Z"
   },
   {
    "duration": 31,
    "start_time": "2022-07-22T16:59:25.898Z"
   },
   {
    "duration": 15,
    "start_time": "2022-07-22T16:59:25.931Z"
   },
   {
    "duration": 7,
    "start_time": "2022-07-22T16:59:25.948Z"
   },
   {
    "duration": 30,
    "start_time": "2022-07-22T16:59:25.956Z"
   },
   {
    "duration": 175,
    "start_time": "2022-07-22T16:59:25.988Z"
   },
   {
    "duration": 6,
    "start_time": "2022-07-22T16:59:26.165Z"
   },
   {
    "duration": 26,
    "start_time": "2022-07-22T16:59:26.172Z"
   },
   {
    "duration": 23,
    "start_time": "2022-07-22T16:59:26.200Z"
   },
   {
    "duration": 153,
    "start_time": "2022-07-22T16:59:26.225Z"
   },
   {
    "duration": 6,
    "start_time": "2022-07-22T16:59:26.379Z"
   },
   {
    "duration": 40,
    "start_time": "2022-07-22T16:59:26.386Z"
   },
   {
    "duration": 163,
    "start_time": "2022-07-22T16:59:26.428Z"
   },
   {
    "duration": 6,
    "start_time": "2022-07-22T16:59:26.593Z"
   },
   {
    "duration": 318,
    "start_time": "2022-07-22T16:59:26.600Z"
   },
   {
    "duration": 19,
    "start_time": "2022-07-22T16:59:26.924Z"
   },
   {
    "duration": 16,
    "start_time": "2022-07-22T16:59:26.947Z"
   },
   {
    "duration": 29,
    "start_time": "2022-07-22T16:59:26.965Z"
   },
   {
    "duration": 19,
    "start_time": "2022-07-22T16:59:26.997Z"
   },
   {
    "duration": 23,
    "start_time": "2022-07-22T16:59:27.018Z"
   },
   {
    "duration": 17,
    "start_time": "2022-07-22T16:59:27.042Z"
   },
   {
    "duration": 15,
    "start_time": "2022-07-22T16:59:27.061Z"
   },
   {
    "duration": 137,
    "start_time": "2022-07-22T16:59:27.078Z"
   },
   {
    "duration": 18,
    "start_time": "2022-07-22T16:59:27.217Z"
   },
   {
    "duration": 125,
    "start_time": "2022-07-22T16:59:27.237Z"
   },
   {
    "duration": 117,
    "start_time": "2022-07-22T16:59:27.364Z"
   },
   {
    "duration": 49,
    "start_time": "2022-07-22T16:59:27.483Z"
   },
   {
    "duration": 20,
    "start_time": "2022-07-22T16:59:27.534Z"
   },
   {
    "duration": 100,
    "start_time": "2022-07-22T16:59:27.556Z"
   },
   {
    "duration": 105,
    "start_time": "2022-07-22T16:59:27.657Z"
   },
   {
    "duration": 59,
    "start_time": "2022-07-22T16:59:27.764Z"
   },
   {
    "duration": 20,
    "start_time": "2022-07-22T16:59:27.826Z"
   },
   {
    "duration": 6,
    "start_time": "2022-07-22T16:59:27.848Z"
   },
   {
    "duration": 444,
    "start_time": "2022-07-22T16:59:27.856Z"
   },
   {
    "duration": 1061,
    "start_time": "2022-07-22T16:59:28.302Z"
   },
   {
    "duration": 364,
    "start_time": "2022-07-22T16:59:29.365Z"
   },
   {
    "duration": 1127,
    "start_time": "2022-07-22T16:59:29.732Z"
   },
   {
    "duration": 394,
    "start_time": "2022-07-22T16:59:30.861Z"
   },
   {
    "duration": 1022,
    "start_time": "2022-07-22T16:59:31.257Z"
   },
   {
    "duration": 573,
    "start_time": "2022-07-22T16:59:32.281Z"
   },
   {
    "duration": 1264,
    "start_time": "2022-07-22T16:59:32.857Z"
   },
   {
    "duration": 349,
    "start_time": "2022-07-22T16:59:34.123Z"
   },
   {
    "duration": 24,
    "start_time": "2022-07-22T16:59:34.475Z"
   },
   {
    "duration": 43,
    "start_time": "2022-07-22T16:59:34.501Z"
   },
   {
    "duration": 25,
    "start_time": "2022-07-22T16:59:34.546Z"
   },
   {
    "duration": 3,
    "start_time": "2022-07-22T16:59:34.573Z"
   },
   {
    "duration": 9,
    "start_time": "2022-07-22T16:59:34.578Z"
   },
   {
    "duration": 8,
    "start_time": "2022-07-22T16:59:34.589Z"
   },
   {
    "duration": 7,
    "start_time": "2022-07-22T16:59:34.624Z"
   },
   {
    "duration": 10,
    "start_time": "2022-07-22T16:59:34.633Z"
   },
   {
    "duration": 28,
    "start_time": "2022-07-22T17:34:42.672Z"
   },
   {
    "duration": 3,
    "start_time": "2022-07-22T17:39:37.780Z"
   },
   {
    "duration": 8,
    "start_time": "2022-07-22T17:39:39.695Z"
   },
   {
    "duration": 8,
    "start_time": "2022-07-22T17:39:41.230Z"
   },
   {
    "duration": 7,
    "start_time": "2022-07-22T17:39:42.827Z"
   },
   {
    "duration": 7,
    "start_time": "2022-07-22T17:39:44.336Z"
   },
   {
    "duration": 8,
    "start_time": "2022-07-22T17:39:46.283Z"
   },
   {
    "duration": 7,
    "start_time": "2022-07-22T17:39:48.116Z"
   },
   {
    "duration": 58,
    "start_time": "2022-07-22T17:44:39.470Z"
   },
   {
    "duration": 56,
    "start_time": "2022-07-22T18:51:45.058Z"
   },
   {
    "duration": 78,
    "start_time": "2022-07-22T18:52:01.970Z"
   },
   {
    "duration": 4,
    "start_time": "2022-07-22T18:52:06.596Z"
   },
   {
    "duration": 5,
    "start_time": "2022-07-22T18:52:10.271Z"
   },
   {
    "duration": 4,
    "start_time": "2022-07-22T18:54:36.488Z"
   },
   {
    "duration": 75,
    "start_time": "2022-07-23T22:25:28.605Z"
   },
   {
    "duration": 1307,
    "start_time": "2022-07-24T15:03:35.600Z"
   },
   {
    "duration": 78,
    "start_time": "2022-07-24T15:03:36.909Z"
   },
   {
    "duration": 9,
    "start_time": "2022-07-24T15:03:36.989Z"
   },
   {
    "duration": 28,
    "start_time": "2022-07-24T15:03:37.000Z"
   },
   {
    "duration": 11,
    "start_time": "2022-07-24T15:03:37.029Z"
   },
   {
    "duration": 11,
    "start_time": "2022-07-24T15:03:37.041Z"
   },
   {
    "duration": 8,
    "start_time": "2022-07-24T15:03:37.053Z"
   },
   {
    "duration": 4,
    "start_time": "2022-07-24T15:03:37.062Z"
   },
   {
    "duration": 20,
    "start_time": "2022-07-24T15:03:37.068Z"
   },
   {
    "duration": 28,
    "start_time": "2022-07-24T15:03:37.091Z"
   },
   {
    "duration": 17,
    "start_time": "2022-07-24T15:03:37.121Z"
   },
   {
    "duration": 11,
    "start_time": "2022-07-24T15:03:37.140Z"
   },
   {
    "duration": 9,
    "start_time": "2022-07-24T15:03:37.153Z"
   },
   {
    "duration": 10,
    "start_time": "2022-07-24T15:03:37.164Z"
   },
   {
    "duration": 34,
    "start_time": "2022-07-24T15:03:37.175Z"
   },
   {
    "duration": 23,
    "start_time": "2022-07-24T15:03:37.212Z"
   },
   {
    "duration": 141,
    "start_time": "2022-07-24T15:03:37.236Z"
   },
   {
    "duration": 5,
    "start_time": "2022-07-24T15:03:37.379Z"
   },
   {
    "duration": 35,
    "start_time": "2022-07-24T15:03:37.385Z"
   },
   {
    "duration": 5,
    "start_time": "2022-07-24T15:03:37.421Z"
   },
   {
    "duration": 133,
    "start_time": "2022-07-24T15:03:37.427Z"
   },
   {
    "duration": 4,
    "start_time": "2022-07-24T15:03:37.561Z"
   },
   {
    "duration": 25,
    "start_time": "2022-07-24T15:03:37.567Z"
   },
   {
    "duration": 146,
    "start_time": "2022-07-24T15:03:37.593Z"
   },
   {
    "duration": 4,
    "start_time": "2022-07-24T15:03:37.741Z"
   },
   {
    "duration": 269,
    "start_time": "2022-07-24T15:03:37.747Z"
   },
   {
    "duration": 12,
    "start_time": "2022-07-24T15:03:38.018Z"
   },
   {
    "duration": 12,
    "start_time": "2022-07-24T15:03:38.035Z"
   },
   {
    "duration": 6,
    "start_time": "2022-07-24T15:03:38.049Z"
   },
   {
    "duration": 5,
    "start_time": "2022-07-24T15:03:38.057Z"
   },
   {
    "duration": 5,
    "start_time": "2022-07-24T15:03:38.064Z"
   },
   {
    "duration": 8,
    "start_time": "2022-07-24T15:03:38.071Z"
   },
   {
    "duration": 43,
    "start_time": "2022-07-24T15:03:38.081Z"
   },
   {
    "duration": 127,
    "start_time": "2022-07-24T15:03:38.125Z"
   },
   {
    "duration": 13,
    "start_time": "2022-07-24T15:03:38.254Z"
   },
   {
    "duration": 90,
    "start_time": "2022-07-24T15:03:38.269Z"
   },
   {
    "duration": 106,
    "start_time": "2022-07-24T15:03:38.360Z"
   },
   {
    "duration": 51,
    "start_time": "2022-07-24T15:03:38.468Z"
   },
   {
    "duration": 14,
    "start_time": "2022-07-24T15:03:38.520Z"
   },
   {
    "duration": 90,
    "start_time": "2022-07-24T15:03:38.535Z"
   },
   {
    "duration": 94,
    "start_time": "2022-07-24T15:03:38.627Z"
   },
   {
    "duration": 15,
    "start_time": "2022-07-24T15:03:38.723Z"
   },
   {
    "duration": 14,
    "start_time": "2022-07-24T15:03:38.740Z"
   },
   {
    "duration": 443,
    "start_time": "2022-07-24T15:03:38.755Z"
   },
   {
    "duration": 883,
    "start_time": "2022-07-24T15:03:39.200Z"
   },
   {
    "duration": 337,
    "start_time": "2022-07-24T15:03:40.085Z"
   },
   {
    "duration": 1160,
    "start_time": "2022-07-24T15:03:40.424Z"
   },
   {
    "duration": 321,
    "start_time": "2022-07-24T15:03:41.586Z"
   },
   {
    "duration": 756,
    "start_time": "2022-07-24T15:03:41.909Z"
   },
   {
    "duration": 510,
    "start_time": "2022-07-24T15:03:42.667Z"
   },
   {
    "duration": 1162,
    "start_time": "2022-07-24T15:03:43.178Z"
   },
   {
    "duration": 352,
    "start_time": "2022-07-24T15:03:44.342Z"
   },
   {
    "duration": 25,
    "start_time": "2022-07-24T15:03:44.696Z"
   },
   {
    "duration": 21,
    "start_time": "2022-07-24T15:03:44.723Z"
   },
   {
    "duration": 20,
    "start_time": "2022-07-24T15:03:44.746Z"
   },
   {
    "duration": 3,
    "start_time": "2022-07-24T15:03:44.768Z"
   },
   {
    "duration": 38,
    "start_time": "2022-07-24T15:03:44.773Z"
   },
   {
    "duration": 8,
    "start_time": "2022-07-24T15:03:44.812Z"
   },
   {
    "duration": 8,
    "start_time": "2022-07-24T15:03:44.821Z"
   },
   {
    "duration": 91,
    "start_time": "2022-07-24T15:03:44.830Z"
   },
   {
    "duration": 0,
    "start_time": "2022-07-24T15:03:44.923Z"
   },
   {
    "duration": 0,
    "start_time": "2022-07-24T15:03:44.925Z"
   },
   {
    "duration": 0,
    "start_time": "2022-07-24T15:03:44.926Z"
   },
   {
    "duration": 0,
    "start_time": "2022-07-24T15:03:44.927Z"
   },
   {
    "duration": 0,
    "start_time": "2022-07-24T15:03:44.928Z"
   },
   {
    "duration": 0,
    "start_time": "2022-07-24T15:03:44.929Z"
   },
   {
    "duration": 0,
    "start_time": "2022-07-24T15:03:44.930Z"
   },
   {
    "duration": 0,
    "start_time": "2022-07-24T15:03:44.931Z"
   },
   {
    "duration": 0,
    "start_time": "2022-07-24T15:03:44.932Z"
   },
   {
    "duration": 0,
    "start_time": "2022-07-24T15:03:44.933Z"
   },
   {
    "duration": 45,
    "start_time": "2022-07-24T15:04:06.082Z"
   },
   {
    "duration": 49,
    "start_time": "2022-07-24T15:04:12.929Z"
   },
   {
    "duration": 335,
    "start_time": "2022-07-24T15:05:19.150Z"
   },
   {
    "duration": 403,
    "start_time": "2022-07-24T15:17:56.088Z"
   },
   {
    "duration": 307,
    "start_time": "2022-07-24T15:18:18.060Z"
   },
   {
    "duration": 7,
    "start_time": "2022-07-24T15:23:50.167Z"
   },
   {
    "duration": 395,
    "start_time": "2022-07-24T15:23:53.112Z"
   },
   {
    "duration": 309,
    "start_time": "2022-07-24T15:24:00.408Z"
   },
   {
    "duration": 754,
    "start_time": "2022-07-24T15:24:04.816Z"
   },
   {
    "duration": 1079,
    "start_time": "2022-07-24T16:15:08.360Z"
   },
   {
    "duration": 1226,
    "start_time": "2022-07-24T16:15:40.365Z"
   },
   {
    "duration": 1146,
    "start_time": "2022-07-24T16:15:59.319Z"
   },
   {
    "duration": 6,
    "start_time": "2022-07-24T16:19:22.045Z"
   },
   {
    "duration": 42,
    "start_time": "2022-07-25T11:21:22.364Z"
   },
   {
    "duration": 1259,
    "start_time": "2022-07-25T11:21:27.521Z"
   },
   {
    "duration": 106,
    "start_time": "2022-07-25T11:21:28.782Z"
   },
   {
    "duration": 8,
    "start_time": "2022-07-25T11:21:28.889Z"
   },
   {
    "duration": 12,
    "start_time": "2022-07-25T11:21:28.898Z"
   },
   {
    "duration": 10,
    "start_time": "2022-07-25T11:21:28.911Z"
   },
   {
    "duration": 12,
    "start_time": "2022-07-25T11:21:28.923Z"
   },
   {
    "duration": 22,
    "start_time": "2022-07-25T11:21:28.936Z"
   },
   {
    "duration": 6,
    "start_time": "2022-07-25T11:21:28.960Z"
   },
   {
    "duration": 29,
    "start_time": "2022-07-25T11:21:28.968Z"
   },
   {
    "duration": 18,
    "start_time": "2022-07-25T11:21:28.999Z"
   },
   {
    "duration": 23,
    "start_time": "2022-07-25T11:21:29.019Z"
   },
   {
    "duration": 21,
    "start_time": "2022-07-25T11:21:29.043Z"
   },
   {
    "duration": 25,
    "start_time": "2022-07-25T11:21:29.066Z"
   },
   {
    "duration": 18,
    "start_time": "2022-07-25T11:21:29.092Z"
   },
   {
    "duration": 10,
    "start_time": "2022-07-25T11:21:29.112Z"
   },
   {
    "duration": 21,
    "start_time": "2022-07-25T11:21:29.123Z"
   },
   {
    "duration": 116,
    "start_time": "2022-07-25T11:21:29.146Z"
   },
   {
    "duration": 5,
    "start_time": "2022-07-25T11:21:29.264Z"
   },
   {
    "duration": 44,
    "start_time": "2022-07-25T11:21:29.271Z"
   },
   {
    "duration": 8,
    "start_time": "2022-07-25T11:21:29.317Z"
   },
   {
    "duration": 132,
    "start_time": "2022-07-25T11:21:29.326Z"
   },
   {
    "duration": 4,
    "start_time": "2022-07-25T11:21:29.459Z"
   },
   {
    "duration": 28,
    "start_time": "2022-07-25T11:21:29.465Z"
   },
   {
    "duration": 151,
    "start_time": "2022-07-25T11:21:29.494Z"
   },
   {
    "duration": 4,
    "start_time": "2022-07-25T11:21:29.646Z"
   },
   {
    "duration": 311,
    "start_time": "2022-07-25T11:21:29.651Z"
   },
   {
    "duration": 12,
    "start_time": "2022-07-25T11:21:29.963Z"
   },
   {
    "duration": 22,
    "start_time": "2022-07-25T11:21:29.978Z"
   },
   {
    "duration": 34,
    "start_time": "2022-07-25T11:21:30.001Z"
   },
   {
    "duration": 22,
    "start_time": "2022-07-25T11:21:30.036Z"
   },
   {
    "duration": 7,
    "start_time": "2022-07-25T11:21:30.060Z"
   },
   {
    "duration": 11,
    "start_time": "2022-07-25T11:21:30.069Z"
   },
   {
    "duration": 17,
    "start_time": "2022-07-25T11:21:30.081Z"
   },
   {
    "duration": 127,
    "start_time": "2022-07-25T11:21:30.099Z"
   },
   {
    "duration": 14,
    "start_time": "2022-07-25T11:21:30.227Z"
   },
   {
    "duration": 102,
    "start_time": "2022-07-25T11:21:30.242Z"
   },
   {
    "duration": 101,
    "start_time": "2022-07-25T11:21:30.345Z"
   },
   {
    "duration": 14,
    "start_time": "2022-07-25T11:21:30.448Z"
   },
   {
    "duration": 33,
    "start_time": "2022-07-25T11:21:30.464Z"
   },
   {
    "duration": 71,
    "start_time": "2022-07-25T11:21:30.499Z"
   },
   {
    "duration": 95,
    "start_time": "2022-07-25T11:21:30.572Z"
   },
   {
    "duration": 15,
    "start_time": "2022-07-25T11:21:30.668Z"
   },
   {
    "duration": 50,
    "start_time": "2022-07-25T11:21:30.684Z"
   },
   {
    "duration": 346,
    "start_time": "2022-07-25T11:21:30.736Z"
   },
   {
    "duration": 764,
    "start_time": "2022-07-25T11:21:31.083Z"
   },
   {
    "duration": 313,
    "start_time": "2022-07-25T11:21:31.848Z"
   },
   {
    "duration": 1034,
    "start_time": "2022-07-25T11:21:32.163Z"
   },
   {
    "duration": 6,
    "start_time": "2022-07-25T11:21:33.200Z"
   },
   {
    "duration": 293,
    "start_time": "2022-07-25T11:21:33.207Z"
   },
   {
    "duration": 701,
    "start_time": "2022-07-25T11:21:33.502Z"
   },
   {
    "duration": 439,
    "start_time": "2022-07-25T11:21:34.205Z"
   },
   {
    "duration": 1042,
    "start_time": "2022-07-25T11:21:34.646Z"
   },
   {
    "duration": 308,
    "start_time": "2022-07-25T11:21:35.690Z"
   },
   {
    "duration": 20,
    "start_time": "2022-07-25T11:21:36.000Z"
   },
   {
    "duration": 19,
    "start_time": "2022-07-25T11:21:36.031Z"
   },
   {
    "duration": 20,
    "start_time": "2022-07-25T11:21:36.051Z"
   },
   {
    "duration": 3,
    "start_time": "2022-07-25T11:21:36.072Z"
   },
   {
    "duration": 8,
    "start_time": "2022-07-25T11:21:36.077Z"
   },
   {
    "duration": 9,
    "start_time": "2022-07-25T11:21:36.087Z"
   },
   {
    "duration": 6,
    "start_time": "2022-07-25T11:21:36.097Z"
   },
   {
    "duration": 5,
    "start_time": "2022-07-25T11:21:36.132Z"
   },
   {
    "duration": 27,
    "start_time": "2022-07-25T11:21:36.138Z"
   },
   {
    "duration": 2,
    "start_time": "2022-07-25T11:21:36.167Z"
   },
   {
    "duration": 14,
    "start_time": "2022-07-25T11:21:36.171Z"
   },
   {
    "duration": 6,
    "start_time": "2022-07-25T11:21:36.186Z"
   },
   {
    "duration": 7,
    "start_time": "2022-07-25T11:21:36.193Z"
   },
   {
    "duration": 12,
    "start_time": "2022-07-25T11:21:36.202Z"
   },
   {
    "duration": 20,
    "start_time": "2022-07-25T11:21:36.215Z"
   },
   {
    "duration": 9,
    "start_time": "2022-07-25T11:21:36.237Z"
   },
   {
    "duration": 6,
    "start_time": "2022-07-25T11:21:36.247Z"
   },
   {
    "duration": 200,
    "start_time": "2022-07-25T11:21:36.254Z"
   },
   {
    "duration": 115,
    "start_time": "2022-07-25T11:31:54.223Z"
   },
   {
    "duration": 84,
    "start_time": "2022-07-25T11:32:58.461Z"
   },
   {
    "duration": 23,
    "start_time": "2022-07-25T11:33:04.529Z"
   },
   {
    "duration": 464,
    "start_time": "2022-07-25T11:33:20.446Z"
   }
  ],
  "kernelspec": {
   "display_name": "Python 3 (ipykernel)",
   "language": "python",
   "name": "python3"
  },
  "language_info": {
   "codemirror_mode": {
    "name": "ipython",
    "version": 3
   },
   "file_extension": ".py",
   "mimetype": "text/x-python",
   "name": "python",
   "nbconvert_exporter": "python",
   "pygments_lexer": "ipython3",
   "version": "3.10.5"
  },
  "toc": {
   "base_numbering": 1,
   "nav_menu": {},
   "number_sections": true,
   "sideBar": true,
   "skip_h1_title": true,
   "title_cell": "Table of Contents",
   "title_sidebar": "Contents",
   "toc_cell": false,
   "toc_position": {
    "height": "calc(100% - 180px)",
    "left": "10px",
    "top": "150px",
    "width": "289.6px"
   },
   "toc_section_display": true,
   "toc_window_display": false
  }
 },
 "nbformat": 4,
 "nbformat_minor": 2
}
