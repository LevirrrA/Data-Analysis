{
 "cells": [
  {
   "cell_type": "markdown",
   "metadata": {},
   "source": [
    "# Принятие решений в бизнесе на основе данных\n",
    "\n",
    "## Описание проекта\n",
    "\n",
    "Аналитики крупного интернет-магазина вместе с отделом маркетинга подготовили список гипотез для увеличения выручки. Нужно приоритизировать гипотезы, запустить A/B-тест и проанализировать результаты.\n",
    "\n",
    "### Описание данных\n",
    "\n",
    "Данные для первой части\n",
    "\n",
    "Таблица `hypothesis` (информация о гипотезах и их параметрах): \n",
    "\n",
    "* `Hypothesis` — краткое описание гипотезы;\n",
    "* `Reach` — охват пользователей по 10-балльной шкале;\n",
    "* `Impact` — влияние на пользователей по 10-балльной шкале;\n",
    "* `Confidence` — уверенность в гипотезе по 10-балльной шкале;\n",
    "* `Efforts` — затраты ресурсов на проверку гипотезы по 10-балльной шкале. Чем больше значение Efforts, тем дороже проверка гипотезы.\n",
    "\n",
    "Данные для второй части\n",
    "\n",
    "Таблица `orders` (информация о заказах):\n",
    "* `transactionId` — идентификатор заказа;\n",
    "* `visitorId` — идентификатор пользователя, совершившего заказ;\n",
    "* `date` — дата, когда был совершён заказ;\n",
    "* `revenue` — выручка заказа;\n",
    "* `group` — группа A/B-теста, в которую попал заказ.\n",
    "\n",
    "Таблица `visitors` (информация о пользователях и группах А/В-теста):\n",
    "* `date` — дата;\n",
    "* `group` — группа A/B-теста;\n",
    "* `visitors` — количество пользователей в указанную дату в указанной группе A/B-теста.\n",
    "\n",
    "### Задачи проекта\n",
    "\n",
    "В первой части проекта нужно применить фреймворки RICE и ICE для приоритизации гипотез. Во второй части необходимо построить кумулятивные графики выручки, среднего чека, конверсии и их относительного изменения, точечные графики количества заказов по пользователям и стоимости заказов, посчитать для них 95-й и 99-й перцентили для определения границы аномальных заказов, а также посчитать статистическую значимость различий в конверсии и среднем чеке по «сырым» и «очищенным» данным.\n",
    "\n",
    "В конце проекта нужно принять решение по результатам теста: 1. Остановить тест, зафиксировать победу одной из групп. 2. Остановить тест, зафиксировать отсутствие различий между группами. 3. Продолжить тест."
   ]
  },
  {
   "cell_type": "markdown",
   "metadata": {},
   "source": [
    "## Шаг 1. Обзор и предобработка данных"
   ]
  },
  {
   "cell_type": "markdown",
   "metadata": {},
   "source": [
    "Как обычно, перед началом работы импортируем нужные библиотеки и откроем файлы."
   ]
  },
  {
   "cell_type": "code",
   "execution_count": 1,
   "metadata": {},
   "outputs": [],
   "source": [
    "# импорт нужных библиотек\n",
    "import pandas as pd\n",
    "import numpy as np\n",
    "import matplotlib.pyplot as plt\n",
    "import scipy.stats as stats"
   ]
  },
  {
   "cell_type": "code",
   "execution_count": 2,
   "metadata": {},
   "outputs": [],
   "source": [
    "# чтение файлов\n",
    "hypothesis = pd.read_csv('/datasets/hypothesis.csv')\n",
    "orders = pd.read_csv('/datasets/orders.csv')\n",
    "visitors = pd.read_csv('/datasets/visitors.csv')"
   ]
  },
  {
   "cell_type": "markdown",
   "metadata": {},
   "source": [
    "Проверим данные на пригодность. Начнем с таблицы с гипотезами."
   ]
  },
  {
   "cell_type": "code",
   "execution_count": 3,
   "metadata": {
    "scrolled": true
   },
   "outputs": [
    {
     "data": {
      "text/html": [
       "<div>\n",
       "<style scoped>\n",
       "    .dataframe tbody tr th:only-of-type {\n",
       "        vertical-align: middle;\n",
       "    }\n",
       "\n",
       "    .dataframe tbody tr th {\n",
       "        vertical-align: top;\n",
       "    }\n",
       "\n",
       "    .dataframe thead th {\n",
       "        text-align: right;\n",
       "    }\n",
       "</style>\n",
       "<table border=\"1\" class=\"dataframe\">\n",
       "  <thead>\n",
       "    <tr style=\"text-align: right;\">\n",
       "      <th></th>\n",
       "      <th>Hypothesis</th>\n",
       "      <th>Reach</th>\n",
       "      <th>Impact</th>\n",
       "      <th>Confidence</th>\n",
       "      <th>Efforts</th>\n",
       "    </tr>\n",
       "  </thead>\n",
       "  <tbody>\n",
       "    <tr>\n",
       "      <th>0</th>\n",
       "      <td>Добавить два новых канала привлечения трафика,...</td>\n",
       "      <td>3</td>\n",
       "      <td>10</td>\n",
       "      <td>8</td>\n",
       "      <td>6</td>\n",
       "    </tr>\n",
       "    <tr>\n",
       "      <th>1</th>\n",
       "      <td>Запустить собственную службу доставки, что сок...</td>\n",
       "      <td>2</td>\n",
       "      <td>5</td>\n",
       "      <td>4</td>\n",
       "      <td>10</td>\n",
       "    </tr>\n",
       "    <tr>\n",
       "      <th>2</th>\n",
       "      <td>Добавить блоки рекомендаций товаров на сайт ин...</td>\n",
       "      <td>8</td>\n",
       "      <td>3</td>\n",
       "      <td>7</td>\n",
       "      <td>3</td>\n",
       "    </tr>\n",
       "    <tr>\n",
       "      <th>3</th>\n",
       "      <td>Изменить структура категорий, что увеличит кон...</td>\n",
       "      <td>8</td>\n",
       "      <td>3</td>\n",
       "      <td>3</td>\n",
       "      <td>8</td>\n",
       "    </tr>\n",
       "    <tr>\n",
       "      <th>4</th>\n",
       "      <td>Изменить цвет фона главной страницы, чтобы уве...</td>\n",
       "      <td>3</td>\n",
       "      <td>1</td>\n",
       "      <td>1</td>\n",
       "      <td>1</td>\n",
       "    </tr>\n",
       "  </tbody>\n",
       "</table>\n",
       "</div>"
      ],
      "text/plain": [
       "                                          Hypothesis  Reach  Impact  \\\n",
       "0  Добавить два новых канала привлечения трафика,...      3      10   \n",
       "1  Запустить собственную службу доставки, что сок...      2       5   \n",
       "2  Добавить блоки рекомендаций товаров на сайт ин...      8       3   \n",
       "3  Изменить структура категорий, что увеличит кон...      8       3   \n",
       "4  Изменить цвет фона главной страницы, чтобы уве...      3       1   \n",
       "\n",
       "   Confidence  Efforts  \n",
       "0           8        6  \n",
       "1           4       10  \n",
       "2           7        3  \n",
       "3           3        8  \n",
       "4           1        1  "
      ]
     },
     "execution_count": 3,
     "metadata": {},
     "output_type": "execute_result"
    }
   ],
   "source": [
    "# первые 5 строк\n",
    "hypothesis.head()"
   ]
  },
  {
   "cell_type": "markdown",
   "metadata": {},
   "source": [
    "Для удобства стоит привести названия столбцов к нижнему регистру."
   ]
  },
  {
   "cell_type": "code",
   "execution_count": 4,
   "metadata": {},
   "outputs": [
    {
     "name": "stdout",
     "output_type": "stream",
     "text": [
      "<class 'pandas.core.frame.DataFrame'>\n",
      "RangeIndex: 9 entries, 0 to 8\n",
      "Data columns (total 5 columns):\n",
      " #   Column      Non-Null Count  Dtype \n",
      "---  ------      --------------  ----- \n",
      " 0   Hypothesis  9 non-null      object\n",
      " 1   Reach       9 non-null      int64 \n",
      " 2   Impact      9 non-null      int64 \n",
      " 3   Confidence  9 non-null      int64 \n",
      " 4   Efforts     9 non-null      int64 \n",
      "dtypes: int64(4), object(1)\n",
      "memory usage: 488.0+ bytes\n"
     ]
    }
   ],
   "source": [
    "# информация по таблице\n",
    "hypothesis.info()"
   ]
  },
  {
   "cell_type": "code",
   "execution_count": 5,
   "metadata": {},
   "outputs": [
    {
     "data": {
      "text/plain": [
       "Hypothesis    0\n",
       "Reach         0\n",
       "Impact        0\n",
       "Confidence    0\n",
       "Efforts       0\n",
       "dtype: int64"
      ]
     },
     "execution_count": 5,
     "metadata": {},
     "output_type": "execute_result"
    }
   ],
   "source": [
    "# проверка пропусков\n",
    "hypothesis.isna().sum()"
   ]
  },
  {
   "cell_type": "code",
   "execution_count": 6,
   "metadata": {},
   "outputs": [
    {
     "data": {
      "text/plain": [
       "0"
      ]
     },
     "execution_count": 6,
     "metadata": {},
     "output_type": "execute_result"
    }
   ],
   "source": [
    "# проверка дубликатов\n",
    "hypothesis.duplicated().sum()"
   ]
  },
  {
   "cell_type": "markdown",
   "metadata": {},
   "source": [
    "В остальном с таблицей все нормально. Изменим названия столбцов."
   ]
  },
  {
   "cell_type": "code",
   "execution_count": 7,
   "metadata": {},
   "outputs": [],
   "source": [
    "# приведение к нижнему регистру\n",
    "hypothesis.columns = ['hypothesis', 'reach', 'impact', 'confidence', 'efforts']"
   ]
  },
  {
   "cell_type": "code",
   "execution_count": 8,
   "metadata": {},
   "outputs": [
    {
     "name": "stdout",
     "output_type": "stream",
     "text": [
      "<class 'pandas.core.frame.DataFrame'>\n",
      "RangeIndex: 9 entries, 0 to 8\n",
      "Data columns (total 5 columns):\n",
      " #   Column      Non-Null Count  Dtype \n",
      "---  ------      --------------  ----- \n",
      " 0   hypothesis  9 non-null      object\n",
      " 1   reach       9 non-null      int64 \n",
      " 2   impact      9 non-null      int64 \n",
      " 3   confidence  9 non-null      int64 \n",
      " 4   efforts     9 non-null      int64 \n",
      "dtypes: int64(4), object(1)\n",
      "memory usage: 488.0+ bytes\n"
     ]
    }
   ],
   "source": [
    "# проверка изменений\n",
    "hypothesis.info()"
   ]
  },
  {
   "cell_type": "markdown",
   "metadata": {},
   "source": [
    "Все хорошо, идем дальше. Посмотрим на таблицу с заказами."
   ]
  },
  {
   "cell_type": "code",
   "execution_count": 9,
   "metadata": {
    "scrolled": true
   },
   "outputs": [
    {
     "data": {
      "text/html": [
       "<div>\n",
       "<style scoped>\n",
       "    .dataframe tbody tr th:only-of-type {\n",
       "        vertical-align: middle;\n",
       "    }\n",
       "\n",
       "    .dataframe tbody tr th {\n",
       "        vertical-align: top;\n",
       "    }\n",
       "\n",
       "    .dataframe thead th {\n",
       "        text-align: right;\n",
       "    }\n",
       "</style>\n",
       "<table border=\"1\" class=\"dataframe\">\n",
       "  <thead>\n",
       "    <tr style=\"text-align: right;\">\n",
       "      <th></th>\n",
       "      <th>transactionId</th>\n",
       "      <th>visitorId</th>\n",
       "      <th>date</th>\n",
       "      <th>revenue</th>\n",
       "      <th>group</th>\n",
       "    </tr>\n",
       "  </thead>\n",
       "  <tbody>\n",
       "    <tr>\n",
       "      <th>0</th>\n",
       "      <td>3667963787</td>\n",
       "      <td>3312258926</td>\n",
       "      <td>2019-08-15</td>\n",
       "      <td>1650</td>\n",
       "      <td>B</td>\n",
       "    </tr>\n",
       "    <tr>\n",
       "      <th>1</th>\n",
       "      <td>2804400009</td>\n",
       "      <td>3642806036</td>\n",
       "      <td>2019-08-15</td>\n",
       "      <td>730</td>\n",
       "      <td>B</td>\n",
       "    </tr>\n",
       "    <tr>\n",
       "      <th>2</th>\n",
       "      <td>2961555356</td>\n",
       "      <td>4069496402</td>\n",
       "      <td>2019-08-15</td>\n",
       "      <td>400</td>\n",
       "      <td>A</td>\n",
       "    </tr>\n",
       "    <tr>\n",
       "      <th>3</th>\n",
       "      <td>3797467345</td>\n",
       "      <td>1196621759</td>\n",
       "      <td>2019-08-15</td>\n",
       "      <td>9759</td>\n",
       "      <td>B</td>\n",
       "    </tr>\n",
       "    <tr>\n",
       "      <th>4</th>\n",
       "      <td>2282983706</td>\n",
       "      <td>2322279887</td>\n",
       "      <td>2019-08-15</td>\n",
       "      <td>2308</td>\n",
       "      <td>B</td>\n",
       "    </tr>\n",
       "  </tbody>\n",
       "</table>\n",
       "</div>"
      ],
      "text/plain": [
       "   transactionId   visitorId        date  revenue group\n",
       "0     3667963787  3312258926  2019-08-15     1650     B\n",
       "1     2804400009  3642806036  2019-08-15      730     B\n",
       "2     2961555356  4069496402  2019-08-15      400     A\n",
       "3     3797467345  1196621759  2019-08-15     9759     B\n",
       "4     2282983706  2322279887  2019-08-15     2308     B"
      ]
     },
     "execution_count": 9,
     "metadata": {},
     "output_type": "execute_result"
    }
   ],
   "source": [
    "# первые 5 строк\n",
    "orders.head()"
   ]
  },
  {
   "cell_type": "markdown",
   "metadata": {},
   "source": [
    "Названия двух столбцов стоит изменить. Видим дату - проверим тип."
   ]
  },
  {
   "cell_type": "code",
   "execution_count": 10,
   "metadata": {},
   "outputs": [
    {
     "name": "stdout",
     "output_type": "stream",
     "text": [
      "<class 'pandas.core.frame.DataFrame'>\n",
      "RangeIndex: 1197 entries, 0 to 1196\n",
      "Data columns (total 5 columns):\n",
      " #   Column         Non-Null Count  Dtype \n",
      "---  ------         --------------  ----- \n",
      " 0   transactionId  1197 non-null   int64 \n",
      " 1   visitorId      1197 non-null   int64 \n",
      " 2   date           1197 non-null   object\n",
      " 3   revenue        1197 non-null   int64 \n",
      " 4   group          1197 non-null   object\n",
      "dtypes: int64(3), object(2)\n",
      "memory usage: 46.9+ KB\n"
     ]
    }
   ],
   "source": [
    "# информация по таблице\n",
    "orders.info()"
   ]
  },
  {
   "cell_type": "markdown",
   "metadata": {},
   "source": [
    "Даты нужно сделать датами."
   ]
  },
  {
   "cell_type": "code",
   "execution_count": 11,
   "metadata": {},
   "outputs": [
    {
     "data": {
      "text/plain": [
       "transactionId    0\n",
       "visitorId        0\n",
       "date             0\n",
       "revenue          0\n",
       "group            0\n",
       "dtype: int64"
      ]
     },
     "execution_count": 11,
     "metadata": {},
     "output_type": "execute_result"
    }
   ],
   "source": [
    "# проверка пропусков\n",
    "orders.isna().sum()"
   ]
  },
  {
   "cell_type": "code",
   "execution_count": 12,
   "metadata": {},
   "outputs": [
    {
     "data": {
      "text/plain": [
       "0"
      ]
     },
     "execution_count": 12,
     "metadata": {},
     "output_type": "execute_result"
    }
   ],
   "source": [
    "# проверка дубликатов\n",
    "orders.duplicated().sum()"
   ]
  },
  {
   "cell_type": "markdown",
   "metadata": {},
   "source": [
    "Больше нет проблем. Поработаем с таблицей."
   ]
  },
  {
   "cell_type": "code",
   "execution_count": 13,
   "metadata": {},
   "outputs": [],
   "source": [
    "# приведение к 'змеиному_регистру'\n",
    "orders = orders.rename(columns={'transactionId': 'transaction_id', \n",
    "                                'visitorId': 'visitor_id'})"
   ]
  },
  {
   "cell_type": "code",
   "execution_count": 14,
   "metadata": {},
   "outputs": [],
   "source": [
    "# замена типа на дату\n",
    "orders['date'] = pd.to_datetime(orders['date'])"
   ]
  },
  {
   "cell_type": "code",
   "execution_count": 15,
   "metadata": {},
   "outputs": [
    {
     "name": "stdout",
     "output_type": "stream",
     "text": [
      "<class 'pandas.core.frame.DataFrame'>\n",
      "RangeIndex: 1197 entries, 0 to 1196\n",
      "Data columns (total 5 columns):\n",
      " #   Column          Non-Null Count  Dtype         \n",
      "---  ------          --------------  -----         \n",
      " 0   transaction_id  1197 non-null   int64         \n",
      " 1   visitor_id      1197 non-null   int64         \n",
      " 2   date            1197 non-null   datetime64[ns]\n",
      " 3   revenue         1197 non-null   int64         \n",
      " 4   group           1197 non-null   object        \n",
      "dtypes: datetime64[ns](1), int64(3), object(1)\n",
      "memory usage: 46.9+ KB\n"
     ]
    }
   ],
   "source": [
    "# проверка изменений\n",
    "orders.info()"
   ]
  },
  {
   "cell_type": "markdown",
   "metadata": {},
   "source": [
    "Порядок. Теперь таблица с клиентами."
   ]
  },
  {
   "cell_type": "code",
   "execution_count": 16,
   "metadata": {},
   "outputs": [
    {
     "data": {
      "text/html": [
       "<div>\n",
       "<style scoped>\n",
       "    .dataframe tbody tr th:only-of-type {\n",
       "        vertical-align: middle;\n",
       "    }\n",
       "\n",
       "    .dataframe tbody tr th {\n",
       "        vertical-align: top;\n",
       "    }\n",
       "\n",
       "    .dataframe thead th {\n",
       "        text-align: right;\n",
       "    }\n",
       "</style>\n",
       "<table border=\"1\" class=\"dataframe\">\n",
       "  <thead>\n",
       "    <tr style=\"text-align: right;\">\n",
       "      <th></th>\n",
       "      <th>date</th>\n",
       "      <th>group</th>\n",
       "      <th>visitors</th>\n",
       "    </tr>\n",
       "  </thead>\n",
       "  <tbody>\n",
       "    <tr>\n",
       "      <th>0</th>\n",
       "      <td>2019-08-01</td>\n",
       "      <td>A</td>\n",
       "      <td>719</td>\n",
       "    </tr>\n",
       "    <tr>\n",
       "      <th>1</th>\n",
       "      <td>2019-08-02</td>\n",
       "      <td>A</td>\n",
       "      <td>619</td>\n",
       "    </tr>\n",
       "    <tr>\n",
       "      <th>2</th>\n",
       "      <td>2019-08-03</td>\n",
       "      <td>A</td>\n",
       "      <td>507</td>\n",
       "    </tr>\n",
       "    <tr>\n",
       "      <th>3</th>\n",
       "      <td>2019-08-04</td>\n",
       "      <td>A</td>\n",
       "      <td>717</td>\n",
       "    </tr>\n",
       "    <tr>\n",
       "      <th>4</th>\n",
       "      <td>2019-08-05</td>\n",
       "      <td>A</td>\n",
       "      <td>756</td>\n",
       "    </tr>\n",
       "  </tbody>\n",
       "</table>\n",
       "</div>"
      ],
      "text/plain": [
       "         date group  visitors\n",
       "0  2019-08-01     A       719\n",
       "1  2019-08-02     A       619\n",
       "2  2019-08-03     A       507\n",
       "3  2019-08-04     A       717\n",
       "4  2019-08-05     A       756"
      ]
     },
     "execution_count": 16,
     "metadata": {},
     "output_type": "execute_result"
    }
   ],
   "source": [
    "# первые 5 строк\n",
    "visitors.head()"
   ]
  },
  {
   "cell_type": "markdown",
   "metadata": {},
   "source": [
    "Надо проверить дату на тип."
   ]
  },
  {
   "cell_type": "code",
   "execution_count": 17,
   "metadata": {},
   "outputs": [
    {
     "name": "stdout",
     "output_type": "stream",
     "text": [
      "<class 'pandas.core.frame.DataFrame'>\n",
      "RangeIndex: 62 entries, 0 to 61\n",
      "Data columns (total 3 columns):\n",
      " #   Column    Non-Null Count  Dtype \n",
      "---  ------    --------------  ----- \n",
      " 0   date      62 non-null     object\n",
      " 1   group     62 non-null     object\n",
      " 2   visitors  62 non-null     int64 \n",
      "dtypes: int64(1), object(2)\n",
      "memory usage: 1.6+ KB\n"
     ]
    }
   ],
   "source": [
    "# информация по таблице\n",
    "visitors.info()"
   ]
  },
  {
   "cell_type": "markdown",
   "metadata": {},
   "source": [
    "Снова нужно изменить тип."
   ]
  },
  {
   "cell_type": "code",
   "execution_count": 18,
   "metadata": {},
   "outputs": [
    {
     "data": {
      "text/plain": [
       "date        0\n",
       "group       0\n",
       "visitors    0\n",
       "dtype: int64"
      ]
     },
     "execution_count": 18,
     "metadata": {},
     "output_type": "execute_result"
    }
   ],
   "source": [
    "# проверка пропусков\n",
    "visitors.isna().sum()"
   ]
  },
  {
   "cell_type": "code",
   "execution_count": 19,
   "metadata": {},
   "outputs": [
    {
     "data": {
      "text/plain": [
       "0"
      ]
     },
     "execution_count": 19,
     "metadata": {},
     "output_type": "execute_result"
    }
   ],
   "source": [
    "# проверка дубликатов\n",
    "visitors.duplicated().sum()"
   ]
  },
  {
   "cell_type": "markdown",
   "metadata": {},
   "source": [
    "Сделаем замену и можно идти дальше."
   ]
  },
  {
   "cell_type": "code",
   "execution_count": 20,
   "metadata": {},
   "outputs": [],
   "source": [
    "# замена типа на дату\n",
    "visitors['date'] = pd.to_datetime(visitors['date'])"
   ]
  },
  {
   "cell_type": "code",
   "execution_count": 21,
   "metadata": {},
   "outputs": [
    {
     "name": "stdout",
     "output_type": "stream",
     "text": [
      "<class 'pandas.core.frame.DataFrame'>\n",
      "RangeIndex: 62 entries, 0 to 61\n",
      "Data columns (total 3 columns):\n",
      " #   Column    Non-Null Count  Dtype         \n",
      "---  ------    --------------  -----         \n",
      " 0   date      62 non-null     datetime64[ns]\n",
      " 1   group     62 non-null     object        \n",
      " 2   visitors  62 non-null     int64         \n",
      "dtypes: datetime64[ns](1), int64(1), object(1)\n",
      "memory usage: 1.6+ KB\n"
     ]
    }
   ],
   "source": [
    "# проверка изменений\n",
    "visitors.info()"
   ]
  },
  {
   "cell_type": "markdown",
   "metadata": {},
   "source": [
    "Полный порядок."
   ]
  },
  {
   "cell_type": "markdown",
   "metadata": {},
   "source": [
    "## Шаг 2. Приоритизация гипотез"
   ]
  },
  {
   "cell_type": "markdown",
   "metadata": {},
   "source": [
    "На этом шаге стоит задача:\n",
    "* применить фреймворк ICE для приоритизации гипотез и отсортировать их по убыванию приоритета;\n",
    "* применить фреймворк RICE для приоритизации гипотез и отсортировать их по убыванию приоритета;\n",
    "* указать, как изменилась приоритизация гипотез при применении RICE вместо ICE, и объяснить, почему так произошло."
   ]
  },
  {
   "cell_type": "markdown",
   "metadata": {},
   "source": [
    "Вспомним что ICE считается так: Impact * Confidence / Efforts. Применим формулу к данным."
   ]
  },
  {
   "cell_type": "code",
   "execution_count": 22,
   "metadata": {},
   "outputs": [
    {
     "data": {
      "text/html": [
       "<div>\n",
       "<style scoped>\n",
       "    .dataframe tbody tr th:only-of-type {\n",
       "        vertical-align: middle;\n",
       "    }\n",
       "\n",
       "    .dataframe tbody tr th {\n",
       "        vertical-align: top;\n",
       "    }\n",
       "\n",
       "    .dataframe thead th {\n",
       "        text-align: right;\n",
       "    }\n",
       "</style>\n",
       "<table border=\"1\" class=\"dataframe\">\n",
       "  <thead>\n",
       "    <tr style=\"text-align: right;\">\n",
       "      <th></th>\n",
       "      <th>hypothesis</th>\n",
       "      <th>ICE</th>\n",
       "    </tr>\n",
       "  </thead>\n",
       "  <tbody>\n",
       "    <tr>\n",
       "      <th>8</th>\n",
       "      <td>Запустить акцию, дающую скидку на товар в день...</td>\n",
       "      <td>16.2</td>\n",
       "    </tr>\n",
       "    <tr>\n",
       "      <th>0</th>\n",
       "      <td>Добавить два новых канала привлечения трафика,...</td>\n",
       "      <td>13.3</td>\n",
       "    </tr>\n",
       "    <tr>\n",
       "      <th>7</th>\n",
       "      <td>Добавить форму подписки на все основные страни...</td>\n",
       "      <td>11.2</td>\n",
       "    </tr>\n",
       "    <tr>\n",
       "      <th>6</th>\n",
       "      <td>Показать на главной странице баннеры с актуаль...</td>\n",
       "      <td>8.0</td>\n",
       "    </tr>\n",
       "    <tr>\n",
       "      <th>2</th>\n",
       "      <td>Добавить блоки рекомендаций товаров на сайт ин...</td>\n",
       "      <td>7.0</td>\n",
       "    </tr>\n",
       "    <tr>\n",
       "      <th>1</th>\n",
       "      <td>Запустить собственную службу доставки, что сок...</td>\n",
       "      <td>2.0</td>\n",
       "    </tr>\n",
       "    <tr>\n",
       "      <th>5</th>\n",
       "      <td>Добавить страницу отзывов клиентов о магазине,...</td>\n",
       "      <td>1.3</td>\n",
       "    </tr>\n",
       "    <tr>\n",
       "      <th>3</th>\n",
       "      <td>Изменить структура категорий, что увеличит кон...</td>\n",
       "      <td>1.1</td>\n",
       "    </tr>\n",
       "    <tr>\n",
       "      <th>4</th>\n",
       "      <td>Изменить цвет фона главной страницы, чтобы уве...</td>\n",
       "      <td>1.0</td>\n",
       "    </tr>\n",
       "  </tbody>\n",
       "</table>\n",
       "</div>"
      ],
      "text/plain": [
       "                                          hypothesis   ICE\n",
       "8  Запустить акцию, дающую скидку на товар в день...  16.2\n",
       "0  Добавить два новых канала привлечения трафика,...  13.3\n",
       "7  Добавить форму подписки на все основные страни...  11.2\n",
       "6  Показать на главной странице баннеры с актуаль...   8.0\n",
       "2  Добавить блоки рекомендаций товаров на сайт ин...   7.0\n",
       "1  Запустить собственную службу доставки, что сок...   2.0\n",
       "5  Добавить страницу отзывов клиентов о магазине,...   1.3\n",
       "3  Изменить структура категорий, что увеличит кон...   1.1\n",
       "4  Изменить цвет фона главной страницы, чтобы уве...   1.0"
      ]
     },
     "execution_count": 22,
     "metadata": {},
     "output_type": "execute_result"
    }
   ],
   "source": [
    "# создание столбца с фреймворком ICE\n",
    "hypothesis['ICE'] = (hypothesis['impact'] * hypothesis['confidence'] / hypothesis['efforts']).round(1)\n",
    "# вывод\n",
    "hypothesis[['hypothesis','ICE']].sort_values(by='ICE', ascending=False)"
   ]
  },
  {
   "cell_type": "markdown",
   "metadata": {},
   "source": [
    "В приоритете гипотезы с номерами 8, 0, 7, 6 и 2. Применяем следующий фреймворк.\n",
    "\n",
    "RICE считается так: Reach * Impact * Confidence / Efforts. Считаем."
   ]
  },
  {
   "cell_type": "code",
   "execution_count": 23,
   "metadata": {},
   "outputs": [
    {
     "data": {
      "text/html": [
       "<div>\n",
       "<style scoped>\n",
       "    .dataframe tbody tr th:only-of-type {\n",
       "        vertical-align: middle;\n",
       "    }\n",
       "\n",
       "    .dataframe tbody tr th {\n",
       "        vertical-align: top;\n",
       "    }\n",
       "\n",
       "    .dataframe thead th {\n",
       "        text-align: right;\n",
       "    }\n",
       "</style>\n",
       "<table border=\"1\" class=\"dataframe\">\n",
       "  <thead>\n",
       "    <tr style=\"text-align: right;\">\n",
       "      <th></th>\n",
       "      <th>hypothesis</th>\n",
       "      <th>RICE</th>\n",
       "    </tr>\n",
       "  </thead>\n",
       "  <tbody>\n",
       "    <tr>\n",
       "      <th>7</th>\n",
       "      <td>Добавить форму подписки на все основные страницы, чтобы собрать базу клиентов для email-рассылок</td>\n",
       "      <td>112.0</td>\n",
       "    </tr>\n",
       "    <tr>\n",
       "      <th>2</th>\n",
       "      <td>Добавить блоки рекомендаций товаров на сайт интернет магазина, чтобы повысить конверсию и средний чек заказа</td>\n",
       "      <td>56.0</td>\n",
       "    </tr>\n",
       "    <tr>\n",
       "      <th>0</th>\n",
       "      <td>Добавить два новых канала привлечения трафика, что позволит привлекать на 30% больше пользователей</td>\n",
       "      <td>40.0</td>\n",
       "    </tr>\n",
       "    <tr>\n",
       "      <th>6</th>\n",
       "      <td>Показать на главной странице баннеры с актуальными акциями и распродажами, чтобы увеличить конверсию</td>\n",
       "      <td>40.0</td>\n",
       "    </tr>\n",
       "    <tr>\n",
       "      <th>8</th>\n",
       "      <td>Запустить акцию, дающую скидку на товар в день рождения</td>\n",
       "      <td>16.2</td>\n",
       "    </tr>\n",
       "    <tr>\n",
       "      <th>3</th>\n",
       "      <td>Изменить структура категорий, что увеличит конверсию, т.к. пользователи быстрее найдут нужный товар</td>\n",
       "      <td>9.0</td>\n",
       "    </tr>\n",
       "    <tr>\n",
       "      <th>1</th>\n",
       "      <td>Запустить собственную службу доставки, что сократит срок доставки заказов</td>\n",
       "      <td>4.0</td>\n",
       "    </tr>\n",
       "    <tr>\n",
       "      <th>5</th>\n",
       "      <td>Добавить страницу отзывов клиентов о магазине, что позволит увеличить количество заказов</td>\n",
       "      <td>4.0</td>\n",
       "    </tr>\n",
       "    <tr>\n",
       "      <th>4</th>\n",
       "      <td>Изменить цвет фона главной страницы, чтобы увеличить вовлеченность пользователей</td>\n",
       "      <td>3.0</td>\n",
       "    </tr>\n",
       "  </tbody>\n",
       "</table>\n",
       "</div>"
      ],
      "text/plain": [
       "                                                                                                     hypothesis  \\\n",
       "7              Добавить форму подписки на все основные страницы, чтобы собрать базу клиентов для email-рассылок   \n",
       "2  Добавить блоки рекомендаций товаров на сайт интернет магазина, чтобы повысить конверсию и средний чек заказа   \n",
       "0            Добавить два новых канала привлечения трафика, что позволит привлекать на 30% больше пользователей   \n",
       "6          Показать на главной странице баннеры с актуальными акциями и распродажами, чтобы увеличить конверсию   \n",
       "8                                                       Запустить акцию, дающую скидку на товар в день рождения   \n",
       "3           Изменить структура категорий, что увеличит конверсию, т.к. пользователи быстрее найдут нужный товар   \n",
       "1                                     Запустить собственную службу доставки, что сократит срок доставки заказов   \n",
       "5                      Добавить страницу отзывов клиентов о магазине, что позволит увеличить количество заказов   \n",
       "4                              Изменить цвет фона главной страницы, чтобы увеличить вовлеченность пользователей   \n",
       "\n",
       "    RICE  \n",
       "7  112.0  \n",
       "2   56.0  \n",
       "0   40.0  \n",
       "6   40.0  \n",
       "8   16.2  \n",
       "3    9.0  \n",
       "1    4.0  \n",
       "5    4.0  \n",
       "4    3.0  "
      ]
     },
     "execution_count": 23,
     "metadata": {},
     "output_type": "execute_result"
    }
   ],
   "source": [
    "# создание столбца с фреймворком RICE\n",
    "hypothesis['RICE'] = (hypothesis['reach'] * hypothesis['impact'] * hypothesis['confidence'] / hypothesis['efforts']).round(1)\n",
    "# вывод\n",
    "pd.options.display.max_colwidth = 300\n",
    "hypothesis[['hypothesis','RICE']].sort_values(by='RICE', ascending=False)"
   ]
  },
  {
   "cell_type": "markdown",
   "metadata": {},
   "source": [
    "В приоритете гипотезы с номерами 7, 2, 0, 6 и 8. Номера те же, но порядок другой. Это произошло потому, что вторая формула учитывает охват пользователей. Параметр Reach выше у гипотез 7 и 2, поэтому они в первых рядах."
   ]
  },
  {
   "cell_type": "markdown",
   "metadata": {},
   "source": [
    "## Шаг 3. Анализ A/B-теста"
   ]
  },
  {
   "cell_type": "markdown",
   "metadata": {},
   "source": [
    "<div class=\"alert alert-danger\">\n",
    "    \n",
    "  <b>Комментарий ревьюера</b>\n",
    "\n",
    "  ❌ Еще остается не выполненным на этапе предобработки, но тем не менее важным - проверить корректность разбиения пользователей на группы - может быть есть пользователи, попавшие в обе группы? Если таковые пользователи есть, нужно их выявить и выработать стратегию работы с такими данными. Пересечение групп сильно влияет на результаты теста, если процент достаточно большой. Если есть возможность их можно удалить и посмотреть, какие результаты получаются без них, в любом случае к результатам теста придется относится осторожно.\n",
    "</div>"
   ]
  },
  {
   "cell_type": "code",
   "execution_count": 24,
   "metadata": {},
   "outputs": [
    {
     "data": {
      "text/plain": [
       "array(['A', 'B'], dtype=object)"
      ]
     },
     "execution_count": 24,
     "metadata": {},
     "output_type": "execute_result"
    }
   ],
   "source": [
    "# проверка корректности разбиения пользователей по группам\n",
    "visitors['group'].unique()"
   ]
  },
  {
   "cell_type": "markdown",
   "metadata": {},
   "source": [
    "Пользователи принадлежат либо к группе А, либо к группе В. Здесь с данными все в порядке."
   ]
  },
  {
   "cell_type": "code",
   "execution_count": 25,
   "metadata": {},
   "outputs": [
    {
     "data": {
      "text/html": [
       "<div>\n",
       "<style scoped>\n",
       "    .dataframe tbody tr th:only-of-type {\n",
       "        vertical-align: middle;\n",
       "    }\n",
       "\n",
       "    .dataframe tbody tr th {\n",
       "        vertical-align: top;\n",
       "    }\n",
       "\n",
       "    .dataframe thead th {\n",
       "        text-align: right;\n",
       "    }\n",
       "</style>\n",
       "<table border=\"1\" class=\"dataframe\">\n",
       "  <thead>\n",
       "    <tr style=\"text-align: right;\">\n",
       "      <th></th>\n",
       "      <th>date</th>\n",
       "      <th>visitors</th>\n",
       "    </tr>\n",
       "    <tr>\n",
       "      <th>group</th>\n",
       "      <th></th>\n",
       "      <th></th>\n",
       "    </tr>\n",
       "  </thead>\n",
       "  <tbody>\n",
       "    <tr>\n",
       "      <th>A</th>\n",
       "      <td>31</td>\n",
       "      <td>31</td>\n",
       "    </tr>\n",
       "    <tr>\n",
       "      <th>B</th>\n",
       "      <td>31</td>\n",
       "      <td>31</td>\n",
       "    </tr>\n",
       "  </tbody>\n",
       "</table>\n",
       "</div>"
      ],
      "text/plain": [
       "       date  visitors\n",
       "group                \n",
       "A        31        31\n",
       "B        31        31"
      ]
     },
     "execution_count": 25,
     "metadata": {},
     "output_type": "execute_result"
    }
   ],
   "source": [
    "# альтернативная проверка корректности разбиения пользователей по группам\n",
    "visitors.groupby(['group']).count()"
   ]
  },
  {
   "cell_type": "markdown",
   "metadata": {},
   "source": [
    "И здесь тоже две группы."
   ]
  },
  {
   "cell_type": "markdown",
   "metadata": {},
   "source": [
    "<div class=\"alert alert-block alert-info\">\n",
    "  \n",
    "  <b>Комментарий cтудента</b>\n",
    "    \n",
    "  Готово.\n",
    "</div>\n",
    "<div class=\"alert alert-danger\">\n",
    "    \n",
    "  <b>Комментарий ревьюера v.2</b>\n",
    "\n",
    "  ❌ Ты просто проверила, что у нас всего 2 группы. Надо проверить на наличие пользователей, попавших одновременно в обе группы.\n",
    "</div>"
   ]
  },
  {
   "cell_type": "code",
   "execution_count": 26,
   "metadata": {},
   "outputs": [
    {
     "data": {
      "text/plain": [
       "visitor_id    58\n",
       "group         58\n",
       "dtype: int64"
      ]
     },
     "execution_count": 26,
     "metadata": {},
     "output_type": "execute_result"
    }
   ],
   "source": [
    "# проверка корректности разбиения пользователей по группам\n",
    "count_groups = orders.groupby(['visitor_id'])['group'].nunique().reset_index()\n",
    "count_groups.query('group > 1').count()"
   ]
  },
  {
   "cell_type": "markdown",
   "metadata": {},
   "source": [
    "Есть пользователи, попавшие в обе группы. Удаляем."
   ]
  },
  {
   "cell_type": "code",
   "execution_count": 27,
   "metadata": {},
   "outputs": [
    {
     "data": {
      "text/html": [
       "<div>\n",
       "<style scoped>\n",
       "    .dataframe tbody tr th:only-of-type {\n",
       "        vertical-align: middle;\n",
       "    }\n",
       "\n",
       "    .dataframe tbody tr th {\n",
       "        vertical-align: top;\n",
       "    }\n",
       "\n",
       "    .dataframe thead th {\n",
       "        text-align: right;\n",
       "    }\n",
       "</style>\n",
       "<table border=\"1\" class=\"dataframe\">\n",
       "  <thead>\n",
       "    <tr style=\"text-align: right;\">\n",
       "      <th></th>\n",
       "      <th>visitor_id</th>\n",
       "      <th>group_new</th>\n",
       "    </tr>\n",
       "  </thead>\n",
       "  <tbody>\n",
       "    <tr>\n",
       "      <th>0</th>\n",
       "      <td>5114589</td>\n",
       "      <td>1</td>\n",
       "    </tr>\n",
       "    <tr>\n",
       "      <th>1</th>\n",
       "      <td>6958315</td>\n",
       "      <td>1</td>\n",
       "    </tr>\n",
       "    <tr>\n",
       "      <th>2</th>\n",
       "      <td>8300375</td>\n",
       "      <td>2</td>\n",
       "    </tr>\n",
       "    <tr>\n",
       "      <th>3</th>\n",
       "      <td>11685486</td>\n",
       "      <td>1</td>\n",
       "    </tr>\n",
       "    <tr>\n",
       "      <th>4</th>\n",
       "      <td>39475350</td>\n",
       "      <td>1</td>\n",
       "    </tr>\n",
       "    <tr>\n",
       "      <th>...</th>\n",
       "      <td>...</td>\n",
       "      <td>...</td>\n",
       "    </tr>\n",
       "    <tr>\n",
       "      <th>1026</th>\n",
       "      <td>4266935830</td>\n",
       "      <td>2</td>\n",
       "    </tr>\n",
       "    <tr>\n",
       "      <th>1027</th>\n",
       "      <td>4278982564</td>\n",
       "      <td>1</td>\n",
       "    </tr>\n",
       "    <tr>\n",
       "      <th>1028</th>\n",
       "      <td>4279090005</td>\n",
       "      <td>1</td>\n",
       "    </tr>\n",
       "    <tr>\n",
       "      <th>1029</th>\n",
       "      <td>4281247801</td>\n",
       "      <td>1</td>\n",
       "    </tr>\n",
       "    <tr>\n",
       "      <th>1030</th>\n",
       "      <td>4283872382</td>\n",
       "      <td>1</td>\n",
       "    </tr>\n",
       "  </tbody>\n",
       "</table>\n",
       "<p>1031 rows × 2 columns</p>\n",
       "</div>"
      ],
      "text/plain": [
       "      visitor_id  group_new\n",
       "0        5114589          1\n",
       "1        6958315          1\n",
       "2        8300375          2\n",
       "3       11685486          1\n",
       "4       39475350          1\n",
       "...          ...        ...\n",
       "1026  4266935830          2\n",
       "1027  4278982564          1\n",
       "1028  4279090005          1\n",
       "1029  4281247801          1\n",
       "1030  4283872382          1\n",
       "\n",
       "[1031 rows x 2 columns]"
      ]
     },
     "execution_count": 27,
     "metadata": {},
     "output_type": "execute_result"
    }
   ],
   "source": [
    "# определение количества групп\n",
    "count_groups.columns = ['visitor_id', 'group_new']\n",
    "count_groups"
   ]
  },
  {
   "cell_type": "code",
   "execution_count": 28,
   "metadata": {},
   "outputs": [
    {
     "data": {
      "text/html": [
       "<div>\n",
       "<style scoped>\n",
       "    .dataframe tbody tr th:only-of-type {\n",
       "        vertical-align: middle;\n",
       "    }\n",
       "\n",
       "    .dataframe tbody tr th {\n",
       "        vertical-align: top;\n",
       "    }\n",
       "\n",
       "    .dataframe thead th {\n",
       "        text-align: right;\n",
       "    }\n",
       "</style>\n",
       "<table border=\"1\" class=\"dataframe\">\n",
       "  <thead>\n",
       "    <tr style=\"text-align: right;\">\n",
       "      <th></th>\n",
       "      <th>transaction_id</th>\n",
       "      <th>visitor_id</th>\n",
       "      <th>date</th>\n",
       "      <th>revenue</th>\n",
       "      <th>group</th>\n",
       "      <th>group_new</th>\n",
       "    </tr>\n",
       "  </thead>\n",
       "  <tbody>\n",
       "    <tr>\n",
       "      <th>0</th>\n",
       "      <td>3667963787</td>\n",
       "      <td>3312258926</td>\n",
       "      <td>2019-08-15</td>\n",
       "      <td>1650</td>\n",
       "      <td>B</td>\n",
       "      <td>1</td>\n",
       "    </tr>\n",
       "    <tr>\n",
       "      <th>1</th>\n",
       "      <td>2804400009</td>\n",
       "      <td>3642806036</td>\n",
       "      <td>2019-08-15</td>\n",
       "      <td>730</td>\n",
       "      <td>B</td>\n",
       "      <td>1</td>\n",
       "    </tr>\n",
       "    <tr>\n",
       "      <th>2</th>\n",
       "      <td>2961555356</td>\n",
       "      <td>4069496402</td>\n",
       "      <td>2019-08-15</td>\n",
       "      <td>400</td>\n",
       "      <td>A</td>\n",
       "      <td>2</td>\n",
       "    </tr>\n",
       "    <tr>\n",
       "      <th>3</th>\n",
       "      <td>3797467345</td>\n",
       "      <td>1196621759</td>\n",
       "      <td>2019-08-15</td>\n",
       "      <td>9759</td>\n",
       "      <td>B</td>\n",
       "      <td>1</td>\n",
       "    </tr>\n",
       "    <tr>\n",
       "      <th>4</th>\n",
       "      <td>2282983706</td>\n",
       "      <td>2322279887</td>\n",
       "      <td>2019-08-15</td>\n",
       "      <td>2308</td>\n",
       "      <td>B</td>\n",
       "      <td>1</td>\n",
       "    </tr>\n",
       "    <tr>\n",
       "      <th>...</th>\n",
       "      <td>...</td>\n",
       "      <td>...</td>\n",
       "      <td>...</td>\n",
       "      <td>...</td>\n",
       "      <td>...</td>\n",
       "      <td>...</td>\n",
       "    </tr>\n",
       "    <tr>\n",
       "      <th>1192</th>\n",
       "      <td>2662137336</td>\n",
       "      <td>3733762160</td>\n",
       "      <td>2019-08-14</td>\n",
       "      <td>6490</td>\n",
       "      <td>B</td>\n",
       "      <td>1</td>\n",
       "    </tr>\n",
       "    <tr>\n",
       "      <th>1193</th>\n",
       "      <td>2203539145</td>\n",
       "      <td>370388673</td>\n",
       "      <td>2019-08-14</td>\n",
       "      <td>3190</td>\n",
       "      <td>A</td>\n",
       "      <td>1</td>\n",
       "    </tr>\n",
       "    <tr>\n",
       "      <th>1194</th>\n",
       "      <td>1807773912</td>\n",
       "      <td>573423106</td>\n",
       "      <td>2019-08-14</td>\n",
       "      <td>10550</td>\n",
       "      <td>A</td>\n",
       "      <td>1</td>\n",
       "    </tr>\n",
       "    <tr>\n",
       "      <th>1195</th>\n",
       "      <td>1947021204</td>\n",
       "      <td>1614305549</td>\n",
       "      <td>2019-08-14</td>\n",
       "      <td>100</td>\n",
       "      <td>A</td>\n",
       "      <td>2</td>\n",
       "    </tr>\n",
       "    <tr>\n",
       "      <th>1196</th>\n",
       "      <td>3936777065</td>\n",
       "      <td>2108080724</td>\n",
       "      <td>2019-08-15</td>\n",
       "      <td>202740</td>\n",
       "      <td>B</td>\n",
       "      <td>1</td>\n",
       "    </tr>\n",
       "  </tbody>\n",
       "</table>\n",
       "<p>1197 rows × 6 columns</p>\n",
       "</div>"
      ],
      "text/plain": [
       "      transaction_id  visitor_id       date  revenue group  group_new\n",
       "0         3667963787  3312258926 2019-08-15     1650     B          1\n",
       "1         2804400009  3642806036 2019-08-15      730     B          1\n",
       "2         2961555356  4069496402 2019-08-15      400     A          2\n",
       "3         3797467345  1196621759 2019-08-15     9759     B          1\n",
       "4         2282983706  2322279887 2019-08-15     2308     B          1\n",
       "...              ...         ...        ...      ...   ...        ...\n",
       "1192      2662137336  3733762160 2019-08-14     6490     B          1\n",
       "1193      2203539145   370388673 2019-08-14     3190     A          1\n",
       "1194      1807773912   573423106 2019-08-14    10550     A          1\n",
       "1195      1947021204  1614305549 2019-08-14      100     A          2\n",
       "1196      3936777065  2108080724 2019-08-15   202740     B          1\n",
       "\n",
       "[1197 rows x 6 columns]"
      ]
     },
     "execution_count": 28,
     "metadata": {},
     "output_type": "execute_result"
    }
   ],
   "source": [
    "# объединение таблицы с заказами и таблицы с количеством групп\n",
    "orders = orders.merge(count_groups, how = 'left', on = 'visitor_id')\n",
    "orders"
   ]
  },
  {
   "cell_type": "code",
   "execution_count": 29,
   "metadata": {},
   "outputs": [
    {
     "data": {
      "text/html": [
       "<div>\n",
       "<style scoped>\n",
       "    .dataframe tbody tr th:only-of-type {\n",
       "        vertical-align: middle;\n",
       "    }\n",
       "\n",
       "    .dataframe tbody tr th {\n",
       "        vertical-align: top;\n",
       "    }\n",
       "\n",
       "    .dataframe thead th {\n",
       "        text-align: right;\n",
       "    }\n",
       "</style>\n",
       "<table border=\"1\" class=\"dataframe\">\n",
       "  <thead>\n",
       "    <tr style=\"text-align: right;\">\n",
       "      <th></th>\n",
       "      <th>transaction_id</th>\n",
       "      <th>visitor_id</th>\n",
       "      <th>date</th>\n",
       "      <th>revenue</th>\n",
       "      <th>group</th>\n",
       "      <th>group_new</th>\n",
       "    </tr>\n",
       "  </thead>\n",
       "  <tbody>\n",
       "    <tr>\n",
       "      <th>0</th>\n",
       "      <td>3667963787</td>\n",
       "      <td>3312258926</td>\n",
       "      <td>2019-08-15</td>\n",
       "      <td>1650</td>\n",
       "      <td>B</td>\n",
       "      <td>1</td>\n",
       "    </tr>\n",
       "    <tr>\n",
       "      <th>1</th>\n",
       "      <td>2804400009</td>\n",
       "      <td>3642806036</td>\n",
       "      <td>2019-08-15</td>\n",
       "      <td>730</td>\n",
       "      <td>B</td>\n",
       "      <td>1</td>\n",
       "    </tr>\n",
       "    <tr>\n",
       "      <th>3</th>\n",
       "      <td>3797467345</td>\n",
       "      <td>1196621759</td>\n",
       "      <td>2019-08-15</td>\n",
       "      <td>9759</td>\n",
       "      <td>B</td>\n",
       "      <td>1</td>\n",
       "    </tr>\n",
       "    <tr>\n",
       "      <th>4</th>\n",
       "      <td>2282983706</td>\n",
       "      <td>2322279887</td>\n",
       "      <td>2019-08-15</td>\n",
       "      <td>2308</td>\n",
       "      <td>B</td>\n",
       "      <td>1</td>\n",
       "    </tr>\n",
       "    <tr>\n",
       "      <th>5</th>\n",
       "      <td>182168103</td>\n",
       "      <td>935554773</td>\n",
       "      <td>2019-08-15</td>\n",
       "      <td>2210</td>\n",
       "      <td>B</td>\n",
       "      <td>1</td>\n",
       "    </tr>\n",
       "    <tr>\n",
       "      <th>...</th>\n",
       "      <td>...</td>\n",
       "      <td>...</td>\n",
       "      <td>...</td>\n",
       "      <td>...</td>\n",
       "      <td>...</td>\n",
       "      <td>...</td>\n",
       "    </tr>\n",
       "    <tr>\n",
       "      <th>1191</th>\n",
       "      <td>3592955527</td>\n",
       "      <td>608641596</td>\n",
       "      <td>2019-08-14</td>\n",
       "      <td>16490</td>\n",
       "      <td>B</td>\n",
       "      <td>1</td>\n",
       "    </tr>\n",
       "    <tr>\n",
       "      <th>1192</th>\n",
       "      <td>2662137336</td>\n",
       "      <td>3733762160</td>\n",
       "      <td>2019-08-14</td>\n",
       "      <td>6490</td>\n",
       "      <td>B</td>\n",
       "      <td>1</td>\n",
       "    </tr>\n",
       "    <tr>\n",
       "      <th>1193</th>\n",
       "      <td>2203539145</td>\n",
       "      <td>370388673</td>\n",
       "      <td>2019-08-14</td>\n",
       "      <td>3190</td>\n",
       "      <td>A</td>\n",
       "      <td>1</td>\n",
       "    </tr>\n",
       "    <tr>\n",
       "      <th>1194</th>\n",
       "      <td>1807773912</td>\n",
       "      <td>573423106</td>\n",
       "      <td>2019-08-14</td>\n",
       "      <td>10550</td>\n",
       "      <td>A</td>\n",
       "      <td>1</td>\n",
       "    </tr>\n",
       "    <tr>\n",
       "      <th>1196</th>\n",
       "      <td>3936777065</td>\n",
       "      <td>2108080724</td>\n",
       "      <td>2019-08-15</td>\n",
       "      <td>202740</td>\n",
       "      <td>B</td>\n",
       "      <td>1</td>\n",
       "    </tr>\n",
       "  </tbody>\n",
       "</table>\n",
       "<p>1016 rows × 6 columns</p>\n",
       "</div>"
      ],
      "text/plain": [
       "      transaction_id  visitor_id       date  revenue group  group_new\n",
       "0         3667963787  3312258926 2019-08-15     1650     B          1\n",
       "1         2804400009  3642806036 2019-08-15      730     B          1\n",
       "3         3797467345  1196621759 2019-08-15     9759     B          1\n",
       "4         2282983706  2322279887 2019-08-15     2308     B          1\n",
       "5          182168103   935554773 2019-08-15     2210     B          1\n",
       "...              ...         ...        ...      ...   ...        ...\n",
       "1191      3592955527   608641596 2019-08-14    16490     B          1\n",
       "1192      2662137336  3733762160 2019-08-14     6490     B          1\n",
       "1193      2203539145   370388673 2019-08-14     3190     A          1\n",
       "1194      1807773912   573423106 2019-08-14    10550     A          1\n",
       "1196      3936777065  2108080724 2019-08-15   202740     B          1\n",
       "\n",
       "[1016 rows x 6 columns]"
      ]
     },
     "execution_count": 29,
     "metadata": {},
     "output_type": "execute_result"
    }
   ],
   "source": [
    "# обрезка пользователей в обеих группах\n",
    "orders = orders.query('group_new != 2')\n",
    "orders"
   ]
  },
  {
   "cell_type": "markdown",
   "metadata": {},
   "source": [
    "<div class=\"alert alert-danger\">\n",
    "    \n",
    "  <b>Комментарий ревьюера v.3</b>\n",
    "    \n",
    "  ❌ Нам надо удалить пользователей, а не группы эксперемента. \n",
    "    \n",
    "Чтобы найти пользователей, достаточно просто сгруппировать orders по пользователю `visitorId` и выбрать уникальные группы для них `['group'].nunique().reset_index()`, а дальше просто обрезать тех, у кого больше чем одна группа `query('group > 1')`.\n",
    "</div>\n",
    "\n",
    "<div class=\"alert alert-block alert-info\">\n",
    "  \n",
    "  <b>Комментарий cтудента</b>\n",
    "    \n",
    "  Исправлено.\n",
    "</div>\n",
    "<div class=\"alert alert-success\">\n",
    "  \n",
    "  <b>Комментарий ревьюера v.4</b>\n",
    "    \n",
    "  ✔️ Хорошо, результаты теста они больше не искажают. \n",
    "</div>"
   ]
  },
  {
   "cell_type": "markdown",
   "metadata": {},
   "source": [
    "Прежде чем приступить к анализу А/В теста, необходимо создать датафрейм (назовем его `dates_groups`) с уникальными парами значений `date` и `group` таблицы `orders`, а затем избавиться от дубликатов методом `drop_duplicates()`."
   ]
  },
  {
   "cell_type": "code",
   "execution_count": 30,
   "metadata": {},
   "outputs": [],
   "source": [
    "# массив уникальных пар значений дат и групп теста\n",
    "dates_groups = orders[['date','group']].drop_duplicates()"
   ]
  },
  {
   "cell_type": "markdown",
   "metadata": {},
   "source": [
    "Теперь нужно получить агрегированные кумулятивные по дням данные о заказах и посетителях интернет-магазина. Создадим переменные. \n",
    "\n",
    "`orders_aggregated` будет содержать:\n",
    "* дату;\n",
    "* группу A/B-теста;\n",
    "* число уникальных заказов в группе теста по указанную дату включительно;\n",
    "* число уникальных пользователей, совершивших хотя бы 1 заказ в группе теста по указанную дату включительно;\n",
    "* суммарную выручку заказов в группе теста по указанную дату включительно.\n",
    "\n",
    "`visitors_aggregated` будет содержать:\n",
    "* дату;\n",
    "* группу A/B-теста;\n",
    "* количество уникальных посетителей в группе теста по указанную дату включительно.\n",
    "\n",
    "Две таблицы будут объединены в одну."
   ]
  },
  {
   "cell_type": "code",
   "execution_count": 31,
   "metadata": {},
   "outputs": [
    {
     "data": {
      "text/html": [
       "<div>\n",
       "<style scoped>\n",
       "    .dataframe tbody tr th:only-of-type {\n",
       "        vertical-align: middle;\n",
       "    }\n",
       "\n",
       "    .dataframe tbody tr th {\n",
       "        vertical-align: top;\n",
       "    }\n",
       "\n",
       "    .dataframe thead th {\n",
       "        text-align: right;\n",
       "    }\n",
       "</style>\n",
       "<table border=\"1\" class=\"dataframe\">\n",
       "  <thead>\n",
       "    <tr style=\"text-align: right;\">\n",
       "      <th></th>\n",
       "      <th>date</th>\n",
       "      <th>group</th>\n",
       "      <th>orders</th>\n",
       "      <th>buyers</th>\n",
       "      <th>revenue</th>\n",
       "      <th>visitors</th>\n",
       "    </tr>\n",
       "  </thead>\n",
       "  <tbody>\n",
       "    <tr>\n",
       "      <th>0</th>\n",
       "      <td>2019-08-01</td>\n",
       "      <td>A</td>\n",
       "      <td>23</td>\n",
       "      <td>19</td>\n",
       "      <td>142779</td>\n",
       "      <td>719</td>\n",
       "    </tr>\n",
       "    <tr>\n",
       "      <th>1</th>\n",
       "      <td>2019-08-01</td>\n",
       "      <td>B</td>\n",
       "      <td>17</td>\n",
       "      <td>17</td>\n",
       "      <td>59758</td>\n",
       "      <td>713</td>\n",
       "    </tr>\n",
       "    <tr>\n",
       "      <th>2</th>\n",
       "      <td>2019-08-02</td>\n",
       "      <td>A</td>\n",
       "      <td>42</td>\n",
       "      <td>36</td>\n",
       "      <td>234381</td>\n",
       "      <td>1338</td>\n",
       "    </tr>\n",
       "    <tr>\n",
       "      <th>3</th>\n",
       "      <td>2019-08-02</td>\n",
       "      <td>B</td>\n",
       "      <td>40</td>\n",
       "      <td>39</td>\n",
       "      <td>221801</td>\n",
       "      <td>1294</td>\n",
       "    </tr>\n",
       "    <tr>\n",
       "      <th>4</th>\n",
       "      <td>2019-08-03</td>\n",
       "      <td>A</td>\n",
       "      <td>66</td>\n",
       "      <td>60</td>\n",
       "      <td>346854</td>\n",
       "      <td>1845</td>\n",
       "    </tr>\n",
       "  </tbody>\n",
       "</table>\n",
       "</div>"
      ],
      "text/plain": [
       "        date group  orders  buyers  revenue  visitors\n",
       "0 2019-08-01     A      23      19   142779       719\n",
       "1 2019-08-01     B      17      17    59758       713\n",
       "2 2019-08-02     A      42      36   234381      1338\n",
       "3 2019-08-02     B      40      39   221801      1294\n",
       "4 2019-08-03     A      66      60   346854      1845"
      ]
     },
     "execution_count": 31,
     "metadata": {},
     "output_type": "execute_result"
    }
   ],
   "source": [
    "# агрегированные кумулятивные по дням данные о заказах\n",
    "orders_aggregated = dates_groups.apply(\n",
    "    lambda x: orders[\n",
    "        np.logical_and(\n",
    "            orders['date'] <= x['date'], orders['group'] == x['group']\n",
    "        )\n",
    "    ].agg(\n",
    "        {\n",
    "            'date': 'max',\n",
    "            'group': 'max',\n",
    "            'transaction_id': 'nunique',\n",
    "            'visitor_id': 'nunique',\n",
    "            'revenue': 'sum',\n",
    "        }\n",
    "    ),\n",
    "    axis=1,\n",
    ").sort_values(by=['date', 'group'])\n",
    "\n",
    "# aгрегированные кумулятивные по дням данные о посетителях интернет-магазина\n",
    "visitors_aggregated = dates_groups.apply(\n",
    "    lambda x: visitors[\n",
    "        np.logical_and(\n",
    "            visitors['date'] <= x['date'], visitors['group'] == x['group']\n",
    "        )\n",
    "    ].agg({'date': 'max', 'group': 'max', 'visitors': 'sum'}),\n",
    "    axis=1,\n",
    ").sort_values(by=['date', 'group'])\n",
    "\n",
    "# объединение кумулятивных данных в одной таблице\n",
    "cumulative_data = orders_aggregated.merge(\n",
    "    visitors_aggregated, left_on=['date', 'group'], right_on=['date', 'group'])\n",
    "\n",
    "# присваивание понятных названий\n",
    "cumulative_data.columns = [\n",
    "    'date',\n",
    "    'group',\n",
    "    'orders',\n",
    "    'buyers',\n",
    "    'revenue',\n",
    "    'visitors']\n",
    "\n",
    "# первые 5 строк\n",
    "cumulative_data.head()"
   ]
  },
  {
   "cell_type": "markdown",
   "metadata": {},
   "source": [
    "Объявим переменные, в которых сохраним данные о датах, выручке и числе заказов в группах A и B."
   ]
  },
  {
   "cell_type": "code",
   "execution_count": 32,
   "metadata": {},
   "outputs": [],
   "source": [
    "# кумулятивное количество заказов и кумулятивная выручка по дням в группе А\n",
    "cumulative_revenue_A = cumulative_data[cumulative_data['group']=='A'][['date','revenue', 'orders']]\n",
    "\n",
    "# кумулятивное количество заказов и кумулятивная выручка по дням в группе B\n",
    "cumulative_revenue_B = cumulative_data[cumulative_data['group']=='B'][['date','revenue', 'orders']]"
   ]
  },
  {
   "cell_type": "markdown",
   "metadata": {},
   "source": [
    "Посмотрим на график кумулятивной выручки по группам."
   ]
  },
  {
   "cell_type": "code",
   "execution_count": 33,
   "metadata": {},
   "outputs": [
    {
     "data": {
      "image/png": "[encoded data removed]",
      "text/plain": [
       "<Figure size 864x360 with 1 Axes>"
      ]
     },
     "metadata": {
      "needs_background": "light"
     },
     "output_type": "display_data"
    }
   ],
   "source": [
    "# график кумулятивной выручки по группам\n",
    "plt.figure(figsize=(12,5))\n",
    "plt.plot(cumulative_revenue_A['date'], cumulative_revenue_A['revenue'], label='Кумулятивная выручка группы A')\n",
    "plt.plot(cumulative_revenue_B['date'], cumulative_revenue_B['revenue'], label='Кумулятивная выручка группы B')\n",
    "plt.grid()\n",
    "plt.title('График кумулятивной выручки по группам')\n",
    "plt.ylabel('Выручка')\n",
    "plt.xlabel('Дата')\n",
    "plt.legend()\n",
    "plt.show()"
   ]
  },
  {
   "cell_type": "markdown",
   "metadata": {},
   "source": [
    "Выручка группы А растет линейно и плавно, а в группе В, видимо, есть выбросы, т.к. наблюдается резкий скачок. Выручка сравнялась 13-го числа, а затем в группе В либо стало больше заказов, либо сами заказы были дороже (проверим это). В целом, группа В лидирует по размеру выручки, её линия на графике выше линии группы А.\n",
    "\n",
    "Посмотрим, что происходило с заказами 19-го числа (день с резким скачком) в группе В."
   ]
  },
  {
   "cell_type": "code",
   "execution_count": 34,
   "metadata": {},
   "outputs": [
    {
     "data": {
      "text/html": [
       "<div>\n",
       "<style scoped>\n",
       "    .dataframe tbody tr th:only-of-type {\n",
       "        vertical-align: middle;\n",
       "    }\n",
       "\n",
       "    .dataframe tbody tr th {\n",
       "        vertical-align: top;\n",
       "    }\n",
       "\n",
       "    .dataframe thead th {\n",
       "        text-align: right;\n",
       "    }\n",
       "</style>\n",
       "<table border=\"1\" class=\"dataframe\">\n",
       "  <thead>\n",
       "    <tr style=\"text-align: right;\">\n",
       "      <th></th>\n",
       "      <th>date</th>\n",
       "      <th>revenue</th>\n",
       "      <th>orders</th>\n",
       "    </tr>\n",
       "  </thead>\n",
       "  <tbody>\n",
       "    <tr>\n",
       "      <th>33</th>\n",
       "      <td>2019-08-17</td>\n",
       "      <td>2155542</td>\n",
       "      <td>320</td>\n",
       "    </tr>\n",
       "    <tr>\n",
       "      <th>35</th>\n",
       "      <td>2019-08-18</td>\n",
       "      <td>2190865</td>\n",
       "      <td>327</td>\n",
       "    </tr>\n",
       "    <tr>\n",
       "      <th>37</th>\n",
       "      <td>2019-08-19</td>\n",
       "      <td>3620785</td>\n",
       "      <td>348</td>\n",
       "    </tr>\n",
       "    <tr>\n",
       "      <th>39</th>\n",
       "      <td>2019-08-20</td>\n",
       "      <td>3768059</td>\n",
       "      <td>368</td>\n",
       "    </tr>\n",
       "    <tr>\n",
       "      <th>41</th>\n",
       "      <td>2019-08-21</td>\n",
       "      <td>3908406</td>\n",
       "      <td>380</td>\n",
       "    </tr>\n",
       "  </tbody>\n",
       "</table>\n",
       "</div>"
      ],
      "text/plain": [
       "         date  revenue  orders\n",
       "33 2019-08-17  2155542     320\n",
       "35 2019-08-18  2190865     327\n",
       "37 2019-08-19  3620785     348\n",
       "39 2019-08-20  3768059     368\n",
       "41 2019-08-21  3908406     380"
      ]
     },
     "execution_count": 34,
     "metadata": {},
     "output_type": "execute_result"
    }
   ],
   "source": [
    "# срез данных в дни около скачка\n",
    "cumulative_revenue_B.query('\"2019-08-17\" <= date <= \"2019-08-21\"')"
   ]
  },
  {
   "cell_type": "markdown",
   "metadata": {},
   "source": [
    "Количество заказов растет довольно плавно, а вот выручка увеличилась почти в два раза и осталась примерно на том же уровне с постепенным ростом. Посмотрим, что так повлияло на неё."
   ]
  },
  {
   "cell_type": "code",
   "execution_count": 35,
   "metadata": {},
   "outputs": [
    {
     "data": {
      "text/html": [
       "<div>\n",
       "<style scoped>\n",
       "    .dataframe tbody tr th:only-of-type {\n",
       "        vertical-align: middle;\n",
       "    }\n",
       "\n",
       "    .dataframe tbody tr th {\n",
       "        vertical-align: top;\n",
       "    }\n",
       "\n",
       "    .dataframe thead th {\n",
       "        text-align: right;\n",
       "    }\n",
       "</style>\n",
       "<table border=\"1\" class=\"dataframe\">\n",
       "  <thead>\n",
       "    <tr style=\"text-align: right;\">\n",
       "      <th></th>\n",
       "      <th>transaction_id</th>\n",
       "      <th>visitor_id</th>\n",
       "      <th>date</th>\n",
       "      <th>revenue</th>\n",
       "      <th>group</th>\n",
       "      <th>group_new</th>\n",
       "    </tr>\n",
       "  </thead>\n",
       "  <tbody>\n",
       "    <tr>\n",
       "      <th>425</th>\n",
       "      <td>590470918</td>\n",
       "      <td>1920142716</td>\n",
       "      <td>2019-08-19</td>\n",
       "      <td>1294500</td>\n",
       "      <td>B</td>\n",
       "      <td>1</td>\n",
       "    </tr>\n",
       "    <tr>\n",
       "      <th>530</th>\n",
       "      <td>3970235543</td>\n",
       "      <td>2912540959</td>\n",
       "      <td>2019-08-19</td>\n",
       "      <td>43990</td>\n",
       "      <td>A</td>\n",
       "      <td>1</td>\n",
       "    </tr>\n",
       "    <tr>\n",
       "      <th>527</th>\n",
       "      <td>1570513684</td>\n",
       "      <td>2837914161</td>\n",
       "      <td>2019-08-19</td>\n",
       "      <td>33405</td>\n",
       "      <td>B</td>\n",
       "      <td>1</td>\n",
       "    </tr>\n",
       "    <tr>\n",
       "      <th>421</th>\n",
       "      <td>3765974140</td>\n",
       "      <td>1357170471</td>\n",
       "      <td>2019-08-19</td>\n",
       "      <td>31680</td>\n",
       "      <td>A</td>\n",
       "      <td>1</td>\n",
       "    </tr>\n",
       "    <tr>\n",
       "      <th>461</th>\n",
       "      <td>2683113224</td>\n",
       "      <td>154576532</td>\n",
       "      <td>2019-08-19</td>\n",
       "      <td>26550</td>\n",
       "      <td>B</td>\n",
       "      <td>1</td>\n",
       "    </tr>\n",
       "  </tbody>\n",
       "</table>\n",
       "</div>"
      ],
      "text/plain": [
       "     transaction_id  visitor_id       date  revenue group  group_new\n",
       "425       590470918  1920142716 2019-08-19  1294500     B          1\n",
       "530      3970235543  2912540959 2019-08-19    43990     A          1\n",
       "527      1570513684  2837914161 2019-08-19    33405     B          1\n",
       "421      3765974140  1357170471 2019-08-19    31680     A          1\n",
       "461      2683113224   154576532 2019-08-19    26550     B          1"
      ]
     },
     "execution_count": 35,
     "metadata": {},
     "output_type": "execute_result"
    }
   ],
   "source": [
    "# срез данных в нужный день\n",
    "orders.query('date == \"2019-08-19\"').sort_values(by='revenue', ascending=False).head()"
   ]
  },
  {
   "cell_type": "markdown",
   "metadata": {},
   "source": [
    "Есть один большой заказ. Можно считать его выбросом, поскольку ближайший заказ в 29 раз меньше.\n",
    "\n",
    "Следующая задача - построить график кумулятивного среднего чека по группам. Для этого  разделим кумулятивную выручку на кумулятивное число заказов."
   ]
  },
  {
   "cell_type": "code",
   "execution_count": 36,
   "metadata": {},
   "outputs": [
    {
     "data": {
      "image/png": "[encoded data removed]",
      "text/plain": [
       "<Figure size 864x360 with 1 Axes>"
      ]
     },
     "metadata": {
      "needs_background": "light"
     },
     "output_type": "display_data"
    }
   ],
   "source": [
    "# график кумулятивного среднего чека по группам\n",
    "plt.figure(figsize=(12,5))\n",
    "plt.plot(cumulative_revenue_A['date'], cumulative_revenue_A['revenue']/cumulative_revenue_A['orders'], label='Средний кумулятивный чек группы A')\n",
    "plt.plot(cumulative_revenue_B['date'], cumulative_revenue_B['revenue']/cumulative_revenue_B['orders'], label='Средний кумулятивный чек группы B')\n",
    "plt.grid()\n",
    "plt.title('График кумулятивного среднего чека по группам')\n",
    "plt.ylabel('Выручка')\n",
    "plt.xlabel('Дата')\n",
    "plt.legend()\n",
    "plt.show()"
   ]
  },
  {
   "cell_type": "markdown",
   "metadata": {},
   "source": [
    "Здесь также виден резкий скачок в группе В - это тот большой заказ с номером 425. После него выручка даже стала снижаться. В группе А средний чек пару раз превышал сумму группы В, но в целом чек группы В намного больше.\n",
    "\n",
    "Построим теперь график относительного изменения кумулятивного среднего чека группы B к группе A. Для этого нужно собрать данные о выручке в одном датафрейме."
   ]
  },
  {
   "cell_type": "code",
   "execution_count": 37,
   "metadata": {},
   "outputs": [
    {
     "data": {
      "image/png": "[encoded data removed]",
      "text/plain": [
       "<Figure size 864x360 with 1 Axes>"
      ]
     },
     "metadata": {
      "needs_background": "light"
     },
     "output_type": "display_data"
    }
   ],
   "source": [
    "# объединение данных в одном датафрейме\n",
    "merged_cumulative_revenue = cumulative_revenue_A.merge(cumulative_revenue_B, \n",
    "                                                       left_on='date', \n",
    "                                                       right_on='date', \n",
    "                                                       how='left', \n",
    "                                                       suffixes=['A', 'B'])\n",
    "\n",
    "# график отношения средних чеков\n",
    "plt.figure(figsize=(12,5))\n",
    "plt.grid()\n",
    "plt.plot(merged_cumulative_revenue['date'], (merged_cumulative_revenue['revenueB']\n",
    "                                             /merged_cumulative_revenue['ordersB'])\n",
    "                                             /(merged_cumulative_revenue['revenueA']\n",
    "                                             /merged_cumulative_revenue['ordersA'])-1)\n",
    "\n",
    "plt.axhline(y=0, color='black', linestyle='--')\n",
    "plt.title('Относительное изменение кумулятивного среднего чека группы B к группе А')\n",
    "plt.xlabel('Дата')\n",
    "plt.show()"
   ]
  },
  {
   "cell_type": "markdown",
   "metadata": {},
   "source": [
    "Здесь выводы будут похожими на предыдущий пункт. В целом, средний чек группы В намного больше, чем в группе А. Снижение наблюдается только в дни, когда средний чек группы В был ниже, как на прошлом графике. Так же виден резкий скачок 19-го числа за счет аномально большого заказа, в последующие дни средний чек постепенно снижается.\n",
    "\n",
    "Построим график кумулятивной конверсии по группам. Для этого нужно посчитать конверсию."
   ]
  },
  {
   "cell_type": "code",
   "execution_count": 38,
   "metadata": {},
   "outputs": [
    {
     "data": {
      "image/png": "[encoded data removed]",
      "text/plain": [
       "<Figure size 864x360 with 1 Axes>"
      ]
     },
     "metadata": {
      "needs_background": "light"
     },
     "output_type": "display_data"
    }
   ],
   "source": [
    "# кумулятивная конверсия\n",
    "cumulative_data['conversion'] = cumulative_data['orders']/cumulative_data['visitors']\n",
    "\n",
    "# разделение данных по группам\n",
    "cumulative_data_A = cumulative_data[cumulative_data['group']=='A']\n",
    "cumulative_data_B = cumulative_data[cumulative_data['group']=='B']\n",
    "\n",
    "# графики с конверсией\n",
    "plt.figure(figsize=(12,5))\n",
    "plt.grid()\n",
    "plt.plot(cumulative_data_A['date'], cumulative_data_A['conversion'], label='Кумулятивная конверсия A')\n",
    "plt.plot(cumulative_data_B['date'], cumulative_data_B['conversion'], label='Кумулятивная конверсия B')\n",
    "plt.legend()\n",
    "plt.title('Кумулятивная конверсия')\n",
    "plt.xlabel('Дата')\n",
    "plt.show()"
   ]
  },
  {
   "cell_type": "markdown",
   "metadata": {},
   "source": [
    "В начале месяца у обоих групп был пик конверсии, затем 6-го числа произошел переломный момент - конверсия группы В ушла вверх и осталась лидером, хотя и с постепенным снижением, конверсия группы А так и не стала повышаться. Вероятно, группе В предлагали хорошую скидку или выгодную акцию.\n",
    "\n",
    "Посмотрим на график относительного изменения кумулятивной конверсии группы B к группе A. Для этого нужно объединить данные по группам."
   ]
  },
  {
   "cell_type": "code",
   "execution_count": 39,
   "metadata": {},
   "outputs": [
    {
     "data": {
      "image/png": "[encoded data removed]",
      "text/plain": [
       "<Figure size 864x360 with 1 Axes>"
      ]
     },
     "metadata": {
      "needs_background": "light"
     },
     "output_type": "display_data"
    }
   ],
   "source": [
    "# объединение данных по группам\n",
    "merged_cumulative_conversions = cumulative_data_A[['date','conversion']].merge(cumulative_data_B[['date','conversion']], \n",
    "                                                                             left_on='date', \n",
    "                                                                             right_on='date', \n",
    "                                                                             how='left', \n",
    "                                                                             suffixes=['A', 'B'])\n",
    "# график относительного изменения конверсии\n",
    "plt.figure(figsize=(12,5))\n",
    "plt.grid()\n",
    "plt.plot(merged_cumulative_conversions['date'], merged_cumulative_conversions['conversionB']\n",
    "                                                /merged_cumulative_conversions['conversionA']-1, \n",
    "                                                label=\"Относительный прирост конверсии группы B относительно группы A\")\n",
    "plt.axhline(y=0, color='green', linestyle='--')\n",
    "plt.axhline(y=0.2, color='red', linestyle='--')\n",
    "plt.legend()\n",
    "plt.title('Относительное изменение кумулятивной конверсии группы B к группе A')\n",
    "plt.xlabel('Дата')\n",
    "plt.show()"
   ]
  },
  {
   "cell_type": "markdown",
   "metadata": {},
   "source": [
    "Конверсия группы В выглядит лучше. Достигнув показателя около 21% в середине рассматриваемого периода, она стала понемногу снижаться и осталась на уровне 12-14% относительно группы А. График снижался в дни, когда конверсия группы А была выше (возможно, проводилась акция или были скидки).\n",
    "\n",
    "Посмотрим, как обстоит дело с количеством заказов. Построим точечный график количества заказов по пользователям. Для этого нужно создать отдельный датафрейм."
   ]
  },
  {
   "cell_type": "code",
   "execution_count": 40,
   "metadata": {},
   "outputs": [
    {
     "data": {
      "text/html": [
       "<div>\n",
       "<style scoped>\n",
       "    .dataframe tbody tr th:only-of-type {\n",
       "        vertical-align: middle;\n",
       "    }\n",
       "\n",
       "    .dataframe tbody tr th {\n",
       "        vertical-align: top;\n",
       "    }\n",
       "\n",
       "    .dataframe thead th {\n",
       "        text-align: right;\n",
       "    }\n",
       "</style>\n",
       "<table border=\"1\" class=\"dataframe\">\n",
       "  <thead>\n",
       "    <tr style=\"text-align: right;\">\n",
       "      <th></th>\n",
       "      <th>visitors</th>\n",
       "      <th>orders</th>\n",
       "    </tr>\n",
       "  </thead>\n",
       "  <tbody>\n",
       "    <tr>\n",
       "      <th>908</th>\n",
       "      <td>3967698036</td>\n",
       "      <td>3</td>\n",
       "    </tr>\n",
       "    <tr>\n",
       "      <th>55</th>\n",
       "      <td>249864742</td>\n",
       "      <td>3</td>\n",
       "    </tr>\n",
       "    <tr>\n",
       "      <th>478</th>\n",
       "      <td>2108163459</td>\n",
       "      <td>3</td>\n",
       "    </tr>\n",
       "    <tr>\n",
       "      <th>687</th>\n",
       "      <td>2988190573</td>\n",
       "      <td>3</td>\n",
       "    </tr>\n",
       "    <tr>\n",
       "      <th>890</th>\n",
       "      <td>3908431265</td>\n",
       "      <td>3</td>\n",
       "    </tr>\n",
       "    <tr>\n",
       "      <th>138</th>\n",
       "      <td>611059232</td>\n",
       "      <td>3</td>\n",
       "    </tr>\n",
       "    <tr>\n",
       "      <th>632</th>\n",
       "      <td>2742574263</td>\n",
       "      <td>3</td>\n",
       "    </tr>\n",
       "    <tr>\n",
       "      <th>157</th>\n",
       "      <td>678354126</td>\n",
       "      <td>2</td>\n",
       "    </tr>\n",
       "    <tr>\n",
       "      <th>323</th>\n",
       "      <td>1404560065</td>\n",
       "      <td>2</td>\n",
       "    </tr>\n",
       "    <tr>\n",
       "      <th>452</th>\n",
       "      <td>1985475298</td>\n",
       "      <td>2</td>\n",
       "    </tr>\n",
       "  </tbody>\n",
       "</table>\n",
       "</div>"
      ],
      "text/plain": [
       "       visitors  orders\n",
       "908  3967698036       3\n",
       "55    249864742       3\n",
       "478  2108163459       3\n",
       "687  2988190573       3\n",
       "890  3908431265       3\n",
       "138   611059232       3\n",
       "632  2742574263       3\n",
       "157   678354126       2\n",
       "323  1404560065       2\n",
       "452  1985475298       2"
      ]
     },
     "execution_count": 40,
     "metadata": {},
     "output_type": "execute_result"
    }
   ],
   "source": [
    "# количество заказов по пользователям\n",
    "orders_by_users = (\n",
    "    orders.groupby('visitor_id', as_index=False)\n",
    "    .agg({'transaction_id': 'nunique'})\n",
    ")\n",
    "# удобные названия столбцов\n",
    "orders_by_users.columns = ['visitors', 'orders']\n",
    "# вывод с сортировкой\n",
    "orders_by_users.sort_values(by='orders', ascending=False).head(10)"
   ]
  },
  {
   "cell_type": "markdown",
   "metadata": {},
   "source": [
    "Визуализируем."
   ]
  },
  {
   "cell_type": "code",
   "execution_count": 41,
   "metadata": {},
   "outputs": [
    {
     "data": {
      "image/png": "[encoded data removed]",
      "text/plain": [
       "<Figure size 864x360 with 1 Axes>"
      ]
     },
     "metadata": {
      "needs_background": "light"
     },
     "output_type": "display_data"
    }
   ],
   "source": [
    "# график количества заказов по пользователям\n",
    "x_values = pd.Series(range(0,len(orders_by_users)))\n",
    "plt.figure(figsize=(12,5))\n",
    "plt.grid()\n",
    "plt.title('График количества заказов по пользователям')\n",
    "plt.ylabel('Заказы')\n",
    "plt.scatter(x_values, orders_by_users['orders'])\n",
    "plt.show()"
   ]
  },
  {
   "cell_type": "markdown",
   "metadata": {},
   "source": [
    "Абсолютное большинство пользователей совершили 1 заказ. Тех, кто заказывал дважды, уже меньше. Еще меньше людей с тремя заказами. Непонятно пока, какое количество заказов считать аномалией, но больше 4-х заказов точно.\n",
    "\n",
    "Посчитаем 95-й и 99-й перцентили количества заказов на пользователя, чтобы выбрать границу для определения аномальных пользователей."
   ]
  },
  {
   "cell_type": "code",
   "execution_count": 42,
   "metadata": {},
   "outputs": [
    {
     "data": {
      "text/plain": [
       "array([1., 2.])"
      ]
     },
     "execution_count": 42,
     "metadata": {},
     "output_type": "execute_result"
    }
   ],
   "source": [
    "# расчет 95-го и 99-го перцентилей количества заказов\n",
    "np.percentile(orders_by_users['orders'], [95, 99])"
   ]
  },
  {
   "cell_type": "markdown",
   "metadata": {},
   "source": [
    "Теперь понятно, что не более 5% пользователей сделали больше 1-го заказа и не более 1% сделали больше 2-х заказов. Будем считать аномалией 2 заказа и более.\n",
    "\n",
    "Построим точечный график стоимостей заказов."
   ]
  },
  {
   "cell_type": "code",
   "execution_count": 43,
   "metadata": {
    "scrolled": true
   },
   "outputs": [
    {
     "data": {
      "image/png": "[encoded data removed]",
      "text/plain": [
       "<Figure size 864x360 with 1 Axes>"
      ]
     },
     "metadata": {
      "needs_background": "light"
     },
     "output_type": "display_data"
    }
   ],
   "source": [
    "# график стоимостей заказов\n",
    "x_values = pd.Series(range(0, len(orders['revenue'])))\n",
    "plt.figure(figsize=(12,5))\n",
    "plt.grid()\n",
    "plt.scatter(x_values, orders['revenue'])\n",
    "plt.title('График стоимостей заказов')\n",
    "plt.ylabel('Выручка')\n",
    "plt.xlabel('Заказы')\n",
    "plt.show()"
   ]
  },
  {
   "cell_type": "markdown",
   "metadata": {},
   "source": [
    "Ничего не понятно. Зато видно тот самый дорогой заказ с номером 425. Уберем слишком дорогие заказы."
   ]
  },
  {
   "cell_type": "code",
   "execution_count": 44,
   "metadata": {},
   "outputs": [
    {
     "data": {
      "image/png": "[encoded data removed]",
      "text/plain": [
       "<Figure size 864x360 with 1 Axes>"
      ]
     },
     "metadata": {
      "needs_background": "light"
     },
     "output_type": "display_data"
    }
   ],
   "source": [
    "# фильтрация высоких значений\n",
    "new_orders = orders[orders['revenue']<=195000]['revenue']\n",
    "xn_values = pd.Series(range(0,len(new_orders)))\n",
    "plt.figure(figsize=(12,5))\n",
    "plt.grid()\n",
    "plt.scatter(xn_values, new_orders)\n",
    "plt.title('График стоимостей заказов')\n",
    "plt.ylabel('Выручка')\n",
    "plt.xlabel('Заказы')\n",
    "plt.show()"
   ]
  },
  {
   "cell_type": "markdown",
   "metadata": {},
   "source": [
    "Выбросы находятся на уровне примерно 20 000 и выше. Чтобы быть уверенными, рассчитаем 95-й и 99-й перцентили стоимости заказов."
   ]
  },
  {
   "cell_type": "code",
   "execution_count": 45,
   "metadata": {},
   "outputs": [
    {
     "data": {
      "text/plain": [
       "array([26785., 53904.])"
      ]
     },
     "execution_count": 45,
     "metadata": {},
     "output_type": "execute_result"
    }
   ],
   "source": [
    "# расчет 95-го и 99-го перцентилей стоимости заказов\n",
    "np.percentile(orders['revenue'], [95, 99])"
   ]
  },
  {
   "cell_type": "markdown",
   "metadata": {},
   "source": [
    "Теперь понятно, что выбросами можно считать заказы стоимостью более 53 904 (не более 1% заказов).\n",
    "\n",
    "Остается посчитать статистическую значимость для различий в конверсии и среднем чеке для групп. Для этого нужно собрать все данные по заказам и визитам и добавить кумулятивные показатели, а потом объединить все в одну таблицу."
   ]
  },
  {
   "cell_type": "code",
   "execution_count": 46,
   "metadata": {},
   "outputs": [],
   "source": [
    "# данные по визитам и кумулятивные показатели\n",
    "\n",
    "visitors_A_daily = visitors[visitors['group'] == 'A'][['date', 'visitors']]\n",
    "visitors_A_daily.columns = ['date', 'visitors_per_date_A']\n",
    "\n",
    "visitors_A_cummulative = visitors_A_daily.apply(\n",
    "    lambda x: visitors_A_daily[visitors_A_daily['date'] <= x['date']].agg(\n",
    "        {'date': 'max', 'visitors_per_date_A': 'sum'}), axis=1)\n",
    "\n",
    "visitors_A_cummulative.columns = ['date', 'visitors_cummulative_A']\n",
    "\n",
    "\n",
    "visitors_B_daily = visitors[visitors['group'] == 'B'][['date', 'visitors']]\n",
    "visitors_B_daily.columns = ['date', 'visitors_per_date_B']\n",
    "\n",
    "visitors_B_cummulative = visitors_B_daily.apply(\n",
    "    lambda x: visitors_B_daily[visitors_B_daily['date'] <= x['date']].agg(\n",
    "        {'date': 'max', 'visitors_per_date_B': 'sum'}), axis=1)\n",
    "\n",
    "visitors_B_cummulative.columns = ['date', 'visitors_cummulative_B']\n",
    "\n",
    "# данные по заказам и кумулятивные показатели\n",
    "\n",
    "orders_A_daily = (\n",
    "    orders[orders['group'] == 'A'][['date', 'transaction_id', 'visitor_id', 'revenue']]\n",
    "    .groupby('date', as_index=False)\n",
    "    .agg({'transaction_id': pd.Series.nunique, 'revenue': 'sum'}))\n",
    "\n",
    "orders_A_daily.columns = ['date', 'orders_per_date_A', 'revenue_per_date_A']\n",
    "\n",
    "orders_A_cummulative = orders_A_daily.apply(\n",
    "    lambda x: orders_A_daily[orders_A_daily['date'] <= x['date']].agg(\n",
    "        {'date': 'max', 'orders_per_date_A': 'sum', 'revenue_per_date_A': 'sum'}), axis=1,\n",
    ").sort_values(by=['date'])\n",
    "\n",
    "orders_A_cummulative.columns = [\n",
    "    'date',\n",
    "    'orders_cummulative_A',\n",
    "    'revenue_cummulative_A']\n",
    "\n",
    "\n",
    "orders_B_daily = (\n",
    "    orders[orders['group'] == 'B'][['date', 'transaction_id', 'visitor_id', 'revenue']]\n",
    "    .groupby('date', as_index=False)\n",
    "    .agg({'transaction_id': pd.Series.nunique, 'revenue': 'sum'}))\n",
    "\n",
    "orders_B_daily.columns = ['date', 'orders_per_date_B', 'revenue_per_date_B']\n",
    "\n",
    "orders_B_cummulative = orders_B_daily.apply(\n",
    "    lambda x: orders_B_daily[orders_B_daily['date'] <= x['date']].agg(\n",
    "        {'date': 'max', 'orders_per_date_B': 'sum', 'revenue_per_date_B': 'sum'}), axis=1,\n",
    ").sort_values(by=['date'])\n",
    "\n",
    "orders_B_cummulative.columns = [\n",
    "    'date',\n",
    "    'orders_cummulative_B',\n",
    "    'revenue_cummulative_B']\n",
    "\n",
    "# объединение данных\n",
    "\n",
    "data = (\n",
    "    orders_A_daily.merge(\n",
    "    orders_B_daily, left_on='date', right_on='date', how='left')\n",
    "    .merge(orders_A_cummulative, left_on='date', right_on='date', how='left')\n",
    "    .merge(orders_B_cummulative, left_on='date', right_on='date', how='left')\n",
    "    .merge(visitors_A_daily, left_on='date', right_on='date', how='left')\n",
    "    .merge(visitors_B_daily, left_on='date', right_on='date', how='left')\n",
    "    .merge(visitors_A_cummulative, left_on='date', right_on='date', how='left')\n",
    "    .merge(visitors_B_cummulative, left_on='date', right_on='date', how='left'))"
   ]
  },
  {
   "cell_type": "markdown",
   "metadata": {},
   "source": [
    "Создадим переменные `orders_by_users_A` и `orders_by_users_B` со столбцами `user_id` и `orders`, где для пользователей, совершивших хотя бы 1 заказ, будет указано число заказов. Объявим переменные `sample_A` и `sample_B`, в которых пользователям с заказами будет соответствовать число заказов пользователя, а пользователям без заказов - нули."
   ]
  },
  {
   "cell_type": "code",
   "execution_count": 47,
   "metadata": {},
   "outputs": [],
   "source": [
    "# подготовка данных к проверке статистической значимости\n",
    "\n",
    "orders_by_users_A = orders[orders['group']=='A'].groupby('visitor_id', \n",
    "                                                         as_index=False).agg({'transaction_id' : pd.Series.nunique})\n",
    "orders_by_users_A.columns = ['user_id', 'orders']\n",
    "\n",
    "orders_by_users_B = orders[orders['group']=='B'].groupby('visitor_id', \n",
    "                                                         as_index=False).agg({'transaction_id' : pd.Series.nunique})\n",
    "orders_by_users_B.columns = ['user_id', 'orders']\n",
    "\n",
    "sample_A = pd.concat([orders_by_users_A['orders'], pd.Series(\n",
    "    0, index=np.arange(data['visitors_per_date_A'].sum() - len(orders_by_users_A['orders'])), name='orders')],axis=0)\n",
    "\n",
    "sample_B = pd.concat([orders_by_users_B['orders'], pd.Series(\n",
    "    0, index=np.arange(data['visitors_per_date_B'].sum() - len(orders_by_users_B['orders'])), name='orders')],axis=0)"
   ]
  },
  {
   "cell_type": "markdown",
   "metadata": {},
   "source": [
    "Готово. Посчитаем статистическую значимость различий в конверсии между группами по «сырым» данным.\n",
    "\n",
    "Формулируем гипотезы:\n",
    "* H0: Конверсия в группе A равна конверсии в группе B\n",
    "* H1: Конверсия в группе A не равна конверсии в группе B"
   ]
  },
  {
   "cell_type": "markdown",
   "metadata": {},
   "source": [
    "<div class=\"alert alert-success\">\n",
    "  \n",
    "  <b>Комментарий ревьюера</b>\n",
    "    \n",
    "  ✔️ Нулевая и альтернативная гипотезы сформулированы.\n",
    "</div>"
   ]
  },
  {
   "cell_type": "code",
   "execution_count": 48,
   "metadata": {},
   "outputs": [
    {
     "name": "stdout",
     "output_type": "stream",
     "text": [
      "alpha = 0.05\n",
      "p-value = 0.011\n",
      "Относительный прирост конверсии группы В к группе А = 0.160\n"
     ]
    }
   ],
   "source": [
    "# проверка статистической значимости различий в конверсии по «сырым» данным\n",
    "print('alpha =',0.05)\n",
    "print('p-value = {0:.3f}'.format(stats.mannwhitneyu(sample_A, sample_B)[1]))\n",
    "print('Относительный прирост конверсии группы В к группе А = {0:.3f}'.format(\n",
    "    (data['orders_per_date_B'].sum()\n",
    "     /data['visitors_per_date_B'].sum())\n",
    "     /(data['orders_per_date_A'].sum()\n",
    "     /data['visitors_per_date_A'].sum())-1))"
   ]
  },
  {
   "cell_type": "markdown",
   "metadata": {},
   "source": [
    "Итак, p-value меньше 0.05. Это значит, что мы отвергаем нулевую гипотезу о равенстве конверсий между группами. По «сырым» данным конверсия группы В превышает конверсию группы А на 13,8%.\n",
    "\n",
    "Посчитаем теперь статистическую значимость различий в среднем чеке заказа между группами по «сырым» данным.\n",
    "\n",
    "Формулируем гипотезы:\n",
    "* H0: Средний чек в группе A равен среднему чеку в группе B\n",
    "* H1: Средний чек в группе A не равен среднему чеку в группе B"
   ]
  },
  {
   "cell_type": "code",
   "execution_count": 49,
   "metadata": {},
   "outputs": [
    {
     "name": "stdout",
     "output_type": "stream",
     "text": [
      "alpha = 0.05\n",
      "p-value = 0.829\n",
      "Относительный прирост среднего чека группы В к группе А = 0.287\n"
     ]
    }
   ],
   "source": [
    "# проверка статистической значимости различий в среднем чеке по «сырым» данным\n",
    "print(\"alpha =\",0.05)\n",
    "print('p-value = {0:.3f}'.format(stats.mannwhitneyu(orders[orders['group']=='A']['revenue'], \n",
    "                                                    orders[orders['group']=='B']['revenue'])[1]))\n",
    "print('Относительный прирост среднего чека группы В к группе А = {0:.3f}'.format(\n",
    "    orders[orders['group']=='B']['revenue'].mean()/orders[orders['group']=='A']['revenue'].mean()-1))"
   ]
  },
  {
   "cell_type": "markdown",
   "metadata": {},
   "source": [
    "Итак, р-value больше 0.05. Это значит, что нет причин отвергать нулевую гипотезу о равенстве среднего чека между группами. По «сырым» данным средний чек примерно равен в группах. Хотя разница между ними составляет почти 26%, ее нельзя считать статистически значимой.\n",
    "\n",
    "Теперь нужно «очистить» данные и снова посчитать статистическую значимость.\n",
    "\n",
    "Вспомним, какие значения мы считаем аномальными. Для количества заказов это 4 и более (не более 1% пользователей), для стоимости заказов это 58 233 и более (не более 1% заказов)."
   ]
  },
  {
   "cell_type": "code",
   "execution_count": 50,
   "metadata": {},
   "outputs": [],
   "source": [
    "# очистка данных\n",
    "\n",
    "users_with_many_orders = pd.concat([\n",
    "        orders_by_users_A[orders_by_users_A['orders'] > 1]['user_id'],\n",
    "        orders_by_users_B[orders_by_users_B['orders'] > 1]['user_id']], axis=0)\n",
    "\n",
    "revenue_lim = 53904\n",
    "users_with_expensive_orders = orders[orders['revenue'] > revenue_lim]['visitor_id']\n",
    "\n",
    "abnormal_users = (\n",
    "    pd.concat([users_with_many_orders, users_with_expensive_orders], axis=0)\n",
    "    .drop_duplicates()\n",
    "    .sort_values())\n",
    "\n",
    "sample_A_filtered = pd.concat([\n",
    "    orders_by_users_A[np.logical_not(orders_by_users_A['user_id'].isin(abnormal_users))]['orders'], \\\n",
    "                             pd.Series(\n",
    "        0, index=np.arange(data['visitors_per_date_A'].sum() - len(orders_by_users_A['orders'])), \\\n",
    "        name='orders')],axis=0)\n",
    "\n",
    "sample_B_filtered = pd.concat([\n",
    "    orders_by_users_B[np.logical_not(orders_by_users_B['user_id'].isin(abnormal_users))]['orders'], \\\n",
    "                             pd.Series(\n",
    "        0, index=np.arange(data['visitors_per_date_B'].sum() - len(orders_by_users_B['orders'])), \\\n",
    "        name='orders')],axis=0)"
   ]
  },
  {
   "cell_type": "markdown",
   "metadata": {},
   "source": [
    "Готово.\n",
    "\n",
    "Посчитаем статистическую значимость различий в конверсии между группами по «очищенным» данным.\n",
    "\n",
    "Формулируем гипотезы:\n",
    "* H0: Конверсия в группе A равна конверсии в группе B\n",
    "* H1: Конверсия в группе A не равна конверсии в группе B"
   ]
  },
  {
   "cell_type": "code",
   "execution_count": 51,
   "metadata": {},
   "outputs": [
    {
     "name": "stdout",
     "output_type": "stream",
     "text": [
      "alpha = 0.05\n",
      "p-value = 0.008\n",
      "Относительный прирост конверсии группы В к группе А = 0.188\n"
     ]
    }
   ],
   "source": [
    "# проверка статистической значимости различий в конверсии по «очищенным» данным\n",
    "print('alpha =',0.05)\n",
    "print('p-value = {0:.3f}'.format(stats.mannwhitneyu(sample_A_filtered, sample_B_filtered)[1]))\n",
    "print('Относительный прирост конверсии группы В к группе А = {0:.3f}'.format(\n",
    "    sample_B_filtered.mean()/sample_A_filtered.mean()-1))"
   ]
  },
  {
   "cell_type": "markdown",
   "metadata": {},
   "source": [
    "Здесь p-value так же меньше 0.05. Различия между конверсиями есть, т.к. мы отвергаем нулевую гипотезу. По «сырым» данным конверсия группы В превышала конверсию группы А на 13,8%, а по «очищенным» - на 20,5%.\n",
    "\n",
    "Наконец, посчитаем статистическую значимость различий в среднем чеке заказа между группами по «очищенным» данным.\n",
    "\n",
    "Формулируем гипотезы:\n",
    "* H0: Средний чек в группе A равен среднему чеку в группе B\n",
    "* H1: Средний чек в группе A не равен среднему чеку в группе B"
   ]
  },
  {
   "cell_type": "code",
   "execution_count": 52,
   "metadata": {},
   "outputs": [
    {
     "name": "stdout",
     "output_type": "stream",
     "text": [
      "alpha = 0.05\n",
      "p-value = 0.969\n",
      "Относительный прирост среднего чека группы В к группе А = 0.002\n"
     ]
    }
   ],
   "source": [
    "# проверка статистической значимости различий в среднем чеке по «очищенным» данным\n",
    "print(\"alpha =\",0.05)\n",
    "\n",
    "print('p-value = {0:.3f}'.format(stats.mannwhitneyu(\n",
    "        orders[np.logical_and(\n",
    "        orders['group']=='A',\n",
    "        np.logical_not(orders['visitor_id'].isin(abnormal_users)))]['revenue'],\n",
    "    orders[np.logical_and(\n",
    "        orders['group']=='B',\n",
    "        np.logical_not(orders['visitor_id'].isin(abnormal_users)))]['revenue'])[1]))\n",
    "\n",
    "print('Относительный прирост среднего чека группы В к группе А = {0:.3f}'.format(\n",
    "    orders[np.logical_and(orders['group']=='B',np.logical_not(orders['visitor_id'].isin(abnormal_users)))]['revenue'].mean()/\n",
    "    orders[np.logical_and(\n",
    "        orders['group']=='A',\n",
    "        np.logical_not(orders['visitor_id'].isin(abnormal_users)))]['revenue'].mean() - 1)) "
   ]
  },
  {
   "cell_type": "markdown",
   "metadata": {},
   "source": [
    "Получается, р-value и здесь больше 0.05. Это значит, что нет причин отвергать нулевую гипотезу о равенстве среднего чека между группами. По «сырым» данным средний чек был примерно равен в группах, и разница между ними составляла почти 26% (статистической значимости для нее нет). По «очищенным» данным чек также равен, но разница уже минимальна - всего 0,2%. Такую большую разницу дал по большей мере тот самый заказ с номером 425. "
   ]
  },
  {
   "cell_type": "markdown",
   "metadata": {},
   "source": [
    "## Общий вывод\n",
    "\n",
    "По результатам тестирования было выявлено:\n",
    "\n",
    "Статистически значимые различия между конверсиями групп есть. По «сырым» данным конверсия группы В превышала конверсию группы А на 13,8%, а по «очищенным» - на 20,5%.\n",
    "\n",
    "Нет статистически значимых различий между средними чеками групп и по «сырым», и по «очищенным» данным, хотя была заметна разница между ними в «сырых» данных на почти 26% - здесь сказалось влияние большого аномального заказа. Статистической значимости для такой большой разницы не было.\n",
    "\n",
    "Тестирование можно останавливать и объявлять победу группы В по показателям конверсии, группы можно считать равными по показателям среднего чека."
   ]
  }
 ],
 "metadata": {
  "ExecuteTimeLog": [
   {
    "duration": 46,
    "start_time": "2022-05-03T10:27:01.651Z"
   },
   {
    "duration": 435,
    "start_time": "2022-05-03T10:27:04.414Z"
   },
   {
    "duration": 34,
    "start_time": "2022-05-03T10:27:11.455Z"
   },
   {
    "duration": 11,
    "start_time": "2022-05-03T11:16:10.371Z"
   },
   {
    "duration": 13,
    "start_time": "2022-05-03T11:16:13.110Z"
   },
   {
    "duration": 7,
    "start_time": "2022-05-03T11:16:16.659Z"
   },
   {
    "duration": 5,
    "start_time": "2022-05-03T11:16:19.064Z"
   },
   {
    "duration": 10,
    "start_time": "2022-05-03T11:16:20.862Z"
   },
   {
    "duration": 7,
    "start_time": "2022-05-03T11:16:22.956Z"
   },
   {
    "duration": 6,
    "start_time": "2022-05-03T11:16:25.112Z"
   },
   {
    "duration": 6,
    "start_time": "2022-05-03T11:16:27.694Z"
   },
   {
    "duration": 13,
    "start_time": "2022-05-03T11:16:29.638Z"
   },
   {
    "duration": 7,
    "start_time": "2022-05-03T11:16:31.615Z"
   },
   {
    "duration": 6,
    "start_time": "2022-05-03T11:16:33.454Z"
   },
   {
    "duration": 5,
    "start_time": "2022-05-03T11:16:35.551Z"
   },
   {
    "duration": 3,
    "start_time": "2022-05-03T11:24:45.941Z"
   },
   {
    "duration": 11,
    "start_time": "2022-05-03T11:25:32.139Z"
   },
   {
    "duration": 3,
    "start_time": "2022-05-03T11:28:47.375Z"
   },
   {
    "duration": 10,
    "start_time": "2022-05-03T11:30:44.628Z"
   },
   {
    "duration": 6,
    "start_time": "2022-05-03T11:30:49.972Z"
   },
   {
    "duration": 11,
    "start_time": "2022-05-03T11:30:50.890Z"
   },
   {
    "duration": 4,
    "start_time": "2022-05-03T11:32:37.607Z"
   },
   {
    "duration": 10,
    "start_time": "2022-05-03T11:32:49.595Z"
   },
   {
    "duration": 15,
    "start_time": "2022-05-03T11:44:22.953Z"
   },
   {
    "duration": 132,
    "start_time": "2022-05-03T11:44:59.429Z"
   },
   {
    "duration": 453,
    "start_time": "2022-05-03T11:45:05.724Z"
   },
   {
    "duration": 10,
    "start_time": "2022-05-03T11:45:09.778Z"
   },
   {
    "duration": 11,
    "start_time": "2022-05-03T11:45:30.135Z"
   },
   {
    "duration": 10,
    "start_time": "2022-05-03T11:48:27.166Z"
   },
   {
    "duration": 146,
    "start_time": "2022-05-03T11:53:50.287Z"
   },
   {
    "duration": 49,
    "start_time": "2022-05-04T12:18:25.553Z"
   },
   {
    "duration": 417,
    "start_time": "2022-05-04T12:18:32.728Z"
   },
   {
    "duration": 41,
    "start_time": "2022-05-04T12:18:33.147Z"
   },
   {
    "duration": 15,
    "start_time": "2022-05-04T12:18:33.189Z"
   },
   {
    "duration": 10,
    "start_time": "2022-05-04T12:18:33.206Z"
   },
   {
    "duration": 6,
    "start_time": "2022-05-04T12:18:33.219Z"
   },
   {
    "duration": 9,
    "start_time": "2022-05-04T12:18:33.227Z"
   },
   {
    "duration": 8,
    "start_time": "2022-05-04T12:18:33.237Z"
   },
   {
    "duration": 17,
    "start_time": "2022-05-04T12:18:33.247Z"
   },
   {
    "duration": 13,
    "start_time": "2022-05-04T12:18:33.266Z"
   },
   {
    "duration": 11,
    "start_time": "2022-05-04T12:18:33.281Z"
   },
   {
    "duration": 16,
    "start_time": "2022-05-04T12:18:33.293Z"
   },
   {
    "duration": 9,
    "start_time": "2022-05-04T12:18:33.311Z"
   },
   {
    "duration": 7,
    "start_time": "2022-05-04T12:18:33.322Z"
   },
   {
    "duration": 5,
    "start_time": "2022-05-04T12:18:33.348Z"
   },
   {
    "duration": 24,
    "start_time": "2022-05-04T12:18:33.355Z"
   },
   {
    "duration": 7,
    "start_time": "2022-05-04T12:18:33.380Z"
   },
   {
    "duration": 11,
    "start_time": "2022-05-04T12:18:33.389Z"
   },
   {
    "duration": 10,
    "start_time": "2022-05-04T12:18:33.402Z"
   },
   {
    "duration": 8,
    "start_time": "2022-05-04T12:18:33.414Z"
   },
   {
    "duration": 26,
    "start_time": "2022-05-04T12:18:33.424Z"
   },
   {
    "duration": 18,
    "start_time": "2022-05-04T12:18:33.452Z"
   },
   {
    "duration": 13,
    "start_time": "2022-05-04T12:18:33.472Z"
   },
   {
    "duration": 11,
    "start_time": "2022-05-04T12:18:33.486Z"
   },
   {
    "duration": 10,
    "start_time": "2022-05-04T12:18:33.499Z"
   },
   {
    "duration": 63,
    "start_time": "2022-05-04T12:19:02.464Z"
   },
   {
    "duration": 29,
    "start_time": "2022-05-04T12:19:12.348Z"
   },
   {
    "duration": 544,
    "start_time": "2022-05-04T12:19:44.527Z"
   },
   {
    "duration": 38,
    "start_time": "2022-05-04T12:19:56.957Z"
   },
   {
    "duration": 24,
    "start_time": "2022-05-04T12:20:08.569Z"
   },
   {
    "duration": 170,
    "start_time": "2022-05-04T12:20:45.176Z"
   },
   {
    "duration": 9,
    "start_time": "2022-05-04T12:21:43.799Z"
   },
   {
    "duration": 181,
    "start_time": "2022-05-04T12:21:53.399Z"
   },
   {
    "duration": 8,
    "start_time": "2022-05-04T12:22:26.110Z"
   },
   {
    "duration": 13,
    "start_time": "2022-05-04T12:22:37.864Z"
   },
   {
    "duration": 7,
    "start_time": "2022-05-04T12:22:44.367Z"
   },
   {
    "duration": 14,
    "start_time": "2022-05-04T12:22:54.067Z"
   },
   {
    "duration": 13,
    "start_time": "2022-05-04T12:25:31.928Z"
   },
   {
    "duration": 268,
    "start_time": "2022-05-04T12:25:47.009Z"
   },
   {
    "duration": 292,
    "start_time": "2022-05-04T12:26:14.587Z"
   },
   {
    "duration": 383,
    "start_time": "2022-05-04T12:26:27.519Z"
   },
   {
    "duration": 229,
    "start_time": "2022-05-04T12:26:46.586Z"
   },
   {
    "duration": 160,
    "start_time": "2022-05-04T12:27:07.177Z"
   },
   {
    "duration": 191,
    "start_time": "2022-05-04T12:27:35.588Z"
   },
   {
    "duration": 289,
    "start_time": "2022-05-04T12:27:55.430Z"
   },
   {
    "duration": 184,
    "start_time": "2022-05-04T12:30:17.809Z"
   },
   {
    "duration": 193,
    "start_time": "2022-05-04T12:31:09.328Z"
   },
   {
    "duration": 328,
    "start_time": "2022-05-04T12:34:51.088Z"
   },
   {
    "duration": 47,
    "start_time": "2022-05-05T21:43:57.010Z"
   },
   {
    "duration": 799,
    "start_time": "2022-05-05T21:46:33.422Z"
   },
   {
    "duration": 78,
    "start_time": "2022-05-05T21:46:34.223Z"
   },
   {
    "duration": 13,
    "start_time": "2022-05-05T21:46:34.303Z"
   },
   {
    "duration": 14,
    "start_time": "2022-05-05T21:46:34.318Z"
   },
   {
    "duration": 6,
    "start_time": "2022-05-05T21:46:34.334Z"
   },
   {
    "duration": 6,
    "start_time": "2022-05-05T21:46:34.342Z"
   },
   {
    "duration": 4,
    "start_time": "2022-05-05T21:46:34.350Z"
   },
   {
    "duration": 11,
    "start_time": "2022-05-05T21:46:34.356Z"
   },
   {
    "duration": 8,
    "start_time": "2022-05-05T21:46:34.369Z"
   },
   {
    "duration": 33,
    "start_time": "2022-05-05T21:46:34.379Z"
   },
   {
    "duration": 9,
    "start_time": "2022-05-05T21:46:34.414Z"
   },
   {
    "duration": 6,
    "start_time": "2022-05-05T21:46:34.425Z"
   },
   {
    "duration": 4,
    "start_time": "2022-05-05T21:46:34.432Z"
   },
   {
    "duration": 8,
    "start_time": "2022-05-05T21:46:34.438Z"
   },
   {
    "duration": 9,
    "start_time": "2022-05-05T21:46:34.448Z"
   },
   {
    "duration": 8,
    "start_time": "2022-05-05T21:46:34.458Z"
   },
   {
    "duration": 10,
    "start_time": "2022-05-05T21:46:34.467Z"
   },
   {
    "duration": 27,
    "start_time": "2022-05-05T21:46:34.478Z"
   },
   {
    "duration": 19,
    "start_time": "2022-05-05T21:46:34.506Z"
   },
   {
    "duration": 4,
    "start_time": "2022-05-05T21:46:34.527Z"
   },
   {
    "duration": 10,
    "start_time": "2022-05-05T21:46:34.533Z"
   },
   {
    "duration": 14,
    "start_time": "2022-05-05T21:46:34.545Z"
   },
   {
    "duration": 10,
    "start_time": "2022-05-05T21:46:34.560Z"
   },
   {
    "duration": 7,
    "start_time": "2022-05-05T21:46:34.571Z"
   },
   {
    "duration": 281,
    "start_time": "2022-05-05T21:46:34.579Z"
   },
   {
    "duration": 269,
    "start_time": "2022-05-05T21:46:34.862Z"
   },
   {
    "duration": 197,
    "start_time": "2022-05-05T21:46:35.133Z"
   },
   {
    "duration": 396,
    "start_time": "2022-05-05T21:46:35.332Z"
   },
   {
    "duration": 6,
    "start_time": "2022-05-05T21:48:53.066Z"
   },
   {
    "duration": 181,
    "start_time": "2022-05-05T21:52:15.752Z"
   },
   {
    "duration": 172,
    "start_time": "2022-05-05T21:52:22.206Z"
   },
   {
    "duration": 187,
    "start_time": "2022-05-05T21:53:33.792Z"
   },
   {
    "duration": 205,
    "start_time": "2022-05-05T22:03:35.104Z"
   },
   {
    "duration": 183,
    "start_time": "2022-05-05T22:03:43.785Z"
   },
   {
    "duration": 197,
    "start_time": "2022-05-05T22:04:16.103Z"
   },
   {
    "duration": 291,
    "start_time": "2022-05-05T22:04:46.002Z"
   },
   {
    "duration": 10,
    "start_time": "2022-05-05T22:07:00.236Z"
   },
   {
    "duration": 11,
    "start_time": "2022-05-05T22:09:38.111Z"
   },
   {
    "duration": 10,
    "start_time": "2022-05-05T22:10:08.544Z"
   },
   {
    "duration": 102,
    "start_time": "2022-05-06T10:41:40.135Z"
   },
   {
    "duration": 1192,
    "start_time": "2022-05-06T10:42:28.844Z"
   },
   {
    "duration": 45,
    "start_time": "2022-05-06T10:42:30.040Z"
   },
   {
    "duration": 19,
    "start_time": "2022-05-06T10:42:30.088Z"
   },
   {
    "duration": 17,
    "start_time": "2022-05-06T10:42:30.112Z"
   },
   {
    "duration": 10,
    "start_time": "2022-05-06T10:42:30.131Z"
   },
   {
    "duration": 10,
    "start_time": "2022-05-06T10:42:30.144Z"
   },
   {
    "duration": 12,
    "start_time": "2022-05-06T10:42:30.157Z"
   },
   {
    "duration": 53,
    "start_time": "2022-05-06T10:42:30.172Z"
   },
   {
    "duration": 13,
    "start_time": "2022-05-06T10:42:30.227Z"
   },
   {
    "duration": 33,
    "start_time": "2022-05-06T10:42:30.244Z"
   },
   {
    "duration": 18,
    "start_time": "2022-05-06T10:42:30.280Z"
   },
   {
    "duration": 17,
    "start_time": "2022-05-06T10:42:30.300Z"
   },
   {
    "duration": 9,
    "start_time": "2022-05-06T10:42:30.325Z"
   },
   {
    "duration": 32,
    "start_time": "2022-05-06T10:42:30.336Z"
   },
   {
    "duration": 25,
    "start_time": "2022-05-06T10:42:30.370Z"
   },
   {
    "duration": 21,
    "start_time": "2022-05-06T10:42:30.397Z"
   },
   {
    "duration": 20,
    "start_time": "2022-05-06T10:42:30.420Z"
   },
   {
    "duration": 29,
    "start_time": "2022-05-06T10:42:30.443Z"
   },
   {
    "duration": 16,
    "start_time": "2022-05-06T10:42:30.474Z"
   },
   {
    "duration": 8,
    "start_time": "2022-05-06T10:42:30.493Z"
   },
   {
    "duration": 33,
    "start_time": "2022-05-06T10:42:30.503Z"
   },
   {
    "duration": 26,
    "start_time": "2022-05-06T10:42:30.539Z"
   },
   {
    "duration": 21,
    "start_time": "2022-05-06T10:42:30.568Z"
   },
   {
    "duration": 17,
    "start_time": "2022-05-06T10:42:30.592Z"
   },
   {
    "duration": 494,
    "start_time": "2022-05-06T10:42:30.612Z"
   },
   {
    "duration": 17,
    "start_time": "2022-05-06T10:42:31.108Z"
   },
   {
    "duration": 496,
    "start_time": "2022-05-06T10:42:31.128Z"
   },
   {
    "duration": 15,
    "start_time": "2022-05-06T10:42:31.629Z"
   },
   {
    "duration": 35,
    "start_time": "2022-05-06T10:42:31.647Z"
   },
   {
    "duration": 390,
    "start_time": "2022-05-06T10:42:31.684Z"
   },
   {
    "duration": 441,
    "start_time": "2022-05-06T10:42:32.077Z"
   },
   {
    "duration": 437,
    "start_time": "2022-05-06T10:42:48.780Z"
   },
   {
    "duration": 449,
    "start_time": "2022-05-06T10:44:36.687Z"
   },
   {
    "duration": 554,
    "start_time": "2022-05-06T10:44:59.916Z"
   },
   {
    "duration": 696,
    "start_time": "2022-05-06T13:28:14.917Z"
   },
   {
    "duration": 997,
    "start_time": "2022-05-06T13:28:33.620Z"
   },
   {
    "duration": 54,
    "start_time": "2022-05-06T13:28:34.620Z"
   },
   {
    "duration": 18,
    "start_time": "2022-05-06T13:28:34.676Z"
   },
   {
    "duration": 17,
    "start_time": "2022-05-06T13:28:34.697Z"
   },
   {
    "duration": 25,
    "start_time": "2022-05-06T13:28:34.716Z"
   },
   {
    "duration": 12,
    "start_time": "2022-05-06T13:28:34.745Z"
   },
   {
    "duration": 6,
    "start_time": "2022-05-06T13:28:34.761Z"
   },
   {
    "duration": 24,
    "start_time": "2022-05-06T13:28:34.770Z"
   },
   {
    "duration": 18,
    "start_time": "2022-05-06T13:28:34.825Z"
   },
   {
    "duration": 23,
    "start_time": "2022-05-06T13:28:34.851Z"
   },
   {
    "duration": 9,
    "start_time": "2022-05-06T13:28:34.876Z"
   },
   {
    "duration": 45,
    "start_time": "2022-05-06T13:28:34.888Z"
   },
   {
    "duration": 16,
    "start_time": "2022-05-06T13:28:34.937Z"
   },
   {
    "duration": 12,
    "start_time": "2022-05-06T13:28:34.957Z"
   },
   {
    "duration": 27,
    "start_time": "2022-05-06T13:28:34.972Z"
   },
   {
    "duration": 33,
    "start_time": "2022-05-06T13:28:35.023Z"
   },
   {
    "duration": 20,
    "start_time": "2022-05-06T13:28:35.059Z"
   },
   {
    "duration": 17,
    "start_time": "2022-05-06T13:28:35.082Z"
   },
   {
    "duration": 29,
    "start_time": "2022-05-06T13:28:35.101Z"
   },
   {
    "duration": 19,
    "start_time": "2022-05-06T13:28:35.134Z"
   },
   {
    "duration": 34,
    "start_time": "2022-05-06T13:28:35.156Z"
   },
   {
    "duration": 29,
    "start_time": "2022-05-06T13:28:35.192Z"
   },
   {
    "duration": 34,
    "start_time": "2022-05-06T13:28:35.223Z"
   },
   {
    "duration": 30,
    "start_time": "2022-05-06T13:28:35.260Z"
   },
   {
    "duration": 540,
    "start_time": "2022-05-06T13:28:35.293Z"
   },
   {
    "duration": 10,
    "start_time": "2022-05-06T13:28:35.836Z"
   },
   {
    "duration": 534,
    "start_time": "2022-05-06T13:28:35.849Z"
   },
   {
    "duration": 15,
    "start_time": "2022-05-06T13:28:36.388Z"
   },
   {
    "duration": 46,
    "start_time": "2022-05-06T13:28:36.406Z"
   },
   {
    "duration": 528,
    "start_time": "2022-05-06T13:28:36.454Z"
   },
   {
    "duration": 549,
    "start_time": "2022-05-06T13:28:36.986Z"
   },
   {
    "duration": 551,
    "start_time": "2022-05-06T13:28:37.539Z"
   },
   {
    "duration": 315,
    "start_time": "2022-05-06T13:29:31.181Z"
   },
   {
    "duration": 587,
    "start_time": "2022-05-06T13:32:32.037Z"
   },
   {
    "duration": 508,
    "start_time": "2022-05-06T13:34:46.474Z"
   },
   {
    "duration": 406,
    "start_time": "2022-05-06T13:37:42.840Z"
   },
   {
    "duration": 365,
    "start_time": "2022-05-06T13:49:37.589Z"
   },
   {
    "duration": 588,
    "start_time": "2022-05-06T13:50:46.240Z"
   },
   {
    "duration": 14,
    "start_time": "2022-05-06T14:31:13.620Z"
   },
   {
    "duration": 18,
    "start_time": "2022-05-06T14:31:25.089Z"
   },
   {
    "duration": 16,
    "start_time": "2022-05-06T14:32:50.737Z"
   },
   {
    "duration": 11,
    "start_time": "2022-05-06T14:33:56.291Z"
   },
   {
    "duration": 194,
    "start_time": "2022-05-06T14:34:02.913Z"
   },
   {
    "duration": 111,
    "start_time": "2022-05-06T14:36:18.594Z"
   },
   {
    "duration": 123,
    "start_time": "2022-05-06T14:36:27.024Z"
   },
   {
    "duration": 110,
    "start_time": "2022-05-06T14:36:43.266Z"
   },
   {
    "duration": 101,
    "start_time": "2022-05-06T14:36:56.454Z"
   },
   {
    "duration": 110,
    "start_time": "2022-05-06T14:37:08.135Z"
   },
   {
    "duration": 104,
    "start_time": "2022-05-06T14:37:18.254Z"
   },
   {
    "duration": 101,
    "start_time": "2022-05-06T14:37:29.678Z"
   },
   {
    "duration": 218,
    "start_time": "2022-05-06T14:37:33.742Z"
   },
   {
    "duration": 117,
    "start_time": "2022-05-06T14:37:46.475Z"
   },
   {
    "duration": 13,
    "start_time": "2022-05-06T14:39:24.539Z"
   },
   {
    "duration": 260,
    "start_time": "2022-05-06T14:39:37.004Z"
   },
   {
    "duration": 273,
    "start_time": "2022-05-06T14:39:56.289Z"
   },
   {
    "duration": 7,
    "start_time": "2022-05-06T14:44:27.988Z"
   },
   {
    "duration": 299,
    "start_time": "2022-05-06T14:48:43.427Z"
   },
   {
    "duration": 257,
    "start_time": "2022-05-06T14:49:52.239Z"
   },
   {
    "duration": 334,
    "start_time": "2022-05-06T14:50:03.736Z"
   },
   {
    "duration": 268,
    "start_time": "2022-05-06T14:52:03.608Z"
   },
   {
    "duration": 217,
    "start_time": "2022-05-06T14:53:54.163Z"
   },
   {
    "duration": 215,
    "start_time": "2022-05-06T14:55:27.064Z"
   },
   {
    "duration": 254,
    "start_time": "2022-05-06T14:56:06.276Z"
   },
   {
    "duration": 8,
    "start_time": "2022-05-06T14:58:06.870Z"
   },
   {
    "duration": 364,
    "start_time": "2022-05-06T15:20:53.049Z"
   },
   {
    "duration": 369,
    "start_time": "2022-05-06T15:21:00.398Z"
   },
   {
    "duration": 4,
    "start_time": "2022-05-06T15:45:34.752Z"
   },
   {
    "duration": 5,
    "start_time": "2022-05-06T15:45:48.245Z"
   },
   {
    "duration": 364,
    "start_time": "2022-05-06T15:48:09.138Z"
   },
   {
    "duration": 805,
    "start_time": "2022-05-06T15:49:02.238Z"
   },
   {
    "duration": 305,
    "start_time": "2022-05-06T15:49:11.975Z"
   },
   {
    "duration": 306,
    "start_time": "2022-05-06T15:53:02.453Z"
   },
   {
    "duration": 331,
    "start_time": "2022-05-06T15:57:40.538Z"
   },
   {
    "duration": 2049,
    "start_time": "2022-05-06T15:57:57.563Z"
   },
   {
    "duration": 2091,
    "start_time": "2022-05-06T15:58:05.468Z"
   },
   {
    "duration": 1892,
    "start_time": "2022-05-06T15:59:10.402Z"
   },
   {
    "duration": 293,
    "start_time": "2022-05-06T16:00:27.254Z"
   },
   {
    "duration": 281,
    "start_time": "2022-05-06T16:01:01.158Z"
   },
   {
    "duration": 1414,
    "start_time": "2022-05-06T16:01:17.275Z"
   },
   {
    "duration": 49,
    "start_time": "2022-05-06T16:01:18.692Z"
   },
   {
    "duration": 16,
    "start_time": "2022-05-06T16:01:18.744Z"
   },
   {
    "duration": 17,
    "start_time": "2022-05-06T16:01:18.762Z"
   },
   {
    "duration": 8,
    "start_time": "2022-05-06T16:01:18.782Z"
   },
   {
    "duration": 10,
    "start_time": "2022-05-06T16:01:18.793Z"
   },
   {
    "duration": 7,
    "start_time": "2022-05-06T16:01:18.825Z"
   },
   {
    "duration": 24,
    "start_time": "2022-05-06T16:01:18.835Z"
   },
   {
    "duration": 16,
    "start_time": "2022-05-06T16:01:18.861Z"
   },
   {
    "duration": 16,
    "start_time": "2022-05-06T16:01:18.879Z"
   },
   {
    "duration": 32,
    "start_time": "2022-05-06T16:01:18.898Z"
   },
   {
    "duration": 16,
    "start_time": "2022-05-06T16:01:18.933Z"
   },
   {
    "duration": 6,
    "start_time": "2022-05-06T16:01:18.952Z"
   },
   {
    "duration": 9,
    "start_time": "2022-05-06T16:01:18.964Z"
   },
   {
    "duration": 57,
    "start_time": "2022-05-06T16:01:18.975Z"
   },
   {
    "duration": 12,
    "start_time": "2022-05-06T16:01:19.036Z"
   },
   {
    "duration": 17,
    "start_time": "2022-05-06T16:01:19.050Z"
   },
   {
    "duration": 11,
    "start_time": "2022-05-06T16:01:19.069Z"
   },
   {
    "duration": 9,
    "start_time": "2022-05-06T16:01:19.082Z"
   },
   {
    "duration": 34,
    "start_time": "2022-05-06T16:01:19.093Z"
   },
   {
    "duration": 20,
    "start_time": "2022-05-06T16:01:19.129Z"
   },
   {
    "duration": 22,
    "start_time": "2022-05-06T16:01:19.152Z"
   },
   {
    "duration": 17,
    "start_time": "2022-05-06T16:01:19.176Z"
   },
   {
    "duration": 39,
    "start_time": "2022-05-06T16:01:19.196Z"
   },
   {
    "duration": 596,
    "start_time": "2022-05-06T16:01:19.238Z"
   },
   {
    "duration": 10,
    "start_time": "2022-05-06T16:01:19.836Z"
   },
   {
    "duration": 510,
    "start_time": "2022-05-06T16:01:19.848Z"
   },
   {
    "duration": 14,
    "start_time": "2022-05-06T16:01:20.360Z"
   },
   {
    "duration": 19,
    "start_time": "2022-05-06T16:01:20.376Z"
   },
   {
    "duration": 381,
    "start_time": "2022-05-06T16:01:20.397Z"
   },
   {
    "duration": 477,
    "start_time": "2022-05-06T16:01:20.781Z"
   },
   {
    "duration": 391,
    "start_time": "2022-05-06T16:01:21.261Z"
   },
   {
    "duration": 486,
    "start_time": "2022-05-06T16:01:21.654Z"
   },
   {
    "duration": 17,
    "start_time": "2022-05-06T16:01:22.143Z"
   },
   {
    "duration": 263,
    "start_time": "2022-05-06T16:01:22.162Z"
   },
   {
    "duration": 7,
    "start_time": "2022-05-06T16:01:22.428Z"
   },
   {
    "duration": 297,
    "start_time": "2022-05-06T16:01:22.438Z"
   },
   {
    "duration": 284,
    "start_time": "2022-05-06T16:01:22.738Z"
   },
   {
    "duration": 10,
    "start_time": "2022-05-06T16:01:23.026Z"
   },
   {
    "duration": 552,
    "start_time": "2022-05-06T16:01:23.040Z"
   },
   {
    "duration": 0,
    "start_time": "2022-05-06T16:01:23.595Z"
   },
   {
    "duration": 373,
    "start_time": "2022-05-06T16:02:20.215Z"
   },
   {
    "duration": 309,
    "start_time": "2022-05-06T16:02:24.038Z"
   },
   {
    "duration": 315,
    "start_time": "2022-05-06T16:02:32.550Z"
   },
   {
    "duration": 293,
    "start_time": "2022-05-06T16:02:55.176Z"
   },
   {
    "duration": 32,
    "start_time": "2022-05-06T16:03:41.364Z"
   },
   {
    "duration": 18,
    "start_time": "2022-05-06T16:08:35.649Z"
   },
   {
    "duration": 17,
    "start_time": "2022-05-06T16:09:56.794Z"
   },
   {
    "duration": 1992,
    "start_time": "2022-05-06T16:21:16.733Z"
   },
   {
    "duration": 2844,
    "start_time": "2022-05-06T16:21:56.956Z"
   },
   {
    "duration": 1774,
    "start_time": "2022-05-06T16:22:33.507Z"
   },
   {
    "duration": 1631,
    "start_time": "2022-05-06T16:22:42.788Z"
   },
   {
    "duration": 10,
    "start_time": "2022-05-06T16:23:11.284Z"
   },
   {
    "duration": 18,
    "start_time": "2022-05-06T16:27:38.484Z"
   },
   {
    "duration": 18,
    "start_time": "2022-05-06T16:28:08.432Z"
   },
   {
    "duration": 32,
    "start_time": "2022-05-06T16:31:24.025Z"
   },
   {
    "duration": 2724,
    "start_time": "2022-05-06T16:38:15.642Z"
   },
   {
    "duration": 1637,
    "start_time": "2022-05-06T16:38:27.152Z"
   },
   {
    "duration": 1648,
    "start_time": "2022-05-06T16:38:34.539Z"
   },
   {
    "duration": 1644,
    "start_time": "2022-05-06T16:38:42.678Z"
   },
   {
    "duration": 20,
    "start_time": "2022-05-06T16:39:11.182Z"
   },
   {
    "duration": 1749,
    "start_time": "2022-05-07T17:29:15.178Z"
   },
   {
    "duration": 63,
    "start_time": "2022-05-07T17:29:16.929Z"
   },
   {
    "duration": 17,
    "start_time": "2022-05-07T17:29:16.994Z"
   },
   {
    "duration": 16,
    "start_time": "2022-05-07T17:29:17.014Z"
   },
   {
    "duration": 8,
    "start_time": "2022-05-07T17:29:17.034Z"
   },
   {
    "duration": 17,
    "start_time": "2022-05-07T17:29:17.064Z"
   },
   {
    "duration": 4,
    "start_time": "2022-05-07T17:29:17.084Z"
   },
   {
    "duration": 15,
    "start_time": "2022-05-07T17:29:17.090Z"
   },
   {
    "duration": 15,
    "start_time": "2022-05-07T17:29:17.108Z"
   },
   {
    "duration": 47,
    "start_time": "2022-05-07T17:29:17.125Z"
   },
   {
    "duration": 14,
    "start_time": "2022-05-07T17:29:17.175Z"
   },
   {
    "duration": 12,
    "start_time": "2022-05-07T17:29:17.193Z"
   },
   {
    "duration": 5,
    "start_time": "2022-05-07T17:29:17.208Z"
   },
   {
    "duration": 18,
    "start_time": "2022-05-07T17:29:17.257Z"
   },
   {
    "duration": 32,
    "start_time": "2022-05-07T17:29:17.278Z"
   },
   {
    "duration": 14,
    "start_time": "2022-05-07T17:29:17.313Z"
   },
   {
    "duration": 42,
    "start_time": "2022-05-07T17:29:17.331Z"
   },
   {
    "duration": 18,
    "start_time": "2022-05-07T17:29:17.377Z"
   },
   {
    "duration": 8,
    "start_time": "2022-05-07T17:29:17.397Z"
   },
   {
    "duration": 6,
    "start_time": "2022-05-07T17:29:17.407Z"
   },
   {
    "duration": 56,
    "start_time": "2022-05-07T17:29:17.416Z"
   },
   {
    "duration": 26,
    "start_time": "2022-05-07T17:29:17.474Z"
   },
   {
    "duration": 19,
    "start_time": "2022-05-07T17:29:17.503Z"
   },
   {
    "duration": 39,
    "start_time": "2022-05-07T17:29:17.525Z"
   },
   {
    "duration": 814,
    "start_time": "2022-05-07T17:29:17.569Z"
   },
   {
    "duration": 13,
    "start_time": "2022-05-07T17:29:18.386Z"
   },
   {
    "duration": 773,
    "start_time": "2022-05-07T17:29:18.402Z"
   },
   {
    "duration": 21,
    "start_time": "2022-05-07T17:29:19.182Z"
   },
   {
    "duration": 16,
    "start_time": "2022-05-07T17:29:19.206Z"
   },
   {
    "duration": 447,
    "start_time": "2022-05-07T17:29:19.224Z"
   },
   {
    "duration": 500,
    "start_time": "2022-05-07T17:29:19.674Z"
   },
   {
    "duration": 411,
    "start_time": "2022-05-07T17:29:20.177Z"
   },
   {
    "duration": 469,
    "start_time": "2022-05-07T17:29:20.590Z"
   },
   {
    "duration": 20,
    "start_time": "2022-05-07T17:29:21.062Z"
   },
   {
    "duration": 308,
    "start_time": "2022-05-07T17:29:21.085Z"
   },
   {
    "duration": 8,
    "start_time": "2022-05-07T17:29:21.395Z"
   },
   {
    "duration": 300,
    "start_time": "2022-05-07T17:29:21.405Z"
   },
   {
    "duration": 301,
    "start_time": "2022-05-07T17:29:21.707Z"
   },
   {
    "duration": 6,
    "start_time": "2022-05-07T17:29:22.011Z"
   },
   {
    "duration": 510,
    "start_time": "2022-05-07T17:29:22.020Z"
   },
   {
    "duration": 322,
    "start_time": "2022-05-07T17:29:22.536Z"
   },
   {
    "duration": 40,
    "start_time": "2022-05-07T17:29:22.863Z"
   },
   {
    "duration": 16,
    "start_time": "2022-05-07T17:29:22.906Z"
   },
   {
    "duration": 24,
    "start_time": "2022-05-07T17:29:22.961Z"
   },
   {
    "duration": 35,
    "start_time": "2022-05-07T17:29:22.988Z"
   },
   {
    "duration": 45,
    "start_time": "2022-05-07T17:29:23.025Z"
   },
   {
    "duration": 58,
    "start_time": "2022-05-12T17:12:22.331Z"
   },
   {
    "duration": 1352,
    "start_time": "2022-05-12T17:12:32.902Z"
   },
   {
    "duration": 38,
    "start_time": "2022-05-12T17:12:34.257Z"
   },
   {
    "duration": 13,
    "start_time": "2022-05-12T17:12:34.297Z"
   },
   {
    "duration": 13,
    "start_time": "2022-05-12T17:12:34.312Z"
   },
   {
    "duration": 19,
    "start_time": "2022-05-12T17:12:34.329Z"
   },
   {
    "duration": 21,
    "start_time": "2022-05-12T17:12:34.350Z"
   },
   {
    "duration": 13,
    "start_time": "2022-05-12T17:12:34.373Z"
   },
   {
    "duration": 22,
    "start_time": "2022-05-12T17:12:34.388Z"
   },
   {
    "duration": 16,
    "start_time": "2022-05-12T17:12:34.411Z"
   },
   {
    "duration": 16,
    "start_time": "2022-05-12T17:12:34.429Z"
   },
   {
    "duration": 10,
    "start_time": "2022-05-12T17:12:34.447Z"
   },
   {
    "duration": 12,
    "start_time": "2022-05-12T17:12:34.459Z"
   },
   {
    "duration": 5,
    "start_time": "2022-05-12T17:12:34.488Z"
   },
   {
    "duration": 7,
    "start_time": "2022-05-12T17:12:34.496Z"
   },
   {
    "duration": 15,
    "start_time": "2022-05-12T17:12:34.505Z"
   },
   {
    "duration": 12,
    "start_time": "2022-05-12T17:12:34.522Z"
   },
   {
    "duration": 16,
    "start_time": "2022-05-12T17:12:34.536Z"
   },
   {
    "duration": 41,
    "start_time": "2022-05-12T17:12:34.554Z"
   },
   {
    "duration": 8,
    "start_time": "2022-05-12T17:12:34.597Z"
   },
   {
    "duration": 5,
    "start_time": "2022-05-12T17:12:34.606Z"
   },
   {
    "duration": 16,
    "start_time": "2022-05-12T17:12:34.613Z"
   },
   {
    "duration": 17,
    "start_time": "2022-05-12T17:12:34.630Z"
   },
   {
    "duration": 7,
    "start_time": "2022-05-12T17:12:34.649Z"
   },
   {
    "duration": 9,
    "start_time": "2022-05-12T17:12:34.687Z"
   },
   {
    "duration": 298,
    "start_time": "2022-05-12T17:12:34.698Z"
   },
   {
    "duration": 9,
    "start_time": "2022-05-12T17:12:34.998Z"
   },
   {
    "duration": 327,
    "start_time": "2022-05-12T17:12:35.010Z"
   },
   {
    "duration": 12,
    "start_time": "2022-05-12T17:12:35.339Z"
   },
   {
    "duration": 35,
    "start_time": "2022-05-12T17:12:35.353Z"
   },
   {
    "duration": 236,
    "start_time": "2022-05-12T17:12:35.390Z"
   },
   {
    "duration": 375,
    "start_time": "2022-05-12T17:12:35.628Z"
   },
   {
    "duration": 248,
    "start_time": "2022-05-12T17:12:36.005Z"
   },
   {
    "duration": 363,
    "start_time": "2022-05-12T17:12:36.255Z"
   },
   {
    "duration": 12,
    "start_time": "2022-05-12T17:12:36.620Z"
   },
   {
    "duration": 162,
    "start_time": "2022-05-12T17:12:36.634Z"
   },
   {
    "duration": 5,
    "start_time": "2022-05-12T17:12:36.797Z"
   },
   {
    "duration": 179,
    "start_time": "2022-05-12T17:12:36.804Z"
   },
   {
    "duration": 172,
    "start_time": "2022-05-12T17:12:36.985Z"
   },
   {
    "duration": 5,
    "start_time": "2022-05-12T17:12:37.159Z"
   },
   {
    "duration": 346,
    "start_time": "2022-05-12T17:12:37.166Z"
   },
   {
    "duration": 176,
    "start_time": "2022-05-12T17:12:37.517Z"
   },
   {
    "duration": 26,
    "start_time": "2022-05-12T17:12:37.694Z"
   },
   {
    "duration": 14,
    "start_time": "2022-05-12T17:12:37.723Z"
   },
   {
    "duration": 13,
    "start_time": "2022-05-12T17:12:37.739Z"
   },
   {
    "duration": 72,
    "start_time": "2022-05-12T17:12:37.755Z"
   },
   {
    "duration": 21,
    "start_time": "2022-05-12T17:12:37.829Z"
   },
   {
    "duration": 9,
    "start_time": "2022-05-12T17:12:50.345Z"
   },
   {
    "duration": 12,
    "start_time": "2022-05-12T17:12:59.481Z"
   },
   {
    "duration": 7,
    "start_time": "2022-05-12T17:13:12.584Z"
   },
   {
    "duration": 1204,
    "start_time": "2022-05-12T17:13:46.361Z"
   },
   {
    "duration": 42,
    "start_time": "2022-05-12T17:13:47.568Z"
   },
   {
    "duration": 13,
    "start_time": "2022-05-12T17:13:47.613Z"
   },
   {
    "duration": 17,
    "start_time": "2022-05-12T17:13:47.630Z"
   },
   {
    "duration": 14,
    "start_time": "2022-05-12T17:13:47.650Z"
   },
   {
    "duration": 9,
    "start_time": "2022-05-12T17:13:47.666Z"
   },
   {
    "duration": 4,
    "start_time": "2022-05-12T17:13:47.689Z"
   },
   {
    "duration": 19,
    "start_time": "2022-05-12T17:13:47.695Z"
   },
   {
    "duration": 20,
    "start_time": "2022-05-12T17:13:47.716Z"
   },
   {
    "duration": 18,
    "start_time": "2022-05-12T17:13:47.740Z"
   },
   {
    "duration": 33,
    "start_time": "2022-05-12T17:13:47.761Z"
   },
   {
    "duration": 10,
    "start_time": "2022-05-12T17:13:47.796Z"
   },
   {
    "duration": 4,
    "start_time": "2022-05-12T17:13:47.809Z"
   },
   {
    "duration": 11,
    "start_time": "2022-05-12T17:13:47.815Z"
   },
   {
    "duration": 19,
    "start_time": "2022-05-12T17:13:47.829Z"
   },
   {
    "duration": 48,
    "start_time": "2022-05-12T17:13:47.850Z"
   },
   {
    "duration": 21,
    "start_time": "2022-05-12T17:13:47.901Z"
   },
   {
    "duration": 14,
    "start_time": "2022-05-12T17:13:47.924Z"
   },
   {
    "duration": 32,
    "start_time": "2022-05-12T17:13:47.940Z"
   },
   {
    "duration": 15,
    "start_time": "2022-05-12T17:13:47.974Z"
   },
   {
    "duration": 45,
    "start_time": "2022-05-12T17:13:47.994Z"
   },
   {
    "duration": 16,
    "start_time": "2022-05-12T17:13:48.042Z"
   },
   {
    "duration": 8,
    "start_time": "2022-05-12T17:13:48.060Z"
   },
   {
    "duration": 19,
    "start_time": "2022-05-12T17:13:48.069Z"
   },
   {
    "duration": 335,
    "start_time": "2022-05-12T17:13:48.090Z"
   },
   {
    "duration": 8,
    "start_time": "2022-05-12T17:13:48.426Z"
   },
   {
    "duration": 350,
    "start_time": "2022-05-12T17:13:48.436Z"
   },
   {
    "duration": 15,
    "start_time": "2022-05-12T17:13:48.791Z"
   },
   {
    "duration": 32,
    "start_time": "2022-05-12T17:13:48.809Z"
   },
   {
    "duration": 271,
    "start_time": "2022-05-12T17:13:48.844Z"
   },
   {
    "duration": 360,
    "start_time": "2022-05-12T17:13:49.118Z"
   },
   {
    "duration": 271,
    "start_time": "2022-05-12T17:13:49.480Z"
   },
   {
    "duration": 422,
    "start_time": "2022-05-12T17:13:49.753Z"
   },
   {
    "duration": 24,
    "start_time": "2022-05-12T17:13:50.178Z"
   },
   {
    "duration": 158,
    "start_time": "2022-05-12T17:13:50.205Z"
   },
   {
    "duration": 7,
    "start_time": "2022-05-12T17:13:50.366Z"
   },
   {
    "duration": 249,
    "start_time": "2022-05-12T17:13:50.375Z"
   },
   {
    "duration": 193,
    "start_time": "2022-05-12T17:13:50.626Z"
   },
   {
    "duration": 6,
    "start_time": "2022-05-12T17:13:50.822Z"
   },
   {
    "duration": 396,
    "start_time": "2022-05-12T17:13:50.831Z"
   },
   {
    "duration": 159,
    "start_time": "2022-05-12T17:13:51.229Z"
   },
   {
    "duration": 31,
    "start_time": "2022-05-12T17:13:51.391Z"
   },
   {
    "duration": 12,
    "start_time": "2022-05-12T17:13:51.424Z"
   },
   {
    "duration": 14,
    "start_time": "2022-05-12T17:13:51.437Z"
   },
   {
    "duration": 66,
    "start_time": "2022-05-12T17:13:51.453Z"
   },
   {
    "duration": 15,
    "start_time": "2022-05-12T17:13:51.521Z"
   },
   {
    "duration": 7,
    "start_time": "2022-05-12T17:14:27.732Z"
   },
   {
    "duration": 17,
    "start_time": "2022-05-12T17:14:52.303Z"
   },
   {
    "duration": 53,
    "start_time": "2022-05-13T11:53:35.685Z"
   },
   {
    "duration": 1703,
    "start_time": "2022-05-13T11:53:45.019Z"
   },
   {
    "duration": 43,
    "start_time": "2022-05-13T11:53:46.725Z"
   },
   {
    "duration": 14,
    "start_time": "2022-05-13T11:53:46.770Z"
   },
   {
    "duration": 15,
    "start_time": "2022-05-13T11:53:46.786Z"
   },
   {
    "duration": 15,
    "start_time": "2022-05-13T11:53:46.804Z"
   },
   {
    "duration": 9,
    "start_time": "2022-05-13T11:53:46.821Z"
   },
   {
    "duration": 14,
    "start_time": "2022-05-13T11:53:46.832Z"
   },
   {
    "duration": 25,
    "start_time": "2022-05-13T11:53:46.849Z"
   },
   {
    "duration": 27,
    "start_time": "2022-05-13T11:53:46.876Z"
   },
   {
    "duration": 16,
    "start_time": "2022-05-13T11:53:46.905Z"
   },
   {
    "duration": 27,
    "start_time": "2022-05-13T11:53:46.924Z"
   },
   {
    "duration": 12,
    "start_time": "2022-05-13T11:53:46.953Z"
   },
   {
    "duration": 10,
    "start_time": "2022-05-13T11:53:46.967Z"
   },
   {
    "duration": 11,
    "start_time": "2022-05-13T11:53:46.982Z"
   },
   {
    "duration": 40,
    "start_time": "2022-05-13T11:53:46.996Z"
   },
   {
    "duration": 16,
    "start_time": "2022-05-13T11:53:47.038Z"
   },
   {
    "duration": 17,
    "start_time": "2022-05-13T11:53:47.057Z"
   },
   {
    "duration": 23,
    "start_time": "2022-05-13T11:53:47.077Z"
   },
   {
    "duration": 18,
    "start_time": "2022-05-13T11:53:47.102Z"
   },
   {
    "duration": 7,
    "start_time": "2022-05-13T11:53:47.122Z"
   },
   {
    "duration": 36,
    "start_time": "2022-05-13T11:53:47.131Z"
   },
   {
    "duration": 7,
    "start_time": "2022-05-13T11:53:47.169Z"
   },
   {
    "duration": 26,
    "start_time": "2022-05-13T11:53:47.178Z"
   },
   {
    "duration": 19,
    "start_time": "2022-05-13T11:53:47.206Z"
   },
   {
    "duration": 10,
    "start_time": "2022-05-13T11:53:47.228Z"
   },
   {
    "duration": 451,
    "start_time": "2022-05-13T11:53:47.240Z"
   },
   {
    "duration": 10,
    "start_time": "2022-05-13T11:53:47.694Z"
   },
   {
    "duration": 350,
    "start_time": "2022-05-13T11:53:47.707Z"
   },
   {
    "duration": 12,
    "start_time": "2022-05-13T11:53:48.067Z"
   },
   {
    "duration": 26,
    "start_time": "2022-05-13T11:53:48.081Z"
   },
   {
    "duration": 265,
    "start_time": "2022-05-13T11:53:48.110Z"
   },
   {
    "duration": 405,
    "start_time": "2022-05-13T11:53:48.377Z"
   },
   {
    "duration": 307,
    "start_time": "2022-05-13T11:53:48.784Z"
   },
   {
    "duration": 362,
    "start_time": "2022-05-13T11:53:49.093Z"
   },
   {
    "duration": 33,
    "start_time": "2022-05-13T11:53:49.457Z"
   },
   {
    "duration": 214,
    "start_time": "2022-05-13T11:53:49.492Z"
   },
   {
    "duration": 6,
    "start_time": "2022-05-13T11:53:49.709Z"
   },
   {
    "duration": 267,
    "start_time": "2022-05-13T11:53:49.718Z"
   },
   {
    "duration": 253,
    "start_time": "2022-05-13T11:53:49.988Z"
   },
   {
    "duration": 6,
    "start_time": "2022-05-13T11:53:50.243Z"
   },
   {
    "duration": 371,
    "start_time": "2022-05-13T11:53:50.267Z"
   },
   {
    "duration": 290,
    "start_time": "2022-05-13T11:53:50.641Z"
   },
   {
    "duration": 55,
    "start_time": "2022-05-13T11:53:50.933Z"
   },
   {
    "duration": 15,
    "start_time": "2022-05-13T11:53:50.991Z"
   },
   {
    "duration": 23,
    "start_time": "2022-05-13T11:53:51.009Z"
   },
   {
    "duration": 50,
    "start_time": "2022-05-13T11:53:51.034Z"
   },
   {
    "duration": 18,
    "start_time": "2022-05-13T11:53:51.086Z"
   },
   {
    "duration": 6,
    "start_time": "2022-05-13T11:54:31.566Z"
   },
   {
    "duration": 99,
    "start_time": "2022-05-13T11:56:56.108Z"
   },
   {
    "duration": 4,
    "start_time": "2022-05-13T11:57:04.928Z"
   },
   {
    "duration": 9,
    "start_time": "2022-05-13T12:02:18.087Z"
   },
   {
    "duration": 1110,
    "start_time": "2022-05-14T08:55:49.335Z"
   },
   {
    "duration": 45,
    "start_time": "2022-05-14T08:55:50.447Z"
   },
   {
    "duration": 11,
    "start_time": "2022-05-14T08:55:50.494Z"
   },
   {
    "duration": 15,
    "start_time": "2022-05-14T08:55:50.508Z"
   },
   {
    "duration": 14,
    "start_time": "2022-05-14T08:55:50.524Z"
   },
   {
    "duration": 6,
    "start_time": "2022-05-14T08:55:50.540Z"
   },
   {
    "duration": 9,
    "start_time": "2022-05-14T08:55:50.548Z"
   },
   {
    "duration": 17,
    "start_time": "2022-05-14T08:55:50.559Z"
   },
   {
    "duration": 9,
    "start_time": "2022-05-14T08:55:50.587Z"
   },
   {
    "duration": 11,
    "start_time": "2022-05-14T08:55:50.599Z"
   },
   {
    "duration": 10,
    "start_time": "2022-05-14T08:55:50.611Z"
   },
   {
    "duration": 6,
    "start_time": "2022-05-14T08:55:50.623Z"
   },
   {
    "duration": 4,
    "start_time": "2022-05-14T08:55:50.630Z"
   },
   {
    "duration": 7,
    "start_time": "2022-05-14T08:55:50.635Z"
   },
   {
    "duration": 13,
    "start_time": "2022-05-14T08:55:50.643Z"
   },
   {
    "duration": 7,
    "start_time": "2022-05-14T08:55:50.688Z"
   },
   {
    "duration": 12,
    "start_time": "2022-05-14T08:55:50.697Z"
   },
   {
    "duration": 6,
    "start_time": "2022-05-14T08:55:50.711Z"
   },
   {
    "duration": 6,
    "start_time": "2022-05-14T08:55:50.718Z"
   },
   {
    "duration": 5,
    "start_time": "2022-05-14T08:55:50.726Z"
   },
   {
    "duration": 12,
    "start_time": "2022-05-14T08:55:50.732Z"
   },
   {
    "duration": 15,
    "start_time": "2022-05-14T08:55:50.745Z"
   },
   {
    "duration": 12,
    "start_time": "2022-05-14T08:55:50.787Z"
   },
   {
    "duration": 4,
    "start_time": "2022-05-14T08:55:50.801Z"
   },
   {
    "duration": 10,
    "start_time": "2022-05-14T08:55:50.807Z"
   },
   {
    "duration": 7,
    "start_time": "2022-05-14T08:55:50.819Z"
   },
   {
    "duration": 280,
    "start_time": "2022-05-14T08:55:50.828Z"
   },
   {
    "duration": 6,
    "start_time": "2022-05-14T08:55:51.112Z"
   },
   {
    "duration": 291,
    "start_time": "2022-05-14T08:55:51.119Z"
   },
   {
    "duration": 11,
    "start_time": "2022-05-14T08:55:51.411Z"
   },
   {
    "duration": 12,
    "start_time": "2022-05-14T08:55:51.423Z"
   },
   {
    "duration": 219,
    "start_time": "2022-05-14T08:55:51.437Z"
   },
   {
    "duration": 320,
    "start_time": "2022-05-14T08:55:51.658Z"
   },
   {
    "duration": 220,
    "start_time": "2022-05-14T08:55:51.987Z"
   },
   {
    "duration": 315,
    "start_time": "2022-05-14T08:55:52.209Z"
   },
   {
    "duration": 12,
    "start_time": "2022-05-14T08:55:52.525Z"
   },
   {
    "duration": 142,
    "start_time": "2022-05-14T08:55:52.539Z"
   },
   {
    "duration": 8,
    "start_time": "2022-05-14T08:55:52.682Z"
   },
   {
    "duration": 152,
    "start_time": "2022-05-14T08:55:52.692Z"
   },
   {
    "duration": 159,
    "start_time": "2022-05-14T08:55:52.846Z"
   },
   {
    "duration": 5,
    "start_time": "2022-05-14T08:55:53.007Z"
   },
   {
    "duration": 299,
    "start_time": "2022-05-14T08:55:53.014Z"
   },
   {
    "duration": 131,
    "start_time": "2022-05-14T08:55:53.315Z"
   },
   {
    "duration": 23,
    "start_time": "2022-05-14T08:55:53.448Z"
   },
   {
    "duration": 21,
    "start_time": "2022-05-14T08:55:53.472Z"
   },
   {
    "duration": 11,
    "start_time": "2022-05-14T08:55:53.495Z"
   },
   {
    "duration": 26,
    "start_time": "2022-05-14T08:55:53.508Z"
   },
   {
    "duration": 13,
    "start_time": "2022-05-14T08:55:53.535Z"
   },
   {
    "duration": 73,
    "start_time": "2022-05-14T11:09:44.576Z"
   },
   {
    "duration": 1295,
    "start_time": "2022-05-14T11:09:52.725Z"
   },
   {
    "duration": 36,
    "start_time": "2022-05-14T11:09:54.022Z"
   },
   {
    "duration": 12,
    "start_time": "2022-05-14T11:09:54.060Z"
   },
   {
    "duration": 11,
    "start_time": "2022-05-14T11:09:54.074Z"
   },
   {
    "duration": 7,
    "start_time": "2022-05-14T11:09:54.087Z"
   },
   {
    "duration": 9,
    "start_time": "2022-05-14T11:09:54.096Z"
   },
   {
    "duration": 15,
    "start_time": "2022-05-14T11:09:54.107Z"
   },
   {
    "duration": 23,
    "start_time": "2022-05-14T11:09:54.123Z"
   },
   {
    "duration": 29,
    "start_time": "2022-05-14T11:09:54.148Z"
   },
   {
    "duration": 13,
    "start_time": "2022-05-14T11:09:54.179Z"
   },
   {
    "duration": 9,
    "start_time": "2022-05-14T11:09:54.194Z"
   },
   {
    "duration": 15,
    "start_time": "2022-05-14T11:09:54.205Z"
   },
   {
    "duration": 4,
    "start_time": "2022-05-14T11:09:54.222Z"
   },
   {
    "duration": 8,
    "start_time": "2022-05-14T11:09:54.229Z"
   },
   {
    "duration": 25,
    "start_time": "2022-05-14T11:09:54.239Z"
   },
   {
    "duration": 9,
    "start_time": "2022-05-14T11:09:54.266Z"
   },
   {
    "duration": 17,
    "start_time": "2022-05-14T11:09:54.277Z"
   },
   {
    "duration": 13,
    "start_time": "2022-05-14T11:09:54.296Z"
   },
   {
    "duration": 8,
    "start_time": "2022-05-14T11:09:54.311Z"
   },
   {
    "duration": 20,
    "start_time": "2022-05-14T11:09:54.321Z"
   },
   {
    "duration": 20,
    "start_time": "2022-05-14T11:09:54.343Z"
   },
   {
    "duration": 15,
    "start_time": "2022-05-14T11:09:54.365Z"
   },
   {
    "duration": 11,
    "start_time": "2022-05-14T11:09:54.382Z"
   },
   {
    "duration": 11,
    "start_time": "2022-05-14T11:09:54.395Z"
   },
   {
    "duration": 10,
    "start_time": "2022-05-14T11:09:54.407Z"
   },
   {
    "duration": 10,
    "start_time": "2022-05-14T11:09:54.418Z"
   },
   {
    "duration": 34,
    "start_time": "2022-05-14T11:09:54.430Z"
   },
   {
    "duration": 304,
    "start_time": "2022-05-14T11:09:54.466Z"
   },
   {
    "duration": 6,
    "start_time": "2022-05-14T11:09:54.772Z"
   },
   {
    "duration": 286,
    "start_time": "2022-05-14T11:09:54.780Z"
   },
   {
    "duration": 10,
    "start_time": "2022-05-14T11:09:55.068Z"
   },
   {
    "duration": 15,
    "start_time": "2022-05-14T11:09:55.079Z"
   },
   {
    "duration": 213,
    "start_time": "2022-05-14T11:09:55.096Z"
   },
   {
    "duration": 467,
    "start_time": "2022-05-14T11:09:55.311Z"
   },
   {
    "duration": 604,
    "start_time": "2022-05-14T11:09:55.780Z"
   },
   {
    "duration": 708,
    "start_time": "2022-05-14T11:09:56.386Z"
   },
   {
    "duration": 69,
    "start_time": "2022-05-14T11:09:57.096Z"
   },
   {
    "duration": 398,
    "start_time": "2022-05-14T11:09:57.167Z"
   },
   {
    "duration": 6,
    "start_time": "2022-05-14T11:09:57.567Z"
   },
   {
    "duration": 398,
    "start_time": "2022-05-14T11:09:57.575Z"
   },
   {
    "duration": 154,
    "start_time": "2022-05-14T11:09:57.978Z"
   },
   {
    "duration": 5,
    "start_time": "2022-05-14T11:09:58.133Z"
   },
   {
    "duration": 323,
    "start_time": "2022-05-14T11:09:58.139Z"
   },
   {
    "duration": 158,
    "start_time": "2022-05-14T11:09:58.464Z"
   },
   {
    "duration": 38,
    "start_time": "2022-05-14T11:09:58.624Z"
   },
   {
    "duration": 11,
    "start_time": "2022-05-14T11:09:58.664Z"
   },
   {
    "duration": 19,
    "start_time": "2022-05-14T11:09:58.677Z"
   },
   {
    "duration": 32,
    "start_time": "2022-05-14T11:09:58.698Z"
   },
   {
    "duration": 14,
    "start_time": "2022-05-14T11:09:58.732Z"
   },
   {
    "duration": 7,
    "start_time": "2022-05-14T11:10:05.191Z"
   },
   {
    "duration": 11,
    "start_time": "2022-05-14T11:13:59.963Z"
   },
   {
    "duration": 13,
    "start_time": "2022-05-14T11:14:26.900Z"
   },
   {
    "duration": 8,
    "start_time": "2022-05-14T11:14:33.246Z"
   },
   {
    "duration": 8,
    "start_time": "2022-05-14T11:14:45.803Z"
   },
   {
    "duration": 9,
    "start_time": "2022-05-14T11:14:50.649Z"
   },
   {
    "duration": 13,
    "start_time": "2022-05-14T11:14:58.859Z"
   },
   {
    "duration": 10,
    "start_time": "2022-05-14T11:15:07.717Z"
   },
   {
    "duration": 88,
    "start_time": "2022-05-14T11:16:03.537Z"
   },
   {
    "duration": 5,
    "start_time": "2022-05-14T11:18:37.659Z"
   },
   {
    "duration": 8,
    "start_time": "2022-05-14T11:18:43.700Z"
   },
   {
    "duration": 14,
    "start_time": "2022-05-14T11:21:17.222Z"
   },
   {
    "duration": 171,
    "start_time": "2022-05-14T11:22:21.681Z"
   },
   {
    "duration": 10,
    "start_time": "2022-05-14T11:22:25.834Z"
   },
   {
    "duration": 9,
    "start_time": "2022-05-14T11:22:50.094Z"
   },
   {
    "duration": 17,
    "start_time": "2022-05-14T11:26:22.853Z"
   },
   {
    "duration": 1226,
    "start_time": "2022-05-14T11:26:42.359Z"
   },
   {
    "duration": 44,
    "start_time": "2022-05-14T11:26:43.587Z"
   },
   {
    "duration": 10,
    "start_time": "2022-05-14T11:26:43.633Z"
   },
   {
    "duration": 18,
    "start_time": "2022-05-14T11:26:43.645Z"
   },
   {
    "duration": 26,
    "start_time": "2022-05-14T11:26:43.664Z"
   },
   {
    "duration": 21,
    "start_time": "2022-05-14T11:26:43.691Z"
   },
   {
    "duration": 13,
    "start_time": "2022-05-14T11:26:43.714Z"
   },
   {
    "duration": 26,
    "start_time": "2022-05-14T11:26:43.729Z"
   },
   {
    "duration": 30,
    "start_time": "2022-05-14T11:26:43.757Z"
   },
   {
    "duration": 23,
    "start_time": "2022-05-14T11:26:43.790Z"
   },
   {
    "duration": 15,
    "start_time": "2022-05-14T11:26:43.814Z"
   },
   {
    "duration": 15,
    "start_time": "2022-05-14T11:26:43.831Z"
   },
   {
    "duration": 10,
    "start_time": "2022-05-14T11:26:43.847Z"
   },
   {
    "duration": 34,
    "start_time": "2022-05-14T11:26:43.859Z"
   },
   {
    "duration": 20,
    "start_time": "2022-05-14T11:26:43.895Z"
   },
   {
    "duration": 16,
    "start_time": "2022-05-14T11:26:43.917Z"
   },
   {
    "duration": 31,
    "start_time": "2022-05-14T11:26:43.934Z"
   },
   {
    "duration": 21,
    "start_time": "2022-05-14T11:26:43.967Z"
   },
   {
    "duration": 11,
    "start_time": "2022-05-14T11:26:43.990Z"
   },
   {
    "duration": 6,
    "start_time": "2022-05-14T11:26:44.003Z"
   },
   {
    "duration": 24,
    "start_time": "2022-05-14T11:26:44.011Z"
   },
   {
    "duration": 20,
    "start_time": "2022-05-14T11:26:44.037Z"
   },
   {
    "duration": 28,
    "start_time": "2022-05-14T11:26:44.059Z"
   },
   {
    "duration": 7,
    "start_time": "2022-05-14T11:26:44.088Z"
   },
   {
    "duration": 11,
    "start_time": "2022-05-14T11:26:44.096Z"
   },
   {
    "duration": 104,
    "start_time": "2022-05-14T11:26:44.108Z"
   },
   {
    "duration": 0,
    "start_time": "2022-05-14T11:26:44.214Z"
   },
   {
    "duration": 0,
    "start_time": "2022-05-14T11:26:44.215Z"
   },
   {
    "duration": 0,
    "start_time": "2022-05-14T11:26:44.217Z"
   },
   {
    "duration": 0,
    "start_time": "2022-05-14T11:26:44.218Z"
   },
   {
    "duration": 0,
    "start_time": "2022-05-14T11:26:44.219Z"
   },
   {
    "duration": 0,
    "start_time": "2022-05-14T11:26:44.220Z"
   },
   {
    "duration": 0,
    "start_time": "2022-05-14T11:26:44.221Z"
   },
   {
    "duration": 0,
    "start_time": "2022-05-14T11:26:44.222Z"
   },
   {
    "duration": 0,
    "start_time": "2022-05-14T11:26:44.223Z"
   },
   {
    "duration": 0,
    "start_time": "2022-05-14T11:26:44.224Z"
   },
   {
    "duration": 0,
    "start_time": "2022-05-14T11:26:44.225Z"
   },
   {
    "duration": 0,
    "start_time": "2022-05-14T11:26:44.226Z"
   },
   {
    "duration": 0,
    "start_time": "2022-05-14T11:26:44.227Z"
   },
   {
    "duration": 0,
    "start_time": "2022-05-14T11:26:44.228Z"
   },
   {
    "duration": 0,
    "start_time": "2022-05-14T11:26:44.229Z"
   },
   {
    "duration": 0,
    "start_time": "2022-05-14T11:26:44.230Z"
   },
   {
    "duration": 0,
    "start_time": "2022-05-14T11:26:44.231Z"
   },
   {
    "duration": 0,
    "start_time": "2022-05-14T11:26:44.232Z"
   },
   {
    "duration": 0,
    "start_time": "2022-05-14T11:26:44.264Z"
   },
   {
    "duration": 0,
    "start_time": "2022-05-14T11:26:44.265Z"
   },
   {
    "duration": 0,
    "start_time": "2022-05-14T11:26:44.267Z"
   },
   {
    "duration": 0,
    "start_time": "2022-05-14T11:26:44.268Z"
   },
   {
    "duration": 1,
    "start_time": "2022-05-14T11:26:44.268Z"
   },
   {
    "duration": 13,
    "start_time": "2022-05-14T11:27:02.012Z"
   },
   {
    "duration": 21,
    "start_time": "2022-05-14T11:27:27.454Z"
   },
   {
    "duration": 7,
    "start_time": "2022-05-14T11:27:49.175Z"
   },
   {
    "duration": 5,
    "start_time": "2022-05-14T11:33:13.700Z"
   },
   {
    "duration": 12,
    "start_time": "2022-05-14T11:33:23.721Z"
   },
   {
    "duration": 16,
    "start_time": "2022-05-14T11:33:58.413Z"
   },
   {
    "duration": 11,
    "start_time": "2022-05-14T11:35:51.644Z"
   },
   {
    "duration": 9,
    "start_time": "2022-05-14T11:35:58.174Z"
   },
   {
    "duration": 138,
    "start_time": "2022-05-14T11:39:04.164Z"
   },
   {
    "duration": 11,
    "start_time": "2022-05-14T11:39:07.942Z"
   },
   {
    "duration": 9,
    "start_time": "2022-05-14T11:39:22.739Z"
   },
   {
    "duration": 16,
    "start_time": "2022-05-14T11:40:11.297Z"
   },
   {
    "duration": 21,
    "start_time": "2022-05-14T11:40:20.686Z"
   },
   {
    "duration": 11,
    "start_time": "2022-05-14T11:45:48.900Z"
   },
   {
    "duration": 12,
    "start_time": "2022-05-14T11:47:19.659Z"
   },
   {
    "duration": 10,
    "start_time": "2022-05-14T11:47:36.364Z"
   },
   {
    "duration": 7,
    "start_time": "2022-05-14T11:47:49.610Z"
   },
   {
    "duration": 12,
    "start_time": "2022-05-14T11:48:56.021Z"
   },
   {
    "duration": 8,
    "start_time": "2022-05-14T11:49:09.169Z"
   },
   {
    "duration": 3,
    "start_time": "2022-05-14T11:50:57.333Z"
   },
   {
    "duration": 3,
    "start_time": "2022-05-14T11:51:01.478Z"
   },
   {
    "duration": 4,
    "start_time": "2022-05-14T11:53:59.846Z"
   },
   {
    "duration": 5,
    "start_time": "2022-05-14T11:54:54.924Z"
   },
   {
    "duration": 8,
    "start_time": "2022-05-14T11:55:52.132Z"
   },
   {
    "duration": 18,
    "start_time": "2022-05-14T11:56:08.796Z"
   },
   {
    "duration": 1797,
    "start_time": "2022-05-14T11:56:28.868Z"
   },
   {
    "duration": 43,
    "start_time": "2022-05-14T11:56:30.668Z"
   },
   {
    "duration": 16,
    "start_time": "2022-05-14T11:56:30.713Z"
   },
   {
    "duration": 21,
    "start_time": "2022-05-14T11:56:30.732Z"
   },
   {
    "duration": 13,
    "start_time": "2022-05-14T11:56:30.756Z"
   },
   {
    "duration": 13,
    "start_time": "2022-05-14T11:56:30.771Z"
   },
   {
    "duration": 15,
    "start_time": "2022-05-14T11:56:30.786Z"
   },
   {
    "duration": 33,
    "start_time": "2022-05-14T11:56:30.803Z"
   },
   {
    "duration": 15,
    "start_time": "2022-05-14T11:56:30.838Z"
   },
   {
    "duration": 17,
    "start_time": "2022-05-14T11:56:30.856Z"
   },
   {
    "duration": 15,
    "start_time": "2022-05-14T11:56:30.875Z"
   },
   {
    "duration": 36,
    "start_time": "2022-05-14T11:56:30.892Z"
   },
   {
    "duration": 6,
    "start_time": "2022-05-14T11:56:30.930Z"
   },
   {
    "duration": 12,
    "start_time": "2022-05-14T11:56:30.938Z"
   },
   {
    "duration": 17,
    "start_time": "2022-05-14T11:56:30.952Z"
   },
   {
    "duration": 12,
    "start_time": "2022-05-14T11:56:30.971Z"
   },
   {
    "duration": 17,
    "start_time": "2022-05-14T11:56:30.985Z"
   },
   {
    "duration": 14,
    "start_time": "2022-05-14T11:56:31.004Z"
   },
   {
    "duration": 8,
    "start_time": "2022-05-14T11:56:31.019Z"
   },
   {
    "duration": 8,
    "start_time": "2022-05-14T11:56:31.028Z"
   },
   {
    "duration": 26,
    "start_time": "2022-05-14T11:56:31.038Z"
   },
   {
    "duration": 17,
    "start_time": "2022-05-14T11:56:31.065Z"
   },
   {
    "duration": 13,
    "start_time": "2022-05-14T11:56:31.085Z"
   },
   {
    "duration": 23,
    "start_time": "2022-05-14T11:56:31.100Z"
   },
   {
    "duration": 15,
    "start_time": "2022-05-14T11:56:31.125Z"
   },
   {
    "duration": 48,
    "start_time": "2022-05-14T11:56:31.142Z"
   },
   {
    "duration": 4,
    "start_time": "2022-05-14T11:56:31.192Z"
   },
   {
    "duration": 14,
    "start_time": "2022-05-14T11:56:31.202Z"
   },
   {
    "duration": 591,
    "start_time": "2022-05-14T11:56:31.219Z"
   },
   {
    "duration": 7,
    "start_time": "2022-05-14T11:56:31.811Z"
   },
   {
    "duration": 285,
    "start_time": "2022-05-14T11:56:31.819Z"
   },
   {
    "duration": 11,
    "start_time": "2022-05-14T11:56:32.105Z"
   },
   {
    "duration": 12,
    "start_time": "2022-05-14T11:56:32.118Z"
   },
   {
    "duration": 226,
    "start_time": "2022-05-14T11:56:32.132Z"
   },
   {
    "duration": 532,
    "start_time": "2022-05-14T11:56:32.362Z"
   },
   {
    "duration": 694,
    "start_time": "2022-05-14T11:56:32.896Z"
   },
   {
    "duration": 570,
    "start_time": "2022-05-14T11:56:33.592Z"
   },
   {
    "duration": 13,
    "start_time": "2022-05-14T11:56:34.164Z"
   },
   {
    "duration": 229,
    "start_time": "2022-05-14T11:56:34.179Z"
   },
   {
    "duration": 5,
    "start_time": "2022-05-14T11:56:34.410Z"
   },
   {
    "duration": 175,
    "start_time": "2022-05-14T11:56:34.416Z"
   },
   {
    "duration": 147,
    "start_time": "2022-05-14T11:56:34.593Z"
   },
   {
    "duration": 5,
    "start_time": "2022-05-14T11:56:34.742Z"
   },
   {
    "duration": 297,
    "start_time": "2022-05-14T11:56:34.749Z"
   },
   {
    "duration": 219,
    "start_time": "2022-05-14T11:56:35.047Z"
   },
   {
    "duration": 37,
    "start_time": "2022-05-14T11:56:35.269Z"
   },
   {
    "duration": 14,
    "start_time": "2022-05-14T11:56:35.309Z"
   },
   {
    "duration": 43,
    "start_time": "2022-05-14T11:56:35.325Z"
   },
   {
    "duration": 24,
    "start_time": "2022-05-14T11:56:35.370Z"
   },
   {
    "duration": 14,
    "start_time": "2022-05-14T11:56:35.396Z"
   },
   {
    "duration": 15,
    "start_time": "2022-05-14T11:57:29.217Z"
   },
   {
    "duration": 4,
    "start_time": "2022-05-14T12:00:58.189Z"
   },
   {
    "duration": 13,
    "start_time": "2022-05-14T12:01:05.948Z"
   },
   {
    "duration": 114,
    "start_time": "2022-05-14T12:02:13.715Z"
   },
   {
    "duration": 18,
    "start_time": "2022-05-14T12:02:30.500Z"
   },
   {
    "duration": 6,
    "start_time": "2022-05-14T12:04:39.687Z"
   },
   {
    "duration": 15,
    "start_time": "2022-05-14T12:04:48.351Z"
   },
   {
    "duration": 5,
    "start_time": "2022-05-14T12:06:04.894Z"
   },
   {
    "duration": 1329,
    "start_time": "2022-05-14T12:06:22.035Z"
   },
   {
    "duration": 44,
    "start_time": "2022-05-14T12:06:23.369Z"
   },
   {
    "duration": 12,
    "start_time": "2022-05-14T12:06:23.415Z"
   },
   {
    "duration": 11,
    "start_time": "2022-05-14T12:06:23.429Z"
   },
   {
    "duration": 10,
    "start_time": "2022-05-14T12:06:23.443Z"
   },
   {
    "duration": 9,
    "start_time": "2022-05-14T12:06:23.455Z"
   },
   {
    "duration": 15,
    "start_time": "2022-05-14T12:06:23.466Z"
   },
   {
    "duration": 15,
    "start_time": "2022-05-14T12:06:23.483Z"
   },
   {
    "duration": 8,
    "start_time": "2022-05-14T12:06:23.499Z"
   },
   {
    "duration": 11,
    "start_time": "2022-05-14T12:06:23.509Z"
   },
   {
    "duration": 6,
    "start_time": "2022-05-14T12:06:23.522Z"
   },
   {
    "duration": 5,
    "start_time": "2022-05-14T12:06:23.530Z"
   },
   {
    "duration": 4,
    "start_time": "2022-05-14T12:06:23.537Z"
   },
   {
    "duration": 23,
    "start_time": "2022-05-14T12:06:23.544Z"
   },
   {
    "duration": 24,
    "start_time": "2022-05-14T12:06:23.568Z"
   },
   {
    "duration": 13,
    "start_time": "2022-05-14T12:06:23.594Z"
   },
   {
    "duration": 23,
    "start_time": "2022-05-14T12:06:23.609Z"
   },
   {
    "duration": 11,
    "start_time": "2022-05-14T12:06:23.634Z"
   },
   {
    "duration": 19,
    "start_time": "2022-05-14T12:06:23.647Z"
   },
   {
    "duration": 21,
    "start_time": "2022-05-14T12:06:23.668Z"
   },
   {
    "duration": 20,
    "start_time": "2022-05-14T12:06:23.691Z"
   },
   {
    "duration": 15,
    "start_time": "2022-05-14T12:06:23.712Z"
   },
   {
    "duration": 12,
    "start_time": "2022-05-14T12:06:23.728Z"
   },
   {
    "duration": 7,
    "start_time": "2022-05-14T12:06:23.741Z"
   },
   {
    "duration": 19,
    "start_time": "2022-05-14T12:06:23.750Z"
   },
   {
    "duration": 18,
    "start_time": "2022-05-14T12:06:23.770Z"
   },
   {
    "duration": 12,
    "start_time": "2022-05-14T12:06:23.790Z"
   },
   {
    "duration": 6,
    "start_time": "2022-05-14T12:06:23.804Z"
   },
   {
    "duration": 299,
    "start_time": "2022-05-14T12:06:23.812Z"
   },
   {
    "duration": 6,
    "start_time": "2022-05-14T12:06:24.113Z"
   },
   {
    "duration": 290,
    "start_time": "2022-05-14T12:06:24.121Z"
   },
   {
    "duration": 10,
    "start_time": "2022-05-14T12:06:24.413Z"
   },
   {
    "duration": 13,
    "start_time": "2022-05-14T12:06:24.425Z"
   },
   {
    "duration": 344,
    "start_time": "2022-05-14T12:06:24.440Z"
   },
   {
    "duration": 486,
    "start_time": "2022-05-14T12:06:24.786Z"
   },
   {
    "duration": 506,
    "start_time": "2022-05-14T12:06:25.274Z"
   },
   {
    "duration": 714,
    "start_time": "2022-05-14T12:06:25.782Z"
   },
   {
    "duration": 76,
    "start_time": "2022-05-14T12:06:26.498Z"
   },
   {
    "duration": 360,
    "start_time": "2022-05-14T12:06:26.575Z"
   },
   {
    "duration": 5,
    "start_time": "2022-05-14T12:06:26.938Z"
   },
   {
    "duration": 153,
    "start_time": "2022-05-14T12:06:26.963Z"
   },
   {
    "duration": 164,
    "start_time": "2022-05-14T12:06:27.118Z"
   },
   {
    "duration": 4,
    "start_time": "2022-05-14T12:06:27.284Z"
   },
   {
    "duration": 298,
    "start_time": "2022-05-14T12:06:27.290Z"
   },
   {
    "duration": 140,
    "start_time": "2022-05-14T12:06:27.590Z"
   },
   {
    "duration": 37,
    "start_time": "2022-05-14T12:06:27.731Z"
   },
   {
    "duration": 18,
    "start_time": "2022-05-14T12:06:27.769Z"
   },
   {
    "duration": 15,
    "start_time": "2022-05-14T12:06:27.788Z"
   },
   {
    "duration": 37,
    "start_time": "2022-05-14T12:06:27.805Z"
   },
   {
    "duration": 37,
    "start_time": "2022-05-14T12:06:27.843Z"
   },
   {
    "duration": 6,
    "start_time": "2022-05-14T12:06:48.151Z"
   },
   {
    "duration": 1161,
    "start_time": "2022-05-14T17:25:29.928Z"
   },
   {
    "duration": 36,
    "start_time": "2022-05-14T17:25:31.091Z"
   },
   {
    "duration": 12,
    "start_time": "2022-05-14T17:25:31.129Z"
   },
   {
    "duration": 15,
    "start_time": "2022-05-14T17:25:31.143Z"
   },
   {
    "duration": 14,
    "start_time": "2022-05-14T17:25:31.160Z"
   },
   {
    "duration": 18,
    "start_time": "2022-05-14T17:25:31.176Z"
   },
   {
    "duration": 11,
    "start_time": "2022-05-14T17:25:31.196Z"
   },
   {
    "duration": 27,
    "start_time": "2022-05-14T17:25:31.209Z"
   },
   {
    "duration": 19,
    "start_time": "2022-05-14T17:25:31.238Z"
   },
   {
    "duration": 20,
    "start_time": "2022-05-14T17:25:31.259Z"
   },
   {
    "duration": 26,
    "start_time": "2022-05-14T17:25:31.281Z"
   },
   {
    "duration": 19,
    "start_time": "2022-05-14T17:25:31.309Z"
   },
   {
    "duration": 15,
    "start_time": "2022-05-14T17:25:31.330Z"
   },
   {
    "duration": 23,
    "start_time": "2022-05-14T17:25:31.347Z"
   },
   {
    "duration": 53,
    "start_time": "2022-05-14T17:25:31.372Z"
   },
   {
    "duration": 16,
    "start_time": "2022-05-14T17:25:31.427Z"
   },
   {
    "duration": 19,
    "start_time": "2022-05-14T17:25:31.444Z"
   },
   {
    "duration": 18,
    "start_time": "2022-05-14T17:25:31.465Z"
   },
   {
    "duration": 15,
    "start_time": "2022-05-14T17:25:31.485Z"
   },
   {
    "duration": 9,
    "start_time": "2022-05-14T17:25:31.501Z"
   },
   {
    "duration": 22,
    "start_time": "2022-05-14T17:25:31.512Z"
   },
   {
    "duration": 16,
    "start_time": "2022-05-14T17:25:31.536Z"
   },
   {
    "duration": 32,
    "start_time": "2022-05-14T17:25:31.553Z"
   },
   {
    "duration": 22,
    "start_time": "2022-05-14T17:25:31.587Z"
   },
   {
    "duration": 22,
    "start_time": "2022-05-14T17:25:31.610Z"
   },
   {
    "duration": 17,
    "start_time": "2022-05-14T17:25:31.633Z"
   },
   {
    "duration": 14,
    "start_time": "2022-05-14T17:25:31.652Z"
   },
   {
    "duration": 13,
    "start_time": "2022-05-14T17:25:31.670Z"
   },
   {
    "duration": 260,
    "start_time": "2022-05-14T17:25:31.684Z"
   },
   {
    "duration": 7,
    "start_time": "2022-05-14T17:25:31.945Z"
   },
   {
    "duration": 260,
    "start_time": "2022-05-14T17:25:31.962Z"
   },
   {
    "duration": 9,
    "start_time": "2022-05-14T17:25:32.223Z"
   },
   {
    "duration": 12,
    "start_time": "2022-05-14T17:25:32.234Z"
   },
   {
    "duration": 204,
    "start_time": "2022-05-14T17:25:32.248Z"
   },
   {
    "duration": 311,
    "start_time": "2022-05-14T17:25:32.453Z"
   },
   {
    "duration": 252,
    "start_time": "2022-05-14T17:25:32.766Z"
   },
   {
    "duration": 310,
    "start_time": "2022-05-14T17:25:33.020Z"
   },
   {
    "duration": 11,
    "start_time": "2022-05-14T17:25:33.332Z"
   },
   {
    "duration": 136,
    "start_time": "2022-05-14T17:25:33.344Z"
   },
   {
    "duration": 4,
    "start_time": "2022-05-14T17:25:33.481Z"
   },
   {
    "duration": 158,
    "start_time": "2022-05-14T17:25:33.487Z"
   },
   {
    "duration": 146,
    "start_time": "2022-05-14T17:25:33.646Z"
   },
   {
    "duration": 4,
    "start_time": "2022-05-14T17:25:33.794Z"
   },
   {
    "duration": 288,
    "start_time": "2022-05-14T17:25:33.800Z"
   },
   {
    "duration": 153,
    "start_time": "2022-05-14T17:25:34.090Z"
   },
   {
    "duration": 35,
    "start_time": "2022-05-14T17:25:34.245Z"
   },
   {
    "duration": 21,
    "start_time": "2022-05-14T17:25:34.281Z"
   },
   {
    "duration": 17,
    "start_time": "2022-05-14T17:25:34.303Z"
   },
   {
    "duration": 67,
    "start_time": "2022-05-14T17:25:34.322Z"
   },
   {
    "duration": 18,
    "start_time": "2022-05-14T17:25:34.393Z"
   },
   {
    "duration": 7,
    "start_time": "2022-05-14T20:26:24.260Z"
   },
   {
    "duration": 3,
    "start_time": "2022-05-14T20:26:26.650Z"
   },
   {
    "duration": 77,
    "start_time": "2022-05-14T20:29:52.080Z"
   },
   {
    "duration": 1812,
    "start_time": "2022-05-14T20:30:02.970Z"
   },
   {
    "duration": 85,
    "start_time": "2022-05-14T20:30:04.785Z"
   },
   {
    "duration": 16,
    "start_time": "2022-05-14T20:30:04.872Z"
   },
   {
    "duration": 17,
    "start_time": "2022-05-14T20:30:04.892Z"
   },
   {
    "duration": 12,
    "start_time": "2022-05-14T20:30:04.912Z"
   },
   {
    "duration": 13,
    "start_time": "2022-05-14T20:30:04.926Z"
   },
   {
    "duration": 9,
    "start_time": "2022-05-14T20:30:04.942Z"
   },
   {
    "duration": 45,
    "start_time": "2022-05-14T20:30:04.954Z"
   },
   {
    "duration": 20,
    "start_time": "2022-05-14T20:30:05.002Z"
   },
   {
    "duration": 18,
    "start_time": "2022-05-14T20:30:05.027Z"
   },
   {
    "duration": 12,
    "start_time": "2022-05-14T20:30:05.047Z"
   },
   {
    "duration": 16,
    "start_time": "2022-05-14T20:30:05.061Z"
   },
   {
    "duration": 23,
    "start_time": "2022-05-14T20:30:05.078Z"
   },
   {
    "duration": 20,
    "start_time": "2022-05-14T20:30:05.103Z"
   },
   {
    "duration": 17,
    "start_time": "2022-05-14T20:30:05.125Z"
   },
   {
    "duration": 11,
    "start_time": "2022-05-14T20:30:05.145Z"
   },
   {
    "duration": 46,
    "start_time": "2022-05-14T20:30:05.159Z"
   },
   {
    "duration": 9,
    "start_time": "2022-05-14T20:30:05.208Z"
   },
   {
    "duration": 19,
    "start_time": "2022-05-14T20:30:05.219Z"
   },
   {
    "duration": 8,
    "start_time": "2022-05-14T20:30:05.241Z"
   },
   {
    "duration": 50,
    "start_time": "2022-05-14T20:30:05.251Z"
   },
   {
    "duration": 25,
    "start_time": "2022-05-14T20:30:05.305Z"
   },
   {
    "duration": 17,
    "start_time": "2022-05-14T20:30:06.169Z"
   },
   {
    "duration": 6,
    "start_time": "2022-05-14T20:30:06.219Z"
   },
   {
    "duration": 12,
    "start_time": "2022-05-14T20:30:06.250Z"
   },
   {
    "duration": 17,
    "start_time": "2022-05-14T20:30:06.265Z"
   },
   {
    "duration": 4,
    "start_time": "2022-05-14T20:30:06.469Z"
   },
   {
    "duration": 9,
    "start_time": "2022-05-14T20:30:06.499Z"
   },
   {
    "duration": 490,
    "start_time": "2022-05-14T20:30:06.514Z"
   },
   {
    "duration": 10,
    "start_time": "2022-05-14T20:30:07.007Z"
   },
   {
    "duration": 487,
    "start_time": "2022-05-14T20:30:07.021Z"
   },
   {
    "duration": 16,
    "start_time": "2022-05-14T20:30:07.510Z"
   },
   {
    "duration": 20,
    "start_time": "2022-05-14T20:30:07.529Z"
   },
   {
    "duration": 359,
    "start_time": "2022-05-14T20:30:07.551Z"
   },
   {
    "duration": 584,
    "start_time": "2022-05-14T20:30:07.913Z"
   },
   {
    "duration": 372,
    "start_time": "2022-05-14T20:30:08.500Z"
   },
   {
    "duration": 466,
    "start_time": "2022-05-14T20:30:08.874Z"
   },
   {
    "duration": 17,
    "start_time": "2022-05-14T20:30:09.342Z"
   },
   {
    "duration": 251,
    "start_time": "2022-05-14T20:30:09.361Z"
   },
   {
    "duration": 7,
    "start_time": "2022-05-14T20:30:09.614Z"
   },
   {
    "duration": 270,
    "start_time": "2022-05-14T20:30:09.623Z"
   },
   {
    "duration": 257,
    "start_time": "2022-05-14T20:30:09.896Z"
   },
   {
    "duration": 7,
    "start_time": "2022-05-14T20:30:10.155Z"
   },
   {
    "duration": 446,
    "start_time": "2022-05-14T20:30:10.164Z"
   },
   {
    "duration": 289,
    "start_time": "2022-05-14T20:30:10.612Z"
   },
   {
    "duration": 34,
    "start_time": "2022-05-14T20:30:10.904Z"
   },
   {
    "duration": 19,
    "start_time": "2022-05-14T20:30:10.941Z"
   },
   {
    "duration": 52,
    "start_time": "2022-05-14T20:30:10.963Z"
   },
   {
    "duration": 51,
    "start_time": "2022-05-14T20:30:11.017Z"
   },
   {
    "duration": 25,
    "start_time": "2022-05-14T20:30:11.070Z"
   },
   {
    "duration": 143,
    "start_time": "2022-05-14T20:31:14.240Z"
   },
   {
    "duration": 9,
    "start_time": "2022-05-14T20:31:18.161Z"
   },
   {
    "duration": 16,
    "start_time": "2022-05-14T20:31:20.661Z"
   },
   {
    "duration": 10,
    "start_time": "2022-05-14T20:31:38.570Z"
   },
   {
    "duration": 14,
    "start_time": "2022-05-14T20:31:56.731Z"
   },
   {
    "duration": 19,
    "start_time": "2022-05-14T20:35:29.991Z"
   },
   {
    "duration": 197,
    "start_time": "2022-05-14T20:37:22.051Z"
   },
   {
    "duration": 223,
    "start_time": "2022-05-14T20:39:00.961Z"
   },
   {
    "duration": 14,
    "start_time": "2022-05-14T20:39:08.561Z"
   },
   {
    "duration": 7,
    "start_time": "2022-05-14T20:39:14.160Z"
   },
   {
    "duration": 19,
    "start_time": "2022-05-14T20:39:17.229Z"
   },
   {
    "duration": 6,
    "start_time": "2022-05-14T20:39:27.260Z"
   },
   {
    "duration": 6,
    "start_time": "2022-05-14T20:39:29.541Z"
   },
   {
    "duration": 14,
    "start_time": "2022-05-14T20:39:31.702Z"
   },
   {
    "duration": 7,
    "start_time": "2022-05-14T20:39:33.491Z"
   },
   {
    "duration": 1854,
    "start_time": "2022-05-14T20:39:43.053Z"
   },
   {
    "duration": 68,
    "start_time": "2022-05-14T20:39:44.910Z"
   },
   {
    "duration": 23,
    "start_time": "2022-05-14T20:39:44.980Z"
   },
   {
    "duration": 42,
    "start_time": "2022-05-14T20:39:45.006Z"
   },
   {
    "duration": 9,
    "start_time": "2022-05-14T20:39:45.052Z"
   },
   {
    "duration": 10,
    "start_time": "2022-05-14T20:39:45.063Z"
   },
   {
    "duration": 5,
    "start_time": "2022-05-14T20:39:45.075Z"
   },
   {
    "duration": 16,
    "start_time": "2022-05-14T20:39:45.094Z"
   },
   {
    "duration": 15,
    "start_time": "2022-05-14T20:39:45.113Z"
   },
   {
    "duration": 18,
    "start_time": "2022-05-14T20:39:45.130Z"
   },
   {
    "duration": 47,
    "start_time": "2022-05-14T20:39:45.151Z"
   },
   {
    "duration": 10,
    "start_time": "2022-05-14T20:39:45.201Z"
   },
   {
    "duration": 7,
    "start_time": "2022-05-14T20:39:45.214Z"
   },
   {
    "duration": 10,
    "start_time": "2022-05-14T20:39:45.228Z"
   },
   {
    "duration": 52,
    "start_time": "2022-05-14T20:39:45.241Z"
   },
   {
    "duration": 17,
    "start_time": "2022-05-14T20:39:45.296Z"
   },
   {
    "duration": 26,
    "start_time": "2022-05-14T20:39:45.316Z"
   },
   {
    "duration": 15,
    "start_time": "2022-05-14T20:39:45.344Z"
   },
   {
    "duration": 35,
    "start_time": "2022-05-14T20:39:45.361Z"
   },
   {
    "duration": 10,
    "start_time": "2022-05-14T20:39:45.399Z"
   },
   {
    "duration": 18,
    "start_time": "2022-05-14T20:39:45.411Z"
   },
   {
    "duration": 20,
    "start_time": "2022-05-14T20:39:45.431Z"
   },
   {
    "duration": 46,
    "start_time": "2022-05-14T20:39:45.453Z"
   },
   {
    "duration": 8,
    "start_time": "2022-05-14T20:39:45.502Z"
   },
   {
    "duration": 13,
    "start_time": "2022-05-14T20:39:45.512Z"
   },
   {
    "duration": 17,
    "start_time": "2022-05-14T20:39:45.528Z"
   },
   {
    "duration": 7,
    "start_time": "2022-05-14T20:39:45.592Z"
   },
   {
    "duration": 8,
    "start_time": "2022-05-14T20:39:45.602Z"
   },
   {
    "duration": 10,
    "start_time": "2022-05-14T20:39:45.613Z"
   },
   {
    "duration": 569,
    "start_time": "2022-05-14T20:39:45.625Z"
   },
   {
    "duration": 12,
    "start_time": "2022-05-14T20:39:46.197Z"
   },
   {
    "duration": 607,
    "start_time": "2022-05-14T20:39:46.211Z"
   },
   {
    "duration": 21,
    "start_time": "2022-05-14T20:39:46.821Z"
   },
   {
    "duration": 51,
    "start_time": "2022-05-14T20:39:46.845Z"
   },
   {
    "duration": 415,
    "start_time": "2022-05-14T20:39:46.899Z"
   },
   {
    "duration": 516,
    "start_time": "2022-05-14T20:39:47.316Z"
   },
   {
    "duration": 612,
    "start_time": "2022-05-14T20:39:47.835Z"
   },
   {
    "duration": 611,
    "start_time": "2022-05-14T20:39:48.450Z"
   },
   {
    "duration": 38,
    "start_time": "2022-05-14T20:39:49.065Z"
   },
   {
    "duration": 283,
    "start_time": "2022-05-14T20:39:49.106Z"
   },
   {
    "duration": 8,
    "start_time": "2022-05-14T20:39:49.400Z"
   },
   {
    "duration": 314,
    "start_time": "2022-05-14T20:39:49.411Z"
   },
   {
    "duration": 305,
    "start_time": "2022-05-14T20:39:49.728Z"
   },
   {
    "duration": 8,
    "start_time": "2022-05-14T20:39:50.036Z"
   },
   {
    "duration": 608,
    "start_time": "2022-05-14T20:39:50.047Z"
   },
   {
    "duration": 290,
    "start_time": "2022-05-14T20:39:50.657Z"
   },
   {
    "duration": 46,
    "start_time": "2022-05-14T20:39:50.950Z"
   },
   {
    "duration": 17,
    "start_time": "2022-05-14T20:39:50.999Z"
   },
   {
    "duration": 23,
    "start_time": "2022-05-14T20:39:51.018Z"
   },
   {
    "duration": 64,
    "start_time": "2022-05-14T20:39:51.044Z"
   },
   {
    "duration": 25,
    "start_time": "2022-05-14T20:39:51.111Z"
   },
   {
    "duration": 1006,
    "start_time": "2022-05-14T20:46:48.331Z"
   },
   {
    "duration": 7,
    "start_time": "2022-05-14T20:49:17.894Z"
   },
   {
    "duration": 6,
    "start_time": "2022-05-14T20:49:20.414Z"
   },
   {
    "duration": 14,
    "start_time": "2022-05-14T20:49:26.638Z"
   },
   {
    "duration": 14,
    "start_time": "2022-05-14T20:49:29.694Z"
   },
   {
    "duration": 41,
    "start_time": "2022-05-14T20:50:07.108Z"
   },
   {
    "duration": 13,
    "start_time": "2022-05-14T20:50:26.664Z"
   },
   {
    "duration": 18,
    "start_time": "2022-05-14T20:50:36.241Z"
   },
   {
    "duration": 3,
    "start_time": "2022-05-14T20:50:42.733Z"
   },
   {
    "duration": 845,
    "start_time": "2022-05-14T20:53:44.500Z"
   },
   {
    "duration": 7,
    "start_time": "2022-05-14T20:54:19.714Z"
   },
   {
    "duration": 15,
    "start_time": "2022-05-14T20:54:24.632Z"
   },
   {
    "duration": 31,
    "start_time": "2022-05-14T20:54:33.423Z"
   },
   {
    "duration": 15,
    "start_time": "2022-05-14T20:54:41.424Z"
   },
   {
    "duration": 3,
    "start_time": "2022-05-14T20:55:51.464Z"
   },
   {
    "duration": 10,
    "start_time": "2022-05-14T20:56:38.701Z"
   },
   {
    "duration": 1489,
    "start_time": "2022-05-14T20:56:49.333Z"
   },
   {
    "duration": 74,
    "start_time": "2022-05-14T20:56:50.824Z"
   },
   {
    "duration": 15,
    "start_time": "2022-05-14T20:56:50.901Z"
   },
   {
    "duration": 16,
    "start_time": "2022-05-14T20:56:50.919Z"
   },
   {
    "duration": 8,
    "start_time": "2022-05-14T20:56:50.937Z"
   },
   {
    "duration": 7,
    "start_time": "2022-05-14T20:56:50.948Z"
   },
   {
    "duration": 38,
    "start_time": "2022-05-14T20:56:50.957Z"
   },
   {
    "duration": 17,
    "start_time": "2022-05-14T20:56:50.997Z"
   },
   {
    "duration": 13,
    "start_time": "2022-05-14T20:56:51.016Z"
   },
   {
    "duration": 14,
    "start_time": "2022-05-14T20:56:51.033Z"
   },
   {
    "duration": 46,
    "start_time": "2022-05-14T20:56:51.049Z"
   },
   {
    "duration": 16,
    "start_time": "2022-05-14T20:56:51.097Z"
   },
   {
    "duration": 8,
    "start_time": "2022-05-14T20:56:51.115Z"
   },
   {
    "duration": 12,
    "start_time": "2022-05-14T20:56:51.125Z"
   },
   {
    "duration": 20,
    "start_time": "2022-05-14T20:56:51.139Z"
   },
   {
    "duration": 37,
    "start_time": "2022-05-14T20:56:51.161Z"
   },
   {
    "duration": 17,
    "start_time": "2022-05-14T20:56:51.201Z"
   },
   {
    "duration": 9,
    "start_time": "2022-05-14T20:56:51.221Z"
   },
   {
    "duration": 9,
    "start_time": "2022-05-14T20:56:51.232Z"
   },
   {
    "duration": 7,
    "start_time": "2022-05-14T20:56:51.243Z"
   },
   {
    "duration": 50,
    "start_time": "2022-05-14T20:56:51.252Z"
   },
   {
    "duration": 20,
    "start_time": "2022-05-14T20:56:51.305Z"
   },
   {
    "duration": 17,
    "start_time": "2022-05-14T20:56:51.327Z"
   },
   {
    "duration": 8,
    "start_time": "2022-05-14T20:56:51.347Z"
   },
   {
    "duration": 12,
    "start_time": "2022-05-14T20:56:51.394Z"
   },
   {
    "duration": 20,
    "start_time": "2022-05-14T20:56:51.409Z"
   },
   {
    "duration": 11,
    "start_time": "2022-05-14T20:56:51.432Z"
   },
   {
    "duration": 8,
    "start_time": "2022-05-14T20:56:51.449Z"
   },
   {
    "duration": 35,
    "start_time": "2022-05-14T20:56:51.460Z"
   },
   {
    "duration": 472,
    "start_time": "2022-05-14T20:56:51.498Z"
   },
   {
    "duration": 21,
    "start_time": "2022-05-14T20:56:51.972Z"
   },
   {
    "duration": 473,
    "start_time": "2022-05-14T20:56:51.995Z"
   },
   {
    "duration": 23,
    "start_time": "2022-05-14T20:56:52.471Z"
   },
   {
    "duration": 21,
    "start_time": "2022-05-14T20:56:52.497Z"
   },
   {
    "duration": 354,
    "start_time": "2022-05-14T20:56:52.520Z"
   },
   {
    "duration": 650,
    "start_time": "2022-05-14T20:56:52.876Z"
   },
   {
    "duration": 708,
    "start_time": "2022-05-14T20:56:53.528Z"
   },
   {
    "duration": 722,
    "start_time": "2022-05-14T20:56:54.293Z"
   },
   {
    "duration": 17,
    "start_time": "2022-05-14T20:56:55.017Z"
   },
   {
    "duration": 474,
    "start_time": "2022-05-14T20:56:55.036Z"
   },
   {
    "duration": 8,
    "start_time": "2022-05-14T20:56:55.512Z"
   },
   {
    "duration": 494,
    "start_time": "2022-05-14T20:56:55.522Z"
   },
   {
    "duration": 481,
    "start_time": "2022-05-14T20:56:56.019Z"
   },
   {
    "duration": 7,
    "start_time": "2022-05-14T20:56:56.503Z"
   },
   {
    "duration": 615,
    "start_time": "2022-05-14T20:56:56.512Z"
   },
   {
    "duration": 282,
    "start_time": "2022-05-14T20:56:57.129Z"
   },
   {
    "duration": 31,
    "start_time": "2022-05-14T20:56:57.413Z"
   },
   {
    "duration": 16,
    "start_time": "2022-05-14T20:56:57.446Z"
   },
   {
    "duration": 19,
    "start_time": "2022-05-14T20:56:57.493Z"
   },
   {
    "duration": 34,
    "start_time": "2022-05-14T20:56:57.514Z"
   },
   {
    "duration": 47,
    "start_time": "2022-05-14T20:56:57.550Z"
   },
   {
    "duration": 13,
    "start_time": "2022-05-14T20:57:06.863Z"
   },
   {
    "duration": 135,
    "start_time": "2022-05-14T21:01:05.576Z"
   },
   {
    "duration": 28,
    "start_time": "2022-05-14T21:01:13.069Z"
   },
   {
    "duration": 42,
    "start_time": "2022-05-14T21:02:06.374Z"
   },
   {
    "duration": 1462,
    "start_time": "2022-05-14T21:02:31.054Z"
   },
   {
    "duration": 64,
    "start_time": "2022-05-14T21:02:32.518Z"
   },
   {
    "duration": 16,
    "start_time": "2022-05-14T21:02:32.584Z"
   },
   {
    "duration": 19,
    "start_time": "2022-05-14T21:02:32.603Z"
   },
   {
    "duration": 10,
    "start_time": "2022-05-14T21:02:32.624Z"
   },
   {
    "duration": 9,
    "start_time": "2022-05-14T21:02:32.636Z"
   },
   {
    "duration": 5,
    "start_time": "2022-05-14T21:02:32.647Z"
   },
   {
    "duration": 46,
    "start_time": "2022-05-14T21:02:32.654Z"
   },
   {
    "duration": 14,
    "start_time": "2022-05-14T21:02:32.703Z"
   },
   {
    "duration": 14,
    "start_time": "2022-05-14T21:02:32.721Z"
   },
   {
    "duration": 9,
    "start_time": "2022-05-14T21:02:32.737Z"
   },
   {
    "duration": 20,
    "start_time": "2022-05-14T21:02:32.748Z"
   },
   {
    "duration": 5,
    "start_time": "2022-05-14T21:02:32.793Z"
   },
   {
    "duration": 11,
    "start_time": "2022-05-14T21:02:32.800Z"
   },
   {
    "duration": 18,
    "start_time": "2022-05-14T21:02:32.813Z"
   },
   {
    "duration": 12,
    "start_time": "2022-05-14T21:02:32.833Z"
   },
   {
    "duration": 47,
    "start_time": "2022-05-14T21:02:32.846Z"
   },
   {
    "duration": 12,
    "start_time": "2022-05-14T21:02:32.895Z"
   },
   {
    "duration": 16,
    "start_time": "2022-05-14T21:02:32.909Z"
   },
   {
    "duration": 6,
    "start_time": "2022-05-14T21:02:32.927Z"
   },
   {
    "duration": 18,
    "start_time": "2022-05-14T21:02:32.935Z"
   },
   {
    "duration": 40,
    "start_time": "2022-05-14T21:02:32.955Z"
   },
   {
    "duration": 17,
    "start_time": "2022-05-14T21:02:32.997Z"
   },
   {
    "duration": 7,
    "start_time": "2022-05-14T21:02:33.016Z"
   },
   {
    "duration": 13,
    "start_time": "2022-05-14T21:02:33.025Z"
   },
   {
    "duration": 54,
    "start_time": "2022-05-14T21:02:33.040Z"
   },
   {
    "duration": 12,
    "start_time": "2022-05-14T21:02:33.096Z"
   },
   {
    "duration": 12,
    "start_time": "2022-05-14T21:02:33.113Z"
   },
   {
    "duration": 12,
    "start_time": "2022-05-14T21:02:33.127Z"
   },
   {
    "duration": 7,
    "start_time": "2022-05-14T21:02:33.141Z"
   },
   {
    "duration": 4,
    "start_time": "2022-05-14T21:02:33.150Z"
   },
   {
    "duration": 144,
    "start_time": "2022-05-14T21:02:33.194Z"
   },
   {
    "duration": 0,
    "start_time": "2022-05-14T21:02:33.341Z"
   },
   {
    "duration": 0,
    "start_time": "2022-05-14T21:02:33.343Z"
   },
   {
    "duration": 0,
    "start_time": "2022-05-14T21:02:33.344Z"
   },
   {
    "duration": 0,
    "start_time": "2022-05-14T21:02:33.346Z"
   },
   {
    "duration": 0,
    "start_time": "2022-05-14T21:02:33.348Z"
   },
   {
    "duration": 0,
    "start_time": "2022-05-14T21:02:33.349Z"
   },
   {
    "duration": 0,
    "start_time": "2022-05-14T21:02:33.351Z"
   },
   {
    "duration": 0,
    "start_time": "2022-05-14T21:02:33.352Z"
   },
   {
    "duration": 0,
    "start_time": "2022-05-14T21:02:33.354Z"
   },
   {
    "duration": 0,
    "start_time": "2022-05-14T21:02:33.355Z"
   },
   {
    "duration": 0,
    "start_time": "2022-05-14T21:02:33.357Z"
   },
   {
    "duration": 0,
    "start_time": "2022-05-14T21:02:33.359Z"
   },
   {
    "duration": 0,
    "start_time": "2022-05-14T21:02:33.360Z"
   },
   {
    "duration": 0,
    "start_time": "2022-05-14T21:02:33.393Z"
   },
   {
    "duration": 0,
    "start_time": "2022-05-14T21:02:33.394Z"
   },
   {
    "duration": 0,
    "start_time": "2022-05-14T21:02:33.396Z"
   },
   {
    "duration": 0,
    "start_time": "2022-05-14T21:02:33.398Z"
   },
   {
    "duration": 0,
    "start_time": "2022-05-14T21:02:33.399Z"
   },
   {
    "duration": 0,
    "start_time": "2022-05-14T21:02:33.401Z"
   },
   {
    "duration": 0,
    "start_time": "2022-05-14T21:02:33.403Z"
   },
   {
    "duration": 0,
    "start_time": "2022-05-14T21:02:33.405Z"
   },
   {
    "duration": 0,
    "start_time": "2022-05-14T21:02:33.407Z"
   },
   {
    "duration": 9,
    "start_time": "2022-05-14T21:03:21.282Z"
   },
   {
    "duration": 9,
    "start_time": "2022-05-14T21:03:30.320Z"
   },
   {
    "duration": 10,
    "start_time": "2022-05-14T21:05:36.501Z"
   },
   {
    "duration": 28,
    "start_time": "2022-05-14T21:05:42.596Z"
   },
   {
    "duration": 5,
    "start_time": "2022-05-14T21:06:30.141Z"
   },
   {
    "duration": 12,
    "start_time": "2022-05-14T21:06:35.494Z"
   },
   {
    "duration": 28,
    "start_time": "2022-05-14T21:06:39.257Z"
   },
   {
    "duration": 1473,
    "start_time": "2022-05-14T21:07:00.550Z"
   },
   {
    "duration": 65,
    "start_time": "2022-05-14T21:07:02.025Z"
   },
   {
    "duration": 16,
    "start_time": "2022-05-14T21:07:02.093Z"
   },
   {
    "duration": 15,
    "start_time": "2022-05-14T21:07:02.112Z"
   },
   {
    "duration": 10,
    "start_time": "2022-05-14T21:07:02.130Z"
   },
   {
    "duration": 10,
    "start_time": "2022-05-14T21:07:02.142Z"
   },
   {
    "duration": 39,
    "start_time": "2022-05-14T21:07:02.154Z"
   },
   {
    "duration": 16,
    "start_time": "2022-05-14T21:07:02.195Z"
   },
   {
    "duration": 12,
    "start_time": "2022-05-14T21:07:02.214Z"
   },
   {
    "duration": 14,
    "start_time": "2022-05-14T21:07:02.230Z"
   },
   {
    "duration": 11,
    "start_time": "2022-05-14T21:07:02.246Z"
   },
   {
    "duration": 41,
    "start_time": "2022-05-14T21:07:02.259Z"
   },
   {
    "duration": 5,
    "start_time": "2022-05-14T21:07:02.303Z"
   },
   {
    "duration": 12,
    "start_time": "2022-05-14T21:07:02.310Z"
   },
   {
    "duration": 16,
    "start_time": "2022-05-14T21:07:02.325Z"
   },
   {
    "duration": 13,
    "start_time": "2022-05-14T21:07:02.344Z"
   },
   {
    "duration": 50,
    "start_time": "2022-05-14T21:07:02.359Z"
   },
   {
    "duration": 15,
    "start_time": "2022-05-14T21:07:02.411Z"
   },
   {
    "duration": 15,
    "start_time": "2022-05-14T21:07:02.429Z"
   },
   {
    "duration": 13,
    "start_time": "2022-05-14T21:07:02.446Z"
   },
   {
    "duration": 34,
    "start_time": "2022-05-14T21:07:02.462Z"
   },
   {
    "duration": 38,
    "start_time": "2022-05-14T21:07:02.498Z"
   },
   {
    "duration": 16,
    "start_time": "2022-05-14T21:07:02.538Z"
   },
   {
    "duration": 10,
    "start_time": "2022-05-14T21:07:02.556Z"
   },
   {
    "duration": 24,
    "start_time": "2022-05-14T21:07:02.569Z"
   },
   {
    "duration": 13,
    "start_time": "2022-05-14T21:07:02.596Z"
   },
   {
    "duration": 14,
    "start_time": "2022-05-14T21:07:02.611Z"
   },
   {
    "duration": 23,
    "start_time": "2022-05-14T21:07:02.633Z"
   },
   {
    "duration": 56,
    "start_time": "2022-05-14T21:07:02.659Z"
   },
   {
    "duration": 8,
    "start_time": "2022-05-14T21:07:02.718Z"
   },
   {
    "duration": 11,
    "start_time": "2022-05-14T21:07:02.729Z"
   },
   {
    "duration": 167,
    "start_time": "2022-05-14T21:07:02.742Z"
   },
   {
    "duration": 0,
    "start_time": "2022-05-14T21:07:02.912Z"
   },
   {
    "duration": 1,
    "start_time": "2022-05-14T21:07:02.913Z"
   },
   {
    "duration": 0,
    "start_time": "2022-05-14T21:07:02.916Z"
   },
   {
    "duration": 0,
    "start_time": "2022-05-14T21:07:02.917Z"
   },
   {
    "duration": 0,
    "start_time": "2022-05-14T21:07:02.919Z"
   },
   {
    "duration": 0,
    "start_time": "2022-05-14T21:07:02.920Z"
   },
   {
    "duration": 0,
    "start_time": "2022-05-14T21:07:02.922Z"
   },
   {
    "duration": 0,
    "start_time": "2022-05-14T21:07:02.924Z"
   },
   {
    "duration": 0,
    "start_time": "2022-05-14T21:07:02.925Z"
   },
   {
    "duration": 1,
    "start_time": "2022-05-14T21:07:02.926Z"
   },
   {
    "duration": 0,
    "start_time": "2022-05-14T21:07:02.928Z"
   },
   {
    "duration": 0,
    "start_time": "2022-05-14T21:07:02.930Z"
   },
   {
    "duration": 0,
    "start_time": "2022-05-14T21:07:02.931Z"
   },
   {
    "duration": 0,
    "start_time": "2022-05-14T21:07:02.933Z"
   },
   {
    "duration": 0,
    "start_time": "2022-05-14T21:07:02.935Z"
   },
   {
    "duration": 0,
    "start_time": "2022-05-14T21:07:02.937Z"
   },
   {
    "duration": 0,
    "start_time": "2022-05-14T21:07:02.938Z"
   },
   {
    "duration": 0,
    "start_time": "2022-05-14T21:07:02.940Z"
   },
   {
    "duration": 0,
    "start_time": "2022-05-14T21:07:02.993Z"
   },
   {
    "duration": 0,
    "start_time": "2022-05-14T21:07:02.994Z"
   },
   {
    "duration": 0,
    "start_time": "2022-05-14T21:07:02.996Z"
   },
   {
    "duration": 0,
    "start_time": "2022-05-14T21:07:02.999Z"
   },
   {
    "duration": 7,
    "start_time": "2022-05-14T21:07:22.640Z"
   },
   {
    "duration": 23,
    "start_time": "2022-05-14T21:07:40.090Z"
   },
   {
    "duration": 10,
    "start_time": "2022-05-14T21:09:09.081Z"
   },
   {
    "duration": 1386,
    "start_time": "2022-05-14T21:09:19.231Z"
   },
   {
    "duration": 65,
    "start_time": "2022-05-14T21:09:20.619Z"
   },
   {
    "duration": 16,
    "start_time": "2022-05-14T21:09:20.686Z"
   },
   {
    "duration": 18,
    "start_time": "2022-05-14T21:09:20.704Z"
   },
   {
    "duration": 9,
    "start_time": "2022-05-14T21:09:20.725Z"
   },
   {
    "duration": 8,
    "start_time": "2022-05-14T21:09:20.736Z"
   },
   {
    "duration": 11,
    "start_time": "2022-05-14T21:09:20.746Z"
   },
   {
    "duration": 43,
    "start_time": "2022-05-14T21:09:20.759Z"
   },
   {
    "duration": 14,
    "start_time": "2022-05-14T21:09:20.804Z"
   },
   {
    "duration": 15,
    "start_time": "2022-05-14T21:09:20.819Z"
   },
   {
    "duration": 10,
    "start_time": "2022-05-14T21:09:20.836Z"
   },
   {
    "duration": 9,
    "start_time": "2022-05-14T21:09:20.849Z"
   },
   {
    "duration": 4,
    "start_time": "2022-05-14T21:09:20.893Z"
   },
   {
    "duration": 8,
    "start_time": "2022-05-14T21:09:20.902Z"
   },
   {
    "duration": 20,
    "start_time": "2022-05-14T21:09:20.912Z"
   },
   {
    "duration": 10,
    "start_time": "2022-05-14T21:09:20.934Z"
   },
   {
    "duration": 47,
    "start_time": "2022-05-14T21:09:20.946Z"
   },
   {
    "duration": 7,
    "start_time": "2022-05-14T21:09:20.995Z"
   },
   {
    "duration": 11,
    "start_time": "2022-05-14T21:09:21.004Z"
   },
   {
    "duration": 5,
    "start_time": "2022-05-14T21:09:21.017Z"
   },
   {
    "duration": 17,
    "start_time": "2022-05-14T21:09:21.024Z"
   },
   {
    "duration": 51,
    "start_time": "2022-05-14T21:09:21.043Z"
   },
   {
    "duration": 17,
    "start_time": "2022-05-14T21:09:21.096Z"
   },
   {
    "duration": 8,
    "start_time": "2022-05-14T21:09:21.114Z"
   },
   {
    "duration": 12,
    "start_time": "2022-05-14T21:09:21.124Z"
   },
   {
    "duration": 17,
    "start_time": "2022-05-14T21:09:21.138Z"
   },
   {
    "duration": 43,
    "start_time": "2022-05-14T21:09:21.158Z"
   },
   {
    "duration": 27,
    "start_time": "2022-05-14T21:09:21.203Z"
   },
   {
    "duration": 22,
    "start_time": "2022-05-14T21:09:21.232Z"
   },
   {
    "duration": 39,
    "start_time": "2022-05-14T21:09:21.256Z"
   },
   {
    "duration": 460,
    "start_time": "2022-05-14T21:09:21.297Z"
   },
   {
    "duration": 10,
    "start_time": "2022-05-14T21:09:21.759Z"
   },
   {
    "duration": 441,
    "start_time": "2022-05-14T21:09:21.771Z"
   },
   {
    "duration": 14,
    "start_time": "2022-05-14T21:09:22.214Z"
   },
   {
    "duration": 18,
    "start_time": "2022-05-14T21:09:22.230Z"
   },
   {
    "duration": 346,
    "start_time": "2022-05-14T21:09:22.250Z"
   },
   {
    "duration": 379,
    "start_time": "2022-05-14T21:09:22.598Z"
   },
   {
    "duration": 325,
    "start_time": "2022-05-14T21:09:22.979Z"
   },
   {
    "duration": 423,
    "start_time": "2022-05-14T21:09:23.306Z"
   },
   {
    "duration": 16,
    "start_time": "2022-05-14T21:09:23.731Z"
   },
   {
    "duration": 254,
    "start_time": "2022-05-14T21:09:23.753Z"
   },
   {
    "duration": 6,
    "start_time": "2022-05-14T21:09:24.009Z"
   },
   {
    "duration": 248,
    "start_time": "2022-05-14T21:09:24.017Z"
   },
   {
    "duration": 241,
    "start_time": "2022-05-14T21:09:24.267Z"
   },
   {
    "duration": 7,
    "start_time": "2022-05-14T21:09:24.510Z"
   },
   {
    "duration": 440,
    "start_time": "2022-05-14T21:09:24.520Z"
   },
   {
    "duration": 250,
    "start_time": "2022-05-14T21:09:24.962Z"
   },
   {
    "duration": 30,
    "start_time": "2022-05-14T21:09:25.214Z"
   },
   {
    "duration": 14,
    "start_time": "2022-05-14T21:09:25.246Z"
   },
   {
    "duration": 44,
    "start_time": "2022-05-14T21:09:25.262Z"
   },
   {
    "duration": 38,
    "start_time": "2022-05-14T21:09:25.308Z"
   },
   {
    "duration": 46,
    "start_time": "2022-05-14T21:09:25.348Z"
   },
   {
    "duration": 1166,
    "start_time": "2022-05-15T16:02:35.217Z"
   },
   {
    "duration": 59,
    "start_time": "2022-05-15T16:02:36.385Z"
   },
   {
    "duration": 11,
    "start_time": "2022-05-15T16:02:36.445Z"
   },
   {
    "duration": 12,
    "start_time": "2022-05-15T16:02:36.458Z"
   },
   {
    "duration": 12,
    "start_time": "2022-05-15T16:02:36.471Z"
   },
   {
    "duration": 18,
    "start_time": "2022-05-15T16:02:36.484Z"
   },
   {
    "duration": 6,
    "start_time": "2022-05-15T16:02:36.503Z"
   },
   {
    "duration": 13,
    "start_time": "2022-05-15T16:02:36.510Z"
   },
   {
    "duration": 8,
    "start_time": "2022-05-15T16:02:36.533Z"
   },
   {
    "duration": 12,
    "start_time": "2022-05-15T16:02:36.544Z"
   },
   {
    "duration": 9,
    "start_time": "2022-05-15T16:02:36.557Z"
   },
   {
    "duration": 8,
    "start_time": "2022-05-15T16:02:36.567Z"
   },
   {
    "duration": 8,
    "start_time": "2022-05-15T16:02:36.577Z"
   },
   {
    "duration": 12,
    "start_time": "2022-05-15T16:02:36.587Z"
   },
   {
    "duration": 34,
    "start_time": "2022-05-15T16:02:36.600Z"
   },
   {
    "duration": 7,
    "start_time": "2022-05-15T16:02:36.636Z"
   },
   {
    "duration": 14,
    "start_time": "2022-05-15T16:02:36.645Z"
   },
   {
    "duration": 9,
    "start_time": "2022-05-15T16:02:36.661Z"
   },
   {
    "duration": 7,
    "start_time": "2022-05-15T16:02:36.671Z"
   },
   {
    "duration": 14,
    "start_time": "2022-05-15T16:02:36.680Z"
   },
   {
    "duration": 14,
    "start_time": "2022-05-15T16:02:36.696Z"
   },
   {
    "duration": 13,
    "start_time": "2022-05-15T16:02:36.733Z"
   },
   {
    "duration": 12,
    "start_time": "2022-05-15T16:02:36.748Z"
   },
   {
    "duration": 13,
    "start_time": "2022-05-15T16:02:36.762Z"
   },
   {
    "duration": 12,
    "start_time": "2022-05-15T16:02:36.777Z"
   },
   {
    "duration": 13,
    "start_time": "2022-05-15T16:02:36.790Z"
   },
   {
    "duration": 34,
    "start_time": "2022-05-15T16:02:36.805Z"
   },
   {
    "duration": 17,
    "start_time": "2022-05-15T16:02:36.843Z"
   },
   {
    "duration": 15,
    "start_time": "2022-05-15T16:02:36.862Z"
   },
   {
    "duration": 6,
    "start_time": "2022-05-15T16:02:36.879Z"
   },
   {
    "duration": 316,
    "start_time": "2022-05-15T16:02:36.886Z"
   },
   {
    "duration": 6,
    "start_time": "2022-05-15T16:02:37.204Z"
   },
   {
    "duration": 307,
    "start_time": "2022-05-15T16:02:37.212Z"
   },
   {
    "duration": 15,
    "start_time": "2022-05-15T16:02:37.521Z"
   },
   {
    "duration": 15,
    "start_time": "2022-05-15T16:02:37.538Z"
   },
   {
    "duration": 248,
    "start_time": "2022-05-15T16:02:37.555Z"
   },
   {
    "duration": 331,
    "start_time": "2022-05-15T16:02:37.805Z"
   },
   {
    "duration": 236,
    "start_time": "2022-05-15T16:02:38.139Z"
   },
   {
    "duration": 308,
    "start_time": "2022-05-15T16:02:38.377Z"
   },
   {
    "duration": 13,
    "start_time": "2022-05-15T16:02:38.686Z"
   },
   {
    "duration": 181,
    "start_time": "2022-05-15T16:02:38.700Z"
   },
   {
    "duration": 5,
    "start_time": "2022-05-15T16:02:38.883Z"
   },
   {
    "duration": 167,
    "start_time": "2022-05-15T16:02:38.890Z"
   },
   {
    "duration": 162,
    "start_time": "2022-05-15T16:02:39.059Z"
   },
   {
    "duration": 11,
    "start_time": "2022-05-15T16:02:39.223Z"
   },
   {
    "duration": 283,
    "start_time": "2022-05-15T16:02:39.236Z"
   },
   {
    "duration": 139,
    "start_time": "2022-05-15T16:02:39.521Z"
   },
   {
    "duration": 25,
    "start_time": "2022-05-15T16:02:39.662Z"
   },
   {
    "duration": 11,
    "start_time": "2022-05-15T16:02:39.688Z"
   },
   {
    "duration": 37,
    "start_time": "2022-05-15T16:02:39.700Z"
   },
   {
    "duration": 24,
    "start_time": "2022-05-15T16:02:39.739Z"
   },
   {
    "duration": 13,
    "start_time": "2022-05-15T16:02:39.765Z"
   }
  ],
  "kernelspec": {
   "display_name": "Python 3 (ipykernel)",
   "language": "python",
   "name": "python3"
  },
  "language_info": {
   "codemirror_mode": {
    "name": "ipython",
    "version": 3
   },
   "file_extension": ".py",
   "mimetype": "text/x-python",
   "name": "python",
   "nbconvert_exporter": "python",
   "pygments_lexer": "ipython3",
   "version": "3.10.5"
  },
  "toc": {
   "base_numbering": 1,
   "nav_menu": {},
   "number_sections": true,
   "sideBar": true,
   "skip_h1_title": true,
   "title_cell": "Table of Contents",
   "title_sidebar": "Contents",
   "toc_cell": false,
   "toc_position": {
    "height": "calc(100% - 180px)",
    "left": "10px",
    "top": "150px",
    "width": "170px"
   },
   "toc_section_display": true,
   "toc_window_display": true
  }
 },
 "nbformat": 4,
 "nbformat_minor": 2
}
