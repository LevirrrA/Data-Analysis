{
 "cells": [
  {
   "cell_type": "markdown",
   "metadata": {},
   "source": [
    "# Анализ тарифов компании «Мегалайн»\n",
    "\n",
    "Вы аналитик компании «Мегалайн» — федерального оператора сотовой связи. Клиентам предлагают два тарифных плана: «Смарт» и «Ультра». Чтобы скорректировать рекламный бюджет, коммерческий департамент хочет понять, какой тариф приносит больше денег.\n",
    "\n",
    "Вам предстоит сделать предварительный анализ тарифов на небольшой выборке клиентов. В вашем распоряжении данные 500 пользователей «Мегалайна»: кто они, откуда, каким тарифом пользуются, сколько звонков и сообщений каждый отправил за 2018 год. Нужно проанализировать поведение клиентов и сделать вывод — какой тариф лучше."
   ]
  },
  {
   "cell_type": "markdown",
   "metadata": {},
   "source": [
    "# Описание тарифов\n",
    "\n",
    "**Тариф «Смарт»**\n",
    "\n",
    "1. Ежемесячная плата: 550 рублей\n",
    "\n",
    "2. Включено 500 минут разговора, 50 сообщений и 15 Гб интернет-трафика\n",
    "\n",
    "3. Стоимость услуг сверх тарифного пакета:\n",
    "    * минута разговора: 3 рубля\n",
    "    * сообщение: 3 рубля\n",
    "    * 1 Гб интернет-трафика: 200 рублей\n",
    "    \n",
    "**Тариф «Ультра»**\n",
    "\n",
    "1. Ежемесячная плата: 1950 рублей\n",
    "\n",
    "2. Включено 3000 минут разговора, 1000 сообщений и 30 Гб интернет-трафика\n",
    "\n",
    "3. Стоимость услуг сверх тарифного пакета:\n",
    "    * минута разговора: 1 рубль\n",
    "    * сообщение: 1 рубль\n",
    "    * 1 Гб интернет-трафика: 150 рублей\n",
    "    \n",
    "    \n",
    "**Примечание:**\n",
    "\n",
    "«Мегалайн» всегда округляет секунды до минут, а мегабайты — до гигабайт. Каждый звонок округляется отдельно: даже если он длился всего 1 секунду, будет засчитан как 1 минута.\n",
    "\n",
    "Для веб-трафика отдельные сессии не считаются. Вместо этого общая сумма за месяц округляется в бо́льшую сторону. Если абонент использует 1025 мегабайт в этом месяце, с него возьмут плату за 2 гигабайта."
   ]
  },
  {
   "cell_type": "markdown",
   "metadata": {},
   "source": [
    "# Описание данных\n",
    "\n",
    "**Таблица** `users` (информация о пользователях):\n",
    "\n",
    "`user_id` — уникальный идентификатор пользователя\n",
    "\n",
    "`first_name` — имя пользователя\n",
    "\n",
    "`last_name` — фамилия пользователя\n",
    "\n",
    "`age` — возраст пользователя (годы)\n",
    "\n",
    "`reg_date` — дата подключения тарифа (день, месяц, год)\n",
    "\n",
    "`churn_date` — дата прекращения пользования тарифом (если значение пропущено, то тариф ещё действовал на момент выгрузки данных)\n",
    "\n",
    "`city` — город проживания пользователя\n",
    "\n",
    "`tarif` — название тарифного плана"
   ]
  },
  {
   "cell_type": "markdown",
   "metadata": {},
   "source": [
    "**Таблица** `calls` (информация о звонках):\n",
    "\n",
    "`id` — уникальный номер звонка\n",
    "\n",
    "`call_date` — дата звонка\n",
    "\n",
    "`duration` — длительность звонка в минутах\n",
    "\n",
    "`user_id` — идентификатор пользователя, сделавшего звонок"
   ]
  },
  {
   "cell_type": "markdown",
   "metadata": {},
   "source": [
    "**Таблица** `messages` (информация о сообщениях):\n",
    "\n",
    "`id` — уникальный номер сообщения\n",
    "\n",
    "`message_date` — дата сообщения\n",
    "\n",
    "`user_id` — идентификатор пользователя, отправившего сообщение"
   ]
  },
  {
   "cell_type": "markdown",
   "metadata": {},
   "source": [
    "**Таблица** `internet` (информация об интернет-сессиях):\n",
    "\n",
    "`id` — уникальный номер сессии\n",
    "\n",
    "`mb_used` — объём потраченного за сессию интернет-трафика (в мегабайтах)\n",
    "\n",
    "`session_date` — дата интернет-сессии\n",
    "\n",
    "`user_id` — идентификатор пользователя"
   ]
  },
  {
   "cell_type": "markdown",
   "metadata": {},
   "source": [
    "**Таблица** `tariffs` (информация о тарифах):\n",
    "\n",
    "`tariff_name` — название тарифа\n",
    "\n",
    "`rub_monthly_fee` — ежемесячная абонентская плата в рублях\n",
    "\n",
    "`minutes_included` — количество минут разговора в месяц, включённых в абонентскую плату\n",
    "\n",
    "`messages_included` — количество сообщений в месяц, включённых в абонентскую плату\n",
    "\n",
    "`mb_per_month_included` — объём интернет-трафика, включённого в абонентскую плату (в мегабайтах)\n",
    "\n",
    "`rub_per_minute` — стоимость минуты разговора сверх тарифного пакета (например, если в тарифе 100 минут разговора в месяц, то со 101 минуты будет взиматься плата)\n",
    "\n",
    "`rub_per_message` — стоимость отправки сообщения сверх тарифного пакета\n",
    "\n",
    "`rub_per_gb` — стоимость дополнительного гигабайта интернет-трафика сверх тарифного пакета (1 гигабайт = 1024 мегабайта)"
   ]
  },
  {
   "cell_type": "markdown",
   "metadata": {},
   "source": [
    "# Шаг 1. Обзор данных"
   ]
  },
  {
   "cell_type": "markdown",
   "metadata": {},
   "source": [
    "Перед началом работы импортируем нужные библиотеки и прочитаем файлы с данными, посмотрим общую информацию о них и проверим на наличие дубликатов."
   ]
  },
  {
   "cell_type": "code",
   "execution_count": 1,
   "metadata": {},
   "outputs": [],
   "source": [
    "# импорт библиотек\n",
    "import pandas as pd\n",
    "import numpy as np\n",
    "import matplotlib.pyplot as plt\n",
    "from scipy import stats as st"
   ]
  },
  {
   "cell_type": "code",
   "execution_count": 2,
   "metadata": {},
   "outputs": [],
   "source": [
    "# чтение файлов и просмотр таблиц\n",
    "users = pd.read_csv('/datasets/users.csv', sep = ',')\n",
    "calls = pd.read_csv('/datasets/calls.csv', sep = ',')\n",
    "messages = pd.read_csv('/datasets/messages.csv', sep = ',')\n",
    "internet = pd.read_csv('/datasets/internet.csv', sep = ',')\n",
    "tariffs = pd.read_csv('/datasets/tariffs.csv', sep = ',')"
   ]
  },
  {
   "cell_type": "code",
   "execution_count": 3,
   "metadata": {},
   "outputs": [
    {
     "data": {
      "text/html": [
       "<div>\n",
       "<style scoped>\n",
       "    .dataframe tbody tr th:only-of-type {\n",
       "        vertical-align: middle;\n",
       "    }\n",
       "\n",
       "    .dataframe tbody tr th {\n",
       "        vertical-align: top;\n",
       "    }\n",
       "\n",
       "    .dataframe thead th {\n",
       "        text-align: right;\n",
       "    }\n",
       "</style>\n",
       "<table border=\"1\" class=\"dataframe\">\n",
       "  <thead>\n",
       "    <tr style=\"text-align: right;\">\n",
       "      <th></th>\n",
       "      <th>user_id</th>\n",
       "      <th>age</th>\n",
       "      <th>churn_date</th>\n",
       "      <th>city</th>\n",
       "      <th>first_name</th>\n",
       "      <th>last_name</th>\n",
       "      <th>reg_date</th>\n",
       "      <th>tariff</th>\n",
       "    </tr>\n",
       "  </thead>\n",
       "  <tbody>\n",
       "    <tr>\n",
       "      <th>0</th>\n",
       "      <td>1000</td>\n",
       "      <td>52</td>\n",
       "      <td>NaN</td>\n",
       "      <td>Краснодар</td>\n",
       "      <td>Рафаил</td>\n",
       "      <td>Верещагин</td>\n",
       "      <td>2018-05-25</td>\n",
       "      <td>ultra</td>\n",
       "    </tr>\n",
       "    <tr>\n",
       "      <th>1</th>\n",
       "      <td>1001</td>\n",
       "      <td>41</td>\n",
       "      <td>NaN</td>\n",
       "      <td>Москва</td>\n",
       "      <td>Иван</td>\n",
       "      <td>Ежов</td>\n",
       "      <td>2018-11-01</td>\n",
       "      <td>smart</td>\n",
       "    </tr>\n",
       "    <tr>\n",
       "      <th>2</th>\n",
       "      <td>1002</td>\n",
       "      <td>59</td>\n",
       "      <td>NaN</td>\n",
       "      <td>Стерлитамак</td>\n",
       "      <td>Евгений</td>\n",
       "      <td>Абрамович</td>\n",
       "      <td>2018-06-17</td>\n",
       "      <td>smart</td>\n",
       "    </tr>\n",
       "    <tr>\n",
       "      <th>3</th>\n",
       "      <td>1003</td>\n",
       "      <td>23</td>\n",
       "      <td>NaN</td>\n",
       "      <td>Москва</td>\n",
       "      <td>Белла</td>\n",
       "      <td>Белякова</td>\n",
       "      <td>2018-08-17</td>\n",
       "      <td>ultra</td>\n",
       "    </tr>\n",
       "    <tr>\n",
       "      <th>4</th>\n",
       "      <td>1004</td>\n",
       "      <td>68</td>\n",
       "      <td>NaN</td>\n",
       "      <td>Новокузнецк</td>\n",
       "      <td>Татьяна</td>\n",
       "      <td>Авдеенко</td>\n",
       "      <td>2018-05-14</td>\n",
       "      <td>ultra</td>\n",
       "    </tr>\n",
       "  </tbody>\n",
       "</table>\n",
       "</div>"
      ],
      "text/plain": [
       "   user_id  age churn_date         city first_name  last_name    reg_date  \\\n",
       "0     1000   52        NaN    Краснодар     Рафаил  Верещагин  2018-05-25   \n",
       "1     1001   41        NaN       Москва       Иван       Ежов  2018-11-01   \n",
       "2     1002   59        NaN  Стерлитамак    Евгений  Абрамович  2018-06-17   \n",
       "3     1003   23        NaN       Москва      Белла   Белякова  2018-08-17   \n",
       "4     1004   68        NaN  Новокузнецк    Татьяна   Авдеенко  2018-05-14   \n",
       "\n",
       "  tariff  \n",
       "0  ultra  \n",
       "1  smart  \n",
       "2  smart  \n",
       "3  ultra  \n",
       "4  ultra  "
      ]
     },
     "execution_count": 3,
     "metadata": {},
     "output_type": "execute_result"
    }
   ],
   "source": [
    "# таблица с пользователями\n",
    "users.head()"
   ]
  },
  {
   "cell_type": "code",
   "execution_count": 4,
   "metadata": {},
   "outputs": [
    {
     "name": "stdout",
     "output_type": "stream",
     "text": [
      "<class 'pandas.core.frame.DataFrame'>\n",
      "RangeIndex: 500 entries, 0 to 499\n",
      "Data columns (total 8 columns):\n",
      " #   Column      Non-Null Count  Dtype \n",
      "---  ------      --------------  ----- \n",
      " 0   user_id     500 non-null    int64 \n",
      " 1   age         500 non-null    int64 \n",
      " 2   churn_date  38 non-null     object\n",
      " 3   city        500 non-null    object\n",
      " 4   first_name  500 non-null    object\n",
      " 5   last_name   500 non-null    object\n",
      " 6   reg_date    500 non-null    object\n",
      " 7   tariff      500 non-null    object\n",
      "dtypes: int64(2), object(6)\n",
      "memory usage: 31.4+ KB\n"
     ]
    }
   ],
   "source": [
    "# общая информация\n",
    "users.info()"
   ]
  },
  {
   "cell_type": "code",
   "execution_count": 5,
   "metadata": {},
   "outputs": [
    {
     "data": {
      "text/plain": [
       "0"
      ]
     },
     "execution_count": 5,
     "metadata": {},
     "output_type": "execute_result"
    }
   ],
   "source": [
    "# проверка дубликатов\n",
    "users.duplicated().sum()"
   ]
  },
  {
   "cell_type": "markdown",
   "metadata": {},
   "source": [
    "В данной таблице:\n",
    "\n",
    "* столбцы `churn_date` и `reg_date` должны иметь тип `datetime`;\n",
    "* есть много пропущенных значений в столбце `churn_date`, но это нормально: если значение пропущено, то тариф еще действовал на момент выгрузки данных."
   ]
  },
  {
   "cell_type": "code",
   "execution_count": 6,
   "metadata": {},
   "outputs": [
    {
     "data": {
      "text/html": [
       "<div>\n",
       "<style scoped>\n",
       "    .dataframe tbody tr th:only-of-type {\n",
       "        vertical-align: middle;\n",
       "    }\n",
       "\n",
       "    .dataframe tbody tr th {\n",
       "        vertical-align: top;\n",
       "    }\n",
       "\n",
       "    .dataframe thead th {\n",
       "        text-align: right;\n",
       "    }\n",
       "</style>\n",
       "<table border=\"1\" class=\"dataframe\">\n",
       "  <thead>\n",
       "    <tr style=\"text-align: right;\">\n",
       "      <th></th>\n",
       "      <th>id</th>\n",
       "      <th>call_date</th>\n",
       "      <th>duration</th>\n",
       "      <th>user_id</th>\n",
       "    </tr>\n",
       "  </thead>\n",
       "  <tbody>\n",
       "    <tr>\n",
       "      <th>0</th>\n",
       "      <td>1000_0</td>\n",
       "      <td>2018-07-25</td>\n",
       "      <td>0.00</td>\n",
       "      <td>1000</td>\n",
       "    </tr>\n",
       "    <tr>\n",
       "      <th>1</th>\n",
       "      <td>1000_1</td>\n",
       "      <td>2018-08-17</td>\n",
       "      <td>0.00</td>\n",
       "      <td>1000</td>\n",
       "    </tr>\n",
       "    <tr>\n",
       "      <th>2</th>\n",
       "      <td>1000_2</td>\n",
       "      <td>2018-06-11</td>\n",
       "      <td>2.85</td>\n",
       "      <td>1000</td>\n",
       "    </tr>\n",
       "    <tr>\n",
       "      <th>3</th>\n",
       "      <td>1000_3</td>\n",
       "      <td>2018-09-21</td>\n",
       "      <td>13.80</td>\n",
       "      <td>1000</td>\n",
       "    </tr>\n",
       "    <tr>\n",
       "      <th>4</th>\n",
       "      <td>1000_4</td>\n",
       "      <td>2018-12-15</td>\n",
       "      <td>5.18</td>\n",
       "      <td>1000</td>\n",
       "    </tr>\n",
       "  </tbody>\n",
       "</table>\n",
       "</div>"
      ],
      "text/plain": [
       "       id   call_date  duration  user_id\n",
       "0  1000_0  2018-07-25      0.00     1000\n",
       "1  1000_1  2018-08-17      0.00     1000\n",
       "2  1000_2  2018-06-11      2.85     1000\n",
       "3  1000_3  2018-09-21     13.80     1000\n",
       "4  1000_4  2018-12-15      5.18     1000"
      ]
     },
     "execution_count": 6,
     "metadata": {},
     "output_type": "execute_result"
    }
   ],
   "source": [
    "# таблица со звонками\n",
    "calls.head()"
   ]
  },
  {
   "cell_type": "code",
   "execution_count": 7,
   "metadata": {},
   "outputs": [
    {
     "name": "stdout",
     "output_type": "stream",
     "text": [
      "<class 'pandas.core.frame.DataFrame'>\n",
      "RangeIndex: 202607 entries, 0 to 202606\n",
      "Data columns (total 4 columns):\n",
      " #   Column     Non-Null Count   Dtype  \n",
      "---  ------     --------------   -----  \n",
      " 0   id         202607 non-null  object \n",
      " 1   call_date  202607 non-null  object \n",
      " 2   duration   202607 non-null  float64\n",
      " 3   user_id    202607 non-null  int64  \n",
      "dtypes: float64(1), int64(1), object(2)\n",
      "memory usage: 6.2+ MB\n"
     ]
    }
   ],
   "source": [
    "# общая информация\n",
    "calls.info()"
   ]
  },
  {
   "cell_type": "code",
   "execution_count": 8,
   "metadata": {},
   "outputs": [
    {
     "data": {
      "text/plain": [
       "0"
      ]
     },
     "execution_count": 8,
     "metadata": {},
     "output_type": "execute_result"
    }
   ],
   "source": [
    "# проверка дубликатов\n",
    "calls.duplicated().sum()"
   ]
  },
  {
   "cell_type": "markdown",
   "metadata": {},
   "source": [
    "В данной таблице:\n",
    "\n",
    "* столбец `call_date` должен иметь тип `datetime`;\n",
    "* есть звонки с нулевой продолжительностью (`duration`) - это пропущенные звонки, удалять не будем."
   ]
  },
  {
   "cell_type": "code",
   "execution_count": 9,
   "metadata": {},
   "outputs": [
    {
     "data": {
      "text/html": [
       "<div>\n",
       "<style scoped>\n",
       "    .dataframe tbody tr th:only-of-type {\n",
       "        vertical-align: middle;\n",
       "    }\n",
       "\n",
       "    .dataframe tbody tr th {\n",
       "        vertical-align: top;\n",
       "    }\n",
       "\n",
       "    .dataframe thead th {\n",
       "        text-align: right;\n",
       "    }\n",
       "</style>\n",
       "<table border=\"1\" class=\"dataframe\">\n",
       "  <thead>\n",
       "    <tr style=\"text-align: right;\">\n",
       "      <th></th>\n",
       "      <th>id</th>\n",
       "      <th>message_date</th>\n",
       "      <th>user_id</th>\n",
       "    </tr>\n",
       "  </thead>\n",
       "  <tbody>\n",
       "    <tr>\n",
       "      <th>0</th>\n",
       "      <td>1000_0</td>\n",
       "      <td>2018-06-27</td>\n",
       "      <td>1000</td>\n",
       "    </tr>\n",
       "    <tr>\n",
       "      <th>1</th>\n",
       "      <td>1000_1</td>\n",
       "      <td>2018-10-08</td>\n",
       "      <td>1000</td>\n",
       "    </tr>\n",
       "    <tr>\n",
       "      <th>2</th>\n",
       "      <td>1000_2</td>\n",
       "      <td>2018-08-04</td>\n",
       "      <td>1000</td>\n",
       "    </tr>\n",
       "    <tr>\n",
       "      <th>3</th>\n",
       "      <td>1000_3</td>\n",
       "      <td>2018-06-16</td>\n",
       "      <td>1000</td>\n",
       "    </tr>\n",
       "    <tr>\n",
       "      <th>4</th>\n",
       "      <td>1000_4</td>\n",
       "      <td>2018-12-05</td>\n",
       "      <td>1000</td>\n",
       "    </tr>\n",
       "  </tbody>\n",
       "</table>\n",
       "</div>"
      ],
      "text/plain": [
       "       id message_date  user_id\n",
       "0  1000_0   2018-06-27     1000\n",
       "1  1000_1   2018-10-08     1000\n",
       "2  1000_2   2018-08-04     1000\n",
       "3  1000_3   2018-06-16     1000\n",
       "4  1000_4   2018-12-05     1000"
      ]
     },
     "execution_count": 9,
     "metadata": {},
     "output_type": "execute_result"
    }
   ],
   "source": [
    "# таблица с сообщениями\n",
    "messages.head()"
   ]
  },
  {
   "cell_type": "code",
   "execution_count": 10,
   "metadata": {},
   "outputs": [
    {
     "name": "stdout",
     "output_type": "stream",
     "text": [
      "<class 'pandas.core.frame.DataFrame'>\n",
      "RangeIndex: 123036 entries, 0 to 123035\n",
      "Data columns (total 3 columns):\n",
      " #   Column        Non-Null Count   Dtype \n",
      "---  ------        --------------   ----- \n",
      " 0   id            123036 non-null  object\n",
      " 1   message_date  123036 non-null  object\n",
      " 2   user_id       123036 non-null  int64 \n",
      "dtypes: int64(1), object(2)\n",
      "memory usage: 2.8+ MB\n"
     ]
    }
   ],
   "source": [
    "# общая информация\n",
    "messages.info()"
   ]
  },
  {
   "cell_type": "code",
   "execution_count": 11,
   "metadata": {},
   "outputs": [
    {
     "data": {
      "text/plain": [
       "0"
      ]
     },
     "execution_count": 11,
     "metadata": {},
     "output_type": "execute_result"
    }
   ],
   "source": [
    "# проверка дубликатов\n",
    "messages.duplicated().sum()"
   ]
  },
  {
   "cell_type": "markdown",
   "metadata": {},
   "source": [
    "В данной таблице столбец `message_date` должен иметь тип `datetime`."
   ]
  },
  {
   "cell_type": "code",
   "execution_count": 12,
   "metadata": {},
   "outputs": [
    {
     "data": {
      "text/html": [
       "<div>\n",
       "<style scoped>\n",
       "    .dataframe tbody tr th:only-of-type {\n",
       "        vertical-align: middle;\n",
       "    }\n",
       "\n",
       "    .dataframe tbody tr th {\n",
       "        vertical-align: top;\n",
       "    }\n",
       "\n",
       "    .dataframe thead th {\n",
       "        text-align: right;\n",
       "    }\n",
       "</style>\n",
       "<table border=\"1\" class=\"dataframe\">\n",
       "  <thead>\n",
       "    <tr style=\"text-align: right;\">\n",
       "      <th></th>\n",
       "      <th>Unnamed: 0</th>\n",
       "      <th>id</th>\n",
       "      <th>mb_used</th>\n",
       "      <th>session_date</th>\n",
       "      <th>user_id</th>\n",
       "    </tr>\n",
       "  </thead>\n",
       "  <tbody>\n",
       "    <tr>\n",
       "      <th>0</th>\n",
       "      <td>0</td>\n",
       "      <td>1000_0</td>\n",
       "      <td>112.95</td>\n",
       "      <td>2018-11-25</td>\n",
       "      <td>1000</td>\n",
       "    </tr>\n",
       "    <tr>\n",
       "      <th>1</th>\n",
       "      <td>1</td>\n",
       "      <td>1000_1</td>\n",
       "      <td>1052.81</td>\n",
       "      <td>2018-09-07</td>\n",
       "      <td>1000</td>\n",
       "    </tr>\n",
       "    <tr>\n",
       "      <th>2</th>\n",
       "      <td>2</td>\n",
       "      <td>1000_2</td>\n",
       "      <td>1197.26</td>\n",
       "      <td>2018-06-25</td>\n",
       "      <td>1000</td>\n",
       "    </tr>\n",
       "    <tr>\n",
       "      <th>3</th>\n",
       "      <td>3</td>\n",
       "      <td>1000_3</td>\n",
       "      <td>550.27</td>\n",
       "      <td>2018-08-22</td>\n",
       "      <td>1000</td>\n",
       "    </tr>\n",
       "    <tr>\n",
       "      <th>4</th>\n",
       "      <td>4</td>\n",
       "      <td>1000_4</td>\n",
       "      <td>302.56</td>\n",
       "      <td>2018-09-24</td>\n",
       "      <td>1000</td>\n",
       "    </tr>\n",
       "  </tbody>\n",
       "</table>\n",
       "</div>"
      ],
      "text/plain": [
       "   Unnamed: 0      id  mb_used session_date  user_id\n",
       "0           0  1000_0   112.95   2018-11-25     1000\n",
       "1           1  1000_1  1052.81   2018-09-07     1000\n",
       "2           2  1000_2  1197.26   2018-06-25     1000\n",
       "3           3  1000_3   550.27   2018-08-22     1000\n",
       "4           4  1000_4   302.56   2018-09-24     1000"
      ]
     },
     "execution_count": 12,
     "metadata": {},
     "output_type": "execute_result"
    }
   ],
   "source": [
    "# таблица с интернет-сессиями\n",
    "internet.head()"
   ]
  },
  {
   "cell_type": "code",
   "execution_count": 13,
   "metadata": {},
   "outputs": [
    {
     "name": "stdout",
     "output_type": "stream",
     "text": [
      "<class 'pandas.core.frame.DataFrame'>\n",
      "RangeIndex: 149396 entries, 0 to 149395\n",
      "Data columns (total 5 columns):\n",
      " #   Column        Non-Null Count   Dtype  \n",
      "---  ------        --------------   -----  \n",
      " 0   Unnamed: 0    149396 non-null  int64  \n",
      " 1   id            149396 non-null  object \n",
      " 2   mb_used       149396 non-null  float64\n",
      " 3   session_date  149396 non-null  object \n",
      " 4   user_id       149396 non-null  int64  \n",
      "dtypes: float64(1), int64(2), object(2)\n",
      "memory usage: 5.7+ MB\n"
     ]
    }
   ],
   "source": [
    "# общая информация\n",
    "internet.info()"
   ]
  },
  {
   "cell_type": "code",
   "execution_count": 14,
   "metadata": {},
   "outputs": [
    {
     "data": {
      "text/plain": [
       "0"
      ]
     },
     "execution_count": 14,
     "metadata": {},
     "output_type": "execute_result"
    }
   ],
   "source": [
    "# проверка дубликатов\n",
    "internet.duplicated().sum()"
   ]
  },
  {
   "cell_type": "markdown",
   "metadata": {},
   "source": [
    "В данной таблице:\n",
    "\n",
    "* столбец `session_date` должен иметь тип `datetime`;\n",
    "* столбец `Unnamed: 0` дублирует уже существующие индексы - он некорректен и должен быть удален."
   ]
  },
  {
   "cell_type": "code",
   "execution_count": 15,
   "metadata": {},
   "outputs": [
    {
     "data": {
      "text/html": [
       "<div>\n",
       "<style scoped>\n",
       "    .dataframe tbody tr th:only-of-type {\n",
       "        vertical-align: middle;\n",
       "    }\n",
       "\n",
       "    .dataframe tbody tr th {\n",
       "        vertical-align: top;\n",
       "    }\n",
       "\n",
       "    .dataframe thead th {\n",
       "        text-align: right;\n",
       "    }\n",
       "</style>\n",
       "<table border=\"1\" class=\"dataframe\">\n",
       "  <thead>\n",
       "    <tr style=\"text-align: right;\">\n",
       "      <th></th>\n",
       "      <th>messages_included</th>\n",
       "      <th>mb_per_month_included</th>\n",
       "      <th>minutes_included</th>\n",
       "      <th>rub_monthly_fee</th>\n",
       "      <th>rub_per_gb</th>\n",
       "      <th>rub_per_message</th>\n",
       "      <th>rub_per_minute</th>\n",
       "      <th>tariff_name</th>\n",
       "    </tr>\n",
       "  </thead>\n",
       "  <tbody>\n",
       "    <tr>\n",
       "      <th>0</th>\n",
       "      <td>50</td>\n",
       "      <td>15360</td>\n",
       "      <td>500</td>\n",
       "      <td>550</td>\n",
       "      <td>200</td>\n",
       "      <td>3</td>\n",
       "      <td>3</td>\n",
       "      <td>smart</td>\n",
       "    </tr>\n",
       "    <tr>\n",
       "      <th>1</th>\n",
       "      <td>1000</td>\n",
       "      <td>30720</td>\n",
       "      <td>3000</td>\n",
       "      <td>1950</td>\n",
       "      <td>150</td>\n",
       "      <td>1</td>\n",
       "      <td>1</td>\n",
       "      <td>ultra</td>\n",
       "    </tr>\n",
       "  </tbody>\n",
       "</table>\n",
       "</div>"
      ],
      "text/plain": [
       "   messages_included  mb_per_month_included  minutes_included  \\\n",
       "0                 50                  15360               500   \n",
       "1               1000                  30720              3000   \n",
       "\n",
       "   rub_monthly_fee  rub_per_gb  rub_per_message  rub_per_minute tariff_name  \n",
       "0              550         200                3               3       smart  \n",
       "1             1950         150                1               1       ultra  "
      ]
     },
     "execution_count": 15,
     "metadata": {},
     "output_type": "execute_result"
    }
   ],
   "source": [
    "# таблица с тарифами\n",
    "tariffs.head()"
   ]
  },
  {
   "cell_type": "code",
   "execution_count": 16,
   "metadata": {},
   "outputs": [
    {
     "name": "stdout",
     "output_type": "stream",
     "text": [
      "<class 'pandas.core.frame.DataFrame'>\n",
      "RangeIndex: 2 entries, 0 to 1\n",
      "Data columns (total 8 columns):\n",
      " #   Column                 Non-Null Count  Dtype \n",
      "---  ------                 --------------  ----- \n",
      " 0   messages_included      2 non-null      int64 \n",
      " 1   mb_per_month_included  2 non-null      int64 \n",
      " 2   minutes_included       2 non-null      int64 \n",
      " 3   rub_monthly_fee        2 non-null      int64 \n",
      " 4   rub_per_gb             2 non-null      int64 \n",
      " 5   rub_per_message        2 non-null      int64 \n",
      " 6   rub_per_minute         2 non-null      int64 \n",
      " 7   tariff_name            2 non-null      object\n",
      "dtypes: int64(7), object(1)\n",
      "memory usage: 256.0+ bytes\n"
     ]
    }
   ],
   "source": [
    "# общая информация\n",
    "tariffs.info()"
   ]
  },
  {
   "cell_type": "code",
   "execution_count": 17,
   "metadata": {},
   "outputs": [
    {
     "data": {
      "text/plain": [
       "0"
      ]
     },
     "execution_count": 17,
     "metadata": {},
     "output_type": "execute_result"
    }
   ],
   "source": [
    "# проверка дубликатов\n",
    "tariffs.duplicated().sum()"
   ]
  },
  {
   "cell_type": "markdown",
   "metadata": {},
   "source": [
    "# Вывод №1"
   ]
  },
  {
   "cell_type": "markdown",
   "metadata": {},
   "source": [
    "Дубликатов в данных нет. С пропущенными значениями работать не нужно. Проблема только с типом данных в столбцах с датами. Исправим это на следующем этапе. "
   ]
  },
  {
   "cell_type": "markdown",
   "metadata": {},
   "source": [
    "# Шаг 2. Подготовка данных"
   ]
  },
  {
   "cell_type": "markdown",
   "metadata": {},
   "source": [
    "На этом этапе нужно:\n",
    "\n",
    "* привести данные к нужным типам;\n",
    "* исправить ошибки в данных.\n",
    "\n",
    "Есть несколько задач. Нужно посчитать для каждого пользователя:\n",
    "\n",
    "* количество сделанных звонков и израсходованных минут разговора по месяцам;\n",
    "* количество отправленных сообщений по месяцам;\n",
    "* объем израсходованного интернет-трафика по месяцам;\n",
    "* помесячную выручку с каждого пользователя (вычесть бесплатный лимит из суммарного количества звонков, сообщений и интернет-трафика; остаток умножить на значение из тарифного плана; прибавить абонентскую плату, соответствующую тарифному плану)."
   ]
  },
  {
   "cell_type": "code",
   "execution_count": 18,
   "metadata": {},
   "outputs": [
    {
     "data": {
      "text/html": [
       "<div>\n",
       "<style scoped>\n",
       "    .dataframe tbody tr th:only-of-type {\n",
       "        vertical-align: middle;\n",
       "    }\n",
       "\n",
       "    .dataframe tbody tr th {\n",
       "        vertical-align: top;\n",
       "    }\n",
       "\n",
       "    .dataframe thead th {\n",
       "        text-align: right;\n",
       "    }\n",
       "</style>\n",
       "<table border=\"1\" class=\"dataframe\">\n",
       "  <thead>\n",
       "    <tr style=\"text-align: right;\">\n",
       "      <th></th>\n",
       "      <th>id</th>\n",
       "      <th>mb_used</th>\n",
       "      <th>session_date</th>\n",
       "      <th>user_id</th>\n",
       "    </tr>\n",
       "  </thead>\n",
       "  <tbody>\n",
       "    <tr>\n",
       "      <th>0</th>\n",
       "      <td>1000_0</td>\n",
       "      <td>112.95</td>\n",
       "      <td>2018-11-25</td>\n",
       "      <td>1000</td>\n",
       "    </tr>\n",
       "    <tr>\n",
       "      <th>1</th>\n",
       "      <td>1000_1</td>\n",
       "      <td>1052.81</td>\n",
       "      <td>2018-09-07</td>\n",
       "      <td>1000</td>\n",
       "    </tr>\n",
       "    <tr>\n",
       "      <th>2</th>\n",
       "      <td>1000_2</td>\n",
       "      <td>1197.26</td>\n",
       "      <td>2018-06-25</td>\n",
       "      <td>1000</td>\n",
       "    </tr>\n",
       "    <tr>\n",
       "      <th>3</th>\n",
       "      <td>1000_3</td>\n",
       "      <td>550.27</td>\n",
       "      <td>2018-08-22</td>\n",
       "      <td>1000</td>\n",
       "    </tr>\n",
       "    <tr>\n",
       "      <th>4</th>\n",
       "      <td>1000_4</td>\n",
       "      <td>302.56</td>\n",
       "      <td>2018-09-24</td>\n",
       "      <td>1000</td>\n",
       "    </tr>\n",
       "  </tbody>\n",
       "</table>\n",
       "</div>"
      ],
      "text/plain": [
       "       id  mb_used session_date  user_id\n",
       "0  1000_0   112.95   2018-11-25     1000\n",
       "1  1000_1  1052.81   2018-09-07     1000\n",
       "2  1000_2  1197.26   2018-06-25     1000\n",
       "3  1000_3   550.27   2018-08-22     1000\n",
       "4  1000_4   302.56   2018-09-24     1000"
      ]
     },
     "execution_count": 18,
     "metadata": {},
     "output_type": "execute_result"
    }
   ],
   "source": [
    "# удаление лишнего столбца\n",
    "internet.drop('Unnamed: 0', axis = 1, inplace = True)\n",
    "internet.head()"
   ]
  },
  {
   "cell_type": "code",
   "execution_count": 19,
   "metadata": {},
   "outputs": [],
   "source": [
    "# изменение типа на datetime\n",
    "users['churn_date'] = pd.to_datetime(users['churn_date'], format = '%Y-%m-%d')\n",
    "users['reg_date'] = pd.to_datetime(users['reg_date'], format = '%Y-%m-%d')\n",
    "calls['call_date'] = pd.to_datetime(calls['call_date'], format = '%Y-%m-%d')\n",
    "messages['message_date'] = pd.to_datetime(messages['message_date'], format = '%Y-%m-%d')\n",
    "internet['session_date'] = pd.to_datetime(internet['session_date'], format = '%Y-%m-%d')"
   ]
  },
  {
   "cell_type": "markdown",
   "metadata": {},
   "source": [
    "Так как будет необходимо считать звонки, минуты, сообщения и интернет-трафик по месяцам, создадим соответствующие столбцы."
   ]
  },
  {
   "cell_type": "code",
   "execution_count": 20,
   "metadata": {},
   "outputs": [],
   "source": [
    "# добавление столбцов с месяцами\n",
    "calls['month'] = calls['call_date'].astype('datetime64[M]')\n",
    "messages['month'] = messages['message_date'].astype('datetime64[M]')\n",
    "internet['month'] = internet['session_date'].astype('datetime64[M]')"
   ]
  },
  {
   "cell_type": "markdown",
   "metadata": {},
   "source": [
    "«Мегалайн» всегда округляет секунды до минут, а мегабайты — до гигабайт. Необходимо отразить это в данных."
   ]
  },
  {
   "cell_type": "code",
   "execution_count": 21,
   "metadata": {},
   "outputs": [],
   "source": [
    "# округление секунд\n",
    "calls['rounded_duration'] = np.ceil(calls['duration'])\n",
    "calls['rounded_duration'] = calls['rounded_duration'].astype(int)"
   ]
  },
  {
   "cell_type": "markdown",
   "metadata": {},
   "source": [
    "Одна из задач - для каждого пользователя рассчитать количество сделанных звонков и израсходованных минут разговора по месяцам. Для этого нужно создать сводную таблицу и применить функции `count` и `sum`:"
   ]
  },
  {
   "cell_type": "code",
   "execution_count": 22,
   "metadata": {},
   "outputs": [
    {
     "data": {
      "text/html": [
       "<div>\n",
       "<style scoped>\n",
       "    .dataframe tbody tr th:only-of-type {\n",
       "        vertical-align: middle;\n",
       "    }\n",
       "\n",
       "    .dataframe tbody tr th {\n",
       "        vertical-align: top;\n",
       "    }\n",
       "\n",
       "    .dataframe thead tr th {\n",
       "        text-align: left;\n",
       "    }\n",
       "\n",
       "    .dataframe thead tr:last-of-type th {\n",
       "        text-align: right;\n",
       "    }\n",
       "</style>\n",
       "<table border=\"1\" class=\"dataframe\">\n",
       "  <thead>\n",
       "    <tr>\n",
       "      <th></th>\n",
       "      <th></th>\n",
       "      <th>count</th>\n",
       "      <th>sum</th>\n",
       "    </tr>\n",
       "    <tr>\n",
       "      <th></th>\n",
       "      <th></th>\n",
       "      <th>rounded_duration</th>\n",
       "      <th>rounded_duration</th>\n",
       "    </tr>\n",
       "    <tr>\n",
       "      <th>user_id</th>\n",
       "      <th>month</th>\n",
       "      <th></th>\n",
       "      <th></th>\n",
       "    </tr>\n",
       "  </thead>\n",
       "  <tbody>\n",
       "    <tr>\n",
       "      <th rowspan=\"8\" valign=\"top\">1000</th>\n",
       "      <th>2018-05-01</th>\n",
       "      <td>22</td>\n",
       "      <td>159</td>\n",
       "    </tr>\n",
       "    <tr>\n",
       "      <th>2018-06-01</th>\n",
       "      <td>43</td>\n",
       "      <td>172</td>\n",
       "    </tr>\n",
       "    <tr>\n",
       "      <th>2018-07-01</th>\n",
       "      <td>47</td>\n",
       "      <td>340</td>\n",
       "    </tr>\n",
       "    <tr>\n",
       "      <th>2018-08-01</th>\n",
       "      <td>52</td>\n",
       "      <td>408</td>\n",
       "    </tr>\n",
       "    <tr>\n",
       "      <th>2018-09-01</th>\n",
       "      <td>58</td>\n",
       "      <td>466</td>\n",
       "    </tr>\n",
       "    <tr>\n",
       "      <th>2018-10-01</th>\n",
       "      <td>57</td>\n",
       "      <td>350</td>\n",
       "    </tr>\n",
       "    <tr>\n",
       "      <th>2018-11-01</th>\n",
       "      <td>43</td>\n",
       "      <td>338</td>\n",
       "    </tr>\n",
       "    <tr>\n",
       "      <th>2018-12-01</th>\n",
       "      <td>46</td>\n",
       "      <td>333</td>\n",
       "    </tr>\n",
       "    <tr>\n",
       "      <th rowspan=\"2\" valign=\"top\">1001</th>\n",
       "      <th>2018-11-01</th>\n",
       "      <td>59</td>\n",
       "      <td>430</td>\n",
       "    </tr>\n",
       "    <tr>\n",
       "      <th>2018-12-01</th>\n",
       "      <td>63</td>\n",
       "      <td>414</td>\n",
       "    </tr>\n",
       "  </tbody>\n",
       "</table>\n",
       "</div>"
      ],
      "text/plain": [
       "                              count              sum\n",
       "                   rounded_duration rounded_duration\n",
       "user_id month                                       \n",
       "1000    2018-05-01               22              159\n",
       "        2018-06-01               43              172\n",
       "        2018-07-01               47              340\n",
       "        2018-08-01               52              408\n",
       "        2018-09-01               58              466\n",
       "        2018-10-01               57              350\n",
       "        2018-11-01               43              338\n",
       "        2018-12-01               46              333\n",
       "1001    2018-11-01               59              430\n",
       "        2018-12-01               63              414"
      ]
     },
     "execution_count": 22,
     "metadata": {},
     "output_type": "execute_result"
    }
   ],
   "source": [
    "# свобная таблица звонков по пользователям и месяцам\n",
    "pivot_calls = calls.pivot_table(index = ['user_id','month'], values = 'rounded_duration' , aggfunc = ['count','sum'])\n",
    "pivot_calls.head(10)"
   ]
  },
  {
   "cell_type": "markdown",
   "metadata": {},
   "source": [
    "Таблица готова. Пользователь с номером 1001, например, в ноябре сделал 59 звонков общей длительностью 430 минут.\n",
    "\n",
    "Следующая задача - посчитать для каждого пользователя количество отправленных сообщений по месяцам. Алгоритм такой же, но считаем только количество без суммы."
   ]
  },
  {
   "cell_type": "code",
   "execution_count": 23,
   "metadata": {},
   "outputs": [
    {
     "data": {
      "text/html": [
       "<div>\n",
       "<style scoped>\n",
       "    .dataframe tbody tr th:only-of-type {\n",
       "        vertical-align: middle;\n",
       "    }\n",
       "\n",
       "    .dataframe tbody tr th {\n",
       "        vertical-align: top;\n",
       "    }\n",
       "\n",
       "    .dataframe thead tr th {\n",
       "        text-align: left;\n",
       "    }\n",
       "\n",
       "    .dataframe thead tr:last-of-type th {\n",
       "        text-align: right;\n",
       "    }\n",
       "</style>\n",
       "<table border=\"1\" class=\"dataframe\">\n",
       "  <thead>\n",
       "    <tr>\n",
       "      <th></th>\n",
       "      <th></th>\n",
       "      <th>count</th>\n",
       "    </tr>\n",
       "    <tr>\n",
       "      <th></th>\n",
       "      <th></th>\n",
       "      <th>id</th>\n",
       "    </tr>\n",
       "    <tr>\n",
       "      <th>user_id</th>\n",
       "      <th>month</th>\n",
       "      <th></th>\n",
       "    </tr>\n",
       "  </thead>\n",
       "  <tbody>\n",
       "    <tr>\n",
       "      <th rowspan=\"8\" valign=\"top\">1000</th>\n",
       "      <th>2018-05-01</th>\n",
       "      <td>22</td>\n",
       "    </tr>\n",
       "    <tr>\n",
       "      <th>2018-06-01</th>\n",
       "      <td>60</td>\n",
       "    </tr>\n",
       "    <tr>\n",
       "      <th>2018-07-01</th>\n",
       "      <td>75</td>\n",
       "    </tr>\n",
       "    <tr>\n",
       "      <th>2018-08-01</th>\n",
       "      <td>81</td>\n",
       "    </tr>\n",
       "    <tr>\n",
       "      <th>2018-09-01</th>\n",
       "      <td>57</td>\n",
       "    </tr>\n",
       "    <tr>\n",
       "      <th>2018-10-01</th>\n",
       "      <td>73</td>\n",
       "    </tr>\n",
       "    <tr>\n",
       "      <th>2018-11-01</th>\n",
       "      <td>58</td>\n",
       "    </tr>\n",
       "    <tr>\n",
       "      <th>2018-12-01</th>\n",
       "      <td>70</td>\n",
       "    </tr>\n",
       "    <tr>\n",
       "      <th rowspan=\"2\" valign=\"top\">1002</th>\n",
       "      <th>2018-06-01</th>\n",
       "      <td>4</td>\n",
       "    </tr>\n",
       "    <tr>\n",
       "      <th>2018-07-01</th>\n",
       "      <td>11</td>\n",
       "    </tr>\n",
       "  </tbody>\n",
       "</table>\n",
       "</div>"
      ],
      "text/plain": [
       "                   count\n",
       "                      id\n",
       "user_id month           \n",
       "1000    2018-05-01    22\n",
       "        2018-06-01    60\n",
       "        2018-07-01    75\n",
       "        2018-08-01    81\n",
       "        2018-09-01    57\n",
       "        2018-10-01    73\n",
       "        2018-11-01    58\n",
       "        2018-12-01    70\n",
       "1002    2018-06-01     4\n",
       "        2018-07-01    11"
      ]
     },
     "execution_count": 23,
     "metadata": {},
     "output_type": "execute_result"
    }
   ],
   "source": [
    "# свобная таблица сообщений по пользователям и месяцам\n",
    "pivot_messages = messages.pivot_table(index = ['user_id','month'], values = 'id', aggfunc = ['count'])\n",
    "pivot_messages.head(10)"
   ]
  },
  {
   "cell_type": "markdown",
   "metadata": {},
   "source": [
    "Пользователь с номером 1002 в июне 2018 года отправил 4 сообщения.\n",
    "\n",
    "Теперь считаем объем израсходованного интернет-трафика по месяцам. Выводим сумму трафика."
   ]
  },
  {
   "cell_type": "code",
   "execution_count": 24,
   "metadata": {},
   "outputs": [
    {
     "data": {
      "text/html": [
       "<div>\n",
       "<style scoped>\n",
       "    .dataframe tbody tr th:only-of-type {\n",
       "        vertical-align: middle;\n",
       "    }\n",
       "\n",
       "    .dataframe tbody tr th {\n",
       "        vertical-align: top;\n",
       "    }\n",
       "\n",
       "    .dataframe thead tr th {\n",
       "        text-align: left;\n",
       "    }\n",
       "\n",
       "    .dataframe thead tr:last-of-type th {\n",
       "        text-align: right;\n",
       "    }\n",
       "</style>\n",
       "<table border=\"1\" class=\"dataframe\">\n",
       "  <thead>\n",
       "    <tr>\n",
       "      <th></th>\n",
       "      <th></th>\n",
       "      <th>sum</th>\n",
       "    </tr>\n",
       "    <tr>\n",
       "      <th></th>\n",
       "      <th></th>\n",
       "      <th>gb_used</th>\n",
       "    </tr>\n",
       "    <tr>\n",
       "      <th>user_id</th>\n",
       "      <th>month</th>\n",
       "      <th></th>\n",
       "    </tr>\n",
       "  </thead>\n",
       "  <tbody>\n",
       "    <tr>\n",
       "      <th rowspan=\"8\" valign=\"top\">1000</th>\n",
       "      <th>2018-05-01</th>\n",
       "      <td>4</td>\n",
       "    </tr>\n",
       "    <tr>\n",
       "      <th>2018-06-01</th>\n",
       "      <td>49</td>\n",
       "    </tr>\n",
       "    <tr>\n",
       "      <th>2018-07-01</th>\n",
       "      <td>28</td>\n",
       "    </tr>\n",
       "    <tr>\n",
       "      <th>2018-08-01</th>\n",
       "      <td>27</td>\n",
       "    </tr>\n",
       "    <tr>\n",
       "      <th>2018-09-01</th>\n",
       "      <td>26</td>\n",
       "    </tr>\n",
       "    <tr>\n",
       "      <th>2018-10-01</th>\n",
       "      <td>28</td>\n",
       "    </tr>\n",
       "    <tr>\n",
       "      <th>2018-11-01</th>\n",
       "      <td>27</td>\n",
       "    </tr>\n",
       "    <tr>\n",
       "      <th>2018-12-01</th>\n",
       "      <td>19</td>\n",
       "    </tr>\n",
       "    <tr>\n",
       "      <th rowspan=\"2\" valign=\"top\">1001</th>\n",
       "      <th>2018-11-01</th>\n",
       "      <td>47</td>\n",
       "    </tr>\n",
       "    <tr>\n",
       "      <th>2018-12-01</th>\n",
       "      <td>35</td>\n",
       "    </tr>\n",
       "  </tbody>\n",
       "</table>\n",
       "</div>"
      ],
      "text/plain": [
       "                       sum\n",
       "                   gb_used\n",
       "user_id month             \n",
       "1000    2018-05-01       4\n",
       "        2018-06-01      49\n",
       "        2018-07-01      28\n",
       "        2018-08-01      27\n",
       "        2018-09-01      26\n",
       "        2018-10-01      28\n",
       "        2018-11-01      27\n",
       "        2018-12-01      19\n",
       "1001    2018-11-01      47\n",
       "        2018-12-01      35"
      ]
     },
     "execution_count": 24,
     "metadata": {},
     "output_type": "execute_result"
    }
   ],
   "source": [
    "# округление мегабайт\n",
    "internet['gb_used'] = np.ceil(internet['mb_used'] / 1024)\n",
    "internet['gb_used'] = internet['gb_used'].astype(int)\n",
    "# свобная таблица интернет-трафика по пользователям и месяцам\n",
    "pivot_internet = internet.pivot_table(index = ['user_id','month'], values = 'gb_used', aggfunc = ['sum'])\n",
    "pivot_internet.head(10)"
   ]
  },
  {
   "cell_type": "markdown",
   "metadata": {},
   "source": [
    "Пользователь с номером 1000 в декабре 2018 года использовал 19 ГБ интернет-трафика.\n",
    "\n",
    "Последняя задача на этом шаге - нужно посчитать помесячную выручку с каждого пользователя:\n",
    "* вычесть бесплатный лимит из суммарного количества звонков, сообщений и интернет-трафика; \n",
    "* остаток умножить на значение из тарифного плана; \n",
    "* прибавить абонентскую плату, соответствующую тарифному плану."
   ]
  },
  {
   "cell_type": "code",
   "execution_count": 25,
   "metadata": {},
   "outputs": [
    {
     "data": {
      "text/html": [
       "<div>\n",
       "<style scoped>\n",
       "    .dataframe tbody tr th:only-of-type {\n",
       "        vertical-align: middle;\n",
       "    }\n",
       "\n",
       "    .dataframe tbody tr th {\n",
       "        vertical-align: top;\n",
       "    }\n",
       "\n",
       "    .dataframe thead th {\n",
       "        text-align: right;\n",
       "    }\n",
       "</style>\n",
       "<table border=\"1\" class=\"dataframe\">\n",
       "  <thead>\n",
       "    <tr style=\"text-align: right;\">\n",
       "      <th></th>\n",
       "      <th></th>\n",
       "      <th>calls_count</th>\n",
       "      <th>calls_minutes</th>\n",
       "      <th>messages_count</th>\n",
       "      <th>gb_used</th>\n",
       "    </tr>\n",
       "    <tr>\n",
       "      <th>user_id</th>\n",
       "      <th>month</th>\n",
       "      <th></th>\n",
       "      <th></th>\n",
       "      <th></th>\n",
       "      <th></th>\n",
       "    </tr>\n",
       "  </thead>\n",
       "  <tbody>\n",
       "    <tr>\n",
       "      <th rowspan=\"8\" valign=\"top\">1000</th>\n",
       "      <th>2018-05-01</th>\n",
       "      <td>22.0</td>\n",
       "      <td>159.0</td>\n",
       "      <td>22.0</td>\n",
       "      <td>4.0</td>\n",
       "    </tr>\n",
       "    <tr>\n",
       "      <th>2018-06-01</th>\n",
       "      <td>43.0</td>\n",
       "      <td>172.0</td>\n",
       "      <td>60.0</td>\n",
       "      <td>49.0</td>\n",
       "    </tr>\n",
       "    <tr>\n",
       "      <th>2018-07-01</th>\n",
       "      <td>47.0</td>\n",
       "      <td>340.0</td>\n",
       "      <td>75.0</td>\n",
       "      <td>28.0</td>\n",
       "    </tr>\n",
       "    <tr>\n",
       "      <th>2018-08-01</th>\n",
       "      <td>52.0</td>\n",
       "      <td>408.0</td>\n",
       "      <td>81.0</td>\n",
       "      <td>27.0</td>\n",
       "    </tr>\n",
       "    <tr>\n",
       "      <th>2018-09-01</th>\n",
       "      <td>58.0</td>\n",
       "      <td>466.0</td>\n",
       "      <td>57.0</td>\n",
       "      <td>26.0</td>\n",
       "    </tr>\n",
       "    <tr>\n",
       "      <th>2018-10-01</th>\n",
       "      <td>57.0</td>\n",
       "      <td>350.0</td>\n",
       "      <td>73.0</td>\n",
       "      <td>28.0</td>\n",
       "    </tr>\n",
       "    <tr>\n",
       "      <th>2018-11-01</th>\n",
       "      <td>43.0</td>\n",
       "      <td>338.0</td>\n",
       "      <td>58.0</td>\n",
       "      <td>27.0</td>\n",
       "    </tr>\n",
       "    <tr>\n",
       "      <th>2018-12-01</th>\n",
       "      <td>46.0</td>\n",
       "      <td>333.0</td>\n",
       "      <td>70.0</td>\n",
       "      <td>19.0</td>\n",
       "    </tr>\n",
       "    <tr>\n",
       "      <th rowspan=\"2\" valign=\"top\">1001</th>\n",
       "      <th>2018-11-01</th>\n",
       "      <td>59.0</td>\n",
       "      <td>430.0</td>\n",
       "      <td>NaN</td>\n",
       "      <td>47.0</td>\n",
       "    </tr>\n",
       "    <tr>\n",
       "      <th>2018-12-01</th>\n",
       "      <td>63.0</td>\n",
       "      <td>414.0</td>\n",
       "      <td>NaN</td>\n",
       "      <td>35.0</td>\n",
       "    </tr>\n",
       "  </tbody>\n",
       "</table>\n",
       "</div>"
      ],
      "text/plain": [
       "                    calls_count  calls_minutes  messages_count  gb_used\n",
       "user_id month                                                          \n",
       "1000    2018-05-01         22.0          159.0            22.0      4.0\n",
       "        2018-06-01         43.0          172.0            60.0     49.0\n",
       "        2018-07-01         47.0          340.0            75.0     28.0\n",
       "        2018-08-01         52.0          408.0            81.0     27.0\n",
       "        2018-09-01         58.0          466.0            57.0     26.0\n",
       "        2018-10-01         57.0          350.0            73.0     28.0\n",
       "        2018-11-01         43.0          338.0            58.0     27.0\n",
       "        2018-12-01         46.0          333.0            70.0     19.0\n",
       "1001    2018-11-01         59.0          430.0             NaN     47.0\n",
       "        2018-12-01         63.0          414.0             NaN     35.0"
      ]
     },
     "execution_count": 25,
     "metadata": {},
     "output_type": "execute_result"
    }
   ],
   "source": [
    "# соединение сгруппированных данных в один датасет\n",
    "megaline_data = pivot_calls.merge(pivot_messages, \n",
    "                                  on = ['user_id','month'], \n",
    "                                  how = 'outer').merge(pivot_internet,  \n",
    "                                                      on = ['user_id','month'], \n",
    "                                                      how = 'outer')\n",
    "# переименование столбцов\n",
    "megaline_data.columns = ['calls_count', 'calls_minutes', 'messages_count', 'gb_used']\n",
    "megaline_data.head(10)"
   ]
  },
  {
   "cell_type": "code",
   "execution_count": 26,
   "metadata": {},
   "outputs": [
    {
     "data": {
      "text/html": [
       "<div>\n",
       "<style scoped>\n",
       "    .dataframe tbody tr th:only-of-type {\n",
       "        vertical-align: middle;\n",
       "    }\n",
       "\n",
       "    .dataframe tbody tr th {\n",
       "        vertical-align: top;\n",
       "    }\n",
       "\n",
       "    .dataframe thead th {\n",
       "        text-align: right;\n",
       "    }\n",
       "</style>\n",
       "<table border=\"1\" class=\"dataframe\">\n",
       "  <thead>\n",
       "    <tr style=\"text-align: right;\">\n",
       "      <th></th>\n",
       "      <th>user_id</th>\n",
       "      <th>month</th>\n",
       "      <th>calls_count</th>\n",
       "      <th>calls_minutes</th>\n",
       "      <th>messages_count</th>\n",
       "      <th>gb_used</th>\n",
       "      <th>tariff</th>\n",
       "      <th>city</th>\n",
       "    </tr>\n",
       "  </thead>\n",
       "  <tbody>\n",
       "    <tr>\n",
       "      <th>0</th>\n",
       "      <td>1000</td>\n",
       "      <td>2018-05-01</td>\n",
       "      <td>22.0</td>\n",
       "      <td>159.0</td>\n",
       "      <td>22.0</td>\n",
       "      <td>4.0</td>\n",
       "      <td>ultra</td>\n",
       "      <td>Краснодар</td>\n",
       "    </tr>\n",
       "    <tr>\n",
       "      <th>1</th>\n",
       "      <td>1000</td>\n",
       "      <td>2018-06-01</td>\n",
       "      <td>43.0</td>\n",
       "      <td>172.0</td>\n",
       "      <td>60.0</td>\n",
       "      <td>49.0</td>\n",
       "      <td>ultra</td>\n",
       "      <td>Краснодар</td>\n",
       "    </tr>\n",
       "    <tr>\n",
       "      <th>2</th>\n",
       "      <td>1000</td>\n",
       "      <td>2018-07-01</td>\n",
       "      <td>47.0</td>\n",
       "      <td>340.0</td>\n",
       "      <td>75.0</td>\n",
       "      <td>28.0</td>\n",
       "      <td>ultra</td>\n",
       "      <td>Краснодар</td>\n",
       "    </tr>\n",
       "    <tr>\n",
       "      <th>3</th>\n",
       "      <td>1000</td>\n",
       "      <td>2018-08-01</td>\n",
       "      <td>52.0</td>\n",
       "      <td>408.0</td>\n",
       "      <td>81.0</td>\n",
       "      <td>27.0</td>\n",
       "      <td>ultra</td>\n",
       "      <td>Краснодар</td>\n",
       "    </tr>\n",
       "    <tr>\n",
       "      <th>4</th>\n",
       "      <td>1000</td>\n",
       "      <td>2018-09-01</td>\n",
       "      <td>58.0</td>\n",
       "      <td>466.0</td>\n",
       "      <td>57.0</td>\n",
       "      <td>26.0</td>\n",
       "      <td>ultra</td>\n",
       "      <td>Краснодар</td>\n",
       "    </tr>\n",
       "    <tr>\n",
       "      <th>5</th>\n",
       "      <td>1000</td>\n",
       "      <td>2018-10-01</td>\n",
       "      <td>57.0</td>\n",
       "      <td>350.0</td>\n",
       "      <td>73.0</td>\n",
       "      <td>28.0</td>\n",
       "      <td>ultra</td>\n",
       "      <td>Краснодар</td>\n",
       "    </tr>\n",
       "    <tr>\n",
       "      <th>6</th>\n",
       "      <td>1000</td>\n",
       "      <td>2018-11-01</td>\n",
       "      <td>43.0</td>\n",
       "      <td>338.0</td>\n",
       "      <td>58.0</td>\n",
       "      <td>27.0</td>\n",
       "      <td>ultra</td>\n",
       "      <td>Краснодар</td>\n",
       "    </tr>\n",
       "    <tr>\n",
       "      <th>7</th>\n",
       "      <td>1000</td>\n",
       "      <td>2018-12-01</td>\n",
       "      <td>46.0</td>\n",
       "      <td>333.0</td>\n",
       "      <td>70.0</td>\n",
       "      <td>19.0</td>\n",
       "      <td>ultra</td>\n",
       "      <td>Краснодар</td>\n",
       "    </tr>\n",
       "    <tr>\n",
       "      <th>8</th>\n",
       "      <td>1001</td>\n",
       "      <td>2018-11-01</td>\n",
       "      <td>59.0</td>\n",
       "      <td>430.0</td>\n",
       "      <td>0.0</td>\n",
       "      <td>47.0</td>\n",
       "      <td>smart</td>\n",
       "      <td>Москва</td>\n",
       "    </tr>\n",
       "    <tr>\n",
       "      <th>9</th>\n",
       "      <td>1001</td>\n",
       "      <td>2018-12-01</td>\n",
       "      <td>63.0</td>\n",
       "      <td>414.0</td>\n",
       "      <td>0.0</td>\n",
       "      <td>35.0</td>\n",
       "      <td>smart</td>\n",
       "      <td>Москва</td>\n",
       "    </tr>\n",
       "  </tbody>\n",
       "</table>\n",
       "</div>"
      ],
      "text/plain": [
       "   user_id      month  calls_count  calls_minutes  messages_count  gb_used  \\\n",
       "0     1000 2018-05-01         22.0          159.0            22.0      4.0   \n",
       "1     1000 2018-06-01         43.0          172.0            60.0     49.0   \n",
       "2     1000 2018-07-01         47.0          340.0            75.0     28.0   \n",
       "3     1000 2018-08-01         52.0          408.0            81.0     27.0   \n",
       "4     1000 2018-09-01         58.0          466.0            57.0     26.0   \n",
       "5     1000 2018-10-01         57.0          350.0            73.0     28.0   \n",
       "6     1000 2018-11-01         43.0          338.0            58.0     27.0   \n",
       "7     1000 2018-12-01         46.0          333.0            70.0     19.0   \n",
       "8     1001 2018-11-01         59.0          430.0             0.0     47.0   \n",
       "9     1001 2018-12-01         63.0          414.0             0.0     35.0   \n",
       "\n",
       "  tariff       city  \n",
       "0  ultra  Краснодар  \n",
       "1  ultra  Краснодар  \n",
       "2  ultra  Краснодар  \n",
       "3  ultra  Краснодар  \n",
       "4  ultra  Краснодар  \n",
       "5  ultra  Краснодар  \n",
       "6  ultra  Краснодар  \n",
       "7  ultra  Краснодар  \n",
       "8  smart     Москва  \n",
       "9  smart     Москва  "
      ]
     },
     "execution_count": 26,
     "metadata": {},
     "output_type": "execute_result"
    }
   ],
   "source": [
    "# отбор данных с идентификаторами пользователей и названиями тарифа\n",
    "pivot_users = users[['user_id', 'tariff', 'city']]\n",
    "\n",
    "# датасет для расчета выручки по месяцам и тарифам\n",
    "megaline_full_data = megaline_data.join(pivot_users.set_index('user_id'), \n",
    "                                        on = ['user_id'],\n",
    "                                        how = 'left').reset_index().fillna(0)\n",
    "megaline_full_data.head(10)"
   ]
  },
  {
   "cell_type": "markdown",
   "metadata": {},
   "source": [
    "Данные подготовлены. Выведем теперь таблицу с тарифами, чтобы была перед глазами, и приступим к расчетам."
   ]
  },
  {
   "cell_type": "markdown",
   "metadata": {},
   "source": [
    "**Таблица** `tariffs` (информация о тарифах):\n",
    "\n",
    "`tariff_name` — название тарифа\n",
    "\n",
    "`rub_monthly_fee` — ежемесячная абонентская плата в рублях\n",
    "\n",
    "`minutes_included` — количество минут разговора в месяц, включённых в абонентскую плату\n",
    "\n",
    "`messages_included` — количество сообщений в месяц, включённых в абонентскую плату\n",
    "\n",
    "`mb_per_month_included` — объём интернет-трафика, включённого в абонентскую плату (в мегабайтах)\n",
    "\n",
    "`rub_per_minute` — стоимость минуты разговора сверх тарифного пакета (например, если в тарифе 100 минут разговора в месяц, то со 101 минуты будет взиматься плата)\n",
    "\n",
    "`rub_per_message` — стоимость отправки сообщения сверх тарифного пакета\n",
    "\n",
    "`rub_per_gb` — стоимость дополнительного гигабайта интернет-трафика сверх тарифного пакета (1 гигабайт = 1024 мегабайта)"
   ]
  },
  {
   "cell_type": "code",
   "execution_count": 27,
   "metadata": {},
   "outputs": [
    {
     "data": {
      "text/html": [
       "<div>\n",
       "<style scoped>\n",
       "    .dataframe tbody tr th:only-of-type {\n",
       "        vertical-align: middle;\n",
       "    }\n",
       "\n",
       "    .dataframe tbody tr th {\n",
       "        vertical-align: top;\n",
       "    }\n",
       "\n",
       "    .dataframe thead th {\n",
       "        text-align: right;\n",
       "    }\n",
       "</style>\n",
       "<table border=\"1\" class=\"dataframe\">\n",
       "  <thead>\n",
       "    <tr style=\"text-align: right;\">\n",
       "      <th></th>\n",
       "      <th>messages_included</th>\n",
       "      <th>mb_per_month_included</th>\n",
       "      <th>minutes_included</th>\n",
       "      <th>rub_monthly_fee</th>\n",
       "      <th>rub_per_gb</th>\n",
       "      <th>rub_per_message</th>\n",
       "      <th>rub_per_minute</th>\n",
       "      <th>tariff_name</th>\n",
       "    </tr>\n",
       "  </thead>\n",
       "  <tbody>\n",
       "    <tr>\n",
       "      <th>0</th>\n",
       "      <td>50</td>\n",
       "      <td>15360</td>\n",
       "      <td>500</td>\n",
       "      <td>550</td>\n",
       "      <td>200</td>\n",
       "      <td>3</td>\n",
       "      <td>3</td>\n",
       "      <td>smart</td>\n",
       "    </tr>\n",
       "    <tr>\n",
       "      <th>1</th>\n",
       "      <td>1000</td>\n",
       "      <td>30720</td>\n",
       "      <td>3000</td>\n",
       "      <td>1950</td>\n",
       "      <td>150</td>\n",
       "      <td>1</td>\n",
       "      <td>1</td>\n",
       "      <td>ultra</td>\n",
       "    </tr>\n",
       "  </tbody>\n",
       "</table>\n",
       "</div>"
      ],
      "text/plain": [
       "   messages_included  mb_per_month_included  minutes_included  \\\n",
       "0                 50                  15360               500   \n",
       "1               1000                  30720              3000   \n",
       "\n",
       "   rub_monthly_fee  rub_per_gb  rub_per_message  rub_per_minute tariff_name  \n",
       "0              550         200                3               3       smart  \n",
       "1             1950         150                1               1       ultra  "
      ]
     },
     "execution_count": 27,
     "metadata": {},
     "output_type": "execute_result"
    }
   ],
   "source": [
    "tariffs"
   ]
  },
  {
   "cell_type": "markdown",
   "metadata": {},
   "source": [
    "Создадим функции для расчета выручки:"
   ]
  },
  {
   "cell_type": "code",
   "execution_count": 28,
   "metadata": {},
   "outputs": [],
   "source": [
    "# создание функции для расчета выручки по звонкам\n",
    "def calls_revenue (data):\n",
    "    tariff = data['tariff']\n",
    "    if tariff == 'smart':\n",
    "        # минуты сверх плана\n",
    "        minutes_over = data['calls_minutes'] - tariffs.loc[0, 'minutes_included']\n",
    "        if minutes_over > 0 :\n",
    "            # абонентская плата за минуты сверх плана\n",
    "            call_price = tariffs.loc[0, 'rub_monthly_fee'] + minutes_over * tariffs.loc[0, 'rub_per_minute']\n",
    "        else:\n",
    "            call_price = tariffs.loc[0, 'rub_monthly_fee']\n",
    "    elif tariff == 'ultra':\n",
    "        # минуты сверх плана\n",
    "        minutes_over = data['calls_minutes'] - tariffs.loc[1, 'minutes_included']\n",
    "        if minutes_over > 0 :\n",
    "            # абонентская плата за минуты сверх плана\n",
    "            call_price = tariffs.loc[1, 'rub_monthly_fee'] + minutes_over * tariffs.loc[1, 'rub_per_minute']\n",
    "        else:\n",
    "            call_price = tariffs.loc[1, 'rub_monthly_fee']\n",
    "    return call_price"
   ]
  },
  {
   "cell_type": "code",
   "execution_count": 29,
   "metadata": {},
   "outputs": [],
   "source": [
    "# создание функции для расчета выручки по сообщениям\n",
    "def messages_revenue (data):\n",
    "    tariff = data['tariff']\n",
    "    if tariff == 'smart':\n",
    "        # сообщения сверх плана\n",
    "        messages_over = data['messages_count'] - tariffs.loc[0, 'messages_included']\n",
    "        if messages_over > 0 :\n",
    "            # абонентская плата за сообщения сверх плана\n",
    "            messages_price = messages_over * tariffs.loc[0, 'rub_per_message']\n",
    "        else:\n",
    "            messages_price = 0\n",
    "    elif tariff == 'ultra':\n",
    "        # сообщения сверх плана\n",
    "        messages_over = data['messages_count'] - tariffs.loc[1, 'messages_included']\n",
    "        if messages_over > 0 :\n",
    "            # абонентская плата за сообщения сверх плана\n",
    "            messages_price = messages_over * tariffs.loc[1, 'rub_per_message']\n",
    "        else:\n",
    "            messages_price = 0\n",
    "    return messages_price"
   ]
  },
  {
   "cell_type": "code",
   "execution_count": 30,
   "metadata": {},
   "outputs": [],
   "source": [
    "# создание функции для расчета выручки по интернет-трафику\n",
    "def internet_revenue (data):\n",
    "    tariff = data['tariff']\n",
    "    if tariff == 'smart':\n",
    "        # ГБ сверх плана\n",
    "        internet_over = data['gb_used'] - tariffs.loc[0, 'mb_per_month_included']/1024\n",
    "        if internet_over > 0 :\n",
    "            # абонентская плата за ГБ сверх плана\n",
    "            internet_price = internet_over * tariffs.loc[0, 'rub_per_gb']\n",
    "        else:\n",
    "            internet_price = 0\n",
    "    elif tariff == 'ultra':\n",
    "        # ГБ сверх плана\n",
    "        internet_over = data['gb_used'] - tariffs.loc[1, 'mb_per_month_included']/1024\n",
    "        if internet_over > 0 :\n",
    "            # абонентская плата за ГБ сверх плана\n",
    "            internet_price = internet_over * tariffs.loc[1, 'rub_per_gb']\n",
    "        else:\n",
    "            internet_price = 0\n",
    "    return internet_price"
   ]
  },
  {
   "cell_type": "code",
   "execution_count": 31,
   "metadata": {},
   "outputs": [
    {
     "data": {
      "text/html": [
       "<div>\n",
       "<style scoped>\n",
       "    .dataframe tbody tr th:only-of-type {\n",
       "        vertical-align: middle;\n",
       "    }\n",
       "\n",
       "    .dataframe tbody tr th {\n",
       "        vertical-align: top;\n",
       "    }\n",
       "\n",
       "    .dataframe thead th {\n",
       "        text-align: right;\n",
       "    }\n",
       "</style>\n",
       "<table border=\"1\" class=\"dataframe\">\n",
       "  <thead>\n",
       "    <tr style=\"text-align: right;\">\n",
       "      <th></th>\n",
       "      <th>user_id</th>\n",
       "      <th>month</th>\n",
       "      <th>calls_count</th>\n",
       "      <th>calls_minutes</th>\n",
       "      <th>messages_count</th>\n",
       "      <th>gb_used</th>\n",
       "      <th>tariff</th>\n",
       "      <th>city</th>\n",
       "      <th>month_revenue</th>\n",
       "    </tr>\n",
       "  </thead>\n",
       "  <tbody>\n",
       "    <tr>\n",
       "      <th>0</th>\n",
       "      <td>1000</td>\n",
       "      <td>2018-05-01</td>\n",
       "      <td>22.0</td>\n",
       "      <td>159.0</td>\n",
       "      <td>22.0</td>\n",
       "      <td>4.0</td>\n",
       "      <td>ultra</td>\n",
       "      <td>Краснодар</td>\n",
       "      <td>1950.0</td>\n",
       "    </tr>\n",
       "    <tr>\n",
       "      <th>1</th>\n",
       "      <td>1000</td>\n",
       "      <td>2018-06-01</td>\n",
       "      <td>43.0</td>\n",
       "      <td>172.0</td>\n",
       "      <td>60.0</td>\n",
       "      <td>49.0</td>\n",
       "      <td>ultra</td>\n",
       "      <td>Краснодар</td>\n",
       "      <td>4800.0</td>\n",
       "    </tr>\n",
       "    <tr>\n",
       "      <th>2</th>\n",
       "      <td>1000</td>\n",
       "      <td>2018-07-01</td>\n",
       "      <td>47.0</td>\n",
       "      <td>340.0</td>\n",
       "      <td>75.0</td>\n",
       "      <td>28.0</td>\n",
       "      <td>ultra</td>\n",
       "      <td>Краснодар</td>\n",
       "      <td>1950.0</td>\n",
       "    </tr>\n",
       "    <tr>\n",
       "      <th>3</th>\n",
       "      <td>1000</td>\n",
       "      <td>2018-08-01</td>\n",
       "      <td>52.0</td>\n",
       "      <td>408.0</td>\n",
       "      <td>81.0</td>\n",
       "      <td>27.0</td>\n",
       "      <td>ultra</td>\n",
       "      <td>Краснодар</td>\n",
       "      <td>1950.0</td>\n",
       "    </tr>\n",
       "    <tr>\n",
       "      <th>4</th>\n",
       "      <td>1000</td>\n",
       "      <td>2018-09-01</td>\n",
       "      <td>58.0</td>\n",
       "      <td>466.0</td>\n",
       "      <td>57.0</td>\n",
       "      <td>26.0</td>\n",
       "      <td>ultra</td>\n",
       "      <td>Краснодар</td>\n",
       "      <td>1950.0</td>\n",
       "    </tr>\n",
       "    <tr>\n",
       "      <th>5</th>\n",
       "      <td>1000</td>\n",
       "      <td>2018-10-01</td>\n",
       "      <td>57.0</td>\n",
       "      <td>350.0</td>\n",
       "      <td>73.0</td>\n",
       "      <td>28.0</td>\n",
       "      <td>ultra</td>\n",
       "      <td>Краснодар</td>\n",
       "      <td>1950.0</td>\n",
       "    </tr>\n",
       "    <tr>\n",
       "      <th>6</th>\n",
       "      <td>1000</td>\n",
       "      <td>2018-11-01</td>\n",
       "      <td>43.0</td>\n",
       "      <td>338.0</td>\n",
       "      <td>58.0</td>\n",
       "      <td>27.0</td>\n",
       "      <td>ultra</td>\n",
       "      <td>Краснодар</td>\n",
       "      <td>1950.0</td>\n",
       "    </tr>\n",
       "    <tr>\n",
       "      <th>7</th>\n",
       "      <td>1000</td>\n",
       "      <td>2018-12-01</td>\n",
       "      <td>46.0</td>\n",
       "      <td>333.0</td>\n",
       "      <td>70.0</td>\n",
       "      <td>19.0</td>\n",
       "      <td>ultra</td>\n",
       "      <td>Краснодар</td>\n",
       "      <td>1950.0</td>\n",
       "    </tr>\n",
       "    <tr>\n",
       "      <th>8</th>\n",
       "      <td>1001</td>\n",
       "      <td>2018-11-01</td>\n",
       "      <td>59.0</td>\n",
       "      <td>430.0</td>\n",
       "      <td>0.0</td>\n",
       "      <td>47.0</td>\n",
       "      <td>smart</td>\n",
       "      <td>Москва</td>\n",
       "      <td>6950.0</td>\n",
       "    </tr>\n",
       "    <tr>\n",
       "      <th>9</th>\n",
       "      <td>1001</td>\n",
       "      <td>2018-12-01</td>\n",
       "      <td>63.0</td>\n",
       "      <td>414.0</td>\n",
       "      <td>0.0</td>\n",
       "      <td>35.0</td>\n",
       "      <td>smart</td>\n",
       "      <td>Москва</td>\n",
       "      <td>4550.0</td>\n",
       "    </tr>\n",
       "    <tr>\n",
       "      <th>10</th>\n",
       "      <td>1002</td>\n",
       "      <td>2018-06-01</td>\n",
       "      <td>15.0</td>\n",
       "      <td>117.0</td>\n",
       "      <td>4.0</td>\n",
       "      <td>27.0</td>\n",
       "      <td>smart</td>\n",
       "      <td>Стерлитамак</td>\n",
       "      <td>2950.0</td>\n",
       "    </tr>\n",
       "    <tr>\n",
       "      <th>11</th>\n",
       "      <td>1002</td>\n",
       "      <td>2018-07-01</td>\n",
       "      <td>26.0</td>\n",
       "      <td>214.0</td>\n",
       "      <td>11.0</td>\n",
       "      <td>45.0</td>\n",
       "      <td>smart</td>\n",
       "      <td>Стерлитамак</td>\n",
       "      <td>6550.0</td>\n",
       "    </tr>\n",
       "    <tr>\n",
       "      <th>12</th>\n",
       "      <td>1002</td>\n",
       "      <td>2018-08-01</td>\n",
       "      <td>42.0</td>\n",
       "      <td>289.0</td>\n",
       "      <td>13.0</td>\n",
       "      <td>50.0</td>\n",
       "      <td>smart</td>\n",
       "      <td>Стерлитамак</td>\n",
       "      <td>7550.0</td>\n",
       "    </tr>\n",
       "    <tr>\n",
       "      <th>13</th>\n",
       "      <td>1002</td>\n",
       "      <td>2018-09-01</td>\n",
       "      <td>36.0</td>\n",
       "      <td>206.0</td>\n",
       "      <td>4.0</td>\n",
       "      <td>44.0</td>\n",
       "      <td>smart</td>\n",
       "      <td>Стерлитамак</td>\n",
       "      <td>6350.0</td>\n",
       "    </tr>\n",
       "    <tr>\n",
       "      <th>14</th>\n",
       "      <td>1002</td>\n",
       "      <td>2018-10-01</td>\n",
       "      <td>33.0</td>\n",
       "      <td>212.0</td>\n",
       "      <td>10.0</td>\n",
       "      <td>36.0</td>\n",
       "      <td>smart</td>\n",
       "      <td>Стерлитамак</td>\n",
       "      <td>4750.0</td>\n",
       "    </tr>\n",
       "  </tbody>\n",
       "</table>\n",
       "</div>"
      ],
      "text/plain": [
       "    user_id      month  calls_count  calls_minutes  messages_count  gb_used  \\\n",
       "0      1000 2018-05-01         22.0          159.0            22.0      4.0   \n",
       "1      1000 2018-06-01         43.0          172.0            60.0     49.0   \n",
       "2      1000 2018-07-01         47.0          340.0            75.0     28.0   \n",
       "3      1000 2018-08-01         52.0          408.0            81.0     27.0   \n",
       "4      1000 2018-09-01         58.0          466.0            57.0     26.0   \n",
       "5      1000 2018-10-01         57.0          350.0            73.0     28.0   \n",
       "6      1000 2018-11-01         43.0          338.0            58.0     27.0   \n",
       "7      1000 2018-12-01         46.0          333.0            70.0     19.0   \n",
       "8      1001 2018-11-01         59.0          430.0             0.0     47.0   \n",
       "9      1001 2018-12-01         63.0          414.0             0.0     35.0   \n",
       "10     1002 2018-06-01         15.0          117.0             4.0     27.0   \n",
       "11     1002 2018-07-01         26.0          214.0            11.0     45.0   \n",
       "12     1002 2018-08-01         42.0          289.0            13.0     50.0   \n",
       "13     1002 2018-09-01         36.0          206.0             4.0     44.0   \n",
       "14     1002 2018-10-01         33.0          212.0            10.0     36.0   \n",
       "\n",
       "   tariff         city  month_revenue  \n",
       "0   ultra    Краснодар         1950.0  \n",
       "1   ultra    Краснодар         4800.0  \n",
       "2   ultra    Краснодар         1950.0  \n",
       "3   ultra    Краснодар         1950.0  \n",
       "4   ultra    Краснодар         1950.0  \n",
       "5   ultra    Краснодар         1950.0  \n",
       "6   ultra    Краснодар         1950.0  \n",
       "7   ultra    Краснодар         1950.0  \n",
       "8   smart       Москва         6950.0  \n",
       "9   smart       Москва         4550.0  \n",
       "10  smart  Стерлитамак         2950.0  \n",
       "11  smart  Стерлитамак         6550.0  \n",
       "12  smart  Стерлитамак         7550.0  \n",
       "13  smart  Стерлитамак         6350.0  \n",
       "14  smart  Стерлитамак         4750.0  "
      ]
     },
     "execution_count": 31,
     "metadata": {},
     "output_type": "execute_result"
    }
   ],
   "source": [
    "# добавление в таблицу с расчетами столбца с помесячной выручкой по звонкам, сообщениям и трафиком интернета\n",
    "megaline_full_data['month_revenue'] = (megaline_full_data.apply(calls_revenue, axis = 1) +\n",
    "                                       megaline_full_data.apply(messages_revenue, axis = 1) +\n",
    "                                       megaline_full_data.apply(internet_revenue, axis = 1))\n",
    "megaline_full_data.head(15)"
   ]
  },
  {
   "cell_type": "markdown",
   "metadata": {},
   "source": [
    "Для удобства приведем тип `float` к целочисленному типу. "
   ]
  },
  {
   "cell_type": "code",
   "execution_count": 32,
   "metadata": {},
   "outputs": [],
   "source": [
    "megaline_full_data['messages_count'] = megaline_full_data['messages_count'].astype(int)\n",
    "megaline_full_data['gb_used'] = megaline_full_data['gb_used'].astype(int)\n",
    "megaline_full_data['month_revenue'] = megaline_full_data['month_revenue'].astype(int)"
   ]
  },
  {
   "cell_type": "markdown",
   "metadata": {},
   "source": [
    "# Вывод № 2"
   ]
  },
  {
   "cell_type": "markdown",
   "metadata": {},
   "source": [
    "На данном этапе данные были приведены к нужным типам, добавлены месяцы, секунды округлены до минут, а мегабайты — до гигабайт. Удален лишний столбец, дублирующий индексы.\n",
    "\n",
    "Для каждого пользователя рассчитаны:\n",
    "\n",
    "* количество сделанных звонков и израсходованных минут разговора по месяцам;\n",
    "* количество отправленных сообщений по месяцам;\n",
    "* объем израсходованного интернет-трафика по месяцам;\n",
    "* помесячная выручка с каждого пользователя."
   ]
  },
  {
   "cell_type": "markdown",
   "metadata": {},
   "source": [
    "# Шаг 3. Анализ данных"
   ]
  },
  {
   "cell_type": "markdown",
   "metadata": {},
   "source": [
    "Задачи этого шага:\n",
    "\n",
    "* ответить на вопрос: сколько минут разговора, сколько сообщений и какой объём интернет-трафика требуется пользователям каждого тарифа в месяц?\n",
    "* посчитать среднее количество, дисперсию и стандартное отклонение;\n",
    "* построить гистограммы;\n",
    "* описать распределения."
   ]
  },
  {
   "cell_type": "code",
   "execution_count": 33,
   "metadata": {},
   "outputs": [
    {
     "data": {
      "text/html": [
       "<div>\n",
       "<style scoped>\n",
       "    .dataframe tbody tr th:only-of-type {\n",
       "        vertical-align: middle;\n",
       "    }\n",
       "\n",
       "    .dataframe tbody tr th {\n",
       "        vertical-align: top;\n",
       "    }\n",
       "\n",
       "    .dataframe thead th {\n",
       "        text-align: right;\n",
       "    }\n",
       "</style>\n",
       "<table border=\"1\" class=\"dataframe\">\n",
       "  <thead>\n",
       "    <tr style=\"text-align: right;\">\n",
       "      <th></th>\n",
       "      <th></th>\n",
       "      <th>calls_minutes</th>\n",
       "      <th>messages_count</th>\n",
       "      <th>gb_used</th>\n",
       "      <th>revenue</th>\n",
       "    </tr>\n",
       "    <tr>\n",
       "      <th>tariff</th>\n",
       "      <th>month</th>\n",
       "      <th></th>\n",
       "      <th></th>\n",
       "      <th></th>\n",
       "      <th></th>\n",
       "    </tr>\n",
       "  </thead>\n",
       "  <tbody>\n",
       "    <tr>\n",
       "      <th rowspan=\"12\" valign=\"top\">smart</th>\n",
       "      <th>2018-01-01</th>\n",
       "      <td>204</td>\n",
       "      <td>18</td>\n",
       "      <td>22</td>\n",
       "      <td>2515</td>\n",
       "    </tr>\n",
       "    <tr>\n",
       "      <th>2018-02-01</th>\n",
       "      <td>299</td>\n",
       "      <td>24</td>\n",
       "      <td>30</td>\n",
       "      <td>3879</td>\n",
       "    </tr>\n",
       "    <tr>\n",
       "      <th>2018-03-01</th>\n",
       "      <td>390</td>\n",
       "      <td>32</td>\n",
       "      <td>40</td>\n",
       "      <td>5702</td>\n",
       "    </tr>\n",
       "    <tr>\n",
       "      <th>2018-04-01</th>\n",
       "      <td>367</td>\n",
       "      <td>31</td>\n",
       "      <td>36</td>\n",
       "      <td>4885</td>\n",
       "    </tr>\n",
       "    <tr>\n",
       "      <th>2018-05-01</th>\n",
       "      <td>387</td>\n",
       "      <td>34</td>\n",
       "      <td>41</td>\n",
       "      <td>6002</td>\n",
       "    </tr>\n",
       "    <tr>\n",
       "      <th>2018-06-01</th>\n",
       "      <td>396</td>\n",
       "      <td>33</td>\n",
       "      <td>41</td>\n",
       "      <td>5945</td>\n",
       "    </tr>\n",
       "    <tr>\n",
       "      <th>2018-07-01</th>\n",
       "      <td>408</td>\n",
       "      <td>34</td>\n",
       "      <td>42</td>\n",
       "      <td>6064</td>\n",
       "    </tr>\n",
       "    <tr>\n",
       "      <th>2018-08-01</th>\n",
       "      <td>421</td>\n",
       "      <td>34</td>\n",
       "      <td>43</td>\n",
       "      <td>6408</td>\n",
       "    </tr>\n",
       "    <tr>\n",
       "      <th>2018-09-01</th>\n",
       "      <td>429</td>\n",
       "      <td>34</td>\n",
       "      <td>43</td>\n",
       "      <td>6291</td>\n",
       "    </tr>\n",
       "    <tr>\n",
       "      <th>2018-10-01</th>\n",
       "      <td>426</td>\n",
       "      <td>34</td>\n",
       "      <td>44</td>\n",
       "      <td>6526</td>\n",
       "    </tr>\n",
       "    <tr>\n",
       "      <th>2018-11-01</th>\n",
       "      <td>435</td>\n",
       "      <td>34</td>\n",
       "      <td>44</td>\n",
       "      <td>6616</td>\n",
       "    </tr>\n",
       "    <tr>\n",
       "      <th>2018-12-01</th>\n",
       "      <td>479</td>\n",
       "      <td>36</td>\n",
       "      <td>47</td>\n",
       "      <td>7232</td>\n",
       "    </tr>\n",
       "    <tr>\n",
       "      <th rowspan=\"12\" valign=\"top\">ultra</th>\n",
       "      <th>2018-01-01</th>\n",
       "      <td>428</td>\n",
       "      <td>34</td>\n",
       "      <td>27</td>\n",
       "      <td>2567</td>\n",
       "    </tr>\n",
       "    <tr>\n",
       "      <th>2018-02-01</th>\n",
       "      <td>297</td>\n",
       "      <td>22</td>\n",
       "      <td>24</td>\n",
       "      <td>2919</td>\n",
       "    </tr>\n",
       "    <tr>\n",
       "      <th>2018-03-01</th>\n",
       "      <td>490</td>\n",
       "      <td>32</td>\n",
       "      <td>34</td>\n",
       "      <td>3714</td>\n",
       "    </tr>\n",
       "    <tr>\n",
       "      <th>2018-04-01</th>\n",
       "      <td>458</td>\n",
       "      <td>32</td>\n",
       "      <td>33</td>\n",
       "      <td>3382</td>\n",
       "    </tr>\n",
       "    <tr>\n",
       "      <th>2018-05-01</th>\n",
       "      <td>510</td>\n",
       "      <td>38</td>\n",
       "      <td>38</td>\n",
       "      <td>3804</td>\n",
       "    </tr>\n",
       "    <tr>\n",
       "      <th>2018-06-01</th>\n",
       "      <td>480</td>\n",
       "      <td>42</td>\n",
       "      <td>37</td>\n",
       "      <td>3679</td>\n",
       "    </tr>\n",
       "    <tr>\n",
       "      <th>2018-07-01</th>\n",
       "      <td>546</td>\n",
       "      <td>50</td>\n",
       "      <td>40</td>\n",
       "      <td>3989</td>\n",
       "    </tr>\n",
       "    <tr>\n",
       "      <th>2018-08-01</th>\n",
       "      <td>511</td>\n",
       "      <td>48</td>\n",
       "      <td>38</td>\n",
       "      <td>3871</td>\n",
       "    </tr>\n",
       "    <tr>\n",
       "      <th>2018-09-01</th>\n",
       "      <td>539</td>\n",
       "      <td>52</td>\n",
       "      <td>38</td>\n",
       "      <td>3767</td>\n",
       "    </tr>\n",
       "    <tr>\n",
       "      <th>2018-10-01</th>\n",
       "      <td>558</td>\n",
       "      <td>58</td>\n",
       "      <td>39</td>\n",
       "      <td>3884</td>\n",
       "    </tr>\n",
       "    <tr>\n",
       "      <th>2018-11-01</th>\n",
       "      <td>541</td>\n",
       "      <td>56</td>\n",
       "      <td>39</td>\n",
       "      <td>3860</td>\n",
       "    </tr>\n",
       "    <tr>\n",
       "      <th>2018-12-01</th>\n",
       "      <td>593</td>\n",
       "      <td>61</td>\n",
       "      <td>43</td>\n",
       "      <td>4324</td>\n",
       "    </tr>\n",
       "  </tbody>\n",
       "</table>\n",
       "</div>"
      ],
      "text/plain": [
       "                   calls_minutes  messages_count  gb_used  revenue\n",
       "tariff month                                                      \n",
       "smart  2018-01-01            204              18       22     2515\n",
       "       2018-02-01            299              24       30     3879\n",
       "       2018-03-01            390              32       40     5702\n",
       "       2018-04-01            367              31       36     4885\n",
       "       2018-05-01            387              34       41     6002\n",
       "       2018-06-01            396              33       41     5945\n",
       "       2018-07-01            408              34       42     6064\n",
       "       2018-08-01            421              34       43     6408\n",
       "       2018-09-01            429              34       43     6291\n",
       "       2018-10-01            426              34       44     6526\n",
       "       2018-11-01            435              34       44     6616\n",
       "       2018-12-01            479              36       47     7232\n",
       "ultra  2018-01-01            428              34       27     2567\n",
       "       2018-02-01            297              22       24     2919\n",
       "       2018-03-01            490              32       34     3714\n",
       "       2018-04-01            458              32       33     3382\n",
       "       2018-05-01            510              38       38     3804\n",
       "       2018-06-01            480              42       37     3679\n",
       "       2018-07-01            546              50       40     3989\n",
       "       2018-08-01            511              48       38     3871\n",
       "       2018-09-01            539              52       38     3767\n",
       "       2018-10-01            558              58       39     3884\n",
       "       2018-11-01            541              56       39     3860\n",
       "       2018-12-01            593              61       43     4324"
      ]
     },
     "execution_count": 33,
     "metadata": {},
     "output_type": "execute_result"
    }
   ],
   "source": [
    "# расчет среднего по тарифам и месяцам\n",
    "stat_megaline = megaline_full_data.groupby(['tariff', 'month']).mean().round().astype(int)\n",
    "stat_megaline.columns = ['user_id', 'calls_count', 'calls_minutes', 'messages_count', 'gb_used', 'revenue']\n",
    "stat_megaline = stat_megaline.drop(['user_id', 'calls_count'], axis = 1)\n",
    "stat_megaline"
   ]
  },
  {
   "cell_type": "markdown",
   "metadata": {},
   "source": [
    "Теперь известно, сколько минут разговора, сколько сообщений и какой объем интернет-трафика использовали клиенты каждого тарифа за отчетный период. Например, пользователи тарифа «Ультра» в декабре в среднем использовали 43 ГБ интернет-трафика, отправили 61 сообщение и говорили по телефону 593 минуты.\n",
    "\n",
    "Однако данные за начало и конец года различаются довольно сильно. Нужно посчитать среднее значение по каждому тарифу, а также дисперсию и стандартное отклонение. Объединим затем все это в одну таблицу."
   ]
  },
  {
   "cell_type": "code",
   "execution_count": 43,
   "metadata": {},
   "outputs": [],
   "source": [
    "smart_new = megaline_full_data.query('tariff == \"smart\"')\n",
    "ultra_new = megaline_full_data.query('tariff == \"ultra\"')"
   ]
  },
  {
   "cell_type": "code",
   "execution_count": 44,
   "metadata": {},
   "outputs": [
    {
     "data": {
      "text/html": [
       "<div>\n",
       "<style scoped>\n",
       "    .dataframe tbody tr th:only-of-type {\n",
       "        vertical-align: middle;\n",
       "    }\n",
       "\n",
       "    .dataframe tbody tr th {\n",
       "        vertical-align: top;\n",
       "    }\n",
       "\n",
       "    .dataframe thead th {\n",
       "        text-align: right;\n",
       "    }\n",
       "</style>\n",
       "<table border=\"1\" class=\"dataframe\">\n",
       "  <thead>\n",
       "    <tr style=\"text-align: right;\">\n",
       "      <th></th>\n",
       "      <th>parameter</th>\n",
       "      <th>mean</th>\n",
       "      <th>var</th>\n",
       "      <th>std</th>\n",
       "      <th>tariff</th>\n",
       "    </tr>\n",
       "  </thead>\n",
       "  <tbody>\n",
       "    <tr>\n",
       "      <th>0</th>\n",
       "      <td>calls_minutes</td>\n",
       "      <td>417.9</td>\n",
       "      <td>36219.3</td>\n",
       "      <td>190.3</td>\n",
       "      <td>smart</td>\n",
       "    </tr>\n",
       "    <tr>\n",
       "      <th>1</th>\n",
       "      <td>calls_minutes</td>\n",
       "      <td>526.6</td>\n",
       "      <td>100873.6</td>\n",
       "      <td>317.6</td>\n",
       "      <td>ultra</td>\n",
       "    </tr>\n",
       "    <tr>\n",
       "      <th>2</th>\n",
       "      <td>messages_count</td>\n",
       "      <td>33.4</td>\n",
       "      <td>796.8</td>\n",
       "      <td>28.2</td>\n",
       "      <td>smart</td>\n",
       "    </tr>\n",
       "    <tr>\n",
       "      <th>3</th>\n",
       "      <td>messages_count</td>\n",
       "      <td>49.4</td>\n",
       "      <td>2285.3</td>\n",
       "      <td>47.8</td>\n",
       "      <td>ultra</td>\n",
       "    </tr>\n",
       "    <tr>\n",
       "      <th>4</th>\n",
       "      <td>gb_used</td>\n",
       "      <td>42.4</td>\n",
       "      <td>223.3</td>\n",
       "      <td>14.9</td>\n",
       "      <td>smart</td>\n",
       "    </tr>\n",
       "    <tr>\n",
       "      <th>5</th>\n",
       "      <td>gb_used</td>\n",
       "      <td>38.2</td>\n",
       "      <td>382.8</td>\n",
       "      <td>19.6</td>\n",
       "      <td>ultra</td>\n",
       "    </tr>\n",
       "  </tbody>\n",
       "</table>\n",
       "</div>"
      ],
      "text/plain": [
       "        parameter   mean       var    std tariff\n",
       "0   calls_minutes  417.9   36219.3  190.3  smart\n",
       "1   calls_minutes  526.6  100873.6  317.6  ultra\n",
       "2  messages_count   33.4     796.8   28.2  smart\n",
       "3  messages_count   49.4    2285.3   47.8  ultra\n",
       "4         gb_used   42.4     223.3   14.9  smart\n",
       "5         gb_used   38.2     382.8   19.6  ultra"
      ]
     },
     "execution_count": 44,
     "metadata": {},
     "output_type": "execute_result"
    }
   ],
   "source": [
    "stat_frame = pd.DataFrame(columns = ['parameter', 'mean', 'var', 'std', 'tariff'])\n",
    "\n",
    "ind = 0\n",
    "t = ['smart', 'ultra']\n",
    "for p in ['calls_minutes', 'messages_count', 'gb_used']:\n",
    "    tariff_ind = 0\n",
    "    for df in [smart_new, ultra_new]:\n",
    "        stat_frame.loc[ind, 'parameter'] = p\n",
    "        stat_frame.loc[ind, 'mean'] = round(df[p].mean(),1)\n",
    "        stat_frame.loc[ind, 'var'] = round(np.var(df[p], ddof = 1),1)\n",
    "        stat_frame.loc[ind, 'std'] = round(np.std(df[p], ddof = 1),1)\n",
    "        stat_frame.loc[ind, 'tariff'] = t[tariff_ind]\n",
    "        ind +=1\n",
    "        tariff_ind +=1\n",
    "stat_frame"
   ]
  },
  {
   "cell_type": "code",
   "execution_count": 45,
   "metadata": {
    "scrolled": true
   },
   "outputs": [
    {
     "data": {
      "text/html": [
       "<div>\n",
       "<style scoped>\n",
       "    .dataframe tbody tr th:only-of-type {\n",
       "        vertical-align: middle;\n",
       "    }\n",
       "\n",
       "    .dataframe tbody tr th {\n",
       "        vertical-align: top;\n",
       "    }\n",
       "\n",
       "    .dataframe thead th {\n",
       "        text-align: right;\n",
       "    }\n",
       "</style>\n",
       "<table border=\"1\" class=\"dataframe\">\n",
       "  <thead>\n",
       "    <tr style=\"text-align: right;\">\n",
       "      <th></th>\n",
       "      <th>messages_included</th>\n",
       "      <th>mb_per_month_included</th>\n",
       "      <th>minutes_included</th>\n",
       "      <th>rub_monthly_fee</th>\n",
       "      <th>rub_per_gb</th>\n",
       "      <th>rub_per_message</th>\n",
       "      <th>rub_per_minute</th>\n",
       "      <th>tariff_name</th>\n",
       "    </tr>\n",
       "  </thead>\n",
       "  <tbody>\n",
       "    <tr>\n",
       "      <th>0</th>\n",
       "      <td>50</td>\n",
       "      <td>15360</td>\n",
       "      <td>500</td>\n",
       "      <td>550</td>\n",
       "      <td>200</td>\n",
       "      <td>3</td>\n",
       "      <td>3</td>\n",
       "      <td>smart</td>\n",
       "    </tr>\n",
       "    <tr>\n",
       "      <th>1</th>\n",
       "      <td>1000</td>\n",
       "      <td>30720</td>\n",
       "      <td>3000</td>\n",
       "      <td>1950</td>\n",
       "      <td>150</td>\n",
       "      <td>1</td>\n",
       "      <td>1</td>\n",
       "      <td>ultra</td>\n",
       "    </tr>\n",
       "  </tbody>\n",
       "</table>\n",
       "</div>"
      ],
      "text/plain": [
       "   messages_included  mb_per_month_included  minutes_included  \\\n",
       "0                 50                  15360               500   \n",
       "1               1000                  30720              3000   \n",
       "\n",
       "   rub_monthly_fee  rub_per_gb  rub_per_message  rub_per_minute tariff_name  \n",
       "0              550         200                3               3       smart  \n",
       "1             1950         150                1               1       ultra  "
      ]
     },
     "execution_count": 45,
     "metadata": {},
     "output_type": "execute_result"
    }
   ],
   "source": [
    "tariffs"
   ]
  },
  {
   "cell_type": "markdown",
   "metadata": {},
   "source": [
    "Итак, пользователи тарифа «Смарт» в среднем используют:\n",
    "* 417 минут разговора - в рамках плана;\n",
    "* 33 сообщения - в рамках плана;\n",
    "* 42 ГБ интернет-трафика - план предусматривает 15 ГБ.\n",
    "\n",
    "\n",
    "Пользователи тарифа «Ультра» в среднем используют:\n",
    "* 526 минут разговора - в рамках плана;\n",
    "* 49 сообщений - в рамках плана;\n",
    "* 38 ГБ интернет-трафика - план предусматривает 30 ГБ.\n",
    "\n",
    "В среднем, минуты разговора и количество сообщений, включенные в тарифный план, удовлетворяют потребности пользователей, но интернет-трафика недостаточно, часть пользователей его докупает в обоих тарифах. При этом пользователям тарифа «Ультра» нужно меньше трафика, чем пользователям тарифа «Смарт».\n",
    "\n",
    "Выведем описательную статистику, чтобы понять, как именно распределены данные."
   ]
  },
  {
   "cell_type": "code",
   "execution_count": 46,
   "metadata": {},
   "outputs": [],
   "source": [
    "# группировка для вывода статистики\n",
    "megaline_s = megaline_full_data.query('tariff == \"smart\"')\n",
    "megaline_u = megaline_full_data.query('tariff == \"ultra\"')"
   ]
  },
  {
   "cell_type": "code",
   "execution_count": 47,
   "metadata": {},
   "outputs": [
    {
     "data": {
      "text/plain": [
       "count    2229.000000\n",
       "mean      417.934948\n",
       "std       190.313730\n",
       "min         0.000000\n",
       "25%       282.000000\n",
       "50%       422.000000\n",
       "75%       545.000000\n",
       "max      1435.000000\n",
       "Name: calls_minutes, dtype: float64"
      ]
     },
     "execution_count": 47,
     "metadata": {},
     "output_type": "execute_result"
    }
   ],
   "source": [
    "# описательная статистика - звонки по тарифу «Смарт»\n",
    "megaline_s['calls_minutes'].describe()"
   ]
  },
  {
   "cell_type": "code",
   "execution_count": 48,
   "metadata": {
    "scrolled": false
   },
   "outputs": [
    {
     "data": {
      "text/plain": [
       "count     985.000000\n",
       "mean      526.623350\n",
       "std       317.606098\n",
       "min         0.000000\n",
       "25%       284.000000\n",
       "50%       518.000000\n",
       "75%       752.000000\n",
       "max      1673.000000\n",
       "Name: calls_minutes, dtype: float64"
      ]
     },
     "execution_count": 48,
     "metadata": {},
     "output_type": "execute_result"
    }
   ],
   "source": [
    "# описательная статистика - звонки по тарифу «Ультра»\n",
    "megaline_u['calls_minutes'].describe()"
   ]
  },
  {
   "cell_type": "markdown",
   "metadata": {},
   "source": [
    "Звонки по тарифу «Смарт»:\n",
    "* среднее = 417 минут разговора - в рамках плана;\n",
    "* 3-й квартиль равен 545 минутам;\n",
    "* максимальное значение равно 1435 минутам - превышает 500 минут плана;\n",
    "* оптимальное количество минут = среднее + 3 стандартных отклонения = 417 + 3 * 190 = 987\n",
    "\n",
    "Можно сказать, что пользователи тарифа «Смарт» в среднем укладываются в лимит минут разговора, однако было бы хорошо, если бы компания повысила его до 1000 минут.\n",
    "\n",
    "Звонки по тарифу «Ультра»:\n",
    "* среднее = 526 минут разговора - в рамках плана;\n",
    "* 3-й квартиль равен 752 минутам;\n",
    "* максимальное значение равно 1673 минутам - не превышает 3000 минут плана;\n",
    "* оптимальное количество минут = среднее + 3 стандартных отклонения = 526 + 3 * 317 = 1477\n",
    "\n",
    "Пользователи тарифа «Ультра» даже близко не подходят к лимиту минут разговора, поэтому компании рекомендуется снизить его до оптимального значения 1500 минут."
   ]
  },
  {
   "cell_type": "code",
   "execution_count": 49,
   "metadata": {
    "scrolled": true
   },
   "outputs": [
    {
     "data": {
      "text/plain": [
       "count    2229.000000\n",
       "mean       33.384029\n",
       "std        28.227876\n",
       "min         0.000000\n",
       "25%        10.000000\n",
       "50%        28.000000\n",
       "75%        51.000000\n",
       "max       143.000000\n",
       "Name: messages_count, dtype: float64"
      ]
     },
     "execution_count": 49,
     "metadata": {},
     "output_type": "execute_result"
    }
   ],
   "source": [
    "# описательная статистика - сообщения по тарифу «Смарт»\n",
    "megaline_s['messages_count'].describe()"
   ]
  },
  {
   "cell_type": "code",
   "execution_count": 50,
   "metadata": {
    "scrolled": false
   },
   "outputs": [
    {
     "data": {
      "text/plain": [
       "count    985.000000\n",
       "mean      49.363452\n",
       "std       47.804457\n",
       "min        0.000000\n",
       "25%        6.000000\n",
       "50%       38.000000\n",
       "75%       79.000000\n",
       "max      224.000000\n",
       "Name: messages_count, dtype: float64"
      ]
     },
     "execution_count": 50,
     "metadata": {},
     "output_type": "execute_result"
    }
   ],
   "source": [
    "# описательная статистика - сообщения по тарифу «Ультра»\n",
    "megaline_u['messages_count'].describe()"
   ]
  },
  {
   "cell_type": "markdown",
   "metadata": {},
   "source": [
    "Сообщения по тарифу «Смарт»:\n",
    "* среднее = 33 сообщения - в рамках плана;\n",
    "* 3-й квартиль равен 51 сообщению - превышает 50 сообщений плана;\n",
    "* максимальное значение равно 143 сообщениям;\n",
    "* оптимальное количество сообщений = среднее + 3 стандартных отклонения = 33 + 3 * 28 = 117\n",
    "\n",
    "Компании рекомендуется повысить лимит сообщений в тарифе «Смарт» до 150.\n",
    "\n",
    "Сообщения по тарифу «Ультра»:\n",
    "* среднее = 43 сообщения - в рамках плана;\n",
    "* 3-й квартиль равен 53 сообщениям - не превышает 1000 сообщений плана;\n",
    "* максимальное значение равно 61 сообщению;\n",
    "* оптимальное количество сообщений = среднее + 3 стандартных отклонения = 43 + 3 * 12 = 79\n",
    "\n",
    "План в 1000 сообщений слишком большой, компании рекомендуется снизить лимит до 100 сообщений в тарифе «Ультра»."
   ]
  },
  {
   "cell_type": "code",
   "execution_count": 51,
   "metadata": {
    "scrolled": true
   },
   "outputs": [
    {
     "data": {
      "text/plain": [
       "count    2229.000000\n",
       "mean       42.418125\n",
       "std        14.943104\n",
       "min         0.000000\n",
       "25%        34.000000\n",
       "50%        43.000000\n",
       "75%        52.000000\n",
       "max       101.000000\n",
       "Name: gb_used, dtype: float64"
      ]
     },
     "execution_count": 51,
     "metadata": {},
     "output_type": "execute_result"
    }
   ],
   "source": [
    "# описательная статистика - интернет-трафик по тарифу «Смарт»\n",
    "megaline_s['gb_used'].describe()"
   ]
  },
  {
   "cell_type": "code",
   "execution_count": 52,
   "metadata": {
    "scrolled": true
   },
   "outputs": [
    {
     "data": {
      "text/plain": [
       "count    985.000000\n",
       "mean      38.164467\n",
       "std       19.564656\n",
       "min        0.000000\n",
       "25%       23.000000\n",
       "50%       38.000000\n",
       "75%       52.000000\n",
       "max       98.000000\n",
       "Name: gb_used, dtype: float64"
      ]
     },
     "execution_count": 52,
     "metadata": {},
     "output_type": "execute_result"
    }
   ],
   "source": [
    "# описательная статистика - интернет-трафик по тарифу «Ультра»\n",
    "megaline_u['gb_used'].describe()"
   ]
  },
  {
   "cell_type": "markdown",
   "metadata": {},
   "source": [
    "Интернет-трафик по тарифу «Смарт»:\n",
    "* среднее = 42 ГБ интернет-трафика;\n",
    "* 3-й квартиль равен 52 ГБ;\n",
    "* максимальное значение равно 101 ГБ - план предусматривает 15 ГБ;\n",
    "* оптимальное количество ГБ = среднее + 3 стандартных отклонения = 42 + 3 * 14 = 84\n",
    "\n",
    "И среднее значение, и 3-й квартиль превышают лимит в 15 ГБ. Компании рекомендуется увеличить интернет-трафик тарифа «Смарт» до 100 ГБ, чтобы пользователям хватало.\n",
    "\n",
    "Интернет-трафик по тарифу «Ультра»:\n",
    "* среднее = 38 ГБ интернет-трафика;\n",
    "* 3-й квартиль равен 52 ГБ;\n",
    "* максимальное значение равно 98 ГБ - план предусматривает 30 ГБ;\n",
    "* оптимальное количество ГБ = среднее + 3 стандартных отклонения = 38 + 3 * 19 = 95\n",
    "\n",
    "Аналогичная ситуация. Лимит трафика тарифа «Ультра» нужно повысить до 100 ГБ."
   ]
  },
  {
   "cell_type": "markdown",
   "metadata": {},
   "source": [
    "Теперь нужно построить графики по всем пунктам тарифных планов для обоих тарифов. Начнем с количества минут. Строим графики плотности, поскольку переменные непрерывны, на таких графиках лучше видно распределение."
   ]
  },
  {
   "cell_type": "code",
   "execution_count": 53,
   "metadata": {},
   "outputs": [
    {
     "data": {
      "text/plain": [
       "<matplotlib.legend.Legend at 0x7f79f766e4f0>"
      ]
     },
     "execution_count": 53,
     "metadata": {},
     "output_type": "execute_result"
    },
    {
     "data": {
      "image/png": "[encoded data removed]",
      "text/plain": [
       "<Figure size 432x432 with 1 Axes>"
      ]
     },
     "metadata": {
      "needs_background": "light"
     },
     "output_type": "display_data"
    }
   ],
   "source": [
    "# график для минут разговора\n",
    "fig, ax = plt.subplots()\n",
    "smart_new['calls_minutes'].plot(kind = 'density', figsize = (6,6), grid = True,  label = 'smart calls')\n",
    "ultra_new['calls_minutes'].plot(kind = 'density', figsize = (6,6), grid = True , color = 'y', label = 'ultra calls')\n",
    "ax.legend()"
   ]
  },
  {
   "cell_type": "markdown",
   "metadata": {},
   "source": [
    "Графики стремятся к нормальному распределению и немного скошены, график тарифа «Смарт» имеет вытянутую вершину."
   ]
  },
  {
   "cell_type": "code",
   "execution_count": 54,
   "metadata": {},
   "outputs": [
    {
     "data": {
      "text/plain": [
       "<matplotlib.legend.Legend at 0x7f79f63d1d30>"
      ]
     },
     "execution_count": 54,
     "metadata": {},
     "output_type": "execute_result"
    },
    {
     "data": {
      "image/png": "[encoded data removed]",
      "text/plain": [
       "<Figure size 432x432 with 1 Axes>"
      ]
     },
     "metadata": {
      "needs_background": "light"
     },
     "output_type": "display_data"
    }
   ],
   "source": [
    "# график для сообщений\n",
    "fig, ax = plt.subplots()\n",
    "smart_new['messages_count'].plot(kind = 'density', figsize = (6,6), grid = True, label = 'smart messages')\n",
    "ultra_new['messages_count'].plot(kind = 'density', figsize = (6,6), grid = True , color ='g', label = 'ultra messages')\n",
    "ax.legend()"
   ]
  },
  {
   "cell_type": "markdown",
   "metadata": {},
   "source": [
    "Графики стремятся к нормальному распределению, но имеют очень вытянутые вершины и скошены вправо."
   ]
  },
  {
   "cell_type": "code",
   "execution_count": 55,
   "metadata": {},
   "outputs": [
    {
     "data": {
      "text/plain": [
       "<matplotlib.legend.Legend at 0x7f79f6352a90>"
      ]
     },
     "execution_count": 55,
     "metadata": {},
     "output_type": "execute_result"
    },
    {
     "data": {
      "image/png": "[encoded data removed]",
      "text/plain": [
       "<Figure size 432x432 with 1 Axes>"
      ]
     },
     "metadata": {
      "needs_background": "light"
     },
     "output_type": "display_data"
    }
   ],
   "source": [
    "# график для интернет-трафика\n",
    "fig, ax = plt.subplots()\n",
    "smart_new['gb_used'].plot(kind = 'density', figsize = (6,6), grid = True, label = 'smart gb')\n",
    "ultra_new['gb_used'].plot(kind = 'density', figsize = (6,6), grid = True , color = 'r', label = 'ultra gb')\n",
    "ax.legend()"
   ]
  },
  {
   "cell_type": "markdown",
   "metadata": {},
   "source": [
    "Графики стремятся к нормальному распределению и скошены влево. График тарифа «Ультра» вытянут сильнее."
   ]
  },
  {
   "cell_type": "markdown",
   "metadata": {},
   "source": [
    "# Вывод № 3"
   ]
  },
  {
   "cell_type": "markdown",
   "metadata": {},
   "source": [
    "На данном этапе было выяснено, сколько минут разговора, сколько сообщений и какой объём интернет-трафика требуется пользователям каждого тарифа в месяц. Мы также поработали со статистикой и посчитали среднее количество, дисперсию и стандартное отклонение, построили графики и описали их.\n",
    "\n",
    "Было установлено, что в среднем минуты разговора и количество сообщений, включенные в тарифный план, удовлетворяют потребности пользователей, но интернет-трафика недостаточно.\n",
    "\n",
    "Компании рекомендуется:\n",
    "\n",
    "Тариф «Смарт»:\n",
    "* повысить лимит минут до 1000;\n",
    "* повысить лимит сообщений до 150;\n",
    "* повысить лимит интернет-трафика до 100 ГБ;\n",
    "\n",
    "Тариф «Ультра»:\n",
    "* снизить лимит минут до 1500;\n",
    "* снизить лимит сообщений до 100;\n",
    "* повысить лимит интернет-трафика до 100 ГБ."
   ]
  },
  {
   "cell_type": "markdown",
   "metadata": {},
   "source": [
    "# Шаг 4. Проверка гипотез"
   ]
  },
  {
   "cell_type": "markdown",
   "metadata": {},
   "source": [
    "Осталась последняя задача - проверка гипотез:\n",
    "* средняя выручка пользователей тарифов «Ультра» и «Смарт» различаются;\n",
    "* средняя выручка пользователей из Москвы отличается от выручки пользователей из других регионов.\n",
    "\n",
    "Начнем с первой гипотезы. Посмотрим на выручку по двум тарифам."
   ]
  },
  {
   "cell_type": "code",
   "execution_count": 56,
   "metadata": {},
   "outputs": [
    {
     "data": {
      "text/html": [
       "<div>\n",
       "<style scoped>\n",
       "    .dataframe tbody tr th:only-of-type {\n",
       "        vertical-align: middle;\n",
       "    }\n",
       "\n",
       "    .dataframe tbody tr th {\n",
       "        vertical-align: top;\n",
       "    }\n",
       "\n",
       "    .dataframe thead th {\n",
       "        text-align: right;\n",
       "    }\n",
       "</style>\n",
       "<table border=\"1\" class=\"dataframe\">\n",
       "  <thead>\n",
       "    <tr style=\"text-align: right;\">\n",
       "      <th></th>\n",
       "      <th>user_id</th>\n",
       "      <th>month</th>\n",
       "      <th>calls_count</th>\n",
       "      <th>calls_minutes</th>\n",
       "      <th>messages_count</th>\n",
       "      <th>gb_used</th>\n",
       "      <th>tariff</th>\n",
       "      <th>city</th>\n",
       "      <th>month_revenue</th>\n",
       "    </tr>\n",
       "  </thead>\n",
       "  <tbody>\n",
       "    <tr>\n",
       "      <th>8</th>\n",
       "      <td>1001</td>\n",
       "      <td>2018-11-01</td>\n",
       "      <td>59.0</td>\n",
       "      <td>430.0</td>\n",
       "      <td>0</td>\n",
       "      <td>47</td>\n",
       "      <td>smart</td>\n",
       "      <td>Москва</td>\n",
       "      <td>6950</td>\n",
       "    </tr>\n",
       "    <tr>\n",
       "      <th>9</th>\n",
       "      <td>1001</td>\n",
       "      <td>2018-12-01</td>\n",
       "      <td>63.0</td>\n",
       "      <td>414.0</td>\n",
       "      <td>0</td>\n",
       "      <td>35</td>\n",
       "      <td>smart</td>\n",
       "      <td>Москва</td>\n",
       "      <td>4550</td>\n",
       "    </tr>\n",
       "    <tr>\n",
       "      <th>10</th>\n",
       "      <td>1002</td>\n",
       "      <td>2018-06-01</td>\n",
       "      <td>15.0</td>\n",
       "      <td>117.0</td>\n",
       "      <td>4</td>\n",
       "      <td>27</td>\n",
       "      <td>smart</td>\n",
       "      <td>Стерлитамак</td>\n",
       "      <td>2950</td>\n",
       "    </tr>\n",
       "    <tr>\n",
       "      <th>11</th>\n",
       "      <td>1002</td>\n",
       "      <td>2018-07-01</td>\n",
       "      <td>26.0</td>\n",
       "      <td>214.0</td>\n",
       "      <td>11</td>\n",
       "      <td>45</td>\n",
       "      <td>smart</td>\n",
       "      <td>Стерлитамак</td>\n",
       "      <td>6550</td>\n",
       "    </tr>\n",
       "    <tr>\n",
       "      <th>12</th>\n",
       "      <td>1002</td>\n",
       "      <td>2018-08-01</td>\n",
       "      <td>42.0</td>\n",
       "      <td>289.0</td>\n",
       "      <td>13</td>\n",
       "      <td>50</td>\n",
       "      <td>smart</td>\n",
       "      <td>Стерлитамак</td>\n",
       "      <td>7550</td>\n",
       "    </tr>\n",
       "    <tr>\n",
       "      <th>...</th>\n",
       "      <td>...</td>\n",
       "      <td>...</td>\n",
       "      <td>...</td>\n",
       "      <td>...</td>\n",
       "      <td>...</td>\n",
       "      <td>...</td>\n",
       "      <td>...</td>\n",
       "      <td>...</td>\n",
       "      <td>...</td>\n",
       "    </tr>\n",
       "    <tr>\n",
       "      <th>3208</th>\n",
       "      <td>1489</td>\n",
       "      <td>2018-08-01</td>\n",
       "      <td>0.0</td>\n",
       "      <td>0.0</td>\n",
       "      <td>17</td>\n",
       "      <td>28</td>\n",
       "      <td>smart</td>\n",
       "      <td>Санкт-Петербург</td>\n",
       "      <td>3150</td>\n",
       "    </tr>\n",
       "    <tr>\n",
       "      <th>3209</th>\n",
       "      <td>1489</td>\n",
       "      <td>2018-09-01</td>\n",
       "      <td>0.0</td>\n",
       "      <td>0.0</td>\n",
       "      <td>32</td>\n",
       "      <td>50</td>\n",
       "      <td>smart</td>\n",
       "      <td>Санкт-Петербург</td>\n",
       "      <td>7550</td>\n",
       "    </tr>\n",
       "    <tr>\n",
       "      <th>3210</th>\n",
       "      <td>1489</td>\n",
       "      <td>2018-10-01</td>\n",
       "      <td>0.0</td>\n",
       "      <td>0.0</td>\n",
       "      <td>21</td>\n",
       "      <td>52</td>\n",
       "      <td>smart</td>\n",
       "      <td>Санкт-Петербург</td>\n",
       "      <td>7950</td>\n",
       "    </tr>\n",
       "    <tr>\n",
       "      <th>3211</th>\n",
       "      <td>1489</td>\n",
       "      <td>2018-11-01</td>\n",
       "      <td>0.0</td>\n",
       "      <td>0.0</td>\n",
       "      <td>20</td>\n",
       "      <td>46</td>\n",
       "      <td>smart</td>\n",
       "      <td>Санкт-Петербург</td>\n",
       "      <td>6750</td>\n",
       "    </tr>\n",
       "    <tr>\n",
       "      <th>3212</th>\n",
       "      <td>1489</td>\n",
       "      <td>2018-12-01</td>\n",
       "      <td>0.0</td>\n",
       "      <td>0.0</td>\n",
       "      <td>35</td>\n",
       "      <td>45</td>\n",
       "      <td>smart</td>\n",
       "      <td>Санкт-Петербург</td>\n",
       "      <td>6550</td>\n",
       "    </tr>\n",
       "  </tbody>\n",
       "</table>\n",
       "<p>2229 rows × 9 columns</p>\n",
       "</div>"
      ],
      "text/plain": [
       "      user_id      month  calls_count  calls_minutes  messages_count  gb_used  \\\n",
       "8        1001 2018-11-01         59.0          430.0               0       47   \n",
       "9        1001 2018-12-01         63.0          414.0               0       35   \n",
       "10       1002 2018-06-01         15.0          117.0               4       27   \n",
       "11       1002 2018-07-01         26.0          214.0              11       45   \n",
       "12       1002 2018-08-01         42.0          289.0              13       50   \n",
       "...       ...        ...          ...            ...             ...      ...   \n",
       "3208     1489 2018-08-01          0.0            0.0              17       28   \n",
       "3209     1489 2018-09-01          0.0            0.0              32       50   \n",
       "3210     1489 2018-10-01          0.0            0.0              21       52   \n",
       "3211     1489 2018-11-01          0.0            0.0              20       46   \n",
       "3212     1489 2018-12-01          0.0            0.0              35       45   \n",
       "\n",
       "     tariff             city  month_revenue  \n",
       "8     smart           Москва           6950  \n",
       "9     smart           Москва           4550  \n",
       "10    smart      Стерлитамак           2950  \n",
       "11    smart      Стерлитамак           6550  \n",
       "12    smart      Стерлитамак           7550  \n",
       "...     ...              ...            ...  \n",
       "3208  smart  Санкт-Петербург           3150  \n",
       "3209  smart  Санкт-Петербург           7550  \n",
       "3210  smart  Санкт-Петербург           7950  \n",
       "3211  smart  Санкт-Петербург           6750  \n",
       "3212  smart  Санкт-Петербург           6550  \n",
       "\n",
       "[2229 rows x 9 columns]"
      ]
     },
     "execution_count": 56,
     "metadata": {},
     "output_type": "execute_result"
    }
   ],
   "source": [
    "# выручка по тарифу «Смарт»\n",
    "smart_mean_revenue = megaline_full_data.query('tariff == \"smart\"')\n",
    "smart_mean_revenue"
   ]
  },
  {
   "cell_type": "code",
   "execution_count": 57,
   "metadata": {},
   "outputs": [
    {
     "data": {
      "text/html": [
       "<div>\n",
       "<style scoped>\n",
       "    .dataframe tbody tr th:only-of-type {\n",
       "        vertical-align: middle;\n",
       "    }\n",
       "\n",
       "    .dataframe tbody tr th {\n",
       "        vertical-align: top;\n",
       "    }\n",
       "\n",
       "    .dataframe thead th {\n",
       "        text-align: right;\n",
       "    }\n",
       "</style>\n",
       "<table border=\"1\" class=\"dataframe\">\n",
       "  <thead>\n",
       "    <tr style=\"text-align: right;\">\n",
       "      <th></th>\n",
       "      <th>user_id</th>\n",
       "      <th>month</th>\n",
       "      <th>calls_count</th>\n",
       "      <th>calls_minutes</th>\n",
       "      <th>messages_count</th>\n",
       "      <th>gb_used</th>\n",
       "      <th>tariff</th>\n",
       "      <th>city</th>\n",
       "      <th>month_revenue</th>\n",
       "    </tr>\n",
       "  </thead>\n",
       "  <tbody>\n",
       "    <tr>\n",
       "      <th>0</th>\n",
       "      <td>1000</td>\n",
       "      <td>2018-05-01</td>\n",
       "      <td>22.0</td>\n",
       "      <td>159.0</td>\n",
       "      <td>22</td>\n",
       "      <td>4</td>\n",
       "      <td>ultra</td>\n",
       "      <td>Краснодар</td>\n",
       "      <td>1950</td>\n",
       "    </tr>\n",
       "    <tr>\n",
       "      <th>1</th>\n",
       "      <td>1000</td>\n",
       "      <td>2018-06-01</td>\n",
       "      <td>43.0</td>\n",
       "      <td>172.0</td>\n",
       "      <td>60</td>\n",
       "      <td>49</td>\n",
       "      <td>ultra</td>\n",
       "      <td>Краснодар</td>\n",
       "      <td>4800</td>\n",
       "    </tr>\n",
       "    <tr>\n",
       "      <th>2</th>\n",
       "      <td>1000</td>\n",
       "      <td>2018-07-01</td>\n",
       "      <td>47.0</td>\n",
       "      <td>340.0</td>\n",
       "      <td>75</td>\n",
       "      <td>28</td>\n",
       "      <td>ultra</td>\n",
       "      <td>Краснодар</td>\n",
       "      <td>1950</td>\n",
       "    </tr>\n",
       "    <tr>\n",
       "      <th>3</th>\n",
       "      <td>1000</td>\n",
       "      <td>2018-08-01</td>\n",
       "      <td>52.0</td>\n",
       "      <td>408.0</td>\n",
       "      <td>81</td>\n",
       "      <td>27</td>\n",
       "      <td>ultra</td>\n",
       "      <td>Краснодар</td>\n",
       "      <td>1950</td>\n",
       "    </tr>\n",
       "    <tr>\n",
       "      <th>4</th>\n",
       "      <td>1000</td>\n",
       "      <td>2018-09-01</td>\n",
       "      <td>58.0</td>\n",
       "      <td>466.0</td>\n",
       "      <td>57</td>\n",
       "      <td>26</td>\n",
       "      <td>ultra</td>\n",
       "      <td>Краснодар</td>\n",
       "      <td>1950</td>\n",
       "    </tr>\n",
       "    <tr>\n",
       "      <th>...</th>\n",
       "      <td>...</td>\n",
       "      <td>...</td>\n",
       "      <td>...</td>\n",
       "      <td>...</td>\n",
       "      <td>...</td>\n",
       "      <td>...</td>\n",
       "      <td>...</td>\n",
       "      <td>...</td>\n",
       "      <td>...</td>\n",
       "    </tr>\n",
       "    <tr>\n",
       "      <th>3204</th>\n",
       "      <td>1473</td>\n",
       "      <td>2018-09-01</td>\n",
       "      <td>0.0</td>\n",
       "      <td>0.0</td>\n",
       "      <td>19</td>\n",
       "      <td>31</td>\n",
       "      <td>ultra</td>\n",
       "      <td>Красноярск</td>\n",
       "      <td>2100</td>\n",
       "    </tr>\n",
       "    <tr>\n",
       "      <th>3205</th>\n",
       "      <td>1473</td>\n",
       "      <td>2018-10-01</td>\n",
       "      <td>0.0</td>\n",
       "      <td>0.0</td>\n",
       "      <td>20</td>\n",
       "      <td>29</td>\n",
       "      <td>ultra</td>\n",
       "      <td>Красноярск</td>\n",
       "      <td>1950</td>\n",
       "    </tr>\n",
       "    <tr>\n",
       "      <th>3206</th>\n",
       "      <td>1473</td>\n",
       "      <td>2018-11-01</td>\n",
       "      <td>0.0</td>\n",
       "      <td>0.0</td>\n",
       "      <td>14</td>\n",
       "      <td>40</td>\n",
       "      <td>ultra</td>\n",
       "      <td>Красноярск</td>\n",
       "      <td>3450</td>\n",
       "    </tr>\n",
       "    <tr>\n",
       "      <th>3207</th>\n",
       "      <td>1473</td>\n",
       "      <td>2018-12-01</td>\n",
       "      <td>0.0</td>\n",
       "      <td>0.0</td>\n",
       "      <td>20</td>\n",
       "      <td>32</td>\n",
       "      <td>ultra</td>\n",
       "      <td>Красноярск</td>\n",
       "      <td>2250</td>\n",
       "    </tr>\n",
       "    <tr>\n",
       "      <th>3213</th>\n",
       "      <td>1476</td>\n",
       "      <td>2018-04-01</td>\n",
       "      <td>0.0</td>\n",
       "      <td>0.0</td>\n",
       "      <td>0</td>\n",
       "      <td>1</td>\n",
       "      <td>ultra</td>\n",
       "      <td>Москва</td>\n",
       "      <td>1950</td>\n",
       "    </tr>\n",
       "  </tbody>\n",
       "</table>\n",
       "<p>985 rows × 9 columns</p>\n",
       "</div>"
      ],
      "text/plain": [
       "      user_id      month  calls_count  calls_minutes  messages_count  gb_used  \\\n",
       "0        1000 2018-05-01         22.0          159.0              22        4   \n",
       "1        1000 2018-06-01         43.0          172.0              60       49   \n",
       "2        1000 2018-07-01         47.0          340.0              75       28   \n",
       "3        1000 2018-08-01         52.0          408.0              81       27   \n",
       "4        1000 2018-09-01         58.0          466.0              57       26   \n",
       "...       ...        ...          ...            ...             ...      ...   \n",
       "3204     1473 2018-09-01          0.0            0.0              19       31   \n",
       "3205     1473 2018-10-01          0.0            0.0              20       29   \n",
       "3206     1473 2018-11-01          0.0            0.0              14       40   \n",
       "3207     1473 2018-12-01          0.0            0.0              20       32   \n",
       "3213     1476 2018-04-01          0.0            0.0               0        1   \n",
       "\n",
       "     tariff        city  month_revenue  \n",
       "0     ultra   Краснодар           1950  \n",
       "1     ultra   Краснодар           4800  \n",
       "2     ultra   Краснодар           1950  \n",
       "3     ultra   Краснодар           1950  \n",
       "4     ultra   Краснодар           1950  \n",
       "...     ...         ...            ...  \n",
       "3204  ultra  Красноярск           2100  \n",
       "3205  ultra  Красноярск           1950  \n",
       "3206  ultra  Красноярск           3450  \n",
       "3207  ultra  Красноярск           2250  \n",
       "3213  ultra      Москва           1950  \n",
       "\n",
       "[985 rows x 9 columns]"
      ]
     },
     "execution_count": 57,
     "metadata": {},
     "output_type": "execute_result"
    }
   ],
   "source": [
    "# выручка по тарифу «Ультра»\n",
    "ultra_mean_revenue = megaline_full_data.query('tariff == \"ultra\"')\n",
    "ultra_mean_revenue"
   ]
  },
  {
   "cell_type": "markdown",
   "metadata": {},
   "source": [
    "На первый взгляд данные различаются. Проверим, так ли это на самом деле. Используем метод `st.ttest_ind()`, укажем `equal_var = False`, потому что дисперсии выборок отличаются.\n",
    "\n",
    "Критический уровень значимости будет равен 0.05 (вероятность правильности вывода 95% и более).\n",
    "\n",
    "Сформулируем нулевую и альтернативную гипотезы (в нулевой используем знак равенства, альтернативную формируем, отталкиваясь от нулевой):\n",
    "\n",
    "H0 - средняя выручка пользователей тарифов «Ультра» и «Смарт» равна;\n",
    "\n",
    "H1 - средняя выручка пользователей тарифов «Ультра» и «Смарт» различается."
   ]
  },
  {
   "cell_type": "code",
   "execution_count": 58,
   "metadata": {},
   "outputs": [
    {
     "name": "stdout",
     "output_type": "stream",
     "text": [
      "P-value: 3.366123216919074e-132\n",
      "Отвергаем нулевую гипотезу\n",
      "\n",
      "Средняя выручка в месяц с пользователя тарифа «Смарт»:  6247.08\n",
      "Средняя выручка в месяц с пользователя тарифа «Ультра»:  3844.42\n"
     ]
    }
   ],
   "source": [
    "# проверка гипотезы о равенстве средних двух независимых совокупностей\n",
    "alpha = 0.05\n",
    "results = st.ttest_ind(smart_mean_revenue['month_revenue'], ultra_mean_revenue['month_revenue'], equal_var = False)\n",
    "print('P-value:', results.pvalue)\n",
    "\n",
    "if (results.pvalue < alpha):\n",
    "    print(\"Отвергаем нулевую гипотезу\")\n",
    "else:\n",
    "    print(\"Не получилось отвергнуть нулевую гипотезу\")\n",
    "    \n",
    "print()    \n",
    "print('Средняя выручка в месяц с пользователя тарифа «Смарт»: ', smart_mean_revenue['month_revenue'].mean().round(2))\n",
    "print('Средняя выручка в месяц с пользователя тарифа «Ультра»: ', ultra_mean_revenue['month_revenue'].mean().round(2))"
   ]
  },
  {
   "cell_type": "markdown",
   "metadata": {},
   "source": [
    "Вывод: средняя выручка пользователей тарифов «Ультра» и «Смарт» различается, и по выручке видно, что тариф «Смарт» выгоднее для компании «Мегалайн».\n",
    "\n",
    "Проверим теперь вторую гипотезу - средняя выручка пользователей из Москвы отличается от выручки пользователей из других регионов.\n",
    "\n",
    "Сформулируем нулевую и альтернативную гипотезы:\n",
    "\n",
    "H0 - средняя выручка пользователей из Москвы и других регионов равна;\n",
    "\n",
    "H1 - средняя выручка пользователей из Москвы и других регионов различается."
   ]
  },
  {
   "cell_type": "code",
   "execution_count": 59,
   "metadata": {},
   "outputs": [],
   "source": [
    "# данные по Москве и по другим городам\n",
    "moscow = megaline_full_data.query('city == \"Москва\"')\n",
    "not_moscow = megaline_full_data.query('city != \"Москва\"')"
   ]
  },
  {
   "cell_type": "code",
   "execution_count": 60,
   "metadata": {},
   "outputs": [
    {
     "name": "stdout",
     "output_type": "stream",
     "text": [
      "p-значение: 0.28336464606572015\n",
      "Не получилось отвергнуть нулевую гипотезу\n",
      "\n",
      "Средняя выручка в месяц с пользователя из Москвы: 5397.04\n",
      "Средняя выручка в месяц с пользователя из другого региона: 5537.42\n"
     ]
    }
   ],
   "source": [
    "# проверка гипотезы о равенстве средних двух независимых совокупностей\n",
    "results = st.ttest_ind(\n",
    "    moscow['month_revenue'],\n",
    "    not_moscow['month_revenue']\n",
    ")\n",
    "\n",
    "print('p-значение:', results.pvalue)\n",
    "\n",
    "if (results.pvalue < alpha):\n",
    "    print(\"Отвергаем нулевую гипотезу\")\n",
    "else:\n",
    "    print(\"Не получилось отвергнуть нулевую гипотезу\")\n",
    "    \n",
    "print()    \n",
    "print('Средняя выручка в месяц с пользователя из Москвы:', moscow['month_revenue'].mean().round(2))\n",
    "print('Средняя выручка в месяц с пользователя из другого региона:', not_moscow['month_revenue'].mean().round(2))"
   ]
  },
  {
   "cell_type": "markdown",
   "metadata": {},
   "source": [
    "Вывод: средняя выручка пользователей из Москвы практически не отличается от выручки пользователей из других регионов, можно считать их одинаковыми."
   ]
  },
  {
   "cell_type": "markdown",
   "metadata": {},
   "source": [
    "# Вывод № 4"
   ]
  },
  {
   "cell_type": "markdown",
   "metadata": {},
   "source": [
    "Мы проверили две гипотезы и можем утверждать, что:\n",
    "* средняя выручка пользователей тарифов «Ультра» и «Смарт» различается, тариф «Смарт» выгоднее для компании «Мегалайн»;\n",
    "* средняя выручка пользователей из Москвы практически не отличается от выручки пользователей из других регионов, можно считать их одинаковыми."
   ]
  },
  {
   "cell_type": "markdown",
   "metadata": {},
   "source": [
    "# Шаг 5. Общий вывод"
   ]
  },
  {
   "cell_type": "markdown",
   "metadata": {},
   "source": [
    "В результате проделанной работы:\n",
    "* датасеты с данными о пользователях, количестве и минутах звонков, сообщений и интернет-трафика объединены в один для анализа;\n",
    "* данные приведены к нужным типам, исправлены ошибки;\n",
    "* для каждого пользователя рассчитаны количество сделанных звонков и израсходованных минут разговора по месяцам, количество отправленных сообщений по месяцам, объем израсходованного интернет-трафика по месяцам, помесячная выручка с каждого пользователя;\n",
    "* рассчитаны среднее количество, дисперсия и стандартное отклонение;\n",
    "* даны рекомендации для компании по установлению оптимальных значений лимита по тарифам;\n",
    "* проверены гипотезы о равенстве выручек по тарифам (тариф «Смарт» выгоднее) и по регионам (разницы нет)."
   ]
  }
 ],
 "metadata": {
  "ExecuteTimeLog": [
   {
    "duration": 88,
    "start_time": "2022-03-10T20:13:27.521Z"
   },
   {
    "duration": 666,
    "start_time": "2022-03-10T20:15:52.560Z"
   },
   {
    "duration": 1777,
    "start_time": "2022-03-10T20:16:03.881Z"
   },
   {
    "duration": 413,
    "start_time": "2022-03-10T20:18:02.280Z"
   },
   {
    "duration": 1148,
    "start_time": "2022-03-10T20:18:05.233Z"
   },
   {
    "duration": 7,
    "start_time": "2022-03-10T20:18:20.201Z"
   },
   {
    "duration": 9,
    "start_time": "2022-03-10T20:18:33.582Z"
   },
   {
    "duration": 8,
    "start_time": "2022-03-10T20:19:23.581Z"
   },
   {
    "duration": 22,
    "start_time": "2022-03-10T20:19:35.822Z"
   },
   {
    "duration": 134,
    "start_time": "2022-03-10T20:19:50.501Z"
   },
   {
    "duration": 79,
    "start_time": "2022-03-10T20:20:01.941Z"
   },
   {
    "duration": 8,
    "start_time": "2022-03-10T20:20:53.641Z"
   },
   {
    "duration": 16,
    "start_time": "2022-03-10T20:21:05.953Z"
   },
   {
    "duration": 46,
    "start_time": "2022-03-10T20:21:15.688Z"
   },
   {
    "duration": 9,
    "start_time": "2022-03-10T20:21:48.101Z"
   },
   {
    "duration": 20,
    "start_time": "2022-03-10T20:21:56.672Z"
   },
   {
    "duration": 73,
    "start_time": "2022-03-10T20:22:07.362Z"
   },
   {
    "duration": 99,
    "start_time": "2022-03-10T20:22:20.181Z"
   },
   {
    "duration": 11,
    "start_time": "2022-03-10T20:23:21.322Z"
   },
   {
    "duration": 11,
    "start_time": "2022-03-10T20:23:37.329Z"
   },
   {
    "duration": 1908,
    "start_time": "2022-03-10T20:24:07.216Z"
   },
   {
    "duration": 595,
    "start_time": "2022-03-10T20:24:18.225Z"
   },
   {
    "duration": 533,
    "start_time": "2022-03-10T20:24:18.822Z"
   },
   {
    "duration": 211,
    "start_time": "2022-03-10T20:24:19.358Z"
   },
   {
    "duration": 1343,
    "start_time": "2022-03-10T20:24:19.571Z"
   },
   {
    "duration": 1040,
    "start_time": "2022-03-10T20:24:20.915Z"
   },
   {
    "duration": 2952,
    "start_time": "2022-03-10T20:24:21.957Z"
   },
   {
    "duration": 761,
    "start_time": "2022-03-10T20:24:24.911Z"
   },
   {
    "duration": 1949,
    "start_time": "2022-03-10T20:24:25.674Z"
   },
   {
    "duration": 781,
    "start_time": "2022-03-10T20:24:27.625Z"
   },
   {
    "duration": 2929,
    "start_time": "2022-03-10T20:24:28.407Z"
   },
   {
    "duration": 2433,
    "start_time": "2022-03-10T20:24:31.338Z"
   },
   {
    "duration": 899,
    "start_time": "2022-03-10T20:24:33.774Z"
   },
   {
    "duration": 336,
    "start_time": "2022-03-10T20:24:34.675Z"
   },
   {
    "duration": 951,
    "start_time": "2022-03-10T20:24:35.013Z"
   },
   {
    "duration": 711,
    "start_time": "2022-03-10T20:24:35.966Z"
   },
   {
    "duration": 396,
    "start_time": "2022-03-10T20:26:41.796Z"
   },
   {
    "duration": 10,
    "start_time": "2022-03-10T20:26:45.392Z"
   },
   {
    "duration": 8,
    "start_time": "2022-03-10T20:27:02.996Z"
   },
   {
    "duration": 6,
    "start_time": "2022-03-10T20:27:12.817Z"
   },
   {
    "duration": 16,
    "start_time": "2022-03-10T20:34:43.016Z"
   },
   {
    "duration": 77,
    "start_time": "2022-03-10T20:34:59.835Z"
   },
   {
    "duration": 56,
    "start_time": "2022-03-10T20:35:29.917Z"
   },
   {
    "duration": 80,
    "start_time": "2022-03-10T20:35:41.813Z"
   },
   {
    "duration": 187,
    "start_time": "2022-03-10T20:36:38.549Z"
   },
   {
    "duration": 341,
    "start_time": "2022-03-10T20:37:51.958Z"
   },
   {
    "duration": 10,
    "start_time": "2022-03-10T20:38:11.749Z"
   },
   {
    "duration": 9,
    "start_time": "2022-03-10T20:38:29.257Z"
   },
   {
    "duration": 66,
    "start_time": "2022-03-10T20:39:01.137Z"
   },
   {
    "duration": 38,
    "start_time": "2022-03-10T20:39:45.716Z"
   },
   {
    "duration": 71,
    "start_time": "2022-03-10T20:40:00.757Z"
   },
   {
    "duration": 31,
    "start_time": "2022-03-10T20:40:13.936Z"
   },
   {
    "duration": 11,
    "start_time": "2022-03-10T20:40:47.476Z"
   },
   {
    "duration": 29,
    "start_time": "2022-03-10T20:40:50.877Z"
   },
   {
    "duration": 92,
    "start_time": "2022-03-10T20:41:16.417Z"
   },
   {
    "duration": 36,
    "start_time": "2022-03-10T20:41:42.757Z"
   },
   {
    "duration": 18,
    "start_time": "2022-03-10T20:43:56.505Z"
   },
   {
    "duration": 79,
    "start_time": "2022-03-10T20:44:41.597Z"
   },
   {
    "duration": 9,
    "start_time": "2022-03-10T20:44:53.887Z"
   },
   {
    "duration": 5,
    "start_time": "2022-03-10T20:45:47.847Z"
   },
   {
    "duration": 37,
    "start_time": "2022-03-10T20:46:19.284Z"
   },
   {
    "duration": 18,
    "start_time": "2022-03-10T20:46:24.165Z"
   },
   {
    "duration": 5,
    "start_time": "2022-03-10T20:46:30.965Z"
   },
   {
    "duration": 5,
    "start_time": "2022-03-10T20:46:40.487Z"
   },
   {
    "duration": 5,
    "start_time": "2022-03-10T20:46:58.706Z"
   },
   {
    "duration": 10412,
    "start_time": "2022-03-10T20:47:00.065Z"
   },
   {
    "duration": 5,
    "start_time": "2022-03-10T20:47:30.949Z"
   },
   {
    "duration": 3384,
    "start_time": "2022-03-10T20:47:34.113Z"
   },
   {
    "duration": 5,
    "start_time": "2022-03-10T20:50:43.093Z"
   },
   {
    "duration": 15,
    "start_time": "2022-03-10T20:50:54.524Z"
   },
   {
    "duration": 5,
    "start_time": "2022-03-10T20:51:00.090Z"
   },
   {
    "duration": 20,
    "start_time": "2022-03-10T21:08:47.919Z"
   },
   {
    "duration": 19,
    "start_time": "2022-03-10T21:09:02.619Z"
   },
   {
    "duration": 22,
    "start_time": "2022-03-10T21:09:28.269Z"
   },
   {
    "duration": 17,
    "start_time": "2022-03-10T21:09:38.044Z"
   },
   {
    "duration": 18,
    "start_time": "2022-03-10T21:11:39.209Z"
   },
   {
    "duration": 692,
    "start_time": "2022-03-11T17:09:13.334Z"
   },
   {
    "duration": 490,
    "start_time": "2022-03-11T17:09:14.029Z"
   },
   {
    "duration": 24,
    "start_time": "2022-03-11T17:09:14.522Z"
   },
   {
    "duration": 9,
    "start_time": "2022-03-11T17:09:14.550Z"
   },
   {
    "duration": 35,
    "start_time": "2022-03-11T17:09:14.561Z"
   },
   {
    "duration": 12,
    "start_time": "2022-03-11T17:09:14.598Z"
   },
   {
    "duration": 44,
    "start_time": "2022-03-11T17:09:14.612Z"
   },
   {
    "duration": 193,
    "start_time": "2022-03-11T17:09:14.659Z"
   },
   {
    "duration": 10,
    "start_time": "2022-03-11T17:09:14.857Z"
   },
   {
    "duration": 34,
    "start_time": "2022-03-11T17:09:14.869Z"
   },
   {
    "duration": 54,
    "start_time": "2022-03-11T17:09:14.905Z"
   },
   {
    "duration": 32,
    "start_time": "2022-03-11T17:09:14.962Z"
   },
   {
    "duration": 25,
    "start_time": "2022-03-11T17:09:14.997Z"
   },
   {
    "duration": 136,
    "start_time": "2022-03-11T17:09:15.025Z"
   },
   {
    "duration": 13,
    "start_time": "2022-03-11T17:09:15.164Z"
   },
   {
    "duration": 9,
    "start_time": "2022-03-11T17:09:15.187Z"
   },
   {
    "duration": 10,
    "start_time": "2022-03-11T17:09:15.198Z"
   },
   {
    "duration": 24,
    "start_time": "2022-03-11T17:09:15.210Z"
   },
   {
    "duration": 131,
    "start_time": "2022-03-11T17:09:15.237Z"
   },
   {
    "duration": 80,
    "start_time": "2022-03-11T17:09:15.371Z"
   },
   {
    "duration": 37,
    "start_time": "2022-03-11T17:09:15.454Z"
   },
   {
    "duration": 94,
    "start_time": "2022-03-11T17:09:15.494Z"
   },
   {
    "duration": 46,
    "start_time": "2022-03-11T17:09:15.591Z"
   },
   {
    "duration": 69,
    "start_time": "2022-03-11T17:09:15.640Z"
   },
   {
    "duration": 54,
    "start_time": "2022-03-11T17:09:15.712Z"
   },
   {
    "duration": 42,
    "start_time": "2022-03-11T17:09:15.768Z"
   },
   {
    "duration": 11,
    "start_time": "2022-03-11T17:09:15.814Z"
   },
   {
    "duration": 18,
    "start_time": "2022-03-11T17:09:15.827Z"
   },
   {
    "duration": 28,
    "start_time": "2022-03-11T17:09:15.848Z"
   },
   {
    "duration": 11,
    "start_time": "2022-03-11T17:09:15.879Z"
   },
   {
    "duration": 566,
    "start_time": "2022-03-11T17:09:15.892Z"
   },
   {
    "duration": 7,
    "start_time": "2022-03-11T17:09:16.461Z"
   },
   {
    "duration": 39,
    "start_time": "2022-03-11T17:09:16.471Z"
   },
   {
    "duration": 7,
    "start_time": "2022-03-11T17:09:48.428Z"
   },
   {
    "duration": 7,
    "start_time": "2022-03-11T17:09:56.778Z"
   },
   {
    "duration": 8,
    "start_time": "2022-03-11T17:10:11.337Z"
   },
   {
    "duration": 7,
    "start_time": "2022-03-11T17:10:20.936Z"
   },
   {
    "duration": 7,
    "start_time": "2022-03-11T17:10:27.848Z"
   },
   {
    "duration": 278,
    "start_time": "2022-03-11T17:10:34.613Z"
   },
   {
    "duration": 8,
    "start_time": "2022-03-11T17:10:48.755Z"
   },
   {
    "duration": 7,
    "start_time": "2022-03-11T17:10:58.536Z"
   },
   {
    "duration": 10,
    "start_time": "2022-03-11T17:11:05.765Z"
   },
   {
    "duration": 259,
    "start_time": "2022-03-11T17:11:31.371Z"
   },
   {
    "duration": 226,
    "start_time": "2022-03-11T17:11:38.792Z"
   },
   {
    "duration": 16,
    "start_time": "2022-03-11T17:11:47.612Z"
   },
   {
    "duration": 11,
    "start_time": "2022-03-11T17:18:12.011Z"
   },
   {
    "duration": 15,
    "start_time": "2022-03-11T17:18:45.912Z"
   },
   {
    "duration": 365,
    "start_time": "2022-03-11T17:36:20.383Z"
   },
   {
    "duration": 268,
    "start_time": "2022-03-11T17:36:48.911Z"
   },
   {
    "duration": 223,
    "start_time": "2022-03-11T17:38:56.116Z"
   },
   {
    "duration": 1114,
    "start_time": "2022-03-11T17:39:07.306Z"
   },
   {
    "duration": 482,
    "start_time": "2022-03-11T17:41:49.950Z"
   },
   {
    "duration": 540,
    "start_time": "2022-03-11T17:43:40.476Z"
   },
   {
    "duration": 607,
    "start_time": "2022-03-11T17:44:17.094Z"
   },
   {
    "duration": 483,
    "start_time": "2022-03-11T17:44:24.575Z"
   },
   {
    "duration": 469,
    "start_time": "2022-03-11T17:45:15.176Z"
   },
   {
    "duration": 471,
    "start_time": "2022-03-11T17:46:22.526Z"
   },
   {
    "duration": 445,
    "start_time": "2022-03-11T17:46:53.583Z"
   },
   {
    "duration": 515,
    "start_time": "2022-03-11T17:46:59.474Z"
   },
   {
    "duration": 428,
    "start_time": "2022-03-11T17:47:10.081Z"
   },
   {
    "duration": 409,
    "start_time": "2022-03-11T17:47:24.494Z"
   },
   {
    "duration": 378,
    "start_time": "2022-03-11T17:47:35.495Z"
   },
   {
    "duration": 356,
    "start_time": "2022-03-11T17:47:49.755Z"
   },
   {
    "duration": 327,
    "start_time": "2022-03-11T17:48:32.084Z"
   },
   {
    "duration": 70,
    "start_time": "2022-03-11T17:48:35.706Z"
   },
   {
    "duration": 341,
    "start_time": "2022-03-11T17:48:47.175Z"
   },
   {
    "duration": 336,
    "start_time": "2022-03-11T17:48:51.336Z"
   },
   {
    "duration": 446,
    "start_time": "2022-03-11T17:49:01.054Z"
   },
   {
    "duration": 323,
    "start_time": "2022-03-11T17:49:17.594Z"
   },
   {
    "duration": 4,
    "start_time": "2022-03-11T17:51:08.786Z"
   },
   {
    "duration": 325,
    "start_time": "2022-03-11T17:52:01.827Z"
   },
   {
    "duration": 610,
    "start_time": "2022-03-11T17:52:42.354Z"
   },
   {
    "duration": 383,
    "start_time": "2022-03-11T17:53:01.394Z"
   },
   {
    "duration": 439,
    "start_time": "2022-03-11T17:54:16.167Z"
   },
   {
    "duration": 563,
    "start_time": "2022-03-11T17:54:44.253Z"
   },
   {
    "duration": 358,
    "start_time": "2022-03-11T17:55:10.250Z"
   },
   {
    "duration": 346,
    "start_time": "2022-03-11T17:56:00.496Z"
   },
   {
    "duration": 5,
    "start_time": "2022-03-11T18:02:17.994Z"
   },
   {
    "duration": 61,
    "start_time": "2022-03-12T15:38:02.789Z"
   },
   {
    "duration": 272,
    "start_time": "2022-03-12T15:38:07.949Z"
   },
   {
    "duration": 1037,
    "start_time": "2022-03-12T15:38:23.055Z"
   },
   {
    "duration": 369,
    "start_time": "2022-03-12T15:38:24.094Z"
   },
   {
    "duration": 11,
    "start_time": "2022-03-12T15:38:24.465Z"
   },
   {
    "duration": 8,
    "start_time": "2022-03-12T15:38:24.478Z"
   },
   {
    "duration": 10,
    "start_time": "2022-03-12T15:38:24.487Z"
   },
   {
    "duration": 8,
    "start_time": "2022-03-12T15:38:24.498Z"
   },
   {
    "duration": 29,
    "start_time": "2022-03-12T15:38:24.508Z"
   },
   {
    "duration": 111,
    "start_time": "2022-03-12T15:38:24.539Z"
   },
   {
    "duration": 11,
    "start_time": "2022-03-12T15:38:24.653Z"
   },
   {
    "duration": 15,
    "start_time": "2022-03-12T15:38:24.666Z"
   },
   {
    "duration": 62,
    "start_time": "2022-03-12T15:38:24.683Z"
   },
   {
    "duration": 7,
    "start_time": "2022-03-12T15:38:24.747Z"
   },
   {
    "duration": 24,
    "start_time": "2022-03-12T15:38:24.756Z"
   },
   {
    "duration": 75,
    "start_time": "2022-03-12T15:38:24.782Z"
   },
   {
    "duration": 8,
    "start_time": "2022-03-12T15:38:24.859Z"
   },
   {
    "duration": 9,
    "start_time": "2022-03-12T15:38:24.868Z"
   },
   {
    "duration": 9,
    "start_time": "2022-03-12T15:38:24.879Z"
   },
   {
    "duration": 13,
    "start_time": "2022-03-12T15:38:24.890Z"
   },
   {
    "duration": 81,
    "start_time": "2022-03-12T15:38:24.905Z"
   },
   {
    "duration": 59,
    "start_time": "2022-03-12T15:38:24.987Z"
   },
   {
    "duration": 13,
    "start_time": "2022-03-12T15:38:25.048Z"
   },
   {
    "duration": 72,
    "start_time": "2022-03-12T15:38:25.062Z"
   },
   {
    "duration": 31,
    "start_time": "2022-03-12T15:38:25.137Z"
   },
   {
    "duration": 27,
    "start_time": "2022-03-12T15:38:25.170Z"
   },
   {
    "duration": 60,
    "start_time": "2022-03-12T15:38:25.199Z"
   },
   {
    "duration": 17,
    "start_time": "2022-03-12T15:38:25.261Z"
   },
   {
    "duration": 7,
    "start_time": "2022-03-12T15:38:25.279Z"
   },
   {
    "duration": 9,
    "start_time": "2022-03-12T15:38:25.287Z"
   },
   {
    "duration": 13,
    "start_time": "2022-03-12T15:38:25.298Z"
   },
   {
    "duration": 8,
    "start_time": "2022-03-12T15:38:25.313Z"
   },
   {
    "duration": 302,
    "start_time": "2022-03-12T15:38:25.332Z"
   },
   {
    "duration": 5,
    "start_time": "2022-03-12T15:38:25.635Z"
   },
   {
    "duration": 20,
    "start_time": "2022-03-12T15:38:25.642Z"
   },
   {
    "duration": 5,
    "start_time": "2022-03-12T15:38:25.663Z"
   },
   {
    "duration": 7,
    "start_time": "2022-03-12T15:38:25.670Z"
   },
   {
    "duration": 7,
    "start_time": "2022-03-12T15:38:25.678Z"
   },
   {
    "duration": 7,
    "start_time": "2022-03-12T15:38:25.687Z"
   },
   {
    "duration": 40,
    "start_time": "2022-03-12T15:38:25.695Z"
   },
   {
    "duration": 8,
    "start_time": "2022-03-12T15:38:25.736Z"
   },
   {
    "duration": 8,
    "start_time": "2022-03-12T15:38:25.745Z"
   },
   {
    "duration": 6,
    "start_time": "2022-03-12T15:38:25.754Z"
   },
   {
    "duration": 10,
    "start_time": "2022-03-12T15:38:25.762Z"
   },
   {
    "duration": 10,
    "start_time": "2022-03-12T15:38:25.773Z"
   },
   {
    "duration": 9,
    "start_time": "2022-03-12T15:38:25.784Z"
   },
   {
    "duration": 252,
    "start_time": "2022-03-12T15:38:25.794Z"
   },
   {
    "duration": 219,
    "start_time": "2022-03-12T15:38:26.048Z"
   },
   {
    "duration": 206,
    "start_time": "2022-03-12T15:38:26.268Z"
   },
   {
    "duration": 4218,
    "start_time": "2022-03-12T15:38:26.476Z"
   },
   {
    "duration": 14407,
    "start_time": "2022-03-12T15:38:16.288Z"
   },
   {
    "duration": 56,
    "start_time": "2022-03-12T15:40:13.615Z"
   },
   {
    "duration": 16,
    "start_time": "2022-03-12T15:40:18.837Z"
   },
   {
    "duration": 11,
    "start_time": "2022-03-12T15:41:01.608Z"
   },
   {
    "duration": 175,
    "start_time": "2022-03-12T15:43:54.335Z"
   },
   {
    "duration": 171,
    "start_time": "2022-03-12T15:44:43.775Z"
   },
   {
    "duration": 214,
    "start_time": "2022-03-12T15:46:16.286Z"
   },
   {
    "duration": 7,
    "start_time": "2022-03-12T15:51:57.713Z"
   },
   {
    "duration": 5,
    "start_time": "2022-03-12T15:54:30.473Z"
   },
   {
    "duration": 17,
    "start_time": "2022-03-12T17:24:14.104Z"
   },
   {
    "duration": 1003,
    "start_time": "2022-03-12T17:24:28.203Z"
   },
   {
    "duration": 389,
    "start_time": "2022-03-12T17:24:29.208Z"
   },
   {
    "duration": 13,
    "start_time": "2022-03-12T17:24:29.599Z"
   },
   {
    "duration": 8,
    "start_time": "2022-03-12T17:24:29.613Z"
   },
   {
    "duration": 11,
    "start_time": "2022-03-12T17:24:29.623Z"
   },
   {
    "duration": 9,
    "start_time": "2022-03-12T17:24:29.636Z"
   },
   {
    "duration": 31,
    "start_time": "2022-03-12T17:24:29.647Z"
   },
   {
    "duration": 118,
    "start_time": "2022-03-12T17:24:29.681Z"
   },
   {
    "duration": 6,
    "start_time": "2022-03-12T17:24:29.801Z"
   },
   {
    "duration": 24,
    "start_time": "2022-03-12T17:24:29.809Z"
   },
   {
    "duration": 39,
    "start_time": "2022-03-12T17:24:29.835Z"
   },
   {
    "duration": 8,
    "start_time": "2022-03-12T17:24:29.876Z"
   },
   {
    "duration": 17,
    "start_time": "2022-03-12T17:24:29.885Z"
   },
   {
    "duration": 86,
    "start_time": "2022-03-12T17:24:29.903Z"
   },
   {
    "duration": 8,
    "start_time": "2022-03-12T17:24:29.991Z"
   },
   {
    "duration": 13,
    "start_time": "2022-03-12T17:24:30.000Z"
   },
   {
    "duration": 19,
    "start_time": "2022-03-12T17:24:30.015Z"
   },
   {
    "duration": 13,
    "start_time": "2022-03-12T17:24:30.037Z"
   },
   {
    "duration": 86,
    "start_time": "2022-03-12T17:24:30.052Z"
   },
   {
    "duration": 50,
    "start_time": "2022-03-12T17:24:30.140Z"
   },
   {
    "duration": 13,
    "start_time": "2022-03-12T17:24:30.192Z"
   },
   {
    "duration": 89,
    "start_time": "2022-03-12T17:24:30.207Z"
   },
   {
    "duration": 40,
    "start_time": "2022-03-12T17:24:30.299Z"
   },
   {
    "duration": 28,
    "start_time": "2022-03-12T17:24:30.341Z"
   },
   {
    "duration": 31,
    "start_time": "2022-03-12T17:24:30.371Z"
   },
   {
    "duration": 41,
    "start_time": "2022-03-12T17:24:30.404Z"
   },
   {
    "duration": 7,
    "start_time": "2022-03-12T17:24:30.447Z"
   },
   {
    "duration": 9,
    "start_time": "2022-03-12T17:24:30.455Z"
   },
   {
    "duration": 16,
    "start_time": "2022-03-12T17:24:30.466Z"
   },
   {
    "duration": 10,
    "start_time": "2022-03-12T17:24:30.484Z"
   },
   {
    "duration": 345,
    "start_time": "2022-03-12T17:24:30.496Z"
   },
   {
    "duration": 5,
    "start_time": "2022-03-12T17:24:30.842Z"
   },
   {
    "duration": 34,
    "start_time": "2022-03-12T17:24:30.848Z"
   },
   {
    "duration": 5,
    "start_time": "2022-03-12T17:24:30.883Z"
   },
   {
    "duration": 25,
    "start_time": "2022-03-12T17:24:30.889Z"
   },
   {
    "duration": 16,
    "start_time": "2022-03-12T17:24:30.916Z"
   },
   {
    "duration": 26,
    "start_time": "2022-03-12T17:24:30.934Z"
   },
   {
    "duration": 15,
    "start_time": "2022-03-12T17:24:30.962Z"
   },
   {
    "duration": 16,
    "start_time": "2022-03-12T17:24:30.978Z"
   },
   {
    "duration": 25,
    "start_time": "2022-03-12T17:24:30.995Z"
   },
   {
    "duration": 15,
    "start_time": "2022-03-12T17:24:31.022Z"
   },
   {
    "duration": 16,
    "start_time": "2022-03-12T17:24:31.040Z"
   },
   {
    "duration": 18,
    "start_time": "2022-03-12T17:24:31.058Z"
   },
   {
    "duration": 13,
    "start_time": "2022-03-12T17:24:31.077Z"
   },
   {
    "duration": 226,
    "start_time": "2022-03-12T17:24:31.092Z"
   },
   {
    "duration": 223,
    "start_time": "2022-03-12T17:24:31.320Z"
   },
   {
    "duration": 200,
    "start_time": "2022-03-12T17:24:31.545Z"
   },
   {
    "duration": 10,
    "start_time": "2022-03-12T17:24:31.747Z"
   },
   {
    "duration": 13,
    "start_time": "2022-03-12T17:24:31.759Z"
   },
   {
    "duration": 9,
    "start_time": "2022-03-12T17:24:31.774Z"
   },
   {
    "duration": 24,
    "start_time": "2022-03-12T17:26:07.932Z"
   },
   {
    "duration": 17,
    "start_time": "2022-03-12T17:26:54.431Z"
   },
   {
    "duration": 7,
    "start_time": "2022-03-12T17:34:27.564Z"
   },
   {
    "duration": 4270,
    "start_time": "2022-03-12T17:35:23.211Z"
   },
   {
    "duration": 6,
    "start_time": "2022-03-12T17:36:15.852Z"
   },
   {
    "duration": 6,
    "start_time": "2022-03-12T17:42:52.193Z"
   },
   {
    "duration": 7,
    "start_time": "2022-03-12T17:54:26.411Z"
   },
   {
    "duration": 7,
    "start_time": "2022-03-12T18:00:03.891Z"
   },
   {
    "duration": 7,
    "start_time": "2022-03-12T18:00:16.392Z"
   },
   {
    "duration": 216,
    "start_time": "2022-03-12T18:26:53.626Z"
   },
   {
    "duration": 251,
    "start_time": "2022-03-12T18:30:39.199Z"
   },
   {
    "duration": 232,
    "start_time": "2022-03-12T18:31:07.488Z"
   },
   {
    "duration": 232,
    "start_time": "2022-03-12T18:31:26.019Z"
   },
   {
    "duration": 227,
    "start_time": "2022-03-12T18:31:42.727Z"
   },
   {
    "duration": 325,
    "start_time": "2022-03-12T18:32:08.987Z"
   },
   {
    "duration": 238,
    "start_time": "2022-03-12T18:32:18.947Z"
   },
   {
    "duration": 342,
    "start_time": "2022-03-12T18:32:26.640Z"
   },
   {
    "duration": 291,
    "start_time": "2022-03-12T18:32:36.026Z"
   },
   {
    "duration": 272,
    "start_time": "2022-03-12T18:32:51.067Z"
   },
   {
    "duration": 287,
    "start_time": "2022-03-12T18:33:01.548Z"
   },
   {
    "duration": 211,
    "start_time": "2022-03-12T18:39:11.589Z"
   },
   {
    "duration": 203,
    "start_time": "2022-03-12T18:40:42.622Z"
   },
   {
    "duration": 235,
    "start_time": "2022-03-12T18:40:45.710Z"
   },
   {
    "duration": 21,
    "start_time": "2022-03-12T18:59:29.090Z"
   },
   {
    "duration": 23,
    "start_time": "2022-03-12T19:01:12.078Z"
   },
   {
    "duration": 6,
    "start_time": "2022-03-12T19:04:42.719Z"
   },
   {
    "duration": 8,
    "start_time": "2022-03-12T19:05:08.840Z"
   },
   {
    "duration": 8,
    "start_time": "2022-03-12T19:05:13.171Z"
   },
   {
    "duration": 8,
    "start_time": "2022-03-12T19:05:51.279Z"
   },
   {
    "duration": 7,
    "start_time": "2022-03-12T19:05:54.527Z"
   },
   {
    "duration": 87,
    "start_time": "2022-03-12T19:06:59.811Z"
   },
   {
    "duration": 9,
    "start_time": "2022-03-12T19:07:01.892Z"
   },
   {
    "duration": 1719,
    "start_time": "2022-03-22T07:41:08.518Z"
   },
   {
    "duration": 514,
    "start_time": "2022-03-22T07:41:10.240Z"
   },
   {
    "duration": 21,
    "start_time": "2022-03-22T07:41:10.757Z"
   },
   {
    "duration": 17,
    "start_time": "2022-03-22T07:41:10.782Z"
   },
   {
    "duration": 12,
    "start_time": "2022-03-22T07:41:10.802Z"
   },
   {
    "duration": 12,
    "start_time": "2022-03-22T07:41:10.816Z"
   },
   {
    "duration": 74,
    "start_time": "2022-03-22T07:41:10.830Z"
   },
   {
    "duration": 175,
    "start_time": "2022-03-22T07:41:10.906Z"
   },
   {
    "duration": 11,
    "start_time": "2022-03-22T07:41:11.084Z"
   },
   {
    "duration": 27,
    "start_time": "2022-03-22T07:41:11.100Z"
   },
   {
    "duration": 101,
    "start_time": "2022-03-22T07:41:11.129Z"
   },
   {
    "duration": 12,
    "start_time": "2022-03-22T07:41:11.232Z"
   },
   {
    "duration": 44,
    "start_time": "2022-03-22T07:41:11.246Z"
   },
   {
    "duration": 135,
    "start_time": "2022-03-22T07:41:11.292Z"
   },
   {
    "duration": 13,
    "start_time": "2022-03-22T07:41:11.430Z"
   },
   {
    "duration": 34,
    "start_time": "2022-03-22T07:41:11.446Z"
   },
   {
    "duration": 11,
    "start_time": "2022-03-22T07:41:11.483Z"
   },
   {
    "duration": 21,
    "start_time": "2022-03-22T07:41:11.496Z"
   },
   {
    "duration": 150,
    "start_time": "2022-03-22T07:41:11.520Z"
   },
   {
    "duration": 73,
    "start_time": "2022-03-22T07:41:11.673Z"
   },
   {
    "duration": 36,
    "start_time": "2022-03-22T07:41:11.749Z"
   },
   {
    "duration": 97,
    "start_time": "2022-03-22T07:41:11.787Z"
   },
   {
    "duration": 45,
    "start_time": "2022-03-22T07:41:11.887Z"
   },
   {
    "duration": 64,
    "start_time": "2022-03-22T07:41:11.934Z"
   },
   {
    "duration": 67,
    "start_time": "2022-03-22T07:41:12.001Z"
   },
   {
    "duration": 27,
    "start_time": "2022-03-22T07:41:12.071Z"
   },
   {
    "duration": 12,
    "start_time": "2022-03-22T07:41:12.101Z"
   },
   {
    "duration": 7,
    "start_time": "2022-03-22T07:41:12.120Z"
   },
   {
    "duration": 43,
    "start_time": "2022-03-22T07:41:12.130Z"
   },
   {
    "duration": 15,
    "start_time": "2022-03-22T07:41:12.175Z"
   },
   {
    "duration": 430,
    "start_time": "2022-03-22T07:41:12.193Z"
   },
   {
    "duration": 7,
    "start_time": "2022-03-22T07:41:12.626Z"
   },
   {
    "duration": 45,
    "start_time": "2022-03-22T07:41:12.636Z"
   },
   {
    "duration": 7,
    "start_time": "2022-03-22T07:41:12.683Z"
   },
   {
    "duration": 14,
    "start_time": "2022-03-22T07:41:12.693Z"
   },
   {
    "duration": 8,
    "start_time": "2022-03-22T07:41:12.710Z"
   },
   {
    "duration": 9,
    "start_time": "2022-03-22T07:41:12.721Z"
   },
   {
    "duration": 9,
    "start_time": "2022-03-22T07:41:12.767Z"
   },
   {
    "duration": 10,
    "start_time": "2022-03-22T07:41:12.779Z"
   },
   {
    "duration": 13,
    "start_time": "2022-03-22T07:41:12.792Z"
   },
   {
    "duration": 7,
    "start_time": "2022-03-22T07:41:12.807Z"
   },
   {
    "duration": 60,
    "start_time": "2022-03-22T07:41:12.817Z"
   },
   {
    "duration": 16,
    "start_time": "2022-03-22T07:41:12.880Z"
   },
   {
    "duration": 17,
    "start_time": "2022-03-22T07:41:12.899Z"
   },
   {
    "duration": 9,
    "start_time": "2022-03-22T07:41:12.919Z"
   },
   {
    "duration": 42,
    "start_time": "2022-03-22T07:41:12.931Z"
   },
   {
    "duration": 17,
    "start_time": "2022-03-22T07:41:12.977Z"
   },
   {
    "duration": 29,
    "start_time": "2022-03-22T07:41:12.997Z"
   },
   {
    "duration": 23,
    "start_time": "2022-03-22T07:41:13.029Z"
   },
   {
    "duration": 31,
    "start_time": "2022-03-22T07:41:13.054Z"
   },
   {
    "duration": 55,
    "start_time": "2022-03-22T07:41:13.088Z"
   },
   {
    "duration": 332,
    "start_time": "2022-03-22T07:41:13.145Z"
   },
   {
    "duration": 342,
    "start_time": "2022-03-22T07:41:13.481Z"
   },
   {
    "duration": 275,
    "start_time": "2022-03-22T07:41:13.825Z"
   },
   {
    "duration": 17,
    "start_time": "2022-03-22T07:41:14.103Z"
   },
   {
    "duration": 20,
    "start_time": "2022-03-22T07:41:14.122Z"
   },
   {
    "duration": 11,
    "start_time": "2022-03-22T07:41:14.170Z"
   },
   {
    "duration": 23,
    "start_time": "2022-03-22T07:41:14.183Z"
   },
   {
    "duration": 11,
    "start_time": "2022-03-22T07:41:14.209Z"
   },
   {
    "duration": 1593,
    "start_time": "2022-03-22T08:07:59.426Z"
   },
   {
    "duration": 522,
    "start_time": "2022-03-22T08:08:01.021Z"
   },
   {
    "duration": 25,
    "start_time": "2022-03-22T08:08:01.546Z"
   },
   {
    "duration": 17,
    "start_time": "2022-03-22T08:08:01.573Z"
   },
   {
    "duration": 21,
    "start_time": "2022-03-22T08:08:01.594Z"
   },
   {
    "duration": 26,
    "start_time": "2022-03-22T08:08:01.618Z"
   },
   {
    "duration": 53,
    "start_time": "2022-03-22T08:08:01.646Z"
   },
   {
    "duration": 175,
    "start_time": "2022-03-22T08:08:01.702Z"
   },
   {
    "duration": 12,
    "start_time": "2022-03-22T08:08:01.879Z"
   },
   {
    "duration": 33,
    "start_time": "2022-03-22T08:08:01.893Z"
   },
   {
    "duration": 100,
    "start_time": "2022-03-22T08:08:01.929Z"
   },
   {
    "duration": 15,
    "start_time": "2022-03-22T08:08:02.031Z"
   },
   {
    "duration": 31,
    "start_time": "2022-03-22T08:08:02.068Z"
   },
   {
    "duration": 150,
    "start_time": "2022-03-22T08:08:02.103Z"
   },
   {
    "duration": 22,
    "start_time": "2022-03-22T08:08:02.256Z"
   },
   {
    "duration": 38,
    "start_time": "2022-03-22T08:08:02.280Z"
   },
   {
    "duration": 17,
    "start_time": "2022-03-22T08:08:02.321Z"
   },
   {
    "duration": 49,
    "start_time": "2022-03-22T08:08:02.341Z"
   },
   {
    "duration": 133,
    "start_time": "2022-03-22T08:08:02.392Z"
   },
   {
    "duration": 80,
    "start_time": "2022-03-22T08:08:02.527Z"
   },
   {
    "duration": 19,
    "start_time": "2022-03-22T08:08:02.609Z"
   },
   {
    "duration": 109,
    "start_time": "2022-03-22T08:08:02.630Z"
   },
   {
    "duration": 67,
    "start_time": "2022-03-22T08:08:02.741Z"
   },
   {
    "duration": 41,
    "start_time": "2022-03-22T08:08:02.812Z"
   },
   {
    "duration": 70,
    "start_time": "2022-03-22T08:08:02.874Z"
   },
   {
    "duration": 63,
    "start_time": "2022-03-22T08:08:02.947Z"
   },
   {
    "duration": 16,
    "start_time": "2022-03-22T08:08:03.013Z"
   },
   {
    "duration": 14,
    "start_time": "2022-03-22T08:08:03.031Z"
   },
   {
    "duration": 36,
    "start_time": "2022-03-22T08:08:03.048Z"
   },
   {
    "duration": 19,
    "start_time": "2022-03-22T08:08:03.087Z"
   },
   {
    "duration": 623,
    "start_time": "2022-03-22T08:08:03.108Z"
   },
   {
    "duration": 9,
    "start_time": "2022-03-22T08:08:03.733Z"
   },
   {
    "duration": 73,
    "start_time": "2022-03-22T08:08:03.744Z"
   },
   {
    "duration": 12,
    "start_time": "2022-03-22T08:08:03.820Z"
   },
   {
    "duration": 18,
    "start_time": "2022-03-22T08:08:03.835Z"
   },
   {
    "duration": 54,
    "start_time": "2022-03-22T08:08:03.855Z"
   },
   {
    "duration": 41,
    "start_time": "2022-03-22T08:08:03.911Z"
   },
   {
    "duration": 22,
    "start_time": "2022-03-22T08:08:03.954Z"
   },
   {
    "duration": 30,
    "start_time": "2022-03-22T08:08:03.980Z"
   },
   {
    "duration": 32,
    "start_time": "2022-03-22T08:08:04.012Z"
   },
   {
    "duration": 9,
    "start_time": "2022-03-22T08:08:04.050Z"
   },
   {
    "duration": 29,
    "start_time": "2022-03-22T08:08:04.061Z"
   },
   {
    "duration": 16,
    "start_time": "2022-03-22T08:08:04.093Z"
   },
   {
    "duration": 21,
    "start_time": "2022-03-22T08:08:04.112Z"
   },
   {
    "duration": 57,
    "start_time": "2022-03-22T08:08:04.135Z"
   },
   {
    "duration": 28,
    "start_time": "2022-03-22T08:08:04.194Z"
   },
   {
    "duration": 17,
    "start_time": "2022-03-22T08:08:04.224Z"
   },
   {
    "duration": 36,
    "start_time": "2022-03-22T08:08:04.244Z"
   },
   {
    "duration": 43,
    "start_time": "2022-03-22T08:08:04.282Z"
   },
   {
    "duration": 25,
    "start_time": "2022-03-22T08:08:04.327Z"
   },
   {
    "duration": 39,
    "start_time": "2022-03-22T08:08:04.354Z"
   },
   {
    "duration": 358,
    "start_time": "2022-03-22T08:08:04.396Z"
   },
   {
    "duration": 348,
    "start_time": "2022-03-22T08:08:04.756Z"
   },
   {
    "duration": 311,
    "start_time": "2022-03-22T08:08:05.108Z"
   },
   {
    "duration": 17,
    "start_time": "2022-03-22T08:08:05.421Z"
   },
   {
    "duration": 46,
    "start_time": "2022-03-22T08:08:05.439Z"
   },
   {
    "duration": 25,
    "start_time": "2022-03-22T08:08:05.488Z"
   },
   {
    "duration": 22,
    "start_time": "2022-03-22T08:08:05.516Z"
   },
   {
    "duration": 25,
    "start_time": "2022-03-22T08:08:05.540Z"
   },
   {
    "duration": 71,
    "start_time": "2022-03-22T09:47:26.663Z"
   },
   {
    "duration": 0,
    "start_time": "2022-03-22T09:47:50.867Z"
   },
   {
    "duration": 0,
    "start_time": "2022-03-22T09:47:50.869Z"
   },
   {
    "duration": 0,
    "start_time": "2022-03-22T09:47:50.871Z"
   },
   {
    "duration": 0,
    "start_time": "2022-03-22T09:47:50.873Z"
   },
   {
    "duration": 0,
    "start_time": "2022-03-22T09:47:50.874Z"
   },
   {
    "duration": 0,
    "start_time": "2022-03-22T09:47:50.876Z"
   },
   {
    "duration": 0,
    "start_time": "2022-03-22T09:47:50.877Z"
   },
   {
    "duration": 0,
    "start_time": "2022-03-22T09:47:50.943Z"
   },
   {
    "duration": 0,
    "start_time": "2022-03-22T09:47:50.944Z"
   },
   {
    "duration": 0,
    "start_time": "2022-03-22T09:47:50.946Z"
   },
   {
    "duration": 0,
    "start_time": "2022-03-22T09:47:50.947Z"
   },
   {
    "duration": 0,
    "start_time": "2022-03-22T09:47:50.948Z"
   },
   {
    "duration": 0,
    "start_time": "2022-03-22T09:47:50.949Z"
   },
   {
    "duration": 0,
    "start_time": "2022-03-22T09:47:50.951Z"
   },
   {
    "duration": 0,
    "start_time": "2022-03-22T09:47:50.952Z"
   },
   {
    "duration": 0,
    "start_time": "2022-03-22T09:47:50.954Z"
   },
   {
    "duration": 0,
    "start_time": "2022-03-22T09:47:50.955Z"
   },
   {
    "duration": 0,
    "start_time": "2022-03-22T09:47:50.957Z"
   },
   {
    "duration": 0,
    "start_time": "2022-03-22T09:47:50.958Z"
   },
   {
    "duration": 0,
    "start_time": "2022-03-22T09:47:50.960Z"
   },
   {
    "duration": 0,
    "start_time": "2022-03-22T09:47:50.961Z"
   },
   {
    "duration": 0,
    "start_time": "2022-03-22T09:47:50.962Z"
   },
   {
    "duration": 0,
    "start_time": "2022-03-22T09:47:50.966Z"
   },
   {
    "duration": 0,
    "start_time": "2022-03-22T09:47:50.967Z"
   },
   {
    "duration": 0,
    "start_time": "2022-03-22T09:47:50.968Z"
   },
   {
    "duration": 0,
    "start_time": "2022-03-22T09:47:50.971Z"
   },
   {
    "duration": 0,
    "start_time": "2022-03-22T09:47:50.972Z"
   },
   {
    "duration": 0,
    "start_time": "2022-03-22T09:47:50.974Z"
   },
   {
    "duration": 0,
    "start_time": "2022-03-22T09:47:50.975Z"
   },
   {
    "duration": 0,
    "start_time": "2022-03-22T09:47:50.977Z"
   },
   {
    "duration": 0,
    "start_time": "2022-03-22T09:47:50.978Z"
   },
   {
    "duration": 0,
    "start_time": "2022-03-22T09:47:50.979Z"
   },
   {
    "duration": 0,
    "start_time": "2022-03-22T09:47:50.981Z"
   },
   {
    "duration": 0,
    "start_time": "2022-03-22T09:47:51.044Z"
   },
   {
    "duration": 0,
    "start_time": "2022-03-22T09:47:51.046Z"
   },
   {
    "duration": 0,
    "start_time": "2022-03-22T09:47:51.047Z"
   },
   {
    "duration": 0,
    "start_time": "2022-03-22T09:47:51.049Z"
   },
   {
    "duration": 0,
    "start_time": "2022-03-22T09:47:51.050Z"
   },
   {
    "duration": 0,
    "start_time": "2022-03-22T09:47:51.051Z"
   },
   {
    "duration": 0,
    "start_time": "2022-03-22T09:47:51.053Z"
   },
   {
    "duration": 0,
    "start_time": "2022-03-22T09:47:51.055Z"
   },
   {
    "duration": 0,
    "start_time": "2022-03-22T09:47:51.056Z"
   },
   {
    "duration": 0,
    "start_time": "2022-03-22T09:47:51.058Z"
   },
   {
    "duration": 0,
    "start_time": "2022-03-22T09:47:51.060Z"
   },
   {
    "duration": 0,
    "start_time": "2022-03-22T09:47:51.061Z"
   },
   {
    "duration": 0,
    "start_time": "2022-03-22T09:47:51.063Z"
   },
   {
    "duration": 0,
    "start_time": "2022-03-22T09:47:51.065Z"
   },
   {
    "duration": 0,
    "start_time": "2022-03-22T09:47:51.067Z"
   },
   {
    "duration": 0,
    "start_time": "2022-03-22T09:47:51.068Z"
   },
   {
    "duration": 0,
    "start_time": "2022-03-22T09:47:51.070Z"
   },
   {
    "duration": 0,
    "start_time": "2022-03-22T09:47:51.071Z"
   },
   {
    "duration": 0,
    "start_time": "2022-03-22T09:47:51.073Z"
   },
   {
    "duration": 0,
    "start_time": "2022-03-22T09:47:51.074Z"
   },
   {
    "duration": 0,
    "start_time": "2022-03-22T09:47:51.076Z"
   },
   {
    "duration": 0,
    "start_time": "2022-03-22T09:47:51.077Z"
   },
   {
    "duration": 0,
    "start_time": "2022-03-22T09:47:51.078Z"
   },
   {
    "duration": 0,
    "start_time": "2022-03-22T09:47:51.080Z"
   },
   {
    "duration": 0,
    "start_time": "2022-03-22T09:47:51.081Z"
   },
   {
    "duration": 0,
    "start_time": "2022-03-22T09:47:51.143Z"
   },
   {
    "duration": 5,
    "start_time": "2022-03-22T09:48:19.477Z"
   },
   {
    "duration": 524,
    "start_time": "2022-03-22T09:48:21.807Z"
   },
   {
    "duration": 20,
    "start_time": "2022-03-22T09:48:24.387Z"
   },
   {
    "duration": 16,
    "start_time": "2022-03-22T09:48:27.101Z"
   },
   {
    "duration": 9,
    "start_time": "2022-03-22T09:48:29.486Z"
   },
   {
    "duration": 12,
    "start_time": "2022-03-22T09:48:31.739Z"
   },
   {
    "duration": 34,
    "start_time": "2022-03-22T09:48:35.026Z"
   },
   {
    "duration": 11,
    "start_time": "2022-03-22T09:48:37.226Z"
   },
   {
    "duration": 26,
    "start_time": "2022-03-22T09:48:39.466Z"
   },
   {
    "duration": 13,
    "start_time": "2022-03-22T09:48:42.086Z"
   },
   {
    "duration": 19,
    "start_time": "2022-03-22T09:48:48.726Z"
   },
   {
    "duration": 101,
    "start_time": "2022-03-22T09:48:50.986Z"
   },
   {
    "duration": 31,
    "start_time": "2022-03-22T09:48:53.286Z"
   },
   {
    "duration": 64,
    "start_time": "2022-03-22T09:49:45.757Z"
   },
   {
    "duration": 11,
    "start_time": "2022-03-22T10:06:20.227Z"
   },
   {
    "duration": 89,
    "start_time": "2022-03-22T10:06:27.536Z"
   },
   {
    "duration": 49,
    "start_time": "2022-03-22T10:06:30.526Z"
   },
   {
    "duration": 63,
    "start_time": "2022-03-22T10:06:42.405Z"
   },
   {
    "duration": 21,
    "start_time": "2022-03-22T10:06:47.625Z"
   },
   {
    "duration": 49,
    "start_time": "2022-03-22T10:07:27.787Z"
   },
   {
    "duration": 51,
    "start_time": "2022-03-22T10:08:15.505Z"
   },
   {
    "duration": 29,
    "start_time": "2022-03-22T10:08:19.749Z"
   },
   {
    "duration": 52,
    "start_time": "2022-03-22T10:13:16.485Z"
   },
   {
    "duration": 12,
    "start_time": "2022-03-22T10:15:51.246Z"
   },
   {
    "duration": 8,
    "start_time": "2022-03-22T10:18:09.267Z"
   },
   {
    "duration": 1912,
    "start_time": "2022-03-22T10:26:23.527Z"
   },
   {
    "duration": 28,
    "start_time": "2022-03-22T10:28:47.294Z"
   },
   {
    "duration": 6,
    "start_time": "2022-03-22T10:29:28.134Z"
   },
   {
    "duration": 7,
    "start_time": "2022-03-22T10:29:29.953Z"
   },
   {
    "duration": 462,
    "start_time": "2022-03-22T10:29:30.562Z"
   },
   {
    "duration": 8,
    "start_time": "2022-03-22T10:29:34.534Z"
   },
   {
    "duration": 28,
    "start_time": "2022-03-22T10:29:38.894Z"
   },
   {
    "duration": 29,
    "start_time": "2022-03-22T10:29:47.334Z"
   },
   {
    "duration": 8,
    "start_time": "2022-03-22T10:29:59.693Z"
   },
   {
    "duration": 8,
    "start_time": "2022-03-22T10:30:01.714Z"
   },
   {
    "duration": 8,
    "start_time": "2022-03-22T10:30:03.693Z"
   },
   {
    "duration": 9,
    "start_time": "2022-03-22T10:30:05.934Z"
   },
   {
    "duration": 26,
    "start_time": "2022-03-22T10:42:37.942Z"
   },
   {
    "duration": 29,
    "start_time": "2022-03-22T10:42:40.395Z"
   },
   {
    "duration": 0,
    "start_time": "2022-03-22T10:44:19.616Z"
   },
   {
    "duration": 1613,
    "start_time": "2022-03-22T10:45:34.842Z"
   },
   {
    "duration": 536,
    "start_time": "2022-03-22T10:45:36.457Z"
   },
   {
    "duration": 20,
    "start_time": "2022-03-22T10:45:36.995Z"
   },
   {
    "duration": 16,
    "start_time": "2022-03-22T10:45:37.018Z"
   },
   {
    "duration": 13,
    "start_time": "2022-03-22T10:45:37.036Z"
   },
   {
    "duration": 12,
    "start_time": "2022-03-22T10:45:37.052Z"
   },
   {
    "duration": 37,
    "start_time": "2022-03-22T10:45:37.065Z"
   },
   {
    "duration": 188,
    "start_time": "2022-03-22T10:45:37.105Z"
   },
   {
    "duration": 11,
    "start_time": "2022-03-22T10:45:37.296Z"
   },
   {
    "duration": 47,
    "start_time": "2022-03-22T10:45:37.311Z"
   },
   {
    "duration": 60,
    "start_time": "2022-03-22T10:45:37.360Z"
   },
   {
    "duration": 29,
    "start_time": "2022-03-22T10:45:37.422Z"
   },
   {
    "duration": 31,
    "start_time": "2022-03-22T10:45:37.453Z"
   },
   {
    "duration": 129,
    "start_time": "2022-03-22T10:45:37.486Z"
   },
   {
    "duration": 12,
    "start_time": "2022-03-22T10:45:37.617Z"
   },
   {
    "duration": 15,
    "start_time": "2022-03-22T10:45:37.643Z"
   },
   {
    "duration": 13,
    "start_time": "2022-03-22T10:45:37.660Z"
   },
   {
    "duration": 19,
    "start_time": "2022-03-22T10:45:37.675Z"
   },
   {
    "duration": 132,
    "start_time": "2022-03-22T10:45:37.696Z"
   },
   {
    "duration": 72,
    "start_time": "2022-03-22T10:45:37.831Z"
   },
   {
    "duration": 8,
    "start_time": "2022-03-22T10:45:37.905Z"
   },
   {
    "duration": 103,
    "start_time": "2022-03-22T10:45:37.915Z"
   },
   {
    "duration": 52,
    "start_time": "2022-03-22T10:45:38.020Z"
   },
   {
    "duration": 45,
    "start_time": "2022-03-22T10:45:38.074Z"
   },
   {
    "duration": 68,
    "start_time": "2022-03-22T10:45:38.122Z"
   },
   {
    "duration": 53,
    "start_time": "2022-03-22T10:45:38.194Z"
   },
   {
    "duration": 12,
    "start_time": "2022-03-22T10:45:38.251Z"
   },
   {
    "duration": 6,
    "start_time": "2022-03-22T10:45:38.269Z"
   },
   {
    "duration": 8,
    "start_time": "2022-03-22T10:45:38.278Z"
   },
   {
    "duration": 8,
    "start_time": "2022-03-22T10:45:38.288Z"
   },
   {
    "duration": 500,
    "start_time": "2022-03-22T10:45:38.299Z"
   },
   {
    "duration": 7,
    "start_time": "2022-03-22T10:45:38.801Z"
   },
   {
    "duration": 48,
    "start_time": "2022-03-22T10:45:38.810Z"
   },
   {
    "duration": 7,
    "start_time": "2022-03-22T10:45:38.860Z"
   },
   {
    "duration": 9,
    "start_time": "2022-03-22T10:45:38.870Z"
   },
   {
    "duration": 7,
    "start_time": "2022-03-22T10:45:38.881Z"
   },
   {
    "duration": 7,
    "start_time": "2022-03-22T10:45:38.891Z"
   },
   {
    "duration": 45,
    "start_time": "2022-03-22T10:45:38.900Z"
   },
   {
    "duration": 9,
    "start_time": "2022-03-22T10:45:38.948Z"
   },
   {
    "duration": 11,
    "start_time": "2022-03-22T10:45:38.959Z"
   },
   {
    "duration": 9,
    "start_time": "2022-03-22T10:45:38.972Z"
   },
   {
    "duration": 16,
    "start_time": "2022-03-22T10:45:38.983Z"
   },
   {
    "duration": 54,
    "start_time": "2022-03-22T10:45:39.001Z"
   },
   {
    "duration": 141,
    "start_time": "2022-03-22T10:45:39.057Z"
   },
   {
    "duration": 73,
    "start_time": "2022-03-22T10:45:39.200Z"
   },
   {
    "duration": 40,
    "start_time": "2022-03-22T10:45:39.275Z"
   },
   {
    "duration": 46,
    "start_time": "2022-03-22T10:45:39.317Z"
   },
   {
    "duration": 21,
    "start_time": "2022-03-22T10:45:39.366Z"
   },
   {
    "duration": 27,
    "start_time": "2022-03-22T10:45:39.390Z"
   },
   {
    "duration": 42,
    "start_time": "2022-03-22T10:45:39.419Z"
   },
   {
    "duration": 26,
    "start_time": "2022-03-22T10:45:39.463Z"
   },
   {
    "duration": 338,
    "start_time": "2022-03-22T10:45:39.491Z"
   },
   {
    "duration": 285,
    "start_time": "2022-03-22T10:45:39.832Z"
   },
   {
    "duration": 286,
    "start_time": "2022-03-22T10:45:40.119Z"
   },
   {
    "duration": 43,
    "start_time": "2022-03-22T10:45:40.407Z"
   },
   {
    "duration": 31,
    "start_time": "2022-03-22T10:45:40.452Z"
   },
   {
    "duration": 7125,
    "start_time": "2022-03-22T10:45:40.486Z"
   },
   {
    "duration": 0,
    "start_time": "2022-03-22T10:45:47.613Z"
   },
   {
    "duration": 0,
    "start_time": "2022-03-22T10:45:47.615Z"
   },
   {
    "duration": 10,
    "start_time": "2022-03-22T10:46:58.329Z"
   },
   {
    "duration": 5,
    "start_time": "2022-03-22T11:19:51.041Z"
   },
   {
    "duration": 4,
    "start_time": "2022-03-22T11:20:02.921Z"
   },
   {
    "duration": 14,
    "start_time": "2022-03-22T11:20:46.013Z"
   },
   {
    "duration": 14,
    "start_time": "2022-03-22T11:20:56.041Z"
   },
   {
    "duration": 17,
    "start_time": "2022-03-22T11:21:56.360Z"
   },
   {
    "duration": 8,
    "start_time": "2022-03-22T11:22:16.562Z"
   },
   {
    "duration": 7,
    "start_time": "2022-03-22T11:22:20.353Z"
   },
   {
    "duration": 1532,
    "start_time": "2022-03-22T11:24:52.458Z"
   },
   {
    "duration": 597,
    "start_time": "2022-03-22T11:24:53.993Z"
   },
   {
    "duration": 22,
    "start_time": "2022-03-22T11:24:54.593Z"
   },
   {
    "duration": 34,
    "start_time": "2022-03-22T11:24:54.619Z"
   },
   {
    "duration": 47,
    "start_time": "2022-03-22T11:24:54.656Z"
   },
   {
    "duration": 19,
    "start_time": "2022-03-22T11:24:54.707Z"
   },
   {
    "duration": 39,
    "start_time": "2022-03-22T11:24:54.729Z"
   },
   {
    "duration": 205,
    "start_time": "2022-03-22T11:24:54.771Z"
   },
   {
    "duration": 11,
    "start_time": "2022-03-22T11:24:54.978Z"
   },
   {
    "duration": 28,
    "start_time": "2022-03-22T11:24:54.995Z"
   },
   {
    "duration": 74,
    "start_time": "2022-03-22T11:24:55.045Z"
   },
   {
    "duration": 30,
    "start_time": "2022-03-22T11:24:55.123Z"
   },
   {
    "duration": 36,
    "start_time": "2022-03-22T11:24:55.156Z"
   },
   {
    "duration": 143,
    "start_time": "2022-03-22T11:24:55.195Z"
   },
   {
    "duration": 14,
    "start_time": "2022-03-22T11:24:55.343Z"
   },
   {
    "duration": 22,
    "start_time": "2022-03-22T11:24:55.360Z"
   },
   {
    "duration": 15,
    "start_time": "2022-03-22T11:24:55.385Z"
   },
   {
    "duration": 57,
    "start_time": "2022-03-22T11:24:55.403Z"
   },
   {
    "duration": 181,
    "start_time": "2022-03-22T11:24:55.463Z"
   },
   {
    "duration": 108,
    "start_time": "2022-03-22T11:24:55.647Z"
   },
   {
    "duration": 12,
    "start_time": "2022-03-22T11:24:55.758Z"
   },
   {
    "duration": 138,
    "start_time": "2022-03-22T11:24:55.773Z"
   },
   {
    "duration": 57,
    "start_time": "2022-03-22T11:24:55.914Z"
   },
   {
    "duration": 48,
    "start_time": "2022-03-22T11:24:55.974Z"
   },
   {
    "duration": 72,
    "start_time": "2022-03-22T11:24:56.025Z"
   },
   {
    "duration": 52,
    "start_time": "2022-03-22T11:24:56.099Z"
   },
   {
    "duration": 13,
    "start_time": "2022-03-22T11:24:56.154Z"
   },
   {
    "duration": 7,
    "start_time": "2022-03-22T11:24:56.174Z"
   },
   {
    "duration": 17,
    "start_time": "2022-03-22T11:24:56.183Z"
   },
   {
    "duration": 16,
    "start_time": "2022-03-22T11:24:56.203Z"
   },
   {
    "duration": 533,
    "start_time": "2022-03-22T11:24:56.222Z"
   },
   {
    "duration": 8,
    "start_time": "2022-03-22T11:24:56.757Z"
   },
   {
    "duration": 31,
    "start_time": "2022-03-22T11:24:56.768Z"
   },
   {
    "duration": 7,
    "start_time": "2022-03-22T11:24:56.802Z"
   },
   {
    "duration": 7,
    "start_time": "2022-03-22T11:24:56.844Z"
   },
   {
    "duration": 14,
    "start_time": "2022-03-22T11:24:56.853Z"
   },
   {
    "duration": 15,
    "start_time": "2022-03-22T11:24:56.870Z"
   },
   {
    "duration": 13,
    "start_time": "2022-03-22T11:24:56.887Z"
   },
   {
    "duration": 14,
    "start_time": "2022-03-22T11:24:56.902Z"
   },
   {
    "duration": 26,
    "start_time": "2022-03-22T11:24:56.918Z"
   },
   {
    "duration": 16,
    "start_time": "2022-03-22T11:24:56.947Z"
   },
   {
    "duration": 14,
    "start_time": "2022-03-22T11:24:56.965Z"
   },
   {
    "duration": 17,
    "start_time": "2022-03-22T11:24:56.982Z"
   },
   {
    "duration": 45,
    "start_time": "2022-03-22T11:24:57.002Z"
   },
   {
    "duration": 14,
    "start_time": "2022-03-22T11:24:57.049Z"
   },
   {
    "duration": 11,
    "start_time": "2022-03-22T11:24:57.065Z"
   },
   {
    "duration": 18,
    "start_time": "2022-03-22T11:24:57.078Z"
   },
   {
    "duration": 14,
    "start_time": "2022-03-22T11:24:57.098Z"
   },
   {
    "duration": 34,
    "start_time": "2022-03-22T11:24:57.114Z"
   },
   {
    "duration": 12,
    "start_time": "2022-03-22T11:24:57.150Z"
   },
   {
    "duration": 10,
    "start_time": "2022-03-22T11:24:57.164Z"
   },
   {
    "duration": 11,
    "start_time": "2022-03-22T11:24:57.176Z"
   },
   {
    "duration": 336,
    "start_time": "2022-03-22T11:24:57.190Z"
   },
   {
    "duration": 288,
    "start_time": "2022-03-22T11:24:57.528Z"
   },
   {
    "duration": 285,
    "start_time": "2022-03-22T11:24:57.818Z"
   },
   {
    "duration": 47,
    "start_time": "2022-03-22T11:24:58.105Z"
   },
   {
    "duration": 29,
    "start_time": "2022-03-22T11:24:58.154Z"
   },
   {
    "duration": 12,
    "start_time": "2022-03-22T11:24:58.185Z"
   },
   {
    "duration": 44,
    "start_time": "2022-03-22T11:24:58.199Z"
   },
   {
    "duration": 12,
    "start_time": "2022-03-22T11:24:58.245Z"
   },
   {
    "duration": 22,
    "start_time": "2022-03-22T11:25:08.342Z"
   },
   {
    "duration": 8,
    "start_time": "2022-03-22T11:27:24.586Z"
   },
   {
    "duration": 231,
    "start_time": "2022-03-22T11:28:33.266Z"
   },
   {
    "duration": 145,
    "start_time": "2022-03-22T11:28:36.966Z"
   },
   {
    "duration": 12,
    "start_time": "2022-03-22T11:28:42.305Z"
   },
   {
    "duration": 5,
    "start_time": "2022-03-22T11:28:46.005Z"
   },
   {
    "duration": 8,
    "start_time": "2022-03-22T11:28:49.766Z"
   },
   {
    "duration": 12,
    "start_time": "2022-03-22T11:29:12.965Z"
   },
   {
    "duration": 6,
    "start_time": "2022-03-22T11:29:33.626Z"
   },
   {
    "duration": 25,
    "start_time": "2022-03-22T11:29:41.217Z"
   },
   {
    "duration": 12,
    "start_time": "2022-03-22T11:29:59.166Z"
   },
   {
    "duration": 1468,
    "start_time": "2022-03-22T11:30:11.198Z"
   },
   {
    "duration": 539,
    "start_time": "2022-03-22T11:30:12.669Z"
   },
   {
    "duration": 20,
    "start_time": "2022-03-22T11:30:13.210Z"
   },
   {
    "duration": 21,
    "start_time": "2022-03-22T11:30:13.234Z"
   },
   {
    "duration": 8,
    "start_time": "2022-03-22T11:30:13.257Z"
   },
   {
    "duration": 12,
    "start_time": "2022-03-22T11:30:13.267Z"
   },
   {
    "duration": 65,
    "start_time": "2022-03-22T11:30:13.281Z"
   },
   {
    "duration": 155,
    "start_time": "2022-03-22T11:30:13.348Z"
   },
   {
    "duration": 12,
    "start_time": "2022-03-22T11:30:13.505Z"
   },
   {
    "duration": 43,
    "start_time": "2022-03-22T11:30:13.521Z"
   },
   {
    "duration": 79,
    "start_time": "2022-03-22T11:30:13.566Z"
   },
   {
    "duration": 13,
    "start_time": "2022-03-22T11:30:13.647Z"
   },
   {
    "duration": 41,
    "start_time": "2022-03-22T11:30:13.662Z"
   },
   {
    "duration": 129,
    "start_time": "2022-03-22T11:30:13.705Z"
   },
   {
    "duration": 12,
    "start_time": "2022-03-22T11:30:13.842Z"
   },
   {
    "duration": 16,
    "start_time": "2022-03-22T11:30:13.856Z"
   },
   {
    "duration": 12,
    "start_time": "2022-03-22T11:30:13.875Z"
   },
   {
    "duration": 54,
    "start_time": "2022-03-22T11:30:13.890Z"
   },
   {
    "duration": 123,
    "start_time": "2022-03-22T11:30:13.947Z"
   },
   {
    "duration": 79,
    "start_time": "2022-03-22T11:30:14.072Z"
   },
   {
    "duration": 8,
    "start_time": "2022-03-22T11:30:14.153Z"
   },
   {
    "duration": 105,
    "start_time": "2022-03-22T11:30:14.163Z"
   },
   {
    "duration": 45,
    "start_time": "2022-03-22T11:30:14.270Z"
   },
   {
    "duration": 62,
    "start_time": "2022-03-22T11:30:14.317Z"
   },
   {
    "duration": 69,
    "start_time": "2022-03-22T11:30:14.381Z"
   },
   {
    "duration": 29,
    "start_time": "2022-03-22T11:30:14.452Z"
   },
   {
    "duration": 11,
    "start_time": "2022-03-22T11:30:14.483Z"
   },
   {
    "duration": 7,
    "start_time": "2022-03-22T11:30:14.500Z"
   },
   {
    "duration": 34,
    "start_time": "2022-03-22T11:30:14.509Z"
   },
   {
    "duration": 8,
    "start_time": "2022-03-22T11:30:14.545Z"
   },
   {
    "duration": 604,
    "start_time": "2022-03-22T11:30:14.555Z"
   },
   {
    "duration": 7,
    "start_time": "2022-03-22T11:30:15.161Z"
   },
   {
    "duration": 32,
    "start_time": "2022-03-22T11:30:15.170Z"
   },
   {
    "duration": 7,
    "start_time": "2022-03-22T11:30:15.205Z"
   },
   {
    "duration": 38,
    "start_time": "2022-03-22T11:30:15.213Z"
   },
   {
    "duration": 18,
    "start_time": "2022-03-22T11:30:15.253Z"
   },
   {
    "duration": 25,
    "start_time": "2022-03-22T11:30:15.273Z"
   },
   {
    "duration": 133,
    "start_time": "2022-03-22T11:30:15.300Z"
   },
   {
    "duration": 0,
    "start_time": "2022-03-22T11:30:15.435Z"
   },
   {
    "duration": 0,
    "start_time": "2022-03-22T11:30:15.438Z"
   },
   {
    "duration": 0,
    "start_time": "2022-03-22T11:30:15.442Z"
   },
   {
    "duration": 0,
    "start_time": "2022-03-22T11:30:15.443Z"
   },
   {
    "duration": 0,
    "start_time": "2022-03-22T11:30:15.445Z"
   },
   {
    "duration": 0,
    "start_time": "2022-03-22T11:30:15.446Z"
   },
   {
    "duration": 0,
    "start_time": "2022-03-22T11:30:15.448Z"
   },
   {
    "duration": 0,
    "start_time": "2022-03-22T11:30:15.449Z"
   },
   {
    "duration": 0,
    "start_time": "2022-03-22T11:30:15.451Z"
   },
   {
    "duration": 0,
    "start_time": "2022-03-22T11:30:15.452Z"
   },
   {
    "duration": 0,
    "start_time": "2022-03-22T11:30:15.454Z"
   },
   {
    "duration": 0,
    "start_time": "2022-03-22T11:30:15.456Z"
   },
   {
    "duration": 0,
    "start_time": "2022-03-22T11:30:15.457Z"
   },
   {
    "duration": 0,
    "start_time": "2022-03-22T11:30:15.459Z"
   },
   {
    "duration": 0,
    "start_time": "2022-03-22T11:30:15.460Z"
   },
   {
    "duration": 0,
    "start_time": "2022-03-22T11:30:15.462Z"
   },
   {
    "duration": 0,
    "start_time": "2022-03-22T11:30:15.464Z"
   },
   {
    "duration": 0,
    "start_time": "2022-03-22T11:30:15.466Z"
   },
   {
    "duration": 0,
    "start_time": "2022-03-22T11:30:15.467Z"
   },
   {
    "duration": 0,
    "start_time": "2022-03-22T11:30:15.470Z"
   },
   {
    "duration": 0,
    "start_time": "2022-03-22T11:30:15.471Z"
   },
   {
    "duration": 0,
    "start_time": "2022-03-22T11:30:15.473Z"
   },
   {
    "duration": 8,
    "start_time": "2022-03-22T11:30:31.785Z"
   },
   {
    "duration": 11,
    "start_time": "2022-03-22T11:30:56.465Z"
   },
   {
    "duration": 8,
    "start_time": "2022-03-22T11:31:08.484Z"
   },
   {
    "duration": 11,
    "start_time": "2022-03-22T11:38:53.126Z"
   },
   {
    "duration": 27,
    "start_time": "2022-03-22T11:47:24.273Z"
   },
   {
    "duration": 26,
    "start_time": "2022-03-22T11:47:48.320Z"
   },
   {
    "duration": 15,
    "start_time": "2022-03-22T11:49:18.411Z"
   },
   {
    "duration": 11,
    "start_time": "2022-03-22T11:49:35.732Z"
   },
   {
    "duration": 11,
    "start_time": "2022-03-22T11:49:38.812Z"
   },
   {
    "duration": 11,
    "start_time": "2022-03-22T11:49:49.232Z"
   },
   {
    "duration": 17,
    "start_time": "2022-03-22T11:52:56.334Z"
   },
   {
    "duration": 21,
    "start_time": "2022-03-22T11:53:39.697Z"
   },
   {
    "duration": 17,
    "start_time": "2022-03-22T11:53:52.997Z"
   },
   {
    "duration": 25,
    "start_time": "2022-03-22T11:54:04.497Z"
   },
   {
    "duration": 43,
    "start_time": "2022-03-22T11:54:11.956Z"
   },
   {
    "duration": 11,
    "start_time": "2022-03-22T12:03:40.848Z"
   },
   {
    "duration": 40,
    "start_time": "2022-03-22T12:04:33.303Z"
   },
   {
    "duration": 37,
    "start_time": "2022-03-22T12:05:14.040Z"
   },
   {
    "duration": 13,
    "start_time": "2022-03-22T12:05:24.308Z"
   },
   {
    "duration": 12,
    "start_time": "2022-03-22T12:05:33.587Z"
   },
   {
    "duration": 7,
    "start_time": "2022-03-22T12:05:39.267Z"
   },
   {
    "duration": 8,
    "start_time": "2022-03-22T12:05:41.048Z"
   },
   {
    "duration": 8,
    "start_time": "2022-03-22T12:05:46.888Z"
   },
   {
    "duration": 8,
    "start_time": "2022-03-22T12:05:48.928Z"
   },
   {
    "duration": 16,
    "start_time": "2022-03-22T12:05:53.369Z"
   },
   {
    "duration": 11,
    "start_time": "2022-03-22T12:18:42.766Z"
   },
   {
    "duration": 9,
    "start_time": "2022-03-22T12:21:45.839Z"
   },
   {
    "duration": 11,
    "start_time": "2022-03-22T12:21:53.758Z"
   },
   {
    "duration": 10,
    "start_time": "2022-03-22T12:25:00.746Z"
   },
   {
    "duration": 13,
    "start_time": "2022-03-22T12:25:01.059Z"
   },
   {
    "duration": 11,
    "start_time": "2022-03-22T12:25:32.799Z"
   },
   {
    "duration": 39,
    "start_time": "2022-03-22T12:51:16.834Z"
   },
   {
    "duration": 12,
    "start_time": "2022-03-22T12:51:17.250Z"
   },
   {
    "duration": 12,
    "start_time": "2022-03-22T12:53:57.675Z"
   },
   {
    "duration": 11,
    "start_time": "2022-03-22T12:54:01.625Z"
   },
   {
    "duration": 406,
    "start_time": "2022-03-22T12:59:21.055Z"
   },
   {
    "duration": 311,
    "start_time": "2022-03-22T12:59:49.324Z"
   },
   {
    "duration": 352,
    "start_time": "2022-03-22T13:00:02.446Z"
   },
   {
    "duration": 1325,
    "start_time": "2022-03-23T06:02:46.084Z"
   },
   {
    "duration": 451,
    "start_time": "2022-03-23T06:02:47.412Z"
   },
   {
    "duration": 14,
    "start_time": "2022-03-23T06:02:47.864Z"
   },
   {
    "duration": 13,
    "start_time": "2022-03-23T06:02:47.881Z"
   },
   {
    "duration": 12,
    "start_time": "2022-03-23T06:02:47.896Z"
   },
   {
    "duration": 21,
    "start_time": "2022-03-23T06:02:47.912Z"
   },
   {
    "duration": 28,
    "start_time": "2022-03-23T06:02:47.935Z"
   },
   {
    "duration": 135,
    "start_time": "2022-03-23T06:02:47.965Z"
   },
   {
    "duration": 8,
    "start_time": "2022-03-23T06:02:48.102Z"
   },
   {
    "duration": 31,
    "start_time": "2022-03-23T06:02:48.113Z"
   },
   {
    "duration": 45,
    "start_time": "2022-03-23T06:02:48.146Z"
   },
   {
    "duration": 9,
    "start_time": "2022-03-23T06:02:48.193Z"
   },
   {
    "duration": 42,
    "start_time": "2022-03-23T06:02:48.204Z"
   },
   {
    "duration": 83,
    "start_time": "2022-03-23T06:02:48.248Z"
   },
   {
    "duration": 10,
    "start_time": "2022-03-23T06:02:48.333Z"
   },
   {
    "duration": 13,
    "start_time": "2022-03-23T06:02:48.345Z"
   },
   {
    "duration": 10,
    "start_time": "2022-03-23T06:02:48.360Z"
   },
   {
    "duration": 16,
    "start_time": "2022-03-23T06:02:48.371Z"
   },
   {
    "duration": 99,
    "start_time": "2022-03-23T06:02:48.389Z"
   },
   {
    "duration": 59,
    "start_time": "2022-03-23T06:02:48.490Z"
   },
   {
    "duration": 8,
    "start_time": "2022-03-23T06:02:48.550Z"
   },
   {
    "duration": 78,
    "start_time": "2022-03-23T06:02:48.560Z"
   },
   {
    "duration": 32,
    "start_time": "2022-03-23T06:02:48.640Z"
   },
   {
    "duration": 35,
    "start_time": "2022-03-23T06:02:48.674Z"
   },
   {
    "duration": 56,
    "start_time": "2022-03-23T06:02:48.710Z"
   },
   {
    "duration": 21,
    "start_time": "2022-03-23T06:02:48.767Z"
   },
   {
    "duration": 7,
    "start_time": "2022-03-23T06:02:48.790Z"
   },
   {
    "duration": 32,
    "start_time": "2022-03-23T06:02:48.801Z"
   },
   {
    "duration": 10,
    "start_time": "2022-03-23T06:02:48.835Z"
   },
   {
    "duration": 8,
    "start_time": "2022-03-23T06:02:48.846Z"
   },
   {
    "duration": 269,
    "start_time": "2022-03-23T06:02:48.856Z"
   },
   {
    "duration": 8,
    "start_time": "2022-03-23T06:02:49.126Z"
   },
   {
    "duration": 22,
    "start_time": "2022-03-23T06:02:49.135Z"
   },
   {
    "duration": 5,
    "start_time": "2022-03-23T06:02:49.158Z"
   },
   {
    "duration": 8,
    "start_time": "2022-03-23T06:02:49.165Z"
   },
   {
    "duration": 7,
    "start_time": "2022-03-23T06:02:49.175Z"
   },
   {
    "duration": 8,
    "start_time": "2022-03-23T06:02:49.183Z"
   },
   {
    "duration": 7,
    "start_time": "2022-03-23T06:02:49.192Z"
   },
   {
    "duration": 6,
    "start_time": "2022-03-23T06:02:49.231Z"
   },
   {
    "duration": 11,
    "start_time": "2022-03-23T06:02:49.239Z"
   },
   {
    "duration": 9,
    "start_time": "2022-03-23T06:02:49.252Z"
   },
   {
    "duration": 13,
    "start_time": "2022-03-23T06:02:49.263Z"
   },
   {
    "duration": 10,
    "start_time": "2022-03-23T06:02:49.278Z"
   },
   {
    "duration": 51,
    "start_time": "2022-03-23T06:02:49.290Z"
   },
   {
    "duration": 10,
    "start_time": "2022-03-23T06:02:49.342Z"
   },
   {
    "duration": 9,
    "start_time": "2022-03-23T06:02:49.353Z"
   },
   {
    "duration": 8,
    "start_time": "2022-03-23T06:02:49.364Z"
   },
   {
    "duration": 9,
    "start_time": "2022-03-23T06:02:49.373Z"
   },
   {
    "duration": 7,
    "start_time": "2022-03-23T06:02:49.384Z"
   },
   {
    "duration": 132,
    "start_time": "2022-03-23T06:02:49.393Z"
   },
   {
    "duration": 0,
    "start_time": "2022-03-23T06:02:49.527Z"
   },
   {
    "duration": 0,
    "start_time": "2022-03-23T06:02:49.532Z"
   },
   {
    "duration": 0,
    "start_time": "2022-03-23T06:02:49.533Z"
   },
   {
    "duration": 0,
    "start_time": "2022-03-23T06:02:49.534Z"
   },
   {
    "duration": 0,
    "start_time": "2022-03-23T06:02:49.535Z"
   },
   {
    "duration": 0,
    "start_time": "2022-03-23T06:02:49.537Z"
   },
   {
    "duration": 0,
    "start_time": "2022-03-23T06:02:49.538Z"
   },
   {
    "duration": 0,
    "start_time": "2022-03-23T06:02:49.539Z"
   },
   {
    "duration": 0,
    "start_time": "2022-03-23T06:02:49.540Z"
   },
   {
    "duration": 0,
    "start_time": "2022-03-23T06:02:49.541Z"
   },
   {
    "duration": 8,
    "start_time": "2022-03-23T06:09:16.368Z"
   },
   {
    "duration": 9,
    "start_time": "2022-03-23T06:09:25.268Z"
   },
   {
    "duration": 10,
    "start_time": "2022-03-23T06:09:25.279Z"
   },
   {
    "duration": 268,
    "start_time": "2022-03-23T06:09:25.291Z"
   },
   {
    "duration": 234,
    "start_time": "2022-03-23T06:09:25.561Z"
   },
   {
    "duration": 230,
    "start_time": "2022-03-23T06:09:25.798Z"
   },
   {
    "duration": 22,
    "start_time": "2022-03-23T06:09:26.032Z"
   },
   {
    "duration": 21,
    "start_time": "2022-03-23T06:09:26.056Z"
   },
   {
    "duration": 8,
    "start_time": "2022-03-23T06:09:26.079Z"
   },
   {
    "duration": 43,
    "start_time": "2022-03-23T06:09:26.089Z"
   },
   {
    "duration": 9,
    "start_time": "2022-03-23T06:09:26.134Z"
   },
   {
    "duration": 1197,
    "start_time": "2022-03-23T06:11:03.139Z"
   },
   {
    "duration": 468,
    "start_time": "2022-03-23T06:11:04.338Z"
   },
   {
    "duration": 14,
    "start_time": "2022-03-23T06:11:04.807Z"
   },
   {
    "duration": 12,
    "start_time": "2022-03-23T06:11:04.823Z"
   },
   {
    "duration": 10,
    "start_time": "2022-03-23T06:11:04.837Z"
   },
   {
    "duration": 11,
    "start_time": "2022-03-23T06:11:04.849Z"
   },
   {
    "duration": 29,
    "start_time": "2022-03-23T06:11:04.862Z"
   },
   {
    "duration": 140,
    "start_time": "2022-03-23T06:11:04.892Z"
   },
   {
    "duration": 9,
    "start_time": "2022-03-23T06:11:05.034Z"
   },
   {
    "duration": 24,
    "start_time": "2022-03-23T06:11:05.045Z"
   },
   {
    "duration": 67,
    "start_time": "2022-03-23T06:11:05.071Z"
   },
   {
    "duration": 9,
    "start_time": "2022-03-23T06:11:05.140Z"
   },
   {
    "duration": 29,
    "start_time": "2022-03-23T06:11:05.150Z"
   },
   {
    "duration": 95,
    "start_time": "2022-03-23T06:11:05.183Z"
   },
   {
    "duration": 11,
    "start_time": "2022-03-23T06:11:05.281Z"
   },
   {
    "duration": 16,
    "start_time": "2022-03-23T06:11:05.294Z"
   },
   {
    "duration": 20,
    "start_time": "2022-03-23T06:11:05.312Z"
   },
   {
    "duration": 13,
    "start_time": "2022-03-23T06:11:05.334Z"
   },
   {
    "duration": 107,
    "start_time": "2022-03-23T06:11:05.348Z"
   },
   {
    "duration": 54,
    "start_time": "2022-03-23T06:11:05.457Z"
   },
   {
    "duration": 21,
    "start_time": "2022-03-23T06:11:05.513Z"
   },
   {
    "duration": 70,
    "start_time": "2022-03-23T06:11:05.536Z"
   },
   {
    "duration": 47,
    "start_time": "2022-03-23T06:11:05.608Z"
   },
   {
    "duration": 37,
    "start_time": "2022-03-23T06:11:05.657Z"
   },
   {
    "duration": 51,
    "start_time": "2022-03-23T06:11:05.696Z"
   },
   {
    "duration": 22,
    "start_time": "2022-03-23T06:11:05.749Z"
   },
   {
    "duration": 44,
    "start_time": "2022-03-23T06:11:05.773Z"
   },
   {
    "duration": 25,
    "start_time": "2022-03-23T06:11:05.819Z"
   },
   {
    "duration": 45,
    "start_time": "2022-03-23T06:11:05.846Z"
   },
   {
    "duration": 46,
    "start_time": "2022-03-23T06:11:05.893Z"
   },
   {
    "duration": 308,
    "start_time": "2022-03-23T06:11:05.941Z"
   },
   {
    "duration": 6,
    "start_time": "2022-03-23T06:11:06.252Z"
   },
   {
    "duration": 52,
    "start_time": "2022-03-23T06:11:06.260Z"
   },
   {
    "duration": 15,
    "start_time": "2022-03-23T06:11:06.314Z"
   },
   {
    "duration": 31,
    "start_time": "2022-03-23T06:11:06.331Z"
   },
   {
    "duration": 42,
    "start_time": "2022-03-23T06:11:06.364Z"
   },
   {
    "duration": 30,
    "start_time": "2022-03-23T06:11:06.408Z"
   },
   {
    "duration": 31,
    "start_time": "2022-03-23T06:11:06.440Z"
   },
   {
    "duration": 19,
    "start_time": "2022-03-23T06:11:06.472Z"
   },
   {
    "duration": 45,
    "start_time": "2022-03-23T06:11:06.493Z"
   },
   {
    "duration": 46,
    "start_time": "2022-03-23T06:11:06.542Z"
   },
   {
    "duration": 43,
    "start_time": "2022-03-23T06:11:06.589Z"
   },
   {
    "duration": 39,
    "start_time": "2022-03-23T06:11:06.634Z"
   },
   {
    "duration": 68,
    "start_time": "2022-03-23T06:11:06.675Z"
   },
   {
    "duration": 28,
    "start_time": "2022-03-23T06:11:06.745Z"
   },
   {
    "duration": 31,
    "start_time": "2022-03-23T06:11:06.775Z"
   },
   {
    "duration": 44,
    "start_time": "2022-03-23T06:11:06.808Z"
   },
   {
    "duration": 40,
    "start_time": "2022-03-23T06:11:06.854Z"
   },
   {
    "duration": 31,
    "start_time": "2022-03-23T06:11:06.896Z"
   },
   {
    "duration": 30,
    "start_time": "2022-03-23T06:11:06.929Z"
   },
   {
    "duration": 30,
    "start_time": "2022-03-23T06:11:06.961Z"
   },
   {
    "duration": 25,
    "start_time": "2022-03-23T06:11:06.993Z"
   },
   {
    "duration": 293,
    "start_time": "2022-03-23T06:11:07.019Z"
   },
   {
    "duration": 237,
    "start_time": "2022-03-23T06:11:07.314Z"
   },
   {
    "duration": 235,
    "start_time": "2022-03-23T06:11:07.553Z"
   },
   {
    "duration": 20,
    "start_time": "2022-03-23T06:11:07.790Z"
   },
   {
    "duration": 52,
    "start_time": "2022-03-23T06:11:07.812Z"
   },
   {
    "duration": 32,
    "start_time": "2022-03-23T06:11:07.866Z"
   },
   {
    "duration": 47,
    "start_time": "2022-03-23T06:11:07.900Z"
   },
   {
    "duration": 36,
    "start_time": "2022-03-23T06:11:07.949Z"
   }
  ],
  "kernelspec": {
   "display_name": "Python 3 (ipykernel)",
   "language": "python",
   "name": "python3"
  },
  "language_info": {
   "codemirror_mode": {
    "name": "ipython",
    "version": 3
   },
   "file_extension": ".py",
   "mimetype": "text/x-python",
   "name": "python",
   "nbconvert_exporter": "python",
   "pygments_lexer": "ipython3",
   "version": "3.10.5"
  },
  "toc": {
   "base_numbering": 1,
   "nav_menu": {},
   "number_sections": true,
   "sideBar": true,
   "skip_h1_title": true,
   "title_cell": "Table of Contents",
   "title_sidebar": "Contents",
   "toc_cell": false,
   "toc_position": {},
   "toc_section_display": true,
   "toc_window_display": false
  }
 },
 "nbformat": 4,
 "nbformat_minor": 2
}
