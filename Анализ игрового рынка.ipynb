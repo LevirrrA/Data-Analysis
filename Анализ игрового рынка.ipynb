{
 "cells": [
  {
   "cell_type": "markdown",
   "metadata": {},
   "source": [
    "# Описание проекта\n",
    "\n",
    "Вы работаете в интернет-магазине «Стримчик», который продаёт по всему миру\n",
    "компьютерные игры. Из открытых источников доступны исторические данные о\n",
    "продажах игр, оценки пользователей и экспертов, жанры и платформы\n",
    "(например, Xboxили PlayStation). Вам нужно выявить определяющие успешность\n",
    "игры закономерности. Это позволит сделать ставку на потенциально популярный\n",
    "продукт и спланировать рекламные кампании.\n",
    "\n",
    "Перед вами данные до 2016 года. Представим, что сейчас декабрь 2016 г., и вы\n",
    "планируете кампанию на 2017-й. Нужно отработать принцип работы с данными.\n",
    "Неважно, прогнозируете ли вы продажи на 2017 год по данным 2016-го или же\n",
    "2027-й — по данным 2026 года.\n",
    "\n",
    "В наборе данных попадается аббревиатура ESRB (Entertainment Software Rating\n",
    "Board) — это ассоциация, определяющая возрастной рейтинг компьютерных\n",
    "игр. ESRB оценивает игровой контент и присваивает ему подходящую возрастную\n",
    "категорию, например, «Для взрослых», «Для детей младшего возраста» или «Для\n",
    "подростков»."
   ]
  },
  {
   "cell_type": "markdown",
   "metadata": {},
   "source": [
    "# Описание данных\n",
    "\n",
    "`Name` — название игры\n",
    "\n",
    "`Platform` — платформа\n",
    "\n",
    "`Year_of_Release` — год выпуска\n",
    "\n",
    "`Genre` — жанр игры\n",
    "\n",
    "`NA_sales` — продажи в Северной Америке (миллионы проданных копий)\n",
    "\n",
    "`EU_sales` — продажи в Европе (миллионы проданных копий)\n",
    "\n",
    "`JP_sales` — продажи в Японии (миллионы проданных копий)\n",
    "\n",
    "`Other_sales` — продажи в других странах (миллионы проданных копий)\n",
    "\n",
    "`Critic_Score` — оценка критиков (максимум 100)\n",
    "\n",
    "`User_Score` — оценка пользователей (максимум 10)\n",
    "\n",
    "`Rating` — рейтинг от организации ESRB (англ. Entertainment Software Rating\n",
    "Board). Эта ассоциация определяет рейтинг компьютерных игр и присваивает\n",
    "им подходящую возрастную категорию.\n",
    "\n",
    "Данные за 2016 год могут быть неполными."
   ]
  },
  {
   "cell_type": "markdown",
   "metadata": {},
   "source": [
    "# Шаг 1. Обзор данных"
   ]
  },
  {
   "cell_type": "markdown",
   "metadata": {},
   "source": [
    "Перед началом работы импортируем нужные библиотеки и прочитаем файл с данными, предварительно сохранив его в отдельной переменной. Затем посмотрим, что представляет из себя таблица, выведя ее на экран."
   ]
  },
  {
   "cell_type": "code",
   "execution_count": 1,
   "metadata": {},
   "outputs": [],
   "source": [
    "# импорт нужных библиотек\n",
    "import pandas as pd\n",
    "import numpy as np\n",
    "import matplotlib.pyplot as plt\n",
    "from scipy import stats as st\n",
    "import seaborn as sns"
   ]
  },
  {
   "cell_type": "code",
   "execution_count": 2,
   "metadata": {},
   "outputs": [
    {
     "data": {
      "text/html": [
       "<div>\n",
       "<style scoped>\n",
       "    .dataframe tbody tr th:only-of-type {\n",
       "        vertical-align: middle;\n",
       "    }\n",
       "\n",
       "    .dataframe tbody tr th {\n",
       "        vertical-align: top;\n",
       "    }\n",
       "\n",
       "    .dataframe thead th {\n",
       "        text-align: right;\n",
       "    }\n",
       "</style>\n",
       "<table border=\"1\" class=\"dataframe\">\n",
       "  <thead>\n",
       "    <tr style=\"text-align: right;\">\n",
       "      <th></th>\n",
       "      <th>Name</th>\n",
       "      <th>Platform</th>\n",
       "      <th>Year_of_Release</th>\n",
       "      <th>Genre</th>\n",
       "      <th>NA_sales</th>\n",
       "      <th>EU_sales</th>\n",
       "      <th>JP_sales</th>\n",
       "      <th>Other_sales</th>\n",
       "      <th>Critic_Score</th>\n",
       "      <th>User_Score</th>\n",
       "      <th>Rating</th>\n",
       "    </tr>\n",
       "  </thead>\n",
       "  <tbody>\n",
       "    <tr>\n",
       "      <th>0</th>\n",
       "      <td>Wii Sports</td>\n",
       "      <td>Wii</td>\n",
       "      <td>2006.0</td>\n",
       "      <td>Sports</td>\n",
       "      <td>41.36</td>\n",
       "      <td>28.96</td>\n",
       "      <td>3.77</td>\n",
       "      <td>8.45</td>\n",
       "      <td>76.0</td>\n",
       "      <td>8</td>\n",
       "      <td>E</td>\n",
       "    </tr>\n",
       "    <tr>\n",
       "      <th>1</th>\n",
       "      <td>Super Mario Bros.</td>\n",
       "      <td>NES</td>\n",
       "      <td>1985.0</td>\n",
       "      <td>Platform</td>\n",
       "      <td>29.08</td>\n",
       "      <td>3.58</td>\n",
       "      <td>6.81</td>\n",
       "      <td>0.77</td>\n",
       "      <td>NaN</td>\n",
       "      <td>NaN</td>\n",
       "      <td>NaN</td>\n",
       "    </tr>\n",
       "    <tr>\n",
       "      <th>2</th>\n",
       "      <td>Mario Kart Wii</td>\n",
       "      <td>Wii</td>\n",
       "      <td>2008.0</td>\n",
       "      <td>Racing</td>\n",
       "      <td>15.68</td>\n",
       "      <td>12.76</td>\n",
       "      <td>3.79</td>\n",
       "      <td>3.29</td>\n",
       "      <td>82.0</td>\n",
       "      <td>8.3</td>\n",
       "      <td>E</td>\n",
       "    </tr>\n",
       "    <tr>\n",
       "      <th>3</th>\n",
       "      <td>Wii Sports Resort</td>\n",
       "      <td>Wii</td>\n",
       "      <td>2009.0</td>\n",
       "      <td>Sports</td>\n",
       "      <td>15.61</td>\n",
       "      <td>10.93</td>\n",
       "      <td>3.28</td>\n",
       "      <td>2.95</td>\n",
       "      <td>80.0</td>\n",
       "      <td>8</td>\n",
       "      <td>E</td>\n",
       "    </tr>\n",
       "    <tr>\n",
       "      <th>4</th>\n",
       "      <td>Pokemon Red/Pokemon Blue</td>\n",
       "      <td>GB</td>\n",
       "      <td>1996.0</td>\n",
       "      <td>Role-Playing</td>\n",
       "      <td>11.27</td>\n",
       "      <td>8.89</td>\n",
       "      <td>10.22</td>\n",
       "      <td>1.00</td>\n",
       "      <td>NaN</td>\n",
       "      <td>NaN</td>\n",
       "      <td>NaN</td>\n",
       "    </tr>\n",
       "    <tr>\n",
       "      <th>5</th>\n",
       "      <td>Tetris</td>\n",
       "      <td>GB</td>\n",
       "      <td>1989.0</td>\n",
       "      <td>Puzzle</td>\n",
       "      <td>23.20</td>\n",
       "      <td>2.26</td>\n",
       "      <td>4.22</td>\n",
       "      <td>0.58</td>\n",
       "      <td>NaN</td>\n",
       "      <td>NaN</td>\n",
       "      <td>NaN</td>\n",
       "    </tr>\n",
       "    <tr>\n",
       "      <th>6</th>\n",
       "      <td>New Super Mario Bros.</td>\n",
       "      <td>DS</td>\n",
       "      <td>2006.0</td>\n",
       "      <td>Platform</td>\n",
       "      <td>11.28</td>\n",
       "      <td>9.14</td>\n",
       "      <td>6.50</td>\n",
       "      <td>2.88</td>\n",
       "      <td>89.0</td>\n",
       "      <td>8.5</td>\n",
       "      <td>E</td>\n",
       "    </tr>\n",
       "    <tr>\n",
       "      <th>7</th>\n",
       "      <td>Wii Play</td>\n",
       "      <td>Wii</td>\n",
       "      <td>2006.0</td>\n",
       "      <td>Misc</td>\n",
       "      <td>13.96</td>\n",
       "      <td>9.18</td>\n",
       "      <td>2.93</td>\n",
       "      <td>2.84</td>\n",
       "      <td>58.0</td>\n",
       "      <td>6.6</td>\n",
       "      <td>E</td>\n",
       "    </tr>\n",
       "    <tr>\n",
       "      <th>8</th>\n",
       "      <td>New Super Mario Bros. Wii</td>\n",
       "      <td>Wii</td>\n",
       "      <td>2009.0</td>\n",
       "      <td>Platform</td>\n",
       "      <td>14.44</td>\n",
       "      <td>6.94</td>\n",
       "      <td>4.70</td>\n",
       "      <td>2.24</td>\n",
       "      <td>87.0</td>\n",
       "      <td>8.4</td>\n",
       "      <td>E</td>\n",
       "    </tr>\n",
       "    <tr>\n",
       "      <th>9</th>\n",
       "      <td>Duck Hunt</td>\n",
       "      <td>NES</td>\n",
       "      <td>1984.0</td>\n",
       "      <td>Shooter</td>\n",
       "      <td>26.93</td>\n",
       "      <td>0.63</td>\n",
       "      <td>0.28</td>\n",
       "      <td>0.47</td>\n",
       "      <td>NaN</td>\n",
       "      <td>NaN</td>\n",
       "      <td>NaN</td>\n",
       "    </tr>\n",
       "  </tbody>\n",
       "</table>\n",
       "</div>"
      ],
      "text/plain": [
       "                        Name Platform  Year_of_Release         Genre  \\\n",
       "0                 Wii Sports      Wii           2006.0        Sports   \n",
       "1          Super Mario Bros.      NES           1985.0      Platform   \n",
       "2             Mario Kart Wii      Wii           2008.0        Racing   \n",
       "3          Wii Sports Resort      Wii           2009.0        Sports   \n",
       "4   Pokemon Red/Pokemon Blue       GB           1996.0  Role-Playing   \n",
       "5                     Tetris       GB           1989.0        Puzzle   \n",
       "6      New Super Mario Bros.       DS           2006.0      Platform   \n",
       "7                   Wii Play      Wii           2006.0          Misc   \n",
       "8  New Super Mario Bros. Wii      Wii           2009.0      Platform   \n",
       "9                  Duck Hunt      NES           1984.0       Shooter   \n",
       "\n",
       "   NA_sales  EU_sales  JP_sales  Other_sales  Critic_Score User_Score Rating  \n",
       "0     41.36     28.96      3.77         8.45          76.0          8      E  \n",
       "1     29.08      3.58      6.81         0.77           NaN        NaN    NaN  \n",
       "2     15.68     12.76      3.79         3.29          82.0        8.3      E  \n",
       "3     15.61     10.93      3.28         2.95          80.0          8      E  \n",
       "4     11.27      8.89     10.22         1.00           NaN        NaN    NaN  \n",
       "5     23.20      2.26      4.22         0.58           NaN        NaN    NaN  \n",
       "6     11.28      9.14      6.50         2.88          89.0        8.5      E  \n",
       "7     13.96      9.18      2.93         2.84          58.0        6.6      E  \n",
       "8     14.44      6.94      4.70         2.24          87.0        8.4      E  \n",
       "9     26.93      0.63      0.28         0.47           NaN        NaN    NaN  "
      ]
     },
     "execution_count": 2,
     "metadata": {},
     "output_type": "execute_result"
    }
   ],
   "source": [
    "# чтение файла и вывод таблицы на экран\n",
    "games = pd.read_csv('/datasets/games.csv', sep = ',')\n",
    "games.head(10)"
   ]
  },
  {
   "cell_type": "markdown",
   "metadata": {},
   "source": [
    "Видим пропуски и неуместные типы данных, некорректные названия столбцов. Продолжаем обзор."
   ]
  },
  {
   "cell_type": "code",
   "execution_count": 3,
   "metadata": {},
   "outputs": [
    {
     "name": "stdout",
     "output_type": "stream",
     "text": [
      "<class 'pandas.core.frame.DataFrame'>\n",
      "RangeIndex: 16715 entries, 0 to 16714\n",
      "Data columns (total 11 columns):\n",
      " #   Column           Non-Null Count  Dtype  \n",
      "---  ------           --------------  -----  \n",
      " 0   Name             16713 non-null  object \n",
      " 1   Platform         16715 non-null  object \n",
      " 2   Year_of_Release  16446 non-null  float64\n",
      " 3   Genre            16713 non-null  object \n",
      " 4   NA_sales         16715 non-null  float64\n",
      " 5   EU_sales         16715 non-null  float64\n",
      " 6   JP_sales         16715 non-null  float64\n",
      " 7   Other_sales      16715 non-null  float64\n",
      " 8   Critic_Score     8137 non-null   float64\n",
      " 9   User_Score       10014 non-null  object \n",
      " 10  Rating           9949 non-null   object \n",
      "dtypes: float64(6), object(5)\n",
      "memory usage: 1.4+ MB\n"
     ]
    }
   ],
   "source": [
    "# вывод общей информации по таблице\n",
    "games.info()"
   ]
  },
  {
   "cell_type": "markdown",
   "metadata": {},
   "source": [
    "В столбцах `Year_of_Release` и `Critic_Score` данные имеют тип `float` - год и оценка должны быть целыми числами. Столбец `User_Score` имеет тип `object`, хотя там должны быть числа. Посмотрим, какие там значения."
   ]
  },
  {
   "cell_type": "code",
   "execution_count": 4,
   "metadata": {},
   "outputs": [
    {
     "data": {
      "text/plain": [
       "array(['8', nan, '8.3', '8.5', '6.6', '8.4', '8.6', '7.7', '6.3', '7.4',\n",
       "       '8.2', '9', '7.9', '8.1', '8.7', '7.1', '3.4', '5.3', '4.8', '3.2',\n",
       "       '8.9', '6.4', '7.8', '7.5', '2.6', '7.2', '9.2', '7', '7.3', '4.3',\n",
       "       '7.6', '5.7', '5', '9.1', '6.5', 'tbd', '8.8', '6.9', '9.4', '6.8',\n",
       "       '6.1', '6.7', '5.4', '4', '4.9', '4.5', '9.3', '6.2', '4.2', '6',\n",
       "       '3.7', '4.1', '5.8', '5.6', '5.5', '4.4', '4.6', '5.9', '3.9',\n",
       "       '3.1', '2.9', '5.2', '3.3', '4.7', '5.1', '3.5', '2.5', '1.9', '3',\n",
       "       '2.7', '2.2', '2', '9.5', '2.1', '3.6', '2.8', '1.8', '3.8', '0',\n",
       "       '1.6', '9.6', '2.4', '1.7', '1.1', '0.3', '1.5', '0.7', '1.2',\n",
       "       '2.3', '0.5', '1.3', '0.2', '0.6', '1.4', '0.9', '1', '9.7'],\n",
       "      dtype=object)"
      ]
     },
     "execution_count": 4,
     "metadata": {},
     "output_type": "execute_result"
    }
   ],
   "source": [
    "# проверка уникальных значений\n",
    "games['User_Score'].unique()"
   ]
  },
  {
   "cell_type": "markdown",
   "metadata": {},
   "source": [
    "Нашлось. Это `tbd`, или \"to be determined\" - используется, если какая-то информация еще не определена, служит для отметки неясностей или пропусков, которые надо заполнить. В данном столбце это означает, что количества отзывов от игроков недостаточно. Фактически это пропущенное значение, и обработать его надо как пропуск. Разумно заменить целые числа на числа с плавающей точкой, поскольку большинство оценок - дробные числа."
   ]
  },
  {
   "cell_type": "code",
   "execution_count": 5,
   "metadata": {},
   "outputs": [
    {
     "data": {
      "text/html": [
       "<div>\n",
       "<style scoped>\n",
       "    .dataframe tbody tr th:only-of-type {\n",
       "        vertical-align: middle;\n",
       "    }\n",
       "\n",
       "    .dataframe tbody tr th {\n",
       "        vertical-align: top;\n",
       "    }\n",
       "\n",
       "    .dataframe thead th {\n",
       "        text-align: right;\n",
       "    }\n",
       "</style>\n",
       "<table border=\"1\" class=\"dataframe\">\n",
       "  <thead>\n",
       "    <tr style=\"text-align: right;\">\n",
       "      <th></th>\n",
       "      <th>Year_of_Release</th>\n",
       "      <th>NA_sales</th>\n",
       "      <th>EU_sales</th>\n",
       "      <th>JP_sales</th>\n",
       "      <th>Other_sales</th>\n",
       "      <th>Critic_Score</th>\n",
       "    </tr>\n",
       "  </thead>\n",
       "  <tbody>\n",
       "    <tr>\n",
       "      <th>count</th>\n",
       "      <td>16446.000000</td>\n",
       "      <td>16715.000000</td>\n",
       "      <td>16715.000000</td>\n",
       "      <td>16715.000000</td>\n",
       "      <td>16715.000000</td>\n",
       "      <td>8137.000000</td>\n",
       "    </tr>\n",
       "    <tr>\n",
       "      <th>mean</th>\n",
       "      <td>2006.484616</td>\n",
       "      <td>0.263377</td>\n",
       "      <td>0.145060</td>\n",
       "      <td>0.077617</td>\n",
       "      <td>0.047342</td>\n",
       "      <td>68.967679</td>\n",
       "    </tr>\n",
       "    <tr>\n",
       "      <th>std</th>\n",
       "      <td>5.877050</td>\n",
       "      <td>0.813604</td>\n",
       "      <td>0.503339</td>\n",
       "      <td>0.308853</td>\n",
       "      <td>0.186731</td>\n",
       "      <td>13.938165</td>\n",
       "    </tr>\n",
       "    <tr>\n",
       "      <th>min</th>\n",
       "      <td>1980.000000</td>\n",
       "      <td>0.000000</td>\n",
       "      <td>0.000000</td>\n",
       "      <td>0.000000</td>\n",
       "      <td>0.000000</td>\n",
       "      <td>13.000000</td>\n",
       "    </tr>\n",
       "    <tr>\n",
       "      <th>25%</th>\n",
       "      <td>2003.000000</td>\n",
       "      <td>0.000000</td>\n",
       "      <td>0.000000</td>\n",
       "      <td>0.000000</td>\n",
       "      <td>0.000000</td>\n",
       "      <td>60.000000</td>\n",
       "    </tr>\n",
       "    <tr>\n",
       "      <th>50%</th>\n",
       "      <td>2007.000000</td>\n",
       "      <td>0.080000</td>\n",
       "      <td>0.020000</td>\n",
       "      <td>0.000000</td>\n",
       "      <td>0.010000</td>\n",
       "      <td>71.000000</td>\n",
       "    </tr>\n",
       "    <tr>\n",
       "      <th>75%</th>\n",
       "      <td>2010.000000</td>\n",
       "      <td>0.240000</td>\n",
       "      <td>0.110000</td>\n",
       "      <td>0.040000</td>\n",
       "      <td>0.030000</td>\n",
       "      <td>79.000000</td>\n",
       "    </tr>\n",
       "    <tr>\n",
       "      <th>max</th>\n",
       "      <td>2016.000000</td>\n",
       "      <td>41.360000</td>\n",
       "      <td>28.960000</td>\n",
       "      <td>10.220000</td>\n",
       "      <td>10.570000</td>\n",
       "      <td>98.000000</td>\n",
       "    </tr>\n",
       "  </tbody>\n",
       "</table>\n",
       "</div>"
      ],
      "text/plain": [
       "       Year_of_Release      NA_sales      EU_sales      JP_sales  \\\n",
       "count     16446.000000  16715.000000  16715.000000  16715.000000   \n",
       "mean       2006.484616      0.263377      0.145060      0.077617   \n",
       "std           5.877050      0.813604      0.503339      0.308853   \n",
       "min        1980.000000      0.000000      0.000000      0.000000   \n",
       "25%        2003.000000      0.000000      0.000000      0.000000   \n",
       "50%        2007.000000      0.080000      0.020000      0.000000   \n",
       "75%        2010.000000      0.240000      0.110000      0.040000   \n",
       "max        2016.000000     41.360000     28.960000     10.220000   \n",
       "\n",
       "        Other_sales  Critic_Score  \n",
       "count  16715.000000   8137.000000  \n",
       "mean       0.047342     68.967679  \n",
       "std        0.186731     13.938165  \n",
       "min        0.000000     13.000000  \n",
       "25%        0.000000     60.000000  \n",
       "50%        0.010000     71.000000  \n",
       "75%        0.030000     79.000000  \n",
       "max       10.570000     98.000000  "
      ]
     },
     "execution_count": 5,
     "metadata": {},
     "output_type": "execute_result"
    }
   ],
   "source": [
    "# вывод описательной статистики\n",
    "games.describe()"
   ]
  },
  {
   "cell_type": "markdown",
   "metadata": {},
   "source": [
    "Здесь со значениями все в порядке, идем дальше. Проверим полные и неполные дубликаты."
   ]
  },
  {
   "cell_type": "code",
   "execution_count": 6,
   "metadata": {},
   "outputs": [
    {
     "data": {
      "text/plain": [
       "array(['Wii Sports', 'Super Mario Bros.', 'Mario Kart Wii', ...,\n",
       "       'Woody Woodpecker in Crazy Castle 5', 'LMA Manager 2007',\n",
       "       'Haitaka no Psychedelica'], dtype=object)"
      ]
     },
     "metadata": {},
     "output_type": "display_data"
    },
    {
     "data": {
      "text/plain": [
       "array(['Wii', 'NES', 'GB', 'DS', 'X360', 'PS3', 'PS2', 'SNES', 'GBA',\n",
       "       'PS4', '3DS', 'N64', 'PS', 'XB', 'PC', '2600', 'PSP', 'XOne',\n",
       "       'WiiU', 'GC', 'GEN', 'DC', 'PSV', 'SAT', 'SCD', 'WS', 'NG', 'TG16',\n",
       "       '3DO', 'GG', 'PCFX'], dtype=object)"
      ]
     },
     "metadata": {},
     "output_type": "display_data"
    },
    {
     "data": {
      "text/plain": [
       "array(['Sports', 'Platform', 'Racing', 'Role-Playing', 'Puzzle', 'Misc',\n",
       "       'Shooter', 'Simulation', 'Action', 'Fighting', 'Adventure',\n",
       "       'Strategy', nan], dtype=object)"
      ]
     },
     "metadata": {},
     "output_type": "display_data"
    }
   ],
   "source": [
    "# проверка уникальных значений\n",
    "display(games['Name'].unique())\n",
    "display(games['Platform'].unique())\n",
    "display(games['Genre'].unique())"
   ]
  },
  {
   "cell_type": "markdown",
   "metadata": {},
   "source": [
    "Названий игр слишком много. Если там есть неполные дубликаты, то это, скорее всего, названия разных частей одной игры. С платформами и жанрами все в порядке."
   ]
  },
  {
   "cell_type": "code",
   "execution_count": 7,
   "metadata": {},
   "outputs": [
    {
     "data": {
      "text/plain": [
       "0"
      ]
     },
     "execution_count": 7,
     "metadata": {},
     "output_type": "execute_result"
    }
   ],
   "source": [
    "# проверка полных дубликатов\n",
    "games.duplicated().sum()"
   ]
  },
  {
   "cell_type": "markdown",
   "metadata": {},
   "source": [
    "Теперь займемся пропусками."
   ]
  },
  {
   "cell_type": "code",
   "execution_count": 8,
   "metadata": {
    "scrolled": true
   },
   "outputs": [
    {
     "data": {
      "text/plain": [
       "Name                  2\n",
       "Platform              0\n",
       "Year_of_Release     269\n",
       "Genre                 2\n",
       "NA_sales              0\n",
       "EU_sales              0\n",
       "JP_sales              0\n",
       "Other_sales           0\n",
       "Critic_Score       8578\n",
       "User_Score         6701\n",
       "Rating             6766\n",
       "dtype: int64"
      ]
     },
     "execution_count": 8,
     "metadata": {},
     "output_type": "execute_result"
    }
   ],
   "source": [
    "# подсчет пропусков\n",
    "games.isna().sum()"
   ]
  },
  {
   "cell_type": "code",
   "execution_count": 9,
   "metadata": {},
   "outputs": [
    {
     "data": {
      "text/plain": [
       "Name                0.011965\n",
       "Platform            0.000000\n",
       "Year_of_Release     1.609333\n",
       "Genre               0.011965\n",
       "NA_sales            0.000000\n",
       "EU_sales            0.000000\n",
       "JP_sales            0.000000\n",
       "Other_sales         0.000000\n",
       "Critic_Score       51.319174\n",
       "User_Score         40.089740\n",
       "Rating             40.478612\n",
       "dtype: float64"
      ]
     },
     "execution_count": 9,
     "metadata": {},
     "output_type": "execute_result"
    }
   ],
   "source": [
    "# то же самое в процентах\n",
    "games.isna().sum()/games.shape[0]*100"
   ]
  },
  {
   "cell_type": "markdown",
   "metadata": {},
   "source": [
    "Есть пропуски в 6 столбцах. Начнем с названия игры."
   ]
  },
  {
   "cell_type": "code",
   "execution_count": 10,
   "metadata": {},
   "outputs": [
    {
     "data": {
      "text/html": [
       "<div>\n",
       "<style scoped>\n",
       "    .dataframe tbody tr th:only-of-type {\n",
       "        vertical-align: middle;\n",
       "    }\n",
       "\n",
       "    .dataframe tbody tr th {\n",
       "        vertical-align: top;\n",
       "    }\n",
       "\n",
       "    .dataframe thead th {\n",
       "        text-align: right;\n",
       "    }\n",
       "</style>\n",
       "<table border=\"1\" class=\"dataframe\">\n",
       "  <thead>\n",
       "    <tr style=\"text-align: right;\">\n",
       "      <th></th>\n",
       "      <th>Name</th>\n",
       "      <th>Platform</th>\n",
       "      <th>Year_of_Release</th>\n",
       "      <th>Genre</th>\n",
       "      <th>NA_sales</th>\n",
       "      <th>EU_sales</th>\n",
       "      <th>JP_sales</th>\n",
       "      <th>Other_sales</th>\n",
       "      <th>Critic_Score</th>\n",
       "      <th>User_Score</th>\n",
       "      <th>Rating</th>\n",
       "    </tr>\n",
       "  </thead>\n",
       "  <tbody>\n",
       "    <tr>\n",
       "      <th>659</th>\n",
       "      <td>NaN</td>\n",
       "      <td>GEN</td>\n",
       "      <td>1993.0</td>\n",
       "      <td>NaN</td>\n",
       "      <td>1.78</td>\n",
       "      <td>0.53</td>\n",
       "      <td>0.00</td>\n",
       "      <td>0.08</td>\n",
       "      <td>NaN</td>\n",
       "      <td>NaN</td>\n",
       "      <td>NaN</td>\n",
       "    </tr>\n",
       "    <tr>\n",
       "      <th>14244</th>\n",
       "      <td>NaN</td>\n",
       "      <td>GEN</td>\n",
       "      <td>1993.0</td>\n",
       "      <td>NaN</td>\n",
       "      <td>0.00</td>\n",
       "      <td>0.00</td>\n",
       "      <td>0.03</td>\n",
       "      <td>0.00</td>\n",
       "      <td>NaN</td>\n",
       "      <td>NaN</td>\n",
       "      <td>NaN</td>\n",
       "    </tr>\n",
       "  </tbody>\n",
       "</table>\n",
       "</div>"
      ],
      "text/plain": [
       "      Name Platform  Year_of_Release Genre  NA_sales  EU_sales  JP_sales  \\\n",
       "659    NaN      GEN           1993.0   NaN      1.78      0.53      0.00   \n",
       "14244  NaN      GEN           1993.0   NaN      0.00      0.00      0.03   \n",
       "\n",
       "       Other_sales  Critic_Score User_Score Rating  \n",
       "659           0.08           NaN        NaN    NaN  \n",
       "14244         0.00           NaN        NaN    NaN  "
      ]
     },
     "execution_count": 10,
     "metadata": {},
     "output_type": "execute_result"
    }
   ],
   "source": [
    "games[games['Name'].isna()]"
   ]
  },
  {
   "cell_type": "markdown",
   "metadata": {},
   "source": [
    "Предположительно, это одна и та же игра, но в одной строке указаны продажи в Америке и Европе, а в другой - в Японии. Данные не подлежат восстановлению и будут удалены. Пропуски в столбце `Genre` также исчезнут.\n",
    "\n",
    "Теперь год релиза. Возможно, в открытых источниках не было данных о годе выхода некоторых игр. Пропуски составляют 1,6% от всех данных. Это незначительное количество. Средним или медианой их не заполнить. \"Нормальных\" данных достаточно для анализa, поэтому можно было бы оставить все как есть. Но чтобы заменить тип данных в столбце на целочисленный, с пропусками надо что-то сделать. Заменим их на 0.\n",
    "\n",
    "Перейдем к оценке критиков. Может быть, в прежние времена игры еще не оценивались, а сейчас некоторые игры по каким-либо причинам не могут пройти процедуру оценки. Некорректно было бы заполнять пропуски медианой или средним, ведь каждая игра индивидуальна. Но можно заполнить их маркерным значением (-1, например).\n",
    "\n",
    "Ситуация с оценкой игроков такая же. Возможно, в какой-то период оценки не собирались сервисами. Заменим пропуски на -1.\n",
    "\n",
    "Остался рейтинг ESRB. В столбце данные выражаются буквами-категориями возраста. Пропуски могут быть связаны с тем, что в какой-то период времени организации еще не существовало, и рейтинг не мог быть определен. Некоторые игры просто могли быть незамечены. Невозможно заполнить пропуски средним значением рейтинга игр того же жанра. Заполним пропуски значением \"No ESRB\"."
   ]
  },
  {
   "cell_type": "markdown",
   "metadata": {},
   "source": [
    "# Вывод №1\n",
    "\n",
    "С данными нужно поработать, прежде всего привести названия столбцов к нижнему регистру.\n",
    "\n",
    "Столбец `Name`: удалить 2 строки с пропусками в названии игры.\n",
    "\n",
    "Столбец `Year_of_Release`: заменить пропуски на 0, заменить тип на `int`.\n",
    "\n",
    "Столбец `Critic_Score`: заменить пропуски на -1, заменить тип на `int`.\n",
    "\n",
    "Столбец `User_Score`: заменить пропуски на -1, заменить `tbd` на -1, заменить тип на `float`.\n",
    "\n",
    "Столбец `Rating`: заменить пропуски на `No ESRB`."
   ]
  },
  {
   "cell_type": "markdown",
   "metadata": {},
   "source": [
    "# Шаг 2. Подготовка данных"
   ]
  },
  {
   "cell_type": "markdown",
   "metadata": {},
   "source": [
    "Сначала необходимо привести к нижнему регистру названия столбцов."
   ]
  },
  {
   "cell_type": "code",
   "execution_count": 11,
   "metadata": {},
   "outputs": [
    {
     "data": {
      "text/html": [
       "<div>\n",
       "<style scoped>\n",
       "    .dataframe tbody tr th:only-of-type {\n",
       "        vertical-align: middle;\n",
       "    }\n",
       "\n",
       "    .dataframe tbody tr th {\n",
       "        vertical-align: top;\n",
       "    }\n",
       "\n",
       "    .dataframe thead th {\n",
       "        text-align: right;\n",
       "    }\n",
       "</style>\n",
       "<table border=\"1\" class=\"dataframe\">\n",
       "  <thead>\n",
       "    <tr style=\"text-align: right;\">\n",
       "      <th></th>\n",
       "      <th>name</th>\n",
       "      <th>platform</th>\n",
       "      <th>year_of_release</th>\n",
       "      <th>genre</th>\n",
       "      <th>na_sales</th>\n",
       "      <th>eu_sales</th>\n",
       "      <th>jp_sales</th>\n",
       "      <th>other_sales</th>\n",
       "      <th>critic_score</th>\n",
       "      <th>user_score</th>\n",
       "      <th>rating</th>\n",
       "    </tr>\n",
       "  </thead>\n",
       "  <tbody>\n",
       "    <tr>\n",
       "      <th>0</th>\n",
       "      <td>Wii Sports</td>\n",
       "      <td>Wii</td>\n",
       "      <td>2006.0</td>\n",
       "      <td>Sports</td>\n",
       "      <td>41.36</td>\n",
       "      <td>28.96</td>\n",
       "      <td>3.77</td>\n",
       "      <td>8.45</td>\n",
       "      <td>76.0</td>\n",
       "      <td>8</td>\n",
       "      <td>E</td>\n",
       "    </tr>\n",
       "    <tr>\n",
       "      <th>1</th>\n",
       "      <td>Super Mario Bros.</td>\n",
       "      <td>NES</td>\n",
       "      <td>1985.0</td>\n",
       "      <td>Platform</td>\n",
       "      <td>29.08</td>\n",
       "      <td>3.58</td>\n",
       "      <td>6.81</td>\n",
       "      <td>0.77</td>\n",
       "      <td>NaN</td>\n",
       "      <td>NaN</td>\n",
       "      <td>NaN</td>\n",
       "    </tr>\n",
       "    <tr>\n",
       "      <th>2</th>\n",
       "      <td>Mario Kart Wii</td>\n",
       "      <td>Wii</td>\n",
       "      <td>2008.0</td>\n",
       "      <td>Racing</td>\n",
       "      <td>15.68</td>\n",
       "      <td>12.76</td>\n",
       "      <td>3.79</td>\n",
       "      <td>3.29</td>\n",
       "      <td>82.0</td>\n",
       "      <td>8.3</td>\n",
       "      <td>E</td>\n",
       "    </tr>\n",
       "    <tr>\n",
       "      <th>3</th>\n",
       "      <td>Wii Sports Resort</td>\n",
       "      <td>Wii</td>\n",
       "      <td>2009.0</td>\n",
       "      <td>Sports</td>\n",
       "      <td>15.61</td>\n",
       "      <td>10.93</td>\n",
       "      <td>3.28</td>\n",
       "      <td>2.95</td>\n",
       "      <td>80.0</td>\n",
       "      <td>8</td>\n",
       "      <td>E</td>\n",
       "    </tr>\n",
       "    <tr>\n",
       "      <th>4</th>\n",
       "      <td>Pokemon Red/Pokemon Blue</td>\n",
       "      <td>GB</td>\n",
       "      <td>1996.0</td>\n",
       "      <td>Role-Playing</td>\n",
       "      <td>11.27</td>\n",
       "      <td>8.89</td>\n",
       "      <td>10.22</td>\n",
       "      <td>1.00</td>\n",
       "      <td>NaN</td>\n",
       "      <td>NaN</td>\n",
       "      <td>NaN</td>\n",
       "    </tr>\n",
       "  </tbody>\n",
       "</table>\n",
       "</div>"
      ],
      "text/plain": [
       "                       name platform  year_of_release         genre  na_sales  \\\n",
       "0                Wii Sports      Wii           2006.0        Sports     41.36   \n",
       "1         Super Mario Bros.      NES           1985.0      Platform     29.08   \n",
       "2            Mario Kart Wii      Wii           2008.0        Racing     15.68   \n",
       "3         Wii Sports Resort      Wii           2009.0        Sports     15.61   \n",
       "4  Pokemon Red/Pokemon Blue       GB           1996.0  Role-Playing     11.27   \n",
       "\n",
       "   eu_sales  jp_sales  other_sales  critic_score user_score rating  \n",
       "0     28.96      3.77         8.45          76.0          8      E  \n",
       "1      3.58      6.81         0.77           NaN        NaN    NaN  \n",
       "2     12.76      3.79         3.29          82.0        8.3      E  \n",
       "3     10.93      3.28         2.95          80.0          8      E  \n",
       "4      8.89     10.22         1.00           NaN        NaN    NaN  "
      ]
     },
     "execution_count": 11,
     "metadata": {},
     "output_type": "execute_result"
    }
   ],
   "source": [
    "# приведение названий столбцов к нижнему регистру\n",
    "games.columns = games.columns.str.lower()\n",
    "\n",
    "# проверка изменений\n",
    "games.head()"
   ]
  },
  {
   "cell_type": "markdown",
   "metadata": {},
   "source": [
    "Теперь займемся пропусками в соответствии с решениями по первому шагу."
   ]
  },
  {
   "cell_type": "code",
   "execution_count": 12,
   "metadata": {},
   "outputs": [],
   "source": [
    "# удаление строк с пропущенным названием игры\n",
    "games.dropna(subset = ['name'], inplace = True)\n",
    "\n",
    "# замена пропусков\n",
    "games['critic_score'] = games['critic_score'].fillna(-1)\n",
    "games['year_of_release'] = games['year_of_release'].fillna(0)\n",
    "games['user_score'] = games['user_score'].fillna(-1)\n",
    "games['rating'] = games['rating'].fillna('No ESRB')\n",
    "\n",
    "# замена странного значения оценки игроков\n",
    "games['user_score'] = games['user_score'].replace('tbd', -1)"
   ]
  },
  {
   "cell_type": "markdown",
   "metadata": {},
   "source": [
    "Далее замена типов."
   ]
  },
  {
   "cell_type": "code",
   "execution_count": 13,
   "metadata": {},
   "outputs": [],
   "source": [
    "# замена типа на int\n",
    "games['year_of_release'] = games['year_of_release'].astype(int)\n",
    "games['critic_score'] = games['critic_score'].astype(int)\n",
    "\n",
    "# замена типа на float\n",
    "games['user_score'] = games['user_score'].astype(float)"
   ]
  },
  {
   "cell_type": "code",
   "execution_count": 14,
   "metadata": {
    "scrolled": true
   },
   "outputs": [
    {
     "data": {
      "text/plain": [
       "name               0\n",
       "platform           0\n",
       "year_of_release    0\n",
       "genre              0\n",
       "na_sales           0\n",
       "eu_sales           0\n",
       "jp_sales           0\n",
       "other_sales        0\n",
       "critic_score       0\n",
       "user_score         0\n",
       "rating             0\n",
       "dtype: int64"
      ]
     },
     "execution_count": 14,
     "metadata": {},
     "output_type": "execute_result"
    }
   ],
   "source": [
    "# повторный подсчет пропусков\n",
    "games.isna().sum()"
   ]
  },
  {
   "cell_type": "code",
   "execution_count": 15,
   "metadata": {},
   "outputs": [
    {
     "name": "stdout",
     "output_type": "stream",
     "text": [
      "<class 'pandas.core.frame.DataFrame'>\n",
      "Int64Index: 16713 entries, 0 to 16714\n",
      "Data columns (total 11 columns):\n",
      " #   Column           Non-Null Count  Dtype  \n",
      "---  ------           --------------  -----  \n",
      " 0   name             16713 non-null  object \n",
      " 1   platform         16713 non-null  object \n",
      " 2   year_of_release  16713 non-null  int64  \n",
      " 3   genre            16713 non-null  object \n",
      " 4   na_sales         16713 non-null  float64\n",
      " 5   eu_sales         16713 non-null  float64\n",
      " 6   jp_sales         16713 non-null  float64\n",
      " 7   other_sales      16713 non-null  float64\n",
      " 8   critic_score     16713 non-null  int64  \n",
      " 9   user_score       16713 non-null  float64\n",
      " 10  rating           16713 non-null  object \n",
      "dtypes: float64(5), int64(2), object(4)\n",
      "memory usage: 1.5+ MB\n"
     ]
    }
   ],
   "source": [
    "# проверка замены типов\n",
    "games.info()"
   ]
  },
  {
   "cell_type": "code",
   "execution_count": 16,
   "metadata": {
    "scrolled": false
   },
   "outputs": [
    {
     "data": {
      "text/html": [
       "<div>\n",
       "<style scoped>\n",
       "    .dataframe tbody tr th:only-of-type {\n",
       "        vertical-align: middle;\n",
       "    }\n",
       "\n",
       "    .dataframe tbody tr th {\n",
       "        vertical-align: top;\n",
       "    }\n",
       "\n",
       "    .dataframe thead th {\n",
       "        text-align: right;\n",
       "    }\n",
       "</style>\n",
       "<table border=\"1\" class=\"dataframe\">\n",
       "  <thead>\n",
       "    <tr style=\"text-align: right;\">\n",
       "      <th></th>\n",
       "      <th>name</th>\n",
       "      <th>platform</th>\n",
       "      <th>year_of_release</th>\n",
       "      <th>genre</th>\n",
       "      <th>na_sales</th>\n",
       "      <th>eu_sales</th>\n",
       "      <th>jp_sales</th>\n",
       "      <th>other_sales</th>\n",
       "      <th>critic_score</th>\n",
       "      <th>user_score</th>\n",
       "      <th>rating</th>\n",
       "    </tr>\n",
       "  </thead>\n",
       "  <tbody>\n",
       "    <tr>\n",
       "      <th>0</th>\n",
       "      <td>Wii Sports</td>\n",
       "      <td>Wii</td>\n",
       "      <td>2006</td>\n",
       "      <td>Sports</td>\n",
       "      <td>41.36</td>\n",
       "      <td>28.96</td>\n",
       "      <td>3.77</td>\n",
       "      <td>8.45</td>\n",
       "      <td>76</td>\n",
       "      <td>8.0</td>\n",
       "      <td>E</td>\n",
       "    </tr>\n",
       "    <tr>\n",
       "      <th>1</th>\n",
       "      <td>Super Mario Bros.</td>\n",
       "      <td>NES</td>\n",
       "      <td>1985</td>\n",
       "      <td>Platform</td>\n",
       "      <td>29.08</td>\n",
       "      <td>3.58</td>\n",
       "      <td>6.81</td>\n",
       "      <td>0.77</td>\n",
       "      <td>-1</td>\n",
       "      <td>-1.0</td>\n",
       "      <td>No ESRB</td>\n",
       "    </tr>\n",
       "    <tr>\n",
       "      <th>2</th>\n",
       "      <td>Mario Kart Wii</td>\n",
       "      <td>Wii</td>\n",
       "      <td>2008</td>\n",
       "      <td>Racing</td>\n",
       "      <td>15.68</td>\n",
       "      <td>12.76</td>\n",
       "      <td>3.79</td>\n",
       "      <td>3.29</td>\n",
       "      <td>82</td>\n",
       "      <td>8.3</td>\n",
       "      <td>E</td>\n",
       "    </tr>\n",
       "    <tr>\n",
       "      <th>3</th>\n",
       "      <td>Wii Sports Resort</td>\n",
       "      <td>Wii</td>\n",
       "      <td>2009</td>\n",
       "      <td>Sports</td>\n",
       "      <td>15.61</td>\n",
       "      <td>10.93</td>\n",
       "      <td>3.28</td>\n",
       "      <td>2.95</td>\n",
       "      <td>80</td>\n",
       "      <td>8.0</td>\n",
       "      <td>E</td>\n",
       "    </tr>\n",
       "    <tr>\n",
       "      <th>4</th>\n",
       "      <td>Pokemon Red/Pokemon Blue</td>\n",
       "      <td>GB</td>\n",
       "      <td>1996</td>\n",
       "      <td>Role-Playing</td>\n",
       "      <td>11.27</td>\n",
       "      <td>8.89</td>\n",
       "      <td>10.22</td>\n",
       "      <td>1.00</td>\n",
       "      <td>-1</td>\n",
       "      <td>-1.0</td>\n",
       "      <td>No ESRB</td>\n",
       "    </tr>\n",
       "    <tr>\n",
       "      <th>...</th>\n",
       "      <td>...</td>\n",
       "      <td>...</td>\n",
       "      <td>...</td>\n",
       "      <td>...</td>\n",
       "      <td>...</td>\n",
       "      <td>...</td>\n",
       "      <td>...</td>\n",
       "      <td>...</td>\n",
       "      <td>...</td>\n",
       "      <td>...</td>\n",
       "      <td>...</td>\n",
       "    </tr>\n",
       "    <tr>\n",
       "      <th>16710</th>\n",
       "      <td>Samurai Warriors: Sanada Maru</td>\n",
       "      <td>PS3</td>\n",
       "      <td>2016</td>\n",
       "      <td>Action</td>\n",
       "      <td>0.00</td>\n",
       "      <td>0.00</td>\n",
       "      <td>0.01</td>\n",
       "      <td>0.00</td>\n",
       "      <td>-1</td>\n",
       "      <td>-1.0</td>\n",
       "      <td>No ESRB</td>\n",
       "    </tr>\n",
       "    <tr>\n",
       "      <th>16711</th>\n",
       "      <td>LMA Manager 2007</td>\n",
       "      <td>X360</td>\n",
       "      <td>2006</td>\n",
       "      <td>Sports</td>\n",
       "      <td>0.00</td>\n",
       "      <td>0.01</td>\n",
       "      <td>0.00</td>\n",
       "      <td>0.00</td>\n",
       "      <td>-1</td>\n",
       "      <td>-1.0</td>\n",
       "      <td>No ESRB</td>\n",
       "    </tr>\n",
       "    <tr>\n",
       "      <th>16712</th>\n",
       "      <td>Haitaka no Psychedelica</td>\n",
       "      <td>PSV</td>\n",
       "      <td>2016</td>\n",
       "      <td>Adventure</td>\n",
       "      <td>0.00</td>\n",
       "      <td>0.00</td>\n",
       "      <td>0.01</td>\n",
       "      <td>0.00</td>\n",
       "      <td>-1</td>\n",
       "      <td>-1.0</td>\n",
       "      <td>No ESRB</td>\n",
       "    </tr>\n",
       "    <tr>\n",
       "      <th>16713</th>\n",
       "      <td>Spirits &amp; Spells</td>\n",
       "      <td>GBA</td>\n",
       "      <td>2003</td>\n",
       "      <td>Platform</td>\n",
       "      <td>0.01</td>\n",
       "      <td>0.00</td>\n",
       "      <td>0.00</td>\n",
       "      <td>0.00</td>\n",
       "      <td>-1</td>\n",
       "      <td>-1.0</td>\n",
       "      <td>No ESRB</td>\n",
       "    </tr>\n",
       "    <tr>\n",
       "      <th>16714</th>\n",
       "      <td>Winning Post 8 2016</td>\n",
       "      <td>PSV</td>\n",
       "      <td>2016</td>\n",
       "      <td>Simulation</td>\n",
       "      <td>0.00</td>\n",
       "      <td>0.00</td>\n",
       "      <td>0.01</td>\n",
       "      <td>0.00</td>\n",
       "      <td>-1</td>\n",
       "      <td>-1.0</td>\n",
       "      <td>No ESRB</td>\n",
       "    </tr>\n",
       "  </tbody>\n",
       "</table>\n",
       "<p>16713 rows × 11 columns</p>\n",
       "</div>"
      ],
      "text/plain": [
       "                                name platform  year_of_release         genre  \\\n",
       "0                         Wii Sports      Wii             2006        Sports   \n",
       "1                  Super Mario Bros.      NES             1985      Platform   \n",
       "2                     Mario Kart Wii      Wii             2008        Racing   \n",
       "3                  Wii Sports Resort      Wii             2009        Sports   \n",
       "4           Pokemon Red/Pokemon Blue       GB             1996  Role-Playing   \n",
       "...                              ...      ...              ...           ...   \n",
       "16710  Samurai Warriors: Sanada Maru      PS3             2016        Action   \n",
       "16711               LMA Manager 2007     X360             2006        Sports   \n",
       "16712        Haitaka no Psychedelica      PSV             2016     Adventure   \n",
       "16713               Spirits & Spells      GBA             2003      Platform   \n",
       "16714            Winning Post 8 2016      PSV             2016    Simulation   \n",
       "\n",
       "       na_sales  eu_sales  jp_sales  other_sales  critic_score  user_score  \\\n",
       "0         41.36     28.96      3.77         8.45            76         8.0   \n",
       "1         29.08      3.58      6.81         0.77            -1        -1.0   \n",
       "2         15.68     12.76      3.79         3.29            82         8.3   \n",
       "3         15.61     10.93      3.28         2.95            80         8.0   \n",
       "4         11.27      8.89     10.22         1.00            -1        -1.0   \n",
       "...         ...       ...       ...          ...           ...         ...   \n",
       "16710      0.00      0.00      0.01         0.00            -1        -1.0   \n",
       "16711      0.00      0.01      0.00         0.00            -1        -1.0   \n",
       "16712      0.00      0.00      0.01         0.00            -1        -1.0   \n",
       "16713      0.01      0.00      0.00         0.00            -1        -1.0   \n",
       "16714      0.00      0.00      0.01         0.00            -1        -1.0   \n",
       "\n",
       "        rating  \n",
       "0            E  \n",
       "1      No ESRB  \n",
       "2            E  \n",
       "3            E  \n",
       "4      No ESRB  \n",
       "...        ...  \n",
       "16710  No ESRB  \n",
       "16711  No ESRB  \n",
       "16712  No ESRB  \n",
       "16713  No ESRB  \n",
       "16714  No ESRB  \n",
       "\n",
       "[16713 rows x 11 columns]"
      ]
     },
     "execution_count": 16,
     "metadata": {},
     "output_type": "execute_result"
    }
   ],
   "source": [
    "# контрольный просмотр таблицы\n",
    "games"
   ]
  },
  {
   "cell_type": "markdown",
   "metadata": {},
   "source": [
    "Теперь с данными все в порядке."
   ]
  },
  {
   "cell_type": "markdown",
   "metadata": {},
   "source": [
    "На этом шаге также нужно посчитать суммарные продажи во всех регионах и записать их в отдельный столбец."
   ]
  },
  {
   "cell_type": "code",
   "execution_count": 17,
   "metadata": {},
   "outputs": [
    {
     "data": {
      "text/html": [
       "<div>\n",
       "<style scoped>\n",
       "    .dataframe tbody tr th:only-of-type {\n",
       "        vertical-align: middle;\n",
       "    }\n",
       "\n",
       "    .dataframe tbody tr th {\n",
       "        vertical-align: top;\n",
       "    }\n",
       "\n",
       "    .dataframe thead th {\n",
       "        text-align: right;\n",
       "    }\n",
       "</style>\n",
       "<table border=\"1\" class=\"dataframe\">\n",
       "  <thead>\n",
       "    <tr style=\"text-align: right;\">\n",
       "      <th></th>\n",
       "      <th>name</th>\n",
       "      <th>platform</th>\n",
       "      <th>year_of_release</th>\n",
       "      <th>genre</th>\n",
       "      <th>na_sales</th>\n",
       "      <th>eu_sales</th>\n",
       "      <th>jp_sales</th>\n",
       "      <th>other_sales</th>\n",
       "      <th>critic_score</th>\n",
       "      <th>user_score</th>\n",
       "      <th>rating</th>\n",
       "      <th>world_sales</th>\n",
       "    </tr>\n",
       "  </thead>\n",
       "  <tbody>\n",
       "    <tr>\n",
       "      <th>0</th>\n",
       "      <td>Wii Sports</td>\n",
       "      <td>Wii</td>\n",
       "      <td>2006</td>\n",
       "      <td>Sports</td>\n",
       "      <td>41.36</td>\n",
       "      <td>28.96</td>\n",
       "      <td>3.77</td>\n",
       "      <td>8.45</td>\n",
       "      <td>76</td>\n",
       "      <td>8.0</td>\n",
       "      <td>E</td>\n",
       "      <td>82.54</td>\n",
       "    </tr>\n",
       "    <tr>\n",
       "      <th>1</th>\n",
       "      <td>Super Mario Bros.</td>\n",
       "      <td>NES</td>\n",
       "      <td>1985</td>\n",
       "      <td>Platform</td>\n",
       "      <td>29.08</td>\n",
       "      <td>3.58</td>\n",
       "      <td>6.81</td>\n",
       "      <td>0.77</td>\n",
       "      <td>-1</td>\n",
       "      <td>-1.0</td>\n",
       "      <td>No ESRB</td>\n",
       "      <td>40.24</td>\n",
       "    </tr>\n",
       "    <tr>\n",
       "      <th>2</th>\n",
       "      <td>Mario Kart Wii</td>\n",
       "      <td>Wii</td>\n",
       "      <td>2008</td>\n",
       "      <td>Racing</td>\n",
       "      <td>15.68</td>\n",
       "      <td>12.76</td>\n",
       "      <td>3.79</td>\n",
       "      <td>3.29</td>\n",
       "      <td>82</td>\n",
       "      <td>8.3</td>\n",
       "      <td>E</td>\n",
       "      <td>35.52</td>\n",
       "    </tr>\n",
       "    <tr>\n",
       "      <th>3</th>\n",
       "      <td>Wii Sports Resort</td>\n",
       "      <td>Wii</td>\n",
       "      <td>2009</td>\n",
       "      <td>Sports</td>\n",
       "      <td>15.61</td>\n",
       "      <td>10.93</td>\n",
       "      <td>3.28</td>\n",
       "      <td>2.95</td>\n",
       "      <td>80</td>\n",
       "      <td>8.0</td>\n",
       "      <td>E</td>\n",
       "      <td>32.77</td>\n",
       "    </tr>\n",
       "    <tr>\n",
       "      <th>4</th>\n",
       "      <td>Pokemon Red/Pokemon Blue</td>\n",
       "      <td>GB</td>\n",
       "      <td>1996</td>\n",
       "      <td>Role-Playing</td>\n",
       "      <td>11.27</td>\n",
       "      <td>8.89</td>\n",
       "      <td>10.22</td>\n",
       "      <td>1.00</td>\n",
       "      <td>-1</td>\n",
       "      <td>-1.0</td>\n",
       "      <td>No ESRB</td>\n",
       "      <td>31.38</td>\n",
       "    </tr>\n",
       "  </tbody>\n",
       "</table>\n",
       "</div>"
      ],
      "text/plain": [
       "                       name platform  year_of_release         genre  na_sales  \\\n",
       "0                Wii Sports      Wii             2006        Sports     41.36   \n",
       "1         Super Mario Bros.      NES             1985      Platform     29.08   \n",
       "2            Mario Kart Wii      Wii             2008        Racing     15.68   \n",
       "3         Wii Sports Resort      Wii             2009        Sports     15.61   \n",
       "4  Pokemon Red/Pokemon Blue       GB             1996  Role-Playing     11.27   \n",
       "\n",
       "   eu_sales  jp_sales  other_sales  critic_score  user_score   rating  \\\n",
       "0     28.96      3.77         8.45            76         8.0        E   \n",
       "1      3.58      6.81         0.77            -1        -1.0  No ESRB   \n",
       "2     12.76      3.79         3.29            82         8.3        E   \n",
       "3     10.93      3.28         2.95            80         8.0        E   \n",
       "4      8.89     10.22         1.00            -1        -1.0  No ESRB   \n",
       "\n",
       "   world_sales  \n",
       "0        82.54  \n",
       "1        40.24  \n",
       "2        35.52  \n",
       "3        32.77  \n",
       "4        31.38  "
      ]
     },
     "execution_count": 17,
     "metadata": {},
     "output_type": "execute_result"
    }
   ],
   "source": [
    "# подсчет и добавление суммарных продаж во всех регионах\n",
    "games['world_sales'] = (games['na_sales'] + games['eu_sales'] + games['jp_sales'] + games['other_sales'])\n",
    "\n",
    "# проверка\n",
    "games.head()"
   ]
  },
  {
   "cell_type": "markdown",
   "metadata": {},
   "source": [
    "# Вывод № 2\n",
    "\n",
    "На данном шаге названия столбцов были приведены к нижнему регистру, заменены типы данных в некоторых столбцах для удобства восприятия, заменены пропуски для сохранения данных, обработано странное значение в пользовательской оценке, добавлен столбец с суммарными продажами. Данные приведены в порядок, что позволяет проводить последующий анализ."
   ]
  },
  {
   "cell_type": "markdown",
   "metadata": {},
   "source": [
    "# Шаг 3. Исследовательский анализ данных"
   ]
  },
  {
   "cell_type": "markdown",
   "metadata": {},
   "source": [
    "Данный этап требует выполнения многих задач. Для начала нужно ответить на вопрос, сколько игр выпускалось в разные годы и важны ли данные за все периоды. Для этого нужно создать сводную таблицу с количеством игр, выпущенных в разные годы."
   ]
  },
  {
   "cell_type": "code",
   "execution_count": 18,
   "metadata": {
    "scrolled": false
   },
   "outputs": [
    {
     "data": {
      "text/html": [
       "<div>\n",
       "<style scoped>\n",
       "    .dataframe tbody tr th:only-of-type {\n",
       "        vertical-align: middle;\n",
       "    }\n",
       "\n",
       "    .dataframe tbody tr th {\n",
       "        vertical-align: top;\n",
       "    }\n",
       "\n",
       "    .dataframe thead th {\n",
       "        text-align: right;\n",
       "    }\n",
       "</style>\n",
       "<table border=\"1\" class=\"dataframe\">\n",
       "  <thead>\n",
       "    <tr style=\"text-align: right;\">\n",
       "      <th></th>\n",
       "      <th>games_count</th>\n",
       "    </tr>\n",
       "    <tr>\n",
       "      <th>year_of_release</th>\n",
       "      <th></th>\n",
       "    </tr>\n",
       "  </thead>\n",
       "  <tbody>\n",
       "    <tr>\n",
       "      <th>1980</th>\n",
       "      <td>9</td>\n",
       "    </tr>\n",
       "    <tr>\n",
       "      <th>1981</th>\n",
       "      <td>46</td>\n",
       "    </tr>\n",
       "    <tr>\n",
       "      <th>1982</th>\n",
       "      <td>36</td>\n",
       "    </tr>\n",
       "    <tr>\n",
       "      <th>1983</th>\n",
       "      <td>17</td>\n",
       "    </tr>\n",
       "    <tr>\n",
       "      <th>1984</th>\n",
       "      <td>14</td>\n",
       "    </tr>\n",
       "    <tr>\n",
       "      <th>1985</th>\n",
       "      <td>14</td>\n",
       "    </tr>\n",
       "    <tr>\n",
       "      <th>1986</th>\n",
       "      <td>21</td>\n",
       "    </tr>\n",
       "    <tr>\n",
       "      <th>1987</th>\n",
       "      <td>16</td>\n",
       "    </tr>\n",
       "    <tr>\n",
       "      <th>1988</th>\n",
       "      <td>15</td>\n",
       "    </tr>\n",
       "    <tr>\n",
       "      <th>1989</th>\n",
       "      <td>17</td>\n",
       "    </tr>\n",
       "    <tr>\n",
       "      <th>1990</th>\n",
       "      <td>16</td>\n",
       "    </tr>\n",
       "    <tr>\n",
       "      <th>1991</th>\n",
       "      <td>41</td>\n",
       "    </tr>\n",
       "    <tr>\n",
       "      <th>1992</th>\n",
       "      <td>43</td>\n",
       "    </tr>\n",
       "    <tr>\n",
       "      <th>1993</th>\n",
       "      <td>60</td>\n",
       "    </tr>\n",
       "    <tr>\n",
       "      <th>1994</th>\n",
       "      <td>121</td>\n",
       "    </tr>\n",
       "    <tr>\n",
       "      <th>1995</th>\n",
       "      <td>219</td>\n",
       "    </tr>\n",
       "    <tr>\n",
       "      <th>1996</th>\n",
       "      <td>263</td>\n",
       "    </tr>\n",
       "    <tr>\n",
       "      <th>1997</th>\n",
       "      <td>289</td>\n",
       "    </tr>\n",
       "    <tr>\n",
       "      <th>1998</th>\n",
       "      <td>379</td>\n",
       "    </tr>\n",
       "    <tr>\n",
       "      <th>1999</th>\n",
       "      <td>338</td>\n",
       "    </tr>\n",
       "    <tr>\n",
       "      <th>2000</th>\n",
       "      <td>350</td>\n",
       "    </tr>\n",
       "    <tr>\n",
       "      <th>2001</th>\n",
       "      <td>482</td>\n",
       "    </tr>\n",
       "    <tr>\n",
       "      <th>2002</th>\n",
       "      <td>829</td>\n",
       "    </tr>\n",
       "    <tr>\n",
       "      <th>2003</th>\n",
       "      <td>775</td>\n",
       "    </tr>\n",
       "    <tr>\n",
       "      <th>2004</th>\n",
       "      <td>762</td>\n",
       "    </tr>\n",
       "    <tr>\n",
       "      <th>2005</th>\n",
       "      <td>939</td>\n",
       "    </tr>\n",
       "    <tr>\n",
       "      <th>2006</th>\n",
       "      <td>1006</td>\n",
       "    </tr>\n",
       "    <tr>\n",
       "      <th>2007</th>\n",
       "      <td>1197</td>\n",
       "    </tr>\n",
       "    <tr>\n",
       "      <th>2008</th>\n",
       "      <td>1427</td>\n",
       "    </tr>\n",
       "    <tr>\n",
       "      <th>2009</th>\n",
       "      <td>1426</td>\n",
       "    </tr>\n",
       "    <tr>\n",
       "      <th>2010</th>\n",
       "      <td>1255</td>\n",
       "    </tr>\n",
       "    <tr>\n",
       "      <th>2011</th>\n",
       "      <td>1136</td>\n",
       "    </tr>\n",
       "    <tr>\n",
       "      <th>2012</th>\n",
       "      <td>653</td>\n",
       "    </tr>\n",
       "    <tr>\n",
       "      <th>2013</th>\n",
       "      <td>544</td>\n",
       "    </tr>\n",
       "    <tr>\n",
       "      <th>2014</th>\n",
       "      <td>581</td>\n",
       "    </tr>\n",
       "    <tr>\n",
       "      <th>2015</th>\n",
       "      <td>606</td>\n",
       "    </tr>\n",
       "    <tr>\n",
       "      <th>2016</th>\n",
       "      <td>502</td>\n",
       "    </tr>\n",
       "  </tbody>\n",
       "</table>\n",
       "</div>"
      ],
      "text/plain": [
       "                 games_count\n",
       "year_of_release             \n",
       "1980                       9\n",
       "1981                      46\n",
       "1982                      36\n",
       "1983                      17\n",
       "1984                      14\n",
       "1985                      14\n",
       "1986                      21\n",
       "1987                      16\n",
       "1988                      15\n",
       "1989                      17\n",
       "1990                      16\n",
       "1991                      41\n",
       "1992                      43\n",
       "1993                      60\n",
       "1994                     121\n",
       "1995                     219\n",
       "1996                     263\n",
       "1997                     289\n",
       "1998                     379\n",
       "1999                     338\n",
       "2000                     350\n",
       "2001                     482\n",
       "2002                     829\n",
       "2003                     775\n",
       "2004                     762\n",
       "2005                     939\n",
       "2006                    1006\n",
       "2007                    1197\n",
       "2008                    1427\n",
       "2009                    1426\n",
       "2010                    1255\n",
       "2011                    1136\n",
       "2012                     653\n",
       "2013                     544\n",
       "2014                     581\n",
       "2015                     606\n",
       "2016                     502"
      ]
     },
     "execution_count": 18,
     "metadata": {},
     "output_type": "execute_result"
    }
   ],
   "source": [
    "# сводная таблица с ежегодными выпусками игр\n",
    "games_by_year = pd.pivot_table(games, index = 'year_of_release', values = 'name', aggfunc = 'count')\n",
    "# переименование столбца\n",
    "games_by_year.columns = ['games_count']\n",
    "# удаление маркера пропуска\n",
    "games_by_year = games_by_year.query('year_of_release > 0')\n",
    "# вывод таблицы\n",
    "games_by_year"
   ]
  },
  {
   "cell_type": "markdown",
   "metadata": {},
   "source": [
    "Данные есть даже за конец прошлого века. Чтобы понять общую картину, нужен график."
   ]
  },
  {
   "cell_type": "code",
   "execution_count": 19,
   "metadata": {
    "scrolled": false
   },
   "outputs": [
    {
     "data": {
      "image/png": "[encoded data removed]",
      "text/plain": [
       "<Figure size 1080x360 with 1 Axes>"
      ]
     },
     "metadata": {
      "needs_background": "light"
     },
     "output_type": "display_data"
    }
   ],
   "source": [
    "# вывод графика с выпущенными в разные года играми\n",
    "games_by_year.plot(kind = 'bar', y = 'games_count', figsize = (15,5), grid = True)\n",
    "plt.title('Релизы игр по годам')\n",
    "plt.xlabel('Год')\n",
    "plt.ylabel('Количество игр')\n",
    "plt.show()"
   ]
  },
  {
   "cell_type": "markdown",
   "metadata": {},
   "source": [
    "По графику видно, что до 1994 года игр выпускалось мало, потом их количество начало активно расти. Появился персональный компьютер и приставка PS, развиваются языки программирования, игровая индустрия растет. Резкий скачок произошел в 2002 году, выход Xbox наверняка к этому причастен. Пик приходится на 2008 и 2009 года. Затем наблюдается спад, возможно связанный с кризисом. С 2012 года количество игр держится примерно на одном уровне. Уменьшение количества выпускаемых игр может быть связано с высокими требованиями геймеров к продукту: продуманный сюжет, красивая графика, интересные механики - хорошая игра может требовать годы разработки.\n",
    "\n",
    "Можно считать, что данные за все периоды не важны. Нас интересуют годы с наибольшим количеством выпущенных игр - можно анализировать начиная с 1994 года, когда появилась PS, или с 2002 года, когда произошел скачок."
   ]
  },
  {
   "cell_type": "markdown",
   "metadata": {},
   "source": [
    "Следующая задача - посмотреть, как менялись продажи по платформам. Нужно выбрать платформы с наибольшими суммарными продажами и построить распределение по годам. Также посмотрим, за какой характерный срок появляются новые и исчезают старые платформы."
   ]
  },
  {
   "cell_type": "code",
   "execution_count": 20,
   "metadata": {
    "scrolled": true
   },
   "outputs": [
    {
     "data": {
      "text/html": [
       "<div>\n",
       "<style scoped>\n",
       "    .dataframe tbody tr th:only-of-type {\n",
       "        vertical-align: middle;\n",
       "    }\n",
       "\n",
       "    .dataframe tbody tr th {\n",
       "        vertical-align: top;\n",
       "    }\n",
       "\n",
       "    .dataframe thead th {\n",
       "        text-align: right;\n",
       "    }\n",
       "</style>\n",
       "<table border=\"1\" class=\"dataframe\">\n",
       "  <thead>\n",
       "    <tr style=\"text-align: right;\">\n",
       "      <th></th>\n",
       "      <th>world_sales</th>\n",
       "    </tr>\n",
       "    <tr>\n",
       "      <th>platform</th>\n",
       "      <th></th>\n",
       "    </tr>\n",
       "  </thead>\n",
       "  <tbody>\n",
       "    <tr>\n",
       "      <th>PS2</th>\n",
       "      <td>1255.77</td>\n",
       "    </tr>\n",
       "    <tr>\n",
       "      <th>X360</th>\n",
       "      <td>971.42</td>\n",
       "    </tr>\n",
       "    <tr>\n",
       "      <th>PS3</th>\n",
       "      <td>939.65</td>\n",
       "    </tr>\n",
       "    <tr>\n",
       "      <th>Wii</th>\n",
       "      <td>907.51</td>\n",
       "    </tr>\n",
       "    <tr>\n",
       "      <th>DS</th>\n",
       "      <td>806.12</td>\n",
       "    </tr>\n",
       "    <tr>\n",
       "      <th>PS</th>\n",
       "      <td>730.86</td>\n",
       "    </tr>\n",
       "    <tr>\n",
       "      <th>GBA</th>\n",
       "      <td>317.85</td>\n",
       "    </tr>\n",
       "    <tr>\n",
       "      <th>PS4</th>\n",
       "      <td>314.14</td>\n",
       "    </tr>\n",
       "  </tbody>\n",
       "</table>\n",
       "</div>"
      ],
      "text/plain": [
       "          world_sales\n",
       "platform             \n",
       "PS2           1255.77\n",
       "X360           971.42\n",
       "PS3            939.65\n",
       "Wii            907.51\n",
       "DS             806.12\n",
       "PS             730.86\n",
       "GBA            317.85\n",
       "PS4            314.14"
      ]
     },
     "execution_count": 20,
     "metadata": {},
     "output_type": "execute_result"
    }
   ],
   "source": [
    "# создание сводной таблицы с продажами по платформам\n",
    "platform_sales = pd.pivot_table(games, \n",
    "                                index = ['platform'], \n",
    "                                values = 'world_sales', \n",
    "                                aggfunc = 'sum').sort_values('world_sales', ascending = False)\n",
    "# отбор самых популярных платформ\n",
    "platform_sales.head(8)"
   ]
  },
  {
   "cell_type": "markdown",
   "metadata": {},
   "source": [
    "Все приставки серии PS видим тут. Посмотрим, как изменялись продажи по годам. Возьмем данные начиная с 1994 года (выход PS и увеличение продаж игр)."
   ]
  },
  {
   "cell_type": "code",
   "execution_count": 21,
   "metadata": {
    "scrolled": true
   },
   "outputs": [
    {
     "data": {
      "text/html": [
       "<div>\n",
       "<style scoped>\n",
       "    .dataframe tbody tr th:only-of-type {\n",
       "        vertical-align: middle;\n",
       "    }\n",
       "\n",
       "    .dataframe tbody tr th {\n",
       "        vertical-align: top;\n",
       "    }\n",
       "\n",
       "    .dataframe thead th {\n",
       "        text-align: right;\n",
       "    }\n",
       "</style>\n",
       "<table border=\"1\" class=\"dataframe\">\n",
       "  <thead>\n",
       "    <tr style=\"text-align: right;\">\n",
       "      <th>platform</th>\n",
       "      <th>3DO</th>\n",
       "      <th>3DS</th>\n",
       "      <th>DC</th>\n",
       "      <th>DS</th>\n",
       "      <th>GB</th>\n",
       "      <th>GBA</th>\n",
       "      <th>GC</th>\n",
       "      <th>GEN</th>\n",
       "      <th>N64</th>\n",
       "      <th>NES</th>\n",
       "      <th>...</th>\n",
       "      <th>SAT</th>\n",
       "      <th>SCD</th>\n",
       "      <th>SNES</th>\n",
       "      <th>TG16</th>\n",
       "      <th>WS</th>\n",
       "      <th>Wii</th>\n",
       "      <th>WiiU</th>\n",
       "      <th>X360</th>\n",
       "      <th>XB</th>\n",
       "      <th>XOne</th>\n",
       "    </tr>\n",
       "    <tr>\n",
       "      <th>year_of_release</th>\n",
       "      <th></th>\n",
       "      <th></th>\n",
       "      <th></th>\n",
       "      <th></th>\n",
       "      <th></th>\n",
       "      <th></th>\n",
       "      <th></th>\n",
       "      <th></th>\n",
       "      <th></th>\n",
       "      <th></th>\n",
       "      <th></th>\n",
       "      <th></th>\n",
       "      <th></th>\n",
       "      <th></th>\n",
       "      <th></th>\n",
       "      <th></th>\n",
       "      <th></th>\n",
       "      <th></th>\n",
       "      <th></th>\n",
       "      <th></th>\n",
       "      <th></th>\n",
       "    </tr>\n",
       "  </thead>\n",
       "  <tbody>\n",
       "    <tr>\n",
       "      <th>1994</th>\n",
       "      <td>0.02</td>\n",
       "      <td>NaN</td>\n",
       "      <td>NaN</td>\n",
       "      <td>NaN</td>\n",
       "      <td>12.18</td>\n",
       "      <td>NaN</td>\n",
       "      <td>NaN</td>\n",
       "      <td>8.13</td>\n",
       "      <td>NaN</td>\n",
       "      <td>0.11</td>\n",
       "      <td>...</td>\n",
       "      <td>3.65</td>\n",
       "      <td>0.36</td>\n",
       "      <td>35.08</td>\n",
       "      <td>NaN</td>\n",
       "      <td>NaN</td>\n",
       "      <td>NaN</td>\n",
       "      <td>NaN</td>\n",
       "      <td>NaN</td>\n",
       "      <td>NaN</td>\n",
       "      <td>NaN</td>\n",
       "    </tr>\n",
       "    <tr>\n",
       "      <th>1995</th>\n",
       "      <td>0.08</td>\n",
       "      <td>NaN</td>\n",
       "      <td>NaN</td>\n",
       "      <td>NaN</td>\n",
       "      <td>3.60</td>\n",
       "      <td>NaN</td>\n",
       "      <td>NaN</td>\n",
       "      <td>NaN</td>\n",
       "      <td>NaN</td>\n",
       "      <td>NaN</td>\n",
       "      <td>...</td>\n",
       "      <td>11.57</td>\n",
       "      <td>NaN</td>\n",
       "      <td>32.20</td>\n",
       "      <td>0.16</td>\n",
       "      <td>NaN</td>\n",
       "      <td>NaN</td>\n",
       "      <td>NaN</td>\n",
       "      <td>NaN</td>\n",
       "      <td>NaN</td>\n",
       "      <td>NaN</td>\n",
       "    </tr>\n",
       "    <tr>\n",
       "      <th>1996</th>\n",
       "      <td>NaN</td>\n",
       "      <td>NaN</td>\n",
       "      <td>NaN</td>\n",
       "      <td>NaN</td>\n",
       "      <td>36.03</td>\n",
       "      <td>NaN</td>\n",
       "      <td>NaN</td>\n",
       "      <td>NaN</td>\n",
       "      <td>34.10</td>\n",
       "      <td>NaN</td>\n",
       "      <td>...</td>\n",
       "      <td>7.69</td>\n",
       "      <td>NaN</td>\n",
       "      <td>15.92</td>\n",
       "      <td>NaN</td>\n",
       "      <td>NaN</td>\n",
       "      <td>NaN</td>\n",
       "      <td>NaN</td>\n",
       "      <td>NaN</td>\n",
       "      <td>NaN</td>\n",
       "      <td>NaN</td>\n",
       "    </tr>\n",
       "    <tr>\n",
       "      <th>1997</th>\n",
       "      <td>NaN</td>\n",
       "      <td>NaN</td>\n",
       "      <td>NaN</td>\n",
       "      <td>NaN</td>\n",
       "      <td>6.37</td>\n",
       "      <td>NaN</td>\n",
       "      <td>NaN</td>\n",
       "      <td>NaN</td>\n",
       "      <td>39.50</td>\n",
       "      <td>NaN</td>\n",
       "      <td>...</td>\n",
       "      <td>6.77</td>\n",
       "      <td>NaN</td>\n",
       "      <td>0.99</td>\n",
       "      <td>NaN</td>\n",
       "      <td>NaN</td>\n",
       "      <td>NaN</td>\n",
       "      <td>NaN</td>\n",
       "      <td>NaN</td>\n",
       "      <td>NaN</td>\n",
       "      <td>NaN</td>\n",
       "    </tr>\n",
       "    <tr>\n",
       "      <th>1998</th>\n",
       "      <td>NaN</td>\n",
       "      <td>NaN</td>\n",
       "      <td>3.38</td>\n",
       "      <td>NaN</td>\n",
       "      <td>26.90</td>\n",
       "      <td>NaN</td>\n",
       "      <td>NaN</td>\n",
       "      <td>NaN</td>\n",
       "      <td>49.24</td>\n",
       "      <td>NaN</td>\n",
       "      <td>...</td>\n",
       "      <td>3.82</td>\n",
       "      <td>NaN</td>\n",
       "      <td>0.22</td>\n",
       "      <td>NaN</td>\n",
       "      <td>NaN</td>\n",
       "      <td>NaN</td>\n",
       "      <td>NaN</td>\n",
       "      <td>NaN</td>\n",
       "      <td>NaN</td>\n",
       "      <td>NaN</td>\n",
       "    </tr>\n",
       "    <tr>\n",
       "      <th>1999</th>\n",
       "      <td>NaN</td>\n",
       "      <td>NaN</td>\n",
       "      <td>5.16</td>\n",
       "      <td>NaN</td>\n",
       "      <td>38.00</td>\n",
       "      <td>NaN</td>\n",
       "      <td>NaN</td>\n",
       "      <td>NaN</td>\n",
       "      <td>57.87</td>\n",
       "      <td>NaN</td>\n",
       "      <td>...</td>\n",
       "      <td>0.09</td>\n",
       "      <td>NaN</td>\n",
       "      <td>0.26</td>\n",
       "      <td>NaN</td>\n",
       "      <td>0.46</td>\n",
       "      <td>NaN</td>\n",
       "      <td>NaN</td>\n",
       "      <td>NaN</td>\n",
       "      <td>NaN</td>\n",
       "      <td>NaN</td>\n",
       "    </tr>\n",
       "    <tr>\n",
       "      <th>2000</th>\n",
       "      <td>NaN</td>\n",
       "      <td>NaN</td>\n",
       "      <td>5.99</td>\n",
       "      <td>NaN</td>\n",
       "      <td>19.76</td>\n",
       "      <td>0.07</td>\n",
       "      <td>NaN</td>\n",
       "      <td>NaN</td>\n",
       "      <td>33.97</td>\n",
       "      <td>NaN</td>\n",
       "      <td>...</td>\n",
       "      <td>NaN</td>\n",
       "      <td>NaN</td>\n",
       "      <td>NaN</td>\n",
       "      <td>NaN</td>\n",
       "      <td>0.68</td>\n",
       "      <td>NaN</td>\n",
       "      <td>NaN</td>\n",
       "      <td>NaN</td>\n",
       "      <td>0.99</td>\n",
       "      <td>NaN</td>\n",
       "    </tr>\n",
       "    <tr>\n",
       "      <th>2001</th>\n",
       "      <td>NaN</td>\n",
       "      <td>NaN</td>\n",
       "      <td>1.07</td>\n",
       "      <td>NaN</td>\n",
       "      <td>9.24</td>\n",
       "      <td>61.53</td>\n",
       "      <td>26.34</td>\n",
       "      <td>NaN</td>\n",
       "      <td>3.25</td>\n",
       "      <td>NaN</td>\n",
       "      <td>...</td>\n",
       "      <td>NaN</td>\n",
       "      <td>NaN</td>\n",
       "      <td>NaN</td>\n",
       "      <td>NaN</td>\n",
       "      <td>0.28</td>\n",
       "      <td>NaN</td>\n",
       "      <td>NaN</td>\n",
       "      <td>NaN</td>\n",
       "      <td>22.26</td>\n",
       "      <td>NaN</td>\n",
       "    </tr>\n",
       "    <tr>\n",
       "      <th>2002</th>\n",
       "      <td>NaN</td>\n",
       "      <td>NaN</td>\n",
       "      <td>0.29</td>\n",
       "      <td>NaN</td>\n",
       "      <td>NaN</td>\n",
       "      <td>74.16</td>\n",
       "      <td>51.81</td>\n",
       "      <td>NaN</td>\n",
       "      <td>0.08</td>\n",
       "      <td>NaN</td>\n",
       "      <td>...</td>\n",
       "      <td>NaN</td>\n",
       "      <td>NaN</td>\n",
       "      <td>NaN</td>\n",
       "      <td>NaN</td>\n",
       "      <td>NaN</td>\n",
       "      <td>NaN</td>\n",
       "      <td>NaN</td>\n",
       "      <td>NaN</td>\n",
       "      <td>48.01</td>\n",
       "      <td>NaN</td>\n",
       "    </tr>\n",
       "    <tr>\n",
       "      <th>2003</th>\n",
       "      <td>NaN</td>\n",
       "      <td>NaN</td>\n",
       "      <td>NaN</td>\n",
       "      <td>NaN</td>\n",
       "      <td>NaN</td>\n",
       "      <td>56.67</td>\n",
       "      <td>50.61</td>\n",
       "      <td>NaN</td>\n",
       "      <td>NaN</td>\n",
       "      <td>NaN</td>\n",
       "      <td>...</td>\n",
       "      <td>NaN</td>\n",
       "      <td>NaN</td>\n",
       "      <td>NaN</td>\n",
       "      <td>NaN</td>\n",
       "      <td>NaN</td>\n",
       "      <td>NaN</td>\n",
       "      <td>NaN</td>\n",
       "      <td>NaN</td>\n",
       "      <td>55.04</td>\n",
       "      <td>NaN</td>\n",
       "    </tr>\n",
       "    <tr>\n",
       "      <th>2004</th>\n",
       "      <td>NaN</td>\n",
       "      <td>NaN</td>\n",
       "      <td>NaN</td>\n",
       "      <td>17.27</td>\n",
       "      <td>NaN</td>\n",
       "      <td>77.91</td>\n",
       "      <td>28.82</td>\n",
       "      <td>NaN</td>\n",
       "      <td>NaN</td>\n",
       "      <td>NaN</td>\n",
       "      <td>...</td>\n",
       "      <td>NaN</td>\n",
       "      <td>NaN</td>\n",
       "      <td>NaN</td>\n",
       "      <td>NaN</td>\n",
       "      <td>NaN</td>\n",
       "      <td>NaN</td>\n",
       "      <td>NaN</td>\n",
       "      <td>NaN</td>\n",
       "      <td>65.42</td>\n",
       "      <td>NaN</td>\n",
       "    </tr>\n",
       "    <tr>\n",
       "      <th>2005</th>\n",
       "      <td>NaN</td>\n",
       "      <td>NaN</td>\n",
       "      <td>NaN</td>\n",
       "      <td>130.14</td>\n",
       "      <td>NaN</td>\n",
       "      <td>33.86</td>\n",
       "      <td>27.62</td>\n",
       "      <td>NaN</td>\n",
       "      <td>NaN</td>\n",
       "      <td>NaN</td>\n",
       "      <td>...</td>\n",
       "      <td>NaN</td>\n",
       "      <td>NaN</td>\n",
       "      <td>NaN</td>\n",
       "      <td>NaN</td>\n",
       "      <td>NaN</td>\n",
       "      <td>NaN</td>\n",
       "      <td>NaN</td>\n",
       "      <td>8.25</td>\n",
       "      <td>49.08</td>\n",
       "      <td>NaN</td>\n",
       "    </tr>\n",
       "    <tr>\n",
       "      <th>2006</th>\n",
       "      <td>NaN</td>\n",
       "      <td>NaN</td>\n",
       "      <td>NaN</td>\n",
       "      <td>119.81</td>\n",
       "      <td>NaN</td>\n",
       "      <td>5.28</td>\n",
       "      <td>11.26</td>\n",
       "      <td>NaN</td>\n",
       "      <td>NaN</td>\n",
       "      <td>NaN</td>\n",
       "      <td>...</td>\n",
       "      <td>NaN</td>\n",
       "      <td>NaN</td>\n",
       "      <td>NaN</td>\n",
       "      <td>NaN</td>\n",
       "      <td>NaN</td>\n",
       "      <td>137.15</td>\n",
       "      <td>NaN</td>\n",
       "      <td>51.62</td>\n",
       "      <td>10.04</td>\n",
       "      <td>NaN</td>\n",
       "    </tr>\n",
       "    <tr>\n",
       "      <th>2007</th>\n",
       "      <td>NaN</td>\n",
       "      <td>NaN</td>\n",
       "      <td>0.02</td>\n",
       "      <td>146.94</td>\n",
       "      <td>NaN</td>\n",
       "      <td>3.40</td>\n",
       "      <td>0.27</td>\n",
       "      <td>NaN</td>\n",
       "      <td>NaN</td>\n",
       "      <td>NaN</td>\n",
       "      <td>...</td>\n",
       "      <td>NaN</td>\n",
       "      <td>NaN</td>\n",
       "      <td>NaN</td>\n",
       "      <td>NaN</td>\n",
       "      <td>NaN</td>\n",
       "      <td>152.77</td>\n",
       "      <td>NaN</td>\n",
       "      <td>95.41</td>\n",
       "      <td>0.55</td>\n",
       "      <td>NaN</td>\n",
       "    </tr>\n",
       "    <tr>\n",
       "      <th>2008</th>\n",
       "      <td>NaN</td>\n",
       "      <td>NaN</td>\n",
       "      <td>0.04</td>\n",
       "      <td>145.31</td>\n",
       "      <td>NaN</td>\n",
       "      <td>NaN</td>\n",
       "      <td>NaN</td>\n",
       "      <td>NaN</td>\n",
       "      <td>NaN</td>\n",
       "      <td>NaN</td>\n",
       "      <td>...</td>\n",
       "      <td>NaN</td>\n",
       "      <td>NaN</td>\n",
       "      <td>NaN</td>\n",
       "      <td>NaN</td>\n",
       "      <td>NaN</td>\n",
       "      <td>171.32</td>\n",
       "      <td>NaN</td>\n",
       "      <td>135.26</td>\n",
       "      <td>0.18</td>\n",
       "      <td>NaN</td>\n",
       "    </tr>\n",
       "    <tr>\n",
       "      <th>2009</th>\n",
       "      <td>NaN</td>\n",
       "      <td>NaN</td>\n",
       "      <td>NaN</td>\n",
       "      <td>119.54</td>\n",
       "      <td>NaN</td>\n",
       "      <td>NaN</td>\n",
       "      <td>NaN</td>\n",
       "      <td>NaN</td>\n",
       "      <td>NaN</td>\n",
       "      <td>NaN</td>\n",
       "      <td>...</td>\n",
       "      <td>NaN</td>\n",
       "      <td>NaN</td>\n",
       "      <td>NaN</td>\n",
       "      <td>NaN</td>\n",
       "      <td>NaN</td>\n",
       "      <td>206.97</td>\n",
       "      <td>NaN</td>\n",
       "      <td>120.29</td>\n",
       "      <td>NaN</td>\n",
       "      <td>NaN</td>\n",
       "    </tr>\n",
       "    <tr>\n",
       "      <th>2010</th>\n",
       "      <td>NaN</td>\n",
       "      <td>NaN</td>\n",
       "      <td>NaN</td>\n",
       "      <td>85.02</td>\n",
       "      <td>NaN</td>\n",
       "      <td>NaN</td>\n",
       "      <td>NaN</td>\n",
       "      <td>NaN</td>\n",
       "      <td>NaN</td>\n",
       "      <td>NaN</td>\n",
       "      <td>...</td>\n",
       "      <td>NaN</td>\n",
       "      <td>NaN</td>\n",
       "      <td>NaN</td>\n",
       "      <td>NaN</td>\n",
       "      <td>NaN</td>\n",
       "      <td>127.95</td>\n",
       "      <td>NaN</td>\n",
       "      <td>170.03</td>\n",
       "      <td>NaN</td>\n",
       "      <td>NaN</td>\n",
       "    </tr>\n",
       "    <tr>\n",
       "      <th>2011</th>\n",
       "      <td>NaN</td>\n",
       "      <td>63.20</td>\n",
       "      <td>NaN</td>\n",
       "      <td>26.18</td>\n",
       "      <td>NaN</td>\n",
       "      <td>NaN</td>\n",
       "      <td>NaN</td>\n",
       "      <td>NaN</td>\n",
       "      <td>NaN</td>\n",
       "      <td>NaN</td>\n",
       "      <td>...</td>\n",
       "      <td>NaN</td>\n",
       "      <td>NaN</td>\n",
       "      <td>NaN</td>\n",
       "      <td>NaN</td>\n",
       "      <td>NaN</td>\n",
       "      <td>59.65</td>\n",
       "      <td>NaN</td>\n",
       "      <td>143.84</td>\n",
       "      <td>NaN</td>\n",
       "      <td>NaN</td>\n",
       "    </tr>\n",
       "    <tr>\n",
       "      <th>2012</th>\n",
       "      <td>NaN</td>\n",
       "      <td>51.36</td>\n",
       "      <td>NaN</td>\n",
       "      <td>11.01</td>\n",
       "      <td>NaN</td>\n",
       "      <td>NaN</td>\n",
       "      <td>NaN</td>\n",
       "      <td>NaN</td>\n",
       "      <td>NaN</td>\n",
       "      <td>NaN</td>\n",
       "      <td>...</td>\n",
       "      <td>NaN</td>\n",
       "      <td>NaN</td>\n",
       "      <td>NaN</td>\n",
       "      <td>NaN</td>\n",
       "      <td>NaN</td>\n",
       "      <td>21.71</td>\n",
       "      <td>17.56</td>\n",
       "      <td>99.74</td>\n",
       "      <td>NaN</td>\n",
       "      <td>NaN</td>\n",
       "    </tr>\n",
       "    <tr>\n",
       "      <th>2013</th>\n",
       "      <td>NaN</td>\n",
       "      <td>56.57</td>\n",
       "      <td>NaN</td>\n",
       "      <td>1.54</td>\n",
       "      <td>NaN</td>\n",
       "      <td>NaN</td>\n",
       "      <td>NaN</td>\n",
       "      <td>NaN</td>\n",
       "      <td>NaN</td>\n",
       "      <td>NaN</td>\n",
       "      <td>...</td>\n",
       "      <td>NaN</td>\n",
       "      <td>NaN</td>\n",
       "      <td>NaN</td>\n",
       "      <td>NaN</td>\n",
       "      <td>NaN</td>\n",
       "      <td>8.59</td>\n",
       "      <td>21.65</td>\n",
       "      <td>88.58</td>\n",
       "      <td>NaN</td>\n",
       "      <td>18.96</td>\n",
       "    </tr>\n",
       "    <tr>\n",
       "      <th>2014</th>\n",
       "      <td>NaN</td>\n",
       "      <td>43.76</td>\n",
       "      <td>NaN</td>\n",
       "      <td>NaN</td>\n",
       "      <td>NaN</td>\n",
       "      <td>NaN</td>\n",
       "      <td>NaN</td>\n",
       "      <td>NaN</td>\n",
       "      <td>NaN</td>\n",
       "      <td>NaN</td>\n",
       "      <td>...</td>\n",
       "      <td>NaN</td>\n",
       "      <td>NaN</td>\n",
       "      <td>NaN</td>\n",
       "      <td>NaN</td>\n",
       "      <td>NaN</td>\n",
       "      <td>3.75</td>\n",
       "      <td>22.03</td>\n",
       "      <td>34.74</td>\n",
       "      <td>NaN</td>\n",
       "      <td>54.07</td>\n",
       "    </tr>\n",
       "    <tr>\n",
       "      <th>2015</th>\n",
       "      <td>NaN</td>\n",
       "      <td>27.78</td>\n",
       "      <td>NaN</td>\n",
       "      <td>NaN</td>\n",
       "      <td>NaN</td>\n",
       "      <td>NaN</td>\n",
       "      <td>NaN</td>\n",
       "      <td>NaN</td>\n",
       "      <td>NaN</td>\n",
       "      <td>NaN</td>\n",
       "      <td>...</td>\n",
       "      <td>NaN</td>\n",
       "      <td>NaN</td>\n",
       "      <td>NaN</td>\n",
       "      <td>NaN</td>\n",
       "      <td>NaN</td>\n",
       "      <td>1.14</td>\n",
       "      <td>16.35</td>\n",
       "      <td>11.96</td>\n",
       "      <td>NaN</td>\n",
       "      <td>60.14</td>\n",
       "    </tr>\n",
       "    <tr>\n",
       "      <th>2016</th>\n",
       "      <td>NaN</td>\n",
       "      <td>15.14</td>\n",
       "      <td>NaN</td>\n",
       "      <td>NaN</td>\n",
       "      <td>NaN</td>\n",
       "      <td>NaN</td>\n",
       "      <td>NaN</td>\n",
       "      <td>NaN</td>\n",
       "      <td>NaN</td>\n",
       "      <td>NaN</td>\n",
       "      <td>...</td>\n",
       "      <td>NaN</td>\n",
       "      <td>NaN</td>\n",
       "      <td>NaN</td>\n",
       "      <td>NaN</td>\n",
       "      <td>NaN</td>\n",
       "      <td>0.18</td>\n",
       "      <td>4.60</td>\n",
       "      <td>1.52</td>\n",
       "      <td>NaN</td>\n",
       "      <td>26.15</td>\n",
       "    </tr>\n",
       "  </tbody>\n",
       "</table>\n",
       "<p>23 rows × 29 columns</p>\n",
       "</div>"
      ],
      "text/plain": [
       "platform          3DO    3DS    DC      DS     GB    GBA     GC   GEN    N64  \\\n",
       "year_of_release                                                                \n",
       "1994             0.02    NaN   NaN     NaN  12.18    NaN    NaN  8.13    NaN   \n",
       "1995             0.08    NaN   NaN     NaN   3.60    NaN    NaN   NaN    NaN   \n",
       "1996              NaN    NaN   NaN     NaN  36.03    NaN    NaN   NaN  34.10   \n",
       "1997              NaN    NaN   NaN     NaN   6.37    NaN    NaN   NaN  39.50   \n",
       "1998              NaN    NaN  3.38     NaN  26.90    NaN    NaN   NaN  49.24   \n",
       "1999              NaN    NaN  5.16     NaN  38.00    NaN    NaN   NaN  57.87   \n",
       "2000              NaN    NaN  5.99     NaN  19.76   0.07    NaN   NaN  33.97   \n",
       "2001              NaN    NaN  1.07     NaN   9.24  61.53  26.34   NaN   3.25   \n",
       "2002              NaN    NaN  0.29     NaN    NaN  74.16  51.81   NaN   0.08   \n",
       "2003              NaN    NaN   NaN     NaN    NaN  56.67  50.61   NaN    NaN   \n",
       "2004              NaN    NaN   NaN   17.27    NaN  77.91  28.82   NaN    NaN   \n",
       "2005              NaN    NaN   NaN  130.14    NaN  33.86  27.62   NaN    NaN   \n",
       "2006              NaN    NaN   NaN  119.81    NaN   5.28  11.26   NaN    NaN   \n",
       "2007              NaN    NaN  0.02  146.94    NaN   3.40   0.27   NaN    NaN   \n",
       "2008              NaN    NaN  0.04  145.31    NaN    NaN    NaN   NaN    NaN   \n",
       "2009              NaN    NaN   NaN  119.54    NaN    NaN    NaN   NaN    NaN   \n",
       "2010              NaN    NaN   NaN   85.02    NaN    NaN    NaN   NaN    NaN   \n",
       "2011              NaN  63.20   NaN   26.18    NaN    NaN    NaN   NaN    NaN   \n",
       "2012              NaN  51.36   NaN   11.01    NaN    NaN    NaN   NaN    NaN   \n",
       "2013              NaN  56.57   NaN    1.54    NaN    NaN    NaN   NaN    NaN   \n",
       "2014              NaN  43.76   NaN     NaN    NaN    NaN    NaN   NaN    NaN   \n",
       "2015              NaN  27.78   NaN     NaN    NaN    NaN    NaN   NaN    NaN   \n",
       "2016              NaN  15.14   NaN     NaN    NaN    NaN    NaN   NaN    NaN   \n",
       "\n",
       "platform          NES  ...    SAT   SCD   SNES  TG16    WS     Wii   WiiU  \\\n",
       "year_of_release        ...                                                  \n",
       "1994             0.11  ...   3.65  0.36  35.08   NaN   NaN     NaN    NaN   \n",
       "1995              NaN  ...  11.57   NaN  32.20  0.16   NaN     NaN    NaN   \n",
       "1996              NaN  ...   7.69   NaN  15.92   NaN   NaN     NaN    NaN   \n",
       "1997              NaN  ...   6.77   NaN   0.99   NaN   NaN     NaN    NaN   \n",
       "1998              NaN  ...   3.82   NaN   0.22   NaN   NaN     NaN    NaN   \n",
       "1999              NaN  ...   0.09   NaN   0.26   NaN  0.46     NaN    NaN   \n",
       "2000              NaN  ...    NaN   NaN    NaN   NaN  0.68     NaN    NaN   \n",
       "2001              NaN  ...    NaN   NaN    NaN   NaN  0.28     NaN    NaN   \n",
       "2002              NaN  ...    NaN   NaN    NaN   NaN   NaN     NaN    NaN   \n",
       "2003              NaN  ...    NaN   NaN    NaN   NaN   NaN     NaN    NaN   \n",
       "2004              NaN  ...    NaN   NaN    NaN   NaN   NaN     NaN    NaN   \n",
       "2005              NaN  ...    NaN   NaN    NaN   NaN   NaN     NaN    NaN   \n",
       "2006              NaN  ...    NaN   NaN    NaN   NaN   NaN  137.15    NaN   \n",
       "2007              NaN  ...    NaN   NaN    NaN   NaN   NaN  152.77    NaN   \n",
       "2008              NaN  ...    NaN   NaN    NaN   NaN   NaN  171.32    NaN   \n",
       "2009              NaN  ...    NaN   NaN    NaN   NaN   NaN  206.97    NaN   \n",
       "2010              NaN  ...    NaN   NaN    NaN   NaN   NaN  127.95    NaN   \n",
       "2011              NaN  ...    NaN   NaN    NaN   NaN   NaN   59.65    NaN   \n",
       "2012              NaN  ...    NaN   NaN    NaN   NaN   NaN   21.71  17.56   \n",
       "2013              NaN  ...    NaN   NaN    NaN   NaN   NaN    8.59  21.65   \n",
       "2014              NaN  ...    NaN   NaN    NaN   NaN   NaN    3.75  22.03   \n",
       "2015              NaN  ...    NaN   NaN    NaN   NaN   NaN    1.14  16.35   \n",
       "2016              NaN  ...    NaN   NaN    NaN   NaN   NaN    0.18   4.60   \n",
       "\n",
       "platform           X360     XB   XOne  \n",
       "year_of_release                        \n",
       "1994                NaN    NaN    NaN  \n",
       "1995                NaN    NaN    NaN  \n",
       "1996                NaN    NaN    NaN  \n",
       "1997                NaN    NaN    NaN  \n",
       "1998                NaN    NaN    NaN  \n",
       "1999                NaN    NaN    NaN  \n",
       "2000                NaN   0.99    NaN  \n",
       "2001                NaN  22.26    NaN  \n",
       "2002                NaN  48.01    NaN  \n",
       "2003                NaN  55.04    NaN  \n",
       "2004                NaN  65.42    NaN  \n",
       "2005               8.25  49.08    NaN  \n",
       "2006              51.62  10.04    NaN  \n",
       "2007              95.41   0.55    NaN  \n",
       "2008             135.26   0.18    NaN  \n",
       "2009             120.29    NaN    NaN  \n",
       "2010             170.03    NaN    NaN  \n",
       "2011             143.84    NaN    NaN  \n",
       "2012              99.74    NaN    NaN  \n",
       "2013              88.58    NaN  18.96  \n",
       "2014              34.74    NaN  54.07  \n",
       "2015              11.96    NaN  60.14  \n",
       "2016               1.52    NaN  26.15  \n",
       "\n",
       "[23 rows x 29 columns]"
      ]
     },
     "execution_count": 21,
     "metadata": {},
     "output_type": "execute_result"
    }
   ],
   "source": [
    "# сводная таблица с продажами по годам\n",
    "platform_sales_by_year = (\n",
    "    games.query('platform in @platform_sales.index and year_of_release >= 1994').pivot_table(index = 'year_of_release',\n",
    "                                                                                             columns = 'platform',\n",
    "                                                                                             values = 'world_sales',\n",
    "                                                                                             aggfunc = 'sum'))\n",
    "# вывод таблицы\n",
    "platform_sales_by_year"
   ]
  },
  {
   "cell_type": "markdown",
   "metadata": {},
   "source": [
    "Визуализируем данные, чтобы стало понятнее."
   ]
  },
  {
   "cell_type": "code",
   "execution_count": 22,
   "metadata": {},
   "outputs": [
    {
     "data": {
      "image/png": "[encoded data removed]",
      "text/plain": [
       "<Figure size 1152x648 with 1 Axes>"
      ]
     },
     "metadata": {
      "needs_background": "light"
     },
     "output_type": "display_data"
    }
   ],
   "source": [
    "# график с продажами по годам\n",
    "platform_sales_by_year.plot(\n",
    "        style = 'o-', \n",
    "        figsize = (16,9),\n",
    "        alpha = .7,\n",
    "        grid = True)\n",
    "plt.title('Распределение продаж на разных платформах по годам')\n",
    "plt.xlabel('Год')\n",
    "plt.ylabel('Сумма продаж')\n",
    "plt.show()"
   ]
  },
  {
   "cell_type": "markdown",
   "metadata": {},
   "source": [
    "Одни платформы со временем приходят на смену другим. Продажи на одной платформе растут, на другой стремятся к нулю. Время не щадит никого, даже игровые платформы.\n",
    "\n",
    "Что мы имеем по рассматриваемому периоду:\n",
    "\n",
    "* PS потеряла свои позиции к 2003 году, с 1994 года она прожила 10 лет;\n",
    "\n",
    "* PS2 существовала с 2000 до 2011 года - 11 лет;\n",
    "\n",
    "* PS3 вышла в 2006 году и почти перестала продаваться в 2016 году, после выхода в 2013 году PS4 у нее не было шансов - 10 лет жизни;\n",
    "\n",
    "* PS4 - с момента выхода еще продается, хотя в 2016 году продажи упали (помним, что за этот год данные могут быть неполными);\n",
    "\n",
    "* GBA вышла в 2000 году и перестала продаваться в 2007, т.к. были более мощные конкуренты - 7 лет жизни;\n",
    "\n",
    "* DS просуществовала с 2004 по 2013 год - 10 лет;\n",
    "\n",
    "* Wii вышла в 2006 году, до 2016 года она сумела просуществовать, но продажи почти нулевые - 10 лет;\n",
    "\n",
    "* Х360 с момента выхода в 2005 году держала позиции до 2011 года, затем продажи стали сильно падать, к 2016 году она почти не продается - 12 лет жизни.\n",
    "\n",
    "Будем считать, что средний срок жизни платформы составляет 10 лет. За это время успевает смениться целое поколение геймеров. В первые 4-5 лет существования платформы она привлекает к себе большое внимание и пользуется популярностью, но затем сдает позиции и уступает место нововышедшим конкурентам, продолжая свое существование на рынке еще несколько лет."
   ]
  },
  {
   "cell_type": "markdown",
   "metadata": {},
   "source": [
    "В работе нам нужно взять данные за соответствующий актуальный период, эти данные помогут построить прогноз на 2017\n",
    "год. Учитывать данные за предыдущие годы не нужно.\n",
    "\n",
    "Возьмем данные начиная с 2011 года - в этом году уже закончила свое существование PS2, но другие платформы еще продаются. Также исключим из анализа 2016 год, поскольку данные могут быть неполными. Попробуем составить прогноз на 2017 год."
   ]
  },
  {
   "cell_type": "code",
   "execution_count": 23,
   "metadata": {
    "scrolled": true
   },
   "outputs": [],
   "source": [
    "# выборка с актуальными данными\n",
    "actual_games = games.query('2011 <= year_of_release <= 2015')"
   ]
  },
  {
   "cell_type": "code",
   "execution_count": 24,
   "metadata": {},
   "outputs": [],
   "source": [
    "#сводная таблица с актуальными данными\n",
    "market_forecast = actual_games.pivot_table(index = 'year_of_release',\n",
    "                                           columns = 'platform',\n",
    "                                           values = 'world_sales',\n",
    "                                           aggfunc = 'sum')"
   ]
  },
  {
   "cell_type": "code",
   "execution_count": 25,
   "metadata": {},
   "outputs": [
    {
     "data": {
      "image/png": "[encoded data removed]",
      "text/plain": [
       "<Figure size 1152x504 with 1 Axes>"
      ]
     },
     "metadata": {
      "needs_background": "light"
     },
     "output_type": "display_data"
    }
   ],
   "source": [
    "# график с продажами по актуальным данным\n",
    "market_forecast.plot(\n",
    "        style = 'o-', \n",
    "        figsize = (16,7),\n",
    "        alpha = .7,\n",
    "        grid = True)\n",
    "plt.title('Распределение продаж на разных платформах по годам')\n",
    "plt.xlabel('Год')\n",
    "plt.ylabel('Сумма продаж')\n",
    "plt.show()"
   ]
  },
  {
   "cell_type": "markdown",
   "metadata": {},
   "source": [
    "Появление на рынке новых платформ PS4 и XОne говорит о том, что в первые 4-5 лет они будут популярны, и пик продаж придется примерно на 2017-2018 годы. Эти платформы самые перспективные, и нужно вкладываться именно в их развитие. На остальные платформы не нужно обращать внимание, т.к. они уже почти завершили свой жизненный цикл в 10 лет, их продажи минимальны. Можно попытаться продолжить развитие PS3 и X360, а также 3DS, так как из оставшихся платформ они наиболее прибыльные, но вложения должны быть умеренными, потому что скоро они могут исчезнуть с рынка.\n",
    "\n",
    "Итак, потенциально прибыльные платформы - это PS4, XOne, PS3, X360, 3DS."
   ]
  },
  {
   "cell_type": "markdown",
   "metadata": {},
   "source": [
    "Следующая задача - построить график «ящик с усами» по глобальным продажам игр в разбивке по платформам. Возьмем самые популярные платформы за период с 2011 по 2015 годы."
   ]
  },
  {
   "cell_type": "code",
   "execution_count": 26,
   "metadata": {},
   "outputs": [],
   "source": [
    "# список популярных платформ\n",
    "pop_platforms = platform_sales.head(8)\n",
    "\n",
    "# отбор актуальных данных по самым популярным платформам\n",
    "games_global_platforms = games.query('platform in @pop_platforms.index')\n",
    "games_global_platforms = games_global_platforms.query('2011 >= year_of_release <= 2015')"
   ]
  },
  {
   "cell_type": "code",
   "execution_count": 27,
   "metadata": {},
   "outputs": [
    {
     "data": {
      "text/plain": [
       "(0.0, 1.8)"
      ]
     },
     "execution_count": 27,
     "metadata": {},
     "output_type": "execute_result"
    },
    {
     "data": {
      "image/png": "[encoded data removed]",
      "text/plain": [
       "<Figure size 432x432 with 1 Axes>"
      ]
     },
     "metadata": {
      "needs_background": "light"
     },
     "output_type": "display_data"
    }
   ],
   "source": [
    "# \"ящик с усами\" по глобальным продажам игр на разных платформах\n",
    "sns.catplot(y = 'platform',\n",
    "            x = 'world_sales',\n",
    "            kind = 'box',\n",
    "            data = games_global_platforms,\n",
    "            height = 6,\n",
    "            palette = 'rocket')\n",
    "\n",
    "plt.xlim(0, 1.8)"
   ]
  },
  {
   "cell_type": "markdown",
   "metadata": {},
   "source": [
    "Посмотрим параметры распределения продаж."
   ]
  },
  {
   "cell_type": "code",
   "execution_count": 28,
   "metadata": {},
   "outputs": [
    {
     "data": {
      "text/html": [
       "<div>\n",
       "<style scoped>\n",
       "    .dataframe tbody tr th:only-of-type {\n",
       "        vertical-align: middle;\n",
       "    }\n",
       "\n",
       "    .dataframe tbody tr th {\n",
       "        vertical-align: top;\n",
       "    }\n",
       "\n",
       "    .dataframe thead th {\n",
       "        text-align: right;\n",
       "    }\n",
       "</style>\n",
       "<table border=\"1\" class=\"dataframe\">\n",
       "  <thead>\n",
       "    <tr style=\"text-align: right;\">\n",
       "      <th></th>\n",
       "      <th>count</th>\n",
       "      <th>mean</th>\n",
       "      <th>std</th>\n",
       "      <th>min</th>\n",
       "      <th>25%</th>\n",
       "      <th>50%</th>\n",
       "      <th>75%</th>\n",
       "      <th>max</th>\n",
       "    </tr>\n",
       "    <tr>\n",
       "      <th>platform</th>\n",
       "      <th></th>\n",
       "      <th></th>\n",
       "      <th></th>\n",
       "      <th></th>\n",
       "      <th></th>\n",
       "      <th></th>\n",
       "      <th></th>\n",
       "      <th></th>\n",
       "    </tr>\n",
       "  </thead>\n",
       "  <tbody>\n",
       "    <tr>\n",
       "      <th>DS</th>\n",
       "      <td>2120.0</td>\n",
       "      <td>0.374325</td>\n",
       "      <td>1.426601</td>\n",
       "      <td>0.01</td>\n",
       "      <td>0.0500</td>\n",
       "      <td>0.11</td>\n",
       "      <td>0.2700</td>\n",
       "      <td>29.80</td>\n",
       "    </tr>\n",
       "    <tr>\n",
       "      <th>GBA</th>\n",
       "      <td>822.0</td>\n",
       "      <td>0.386679</td>\n",
       "      <td>0.896897</td>\n",
       "      <td>0.01</td>\n",
       "      <td>0.0525</td>\n",
       "      <td>0.16</td>\n",
       "      <td>0.3900</td>\n",
       "      <td>15.84</td>\n",
       "    </tr>\n",
       "    <tr>\n",
       "      <th>PS</th>\n",
       "      <td>1197.0</td>\n",
       "      <td>0.610576</td>\n",
       "      <td>1.054502</td>\n",
       "      <td>0.01</td>\n",
       "      <td>0.1100</td>\n",
       "      <td>0.26</td>\n",
       "      <td>0.6600</td>\n",
       "      <td>10.95</td>\n",
       "    </tr>\n",
       "    <tr>\n",
       "      <th>PS2</th>\n",
       "      <td>2161.0</td>\n",
       "      <td>0.581106</td>\n",
       "      <td>1.137927</td>\n",
       "      <td>0.00</td>\n",
       "      <td>0.0800</td>\n",
       "      <td>0.23</td>\n",
       "      <td>0.5600</td>\n",
       "      <td>20.81</td>\n",
       "    </tr>\n",
       "    <tr>\n",
       "      <th>PS3</th>\n",
       "      <td>838.0</td>\n",
       "      <td>0.776683</td>\n",
       "      <td>1.344043</td>\n",
       "      <td>0.00</td>\n",
       "      <td>0.1400</td>\n",
       "      <td>0.33</td>\n",
       "      <td>0.8600</td>\n",
       "      <td>13.33</td>\n",
       "    </tr>\n",
       "    <tr>\n",
       "      <th>Wii</th>\n",
       "      <td>1266.0</td>\n",
       "      <td>0.688894</td>\n",
       "      <td>3.183713</td>\n",
       "      <td>0.01</td>\n",
       "      <td>0.0825</td>\n",
       "      <td>0.19</td>\n",
       "      <td>0.4700</td>\n",
       "      <td>82.54</td>\n",
       "    </tr>\n",
       "    <tr>\n",
       "      <th>X360</th>\n",
       "      <td>970.0</td>\n",
       "      <td>0.757608</td>\n",
       "      <td>1.586231</td>\n",
       "      <td>0.01</td>\n",
       "      <td>0.1200</td>\n",
       "      <td>0.27</td>\n",
       "      <td>0.7175</td>\n",
       "      <td>21.82</td>\n",
       "    </tr>\n",
       "  </tbody>\n",
       "</table>\n",
       "</div>"
      ],
      "text/plain": [
       "           count      mean       std   min     25%   50%     75%    max\n",
       "platform                                                               \n",
       "DS        2120.0  0.374325  1.426601  0.01  0.0500  0.11  0.2700  29.80\n",
       "GBA        822.0  0.386679  0.896897  0.01  0.0525  0.16  0.3900  15.84\n",
       "PS        1197.0  0.610576  1.054502  0.01  0.1100  0.26  0.6600  10.95\n",
       "PS2       2161.0  0.581106  1.137927  0.00  0.0800  0.23  0.5600  20.81\n",
       "PS3        838.0  0.776683  1.344043  0.00  0.1400  0.33  0.8600  13.33\n",
       "Wii       1266.0  0.688894  3.183713  0.01  0.0825  0.19  0.4700  82.54\n",
       "X360       970.0  0.757608  1.586231  0.01  0.1200  0.27  0.7175  21.82"
      ]
     },
     "execution_count": 28,
     "metadata": {},
     "output_type": "execute_result"
    }
   ],
   "source": [
    "# описательная статистика\n",
    "games_global_platforms.groupby('platform')['world_sales'].describe()"
   ]
  },
  {
   "cell_type": "markdown",
   "metadata": {},
   "source": [
    "По количеству продаж в 2011-2015 гг. лидируют PS2, DS и Wii.\n",
    "* cреднее количество продаж на платформе PS2 = 580 тыс. копий, 75% продаж равно 560 тыс., рекорд - 20 млн. 810 тыс.\n",
    "* cреднее количество продаж на платформе DS = 370 тыс. копий, 75% продаж равно 270 тыс., рекорд - 29 млн. 800 тыс.\n",
    "* cреднее количество продаж на платформе Wii = 690 тыс. копий, 75% продаж равно 470 тыс., рекорд - 82 млн. 540 тыс.\n",
    "\n",
    "\n",
    "* рекорд продаж на платформе PS = 10 млн. 950 тыс.\n",
    "* рекорд продаж на платформе PS3 = 13 млн. 330 тыс.\n",
    "* рекорд продаж на платформе PSP = 7 млн. 680 тыс.\n",
    "* рекорд продаж на платформе X360 = 21 млн. 820 тыс.\n",
    "* рекорд продаж на платформе GBA = 15 млн. 840 тыс.\n",
    "\n",
    "Медиана варьируется от 100 до 270 тыс. проданных копий. Верхняя граница предела нормальных значений у менее популярных платформ заканчивается там, где расположены нормальные значения у платформ-лидеров.\n",
    "\n",
    "Меньше всего игр продается на приставке GBA."
   ]
  },
  {
   "cell_type": "markdown",
   "metadata": {},
   "source": [
    "Далее нужно посмотреть, как влияют на продажи внутри одной популярной платформы отзывы пользователей и критиков. Построим диаграмму рассеяния и посчитаем корреляцию между отзывами и продажами.\n",
    "\n",
    "Выберем для анализа лидера продаж - PS2."
   ]
  },
  {
   "cell_type": "code",
   "execution_count": 29,
   "metadata": {},
   "outputs": [
    {
     "data": {
      "text/html": [
       "<div>\n",
       "<style scoped>\n",
       "    .dataframe tbody tr th:only-of-type {\n",
       "        vertical-align: middle;\n",
       "    }\n",
       "\n",
       "    .dataframe tbody tr th {\n",
       "        vertical-align: top;\n",
       "    }\n",
       "\n",
       "    .dataframe thead th {\n",
       "        text-align: right;\n",
       "    }\n",
       "</style>\n",
       "<table border=\"1\" class=\"dataframe\">\n",
       "  <thead>\n",
       "    <tr style=\"text-align: right;\">\n",
       "      <th></th>\n",
       "      <th>world_sales</th>\n",
       "      <th>critic_score</th>\n",
       "      <th>user_score</th>\n",
       "    </tr>\n",
       "  </thead>\n",
       "  <tbody>\n",
       "    <tr>\n",
       "      <th>world_sales</th>\n",
       "      <td>1.0</td>\n",
       "      <td>0.38922</td>\n",
       "      <td>0.16942</td>\n",
       "    </tr>\n",
       "  </tbody>\n",
       "</table>\n",
       "</div>"
      ],
      "text/plain": [
       "             world_sales  critic_score  user_score\n",
       "world_sales          1.0       0.38922     0.16942"
      ]
     },
     "execution_count": 29,
     "metadata": {},
     "output_type": "execute_result"
    }
   ],
   "source": [
    "# отбор данных по нужной платформе\n",
    "ps2 = games_global_platforms.query('platform == \"PS2\" and (user_score != -1) and (critic_score != -1)')\n",
    "# расчет корреляции\n",
    "ps2[['world_sales', 'critic_score', 'user_score']].corr().head(1)"
   ]
  },
  {
   "cell_type": "code",
   "execution_count": 30,
   "metadata": {},
   "outputs": [
    {
     "name": "stdout",
     "output_type": "stream",
     "text": [
      "0.17\n",
      "0.39\n"
     ]
    },
    {
     "data": {
      "image/png": "[encoded data removed]",
      "text/plain": [
       "<Figure size 360x360 with 1 Axes>"
      ]
     },
     "metadata": {
      "needs_background": "light"
     },
     "output_type": "display_data"
    },
    {
     "data": {
      "image/png": "[encoded data removed]",
      "text/plain": [
       "<Figure size 360x360 with 1 Axes>"
      ]
     },
     "metadata": {
      "needs_background": "light"
     },
     "output_type": "display_data"
    }
   ],
   "source": [
    "# диаграммы рассеяния\n",
    "for column in ['user_score', 'critic_score']:\n",
    "    print(round(ps2[column].corr(ps2['world_sales']), 2))\n",
    "    sns.relplot(x = column, y = 'world_sales', data = ps2)"
   ]
  },
  {
   "cell_type": "markdown",
   "metadata": {},
   "source": [
    "Данные говорят о том, что продажи не зависят от оценки пользователей, но есть небольшая корреляция продаж с оценкой критиков (это не позволяет достоверно утверждать, что эта оценка влияет на продажи).\n",
    "\n",
    "Посмотрим корреляцию на других платформах."
   ]
  },
  {
   "cell_type": "code",
   "execution_count": 31,
   "metadata": {},
   "outputs": [
    {
     "data": {
      "text/html": [
       "<div>\n",
       "<style scoped>\n",
       "    .dataframe tbody tr th:only-of-type {\n",
       "        vertical-align: middle;\n",
       "    }\n",
       "\n",
       "    .dataframe tbody tr th {\n",
       "        vertical-align: top;\n",
       "    }\n",
       "\n",
       "    .dataframe thead th {\n",
       "        text-align: right;\n",
       "    }\n",
       "</style>\n",
       "<table border=\"1\" class=\"dataframe\">\n",
       "  <thead>\n",
       "    <tr style=\"text-align: right;\">\n",
       "      <th></th>\n",
       "      <th>world_sales</th>\n",
       "      <th>critic_score</th>\n",
       "      <th>user_score</th>\n",
       "    </tr>\n",
       "  </thead>\n",
       "  <tbody>\n",
       "    <tr>\n",
       "      <th>world_sales</th>\n",
       "      <td>1.0</td>\n",
       "      <td>0.230995</td>\n",
       "      <td>0.139403</td>\n",
       "    </tr>\n",
       "  </tbody>\n",
       "</table>\n",
       "</div>"
      ],
      "text/plain": [
       "             world_sales  critic_score  user_score\n",
       "world_sales          1.0      0.230995    0.139403"
      ]
     },
     "execution_count": 31,
     "metadata": {},
     "output_type": "execute_result"
    }
   ],
   "source": [
    "# отбор данных по нужной платформе\n",
    "ds = games_global_platforms.query('platform == \"DS\" and (user_score != -1) and (critic_score != -1)')\n",
    "# расчет корреляции\n",
    "ds[['world_sales', 'critic_score', 'user_score']].corr().head(1)"
   ]
  },
  {
   "cell_type": "code",
   "execution_count": 32,
   "metadata": {},
   "outputs": [
    {
     "name": "stdout",
     "output_type": "stream",
     "text": [
      "0.14\n",
      "0.23\n"
     ]
    },
    {
     "data": {
      "image/png": "[encoded data removed]",
      "text/plain": [
       "<Figure size 360x360 with 1 Axes>"
      ]
     },
     "metadata": {
      "needs_background": "light"
     },
     "output_type": "display_data"
    },
    {
     "data": {
      "image/png": "[encoded data removed]",
      "text/plain": [
       "<Figure size 360x360 with 1 Axes>"
      ]
     },
     "metadata": {
      "needs_background": "light"
     },
     "output_type": "display_data"
    }
   ],
   "source": [
    "# диаграммы рассеяния\n",
    "for column in ['user_score', 'critic_score']:\n",
    "    print(round(ds[column].corr(ds['world_sales']), 2))\n",
    "    sns.relplot(x = column, y = 'world_sales', data = ds)"
   ]
  },
  {
   "cell_type": "markdown",
   "metadata": {},
   "source": [
    "Вывод такой же, как по приставке PS4."
   ]
  },
  {
   "cell_type": "code",
   "execution_count": 33,
   "metadata": {
    "scrolled": true
   },
   "outputs": [
    {
     "data": {
      "text/html": [
       "<div>\n",
       "<style scoped>\n",
       "    .dataframe tbody tr th:only-of-type {\n",
       "        vertical-align: middle;\n",
       "    }\n",
       "\n",
       "    .dataframe tbody tr th {\n",
       "        vertical-align: top;\n",
       "    }\n",
       "\n",
       "    .dataframe thead th {\n",
       "        text-align: right;\n",
       "    }\n",
       "</style>\n",
       "<table border=\"1\" class=\"dataframe\">\n",
       "  <thead>\n",
       "    <tr style=\"text-align: right;\">\n",
       "      <th></th>\n",
       "      <th>world_sales</th>\n",
       "      <th>critic_score</th>\n",
       "      <th>user_score</th>\n",
       "    </tr>\n",
       "  </thead>\n",
       "  <tbody>\n",
       "    <tr>\n",
       "      <th>world_sales</th>\n",
       "      <td>1.0</td>\n",
       "      <td>0.168868</td>\n",
       "      <td>0.110034</td>\n",
       "    </tr>\n",
       "  </tbody>\n",
       "</table>\n",
       "</div>"
      ],
      "text/plain": [
       "             world_sales  critic_score  user_score\n",
       "world_sales          1.0      0.168868    0.110034"
      ]
     },
     "execution_count": 33,
     "metadata": {},
     "output_type": "execute_result"
    }
   ],
   "source": [
    "# отбор данных по нужной платформе\n",
    "wii = games_global_platforms.query('platform == \"Wii\" and (user_score != -1) and (critic_score != -1)')\n",
    "# расчет корреляции\n",
    "wii[['world_sales', 'critic_score', 'user_score']].corr().head(1)"
   ]
  },
  {
   "cell_type": "code",
   "execution_count": 34,
   "metadata": {},
   "outputs": [
    {
     "name": "stdout",
     "output_type": "stream",
     "text": [
      "0.11\n",
      "0.17\n"
     ]
    },
    {
     "data": {
      "image/png": "[encoded data removed]",
      "text/plain": [
       "<Figure size 360x360 with 1 Axes>"
      ]
     },
     "metadata": {
      "needs_background": "light"
     },
     "output_type": "display_data"
    },
    {
     "data": {
      "image/png": "[encoded data removed]",
      "text/plain": [
       "<Figure size 360x360 with 1 Axes>"
      ]
     },
     "metadata": {
      "needs_background": "light"
     },
     "output_type": "display_data"
    }
   ],
   "source": [
    "# диаграммы рассеяния\n",
    "for column in ['user_score', 'critic_score']:\n",
    "    print(round(wii[column].corr(wii['world_sales']), 2))\n",
    "    sns.relplot(x = column, y = 'world_sales', data = wii)"
   ]
  },
  {
   "cell_type": "markdown",
   "metadata": {},
   "source": [
    "Та же ситуация."
   ]
  },
  {
   "cell_type": "code",
   "execution_count": 35,
   "metadata": {},
   "outputs": [
    {
     "data": {
      "text/html": [
       "<div>\n",
       "<style scoped>\n",
       "    .dataframe tbody tr th:only-of-type {\n",
       "        vertical-align: middle;\n",
       "    }\n",
       "\n",
       "    .dataframe tbody tr th {\n",
       "        vertical-align: top;\n",
       "    }\n",
       "\n",
       "    .dataframe thead th {\n",
       "        text-align: right;\n",
       "    }\n",
       "</style>\n",
       "<table border=\"1\" class=\"dataframe\">\n",
       "  <thead>\n",
       "    <tr style=\"text-align: right;\">\n",
       "      <th></th>\n",
       "      <th>world_sales</th>\n",
       "      <th>critic_score</th>\n",
       "      <th>user_score</th>\n",
       "    </tr>\n",
       "  </thead>\n",
       "  <tbody>\n",
       "    <tr>\n",
       "      <th>world_sales</th>\n",
       "      <td>1.0</td>\n",
       "      <td>0.168868</td>\n",
       "      <td>0.110034</td>\n",
       "    </tr>\n",
       "  </tbody>\n",
       "</table>\n",
       "</div>"
      ],
      "text/plain": [
       "             world_sales  critic_score  user_score\n",
       "world_sales          1.0      0.168868    0.110034"
      ]
     },
     "execution_count": 35,
     "metadata": {},
     "output_type": "execute_result"
    }
   ],
   "source": [
    "# отбор данных по нужной платформе\n",
    "wii = games_global_platforms.query('platform == \"Wii\" and (user_score != -1) and (critic_score != -1)')\n",
    "# расчет корреляции\n",
    "wii[['world_sales', 'critic_score', 'user_score']].corr().head(1)"
   ]
  },
  {
   "cell_type": "code",
   "execution_count": 36,
   "metadata": {},
   "outputs": [
    {
     "name": "stdout",
     "output_type": "stream",
     "text": [
      "0.11\n",
      "0.17\n"
     ]
    },
    {
     "data": {
      "image/png": "[encoded data removed]",
      "text/plain": [
       "<Figure size 360x360 with 1 Axes>"
      ]
     },
     "metadata": {
      "needs_background": "light"
     },
     "output_type": "display_data"
    },
    {
     "data": {
      "image/png": "[encoded data removed]",
      "text/plain": [
       "<Figure size 360x360 with 1 Axes>"
      ]
     },
     "metadata": {
      "needs_background": "light"
     },
     "output_type": "display_data"
    }
   ],
   "source": [
    "# диаграммы рассеяния\n",
    "for column in ['user_score', 'critic_score']:\n",
    "    print(round(wii[column].corr(wii['world_sales']), 2))\n",
    "    sns.relplot(x = column, y = 'world_sales', data = wii)"
   ]
  },
  {
   "cell_type": "markdown",
   "metadata": {},
   "source": [
    "Здесь влияние оценки критиков на продажи еще меньше.\n",
    "\n",
    "Делаем вывод: оценки критиков средне влияют на количество продаж игр, оценки пользователей практически не влияют."
   ]
  },
  {
   "cell_type": "markdown",
   "metadata": {},
   "source": [
    "Последняя задача на этом шаге: нужно изучить общее распределение игр по жанрам, проанализировать самые прибыльные жанры, описать жанры с высокими и низкими продажами. Данные возьмем за 2011-2015 годы."
   ]
  },
  {
   "cell_type": "code",
   "execution_count": 37,
   "metadata": {
    "scrolled": false
   },
   "outputs": [
    {
     "data": {
      "text/plain": [
       "<AxesSubplot:title={'center':'Жанры игр по количеству'}, xlabel='genre'>"
      ]
     },
     "execution_count": 37,
     "metadata": {},
     "output_type": "execute_result"
    },
    {
     "data": {
      "image/png": "[encoded data removed]",
      "text/plain": [
       "<Figure size 864x504 with 1 Axes>"
      ]
     },
     "metadata": {
      "needs_background": "light"
     },
     "output_type": "display_data"
    }
   ],
   "source": [
    "# отбор актуальных данных за выбранный период\n",
    "games_global_for_genres = games.query('2011 >= year_of_release <= 2015')\n",
    "games_global_for_genres.groupby('genre').agg('count')['name'].sort_values(ascending = False).plot(kind = 'bar', \n",
    "                                                                                y = 'name', \n",
    "                                                                                figsize = (12, 7),\n",
    "                                                                                title = 'Жанры игр по количеству')"
   ]
  },
  {
   "cell_type": "markdown",
   "metadata": {},
   "source": [
    "Итак, за весь период больше всего выпускалось игр в жанрах action, sports и misc, причем action - самый популярный жанр, отрыв довольно большой. Меньше всего игр выпущено в жанре fighting, strategy и puzzle."
   ]
  },
  {
   "cell_type": "code",
   "execution_count": 62,
   "metadata": {
    "scrolled": false
   },
   "outputs": [
    {
     "data": {
      "text/plain": [
       "<AxesSubplot:title={'center':'Жанры игр по продажам'}, xlabel='genre'>"
      ]
     },
     "execution_count": 62,
     "metadata": {},
     "output_type": "execute_result"
    },
    {
     "data": {
      "image/png": "[encoded data removed]",
      "text/plain": [
       "<Figure size 864x504 with 1 Axes>"
      ]
     },
     "metadata": {
      "needs_background": "light"
     },
     "output_type": "display_data"
    }
   ],
   "source": [
    "# таблица с медианами по продажам жанров игр\n",
    "pop_genre = pd.pivot_table(games_global_for_genres, \n",
    "                           index = 'genre', \n",
    "                           values = 'world_sales', \n",
    "                           aggfunc = 'median').sort_values(by = 'world_sales', ascending = False)\n",
    "pop_genre.plot(kind = 'bar',\n",
    "               y = 'world_sales',\n",
    "               figsize = (12, 7),\n",
    "               title = 'Жанры игр по продажам')"
   ]
  },
  {
   "cell_type": "markdown",
   "metadata": {},
   "source": [
    "Больше всего любят играть в игры жанра platform, менее популярны жанры action и shooter. Меньше всего людям нравятся паззлы, приключения и стратегии."
   ]
  },
  {
   "cell_type": "markdown",
   "metadata": {},
   "source": [
    "# Вывод №3\n",
    "\n",
    "В результате анализа данных было получено много результатов. Вот итоги данного этапа.\n",
    "\n",
    "Количество выпускаемых игр начало активно расти с 1994 года после появления первой приставки и развития компьютерных технологий. Резкий скачок произошел в 2002 году и вероятно связан с выходом Xbox. Расцвет игровой индустрии пришелся на 2008-2009 года, затем наблюдается спад.\n",
    "\n",
    "В первые 4-5 лет существования платформы она привлекает к себе большое внимание и пользуется популярностью, но затем сдает позиции и уступает место нововышедшим конкурентам, продолжая свое существование на рынке еще несколько лет.\n",
    "\n",
    "Потенциально прибыльные платформы в 2017 году - это PS4, XOne, PS3, X360, 3DS.\n",
    "\n",
    "За весь анализируемый период больше всего игр продавалось на приставках X360, PS3 и PS4.\n",
    "\n",
    "Оценки критиков средне влияют на количество продаж игр, оценки пользователей практически не влияют.\n",
    "\n",
    "За весь период больше всего выпускалось игр в жанрах Action, Sports и Misc, причем Action - самый популярный жанр, отрыв довольно большой. Меньше всего игр выпущено в жанре Fighting, Strategy и Puzzle. Во все времена люди больше всего любят играть в игры жанра Action, менее популярны жанры Sports и Shooter. Меньше всего людям нравятся паззлы, приключения и стратегии."
   ]
  },
  {
   "cell_type": "markdown",
   "metadata": {},
   "source": [
    "# Шаг 4. Портрет пользователя каждого региона"
   ]
  },
  {
   "cell_type": "markdown",
   "metadata": {},
   "source": [
    "Задачи этого шага:\n",
    "* определить топ-5 популярных платформ, описать различия в долях продаж;\n",
    "* определить топ-5 популярных жанров, пояснить разницу;\n",
    "* ответить на вопрос: влияет ли рейтинг ESRB на продажи в отдельном регионе?\n",
    "\n",
    "Расчеты ведутся по трем регионам (NA, EU, JP). Данные взяты за актуальный период (2011-2015 гг.)."
   ]
  },
  {
   "cell_type": "markdown",
   "metadata": {},
   "source": [
    "Сначала определим 5 популярных платформ в каждом регионе. Построим сводные таблицы."
   ]
  },
  {
   "cell_type": "code",
   "execution_count": 41,
   "metadata": {},
   "outputs": [
    {
     "data": {
      "text/html": [
       "<div>\n",
       "<style scoped>\n",
       "    .dataframe tbody tr th:only-of-type {\n",
       "        vertical-align: middle;\n",
       "    }\n",
       "\n",
       "    .dataframe tbody tr th {\n",
       "        vertical-align: top;\n",
       "    }\n",
       "\n",
       "    .dataframe thead th {\n",
       "        text-align: right;\n",
       "    }\n",
       "</style>\n",
       "<table border=\"1\" class=\"dataframe\">\n",
       "  <thead>\n",
       "    <tr style=\"text-align: right;\">\n",
       "      <th></th>\n",
       "      <th>na_sales</th>\n",
       "    </tr>\n",
       "    <tr>\n",
       "      <th>platform</th>\n",
       "      <th></th>\n",
       "    </tr>\n",
       "  </thead>\n",
       "  <tbody>\n",
       "    <tr>\n",
       "      <th>X360</th>\n",
       "      <td>226.11</td>\n",
       "    </tr>\n",
       "    <tr>\n",
       "      <th>PS3</th>\n",
       "      <td>167.59</td>\n",
       "    </tr>\n",
       "    <tr>\n",
       "      <th>PS4</th>\n",
       "      <td>87.25</td>\n",
       "    </tr>\n",
       "    <tr>\n",
       "      <th>XOne</th>\n",
       "      <td>78.85</td>\n",
       "    </tr>\n",
       "    <tr>\n",
       "      <th>3DS</th>\n",
       "      <td>78.51</td>\n",
       "    </tr>\n",
       "  </tbody>\n",
       "</table>\n",
       "</div>"
      ],
      "text/plain": [
       "          na_sales\n",
       "platform          \n",
       "X360        226.11\n",
       "PS3         167.59\n",
       "PS4          87.25\n",
       "XOne         78.85\n",
       "3DS          78.51"
      ]
     },
     "execution_count": 41,
     "metadata": {},
     "output_type": "execute_result"
    }
   ],
   "source": [
    "# сводная таблица с платформами в Америке\n",
    "na_platform_pivot_table = pd.pivot_table(actual_games, \n",
    "                                         index = 'platform', \n",
    "                                         values = 'na_sales', \n",
    "                                         aggfunc = 'sum').sort_values('na_sales', ascending = False)\n",
    "# топ-5 платформ в Америке\n",
    "na_platform_pivot_table.head()"
   ]
  },
  {
   "cell_type": "code",
   "execution_count": 42,
   "metadata": {},
   "outputs": [
    {
     "data": {
      "text/html": [
       "<div>\n",
       "<style scoped>\n",
       "    .dataframe tbody tr th:only-of-type {\n",
       "        vertical-align: middle;\n",
       "    }\n",
       "\n",
       "    .dataframe tbody tr th {\n",
       "        vertical-align: top;\n",
       "    }\n",
       "\n",
       "    .dataframe thead th {\n",
       "        text-align: right;\n",
       "    }\n",
       "</style>\n",
       "<table border=\"1\" class=\"dataframe\">\n",
       "  <thead>\n",
       "    <tr style=\"text-align: right;\">\n",
       "      <th></th>\n",
       "      <th>eu_sales</th>\n",
       "    </tr>\n",
       "    <tr>\n",
       "      <th>platform</th>\n",
       "      <th></th>\n",
       "    </tr>\n",
       "  </thead>\n",
       "  <tbody>\n",
       "    <tr>\n",
       "      <th>PS3</th>\n",
       "      <td>161.84</td>\n",
       "    </tr>\n",
       "    <tr>\n",
       "      <th>X360</th>\n",
       "      <td>116.39</td>\n",
       "    </tr>\n",
       "    <tr>\n",
       "      <th>PS4</th>\n",
       "      <td>109.31</td>\n",
       "    </tr>\n",
       "    <tr>\n",
       "      <th>3DS</th>\n",
       "      <td>58.94</td>\n",
       "    </tr>\n",
       "    <tr>\n",
       "      <th>PC</th>\n",
       "      <td>53.17</td>\n",
       "    </tr>\n",
       "  </tbody>\n",
       "</table>\n",
       "</div>"
      ],
      "text/plain": [
       "          eu_sales\n",
       "platform          \n",
       "PS3         161.84\n",
       "X360        116.39\n",
       "PS4         109.31\n",
       "3DS          58.94\n",
       "PC           53.17"
      ]
     },
     "execution_count": 42,
     "metadata": {},
     "output_type": "execute_result"
    }
   ],
   "source": [
    "# сводная таблица с платформами в Европе\n",
    "eu_platform_pivot_table = pd.pivot_table(actual_games, \n",
    "                                         index = 'platform', \n",
    "                                         values = 'eu_sales', \n",
    "                                         aggfunc = 'sum').sort_values('eu_sales', ascending = False)\n",
    "# топ-5 платформ в Европе\n",
    "eu_platform_pivot_table.head()"
   ]
  },
  {
   "cell_type": "code",
   "execution_count": 43,
   "metadata": {
    "scrolled": false
   },
   "outputs": [
    {
     "data": {
      "text/html": [
       "<div>\n",
       "<style scoped>\n",
       "    .dataframe tbody tr th:only-of-type {\n",
       "        vertical-align: middle;\n",
       "    }\n",
       "\n",
       "    .dataframe tbody tr th {\n",
       "        vertical-align: top;\n",
       "    }\n",
       "\n",
       "    .dataframe thead th {\n",
       "        text-align: right;\n",
       "    }\n",
       "</style>\n",
       "<table border=\"1\" class=\"dataframe\">\n",
       "  <thead>\n",
       "    <tr style=\"text-align: right;\">\n",
       "      <th></th>\n",
       "      <th>jp_sales</th>\n",
       "    </tr>\n",
       "    <tr>\n",
       "      <th>platform</th>\n",
       "      <th></th>\n",
       "    </tr>\n",
       "  </thead>\n",
       "  <tbody>\n",
       "    <tr>\n",
       "      <th>3DS</th>\n",
       "      <td>92.59</td>\n",
       "    </tr>\n",
       "    <tr>\n",
       "      <th>PS3</th>\n",
       "      <td>48.09</td>\n",
       "    </tr>\n",
       "    <tr>\n",
       "      <th>PSP</th>\n",
       "      <td>24.04</td>\n",
       "    </tr>\n",
       "    <tr>\n",
       "      <th>PSV</th>\n",
       "      <td>18.28</td>\n",
       "    </tr>\n",
       "    <tr>\n",
       "      <th>WiiU</th>\n",
       "      <td>12.34</td>\n",
       "    </tr>\n",
       "  </tbody>\n",
       "</table>\n",
       "</div>"
      ],
      "text/plain": [
       "          jp_sales\n",
       "platform          \n",
       "3DS          92.59\n",
       "PS3          48.09\n",
       "PSP          24.04\n",
       "PSV          18.28\n",
       "WiiU         12.34"
      ]
     },
     "execution_count": 43,
     "metadata": {},
     "output_type": "execute_result"
    }
   ],
   "source": [
    "# сводная таблица с платформами в Японии\n",
    "jp_platform_pivot_table = pd.pivot_table(actual_games, \n",
    "                                         index = 'platform', \n",
    "                                         values = 'jp_sales', \n",
    "                                         aggfunc = 'sum').sort_values('jp_sales', ascending = False)\n",
    "# топ-5 платформ в Японии\n",
    "jp_platform_pivot_table.head()"
   ]
  },
  {
   "cell_type": "markdown",
   "metadata": {},
   "source": [
    "В Америке и Европе самые популярные платформы - X360, PS3 и PS4. PS3 продается примерно одинаково и больше популярна в Европе, американцы чаще играют на X360. В Японии популярные платформы совсем другие, самая популярная - 3DS, затем идут PS3 и PSP.\n",
    "\n",
    "Проанализируем жанры."
   ]
  },
  {
   "cell_type": "code",
   "execution_count": 44,
   "metadata": {},
   "outputs": [
    {
     "data": {
      "text/html": [
       "<div>\n",
       "<style scoped>\n",
       "    .dataframe tbody tr th:only-of-type {\n",
       "        vertical-align: middle;\n",
       "    }\n",
       "\n",
       "    .dataframe tbody tr th {\n",
       "        vertical-align: top;\n",
       "    }\n",
       "\n",
       "    .dataframe thead th {\n",
       "        text-align: right;\n",
       "    }\n",
       "</style>\n",
       "<table border=\"1\" class=\"dataframe\">\n",
       "  <thead>\n",
       "    <tr style=\"text-align: right;\">\n",
       "      <th></th>\n",
       "      <th>na_sales</th>\n",
       "    </tr>\n",
       "    <tr>\n",
       "      <th>genre</th>\n",
       "      <th></th>\n",
       "    </tr>\n",
       "  </thead>\n",
       "  <tbody>\n",
       "    <tr>\n",
       "      <th>Action</th>\n",
       "      <td>221.63</td>\n",
       "    </tr>\n",
       "    <tr>\n",
       "      <th>Shooter</th>\n",
       "      <td>178.19</td>\n",
       "    </tr>\n",
       "    <tr>\n",
       "      <th>Sports</th>\n",
       "      <td>101.16</td>\n",
       "    </tr>\n",
       "    <tr>\n",
       "      <th>Role-Playing</th>\n",
       "      <td>77.89</td>\n",
       "    </tr>\n",
       "    <tr>\n",
       "      <th>Misc</th>\n",
       "      <td>68.93</td>\n",
       "    </tr>\n",
       "  </tbody>\n",
       "</table>\n",
       "</div>"
      ],
      "text/plain": [
       "              na_sales\n",
       "genre                 \n",
       "Action          221.63\n",
       "Shooter         178.19\n",
       "Sports          101.16\n",
       "Role-Playing     77.89\n",
       "Misc             68.93"
      ]
     },
     "execution_count": 44,
     "metadata": {},
     "output_type": "execute_result"
    }
   ],
   "source": [
    "# сводная таблица с жанрами в Америке\n",
    "na_genre_pivot_table = pd.pivot_table(actual_games, \n",
    "                                      index = 'genre', \n",
    "                                      values = 'na_sales',\n",
    "                                      aggfunc = 'sum').sort_values('na_sales', ascending = False)\n",
    "# топ-5 жанров в Америке\n",
    "na_genre_pivot_table.head()"
   ]
  },
  {
   "cell_type": "code",
   "execution_count": 45,
   "metadata": {},
   "outputs": [
    {
     "data": {
      "text/html": [
       "<div>\n",
       "<style scoped>\n",
       "    .dataframe tbody tr th:only-of-type {\n",
       "        vertical-align: middle;\n",
       "    }\n",
       "\n",
       "    .dataframe tbody tr th {\n",
       "        vertical-align: top;\n",
       "    }\n",
       "\n",
       "    .dataframe thead th {\n",
       "        text-align: right;\n",
       "    }\n",
       "</style>\n",
       "<table border=\"1\" class=\"dataframe\">\n",
       "  <thead>\n",
       "    <tr style=\"text-align: right;\">\n",
       "      <th></th>\n",
       "      <th>eu_sales</th>\n",
       "    </tr>\n",
       "    <tr>\n",
       "      <th>genre</th>\n",
       "      <th></th>\n",
       "    </tr>\n",
       "  </thead>\n",
       "  <tbody>\n",
       "    <tr>\n",
       "      <th>Action</th>\n",
       "      <td>188.44</td>\n",
       "    </tr>\n",
       "    <tr>\n",
       "      <th>Shooter</th>\n",
       "      <td>132.12</td>\n",
       "    </tr>\n",
       "    <tr>\n",
       "      <th>Sports</th>\n",
       "      <td>76.47</td>\n",
       "    </tr>\n",
       "    <tr>\n",
       "      <th>Role-Playing</th>\n",
       "      <td>58.02</td>\n",
       "    </tr>\n",
       "    <tr>\n",
       "      <th>Misc</th>\n",
       "      <td>39.06</td>\n",
       "    </tr>\n",
       "  </tbody>\n",
       "</table>\n",
       "</div>"
      ],
      "text/plain": [
       "              eu_sales\n",
       "genre                 \n",
       "Action          188.44\n",
       "Shooter         132.12\n",
       "Sports           76.47\n",
       "Role-Playing     58.02\n",
       "Misc             39.06"
      ]
     },
     "execution_count": 45,
     "metadata": {},
     "output_type": "execute_result"
    }
   ],
   "source": [
    "# сводная таблица с жанрами в Европе\n",
    "eu_genre_pivot_table = pd.pivot_table(actual_games, \n",
    "                                      index = 'genre', \n",
    "                                      values = 'eu_sales',\n",
    "                                      aggfunc = 'sum').sort_values('eu_sales', ascending = False)\n",
    "# топ-5 жанров в Европе\n",
    "eu_genre_pivot_table.head()"
   ]
  },
  {
   "cell_type": "code",
   "execution_count": 46,
   "metadata": {},
   "outputs": [
    {
     "data": {
      "text/html": [
       "<div>\n",
       "<style scoped>\n",
       "    .dataframe tbody tr th:only-of-type {\n",
       "        vertical-align: middle;\n",
       "    }\n",
       "\n",
       "    .dataframe tbody tr th {\n",
       "        vertical-align: top;\n",
       "    }\n",
       "\n",
       "    .dataframe thead th {\n",
       "        text-align: right;\n",
       "    }\n",
       "</style>\n",
       "<table border=\"1\" class=\"dataframe\">\n",
       "  <thead>\n",
       "    <tr style=\"text-align: right;\">\n",
       "      <th></th>\n",
       "      <th>jp_sales</th>\n",
       "    </tr>\n",
       "    <tr>\n",
       "      <th>genre</th>\n",
       "      <th></th>\n",
       "    </tr>\n",
       "  </thead>\n",
       "  <tbody>\n",
       "    <tr>\n",
       "      <th>Role-Playing</th>\n",
       "      <td>73.26</td>\n",
       "    </tr>\n",
       "    <tr>\n",
       "      <th>Action</th>\n",
       "      <td>56.55</td>\n",
       "    </tr>\n",
       "    <tr>\n",
       "      <th>Misc</th>\n",
       "      <td>16.56</td>\n",
       "    </tr>\n",
       "    <tr>\n",
       "      <th>Platform</th>\n",
       "      <td>12.02</td>\n",
       "    </tr>\n",
       "    <tr>\n",
       "      <th>Fighting</th>\n",
       "      <td>11.63</td>\n",
       "    </tr>\n",
       "  </tbody>\n",
       "</table>\n",
       "</div>"
      ],
      "text/plain": [
       "              jp_sales\n",
       "genre                 \n",
       "Role-Playing     73.26\n",
       "Action           56.55\n",
       "Misc             16.56\n",
       "Platform         12.02\n",
       "Fighting         11.63"
      ]
     },
     "execution_count": 46,
     "metadata": {},
     "output_type": "execute_result"
    }
   ],
   "source": [
    "# сводная таблица с жанрами в Японии\n",
    "jp_genre_pivot_table = pd.pivot_table(actual_games, \n",
    "                                      index = 'genre', \n",
    "                                      values = 'jp_sales',\n",
    "                                      aggfunc = 'sum').sort_values('jp_sales', ascending = False)\n",
    "# топ-5 жанров в Японии\n",
    "jp_genre_pivot_table.head()"
   ]
  },
  {
   "cell_type": "markdown",
   "metadata": {},
   "source": [
    "Американцы и европейцы любят одинаковые жанры, разница только в количестве продаж. Самые популярные жанры - Action, Shooter, Sports. Японцам нравятся совсем другие игры. Больше всего они любят ролевые игры, экшн и игры, сочетающие несколько жанров.\n",
    "\n",
    "Осталось проанализировать рейтинг."
   ]
  },
  {
   "cell_type": "code",
   "execution_count": 47,
   "metadata": {},
   "outputs": [
    {
     "data": {
      "text/html": [
       "<div>\n",
       "<style scoped>\n",
       "    .dataframe tbody tr th:only-of-type {\n",
       "        vertical-align: middle;\n",
       "    }\n",
       "\n",
       "    .dataframe tbody tr th {\n",
       "        vertical-align: top;\n",
       "    }\n",
       "\n",
       "    .dataframe thead th {\n",
       "        text-align: right;\n",
       "    }\n",
       "</style>\n",
       "<table border=\"1\" class=\"dataframe\">\n",
       "  <thead>\n",
       "    <tr style=\"text-align: right;\">\n",
       "      <th></th>\n",
       "      <th>na_sales</th>\n",
       "    </tr>\n",
       "    <tr>\n",
       "      <th>rating</th>\n",
       "      <th></th>\n",
       "    </tr>\n",
       "  </thead>\n",
       "  <tbody>\n",
       "    <tr>\n",
       "      <th>M</th>\n",
       "      <td>292.78</td>\n",
       "    </tr>\n",
       "    <tr>\n",
       "      <th>E</th>\n",
       "      <td>162.20</td>\n",
       "    </tr>\n",
       "    <tr>\n",
       "      <th>No ESRB</th>\n",
       "      <td>115.16</td>\n",
       "    </tr>\n",
       "    <tr>\n",
       "      <th>E10+</th>\n",
       "      <td>113.91</td>\n",
       "    </tr>\n",
       "    <tr>\n",
       "      <th>T</th>\n",
       "      <td>100.36</td>\n",
       "    </tr>\n",
       "    <tr>\n",
       "      <th>EC</th>\n",
       "      <td>0.42</td>\n",
       "    </tr>\n",
       "    <tr>\n",
       "      <th>RP</th>\n",
       "      <td>0.00</td>\n",
       "    </tr>\n",
       "  </tbody>\n",
       "</table>\n",
       "</div>"
      ],
      "text/plain": [
       "         na_sales\n",
       "rating           \n",
       "M          292.78\n",
       "E          162.20\n",
       "No ESRB    115.16\n",
       "E10+       113.91\n",
       "T          100.36\n",
       "EC           0.42\n",
       "RP           0.00"
      ]
     },
     "execution_count": 47,
     "metadata": {},
     "output_type": "execute_result"
    }
   ],
   "source": [
    "# сводная таблица с рейтингом в Америке\n",
    "na_rating_pivot_table = pd.pivot_table(actual_games, \n",
    "                                       index = 'rating', \n",
    "                                       values = 'na_sales',\n",
    "                                       aggfunc = 'sum').sort_values('na_sales', ascending=False)\n",
    "na_rating_pivot_table.head(7)"
   ]
  },
  {
   "cell_type": "code",
   "execution_count": 48,
   "metadata": {},
   "outputs": [
    {
     "data": {
      "text/html": [
       "<div>\n",
       "<style scoped>\n",
       "    .dataframe tbody tr th:only-of-type {\n",
       "        vertical-align: middle;\n",
       "    }\n",
       "\n",
       "    .dataframe tbody tr th {\n",
       "        vertical-align: top;\n",
       "    }\n",
       "\n",
       "    .dataframe thead th {\n",
       "        text-align: right;\n",
       "    }\n",
       "</style>\n",
       "<table border=\"1\" class=\"dataframe\">\n",
       "  <thead>\n",
       "    <tr style=\"text-align: right;\">\n",
       "      <th></th>\n",
       "      <th>eu_sales</th>\n",
       "    </tr>\n",
       "    <tr>\n",
       "      <th>rating</th>\n",
       "      <th></th>\n",
       "    </tr>\n",
       "  </thead>\n",
       "  <tbody>\n",
       "    <tr>\n",
       "      <th>M</th>\n",
       "      <td>233.72</td>\n",
       "    </tr>\n",
       "    <tr>\n",
       "      <th>E</th>\n",
       "      <td>128.12</td>\n",
       "    </tr>\n",
       "    <tr>\n",
       "      <th>No ESRB</th>\n",
       "      <td>109.14</td>\n",
       "    </tr>\n",
       "    <tr>\n",
       "      <th>E10+</th>\n",
       "      <td>74.19</td>\n",
       "    </tr>\n",
       "    <tr>\n",
       "      <th>T</th>\n",
       "      <td>73.37</td>\n",
       "    </tr>\n",
       "    <tr>\n",
       "      <th>RP</th>\n",
       "      <td>0.03</td>\n",
       "    </tr>\n",
       "    <tr>\n",
       "      <th>EC</th>\n",
       "      <td>0.00</td>\n",
       "    </tr>\n",
       "  </tbody>\n",
       "</table>\n",
       "</div>"
      ],
      "text/plain": [
       "         eu_sales\n",
       "rating           \n",
       "M          233.72\n",
       "E          128.12\n",
       "No ESRB    109.14\n",
       "E10+        74.19\n",
       "T           73.37\n",
       "RP           0.03\n",
       "EC           0.00"
      ]
     },
     "execution_count": 48,
     "metadata": {},
     "output_type": "execute_result"
    }
   ],
   "source": [
    "# сводная таблица с рейтингом в Европе\n",
    "eu_rating_pivot_table = pd.pivot_table(actual_games, \n",
    "                                       index = 'rating', \n",
    "                                       values = 'eu_sales',\n",
    "                                       aggfunc = 'sum').sort_values('eu_sales', ascending = False)\n",
    "eu_rating_pivot_table.head(7)"
   ]
  },
  {
   "cell_type": "code",
   "execution_count": 49,
   "metadata": {},
   "outputs": [
    {
     "data": {
      "text/html": [
       "<div>\n",
       "<style scoped>\n",
       "    .dataframe tbody tr th:only-of-type {\n",
       "        vertical-align: middle;\n",
       "    }\n",
       "\n",
       "    .dataframe tbody tr th {\n",
       "        vertical-align: top;\n",
       "    }\n",
       "\n",
       "    .dataframe thead th {\n",
       "        text-align: right;\n",
       "    }\n",
       "</style>\n",
       "<table border=\"1\" class=\"dataframe\">\n",
       "  <thead>\n",
       "    <tr style=\"text-align: right;\">\n",
       "      <th></th>\n",
       "      <th>jp_sales</th>\n",
       "    </tr>\n",
       "    <tr>\n",
       "      <th>rating</th>\n",
       "      <th></th>\n",
       "    </tr>\n",
       "  </thead>\n",
       "  <tbody>\n",
       "    <tr>\n",
       "      <th>No ESRB</th>\n",
       "      <td>123.89</td>\n",
       "    </tr>\n",
       "    <tr>\n",
       "      <th>E</th>\n",
       "      <td>35.61</td>\n",
       "    </tr>\n",
       "    <tr>\n",
       "      <th>T</th>\n",
       "      <td>31.12</td>\n",
       "    </tr>\n",
       "    <tr>\n",
       "      <th>M</th>\n",
       "      <td>24.94</td>\n",
       "    </tr>\n",
       "    <tr>\n",
       "      <th>E10+</th>\n",
       "      <td>10.78</td>\n",
       "    </tr>\n",
       "    <tr>\n",
       "      <th>EC</th>\n",
       "      <td>0.00</td>\n",
       "    </tr>\n",
       "    <tr>\n",
       "      <th>RP</th>\n",
       "      <td>0.00</td>\n",
       "    </tr>\n",
       "  </tbody>\n",
       "</table>\n",
       "</div>"
      ],
      "text/plain": [
       "         jp_sales\n",
       "rating           \n",
       "No ESRB    123.89\n",
       "E           35.61\n",
       "T           31.12\n",
       "M           24.94\n",
       "E10+        10.78\n",
       "EC           0.00\n",
       "RP           0.00"
      ]
     },
     "execution_count": 49,
     "metadata": {},
     "output_type": "execute_result"
    }
   ],
   "source": [
    "# сводная таблица с рейтингом в Японии\n",
    "jp_rating_pivot_table = pd.pivot_table(actual_games, \n",
    "                                       index = 'rating', \n",
    "                                       values = 'jp_sales',\n",
    "                                       aggfunc = 'sum').sort_values('jp_sales', ascending = False)\n",
    "jp_rating_pivot_table.head(7)"
   ]
  },
  {
   "cell_type": "markdown",
   "metadata": {},
   "source": [
    "Снова Европа и Америка почти не отличаются по рейтингу, но количество продаж разное. Европа и Америка предпочитают в первую очередь игры для совершеннолетних, затем игры для любого возраста и игры для лиц старше 10 лет. В Японии больше всего популярны игры для всех, затем для подростков от 13 лет, на третьем месте игры для совершеннолетних."
   ]
  },
  {
   "cell_type": "markdown",
   "metadata": {},
   "source": [
    "# Вывод №4\n",
    "\n",
    "Подытожим.\n",
    "\n",
    "В Америке и Европе самые популярные платформы - X360, PS3 и PS4. PS3 продается примерно одинаково и больше популярна в Европе, американцы чаще играют на X360. В Японии популярные платформы совсем другие, самая популярная - 3DS, затем идут PS3 и PSP.\n",
    "\n",
    "Американцы и европейцы любят одинаковые жанры, разница только в количестве продаж. Самые популярные жанры - Action, Shooter, Sports. Японцам нравятся совсем другие игры. Больше всего они любят ролевые игры, экшн и игры, сочетающие несколько жанров.\n",
    "\n",
    "Европа и Америка почти не отличаются по возрастному рейтингу, но количество продаж разное. Европа и Америка предпочитают в первую очередь игры для совершеннолетних, затем игры для любого возраста и игры для лиц старше 10 лет. В Японии больше всего популярны игры для всех, затем для подростков от 13 лет, на третьем месте игры для совершеннолетних."
   ]
  },
  {
   "cell_type": "markdown",
   "metadata": {},
   "source": [
    "# Шаг 5. Проверка гипотез"
   ]
  },
  {
   "cell_type": "markdown",
   "metadata": {},
   "source": [
    "Предстоит проверить две гипотезы:\n",
    "* средние пользовательские рейтинги платформ Xbox One и PC одинаковые;\n",
    "* средние пользовательские рейтинги жанров Action и Sports разные.\n",
    "\n",
    "Сформулируем нулевую и альтернативную гипотезы для каждого случая. Нулевая гипотеза формулируется всегда с использованием знака равенства, альтернативная - с обозначением неравенства.\n",
    "\n",
    "Платформы:\n",
    "* Н0: средние пользовательские рейтинги платформ Xbox One и PC одинаковые (как в задании);\n",
    "* Н1: средние пользовательские рейтинги платформ Xbox One и PC различны.\n",
    "\n",
    "Жанры:\n",
    "* Н0: средние пользовательские рейтинги жанров Action и Sports одинаковы;\n",
    "* Н1: средние пользовательские рейтинги жанров Action и Sports разные (как в задании)."
   ]
  },
  {
   "cell_type": "code",
   "execution_count": 50,
   "metadata": {},
   "outputs": [],
   "source": [
    "# фильтрация данных\n",
    "actual_games_score = actual_games.query('user_score > 0')\n",
    "\n",
    "# подготовка выборок\n",
    "xone = actual_games_score.query('platform == \"XOne\"')['user_score']\n",
    "pc = actual_games_score.query('platform == \"PC\"')['user_score']\n",
    "action = actual_games_score.query('genre == \"Action\"')['user_score']\n",
    "sports = actual_games_score.query('genre == \"Sports\"')['user_score']"
   ]
  },
  {
   "cell_type": "markdown",
   "metadata": {},
   "source": [
    "Для проверки гипотез нужно посмотреть на статистику. Начнем с гипотезы о платформах."
   ]
  },
  {
   "cell_type": "code",
   "execution_count": 51,
   "metadata": {},
   "outputs": [
    {
     "name": "stdout",
     "output_type": "stream",
     "text": [
      "Статистика по платформе XOne\n",
      "Среднее значение: 6.477586206896552\n",
      "Дисперсия: 1.6594932533733138\n",
      "Стандартное отклонение: 1.2882132018316355\n",
      "\n",
      "Статистика по платформе PC\n",
      "Среднее значение: 6.47824427480916\n",
      "Дисперсия: 2.528758591442193\n",
      "Стандартное отклонение: 1.5902070907407604\n"
     ]
    }
   ],
   "source": [
    "# вывод статистики по платформам\n",
    "print('Статистика по платформе XOne')\n",
    "print('Среднее значение:', np.mean(xone))\n",
    "print('Дисперсия:', np.var(xone, ddof = 1))\n",
    "print('Стандартное отклонение:', np.std(xone, ddof = 1))\n",
    "print()\n",
    "print('Статистика по платформе PC')\n",
    "print('Среднее значение:', np.mean(pc))\n",
    "print('Дисперсия:', np.var(pc, ddof = 1))\n",
    "print('Стандартное отклонение:', np.std(pc, ddof = 1))"
   ]
  },
  {
   "cell_type": "markdown",
   "metadata": {},
   "source": [
    "Средние почти одинаковы, но дисперсии отличаются. Параметр `equal_var` будет равен `False`."
   ]
  },
  {
   "cell_type": "code",
   "execution_count": 52,
   "metadata": {},
   "outputs": [
    {
     "name": "stdout",
     "output_type": "stream",
     "text": [
      "p-значение: 0.9966109146811735\n",
      "Не получилось отвергнуть нулевую гипотезу\n"
     ]
    }
   ],
   "source": [
    "# проверка гипотезы о равенстве средних рейтингов платформ\n",
    "alpha = 0.05\n",
    "\n",
    "results = st.ttest_ind(xone, pc, equal_var = False)\n",
    "\n",
    "print('p-значение:', results.pvalue)\n",
    "\n",
    "if (results.pvalue < alpha):\n",
    "    print(\"Отвергаем нулевую гипотезу\")\n",
    "else:\n",
    "    print(\"Не получилось отвергнуть нулевую гипотезу\")"
   ]
  },
  {
   "cell_type": "markdown",
   "metadata": {},
   "source": [
    "Предположение о равенстве среднего рейтинга верно. Средние пользовательские рейтинги платформ Xbox One и PC одинаковые. \n",
    "\n",
    "Теперь проверим вторую гипотезу."
   ]
  },
  {
   "cell_type": "code",
   "execution_count": 53,
   "metadata": {},
   "outputs": [
    {
     "name": "stdout",
     "output_type": "stream",
     "text": [
      "Статистика по жанру Action\n",
      "Среднее значение: 6.796027633851468\n",
      "Дисперсия: 1.7601399023492361\n",
      "Стандартное отклонение: 1.326702642776156\n",
      "\n",
      "Статистика по жанру Sports\n",
      "Среднее значение: 5.689473684210526\n",
      "Дисперсия: 2.66460020242915\n",
      "Стандартное отклонение: 1.6323603163606832\n"
     ]
    }
   ],
   "source": [
    "# вывод статистики по жанрам\n",
    "print('Статистика по жанру Action')\n",
    "print('Среднее значение:', np.mean(action))\n",
    "print('Дисперсия:', np.var(action, ddof = 1))\n",
    "print('Стандартное отклонение:', np.std(action, ddof = 1))\n",
    "print()\n",
    "print('Статистика по жанру Sports')\n",
    "print('Среднее значение:', np.mean(sports))\n",
    "print('Дисперсия:', np.var(sports, ddof = 1))\n",
    "print('Стандартное отклонение:', np.std(sports, ddof = 1))"
   ]
  },
  {
   "cell_type": "markdown",
   "metadata": {},
   "source": [
    "Средние немного отличаются, как и дисперсии. Параметр `equal_var` будет равен `False`."
   ]
  },
  {
   "cell_type": "code",
   "execution_count": 54,
   "metadata": {},
   "outputs": [
    {
     "name": "stdout",
     "output_type": "stream",
     "text": [
      "p-значение: 9.049636834937507e-17\n",
      "Отвергаем нулевую гипотезу\n"
     ]
    }
   ],
   "source": [
    "# проверка гипотезы о равенстве средних рейтингов жанров\n",
    "alpha = 0.05\n",
    "\n",
    "results = st.ttest_ind(action, sports, equal_var = False)\n",
    "\n",
    "print('p-значение:', results.pvalue)\n",
    "\n",
    "if (results.pvalue < alpha):\n",
    "    print(\"Отвергаем нулевую гипотезу\")\n",
    "else:\n",
    "    print(\"Не получилось отвергнуть нулевую гипотезу\")"
   ]
  },
  {
   "cell_type": "markdown",
   "metadata": {},
   "source": [
    "Получается, средние пользовательские рейтинги жанров Action и Sports различаются."
   ]
  },
  {
   "cell_type": "markdown",
   "metadata": {},
   "source": [
    "# Вывод №5\n",
    "\n",
    "На данном шаге было выяснено, что первая гипотеза подтвердилась, а вторая - нет. Средние пользовательские рейтинги платформ Xbox One и PC, а также жанров Action и Sports одинаковы."
   ]
  },
  {
   "cell_type": "markdown",
   "metadata": {},
   "source": [
    "# Шаг 6. Общий вывод"
   ]
  },
  {
   "cell_type": "markdown",
   "metadata": {},
   "source": [
    "Итоги работы:\n",
    "\n",
    "В датасете:\n",
    "* названия столбцов приведены к нижнему регистру;\n",
    "* в столбце `name` удалены 2 строки с пропусками в названии игры;\n",
    "* в столбце `year_of_Release` пропуски заменены на 0, тип заменен на `int`;\n",
    "* в столбце `critic_Score` пропуски заменены на -1, тип заменен на `int`;\n",
    "* в столбце `user_Score` пропуски заменены на -1, тип заменен на `float`, значение `tbd` заменено на -1;\n",
    "* в столбце `rating` пропуски заменены на `No ESRB`;\n",
    "* добавлен столбец с суммарными продажами по миру.\n",
    "\n",
    "Количество выпускаемых игр начало активно расти с 1994 года после появления первой приставки и развития компьютерных технологий. Резкий скачок произошел в 2002 году и вероятно связан с выходом Xbox. Расцвет игровой индустрии пришелся на 2008-2009 года, затем наблюдается спад.\n",
    "\n",
    "В первые 4-5 лет существования платформы она привлекает к себе большое внимание и пользуется популярностью, но затем сдает позиции и уступает место нововышедшим конкурентам, продолжая свое существование на рынке еще несколько лет.\n",
    "\n",
    "Потенциально прибыльные платформы в 2017 году - это PS4, XOne, PS3, X360, 3DS.\n",
    "\n",
    "За весь анализируемый период больше всего игр продавалось на приставках X360, PS3 и PS4.\n",
    "\n",
    "Оценки критиков средне влияют на количество продаж игр, оценки пользователей практически не влияют.\n",
    "\n",
    "За весь период больше всего выпускалось игр в жанрах Action, Sports и Misc, причем Action - самый популярный жанр, отрыв довольно большой. Меньше всего игр выпущено в жанре Fighting, Strategy и Puzzle. Во все времена люди больше всего любят играть в игры жанра Action, менее популярны жанры Sports и Shooter. Меньше всего людям нравятся паззлы, приключения и стратегии.\n",
    "\n",
    "В Америке и Европе самые популярные платформы - X360, PS3 и PS4. PS3 продается примерно одинаково и больше популярна в Европе, американцы чаще играют на X360. В Японии популярные платформы совсем другие, самая популярная - 3DS, затем идут PS3 и PSP.\n",
    "\n",
    "Американцы и европейцы любят одинаковые жанры, разница только в количестве продаж. Самые популярные жанры - Action, Shooter, Sports. Японцам нравятся совсем другие игры. Больше всего они любят ролевые игры, экшн и игры, сочетающие несколько жанров.\n",
    "\n",
    "Европа и Америка почти не отличаются по возрастному рейтингу, но количество продаж разное. Европа и Америка предпочитают в первую очередь игры для совершеннолетних, затем игры для любого возраста и игры для лиц старше 10 лет. В Японии больше всего популярны игры для всех, затем для подростков от 13 лет, на третьем месте игры для совершеннолетних.\n",
    "\n",
    "Средние пользовательские рейтинги платформ Xbox One и PC, а также жанров Action и Sports одинаковы."
   ]
  }
 ],
 "metadata": {
  "ExecuteTimeLog": [
   {
    "duration": 67,
    "start_time": "2022-04-06T13:37:49.671Z"
   },
   {
    "duration": 60,
    "start_time": "2022-04-07T14:33:33.257Z"
   },
   {
    "duration": 7,
    "start_time": "2022-04-07T14:34:08.697Z"
   },
   {
    "duration": 1414,
    "start_time": "2022-04-07T14:34:34.317Z"
   },
   {
    "duration": 62,
    "start_time": "2022-04-07T14:34:35.733Z"
   },
   {
    "duration": 17,
    "start_time": "2022-04-07T14:34:35.800Z"
   },
   {
    "duration": 5,
    "start_time": "2022-04-07T14:34:35.821Z"
   },
   {
    "duration": 29,
    "start_time": "2022-04-07T14:34:35.828Z"
   },
   {
    "duration": 13,
    "start_time": "2022-04-07T14:34:35.859Z"
   },
   {
    "duration": 18,
    "start_time": "2022-04-07T14:34:35.903Z"
   },
   {
    "duration": 10,
    "start_time": "2022-04-07T14:34:35.923Z"
   },
   {
    "duration": 21,
    "start_time": "2022-04-07T14:34:35.935Z"
   },
   {
    "duration": 45,
    "start_time": "2022-04-07T14:34:35.960Z"
   },
   {
    "duration": 25,
    "start_time": "2022-04-07T14:34:36.007Z"
   },
   {
    "duration": 24,
    "start_time": "2022-04-07T14:34:36.034Z"
   },
   {
    "duration": 21,
    "start_time": "2022-04-07T14:34:36.060Z"
   },
   {
    "duration": 30,
    "start_time": "2022-04-07T14:34:36.083Z"
   },
   {
    "duration": 30,
    "start_time": "2022-04-07T14:34:36.115Z"
   },
   {
    "duration": 24,
    "start_time": "2022-04-07T14:34:36.147Z"
   },
   {
    "duration": 19,
    "start_time": "2022-04-07T14:34:36.173Z"
   },
   {
    "duration": 20,
    "start_time": "2022-04-07T14:34:36.194Z"
   },
   {
    "duration": 365,
    "start_time": "2022-04-07T14:34:36.216Z"
   },
   {
    "duration": 25,
    "start_time": "2022-04-07T14:34:36.584Z"
   },
   {
    "duration": 52,
    "start_time": "2022-04-07T14:34:36.612Z"
   },
   {
    "duration": 559,
    "start_time": "2022-04-07T14:34:36.667Z"
   },
   {
    "duration": 9,
    "start_time": "2022-04-07T14:34:37.228Z"
   },
   {
    "duration": 16,
    "start_time": "2022-04-07T14:34:37.239Z"
   },
   {
    "duration": 381,
    "start_time": "2022-04-07T14:34:37.257Z"
   },
   {
    "duration": 9,
    "start_time": "2022-04-07T14:34:37.641Z"
   },
   {
    "duration": 479,
    "start_time": "2022-04-07T14:34:37.652Z"
   },
   {
    "duration": 32,
    "start_time": "2022-04-07T14:34:38.136Z"
   },
   {
    "duration": 34,
    "start_time": "2022-04-07T14:34:38.170Z"
   },
   {
    "duration": 672,
    "start_time": "2022-04-07T14:34:38.206Z"
   },
   {
    "duration": 108,
    "start_time": "2022-04-07T14:34:38.880Z"
   },
   {
    "duration": 0,
    "start_time": "2022-04-07T14:34:38.990Z"
   },
   {
    "duration": 0,
    "start_time": "2022-04-07T14:34:38.991Z"
   },
   {
    "duration": 0,
    "start_time": "2022-04-07T14:34:38.992Z"
   },
   {
    "duration": 0,
    "start_time": "2022-04-07T14:34:39.001Z"
   },
   {
    "duration": 0,
    "start_time": "2022-04-07T14:34:39.002Z"
   },
   {
    "duration": 0,
    "start_time": "2022-04-07T14:34:39.003Z"
   },
   {
    "duration": 0,
    "start_time": "2022-04-07T14:34:39.004Z"
   },
   {
    "duration": 0,
    "start_time": "2022-04-07T14:34:39.005Z"
   },
   {
    "duration": 0,
    "start_time": "2022-04-07T14:34:39.006Z"
   },
   {
    "duration": 0,
    "start_time": "2022-04-07T14:34:39.007Z"
   },
   {
    "duration": 0,
    "start_time": "2022-04-07T14:34:39.008Z"
   },
   {
    "duration": 0,
    "start_time": "2022-04-07T14:34:39.009Z"
   },
   {
    "duration": 0,
    "start_time": "2022-04-07T14:34:39.010Z"
   },
   {
    "duration": 0,
    "start_time": "2022-04-07T14:34:39.011Z"
   },
   {
    "duration": 0,
    "start_time": "2022-04-07T14:34:39.013Z"
   },
   {
    "duration": 0,
    "start_time": "2022-04-07T14:34:39.014Z"
   },
   {
    "duration": 0,
    "start_time": "2022-04-07T14:34:39.015Z"
   },
   {
    "duration": 0,
    "start_time": "2022-04-07T14:34:39.016Z"
   },
   {
    "duration": 0,
    "start_time": "2022-04-07T14:34:39.017Z"
   },
   {
    "duration": 0,
    "start_time": "2022-04-07T14:34:39.018Z"
   },
   {
    "duration": 0,
    "start_time": "2022-04-07T14:34:39.019Z"
   },
   {
    "duration": 14,
    "start_time": "2022-04-07T14:34:56.156Z"
   },
   {
    "duration": 702,
    "start_time": "2022-04-07T14:35:00.564Z"
   },
   {
    "duration": 133,
    "start_time": "2022-04-08T16:53:43.611Z"
   },
   {
    "duration": 1590,
    "start_time": "2022-04-08T17:06:47.694Z"
   },
   {
    "duration": 79,
    "start_time": "2022-04-08T17:06:49.286Z"
   },
   {
    "duration": 1324,
    "start_time": "2022-04-08T17:06:55.144Z"
   },
   {
    "duration": 59,
    "start_time": "2022-04-08T17:06:56.470Z"
   },
   {
    "duration": 19,
    "start_time": "2022-04-08T17:06:56.530Z"
   },
   {
    "duration": 11,
    "start_time": "2022-04-08T17:06:56.552Z"
   },
   {
    "duration": 41,
    "start_time": "2022-04-08T17:06:56.566Z"
   },
   {
    "duration": 39,
    "start_time": "2022-04-08T17:06:56.609Z"
   },
   {
    "duration": 25,
    "start_time": "2022-04-08T17:06:56.650Z"
   },
   {
    "duration": 10,
    "start_time": "2022-04-08T17:06:56.677Z"
   },
   {
    "duration": 20,
    "start_time": "2022-04-08T17:06:56.689Z"
   },
   {
    "duration": 41,
    "start_time": "2022-04-08T17:06:56.711Z"
   },
   {
    "duration": 39,
    "start_time": "2022-04-08T17:06:56.754Z"
   },
   {
    "duration": 35,
    "start_time": "2022-04-08T17:06:56.795Z"
   },
   {
    "duration": 30,
    "start_time": "2022-04-08T17:06:56.832Z"
   },
   {
    "duration": 35,
    "start_time": "2022-04-08T17:06:56.867Z"
   },
   {
    "duration": 43,
    "start_time": "2022-04-08T17:06:56.904Z"
   },
   {
    "duration": 39,
    "start_time": "2022-04-08T17:06:56.949Z"
   },
   {
    "duration": 31,
    "start_time": "2022-04-08T17:06:56.990Z"
   },
   {
    "duration": 28,
    "start_time": "2022-04-08T17:06:57.023Z"
   },
   {
    "duration": 376,
    "start_time": "2022-04-08T17:06:57.053Z"
   },
   {
    "duration": 21,
    "start_time": "2022-04-08T17:06:57.431Z"
   },
   {
    "duration": 54,
    "start_time": "2022-04-08T17:06:57.454Z"
   },
   {
    "duration": 530,
    "start_time": "2022-04-08T17:06:57.510Z"
   },
   {
    "duration": 7,
    "start_time": "2022-04-08T17:06:58.042Z"
   },
   {
    "duration": 19,
    "start_time": "2022-04-08T17:06:58.050Z"
   },
   {
    "duration": 349,
    "start_time": "2022-04-08T17:06:58.070Z"
   },
   {
    "duration": 18,
    "start_time": "2022-04-08T17:06:58.421Z"
   },
   {
    "duration": 370,
    "start_time": "2022-04-08T17:06:58.441Z"
   },
   {
    "duration": 40,
    "start_time": "2022-04-08T17:06:58.813Z"
   },
   {
    "duration": 14,
    "start_time": "2022-04-08T17:06:58.855Z"
   },
   {
    "duration": 647,
    "start_time": "2022-04-08T17:06:58.870Z"
   },
   {
    "duration": 24,
    "start_time": "2022-04-08T17:06:59.518Z"
   },
   {
    "duration": 672,
    "start_time": "2022-04-08T17:06:59.544Z"
   },
   {
    "duration": 23,
    "start_time": "2022-04-08T17:07:00.219Z"
   },
   {
    "duration": 537,
    "start_time": "2022-04-08T17:07:00.244Z"
   },
   {
    "duration": 15,
    "start_time": "2022-04-08T17:07:00.783Z"
   },
   {
    "duration": 623,
    "start_time": "2022-04-08T17:07:00.799Z"
   },
   {
    "duration": 220,
    "start_time": "2022-04-08T17:07:01.424Z"
   },
   {
    "duration": 208,
    "start_time": "2022-04-08T17:07:01.647Z"
   },
   {
    "duration": 17,
    "start_time": "2022-04-08T17:07:01.858Z"
   },
   {
    "duration": 16,
    "start_time": "2022-04-08T17:07:01.877Z"
   },
   {
    "duration": 47,
    "start_time": "2022-04-08T17:07:01.899Z"
   },
   {
    "duration": 18,
    "start_time": "2022-04-08T17:07:01.948Z"
   },
   {
    "duration": 17,
    "start_time": "2022-04-08T17:07:01.968Z"
   },
   {
    "duration": 25,
    "start_time": "2022-04-08T17:07:01.987Z"
   },
   {
    "duration": 36,
    "start_time": "2022-04-08T17:07:02.015Z"
   },
   {
    "duration": 37,
    "start_time": "2022-04-08T17:07:02.054Z"
   },
   {
    "duration": 38,
    "start_time": "2022-04-08T17:07:02.093Z"
   },
   {
    "duration": 20,
    "start_time": "2022-04-08T17:07:02.133Z"
   },
   {
    "duration": 14,
    "start_time": "2022-04-08T17:07:02.155Z"
   },
   {
    "duration": 19,
    "start_time": "2022-04-08T17:07:02.171Z"
   },
   {
    "duration": 27,
    "start_time": "2022-04-08T17:07:02.192Z"
   },
   {
    "duration": 25,
    "start_time": "2022-04-08T17:07:02.222Z"
   },
   {
    "duration": 170,
    "start_time": "2022-04-08T17:09:21.930Z"
   },
   {
    "duration": 69,
    "start_time": "2022-04-08T18:01:29.912Z"
   },
   {
    "duration": 1722,
    "start_time": "2022-04-08T18:01:58.671Z"
   },
   {
    "duration": 82,
    "start_time": "2022-04-08T18:02:00.396Z"
   },
   {
    "duration": 21,
    "start_time": "2022-04-08T18:02:00.480Z"
   },
   {
    "duration": 7,
    "start_time": "2022-04-08T18:02:00.505Z"
   },
   {
    "duration": 66,
    "start_time": "2022-04-08T18:02:00.514Z"
   },
   {
    "duration": 20,
    "start_time": "2022-04-08T18:02:00.583Z"
   },
   {
    "duration": 45,
    "start_time": "2022-04-08T18:02:00.605Z"
   },
   {
    "duration": 13,
    "start_time": "2022-04-08T18:02:00.652Z"
   },
   {
    "duration": 23,
    "start_time": "2022-04-08T18:02:00.667Z"
   },
   {
    "duration": 21,
    "start_time": "2022-04-08T18:02:00.695Z"
   },
   {
    "duration": 44,
    "start_time": "2022-04-08T18:02:00.718Z"
   },
   {
    "duration": 29,
    "start_time": "2022-04-08T18:02:00.764Z"
   },
   {
    "duration": 9,
    "start_time": "2022-04-08T18:02:00.796Z"
   },
   {
    "duration": 37,
    "start_time": "2022-04-08T18:02:00.807Z"
   },
   {
    "duration": 18,
    "start_time": "2022-04-08T18:02:00.847Z"
   },
   {
    "duration": 33,
    "start_time": "2022-04-08T18:02:00.868Z"
   },
   {
    "duration": 60,
    "start_time": "2022-04-08T18:02:00.904Z"
   },
   {
    "duration": 24,
    "start_time": "2022-04-08T18:02:00.966Z"
   },
   {
    "duration": 595,
    "start_time": "2022-04-08T18:02:00.993Z"
   },
   {
    "duration": 22,
    "start_time": "2022-04-08T18:02:01.590Z"
   },
   {
    "duration": 99,
    "start_time": "2022-04-08T18:02:01.615Z"
   },
   {
    "duration": 778,
    "start_time": "2022-04-08T18:02:01.717Z"
   },
   {
    "duration": 8,
    "start_time": "2022-04-08T18:02:02.498Z"
   },
   {
    "duration": 19,
    "start_time": "2022-04-08T18:02:02.508Z"
   },
   {
    "duration": 521,
    "start_time": "2022-04-08T18:02:02.529Z"
   },
   {
    "duration": 164,
    "start_time": "2022-04-08T18:02:03.052Z"
   },
   {
    "duration": 0,
    "start_time": "2022-04-08T18:02:03.220Z"
   },
   {
    "duration": 0,
    "start_time": "2022-04-08T18:02:03.222Z"
   },
   {
    "duration": 0,
    "start_time": "2022-04-08T18:02:03.224Z"
   },
   {
    "duration": 0,
    "start_time": "2022-04-08T18:02:03.225Z"
   },
   {
    "duration": 0,
    "start_time": "2022-04-08T18:02:03.226Z"
   },
   {
    "duration": 0,
    "start_time": "2022-04-08T18:02:03.243Z"
   },
   {
    "duration": 0,
    "start_time": "2022-04-08T18:02:03.244Z"
   },
   {
    "duration": 0,
    "start_time": "2022-04-08T18:02:03.246Z"
   },
   {
    "duration": 0,
    "start_time": "2022-04-08T18:02:03.248Z"
   },
   {
    "duration": 0,
    "start_time": "2022-04-08T18:02:03.249Z"
   },
   {
    "duration": 0,
    "start_time": "2022-04-08T18:02:03.251Z"
   },
   {
    "duration": 0,
    "start_time": "2022-04-08T18:02:03.252Z"
   },
   {
    "duration": 0,
    "start_time": "2022-04-08T18:02:03.254Z"
   },
   {
    "duration": 0,
    "start_time": "2022-04-08T18:02:03.255Z"
   },
   {
    "duration": 0,
    "start_time": "2022-04-08T18:02:03.257Z"
   },
   {
    "duration": 0,
    "start_time": "2022-04-08T18:02:03.258Z"
   },
   {
    "duration": 0,
    "start_time": "2022-04-08T18:02:03.260Z"
   },
   {
    "duration": 0,
    "start_time": "2022-04-08T18:02:03.261Z"
   },
   {
    "duration": 0,
    "start_time": "2022-04-08T18:02:03.263Z"
   },
   {
    "duration": 0,
    "start_time": "2022-04-08T18:02:03.264Z"
   },
   {
    "duration": 0,
    "start_time": "2022-04-08T18:02:03.266Z"
   },
   {
    "duration": 0,
    "start_time": "2022-04-08T18:02:03.267Z"
   },
   {
    "duration": 0,
    "start_time": "2022-04-08T18:02:03.268Z"
   },
   {
    "duration": 0,
    "start_time": "2022-04-08T18:02:03.270Z"
   },
   {
    "duration": 0,
    "start_time": "2022-04-08T18:02:03.271Z"
   },
   {
    "duration": 0,
    "start_time": "2022-04-08T18:02:03.272Z"
   },
   {
    "duration": 9,
    "start_time": "2022-04-08T18:02:28.358Z"
   },
   {
    "duration": 16,
    "start_time": "2022-04-08T18:04:13.492Z"
   },
   {
    "duration": 574,
    "start_time": "2022-04-08T18:05:24.270Z"
   },
   {
    "duration": 38,
    "start_time": "2022-04-08T18:05:40.577Z"
   },
   {
    "duration": 26,
    "start_time": "2022-04-08T18:10:40.269Z"
   },
   {
    "duration": 1555,
    "start_time": "2022-04-08T18:11:59.808Z"
   },
   {
    "duration": 80,
    "start_time": "2022-04-08T18:12:01.366Z"
   },
   {
    "duration": 22,
    "start_time": "2022-04-08T18:12:01.448Z"
   },
   {
    "duration": 10,
    "start_time": "2022-04-08T18:12:01.473Z"
   },
   {
    "duration": 68,
    "start_time": "2022-04-08T18:12:01.485Z"
   },
   {
    "duration": 16,
    "start_time": "2022-04-08T18:12:01.555Z"
   },
   {
    "duration": 38,
    "start_time": "2022-04-08T18:12:01.574Z"
   },
   {
    "duration": 29,
    "start_time": "2022-04-08T18:12:01.615Z"
   },
   {
    "duration": 15,
    "start_time": "2022-04-08T18:12:01.647Z"
   },
   {
    "duration": 30,
    "start_time": "2022-04-08T18:12:01.666Z"
   },
   {
    "duration": 43,
    "start_time": "2022-04-08T18:12:01.699Z"
   },
   {
    "duration": 19,
    "start_time": "2022-04-08T18:12:01.745Z"
   },
   {
    "duration": 12,
    "start_time": "2022-04-08T18:12:01.766Z"
   },
   {
    "duration": 18,
    "start_time": "2022-04-08T18:12:01.781Z"
   },
   {
    "duration": 45,
    "start_time": "2022-04-08T18:12:01.802Z"
   },
   {
    "duration": 31,
    "start_time": "2022-04-08T18:12:01.849Z"
   },
   {
    "duration": 23,
    "start_time": "2022-04-08T18:12:01.882Z"
   },
   {
    "duration": 53,
    "start_time": "2022-04-08T18:12:01.907Z"
   },
   {
    "duration": 565,
    "start_time": "2022-04-08T18:12:01.962Z"
   },
   {
    "duration": 25,
    "start_time": "2022-04-08T18:12:02.529Z"
   },
   {
    "duration": 90,
    "start_time": "2022-04-08T18:12:02.556Z"
   },
   {
    "duration": 772,
    "start_time": "2022-04-08T18:12:02.648Z"
   },
   {
    "duration": 8,
    "start_time": "2022-04-08T18:12:03.422Z"
   },
   {
    "duration": 22,
    "start_time": "2022-04-08T18:12:03.432Z"
   },
   {
    "duration": 519,
    "start_time": "2022-04-08T18:12:03.456Z"
   },
   {
    "duration": 25,
    "start_time": "2022-04-08T18:12:03.977Z"
   },
   {
    "duration": 45,
    "start_time": "2022-04-08T18:12:04.004Z"
   },
   {
    "duration": 520,
    "start_time": "2022-04-08T18:12:04.056Z"
   },
   {
    "duration": 44,
    "start_time": "2022-04-08T18:12:04.578Z"
   },
   {
    "duration": 233,
    "start_time": "2022-04-08T18:12:04.624Z"
   },
   {
    "duration": 0,
    "start_time": "2022-04-08T18:12:04.859Z"
   },
   {
    "duration": 0,
    "start_time": "2022-04-08T18:12:04.861Z"
   },
   {
    "duration": 0,
    "start_time": "2022-04-08T18:12:04.862Z"
   },
   {
    "duration": 0,
    "start_time": "2022-04-08T18:12:04.864Z"
   },
   {
    "duration": 1,
    "start_time": "2022-04-08T18:12:04.865Z"
   },
   {
    "duration": 0,
    "start_time": "2022-04-08T18:12:04.867Z"
   },
   {
    "duration": 0,
    "start_time": "2022-04-08T18:12:04.869Z"
   },
   {
    "duration": 0,
    "start_time": "2022-04-08T18:12:04.871Z"
   },
   {
    "duration": 0,
    "start_time": "2022-04-08T18:12:04.872Z"
   },
   {
    "duration": 0,
    "start_time": "2022-04-08T18:12:04.874Z"
   },
   {
    "duration": 0,
    "start_time": "2022-04-08T18:12:04.875Z"
   },
   {
    "duration": 0,
    "start_time": "2022-04-08T18:12:04.876Z"
   },
   {
    "duration": 0,
    "start_time": "2022-04-08T18:12:04.878Z"
   },
   {
    "duration": 0,
    "start_time": "2022-04-08T18:12:04.880Z"
   },
   {
    "duration": 0,
    "start_time": "2022-04-08T18:12:04.881Z"
   },
   {
    "duration": 0,
    "start_time": "2022-04-08T18:12:04.883Z"
   },
   {
    "duration": 0,
    "start_time": "2022-04-08T18:12:04.884Z"
   },
   {
    "duration": 0,
    "start_time": "2022-04-08T18:12:04.886Z"
   },
   {
    "duration": 0,
    "start_time": "2022-04-08T18:12:04.887Z"
   },
   {
    "duration": 0,
    "start_time": "2022-04-08T18:12:04.889Z"
   },
   {
    "duration": 1,
    "start_time": "2022-04-08T18:12:04.890Z"
   },
   {
    "duration": 0,
    "start_time": "2022-04-08T18:12:04.892Z"
   },
   {
    "duration": 0,
    "start_time": "2022-04-08T18:12:04.893Z"
   },
   {
    "duration": 0,
    "start_time": "2022-04-08T18:12:04.895Z"
   },
   {
    "duration": 15,
    "start_time": "2022-04-08T18:12:31.100Z"
   },
   {
    "duration": 20,
    "start_time": "2022-04-08T18:23:53.622Z"
   },
   {
    "duration": 773,
    "start_time": "2022-04-08T18:24:07.708Z"
   },
   {
    "duration": 143,
    "start_time": "2022-04-08T18:25:15.378Z"
   },
   {
    "duration": 11,
    "start_time": "2022-04-08T18:26:02.916Z"
   },
   {
    "duration": 18,
    "start_time": "2022-04-08T18:26:05.031Z"
   },
   {
    "duration": 840,
    "start_time": "2022-04-08T18:26:07.463Z"
   },
   {
    "duration": 19,
    "start_time": "2022-04-08T18:26:22.075Z"
   },
   {
    "duration": 864,
    "start_time": "2022-04-08T18:26:22.096Z"
   },
   {
    "duration": 18,
    "start_time": "2022-04-08T18:39:29.079Z"
   },
   {
    "duration": 793,
    "start_time": "2022-04-08T18:39:29.099Z"
   },
   {
    "duration": 15,
    "start_time": "2022-04-08T18:41:18.963Z"
   },
   {
    "duration": 284,
    "start_time": "2022-04-08T18:42:11.107Z"
   },
   {
    "duration": 286,
    "start_time": "2022-04-08T18:42:42.152Z"
   },
   {
    "duration": 14,
    "start_time": "2022-04-08T18:46:41.726Z"
   },
   {
    "duration": 21,
    "start_time": "2022-04-08T18:46:46.538Z"
   },
   {
    "duration": 12,
    "start_time": "2022-04-08T18:46:48.888Z"
   },
   {
    "duration": 8,
    "start_time": "2022-04-08T18:46:53.037Z"
   },
   {
    "duration": 10,
    "start_time": "2022-04-08T18:48:43.243Z"
   },
   {
    "duration": 14,
    "start_time": "2022-04-08T18:49:18.983Z"
   },
   {
    "duration": 23,
    "start_time": "2022-04-08T18:55:14.283Z"
   },
   {
    "duration": 21,
    "start_time": "2022-04-08T18:55:22.963Z"
   },
   {
    "duration": 22,
    "start_time": "2022-04-08T18:55:27.473Z"
   },
   {
    "duration": 172,
    "start_time": "2022-04-08T18:55:40.073Z"
   },
   {
    "duration": 172,
    "start_time": "2022-04-08T18:55:50.473Z"
   },
   {
    "duration": 552,
    "start_time": "2022-04-08T18:56:47.834Z"
   },
   {
    "duration": 664,
    "start_time": "2022-04-08T18:57:22.794Z"
   },
   {
    "duration": 578,
    "start_time": "2022-04-08T18:57:33.054Z"
   },
   {
    "duration": 23,
    "start_time": "2022-04-08T18:58:32.204Z"
   },
   {
    "duration": 11,
    "start_time": "2022-04-08T18:59:07.004Z"
   },
   {
    "duration": 15,
    "start_time": "2022-04-08T18:59:16.644Z"
   },
   {
    "duration": 21,
    "start_time": "2022-04-08T19:03:45.681Z"
   },
   {
    "duration": 290,
    "start_time": "2022-04-08T19:04:56.778Z"
   },
   {
    "duration": 53,
    "start_time": "2022-04-08T19:11:36.315Z"
   },
   {
    "duration": 3384,
    "start_time": "2022-04-08T19:13:13.001Z"
   },
   {
    "duration": 3174,
    "start_time": "2022-04-08T19:13:17.218Z"
   },
   {
    "duration": 26,
    "start_time": "2022-04-08T19:13:42.100Z"
   },
   {
    "duration": 27,
    "start_time": "2022-04-08T19:14:11.083Z"
   },
   {
    "duration": 304,
    "start_time": "2022-04-08T19:14:39.239Z"
   },
   {
    "duration": 15,
    "start_time": "2022-04-08T19:18:56.529Z"
   },
   {
    "duration": 12,
    "start_time": "2022-04-08T19:19:14.875Z"
   },
   {
    "duration": 8,
    "start_time": "2022-04-08T19:19:21.646Z"
   },
   {
    "duration": 6,
    "start_time": "2022-04-08T19:19:27.846Z"
   },
   {
    "duration": 32,
    "start_time": "2022-04-08T19:19:34.923Z"
   },
   {
    "duration": 1715,
    "start_time": "2022-04-08T19:22:03.738Z"
   },
   {
    "duration": 91,
    "start_time": "2022-04-08T19:22:05.456Z"
   },
   {
    "duration": 20,
    "start_time": "2022-04-08T19:22:05.549Z"
   },
   {
    "duration": 15,
    "start_time": "2022-04-08T19:22:05.572Z"
   },
   {
    "duration": 62,
    "start_time": "2022-04-08T19:22:05.589Z"
   },
   {
    "duration": 15,
    "start_time": "2022-04-08T19:22:05.653Z"
   },
   {
    "duration": 31,
    "start_time": "2022-04-08T19:22:05.670Z"
   },
   {
    "duration": 40,
    "start_time": "2022-04-08T19:22:05.704Z"
   },
   {
    "duration": 16,
    "start_time": "2022-04-08T19:22:05.747Z"
   },
   {
    "duration": 22,
    "start_time": "2022-04-08T19:22:05.769Z"
   },
   {
    "duration": 60,
    "start_time": "2022-04-08T19:22:05.793Z"
   },
   {
    "duration": 21,
    "start_time": "2022-04-08T19:22:05.855Z"
   },
   {
    "duration": 11,
    "start_time": "2022-04-08T19:22:05.878Z"
   },
   {
    "duration": 55,
    "start_time": "2022-04-08T19:22:05.891Z"
   },
   {
    "duration": 22,
    "start_time": "2022-04-08T19:22:05.949Z"
   },
   {
    "duration": 31,
    "start_time": "2022-04-08T19:22:05.972Z"
   },
   {
    "duration": 56,
    "start_time": "2022-04-08T19:22:06.005Z"
   },
   {
    "duration": 27,
    "start_time": "2022-04-08T19:22:06.064Z"
   },
   {
    "duration": 565,
    "start_time": "2022-04-08T19:22:06.092Z"
   },
   {
    "duration": 21,
    "start_time": "2022-04-08T19:22:06.659Z"
   },
   {
    "duration": 101,
    "start_time": "2022-04-08T19:22:06.682Z"
   },
   {
    "duration": 803,
    "start_time": "2022-04-08T19:22:06.785Z"
   },
   {
    "duration": 8,
    "start_time": "2022-04-08T19:22:07.590Z"
   },
   {
    "duration": 22,
    "start_time": "2022-04-08T19:22:07.600Z"
   },
   {
    "duration": 524,
    "start_time": "2022-04-08T19:22:07.624Z"
   },
   {
    "duration": 15,
    "start_time": "2022-04-08T19:22:08.150Z"
   },
   {
    "duration": 553,
    "start_time": "2022-04-08T19:22:08.168Z"
   },
   {
    "duration": 44,
    "start_time": "2022-04-08T19:22:08.727Z"
   },
   {
    "duration": 19,
    "start_time": "2022-04-08T19:22:08.773Z"
   },
   {
    "duration": 853,
    "start_time": "2022-04-08T19:22:08.794Z"
   },
   {
    "duration": 19,
    "start_time": "2022-04-08T19:22:09.649Z"
   },
   {
    "duration": 911,
    "start_time": "2022-04-08T19:22:09.670Z"
   },
   {
    "duration": 20,
    "start_time": "2022-04-08T19:22:10.583Z"
   },
   {
    "duration": 723,
    "start_time": "2022-04-08T19:22:10.605Z"
   },
   {
    "duration": 28,
    "start_time": "2022-04-08T19:22:11.330Z"
   },
   {
    "duration": 839,
    "start_time": "2022-04-08T19:22:11.361Z"
   },
   {
    "duration": 315,
    "start_time": "2022-04-08T19:22:12.202Z"
   },
   {
    "duration": 39,
    "start_time": "2022-04-08T19:22:12.519Z"
   },
   {
    "duration": 1533,
    "start_time": "2022-04-08T19:23:56.029Z"
   },
   {
    "duration": 78,
    "start_time": "2022-04-08T19:23:57.564Z"
   },
   {
    "duration": 22,
    "start_time": "2022-04-08T19:23:57.645Z"
   },
   {
    "duration": 11,
    "start_time": "2022-04-08T19:23:57.671Z"
   },
   {
    "duration": 66,
    "start_time": "2022-04-08T19:23:57.684Z"
   },
   {
    "duration": 16,
    "start_time": "2022-04-08T19:23:57.752Z"
   },
   {
    "duration": 36,
    "start_time": "2022-04-08T19:23:57.770Z"
   },
   {
    "duration": 14,
    "start_time": "2022-04-08T19:23:57.808Z"
   },
   {
    "duration": 31,
    "start_time": "2022-04-08T19:23:57.824Z"
   },
   {
    "duration": 22,
    "start_time": "2022-04-08T19:23:57.859Z"
   },
   {
    "duration": 27,
    "start_time": "2022-04-08T19:23:57.883Z"
   },
   {
    "duration": 47,
    "start_time": "2022-04-08T19:23:57.912Z"
   },
   {
    "duration": 11,
    "start_time": "2022-04-08T19:23:57.962Z"
   },
   {
    "duration": 20,
    "start_time": "2022-04-08T19:23:57.975Z"
   },
   {
    "duration": 31,
    "start_time": "2022-04-08T19:23:57.997Z"
   },
   {
    "duration": 33,
    "start_time": "2022-04-08T19:23:58.042Z"
   },
   {
    "duration": 24,
    "start_time": "2022-04-08T19:23:58.077Z"
   },
   {
    "duration": 58,
    "start_time": "2022-04-08T19:23:58.103Z"
   },
   {
    "duration": 583,
    "start_time": "2022-04-08T19:23:58.164Z"
   },
   {
    "duration": 21,
    "start_time": "2022-04-08T19:23:58.749Z"
   },
   {
    "duration": 103,
    "start_time": "2022-04-08T19:23:58.772Z"
   },
   {
    "duration": 886,
    "start_time": "2022-04-08T19:23:58.878Z"
   },
   {
    "duration": 9,
    "start_time": "2022-04-08T19:23:59.766Z"
   },
   {
    "duration": 26,
    "start_time": "2022-04-08T19:23:59.777Z"
   },
   {
    "duration": 526,
    "start_time": "2022-04-08T19:23:59.805Z"
   },
   {
    "duration": 21,
    "start_time": "2022-04-08T19:24:00.334Z"
   },
   {
    "duration": 541,
    "start_time": "2022-04-08T19:24:00.357Z"
   },
   {
    "duration": 55,
    "start_time": "2022-04-08T19:24:00.906Z"
   },
   {
    "duration": 21,
    "start_time": "2022-04-08T19:24:00.964Z"
   },
   {
    "duration": 851,
    "start_time": "2022-04-08T19:24:00.988Z"
   },
   {
    "duration": 22,
    "start_time": "2022-04-08T19:24:01.843Z"
   },
   {
    "duration": 965,
    "start_time": "2022-04-08T19:24:01.867Z"
   },
   {
    "duration": 25,
    "start_time": "2022-04-08T19:24:02.834Z"
   },
   {
    "duration": 783,
    "start_time": "2022-04-08T19:24:02.861Z"
   },
   {
    "duration": 19,
    "start_time": "2022-04-08T19:24:03.646Z"
   },
   {
    "duration": 817,
    "start_time": "2022-04-08T19:24:03.668Z"
   },
   {
    "duration": 303,
    "start_time": "2022-04-08T19:24:04.487Z"
   },
   {
    "duration": 31,
    "start_time": "2022-04-08T19:24:04.792Z"
   },
   {
    "duration": 1561,
    "start_time": "2022-04-08T19:24:43.808Z"
   },
   {
    "duration": 80,
    "start_time": "2022-04-08T19:24:45.372Z"
   },
   {
    "duration": 22,
    "start_time": "2022-04-08T19:24:45.454Z"
   },
   {
    "duration": 7,
    "start_time": "2022-04-08T19:24:45.478Z"
   },
   {
    "duration": 67,
    "start_time": "2022-04-08T19:24:45.488Z"
   },
   {
    "duration": 15,
    "start_time": "2022-04-08T19:24:45.557Z"
   },
   {
    "duration": 26,
    "start_time": "2022-04-08T19:24:45.574Z"
   },
   {
    "duration": 12,
    "start_time": "2022-04-08T19:24:45.602Z"
   },
   {
    "duration": 18,
    "start_time": "2022-04-08T19:24:45.644Z"
   },
   {
    "duration": 20,
    "start_time": "2022-04-08T19:24:45.664Z"
   },
   {
    "duration": 30,
    "start_time": "2022-04-08T19:24:45.686Z"
   },
   {
    "duration": 38,
    "start_time": "2022-04-08T19:24:45.718Z"
   },
   {
    "duration": 8,
    "start_time": "2022-04-08T19:24:45.759Z"
   },
   {
    "duration": 18,
    "start_time": "2022-04-08T19:24:45.772Z"
   },
   {
    "duration": 36,
    "start_time": "2022-04-08T19:24:45.793Z"
   },
   {
    "duration": 36,
    "start_time": "2022-04-08T19:24:45.831Z"
   },
   {
    "duration": 22,
    "start_time": "2022-04-08T19:24:45.869Z"
   },
   {
    "duration": 51,
    "start_time": "2022-04-08T19:24:45.893Z"
   },
   {
    "duration": 552,
    "start_time": "2022-04-08T19:24:45.946Z"
   },
   {
    "duration": 20,
    "start_time": "2022-04-08T19:24:46.500Z"
   },
   {
    "duration": 87,
    "start_time": "2022-04-08T19:24:46.523Z"
   },
   {
    "duration": 904,
    "start_time": "2022-04-08T19:24:46.612Z"
   },
   {
    "duration": 9,
    "start_time": "2022-04-08T19:24:47.518Z"
   },
   {
    "duration": 19,
    "start_time": "2022-04-08T19:24:47.529Z"
   },
   {
    "duration": 529,
    "start_time": "2022-04-08T19:24:47.551Z"
   },
   {
    "duration": 15,
    "start_time": "2022-04-08T19:24:48.082Z"
   },
   {
    "duration": 550,
    "start_time": "2022-04-08T19:24:48.099Z"
   },
   {
    "duration": 44,
    "start_time": "2022-04-08T19:24:48.653Z"
   },
   {
    "duration": 51,
    "start_time": "2022-04-08T19:24:48.700Z"
   },
   {
    "duration": 926,
    "start_time": "2022-04-08T19:24:48.754Z"
   },
   {
    "duration": 20,
    "start_time": "2022-04-08T19:24:49.683Z"
   },
   {
    "duration": 983,
    "start_time": "2022-04-08T19:24:49.705Z"
   },
   {
    "duration": 19,
    "start_time": "2022-04-08T19:24:50.690Z"
   },
   {
    "duration": 832,
    "start_time": "2022-04-08T19:24:50.711Z"
   },
   {
    "duration": 20,
    "start_time": "2022-04-08T19:24:51.545Z"
   },
   {
    "duration": 806,
    "start_time": "2022-04-08T19:24:51.566Z"
   },
   {
    "duration": 306,
    "start_time": "2022-04-08T19:24:52.375Z"
   },
   {
    "duration": 30,
    "start_time": "2022-04-08T19:24:52.683Z"
   },
   {
    "duration": 28,
    "start_time": "2022-04-08T19:24:52.715Z"
   },
   {
    "duration": 312,
    "start_time": "2022-04-08T19:24:52.745Z"
   },
   {
    "duration": 21,
    "start_time": "2022-04-08T19:24:53.063Z"
   },
   {
    "duration": 39,
    "start_time": "2022-04-08T19:24:53.086Z"
   },
   {
    "duration": 29,
    "start_time": "2022-04-08T19:24:53.128Z"
   },
   {
    "duration": 19,
    "start_time": "2022-04-08T19:24:53.159Z"
   },
   {
    "duration": 19,
    "start_time": "2022-04-08T19:24:53.180Z"
   },
   {
    "duration": 55,
    "start_time": "2022-04-08T19:24:53.201Z"
   },
   {
    "duration": 21,
    "start_time": "2022-04-08T19:24:53.258Z"
   },
   {
    "duration": 20,
    "start_time": "2022-04-08T19:24:53.282Z"
   },
   {
    "duration": 55,
    "start_time": "2022-04-08T19:24:53.305Z"
   },
   {
    "duration": 32,
    "start_time": "2022-04-08T19:24:53.362Z"
   },
   {
    "duration": 14,
    "start_time": "2022-04-08T19:24:53.396Z"
   },
   {
    "duration": 38,
    "start_time": "2022-04-08T19:24:53.412Z"
   },
   {
    "duration": 30,
    "start_time": "2022-04-08T19:24:53.452Z"
   },
   {
    "duration": 15,
    "start_time": "2022-04-08T19:24:53.484Z"
   },
   {
    "duration": 152,
    "start_time": "2022-04-08T19:27:09.372Z"
   },
   {
    "duration": 14,
    "start_time": "2022-04-08T19:27:39.182Z"
   },
   {
    "duration": 21,
    "start_time": "2022-04-08T19:27:57.614Z"
   },
   {
    "duration": 14,
    "start_time": "2022-04-08T19:29:31.192Z"
   },
   {
    "duration": 20,
    "start_time": "2022-04-08T19:29:46.879Z"
   },
   {
    "duration": 314,
    "start_time": "2022-04-08T19:30:41.550Z"
   },
   {
    "duration": 22,
    "start_time": "2022-04-08T19:31:30.718Z"
   },
   {
    "duration": 308,
    "start_time": "2022-04-08T19:31:47.850Z"
   }
  ],
  "kernelspec": {
   "display_name": "Python 3 (ipykernel)",
   "language": "python",
   "name": "python3"
  },
  "language_info": {
   "codemirror_mode": {
    "name": "ipython",
    "version": 3
   },
   "file_extension": ".py",
   "mimetype": "text/x-python",
   "name": "python",
   "nbconvert_exporter": "python",
   "pygments_lexer": "ipython3",
   "version": "3.10.5"
  },
  "toc": {
   "base_numbering": 1,
   "nav_menu": {},
   "number_sections": true,
   "sideBar": true,
   "skip_h1_title": true,
   "title_cell": "Table of Contents",
   "title_sidebar": "Contents",
   "toc_cell": false,
   "toc_position": {},
   "toc_section_display": true,
   "toc_window_display": false
  }
 },
 "nbformat": 4,
 "nbformat_minor": 4
}
